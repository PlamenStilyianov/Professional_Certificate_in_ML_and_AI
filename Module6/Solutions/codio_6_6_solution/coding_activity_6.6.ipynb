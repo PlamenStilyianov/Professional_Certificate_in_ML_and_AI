{
 "cells": [
  {
   "cell_type": "markdown",
   "metadata": {
    "nbgrader": {
     "grade": false,
     "grade_id": "cell-0754b295361ca970",
     "locked": true,
     "schema_version": 1,
     "solution": false
    }
   },
   "source": [
    "## Codio Activity 6.6: Applying K-Means in Python\n",
    "\n",
    "**Expected Time: 60 Minutes**\n",
    "\n",
    "**Total Points: 10 Points**\n",
    "\n",
    "This assignment walks through an initial centroid assignment using a random selection strategy.  After the initial centroids are selected, the within cluster sum of squares is computed.  Once the sum of squares for each cluster center and observation are determined, a label is chosen based on the smallest sum of squares.  Finally, within each of these clusters the centers are updated based on the within cluster mean.  Formally, the KMeans objective function is:\n",
    "\n",
    "$${\\displaystyle {\\underset {\\mathbf {S} }{\\operatorname {arg\\,min} }}\\sum _{i=1}^{k}\\sum _{\\mathbf {x} \\in S_{i}}\\left\\|\\mathbf {x} -{\\boldsymbol {\\mu }}_{i}\\right\\|^{2}={\\underset {\\mathbf {S} }{\\operatorname {arg\\,min} }}\\sum _{i=1}^{k}|S_{i}|\\operatorname {Var} S_{i}}$$\n",
    "\n",
    "## Index:\n",
    "\n",
    "- [Problem 1](#Problem-1)\n",
    "- [Problem 2](#Problem-2)"
   ]
  },
  {
   "cell_type": "markdown",
   "metadata": {
    "nbgrader": {
     "grade": false,
     "grade_id": "cell-1d26c23d8b061f71",
     "locked": true,
     "schema_version": 1,
     "solution": false
    }
   },
   "source": [
    "To compute the norm and argmin we will use `numpy`. "
   ]
  },
  {
   "cell_type": "code",
   "execution_count": 52,
   "metadata": {
    "ExecuteTime": {
     "end_time": "2023-10-14T16:07:53.463140Z",
     "start_time": "2023-10-14T16:07:53.405245Z"
    }
   },
   "outputs": [],
   "source": [
    "import numpy as np\n",
    "from sklearn.datasets import make_blobs\n",
    "import matplotlib.pyplot as plt\n",
    "import pandas as pd\n",
    "import seaborn as sns"
   ]
  },
  {
   "cell_type": "markdown",
   "metadata": {
    "nbgrader": {
     "grade": false,
     "grade_id": "cell-69795afc9d10c812",
     "locked": true,
     "schema_version": 1,
     "solution": false
    }
   },
   "source": [
    "### The Data\n",
    "\n",
    "We will use the built in dataset generator from `sklearn` to create a small dataset to demonstrate a simple case of KMeans clustering.  Below, the data are created and plotted.  It seems there are three clusters so we will assume there should be three cluster centers."
   ]
  },
  {
   "cell_type": "code",
   "execution_count": 53,
   "metadata": {
    "ExecuteTime": {
     "end_time": "2023-10-14T16:07:53.607117200Z",
     "start_time": "2023-10-14T16:07:53.407140Z"
    }
   },
   "outputs": [
    {
     "data": {
      "text/plain": "<Figure size 640x480 with 1 Axes>",
      "image/png": "[encoded data removed]"
     },
     "metadata": {},
     "output_type": "display_data"
    }
   ],
   "source": [
    "X1, _ = make_blobs(n_samples=20, random_state=42)\n",
    "plt.scatter(X1[:, 0], X1[:, 1])\n",
    "plt.title('Small Sample Dataset')\n",
    "plt.grid();"
   ]
  },
  {
   "cell_type": "markdown",
   "metadata": {
    "nbgrader": {
     "grade": false,
     "grade_id": "cell-a024230edde17a0d",
     "locked": true,
     "schema_version": 1,
     "solution": false
    }
   },
   "source": [
    "### Creating a `DataFrame`\n",
    "\n",
    "Using `pandas`, a `DataFrame` is created to hold the small dataset.  The features are named `X1` and `X2`.  The `DataFrame` is named `df`."
   ]
  },
  {
   "cell_type": "code",
   "execution_count": 54,
   "metadata": {
    "ExecuteTime": {
     "end_time": "2023-10-14T16:07:53.607117200Z",
     "start_time": "2023-10-14T16:07:53.576122400Z"
    }
   },
   "outputs": [
    {
     "data": {
      "text/plain": "          X1        X2\n0  -2.978672  9.556846\n1  -4.234115  8.451999\n2  -3.522029  9.328533\n3  -2.267235  7.101006\n4   3.488885  2.348868\n5  -8.207813 -6.683248\n6  -2.972615  8.548556\n7   4.626382  0.915459\n8   4.095496  2.084092\n9   4.039240  1.681476\n10 -6.670764 -8.839780\n11  6.105528  1.747393\n12 -6.141161 -6.708741\n13 -3.417222  7.601982\n14 -6.995275 -7.181213",
      "text/html": "<div>\n<style scoped>\n    .dataframe tbody tr th:only-of-type {\n        vertical-align: middle;\n    }\n\n    .dataframe tbody tr th {\n        vertical-align: top;\n    }\n\n    .dataframe thead th {\n        text-align: right;\n    }\n</style>\n<table border=\"1\" class=\"dataframe\">\n  <thead>\n    <tr style=\"text-align: right;\">\n      <th></th>\n      <th>X1</th>\n      <th>X2</th>\n    </tr>\n  </thead>\n  <tbody>\n    <tr>\n      <th>0</th>\n      <td>-2.978672</td>\n      <td>9.556846</td>\n    </tr>\n    <tr>\n      <th>1</th>\n      <td>-4.234115</td>\n      <td>8.451999</td>\n    </tr>\n    <tr>\n      <th>2</th>\n      <td>-3.522029</td>\n      <td>9.328533</td>\n    </tr>\n    <tr>\n      <th>3</th>\n      <td>-2.267235</td>\n      <td>7.101006</td>\n    </tr>\n    <tr>\n      <th>4</th>\n      <td>3.488885</td>\n      <td>2.348868</td>\n    </tr>\n    <tr>\n      <th>5</th>\n      <td>-8.207813</td>\n      <td>-6.683248</td>\n    </tr>\n    <tr>\n      <th>6</th>\n      <td>-2.972615</td>\n      <td>8.548556</td>\n    </tr>\n    <tr>\n      <th>7</th>\n      <td>4.626382</td>\n      <td>0.915459</td>\n    </tr>\n    <tr>\n      <th>8</th>\n      <td>4.095496</td>\n      <td>2.084092</td>\n    </tr>\n    <tr>\n      <th>9</th>\n      <td>4.039240</td>\n      <td>1.681476</td>\n    </tr>\n    <tr>\n      <th>10</th>\n      <td>-6.670764</td>\n      <td>-8.839780</td>\n    </tr>\n    <tr>\n      <th>11</th>\n      <td>6.105528</td>\n      <td>1.747393</td>\n    </tr>\n    <tr>\n      <th>12</th>\n      <td>-6.141161</td>\n      <td>-6.708741</td>\n    </tr>\n    <tr>\n      <th>13</th>\n      <td>-3.417222</td>\n      <td>7.601982</td>\n    </tr>\n    <tr>\n      <th>14</th>\n      <td>-6.995275</td>\n      <td>-7.181213</td>\n    </tr>\n  </tbody>\n</table>\n</div>"
     },
     "execution_count": 54,
     "metadata": {},
     "output_type": "execute_result"
    }
   ],
   "source": [
    "#create DataFrame of samples\n",
    "df = pd.DataFrame(X1, columns = ['X1', 'X2'])\n",
    "df.head(15)"
   ]
  },
  {
   "cell_type": "markdown",
   "metadata": {
    "nbgrader": {
     "grade": false,
     "grade_id": "cell-d02f055754e076f2",
     "locked": true,
     "schema_version": 1,
     "solution": false
    }
   },
   "source": [
    "### Randomly Selecting Centers\n",
    "\n",
    "As noted, we will make initial cluster centroid assignments based on a random selection of data from the samples.  Below, the `.sample` method from the DataFrame is used to select three points at random.  These are assigned to the variable `centroids` as a DataFrame."
   ]
  },
  {
   "cell_type": "code",
   "execution_count": 55,
   "metadata": {
    "ExecuteTime": {
     "end_time": "2023-10-14T16:07:53.608119200Z",
     "start_time": "2023-10-14T16:07:53.582743300Z"
    }
   },
   "outputs": [
    {
     "data": {
      "text/plain": "         X1        X2\n0 -2.267235  7.101006\n1 -8.207813 -6.683248\n2 -6.670764 -8.839780",
      "text/html": "<div>\n<style scoped>\n    .dataframe tbody tr th:only-of-type {\n        vertical-align: middle;\n    }\n\n    .dataframe tbody tr th {\n        vertical-align: top;\n    }\n\n    .dataframe thead th {\n        text-align: right;\n    }\n</style>\n<table border=\"1\" class=\"dataframe\">\n  <thead>\n    <tr style=\"text-align: right;\">\n      <th></th>\n      <th>X1</th>\n      <th>X2</th>\n    </tr>\n  </thead>\n  <tbody>\n    <tr>\n      <th>0</th>\n      <td>-2.267235</td>\n      <td>7.101006</td>\n    </tr>\n    <tr>\n      <th>1</th>\n      <td>-8.207813</td>\n      <td>-6.683248</td>\n    </tr>\n    <tr>\n      <th>2</th>\n      <td>-6.670764</td>\n      <td>-8.839780</td>\n    </tr>\n  </tbody>\n</table>\n</div>"
     },
     "execution_count": 55,
     "metadata": {},
     "output_type": "execute_result"
    }
   ],
   "source": [
    "centroids = df.sample(3, random_state = 11).reset_index(drop = True)\n",
    "centroids"
   ]
  },
  {
   "cell_type": "markdown",
   "metadata": {
    "nbgrader": {
     "grade": false,
     "grade_id": "cell-ff7fed9058b4d0d3",
     "locked": true,
     "schema_version": 1,
     "solution": false
    }
   },
   "source": [
    "### Assigning initial centroid values\n",
    "\n",
    "Now, we select the individual centroid values and assign them as `c1`, `c2`, `c3` below.  "
   ]
  },
  {
   "cell_type": "code",
   "execution_count": 56,
   "metadata": {
    "ExecuteTime": {
     "end_time": "2023-10-14T16:07:53.608119200Z",
     "start_time": "2023-10-14T16:07:53.587736100Z"
    }
   },
   "outputs": [],
   "source": [
    "c1 = centroids.iloc[0, :2].values\n",
    "c2 = centroids.iloc[1, :2].values\n",
    "c3 = centroids.iloc[2, :2].values"
   ]
  },
  {
   "cell_type": "markdown",
   "metadata": {
    "nbgrader": {
     "grade": false,
     "grade_id": "cell-3cfc15831b6b6335",
     "locked": true,
     "schema_version": 1,
     "solution": false
    }
   },
   "source": [
    "### Inner cluster sum of squares\n",
    "\n",
    "To find the inter cluster variance, we can use the `np.linalg.norm` function.  This finds the distances squared from each of the cluster centers to each datapoint.  These distances are assembled into a DataFrame called `dist_df` and the three columns represent the three cluster centers.  Note that there should be a value of zero in each column because the centers were chosen as datapoints from the dataset.  "
   ]
  },
  {
   "cell_type": "code",
   "execution_count": 57,
   "metadata": {
    "ExecuteTime": {
     "end_time": "2023-10-14T16:07:53.608119200Z",
     "start_time": "2023-10-14T16:07:53.592566700Z"
    }
   },
   "outputs": [],
   "source": [
    "d1 = np.linalg.norm(df.iloc[:, :2] - c1, axis = 1)**2\n",
    "d2 = np.linalg.norm(df.iloc[:, :2] - c2, axis = 1)**2\n",
    "d3 = np.linalg.norm(df.iloc[:, :2] - c3, axis = 1)**2"
   ]
  },
  {
   "cell_type": "code",
   "execution_count": 58,
   "metadata": {
    "ExecuteTime": {
     "end_time": "2023-10-14T16:07:53.608119200Z",
     "start_time": "2023-10-14T16:07:53.596370100Z"
    }
   },
   "outputs": [
    {
     "data": {
      "text/plain": "            d1          d2          d3\n0     6.537294  291.084588  352.067384\n1     5.693799  244.865975  304.942851\n2     6.536386  278.333733  340.002135\n3     0.000000  225.296131  273.499707\n4    55.715742  218.391876  228.404296\n5   225.296131    0.000000    7.013149\n6     2.592963  259.415173  316.030533\n7    85.782948  222.456907  222.790167\n8    65.653774  228.237683  235.243327\n9    69.142938  219.958929  225.401001\n10  273.499707    7.013149    0.000000\n11   98.764326  275.947446  275.321851\n12  205.716415    4.271703    4.821804\n13    1.573446  227.017586  280.917077\n14  226.336148    1.718217    2.856151\n15    8.974472  324.061998  379.716825\n16  253.217447    0.862950    4.384438\n17  245.462501    6.635531    0.922469\n18   91.581999  219.099964  217.601089\n19   50.487445  260.396856  275.089296",
      "text/html": "<div>\n<style scoped>\n    .dataframe tbody tr th:only-of-type {\n        vertical-align: middle;\n    }\n\n    .dataframe tbody tr th {\n        vertical-align: top;\n    }\n\n    .dataframe thead th {\n        text-align: right;\n    }\n</style>\n<table border=\"1\" class=\"dataframe\">\n  <thead>\n    <tr style=\"text-align: right;\">\n      <th></th>\n      <th>d1</th>\n      <th>d2</th>\n      <th>d3</th>\n    </tr>\n  </thead>\n  <tbody>\n    <tr>\n      <th>0</th>\n      <td>6.537294</td>\n      <td>291.084588</td>\n      <td>352.067384</td>\n    </tr>\n    <tr>\n      <th>1</th>\n      <td>5.693799</td>\n      <td>244.865975</td>\n      <td>304.942851</td>\n    </tr>\n    <tr>\n      <th>2</th>\n      <td>6.536386</td>\n      <td>278.333733</td>\n      <td>340.002135</td>\n    </tr>\n    <tr>\n      <th>3</th>\n      <td>0.000000</td>\n      <td>225.296131</td>\n      <td>273.499707</td>\n    </tr>\n    <tr>\n      <th>4</th>\n      <td>55.715742</td>\n      <td>218.391876</td>\n      <td>228.404296</td>\n    </tr>\n    <tr>\n      <th>5</th>\n      <td>225.296131</td>\n      <td>0.000000</td>\n      <td>7.013149</td>\n    </tr>\n    <tr>\n      <th>6</th>\n      <td>2.592963</td>\n      <td>259.415173</td>\n      <td>316.030533</td>\n    </tr>\n    <tr>\n      <th>7</th>\n      <td>85.782948</td>\n      <td>222.456907</td>\n      <td>222.790167</td>\n    </tr>\n    <tr>\n      <th>8</th>\n      <td>65.653774</td>\n      <td>228.237683</td>\n      <td>235.243327</td>\n    </tr>\n    <tr>\n      <th>9</th>\n      <td>69.142938</td>\n      <td>219.958929</td>\n      <td>225.401001</td>\n    </tr>\n    <tr>\n      <th>10</th>\n      <td>273.499707</td>\n      <td>7.013149</td>\n      <td>0.000000</td>\n    </tr>\n    <tr>\n      <th>11</th>\n      <td>98.764326</td>\n      <td>275.947446</td>\n      <td>275.321851</td>\n    </tr>\n    <tr>\n      <th>12</th>\n      <td>205.716415</td>\n      <td>4.271703</td>\n      <td>4.821804</td>\n    </tr>\n    <tr>\n      <th>13</th>\n      <td>1.573446</td>\n      <td>227.017586</td>\n      <td>280.917077</td>\n    </tr>\n    <tr>\n      <th>14</th>\n      <td>226.336148</td>\n      <td>1.718217</td>\n      <td>2.856151</td>\n    </tr>\n    <tr>\n      <th>15</th>\n      <td>8.974472</td>\n      <td>324.061998</td>\n      <td>379.716825</td>\n    </tr>\n    <tr>\n      <th>16</th>\n      <td>253.217447</td>\n      <td>0.862950</td>\n      <td>4.384438</td>\n    </tr>\n    <tr>\n      <th>17</th>\n      <td>245.462501</td>\n      <td>6.635531</td>\n      <td>0.922469</td>\n    </tr>\n    <tr>\n      <th>18</th>\n      <td>91.581999</td>\n      <td>219.099964</td>\n      <td>217.601089</td>\n    </tr>\n    <tr>\n      <th>19</th>\n      <td>50.487445</td>\n      <td>260.396856</td>\n      <td>275.089296</td>\n    </tr>\n  </tbody>\n</table>\n</div>"
     },
     "execution_count": 58,
     "metadata": {},
     "output_type": "execute_result"
    }
   ],
   "source": [
    "dist_df = pd.DataFrame(np.array([d1, d2, d3]).T, columns = ['d1', 'd2', 'd3'])\n",
    "dist_df"
   ]
  },
  {
   "cell_type": "markdown",
   "metadata": {
    "nbgrader": {
     "grade": false,
     "grade_id": "cell-100a2921ecc128dd",
     "locked": true,
     "schema_version": 1,
     "solution": false
    }
   },
   "source": [
    "[Back to top](#Index:) \n",
    "\n",
    "## Problem 1\n",
    "\n",
    "### What were the original centers\n",
    "\n",
    "**5 Points**\n",
    "\n",
    "In the distance data above, which data point was the original centroid of the first column?  Assign the index of the datapoint as an integer to `ans1` below."
   ]
  },
  {
   "cell_type": "code",
   "execution_count": 59,
   "metadata": {
    "nbgrader": {
     "grade": false,
     "grade_id": "cell-6922dbdc383a07e1",
     "locked": false,
     "schema_version": 1,
     "solution": true
    },
    "ExecuteTime": {
     "end_time": "2023-10-14T16:07:53.608119200Z",
     "start_time": "2023-10-14T16:07:53.601934400Z"
    }
   },
   "outputs": [
    {
     "name": "stdout",
     "output_type": "stream",
     "text": [
      "3\n",
      "<class 'int'>\n"
     ]
    }
   ],
   "source": [
    "### GRADED\n",
    "\n",
    "ans1 = None\n",
    "\n",
    "### BEGIN SOLUTION\n",
    "ans1 = 3\n",
    "type(ans1)\n",
    "### END SOLUTION\n",
    "\n",
    "# Answer check\n",
    "print(ans1)\n",
    "print(type(ans1))"
   ]
  },
  {
   "cell_type": "code",
   "execution_count": 60,
   "metadata": {
    "nbgrader": {
     "grade": true,
     "grade_id": "cell-ab4e447b68009a4c",
     "locked": true,
     "points": 5,
     "schema_version": 1,
     "solution": false
    },
    "ExecuteTime": {
     "end_time": "2023-10-14T16:07:53.637395700Z",
     "start_time": "2023-10-14T16:07:53.606614700Z"
    }
   },
   "outputs": [],
   "source": [
    "### BEGIN HIDDEN TESTS\n",
    "ans1_ = 3\n",
    "#\n",
    "#\n",
    "#\n",
    "assert type(ans1_) == type(ans1)\n",
    "assert ans1_ == ans1\n",
    "### END HIDDEN TESTS"
   ]
  },
  {
   "cell_type": "markdown",
   "metadata": {
    "nbgrader": {
     "grade": false,
     "grade_id": "cell-9cb4bf300457574c",
     "locked": true,
     "schema_version": 1,
     "solution": false
    }
   },
   "source": [
    "### Finding the `argmin`\n",
    "\n",
    "For each of the observations, we want to assign them to the cluster where the inter cluster variance is minimized.  To do so, we can use the `np.argmin` function and apply it across the rows.  Note that this returns a label for which cluster the point will be assigned.  These labels are added to the original DataFrame and the points are plotted.  "
   ]
  },
  {
   "cell_type": "code",
   "execution_count": 68,
   "metadata": {
    "ExecuteTime": {
     "end_time": "2023-10-14T16:17:55.081904700Z",
     "start_time": "2023-10-14T16:17:55.045043800Z"
    }
   },
   "outputs": [
    {
     "data": {
      "text/plain": "          X1        X2  cluster label\n0  -2.978672  9.556846              0\n1  -4.234115  8.451999              0\n2  -3.522029  9.328533              0\n3  -2.267235  7.101006              0\n4   3.488885  2.348868              0\n5  -8.207813 -6.683248              1\n6  -2.972615  8.548556              0\n7   4.626382  0.915459              0\n8   4.095496  2.084092              0\n9   4.039240  1.681476              0\n10 -6.670764 -8.839780              2\n11  6.105528  1.747393              0\n12 -6.141161 -6.708741              1\n13 -3.417222  7.601982              0\n14 -6.995275 -7.181213              1",
      "text/html": "<div>\n<style scoped>\n    .dataframe tbody tr th:only-of-type {\n        vertical-align: middle;\n    }\n\n    .dataframe tbody tr th {\n        vertical-align: top;\n    }\n\n    .dataframe thead th {\n        text-align: right;\n    }\n</style>\n<table border=\"1\" class=\"dataframe\">\n  <thead>\n    <tr style=\"text-align: right;\">\n      <th></th>\n      <th>X1</th>\n      <th>X2</th>\n      <th>cluster label</th>\n    </tr>\n  </thead>\n  <tbody>\n    <tr>\n      <th>0</th>\n      <td>-2.978672</td>\n      <td>9.556846</td>\n      <td>0</td>\n    </tr>\n    <tr>\n      <th>1</th>\n      <td>-4.234115</td>\n      <td>8.451999</td>\n      <td>0</td>\n    </tr>\n    <tr>\n      <th>2</th>\n      <td>-3.522029</td>\n      <td>9.328533</td>\n      <td>0</td>\n    </tr>\n    <tr>\n      <th>3</th>\n      <td>-2.267235</td>\n      <td>7.101006</td>\n      <td>0</td>\n    </tr>\n    <tr>\n      <th>4</th>\n      <td>3.488885</td>\n      <td>2.348868</td>\n      <td>0</td>\n    </tr>\n    <tr>\n      <th>5</th>\n      <td>-8.207813</td>\n      <td>-6.683248</td>\n      <td>1</td>\n    </tr>\n    <tr>\n      <th>6</th>\n      <td>-2.972615</td>\n      <td>8.548556</td>\n      <td>0</td>\n    </tr>\n    <tr>\n      <th>7</th>\n      <td>4.626382</td>\n      <td>0.915459</td>\n      <td>0</td>\n    </tr>\n    <tr>\n      <th>8</th>\n      <td>4.095496</td>\n      <td>2.084092</td>\n      <td>0</td>\n    </tr>\n    <tr>\n      <th>9</th>\n      <td>4.039240</td>\n      <td>1.681476</td>\n      <td>0</td>\n    </tr>\n    <tr>\n      <th>10</th>\n      <td>-6.670764</td>\n      <td>-8.839780</td>\n      <td>2</td>\n    </tr>\n    <tr>\n      <th>11</th>\n      <td>6.105528</td>\n      <td>1.747393</td>\n      <td>0</td>\n    </tr>\n    <tr>\n      <th>12</th>\n      <td>-6.141161</td>\n      <td>-6.708741</td>\n      <td>1</td>\n    </tr>\n    <tr>\n      <th>13</th>\n      <td>-3.417222</td>\n      <td>7.601982</td>\n      <td>0</td>\n    </tr>\n    <tr>\n      <th>14</th>\n      <td>-6.995275</td>\n      <td>-7.181213</td>\n      <td>1</td>\n    </tr>\n  </tbody>\n</table>\n</div>"
     },
     "execution_count": 68,
     "metadata": {},
     "output_type": "execute_result"
    }
   ],
   "source": [
    "np.argmin(dist_df.values, axis = 1) #finding smallest variance\n",
    "df['cluster label'] = np.argmin(dist_df.values, axis = 1) #create new column of labels\n",
    "df.head(15)"
   ]
  },
  {
   "cell_type": "code",
   "execution_count": 62,
   "metadata": {
    "ExecuteTime": {
     "end_time": "2023-10-14T16:07:53.939930900Z",
     "start_time": "2023-10-14T16:07:53.616395600Z"
    }
   },
   "outputs": [
    {
     "data": {
      "text/plain": "<Figure size 640x480 with 1 Axes>",
      "image/png": "[encoded data removed]"
     },
     "metadata": {},
     "output_type": "display_data"
    }
   ],
   "source": [
    "sns.scatterplot(data = df, x = 'X1',y = 'X2', hue = 'cluster label', palette='tab10')\n",
    "plt.title('Cluster assignments after random centroids');"
   ]
  },
  {
   "cell_type": "markdown",
   "metadata": {
    "nbgrader": {
     "grade": false,
     "grade_id": "cell-ab0c9b7fa24deb16",
     "locked": true,
     "schema_version": 1,
     "solution": false
    }
   },
   "source": [
    "[Back to top](#Index:) \n",
    "\n",
    "## Problem 2\n",
    "\n",
    "### Initial Cluster Assignments\n",
    "\n",
    "**5 Points**\n",
    "\n",
    "Now that the clusters have been assigned, what do you think of the initial assignments?  Did they end up matching with what your intuitive assignments would be?  Assign your solution to `ans2` below as a boolean value, `True` representing if the cluster assignments are \"good\", `False` if they are \"bad\". "
   ]
  },
  {
   "cell_type": "code",
   "execution_count": 63,
   "metadata": {
    "nbgrader": {
     "grade": false,
     "grade_id": "cell-2d0fa6f2af584d51",
     "locked": false,
     "schema_version": 1,
     "solution": true
    },
    "ExecuteTime": {
     "end_time": "2023-10-14T16:07:53.940930900Z",
     "start_time": "2023-10-14T16:07:53.852935Z"
    }
   },
   "outputs": [
    {
     "name": "stdout",
     "output_type": "stream",
     "text": [
      "False\n",
      "<class 'bool'>\n"
     ]
    }
   ],
   "source": [
    "### GRADED\n",
    "\n",
    "ans2 = None\n",
    "\n",
    "### BEGIN SOLUTION\n",
    "ans2 = False\n",
    "type(ans2)\n",
    "### END SOLUTION\n",
    "\n",
    "# Answer check\n",
    "print(ans2)\n",
    "print(type(ans2))"
   ]
  },
  {
   "cell_type": "code",
   "execution_count": 64,
   "metadata": {
    "nbgrader": {
     "grade": true,
     "grade_id": "cell-b3228e617111f951",
     "locked": true,
     "points": 4,
     "schema_version": 1,
     "solution": false
    },
    "ExecuteTime": {
     "end_time": "2023-10-14T16:07:53.940930900Z",
     "start_time": "2023-10-14T16:07:53.857441400Z"
    }
   },
   "outputs": [],
   "source": [
    "### BEGIN HIDDEN TESTS\n",
    "ans2_ = False\n",
    "#\n",
    "#\n",
    "#\n",
    "assert type(ans2_) == type(ans2)\n",
    "assert ans2_ == ans2\n",
    "### END HIDDEN TESTS"
   ]
  },
  {
   "cell_type": "markdown",
   "metadata": {
    "nbgrader": {
     "grade": false,
     "grade_id": "cell-108b91119b546522",
     "locked": true,
     "schema_version": 1,
     "solution": false
    }
   },
   "source": [
    "### Compute new centroids\n",
    "\n",
    "Using the new labels for the cluster centers, the final step is to update the random centroids based on the averages of each cluster.  One approach is to use the `groupby` method to group by the initial labels and aggregate based on the mean.  Below, we save these as a DataFrame named `new_centers` and plot the updated centroids in the scatterplot as red star markers.  "
   ]
  },
  {
   "cell_type": "code",
   "execution_count": 65,
   "metadata": {
    "ExecuteTime": {
     "end_time": "2023-10-14T16:07:53.940930900Z",
     "start_time": "2023-10-14T16:07:53.860103900Z"
    }
   },
   "outputs": [],
   "source": [
    "new_centers = df.groupby('cluster label').mean()"
   ]
  },
  {
   "cell_type": "code",
   "execution_count": 66,
   "metadata": {
    "ExecuteTime": {
     "end_time": "2023-10-14T16:07:54.136935800Z",
     "start_time": "2023-10-14T16:07:53.866421900Z"
    }
   },
   "outputs": [
    {
     "data": {
      "text/plain": "<matplotlib.collections.PathCollection at 0x25cea9821d0>"
     },
     "execution_count": 66,
     "metadata": {},
     "output_type": "execute_result"
    },
    {
     "data": {
      "text/plain": "<Figure size 1400x500 with 1 Axes>",
      "image/png": "[encoded data removed]"
     },
     "metadata": {},
     "output_type": "display_data"
    }
   ],
   "source": [
    "plt.figure(figsize = (14, 5))\n",
    "sns.scatterplot(data = df, x = 'X1',y = 'X2', hue = 'cluster label', palette='tab10', s = 100, alpha = 0.4)\n",
    "plt.title('Updated Centroids');\n",
    "plt.scatter(new_centers['X1'], new_centers['X2'], marker = '*', s = 400, c = 'red', edgecolor = 'black')"
   ]
  },
  {
   "cell_type": "markdown",
   "metadata": {
    "nbgrader": {
     "grade": false,
     "grade_id": "cell-1202fed65233b4d5",
     "locked": true,
     "schema_version": 1,
     "solution": false
    }
   },
   "source": [
    "### Exploration\n",
    "\n",
    "In the next assignment you will use a built in `sklearn` estimator to conduct the KMeans clustering algorithm.  If interested try to use the example code above as a guide to repeat the cluster assignments based on these new centroids, label observations, and update the centroids.  Ideally, you would do this either a set number of iterations or until the distance between updated centroids stabalizes from one iteration to the next."
   ]
  },
  {
   "cell_type": "code",
   "execution_count": 67,
   "metadata": {
    "ExecuteTime": {
     "end_time": "2023-10-14T16:07:54.148417400Z",
     "start_time": "2023-10-14T16:07:54.137935700Z"
    }
   },
   "outputs": [],
   "source": [
    "def KMeans(X, centers = 3, iterations = 100):\n",
    "    #select centers at random\n",
    "    starting_centers = ''\n",
    "    #for each iteration\n",
    "    \n",
    "        #determine intercluster variance\n",
    "\n",
    "        #make cluster assignments\n",
    "\n",
    "        #update centroids\n",
    "\n",
    "        #repeat\n",
    "    return ''"
   ]
  }
 ],
 "metadata": {
  "celltoolbar": "Create Assignment",
  "kernelspec": {
   "display_name": "Python 3",
   "language": "python",
   "name": "python3"
  },
  "language_info": {
   "codemirror_mode": {
    "name": "ipython",
    "version": 3
   },
   "file_extension": ".py",
   "mimetype": "text/x-python",
   "name": "python",
   "nbconvert_exporter": "python",
   "pygments_lexer": "ipython3",
   "version": "3.6.9"
  }
 },
 "nbformat": 4,
 "nbformat_minor": 4
}
