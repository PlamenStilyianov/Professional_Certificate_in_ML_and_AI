{
 "cells": [
  {
   "cell_type": "code",
   "execution_count": 6,
   "id": "863ffaa0",
   "metadata": {
    "ExecuteTime": {
     "end_time": "2023-10-12T00:07:55.095495300Z",
     "start_time": "2023-10-12T00:07:55.066740200Z"
    }
   },
   "outputs": [],
   "source": [
    "import numpy as np\n",
    "import pandas as pd\n",
    "import matplotlib.pyplot as plt\n",
    "from scipy.linalg import svd\n",
    "import math\n",
    "import seaborn as sns\n",
    "import pickle"
   ]
  },
  {
   "cell_type": "code",
   "execution_count": 7,
   "id": "d04e5e53",
   "metadata": {
    "ExecuteTime": {
     "end_time": "2023-10-12T00:07:55.101481300Z",
     "start_time": "2023-10-12T00:07:55.070938500Z"
    }
   },
   "outputs": [],
   "source": [
    "# N = 100\n",
    "# r = 1\n",
    "# df = pd.DataFrame({\n",
    "#     'F':40*np.random.rand(N)+50\n",
    "# })"
   ]
  },
  {
   "cell_type": "code",
   "execution_count": 8,
   "id": "0c62ebb9",
   "metadata": {
    "ExecuteTime": {
     "end_time": "2023-10-12T00:07:55.122022500Z",
     "start_time": "2023-10-12T00:07:55.082726400Z"
    }
   },
   "outputs": [],
   "source": [
    "# df['C'] = (5/9)*(df['F']-32) + 1*np.random.normal(size=N)\n",
    "# df"
   ]
  },
  {
   "cell_type": "code",
   "execution_count": 9,
   "id": "61ccf0f3",
   "metadata": {
    "ExecuteTime": {
     "end_time": "2023-10-12T00:07:55.122022500Z",
     "start_time": "2023-10-12T00:07:55.087545500Z"
    }
   },
   "outputs": [],
   "source": [
    "# pickle.dump( df, open( \"save.p\", \"wb\" ) )\n",
    "# df.drop(columns=['U1*s1' ,'Ftilde' ,'Ctilde'],inplace=True)"
   ]
  },
  {
   "cell_type": "code",
   "execution_count": 10,
   "id": "dbfb33db",
   "metadata": {
    "scrolled": true,
    "ExecuteTime": {
     "end_time": "2023-10-12T00:07:55.123527700Z",
     "start_time": "2023-10-12T00:07:55.095495300Z"
    }
   },
   "outputs": [
    {
     "ename": "FileNotFoundError",
     "evalue": "[Errno 2] No such file or directory: 'save.p'",
     "output_type": "error",
     "traceback": [
      "\u001B[1;31m---------------------------------------------------------------------------\u001B[0m",
      "\u001B[1;31mFileNotFoundError\u001B[0m                         Traceback (most recent call last)",
      "Cell \u001B[1;32mIn[10], line 1\u001B[0m\n\u001B[1;32m----> 1\u001B[0m df \u001B[38;5;241m=\u001B[39m pickle\u001B[38;5;241m.\u001B[39mload(\u001B[38;5;28mopen\u001B[39m( \u001B[38;5;124m\"\u001B[39m\u001B[38;5;124msave.p\u001B[39m\u001B[38;5;124m\"\u001B[39m, \u001B[38;5;124m\"\u001B[39m\u001B[38;5;124mrb\u001B[39m\u001B[38;5;124m\"\u001B[39m ))\n\u001B[0;32m      2\u001B[0m X \u001B[38;5;241m=\u001B[39m df\u001B[38;5;241m.\u001B[39mvalues\n",
      "File \u001B[1;32mC:\\Java\\anaconda3\\Lib\\site-packages\\IPython\\core\\interactiveshell.py:286\u001B[0m, in \u001B[0;36m_modified_open\u001B[1;34m(file, *args, **kwargs)\u001B[0m\n\u001B[0;32m    279\u001B[0m \u001B[38;5;28;01mif\u001B[39;00m file \u001B[38;5;129;01min\u001B[39;00m {\u001B[38;5;241m0\u001B[39m, \u001B[38;5;241m1\u001B[39m, \u001B[38;5;241m2\u001B[39m}:\n\u001B[0;32m    280\u001B[0m     \u001B[38;5;28;01mraise\u001B[39;00m \u001B[38;5;167;01mValueError\u001B[39;00m(\n\u001B[0;32m    281\u001B[0m         \u001B[38;5;124mf\u001B[39m\u001B[38;5;124m\"\u001B[39m\u001B[38;5;124mIPython won\u001B[39m\u001B[38;5;124m'\u001B[39m\u001B[38;5;124mt let you open fd=\u001B[39m\u001B[38;5;132;01m{\u001B[39;00mfile\u001B[38;5;132;01m}\u001B[39;00m\u001B[38;5;124m by default \u001B[39m\u001B[38;5;124m\"\u001B[39m\n\u001B[0;32m    282\u001B[0m         \u001B[38;5;124m\"\u001B[39m\u001B[38;5;124mas it is likely to crash IPython. If you know what you are doing, \u001B[39m\u001B[38;5;124m\"\u001B[39m\n\u001B[0;32m    283\u001B[0m         \u001B[38;5;124m\"\u001B[39m\u001B[38;5;124myou can use builtins\u001B[39m\u001B[38;5;124m'\u001B[39m\u001B[38;5;124m open.\u001B[39m\u001B[38;5;124m\"\u001B[39m\n\u001B[0;32m    284\u001B[0m     )\n\u001B[1;32m--> 286\u001B[0m \u001B[38;5;28;01mreturn\u001B[39;00m io_open(file, \u001B[38;5;241m*\u001B[39margs, \u001B[38;5;241m*\u001B[39m\u001B[38;5;241m*\u001B[39mkwargs)\n",
      "\u001B[1;31mFileNotFoundError\u001B[0m: [Errno 2] No such file or directory: 'save.p'"
     ]
    }
   ],
   "source": [
    "df = pickle.load(open( \"save.p\", \"rb\" ))\n",
    "X = df.values"
   ]
  },
  {
   "cell_type": "code",
   "execution_count": null,
   "id": "1d3afc48",
   "metadata": {
    "ExecuteTime": {
     "start_time": "2023-10-12T00:07:55.117924Z"
    }
   },
   "outputs": [],
   "source": [
    "pd.set_option(\"display.precision\", 2)"
   ]
  },
  {
   "cell_type": "code",
   "execution_count": null,
   "id": "fdbc68c2",
   "metadata": {
    "ExecuteTime": {
     "start_time": "2023-10-12T00:07:55.119015800Z"
    }
   },
   "outputs": [],
   "source": [
    "Xmean = np.mean(X, axis=0)\n",
    "Xc = X - Xmean\n",
    "pd.DataFrame(Xc)"
   ]
  },
  {
   "cell_type": "code",
   "execution_count": null,
   "id": "038d91a6",
   "metadata": {
    "ExecuteTime": {
     "start_time": "2023-10-12T00:07:55.121025700Z"
    }
   },
   "outputs": [],
   "source": [
    "U, s, Vt = svd(Xc,full_matrices=False)\n",
    "Sigma = np.diag(s)\n",
    "V = Vt.T\n",
    "\n",
    "print(Sigma, V)"
   ]
  },
  {
   "cell_type": "code",
   "execution_count": null,
   "id": "8e352c90",
   "metadata": {
    "ExecuteTime": {
     "start_time": "2023-10-12T00:07:55.122022500Z"
    }
   },
   "outputs": [],
   "source": [
    "r = 1\n",
    "Ur = U[:,:r]\n",
    "Vr = V[:,:r]\n",
    "Sr = Sigma[:r,:r]\n"
   ]
  },
  {
   "cell_type": "code",
   "execution_count": null,
   "id": "81122d12",
   "metadata": {
    "ExecuteTime": {
     "start_time": "2023-10-12T00:07:55.123020500Z"
    }
   },
   "outputs": [],
   "source": [
    "XDr = Ur@Sr@Vr.T + Xmean\n",
    "XDr.shape"
   ]
  },
  {
   "cell_type": "code",
   "execution_count": null,
   "id": "7dcb4229",
   "metadata": {
    "ExecuteTime": {
     "start_time": "2023-10-12T00:07:55.123527700Z"
    }
   },
   "outputs": [],
   "source": [
    "sns.scatterplot(data=df,y='F',x='C',s=100,marker='.')\n",
    "plt.grid()\n",
    "# plt.axis('equal')\n",
    "plt.xlim((5,35))\n",
    "plt.ylabel('')\n",
    "plt.xlabel('')"
   ]
  },
  {
   "cell_type": "code",
   "execution_count": null,
   "id": "d66cda7f",
   "metadata": {
    "ExecuteTime": {
     "start_time": "2023-10-12T00:07:55.125004900Z"
    }
   },
   "outputs": [],
   "source": [
    "Xrr = Ur@Sr\n",
    "df2 = pd.DataFrame({'PC1':Xrr[:,0]})\n",
    "df2"
   ]
  },
  {
   "cell_type": "code",
   "execution_count": null,
   "id": "d866ff29",
   "metadata": {
    "ExecuteTime": {
     "start_time": "2023-10-12T00:07:55.125004900Z"
    }
   },
   "outputs": [],
   "source": [
    "df['z'] = 0 * df['F']\n",
    "sns.scatterplot(data=df,y='F',x='C',s=100,marker='.')\n",
    "sns.scatterplot(data=df,y='z',x='C',s=100,marker='.')\n",
    "sns.scatterplot(data=df,y='F',x='z',s=100,marker='.')\n",
    "plt.grid()\n",
    "# plt.axis('equal')\n",
    "plt.xlim((-1,40))\n",
    "plt.ylim((-1,100))\n",
    "plt.ylabel('')\n",
    "plt.xlabel('')"
   ]
  },
  {
   "cell_type": "code",
   "execution_count": null,
   "id": "80371201",
   "metadata": {
    "ExecuteTime": {
     "start_time": "2023-10-12T00:07:55.126399600Z"
    }
   },
   "outputs": [],
   "source": [
    "plt.figure(figsize=(6.5,5))\n",
    "sns.scatterplot(data=df,y='F',x='C',s=100,marker='.')\n",
    "sns.scatterplot(y=XDr[:,0],x=XDr[:,1],s=100,marker='.')\n",
    "plt.grid()\n",
    "plt.ylabel('')\n",
    "plt.xlabel('')"
   ]
  },
  {
   "cell_type": "code",
   "execution_count": null,
   "id": "c277df72",
   "metadata": {
    "ExecuteTime": {
     "start_time": "2023-10-12T00:07:55.127405600Z"
    }
   },
   "outputs": [],
   "source": [
    "plt.figure(figsize=(6.5,1))\n",
    "sns.scatterplot(data=df2,x='PC1',y=0,s=100,marker='.')\n",
    "plt.grid()\n",
    "plt.xlabel('')\n",
    "plt.yticks([])"
   ]
  },
  {
   "cell_type": "code",
   "execution_count": null,
   "id": "36fa9bb9",
   "metadata": {
    "ExecuteTime": {
     "start_time": "2023-10-12T00:07:55.127405600Z"
    }
   },
   "outputs": [],
   "source": [
    "z = df2.describe()\n",
    "z.loc['max','PC1']-z.loc['min','PC1']"
   ]
  }
 ],
 "metadata": {
  "kernelspec": {
   "display_name": "Python 3 (ipykernel)",
   "language": "python",
   "name": "python3"
  },
  "language_info": {
   "codemirror_mode": {
    "name": "ipython",
    "version": 3
   },
   "file_extension": ".py",
   "mimetype": "text/x-python",
   "name": "python",
   "nbconvert_exporter": "python",
   "pygments_lexer": "ipython3",
   "version": "3.9.5"
  }
 },
 "nbformat": 4,
 "nbformat_minor": 5
}
