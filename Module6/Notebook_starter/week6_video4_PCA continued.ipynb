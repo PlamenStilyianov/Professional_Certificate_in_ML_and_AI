{
 "cells": [
  {
   "cell_type": "markdown",
   "id": "6f313584",
   "metadata": {},
   "source": [
    "---\n",
    "# <center>Principal components analysis (continued)</center>\n",
    "---"
   ]
  },
  {
   "cell_type": "code",
   "execution_count": 110,
   "id": "0b364f7d",
   "metadata": {
    "ExecuteTime": {
     "end_time": "2023-10-13T00:11:20.588300900Z",
     "start_time": "2023-10-13T00:11:20.527769200Z"
    }
   },
   "outputs": [],
   "source": [
    "import numpy as np\n",
    "import pandas as pd\n",
    "from scipy.linalg import svd\n",
    "#from sklearn.datasets import load_boston"
   ]
  },
  {
   "cell_type": "markdown",
   "id": "0e99873b",
   "metadata": {},
   "source": [
    "## Load the data"
   ]
  },
  {
   "cell_type": "code",
   "execution_count": 111,
   "id": "d7e72900",
   "metadata": {
    "ExecuteTime": {
     "end_time": "2023-10-13T00:11:20.939950100Z",
     "start_time": "2023-10-13T00:11:20.533947Z"
    }
   },
   "outputs": [
    {
     "data": {
      "text/plain": "         0     1     2    3      4      5      6       7    8      9     10\n0   0.00632  18.0  2.31  0.0  0.538  6.575   65.2  4.0900  1.0  296.0  15.3\n2   0.02731   0.0  7.07  0.0  0.469  6.421   78.9  4.9671  2.0  242.0  17.8\n4   0.02729   0.0  7.07  0.0  0.469  7.185   61.1  4.9671  2.0  242.0  17.8\n6   0.03237   0.0  2.18  0.0  0.458  6.998   45.8  6.0622  3.0  222.0  18.7\n8   0.06905   0.0  2.18  0.0  0.458  7.147   54.2  6.0622  3.0  222.0  18.7\n10  0.02985   0.0  2.18  0.0  0.458  6.430   58.7  6.0622  3.0  222.0  18.7\n12  0.08829  12.5  7.87  0.0  0.524  6.012   66.6  5.5605  5.0  311.0  15.2\n14  0.14455  12.5  7.87  0.0  0.524  6.172   96.1  5.9505  5.0  311.0  15.2\n16  0.21124  12.5  7.87  0.0  0.524  5.631  100.0  6.0821  5.0  311.0  15.2\n18  0.17004  12.5  7.87  0.0  0.524  6.004   85.9  6.5921  5.0  311.0  15.2",
      "text/html": "<div>\n<style scoped>\n    .dataframe tbody tr th:only-of-type {\n        vertical-align: middle;\n    }\n\n    .dataframe tbody tr th {\n        vertical-align: top;\n    }\n\n    .dataframe thead th {\n        text-align: right;\n    }\n</style>\n<table border=\"1\" class=\"dataframe\">\n  <thead>\n    <tr style=\"text-align: right;\">\n      <th></th>\n      <th>0</th>\n      <th>1</th>\n      <th>2</th>\n      <th>3</th>\n      <th>4</th>\n      <th>5</th>\n      <th>6</th>\n      <th>7</th>\n      <th>8</th>\n      <th>9</th>\n      <th>10</th>\n    </tr>\n  </thead>\n  <tbody>\n    <tr>\n      <th>0</th>\n      <td>0.00632</td>\n      <td>18.0</td>\n      <td>2.31</td>\n      <td>0.0</td>\n      <td>0.538</td>\n      <td>6.575</td>\n      <td>65.2</td>\n      <td>4.0900</td>\n      <td>1.0</td>\n      <td>296.0</td>\n      <td>15.3</td>\n    </tr>\n    <tr>\n      <th>2</th>\n      <td>0.02731</td>\n      <td>0.0</td>\n      <td>7.07</td>\n      <td>0.0</td>\n      <td>0.469</td>\n      <td>6.421</td>\n      <td>78.9</td>\n      <td>4.9671</td>\n      <td>2.0</td>\n      <td>242.0</td>\n      <td>17.8</td>\n    </tr>\n    <tr>\n      <th>4</th>\n      <td>0.02729</td>\n      <td>0.0</td>\n      <td>7.07</td>\n      <td>0.0</td>\n      <td>0.469</td>\n      <td>7.185</td>\n      <td>61.1</td>\n      <td>4.9671</td>\n      <td>2.0</td>\n      <td>242.0</td>\n      <td>17.8</td>\n    </tr>\n    <tr>\n      <th>6</th>\n      <td>0.03237</td>\n      <td>0.0</td>\n      <td>2.18</td>\n      <td>0.0</td>\n      <td>0.458</td>\n      <td>6.998</td>\n      <td>45.8</td>\n      <td>6.0622</td>\n      <td>3.0</td>\n      <td>222.0</td>\n      <td>18.7</td>\n    </tr>\n    <tr>\n      <th>8</th>\n      <td>0.06905</td>\n      <td>0.0</td>\n      <td>2.18</td>\n      <td>0.0</td>\n      <td>0.458</td>\n      <td>7.147</td>\n      <td>54.2</td>\n      <td>6.0622</td>\n      <td>3.0</td>\n      <td>222.0</td>\n      <td>18.7</td>\n    </tr>\n    <tr>\n      <th>10</th>\n      <td>0.02985</td>\n      <td>0.0</td>\n      <td>2.18</td>\n      <td>0.0</td>\n      <td>0.458</td>\n      <td>6.430</td>\n      <td>58.7</td>\n      <td>6.0622</td>\n      <td>3.0</td>\n      <td>222.0</td>\n      <td>18.7</td>\n    </tr>\n    <tr>\n      <th>12</th>\n      <td>0.08829</td>\n      <td>12.5</td>\n      <td>7.87</td>\n      <td>0.0</td>\n      <td>0.524</td>\n      <td>6.012</td>\n      <td>66.6</td>\n      <td>5.5605</td>\n      <td>5.0</td>\n      <td>311.0</td>\n      <td>15.2</td>\n    </tr>\n    <tr>\n      <th>14</th>\n      <td>0.14455</td>\n      <td>12.5</td>\n      <td>7.87</td>\n      <td>0.0</td>\n      <td>0.524</td>\n      <td>6.172</td>\n      <td>96.1</td>\n      <td>5.9505</td>\n      <td>5.0</td>\n      <td>311.0</td>\n      <td>15.2</td>\n    </tr>\n    <tr>\n      <th>16</th>\n      <td>0.21124</td>\n      <td>12.5</td>\n      <td>7.87</td>\n      <td>0.0</td>\n      <td>0.524</td>\n      <td>5.631</td>\n      <td>100.0</td>\n      <td>6.0821</td>\n      <td>5.0</td>\n      <td>311.0</td>\n      <td>15.2</td>\n    </tr>\n    <tr>\n      <th>18</th>\n      <td>0.17004</td>\n      <td>12.5</td>\n      <td>7.87</td>\n      <td>0.0</td>\n      <td>0.524</td>\n      <td>6.004</td>\n      <td>85.9</td>\n      <td>6.5921</td>\n      <td>5.0</td>\n      <td>311.0</td>\n      <td>15.2</td>\n    </tr>\n  </tbody>\n</table>\n</div>"
     },
     "execution_count": 111,
     "metadata": {},
     "output_type": "execute_result"
    }
   ],
   "source": [
    "#X, _ = load_boston(return_X_y=True)\n",
    "#X = pd.DataFrame(X)\n",
    "data_url = \"http://lib.stat.cmu.edu/datasets/boston\"\n",
    "raw_df = pd.read_csv(data_url, sep=\"\\s+\", skiprows=22, header=None)\n",
    "\n",
    "X = pd.DataFrame(raw_df)\n",
    "X = X.dropna()\n",
    "X.head(10)"
   ]
  },
  {
   "cell_type": "markdown",
   "id": "6e689862",
   "metadata": {},
   "source": [
    "## Normalize"
   ]
  },
  {
   "cell_type": "code",
   "execution_count": 112,
   "outputs": [
    {
     "data": {
      "text/plain": "               0           1           2           3           4           5   \\\ncount  506.000000  506.000000  506.000000  506.000000  506.000000  506.000000   \nmean     3.613524   11.363636   11.136779    0.069170    0.554695    6.284634   \nstd      8.601545   23.322453    6.860353    0.253994    0.115878    0.702617   \nmin      0.006320    0.000000    0.460000    0.000000    0.385000    3.561000   \n25%      0.082045    0.000000    5.190000    0.000000    0.449000    5.885500   \n50%      0.256510    0.000000    9.690000    0.000000    0.538000    6.208500   \n75%      3.677083   12.500000   18.100000    0.000000    0.624000    6.623500   \nmax     88.976200  100.000000   27.740000    1.000000    0.871000    8.780000   \n\n               6           7           8           9           10  \ncount  506.000000  506.000000  506.000000  506.000000  506.000000  \nmean    68.574901    3.795043    9.549407  408.237154   18.455534  \nstd     28.148861    2.105710    8.707259  168.537116    2.164946  \nmin      2.900000    1.129600    1.000000  187.000000   12.600000  \n25%     45.025000    2.100175    4.000000  279.000000   17.400000  \n50%     77.500000    3.207450    5.000000  330.000000   19.050000  \n75%     94.075000    5.188425   24.000000  666.000000   20.200000  \nmax    100.000000   12.126500   24.000000  711.000000   22.000000  ",
      "text/html": "<div>\n<style scoped>\n    .dataframe tbody tr th:only-of-type {\n        vertical-align: middle;\n    }\n\n    .dataframe tbody tr th {\n        vertical-align: top;\n    }\n\n    .dataframe thead th {\n        text-align: right;\n    }\n</style>\n<table border=\"1\" class=\"dataframe\">\n  <thead>\n    <tr style=\"text-align: right;\">\n      <th></th>\n      <th>0</th>\n      <th>1</th>\n      <th>2</th>\n      <th>3</th>\n      <th>4</th>\n      <th>5</th>\n      <th>6</th>\n      <th>7</th>\n      <th>8</th>\n      <th>9</th>\n      <th>10</th>\n    </tr>\n  </thead>\n  <tbody>\n    <tr>\n      <th>count</th>\n      <td>506.000000</td>\n      <td>506.000000</td>\n      <td>506.000000</td>\n      <td>506.000000</td>\n      <td>506.000000</td>\n      <td>506.000000</td>\n      <td>506.000000</td>\n      <td>506.000000</td>\n      <td>506.000000</td>\n      <td>506.000000</td>\n      <td>506.000000</td>\n    </tr>\n    <tr>\n      <th>mean</th>\n      <td>3.613524</td>\n      <td>11.363636</td>\n      <td>11.136779</td>\n      <td>0.069170</td>\n      <td>0.554695</td>\n      <td>6.284634</td>\n      <td>68.574901</td>\n      <td>3.795043</td>\n      <td>9.549407</td>\n      <td>408.237154</td>\n      <td>18.455534</td>\n    </tr>\n    <tr>\n      <th>std</th>\n      <td>8.601545</td>\n      <td>23.322453</td>\n      <td>6.860353</td>\n      <td>0.253994</td>\n      <td>0.115878</td>\n      <td>0.702617</td>\n      <td>28.148861</td>\n      <td>2.105710</td>\n      <td>8.707259</td>\n      <td>168.537116</td>\n      <td>2.164946</td>\n    </tr>\n    <tr>\n      <th>min</th>\n      <td>0.006320</td>\n      <td>0.000000</td>\n      <td>0.460000</td>\n      <td>0.000000</td>\n      <td>0.385000</td>\n      <td>3.561000</td>\n      <td>2.900000</td>\n      <td>1.129600</td>\n      <td>1.000000</td>\n      <td>187.000000</td>\n      <td>12.600000</td>\n    </tr>\n    <tr>\n      <th>25%</th>\n      <td>0.082045</td>\n      <td>0.000000</td>\n      <td>5.190000</td>\n      <td>0.000000</td>\n      <td>0.449000</td>\n      <td>5.885500</td>\n      <td>45.025000</td>\n      <td>2.100175</td>\n      <td>4.000000</td>\n      <td>279.000000</td>\n      <td>17.400000</td>\n    </tr>\n    <tr>\n      <th>50%</th>\n      <td>0.256510</td>\n      <td>0.000000</td>\n      <td>9.690000</td>\n      <td>0.000000</td>\n      <td>0.538000</td>\n      <td>6.208500</td>\n      <td>77.500000</td>\n      <td>3.207450</td>\n      <td>5.000000</td>\n      <td>330.000000</td>\n      <td>19.050000</td>\n    </tr>\n    <tr>\n      <th>75%</th>\n      <td>3.677083</td>\n      <td>12.500000</td>\n      <td>18.100000</td>\n      <td>0.000000</td>\n      <td>0.624000</td>\n      <td>6.623500</td>\n      <td>94.075000</td>\n      <td>5.188425</td>\n      <td>24.000000</td>\n      <td>666.000000</td>\n      <td>20.200000</td>\n    </tr>\n    <tr>\n      <th>max</th>\n      <td>88.976200</td>\n      <td>100.000000</td>\n      <td>27.740000</td>\n      <td>1.000000</td>\n      <td>0.871000</td>\n      <td>8.780000</td>\n      <td>100.000000</td>\n      <td>12.126500</td>\n      <td>24.000000</td>\n      <td>711.000000</td>\n      <td>22.000000</td>\n    </tr>\n  </tbody>\n</table>\n</div>"
     },
     "execution_count": 112,
     "metadata": {},
     "output_type": "execute_result"
    }
   ],
   "source": [
    "X.describe()"
   ],
   "metadata": {
    "collapsed": false,
    "ExecuteTime": {
     "end_time": "2023-10-13T00:11:20.956196400Z",
     "start_time": "2023-10-13T00:11:20.940946900Z"
    }
   },
   "id": "3adfb9167e3b5b40"
  },
  {
   "cell_type": "code",
   "execution_count": 113,
   "outputs": [
    {
     "data": {
      "text/plain": "<Axes: xlabel='6', ylabel='7'>"
     },
     "execution_count": 113,
     "metadata": {},
     "output_type": "execute_result"
    },
    {
     "data": {
      "text/plain": "<Figure size 640x480 with 1 Axes>",
      "image/png": "[encoded data removed]"
     },
     "metadata": {},
     "output_type": "display_data"
    }
   ],
   "source": [
    "X.plot(kind='scatter',x=6,y=7)"
   ],
   "metadata": {
    "collapsed": false,
    "ExecuteTime": {
     "end_time": "2023-10-13T00:11:21.156873800Z",
     "start_time": "2023-10-13T00:11:20.957193500Z"
    }
   },
   "id": "182624924b815271"
  },
  {
   "cell_type": "code",
   "execution_count": 114,
   "id": "32ef600b",
   "metadata": {
    "ExecuteTime": {
     "end_time": "2023-10-13T00:11:21.157880600Z",
     "start_time": "2023-10-13T00:11:21.088641800Z"
    }
   },
   "outputs": [],
   "source": [
    "mu = X.mean()\n",
    "sigma = X.std()\n",
    "Xnorm = (X - mu)/sigma"
   ]
  },
  {
   "cell_type": "code",
   "execution_count": 115,
   "outputs": [
    {
     "data": {
      "text/plain": "<Axes: xlabel='6', ylabel='7'>"
     },
     "execution_count": 115,
     "metadata": {},
     "output_type": "execute_result"
    },
    {
     "data": {
      "text/plain": "<Figure size 640x480 with 1 Axes>",
      "image/png": "[encoded data removed]"
     },
     "metadata": {},
     "output_type": "display_data"
    }
   ],
   "source": [
    "Xnorm.plot(kind='scatter',x=6,y=7)"
   ],
   "metadata": {
    "collapsed": false,
    "ExecuteTime": {
     "end_time": "2023-10-13T00:11:21.256330100Z",
     "start_time": "2023-10-13T00:11:21.094759Z"
    }
   },
   "id": "72eaf37ecf7da346"
  },
  {
   "cell_type": "code",
   "execution_count": 116,
   "outputs": [
    {
     "data": {
      "text/plain": "                 0             1             2             3             4   \\\ncount  5.060000e+02  5.060000e+02  5.060000e+02  5.060000e+02  5.060000e+02   \nmean  -1.123388e-16  6.319056e-17  2.527622e-16 -7.021173e-17 -1.404235e-16   \nstd    1.000000e+00  1.000000e+00  1.000000e+00  1.000000e+00  1.000000e+00   \nmin   -4.193669e-01 -4.872402e-01 -1.556302e+00 -2.723291e-01 -1.464433e+00   \n25%   -4.105633e-01 -4.872402e-01 -8.668328e-01 -2.723291e-01 -9.121262e-01   \n50%   -3.902803e-01 -4.872402e-01 -2.108898e-01 -2.723291e-01 -1.440749e-01   \n75%    7.389247e-03  4.872402e-02  1.014995e+00 -2.723291e-01  5.980871e-01   \nmax    9.924110e+00  3.800473e+00  2.420170e+00  3.664771e+00  2.729645e+00   \n\n                 5             6             7             8             9   \\\ncount  5.060000e+02  5.060000e+02  5.060000e+02  5.060000e+02  5.060000e+02   \nmean  -9.829643e-17 -1.685082e-16 -1.123388e-16  1.123388e-16  5.616939e-17   \nstd    1.000000e+00  1.000000e+00  1.000000e+00  1.000000e+00  1.000000e+00   \nmin   -3.876413e+00 -2.333128e+00 -1.265817e+00 -9.818712e-01 -1.312691e+00   \n25%   -5.680681e-01 -8.366200e-01 -8.048913e-01 -6.373311e-01 -7.668172e-01   \n50%   -1.083583e-01  3.170678e-01 -2.790473e-01 -5.224844e-01 -4.642132e-01   \n75%    4.822906e-01  9.059016e-01  6.617161e-01  1.659603e+00  1.529413e+00   \nmax    3.551530e+00  1.116390e+00  3.956602e+00  1.659603e+00  1.796416e+00   \n\n                 10  \ncount  5.060000e+02  \nmean  -3.370163e-16  \nstd    1.000000e+00  \nmin   -2.704703e+00  \n25%   -4.875567e-01  \n50%    2.745872e-01  \n75%    8.057784e-01  \nmax    1.637208e+00  ",
      "text/html": "<div>\n<style scoped>\n    .dataframe tbody tr th:only-of-type {\n        vertical-align: middle;\n    }\n\n    .dataframe tbody tr th {\n        vertical-align: top;\n    }\n\n    .dataframe thead th {\n        text-align: right;\n    }\n</style>\n<table border=\"1\" class=\"dataframe\">\n  <thead>\n    <tr style=\"text-align: right;\">\n      <th></th>\n      <th>0</th>\n      <th>1</th>\n      <th>2</th>\n      <th>3</th>\n      <th>4</th>\n      <th>5</th>\n      <th>6</th>\n      <th>7</th>\n      <th>8</th>\n      <th>9</th>\n      <th>10</th>\n    </tr>\n  </thead>\n  <tbody>\n    <tr>\n      <th>count</th>\n      <td>5.060000e+02</td>\n      <td>5.060000e+02</td>\n      <td>5.060000e+02</td>\n      <td>5.060000e+02</td>\n      <td>5.060000e+02</td>\n      <td>5.060000e+02</td>\n      <td>5.060000e+02</td>\n      <td>5.060000e+02</td>\n      <td>5.060000e+02</td>\n      <td>5.060000e+02</td>\n      <td>5.060000e+02</td>\n    </tr>\n    <tr>\n      <th>mean</th>\n      <td>-1.123388e-16</td>\n      <td>6.319056e-17</td>\n      <td>2.527622e-16</td>\n      <td>-7.021173e-17</td>\n      <td>-1.404235e-16</td>\n      <td>-9.829643e-17</td>\n      <td>-1.685082e-16</td>\n      <td>-1.123388e-16</td>\n      <td>1.123388e-16</td>\n      <td>5.616939e-17</td>\n      <td>-3.370163e-16</td>\n    </tr>\n    <tr>\n      <th>std</th>\n      <td>1.000000e+00</td>\n      <td>1.000000e+00</td>\n      <td>1.000000e+00</td>\n      <td>1.000000e+00</td>\n      <td>1.000000e+00</td>\n      <td>1.000000e+00</td>\n      <td>1.000000e+00</td>\n      <td>1.000000e+00</td>\n      <td>1.000000e+00</td>\n      <td>1.000000e+00</td>\n      <td>1.000000e+00</td>\n    </tr>\n    <tr>\n      <th>min</th>\n      <td>-4.193669e-01</td>\n      <td>-4.872402e-01</td>\n      <td>-1.556302e+00</td>\n      <td>-2.723291e-01</td>\n      <td>-1.464433e+00</td>\n      <td>-3.876413e+00</td>\n      <td>-2.333128e+00</td>\n      <td>-1.265817e+00</td>\n      <td>-9.818712e-01</td>\n      <td>-1.312691e+00</td>\n      <td>-2.704703e+00</td>\n    </tr>\n    <tr>\n      <th>25%</th>\n      <td>-4.105633e-01</td>\n      <td>-4.872402e-01</td>\n      <td>-8.668328e-01</td>\n      <td>-2.723291e-01</td>\n      <td>-9.121262e-01</td>\n      <td>-5.680681e-01</td>\n      <td>-8.366200e-01</td>\n      <td>-8.048913e-01</td>\n      <td>-6.373311e-01</td>\n      <td>-7.668172e-01</td>\n      <td>-4.875567e-01</td>\n    </tr>\n    <tr>\n      <th>50%</th>\n      <td>-3.902803e-01</td>\n      <td>-4.872402e-01</td>\n      <td>-2.108898e-01</td>\n      <td>-2.723291e-01</td>\n      <td>-1.440749e-01</td>\n      <td>-1.083583e-01</td>\n      <td>3.170678e-01</td>\n      <td>-2.790473e-01</td>\n      <td>-5.224844e-01</td>\n      <td>-4.642132e-01</td>\n      <td>2.745872e-01</td>\n    </tr>\n    <tr>\n      <th>75%</th>\n      <td>7.389247e-03</td>\n      <td>4.872402e-02</td>\n      <td>1.014995e+00</td>\n      <td>-2.723291e-01</td>\n      <td>5.980871e-01</td>\n      <td>4.822906e-01</td>\n      <td>9.059016e-01</td>\n      <td>6.617161e-01</td>\n      <td>1.659603e+00</td>\n      <td>1.529413e+00</td>\n      <td>8.057784e-01</td>\n    </tr>\n    <tr>\n      <th>max</th>\n      <td>9.924110e+00</td>\n      <td>3.800473e+00</td>\n      <td>2.420170e+00</td>\n      <td>3.664771e+00</td>\n      <td>2.729645e+00</td>\n      <td>3.551530e+00</td>\n      <td>1.116390e+00</td>\n      <td>3.956602e+00</td>\n      <td>1.659603e+00</td>\n      <td>1.796416e+00</td>\n      <td>1.637208e+00</td>\n    </tr>\n  </tbody>\n</table>\n</div>"
     },
     "execution_count": 116,
     "metadata": {},
     "output_type": "execute_result"
    }
   ],
   "source": [
    "Xnorm.describe()"
   ],
   "metadata": {
    "collapsed": false,
    "ExecuteTime": {
     "end_time": "2023-10-13T00:11:21.323497100Z",
     "start_time": "2023-10-13T00:11:21.256330100Z"
    }
   },
   "id": "e4d14108f4357c91"
  },
  {
   "cell_type": "markdown",
   "id": "69a03fe4",
   "metadata": {},
   "source": [
    "## SVD"
   ]
  },
  {
   "cell_type": "code",
   "execution_count": 117,
   "id": "eb295218",
   "metadata": {
    "ExecuteTime": {
     "end_time": "2023-10-13T00:11:21.324493700Z",
     "start_time": "2023-10-13T00:11:21.280003Z"
    }
   },
   "outputs": [],
   "source": [
    "U, s, Vt = svd(Xnorm,full_matrices=False)\n",
    "Sigma = np.diag(s)\n",
    "V = Vt.T"
   ]
  },
  {
   "cell_type": "markdown",
   "id": "1327b85d",
   "metadata": {},
   "source": [
    "## Project the data to 4 dimensions\n",
    "\n",
    "```\n",
    "lower dimensional subspace \n",
    "𝑈𝑟Σ𝑟\n",
    "```"
   ]
  },
  {
   "cell_type": "markdown",
   "id": "79e3ae70",
   "metadata": {},
   "source": [
    "<img src=\"Xrr.png\" alt=\"Drawing\" style=\"width: 170px;\"/>"
   ]
  },
  {
   "cell_type": "code",
   "execution_count": 118,
   "id": "356f013a",
   "metadata": {
    "ExecuteTime": {
     "end_time": "2023-10-13T00:11:21.325696300Z",
     "start_time": "2023-10-13T00:11:21.281547700Z"
    }
   },
   "outputs": [],
   "source": [
    "r = 4\n",
    "Ur = U[:,:r]\n",
    "Sigmar = Sigma[:r,:r]\n",
    "Xrr = pd.DataFrame(Ur@Sigmar)"
   ]
  },
  {
   "cell_type": "code",
   "execution_count": 119,
   "outputs": [
    {
     "data": {
      "text/plain": "array([[-0.03453832,  0.03144321,  0.00604622,  0.04497042],\n       [-0.02504192,  0.01959261, -0.03515098,  0.01720647],\n       [-0.03303651,  0.02087451, -0.00904109,  0.02876999],\n       ...,\n       [ 0.00223019,  0.03327289, -0.03776813,  0.02667678],\n       [ 0.00207938,  0.0292787 , -0.04328121,  0.02103089],\n       [ 0.00360034,  0.0170744 , -0.06723535,  0.00072108]])"
     },
     "execution_count": 119,
     "metadata": {},
     "output_type": "execute_result"
    }
   ],
   "source": [
    "# Ur\n",
    "Ur"
   ],
   "metadata": {
    "collapsed": false,
    "ExecuteTime": {
     "end_time": "2023-10-13T00:11:21.325696300Z",
     "start_time": "2023-10-13T00:11:21.287624300Z"
    }
   },
   "id": "f252bc981032584b"
  },
  {
   "cell_type": "code",
   "execution_count": 120,
   "outputs": [
    {
     "data": {
      "text/plain": "array([[52.06403233,  0.        ,  0.        ,  0.        ],\n       [ 0.        , 26.45821501,  0.        ,  0.        ],\n       [ 0.        ,  0.        , 23.81460309,  0.        ],\n       [ 0.        ,  0.        ,  0.        , 20.66065467]])"
     },
     "execution_count": 120,
     "metadata": {},
     "output_type": "execute_result"
    }
   ],
   "source": [
    "#Sigmar\n",
    "Sigmar"
   ],
   "metadata": {
    "collapsed": false,
    "ExecuteTime": {
     "end_time": "2023-10-13T00:11:21.326695200Z",
     "start_time": "2023-10-13T00:11:21.294350300Z"
    }
   },
   "id": "79b58e8350f4cc9c"
  },
  {
   "cell_type": "code",
   "execution_count": 121,
   "outputs": [
    {
     "data": {
      "text/plain": "          0         1         2         3\n0 -1.798204  0.831931  0.143988  0.929118\n1 -1.303784  0.518385 -0.837107  0.355497\n2 -1.720014  0.552302 -0.215310  0.594407\n3 -2.251694 -0.072964 -0.425126  0.146890\n4 -2.189278  0.055717 -0.325947  0.269951\n5 -1.946326 -0.101554 -0.886842 -0.032881\n6 -1.370980  0.417606 -0.217705  0.482488\n7 -1.123207  0.708033 -0.145504  0.708341\n8 -0.953008  0.570855 -0.564101  0.470461\n9 -1.308117  0.454188 -0.244085  0.502374",
      "text/html": "<div>\n<style scoped>\n    .dataframe tbody tr th:only-of-type {\n        vertical-align: middle;\n    }\n\n    .dataframe tbody tr th {\n        vertical-align: top;\n    }\n\n    .dataframe thead th {\n        text-align: right;\n    }\n</style>\n<table border=\"1\" class=\"dataframe\">\n  <thead>\n    <tr style=\"text-align: right;\">\n      <th></th>\n      <th>0</th>\n      <th>1</th>\n      <th>2</th>\n      <th>3</th>\n    </tr>\n  </thead>\n  <tbody>\n    <tr>\n      <th>0</th>\n      <td>-1.798204</td>\n      <td>0.831931</td>\n      <td>0.143988</td>\n      <td>0.929118</td>\n    </tr>\n    <tr>\n      <th>1</th>\n      <td>-1.303784</td>\n      <td>0.518385</td>\n      <td>-0.837107</td>\n      <td>0.355497</td>\n    </tr>\n    <tr>\n      <th>2</th>\n      <td>-1.720014</td>\n      <td>0.552302</td>\n      <td>-0.215310</td>\n      <td>0.594407</td>\n    </tr>\n    <tr>\n      <th>3</th>\n      <td>-2.251694</td>\n      <td>-0.072964</td>\n      <td>-0.425126</td>\n      <td>0.146890</td>\n    </tr>\n    <tr>\n      <th>4</th>\n      <td>-2.189278</td>\n      <td>0.055717</td>\n      <td>-0.325947</td>\n      <td>0.269951</td>\n    </tr>\n    <tr>\n      <th>5</th>\n      <td>-1.946326</td>\n      <td>-0.101554</td>\n      <td>-0.886842</td>\n      <td>-0.032881</td>\n    </tr>\n    <tr>\n      <th>6</th>\n      <td>-1.370980</td>\n      <td>0.417606</td>\n      <td>-0.217705</td>\n      <td>0.482488</td>\n    </tr>\n    <tr>\n      <th>7</th>\n      <td>-1.123207</td>\n      <td>0.708033</td>\n      <td>-0.145504</td>\n      <td>0.708341</td>\n    </tr>\n    <tr>\n      <th>8</th>\n      <td>-0.953008</td>\n      <td>0.570855</td>\n      <td>-0.564101</td>\n      <td>0.470461</td>\n    </tr>\n    <tr>\n      <th>9</th>\n      <td>-1.308117</td>\n      <td>0.454188</td>\n      <td>-0.244085</td>\n      <td>0.502374</td>\n    </tr>\n  </tbody>\n</table>\n</div>"
     },
     "execution_count": 121,
     "metadata": {},
     "output_type": "execute_result"
    }
   ],
   "source": [
    "Xrr.head(10)"
   ],
   "metadata": {
    "collapsed": false,
    "ExecuteTime": {
     "end_time": "2023-10-13T00:11:21.326695200Z",
     "start_time": "2023-10-13T00:11:21.299459900Z"
    }
   },
   "id": "9d0579f9afe3e086"
  },
  {
   "cell_type": "markdown",
   "id": "45b496ee",
   "metadata": {},
   "source": [
    "# Incorporate new data"
   ]
  },
  {
   "cell_type": "markdown",
   "id": "1f56b99e",
   "metadata": {},
   "source": [
    "<img src=\"Xnewdata.png\" alt=\"Drawing\" style=\"width: 170px;\"/>"
   ]
  },
  {
   "cell_type": "code",
   "execution_count": 135,
   "id": "36b7af88",
   "metadata": {
    "ExecuteTime": {
     "end_time": "2023-10-13T00:12:09.628310600Z",
     "start_time": "2023-10-13T00:12:09.615295Z"
    }
   },
   "outputs": [],
   "source": [
    "newhome = [0.044, 70, 2.24, 0.0, 0.4, 6.87, 47.4, 7.82, 5.0, 358, 14.8,]\n",
    "newhome_norm = (newhome-mu)/sigma\n",
    "newhome_projected = newhome_norm @ V[:,:r]\n",
    "Xrr.loc[len(Xrr)] = newhome_projected"
   ]
  },
  {
   "cell_type": "code",
   "execution_count": 136,
   "outputs": [
    {
     "data": {
      "text/plain": "            0         1         2         3\n498  0.211333  0.269040 -0.891057  0.168323\n499  0.428752  0.228965 -1.255280  0.013661\n500  0.366601  0.407841 -0.912720  0.255935\n501 -0.097368  0.494990 -1.145570  0.202686\n502  0.150866  0.468484 -1.527175  0.051397\n503  0.116113  0.880341 -0.899433  0.551160\n504  0.108261  0.774662 -1.030725  0.434512\n505  0.187448  0.451758 -1.601183  0.014898\n506 -3.550938 -0.823210  1.641488  0.388780\n507 -3.550938 -0.823210  1.641488  0.388780",
      "text/html": "<div>\n<style scoped>\n    .dataframe tbody tr th:only-of-type {\n        vertical-align: middle;\n    }\n\n    .dataframe tbody tr th {\n        vertical-align: top;\n    }\n\n    .dataframe thead th {\n        text-align: right;\n    }\n</style>\n<table border=\"1\" class=\"dataframe\">\n  <thead>\n    <tr style=\"text-align: right;\">\n      <th></th>\n      <th>0</th>\n      <th>1</th>\n      <th>2</th>\n      <th>3</th>\n    </tr>\n  </thead>\n  <tbody>\n    <tr>\n      <th>498</th>\n      <td>0.211333</td>\n      <td>0.269040</td>\n      <td>-0.891057</td>\n      <td>0.168323</td>\n    </tr>\n    <tr>\n      <th>499</th>\n      <td>0.428752</td>\n      <td>0.228965</td>\n      <td>-1.255280</td>\n      <td>0.013661</td>\n    </tr>\n    <tr>\n      <th>500</th>\n      <td>0.366601</td>\n      <td>0.407841</td>\n      <td>-0.912720</td>\n      <td>0.255935</td>\n    </tr>\n    <tr>\n      <th>501</th>\n      <td>-0.097368</td>\n      <td>0.494990</td>\n      <td>-1.145570</td>\n      <td>0.202686</td>\n    </tr>\n    <tr>\n      <th>502</th>\n      <td>0.150866</td>\n      <td>0.468484</td>\n      <td>-1.527175</td>\n      <td>0.051397</td>\n    </tr>\n    <tr>\n      <th>503</th>\n      <td>0.116113</td>\n      <td>0.880341</td>\n      <td>-0.899433</td>\n      <td>0.551160</td>\n    </tr>\n    <tr>\n      <th>504</th>\n      <td>0.108261</td>\n      <td>0.774662</td>\n      <td>-1.030725</td>\n      <td>0.434512</td>\n    </tr>\n    <tr>\n      <th>505</th>\n      <td>0.187448</td>\n      <td>0.451758</td>\n      <td>-1.601183</td>\n      <td>0.014898</td>\n    </tr>\n    <tr>\n      <th>506</th>\n      <td>-3.550938</td>\n      <td>-0.823210</td>\n      <td>1.641488</td>\n      <td>0.388780</td>\n    </tr>\n    <tr>\n      <th>507</th>\n      <td>-3.550938</td>\n      <td>-0.823210</td>\n      <td>1.641488</td>\n      <td>0.388780</td>\n    </tr>\n  </tbody>\n</table>\n</div>"
     },
     "execution_count": 136,
     "metadata": {},
     "output_type": "execute_result"
    }
   ],
   "source": [
    "Xrr.tail(10)"
   ],
   "metadata": {
    "collapsed": false,
    "ExecuteTime": {
     "end_time": "2023-10-13T00:12:12.213672800Z",
     "start_time": "2023-10-13T00:12:12.188308500Z"
    }
   },
   "id": "19fb5018edce83f5"
  },
  {
   "cell_type": "code",
   "execution_count": 124,
   "outputs": [
    {
     "data": {
      "text/plain": "0    -0.414986\n1     2.514159\n2    -1.296840\n3    -0.272329\n4    -1.334986\n5     0.833122\n6    -0.752247\n7     1.911449\n8    -0.522484\n9    -0.298078\n10   -1.688511\ndtype: float64"
     },
     "execution_count": 124,
     "metadata": {},
     "output_type": "execute_result"
    }
   ],
   "source": [
    "# newhome_norm\n",
    "newhome_norm"
   ],
   "metadata": {
    "collapsed": false,
    "ExecuteTime": {
     "end_time": "2023-10-13T00:11:21.380128400Z",
     "start_time": "2023-10-13T00:11:21.324493700Z"
    }
   },
   "id": "1f1c04fda4ac773c"
  },
  {
   "cell_type": "code",
   "execution_count": 125,
   "outputs": [
    {
     "data": {
      "text/plain": "array([[ 0.26316849, -0.31301331,  0.3329608 ,  0.02029743],\n       [-0.28343621, -0.26221167,  0.43144857, -0.01985503],\n       [ 0.37420554,  0.07967995, -0.03964426, -0.01914413],\n       [ 0.01367085,  0.48863172,  0.31666383, -0.80802429],\n       [ 0.36975032,  0.21376442,  0.0944416 ,  0.15596205],\n       [-0.18633288,  0.2013521 ,  0.53942448,  0.3250392 ],\n       [ 0.33781529,  0.29260075, -0.0557398 ,  0.18111057],\n       [-0.3539033 , -0.32407969,  0.03024121, -0.20571763],\n       [ 0.34421803, -0.29090975,  0.33738945, -0.07528714],\n       [ 0.36366482, -0.26388179,  0.26868244, -0.04824004],\n       [ 0.22056625, -0.39625123, -0.33346702, -0.36446312]])"
     },
     "execution_count": 125,
     "metadata": {},
     "output_type": "execute_result"
    }
   ],
   "source": [
    "# V[:,:r]\n",
    "V[:,:r]"
   ],
   "metadata": {
    "collapsed": false,
    "ExecuteTime": {
     "end_time": "2023-10-13T00:11:21.417841100Z",
     "start_time": "2023-10-13T00:11:21.328688700Z"
    }
   },
   "id": "c8a3f3b84b4db714"
  },
  {
   "cell_type": "code",
   "execution_count": 126,
   "outputs": [
    {
     "data": {
      "text/plain": "array([-3.5509382 , -0.82321046,  1.6414881 ,  0.38878043])"
     },
     "execution_count": 126,
     "metadata": {},
     "output_type": "execute_result"
    }
   ],
   "source": [
    "# newhome_projected\n",
    "newhome_projected"
   ],
   "metadata": {
    "collapsed": false,
    "ExecuteTime": {
     "end_time": "2023-10-13T00:11:21.417841100Z",
     "start_time": "2023-10-13T00:11:21.334249300Z"
    }
   },
   "id": "b1f233e9841e420e"
  },
  {
   "cell_type": "code",
   "execution_count": 127,
   "outputs": [
    {
     "data": {
      "text/plain": "            0         1         2         3\n502  0.150866  0.468484 -1.527175  0.051397\n503  0.116113  0.880341 -0.899433  0.551160\n504  0.108261  0.774662 -1.030725  0.434512\n505  0.187448  0.451758 -1.601183  0.014898\n506 -3.550938 -0.823210  1.641488  0.388780",
      "text/html": "<div>\n<style scoped>\n    .dataframe tbody tr th:only-of-type {\n        vertical-align: middle;\n    }\n\n    .dataframe tbody tr th {\n        vertical-align: top;\n    }\n\n    .dataframe thead th {\n        text-align: right;\n    }\n</style>\n<table border=\"1\" class=\"dataframe\">\n  <thead>\n    <tr style=\"text-align: right;\">\n      <th></th>\n      <th>0</th>\n      <th>1</th>\n      <th>2</th>\n      <th>3</th>\n    </tr>\n  </thead>\n  <tbody>\n    <tr>\n      <th>502</th>\n      <td>0.150866</td>\n      <td>0.468484</td>\n      <td>-1.527175</td>\n      <td>0.051397</td>\n    </tr>\n    <tr>\n      <th>503</th>\n      <td>0.116113</td>\n      <td>0.880341</td>\n      <td>-0.899433</td>\n      <td>0.551160</td>\n    </tr>\n    <tr>\n      <th>504</th>\n      <td>0.108261</td>\n      <td>0.774662</td>\n      <td>-1.030725</td>\n      <td>0.434512</td>\n    </tr>\n    <tr>\n      <th>505</th>\n      <td>0.187448</td>\n      <td>0.451758</td>\n      <td>-1.601183</td>\n      <td>0.014898</td>\n    </tr>\n    <tr>\n      <th>506</th>\n      <td>-3.550938</td>\n      <td>-0.823210</td>\n      <td>1.641488</td>\n      <td>0.388780</td>\n    </tr>\n  </tbody>\n</table>\n</div>"
     },
     "execution_count": 127,
     "metadata": {},
     "output_type": "execute_result"
    }
   ],
   "source": [
    "Xrr.tail()"
   ],
   "metadata": {
    "collapsed": false,
    "ExecuteTime": {
     "end_time": "2023-10-13T00:11:21.426055200Z",
     "start_time": "2023-10-13T00:11:21.343202300Z"
    }
   },
   "id": "a56a7e4f9140a6b4"
  },
  {
   "cell_type": "code",
   "execution_count": 128,
   "outputs": [
    {
     "data": {
      "text/plain": "(507, 4)"
     },
     "execution_count": 128,
     "metadata": {},
     "output_type": "execute_result"
    }
   ],
   "source": [
    "Xrr.shape"
   ],
   "metadata": {
    "collapsed": false,
    "ExecuteTime": {
     "end_time": "2023-10-13T00:11:21.427128900Z",
     "start_time": "2023-10-13T00:11:21.345699800Z"
    }
   },
   "id": "966d2e8f5fb413a2"
  },
  {
   "cell_type": "code",
   "execution_count": 129,
   "outputs": [
    {
     "data": {
      "text/plain": "507"
     },
     "execution_count": 129,
     "metadata": {},
     "output_type": "execute_result"
    }
   ],
   "source": [
    "len(Xrr)"
   ],
   "metadata": {
    "collapsed": false,
    "ExecuteTime": {
     "end_time": "2023-10-13T00:11:21.427128900Z",
     "start_time": "2023-10-13T00:11:21.350124800Z"
    }
   },
   "id": "ba9872116eed9248"
  },
  {
   "cell_type": "code",
   "execution_count": 130,
   "outputs": [
    {
     "data": {
      "text/plain": "0   -3.550938\n1   -0.823210\n2    1.641488\n3    0.388780\nName: 506, dtype: float64"
     },
     "execution_count": 130,
     "metadata": {},
     "output_type": "execute_result"
    }
   ],
   "source": [
    "Xrr.loc[len(Xrr)-1]"
   ],
   "metadata": {
    "collapsed": false,
    "ExecuteTime": {
     "end_time": "2023-10-13T00:11:21.481603100Z",
     "start_time": "2023-10-13T00:11:21.352876900Z"
    }
   },
   "id": "912c7f5f4a4e675e"
  },
  {
   "cell_type": "code",
   "execution_count": 131,
   "outputs": [
    {
     "data": {
      "text/plain": "array([-3.5509382 , -0.82321046,  1.6414881 ,  0.38878043])"
     },
     "execution_count": 131,
     "metadata": {},
     "output_type": "execute_result"
    }
   ],
   "source": [
    "newhome_projected"
   ],
   "metadata": {
    "collapsed": false,
    "ExecuteTime": {
     "end_time": "2023-10-13T00:11:21.481603100Z",
     "start_time": "2023-10-13T00:11:21.358120100Z"
    }
   },
   "id": "c1d59361bc060f61"
  },
  {
   "cell_type": "code",
   "execution_count": 132,
   "outputs": [
    {
     "data": {
      "text/plain": "0    0.187448\n1    0.451758\n2   -1.601183\n3    0.014898\nName: 505, dtype: float64"
     },
     "execution_count": 132,
     "metadata": {},
     "output_type": "execute_result"
    }
   ],
   "source": [
    "Xrr.loc[len(Xrr)-2]"
   ],
   "metadata": {
    "collapsed": false,
    "ExecuteTime": {
     "end_time": "2023-10-13T00:11:21.481603100Z",
     "start_time": "2023-10-13T00:11:21.362792400Z"
    }
   },
   "id": "ccb42c3c91d82726"
  },
  {
   "cell_type": "code",
   "execution_count": 132,
   "outputs": [],
   "source": [],
   "metadata": {
    "collapsed": false,
    "ExecuteTime": {
     "end_time": "2023-10-13T00:11:21.481603100Z",
     "start_time": "2023-10-13T00:11:21.367660400Z"
    }
   },
   "id": "d7d1ef711c2f07ad"
  }
 ],
 "metadata": {
  "kernelspec": {
   "display_name": "Python 3 (ipykernel)",
   "language": "python",
   "name": "python3"
  },
  "language_info": {
   "codemirror_mode": {
    "name": "ipython",
    "version": 3
   },
   "file_extension": ".py",
   "mimetype": "text/x-python",
   "name": "python",
   "nbconvert_exporter": "python",
   "pygments_lexer": "ipython3",
   "version": "3.9.5"
  }
 },
 "nbformat": 4,
 "nbformat_minor": 5
}
