{
 "cells": [
  {
   "cell_type": "code",
   "execution_count": 19,
   "id": "initial_id",
   "metadata": {
    "collapsed": true,
    "ExecuteTime": {
     "end_time": "2023-09-18T20:24:26.478421700Z",
     "start_time": "2023-09-18T20:24:26.456662200Z"
    }
   },
   "outputs": [],
   "source": [
    "#import all the necessary libraries\n",
    "import numpy as np\n",
    "import pandas as pd\n",
    "import matplotlib.pyplot as plt\n",
    "import seaborn as sns\n",
    "import xml.etree.ElementTree as ET"
   ]
  },
  {
   "cell_type": "code",
   "execution_count": 20,
   "outputs": [],
   "source": [
    "def parse_xml(xml_file):\n",
    "    tree = ET.parse(xml_file)\n",
    "    root = tree.getroot()\n",
    "    return root\n",
    "\n",
    "def extract_data(root):\n",
    "    data = []\n",
    "    for record in root.findall('system'):\n",
    "        row = {}\n",
    "        for field in record:\n",
    "            row[field.tag] = field.text\n",
    "        data.append(row)\n",
    "    return data\n",
    "\n",
    "def to_dataframe(data):\n",
    "    df = pd.DataFrame(data)\n",
    "    return df"
   ],
   "metadata": {
    "collapsed": false,
    "ExecuteTime": {
     "end_time": "2023-09-18T20:24:26.478421700Z",
     "start_time": "2023-09-18T20:24:26.462541200Z"
    }
   },
   "id": "7fa1ec9fece2765"
  },
  {
   "cell_type": "code",
   "execution_count": null,
   "outputs": [],
   "source": [
    "root = parse_xml('data/systems.xml')\n",
    "data = extract_data(root)\n",
    "df = to_dataframe(data)\n",
    "#df = df.dropna()\n",
    "df"
   ],
   "metadata": {
    "collapsed": false,
    "is_executing": true,
    "ExecuteTime": {
     "start_time": "2023-09-18T20:25:25.220685100Z"
    }
   },
   "id": "41e3a6471d6be71e"
  },
  {
   "cell_type": "code",
   "execution_count": 22,
   "outputs": [
    {
     "data": {
      "text/plain": "['name',\n 'rightascension',\n 'declination',\n 'distance',\n 'star',\n 'videolink',\n 'constellation',\n 'binary',\n 'spectraltype',\n 'planet',\n 'magJ',\n 'magH',\n 'magK']"
     },
     "execution_count": 22,
     "metadata": {},
     "output_type": "execute_result"
    }
   ],
   "source": [
    "df.columns.tolist()"
   ],
   "metadata": {
    "collapsed": false,
    "ExecuteTime": {
     "end_time": "2023-09-18T20:24:26.773729300Z",
     "start_time": "2023-09-18T20:24:26.768691900Z"
    }
   },
   "id": "a60ca8f9c7eb6439"
  },
  {
   "cell_type": "code",
   "execution_count": 23,
   "outputs": [
    {
     "ename": "ValueError",
     "evalue": "Could not interpret value `` for parameter `y`",
     "output_type": "error",
     "traceback": [
      "\u001B[1;31m---------------------------------------------------------------------------\u001B[0m",
      "\u001B[1;31mValueError\u001B[0m                                Traceback (most recent call last)",
      "Cell \u001B[1;32mIn[23], line 1\u001B[0m\n\u001B[1;32m----> 1\u001B[0m sns\u001B[38;5;241m.\u001B[39mkdeplot(df,x\u001B[38;5;241m=\u001B[39m\u001B[38;5;124m'\u001B[39m\u001B[38;5;124mdistance\u001B[39m\u001B[38;5;124m'\u001B[39m, y\u001B[38;5;241m=\u001B[39m\u001B[38;5;124m'\u001B[39m\u001B[38;5;124m'\u001B[39m)\n",
      "File \u001B[1;32mC:\\Java\\anaconda3_10\\Lib\\site-packages\\seaborn\\distributions.py:1685\u001B[0m, in \u001B[0;36mkdeplot\u001B[1;34m(data, x, y, hue, weights, palette, hue_order, hue_norm, color, fill, multiple, common_norm, common_grid, cumulative, bw_method, bw_adjust, warn_singular, log_scale, levels, thresh, gridsize, cut, clip, legend, cbar, cbar_ax, cbar_kws, ax, **kwargs)\u001B[0m\n\u001B[0;32m   1681\u001B[0m levels \u001B[38;5;241m=\u001B[39m kwargs\u001B[38;5;241m.\u001B[39mpop(\u001B[38;5;124m\"\u001B[39m\u001B[38;5;124mn_levels\u001B[39m\u001B[38;5;124m\"\u001B[39m, levels)\n\u001B[0;32m   1683\u001B[0m \u001B[38;5;66;03m# - - - - - - - - - - - - - - - - - - - - - - - - - - - - - - - - - - - - #\u001B[39;00m\n\u001B[1;32m-> 1685\u001B[0m p \u001B[38;5;241m=\u001B[39m _DistributionPlotter(\n\u001B[0;32m   1686\u001B[0m     data\u001B[38;5;241m=\u001B[39mdata,\n\u001B[0;32m   1687\u001B[0m     variables\u001B[38;5;241m=\u001B[39m_DistributionPlotter\u001B[38;5;241m.\u001B[39mget_semantics(\u001B[38;5;28mlocals\u001B[39m()),\n\u001B[0;32m   1688\u001B[0m )\n\u001B[0;32m   1690\u001B[0m p\u001B[38;5;241m.\u001B[39mmap_hue(palette\u001B[38;5;241m=\u001B[39mpalette, order\u001B[38;5;241m=\u001B[39mhue_order, norm\u001B[38;5;241m=\u001B[39mhue_norm)\n\u001B[0;32m   1692\u001B[0m \u001B[38;5;28;01mif\u001B[39;00m ax \u001B[38;5;129;01mis\u001B[39;00m \u001B[38;5;28;01mNone\u001B[39;00m:\n",
      "File \u001B[1;32mC:\\Java\\anaconda3_10\\Lib\\site-packages\\seaborn\\distributions.py:113\u001B[0m, in \u001B[0;36m_DistributionPlotter.__init__\u001B[1;34m(self, data, variables)\u001B[0m\n\u001B[0;32m    107\u001B[0m \u001B[38;5;28;01mdef\u001B[39;00m \u001B[38;5;21m__init__\u001B[39m(\n\u001B[0;32m    108\u001B[0m     \u001B[38;5;28mself\u001B[39m,\n\u001B[0;32m    109\u001B[0m     data\u001B[38;5;241m=\u001B[39m\u001B[38;5;28;01mNone\u001B[39;00m,\n\u001B[0;32m    110\u001B[0m     variables\u001B[38;5;241m=\u001B[39m{},\n\u001B[0;32m    111\u001B[0m ):\n\u001B[1;32m--> 113\u001B[0m     \u001B[38;5;28msuper\u001B[39m()\u001B[38;5;241m.\u001B[39m\u001B[38;5;21m__init__\u001B[39m(data\u001B[38;5;241m=\u001B[39mdata, variables\u001B[38;5;241m=\u001B[39mvariables)\n",
      "File \u001B[1;32mC:\\Java\\anaconda3_10\\Lib\\site-packages\\seaborn\\_oldcore.py:640\u001B[0m, in \u001B[0;36mVectorPlotter.__init__\u001B[1;34m(self, data, variables)\u001B[0m\n\u001B[0;32m    635\u001B[0m \u001B[38;5;66;03m# var_ordered is relevant only for categorical axis variables, and may\u001B[39;00m\n\u001B[0;32m    636\u001B[0m \u001B[38;5;66;03m# be better handled by an internal axis information object that tracks\u001B[39;00m\n\u001B[0;32m    637\u001B[0m \u001B[38;5;66;03m# such information and is set up by the scale_* methods. The analogous\u001B[39;00m\n\u001B[0;32m    638\u001B[0m \u001B[38;5;66;03m# information for numeric axes would be information about log scales.\u001B[39;00m\n\u001B[0;32m    639\u001B[0m \u001B[38;5;28mself\u001B[39m\u001B[38;5;241m.\u001B[39m_var_ordered \u001B[38;5;241m=\u001B[39m {\u001B[38;5;124m\"\u001B[39m\u001B[38;5;124mx\u001B[39m\u001B[38;5;124m\"\u001B[39m: \u001B[38;5;28;01mFalse\u001B[39;00m, \u001B[38;5;124m\"\u001B[39m\u001B[38;5;124my\u001B[39m\u001B[38;5;124m\"\u001B[39m: \u001B[38;5;28;01mFalse\u001B[39;00m}  \u001B[38;5;66;03m# alt., used DefaultDict\u001B[39;00m\n\u001B[1;32m--> 640\u001B[0m \u001B[38;5;28mself\u001B[39m\u001B[38;5;241m.\u001B[39massign_variables(data, variables)\n\u001B[0;32m    642\u001B[0m \u001B[38;5;28;01mfor\u001B[39;00m var, \u001B[38;5;28mcls\u001B[39m \u001B[38;5;129;01min\u001B[39;00m \u001B[38;5;28mself\u001B[39m\u001B[38;5;241m.\u001B[39m_semantic_mappings\u001B[38;5;241m.\u001B[39mitems():\n\u001B[0;32m    643\u001B[0m \n\u001B[0;32m    644\u001B[0m     \u001B[38;5;66;03m# Create the mapping function\u001B[39;00m\n\u001B[0;32m    645\u001B[0m     map_func \u001B[38;5;241m=\u001B[39m partial(\u001B[38;5;28mcls\u001B[39m\u001B[38;5;241m.\u001B[39mmap, plotter\u001B[38;5;241m=\u001B[39m\u001B[38;5;28mself\u001B[39m)\n",
      "File \u001B[1;32mC:\\Java\\anaconda3_10\\Lib\\site-packages\\seaborn\\_oldcore.py:701\u001B[0m, in \u001B[0;36mVectorPlotter.assign_variables\u001B[1;34m(self, data, variables)\u001B[0m\n\u001B[0;32m    699\u001B[0m \u001B[38;5;28;01melse\u001B[39;00m:\n\u001B[0;32m    700\u001B[0m     \u001B[38;5;28mself\u001B[39m\u001B[38;5;241m.\u001B[39minput_format \u001B[38;5;241m=\u001B[39m \u001B[38;5;124m\"\u001B[39m\u001B[38;5;124mlong\u001B[39m\u001B[38;5;124m\"\u001B[39m\n\u001B[1;32m--> 701\u001B[0m     plot_data, variables \u001B[38;5;241m=\u001B[39m \u001B[38;5;28mself\u001B[39m\u001B[38;5;241m.\u001B[39m_assign_variables_longform(\n\u001B[0;32m    702\u001B[0m         data, \u001B[38;5;241m*\u001B[39m\u001B[38;5;241m*\u001B[39mvariables,\n\u001B[0;32m    703\u001B[0m     )\n\u001B[0;32m    705\u001B[0m \u001B[38;5;28mself\u001B[39m\u001B[38;5;241m.\u001B[39mplot_data \u001B[38;5;241m=\u001B[39m plot_data\n\u001B[0;32m    706\u001B[0m \u001B[38;5;28mself\u001B[39m\u001B[38;5;241m.\u001B[39mvariables \u001B[38;5;241m=\u001B[39m variables\n",
      "File \u001B[1;32mC:\\Java\\anaconda3_10\\Lib\\site-packages\\seaborn\\_oldcore.py:938\u001B[0m, in \u001B[0;36mVectorPlotter._assign_variables_longform\u001B[1;34m(self, data, **kwargs)\u001B[0m\n\u001B[0;32m    933\u001B[0m \u001B[38;5;28;01melif\u001B[39;00m \u001B[38;5;28misinstance\u001B[39m(val, (\u001B[38;5;28mstr\u001B[39m, \u001B[38;5;28mbytes\u001B[39m)):\n\u001B[0;32m    934\u001B[0m \n\u001B[0;32m    935\u001B[0m     \u001B[38;5;66;03m# This looks like a column name but we don't know what it means!\u001B[39;00m\n\u001B[0;32m    937\u001B[0m     err \u001B[38;5;241m=\u001B[39m \u001B[38;5;124mf\u001B[39m\u001B[38;5;124m\"\u001B[39m\u001B[38;5;124mCould not interpret value `\u001B[39m\u001B[38;5;132;01m{\u001B[39;00mval\u001B[38;5;132;01m}\u001B[39;00m\u001B[38;5;124m` for parameter `\u001B[39m\u001B[38;5;132;01m{\u001B[39;00mkey\u001B[38;5;132;01m}\u001B[39;00m\u001B[38;5;124m`\u001B[39m\u001B[38;5;124m\"\u001B[39m\n\u001B[1;32m--> 938\u001B[0m     \u001B[38;5;28;01mraise\u001B[39;00m \u001B[38;5;167;01mValueError\u001B[39;00m(err)\n\u001B[0;32m    940\u001B[0m \u001B[38;5;28;01melse\u001B[39;00m:\n\u001B[0;32m    941\u001B[0m \n\u001B[0;32m    942\u001B[0m     \u001B[38;5;66;03m# Otherwise, assume the value is itself data\u001B[39;00m\n\u001B[0;32m    943\u001B[0m \n\u001B[0;32m    944\u001B[0m     \u001B[38;5;66;03m# Raise when data object is present and a vector can't matched\u001B[39;00m\n\u001B[0;32m    945\u001B[0m     \u001B[38;5;28;01mif\u001B[39;00m \u001B[38;5;28misinstance\u001B[39m(data, pd\u001B[38;5;241m.\u001B[39mDataFrame) \u001B[38;5;129;01mand\u001B[39;00m \u001B[38;5;129;01mnot\u001B[39;00m \u001B[38;5;28misinstance\u001B[39m(val, pd\u001B[38;5;241m.\u001B[39mSeries):\n",
      "\u001B[1;31mValueError\u001B[0m: Could not interpret value `` for parameter `y`"
     ]
    }
   ],
   "source": [
    "sns.kdeplot(df,x='distance', y='')"
   ],
   "metadata": {
    "collapsed": false,
    "ExecuteTime": {
     "end_time": "2023-09-18T20:24:26.885980500Z",
     "start_time": "2023-09-18T20:24:26.773729300Z"
    }
   },
   "id": "8ca2cdc53701c0a2"
  }
 ],
 "metadata": {
  "kernelspec": {
   "display_name": "Python 3",
   "language": "python",
   "name": "python3"
  },
  "language_info": {
   "codemirror_mode": {
    "name": "ipython",
    "version": 2
   },
   "file_extension": ".py",
   "mimetype": "text/x-python",
   "name": "python",
   "nbconvert_exporter": "python",
   "pygments_lexer": "ipython2",
   "version": "2.7.6"
  }
 },
 "nbformat": 4,
 "nbformat_minor": 5
}
