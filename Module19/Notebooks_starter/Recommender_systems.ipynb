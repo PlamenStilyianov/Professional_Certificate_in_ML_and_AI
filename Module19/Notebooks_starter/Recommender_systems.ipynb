{
  "nbformat": 4,
  "nbformat_minor": 0,
  "metadata": {
    "colab": {
      "provenance": []
    },
    "kernelspec": {
      "name": "python3",
      "display_name": "Python 3"
    },
    "language_info": {
      "name": "python"
    }
  },
  "cells": [
    {
      "cell_type": "markdown",
      "source": [
        "# Matrix Factorization"
      ],
      "metadata": {
        "id": "yWm9TtQslDDM"
      }
    },
    {
      "cell_type": "code",
      "execution_count": null,
      "metadata": {
        "id": "GXGQvrg7k_6q"
      },
      "outputs": [],
      "source": [
        "import numpy as np"
      ]
    },
    {
      "cell_type": "code",
      "source": [
        "# Example user-item rating matrix with some missing values represented by zeros\n",
        "R = np.array([\n",
        "    [5, 3, 0, 1],\n",
        "    [4, 0, 0, 1],\n",
        "    [1, 1, 0, 5],\n",
        "    [1, 0, 0, 4],\n",
        "    [0, 1, 5, 4],\n",
        "])"
      ],
      "metadata": {
        "id": "CbhLS0KmlHQC"
      },
      "execution_count": null,
      "outputs": []
    },
    {
      "cell_type": "code",
      "source": [
        "num_users, num_items = R.shape\n",
        "num_latent_features = 2"
      ],
      "metadata": {
        "id": "iWWjwpWYlJ8p"
      },
      "execution_count": null,
      "outputs": []
    },
    {
      "cell_type": "code",
      "source": [
        "print(f\"Number of users: {num_users}\")\n",
        "print(f\"Number of items: {num_items}\")"
      ],
      "metadata": {
        "colab": {
          "base_uri": "https://localhost:8080/"
        },
        "id": "UP0ByNumlUCu",
        "outputId": "377fb680-92e7-49c8-810d-2c15955942f0"
      },
      "execution_count": null,
      "outputs": [
        {
          "output_type": "stream",
          "name": "stdout",
          "text": [
            "Number of users: 5\n",
            "Number of items: 4\n"
          ]
        }
      ]
    },
    {
      "cell_type": "code",
      "source": [
        "# Initialize user and item latent feature matrices with random values\n",
        "np.random.seed(0)  # For reproducibility\n",
        "U = np.random.rand(num_users, num_latent_features)\n",
        "V = np.random.rand(num_items, num_latent_features)"
      ],
      "metadata": {
        "id": "ThdCyuq1lMkV"
      },
      "execution_count": null,
      "outputs": []
    },
    {
      "cell_type": "code",
      "source": [
        "# Parameters for matrix factorization\n",
        "learning_rate = 0.01\n",
        "regularization = 0.02\n",
        "iterations = 1000"
      ],
      "metadata": {
        "id": "rtP4CcL1lQR-"
      },
      "execution_count": null,
      "outputs": []
    },
    {
      "cell_type": "code",
      "source": [
        "# Perform matrix factorization with Gradient Descent\n",
        "for iteration in range(iterations):\n",
        "    for i in range(num_users):\n",
        "        for j in range(num_items):\n",
        "            if R[i, j] > 0:  # Only consider non-zero ratings\n",
        "                # Compute prediction and error\n",
        "                prediction = np.dot(U[i, :], V[j, :].T)\n",
        "                error = R[i, j] - prediction\n",
        "\n",
        "                # Update latent features\n",
        "                U[i, :] += learning_rate * (error * V[j, :] - regularization * U[i, :])\n",
        "                V[j, :] += learning_rate * (error * U[i, :] - regularization * V[j, :])"
      ],
      "metadata": {
        "id": "3gQLua4plpwo"
      },
      "execution_count": null,
      "outputs": []
    },
    {
      "cell_type": "code",
      "source": [
        "# Compute the full matrix of predictions\n",
        "R_pred = U.dot(V.T)"
      ],
      "metadata": {
        "id": "5vVJyt3NltyA"
      },
      "execution_count": null,
      "outputs": []
    },
    {
      "cell_type": "code",
      "source": [
        "print(\"Original Ratings Matrix:\")\n",
        "print(R)\n",
        "print(\"\\nPredicted Ratings Matrix:\")\n",
        "print(R_pred)"
      ],
      "metadata": {
        "colab": {
          "base_uri": "https://localhost:8080/"
        },
        "id": "_UYlgoMWlwas",
        "outputId": "84866ee0-e834-4f6b-d2d9-58ef16096eb5"
      },
      "execution_count": null,
      "outputs": [
        {
          "output_type": "stream",
          "name": "stdout",
          "text": [
            "Original Ratings Matrix:\n",
            "[[5 3 0 1]\n",
            " [4 0 0 1]\n",
            " [1 1 0 5]\n",
            " [1 0 0 4]\n",
            " [0 1 5 4]]\n",
            "\n",
            "Predicted Ratings Matrix:\n",
            "[[4.95467514 2.96325763 5.85170569 1.00518157]\n",
            " [3.96436552 2.38600311 4.86672084 1.00229108]\n",
            " [1.0124011  0.96513617 5.61539947 4.94592121]\n",
            " [0.99449224 0.88053745 4.68623725 3.9683649 ]\n",
            " [1.26732816 1.04045614 4.96844253 3.98078422]]\n"
          ]
        }
      ]
    },
    {
      "cell_type": "code",
      "source": [
        "# Rounding the predicted ratings matrix\n",
        "R_pred_rounded = np.round(R_pred, decimals=0)\n",
        "\n",
        "R_pred_rounded"
      ],
      "metadata": {
        "colab": {
          "base_uri": "https://localhost:8080/"
        },
        "id": "BpwQukzDlytS",
        "outputId": "b46e8972-ac07-44f2-8cd0-17717b11b133"
      },
      "execution_count": null,
      "outputs": [
        {
          "output_type": "execute_result",
          "data": {
            "text/plain": [
              "array([[5., 3., 6., 1.],\n",
              "       [4., 2., 5., 1.],\n",
              "       [1., 1., 6., 5.],\n",
              "       [1., 1., 5., 4.],\n",
              "       [1., 1., 5., 4.]])"
            ]
          },
          "metadata": {},
          "execution_count": 12
        }
      ]
    },
    {
      "cell_type": "markdown",
      "source": [
        "# Collaborative Filtering (User-User Similarity)"
      ],
      "metadata": {
        "id": "aluIB5Gcnh5F"
      }
    },
    {
      "cell_type": "code",
      "source": [
        "! pip install scikit-surprise"
      ],
      "metadata": {
        "colab": {
          "base_uri": "https://localhost:8080/"
        },
        "id": "tSmwHzLNm-UD",
        "outputId": "e688fc3b-3596-4620-ee44-e485b88026dd"
      },
      "execution_count": null,
      "outputs": [
        {
          "output_type": "stream",
          "name": "stdout",
          "text": [
            "Requirement already satisfied: scikit-surprise in /usr/local/lib/python3.10/dist-packages (1.1.3)\n",
            "Requirement already satisfied: joblib>=1.0.0 in /usr/local/lib/python3.10/dist-packages (from scikit-surprise) (1.3.2)\n",
            "Requirement already satisfied: numpy>=1.17.3 in /usr/local/lib/python3.10/dist-packages (from scikit-surprise) (1.25.2)\n",
            "Requirement already satisfied: scipy>=1.3.2 in /usr/local/lib/python3.10/dist-packages (from scikit-surprise) (1.11.4)\n"
          ]
        }
      ]
    },
    {
      "cell_type": "code",
      "source": [
        "from surprise import SVD, Dataset, Reader\n",
        "from surprise.model_selection import train_test_split\n",
        "from surprise.accuracy import rmse\n",
        "import pandas as pd\n",
        "\n",
        "# Example data: user, item, rating\n",
        "ratings_dict = {\n",
        "    'userID': [1, 1, 1, 2, 2, 3, 3, 3, 4, 4, 5, 5],\n",
        "    'itemID': [1, 2, 3, 1, 3, 1, 2, 3, 2, 3, 1, 3],\n",
        "    'rating': [5, 3, 1, 4, 2, 5, 4, 3, 1, 2, 5, 4],\n",
        "}\n",
        "\n",
        "df = pd.DataFrame(ratings_dict)\n",
        "\n",
        "# Define a Reader and load the dataset\n",
        "reader = Reader(rating_scale=(1, 5))\n",
        "data = Dataset.load_from_df(df[['userID', 'itemID', 'rating']], reader)\n",
        "\n",
        "# Split the dataset for training and testing\n",
        "trainset, testset = train_test_split(data, test_size=0.25)\n",
        "\n",
        "# Use the SVD algorithm\n",
        "algo = SVD()\n",
        "\n",
        "# Train and test the algorithm\n",
        "algo.fit(trainset)\n",
        "predictions = algo.test(testset)\n",
        "\n",
        "# Compute RMSE\n",
        "print(\"RMSE on Test Set:\")\n",
        "print(rmse(predictions))"
      ],
      "metadata": {
        "colab": {
          "base_uri": "https://localhost:8080/"
        },
        "id": "iAEuofilm1OX",
        "outputId": "41720fe9-29fd-4b63-9151-916f09cce39a"
      },
      "execution_count": null,
      "outputs": [
        {
          "output_type": "stream",
          "name": "stdout",
          "text": [
            "RMSE on Test Set:\n",
            "RMSE: 1.1520\n",
            "1.151980477406613\n"
          ]
        }
      ]
    },
    {
      "cell_type": "code",
      "source": [
        "# Define a Reader and load the dataset\n",
        "reader = Reader(rating_scale=(1, 5))\n",
        "data = Dataset.load_from_df(df[['userID', 'itemID', 'rating']], reader)\n",
        "\n",
        "# Split the dataset for training and testing\n",
        "trainset, testset = train_test_split(data, test_size=0.25)\n",
        "\n",
        "# Use the SVD algorithm\n",
        "algo = SVD()\n",
        "\n",
        "# Train and test the algorithm\n",
        "algo.fit(trainset)\n",
        "predictions = algo.test(testset)\n",
        "\n",
        "# Compute RMSE\n",
        "print(\"RMSE on Test Set:\")\n",
        "rmse_val = rmse(predictions)\n",
        "\n",
        "# Print predictions\n",
        "print(\"\\nPredictions:\")\n",
        "for prediction in predictions:\n",
        "    print(prediction)"
      ],
      "metadata": {
        "colab": {
          "base_uri": "https://localhost:8080/"
        },
        "id": "rwFXQAx4obLH",
        "outputId": "f1c7679b-df5d-4bad-918a-25f511946cb8"
      },
      "execution_count": null,
      "outputs": [
        {
          "output_type": "stream",
          "name": "stdout",
          "text": [
            "RMSE on Test Set:\n",
            "RMSE: 1.1389\n",
            "\n",
            "Predictions:\n",
            "user: 1          item: 1          r_ui = 5.00   est = 3.41   {'was_impossible': False}\n",
            "user: 1          item: 2          r_ui = 3.00   est = 2.60   {'was_impossible': False}\n",
            "user: 5          item: 3          r_ui = 4.00   est = 2.90   {'was_impossible': False}\n"
          ]
        }
      ]
    },
    {
      "cell_type": "markdown",
      "source": [
        "# Hybrid approach"
      ],
      "metadata": {
        "id": "E0kwzfL8qfdm"
      }
    },
    {
      "cell_type": "code",
      "source": [
        "# Hypothetical content-based prediction for the same testset\n",
        "content_based_predictions = [2.5, 3.5, 4.0, 3.0]  # Example content-based predictions\n",
        "\n",
        "# Combine the predictions (assuming both sets are aligned and of the same length)\n",
        "combined_predictions = [(cb + cf.est)/2 for cb, cf in zip(content_based_predictions, predictions)]\n",
        "\n",
        "print(\"Combined Predictions:\")\n",
        "print(combined_predictions)"
      ],
      "metadata": {
        "colab": {
          "base_uri": "https://localhost:8080/"
        },
        "id": "QYuXozeypFwl",
        "outputId": "34a98d66-c246-4370-c803-c84ce9a78013"
      },
      "execution_count": null,
      "outputs": [
        {
          "output_type": "stream",
          "name": "stdout",
          "text": [
            "Combined Predictions:\n",
            "[2.9545777454532516, 3.05219344417636, 3.4514390668942605]\n"
          ]
        }
      ]
    },
    {
      "cell_type": "code",
      "source": [],
      "metadata": {
        "id": "7ROBoHIvqnTo"
      },
      "execution_count": null,
      "outputs": []
    }
  ]
}