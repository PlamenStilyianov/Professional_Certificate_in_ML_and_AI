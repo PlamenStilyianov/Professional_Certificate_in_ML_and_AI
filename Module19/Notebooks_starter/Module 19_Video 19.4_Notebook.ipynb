{
 "cells": [
  {
   "cell_type": "code",
   "execution_count": 269,
   "metadata": {
    "ExecuteTime": {
     "end_time": "2024-02-13T21:12:08.633121400Z",
     "start_time": "2024-02-13T21:12:07.767381800Z"
    }
   },
   "outputs": [],
   "source": [
    "import pandas as pd\n",
    "import numpy as np\n",
    "import warnings\n",
    "\n",
    "warnings.filterwarnings(\"ignore\")"
   ],
   "id": "d736bad62191be01"
  },
  {
   "cell_type": "markdown",
   "source": [
    "#### a panel of experts sat down with each of these albums and assigned a rating from zero to one for these two features.\n",
    "<img src=\"images/album_rated.png\">"
   ],
   "metadata": {
    "collapsed": false
   },
   "id": "660ad5ced38d8cda"
  },
  {
   "cell_type": "markdown",
   "source": [
    "## Content Filtering: Manually Fitting A Model for One User"
   ],
   "metadata": {},
   "id": "be44313061e3b766"
  },
  {
   "cell_type": "code",
   "execution_count": 270,
   "metadata": {
    "ExecuteTime": {
     "end_time": "2024-02-13T21:12:08.728606500Z",
     "start_time": "2024-02-13T21:12:08.632112800Z"
    }
   },
   "outputs": [
    {
     "data": {
      "text/plain": "        artist  lofi_indie  slick_pop  an_ratings\n0       ommazh        0.80       0.10           5\n1  melt banana        0.95       0.01           5\n2          bts        0.05       0.99           0\n3    zhou shen        0.02       0.95           1\n4        sanam        0.20       0.90           1",
      "text/html": "<div>\n<style scoped>\n    .dataframe tbody tr th:only-of-type {\n        vertical-align: middle;\n    }\n\n    .dataframe tbody tr th {\n        vertical-align: top;\n    }\n\n    .dataframe thead th {\n        text-align: right;\n    }\n</style>\n<table border=\"1\" class=\"dataframe\">\n  <thead>\n    <tr style=\"text-align: right;\">\n      <th></th>\n      <th>artist</th>\n      <th>lofi_indie</th>\n      <th>slick_pop</th>\n      <th>an_ratings</th>\n    </tr>\n  </thead>\n  <tbody>\n    <tr>\n      <th>0</th>\n      <td>ommazh</td>\n      <td>0.80</td>\n      <td>0.10</td>\n      <td>5</td>\n    </tr>\n    <tr>\n      <th>1</th>\n      <td>melt banana</td>\n      <td>0.95</td>\n      <td>0.01</td>\n      <td>5</td>\n    </tr>\n    <tr>\n      <th>2</th>\n      <td>bts</td>\n      <td>0.05</td>\n      <td>0.99</td>\n      <td>0</td>\n    </tr>\n    <tr>\n      <th>3</th>\n      <td>zhou shen</td>\n      <td>0.02</td>\n      <td>0.95</td>\n      <td>1</td>\n    </tr>\n    <tr>\n      <th>4</th>\n      <td>sanam</td>\n      <td>0.20</td>\n      <td>0.90</td>\n      <td>1</td>\n    </tr>\n  </tbody>\n</table>\n</div>"
     },
     "execution_count": 270,
     "metadata": {},
     "output_type": "execute_result"
    }
   ],
   "source": [
    "df = pd.DataFrame({'artist': [\"ommazh\", \"melt banana\", \"bts\", \"zhou shen\", \"sanam\"], \n",
    "              'lofi_indie': [0.8, 0.95, 0.05, 0.02, 0.2], \n",
    "              'slick_pop': [0.1, 0.01, 0.99, 0.95, 0.9], \n",
    "              'an_ratings': [5, 5, 0, 1, 1]})\n",
    "\n",
    "df"
   ],
   "id": "69c07bcdaa793f7c"
  },
  {
   "cell_type": "code",
   "execution_count": 271,
   "metadata": {
    "ExecuteTime": {
     "end_time": "2024-02-13T21:12:08.770605800Z",
     "start_time": "2024-02-13T21:12:08.669125700Z"
    }
   },
   "outputs": [
    {
     "data": {
      "text/plain": "LinearRegression()",
      "text/html": "<style>#sk-container-id-7 {color: black;}#sk-container-id-7 pre{padding: 0;}#sk-container-id-7 div.sk-toggleable {background-color: white;}#sk-container-id-7 label.sk-toggleable__label {cursor: pointer;display: block;width: 100%;margin-bottom: 0;padding: 0.3em;box-sizing: border-box;text-align: center;}#sk-container-id-7 label.sk-toggleable__label-arrow:before {content: \"▸\";float: left;margin-right: 0.25em;color: #696969;}#sk-container-id-7 label.sk-toggleable__label-arrow:hover:before {color: black;}#sk-container-id-7 div.sk-estimator:hover label.sk-toggleable__label-arrow:before {color: black;}#sk-container-id-7 div.sk-toggleable__content {max-height: 0;max-width: 0;overflow: hidden;text-align: left;background-color: #f0f8ff;}#sk-container-id-7 div.sk-toggleable__content pre {margin: 0.2em;color: black;border-radius: 0.25em;background-color: #f0f8ff;}#sk-container-id-7 input.sk-toggleable__control:checked~div.sk-toggleable__content {max-height: 200px;max-width: 100%;overflow: auto;}#sk-container-id-7 input.sk-toggleable__control:checked~label.sk-toggleable__label-arrow:before {content: \"▾\";}#sk-container-id-7 div.sk-estimator input.sk-toggleable__control:checked~label.sk-toggleable__label {background-color: #d4ebff;}#sk-container-id-7 div.sk-label input.sk-toggleable__control:checked~label.sk-toggleable__label {background-color: #d4ebff;}#sk-container-id-7 input.sk-hidden--visually {border: 0;clip: rect(1px 1px 1px 1px);clip: rect(1px, 1px, 1px, 1px);height: 1px;margin: -1px;overflow: hidden;padding: 0;position: absolute;width: 1px;}#sk-container-id-7 div.sk-estimator {font-family: monospace;background-color: #f0f8ff;border: 1px dotted black;border-radius: 0.25em;box-sizing: border-box;margin-bottom: 0.5em;}#sk-container-id-7 div.sk-estimator:hover {background-color: #d4ebff;}#sk-container-id-7 div.sk-parallel-item::after {content: \"\";width: 100%;border-bottom: 1px solid gray;flex-grow: 1;}#sk-container-id-7 div.sk-label:hover label.sk-toggleable__label {background-color: #d4ebff;}#sk-container-id-7 div.sk-serial::before {content: \"\";position: absolute;border-left: 1px solid gray;box-sizing: border-box;top: 0;bottom: 0;left: 50%;z-index: 0;}#sk-container-id-7 div.sk-serial {display: flex;flex-direction: column;align-items: center;background-color: white;padding-right: 0.2em;padding-left: 0.2em;position: relative;}#sk-container-id-7 div.sk-item {position: relative;z-index: 1;}#sk-container-id-7 div.sk-parallel {display: flex;align-items: stretch;justify-content: center;background-color: white;position: relative;}#sk-container-id-7 div.sk-item::before, #sk-container-id-7 div.sk-parallel-item::before {content: \"\";position: absolute;border-left: 1px solid gray;box-sizing: border-box;top: 0;bottom: 0;left: 50%;z-index: -1;}#sk-container-id-7 div.sk-parallel-item {display: flex;flex-direction: column;z-index: 1;position: relative;background-color: white;}#sk-container-id-7 div.sk-parallel-item:first-child::after {align-self: flex-end;width: 50%;}#sk-container-id-7 div.sk-parallel-item:last-child::after {align-self: flex-start;width: 50%;}#sk-container-id-7 div.sk-parallel-item:only-child::after {width: 0;}#sk-container-id-7 div.sk-dashed-wrapped {border: 1px dashed gray;margin: 0 0.4em 0.5em 0.4em;box-sizing: border-box;padding-bottom: 0.4em;background-color: white;}#sk-container-id-7 div.sk-label label {font-family: monospace;font-weight: bold;display: inline-block;line-height: 1.2em;}#sk-container-id-7 div.sk-label-container {text-align: center;}#sk-container-id-7 div.sk-container {/* jupyter's `normalize.less` sets `[hidden] { display: none; }` but bootstrap.min.css set `[hidden] { display: none !important; }` so we also need the `!important` here to be able to override the default hidden behavior on the sphinx rendered scikit-learn.org. See: https://github.com/scikit-learn/scikit-learn/issues/21755 */display: inline-block !important;position: relative;}#sk-container-id-7 div.sk-text-repr-fallback {display: none;}</style><div id=\"sk-container-id-7\" class=\"sk-top-container\"><div class=\"sk-text-repr-fallback\"><pre>LinearRegression()</pre><b>In a Jupyter environment, please rerun this cell to show the HTML representation or trust the notebook. <br />On GitHub, the HTML representation is unable to render, please try loading this page with nbviewer.org.</b></div><div class=\"sk-container\" hidden><div class=\"sk-item\"><div class=\"sk-estimator sk-toggleable\"><input class=\"sk-toggleable__control sk-hidden--visually\" id=\"sk-estimator-id-7\" type=\"checkbox\" checked><label for=\"sk-estimator-id-7\" class=\"sk-toggleable__label sk-toggleable__label-arrow\">LinearRegression</label><div class=\"sk-toggleable__content\"><pre>LinearRegression()</pre></div></div></div></div></div>"
     },
     "execution_count": 271,
     "metadata": {},
     "output_type": "execute_result"
    }
   ],
   "source": [
    "from sklearn.linear_model import LinearRegression\n",
    "model = LinearRegression()\n",
    "model.fit(df[[\"lofi_indie\", \"slick_pop\"]], df[\"an_ratings\"])"
   ],
   "id": "d21557646b14a65d"
  },
  {
   "cell_type": "code",
   "execution_count": 272,
   "metadata": {
    "ExecuteTime": {
     "end_time": "2024-02-13T21:12:08.898292400Z",
     "start_time": "2024-02-13T21:12:08.755605900Z"
    }
   },
   "outputs": [
    {
     "data": {
      "text/plain": "array([-2.62715548, -7.19503777])"
     },
     "execution_count": 272,
     "metadata": {},
     "output_type": "execute_result"
    }
   ],
   "source": [
    "model.coef_"
   ],
   "id": "a5b3ed07e6b52324"
  },
  {
   "cell_type": "code",
   "execution_count": 273,
   "metadata": {
    "ExecuteTime": {
     "end_time": "2024-02-13T21:12:08.971291800Z",
     "start_time": "2024-02-13T21:12:08.865380700Z"
    }
   },
   "outputs": [
    {
     "data": {
      "text/plain": "7.70644309800463"
     },
     "execution_count": 273,
     "metadata": {},
     "output_type": "execute_result"
    }
   ],
   "source": [
    "model.intercept_"
   ],
   "id": "25b5d0cf2a54e13b"
  },
  {
   "cell_type": "markdown",
   "source": [
    "#### The prediction is the dot product of An's user factors with the item's factors"
   ],
   "metadata": {
    "collapsed": false
   },
   "id": "3a7564021093cadf"
  },
  {
   "cell_type": "code",
   "execution_count": 274,
   "metadata": {
    "ExecuteTime": {
     "end_time": "2024-02-13T21:12:09.068037200Z",
     "start_time": "2024-02-13T21:12:08.970292300Z"
    }
   },
   "outputs": [
    {
     "data": {
      "text/plain": "array([4.88521494, 5.13869502, 0.45199793, 0.8186141 , 0.70547801])"
     },
     "execution_count": 274,
     "metadata": {},
     "output_type": "execute_result"
    }
   ],
   "source": [
    "model.predict(df[[\"lofi_indie\", \"slick_pop\"]])"
   ],
   "id": "5eb9f00db9152f53"
  },
  {
   "cell_type": "code",
   "execution_count": 275,
   "metadata": {
    "ExecuteTime": {
     "end_time": "2024-02-13T21:12:09.089037100Z",
     "start_time": "2024-02-13T21:12:09.049911600Z"
    }
   },
   "outputs": [
    {
     "data": {
      "text/plain": "        artist  lofi_indie  slick_pop  an_ratings  predictions\n0       ommazh        0.80       0.10           5     4.885215\n1  melt banana        0.95       0.01           5     5.138695\n2          bts        0.05       0.99           0     0.451998\n3    zhou shen        0.02       0.95           1     0.818614\n4        sanam        0.20       0.90           1     0.705478",
      "text/html": "<div>\n<style scoped>\n    .dataframe tbody tr th:only-of-type {\n        vertical-align: middle;\n    }\n\n    .dataframe tbody tr th {\n        vertical-align: top;\n    }\n\n    .dataframe thead th {\n        text-align: right;\n    }\n</style>\n<table border=\"1\" class=\"dataframe\">\n  <thead>\n    <tr style=\"text-align: right;\">\n      <th></th>\n      <th>artist</th>\n      <th>lofi_indie</th>\n      <th>slick_pop</th>\n      <th>an_ratings</th>\n      <th>predictions</th>\n    </tr>\n  </thead>\n  <tbody>\n    <tr>\n      <th>0</th>\n      <td>ommazh</td>\n      <td>0.80</td>\n      <td>0.10</td>\n      <td>5</td>\n      <td>4.885215</td>\n    </tr>\n    <tr>\n      <th>1</th>\n      <td>melt banana</td>\n      <td>0.95</td>\n      <td>0.01</td>\n      <td>5</td>\n      <td>5.138695</td>\n    </tr>\n    <tr>\n      <th>2</th>\n      <td>bts</td>\n      <td>0.05</td>\n      <td>0.99</td>\n      <td>0</td>\n      <td>0.451998</td>\n    </tr>\n    <tr>\n      <th>3</th>\n      <td>zhou shen</td>\n      <td>0.02</td>\n      <td>0.95</td>\n      <td>1</td>\n      <td>0.818614</td>\n    </tr>\n    <tr>\n      <th>4</th>\n      <td>sanam</td>\n      <td>0.20</td>\n      <td>0.90</td>\n      <td>1</td>\n      <td>0.705478</td>\n    </tr>\n  </tbody>\n</table>\n</div>"
     },
     "execution_count": 275,
     "metadata": {},
     "output_type": "execute_result"
    }
   ],
   "source": [
    "df[\"predictions\"] = model.predict(df[[\"lofi_indie\", \"slick_pop\"]])\n",
    "df"
   ],
   "id": "72112aa747b83abc"
  },
  {
   "cell_type": "markdown",
   "metadata": {},
   "source": [
    "## Fitting a Model and Making a Prediction for Unseen Data"
   ],
   "id": "6bea8f5bf96abaef"
  },
  {
   "cell_type": "code",
   "execution_count": 276,
   "metadata": {
    "ExecuteTime": {
     "end_time": "2024-02-13T21:12:09.182186100Z",
     "start_time": "2024-02-13T21:12:09.091082800Z"
    }
   },
   "outputs": [
    {
     "data": {
      "text/plain": "        artist  lofi_indie  slick_pop  bhavana_ratings\n0       ommazh        0.80       0.10                4\n1  melt banana        0.95       0.01                5\n2    zhou shen        0.02       0.95                1\n3        sanam        0.20       0.90                1",
      "text/html": "<div>\n<style scoped>\n    .dataframe tbody tr th:only-of-type {\n        vertical-align: middle;\n    }\n\n    .dataframe tbody tr th {\n        vertical-align: top;\n    }\n\n    .dataframe thead th {\n        text-align: right;\n    }\n</style>\n<table border=\"1\" class=\"dataframe\">\n  <thead>\n    <tr style=\"text-align: right;\">\n      <th></th>\n      <th>artist</th>\n      <th>lofi_indie</th>\n      <th>slick_pop</th>\n      <th>bhavana_ratings</th>\n    </tr>\n  </thead>\n  <tbody>\n    <tr>\n      <th>0</th>\n      <td>ommazh</td>\n      <td>0.80</td>\n      <td>0.10</td>\n      <td>4</td>\n    </tr>\n    <tr>\n      <th>1</th>\n      <td>melt banana</td>\n      <td>0.95</td>\n      <td>0.01</td>\n      <td>5</td>\n    </tr>\n    <tr>\n      <th>2</th>\n      <td>zhou shen</td>\n      <td>0.02</td>\n      <td>0.95</td>\n      <td>1</td>\n    </tr>\n    <tr>\n      <th>3</th>\n      <td>sanam</td>\n      <td>0.20</td>\n      <td>0.90</td>\n      <td>1</td>\n    </tr>\n  </tbody>\n</table>\n</div>"
     },
     "execution_count": 276,
     "metadata": {},
     "output_type": "execute_result"
    }
   ],
   "source": [
    "dfb = pd.DataFrame({'artist': [\"ommazh\", \"melt banana\", \"zhou shen\", \"sanam\"], \n",
    "              'lofi_indie': [0.8, 0.95, 0.02, 0.2], \n",
    "              'slick_pop': [0.1, 0.01, 0.95, 0.9], \n",
    "              'bhavana_ratings': [4, 5, 1, 1]})\n",
    "\n",
    "dfb"
   ],
   "id": "8454c315cb8ccca3"
  },
  {
   "cell_type": "code",
   "execution_count": 277,
   "metadata": {
    "scrolled": true,
    "ExecuteTime": {
     "end_time": "2024-02-13T21:12:09.236785500Z",
     "start_time": "2024-02-13T21:12:09.151168900Z"
    }
   },
   "outputs": [
    {
     "data": {
      "text/plain": "4.045828058832336"
     },
     "execution_count": 277,
     "metadata": {},
     "output_type": "execute_result"
    }
   ],
   "source": [
    "modelb = LinearRegression()\n",
    "modelb.fit(dfb[[\"lofi_indie\", \"slick_pop\"]], dfb[\"bhavana_ratings\"])\n",
    "modelb.intercept_"
   ],
   "id": "1cd92ad673bd955"
  },
  {
   "cell_type": "code",
   "execution_count": 278,
   "metadata": {
    "ExecuteTime": {
     "end_time": "2024-02-13T21:12:09.339780200Z",
     "start_time": "2024-02-13T21:12:09.220780600Z"
    }
   },
   "outputs": [
    {
     "data": {
      "text/plain": "array([ 0.74456621, -3.39291208])"
     },
     "execution_count": 278,
     "metadata": {},
     "output_type": "execute_result"
    }
   ],
   "source": [
    "modelb.coef_"
   ],
   "id": "7f3b2908dbe4657"
  },
  {
   "cell_type": "code",
   "execution_count": 279,
   "metadata": {
    "ExecuteTime": {
     "end_time": "2024-02-13T21:12:09.444612100Z",
     "start_time": "2024-02-13T21:12:09.340780800Z"
    }
   },
   "outputs": [
    {
     "data": {
      "text/plain": "array([4.30218982, 4.71923684, 0.72407341, 0.83745291, 1.14112043])"
     },
     "execution_count": 279,
     "metadata": {},
     "output_type": "execute_result"
    }
   ],
   "source": [
    "modelb.predict(df[[\"lofi_indie\", \"slick_pop\"]])"
   ],
   "id": "e480bc56b68b5e83"
  },
  {
   "cell_type": "code",
   "execution_count": 280,
   "metadata": {
    "ExecuteTime": {
     "end_time": "2024-02-13T21:12:09.497611800Z",
     "start_time": "2024-02-13T21:12:09.437697900Z"
    }
   },
   "outputs": [],
   "source": [
    "dfb[\"predictions\"] = modelb.predict(dfb[[\"lofi_indie\", \"slick_pop\"]])"
   ],
   "id": "8e74130c3786df94"
  },
  {
   "cell_type": "code",
   "execution_count": 281,
   "metadata": {
    "ExecuteTime": {
     "end_time": "2024-02-13T21:12:09.554212400Z",
     "start_time": "2024-02-13T21:12:09.481612Z"
    }
   },
   "outputs": [
    {
     "data": {
      "text/plain": "        artist  lofi_indie  slick_pop  bhavana_ratings  predictions\n0       ommazh        0.80       0.10                4     4.302190\n1  melt banana        0.95       0.01                5     4.719237\n2    zhou shen        0.02       0.95                1     0.837453\n3        sanam        0.20       0.90                1     1.141120",
      "text/html": "<div>\n<style scoped>\n    .dataframe tbody tr th:only-of-type {\n        vertical-align: middle;\n    }\n\n    .dataframe tbody tr th {\n        vertical-align: top;\n    }\n\n    .dataframe thead th {\n        text-align: right;\n    }\n</style>\n<table border=\"1\" class=\"dataframe\">\n  <thead>\n    <tr style=\"text-align: right;\">\n      <th></th>\n      <th>artist</th>\n      <th>lofi_indie</th>\n      <th>slick_pop</th>\n      <th>bhavana_ratings</th>\n      <th>predictions</th>\n    </tr>\n  </thead>\n  <tbody>\n    <tr>\n      <th>0</th>\n      <td>ommazh</td>\n      <td>0.80</td>\n      <td>0.10</td>\n      <td>4</td>\n      <td>4.302190</td>\n    </tr>\n    <tr>\n      <th>1</th>\n      <td>melt banana</td>\n      <td>0.95</td>\n      <td>0.01</td>\n      <td>5</td>\n      <td>4.719237</td>\n    </tr>\n    <tr>\n      <th>2</th>\n      <td>zhou shen</td>\n      <td>0.02</td>\n      <td>0.95</td>\n      <td>1</td>\n      <td>0.837453</td>\n    </tr>\n    <tr>\n      <th>3</th>\n      <td>sanam</td>\n      <td>0.20</td>\n      <td>0.90</td>\n      <td>1</td>\n      <td>1.141120</td>\n    </tr>\n  </tbody>\n</table>\n</div>"
     },
     "execution_count": 281,
     "metadata": {},
     "output_type": "execute_result"
    }
   ],
   "source": [
    "dfb"
   ],
   "id": "fa04824b0d00d080"
  },
  {
   "cell_type": "code",
   "execution_count": 282,
   "metadata": {
    "ExecuteTime": {
     "end_time": "2024-02-13T21:12:09.635380400Z",
     "start_time": "2024-02-13T21:12:09.555212400Z"
    }
   },
   "outputs": [
    {
     "data": {
      "text/plain": "array([0.72407341])"
     },
     "execution_count": 282,
     "metadata": {},
     "output_type": "execute_result"
    }
   ],
   "source": [
    "modelb.predict([[0.05, 0.99]])"
   ],
   "id": "9810e4c10571d190"
  },
  {
   "cell_type": "code",
   "execution_count": 283,
   "metadata": {
    "ExecuteTime": {
     "end_time": "2024-02-13T21:12:09.659381200Z",
     "start_time": "2024-02-13T21:12:09.608380Z"
    }
   },
   "outputs": [
    {
     "data": {
      "text/plain": "        artist  lofi_indie  slick_pop  bhavana_ratings\n0       ommazh        0.80       0.10              4.0\n1  melt banana        0.95       0.01              5.0\n2          bts        0.05       0.99              NaN\n3    zhou shen        0.02       0.95              1.0\n4        sanam        0.20       0.90              1.0",
      "text/html": "<div>\n<style scoped>\n    .dataframe tbody tr th:only-of-type {\n        vertical-align: middle;\n    }\n\n    .dataframe tbody tr th {\n        vertical-align: top;\n    }\n\n    .dataframe thead th {\n        text-align: right;\n    }\n</style>\n<table border=\"1\" class=\"dataframe\">\n  <thead>\n    <tr style=\"text-align: right;\">\n      <th></th>\n      <th>artist</th>\n      <th>lofi_indie</th>\n      <th>slick_pop</th>\n      <th>bhavana_ratings</th>\n    </tr>\n  </thead>\n  <tbody>\n    <tr>\n      <th>0</th>\n      <td>ommazh</td>\n      <td>0.80</td>\n      <td>0.10</td>\n      <td>4.0</td>\n    </tr>\n    <tr>\n      <th>1</th>\n      <td>melt banana</td>\n      <td>0.95</td>\n      <td>0.01</td>\n      <td>5.0</td>\n    </tr>\n    <tr>\n      <th>2</th>\n      <td>bts</td>\n      <td>0.05</td>\n      <td>0.99</td>\n      <td>NaN</td>\n    </tr>\n    <tr>\n      <th>3</th>\n      <td>zhou shen</td>\n      <td>0.02</td>\n      <td>0.95</td>\n      <td>1.0</td>\n    </tr>\n    <tr>\n      <th>4</th>\n      <td>sanam</td>\n      <td>0.20</td>\n      <td>0.90</td>\n      <td>1.0</td>\n    </tr>\n  </tbody>\n</table>\n</div>"
     },
     "execution_count": 283,
     "metadata": {},
     "output_type": "execute_result"
    }
   ],
   "source": [
    "dfb_alt = pd.DataFrame({'artist': [\"ommazh\", \"melt banana\", \"bts\", \"zhou shen\", \"sanam\"], \n",
    "              'lofi_indie': [0.8, 0.95, 0.05, 0.02, 0.2], \n",
    "              'slick_pop': [0.1, 0.01, 0.99, 0.95, 0.9], \n",
    "              'bhavana_ratings': [4, 5, None, 1, 1]})\n",
    "dfb_alt"
   ],
   "id": "e99e2709e0fb912e"
  },
  {
   "cell_type": "code",
   "execution_count": 284,
   "metadata": {
    "ExecuteTime": {
     "end_time": "2024-02-13T21:12:09.777380500Z",
     "start_time": "2024-02-13T21:12:09.657386700Z"
    }
   },
   "outputs": [],
   "source": [
    "dfb_alt[\"predictions\"] = modelb.predict(dfb_alt[[\"lofi_indie\", \"slick_pop\"]])"
   ],
   "id": "19af0fff8c9c6d91"
  },
  {
   "cell_type": "code",
   "execution_count": 285,
   "metadata": {
    "ExecuteTime": {
     "end_time": "2024-02-13T21:12:09.841951300Z",
     "start_time": "2024-02-13T21:12:09.711380100Z"
    }
   },
   "outputs": [
    {
     "data": {
      "text/plain": "        artist  lofi_indie  slick_pop  bhavana_ratings  predictions\n0       ommazh        0.80       0.10              4.0     4.302190\n1  melt banana        0.95       0.01              5.0     4.719237\n2          bts        0.05       0.99              NaN     0.724073\n3    zhou shen        0.02       0.95              1.0     0.837453\n4        sanam        0.20       0.90              1.0     1.141120",
      "text/html": "<div>\n<style scoped>\n    .dataframe tbody tr th:only-of-type {\n        vertical-align: middle;\n    }\n\n    .dataframe tbody tr th {\n        vertical-align: top;\n    }\n\n    .dataframe thead th {\n        text-align: right;\n    }\n</style>\n<table border=\"1\" class=\"dataframe\">\n  <thead>\n    <tr style=\"text-align: right;\">\n      <th></th>\n      <th>artist</th>\n      <th>lofi_indie</th>\n      <th>slick_pop</th>\n      <th>bhavana_ratings</th>\n      <th>predictions</th>\n    </tr>\n  </thead>\n  <tbody>\n    <tr>\n      <th>0</th>\n      <td>ommazh</td>\n      <td>0.80</td>\n      <td>0.10</td>\n      <td>4.0</td>\n      <td>4.302190</td>\n    </tr>\n    <tr>\n      <th>1</th>\n      <td>melt banana</td>\n      <td>0.95</td>\n      <td>0.01</td>\n      <td>5.0</td>\n      <td>4.719237</td>\n    </tr>\n    <tr>\n      <th>2</th>\n      <td>bts</td>\n      <td>0.05</td>\n      <td>0.99</td>\n      <td>NaN</td>\n      <td>0.724073</td>\n    </tr>\n    <tr>\n      <th>3</th>\n      <td>zhou shen</td>\n      <td>0.02</td>\n      <td>0.95</td>\n      <td>1.0</td>\n      <td>0.837453</td>\n    </tr>\n    <tr>\n      <th>4</th>\n      <td>sanam</td>\n      <td>0.20</td>\n      <td>0.90</td>\n      <td>1.0</td>\n      <td>1.141120</td>\n    </tr>\n  </tbody>\n</table>\n</div>"
     },
     "execution_count": 285,
     "metadata": {},
     "output_type": "execute_result"
    }
   ],
   "source": [
    "dfb_alt"
   ],
   "id": "56e2ea12af419103"
  },
  {
   "cell_type": "markdown",
   "metadata": {},
   "source": [
    "## Repeating this for Cordelia and Diego"
   ],
   "id": "3a5a65d017e2a00d"
  },
  {
   "cell_type": "code",
   "execution_count": 286,
   "metadata": {
    "ExecuteTime": {
     "end_time": "2024-02-13T21:12:09.925161200Z",
     "start_time": "2024-02-13T21:12:09.804802700Z"
    }
   },
   "outputs": [
    {
     "data": {
      "text/plain": "        artist  lofi_indie  slick_pop  cordelia_ratings\n0       ommazh        0.80       0.10               NaN\n1  melt banana        0.95       0.01               2.0\n2          bts        0.05       0.99               4.0\n3    zhou shen        0.02       0.95               5.0\n4        sanam        0.20       0.90               5.0",
      "text/html": "<div>\n<style scoped>\n    .dataframe tbody tr th:only-of-type {\n        vertical-align: middle;\n    }\n\n    .dataframe tbody tr th {\n        vertical-align: top;\n    }\n\n    .dataframe thead th {\n        text-align: right;\n    }\n</style>\n<table border=\"1\" class=\"dataframe\">\n  <thead>\n    <tr style=\"text-align: right;\">\n      <th></th>\n      <th>artist</th>\n      <th>lofi_indie</th>\n      <th>slick_pop</th>\n      <th>cordelia_ratings</th>\n    </tr>\n  </thead>\n  <tbody>\n    <tr>\n      <th>0</th>\n      <td>ommazh</td>\n      <td>0.80</td>\n      <td>0.10</td>\n      <td>NaN</td>\n    </tr>\n    <tr>\n      <th>1</th>\n      <td>melt banana</td>\n      <td>0.95</td>\n      <td>0.01</td>\n      <td>2.0</td>\n    </tr>\n    <tr>\n      <th>2</th>\n      <td>bts</td>\n      <td>0.05</td>\n      <td>0.99</td>\n      <td>4.0</td>\n    </tr>\n    <tr>\n      <th>3</th>\n      <td>zhou shen</td>\n      <td>0.02</td>\n      <td>0.95</td>\n      <td>5.0</td>\n    </tr>\n    <tr>\n      <th>4</th>\n      <td>sanam</td>\n      <td>0.20</td>\n      <td>0.90</td>\n      <td>5.0</td>\n    </tr>\n  </tbody>\n</table>\n</div>"
     },
     "execution_count": 286,
     "metadata": {},
     "output_type": "execute_result"
    }
   ],
   "source": [
    "dfc = pd.DataFrame({'artist': [\"ommazh\", \"melt banana\", \"bts\", \"zhou shen\", \"sanam\"], \n",
    "              'lofi_indie': [0.8, 0.95, 0.05, 0.02, 0.2], \n",
    "              'slick_pop': [0.1, 0.01, 0.99, 0.95, 0.9], \n",
    "              'cordelia_ratings': [None, 2, 4, 5, 5]})\n",
    "dfc"
   ],
   "id": "78150548d73fdda9"
  },
  {
   "cell_type": "code",
   "execution_count": 287,
   "metadata": {
    "ExecuteTime": {
     "end_time": "2024-02-13T21:12:10.048161Z",
     "start_time": "2024-02-13T21:12:09.906951200Z"
    }
   },
   "outputs": [
    {
     "data": {
      "text/plain": "        artist  lofi_indie  slick_pop  cordelia_ratings  predictions\n0       ommazh        0.80       0.10               NaN     2.232270\n1  melt banana        0.95       0.01               2.0     2.054475\n2          bts        0.05       0.99               4.0     4.768290\n3    zhou shen        0.02       0.95               5.0     4.586739\n4        sanam        0.20       0.90               5.0     4.590496",
      "text/html": "<div>\n<style scoped>\n    .dataframe tbody tr th:only-of-type {\n        vertical-align: middle;\n    }\n\n    .dataframe tbody tr th {\n        vertical-align: top;\n    }\n\n    .dataframe thead th {\n        text-align: right;\n    }\n</style>\n<table border=\"1\" class=\"dataframe\">\n  <thead>\n    <tr style=\"text-align: right;\">\n      <th></th>\n      <th>artist</th>\n      <th>lofi_indie</th>\n      <th>slick_pop</th>\n      <th>cordelia_ratings</th>\n      <th>predictions</th>\n    </tr>\n  </thead>\n  <tbody>\n    <tr>\n      <th>0</th>\n      <td>ommazh</td>\n      <td>0.80</td>\n      <td>0.10</td>\n      <td>NaN</td>\n      <td>2.232270</td>\n    </tr>\n    <tr>\n      <th>1</th>\n      <td>melt banana</td>\n      <td>0.95</td>\n      <td>0.01</td>\n      <td>2.0</td>\n      <td>2.054475</td>\n    </tr>\n    <tr>\n      <th>2</th>\n      <td>bts</td>\n      <td>0.05</td>\n      <td>0.99</td>\n      <td>4.0</td>\n      <td>4.768290</td>\n    </tr>\n    <tr>\n      <th>3</th>\n      <td>zhou shen</td>\n      <td>0.02</td>\n      <td>0.95</td>\n      <td>5.0</td>\n      <td>4.586739</td>\n    </tr>\n    <tr>\n      <th>4</th>\n      <td>sanam</td>\n      <td>0.20</td>\n      <td>0.90</td>\n      <td>5.0</td>\n      <td>4.590496</td>\n    </tr>\n  </tbody>\n</table>\n</div>"
     },
     "execution_count": 287,
     "metadata": {},
     "output_type": "execute_result"
    }
   ],
   "source": [
    "modelc = LinearRegression()\n",
    "dfc_no_missing = dfc.dropna()\n",
    "modelc.fit(dfc_no_missing[[\"lofi_indie\", \"slick_pop\"]], dfc_no_missing[\"cordelia_ratings\"])\n",
    "dfc[\"predictions\"] = modelc.predict(dfc[[\"lofi_indie\", \"slick_pop\"]])\n",
    "dfc"
   ],
   "id": "d517a7f3e528c433"
  },
  {
   "cell_type": "code",
   "execution_count": 288,
   "metadata": {
    "ExecuteTime": {
     "end_time": "2024-02-13T21:12:10.092161300Z",
     "start_time": "2024-02-13T21:12:09.973160900Z"
    }
   },
   "outputs": [
    {
     "data": {
      "text/plain": "        artist  lofi_indie  slick_pop  diego_ratings\n0       ommazh        0.80       0.10            2.0\n1  melt banana        0.95       0.01            NaN\n2          bts        0.05       0.99            5.0\n3    zhou shen        0.02       0.95            NaN\n4        sanam        0.20       0.90            4.0",
      "text/html": "<div>\n<style scoped>\n    .dataframe tbody tr th:only-of-type {\n        vertical-align: middle;\n    }\n\n    .dataframe tbody tr th {\n        vertical-align: top;\n    }\n\n    .dataframe thead th {\n        text-align: right;\n    }\n</style>\n<table border=\"1\" class=\"dataframe\">\n  <thead>\n    <tr style=\"text-align: right;\">\n      <th></th>\n      <th>artist</th>\n      <th>lofi_indie</th>\n      <th>slick_pop</th>\n      <th>diego_ratings</th>\n    </tr>\n  </thead>\n  <tbody>\n    <tr>\n      <th>0</th>\n      <td>ommazh</td>\n      <td>0.80</td>\n      <td>0.10</td>\n      <td>2.0</td>\n    </tr>\n    <tr>\n      <th>1</th>\n      <td>melt banana</td>\n      <td>0.95</td>\n      <td>0.01</td>\n      <td>NaN</td>\n    </tr>\n    <tr>\n      <th>2</th>\n      <td>bts</td>\n      <td>0.05</td>\n      <td>0.99</td>\n      <td>5.0</td>\n    </tr>\n    <tr>\n      <th>3</th>\n      <td>zhou shen</td>\n      <td>0.02</td>\n      <td>0.95</td>\n      <td>NaN</td>\n    </tr>\n    <tr>\n      <th>4</th>\n      <td>sanam</td>\n      <td>0.20</td>\n      <td>0.90</td>\n      <td>4.0</td>\n    </tr>\n  </tbody>\n</table>\n</div>"
     },
     "execution_count": 288,
     "metadata": {},
     "output_type": "execute_result"
    }
   ],
   "source": [
    "dfd = pd.DataFrame({'artist': [\"ommazh\", \"melt banana\", \"bts\", \"zhou shen\", \"sanam\"], \n",
    "              'lofi_indie': [0.8, 0.95, 0.05, 0.02, 0.2], \n",
    "              'slick_pop': [0.1, 0.01, 0.99, 0.95, 0.9], \n",
    "              'diego_ratings': [2, None, 5, None, 4]})\n",
    "dfd"
   ],
   "id": "895d5e474b78ca3f"
  },
  {
   "cell_type": "code",
   "execution_count": 289,
   "metadata": {
    "ExecuteTime": {
     "end_time": "2024-02-13T21:12:10.253160900Z",
     "start_time": "2024-02-13T21:12:10.092161300Z"
    }
   },
   "outputs": [
    {
     "data": {
      "text/plain": "        artist  lofi_indie  slick_pop  diego_ratings  predictions\n0       ommazh        0.80       0.10            2.0     2.000000\n1  melt banana        0.95       0.01            NaN     1.000000\n2          bts        0.05       0.99            5.0     5.000000\n3    zhou shen        0.02       0.95            NaN     5.463636\n4        sanam        0.20       0.90            4.0     4.000000",
      "text/html": "<div>\n<style scoped>\n    .dataframe tbody tr th:only-of-type {\n        vertical-align: middle;\n    }\n\n    .dataframe tbody tr th {\n        vertical-align: top;\n    }\n\n    .dataframe thead th {\n        text-align: right;\n    }\n</style>\n<table border=\"1\" class=\"dataframe\">\n  <thead>\n    <tr style=\"text-align: right;\">\n      <th></th>\n      <th>artist</th>\n      <th>lofi_indie</th>\n      <th>slick_pop</th>\n      <th>diego_ratings</th>\n      <th>predictions</th>\n    </tr>\n  </thead>\n  <tbody>\n    <tr>\n      <th>0</th>\n      <td>ommazh</td>\n      <td>0.80</td>\n      <td>0.10</td>\n      <td>2.0</td>\n      <td>2.000000</td>\n    </tr>\n    <tr>\n      <th>1</th>\n      <td>melt banana</td>\n      <td>0.95</td>\n      <td>0.01</td>\n      <td>NaN</td>\n      <td>1.000000</td>\n    </tr>\n    <tr>\n      <th>2</th>\n      <td>bts</td>\n      <td>0.05</td>\n      <td>0.99</td>\n      <td>5.0</td>\n      <td>5.000000</td>\n    </tr>\n    <tr>\n      <th>3</th>\n      <td>zhou shen</td>\n      <td>0.02</td>\n      <td>0.95</td>\n      <td>NaN</td>\n      <td>5.463636</td>\n    </tr>\n    <tr>\n      <th>4</th>\n      <td>sanam</td>\n      <td>0.20</td>\n      <td>0.90</td>\n      <td>4.0</td>\n      <td>4.000000</td>\n    </tr>\n  </tbody>\n</table>\n</div>"
     },
     "execution_count": 289,
     "metadata": {},
     "output_type": "execute_result"
    }
   ],
   "source": [
    "modeld = LinearRegression()\n",
    "dfd_no_missing = dfd.dropna()\n",
    "modeld.fit(dfd_no_missing[[\"lofi_indie\", \"slick_pop\"]], dfd_no_missing[\"diego_ratings\"])\n",
    "dfd[\"predictions\"] = modeld.predict(dfd[[\"lofi_indie\", \"slick_pop\"]])\n",
    "dfd"
   ],
   "id": "6202edc0d1ceeab1"
  },
  {
   "cell_type": "code",
   "execution_count": 290,
   "metadata": {
    "ExecuteTime": {
     "end_time": "2024-02-13T21:12:10.336160600Z",
     "start_time": "2024-02-13T21:12:10.205161200Z"
    }
   },
   "outputs": [
    {
     "data": {
      "text/plain": "array([-9.39393939, -4.54545455])"
     },
     "execution_count": 290,
     "metadata": {},
     "output_type": "execute_result"
    }
   ],
   "source": [
    "modeld.coef_"
   ],
   "id": "dc707f389193b140"
  },
  {
   "cell_type": "markdown",
   "metadata": {},
   "source": [
    "## Collaborative Filtering"
   ],
   "id": "6fa7ee1ecf636d37"
  },
  {
   "cell_type": "markdown",
   "metadata": {},
   "source": [
    "### Using Known User Factors instead of Known Item Factors"
   ],
   "id": "7c3381ce28d14406"
  },
  {
   "cell_type": "code",
   "execution_count": 291,
   "metadata": {
    "ExecuteTime": {
     "end_time": "2024-02-13T21:12:10.467616300Z",
     "start_time": "2024-02-13T21:12:10.316161300Z"
    }
   },
   "outputs": [
    {
     "data": {
      "text/plain": "       user  lofi_indie  slick_pop  ommazh_ratings\n0        an           5          1             5.0\n1   bhavana           4          0             4.0\n2  cordelia           2          5             NaN\n3     diego           2          4             2.0",
      "text/html": "<div>\n<style scoped>\n    .dataframe tbody tr th:only-of-type {\n        vertical-align: middle;\n    }\n\n    .dataframe tbody tr th {\n        vertical-align: top;\n    }\n\n    .dataframe thead th {\n        text-align: right;\n    }\n</style>\n<table border=\"1\" class=\"dataframe\">\n  <thead>\n    <tr style=\"text-align: right;\">\n      <th></th>\n      <th>user</th>\n      <th>lofi_indie</th>\n      <th>slick_pop</th>\n      <th>ommazh_ratings</th>\n    </tr>\n  </thead>\n  <tbody>\n    <tr>\n      <th>0</th>\n      <td>an</td>\n      <td>5</td>\n      <td>1</td>\n      <td>5.0</td>\n    </tr>\n    <tr>\n      <th>1</th>\n      <td>bhavana</td>\n      <td>4</td>\n      <td>0</td>\n      <td>4.0</td>\n    </tr>\n    <tr>\n      <th>2</th>\n      <td>cordelia</td>\n      <td>2</td>\n      <td>5</td>\n      <td>NaN</td>\n    </tr>\n    <tr>\n      <th>3</th>\n      <td>diego</td>\n      <td>2</td>\n      <td>4</td>\n      <td>2.0</td>\n    </tr>\n  </tbody>\n</table>\n</div>"
     },
     "execution_count": 291,
     "metadata": {},
     "output_type": "execute_result"
    }
   ],
   "source": [
    "df1 = pd.DataFrame({'user': [\"an\", \"bhavana\", \"cordelia\", \"diego\"], \n",
    "              'lofi_indie': [5, 4, 2, 2], \n",
    "              'slick_pop': [1, 0, 5, 4], \n",
    "              'ommazh_ratings': [5, 4, None, 2]})\n",
    "df1"
   ],
   "id": "f3fc063fcf3f1e45"
  },
  {
   "cell_type": "code",
   "execution_count": 292,
   "metadata": {
    "ExecuteTime": {
     "end_time": "2024-02-13T21:12:10.531615900Z",
     "start_time": "2024-02-13T21:12:10.458616500Z"
    }
   },
   "outputs": [
    {
     "data": {
      "text/plain": "       user  lofi_indie  slick_pop  ommazh_ratings  predictions\n0        an           5          1             5.0          5.0\n1   bhavana           4          0             4.0          4.0\n2  cordelia           2          5             NaN          2.0\n3     diego           2          4             2.0          2.0",
      "text/html": "<div>\n<style scoped>\n    .dataframe tbody tr th:only-of-type {\n        vertical-align: middle;\n    }\n\n    .dataframe tbody tr th {\n        vertical-align: top;\n    }\n\n    .dataframe thead th {\n        text-align: right;\n    }\n</style>\n<table border=\"1\" class=\"dataframe\">\n  <thead>\n    <tr style=\"text-align: right;\">\n      <th></th>\n      <th>user</th>\n      <th>lofi_indie</th>\n      <th>slick_pop</th>\n      <th>ommazh_ratings</th>\n      <th>predictions</th>\n    </tr>\n  </thead>\n  <tbody>\n    <tr>\n      <th>0</th>\n      <td>an</td>\n      <td>5</td>\n      <td>1</td>\n      <td>5.0</td>\n      <td>5.0</td>\n    </tr>\n    <tr>\n      <th>1</th>\n      <td>bhavana</td>\n      <td>4</td>\n      <td>0</td>\n      <td>4.0</td>\n      <td>4.0</td>\n    </tr>\n    <tr>\n      <th>2</th>\n      <td>cordelia</td>\n      <td>2</td>\n      <td>5</td>\n      <td>NaN</td>\n      <td>2.0</td>\n    </tr>\n    <tr>\n      <th>3</th>\n      <td>diego</td>\n      <td>2</td>\n      <td>4</td>\n      <td>2.0</td>\n      <td>2.0</td>\n    </tr>\n  </tbody>\n</table>\n</div>"
     },
     "execution_count": 292,
     "metadata": {},
     "output_type": "execute_result"
    }
   ],
   "source": [
    "model1 = LinearRegression()\n",
    "df1_no_missing = df1.dropna()\n",
    "model1.fit(df1_no_missing[[\"lofi_indie\", \"slick_pop\"]], df1_no_missing[\"ommazh_ratings\"])\n",
    "df1[\"predictions\"] = model1.predict(df1[[\"lofi_indie\", \"slick_pop\"]])\n",
    "df1"
   ],
   "id": "afe2da2f54be6bc4"
  },
  {
   "cell_type": "code",
   "execution_count": 293,
   "metadata": {
    "ExecuteTime": {
     "end_time": "2024-02-13T21:12:10.637490300Z",
     "start_time": "2024-02-13T21:12:10.524615800Z"
    }
   },
   "outputs": [
    {
     "data": {
      "text/plain": "8.881784197001252e-16"
     },
     "execution_count": 293,
     "metadata": {},
     "output_type": "execute_result"
    }
   ],
   "source": [
    "model1.intercept_"
   ],
   "id": "706a78343ebc9fba"
  },
  {
   "cell_type": "code",
   "execution_count": 294,
   "metadata": {
    "ExecuteTime": {
     "end_time": "2024-02-13T21:12:10.728495Z",
     "start_time": "2024-02-13T21:12:10.619489800Z"
    }
   },
   "outputs": [
    {
     "data": {
      "text/plain": "array([ 1.00000000e+00, -8.99383442e-17])"
     },
     "execution_count": 294,
     "metadata": {},
     "output_type": "execute_result"
    }
   ],
   "source": [
    "model1.coef_"
   ],
   "id": "4c090ce04c20db64"
  },
  {
   "cell_type": "code",
   "execution_count": 295,
   "metadata": {
    "ExecuteTime": {
     "end_time": "2024-02-13T21:12:10.839489900Z",
     "start_time": "2024-02-13T21:12:10.706490Z"
    }
   },
   "outputs": [
    {
     "data": {
      "text/plain": "       user  lofi_indie  slick_pop  bts_ratings\n0        an           5          1          0.0\n1   bhavana           4          0          NaN\n2  cordelia           2          5          4.0\n3     diego           2          4          5.0",
      "text/html": "<div>\n<style scoped>\n    .dataframe tbody tr th:only-of-type {\n        vertical-align: middle;\n    }\n\n    .dataframe tbody tr th {\n        vertical-align: top;\n    }\n\n    .dataframe thead th {\n        text-align: right;\n    }\n</style>\n<table border=\"1\" class=\"dataframe\">\n  <thead>\n    <tr style=\"text-align: right;\">\n      <th></th>\n      <th>user</th>\n      <th>lofi_indie</th>\n      <th>slick_pop</th>\n      <th>bts_ratings</th>\n    </tr>\n  </thead>\n  <tbody>\n    <tr>\n      <th>0</th>\n      <td>an</td>\n      <td>5</td>\n      <td>1</td>\n      <td>0.0</td>\n    </tr>\n    <tr>\n      <th>1</th>\n      <td>bhavana</td>\n      <td>4</td>\n      <td>0</td>\n      <td>NaN</td>\n    </tr>\n    <tr>\n      <th>2</th>\n      <td>cordelia</td>\n      <td>2</td>\n      <td>5</td>\n      <td>4.0</td>\n    </tr>\n    <tr>\n      <th>3</th>\n      <td>diego</td>\n      <td>2</td>\n      <td>4</td>\n      <td>5.0</td>\n    </tr>\n  </tbody>\n</table>\n</div>"
     },
     "execution_count": 295,
     "metadata": {},
     "output_type": "execute_result"
    }
   ],
   "source": [
    "df3 = pd.DataFrame({'user': [\"an\", \"bhavana\", \"cordelia\", \"diego\"], \n",
    "              'lofi_indie': [5, 4, 2, 2], \n",
    "              'slick_pop': [1, 0, 5, 4], \n",
    "              'bts_ratings': [0, None, 4, 5]})\n",
    "df3"
   ],
   "id": "e308b18ae6cc3e82"
  },
  {
   "cell_type": "code",
   "execution_count": 296,
   "metadata": {
    "ExecuteTime": {
     "end_time": "2024-02-13T21:12:10.938683300Z",
     "start_time": "2024-02-13T21:12:10.846490600Z"
    }
   },
   "outputs": [
    {
     "data": {
      "text/plain": "       user  lofi_indie  slick_pop  bts_ratings  predictions\n0        an           5          1          0.0     0.100350\n1   bhavana           4          0          NaN    -0.765461\n2  cordelia           2          5          4.0     4.903151\n3     diego           2          4          5.0     3.845974",
      "text/html": "<div>\n<style scoped>\n    .dataframe tbody tr th:only-of-type {\n        vertical-align: middle;\n    }\n\n    .dataframe tbody tr th {\n        vertical-align: top;\n    }\n\n    .dataframe thead th {\n        text-align: right;\n    }\n</style>\n<table border=\"1\" class=\"dataframe\">\n  <thead>\n    <tr style=\"text-align: right;\">\n      <th></th>\n      <th>user</th>\n      <th>lofi_indie</th>\n      <th>slick_pop</th>\n      <th>bts_ratings</th>\n      <th>predictions</th>\n    </tr>\n  </thead>\n  <tbody>\n    <tr>\n      <th>0</th>\n      <td>an</td>\n      <td>5</td>\n      <td>1</td>\n      <td>0.0</td>\n      <td>0.100350</td>\n    </tr>\n    <tr>\n      <th>1</th>\n      <td>bhavana</td>\n      <td>4</td>\n      <td>0</td>\n      <td>NaN</td>\n      <td>-0.765461</td>\n    </tr>\n    <tr>\n      <th>2</th>\n      <td>cordelia</td>\n      <td>2</td>\n      <td>5</td>\n      <td>4.0</td>\n      <td>4.903151</td>\n    </tr>\n    <tr>\n      <th>3</th>\n      <td>diego</td>\n      <td>2</td>\n      <td>4</td>\n      <td>5.0</td>\n      <td>3.845974</td>\n    </tr>\n  </tbody>\n</table>\n</div>"
     },
     "execution_count": 296,
     "metadata": {},
     "output_type": "execute_result"
    }
   ],
   "source": [
    "model3 = LinearRegression(fit_intercept = False)\n",
    "df3_no_missing = df3.dropna()\n",
    "model3.fit(df3_no_missing[[\"lofi_indie\", \"slick_pop\"]], df3_no_missing[\"bts_ratings\"])\n",
    "df3[\"predictions\"] = model3.predict(df3[[\"lofi_indie\", \"slick_pop\"]])\n",
    "df3"
   ],
   "id": "34d04895becfbae0"
  },
  {
   "cell_type": "code",
   "execution_count": 297,
   "metadata": {
    "ExecuteTime": {
     "end_time": "2024-02-13T21:12:10.960675800Z",
     "start_time": "2024-02-13T21:12:10.876490300Z"
    }
   },
   "outputs": [
    {
     "data": {
      "text/plain": "0.0"
     },
     "execution_count": 297,
     "metadata": {},
     "output_type": "execute_result"
    }
   ],
   "source": [
    "model3.intercept_"
   ],
   "id": "fe1a07cf9bbb989b"
  },
  {
   "cell_type": "code",
   "execution_count": 298,
   "metadata": {
    "scrolled": true,
    "ExecuteTime": {
     "end_time": "2024-02-13T21:12:11.130676600Z",
     "start_time": "2024-02-13T21:12:10.962677100Z"
    }
   },
   "outputs": [
    {
     "data": {
      "text/plain": "array([-0.19136523,  1.0571762 ])"
     },
     "execution_count": 298,
     "metadata": {},
     "output_type": "execute_result"
    }
   ],
   "source": [
    "model3.coef_"
   ],
   "id": "919dd97757a7e42e"
  },
  {
   "cell_type": "markdown",
   "metadata": {},
   "source": [
    "### A Manual Pass of Collaborative Filtering"
   ],
   "id": "1aeb9c597e0e5039"
  },
  {
   "cell_type": "code",
   "execution_count": 299,
   "metadata": {
    "ExecuteTime": {
     "end_time": "2024-02-13T21:12:11.229675500Z",
     "start_time": "2024-02-13T21:12:11.039684100Z"
    }
   },
   "outputs": [
    {
     "data": {
      "text/plain": "        artist     f1    f2  an_ratings\n0       ommazh  0.172  0.96           5\n1  melt banana  0.900  0.91           5\n2          bts -0.100  0.60           0\n3    zhou shen  1.200  0.71           1\n4        sanam  0.530  0.21           1",
      "text/html": "<div>\n<style scoped>\n    .dataframe tbody tr th:only-of-type {\n        vertical-align: middle;\n    }\n\n    .dataframe tbody tr th {\n        vertical-align: top;\n    }\n\n    .dataframe thead th {\n        text-align: right;\n    }\n</style>\n<table border=\"1\" class=\"dataframe\">\n  <thead>\n    <tr style=\"text-align: right;\">\n      <th></th>\n      <th>artist</th>\n      <th>f1</th>\n      <th>f2</th>\n      <th>an_ratings</th>\n    </tr>\n  </thead>\n  <tbody>\n    <tr>\n      <th>0</th>\n      <td>ommazh</td>\n      <td>0.172</td>\n      <td>0.96</td>\n      <td>5</td>\n    </tr>\n    <tr>\n      <th>1</th>\n      <td>melt banana</td>\n      <td>0.900</td>\n      <td>0.91</td>\n      <td>5</td>\n    </tr>\n    <tr>\n      <th>2</th>\n      <td>bts</td>\n      <td>-0.100</td>\n      <td>0.60</td>\n      <td>0</td>\n    </tr>\n    <tr>\n      <th>3</th>\n      <td>zhou shen</td>\n      <td>1.200</td>\n      <td>0.71</td>\n      <td>1</td>\n    </tr>\n    <tr>\n      <th>4</th>\n      <td>sanam</td>\n      <td>0.530</td>\n      <td>0.21</td>\n      <td>1</td>\n    </tr>\n  </tbody>\n</table>\n</div>"
     },
     "execution_count": 299,
     "metadata": {},
     "output_type": "execute_result"
    }
   ],
   "source": [
    "dfa = pd.DataFrame({'artist': [\"ommazh\", \"melt banana\", \"bts\", \"zhou shen\", \"sanam\"], \n",
    "              'f1': [0.172, 0.9, -0.1, 1.2, 0.53], \n",
    "              'f2': [0.96, 0.91, 0.6, 0.71, 0.21], \n",
    "              'an_ratings': [5, 5, 0, 1, 1]})\n",
    "dfa"
   ],
   "id": "ee5922ba7bd0584a"
  },
  {
   "cell_type": "code",
   "execution_count": 300,
   "metadata": {
    "ExecuteTime": {
     "end_time": "2024-02-13T21:12:11.337675500Z",
     "start_time": "2024-02-13T21:12:11.232675900Z"
    }
   },
   "outputs": [
    {
     "data": {
      "text/plain": "LinearRegression(fit_intercept=False)",
      "text/html": "<style>#sk-container-id-8 {color: black;}#sk-container-id-8 pre{padding: 0;}#sk-container-id-8 div.sk-toggleable {background-color: white;}#sk-container-id-8 label.sk-toggleable__label {cursor: pointer;display: block;width: 100%;margin-bottom: 0;padding: 0.3em;box-sizing: border-box;text-align: center;}#sk-container-id-8 label.sk-toggleable__label-arrow:before {content: \"▸\";float: left;margin-right: 0.25em;color: #696969;}#sk-container-id-8 label.sk-toggleable__label-arrow:hover:before {color: black;}#sk-container-id-8 div.sk-estimator:hover label.sk-toggleable__label-arrow:before {color: black;}#sk-container-id-8 div.sk-toggleable__content {max-height: 0;max-width: 0;overflow: hidden;text-align: left;background-color: #f0f8ff;}#sk-container-id-8 div.sk-toggleable__content pre {margin: 0.2em;color: black;border-radius: 0.25em;background-color: #f0f8ff;}#sk-container-id-8 input.sk-toggleable__control:checked~div.sk-toggleable__content {max-height: 200px;max-width: 100%;overflow: auto;}#sk-container-id-8 input.sk-toggleable__control:checked~label.sk-toggleable__label-arrow:before {content: \"▾\";}#sk-container-id-8 div.sk-estimator input.sk-toggleable__control:checked~label.sk-toggleable__label {background-color: #d4ebff;}#sk-container-id-8 div.sk-label input.sk-toggleable__control:checked~label.sk-toggleable__label {background-color: #d4ebff;}#sk-container-id-8 input.sk-hidden--visually {border: 0;clip: rect(1px 1px 1px 1px);clip: rect(1px, 1px, 1px, 1px);height: 1px;margin: -1px;overflow: hidden;padding: 0;position: absolute;width: 1px;}#sk-container-id-8 div.sk-estimator {font-family: monospace;background-color: #f0f8ff;border: 1px dotted black;border-radius: 0.25em;box-sizing: border-box;margin-bottom: 0.5em;}#sk-container-id-8 div.sk-estimator:hover {background-color: #d4ebff;}#sk-container-id-8 div.sk-parallel-item::after {content: \"\";width: 100%;border-bottom: 1px solid gray;flex-grow: 1;}#sk-container-id-8 div.sk-label:hover label.sk-toggleable__label {background-color: #d4ebff;}#sk-container-id-8 div.sk-serial::before {content: \"\";position: absolute;border-left: 1px solid gray;box-sizing: border-box;top: 0;bottom: 0;left: 50%;z-index: 0;}#sk-container-id-8 div.sk-serial {display: flex;flex-direction: column;align-items: center;background-color: white;padding-right: 0.2em;padding-left: 0.2em;position: relative;}#sk-container-id-8 div.sk-item {position: relative;z-index: 1;}#sk-container-id-8 div.sk-parallel {display: flex;align-items: stretch;justify-content: center;background-color: white;position: relative;}#sk-container-id-8 div.sk-item::before, #sk-container-id-8 div.sk-parallel-item::before {content: \"\";position: absolute;border-left: 1px solid gray;box-sizing: border-box;top: 0;bottom: 0;left: 50%;z-index: -1;}#sk-container-id-8 div.sk-parallel-item {display: flex;flex-direction: column;z-index: 1;position: relative;background-color: white;}#sk-container-id-8 div.sk-parallel-item:first-child::after {align-self: flex-end;width: 50%;}#sk-container-id-8 div.sk-parallel-item:last-child::after {align-self: flex-start;width: 50%;}#sk-container-id-8 div.sk-parallel-item:only-child::after {width: 0;}#sk-container-id-8 div.sk-dashed-wrapped {border: 1px dashed gray;margin: 0 0.4em 0.5em 0.4em;box-sizing: border-box;padding-bottom: 0.4em;background-color: white;}#sk-container-id-8 div.sk-label label {font-family: monospace;font-weight: bold;display: inline-block;line-height: 1.2em;}#sk-container-id-8 div.sk-label-container {text-align: center;}#sk-container-id-8 div.sk-container {/* jupyter's `normalize.less` sets `[hidden] { display: none; }` but bootstrap.min.css set `[hidden] { display: none !important; }` so we also need the `!important` here to be able to override the default hidden behavior on the sphinx rendered scikit-learn.org. See: https://github.com/scikit-learn/scikit-learn/issues/21755 */display: inline-block !important;position: relative;}#sk-container-id-8 div.sk-text-repr-fallback {display: none;}</style><div id=\"sk-container-id-8\" class=\"sk-top-container\"><div class=\"sk-text-repr-fallback\"><pre>LinearRegression(fit_intercept=False)</pre><b>In a Jupyter environment, please rerun this cell to show the HTML representation or trust the notebook. <br />On GitHub, the HTML representation is unable to render, please try loading this page with nbviewer.org.</b></div><div class=\"sk-container\" hidden><div class=\"sk-item\"><div class=\"sk-estimator sk-toggleable\"><input class=\"sk-toggleable__control sk-hidden--visually\" id=\"sk-estimator-id-8\" type=\"checkbox\" checked><label for=\"sk-estimator-id-8\" class=\"sk-toggleable__label sk-toggleable__label-arrow\">LinearRegression</label><div class=\"sk-toggleable__content\"><pre>LinearRegression(fit_intercept=False)</pre></div></div></div></div></div>"
     },
     "execution_count": 300,
     "metadata": {},
     "output_type": "execute_result"
    }
   ],
   "source": [
    "model = LinearRegression(fit_intercept = False)\n",
    "model.fit(dfa[[\"f1\", \"f2\"]], dfa[\"an_ratings\"])"
   ],
   "id": "5233f4d5ddff1deb"
  },
  {
   "cell_type": "code",
   "execution_count": 301,
   "metadata": {
    "ExecuteTime": {
     "end_time": "2024-02-13T21:12:11.384675800Z",
     "start_time": "2024-02-13T21:12:11.315675600Z"
    }
   },
   "outputs": [
    {
     "data": {
      "text/plain": "array([-0.16493458,  3.9810756 ])"
     },
     "execution_count": 301,
     "metadata": {},
     "output_type": "execute_result"
    }
   ],
   "source": [
    "model.coef_"
   ],
   "id": "d09b7178116a419c"
  },
  {
   "cell_type": "code",
   "execution_count": 302,
   "metadata": {
    "ExecuteTime": {
     "end_time": "2024-02-13T21:12:11.505675600Z",
     "start_time": "2024-02-13T21:12:11.358675600Z"
    }
   },
   "outputs": [
    {
     "data": {
      "text/plain": "array([-1.7254504 ,  5.20482902])"
     },
     "execution_count": 302,
     "metadata": {},
     "output_type": "execute_result"
    }
   ],
   "source": [
    "dfb = pd.DataFrame({'artist': [\"ommazh\", \"melt banana\", \"bts\", \"zhou shen\", \"sanam\"], \n",
    "              'f1': [0.172, 0.9, -0.1, 1.2, 0.53], \n",
    "              'f2': [0.96, 0.91, 0.6, 0.71, 0.21], \n",
    "              'bhavana_ratings': [4, 5, None, 0, 1]}).dropna()\n",
    "\n",
    "model = LinearRegression(fit_intercept = False)\n",
    "model.fit(dfb[[\"f1\", \"f2\"]], dfb[\"bhavana_ratings\"])\n",
    "model.coef_"
   ],
   "id": "f89bb55936ffc8bf"
  },
  {
   "cell_type": "code",
   "outputs": [
    {
     "data": {
      "text/plain": "array([4.6998584 , 3.18348905, 1.62488813, 0.17852538])"
     },
     "execution_count": 303,
     "metadata": {},
     "output_type": "execute_result"
    }
   ],
   "source": [
    "model.predict(dfb[[\"f1\", \"f2\"]])"
   ],
   "metadata": {
    "collapsed": false,
    "ExecuteTime": {
     "end_time": "2024-02-13T21:12:11.564675600Z",
     "start_time": "2024-02-13T21:12:11.484675500Z"
    }
   },
   "id": "316818025f504b0e",
   "execution_count": 303
  },
  {
   "cell_type": "code",
   "execution_count": 304,
   "metadata": {
    "ExecuteTime": {
     "end_time": "2024-02-13T21:12:11.689189400Z",
     "start_time": "2024-02-13T21:12:11.564675600Z"
    }
   },
   "outputs": [
    {
     "data": {
      "text/plain": "array([1.56292718, 3.52944221])"
     },
     "execution_count": 304,
     "metadata": {},
     "output_type": "execute_result"
    }
   ],
   "source": [
    "dfc = pd.DataFrame({'artist': [\"ommazh\", \"melt banana\", \"bts\", \"zhou shen\", \"sanam\"], \n",
    "              'f1': [0.172, 0.9, -0.1, 1.2, 0.53], \n",
    "              'f2': [0.96, 0.91, 0.6, 0.71, 0.21], \n",
    "              'cordelia_ratings': [None, 2, 4, 5, 5]}).dropna()\n",
    "\n",
    "model = LinearRegression(fit_intercept = False)\n",
    "model.fit(dfc[[\"f1\", \"f2\"]], dfc[\"cordelia_ratings\"])\n",
    "model.coef_"
   ],
   "id": "5d108e9fe7027d5d"
  },
  {
   "cell_type": "code",
   "execution_count": 305,
   "metadata": {
    "ExecuteTime": {
     "end_time": "2024-02-13T21:12:11.807189300Z",
     "start_time": "2024-02-13T21:12:11.673190Z"
    }
   },
   "outputs": [
    {
     "data": {
      "text/plain": "array([3.58993387, 3.75881912])"
     },
     "execution_count": 305,
     "metadata": {},
     "output_type": "execute_result"
    }
   ],
   "source": [
    "dfd = pd.DataFrame({'artist': [\"ommazh\", \"melt banana\", \"bts\", \"zhou shen\", \"sanam\"], \n",
    "              'f1': [0.172, 0.9, -0.1, 1.2, 0.53], \n",
    "              'f2': [0.96, 0.91, 0.6, 0.71, 0.21], \n",
    "              'diego_ratings': [2, None, 5, None, 4]}).dropna()\n",
    "\n",
    "model = LinearRegression(fit_intercept = False)\n",
    "model.fit(dfd[[\"f1\", \"f2\"]], dfd[\"diego_ratings\"])\n",
    "model.coef_"
   ],
   "id": "6d4d5723fd2d737f"
  },
  {
   "cell_type": "code",
   "execution_count": 306,
   "metadata": {
    "ExecuteTime": {
     "end_time": "2024-02-13T21:12:11.879189300Z",
     "start_time": "2024-02-13T21:12:11.792189Z"
    }
   },
   "outputs": [
    {
     "data": {
      "text/plain": "array([-0.24483934,  0.86243485])"
     },
     "execution_count": 306,
     "metadata": {},
     "output_type": "execute_result"
    }
   ],
   "source": [
    "df1 = pd.DataFrame({'user': [\"an\", \"bhavana\", \"cordelia\", \"diego\"], \n",
    "              'f1': [-0.165, -1.72, 1.56, 3.59], \n",
    "              'f2': [3.98, 5.2, 3.53, 3.76], \n",
    "              'ommazh_ratings': [5, 4, None, 2]}).dropna()\n",
    "\n",
    "model = LinearRegression(fit_intercept = False)\n",
    "model.fit(df1[[\"f1\", \"f2\"]], df1[\"ommazh_ratings\"])\n",
    "model.coef_"
   ],
   "id": "61f0d686072ffbdb"
  },
  {
   "cell_type": "markdown",
   "metadata": {},
   "source": [
    "## The SURPRISE Library"
   ],
   "id": "bf712a5022bc1ce8"
  },
  {
   "cell_type": "code",
   "execution_count": 307,
   "metadata": {
    "ExecuteTime": {
     "end_time": "2024-02-13T21:12:11.925189600Z",
     "start_time": "2024-02-13T21:12:11.846189400Z"
    }
   },
   "outputs": [],
   "source": [
    "ratings_dict = {'userID': ['an', 'bhavana', 'diego', \n",
    "                           'an', 'bhavana', 'cordelia', \n",
    "                           'an', 'cordelia', 'diego',\n",
    "                           'an', 'bhavana', 'cordelia',\n",
    "                           'an', 'bhavana', 'cordelia', 'diego'],\n",
    "                'itemID': ['ommazh', 'ommazh', 'ommazh',\n",
    "                           'melt banana', 'melt banana', 'melt banana', \n",
    "                           'bts', 'bts', 'bts',\n",
    "                           'zhou shen', 'zhou shen', 'zhou shen',\n",
    "                           'sanam', 'sanam', 'sanam', 'sanam'],                \n",
    "                'rating': [5, 4, 2,\n",
    "                          5, 5, 2, \n",
    "                          0, 4, 5,\n",
    "                          1, 0, 5,\n",
    "                          1, 1, 5, 4]}\n",
    "df = pd.DataFrame(ratings_dict)"
   ],
   "id": "c316afa3492e668d"
  },
  {
   "cell_type": "code",
   "execution_count": 308,
   "metadata": {
    "ExecuteTime": {
     "end_time": "2024-02-13T21:12:12.012197200Z",
     "start_time": "2024-02-13T21:12:11.926189200Z"
    }
   },
   "outputs": [
    {
     "data": {
      "text/plain": "      userID       itemID  rating\n0         an       ommazh       5\n1    bhavana       ommazh       4\n2      diego       ommazh       2\n3         an  melt banana       5\n4    bhavana  melt banana       5\n5   cordelia  melt banana       2\n6         an          bts       0\n7   cordelia          bts       4\n8      diego          bts       5\n9         an    zhou shen       1\n10   bhavana    zhou shen       0\n11  cordelia    zhou shen       5\n12        an        sanam       1\n13   bhavana        sanam       1\n14  cordelia        sanam       5\n15     diego        sanam       4",
      "text/html": "<div>\n<style scoped>\n    .dataframe tbody tr th:only-of-type {\n        vertical-align: middle;\n    }\n\n    .dataframe tbody tr th {\n        vertical-align: top;\n    }\n\n    .dataframe thead th {\n        text-align: right;\n    }\n</style>\n<table border=\"1\" class=\"dataframe\">\n  <thead>\n    <tr style=\"text-align: right;\">\n      <th></th>\n      <th>userID</th>\n      <th>itemID</th>\n      <th>rating</th>\n    </tr>\n  </thead>\n  <tbody>\n    <tr>\n      <th>0</th>\n      <td>an</td>\n      <td>ommazh</td>\n      <td>5</td>\n    </tr>\n    <tr>\n      <th>1</th>\n      <td>bhavana</td>\n      <td>ommazh</td>\n      <td>4</td>\n    </tr>\n    <tr>\n      <th>2</th>\n      <td>diego</td>\n      <td>ommazh</td>\n      <td>2</td>\n    </tr>\n    <tr>\n      <th>3</th>\n      <td>an</td>\n      <td>melt banana</td>\n      <td>5</td>\n    </tr>\n    <tr>\n      <th>4</th>\n      <td>bhavana</td>\n      <td>melt banana</td>\n      <td>5</td>\n    </tr>\n    <tr>\n      <th>5</th>\n      <td>cordelia</td>\n      <td>melt banana</td>\n      <td>2</td>\n    </tr>\n    <tr>\n      <th>6</th>\n      <td>an</td>\n      <td>bts</td>\n      <td>0</td>\n    </tr>\n    <tr>\n      <th>7</th>\n      <td>cordelia</td>\n      <td>bts</td>\n      <td>4</td>\n    </tr>\n    <tr>\n      <th>8</th>\n      <td>diego</td>\n      <td>bts</td>\n      <td>5</td>\n    </tr>\n    <tr>\n      <th>9</th>\n      <td>an</td>\n      <td>zhou shen</td>\n      <td>1</td>\n    </tr>\n    <tr>\n      <th>10</th>\n      <td>bhavana</td>\n      <td>zhou shen</td>\n      <td>0</td>\n    </tr>\n    <tr>\n      <th>11</th>\n      <td>cordelia</td>\n      <td>zhou shen</td>\n      <td>5</td>\n    </tr>\n    <tr>\n      <th>12</th>\n      <td>an</td>\n      <td>sanam</td>\n      <td>1</td>\n    </tr>\n    <tr>\n      <th>13</th>\n      <td>bhavana</td>\n      <td>sanam</td>\n      <td>1</td>\n    </tr>\n    <tr>\n      <th>14</th>\n      <td>cordelia</td>\n      <td>sanam</td>\n      <td>5</td>\n    </tr>\n    <tr>\n      <th>15</th>\n      <td>diego</td>\n      <td>sanam</td>\n      <td>4</td>\n    </tr>\n  </tbody>\n</table>\n</div>"
     },
     "execution_count": 308,
     "metadata": {},
     "output_type": "execute_result"
    }
   ],
   "source": [
    "df"
   ],
   "id": "945edc33773b29b9"
  },
  {
   "cell_type": "code",
   "execution_count": 309,
   "metadata": {
    "ExecuteTime": {
     "end_time": "2024-02-13T21:12:12.055197100Z",
     "start_time": "2024-02-13T21:12:11.986188900Z"
    }
   },
   "outputs": [],
   "source": [
    "from surprise import Dataset\n",
    "from surprise import Reader\n",
    "reader = Reader(rating_scale=(0, 5))\n",
    "sf = Dataset.load_from_df(df[['userID', 'itemID', 'rating']], reader)"
   ],
   "id": "cd78958aa1d8af3f"
  },
  {
   "cell_type": "code",
   "execution_count": 310,
   "metadata": {
    "ExecuteTime": {
     "end_time": "2024-02-13T21:12:12.117198700Z",
     "start_time": "2024-02-13T21:12:12.043189Z"
    }
   },
   "outputs": [],
   "source": [
    "training_data = sf.build_full_trainset()"
   ],
   "id": "d7bafcdbfabfb596"
  },
  {
   "cell_type": "code",
   "execution_count": 311,
   "metadata": {
    "scrolled": true,
    "ExecuteTime": {
     "end_time": "2024-02-13T21:12:12.174270300Z",
     "start_time": "2024-02-13T21:12:12.097191600Z"
    }
   },
   "outputs": [
    {
     "data": {
      "text/plain": "<surprise.trainset.Trainset at 0x2b849a05f60>"
     },
     "execution_count": 311,
     "metadata": {},
     "output_type": "execute_result"
    }
   ],
   "source": [
    "training_data"
   ],
   "id": "c0c4fd3b1d5845db"
  },
  {
   "cell_type": "code",
   "execution_count": 312,
   "metadata": {
    "ExecuteTime": {
     "end_time": "2024-02-13T21:12:12.253188900Z",
     "start_time": "2024-02-13T21:12:12.171274200Z"
    }
   },
   "outputs": [
    {
     "data": {
      "text/plain": "<surprise.prediction_algorithms.matrix_factorization.SVD at 0x2b846954f10>"
     },
     "execution_count": 312,
     "metadata": {},
     "output_type": "execute_result"
    }
   ],
   "source": [
    "import surprise\n",
    "model = surprise.SVD(n_factors = 2, n_epochs = 10000, biased = False)\n",
    "model.fit(training_data)"
   ],
   "id": "495c46e9827d7b4e"
  },
  {
   "cell_type": "code",
   "execution_count": 313,
   "metadata": {
    "ExecuteTime": {
     "end_time": "2024-02-13T21:12:12.274191600Z",
     "start_time": "2024-02-13T21:12:12.204189100Z"
    }
   },
   "outputs": [
    {
     "data": {
      "text/plain": "Prediction(uid='an', iid='ommazh', r_ui=None, est=4.830197366726953, details={'was_impossible': False})"
     },
     "execution_count": 313,
     "metadata": {},
     "output_type": "execute_result"
    }
   ],
   "source": [
    "model.predict(\"an\", \"ommazh\")"
   ],
   "id": "491cf68328ac43e8"
  },
  {
   "cell_type": "code",
   "execution_count": 314,
   "metadata": {
    "ExecuteTime": {
     "end_time": "2024-02-13T21:12:12.331197400Z",
     "start_time": "2024-02-13T21:12:12.260189200Z"
    }
   },
   "outputs": [
    {
     "data": {
      "text/plain": "Prediction(uid='cordelia', iid='ommazh', r_ui=None, est=5, details={'was_impossible': False})"
     },
     "execution_count": 314,
     "metadata": {},
     "output_type": "execute_result"
    }
   ],
   "source": [
    "model.predict(\"cordelia\", \"ommazh\")"
   ],
   "id": "8696a845d4ab101f"
  },
  {
   "cell_type": "code",
   "execution_count": 315,
   "metadata": {
    "ExecuteTime": {
     "end_time": "2024-02-13T21:12:12.353605200Z",
     "start_time": "2024-02-13T21:12:12.300188600Z"
    }
   },
   "outputs": [
    {
     "data": {
      "text/plain": "[Prediction(uid='an', iid='ommazh', r_ui=5.0, est=4.830197366726953, details={'was_impossible': False}),\n Prediction(uid='an', iid='melt banana', r_ui=5.0, est=4.99868762893539, details={'was_impossible': False}),\n Prediction(uid='an', iid='bts', r_ui=0.0, est=0, details={'was_impossible': False}),\n Prediction(uid='an', iid='zhou shen', r_ui=1.0, est=0.8579092365024903, details={'was_impossible': False}),\n Prediction(uid='an', iid='sanam', r_ui=1.0, est=1.3829953180940184, details={'was_impossible': False}),\n Prediction(uid='bhavana', iid='ommazh', r_ui=4.0, est=4.094709231548621, details={'was_impossible': False}),\n Prediction(uid='bhavana', iid='melt banana', r_ui=5.0, est=4.90529616373693, details={'was_impossible': False}),\n Prediction(uid='bhavana', iid='zhou shen', r_ui=0.0, est=0.15885878754958527, details={'was_impossible': False}),\n Prediction(uid='bhavana', iid='sanam', r_ui=1.0, est=0.727069571561061, details={'was_impossible': False}),\n Prediction(uid='diego', iid='ommazh', r_ui=2.0, est=1.9865142663494408, details={'was_impossible': False}),\n Prediction(uid='diego', iid='bts', r_ui=5.0, est=4.868109598649725, details={'was_impossible': False}),\n Prediction(uid='diego', iid='sanam', r_ui=4.0, est=4.067431173315733, details={'was_impossible': False}),\n Prediction(uid='cordelia', iid='melt banana', r_ui=2.0, est=2.009171344864411, details={'was_impossible': False}),\n Prediction(uid='cordelia', iid='bts', r_ui=4.0, est=4.099068740977833, details={'was_impossible': False}),\n Prediction(uid='cordelia', iid='zhou shen', r_ui=5.0, est=4.974372126355119, details={'was_impossible': False}),\n Prediction(uid='cordelia', iid='sanam', r_ui=5.0, est=4.826630087281403, details={'was_impossible': False})]"
     },
     "execution_count": 315,
     "metadata": {},
     "output_type": "execute_result"
    }
   ],
   "source": [
    "test_data = training_data.build_testset()\n",
    "predictions = model.test(test_data)\n",
    "predictions"
   ],
   "id": "58165ff83059e73d"
  },
  {
   "cell_type": "code",
   "execution_count": 316,
   "metadata": {
    "ExecuteTime": {
     "end_time": "2024-02-13T21:12:12.433626500Z",
     "start_time": "2024-02-13T21:12:12.339591Z"
    }
   },
   "outputs": [
    {
     "name": "stdout",
     "output_type": "stream",
     "text": [
      "MSE: 0.0235\n"
     ]
    },
    {
     "data": {
      "text/plain": "0.023507012080931828"
     },
     "execution_count": 316,
     "metadata": {},
     "output_type": "execute_result"
    }
   ],
   "source": [
    "surprise.accuracy.mse(predictions)"
   ],
   "id": "76f225842cb386bc"
  },
  {
   "cell_type": "code",
   "execution_count": 317,
   "metadata": {
    "ExecuteTime": {
     "end_time": "2024-02-13T21:12:12.455626500Z",
     "start_time": "2024-02-13T21:12:12.383610100Z"
    }
   },
   "outputs": [
    {
     "data": {
      "text/plain": "array([[-0.94813625,  1.68549368],\n       [-0.59107481,  1.71581714],\n       [-2.06086311, -1.56129757],\n       [-2.68119982,  0.2584906 ]])"
     },
     "execution_count": 317,
     "metadata": {},
     "output_type": "execute_result"
    }
   ],
   "source": [
    "# user factors\n",
    "model.pu"
   ],
   "id": "322265d32ed1c714"
  },
  {
   "cell_type": "code",
   "execution_count": 318,
   "metadata": {
    "ExecuteTime": {
     "end_time": "2024-02-13T21:12:12.497626700Z",
     "start_time": "2024-02-13T21:12:12.440626400Z"
    }
   },
   "outputs": [
    {
     "data": {
      "text/plain": "array([[-2.19819629,  1.62920088],\n       [-0.49000981,  2.69006738],\n       [-1.62289607, -0.97581844],\n       [-1.90977884, -0.56530696],\n       [-1.81975951, -0.20313612]])"
     },
     "execution_count": 318,
     "metadata": {},
     "output_type": "execute_result"
    }
   ],
   "source": [
    "# item factors\n",
    "model.qi"
   ],
   "id": "75a6118b1571dbe0"
  },
  {
   "cell_type": "code",
   "execution_count": 319,
   "metadata": {
    "ExecuteTime": {
     "end_time": "2024-02-13T21:12:12.564635Z",
     "start_time": "2024-02-13T21:12:12.498626500Z"
    }
   },
   "outputs": [
    {
     "data": {
      "text/plain": "array([[ 4.83019737,  4.99868763, -0.10600922,  0.85790924,  1.38299532],\n       [ 4.09470923,  4.90529616, -0.71507302,  0.15885879,  0.72706957],\n       [ 1.98651427, -3.19015253,  4.8681096 ,  4.81840514,  4.06743117],\n       [ 6.3149366 ,  2.00917134,  4.09906874,  4.97437213,  4.82663009]])"
     },
     "execution_count": 319,
     "metadata": {},
     "output_type": "execute_result"
    }
   ],
   "source": [
    "model.pu @ model.qi.T"
   ],
   "id": "f2c22b8d718bc1ab"
  },
  {
   "cell_type": "markdown",
   "metadata": {},
   "source": [
    "## Plotting Item Factors and Computing Item Distance"
   ],
   "id": "fee78a4483f026c5"
  },
  {
   "cell_type": "code",
   "execution_count": 320,
   "metadata": {
    "ExecuteTime": {
     "end_time": "2024-02-13T21:12:12.622626100Z",
     "start_time": "2024-02-13T21:12:12.546626600Z"
    }
   },
   "outputs": [
    {
     "data": {
      "text/plain": "         F1        F2       artist\n0 -1.443522 -2.324373       ommazh\n1 -2.640839 -0.708888  melt banana\n2  1.105558 -1.537443          bts\n3  0.719947 -1.857015    zhou shen\n4  0.351618 -1.796989        sanam",
      "text/html": "<div>\n<style scoped>\n    .dataframe tbody tr th:only-of-type {\n        vertical-align: middle;\n    }\n\n    .dataframe tbody tr th {\n        vertical-align: top;\n    }\n\n    .dataframe thead th {\n        text-align: right;\n    }\n</style>\n<table border=\"1\" class=\"dataframe\">\n  <thead>\n    <tr style=\"text-align: right;\">\n      <th></th>\n      <th>F1</th>\n      <th>F2</th>\n      <th>artist</th>\n    </tr>\n  </thead>\n  <tbody>\n    <tr>\n      <th>0</th>\n      <td>-1.443522</td>\n      <td>-2.324373</td>\n      <td>ommazh</td>\n    </tr>\n    <tr>\n      <th>1</th>\n      <td>-2.640839</td>\n      <td>-0.708888</td>\n      <td>melt banana</td>\n    </tr>\n    <tr>\n      <th>2</th>\n      <td>1.105558</td>\n      <td>-1.537443</td>\n      <td>bts</td>\n    </tr>\n    <tr>\n      <th>3</th>\n      <td>0.719947</td>\n      <td>-1.857015</td>\n      <td>zhou shen</td>\n    </tr>\n    <tr>\n      <th>4</th>\n      <td>0.351618</td>\n      <td>-1.796989</td>\n      <td>sanam</td>\n    </tr>\n  </tbody>\n</table>\n</div>"
     },
     "execution_count": 320,
     "metadata": {},
     "output_type": "execute_result"
    }
   ],
   "source": [
    "df = pd.DataFrame([[-1.44352162, -2.32437267, 'ommazh'],\n",
    "       [-2.64083923, -0.70888811, 'melt banana'],\n",
    "       [ 1.10555829, -1.53744304, 'bts'],\n",
    "       [ 0.71994672, -1.85701467, 'zhou shen'],\n",
    "       [ 0.35161794, -1.79698869, 'sanam']],\n",
    "        columns = ['F1', 'F2', 'artist'])\n",
    "\n",
    "df"
   ],
   "id": "55b614dd9ce485ca"
  },
  {
   "cell_type": "code",
   "execution_count": 321,
   "metadata": {
    "ExecuteTime": {
     "end_time": "2024-02-13T21:12:12.716131400Z",
     "start_time": "2024-02-13T21:12:12.623626500Z"
    }
   },
   "outputs": [
    {
     "data": {
      "application/vnd.plotly.v1+json": {
       "data": [
        {
         "hovertemplate": "F1=%{x}<br>F2=%{y}<br>artist=%{text}<extra></extra>",
         "legendgroup": "",
         "marker": {
          "color": "#636efa",
          "symbol": "circle"
         },
         "mode": "markers+text",
         "name": "",
         "orientation": "v",
         "showlegend": false,
         "text": [
          "ommazh",
          "melt banana",
          "bts",
          "zhou shen",
          "sanam"
         ],
         "x": [
          -1.44352162,
          -2.64083923,
          1.10555829,
          0.71994672,
          0.35161794
         ],
         "xaxis": "x",
         "y": [
          -2.32437267,
          -0.70888811,
          -1.53744304,
          -1.85701467,
          -1.79698869
         ],
         "yaxis": "y",
         "type": "scatter",
         "textposition": "top center"
        }
       ],
       "layout": {
        "template": {
         "data": {
          "histogram2dcontour": [
           {
            "type": "histogram2dcontour",
            "colorbar": {
             "outlinewidth": 0,
             "ticks": ""
            },
            "colorscale": [
             [
              0.0,
              "#0d0887"
             ],
             [
              0.1111111111111111,
              "#46039f"
             ],
             [
              0.2222222222222222,
              "#7201a8"
             ],
             [
              0.3333333333333333,
              "#9c179e"
             ],
             [
              0.4444444444444444,
              "#bd3786"
             ],
             [
              0.5555555555555556,
              "#d8576b"
             ],
             [
              0.6666666666666666,
              "#ed7953"
             ],
             [
              0.7777777777777778,
              "#fb9f3a"
             ],
             [
              0.8888888888888888,
              "#fdca26"
             ],
             [
              1.0,
              "#f0f921"
             ]
            ]
           }
          ],
          "choropleth": [
           {
            "type": "choropleth",
            "colorbar": {
             "outlinewidth": 0,
             "ticks": ""
            }
           }
          ],
          "histogram2d": [
           {
            "type": "histogram2d",
            "colorbar": {
             "outlinewidth": 0,
             "ticks": ""
            },
            "colorscale": [
             [
              0.0,
              "#0d0887"
             ],
             [
              0.1111111111111111,
              "#46039f"
             ],
             [
              0.2222222222222222,
              "#7201a8"
             ],
             [
              0.3333333333333333,
              "#9c179e"
             ],
             [
              0.4444444444444444,
              "#bd3786"
             ],
             [
              0.5555555555555556,
              "#d8576b"
             ],
             [
              0.6666666666666666,
              "#ed7953"
             ],
             [
              0.7777777777777778,
              "#fb9f3a"
             ],
             [
              0.8888888888888888,
              "#fdca26"
             ],
             [
              1.0,
              "#f0f921"
             ]
            ]
           }
          ],
          "heatmap": [
           {
            "type": "heatmap",
            "colorbar": {
             "outlinewidth": 0,
             "ticks": ""
            },
            "colorscale": [
             [
              0.0,
              "#0d0887"
             ],
             [
              0.1111111111111111,
              "#46039f"
             ],
             [
              0.2222222222222222,
              "#7201a8"
             ],
             [
              0.3333333333333333,
              "#9c179e"
             ],
             [
              0.4444444444444444,
              "#bd3786"
             ],
             [
              0.5555555555555556,
              "#d8576b"
             ],
             [
              0.6666666666666666,
              "#ed7953"
             ],
             [
              0.7777777777777778,
              "#fb9f3a"
             ],
             [
              0.8888888888888888,
              "#fdca26"
             ],
             [
              1.0,
              "#f0f921"
             ]
            ]
           }
          ],
          "heatmapgl": [
           {
            "type": "heatmapgl",
            "colorbar": {
             "outlinewidth": 0,
             "ticks": ""
            },
            "colorscale": [
             [
              0.0,
              "#0d0887"
             ],
             [
              0.1111111111111111,
              "#46039f"
             ],
             [
              0.2222222222222222,
              "#7201a8"
             ],
             [
              0.3333333333333333,
              "#9c179e"
             ],
             [
              0.4444444444444444,
              "#bd3786"
             ],
             [
              0.5555555555555556,
              "#d8576b"
             ],
             [
              0.6666666666666666,
              "#ed7953"
             ],
             [
              0.7777777777777778,
              "#fb9f3a"
             ],
             [
              0.8888888888888888,
              "#fdca26"
             ],
             [
              1.0,
              "#f0f921"
             ]
            ]
           }
          ],
          "contourcarpet": [
           {
            "type": "contourcarpet",
            "colorbar": {
             "outlinewidth": 0,
             "ticks": ""
            }
           }
          ],
          "contour": [
           {
            "type": "contour",
            "colorbar": {
             "outlinewidth": 0,
             "ticks": ""
            },
            "colorscale": [
             [
              0.0,
              "#0d0887"
             ],
             [
              0.1111111111111111,
              "#46039f"
             ],
             [
              0.2222222222222222,
              "#7201a8"
             ],
             [
              0.3333333333333333,
              "#9c179e"
             ],
             [
              0.4444444444444444,
              "#bd3786"
             ],
             [
              0.5555555555555556,
              "#d8576b"
             ],
             [
              0.6666666666666666,
              "#ed7953"
             ],
             [
              0.7777777777777778,
              "#fb9f3a"
             ],
             [
              0.8888888888888888,
              "#fdca26"
             ],
             [
              1.0,
              "#f0f921"
             ]
            ]
           }
          ],
          "surface": [
           {
            "type": "surface",
            "colorbar": {
             "outlinewidth": 0,
             "ticks": ""
            },
            "colorscale": [
             [
              0.0,
              "#0d0887"
             ],
             [
              0.1111111111111111,
              "#46039f"
             ],
             [
              0.2222222222222222,
              "#7201a8"
             ],
             [
              0.3333333333333333,
              "#9c179e"
             ],
             [
              0.4444444444444444,
              "#bd3786"
             ],
             [
              0.5555555555555556,
              "#d8576b"
             ],
             [
              0.6666666666666666,
              "#ed7953"
             ],
             [
              0.7777777777777778,
              "#fb9f3a"
             ],
             [
              0.8888888888888888,
              "#fdca26"
             ],
             [
              1.0,
              "#f0f921"
             ]
            ]
           }
          ],
          "mesh3d": [
           {
            "type": "mesh3d",
            "colorbar": {
             "outlinewidth": 0,
             "ticks": ""
            }
           }
          ],
          "scatter": [
           {
            "marker": {
             "line": {
              "color": "#283442"
             }
            },
            "type": "scatter"
           }
          ],
          "parcoords": [
           {
            "type": "parcoords",
            "line": {
             "colorbar": {
              "outlinewidth": 0,
              "ticks": ""
             }
            }
           }
          ],
          "scatterpolargl": [
           {
            "type": "scatterpolargl",
            "marker": {
             "colorbar": {
              "outlinewidth": 0,
              "ticks": ""
             }
            }
           }
          ],
          "bar": [
           {
            "error_x": {
             "color": "#f2f5fa"
            },
            "error_y": {
             "color": "#f2f5fa"
            },
            "marker": {
             "line": {
              "color": "rgb(17,17,17)",
              "width": 0.5
             },
             "pattern": {
              "fillmode": "overlay",
              "size": 10,
              "solidity": 0.2
             }
            },
            "type": "bar"
           }
          ],
          "scattergeo": [
           {
            "type": "scattergeo",
            "marker": {
             "colorbar": {
              "outlinewidth": 0,
              "ticks": ""
             }
            }
           }
          ],
          "scatterpolar": [
           {
            "type": "scatterpolar",
            "marker": {
             "colorbar": {
              "outlinewidth": 0,
              "ticks": ""
             }
            }
           }
          ],
          "histogram": [
           {
            "marker": {
             "pattern": {
              "fillmode": "overlay",
              "size": 10,
              "solidity": 0.2
             }
            },
            "type": "histogram"
           }
          ],
          "scattergl": [
           {
            "marker": {
             "line": {
              "color": "#283442"
             }
            },
            "type": "scattergl"
           }
          ],
          "scatter3d": [
           {
            "type": "scatter3d",
            "line": {
             "colorbar": {
              "outlinewidth": 0,
              "ticks": ""
             }
            },
            "marker": {
             "colorbar": {
              "outlinewidth": 0,
              "ticks": ""
             }
            }
           }
          ],
          "scattermapbox": [
           {
            "type": "scattermapbox",
            "marker": {
             "colorbar": {
              "outlinewidth": 0,
              "ticks": ""
             }
            }
           }
          ],
          "scatterternary": [
           {
            "type": "scatterternary",
            "marker": {
             "colorbar": {
              "outlinewidth": 0,
              "ticks": ""
             }
            }
           }
          ],
          "scattercarpet": [
           {
            "type": "scattercarpet",
            "marker": {
             "colorbar": {
              "outlinewidth": 0,
              "ticks": ""
             }
            }
           }
          ],
          "carpet": [
           {
            "aaxis": {
             "endlinecolor": "#A2B1C6",
             "gridcolor": "#506784",
             "linecolor": "#506784",
             "minorgridcolor": "#506784",
             "startlinecolor": "#A2B1C6"
            },
            "baxis": {
             "endlinecolor": "#A2B1C6",
             "gridcolor": "#506784",
             "linecolor": "#506784",
             "minorgridcolor": "#506784",
             "startlinecolor": "#A2B1C6"
            },
            "type": "carpet"
           }
          ],
          "table": [
           {
            "cells": {
             "fill": {
              "color": "#506784"
             },
             "line": {
              "color": "rgb(17,17,17)"
             }
            },
            "header": {
             "fill": {
              "color": "#2a3f5f"
             },
             "line": {
              "color": "rgb(17,17,17)"
             }
            },
            "type": "table"
           }
          ],
          "barpolar": [
           {
            "marker": {
             "line": {
              "color": "rgb(17,17,17)",
              "width": 0.5
             },
             "pattern": {
              "fillmode": "overlay",
              "size": 10,
              "solidity": 0.2
             }
            },
            "type": "barpolar"
           }
          ],
          "pie": [
           {
            "automargin": true,
            "type": "pie"
           }
          ]
         },
         "layout": {
          "autotypenumbers": "strict",
          "colorway": [
           "#636efa",
           "#EF553B",
           "#00cc96",
           "#ab63fa",
           "#FFA15A",
           "#19d3f3",
           "#FF6692",
           "#B6E880",
           "#FF97FF",
           "#FECB52"
          ],
          "font": {
           "color": "#f2f5fa"
          },
          "hovermode": "closest",
          "hoverlabel": {
           "align": "left"
          },
          "paper_bgcolor": "rgb(17,17,17)",
          "plot_bgcolor": "rgb(17,17,17)",
          "polar": {
           "bgcolor": "rgb(17,17,17)",
           "angularaxis": {
            "gridcolor": "#506784",
            "linecolor": "#506784",
            "ticks": ""
           },
           "radialaxis": {
            "gridcolor": "#506784",
            "linecolor": "#506784",
            "ticks": ""
           }
          },
          "ternary": {
           "bgcolor": "rgb(17,17,17)",
           "aaxis": {
            "gridcolor": "#506784",
            "linecolor": "#506784",
            "ticks": ""
           },
           "baxis": {
            "gridcolor": "#506784",
            "linecolor": "#506784",
            "ticks": ""
           },
           "caxis": {
            "gridcolor": "#506784",
            "linecolor": "#506784",
            "ticks": ""
           }
          },
          "coloraxis": {
           "colorbar": {
            "outlinewidth": 0,
            "ticks": ""
           }
          },
          "colorscale": {
           "sequential": [
            [
             0.0,
             "#0d0887"
            ],
            [
             0.1111111111111111,
             "#46039f"
            ],
            [
             0.2222222222222222,
             "#7201a8"
            ],
            [
             0.3333333333333333,
             "#9c179e"
            ],
            [
             0.4444444444444444,
             "#bd3786"
            ],
            [
             0.5555555555555556,
             "#d8576b"
            ],
            [
             0.6666666666666666,
             "#ed7953"
            ],
            [
             0.7777777777777778,
             "#fb9f3a"
            ],
            [
             0.8888888888888888,
             "#fdca26"
            ],
            [
             1.0,
             "#f0f921"
            ]
           ],
           "sequentialminus": [
            [
             0.0,
             "#0d0887"
            ],
            [
             0.1111111111111111,
             "#46039f"
            ],
            [
             0.2222222222222222,
             "#7201a8"
            ],
            [
             0.3333333333333333,
             "#9c179e"
            ],
            [
             0.4444444444444444,
             "#bd3786"
            ],
            [
             0.5555555555555556,
             "#d8576b"
            ],
            [
             0.6666666666666666,
             "#ed7953"
            ],
            [
             0.7777777777777778,
             "#fb9f3a"
            ],
            [
             0.8888888888888888,
             "#fdca26"
            ],
            [
             1.0,
             "#f0f921"
            ]
           ],
           "diverging": [
            [
             0,
             "#8e0152"
            ],
            [
             0.1,
             "#c51b7d"
            ],
            [
             0.2,
             "#de77ae"
            ],
            [
             0.3,
             "#f1b6da"
            ],
            [
             0.4,
             "#fde0ef"
            ],
            [
             0.5,
             "#f7f7f7"
            ],
            [
             0.6,
             "#e6f5d0"
            ],
            [
             0.7,
             "#b8e186"
            ],
            [
             0.8,
             "#7fbc41"
            ],
            [
             0.9,
             "#4d9221"
            ],
            [
             1,
             "#276419"
            ]
           ]
          },
          "xaxis": {
           "gridcolor": "#283442",
           "linecolor": "#506784",
           "ticks": "",
           "title": {
            "standoff": 15
           },
           "zerolinecolor": "#283442",
           "automargin": true,
           "zerolinewidth": 2
          },
          "yaxis": {
           "gridcolor": "#283442",
           "linecolor": "#506784",
           "ticks": "",
           "title": {
            "standoff": 15
           },
           "zerolinecolor": "#283442",
           "automargin": true,
           "zerolinewidth": 2
          },
          "scene": {
           "xaxis": {
            "backgroundcolor": "rgb(17,17,17)",
            "gridcolor": "#506784",
            "linecolor": "#506784",
            "showbackground": true,
            "ticks": "",
            "zerolinecolor": "#C8D4E3",
            "gridwidth": 2
           },
           "yaxis": {
            "backgroundcolor": "rgb(17,17,17)",
            "gridcolor": "#506784",
            "linecolor": "#506784",
            "showbackground": true,
            "ticks": "",
            "zerolinecolor": "#C8D4E3",
            "gridwidth": 2
           },
           "zaxis": {
            "backgroundcolor": "rgb(17,17,17)",
            "gridcolor": "#506784",
            "linecolor": "#506784",
            "showbackground": true,
            "ticks": "",
            "zerolinecolor": "#C8D4E3",
            "gridwidth": 2
           }
          },
          "shapedefaults": {
           "line": {
            "color": "#f2f5fa"
           }
          },
          "annotationdefaults": {
           "arrowcolor": "#f2f5fa",
           "arrowhead": 0,
           "arrowwidth": 1
          },
          "geo": {
           "bgcolor": "rgb(17,17,17)",
           "landcolor": "rgb(17,17,17)",
           "subunitcolor": "#506784",
           "showland": true,
           "showlakes": true,
           "lakecolor": "rgb(17,17,17)"
          },
          "title": {
           "x": 0.05
          },
          "updatemenudefaults": {
           "bgcolor": "#506784",
           "borderwidth": 0
          },
          "sliderdefaults": {
           "bgcolor": "#C8D4E3",
           "borderwidth": 1,
           "bordercolor": "rgb(17,17,17)",
           "tickwidth": 0
          },
          "mapbox": {
           "style": "dark"
          }
         }
        },
        "xaxis": {
         "anchor": "y",
         "domain": [
          0.0,
          1.0
         ],
         "title": {
          "text": "F1"
         },
         "range": [
          -3.0,
          1.5
         ]
        },
        "yaxis": {
         "anchor": "x",
         "domain": [
          0.0,
          1.0
         ],
         "title": {
          "text": "F2"
         },
         "range": [
          -2.5,
          -0.5
         ]
        },
        "legend": {
         "tracegroupgap": 0
        },
        "margin": {
         "t": 1,
         "l": 1,
         "r": 1,
         "b": 1
        },
        "font": {
         "size": 16
        }
       },
       "config": {
        "plotlyServerURL": "https://plot.ly"
       }
      },
      "text/html": "<div>                            <div id=\"24cbec9c-28fa-4c58-9cde-0551b586a5bd\" class=\"plotly-graph-div\" style=\"height:525px; width:100%;\"></div>            <script type=\"text/javascript\">                require([\"plotly\"], function(Plotly) {                    window.PLOTLYENV=window.PLOTLYENV || {};                                    if (document.getElementById(\"24cbec9c-28fa-4c58-9cde-0551b586a5bd\")) {                    Plotly.newPlot(                        \"24cbec9c-28fa-4c58-9cde-0551b586a5bd\",                        [{\"hovertemplate\":\"F1=%{x}\\u003cbr\\u003eF2=%{y}\\u003cbr\\u003eartist=%{text}\\u003cextra\\u003e\\u003c\\u002fextra\\u003e\",\"legendgroup\":\"\",\"marker\":{\"color\":\"#636efa\",\"symbol\":\"circle\"},\"mode\":\"markers+text\",\"name\":\"\",\"orientation\":\"v\",\"showlegend\":false,\"text\":[\"ommazh\",\"melt banana\",\"bts\",\"zhou shen\",\"sanam\"],\"x\":[-1.44352162,-2.64083923,1.10555829,0.71994672,0.35161794],\"xaxis\":\"x\",\"y\":[-2.32437267,-0.70888811,-1.53744304,-1.85701467,-1.79698869],\"yaxis\":\"y\",\"type\":\"scatter\",\"textposition\":\"top center\"}],                        {\"template\":{\"data\":{\"histogram2dcontour\":[{\"type\":\"histogram2dcontour\",\"colorbar\":{\"outlinewidth\":0,\"ticks\":\"\"},\"colorscale\":[[0.0,\"#0d0887\"],[0.1111111111111111,\"#46039f\"],[0.2222222222222222,\"#7201a8\"],[0.3333333333333333,\"#9c179e\"],[0.4444444444444444,\"#bd3786\"],[0.5555555555555556,\"#d8576b\"],[0.6666666666666666,\"#ed7953\"],[0.7777777777777778,\"#fb9f3a\"],[0.8888888888888888,\"#fdca26\"],[1.0,\"#f0f921\"]]}],\"choropleth\":[{\"type\":\"choropleth\",\"colorbar\":{\"outlinewidth\":0,\"ticks\":\"\"}}],\"histogram2d\":[{\"type\":\"histogram2d\",\"colorbar\":{\"outlinewidth\":0,\"ticks\":\"\"},\"colorscale\":[[0.0,\"#0d0887\"],[0.1111111111111111,\"#46039f\"],[0.2222222222222222,\"#7201a8\"],[0.3333333333333333,\"#9c179e\"],[0.4444444444444444,\"#bd3786\"],[0.5555555555555556,\"#d8576b\"],[0.6666666666666666,\"#ed7953\"],[0.7777777777777778,\"#fb9f3a\"],[0.8888888888888888,\"#fdca26\"],[1.0,\"#f0f921\"]]}],\"heatmap\":[{\"type\":\"heatmap\",\"colorbar\":{\"outlinewidth\":0,\"ticks\":\"\"},\"colorscale\":[[0.0,\"#0d0887\"],[0.1111111111111111,\"#46039f\"],[0.2222222222222222,\"#7201a8\"],[0.3333333333333333,\"#9c179e\"],[0.4444444444444444,\"#bd3786\"],[0.5555555555555556,\"#d8576b\"],[0.6666666666666666,\"#ed7953\"],[0.7777777777777778,\"#fb9f3a\"],[0.8888888888888888,\"#fdca26\"],[1.0,\"#f0f921\"]]}],\"heatmapgl\":[{\"type\":\"heatmapgl\",\"colorbar\":{\"outlinewidth\":0,\"ticks\":\"\"},\"colorscale\":[[0.0,\"#0d0887\"],[0.1111111111111111,\"#46039f\"],[0.2222222222222222,\"#7201a8\"],[0.3333333333333333,\"#9c179e\"],[0.4444444444444444,\"#bd3786\"],[0.5555555555555556,\"#d8576b\"],[0.6666666666666666,\"#ed7953\"],[0.7777777777777778,\"#fb9f3a\"],[0.8888888888888888,\"#fdca26\"],[1.0,\"#f0f921\"]]}],\"contourcarpet\":[{\"type\":\"contourcarpet\",\"colorbar\":{\"outlinewidth\":0,\"ticks\":\"\"}}],\"contour\":[{\"type\":\"contour\",\"colorbar\":{\"outlinewidth\":0,\"ticks\":\"\"},\"colorscale\":[[0.0,\"#0d0887\"],[0.1111111111111111,\"#46039f\"],[0.2222222222222222,\"#7201a8\"],[0.3333333333333333,\"#9c179e\"],[0.4444444444444444,\"#bd3786\"],[0.5555555555555556,\"#d8576b\"],[0.6666666666666666,\"#ed7953\"],[0.7777777777777778,\"#fb9f3a\"],[0.8888888888888888,\"#fdca26\"],[1.0,\"#f0f921\"]]}],\"surface\":[{\"type\":\"surface\",\"colorbar\":{\"outlinewidth\":0,\"ticks\":\"\"},\"colorscale\":[[0.0,\"#0d0887\"],[0.1111111111111111,\"#46039f\"],[0.2222222222222222,\"#7201a8\"],[0.3333333333333333,\"#9c179e\"],[0.4444444444444444,\"#bd3786\"],[0.5555555555555556,\"#d8576b\"],[0.6666666666666666,\"#ed7953\"],[0.7777777777777778,\"#fb9f3a\"],[0.8888888888888888,\"#fdca26\"],[1.0,\"#f0f921\"]]}],\"mesh3d\":[{\"type\":\"mesh3d\",\"colorbar\":{\"outlinewidth\":0,\"ticks\":\"\"}}],\"scatter\":[{\"marker\":{\"line\":{\"color\":\"#283442\"}},\"type\":\"scatter\"}],\"parcoords\":[{\"type\":\"parcoords\",\"line\":{\"colorbar\":{\"outlinewidth\":0,\"ticks\":\"\"}}}],\"scatterpolargl\":[{\"type\":\"scatterpolargl\",\"marker\":{\"colorbar\":{\"outlinewidth\":0,\"ticks\":\"\"}}}],\"bar\":[{\"error_x\":{\"color\":\"#f2f5fa\"},\"error_y\":{\"color\":\"#f2f5fa\"},\"marker\":{\"line\":{\"color\":\"rgb(17,17,17)\",\"width\":0.5},\"pattern\":{\"fillmode\":\"overlay\",\"size\":10,\"solidity\":0.2}},\"type\":\"bar\"}],\"scattergeo\":[{\"type\":\"scattergeo\",\"marker\":{\"colorbar\":{\"outlinewidth\":0,\"ticks\":\"\"}}}],\"scatterpolar\":[{\"type\":\"scatterpolar\",\"marker\":{\"colorbar\":{\"outlinewidth\":0,\"ticks\":\"\"}}}],\"histogram\":[{\"marker\":{\"pattern\":{\"fillmode\":\"overlay\",\"size\":10,\"solidity\":0.2}},\"type\":\"histogram\"}],\"scattergl\":[{\"marker\":{\"line\":{\"color\":\"#283442\"}},\"type\":\"scattergl\"}],\"scatter3d\":[{\"type\":\"scatter3d\",\"line\":{\"colorbar\":{\"outlinewidth\":0,\"ticks\":\"\"}},\"marker\":{\"colorbar\":{\"outlinewidth\":0,\"ticks\":\"\"}}}],\"scattermapbox\":[{\"type\":\"scattermapbox\",\"marker\":{\"colorbar\":{\"outlinewidth\":0,\"ticks\":\"\"}}}],\"scatterternary\":[{\"type\":\"scatterternary\",\"marker\":{\"colorbar\":{\"outlinewidth\":0,\"ticks\":\"\"}}}],\"scattercarpet\":[{\"type\":\"scattercarpet\",\"marker\":{\"colorbar\":{\"outlinewidth\":0,\"ticks\":\"\"}}}],\"carpet\":[{\"aaxis\":{\"endlinecolor\":\"#A2B1C6\",\"gridcolor\":\"#506784\",\"linecolor\":\"#506784\",\"minorgridcolor\":\"#506784\",\"startlinecolor\":\"#A2B1C6\"},\"baxis\":{\"endlinecolor\":\"#A2B1C6\",\"gridcolor\":\"#506784\",\"linecolor\":\"#506784\",\"minorgridcolor\":\"#506784\",\"startlinecolor\":\"#A2B1C6\"},\"type\":\"carpet\"}],\"table\":[{\"cells\":{\"fill\":{\"color\":\"#506784\"},\"line\":{\"color\":\"rgb(17,17,17)\"}},\"header\":{\"fill\":{\"color\":\"#2a3f5f\"},\"line\":{\"color\":\"rgb(17,17,17)\"}},\"type\":\"table\"}],\"barpolar\":[{\"marker\":{\"line\":{\"color\":\"rgb(17,17,17)\",\"width\":0.5},\"pattern\":{\"fillmode\":\"overlay\",\"size\":10,\"solidity\":0.2}},\"type\":\"barpolar\"}],\"pie\":[{\"automargin\":true,\"type\":\"pie\"}]},\"layout\":{\"autotypenumbers\":\"strict\",\"colorway\":[\"#636efa\",\"#EF553B\",\"#00cc96\",\"#ab63fa\",\"#FFA15A\",\"#19d3f3\",\"#FF6692\",\"#B6E880\",\"#FF97FF\",\"#FECB52\"],\"font\":{\"color\":\"#f2f5fa\"},\"hovermode\":\"closest\",\"hoverlabel\":{\"align\":\"left\"},\"paper_bgcolor\":\"rgb(17,17,17)\",\"plot_bgcolor\":\"rgb(17,17,17)\",\"polar\":{\"bgcolor\":\"rgb(17,17,17)\",\"angularaxis\":{\"gridcolor\":\"#506784\",\"linecolor\":\"#506784\",\"ticks\":\"\"},\"radialaxis\":{\"gridcolor\":\"#506784\",\"linecolor\":\"#506784\",\"ticks\":\"\"}},\"ternary\":{\"bgcolor\":\"rgb(17,17,17)\",\"aaxis\":{\"gridcolor\":\"#506784\",\"linecolor\":\"#506784\",\"ticks\":\"\"},\"baxis\":{\"gridcolor\":\"#506784\",\"linecolor\":\"#506784\",\"ticks\":\"\"},\"caxis\":{\"gridcolor\":\"#506784\",\"linecolor\":\"#506784\",\"ticks\":\"\"}},\"coloraxis\":{\"colorbar\":{\"outlinewidth\":0,\"ticks\":\"\"}},\"colorscale\":{\"sequential\":[[0.0,\"#0d0887\"],[0.1111111111111111,\"#46039f\"],[0.2222222222222222,\"#7201a8\"],[0.3333333333333333,\"#9c179e\"],[0.4444444444444444,\"#bd3786\"],[0.5555555555555556,\"#d8576b\"],[0.6666666666666666,\"#ed7953\"],[0.7777777777777778,\"#fb9f3a\"],[0.8888888888888888,\"#fdca26\"],[1.0,\"#f0f921\"]],\"sequentialminus\":[[0.0,\"#0d0887\"],[0.1111111111111111,\"#46039f\"],[0.2222222222222222,\"#7201a8\"],[0.3333333333333333,\"#9c179e\"],[0.4444444444444444,\"#bd3786\"],[0.5555555555555556,\"#d8576b\"],[0.6666666666666666,\"#ed7953\"],[0.7777777777777778,\"#fb9f3a\"],[0.8888888888888888,\"#fdca26\"],[1.0,\"#f0f921\"]],\"diverging\":[[0,\"#8e0152\"],[0.1,\"#c51b7d\"],[0.2,\"#de77ae\"],[0.3,\"#f1b6da\"],[0.4,\"#fde0ef\"],[0.5,\"#f7f7f7\"],[0.6,\"#e6f5d0\"],[0.7,\"#b8e186\"],[0.8,\"#7fbc41\"],[0.9,\"#4d9221\"],[1,\"#276419\"]]},\"xaxis\":{\"gridcolor\":\"#283442\",\"linecolor\":\"#506784\",\"ticks\":\"\",\"title\":{\"standoff\":15},\"zerolinecolor\":\"#283442\",\"automargin\":true,\"zerolinewidth\":2},\"yaxis\":{\"gridcolor\":\"#283442\",\"linecolor\":\"#506784\",\"ticks\":\"\",\"title\":{\"standoff\":15},\"zerolinecolor\":\"#283442\",\"automargin\":true,\"zerolinewidth\":2},\"scene\":{\"xaxis\":{\"backgroundcolor\":\"rgb(17,17,17)\",\"gridcolor\":\"#506784\",\"linecolor\":\"#506784\",\"showbackground\":true,\"ticks\":\"\",\"zerolinecolor\":\"#C8D4E3\",\"gridwidth\":2},\"yaxis\":{\"backgroundcolor\":\"rgb(17,17,17)\",\"gridcolor\":\"#506784\",\"linecolor\":\"#506784\",\"showbackground\":true,\"ticks\":\"\",\"zerolinecolor\":\"#C8D4E3\",\"gridwidth\":2},\"zaxis\":{\"backgroundcolor\":\"rgb(17,17,17)\",\"gridcolor\":\"#506784\",\"linecolor\":\"#506784\",\"showbackground\":true,\"ticks\":\"\",\"zerolinecolor\":\"#C8D4E3\",\"gridwidth\":2}},\"shapedefaults\":{\"line\":{\"color\":\"#f2f5fa\"}},\"annotationdefaults\":{\"arrowcolor\":\"#f2f5fa\",\"arrowhead\":0,\"arrowwidth\":1},\"geo\":{\"bgcolor\":\"rgb(17,17,17)\",\"landcolor\":\"rgb(17,17,17)\",\"subunitcolor\":\"#506784\",\"showland\":true,\"showlakes\":true,\"lakecolor\":\"rgb(17,17,17)\"},\"title\":{\"x\":0.05},\"updatemenudefaults\":{\"bgcolor\":\"#506784\",\"borderwidth\":0},\"sliderdefaults\":{\"bgcolor\":\"#C8D4E3\",\"borderwidth\":1,\"bordercolor\":\"rgb(17,17,17)\",\"tickwidth\":0},\"mapbox\":{\"style\":\"dark\"}}},\"xaxis\":{\"anchor\":\"y\",\"domain\":[0.0,1.0],\"title\":{\"text\":\"F1\"},\"range\":[-3.0,1.5]},\"yaxis\":{\"anchor\":\"x\",\"domain\":[0.0,1.0],\"title\":{\"text\":\"F2\"},\"range\":[-2.5,-0.5]},\"legend\":{\"tracegroupgap\":0},\"margin\":{\"t\":1,\"l\":1,\"r\":1,\"b\":1},\"font\":{\"size\":16}},                        {\"responsive\": true}                    ).then(function(){\n                            \nvar gd = document.getElementById('24cbec9c-28fa-4c58-9cde-0551b586a5bd');\nvar x = new MutationObserver(function (mutations, observer) {{\n        var display = window.getComputedStyle(gd).display;\n        if (!display || display === 'none') {{\n            console.log([gd, 'removed!']);\n            Plotly.purge(gd);\n            observer.disconnect();\n        }}\n}});\n\n// Listen for the removal of the full notebook cells\nvar notebookContainer = gd.closest('#notebook-container');\nif (notebookContainer) {{\n    x.observe(notebookContainer, {childList: true});\n}}\n\n// Listen for the clearing of the current output cell\nvar outputEl = gd.closest('.output');\nif (outputEl) {{\n    x.observe(outputEl, {childList: true});\n}}\n\n                        })                };                });            </script>        </div>"
     },
     "metadata": {},
     "output_type": "display_data"
    }
   ],
   "source": [
    "import plotly.express as px\n",
    "fig = px.scatter(df, x = \"F1\", y = \"F2\", text = \"artist\")\n",
    "fig.update_traces(textposition='top center')\n",
    "fig.update_layout(font_size = 16,  margin=dict(l=1, r=1, t=1, b=1),\n",
    "                  yaxis_range=[-2.5,-0.5], xaxis_range = [-3.0, 1.5])\n",
    "#fig.write_image(\"artists.png\")\n",
    "fig.show()"
   ],
   "id": "97e2acb77f170189"
  },
  {
   "cell_type": "code",
   "execution_count": 322,
   "metadata": {
    "ExecuteTime": {
     "end_time": "2024-02-13T21:12:12.719131600Z",
     "start_time": "2024-02-13T21:12:12.652626200Z"
    }
   },
   "outputs": [],
   "source": [
    "ratings_dict = {'itemID': ['ommazh', 'ommazh', 'ommazh', 'ommazh',\n",
    "                           'melt banana', 'melt banana', 'melt banana', 'melt banana',\n",
    "                           'bts', 'bts', 'bts', 'bts',\n",
    "                           'zhou shen', 'zhou shen', 'zhou shen', 'zhou shen',\n",
    "                           'sanam', 'sanam', 'sanam', 'sanam'],\n",
    "                'userID': ['an', 'bhavana', 'cordelia', 'diego', \n",
    "                           'an', 'bhavana', 'cordelia', 'diego', \n",
    "                           'an', 'bhavana', 'cordelia', 'diego',\n",
    "                           'an', 'bhavana', 'cordelia', 'diego',\n",
    "                           'an', 'bhavana', 'cordelia', 'diego'],\n",
    "                'rating': [5, 4, 2, 2,\n",
    "                          5, 5, 2, 2,\n",
    "                          0, 0, 4, 5,\n",
    "                          1, 0, 5, 5,\n",
    "                          1, 1, 5, 4]}\n",
    "df = pd.DataFrame(ratings_dict)"
   ],
   "id": "1a00813bb87bfe8f"
  },
  {
   "cell_type": "markdown",
   "metadata": {},
   "source": [
    "Let's build a two factor model."
   ],
   "id": "69a8f6963aeef867"
  },
  {
   "cell_type": "code",
   "execution_count": 323,
   "metadata": {
    "ExecuteTime": {
     "end_time": "2024-02-13T21:12:12.828205400Z",
     "start_time": "2024-02-13T21:12:12.724131700Z"
    }
   },
   "outputs": [
    {
     "data": {
      "text/plain": "<surprise.prediction_algorithms.matrix_factorization.SVD at 0x2b8469b0430>"
     },
     "execution_count": 323,
     "metadata": {},
     "output_type": "execute_result"
    }
   ],
   "source": [
    "from surprise import Reader\n",
    "reader = Reader(rating_scale=(0, 5))\n",
    "surprise_data = Dataset.load_from_df(df[['userID', 'itemID', 'rating']], reader)\n",
    "surprise_train_data = surprise_data.build_full_trainset()\n",
    "from surprise import SVD\n",
    "algo = SVD(n_factors = 2, biased = False, n_epochs = 2000)\n",
    "algo.fit(surprise_train_data)"
   ],
   "id": "2f5b32bfefee4f2"
  },
  {
   "cell_type": "code",
   "execution_count": 324,
   "metadata": {
    "ExecuteTime": {
     "end_time": "2024-02-13T21:12:12.886283200Z",
     "start_time": "2024-02-13T21:12:12.774131500Z"
    }
   },
   "outputs": [
    {
     "data": {
      "text/plain": "Prediction(uid='an', iid='bts', r_ui=None, est=0.15933928669669695, details={'was_impossible': False})"
     },
     "execution_count": 324,
     "metadata": {},
     "output_type": "execute_result"
    }
   ],
   "source": [
    "algo.predict('an', 'bts')"
   ],
   "id": "afa3d1866bbaa8d"
  },
  {
   "cell_type": "code",
   "execution_count": 325,
   "metadata": {
    "ExecuteTime": {
     "end_time": "2024-02-13T21:12:12.927204600Z",
     "start_time": "2024-02-13T21:12:12.861196800Z"
    }
   },
   "outputs": [
    {
     "data": {
      "text/plain": "{'ommazh': 0, 'melt banana': 1, 'bts': 2, 'zhou shen': 3, 'sanam': 4}"
     },
     "execution_count": 325,
     "metadata": {},
     "output_type": "execute_result"
    }
   ],
   "source": [
    "surprise_train_data._raw2inner_id_items"
   ],
   "id": "f0306019dee13627"
  },
  {
   "cell_type": "code",
   "execution_count": 326,
   "metadata": {
    "ExecuteTime": {
     "end_time": "2024-02-13T21:12:13.004276400Z",
     "start_time": "2024-02-13T21:12:12.928196500Z"
    }
   },
   "outputs": [
    {
     "data": {
      "text/plain": "{'an': 0, 'bhavana': 1, 'cordelia': 2, 'diego': 3}"
     },
     "execution_count": 326,
     "metadata": {},
     "output_type": "execute_result"
    }
   ],
   "source": [
    "surprise_train_data._raw2inner_id_users"
   ],
   "id": "542afa9bc80f145c"
  },
  {
   "cell_type": "code",
   "execution_count": 327,
   "metadata": {
    "ExecuteTime": {
     "end_time": "2024-02-13T21:12:13.054204800Z",
     "start_time": "2024-02-13T21:12:12.987196100Z"
    }
   },
   "outputs": [
    {
     "data": {
      "text/plain": "0.15933928669669695"
     },
     "execution_count": 327,
     "metadata": {},
     "output_type": "execute_result"
    }
   ],
   "source": [
    "algo.bi[2] + algo.bu[0] + np.dot(algo.qi[2], algo.pu[0]) "
   ],
   "id": "de9e53eff1003f5c"
  },
  {
   "cell_type": "code",
   "execution_count": 328,
   "metadata": {
    "ExecuteTime": {
     "end_time": "2024-02-13T21:12:13.108359500Z",
     "start_time": "2024-02-13T21:12:13.039197400Z"
    }
   },
   "outputs": [
    {
     "data": {
      "text/plain": "0.0"
     },
     "execution_count": 328,
     "metadata": {},
     "output_type": "execute_result"
    }
   ],
   "source": [
    "algo.bu[0]"
   ],
   "id": "eb469767711a448a"
  },
  {
   "cell_type": "code",
   "execution_count": 329,
   "metadata": {
    "ExecuteTime": {
     "end_time": "2024-02-13T21:12:13.212412200Z",
     "start_time": "2024-02-13T21:12:13.092359500Z"
    }
   },
   "outputs": [
    {
     "data": {
      "text/plain": "2.9"
     },
     "execution_count": 329,
     "metadata": {},
     "output_type": "execute_result"
    }
   ],
   "source": [
    "algo.trainset.global_mean"
   ],
   "id": "1da6532dd9d84c0a"
  },
  {
   "cell_type": "code",
   "execution_count": 330,
   "metadata": {
    "ExecuteTime": {
     "end_time": "2024-02-13T21:12:13.242425600Z",
     "start_time": "2024-02-13T21:12:13.193411300Z"
    }
   },
   "outputs": [
    {
     "data": {
      "text/plain": "array([[ 1.71303163,  1.39277783],\n       [ 1.94906726,  1.45319604],\n       [-0.97872654,  1.72474103],\n       [-0.84180954,  1.99056855],\n       [-0.49178466,  1.85694124]])"
     },
     "execution_count": 330,
     "metadata": {},
     "output_type": "execute_result"
    }
   ],
   "source": [
    "algo.qi"
   ],
   "id": "fd36ee9d7aa69d77"
  },
  {
   "cell_type": "code",
   "execution_count": 331,
   "metadata": {
    "ExecuteTime": {
     "end_time": "2024-02-13T21:12:13.334414400Z",
     "start_time": "2024-02-13T21:12:13.240412100Z"
    }
   },
   "outputs": [
    {
     "data": {
      "text/plain": "array([[ 1.8195171 ,  1.12489291],\n       [ 1.74720931,  0.89829247],\n       [-0.61515345,  2.23315062],\n       [-0.66651944,  2.22091047]])"
     },
     "execution_count": 331,
     "metadata": {},
     "output_type": "execute_result"
    }
   ],
   "source": [
    "algo.pu"
   ],
   "id": "a4af96b6c21b52a"
  },
  {
   "cell_type": "markdown",
   "metadata": {},
   "source": [
    "Our 2 factor model's predictions"
   ],
   "id": "93cf9e11e73e0fe3"
  },
  {
   "cell_type": "code",
   "execution_count": 332,
   "metadata": {
    "scrolled": true,
    "ExecuteTime": {
     "end_time": "2024-02-13T21:12:13.364411400Z",
     "start_time": "2024-02-13T21:12:13.296411400Z"
    }
   },
   "outputs": [
    {
     "data": {
      "text/plain": "array([[ 4.68361625,  5.18105115,  0.15933929,  0.70748961,  1.19404944],\n       [ 4.24414664,  4.71082353, -0.16071825,  0.31729528,  0.80882559],\n       [ 2.05650537,  2.04623021,  4.45367351,  4.96308144,  4.44935251],\n       [ 1.95146599,  1.92832709,  4.48283568,  4.98195696,  4.45188427]])"
     },
     "execution_count": 332,
     "metadata": {},
     "output_type": "execute_result"
    }
   ],
   "source": [
    "algo.pu @ algo.qi.T"
   ],
   "id": "5e7f4155c94d86f0"
  },
  {
   "cell_type": "markdown",
   "metadata": {},
   "source": [
    "The original data (note: fairly simlar to predictions above)"
   ],
   "id": "9f313d624f223a98"
  },
  {
   "cell_type": "code",
   "execution_count": 333,
   "metadata": {
    "ExecuteTime": {
     "end_time": "2024-02-13T21:12:13.453061400Z",
     "start_time": "2024-02-13T21:12:13.364411400Z"
    }
   },
   "outputs": [],
   "source": [
    "#m"
   ],
   "id": "b7404228cfc0cad2"
  },
  {
   "cell_type": "markdown",
   "metadata": {},
   "source": [
    "## 4 factors (equivalent to SVD)"
   ],
   "id": "61fd1d65e6a9f4c5"
  },
  {
   "cell_type": "code",
   "execution_count": 334,
   "metadata": {
    "ExecuteTime": {
     "end_time": "2024-02-13T21:12:13.478985800Z",
     "start_time": "2024-02-13T21:12:13.440065900Z"
    }
   },
   "outputs": [
    {
     "data": {
      "text/plain": "<surprise.prediction_algorithms.matrix_factorization.SVD at 0x2b8469b3e50>"
     },
     "execution_count": 334,
     "metadata": {},
     "output_type": "execute_result"
    }
   ],
   "source": [
    "reader = Reader(rating_scale=(0, 5))\n",
    "surprise_data = Dataset.load_from_df(df[['userID', 'itemID', 'rating']], reader)\n",
    "surprise_train_data = surprise_data.build_full_trainset()\n",
    "algo = SVD(n_factors = 4, biased = False, n_epochs = 2000)\n",
    "algo.fit(surprise_train_data)"
   ],
   "id": "86f684674dec24aa"
  },
  {
   "cell_type": "markdown",
   "metadata": {},
   "source": [
    "Below, we see that with four factors, we're even closer to the original data."
   ],
   "id": "5ddfac285cebf1a8"
  },
  {
   "cell_type": "code",
   "execution_count": 335,
   "metadata": {
    "scrolled": true,
    "ExecuteTime": {
     "end_time": "2024-02-13T21:12:13.545985600Z",
     "start_time": "2024-02-13T21:12:13.466977100Z"
    }
   },
   "outputs": [
    {
     "data": {
      "text/plain": "array([[ 4.92551054,  4.97775933,  0.02725963,  0.96920437,  1.0195284 ],\n       [ 3.99238964,  4.92611008, -0.01074088,  0.04293881,  0.97909568],\n       [ 1.9979191 ,  1.99896532,  4.00916651,  4.96311612,  4.92208447],\n       [ 1.99123528,  1.98843581,  4.92242099,  4.96447094,  4.00941011]])"
     },
     "execution_count": 335,
     "metadata": {},
     "output_type": "execute_result"
    }
   ],
   "source": [
    "algo.pu @ algo.qi.T"
   ],
   "id": "cb6c527e67fa46cd"
  },
  {
   "cell_type": "code",
   "execution_count": 336,
   "metadata": {
    "scrolled": true,
    "ExecuteTime": {
     "end_time": "2024-02-13T21:12:13.597118Z",
     "start_time": "2024-02-13T21:12:13.528977200Z"
    }
   },
   "outputs": [],
   "source": [
    "#m"
   ],
   "id": "89220bcfde1ff71b"
  },
  {
   "cell_type": "code",
   "execution_count": 337,
   "metadata": {
    "ExecuteTime": {
     "end_time": "2024-02-13T21:12:13.642118100Z",
     "start_time": "2024-02-13T21:12:13.596128100Z"
    }
   },
   "outputs": [
    {
     "data": {
      "text/plain": "array([[-1.65421821, -0.11378509,  0.06237906,  1.45835489],\n       [-1.55345767, -0.16146321,  1.02187732,  0.84058623],\n       [-0.74937869,  2.26692646, -0.07371344,  0.26806284],\n       [ 0.0950929 ,  2.09002925,  0.35337464,  1.14158039]])"
     },
     "execution_count": 337,
     "metadata": {},
     "output_type": "execute_result"
    }
   ],
   "source": [
    "algo.pu"
   ],
   "id": "ccae010b71da67e1"
  },
  {
   "cell_type": "code",
   "execution_count": 338,
   "metadata": {
    "ExecuteTime": {
     "end_time": "2024-02-13T21:12:13.709127200Z",
     "start_time": "2024-02-13T21:12:13.642118100Z"
    }
   },
   "outputs": [
    {
     "data": {
      "text/plain": "array([[-1.64111084e+00, -1.83078635e+00,  5.01575826e-01,\n        -1.10840420e-01, -7.43739198e-01],\n       [ 1.65084699e-01,  1.54211001e-01,  1.86493541e+00,\n         2.05535721e+00,  1.92965166e+00],\n       [ 1.87191845e-01,  9.87215290e-01,  4.59759880e-01,\n        -3.90641228e-01,  1.32090788e-01],\n       [ 1.52079747e+00,  1.30640667e+00,  7.13473753e-01,\n         7.15934760e-01,  3.75327092e-04]])"
     },
     "execution_count": 338,
     "metadata": {},
     "output_type": "execute_result"
    }
   ],
   "source": [
    "algo.qi.T"
   ],
   "id": "c251a1c1f8f8fc24"
  },
  {
   "cell_type": "code",
   "execution_count": 339,
   "metadata": {
    "ExecuteTime": {
     "end_time": "2024-02-13T21:12:13.758127Z",
     "start_time": "2024-02-13T21:12:13.687947300Z"
    }
   },
   "outputs": [],
   "source": [
    "#u"
   ],
   "id": "d46f398deb4f1dd0"
  },
  {
   "cell_type": "markdown",
   "metadata": {},
   "source": [
    "## Partial information only"
   ],
   "id": "c3ec4ee6b090385"
  },
  {
   "cell_type": "code",
   "execution_count": 340,
   "metadata": {
    "ExecuteTime": {
     "end_time": "2024-02-13T21:12:13.821117900Z",
     "start_time": "2024-02-13T21:12:13.759118500Z"
    }
   },
   "outputs": [],
   "source": [
    "ratings_dict = {'itemID': ['ommazh', 'ommazh', 'ommazh', \n",
    "                           'melt banana', 'melt banana', 'melt banana',\n",
    "                           'bts', 'bts', 'bts',\n",
    "                           'zhou shen', 'zhou shen', 'zhou shen',\n",
    "                           'sanam', 'sanam', 'sanam', 'sanam'],\n",
    "                'userID': ['an', 'bhavana', 'diego', \n",
    "                           'an', 'bhavana', 'cordelia', \n",
    "                           'an', 'cordelia', 'diego',\n",
    "                           'an', 'bhavana', 'cordelia',\n",
    "                           'an', 'bhavana', 'cordelia', 'diego'],\n",
    "                'rating': [5, 4, 2, 5, 5, 2, 0, 4, 5, 1, 0, 5, 1, 1, 5, 4]}\n",
    "df = pd.DataFrame(ratings_dict)"
   ],
   "id": "81cbed085c81d200"
  },
  {
   "cell_type": "code",
   "execution_count": 341,
   "metadata": {
    "ExecuteTime": {
     "end_time": "2024-02-13T21:12:13.883286300Z",
     "start_time": "2024-02-13T21:12:13.819127Z"
    }
   },
   "outputs": [
    {
     "data": {
      "text/plain": "         itemID    userID  rating\n0        ommazh        an       5\n1        ommazh   bhavana       4\n2        ommazh     diego       2\n3   melt banana        an       5\n4   melt banana   bhavana       5\n5   melt banana  cordelia       2\n6           bts        an       0\n7           bts  cordelia       4\n8           bts     diego       5\n9     zhou shen        an       1\n10    zhou shen   bhavana       0\n11    zhou shen  cordelia       5\n12        sanam        an       1\n13        sanam   bhavana       1\n14        sanam  cordelia       5\n15        sanam     diego       4",
      "text/html": "<div>\n<style scoped>\n    .dataframe tbody tr th:only-of-type {\n        vertical-align: middle;\n    }\n\n    .dataframe tbody tr th {\n        vertical-align: top;\n    }\n\n    .dataframe thead th {\n        text-align: right;\n    }\n</style>\n<table border=\"1\" class=\"dataframe\">\n  <thead>\n    <tr style=\"text-align: right;\">\n      <th></th>\n      <th>itemID</th>\n      <th>userID</th>\n      <th>rating</th>\n    </tr>\n  </thead>\n  <tbody>\n    <tr>\n      <th>0</th>\n      <td>ommazh</td>\n      <td>an</td>\n      <td>5</td>\n    </tr>\n    <tr>\n      <th>1</th>\n      <td>ommazh</td>\n      <td>bhavana</td>\n      <td>4</td>\n    </tr>\n    <tr>\n      <th>2</th>\n      <td>ommazh</td>\n      <td>diego</td>\n      <td>2</td>\n    </tr>\n    <tr>\n      <th>3</th>\n      <td>melt banana</td>\n      <td>an</td>\n      <td>5</td>\n    </tr>\n    <tr>\n      <th>4</th>\n      <td>melt banana</td>\n      <td>bhavana</td>\n      <td>5</td>\n    </tr>\n    <tr>\n      <th>5</th>\n      <td>melt banana</td>\n      <td>cordelia</td>\n      <td>2</td>\n    </tr>\n    <tr>\n      <th>6</th>\n      <td>bts</td>\n      <td>an</td>\n      <td>0</td>\n    </tr>\n    <tr>\n      <th>7</th>\n      <td>bts</td>\n      <td>cordelia</td>\n      <td>4</td>\n    </tr>\n    <tr>\n      <th>8</th>\n      <td>bts</td>\n      <td>diego</td>\n      <td>5</td>\n    </tr>\n    <tr>\n      <th>9</th>\n      <td>zhou shen</td>\n      <td>an</td>\n      <td>1</td>\n    </tr>\n    <tr>\n      <th>10</th>\n      <td>zhou shen</td>\n      <td>bhavana</td>\n      <td>0</td>\n    </tr>\n    <tr>\n      <th>11</th>\n      <td>zhou shen</td>\n      <td>cordelia</td>\n      <td>5</td>\n    </tr>\n    <tr>\n      <th>12</th>\n      <td>sanam</td>\n      <td>an</td>\n      <td>1</td>\n    </tr>\n    <tr>\n      <th>13</th>\n      <td>sanam</td>\n      <td>bhavana</td>\n      <td>1</td>\n    </tr>\n    <tr>\n      <th>14</th>\n      <td>sanam</td>\n      <td>cordelia</td>\n      <td>5</td>\n    </tr>\n    <tr>\n      <th>15</th>\n      <td>sanam</td>\n      <td>diego</td>\n      <td>4</td>\n    </tr>\n  </tbody>\n</table>\n</div>"
     },
     "execution_count": 341,
     "metadata": {},
     "output_type": "execute_result"
    }
   ],
   "source": [
    "df"
   ],
   "id": "3883d71a06ef513d"
  },
  {
   "cell_type": "code",
   "execution_count": 342,
   "metadata": {
    "ExecuteTime": {
     "end_time": "2024-02-13T21:12:13.908276300Z",
     "start_time": "2024-02-13T21:12:13.864276500Z"
    }
   },
   "outputs": [],
   "source": [
    "from surprise import Reader\n",
    "reader = Reader(rating_scale=(0, 5))"
   ],
   "id": "91f557460b7ef1a2"
  },
  {
   "cell_type": "code",
   "execution_count": 343,
   "metadata": {
    "ExecuteTime": {
     "end_time": "2024-02-13T21:12:13.974541700Z",
     "start_time": "2024-02-13T21:12:13.908276300Z"
    }
   },
   "outputs": [],
   "source": [
    "surprise_data = Dataset.load_from_df(df[['userID', 'itemID', 'rating']], reader)"
   ],
   "id": "47b13072201f90ea"
  },
  {
   "cell_type": "code",
   "execution_count": 344,
   "metadata": {
    "ExecuteTime": {
     "end_time": "2024-02-13T21:12:14.032626600Z",
     "start_time": "2024-02-13T21:12:13.945533Z"
    }
   },
   "outputs": [],
   "source": [
    "surprise_train_data = surprise_data.build_full_trainset()"
   ],
   "id": "6af3841041a780d"
  },
  {
   "cell_type": "code",
   "execution_count": 345,
   "metadata": {
    "ExecuteTime": {
     "end_time": "2024-02-13T21:12:14.067620100Z",
     "start_time": "2024-02-13T21:12:14.006578700Z"
    }
   },
   "outputs": [],
   "source": [
    "from surprise import SVD"
   ],
   "id": "bd12f31183c94647"
  },
  {
   "cell_type": "code",
   "execution_count": 346,
   "metadata": {
    "ExecuteTime": {
     "end_time": "2024-02-13T21:12:14.111533300Z",
     "start_time": "2024-02-13T21:12:14.051533200Z"
    }
   },
   "outputs": [],
   "source": [
    "algo = SVD(n_factors = 2)"
   ],
   "id": "f687507901d12101"
  },
  {
   "cell_type": "code",
   "execution_count": 347,
   "metadata": {
    "scrolled": true,
    "ExecuteTime": {
     "end_time": "2024-02-13T21:12:14.137908200Z",
     "start_time": "2024-02-13T21:12:14.112533600Z"
    }
   },
   "outputs": [
    {
     "data": {
      "text/plain": "<surprise.prediction_algorithms.matrix_factorization.SVD at 0x2b8498bf130>"
     },
     "execution_count": 347,
     "metadata": {},
     "output_type": "execute_result"
    }
   ],
   "source": [
    "algo.fit(surprise_train_data)"
   ],
   "id": "20c559f41d0f32d7"
  },
  {
   "cell_type": "code",
   "execution_count": 348,
   "metadata": {
    "ExecuteTime": {
     "end_time": "2024-02-13T21:12:14.205745200Z",
     "start_time": "2024-02-13T21:12:14.135905500Z"
    }
   },
   "outputs": [
    {
     "data": {
      "text/plain": "Prediction(uid='an', iid='bts', r_ui=None, est=2.7729893178249365, details={'was_impossible': False})"
     },
     "execution_count": 348,
     "metadata": {},
     "output_type": "execute_result"
    }
   ],
   "source": [
    "algo.predict('an', 'bts')"
   ],
   "id": "377f297b2f534da7"
  },
  {
   "cell_type": "code",
   "execution_count": 349,
   "metadata": {
    "ExecuteTime": {
     "end_time": "2024-02-13T21:12:14.232754500Z",
     "start_time": "2024-02-13T21:12:14.179743300Z"
    }
   },
   "outputs": [
    {
     "data": {
      "text/plain": "array([[-0.00843373, -0.13320058],\n       [ 0.1898689 ,  0.05935928],\n       [ 0.09213678,  0.06144789],\n       [ 0.05545923, -0.16803106]])"
     },
     "execution_count": 349,
     "metadata": {},
     "output_type": "execute_result"
    }
   ],
   "source": [
    "algo.pu"
   ],
   "id": "447c96f1b7e6571c"
  },
  {
   "cell_type": "code",
   "execution_count": 350,
   "metadata": {
    "ExecuteTime": {
     "end_time": "2024-02-13T21:12:14.316744600Z",
     "start_time": "2024-02-13T21:12:14.216744900Z"
    }
   },
   "outputs": [
    {
     "data": {
      "text/plain": "array([-0.26744707, -0.1877779 ,  0.1582294 ,  0.31777924])"
     },
     "execution_count": 350,
     "metadata": {},
     "output_type": "execute_result"
    }
   ],
   "source": [
    "algo.bu"
   ],
   "id": "6d8c8d191555535d"
  },
  {
   "cell_type": "code",
   "execution_count": 351,
   "metadata": {
    "ExecuteTime": {
     "end_time": "2024-02-13T21:12:14.368330400Z",
     "start_time": "2024-02-13T21:12:14.315745Z"
    }
   },
   "outputs": [
    {
     "data": {
      "text/plain": "array([[ 0.07189167, -0.04756338],\n       [ 0.00936721, -0.05081793],\n       [ 0.03607863, -0.02902683],\n       [-0.01053925, -0.05944185],\n       [-0.15714016, -0.02191264]])"
     },
     "execution_count": 351,
     "metadata": {},
     "output_type": "execute_result"
    }
   ],
   "source": [
    "algo.qi"
   ],
   "id": "5af8d615aaf23b6d"
  },
  {
   "cell_type": "code",
   "execution_count": 352,
   "metadata": {
    "ExecuteTime": {
     "end_time": "2024-02-13T21:12:14.435320300Z",
     "start_time": "2024-02-13T21:12:14.345320500Z"
    }
   },
   "outputs": [
    {
     "data": {
      "text/plain": "array([ 0.16741385,  0.2455253 , -0.02562573, -0.26945014, -0.09723473])"
     },
     "execution_count": 352,
     "metadata": {},
     "output_type": "execute_result"
    }
   ],
   "source": [
    "algo.bi"
   ],
   "id": "841245378630ebef"
  },
  {
   "cell_type": "code",
   "execution_count": 353,
   "metadata": {
    "ExecuteTime": {
     "end_time": "2024-02-13T21:12:14.489328600Z",
     "start_time": "2024-02-13T21:12:14.434320600Z"
    }
   },
   "outputs": [
    {
     "data": {
      "text/plain": "array([[ 0.00572915,  0.00668998,  0.00356211,  0.00800657,  0.00424405],\n       [ 0.01082666, -0.00123797,  0.0051272 , -0.0055295 , -0.03113675],\n       [ 0.0037012 , -0.00225959,  0.00154053, -0.00462363, -0.01582487],\n       [ 0.01197918,  0.00905849,  0.0068783 ,  0.00940358, -0.00503287]])"
     },
     "execution_count": 353,
     "metadata": {},
     "output_type": "execute_result"
    }
   ],
   "source": [
    "algo.pu @ algo.qi.T"
   ],
   "id": "d9c725e5b0816749"
  },
  {
   "cell_type": "code",
   "execution_count": 354,
   "metadata": {
    "ExecuteTime": {
     "end_time": "2024-02-13T21:12:14.541330200Z",
     "start_time": "2024-02-13T21:12:14.475320500Z"
    }
   },
   "outputs": [
    {
     "data": {
      "text/plain": "array([-0.00843373, -0.13320058])"
     },
     "execution_count": 354,
     "metadata": {},
     "output_type": "execute_result"
    }
   ],
   "source": [
    "algo.pu[0, :]"
   ],
   "id": "ec937ae3fad791c8"
  },
  {
   "cell_type": "code",
   "execution_count": 355,
   "metadata": {
    "ExecuteTime": {
     "end_time": "2024-02-13T21:12:14.562328700Z",
     "start_time": "2024-02-13T21:12:14.508320300Z"
    }
   },
   "outputs": [
    {
     "data": {
      "text/plain": "array([ 0.07189167, -0.04756338])"
     },
     "execution_count": 355,
     "metadata": {},
     "output_type": "execute_result"
    }
   ],
   "source": [
    "algo.qi[0, :]"
   ],
   "id": "753e0713616cda2c"
  },
  {
   "cell_type": "code",
   "execution_count": 356,
   "metadata": {
    "ExecuteTime": {
     "end_time": "2024-02-13T21:12:14.604404900Z",
     "start_time": "2024-02-13T21:12:14.551320500Z"
    }
   },
   "outputs": [
    {
     "data": {
      "text/plain": "-0.0943040657325736"
     },
     "execution_count": 356,
     "metadata": {},
     "output_type": "execute_result"
    }
   ],
   "source": [
    "np.dot(algo.pu[0, :], algo.qi[0, :]) + algo.bu[0] + algo.bi[0]"
   ],
   "id": "1bbd97be3b131bfb"
  },
  {
   "cell_type": "code",
   "execution_count": 357,
   "metadata": {
    "ExecuteTime": {
     "end_time": "2024-02-13T21:12:14.642399600Z",
     "start_time": "2024-02-13T21:12:14.605412500Z"
    }
   },
   "outputs": [],
   "source": [
    "# https://stackoverflow.com/questions/66169281/python-surprise-package-gives-different-predictions-for-predict-method-vs-manual"
   ],
   "id": "cc0de657e6c5ecaf"
  }
 ],
 "metadata": {
  "kernelspec": {
   "display_name": "Python 3",
   "language": "python",
   "name": "python3"
  },
  "language_info": {
   "codemirror_mode": {
    "name": "ipython",
    "version": 3
   },
   "file_extension": ".py",
   "mimetype": "text/x-python",
   "name": "python",
   "nbconvert_exporter": "python",
   "pygments_lexer": "ipython3",
   "version": "3.8.5"
  }
 },
 "nbformat": 4,
 "nbformat_minor": 5
}
