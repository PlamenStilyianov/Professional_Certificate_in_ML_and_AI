{
 "cells": [
  {
   "cell_type": "markdown",
   "metadata": {
    "deletable": false,
    "editable": false,
    "nbgrader": {
     "checksum": "b2d9cdb018506a189f8f332c323375d6",
     "grade": false,
     "grade_id": "cell-537d7ef28174120e",
     "locked": true,
     "schema_version": 1,
     "solution": false
    }
   },
   "source": [
    "### Codio Activity 19.7: Hybrid Recommendations with Surprise\n",
    "\n",
    "**Expected Time = 90 minutes**\n",
    "\n",
    "**Total Points = 50**\n",
    "\n",
    "This activity introduces the idea of using hybrid recommendations with the Surprise library.  Below, you will combine different algorithms predictions to create these hybrid recommendations.  You are again to use the `SVD` algorithm and will combine with the `KNNBasic` algorithm for hybrid recommendations."
   ]
  },
  {
   "cell_type": "markdown",
   "metadata": {
    "deletable": false,
    "editable": false,
    "nbgrader": {
     "checksum": "e30892223b06a32cf0d574d4a1a88d10",
     "grade": false,
     "grade_id": "cell-4b91bbf48f6c691a",
     "locked": true,
     "schema_version": 1,
     "solution": false
    }
   },
   "source": [
    "#### Index\n",
    "\n",
    "- [Problem 1](#-Problem-1)\n",
    "- [Problem 2](#-Problem-2)\n",
    "- [Problem 3](#-Problem-3)\n",
    "- [Problem 4](#-Problem-4)\n",
    "- [Problem 5](#-Problem-5)\n"
   ]
  },
  {
   "cell_type": "code",
   "execution_count": 1,
   "metadata": {
    "ExecuteTime": {
     "end_time": "2024-02-12T10:25:38.641063300Z",
     "start_time": "2024-02-12T10:25:38.019525900Z"
    }
   },
   "outputs": [],
   "source": [
    "import pandas as pd\n",
    "from surprise import Reader, SVD, Dataset, NormalPredictor, KNNBasic\n",
    "from surprise.model_selection import cross_validate"
   ]
  },
  {
   "cell_type": "markdown",
   "metadata": {
    "deletable": false,
    "editable": false,
    "nbgrader": {
     "checksum": "096bc247463a7e14bd8e8a2a82e294b3",
     "grade": false,
     "grade_id": "cell-70c5139bbc0d73ae",
     "locked": true,
     "schema_version": 1,
     "solution": false
    }
   },
   "source": [
    "#### The Data\n",
    "\n",
    "Again you will use a small set of data from Movie Lens.  The data is loaded and displayed below."
   ]
  },
  {
   "cell_type": "code",
   "execution_count": 2,
   "metadata": {
    "ExecuteTime": {
     "end_time": "2024-02-12T10:25:38.702923900Z",
     "start_time": "2024-02-12T10:25:38.642870800Z"
    }
   },
   "outputs": [],
   "source": [
    "df = pd.read_csv('data/movie_ratings.csv', index_col=0)"
   ]
  },
  {
   "cell_type": "code",
   "execution_count": 3,
   "metadata": {
    "ExecuteTime": {
     "end_time": "2024-02-12T10:25:38.726923600Z",
     "start_time": "2024-02-12T10:25:38.703923700Z"
    }
   },
   "outputs": [
    {
     "data": {
      "text/plain": "   movieId             title  userId  rating\n0        1  Toy Story (1995)       1     4.0\n1        1  Toy Story (1995)       5     4.0\n2        1  Toy Story (1995)       7     4.5\n3        1  Toy Story (1995)      15     2.5\n4        1  Toy Story (1995)      17     4.5",
      "text/html": "<div>\n<style scoped>\n    .dataframe tbody tr th:only-of-type {\n        vertical-align: middle;\n    }\n\n    .dataframe tbody tr th {\n        vertical-align: top;\n    }\n\n    .dataframe thead th {\n        text-align: right;\n    }\n</style>\n<table border=\"1\" class=\"dataframe\">\n  <thead>\n    <tr style=\"text-align: right;\">\n      <th></th>\n      <th>movieId</th>\n      <th>title</th>\n      <th>userId</th>\n      <th>rating</th>\n    </tr>\n  </thead>\n  <tbody>\n    <tr>\n      <th>0</th>\n      <td>1</td>\n      <td>Toy Story (1995)</td>\n      <td>1</td>\n      <td>4.0</td>\n    </tr>\n    <tr>\n      <th>1</th>\n      <td>1</td>\n      <td>Toy Story (1995)</td>\n      <td>5</td>\n      <td>4.0</td>\n    </tr>\n    <tr>\n      <th>2</th>\n      <td>1</td>\n      <td>Toy Story (1995)</td>\n      <td>7</td>\n      <td>4.5</td>\n    </tr>\n    <tr>\n      <th>3</th>\n      <td>1</td>\n      <td>Toy Story (1995)</td>\n      <td>15</td>\n      <td>2.5</td>\n    </tr>\n    <tr>\n      <th>4</th>\n      <td>1</td>\n      <td>Toy Story (1995)</td>\n      <td>17</td>\n      <td>4.5</td>\n    </tr>\n  </tbody>\n</table>\n</div>"
     },
     "execution_count": 3,
     "metadata": {},
     "output_type": "execute_result"
    }
   ],
   "source": [
    "df.head()"
   ]
  },
  {
   "cell_type": "markdown",
   "metadata": {
    "deletable": false,
    "editable": false,
    "nbgrader": {
     "checksum": "71d5662452f52e894dd1ada2606dd35e",
     "grade": false,
     "grade_id": "cell-703c54570a822d02",
     "locked": true,
     "schema_version": 1,
     "solution": false
    }
   },
   "source": [
    "[Back to top](#-Index)\n",
    "\n",
    "### Problem 1\n",
    "\n",
    "#### Loading the Data \n",
    "\n",
    "**10 Points**\n",
    "\n",
    "Below, use the `Reader` and `Dataset` objects to prepare the data for Surprise using the `title`, `userId` and `rating` columns in order.  Assign these to `reader` and `data` below.  \n",
    "\n",
    "Create a train and test dataset, assign to `train` and `test` respectively."
   ]
  },
  {
   "cell_type": "code",
   "execution_count": 4,
   "metadata": {
    "deletable": false,
    "nbgrader": {
     "checksum": "e68a03b5db74375714c05d7f4b109791",
     "grade": false,
     "grade_id": "cell-861eeb2c00936094",
     "locked": false,
     "schema_version": 1,
     "solution": true
    },
    "ExecuteTime": {
     "end_time": "2024-02-12T10:25:38.830929100Z",
     "start_time": "2024-02-12T10:25:38.719923700Z"
    }
   },
   "outputs": [
    {
     "name": "stdout",
     "output_type": "stream",
     "text": [
      "<class 'surprise.trainset.Trainset'>\n",
      "<class 'list'>\n"
     ]
    }
   ],
   "source": [
    "### GRADED\n",
    "reader = ''\n",
    "data = ''\n",
    "train = ''\n",
    "test = ''\n",
    "\n",
    "    \n",
    "# YOUR CODE HERE\n",
    "reader = Reader(line_format='item user rating')\n",
    "data = Dataset.load_from_df(df[['title', 'userId', 'rating']], reader)\n",
    "train = data.build_full_trainset()\n",
    "test = train.build_testset()\n",
    "\n",
    "### ANSWER CHECK\n",
    "print(type(train))\n",
    "print(type(test))"
   ]
  },
  {
   "cell_type": "code",
   "execution_count": 4,
   "metadata": {
    "deletable": false,
    "editable": false,
    "nbgrader": {
     "checksum": "68b6140754284339d835bc7757b59470",
     "grade": true,
     "grade_id": "cell-267b821efae8cdc4",
     "locked": true,
     "points": 10,
     "schema_version": 1,
     "solution": false
    },
    "ExecuteTime": {
     "end_time": "2024-02-12T10:25:38.842943100Z",
     "start_time": "2024-02-12T10:25:38.828923500Z"
    }
   },
   "outputs": [],
   "source": []
  },
  {
   "cell_type": "markdown",
   "metadata": {
    "deletable": false,
    "editable": false,
    "nbgrader": {
     "checksum": "6da633ffbf8d17d9e25d243a09793c24",
     "grade": false,
     "grade_id": "cell-c336d86d3aca1c13",
     "locked": true,
     "schema_version": 1,
     "solution": false
    }
   },
   "source": [
    "[Back to top](#-Index)\n",
    "\n",
    "### Problem 2\n",
    "\n",
    "#### SVD Model\n",
    "\n",
    "**10 Points**\n",
    "\n",
    "Now, create and fit an `SVD` model as `svd` below.  Make predictions using the model on the test set and assign these to `svd_preds` below.  Be sure to set `random_state = 42` in the `SVD` algorithm."
   ]
  },
  {
   "cell_type": "code",
   "execution_count": 5,
   "metadata": {
    "deletable": false,
    "nbgrader": {
     "checksum": "bf3ed84b1d06f88c33861a884352012e",
     "grade": false,
     "grade_id": "cell-200b5778449dce82",
     "locked": false,
     "schema_version": 1,
     "solution": true
    },
    "ExecuteTime": {
     "end_time": "2024-02-12T10:25:39.717278700Z",
     "start_time": "2024-02-12T10:25:38.843923400Z"
    }
   },
   "outputs": [
    {
     "name": "stdout",
     "output_type": "stream",
     "text": [
      "[Prediction(uid='Toy Story (1995)', iid=1, r_ui=4.0, est=4.402273922317781, details={'was_impossible': False}), Prediction(uid='Toy Story (1995)', iid=5, r_ui=4.0, est=4.03204694074919, details={'was_impossible': False}), Prediction(uid='Toy Story (1995)', iid=7, r_ui=4.5, est=4.1184783390134, details={'was_impossible': False}), Prediction(uid='Toy Story (1995)', iid=15, r_ui=2.5, est=3.298923822257094, details={'was_impossible': False}), Prediction(uid='Toy Story (1995)', iid=17, r_ui=4.5, est=4.191087116406786, details={'was_impossible': False})]\n"
     ]
    }
   ],
   "source": [
    "### GRADED\n",
    "svd = ''\n",
    "svd_preds = ''\n",
    "\n",
    "    \n",
    "# YOUR CODE HERE\n",
    "svd = SVD(random_state = 42)\n",
    "svd.fit(train)\n",
    "svd_preds = svd.test(test)\n",
    "\n",
    "### ANSWER CHECK\n",
    "print(svd_preds[:5])"
   ]
  },
  {
   "cell_type": "code",
   "execution_count": 5,
   "metadata": {
    "deletable": false,
    "editable": false,
    "nbgrader": {
     "checksum": "9a318b0a3e9a219a6ea4a4a5e4a5eaf5",
     "grade": true,
     "grade_id": "cell-c5e4955707ccfa48",
     "locked": true,
     "points": 10,
     "schema_version": 1,
     "solution": false
    },
    "ExecuteTime": {
     "end_time": "2024-02-12T10:25:39.746826900Z",
     "start_time": "2024-02-12T10:25:39.717278700Z"
    }
   },
   "outputs": [],
   "source": []
  },
  {
   "cell_type": "markdown",
   "metadata": {
    "deletable": false,
    "editable": false,
    "nbgrader": {
     "checksum": "e9885bcbfa5ce1973d5f5d269bd5d005",
     "grade": false,
     "grade_id": "cell-b7e9800a369b9498",
     "locked": true,
     "schema_version": 1,
     "solution": false
    }
   },
   "source": [
    "[Back to top](#-Index)\n",
    "\n",
    "### Problem 3\n",
    "\n",
    "#### SlopeOne Model\n",
    "\n",
    "**10 Points**\n",
    "\n",
    "Next, create a `SlopeOne` model below as `slope_one`.  Fit this on the train and assign test set predictions to `slope_one_preds` below. "
   ]
  },
  {
   "cell_type": "code",
   "execution_count": 6,
   "metadata": {
    "ExecuteTime": {
     "end_time": "2024-02-12T10:25:39.747826100Z",
     "start_time": "2024-02-12T10:25:39.732278700Z"
    }
   },
   "outputs": [],
   "source": [
    "from surprise import SlopeOne"
   ]
  },
  {
   "cell_type": "code",
   "execution_count": 7,
   "metadata": {
    "deletable": false,
    "nbgrader": {
     "checksum": "5a02bdf7bd0c6e80f3ab2de9735c47fb",
     "grade": false,
     "grade_id": "cell-5fa378423f4c2a03",
     "locked": false,
     "schema_version": 1,
     "solution": true
    },
    "ExecuteTime": {
     "end_time": "2024-02-12T10:25:41.586311300Z",
     "start_time": "2024-02-12T10:25:39.748826600Z"
    }
   },
   "outputs": [
    {
     "name": "stdout",
     "output_type": "stream",
     "text": [
      "[Prediction(uid='Toy Story (1995)', iid=1, r_ui=4.0, est=4.562773780247601, details={'was_impossible': False}), Prediction(uid='Toy Story (1995)', iid=5, r_ui=4.0, est=3.876436672186221, details={'was_impossible': False}), Prediction(uid='Toy Story (1995)', iid=7, r_ui=4.5, est=3.7666616617854367, details={'was_impossible': False}), Prediction(uid='Toy Story (1995)', iid=15, r_ui=2.5, est=3.5513821707689663, details={'was_impossible': False}), Prediction(uid='Toy Story (1995)', iid=17, r_ui=4.5, est=4.113053394469709, details={'was_impossible': False})]\n"
     ]
    }
   ],
   "source": [
    "### GRADED\n",
    "slope_one = ''\n",
    "slope_one_preds = ''\n",
    "\n",
    "    \n",
    "# YOUR CODE HERE\n",
    "slope_one = SlopeOne()\n",
    "slope_one.fit(train)\n",
    "slope_one_preds = slope_one.test(test)\n",
    "\n",
    "### ANSWER CHECK\n",
    "print(slope_one_preds[:5])"
   ]
  },
  {
   "cell_type": "code",
   "execution_count": 7,
   "metadata": {
    "deletable": false,
    "editable": false,
    "nbgrader": {
     "checksum": "2d86ed0e33e68a16f76897f9e32152d4",
     "grade": true,
     "grade_id": "cell-b957eb2e4f908d71",
     "locked": true,
     "points": 10,
     "schema_version": 1,
     "solution": false
    },
    "ExecuteTime": {
     "end_time": "2024-02-12T10:25:41.616311300Z",
     "start_time": "2024-02-12T10:25:41.586311300Z"
    }
   },
   "outputs": [],
   "source": []
  },
  {
   "cell_type": "markdown",
   "metadata": {
    "deletable": false,
    "editable": false,
    "nbgrader": {
     "checksum": "7c8e1315ef26824570f5e8107ee5e066",
     "grade": false,
     "grade_id": "cell-78672cbd03ca302e",
     "locked": true,
     "schema_version": 1,
     "solution": false
    }
   },
   "source": [
    "[Back to top](#-Index)\n",
    "\n",
    "### Problem 4\n",
    "\n",
    "#### Hybrid Predictions\n",
    "\n",
    "**10 Points**\n",
    "\n",
    "Now, use both the slope one and svd predictions to average the predicted values for each user as new predictions.  Assign your results to the list `hybrid_preds` below."
   ]
  },
  {
   "cell_type": "code",
   "execution_count": 8,
   "metadata": {
    "deletable": false,
    "nbgrader": {
     "checksum": "2a2f9058320855de7f1a2c315636dc45",
     "grade": false,
     "grade_id": "cell-08e167c89e62af4f",
     "locked": false,
     "schema_version": 1,
     "solution": true
    },
    "ExecuteTime": {
     "end_time": "2024-02-12T10:25:41.649311600Z",
     "start_time": "2024-02-12T10:25:41.601311300Z"
    }
   },
   "outputs": [
    {
     "data": {
      "text/plain": "[4.482523851282691,\n 3.9542418064677056,\n 3.942570000399418,\n 3.42515299651303,\n 4.152070255438248]"
     },
     "execution_count": 8,
     "metadata": {},
     "output_type": "execute_result"
    }
   ],
   "source": [
    "### GRADED\n",
    "hybrid_preds = ''\n",
    "\n",
    "    \n",
    "# YOUR CODE HERE\n",
    "hybrid_preds = [0.5*i.est + 0.5*j.est for i,j in zip(slope_one_preds, svd_preds)]\n",
    "\n",
    "### ANSWER CHECK\n",
    "hybrid_preds[:5]"
   ]
  },
  {
   "cell_type": "code",
   "execution_count": 8,
   "metadata": {
    "deletable": false,
    "editable": false,
    "nbgrader": {
     "checksum": "100c7ef469a2aed2d09ecd77d0cba83c",
     "grade": true,
     "grade_id": "cell-921255d1122e9a96",
     "locked": true,
     "points": 10,
     "schema_version": 1,
     "solution": false
    },
    "ExecuteTime": {
     "end_time": "2024-02-12T10:25:41.650311200Z",
     "start_time": "2024-02-12T10:25:41.632311600Z"
    }
   },
   "outputs": [],
   "source": []
  },
  {
   "cell_type": "markdown",
   "metadata": {
    "deletable": false,
    "editable": false,
    "nbgrader": {
     "checksum": "58cd4f9772fb3c7e23e1a7a47a7c0868",
     "grade": false,
     "grade_id": "cell-1b072a9ade725d8b",
     "locked": true,
     "schema_version": 1,
     "solution": false
    }
   },
   "source": [
    "[Back to top](#-Index)\n",
    "\n",
    "### Problem 5\n",
    "\n",
    "#### DataFrame of predictions\n",
    "\n",
    "**10 Points**\n",
    "\n",
    "Finally, create a DataFrame consisting of the user id, movie, and predicted hybrid ratings as `hybrid_df` below.  The table should begin as:\n",
    "\n",
    "<table border=\"1\" class=\"dataframe\">  <thead>    <tr style=\"text-align: right;\">      <th></th>      <th>Title</th>      <th>user_id</th>      <th>hybrid_rating</th>      <th>svd_rating</th>      <th>slope_one_rating</th>    </tr>  </thead>  <tbody>    <tr>      <th>0</th>      <td>Toy Story (1995)</td>      <td>1</td>      <td>4.482524</td>      <td>4.402274</td>      <td>4.562774</td>    </tr>    <tr>      <th>1</th>      <td>Toy Story (1995)</td>      <td>5</td>      <td>3.954242</td>      <td>4.032047</td>      <td>3.876437</td>    </tr>    <tr>      <th>2</th>      <td>Toy Story (1995)</td>      <td>7</td>      <td>3.942570</td>      <td>4.118478</td>      <td>3.766662</td>    </tr>    <tr>      <th>3</th>      <td>Toy Story (1995)</td>      <td>15</td>      <td>3.425153</td>      <td>3.298924</td>      <td>3.551382</td>    </tr>    <tr>      <th>4</th>      <td>Toy Story (1995)</td>      <td>17</td>      <td>4.152070</td>      <td>4.191087</td>      <td>4.113053</td>    </tr>  </tbody></table>"
   ]
  },
  {
   "cell_type": "code",
   "execution_count": 9,
   "metadata": {
    "deletable": false,
    "nbgrader": {
     "checksum": "fb866479333bdd586f147deaa53f858b",
     "grade": false,
     "grade_id": "cell-b36b5ce90ed2344a",
     "locked": false,
     "schema_version": 1,
     "solution": true
    },
    "ExecuteTime": {
     "end_time": "2024-02-12T10:25:41.713311Z",
     "start_time": "2024-02-12T10:25:41.648311300Z"
    }
   },
   "outputs": [
    {
     "data": {
      "text/plain": "            user_id  title  hybrid_rating  svd_rating  slope_one_rating\n0  Toy Story (1995)      1       4.482524    4.402274          4.562774\n1  Toy Story (1995)      5       3.954242    4.032047          3.876437\n2  Toy Story (1995)      7       3.942570    4.118478          3.766662\n3  Toy Story (1995)     15       3.425153    3.298924          3.551382\n4  Toy Story (1995)     17       4.152070    4.191087          4.113053",
      "text/html": "<div>\n<style scoped>\n    .dataframe tbody tr th:only-of-type {\n        vertical-align: middle;\n    }\n\n    .dataframe tbody tr th {\n        vertical-align: top;\n    }\n\n    .dataframe thead th {\n        text-align: right;\n    }\n</style>\n<table border=\"1\" class=\"dataframe\">\n  <thead>\n    <tr style=\"text-align: right;\">\n      <th></th>\n      <th>user_id</th>\n      <th>title</th>\n      <th>hybrid_rating</th>\n      <th>svd_rating</th>\n      <th>slope_one_rating</th>\n    </tr>\n  </thead>\n  <tbody>\n    <tr>\n      <th>0</th>\n      <td>Toy Story (1995)</td>\n      <td>1</td>\n      <td>4.482524</td>\n      <td>4.402274</td>\n      <td>4.562774</td>\n    </tr>\n    <tr>\n      <th>1</th>\n      <td>Toy Story (1995)</td>\n      <td>5</td>\n      <td>3.954242</td>\n      <td>4.032047</td>\n      <td>3.876437</td>\n    </tr>\n    <tr>\n      <th>2</th>\n      <td>Toy Story (1995)</td>\n      <td>7</td>\n      <td>3.942570</td>\n      <td>4.118478</td>\n      <td>3.766662</td>\n    </tr>\n    <tr>\n      <th>3</th>\n      <td>Toy Story (1995)</td>\n      <td>15</td>\n      <td>3.425153</td>\n      <td>3.298924</td>\n      <td>3.551382</td>\n    </tr>\n    <tr>\n      <th>4</th>\n      <td>Toy Story (1995)</td>\n      <td>17</td>\n      <td>4.152070</td>\n      <td>4.191087</td>\n      <td>4.113053</td>\n    </tr>\n  </tbody>\n</table>\n</div>"
     },
     "execution_count": 9,
     "metadata": {},
     "output_type": "execute_result"
    }
   ],
   "source": [
    "### GRADED\n",
    "hybrid_df = ''\n",
    "\n",
    "    \n",
    "# YOUR CODE HERE\n",
    "data = {'user_id': [i.uid for i in slope_one_preds],\n",
    "       'title': [i.iid for i in slope_one_preds],\n",
    "       'hybrid_rating': hybrid_preds,\n",
    "       'svd_rating': [i.est for i in svd_preds],\n",
    "       'slope_one_rating': [i.est for i in slope_one_preds]}\n",
    "\n",
    "hybrid_df = pd.DataFrame(data)\n",
    "\n",
    "### ANSWER CHECK\n",
    "hybrid_df.head()"
   ]
  },
  {
   "cell_type": "code",
   "execution_count": 9,
   "metadata": {
    "deletable": false,
    "editable": false,
    "nbgrader": {
     "checksum": "0e6f066e30e48f3e95912b2b48b0093a",
     "grade": true,
     "grade_id": "cell-6f3ef82954a41eb8",
     "locked": true,
     "points": 10,
     "schema_version": 1,
     "solution": false
    },
    "ExecuteTime": {
     "end_time": "2024-02-12T10:25:41.727311700Z",
     "start_time": "2024-02-12T10:25:41.712318200Z"
    }
   },
   "outputs": [],
   "source": []
  },
  {
   "cell_type": "markdown",
   "metadata": {
    "deletable": false,
    "editable": false,
    "nbgrader": {
     "checksum": "6de1fed540c7fa84ddd79247d0d2200d",
     "grade": false,
     "grade_id": "cell-5dbbe422264553cd",
     "locked": true,
     "schema_version": 1,
     "solution": false
    }
   },
   "source": [
    "### Conclusion\n",
    "\n",
    "There are many further steps with hybrid recommendations including writing a custom algorithm object with `Surprise`.  Note that you can incorporate the similarity of the objects much like we had in our distance based recommendations."
   ]
  },
  {
   "cell_type": "code",
   "execution_count": 9,
   "metadata": {
    "ExecuteTime": {
     "end_time": "2024-02-12T10:25:41.744311100Z",
     "start_time": "2024-02-12T10:25:41.726311100Z"
    }
   },
   "outputs": [],
   "source": []
  }
 ],
 "metadata": {
  "kernelspec": {
   "display_name": "Python 3",
   "language": "python",
   "name": "python3"
  },
  "language_info": {
   "codemirror_mode": {
    "name": "ipython",
    "version": 3
   },
   "file_extension": ".py",
   "mimetype": "text/x-python",
   "name": "python",
   "nbconvert_exporter": "python",
   "pygments_lexer": "ipython3",
   "version": "3.6.9"
  }
 },
 "nbformat": 4,
 "nbformat_minor": 4
}
