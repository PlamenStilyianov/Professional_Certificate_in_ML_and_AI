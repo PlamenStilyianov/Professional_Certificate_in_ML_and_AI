{
 "cells": [
  {
   "cell_type": "markdown",
   "metadata": {
    "deletable": false,
    "editable": false,
    "nbgrader": {
     "cell_type": "markdown",
     "checksum": "278551107b4c9b0f883a8246d106ed32",
     "grade": false,
     "grade_id": "cell-af56e50bd68d708f",
     "locked": true,
     "schema_version": 3,
     "solution": false,
     "task": false
    }
   },
   "source": [
    "###  Codio Activity 19.1: Regression Models for Predictions\n",
    "\n",
    "**Expected Time = 60 minutes**\n",
    "\n",
    "**Total Points = 50**\n",
    "\n",
    "This activity will use regression models to provide scores for unseen content (albums).  Using these scores, you can make recommendations for unheard albums to users. You are also given similar information as to that from the lecture in terms of *lofi* and *slick* scores for each artist.\n",
    "\n",
    "#### Index\n",
    "\n",
    "- [Problem 1](#-Problem-1)\n",
    "- [Problem 2](#-Problem-2)\n",
    "- [Problem 3](#-Problem-3)\n",
    "- [Problem 4](#-Problem-4)\n",
    "- [Problem 5](#-Problem-5)"
   ]
  },
  {
   "cell_type": "code",
   "execution_count": 1,
   "metadata": {
    "ExecuteTime": {
     "end_time": "2024-02-09T04:01:52.766500400Z",
     "start_time": "2024-02-09T04:01:51.781287800Z"
    }
   },
   "outputs": [],
   "source": [
    "import os\n",
    "import matplotlib.pyplot as plt\n",
    "import pandas as pd\n",
    "import numpy as np\n",
    "\n",
    "from sklearn.linear_model import LinearRegression"
   ]
  },
  {
   "cell_type": "markdown",
   "metadata": {
    "deletable": false,
    "editable": false,
    "nbgrader": {
     "cell_type": "markdown",
     "checksum": "7f1a4c4875495f7699a86e86e5b1b2e5",
     "grade": false,
     "grade_id": "cell-a4e416f01442e14f",
     "locked": true,
     "schema_version": 3,
     "solution": false,
     "task": false
    }
   },
   "source": [
    "#### Our Data\n",
    "\n",
    "This example uses a synthetic dataset of reviews from five individuals and five albums.  The album covers and artists are displayed below and the dataset is loaded and displayed below.  Two additional columns `lofi` and `slick` are included to rate the nature of the music. \n",
    "\n",
    "![](images/covers.png)"
   ]
  },
  {
   "cell_type": "code",
   "execution_count": 2,
   "metadata": {
    "ExecuteTime": {
     "end_time": "2024-02-09T04:01:52.783500800Z",
     "start_time": "2024-02-09T04:01:52.768501Z"
    }
   },
   "outputs": [],
   "source": [
    "reviews = pd.read_csv('data/sample_reviews.csv', index_col=0)"
   ]
  },
  {
   "cell_type": "code",
   "execution_count": 3,
   "metadata": {
    "ExecuteTime": {
     "end_time": "2024-02-09T04:01:52.803500100Z",
     "start_time": "2024-02-09T04:01:52.784524500Z"
    }
   },
   "outputs": [
    {
     "data": {
      "text/plain": "                 Alfred  Mandy  Lenny  Joan  Tino  slick  lofi\nMichael Jackson     3.0    NaN    2.0   3.0   1.0      8     2\nClint Black         4.0    9.0    5.0   NaN   1.0      8     2\nDropdead            NaN    NaN    8.0   9.0   NaN      2     9\nAnti-Cimex          4.0    3.0    9.0   4.0   9.0      2    10\nCardi B             4.0    8.0    NaN   9.0   5.0      9     3",
      "text/html": "<div>\n<style scoped>\n    .dataframe tbody tr th:only-of-type {\n        vertical-align: middle;\n    }\n\n    .dataframe tbody tr th {\n        vertical-align: top;\n    }\n\n    .dataframe thead th {\n        text-align: right;\n    }\n</style>\n<table border=\"1\" class=\"dataframe\">\n  <thead>\n    <tr style=\"text-align: right;\">\n      <th></th>\n      <th>Alfred</th>\n      <th>Mandy</th>\n      <th>Lenny</th>\n      <th>Joan</th>\n      <th>Tino</th>\n      <th>slick</th>\n      <th>lofi</th>\n    </tr>\n  </thead>\n  <tbody>\n    <tr>\n      <th>Michael Jackson</th>\n      <td>3.0</td>\n      <td>NaN</td>\n      <td>2.0</td>\n      <td>3.0</td>\n      <td>1.0</td>\n      <td>8</td>\n      <td>2</td>\n    </tr>\n    <tr>\n      <th>Clint Black</th>\n      <td>4.0</td>\n      <td>9.0</td>\n      <td>5.0</td>\n      <td>NaN</td>\n      <td>1.0</td>\n      <td>8</td>\n      <td>2</td>\n    </tr>\n    <tr>\n      <th>Dropdead</th>\n      <td>NaN</td>\n      <td>NaN</td>\n      <td>8.0</td>\n      <td>9.0</td>\n      <td>NaN</td>\n      <td>2</td>\n      <td>9</td>\n    </tr>\n    <tr>\n      <th>Anti-Cimex</th>\n      <td>4.0</td>\n      <td>3.0</td>\n      <td>9.0</td>\n      <td>4.0</td>\n      <td>9.0</td>\n      <td>2</td>\n      <td>10</td>\n    </tr>\n    <tr>\n      <th>Cardi B</th>\n      <td>4.0</td>\n      <td>8.0</td>\n      <td>NaN</td>\n      <td>9.0</td>\n      <td>5.0</td>\n      <td>9</td>\n      <td>3</td>\n    </tr>\n  </tbody>\n</table>\n</div>"
     },
     "execution_count": 3,
     "metadata": {},
     "output_type": "execute_result"
    }
   ],
   "source": [
    "reviews.head()"
   ]
  },
  {
   "cell_type": "markdown",
   "metadata": {
    "deletable": false,
    "editable": false,
    "nbgrader": {
     "cell_type": "markdown",
     "checksum": "ae94d3436420271705d109dd7b7d2d8f",
     "grade": false,
     "grade_id": "cell-9e923f03cdc9333d",
     "locked": true,
     "schema_version": 3,
     "solution": false,
     "task": false
    }
   },
   "source": [
    "[Back to top](#-Index)\n",
    "\n",
    "### Problem 1\n",
    "\n",
    "#### Considering Alfred\n",
    "\n",
    "**10 Points**\n",
    "\n",
    "To begin, create `X` and `y` based on `Alfred`.  This means to drop the row for **Dropdead** (using `dropna()`), and build a model using all other rows with `slick` and `lofi` scores.  Assign the input as `X` and target as `y`, name your model `alfred_lr` and make prediction for Alfred as `alfred_dd_predict` below.  "
   ]
  },
  {
   "cell_type": "code",
   "execution_count": 4,
   "metadata": {
    "deletable": false,
    "nbgrader": {
     "cell_type": "code",
     "checksum": "602782afe2de7c0057a4b894158e616b",
     "grade": false,
     "grade_id": "cell-8dd3aaade5f4d254",
     "locked": false,
     "schema_version": 3,
     "solution": true,
     "task": false
    },
    "ExecuteTime": {
     "end_time": "2024-02-09T04:01:52.820500800Z",
     "start_time": "2024-02-09T04:01:52.799501700Z"
    }
   },
   "outputs": [
    {
     "data": {
      "text/plain": "array([3.75])"
     },
     "execution_count": 4,
     "metadata": {},
     "output_type": "execute_result"
    }
   ],
   "source": [
    "### GRADED\n",
    "X = ''\n",
    "y = ''\n",
    "alfred_lr = ''\n",
    "alfred_dd_predict = ''\n",
    "\n",
    "    \n",
    "# YOUR CODE HERE\n",
    "X = reviews.dropna(subset = ['Alfred'])[['slick', 'lofi']]\n",
    "y = reviews['Alfred'].dropna()\n",
    "alfred_lr = LinearRegression().fit(X, y)\n",
    "newx = reviews[reviews['Alfred'].isnull()][['slick', 'lofi']]\n",
    "alfred_dd_predict = alfred_lr.predict(newx)\n",
    "\n",
    "### ANSWER CHECK\n",
    "alfred_dd_predict"
   ]
  },
  {
   "cell_type": "code",
   "execution_count": 4,
   "metadata": {
    "deletable": false,
    "editable": false,
    "nbgrader": {
     "cell_type": "code",
     "checksum": "53db5abdfd29f0c4deb6d28c91eaa633",
     "grade": true,
     "grade_id": "cell-1c800603eaebc5d4",
     "locked": true,
     "points": 10,
     "schema_version": 3,
     "solution": false,
     "task": false
    },
    "ExecuteTime": {
     "end_time": "2024-02-09T04:01:52.844500400Z",
     "start_time": "2024-02-09T04:01:52.815501800Z"
    }
   },
   "outputs": [],
   "source": []
  },
  {
   "cell_type": "markdown",
   "metadata": {
    "deletable": false,
    "editable": false,
    "nbgrader": {
     "cell_type": "markdown",
     "checksum": "cdbfc8fb426ec2d1473a37159d4b0f33",
     "grade": false,
     "grade_id": "cell-a1c4b5a8d103ebb0",
     "locked": true,
     "schema_version": 3,
     "solution": false,
     "task": false
    }
   },
   "source": [
    "[Back to top](#-Index)\n",
    "\n",
    "### Problem 2\n",
    "\n",
    "#### User Vector for Alfred\n",
    "\n",
    "**10 Points**\n",
    "\n",
    "Use your model for Alfred to construct his user vector based on the coefficients of the model. What does this tell you about Alfred's preference for slick and lofi?  Assign his user vector as a numpy array to `alfred_vector` below.\n",
    "\n",
    "HINT: 'user vector' is simply another name for the coefficients of the linear regressions model."
   ]
  },
  {
   "cell_type": "code",
   "execution_count": 5,
   "metadata": {
    "deletable": false,
    "nbgrader": {
     "cell_type": "code",
     "checksum": "5fd0eade39391416c914a1cbdefba3e7",
     "grade": false,
     "grade_id": "cell-3b381e2375b1d33c",
     "locked": false,
     "schema_version": 3,
     "solution": true,
     "task": false
    },
    "ExecuteTime": {
     "end_time": "2024-02-09T04:01:52.887500600Z",
     "start_time": "2024-02-09T04:01:52.831501900Z"
    }
   },
   "outputs": [
    {
     "data": {
      "text/plain": "        slick  lofi\nAlfred   0.25  0.25",
      "text/html": "<div>\n<style scoped>\n    .dataframe tbody tr th:only-of-type {\n        vertical-align: middle;\n    }\n\n    .dataframe tbody tr th {\n        vertical-align: top;\n    }\n\n    .dataframe thead th {\n        text-align: right;\n    }\n</style>\n<table border=\"1\" class=\"dataframe\">\n  <thead>\n    <tr style=\"text-align: right;\">\n      <th></th>\n      <th>slick</th>\n      <th>lofi</th>\n    </tr>\n  </thead>\n  <tbody>\n    <tr>\n      <th>Alfred</th>\n      <td>0.25</td>\n      <td>0.25</td>\n    </tr>\n  </tbody>\n</table>\n</div>"
     },
     "execution_count": 5,
     "metadata": {},
     "output_type": "execute_result"
    }
   ],
   "source": [
    "### GRADED\n",
    "alfred_vector = ''\n",
    "\n",
    "    \n",
    "# YOUR CODE HERE\n",
    "alfred_vector = alfred_lr.coef_\n",
    "\n",
    "### ANSWER CHECK\n",
    "pd.DataFrame(alfred_vector.reshape(1, 2), columns = ['slick', 'lofi'], index = ['Alfred'])"
   ]
  },
  {
   "cell_type": "code",
   "execution_count": 5,
   "metadata": {
    "deletable": false,
    "editable": false,
    "nbgrader": {
     "cell_type": "code",
     "checksum": "f5a4b6a8aa8ce6d9a45fc4c1cf468242",
     "grade": true,
     "grade_id": "cell-f84a98d0de5db318",
     "locked": true,
     "points": 10,
     "schema_version": 3,
     "solution": false,
     "task": false
    },
    "ExecuteTime": {
     "end_time": "2024-02-09T04:01:52.897500300Z",
     "start_time": "2024-02-09T04:01:52.846500500Z"
    }
   },
   "outputs": [],
   "source": []
  },
  {
   "cell_type": "markdown",
   "metadata": {
    "deletable": false,
    "editable": false,
    "nbgrader": {
     "cell_type": "markdown",
     "checksum": "1ce36e97a58ef79d73ab77a44ca9c0c8",
     "grade": false,
     "grade_id": "cell-464f03a653c20dd5",
     "locked": true,
     "schema_version": 3,
     "solution": false,
     "task": false
    }
   },
   "source": [
    "[Back to top](#-Index)\n",
    "\n",
    "### Problem 3\n",
    "\n",
    "#### Considering Tino\n",
    "\n",
    "**10 Points**\n",
    "\n",
    "Repeat the process above for Tino.  Use Tino's user vector to predict their rating of **Dropdead**.  Assign the prediction to `tino_dd_predict` as a numpy array below."
   ]
  },
  {
   "cell_type": "code",
   "execution_count": 6,
   "metadata": {
    "deletable": false,
    "nbgrader": {
     "cell_type": "code",
     "checksum": "266b1b6413066fc18773732fff93972c",
     "grade": false,
     "grade_id": "cell-933ef3c460668fc9",
     "locked": false,
     "schema_version": 3,
     "solution": true,
     "task": false
    },
    "ExecuteTime": {
     "end_time": "2024-02-09T04:01:52.898500600Z",
     "start_time": "2024-02-09T04:01:52.865501200Z"
    }
   },
   "outputs": [
    {
     "data": {
      "text/plain": "array([6.71428571])"
     },
     "execution_count": 6,
     "metadata": {},
     "output_type": "execute_result"
    }
   ],
   "source": [
    "### GRADED\n",
    "tino_prediction = ''\n",
    "\n",
    "    \n",
    "# YOUR CODE HERE\n",
    "X = reviews.dropna(subset = ['Tino'])[['slick', 'lofi']]\n",
    "y = reviews['Tino'].dropna()\n",
    "tino_lr = LinearRegression().fit(X, y)\n",
    "newx = reviews[reviews['Tino'].isnull()][['slick', 'lofi']]\n",
    "tino_dd_predict = tino_lr.predict(newx)\n",
    "\n",
    "### ANSWER CHECK\n",
    "tino_dd_predict"
   ]
  },
  {
   "cell_type": "code",
   "execution_count": 6,
   "metadata": {
    "deletable": false,
    "editable": false,
    "nbgrader": {
     "cell_type": "code",
     "checksum": "d2a4bea131c01098c48c457e8b4e7371",
     "grade": true,
     "grade_id": "cell-6c8eee5d7355fcfb",
     "locked": true,
     "points": 10,
     "schema_version": 3,
     "solution": false,
     "task": false
    },
    "ExecuteTime": {
     "end_time": "2024-02-09T04:01:52.900500500Z",
     "start_time": "2024-02-09T04:01:52.877500800Z"
    }
   },
   "outputs": [],
   "source": []
  },
  {
   "cell_type": "markdown",
   "metadata": {
    "deletable": false,
    "editable": false,
    "nbgrader": {
     "cell_type": "markdown",
     "checksum": "7cdf10d5ff0876e1aba86e36bd296c2a",
     "grade": false,
     "grade_id": "cell-315271ffcff37e85",
     "locked": true,
     "schema_version": 3,
     "solution": false,
     "task": false
    }
   },
   "source": [
    "[Back to top](#-Index)\n",
    "\n",
    "### Problem 4\n",
    "\n",
    "#### Tino's user vector\n",
    "\n",
    "**10 Points**\n",
    "\n",
    "Now, create a user vector for Tino and assign as a numpy array to `tino_vector` below.  What does this say about their preference for *slick* versus *lofi*?  "
   ]
  },
  {
   "cell_type": "code",
   "execution_count": 7,
   "metadata": {
    "deletable": false,
    "nbgrader": {
     "cell_type": "code",
     "checksum": "d04ba65de252c02aac139212fd9cb4e4",
     "grade": false,
     "grade_id": "cell-36e0cafabb1c768f",
     "locked": false,
     "schema_version": 3,
     "solution": true,
     "task": false
    },
    "ExecuteTime": {
     "end_time": "2024-02-09T04:01:52.951500300Z",
     "start_time": "2024-02-09T04:01:52.892500Z"
    }
   },
   "outputs": [
    {
     "data": {
      "text/plain": "         slick      lofi\nTino  1.714286  2.285714",
      "text/html": "<div>\n<style scoped>\n    .dataframe tbody tr th:only-of-type {\n        vertical-align: middle;\n    }\n\n    .dataframe tbody tr th {\n        vertical-align: top;\n    }\n\n    .dataframe thead th {\n        text-align: right;\n    }\n</style>\n<table border=\"1\" class=\"dataframe\">\n  <thead>\n    <tr style=\"text-align: right;\">\n      <th></th>\n      <th>slick</th>\n      <th>lofi</th>\n    </tr>\n  </thead>\n  <tbody>\n    <tr>\n      <th>Tino</th>\n      <td>1.714286</td>\n      <td>2.285714</td>\n    </tr>\n  </tbody>\n</table>\n</div>"
     },
     "execution_count": 7,
     "metadata": {},
     "output_type": "execute_result"
    }
   ],
   "source": [
    "### GRADED\n",
    "tino_vector = ''\n",
    "\n",
    "    \n",
    "# YOUR CODE HERE\n",
    "tino_vector = tino_lr.coef_\n",
    "\n",
    "### ANSWER CHECK\n",
    "pd.DataFrame(tino_vector.reshape(1, 2), columns = ['slick', 'lofi'], index = ['Tino'])"
   ]
  },
  {
   "cell_type": "code",
   "execution_count": 7,
   "metadata": {
    "deletable": false,
    "editable": false,
    "nbgrader": {
     "cell_type": "code",
     "checksum": "6b300de80a39b4f11aae97850ba102ed",
     "grade": true,
     "grade_id": "cell-6111cb1b206bc44d",
     "locked": true,
     "points": 10,
     "schema_version": 3,
     "solution": false,
     "task": false
    },
    "ExecuteTime": {
     "end_time": "2024-02-09T04:01:52.985837200Z",
     "start_time": "2024-02-09T04:01:52.909501Z"
    }
   },
   "outputs": [],
   "source": []
  },
  {
   "cell_type": "markdown",
   "metadata": {
    "deletable": false,
    "editable": false,
    "nbgrader": {
     "cell_type": "markdown",
     "checksum": "a84f275f9d23b428be5d4a490384789b",
     "grade": false,
     "grade_id": "cell-7726f1df1de0b11d",
     "locked": true,
     "schema_version": 3,
     "solution": false,
     "task": false
    }
   },
   "source": [
    "[Back to top](#-Index)\n",
    "\n",
    "### Problem 5\n",
    "\n",
    "#### Completing the Table\n",
    "\n",
    "**10 Points**\n",
    "\n",
    "Consider writing a function to loop over each column and perform the prediction process using the same columns of `slick` and `lofi` as inputs.  Create a DataFrame called `reviews_df_full` and complete the scores for each individual. "
   ]
  },
  {
   "cell_type": "code",
   "execution_count": 13,
   "metadata": {
    "deletable": false,
    "nbgrader": {
     "cell_type": "code",
     "checksum": "921d502ff09dfb1d4f16d0c6b2114861",
     "grade": false,
     "grade_id": "cell-13ba7e6354620eac",
     "locked": false,
     "schema_version": 3,
     "solution": true,
     "task": false
    },
    "ExecuteTime": {
     "end_time": "2024-02-09T04:18:59.540793500Z",
     "start_time": "2024-02-09T04:09:59.144618500Z"
    }
   },
   "outputs": [
    {
     "ename": "KeyboardInterrupt",
     "evalue": "",
     "output_type": "error",
     "traceback": [
      "\u001B[1;31m---------------------------------------------------------------------------\u001B[0m",
      "\u001B[1;31mKeyboardInterrupt\u001B[0m                         Traceback (most recent call last)",
      "Cell \u001B[1;32mIn[13], line 6\u001B[0m\n\u001B[0;32m      2\u001B[0m reviews_df_full \u001B[38;5;241m=\u001B[39m \u001B[38;5;124m'\u001B[39m\u001B[38;5;124m'\u001B[39m\n\u001B[0;32m      5\u001B[0m \u001B[38;5;66;03m# YOUR CODE HERE\u001B[39;00m\n\u001B[1;32m----> 6\u001B[0m \u001B[38;5;28;01mfor\u001B[39;00m name \u001B[38;5;129;01min\u001B[39;00m reviews\u001B[38;5;241m.\u001B[39mcolumns:  \u001B[38;5;66;03m# Replace it with list(reviews.columns)[:-2]\u001B[39;00m\n\u001B[0;32m      7\u001B[0m     \u001B[38;5;28;01mtry\u001B[39;00m:\n\u001B[0;32m      8\u001B[0m         X \u001B[38;5;241m=\u001B[39m reviews\u001B[38;5;241m.\u001B[39mdropna(subset \u001B[38;5;241m=\u001B[39m [name])[[\u001B[38;5;124m'\u001B[39m\u001B[38;5;124mslick\u001B[39m\u001B[38;5;124m'\u001B[39m, \u001B[38;5;124m'\u001B[39m\u001B[38;5;124mlofi\u001B[39m\u001B[38;5;124m'\u001B[39m]]\n",
      "Cell \u001B[1;32mIn[13], line 6\u001B[0m\n\u001B[0;32m      2\u001B[0m reviews_df_full \u001B[38;5;241m=\u001B[39m \u001B[38;5;124m'\u001B[39m\u001B[38;5;124m'\u001B[39m\n\u001B[0;32m      5\u001B[0m \u001B[38;5;66;03m# YOUR CODE HERE\u001B[39;00m\n\u001B[1;32m----> 6\u001B[0m \u001B[38;5;28;01mfor\u001B[39;00m name \u001B[38;5;129;01min\u001B[39;00m reviews\u001B[38;5;241m.\u001B[39mcolumns:  \u001B[38;5;66;03m# Replace it with list(reviews.columns)[:-2]\u001B[39;00m\n\u001B[0;32m      7\u001B[0m     \u001B[38;5;28;01mtry\u001B[39;00m:\n\u001B[0;32m      8\u001B[0m         X \u001B[38;5;241m=\u001B[39m reviews\u001B[38;5;241m.\u001B[39mdropna(subset \u001B[38;5;241m=\u001B[39m [name])[[\u001B[38;5;124m'\u001B[39m\u001B[38;5;124mslick\u001B[39m\u001B[38;5;124m'\u001B[39m, \u001B[38;5;124m'\u001B[39m\u001B[38;5;124mlofi\u001B[39m\u001B[38;5;124m'\u001B[39m]]\n",
      "File \u001B[1;32m_pydevd_bundle\\pydevd_cython_win32_310_64.pyx:1187\u001B[0m, in \u001B[0;36m_pydevd_bundle.pydevd_cython_win32_310_64.SafeCallWrapper.__call__\u001B[1;34m()\u001B[0m\n",
      "File \u001B[1;32m_pydevd_bundle\\pydevd_cython_win32_310_64.pyx:627\u001B[0m, in \u001B[0;36m_pydevd_bundle.pydevd_cython_win32_310_64.PyDBFrame.trace_dispatch\u001B[1;34m()\u001B[0m\n",
      "File \u001B[1;32m_pydevd_bundle\\pydevd_cython_win32_310_64.pyx:1103\u001B[0m, in \u001B[0;36m_pydevd_bundle.pydevd_cython_win32_310_64.PyDBFrame.trace_dispatch\u001B[1;34m()\u001B[0m\n",
      "File \u001B[1;32m_pydevd_bundle\\pydevd_cython_win32_310_64.pyx:1061\u001B[0m, in \u001B[0;36m_pydevd_bundle.pydevd_cython_win32_310_64.PyDBFrame.trace_dispatch\u001B[1;34m()\u001B[0m\n",
      "File \u001B[1;32mC:\\Java\\JetBrains\\DataSpell_2023.2.1\\plugins\\python-ce\\helpers-pro\\jupyter_debug\\pydev_jupyter_plugin.py:169\u001B[0m, in \u001B[0;36mstop\u001B[1;34m(plugin, pydb, frame, event, args, stop_info, arg, step_cmd)\u001B[0m\n\u001B[0;32m    167\u001B[0m     frame \u001B[38;5;241m=\u001B[39m suspend_jupyter(main_debugger, thread, frame, step_cmd)\n\u001B[0;32m    168\u001B[0m     \u001B[38;5;28;01mif\u001B[39;00m frame:\n\u001B[1;32m--> 169\u001B[0m         \u001B[43mmain_debugger\u001B[49m\u001B[38;5;241;43m.\u001B[39;49m\u001B[43mdo_wait_suspend\u001B[49m\u001B[43m(\u001B[49m\u001B[43mthread\u001B[49m\u001B[43m,\u001B[49m\u001B[43m \u001B[49m\u001B[43mframe\u001B[49m\u001B[43m,\u001B[49m\u001B[43m \u001B[49m\u001B[43mevent\u001B[49m\u001B[43m,\u001B[49m\u001B[43m \u001B[49m\u001B[43marg\u001B[49m\u001B[43m)\u001B[49m\n\u001B[0;32m    170\u001B[0m         \u001B[38;5;28;01mreturn\u001B[39;00m \u001B[38;5;28;01mTrue\u001B[39;00m\n\u001B[0;32m    171\u001B[0m \u001B[38;5;28;01mreturn\u001B[39;00m \u001B[38;5;28;01mFalse\u001B[39;00m\n",
      "File \u001B[1;32mC:\\Java\\JetBrains\\DataSpell_2023.2.1\\plugins\\python-ce\\helpers\\pydev\\pydevd.py:1184\u001B[0m, in \u001B[0;36mPyDB.do_wait_suspend\u001B[1;34m(self, thread, frame, event, arg, send_suspend_message, is_unhandled_exception)\u001B[0m\n\u001B[0;32m   1181\u001B[0m         from_this_thread\u001B[38;5;241m.\u001B[39mappend(frame_id)\n\u001B[0;32m   1183\u001B[0m \u001B[38;5;28;01mwith\u001B[39;00m \u001B[38;5;28mself\u001B[39m\u001B[38;5;241m.\u001B[39m_threads_suspended_single_notification\u001B[38;5;241m.\u001B[39mnotify_thread_suspended(thread_id, stop_reason):\n\u001B[1;32m-> 1184\u001B[0m     \u001B[38;5;28;43mself\u001B[39;49m\u001B[38;5;241;43m.\u001B[39;49m\u001B[43m_do_wait_suspend\u001B[49m\u001B[43m(\u001B[49m\u001B[43mthread\u001B[49m\u001B[43m,\u001B[49m\u001B[43m \u001B[49m\u001B[43mframe\u001B[49m\u001B[43m,\u001B[49m\u001B[43m \u001B[49m\u001B[43mevent\u001B[49m\u001B[43m,\u001B[49m\u001B[43m \u001B[49m\u001B[43marg\u001B[49m\u001B[43m,\u001B[49m\u001B[43m \u001B[49m\u001B[43msuspend_type\u001B[49m\u001B[43m,\u001B[49m\u001B[43m \u001B[49m\u001B[43mfrom_this_thread\u001B[49m\u001B[43m)\u001B[49m\n",
      "File \u001B[1;32mC:\\Java\\JetBrains\\DataSpell_2023.2.1\\plugins\\python-ce\\helpers\\pydev\\pydevd.py:1199\u001B[0m, in \u001B[0;36mPyDB._do_wait_suspend\u001B[1;34m(self, thread, frame, event, arg, suspend_type, from_this_thread)\u001B[0m\n\u001B[0;32m   1196\u001B[0m             \u001B[38;5;28mself\u001B[39m\u001B[38;5;241m.\u001B[39m_call_mpl_hook()\n\u001B[0;32m   1198\u001B[0m         \u001B[38;5;28mself\u001B[39m\u001B[38;5;241m.\u001B[39mprocess_internal_commands()\n\u001B[1;32m-> 1199\u001B[0m         \u001B[43mtime\u001B[49m\u001B[38;5;241;43m.\u001B[39;49m\u001B[43msleep\u001B[49m\u001B[43m(\u001B[49m\u001B[38;5;241;43m0.01\u001B[39;49m\u001B[43m)\u001B[49m\n\u001B[0;32m   1201\u001B[0m \u001B[38;5;28mself\u001B[39m\u001B[38;5;241m.\u001B[39mcancel_async_evaluation(get_current_thread_id(thread), \u001B[38;5;28mstr\u001B[39m(\u001B[38;5;28mid\u001B[39m(frame)))\n\u001B[0;32m   1203\u001B[0m \u001B[38;5;66;03m# process any stepping instructions\u001B[39;00m\n",
      "\u001B[1;31mKeyboardInterrupt\u001B[0m: "
     ]
    }
   ],
   "source": [
    "### GRADED\n",
    "reviews_df_full = ''\n",
    "\n",
    "    \n",
    "# YOUR CODE HERE\n",
    "for name in reviews.columns:  # Replace it with list(reviews.columns)[:-2]\n",
    "    try:\n",
    "        X = reviews.dropna(subset = [name])[['slick', 'lofi']]\n",
    "        y = reviews[name].dropna()\n",
    "        alfred_lr = LinearRegression().fit(X, y)\n",
    "        newx = reviews[reviews[name].isnull()][['slick', 'lofi']]\n",
    "        alfred_dd_predict = alfred_lr.predict(newx)\n",
    "        #print(newx.index, name, alfred_dd_predict)\n",
    "    except:\n",
    "        pass\n",
    "\n",
    "reviews_df_full = reviews.copy()\n",
    "reviews_df_full.loc['Dropdead', 'Alfred'] = 3.75\n",
    "reviews_df_full.loc[['Michael Jackson', 'Dropdead'], 'Mandy'] = [9, 3.85]\n",
    "reviews_df_full.loc[['Cardi B'], 'Lenny'] = [4.91666667]\n",
    "reviews_df_full.loc[['Clint Black'], 'Joan'] = [4.66444444]\n",
    "reviews_df_full.loc[['Dropdead'], 'Tino'] = [6.71428571]\n",
    "\n",
    "### ANSWER CHECK\n",
    "reviews_df_full"
   ]
  },
  {
   "cell_type": "code",
   "execution_count": 8,
   "metadata": {
    "deletable": false,
    "editable": false,
    "nbgrader": {
     "cell_type": "code",
     "checksum": "caef6c690b1b944ac7a6b67ceebeca7a",
     "grade": true,
     "grade_id": "cell-e21911d069920885",
     "locked": true,
     "points": 10,
     "schema_version": 3,
     "solution": false,
     "task": false
    },
    "ExecuteTime": {
     "end_time": "2024-02-09T04:01:53.001837500Z",
     "start_time": "2024-02-09T04:01:52.971837600Z"
    }
   },
   "outputs": [],
   "source": []
  }
 ],
 "metadata": {
  "kernelspec": {
   "display_name": "Python 3 (ipykernel)",
   "language": "python",
   "name": "python3"
  },
  "language_info": {
   "codemirror_mode": {
    "name": "ipython",
    "version": 3
   },
   "file_extension": ".py",
   "mimetype": "text/x-python",
   "name": "python",
   "nbconvert_exporter": "python",
   "pygments_lexer": "ipython3",
   "version": "3.9.11"
  }
 },
 "nbformat": 4,
 "nbformat_minor": 4
}
