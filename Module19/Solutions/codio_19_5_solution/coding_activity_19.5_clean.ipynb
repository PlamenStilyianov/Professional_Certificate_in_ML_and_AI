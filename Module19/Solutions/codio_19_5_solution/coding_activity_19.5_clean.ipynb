{
 "cells": [
  {
   "cell_type": "markdown",
   "metadata": {
    "deletable": false,
    "editable": false,
    "nbgrader": {
     "cell_type": "markdown",
     "checksum": "cdfdd692f69684ee3d03aefe3549204a",
     "grade": false,
     "grade_id": "cell-2cbb7837ab4f4471",
     "locked": true,
     "schema_version": 3,
     "solution": false,
     "task": false
    }
   },
   "source": [
    "### Codio Activity 19.5: Distance Based Recommendations\n",
    "\n",
    "**Expected Time = 60 minutes**\n",
    "\n",
    "**Total Points = 40**\n",
    "\n",
    "As another example of recommendation approaches, this assignment applies a distance-based approach to recommendations using the idea of **cosine distance**. Using information about users and items, you will create an item distance matrix. Using these distances, you will make recommendations for users based on similar items to those they have rated highly.\n",
    "\n",
    "#### Index\n",
    "\n",
    "- [Problem 1](#-Problem-1)\n",
    "- [Problem 2](#-Problem-2)\n",
    "- [Problem 3](#-Problem-3)\n",
    "- [Problem 4](#-Problem-4)\n",
    "- [Problem 5](#-Problem-5)\n",
    "- [Problem 6](#-Problem-6)"
   ]
  },
  {
   "cell_type": "code",
   "execution_count": 1,
   "metadata": {
    "ExecuteTime": {
     "end_time": "2024-02-12T01:52:41.125474200Z",
     "start_time": "2024-02-12T01:52:40.767555Z"
    }
   },
   "outputs": [],
   "source": [
    "import pandas as pd\n",
    "import numpy as np"
   ]
  },
  {
   "cell_type": "code",
   "execution_count": 2,
   "metadata": {
    "ExecuteTime": {
     "end_time": "2024-02-12T01:52:41.186474300Z",
     "start_time": "2024-02-12T01:52:41.126474Z"
    }
   },
   "outputs": [],
   "source": [
    "df = pd.read_csv('data/movie_ratings_19_5.csv', index_col=0)"
   ]
  },
  {
   "cell_type": "code",
   "execution_count": 3,
   "metadata": {
    "ExecuteTime": {
     "end_time": "2024-02-12T01:52:41.207475Z",
     "start_time": "2024-02-12T01:52:41.188474300Z"
    }
   },
   "outputs": [
    {
     "data": {
      "text/plain": "      movieId            title  userId  rating\n5319      185  Clueless (1995)     201     3.0\n5320      185  Clueless (1995)     219     2.0\n5321      185  Clueless (1995)     227     3.0\n5322      185  Clueless (1995)     229     4.0\n5323      185  Clueless (1995)     232     3.0",
      "text/html": "<div>\n<style scoped>\n    .dataframe tbody tr th:only-of-type {\n        vertical-align: middle;\n    }\n\n    .dataframe tbody tr th {\n        vertical-align: top;\n    }\n\n    .dataframe thead th {\n        text-align: right;\n    }\n</style>\n<table border=\"1\" class=\"dataframe\">\n  <thead>\n    <tr style=\"text-align: right;\">\n      <th></th>\n      <th>movieId</th>\n      <th>title</th>\n      <th>userId</th>\n      <th>rating</th>\n    </tr>\n  </thead>\n  <tbody>\n    <tr>\n      <th>5319</th>\n      <td>185</td>\n      <td>Clueless (1995)</td>\n      <td>201</td>\n      <td>3.0</td>\n    </tr>\n    <tr>\n      <th>5320</th>\n      <td>185</td>\n      <td>Clueless (1995)</td>\n      <td>219</td>\n      <td>2.0</td>\n    </tr>\n    <tr>\n      <th>5321</th>\n      <td>185</td>\n      <td>Clueless (1995)</td>\n      <td>227</td>\n      <td>3.0</td>\n    </tr>\n    <tr>\n      <th>5322</th>\n      <td>185</td>\n      <td>Clueless (1995)</td>\n      <td>229</td>\n      <td>4.0</td>\n    </tr>\n    <tr>\n      <th>5323</th>\n      <td>185</td>\n      <td>Clueless (1995)</td>\n      <td>232</td>\n      <td>3.0</td>\n    </tr>\n  </tbody>\n</table>\n</div>"
     },
     "execution_count": 3,
     "metadata": {},
     "output_type": "execute_result"
    }
   ],
   "source": [
    "df.head()"
   ]
  },
  {
   "cell_type": "markdown",
   "metadata": {
    "deletable": false,
    "editable": false,
    "nbgrader": {
     "cell_type": "markdown",
     "checksum": "32ed308c60efb850e3345fa99636c714",
     "grade": false,
     "grade_id": "cell-33e0c0197d83322a",
     "locked": true,
     "schema_version": 3,
     "solution": false,
     "task": false
    }
   },
   "source": [
    "[Back to top](#-Index)\n",
    "\n",
    "### Problem 1\n",
    "\n",
    "#### Pivot Matrix\n",
    "\n",
    "**10 Points**\n",
    "\n",
    "Below, use the DataFrame and the `pivot_table` function in pandas to create a table where the rows are the movie titles, columns are user ID's and the values are the associated ratings of the movies. \n",
    "\n",
    "\n",
    "**Note**: Be sure to fill the missing values of the `piv_df` with 0 using `.fillna(0)` before finding distances.\n",
    "\n",
    "`pivot_table` [documentation](https://pandas.pydata.org/docs/reference/api/pandas.pivot_table.html)"
   ]
  },
  {
   "cell_type": "code",
   "execution_count": 4,
   "metadata": {
    "deletable": false,
    "nbgrader": {
     "cell_type": "code",
     "checksum": "4104bcba3de1b4d7c956a8337a9ae090",
     "grade": false,
     "grade_id": "cell-5099e346a5addd20",
     "locked": false,
     "schema_version": 3,
     "solution": true,
     "task": false
    },
    "ExecuteTime": {
     "end_time": "2024-02-12T01:52:41.300482600Z",
     "start_time": "2024-02-12T01:52:41.207475Z"
    }
   },
   "outputs": [
    {
     "data": {
      "text/plain": "userId                        1    2    3    4    5    6    7    8    9    \\\ntitle                                                                       \n'Round Midnight (1986)        0.0  0.0  0.0  0.0  0.0  0.0  0.0  0.0  0.0   \n'Til There Was You (1997)     0.0  0.0  0.0  0.0  0.0  0.0  0.0  0.0  0.0   \nClueless (1995)               0.0  0.0  0.0  0.0  0.0  3.0  0.0  4.0  0.0   \nCoach Carter (2005)           0.0  0.0  0.0  0.0  0.0  0.0  0.0  0.0  0.0   \nCoal Miner's Daughter (1980)  0.0  0.0  0.0  0.0  0.0  0.0  0.0  0.0  0.0   \n\nuserId                        10   ...  601  602  603  604  605  606  607  \\\ntitle                              ...                                      \n'Round Midnight (1986)        0.0  ...  0.0  0.0  0.0  0.0  0.0  0.0  0.0   \n'Til There Was You (1997)     0.0  ...  0.0  0.0  0.0  0.0  0.0  0.0  0.0   \nClueless (1995)               0.0  ...  0.0  3.0  0.0  4.0  0.0  0.0  0.0   \nCoach Carter (2005)           0.0  ...  0.0  0.0  0.0  0.0  0.0  4.5  0.0   \nCoal Miner's Daughter (1980)  0.0  ...  0.0  0.0  0.0  0.0  0.0  0.0  0.0   \n\nuserId                        608  609  610  \ntitle                                        \n'Round Midnight (1986)        0.0  0.0  0.0  \n'Til There Was You (1997)     0.0  0.0  0.0  \nClueless (1995)               3.0  3.0  0.0  \nCoach Carter (2005)           0.0  0.0  0.0  \nCoal Miner's Daughter (1980)  0.0  0.0  0.0  \n\n[5 rows x 610 columns]",
      "text/html": "<div>\n<style scoped>\n    .dataframe tbody tr th:only-of-type {\n        vertical-align: middle;\n    }\n\n    .dataframe tbody tr th {\n        vertical-align: top;\n    }\n\n    .dataframe thead th {\n        text-align: right;\n    }\n</style>\n<table border=\"1\" class=\"dataframe\">\n  <thead>\n    <tr style=\"text-align: right;\">\n      <th>userId</th>\n      <th>1</th>\n      <th>2</th>\n      <th>3</th>\n      <th>4</th>\n      <th>5</th>\n      <th>6</th>\n      <th>7</th>\n      <th>8</th>\n      <th>9</th>\n      <th>10</th>\n      <th>...</th>\n      <th>601</th>\n      <th>602</th>\n      <th>603</th>\n      <th>604</th>\n      <th>605</th>\n      <th>606</th>\n      <th>607</th>\n      <th>608</th>\n      <th>609</th>\n      <th>610</th>\n    </tr>\n    <tr>\n      <th>title</th>\n      <th></th>\n      <th></th>\n      <th></th>\n      <th></th>\n      <th></th>\n      <th></th>\n      <th></th>\n      <th></th>\n      <th></th>\n      <th></th>\n      <th></th>\n      <th></th>\n      <th></th>\n      <th></th>\n      <th></th>\n      <th></th>\n      <th></th>\n      <th></th>\n      <th></th>\n      <th></th>\n      <th></th>\n    </tr>\n  </thead>\n  <tbody>\n    <tr>\n      <th>'Round Midnight (1986)</th>\n      <td>0.0</td>\n      <td>0.0</td>\n      <td>0.0</td>\n      <td>0.0</td>\n      <td>0.0</td>\n      <td>0.0</td>\n      <td>0.0</td>\n      <td>0.0</td>\n      <td>0.0</td>\n      <td>0.0</td>\n      <td>...</td>\n      <td>0.0</td>\n      <td>0.0</td>\n      <td>0.0</td>\n      <td>0.0</td>\n      <td>0.0</td>\n      <td>0.0</td>\n      <td>0.0</td>\n      <td>0.0</td>\n      <td>0.0</td>\n      <td>0.0</td>\n    </tr>\n    <tr>\n      <th>'Til There Was You (1997)</th>\n      <td>0.0</td>\n      <td>0.0</td>\n      <td>0.0</td>\n      <td>0.0</td>\n      <td>0.0</td>\n      <td>0.0</td>\n      <td>0.0</td>\n      <td>0.0</td>\n      <td>0.0</td>\n      <td>0.0</td>\n      <td>...</td>\n      <td>0.0</td>\n      <td>0.0</td>\n      <td>0.0</td>\n      <td>0.0</td>\n      <td>0.0</td>\n      <td>0.0</td>\n      <td>0.0</td>\n      <td>0.0</td>\n      <td>0.0</td>\n      <td>0.0</td>\n    </tr>\n    <tr>\n      <th>Clueless (1995)</th>\n      <td>0.0</td>\n      <td>0.0</td>\n      <td>0.0</td>\n      <td>0.0</td>\n      <td>0.0</td>\n      <td>3.0</td>\n      <td>0.0</td>\n      <td>4.0</td>\n      <td>0.0</td>\n      <td>0.0</td>\n      <td>...</td>\n      <td>0.0</td>\n      <td>3.0</td>\n      <td>0.0</td>\n      <td>4.0</td>\n      <td>0.0</td>\n      <td>0.0</td>\n      <td>0.0</td>\n      <td>3.0</td>\n      <td>3.0</td>\n      <td>0.0</td>\n    </tr>\n    <tr>\n      <th>Coach Carter (2005)</th>\n      <td>0.0</td>\n      <td>0.0</td>\n      <td>0.0</td>\n      <td>0.0</td>\n      <td>0.0</td>\n      <td>0.0</td>\n      <td>0.0</td>\n      <td>0.0</td>\n      <td>0.0</td>\n      <td>0.0</td>\n      <td>...</td>\n      <td>0.0</td>\n      <td>0.0</td>\n      <td>0.0</td>\n      <td>0.0</td>\n      <td>0.0</td>\n      <td>4.5</td>\n      <td>0.0</td>\n      <td>0.0</td>\n      <td>0.0</td>\n      <td>0.0</td>\n    </tr>\n    <tr>\n      <th>Coal Miner's Daughter (1980)</th>\n      <td>0.0</td>\n      <td>0.0</td>\n      <td>0.0</td>\n      <td>0.0</td>\n      <td>0.0</td>\n      <td>0.0</td>\n      <td>0.0</td>\n      <td>0.0</td>\n      <td>0.0</td>\n      <td>0.0</td>\n      <td>...</td>\n      <td>0.0</td>\n      <td>0.0</td>\n      <td>0.0</td>\n      <td>0.0</td>\n      <td>0.0</td>\n      <td>0.0</td>\n      <td>0.0</td>\n      <td>0.0</td>\n      <td>0.0</td>\n      <td>0.0</td>\n    </tr>\n  </tbody>\n</table>\n<p>5 rows × 610 columns</p>\n</div>"
     },
     "execution_count": 4,
     "metadata": {},
     "output_type": "execute_result"
    }
   ],
   "source": [
    "### GRADED\n",
    "piv_df = ''\n",
    "\n",
    "    \n",
    "# YOUR CODE HERE\n",
    "piv_df = pd.pivot_table(df, index = 'title', columns='userId', values = 'rating').fillna(0)\n",
    "\n",
    "### ANSWER CHECK\n",
    "piv_df.head()"
   ]
  },
  {
   "cell_type": "code",
   "execution_count": 4,
   "metadata": {
    "deletable": false,
    "editable": false,
    "nbgrader": {
     "cell_type": "code",
     "checksum": "bb90d3d9d3bbabd4420b2eecfc472384",
     "grade": true,
     "grade_id": "cell-b03fee130fc4bbbc",
     "locked": true,
     "points": 10,
     "schema_version": 3,
     "solution": false,
     "task": false
    },
    "ExecuteTime": {
     "end_time": "2024-02-12T01:52:41.313474400Z",
     "start_time": "2024-02-12T01:52:41.295474200Z"
    }
   },
   "outputs": [],
   "source": []
  },
  {
   "cell_type": "markdown",
   "metadata": {
    "deletable": false,
    "editable": false,
    "nbgrader": {
     "cell_type": "markdown",
     "checksum": "95a4b9104af09df6b5b03278d9067da6",
     "grade": false,
     "grade_id": "cell-d162062785727530",
     "locked": true,
     "schema_version": 3,
     "solution": false,
     "task": false
    }
   },
   "source": [
    "[Back to top](#-Index)\n",
    "\n",
    "### Problem 2\n",
    "\n",
    "#### Cosine Distance\n",
    "\n",
    "**10 Points**\n",
    "\n",
    "To determine the similarity of movies, you can consider the distance between two movie arrays.  Below, use the scikitlearn implementation of `pairwise_distances` using the `cosine` as the metric.  Assign the results as `distance_array`."
   ]
  },
  {
   "cell_type": "code",
   "execution_count": 5,
   "metadata": {
    "ExecuteTime": {
     "end_time": "2024-02-12T01:52:41.728071300Z",
     "start_time": "2024-02-12T01:52:41.313474400Z"
    }
   },
   "outputs": [],
   "source": [
    "from sklearn.metrics.pairwise import pairwise_distances"
   ]
  },
  {
   "cell_type": "code",
   "execution_count": 6,
   "metadata": {
    "deletable": false,
    "nbgrader": {
     "cell_type": "code",
     "checksum": "48d3aa57bbcba20d30f10245df696709",
     "grade": false,
     "grade_id": "cell-daf29bcac0421312",
     "locked": false,
     "schema_version": 3,
     "solution": true,
     "task": false
    },
    "ExecuteTime": {
     "end_time": "2024-02-12T01:52:42.448838600Z",
     "start_time": "2024-02-12T01:52:41.729063Z"
    }
   },
   "outputs": [
    {
     "data": {
      "text/plain": "(5075, 5075)"
     },
     "execution_count": 6,
     "metadata": {},
     "output_type": "execute_result"
    }
   ],
   "source": [
    "### GRADED\n",
    "distance_array = ''\n",
    "\n",
    "    \n",
    "# YOUR CODE HERE\n",
    "distance_array = pairwise_distances(piv_df, metric = 'cosine')\n",
    "\n",
    "### ANSWER CHECK\n",
    "distance_array.shape"
   ]
  },
  {
   "cell_type": "code",
   "execution_count": 6,
   "metadata": {
    "deletable": false,
    "editable": false,
    "nbgrader": {
     "cell_type": "code",
     "checksum": "7d0fed7090d62fa478ddcb670d3d586d",
     "grade": true,
     "grade_id": "cell-069c4addb8547fc0",
     "locked": true,
     "points": 10,
     "schema_version": 3,
     "solution": false,
     "task": false
    },
    "ExecuteTime": {
     "end_time": "2024-02-12T01:52:42.493225700Z",
     "start_time": "2024-02-12T01:52:42.448838600Z"
    }
   },
   "outputs": [],
   "source": []
  },
  {
   "cell_type": "markdown",
   "metadata": {
    "deletable": false,
    "editable": false,
    "nbgrader": {
     "cell_type": "markdown",
     "checksum": "024fef825b19cd4fcd6ab06e1668e6bd",
     "grade": false,
     "grade_id": "cell-338beb758a15fc49",
     "locked": true,
     "schema_version": 3,
     "solution": false,
     "task": false
    }
   },
   "source": [
    "[Back to top](#-Index)\n",
    "\n",
    "### Problem 3\n",
    "\n",
    "#### Create a Distance DataFrame\n",
    "\n",
    "**10 Points**\n",
    "\n",
    "Using your distance array, create a DataFrame with both index and column names as the movie names.  "
   ]
  },
  {
   "cell_type": "code",
   "execution_count": 7,
   "metadata": {
    "deletable": false,
    "nbgrader": {
     "cell_type": "code",
     "checksum": "ef7c242f18a7c146dd4b2d6d9403d792",
     "grade": false,
     "grade_id": "cell-772e1e3d7c791780",
     "locked": false,
     "schema_version": 3,
     "solution": true,
     "task": false
    },
    "ExecuteTime": {
     "end_time": "2024-02-12T01:52:42.495225500Z",
     "start_time": "2024-02-12T01:52:42.464885400Z"
    }
   },
   "outputs": [
    {
     "data": {
      "text/plain": "title                         'Round Midnight (1986)  \\\ntitle                                                  \n'Round Midnight (1986)                           0.0   \n'Til There Was You (1997)                        1.0   \nClueless (1995)                                  1.0   \nCoach Carter (2005)                              1.0   \nCoal Miner's Daughter (1980)                     1.0   \n\ntitle                         'Til There Was You (1997)  Clueless (1995)  \\\ntitle                                                                      \n'Round Midnight (1986)                     1.000000e+00         1.000000   \n'Til There Was You (1997)                  2.220446e-16         0.884360   \nClueless (1995)                            8.843602e-01         0.000000   \nCoach Carter (2005)                        1.000000e+00         0.944991   \nCoal Miner's Daughter (1980)               1.000000e+00         0.937616   \n\ntitle                         Coach Carter (2005)  \\\ntitle                                               \n'Round Midnight (1986)                   1.000000   \n'Til There Was You (1997)                1.000000   \nClueless (1995)                          0.944991   \nCoach Carter (2005)                      0.000000   \nCoal Miner's Daughter (1980)             1.000000   \n\ntitle                         Coal Miner's Daughter (1980)  Cobb (1994)  \\\ntitle                                                                     \n'Round Midnight (1986)                            1.000000     1.000000   \n'Til There Was You (1997)                         1.000000     1.000000   \nClueless (1995)                                   0.937616     0.888982   \nCoach Carter (2005)                               1.000000     1.000000   \nCoal Miner's Daughter (1980)                      0.000000     1.000000   \n\ntitle                         Cobra (1986)  Cocaine Cowboys (2006)  \\\ntitle                                                                \n'Round Midnight (1986)            1.000000                1.000000   \n'Til There Was You (1997)         1.000000                1.000000   \nClueless (1995)                   0.970826                1.000000   \nCoach Carter (2005)               1.000000                0.816326   \nCoal Miner's Daughter (1980)      1.000000                1.000000   \n\ntitle                         Cocktail (1988)  Coco (2017)  ...  \\\ntitle                                                       ...   \n'Round Midnight (1986)               1.000000     1.000000  ...   \n'Til There Was You (1997)            0.862171     1.000000  ...   \nClueless (1995)                      0.911382     0.945281  ...   \nCoach Carter (2005)                  0.885037     0.880089  ...   \nCoal Miner's Daughter (1980)         1.000000     1.000000  ...   \n\ntitle                         Zombieland (2009)  Zone, The (La Zona) (2007)  \\\ntitle                                                                         \n'Round Midnight (1986)                 1.000000                         1.0   \n'Til There Was You (1997)              1.000000                         1.0   \nClueless (1995)                        0.913059                         1.0   \nCoach Carter (2005)                    1.000000                         1.0   \nCoal Miner's Daughter (1980)           1.000000                         1.0   \n\ntitle                         Zookeeper (2011)  Zoolander (2001)  \\\ntitle                                                              \n'Round Midnight (1986)                1.000000          0.967259   \n'Til There Was You (1997)             1.000000          0.893782   \nClueless (1995)                       0.974194          0.835638   \nCoach Carter (2005)                   1.000000          0.748878   \nCoal Miner's Daughter (1980)          1.000000          0.947376   \n\ntitle                         Zoolander 2 (2016)  Zootopia (2016)  \\\ntitle                                                               \n'Round Midnight (1986)                  1.000000         1.000000   \n'Til There Was You (1997)               1.000000         0.907731   \nClueless (1995)                         1.000000         0.947219   \nCoach Carter (2005)                     0.781806         0.923039   \nCoal Miner's Daughter (1980)            1.000000         1.000000   \n\ntitle                         Zulu (1964)  eXistenZ (1999)  xXx (2002)  \\\ntitle                                                                    \n'Round Midnight (1986)                1.0         1.000000    1.000000   \n'Til There Was You (1997)             1.0         1.000000    0.921470   \nClueless (1995)                       1.0         0.906243    0.803393   \nCoach Carter (2005)                   1.0         0.781258    0.938593   \nCoal Miner's Daughter (1980)          1.0         1.000000    0.863828   \n\ntitle                         xXx: State of the Union (2005)  \ntitle                                                         \n'Round Midnight (1986)                                   1.0  \n'Til There Was You (1997)                                1.0  \nClueless (1995)                                          1.0  \nCoach Carter (2005)                                      1.0  \nCoal Miner's Daughter (1980)                             1.0  \n\n[5 rows x 5075 columns]",
      "text/html": "<div>\n<style scoped>\n    .dataframe tbody tr th:only-of-type {\n        vertical-align: middle;\n    }\n\n    .dataframe tbody tr th {\n        vertical-align: top;\n    }\n\n    .dataframe thead th {\n        text-align: right;\n    }\n</style>\n<table border=\"1\" class=\"dataframe\">\n  <thead>\n    <tr style=\"text-align: right;\">\n      <th>title</th>\n      <th>'Round Midnight (1986)</th>\n      <th>'Til There Was You (1997)</th>\n      <th>Clueless (1995)</th>\n      <th>Coach Carter (2005)</th>\n      <th>Coal Miner's Daughter (1980)</th>\n      <th>Cobb (1994)</th>\n      <th>Cobra (1986)</th>\n      <th>Cocaine Cowboys (2006)</th>\n      <th>Cocktail (1988)</th>\n      <th>Coco (2017)</th>\n      <th>...</th>\n      <th>Zombieland (2009)</th>\n      <th>Zone, The (La Zona) (2007)</th>\n      <th>Zookeeper (2011)</th>\n      <th>Zoolander (2001)</th>\n      <th>Zoolander 2 (2016)</th>\n      <th>Zootopia (2016)</th>\n      <th>Zulu (1964)</th>\n      <th>eXistenZ (1999)</th>\n      <th>xXx (2002)</th>\n      <th>xXx: State of the Union (2005)</th>\n    </tr>\n    <tr>\n      <th>title</th>\n      <th></th>\n      <th></th>\n      <th></th>\n      <th></th>\n      <th></th>\n      <th></th>\n      <th></th>\n      <th></th>\n      <th></th>\n      <th></th>\n      <th></th>\n      <th></th>\n      <th></th>\n      <th></th>\n      <th></th>\n      <th></th>\n      <th></th>\n      <th></th>\n      <th></th>\n      <th></th>\n      <th></th>\n    </tr>\n  </thead>\n  <tbody>\n    <tr>\n      <th>'Round Midnight (1986)</th>\n      <td>0.0</td>\n      <td>1.000000e+00</td>\n      <td>1.000000</td>\n      <td>1.000000</td>\n      <td>1.000000</td>\n      <td>1.000000</td>\n      <td>1.000000</td>\n      <td>1.000000</td>\n      <td>1.000000</td>\n      <td>1.000000</td>\n      <td>...</td>\n      <td>1.000000</td>\n      <td>1.0</td>\n      <td>1.000000</td>\n      <td>0.967259</td>\n      <td>1.000000</td>\n      <td>1.000000</td>\n      <td>1.0</td>\n      <td>1.000000</td>\n      <td>1.000000</td>\n      <td>1.0</td>\n    </tr>\n    <tr>\n      <th>'Til There Was You (1997)</th>\n      <td>1.0</td>\n      <td>2.220446e-16</td>\n      <td>0.884360</td>\n      <td>1.000000</td>\n      <td>1.000000</td>\n      <td>1.000000</td>\n      <td>1.000000</td>\n      <td>1.000000</td>\n      <td>0.862171</td>\n      <td>1.000000</td>\n      <td>...</td>\n      <td>1.000000</td>\n      <td>1.0</td>\n      <td>1.000000</td>\n      <td>0.893782</td>\n      <td>1.000000</td>\n      <td>0.907731</td>\n      <td>1.0</td>\n      <td>1.000000</td>\n      <td>0.921470</td>\n      <td>1.0</td>\n    </tr>\n    <tr>\n      <th>Clueless (1995)</th>\n      <td>1.0</td>\n      <td>8.843602e-01</td>\n      <td>0.000000</td>\n      <td>0.944991</td>\n      <td>0.937616</td>\n      <td>0.888982</td>\n      <td>0.970826</td>\n      <td>1.000000</td>\n      <td>0.911382</td>\n      <td>0.945281</td>\n      <td>...</td>\n      <td>0.913059</td>\n      <td>1.0</td>\n      <td>0.974194</td>\n      <td>0.835638</td>\n      <td>1.000000</td>\n      <td>0.947219</td>\n      <td>1.0</td>\n      <td>0.906243</td>\n      <td>0.803393</td>\n      <td>1.0</td>\n    </tr>\n    <tr>\n      <th>Coach Carter (2005)</th>\n      <td>1.0</td>\n      <td>1.000000e+00</td>\n      <td>0.944991</td>\n      <td>0.000000</td>\n      <td>1.000000</td>\n      <td>1.000000</td>\n      <td>1.000000</td>\n      <td>0.816326</td>\n      <td>0.885037</td>\n      <td>0.880089</td>\n      <td>...</td>\n      <td>1.000000</td>\n      <td>1.0</td>\n      <td>1.000000</td>\n      <td>0.748878</td>\n      <td>0.781806</td>\n      <td>0.923039</td>\n      <td>1.0</td>\n      <td>0.781258</td>\n      <td>0.938593</td>\n      <td>1.0</td>\n    </tr>\n    <tr>\n      <th>Coal Miner's Daughter (1980)</th>\n      <td>1.0</td>\n      <td>1.000000e+00</td>\n      <td>0.937616</td>\n      <td>1.000000</td>\n      <td>0.000000</td>\n      <td>1.000000</td>\n      <td>1.000000</td>\n      <td>1.000000</td>\n      <td>1.000000</td>\n      <td>1.000000</td>\n      <td>...</td>\n      <td>1.000000</td>\n      <td>1.0</td>\n      <td>1.000000</td>\n      <td>0.947376</td>\n      <td>1.000000</td>\n      <td>1.000000</td>\n      <td>1.0</td>\n      <td>1.000000</td>\n      <td>0.863828</td>\n      <td>1.0</td>\n    </tr>\n  </tbody>\n</table>\n<p>5 rows × 5075 columns</p>\n</div>"
     },
     "execution_count": 7,
     "metadata": {},
     "output_type": "execute_result"
    }
   ],
   "source": [
    "### GRADED\n",
    "dist_df = ''\n",
    "\n",
    "    \n",
    "# YOUR CODE HERE\n",
    "dist_df = pd.DataFrame(distance_array, index = piv_df.index, columns = piv_df.index)\n",
    "\n",
    "### ANSWER CHECK\n",
    "dist_df.head()"
   ]
  },
  {
   "cell_type": "code",
   "execution_count": 7,
   "metadata": {
    "deletable": false,
    "editable": false,
    "nbgrader": {
     "cell_type": "code",
     "checksum": "e51964ac3c8f09ccd4db0d0ff1968725",
     "grade": true,
     "grade_id": "cell-7a77c30fdc6ace54",
     "locked": true,
     "points": 10,
     "schema_version": 3,
     "solution": false,
     "task": false
    },
    "ExecuteTime": {
     "end_time": "2024-02-12T01:52:42.496225200Z",
     "start_time": "2024-02-12T01:52:42.480225Z"
    }
   },
   "outputs": [],
   "source": []
  },
  {
   "cell_type": "markdown",
   "metadata": {
    "deletable": false,
    "editable": false,
    "nbgrader": {
     "cell_type": "markdown",
     "checksum": "441934ed2df02b6cc602bf58bbdb538e",
     "grade": false,
     "grade_id": "cell-799f6ede0a5963d6",
     "locked": true,
     "schema_version": 3,
     "solution": false,
     "task": false
    }
   },
   "source": [
    "[Back to top](#-Index)\n",
    "\n",
    "### Problem 4\n",
    "\n",
    "#### Using the Distances to make recommendations\n",
    "\n",
    "**10 Points**\n",
    "\n",
    "Use the `dist_df` to decide what movie you would recommend to a user who rated `'xXx (2002)'` highly -- aka what is the most similar movie?"
   ]
  },
  {
   "cell_type": "code",
   "execution_count": 8,
   "metadata": {
    "deletable": false,
    "nbgrader": {
     "cell_type": "code",
     "checksum": "40b5f1148e48fbadb84121e954e3284a",
     "grade": false,
     "grade_id": "cell-d965152547e7ae91",
     "locked": false,
     "schema_version": 3,
     "solution": true,
     "task": false
    },
    "ExecuteTime": {
     "end_time": "2024-02-12T01:52:42.533066500Z",
     "start_time": "2024-02-12T01:52:42.497224900Z"
    }
   },
   "outputs": [
    {
     "name": "stdout",
     "output_type": "stream",
     "text": [
      "Time Bandits (1981)\n"
     ]
    }
   ],
   "source": [
    "### GRADED\n",
    "recommendation = ''\n",
    "\n",
    "    \n",
    "# YOUR CODE HERE\n",
    "recommendation = dist_df['xXx (2002)'].nsmallest().index[1]\n",
    "\n",
    "### ANSWER CHECK\n",
    "print(recommendation)"
   ]
  },
  {
   "cell_type": "code",
   "execution_count": 8,
   "metadata": {
    "deletable": false,
    "editable": false,
    "nbgrader": {
     "cell_type": "code",
     "checksum": "cf7348a662cf2e4a42510bd3abcb1b7e",
     "grade": true,
     "grade_id": "cell-ced170ecc3e99055",
     "locked": true,
     "points": 10,
     "schema_version": 3,
     "solution": false,
     "task": false
    },
    "ExecuteTime": {
     "end_time": "2024-02-12T01:52:42.546066400Z",
     "start_time": "2024-02-12T01:52:42.514066900Z"
    }
   },
   "outputs": [],
   "source": []
  },
  {
   "cell_type": "code",
   "execution_count": 8,
   "metadata": {
    "ExecuteTime": {
     "end_time": "2024-02-12T01:52:42.569075200Z",
     "start_time": "2024-02-12T01:52:42.528066800Z"
    }
   },
   "outputs": [],
   "source": []
  },
  {
   "cell_type": "code",
   "execution_count": 8,
   "metadata": {
    "ExecuteTime": {
     "end_time": "2024-02-12T01:52:42.624075500Z",
     "start_time": "2024-02-12T01:52:42.543066300Z"
    }
   },
   "outputs": [],
   "source": []
  }
 ],
 "metadata": {
  "kernelspec": {
   "display_name": "Python 3 (ipykernel)",
   "language": "python",
   "name": "python3"
  },
  "language_info": {
   "codemirror_mode": {
    "name": "ipython",
    "version": 3
   },
   "file_extension": ".py",
   "mimetype": "text/x-python",
   "name": "python",
   "nbconvert_exporter": "python",
   "pygments_lexer": "ipython3",
   "version": "3.9.11"
  },
  "widgets": {
   "application/vnd.jupyter.widget-state+json": {
    "state": {},
    "version_major": 2,
    "version_minor": 0
   }
  }
 },
 "nbformat": 4,
 "nbformat_minor": 4
}
