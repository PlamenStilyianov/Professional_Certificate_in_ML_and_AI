{
 "cells": [
  {
   "cell_type": "markdown",
   "metadata": {},
   "source": [
    "### Building a Recommender system with Surprise\n",
    "\n",
    "This try-it focuses on exploring additional algorithms with the `Suprise` library to generate recommendations.  Your goal is to identify the optimal algorithm by minimizing the mean squared error using cross validation. You are also going to select a dataset to use from [grouplens](https://grouplens.org/datasets/movielens/) example datasets.  \n",
    "\n",
    "To begin, head over to grouplens and examine the different datasets available.  Choose one so that it is easy to create the data as expected in `Surprise` with user, item, and rating information.  Then, compare the performance of at least the `KNNBasic`, `SVD`, `NMF`, `SlopeOne`, and `CoClustering` algorithms to build your recommendations.  For more information on the algorithms see the documentation for the algorithm package [here](https://surprise.readthedocs.io/en/stable/prediction_algorithms_package.html).\n",
    "\n",
    "Share the results of your investigation and include the results of your cross validation and a basic description of your dataset with your peers.\n",
    "\n"
   ]
  },
  {
   "cell_type": "code",
   "execution_count": 1,
   "metadata": {
    "ExecuteTime": {
     "end_time": "2024-02-12T07:08:20.428530900Z",
     "start_time": "2024-02-12T07:08:20.161012700Z"
    }
   },
   "outputs": [],
   "source": [
    "import numpy as np\n",
    "import pandas as pd\n",
    "\n",
    "from plotly.figure_factory import create_table\n",
    "from surprise import Dataset, accuracy, SVD, NMF, KNNBasic, SlopeOne, CoClustering\n",
    "from surprise.model_selection import cross_validate, train_test_split, KFold\n",
    "from surprise.model_selection import GridSearchCV"
   ]
  },
  {
   "cell_type": "code",
   "execution_count": 2,
   "metadata": {
    "ExecuteTime": {
     "end_time": "2024-02-12T07:08:20.583458200Z",
     "start_time": "2024-02-12T07:08:20.439858800Z"
    }
   },
   "outputs": [],
   "source": [
    "data = Dataset.load_builtin(\"ml-100k\")"
   ]
  },
  {
   "cell_type": "markdown",
   "metadata": {},
   "source": []
  },
  {
   "cell_type": "code",
   "execution_count": 3,
   "metadata": {
    "ExecuteTime": {
     "end_time": "2024-02-12T07:08:20.584458400Z",
     "start_time": "2024-02-12T07:08:20.558458800Z"
    }
   },
   "outputs": [],
   "source": [
    "# grid parameters\n",
    "param_grid ={ 'SVD' : {\"n_factors\": [50 , 100], \n",
    "                      \"n_epochs\": [20, 30], \n",
    "                      \"lr_all\": [0.002, 0.005], \n",
    "                      \"reg_all\": [0.4, 0.6]},\n",
    "              'NMF' : {\"n_factors\": [15, 30],\n",
    "                       \"n_epochs\": [50, 100],\n",
    "                       \"lr_bu\": [0.002, 0.005, 0.01],\n",
    "                       \"lr_bi\": [0.002, 0.005, 0.01]},\n",
    "              'KNNBasic' : {\"k\": [30,40,50], \n",
    "                            \"min_k\": [1,2,3], \n",
    "                            },                            \n",
    "              'SlopeOne' : {},\n",
    "              'CoClustering' : {\"n_cltr_u\": [3, 5, 7],\n",
    "                            \"n_epochs\": [3, 5, 7]}\n",
    "              }   \n",
    "models = [  SVD, NMF, KNNBasic, SlopeOne, CoClustering] # \n",
    "report_data = {'Model':[], 'best_parameters':[], 'RMSE':[], 'MAE':[],'fit_time':[]}"
   ]
  },
  {
   "cell_type": "code",
   "execution_count": null,
   "metadata": {
    "ExecuteTime": {
     "end_time": "2024-02-12T07:12:07.404989900Z",
     "start_time": "2024-02-12T07:08:20.573458400Z"
    }
   },
   "outputs": [],
   "source": [
    "# Models building\n",
    "for model in models:\n",
    "    algo_m = model()\n",
    "    algo_name = algo_m.__class__.__name__\n",
    "    param = param_grid[algo_name]\n",
    "    grid = GridSearchCV(model, param, measures=[\"rmse\", \"mae\"], cv=3)\n",
    "    grid.fit(data)\n",
    "    mean_test_rmse =np.mean(grid.cv_results['mean_test_rmse'])\n",
    "    mean_test_mae = np.mean(grid.cv_results['mean_test_mae'])\n",
    "    mean_fit_time = np.mean(grid.cv_results['mean_fit_time'])\n",
    "    report_data['Model'].append(algo_name)\n",
    "    report_data['best_parameters'].append({'rmse':grid.best_params[\"rmse\"], \"mae\":grid.best_params[\"mae\"]})\n",
    "    report_data['RMSE'].append(mean_test_rmse)\n",
    "    report_data['MAE'].append(mean_test_mae)\n",
    "    report_data['fit_time'].append(mean_fit_time)"
   ]
  },
  {
   "cell_type": "code",
   "execution_count": null,
   "metadata": {
    "ExecuteTime": {
     "end_time": "2024-02-12T07:12:07.424025Z",
     "start_time": "2024-02-12T07:12:07.405990200Z"
    }
   },
   "outputs": [],
   "source": [
    "# creating score dataframe\n",
    "df_scores = pd.DataFrame.from_dict(report_data)\n",
    "df_scores.set_index('Model', inplace=True)\n",
    "df_scores.head()"
   ]
  },
  {
   "cell_type": "code",
   "execution_count": null,
   "metadata": {
    "ExecuteTime": {
     "end_time": "2024-02-12T07:13:58.436747900Z",
     "start_time": "2024-02-12T07:13:58.403748500Z"
    }
   },
   "outputs": [],
   "source": [
    "#results table\n",
    "create_table(df_scores.sort_values(by=['RMSE'], ascending=False),index_title='Model',index=True, )"
   ]
  },
  {
   "cell_type": "code",
   "execution_count": null,
   "metadata": {
    "ExecuteTime": {
     "end_time": "2024-02-12T07:13:24.046269900Z",
     "start_time": "2024-02-12T07:13:24.030266200Z"
    }
   },
   "outputs": [],
   "source": []
  },
  {
   "cell_type": "code",
   "execution_count": null,
   "metadata": {
    "ExecuteTime": {
     "end_time": "2024-02-12T07:13:24.861100400Z",
     "start_time": "2024-02-12T07:13:24.785101Z"
    }
   },
   "outputs": [],
   "source": [
    "trainset, testset = train_test_split(data, test_size=0.25)"
   ]
  },
  {
   "cell_type": "code",
   "execution_count": null,
   "metadata": {
    "ExecuteTime": {
     "end_time": "2024-02-12T07:12:07.584258800Z",
     "start_time": "2024-02-12T07:12:07.545210200Z"
    }
   },
   "outputs": [],
   "source": [
    "# We'll use the famous SVD algorithm.\n",
    "algo = SVD()"
   ]
  },
  {
   "cell_type": "code",
   "execution_count": null,
   "metadata": {
    "ExecuteTime": {
     "end_time": "2024-02-12T07:12:08.294104100Z",
     "start_time": "2024-02-12T07:12:07.561244300Z"
    }
   },
   "outputs": [],
   "source": [
    "# Train the algorithm on the trainset, and predict ratings for the testset\n",
    "algo.fit(trainset)\n",
    "predictions = algo.test(testset)"
   ]
  },
  {
   "cell_type": "code",
   "execution_count": null,
   "metadata": {
    "ExecuteTime": {
     "end_time": "2024-02-12T07:12:08.358206Z",
     "start_time": "2024-02-12T07:12:08.295103800Z"
    }
   },
   "outputs": [],
   "source": [
    "# Then compute RMSE\n",
    "accuracy.rmse(predictions)"
   ]
  },
  {
   "cell_type": "code",
   "execution_count": null,
   "metadata": {
    "ExecuteTime": {
     "end_time": "2024-02-12T07:12:11.879291700Z",
     "start_time": "2024-02-12T07:12:08.328157500Z"
    }
   },
   "outputs": [],
   "source": [
    "# Run 5-fold cross-validation and print results\n",
    "cross_validate(algo, data, measures=[\"RMSE\", \"MAE\"], cv=5, verbose=True)"
   ]
  },
  {
   "cell_type": "code",
   "execution_count": null,
   "metadata": {
    "ExecuteTime": {
     "end_time": "2024-02-12T07:12:19.321969900Z",
     "start_time": "2024-02-12T07:12:11.875194Z"
    }
   },
   "outputs": [],
   "source": [
    "param_grid = {\"n_epochs\": [5, 10], \"lr_all\": [0.002, 0.005], \"reg_all\": [0.4, 0.6]}\n",
    "gs = GridSearchCV(SVD, param_grid, measures=[\"rmse\", \"mae\"], cv=3)\n",
    "\n",
    "gs.fit(data)\n",
    "\n",
    "# best RMSE score\n",
    "print(gs.best_score[\"rmse\"])\n",
    "\n",
    "# combination of parameters that gave the best RMSE score\n",
    "print(gs.best_params[\"rmse\"])"
   ]
  },
  {
   "cell_type": "code",
   "execution_count": null,
   "metadata": {
    "ExecuteTime": {
     "end_time": "2024-02-12T07:12:19.351969700Z",
     "start_time": "2024-02-12T07:12:19.317969900Z"
    }
   },
   "outputs": [],
   "source": []
  },
  {
   "cell_type": "code",
   "execution_count": null,
   "metadata": {
    "ExecuteTime": {
     "end_time": "2024-02-12T07:12:21.921090800Z",
     "start_time": "2024-02-12T07:12:19.333971200Z"
    }
   },
   "outputs": [],
   "source": [
    "# define a cross-validation iterator\n",
    "kf = KFold(n_splits=3)\n",
    "\n",
    "algo = SVD()\n",
    "\n",
    "for trainset, testset in kf.split(data):\n",
    "\n",
    "    # train and test algorithm.\n",
    "    algo.fit(trainset)\n",
    "    predictions = algo.test(testset)\n",
    "\n",
    "    # Compute and print Root Mean Squared Error\n",
    "    accuracy.rmse(predictions, verbose=True)"
   ]
  },
  {
   "cell_type": "code",
   "execution_count": null,
   "metadata": {
    "ExecuteTime": {
     "end_time": "2024-02-12T07:12:21.922090100Z",
     "start_time": "2024-02-12T07:12:21.715091800Z"
    }
   },
   "outputs": [],
   "source": []
  }
 ],
 "metadata": {
  "kernelspec": {
   "display_name": "Python 3 (ipykernel)",
   "language": "python",
   "name": "python3"
  },
  "language_info": {
   "codemirror_mode": {
    "name": "ipython",
    "version": 3
   },
   "file_extension": ".py",
   "mimetype": "text/x-python",
   "name": "python",
   "nbconvert_exporter": "python",
   "pygments_lexer": "ipython3",
   "version": "3.10.8"
  }
 },
 "nbformat": 4,
 "nbformat_minor": 4
}
