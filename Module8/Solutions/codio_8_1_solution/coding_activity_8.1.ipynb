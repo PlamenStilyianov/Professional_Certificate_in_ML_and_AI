{
 "cells": [
  {
   "cell_type": "markdown",
   "metadata": {
    "nbgrader": {
     "grade": false,
     "grade_id": "cell-814f0610a20067e9",
     "locked": true,
     "schema_version": 1,
     "solution": false
    }
   },
   "source": [
    "## Codio Activity 8.1: Adding Nonlinear Features\n",
    "\n",
    "**Estimated time: 60 minutes**\n",
    "\n",
    "**Total Points: 20 Points**\n",
    "\n",
    "This activity focuses on building polynomial models with `sklearn`.  You will fit both a standard first degree linear regression model and create a quadratic term similar to the `hp2` from video 8.2.  Using scikit-learn, you will compare the performance of the models and determine the appropriate model complexity.\n",
    "\n",
    "## Index:\n",
    "\n",
    "- [Problem 1](#Problem-1)\n",
    "- [Problem 2](#Problem-2)\n",
    "- [Problem 3](#Problem-3)\n",
    "- [Problem 4](#Problem-4)\n",
    "- [Problem 5](#Problem-5)\n"
   ]
  },
  {
   "cell_type": "code",
   "execution_count": 25,
   "metadata": {
    "ExecuteTime": {
     "end_time": "2023-10-27T12:15:52.462851800Z",
     "start_time": "2023-10-27T12:15:52.236654700Z"
    }
   },
   "outputs": [],
   "source": [
    "import pandas as pd\n",
    "import numpy as np\n",
    "import matplotlib.pyplot as plt\n",
    "import seaborn as sns\n",
    "from sklearn.linear_model import LinearRegression\n",
    "from sklearn.metrics import mean_squared_error\n",
    "import plotly.express as px"
   ]
  },
  {
   "cell_type": "markdown",
   "metadata": {
    "nbgrader": {
     "grade": false,
     "grade_id": "cell-607d5fcca15ef2ef",
     "locked": true,
     "schema_version": 1,
     "solution": false
    }
   },
   "source": [
    "### The Data\n",
    "\n",
    "For this exercise, a dataset containing data on automobiles including their horsepower and fuel economy is used.  Your goal is to build a model to predict the `mpg` column using the `horsepower` column as your models input.  Below, the dataset is loaded and a scatterplot of `horsepower` vs. `mpg` is displayed.  "
   ]
  },
  {
   "cell_type": "code",
   "execution_count": 26,
   "metadata": {
    "ExecuteTime": {
     "end_time": "2023-10-27T12:15:52.569998200Z",
     "start_time": "2023-10-27T12:15:52.239647Z"
    }
   },
   "outputs": [
    {
     "data": {
      "text/plain": "      mpg  cylinders  displacement  horsepower  weight  acceleration  year  \\\n0    18.0          8         307.0       130.0    3504          12.0    70   \n1    15.0          8         350.0       165.0    3693          11.5    70   \n2    18.0          8         318.0       150.0    3436          11.0    70   \n3    16.0          8         304.0       150.0    3433          12.0    70   \n4    17.0          8         302.0       140.0    3449          10.5    70   \n..    ...        ...           ...         ...     ...           ...   ...   \n387  27.0          4         140.0        86.0    2790          15.6    82   \n388  44.0          4          97.0        52.0    2130          24.6    82   \n389  32.0          4         135.0        84.0    2295          11.6    82   \n390  28.0          4         120.0        79.0    2625          18.6    82   \n391  31.0          4         119.0        82.0    2720          19.4    82   \n\n     origin                       name  \n0         1  chevrolet chevelle malibu  \n1         1          buick skylark 320  \n2         1         plymouth satellite  \n3         1              amc rebel sst  \n4         1                ford torino  \n..      ...                        ...  \n387       1            ford mustang gl  \n388       2                  vw pickup  \n389       1              dodge rampage  \n390       1                ford ranger  \n391       1                 chevy s-10  \n\n[392 rows x 9 columns]",
      "text/html": "<div>\n<style scoped>\n    .dataframe tbody tr th:only-of-type {\n        vertical-align: middle;\n    }\n\n    .dataframe tbody tr th {\n        vertical-align: top;\n    }\n\n    .dataframe thead th {\n        text-align: right;\n    }\n</style>\n<table border=\"1\" class=\"dataframe\">\n  <thead>\n    <tr style=\"text-align: right;\">\n      <th></th>\n      <th>mpg</th>\n      <th>cylinders</th>\n      <th>displacement</th>\n      <th>horsepower</th>\n      <th>weight</th>\n      <th>acceleration</th>\n      <th>year</th>\n      <th>origin</th>\n      <th>name</th>\n    </tr>\n  </thead>\n  <tbody>\n    <tr>\n      <th>0</th>\n      <td>18.0</td>\n      <td>8</td>\n      <td>307.0</td>\n      <td>130.0</td>\n      <td>3504</td>\n      <td>12.0</td>\n      <td>70</td>\n      <td>1</td>\n      <td>chevrolet chevelle malibu</td>\n    </tr>\n    <tr>\n      <th>1</th>\n      <td>15.0</td>\n      <td>8</td>\n      <td>350.0</td>\n      <td>165.0</td>\n      <td>3693</td>\n      <td>11.5</td>\n      <td>70</td>\n      <td>1</td>\n      <td>buick skylark 320</td>\n    </tr>\n    <tr>\n      <th>2</th>\n      <td>18.0</td>\n      <td>8</td>\n      <td>318.0</td>\n      <td>150.0</td>\n      <td>3436</td>\n      <td>11.0</td>\n      <td>70</td>\n      <td>1</td>\n      <td>plymouth satellite</td>\n    </tr>\n    <tr>\n      <th>3</th>\n      <td>16.0</td>\n      <td>8</td>\n      <td>304.0</td>\n      <td>150.0</td>\n      <td>3433</td>\n      <td>12.0</td>\n      <td>70</td>\n      <td>1</td>\n      <td>amc rebel sst</td>\n    </tr>\n    <tr>\n      <th>4</th>\n      <td>17.0</td>\n      <td>8</td>\n      <td>302.0</td>\n      <td>140.0</td>\n      <td>3449</td>\n      <td>10.5</td>\n      <td>70</td>\n      <td>1</td>\n      <td>ford torino</td>\n    </tr>\n    <tr>\n      <th>...</th>\n      <td>...</td>\n      <td>...</td>\n      <td>...</td>\n      <td>...</td>\n      <td>...</td>\n      <td>...</td>\n      <td>...</td>\n      <td>...</td>\n      <td>...</td>\n    </tr>\n    <tr>\n      <th>387</th>\n      <td>27.0</td>\n      <td>4</td>\n      <td>140.0</td>\n      <td>86.0</td>\n      <td>2790</td>\n      <td>15.6</td>\n      <td>82</td>\n      <td>1</td>\n      <td>ford mustang gl</td>\n    </tr>\n    <tr>\n      <th>388</th>\n      <td>44.0</td>\n      <td>4</td>\n      <td>97.0</td>\n      <td>52.0</td>\n      <td>2130</td>\n      <td>24.6</td>\n      <td>82</td>\n      <td>2</td>\n      <td>vw pickup</td>\n    </tr>\n    <tr>\n      <th>389</th>\n      <td>32.0</td>\n      <td>4</td>\n      <td>135.0</td>\n      <td>84.0</td>\n      <td>2295</td>\n      <td>11.6</td>\n      <td>82</td>\n      <td>1</td>\n      <td>dodge rampage</td>\n    </tr>\n    <tr>\n      <th>390</th>\n      <td>28.0</td>\n      <td>4</td>\n      <td>120.0</td>\n      <td>79.0</td>\n      <td>2625</td>\n      <td>18.6</td>\n      <td>82</td>\n      <td>1</td>\n      <td>ford ranger</td>\n    </tr>\n    <tr>\n      <th>391</th>\n      <td>31.0</td>\n      <td>4</td>\n      <td>119.0</td>\n      <td>82.0</td>\n      <td>2720</td>\n      <td>19.4</td>\n      <td>82</td>\n      <td>1</td>\n      <td>chevy s-10</td>\n    </tr>\n  </tbody>\n</table>\n<p>392 rows × 9 columns</p>\n</div>"
     },
     "execution_count": 26,
     "metadata": {},
     "output_type": "execute_result"
    }
   ],
   "source": [
    "auto = pd.read_csv('data/auto.csv')\n",
    "auto"
   ]
  },
  {
   "cell_type": "code",
   "execution_count": 27,
   "metadata": {
    "ExecuteTime": {
     "end_time": "2023-10-27T12:15:52.802117400Z",
     "start_time": "2023-10-27T12:15:52.253359600Z"
    }
   },
   "outputs": [
    {
     "data": {
      "application/vnd.plotly.v1+json": {
       "data": [
        {
         "hovertemplate": "horsepower=%{x}<br>mpg=%{y}<extra></extra>",
         "legendgroup": "",
         "marker": {
          "color": "#636efa",
          "symbol": "circle"
         },
         "mode": "markers",
         "name": "",
         "orientation": "v",
         "showlegend": false,
         "x": [
          130.0,
          165.0,
          150.0,
          150.0,
          140.0,
          198.0,
          220.0,
          215.0,
          225.0,
          190.0,
          170.0,
          160.0,
          150.0,
          225.0,
          95.0,
          95.0,
          97.0,
          85.0,
          88.0,
          46.0,
          87.0,
          90.0,
          95.0,
          113.0,
          90.0,
          215.0,
          200.0,
          210.0,
          193.0,
          88.0,
          90.0,
          95.0,
          100.0,
          105.0,
          100.0,
          88.0,
          100.0,
          165.0,
          175.0,
          153.0,
          150.0,
          180.0,
          170.0,
          175.0,
          110.0,
          72.0,
          100.0,
          88.0,
          86.0,
          90.0,
          70.0,
          76.0,
          65.0,
          69.0,
          60.0,
          70.0,
          95.0,
          80.0,
          54.0,
          90.0,
          86.0,
          165.0,
          175.0,
          150.0,
          153.0,
          150.0,
          208.0,
          155.0,
          160.0,
          190.0,
          97.0,
          150.0,
          130.0,
          140.0,
          150.0,
          112.0,
          76.0,
          87.0,
          69.0,
          86.0,
          92.0,
          97.0,
          80.0,
          88.0,
          175.0,
          150.0,
          145.0,
          137.0,
          150.0,
          198.0,
          150.0,
          158.0,
          150.0,
          215.0,
          225.0,
          175.0,
          105.0,
          100.0,
          100.0,
          88.0,
          95.0,
          46.0,
          150.0,
          167.0,
          170.0,
          180.0,
          100.0,
          88.0,
          72.0,
          94.0,
          90.0,
          85.0,
          107.0,
          90.0,
          145.0,
          230.0,
          49.0,
          75.0,
          91.0,
          112.0,
          150.0,
          110.0,
          122.0,
          180.0,
          95.0,
          100.0,
          100.0,
          67.0,
          80.0,
          65.0,
          75.0,
          100.0,
          110.0,
          105.0,
          140.0,
          150.0,
          150.0,
          140.0,
          150.0,
          83.0,
          67.0,
          78.0,
          52.0,
          61.0,
          75.0,
          75.0,
          75.0,
          97.0,
          93.0,
          67.0,
          95.0,
          105.0,
          72.0,
          72.0,
          170.0,
          145.0,
          150.0,
          148.0,
          110.0,
          105.0,
          110.0,
          95.0,
          110.0,
          110.0,
          129.0,
          75.0,
          83.0,
          100.0,
          78.0,
          96.0,
          71.0,
          97.0,
          97.0,
          70.0,
          90.0,
          95.0,
          88.0,
          98.0,
          115.0,
          53.0,
          86.0,
          81.0,
          92.0,
          79.0,
          83.0,
          140.0,
          150.0,
          120.0,
          152.0,
          100.0,
          105.0,
          81.0,
          90.0,
          52.0,
          60.0,
          70.0,
          53.0,
          100.0,
          78.0,
          110.0,
          95.0,
          71.0,
          70.0,
          75.0,
          72.0,
          102.0,
          150.0,
          88.0,
          108.0,
          120.0,
          180.0,
          145.0,
          130.0,
          150.0,
          68.0,
          80.0,
          58.0,
          96.0,
          70.0,
          145.0,
          110.0,
          145.0,
          130.0,
          110.0,
          105.0,
          100.0,
          98.0,
          180.0,
          170.0,
          190.0,
          149.0,
          78.0,
          88.0,
          75.0,
          89.0,
          63.0,
          83.0,
          67.0,
          78.0,
          97.0,
          110.0,
          110.0,
          48.0,
          66.0,
          52.0,
          70.0,
          60.0,
          110.0,
          140.0,
          139.0,
          105.0,
          95.0,
          85.0,
          88.0,
          100.0,
          90.0,
          105.0,
          85.0,
          110.0,
          120.0,
          145.0,
          165.0,
          139.0,
          140.0,
          68.0,
          95.0,
          97.0,
          75.0,
          95.0,
          105.0,
          85.0,
          97.0,
          103.0,
          125.0,
          115.0,
          133.0,
          71.0,
          68.0,
          115.0,
          85.0,
          88.0,
          90.0,
          110.0,
          130.0,
          129.0,
          138.0,
          135.0,
          155.0,
          142.0,
          125.0,
          150.0,
          71.0,
          65.0,
          80.0,
          80.0,
          77.0,
          125.0,
          71.0,
          90.0,
          70.0,
          70.0,
          65.0,
          69.0,
          90.0,
          115.0,
          115.0,
          90.0,
          76.0,
          60.0,
          70.0,
          65.0,
          90.0,
          88.0,
          90.0,
          90.0,
          78.0,
          90.0,
          75.0,
          92.0,
          75.0,
          65.0,
          105.0,
          65.0,
          48.0,
          48.0,
          67.0,
          67.0,
          67.0,
          67.0,
          62.0,
          132.0,
          100.0,
          88.0,
          72.0,
          84.0,
          84.0,
          92.0,
          110.0,
          84.0,
          58.0,
          64.0,
          60.0,
          67.0,
          65.0,
          62.0,
          68.0,
          63.0,
          65.0,
          65.0,
          74.0,
          75.0,
          75.0,
          100.0,
          74.0,
          80.0,
          76.0,
          116.0,
          120.0,
          110.0,
          105.0,
          88.0,
          85.0,
          88.0,
          88.0,
          88.0,
          85.0,
          84.0,
          90.0,
          92.0,
          74.0,
          68.0,
          68.0,
          63.0,
          70.0,
          88.0,
          75.0,
          70.0,
          67.0,
          67.0,
          67.0,
          110.0,
          85.0,
          92.0,
          112.0,
          96.0,
          84.0,
          90.0,
          86.0,
          52.0,
          84.0,
          79.0,
          82.0
         ],
         "xaxis": "x",
         "y": [
          18.0,
          15.0,
          18.0,
          16.0,
          17.0,
          15.0,
          14.0,
          14.0,
          14.0,
          15.0,
          15.0,
          14.0,
          15.0,
          14.0,
          24.0,
          22.0,
          18.0,
          21.0,
          27.0,
          26.0,
          25.0,
          24.0,
          25.0,
          26.0,
          21.0,
          10.0,
          10.0,
          11.0,
          9.0,
          27.0,
          28.0,
          25.0,
          19.0,
          16.0,
          17.0,
          19.0,
          18.0,
          14.0,
          14.0,
          14.0,
          14.0,
          12.0,
          13.0,
          13.0,
          18.0,
          22.0,
          19.0,
          18.0,
          23.0,
          28.0,
          30.0,
          30.0,
          31.0,
          35.0,
          27.0,
          26.0,
          24.0,
          25.0,
          23.0,
          20.0,
          21.0,
          13.0,
          14.0,
          15.0,
          14.0,
          17.0,
          11.0,
          13.0,
          12.0,
          13.0,
          19.0,
          15.0,
          13.0,
          13.0,
          14.0,
          18.0,
          22.0,
          21.0,
          26.0,
          22.0,
          28.0,
          23.0,
          28.0,
          27.0,
          13.0,
          14.0,
          13.0,
          14.0,
          15.0,
          12.0,
          13.0,
          13.0,
          14.0,
          13.0,
          12.0,
          13.0,
          18.0,
          16.0,
          18.0,
          18.0,
          23.0,
          26.0,
          11.0,
          12.0,
          13.0,
          12.0,
          18.0,
          20.0,
          21.0,
          22.0,
          18.0,
          19.0,
          21.0,
          26.0,
          15.0,
          16.0,
          29.0,
          24.0,
          20.0,
          19.0,
          15.0,
          24.0,
          20.0,
          11.0,
          20.0,
          19.0,
          15.0,
          31.0,
          26.0,
          32.0,
          25.0,
          16.0,
          16.0,
          18.0,
          16.0,
          13.0,
          14.0,
          14.0,
          14.0,
          29.0,
          26.0,
          26.0,
          31.0,
          32.0,
          28.0,
          24.0,
          26.0,
          24.0,
          26.0,
          31.0,
          19.0,
          18.0,
          15.0,
          15.0,
          16.0,
          15.0,
          16.0,
          14.0,
          17.0,
          16.0,
          15.0,
          18.0,
          21.0,
          20.0,
          13.0,
          29.0,
          23.0,
          20.0,
          23.0,
          24.0,
          25.0,
          24.0,
          18.0,
          29.0,
          19.0,
          23.0,
          23.0,
          22.0,
          25.0,
          33.0,
          28.0,
          25.0,
          25.0,
          26.0,
          27.0,
          17.5,
          16.0,
          15.5,
          14.5,
          22.0,
          22.0,
          24.0,
          22.5,
          29.0,
          24.5,
          29.0,
          33.0,
          20.0,
          18.0,
          18.5,
          17.5,
          29.5,
          32.0,
          28.0,
          26.5,
          20.0,
          13.0,
          19.0,
          19.0,
          16.5,
          16.5,
          13.0,
          13.0,
          13.0,
          31.5,
          30.0,
          36.0,
          25.5,
          33.5,
          17.5,
          17.0,
          15.5,
          15.0,
          17.5,
          20.5,
          19.0,
          18.5,
          16.0,
          15.5,
          15.5,
          16.0,
          29.0,
          24.5,
          26.0,
          25.5,
          30.5,
          33.5,
          30.0,
          30.5,
          22.0,
          21.5,
          21.5,
          43.1,
          36.1,
          32.8,
          39.4,
          36.1,
          19.9,
          19.4,
          20.2,
          19.2,
          20.5,
          20.2,
          25.1,
          20.5,
          19.4,
          20.6,
          20.8,
          18.6,
          18.1,
          19.2,
          17.7,
          18.1,
          17.5,
          30.0,
          27.5,
          27.2,
          30.9,
          21.1,
          23.2,
          23.8,
          23.9,
          20.3,
          17.0,
          21.6,
          16.2,
          31.5,
          29.5,
          21.5,
          19.8,
          22.3,
          20.2,
          20.6,
          17.0,
          17.6,
          16.5,
          18.2,
          16.9,
          15.5,
          19.2,
          18.5,
          31.9,
          34.1,
          35.7,
          27.4,
          25.4,
          23.0,
          27.2,
          23.9,
          34.2,
          34.5,
          31.8,
          37.3,
          28.4,
          28.8,
          26.8,
          33.5,
          41.5,
          38.1,
          32.1,
          37.2,
          28.0,
          26.4,
          24.3,
          19.1,
          34.3,
          29.8,
          31.3,
          37.0,
          32.2,
          46.6,
          27.9,
          40.8,
          44.3,
          43.4,
          36.4,
          30.0,
          44.6,
          33.8,
          29.8,
          32.7,
          23.7,
          35.0,
          32.4,
          27.2,
          26.6,
          25.8,
          23.5,
          30.0,
          39.1,
          39.0,
          35.1,
          32.3,
          37.0,
          37.7,
          34.1,
          34.7,
          34.4,
          29.9,
          33.0,
          33.7,
          32.4,
          32.9,
          31.6,
          28.1,
          30.7,
          25.4,
          24.2,
          22.4,
          26.6,
          20.2,
          17.6,
          28.0,
          27.0,
          34.0,
          31.0,
          29.0,
          27.0,
          24.0,
          36.0,
          37.0,
          31.0,
          38.0,
          36.0,
          36.0,
          36.0,
          34.0,
          38.0,
          32.0,
          38.0,
          25.0,
          38.0,
          26.0,
          22.0,
          32.0,
          36.0,
          27.0,
          27.0,
          44.0,
          32.0,
          28.0,
          31.0
         ],
         "yaxis": "y",
         "type": "scatter"
        }
       ],
       "layout": {
        "template": {
         "data": {
          "histogram2dcontour": [
           {
            "type": "histogram2dcontour",
            "colorbar": {
             "outlinewidth": 0,
             "ticks": ""
            },
            "colorscale": [
             [
              0.0,
              "#0d0887"
             ],
             [
              0.1111111111111111,
              "#46039f"
             ],
             [
              0.2222222222222222,
              "#7201a8"
             ],
             [
              0.3333333333333333,
              "#9c179e"
             ],
             [
              0.4444444444444444,
              "#bd3786"
             ],
             [
              0.5555555555555556,
              "#d8576b"
             ],
             [
              0.6666666666666666,
              "#ed7953"
             ],
             [
              0.7777777777777778,
              "#fb9f3a"
             ],
             [
              0.8888888888888888,
              "#fdca26"
             ],
             [
              1.0,
              "#f0f921"
             ]
            ]
           }
          ],
          "choropleth": [
           {
            "type": "choropleth",
            "colorbar": {
             "outlinewidth": 0,
             "ticks": ""
            }
           }
          ],
          "histogram2d": [
           {
            "type": "histogram2d",
            "colorbar": {
             "outlinewidth": 0,
             "ticks": ""
            },
            "colorscale": [
             [
              0.0,
              "#0d0887"
             ],
             [
              0.1111111111111111,
              "#46039f"
             ],
             [
              0.2222222222222222,
              "#7201a8"
             ],
             [
              0.3333333333333333,
              "#9c179e"
             ],
             [
              0.4444444444444444,
              "#bd3786"
             ],
             [
              0.5555555555555556,
              "#d8576b"
             ],
             [
              0.6666666666666666,
              "#ed7953"
             ],
             [
              0.7777777777777778,
              "#fb9f3a"
             ],
             [
              0.8888888888888888,
              "#fdca26"
             ],
             [
              1.0,
              "#f0f921"
             ]
            ]
           }
          ],
          "heatmap": [
           {
            "type": "heatmap",
            "colorbar": {
             "outlinewidth": 0,
             "ticks": ""
            },
            "colorscale": [
             [
              0.0,
              "#0d0887"
             ],
             [
              0.1111111111111111,
              "#46039f"
             ],
             [
              0.2222222222222222,
              "#7201a8"
             ],
             [
              0.3333333333333333,
              "#9c179e"
             ],
             [
              0.4444444444444444,
              "#bd3786"
             ],
             [
              0.5555555555555556,
              "#d8576b"
             ],
             [
              0.6666666666666666,
              "#ed7953"
             ],
             [
              0.7777777777777778,
              "#fb9f3a"
             ],
             [
              0.8888888888888888,
              "#fdca26"
             ],
             [
              1.0,
              "#f0f921"
             ]
            ]
           }
          ],
          "heatmapgl": [
           {
            "type": "heatmapgl",
            "colorbar": {
             "outlinewidth": 0,
             "ticks": ""
            },
            "colorscale": [
             [
              0.0,
              "#0d0887"
             ],
             [
              0.1111111111111111,
              "#46039f"
             ],
             [
              0.2222222222222222,
              "#7201a8"
             ],
             [
              0.3333333333333333,
              "#9c179e"
             ],
             [
              0.4444444444444444,
              "#bd3786"
             ],
             [
              0.5555555555555556,
              "#d8576b"
             ],
             [
              0.6666666666666666,
              "#ed7953"
             ],
             [
              0.7777777777777778,
              "#fb9f3a"
             ],
             [
              0.8888888888888888,
              "#fdca26"
             ],
             [
              1.0,
              "#f0f921"
             ]
            ]
           }
          ],
          "contourcarpet": [
           {
            "type": "contourcarpet",
            "colorbar": {
             "outlinewidth": 0,
             "ticks": ""
            }
           }
          ],
          "contour": [
           {
            "type": "contour",
            "colorbar": {
             "outlinewidth": 0,
             "ticks": ""
            },
            "colorscale": [
             [
              0.0,
              "#0d0887"
             ],
             [
              0.1111111111111111,
              "#46039f"
             ],
             [
              0.2222222222222222,
              "#7201a8"
             ],
             [
              0.3333333333333333,
              "#9c179e"
             ],
             [
              0.4444444444444444,
              "#bd3786"
             ],
             [
              0.5555555555555556,
              "#d8576b"
             ],
             [
              0.6666666666666666,
              "#ed7953"
             ],
             [
              0.7777777777777778,
              "#fb9f3a"
             ],
             [
              0.8888888888888888,
              "#fdca26"
             ],
             [
              1.0,
              "#f0f921"
             ]
            ]
           }
          ],
          "surface": [
           {
            "type": "surface",
            "colorbar": {
             "outlinewidth": 0,
             "ticks": ""
            },
            "colorscale": [
             [
              0.0,
              "#0d0887"
             ],
             [
              0.1111111111111111,
              "#46039f"
             ],
             [
              0.2222222222222222,
              "#7201a8"
             ],
             [
              0.3333333333333333,
              "#9c179e"
             ],
             [
              0.4444444444444444,
              "#bd3786"
             ],
             [
              0.5555555555555556,
              "#d8576b"
             ],
             [
              0.6666666666666666,
              "#ed7953"
             ],
             [
              0.7777777777777778,
              "#fb9f3a"
             ],
             [
              0.8888888888888888,
              "#fdca26"
             ],
             [
              1.0,
              "#f0f921"
             ]
            ]
           }
          ],
          "mesh3d": [
           {
            "type": "mesh3d",
            "colorbar": {
             "outlinewidth": 0,
             "ticks": ""
            }
           }
          ],
          "scatter": [
           {
            "marker": {
             "line": {
              "color": "#283442"
             }
            },
            "type": "scatter"
           }
          ],
          "parcoords": [
           {
            "type": "parcoords",
            "line": {
             "colorbar": {
              "outlinewidth": 0,
              "ticks": ""
             }
            }
           }
          ],
          "scatterpolargl": [
           {
            "type": "scatterpolargl",
            "marker": {
             "colorbar": {
              "outlinewidth": 0,
              "ticks": ""
             }
            }
           }
          ],
          "bar": [
           {
            "error_x": {
             "color": "#f2f5fa"
            },
            "error_y": {
             "color": "#f2f5fa"
            },
            "marker": {
             "line": {
              "color": "rgb(17,17,17)",
              "width": 0.5
             },
             "pattern": {
              "fillmode": "overlay",
              "size": 10,
              "solidity": 0.2
             }
            },
            "type": "bar"
           }
          ],
          "scattergeo": [
           {
            "type": "scattergeo",
            "marker": {
             "colorbar": {
              "outlinewidth": 0,
              "ticks": ""
             }
            }
           }
          ],
          "scatterpolar": [
           {
            "type": "scatterpolar",
            "marker": {
             "colorbar": {
              "outlinewidth": 0,
              "ticks": ""
             }
            }
           }
          ],
          "histogram": [
           {
            "marker": {
             "pattern": {
              "fillmode": "overlay",
              "size": 10,
              "solidity": 0.2
             }
            },
            "type": "histogram"
           }
          ],
          "scattergl": [
           {
            "marker": {
             "line": {
              "color": "#283442"
             }
            },
            "type": "scattergl"
           }
          ],
          "scatter3d": [
           {
            "type": "scatter3d",
            "line": {
             "colorbar": {
              "outlinewidth": 0,
              "ticks": ""
             }
            },
            "marker": {
             "colorbar": {
              "outlinewidth": 0,
              "ticks": ""
             }
            }
           }
          ],
          "scattermapbox": [
           {
            "type": "scattermapbox",
            "marker": {
             "colorbar": {
              "outlinewidth": 0,
              "ticks": ""
             }
            }
           }
          ],
          "scatterternary": [
           {
            "type": "scatterternary",
            "marker": {
             "colorbar": {
              "outlinewidth": 0,
              "ticks": ""
             }
            }
           }
          ],
          "scattercarpet": [
           {
            "type": "scattercarpet",
            "marker": {
             "colorbar": {
              "outlinewidth": 0,
              "ticks": ""
             }
            }
           }
          ],
          "carpet": [
           {
            "aaxis": {
             "endlinecolor": "#A2B1C6",
             "gridcolor": "#506784",
             "linecolor": "#506784",
             "minorgridcolor": "#506784",
             "startlinecolor": "#A2B1C6"
            },
            "baxis": {
             "endlinecolor": "#A2B1C6",
             "gridcolor": "#506784",
             "linecolor": "#506784",
             "minorgridcolor": "#506784",
             "startlinecolor": "#A2B1C6"
            },
            "type": "carpet"
           }
          ],
          "table": [
           {
            "cells": {
             "fill": {
              "color": "#506784"
             },
             "line": {
              "color": "rgb(17,17,17)"
             }
            },
            "header": {
             "fill": {
              "color": "#2a3f5f"
             },
             "line": {
              "color": "rgb(17,17,17)"
             }
            },
            "type": "table"
           }
          ],
          "barpolar": [
           {
            "marker": {
             "line": {
              "color": "rgb(17,17,17)",
              "width": 0.5
             },
             "pattern": {
              "fillmode": "overlay",
              "size": 10,
              "solidity": 0.2
             }
            },
            "type": "barpolar"
           }
          ],
          "pie": [
           {
            "automargin": true,
            "type": "pie"
           }
          ]
         },
         "layout": {
          "autotypenumbers": "strict",
          "colorway": [
           "#636efa",
           "#EF553B",
           "#00cc96",
           "#ab63fa",
           "#FFA15A",
           "#19d3f3",
           "#FF6692",
           "#B6E880",
           "#FF97FF",
           "#FECB52"
          ],
          "font": {
           "color": "#f2f5fa"
          },
          "hovermode": "closest",
          "hoverlabel": {
           "align": "left"
          },
          "paper_bgcolor": "rgb(17,17,17)",
          "plot_bgcolor": "rgb(17,17,17)",
          "polar": {
           "bgcolor": "rgb(17,17,17)",
           "angularaxis": {
            "gridcolor": "#506784",
            "linecolor": "#506784",
            "ticks": ""
           },
           "radialaxis": {
            "gridcolor": "#506784",
            "linecolor": "#506784",
            "ticks": ""
           }
          },
          "ternary": {
           "bgcolor": "rgb(17,17,17)",
           "aaxis": {
            "gridcolor": "#506784",
            "linecolor": "#506784",
            "ticks": ""
           },
           "baxis": {
            "gridcolor": "#506784",
            "linecolor": "#506784",
            "ticks": ""
           },
           "caxis": {
            "gridcolor": "#506784",
            "linecolor": "#506784",
            "ticks": ""
           }
          },
          "coloraxis": {
           "colorbar": {
            "outlinewidth": 0,
            "ticks": ""
           }
          },
          "colorscale": {
           "sequential": [
            [
             0.0,
             "#0d0887"
            ],
            [
             0.1111111111111111,
             "#46039f"
            ],
            [
             0.2222222222222222,
             "#7201a8"
            ],
            [
             0.3333333333333333,
             "#9c179e"
            ],
            [
             0.4444444444444444,
             "#bd3786"
            ],
            [
             0.5555555555555556,
             "#d8576b"
            ],
            [
             0.6666666666666666,
             "#ed7953"
            ],
            [
             0.7777777777777778,
             "#fb9f3a"
            ],
            [
             0.8888888888888888,
             "#fdca26"
            ],
            [
             1.0,
             "#f0f921"
            ]
           ],
           "sequentialminus": [
            [
             0.0,
             "#0d0887"
            ],
            [
             0.1111111111111111,
             "#46039f"
            ],
            [
             0.2222222222222222,
             "#7201a8"
            ],
            [
             0.3333333333333333,
             "#9c179e"
            ],
            [
             0.4444444444444444,
             "#bd3786"
            ],
            [
             0.5555555555555556,
             "#d8576b"
            ],
            [
             0.6666666666666666,
             "#ed7953"
            ],
            [
             0.7777777777777778,
             "#fb9f3a"
            ],
            [
             0.8888888888888888,
             "#fdca26"
            ],
            [
             1.0,
             "#f0f921"
            ]
           ],
           "diverging": [
            [
             0,
             "#8e0152"
            ],
            [
             0.1,
             "#c51b7d"
            ],
            [
             0.2,
             "#de77ae"
            ],
            [
             0.3,
             "#f1b6da"
            ],
            [
             0.4,
             "#fde0ef"
            ],
            [
             0.5,
             "#f7f7f7"
            ],
            [
             0.6,
             "#e6f5d0"
            ],
            [
             0.7,
             "#b8e186"
            ],
            [
             0.8,
             "#7fbc41"
            ],
            [
             0.9,
             "#4d9221"
            ],
            [
             1,
             "#276419"
            ]
           ]
          },
          "xaxis": {
           "gridcolor": "#283442",
           "linecolor": "#506784",
           "ticks": "",
           "title": {
            "standoff": 15
           },
           "zerolinecolor": "#283442",
           "automargin": true,
           "zerolinewidth": 2
          },
          "yaxis": {
           "gridcolor": "#283442",
           "linecolor": "#506784",
           "ticks": "",
           "title": {
            "standoff": 15
           },
           "zerolinecolor": "#283442",
           "automargin": true,
           "zerolinewidth": 2
          },
          "scene": {
           "xaxis": {
            "backgroundcolor": "rgb(17,17,17)",
            "gridcolor": "#506784",
            "linecolor": "#506784",
            "showbackground": true,
            "ticks": "",
            "zerolinecolor": "#C8D4E3",
            "gridwidth": 2
           },
           "yaxis": {
            "backgroundcolor": "rgb(17,17,17)",
            "gridcolor": "#506784",
            "linecolor": "#506784",
            "showbackground": true,
            "ticks": "",
            "zerolinecolor": "#C8D4E3",
            "gridwidth": 2
           },
           "zaxis": {
            "backgroundcolor": "rgb(17,17,17)",
            "gridcolor": "#506784",
            "linecolor": "#506784",
            "showbackground": true,
            "ticks": "",
            "zerolinecolor": "#C8D4E3",
            "gridwidth": 2
           }
          },
          "shapedefaults": {
           "line": {
            "color": "#f2f5fa"
           }
          },
          "annotationdefaults": {
           "arrowcolor": "#f2f5fa",
           "arrowhead": 0,
           "arrowwidth": 1
          },
          "geo": {
           "bgcolor": "rgb(17,17,17)",
           "landcolor": "rgb(17,17,17)",
           "subunitcolor": "#506784",
           "showland": true,
           "showlakes": true,
           "lakecolor": "rgb(17,17,17)"
          },
          "title": {
           "x": 0.05
          },
          "updatemenudefaults": {
           "bgcolor": "#506784",
           "borderwidth": 0
          },
          "sliderdefaults": {
           "bgcolor": "#C8D4E3",
           "borderwidth": 1,
           "bordercolor": "rgb(17,17,17)",
           "tickwidth": 0
          },
          "mapbox": {
           "style": "dark"
          }
         }
        },
        "xaxis": {
         "anchor": "y",
         "domain": [
          0.0,
          1.0
         ],
         "title": {
          "text": "horsepower"
         }
        },
        "yaxis": {
         "anchor": "x",
         "domain": [
          0.0,
          1.0
         ],
         "title": {
          "text": "mpg"
         }
        },
        "legend": {
         "tracegroupgap": 0
        },
        "margin": {
         "t": 60
        }
       },
       "config": {
        "plotlyServerURL": "https://plot.ly"
       }
      },
      "text/html": "<div>                            <div id=\"0110c8bc-ee95-4234-a576-14f95b2cd247\" class=\"plotly-graph-div\" style=\"height:525px; width:100%;\"></div>            <script type=\"text/javascript\">                require([\"plotly\"], function(Plotly) {                    window.PLOTLYENV=window.PLOTLYENV || {};                                    if (document.getElementById(\"0110c8bc-ee95-4234-a576-14f95b2cd247\")) {                    Plotly.newPlot(                        \"0110c8bc-ee95-4234-a576-14f95b2cd247\",                        [{\"hovertemplate\":\"horsepower=%{x}<br>mpg=%{y}<extra></extra>\",\"legendgroup\":\"\",\"marker\":{\"color\":\"#636efa\",\"symbol\":\"circle\"},\"mode\":\"markers\",\"name\":\"\",\"orientation\":\"v\",\"showlegend\":false,\"x\":[130.0,165.0,150.0,150.0,140.0,198.0,220.0,215.0,225.0,190.0,170.0,160.0,150.0,225.0,95.0,95.0,97.0,85.0,88.0,46.0,87.0,90.0,95.0,113.0,90.0,215.0,200.0,210.0,193.0,88.0,90.0,95.0,100.0,105.0,100.0,88.0,100.0,165.0,175.0,153.0,150.0,180.0,170.0,175.0,110.0,72.0,100.0,88.0,86.0,90.0,70.0,76.0,65.0,69.0,60.0,70.0,95.0,80.0,54.0,90.0,86.0,165.0,175.0,150.0,153.0,150.0,208.0,155.0,160.0,190.0,97.0,150.0,130.0,140.0,150.0,112.0,76.0,87.0,69.0,86.0,92.0,97.0,80.0,88.0,175.0,150.0,145.0,137.0,150.0,198.0,150.0,158.0,150.0,215.0,225.0,175.0,105.0,100.0,100.0,88.0,95.0,46.0,150.0,167.0,170.0,180.0,100.0,88.0,72.0,94.0,90.0,85.0,107.0,90.0,145.0,230.0,49.0,75.0,91.0,112.0,150.0,110.0,122.0,180.0,95.0,100.0,100.0,67.0,80.0,65.0,75.0,100.0,110.0,105.0,140.0,150.0,150.0,140.0,150.0,83.0,67.0,78.0,52.0,61.0,75.0,75.0,75.0,97.0,93.0,67.0,95.0,105.0,72.0,72.0,170.0,145.0,150.0,148.0,110.0,105.0,110.0,95.0,110.0,110.0,129.0,75.0,83.0,100.0,78.0,96.0,71.0,97.0,97.0,70.0,90.0,95.0,88.0,98.0,115.0,53.0,86.0,81.0,92.0,79.0,83.0,140.0,150.0,120.0,152.0,100.0,105.0,81.0,90.0,52.0,60.0,70.0,53.0,100.0,78.0,110.0,95.0,71.0,70.0,75.0,72.0,102.0,150.0,88.0,108.0,120.0,180.0,145.0,130.0,150.0,68.0,80.0,58.0,96.0,70.0,145.0,110.0,145.0,130.0,110.0,105.0,100.0,98.0,180.0,170.0,190.0,149.0,78.0,88.0,75.0,89.0,63.0,83.0,67.0,78.0,97.0,110.0,110.0,48.0,66.0,52.0,70.0,60.0,110.0,140.0,139.0,105.0,95.0,85.0,88.0,100.0,90.0,105.0,85.0,110.0,120.0,145.0,165.0,139.0,140.0,68.0,95.0,97.0,75.0,95.0,105.0,85.0,97.0,103.0,125.0,115.0,133.0,71.0,68.0,115.0,85.0,88.0,90.0,110.0,130.0,129.0,138.0,135.0,155.0,142.0,125.0,150.0,71.0,65.0,80.0,80.0,77.0,125.0,71.0,90.0,70.0,70.0,65.0,69.0,90.0,115.0,115.0,90.0,76.0,60.0,70.0,65.0,90.0,88.0,90.0,90.0,78.0,90.0,75.0,92.0,75.0,65.0,105.0,65.0,48.0,48.0,67.0,67.0,67.0,67.0,62.0,132.0,100.0,88.0,72.0,84.0,84.0,92.0,110.0,84.0,58.0,64.0,60.0,67.0,65.0,62.0,68.0,63.0,65.0,65.0,74.0,75.0,75.0,100.0,74.0,80.0,76.0,116.0,120.0,110.0,105.0,88.0,85.0,88.0,88.0,88.0,85.0,84.0,90.0,92.0,74.0,68.0,68.0,63.0,70.0,88.0,75.0,70.0,67.0,67.0,67.0,110.0,85.0,92.0,112.0,96.0,84.0,90.0,86.0,52.0,84.0,79.0,82.0],\"xaxis\":\"x\",\"y\":[18.0,15.0,18.0,16.0,17.0,15.0,14.0,14.0,14.0,15.0,15.0,14.0,15.0,14.0,24.0,22.0,18.0,21.0,27.0,26.0,25.0,24.0,25.0,26.0,21.0,10.0,10.0,11.0,9.0,27.0,28.0,25.0,19.0,16.0,17.0,19.0,18.0,14.0,14.0,14.0,14.0,12.0,13.0,13.0,18.0,22.0,19.0,18.0,23.0,28.0,30.0,30.0,31.0,35.0,27.0,26.0,24.0,25.0,23.0,20.0,21.0,13.0,14.0,15.0,14.0,17.0,11.0,13.0,12.0,13.0,19.0,15.0,13.0,13.0,14.0,18.0,22.0,21.0,26.0,22.0,28.0,23.0,28.0,27.0,13.0,14.0,13.0,14.0,15.0,12.0,13.0,13.0,14.0,13.0,12.0,13.0,18.0,16.0,18.0,18.0,23.0,26.0,11.0,12.0,13.0,12.0,18.0,20.0,21.0,22.0,18.0,19.0,21.0,26.0,15.0,16.0,29.0,24.0,20.0,19.0,15.0,24.0,20.0,11.0,20.0,19.0,15.0,31.0,26.0,32.0,25.0,16.0,16.0,18.0,16.0,13.0,14.0,14.0,14.0,29.0,26.0,26.0,31.0,32.0,28.0,24.0,26.0,24.0,26.0,31.0,19.0,18.0,15.0,15.0,16.0,15.0,16.0,14.0,17.0,16.0,15.0,18.0,21.0,20.0,13.0,29.0,23.0,20.0,23.0,24.0,25.0,24.0,18.0,29.0,19.0,23.0,23.0,22.0,25.0,33.0,28.0,25.0,25.0,26.0,27.0,17.5,16.0,15.5,14.5,22.0,22.0,24.0,22.5,29.0,24.5,29.0,33.0,20.0,18.0,18.5,17.5,29.5,32.0,28.0,26.5,20.0,13.0,19.0,19.0,16.5,16.5,13.0,13.0,13.0,31.5,30.0,36.0,25.5,33.5,17.5,17.0,15.5,15.0,17.5,20.5,19.0,18.5,16.0,15.5,15.5,16.0,29.0,24.5,26.0,25.5,30.5,33.5,30.0,30.5,22.0,21.5,21.5,43.1,36.1,32.8,39.4,36.1,19.9,19.4,20.2,19.2,20.5,20.2,25.1,20.5,19.4,20.6,20.8,18.6,18.1,19.2,17.7,18.1,17.5,30.0,27.5,27.2,30.9,21.1,23.2,23.8,23.9,20.3,17.0,21.6,16.2,31.5,29.5,21.5,19.8,22.3,20.2,20.6,17.0,17.6,16.5,18.2,16.9,15.5,19.2,18.5,31.9,34.1,35.7,27.4,25.4,23.0,27.2,23.9,34.2,34.5,31.8,37.3,28.4,28.8,26.8,33.5,41.5,38.1,32.1,37.2,28.0,26.4,24.3,19.1,34.3,29.8,31.3,37.0,32.2,46.6,27.9,40.8,44.3,43.4,36.4,30.0,44.6,33.8,29.8,32.7,23.7,35.0,32.4,27.2,26.6,25.8,23.5,30.0,39.1,39.0,35.1,32.3,37.0,37.7,34.1,34.7,34.4,29.9,33.0,33.7,32.4,32.9,31.6,28.1,30.7,25.4,24.2,22.4,26.6,20.2,17.6,28.0,27.0,34.0,31.0,29.0,27.0,24.0,36.0,37.0,31.0,38.0,36.0,36.0,36.0,34.0,38.0,32.0,38.0,25.0,38.0,26.0,22.0,32.0,36.0,27.0,27.0,44.0,32.0,28.0,31.0],\"yaxis\":\"y\",\"type\":\"scatter\"}],                        {\"template\":{\"data\":{\"histogram2dcontour\":[{\"type\":\"histogram2dcontour\",\"colorbar\":{\"outlinewidth\":0,\"ticks\":\"\"},\"colorscale\":[[0.0,\"#0d0887\"],[0.1111111111111111,\"#46039f\"],[0.2222222222222222,\"#7201a8\"],[0.3333333333333333,\"#9c179e\"],[0.4444444444444444,\"#bd3786\"],[0.5555555555555556,\"#d8576b\"],[0.6666666666666666,\"#ed7953\"],[0.7777777777777778,\"#fb9f3a\"],[0.8888888888888888,\"#fdca26\"],[1.0,\"#f0f921\"]]}],\"choropleth\":[{\"type\":\"choropleth\",\"colorbar\":{\"outlinewidth\":0,\"ticks\":\"\"}}],\"histogram2d\":[{\"type\":\"histogram2d\",\"colorbar\":{\"outlinewidth\":0,\"ticks\":\"\"},\"colorscale\":[[0.0,\"#0d0887\"],[0.1111111111111111,\"#46039f\"],[0.2222222222222222,\"#7201a8\"],[0.3333333333333333,\"#9c179e\"],[0.4444444444444444,\"#bd3786\"],[0.5555555555555556,\"#d8576b\"],[0.6666666666666666,\"#ed7953\"],[0.7777777777777778,\"#fb9f3a\"],[0.8888888888888888,\"#fdca26\"],[1.0,\"#f0f921\"]]}],\"heatmap\":[{\"type\":\"heatmap\",\"colorbar\":{\"outlinewidth\":0,\"ticks\":\"\"},\"colorscale\":[[0.0,\"#0d0887\"],[0.1111111111111111,\"#46039f\"],[0.2222222222222222,\"#7201a8\"],[0.3333333333333333,\"#9c179e\"],[0.4444444444444444,\"#bd3786\"],[0.5555555555555556,\"#d8576b\"],[0.6666666666666666,\"#ed7953\"],[0.7777777777777778,\"#fb9f3a\"],[0.8888888888888888,\"#fdca26\"],[1.0,\"#f0f921\"]]}],\"heatmapgl\":[{\"type\":\"heatmapgl\",\"colorbar\":{\"outlinewidth\":0,\"ticks\":\"\"},\"colorscale\":[[0.0,\"#0d0887\"],[0.1111111111111111,\"#46039f\"],[0.2222222222222222,\"#7201a8\"],[0.3333333333333333,\"#9c179e\"],[0.4444444444444444,\"#bd3786\"],[0.5555555555555556,\"#d8576b\"],[0.6666666666666666,\"#ed7953\"],[0.7777777777777778,\"#fb9f3a\"],[0.8888888888888888,\"#fdca26\"],[1.0,\"#f0f921\"]]}],\"contourcarpet\":[{\"type\":\"contourcarpet\",\"colorbar\":{\"outlinewidth\":0,\"ticks\":\"\"}}],\"contour\":[{\"type\":\"contour\",\"colorbar\":{\"outlinewidth\":0,\"ticks\":\"\"},\"colorscale\":[[0.0,\"#0d0887\"],[0.1111111111111111,\"#46039f\"],[0.2222222222222222,\"#7201a8\"],[0.3333333333333333,\"#9c179e\"],[0.4444444444444444,\"#bd3786\"],[0.5555555555555556,\"#d8576b\"],[0.6666666666666666,\"#ed7953\"],[0.7777777777777778,\"#fb9f3a\"],[0.8888888888888888,\"#fdca26\"],[1.0,\"#f0f921\"]]}],\"surface\":[{\"type\":\"surface\",\"colorbar\":{\"outlinewidth\":0,\"ticks\":\"\"},\"colorscale\":[[0.0,\"#0d0887\"],[0.1111111111111111,\"#46039f\"],[0.2222222222222222,\"#7201a8\"],[0.3333333333333333,\"#9c179e\"],[0.4444444444444444,\"#bd3786\"],[0.5555555555555556,\"#d8576b\"],[0.6666666666666666,\"#ed7953\"],[0.7777777777777778,\"#fb9f3a\"],[0.8888888888888888,\"#fdca26\"],[1.0,\"#f0f921\"]]}],\"mesh3d\":[{\"type\":\"mesh3d\",\"colorbar\":{\"outlinewidth\":0,\"ticks\":\"\"}}],\"scatter\":[{\"marker\":{\"line\":{\"color\":\"#283442\"}},\"type\":\"scatter\"}],\"parcoords\":[{\"type\":\"parcoords\",\"line\":{\"colorbar\":{\"outlinewidth\":0,\"ticks\":\"\"}}}],\"scatterpolargl\":[{\"type\":\"scatterpolargl\",\"marker\":{\"colorbar\":{\"outlinewidth\":0,\"ticks\":\"\"}}}],\"bar\":[{\"error_x\":{\"color\":\"#f2f5fa\"},\"error_y\":{\"color\":\"#f2f5fa\"},\"marker\":{\"line\":{\"color\":\"rgb(17,17,17)\",\"width\":0.5},\"pattern\":{\"fillmode\":\"overlay\",\"size\":10,\"solidity\":0.2}},\"type\":\"bar\"}],\"scattergeo\":[{\"type\":\"scattergeo\",\"marker\":{\"colorbar\":{\"outlinewidth\":0,\"ticks\":\"\"}}}],\"scatterpolar\":[{\"type\":\"scatterpolar\",\"marker\":{\"colorbar\":{\"outlinewidth\":0,\"ticks\":\"\"}}}],\"histogram\":[{\"marker\":{\"pattern\":{\"fillmode\":\"overlay\",\"size\":10,\"solidity\":0.2}},\"type\":\"histogram\"}],\"scattergl\":[{\"marker\":{\"line\":{\"color\":\"#283442\"}},\"type\":\"scattergl\"}],\"scatter3d\":[{\"type\":\"scatter3d\",\"line\":{\"colorbar\":{\"outlinewidth\":0,\"ticks\":\"\"}},\"marker\":{\"colorbar\":{\"outlinewidth\":0,\"ticks\":\"\"}}}],\"scattermapbox\":[{\"type\":\"scattermapbox\",\"marker\":{\"colorbar\":{\"outlinewidth\":0,\"ticks\":\"\"}}}],\"scatterternary\":[{\"type\":\"scatterternary\",\"marker\":{\"colorbar\":{\"outlinewidth\":0,\"ticks\":\"\"}}}],\"scattercarpet\":[{\"type\":\"scattercarpet\",\"marker\":{\"colorbar\":{\"outlinewidth\":0,\"ticks\":\"\"}}}],\"carpet\":[{\"aaxis\":{\"endlinecolor\":\"#A2B1C6\",\"gridcolor\":\"#506784\",\"linecolor\":\"#506784\",\"minorgridcolor\":\"#506784\",\"startlinecolor\":\"#A2B1C6\"},\"baxis\":{\"endlinecolor\":\"#A2B1C6\",\"gridcolor\":\"#506784\",\"linecolor\":\"#506784\",\"minorgridcolor\":\"#506784\",\"startlinecolor\":\"#A2B1C6\"},\"type\":\"carpet\"}],\"table\":[{\"cells\":{\"fill\":{\"color\":\"#506784\"},\"line\":{\"color\":\"rgb(17,17,17)\"}},\"header\":{\"fill\":{\"color\":\"#2a3f5f\"},\"line\":{\"color\":\"rgb(17,17,17)\"}},\"type\":\"table\"}],\"barpolar\":[{\"marker\":{\"line\":{\"color\":\"rgb(17,17,17)\",\"width\":0.5},\"pattern\":{\"fillmode\":\"overlay\",\"size\":10,\"solidity\":0.2}},\"type\":\"barpolar\"}],\"pie\":[{\"automargin\":true,\"type\":\"pie\"}]},\"layout\":{\"autotypenumbers\":\"strict\",\"colorway\":[\"#636efa\",\"#EF553B\",\"#00cc96\",\"#ab63fa\",\"#FFA15A\",\"#19d3f3\",\"#FF6692\",\"#B6E880\",\"#FF97FF\",\"#FECB52\"],\"font\":{\"color\":\"#f2f5fa\"},\"hovermode\":\"closest\",\"hoverlabel\":{\"align\":\"left\"},\"paper_bgcolor\":\"rgb(17,17,17)\",\"plot_bgcolor\":\"rgb(17,17,17)\",\"polar\":{\"bgcolor\":\"rgb(17,17,17)\",\"angularaxis\":{\"gridcolor\":\"#506784\",\"linecolor\":\"#506784\",\"ticks\":\"\"},\"radialaxis\":{\"gridcolor\":\"#506784\",\"linecolor\":\"#506784\",\"ticks\":\"\"}},\"ternary\":{\"bgcolor\":\"rgb(17,17,17)\",\"aaxis\":{\"gridcolor\":\"#506784\",\"linecolor\":\"#506784\",\"ticks\":\"\"},\"baxis\":{\"gridcolor\":\"#506784\",\"linecolor\":\"#506784\",\"ticks\":\"\"},\"caxis\":{\"gridcolor\":\"#506784\",\"linecolor\":\"#506784\",\"ticks\":\"\"}},\"coloraxis\":{\"colorbar\":{\"outlinewidth\":0,\"ticks\":\"\"}},\"colorscale\":{\"sequential\":[[0.0,\"#0d0887\"],[0.1111111111111111,\"#46039f\"],[0.2222222222222222,\"#7201a8\"],[0.3333333333333333,\"#9c179e\"],[0.4444444444444444,\"#bd3786\"],[0.5555555555555556,\"#d8576b\"],[0.6666666666666666,\"#ed7953\"],[0.7777777777777778,\"#fb9f3a\"],[0.8888888888888888,\"#fdca26\"],[1.0,\"#f0f921\"]],\"sequentialminus\":[[0.0,\"#0d0887\"],[0.1111111111111111,\"#46039f\"],[0.2222222222222222,\"#7201a8\"],[0.3333333333333333,\"#9c179e\"],[0.4444444444444444,\"#bd3786\"],[0.5555555555555556,\"#d8576b\"],[0.6666666666666666,\"#ed7953\"],[0.7777777777777778,\"#fb9f3a\"],[0.8888888888888888,\"#fdca26\"],[1.0,\"#f0f921\"]],\"diverging\":[[0,\"#8e0152\"],[0.1,\"#c51b7d\"],[0.2,\"#de77ae\"],[0.3,\"#f1b6da\"],[0.4,\"#fde0ef\"],[0.5,\"#f7f7f7\"],[0.6,\"#e6f5d0\"],[0.7,\"#b8e186\"],[0.8,\"#7fbc41\"],[0.9,\"#4d9221\"],[1,\"#276419\"]]},\"xaxis\":{\"gridcolor\":\"#283442\",\"linecolor\":\"#506784\",\"ticks\":\"\",\"title\":{\"standoff\":15},\"zerolinecolor\":\"#283442\",\"automargin\":true,\"zerolinewidth\":2},\"yaxis\":{\"gridcolor\":\"#283442\",\"linecolor\":\"#506784\",\"ticks\":\"\",\"title\":{\"standoff\":15},\"zerolinecolor\":\"#283442\",\"automargin\":true,\"zerolinewidth\":2},\"scene\":{\"xaxis\":{\"backgroundcolor\":\"rgb(17,17,17)\",\"gridcolor\":\"#506784\",\"linecolor\":\"#506784\",\"showbackground\":true,\"ticks\":\"\",\"zerolinecolor\":\"#C8D4E3\",\"gridwidth\":2},\"yaxis\":{\"backgroundcolor\":\"rgb(17,17,17)\",\"gridcolor\":\"#506784\",\"linecolor\":\"#506784\",\"showbackground\":true,\"ticks\":\"\",\"zerolinecolor\":\"#C8D4E3\",\"gridwidth\":2},\"zaxis\":{\"backgroundcolor\":\"rgb(17,17,17)\",\"gridcolor\":\"#506784\",\"linecolor\":\"#506784\",\"showbackground\":true,\"ticks\":\"\",\"zerolinecolor\":\"#C8D4E3\",\"gridwidth\":2}},\"shapedefaults\":{\"line\":{\"color\":\"#f2f5fa\"}},\"annotationdefaults\":{\"arrowcolor\":\"#f2f5fa\",\"arrowhead\":0,\"arrowwidth\":1},\"geo\":{\"bgcolor\":\"rgb(17,17,17)\",\"landcolor\":\"rgb(17,17,17)\",\"subunitcolor\":\"#506784\",\"showland\":true,\"showlakes\":true,\"lakecolor\":\"rgb(17,17,17)\"},\"title\":{\"x\":0.05},\"updatemenudefaults\":{\"bgcolor\":\"#506784\",\"borderwidth\":0},\"sliderdefaults\":{\"bgcolor\":\"#C8D4E3\",\"borderwidth\":1,\"bordercolor\":\"rgb(17,17,17)\",\"tickwidth\":0},\"mapbox\":{\"style\":\"dark\"}}},\"xaxis\":{\"anchor\":\"y\",\"domain\":[0.0,1.0],\"title\":{\"text\":\"horsepower\"}},\"yaxis\":{\"anchor\":\"x\",\"domain\":[0.0,1.0],\"title\":{\"text\":\"mpg\"}},\"legend\":{\"tracegroupgap\":0},\"margin\":{\"t\":60}},                        {\"responsive\": true}                    ).then(function(){\n                            \nvar gd = document.getElementById('0110c8bc-ee95-4234-a576-14f95b2cd247');\nvar x = new MutationObserver(function (mutations, observer) {{\n        var display = window.getComputedStyle(gd).display;\n        if (!display || display === 'none') {{\n            console.log([gd, 'removed!']);\n            Plotly.purge(gd);\n            observer.disconnect();\n        }}\n}});\n\n// Listen for the removal of the full notebook cells\nvar notebookContainer = gd.closest('#notebook-container');\nif (notebookContainer) {{\n    x.observe(notebookContainer, {childList: true});\n}}\n\n// Listen for the clearing of the current output cell\nvar outputEl = gd.closest('.output');\nif (outputEl) {{\n    x.observe(outputEl, {childList: true});\n}}\n\n                        })                };                });            </script>        </div>"
     },
     "metadata": {},
     "output_type": "display_data"
    }
   ],
   "source": [
    "px.scatter(data_frame=auto, x='horsepower', y='mpg')"
   ]
  },
  {
   "cell_type": "code",
   "execution_count": 28,
   "metadata": {
    "ExecuteTime": {
     "end_time": "2023-10-27T12:15:52.804191900Z",
     "start_time": "2023-10-27T12:15:52.281013900Z"
    }
   },
   "outputs": [
    {
     "name": "stdout",
     "output_type": "stream",
     "text": [
      "<class 'pandas.core.frame.DataFrame'>\n",
      "RangeIndex: 392 entries, 0 to 391\n",
      "Data columns (total 9 columns):\n",
      " #   Column        Non-Null Count  Dtype  \n",
      "---  ------        --------------  -----  \n",
      " 0   mpg           392 non-null    float64\n",
      " 1   cylinders     392 non-null    int64  \n",
      " 2   displacement  392 non-null    float64\n",
      " 3   horsepower    392 non-null    float64\n",
      " 4   weight        392 non-null    int64  \n",
      " 5   acceleration  392 non-null    float64\n",
      " 6   year          392 non-null    int64  \n",
      " 7   origin        392 non-null    int64  \n",
      " 8   name          392 non-null    object \n",
      "dtypes: float64(4), int64(4), object(1)\n",
      "memory usage: 27.7+ KB\n"
     ]
    }
   ],
   "source": [
    "auto.info()"
   ]
  },
  {
   "cell_type": "code",
   "execution_count": 29,
   "metadata": {
    "ExecuteTime": {
     "end_time": "2023-10-27T12:15:52.805188200Z",
     "start_time": "2023-10-27T12:15:52.287204900Z"
    }
   },
   "outputs": [
    {
     "data": {
      "text/plain": "    mpg  cylinders  displacement  horsepower  weight  acceleration  year  \\\n0  18.0          8         307.0       130.0    3504          12.0    70   \n1  15.0          8         350.0       165.0    3693          11.5    70   \n2  18.0          8         318.0       150.0    3436          11.0    70   \n3  16.0          8         304.0       150.0    3433          12.0    70   \n4  17.0          8         302.0       140.0    3449          10.5    70   \n\n   origin                       name  \n0       1  chevrolet chevelle malibu  \n1       1          buick skylark 320  \n2       1         plymouth satellite  \n3       1              amc rebel sst  \n4       1                ford torino  ",
      "text/html": "<div>\n<style scoped>\n    .dataframe tbody tr th:only-of-type {\n        vertical-align: middle;\n    }\n\n    .dataframe tbody tr th {\n        vertical-align: top;\n    }\n\n    .dataframe thead th {\n        text-align: right;\n    }\n</style>\n<table border=\"1\" class=\"dataframe\">\n  <thead>\n    <tr style=\"text-align: right;\">\n      <th></th>\n      <th>mpg</th>\n      <th>cylinders</th>\n      <th>displacement</th>\n      <th>horsepower</th>\n      <th>weight</th>\n      <th>acceleration</th>\n      <th>year</th>\n      <th>origin</th>\n      <th>name</th>\n    </tr>\n  </thead>\n  <tbody>\n    <tr>\n      <th>0</th>\n      <td>18.0</td>\n      <td>8</td>\n      <td>307.0</td>\n      <td>130.0</td>\n      <td>3504</td>\n      <td>12.0</td>\n      <td>70</td>\n      <td>1</td>\n      <td>chevrolet chevelle malibu</td>\n    </tr>\n    <tr>\n      <th>1</th>\n      <td>15.0</td>\n      <td>8</td>\n      <td>350.0</td>\n      <td>165.0</td>\n      <td>3693</td>\n      <td>11.5</td>\n      <td>70</td>\n      <td>1</td>\n      <td>buick skylark 320</td>\n    </tr>\n    <tr>\n      <th>2</th>\n      <td>18.0</td>\n      <td>8</td>\n      <td>318.0</td>\n      <td>150.0</td>\n      <td>3436</td>\n      <td>11.0</td>\n      <td>70</td>\n      <td>1</td>\n      <td>plymouth satellite</td>\n    </tr>\n    <tr>\n      <th>3</th>\n      <td>16.0</td>\n      <td>8</td>\n      <td>304.0</td>\n      <td>150.0</td>\n      <td>3433</td>\n      <td>12.0</td>\n      <td>70</td>\n      <td>1</td>\n      <td>amc rebel sst</td>\n    </tr>\n    <tr>\n      <th>4</th>\n      <td>17.0</td>\n      <td>8</td>\n      <td>302.0</td>\n      <td>140.0</td>\n      <td>3449</td>\n      <td>10.5</td>\n      <td>70</td>\n      <td>1</td>\n      <td>ford torino</td>\n    </tr>\n  </tbody>\n</table>\n</div>"
     },
     "execution_count": 29,
     "metadata": {},
     "output_type": "execute_result"
    }
   ],
   "source": [
    "auto.head()"
   ]
  },
  {
   "cell_type": "markdown",
   "metadata": {
    "nbgrader": {
     "grade": false,
     "grade_id": "cell-d4c203dea01b8f96",
     "locked": true,
     "schema_version": 1,
     "solution": false
    }
   },
   "source": [
    "[Back to top](#Index:) \n",
    "\n",
    "## Problem 1\n",
    "\n",
    "### Regression with `horsepower`\n",
    "\n",
    "**4 Points**\n",
    "\n",
    "Below, instantiate and fit an sklearn `LinearRegression` model to predict `mpg` using the `horsepower` column.  Your model will be of the form:\n",
    "\n",
    "$$\\text{mpg} = \\beta_0 + \\beta_1*\\text{horsepower}$$\n",
    "\n",
    "Your model should be instantiated as `first_degree_model` below.  Assign the models mean squared error as a float to the variable `first_degree_mse` below.  "
   ]
  },
  {
   "cell_type": "code",
   "execution_count": 30,
   "metadata": {
    "nbgrader": {
     "grade": false,
     "grade_id": "cell-6ecaefdeb1c53572",
     "locked": false,
     "schema_version": 1,
     "solution": true
    },
    "ExecuteTime": {
     "end_time": "2023-10-27T12:15:52.841925400Z",
     "start_time": "2023-10-27T12:15:52.298801700Z"
    }
   },
   "outputs": [
    {
     "name": "stdout",
     "output_type": "stream",
     "text": [
      "<class 'sklearn.linear_model._base.LinearRegression'>\n",
      "[-0.15784473]\n",
      "23.943662938603108\n"
     ]
    }
   ],
   "source": [
    "### GRADED\n",
    "\n",
    "X = ''\n",
    "y = ''\n",
    "first_degree_model = ''\n",
    "first_degree_mse = ''\n",
    "\n",
    "### BEGIN SOLUTION\n",
    "X = auto[['horsepower']]\n",
    "y = auto['mpg']\n",
    "first_degree_model = LinearRegression().fit(X, y)\n",
    "first_degree_mse = mean_squared_error(first_degree_model.predict(X), y)\n",
    "### END SOLUTION\n",
    "\n",
    "# Answer check\n",
    "print(type(first_degree_model))\n",
    "print(first_degree_model.coef_)\n",
    "print(first_degree_mse)"
   ]
  },
  {
   "cell_type": "code",
   "execution_count": 31,
   "metadata": {
    "nbgrader": {
     "grade": true,
     "grade_id": "cell-00a93f6adede854b",
     "locked": true,
     "points": 4,
     "schema_version": 1,
     "solution": false
    },
    "ExecuteTime": {
     "end_time": "2023-10-27T12:15:52.842922500Z",
     "start_time": "2023-10-27T12:15:52.306338400Z"
    }
   },
   "outputs": [],
   "source": [
    "### BEGIN HIDDEN TESTS\n",
    "auto_ = pd.read_csv('data/auto.csv')\n",
    "X_ = auto_[['horsepower']]\n",
    "y_ = auto_['mpg']\n",
    "first_degree_model_ = LinearRegression().fit(X_, y_)\n",
    "first_degree_mse_ = mean_squared_error(first_degree_model_.predict(X_), y_)\n",
    "coefs = first_degree_model.coef_\n",
    "coefs_ = first_degree_model_.coef_\n",
    "#\n",
    "#\n",
    "#\n",
    "np.testing.assert_array_equal(coefs, coefs_, err_msg=f'Coefficients are not equal, expected {coefs_}')\n",
    "assert first_degree_mse_ == first_degree_mse\n",
    "### END HIDDEN TESTS"
   ]
  },
  {
   "cell_type": "markdown",
   "metadata": {
    "nbgrader": {
     "grade": false,
     "grade_id": "cell-e8d01c6361f6cbc2",
     "locked": true,
     "schema_version": 1,
     "solution": false
    }
   },
   "source": [
    "[Back to top](#Index:) \n",
    "\n",
    "## Problem 2\n",
    "\n",
    "### Creating quadratic feature\n",
    "\n",
    "**4 Points**\n",
    "\n",
    "To build a second degree or quadratic model, you will first add a new column to the data based on squaring the `horsepower` column.  Do so below, assigning the new column with the name `hp2` below. "
   ]
  },
  {
   "cell_type": "code",
   "execution_count": 32,
   "metadata": {
    "nbgrader": {
     "grade": false,
     "grade_id": "cell-bd222adf2dc9fb27",
     "locked": false,
     "schema_version": 1,
     "solution": true
    },
    "ExecuteTime": {
     "end_time": "2023-10-27T12:15:52.842922500Z",
     "start_time": "2023-10-27T12:15:52.317639400Z"
    }
   },
   "outputs": [
    {
     "name": "stdout",
     "output_type": "stream",
     "text": [
      "(392, 10)\n",
      "Index(['mpg', 'cylinders', 'displacement', 'horsepower', 'weight',\n",
      "       'acceleration', 'year', 'origin', 'name', 'hp2'],\n",
      "      dtype='object')\n"
     ]
    }
   ],
   "source": [
    "### GRADED\n",
    "\n",
    "auto['hp2'] = ''\n",
    "\n",
    "### BEGIN SOLUTION\n",
    "auto['hp2'] = auto['horsepower']**2\n",
    "### END SOLUTION\n",
    "\n",
    "# Answer check\n",
    "print(auto.shape)\n",
    "print(auto.columns)"
   ]
  },
  {
   "cell_type": "code",
   "execution_count": 33,
   "metadata": {
    "nbgrader": {
     "grade": true,
     "grade_id": "cell-13307819d51c4cac",
     "locked": true,
     "points": 4,
     "schema_version": 1,
     "solution": false
    },
    "ExecuteTime": {
     "end_time": "2023-10-27T12:15:52.843918700Z",
     "start_time": "2023-10-27T12:15:52.323171100Z"
    }
   },
   "outputs": [],
   "source": [
    "### BEGIN HIDDEN TESTS\n",
    "auto_ = pd.read_csv('data/auto.csv')\n",
    "auto_['hp2'] = auto['horsepower']**2\n",
    "#\n",
    "#\n",
    "#\n",
    "pd.testing.assert_frame_equal(auto, auto_)\n",
    "assert set(list(auto.columns)) == set(list(auto_.columns))\n",
    "### END HIDDEN TESTS"
   ]
  },
  {
   "cell_type": "markdown",
   "metadata": {
    "nbgrader": {
     "grade": false,
     "grade_id": "cell-776ffb44f091c774",
     "locked": true,
     "schema_version": 1,
     "solution": false
    }
   },
   "source": [
    "[Back to top](#Index:) \n",
    "\n",
    "## Problem 3\n",
    "\n",
    "### Building a quadratic model\n",
    "\n",
    "**4 Points**\n",
    "\n",
    "Using both the `horsepower` and `hp2` features, fit a `LinearRegression` model using `mpg` as the target.  When creating the features, do so as a two column DataFrame in the order `horsepower, hp2`.  Assign your instantiated model to the variable `quadratic_model` below, and the models mean squared error as a float to `quad_mse` below. Note that your model will be of the form:\n",
    "\n",
    "$$\\text{mpg} = \\beta_0 + \\beta_1*\\text{horsepower} + \\beta_2*\\text{hp2}$$"
   ]
  },
  {
   "cell_type": "code",
   "execution_count": 34,
   "metadata": {
    "nbgrader": {
     "grade": false,
     "grade_id": "cell-1f1deb42159262c5",
     "locked": false,
     "schema_version": 1,
     "solution": true
    },
    "ExecuteTime": {
     "end_time": "2023-10-27T12:15:52.843918700Z",
     "start_time": "2023-10-27T12:15:52.334803700Z"
    }
   },
   "outputs": [
    {
     "name": "stdout",
     "output_type": "stream",
     "text": [
      "[-0.46618963  0.00123054]\n",
      "56.90009970211295\n",
      "18.98476890761722\n"
     ]
    }
   ],
   "source": [
    "### GRADED\n",
    "\n",
    "X = ''\n",
    "y = ''\n",
    "quadratic_model = ''\n",
    "quad_mse = ''\n",
    "\n",
    "### BEGIN SOLUTION\n",
    "X = auto[['horsepower', 'hp2']]\n",
    "y = auto['mpg']\n",
    "quadratic_model = LinearRegression().fit(X, y)\n",
    "quad_mse = mean_squared_error(quadratic_model.predict(X), y)\n",
    "### END SOLUTION\n",
    "\n",
    "# Answer check\n",
    "print(quadratic_model.coef_)\n",
    "print(quadratic_model.intercept_)\n",
    "print(quad_mse)"
   ]
  },
  {
   "cell_type": "code",
   "execution_count": 43,
   "metadata": {
    "nbgrader": {
     "grade": true,
     "grade_id": "cell-adc8d22f056736ff",
     "locked": true,
     "points": 4,
     "schema_version": 1,
     "solution": false
    },
    "ExecuteTime": {
     "end_time": "2023-10-27T12:53:44.196798600Z",
     "start_time": "2023-10-27T12:53:44.162170700Z"
    }
   },
   "outputs": [],
   "source": [
    "### BEGIN HIDDEN TESTS\n",
    "auto_ = pd.read_csv('data/auto.csv')\n",
    "auto_['hp2'] = auto['horsepower']**2\n",
    "X_ = auto_[['horsepower', 'hp2']]\n",
    "y_ = auto_['mpg']\n",
    "quadratic_model_ = LinearRegression().fit(X_, y_)\n",
    "quad_mse_ = mean_squared_error(quadratic_model_.predict(X_), y_)\n",
    "coefs_ = quadratic_model_.coef_\n",
    "coefs = quadratic_model.coef_\n",
    "#\n",
    "#\n",
    "#\n",
    "np.testing.assert_array_equal(coefs, coefs_, err_msg=f'Coefficients are not equal, expected {coefs_}')\n",
    "assert quad_mse == quad_mse_\n",
    "### END HIDDEN TESTS"
   ]
  },
  {
   "cell_type": "markdown",
   "metadata": {
    "nbgrader": {
     "grade": false,
     "grade_id": "cell-ddb6a8e8de3cbac7",
     "locked": true,
     "schema_version": 1,
     "solution": false
    }
   },
   "source": [
    "[Back to top](#Index:) \n",
    "\n",
    "## Problem 4\n",
    "\n",
    "### Plotting Predictions\n",
    "\n",
    "**4 Points**\n",
    "\n",
    "Because our data is not ordered by horsepower, a lineplot of `.predict(X)` would not be sensible.  To plot the correct predictions for your quadratic model, sort the two features by the `horsepower` column from least to greatest and assign this as a DataFrame to `x_for_pred` below.  Note that the resulting DataFrame should start with:\n",
    "\n",
    "<table border=\"1\" class=\"dataframe\">  <thead>    <tr style=\"text-align: right;\">      <th></th>      <th>horsepower</th>      <th>hp2</th>    </tr>  </thead>  <tbody>    <tr>      <th>19</th>      <td>46.0</td>      <td>2116.0</td>    </tr>    <tr>      <th>101</th>      <td>46.0</td>      <td>2116.0</td>    </tr>    <tr>      <th>324</th>      <td>48.0</td>      <td>2304.0</td>    </tr>    <tr>      <th>323</th>      <td>48.0</td>      <td>2304.0</td>    </tr>    <tr>      <th>242</th>      <td>48.0</td>      <td>2304.0</td>    </tr>  </tbody></table>"
   ]
  },
  {
   "cell_type": "code",
   "execution_count": 36,
   "metadata": {
    "nbgrader": {
     "grade": false,
     "grade_id": "cell-b95b556bebe1f5ce",
     "locked": false,
     "schema_version": 1,
     "solution": true
    },
    "ExecuteTime": {
     "end_time": "2023-10-27T12:15:52.849898600Z",
     "start_time": "2023-10-27T12:15:52.352707200Z"
    }
   },
   "outputs": [
    {
     "name": "stdout",
     "output_type": "stream",
     "text": [
      "<class 'pandas.core.frame.DataFrame'>\n"
     ]
    },
    {
     "data": {
      "text/plain": "     horsepower     hp2\n19         46.0  2116.0\n101        46.0  2116.0\n324        48.0  2304.0\n323        48.0  2304.0\n242        48.0  2304.0",
      "text/html": "<div>\n<style scoped>\n    .dataframe tbody tr th:only-of-type {\n        vertical-align: middle;\n    }\n\n    .dataframe tbody tr th {\n        vertical-align: top;\n    }\n\n    .dataframe thead th {\n        text-align: right;\n    }\n</style>\n<table border=\"1\" class=\"dataframe\">\n  <thead>\n    <tr style=\"text-align: right;\">\n      <th></th>\n      <th>horsepower</th>\n      <th>hp2</th>\n    </tr>\n  </thead>\n  <tbody>\n    <tr>\n      <th>19</th>\n      <td>46.0</td>\n      <td>2116.0</td>\n    </tr>\n    <tr>\n      <th>101</th>\n      <td>46.0</td>\n      <td>2116.0</td>\n    </tr>\n    <tr>\n      <th>324</th>\n      <td>48.0</td>\n      <td>2304.0</td>\n    </tr>\n    <tr>\n      <th>323</th>\n      <td>48.0</td>\n      <td>2304.0</td>\n    </tr>\n    <tr>\n      <th>242</th>\n      <td>48.0</td>\n      <td>2304.0</td>\n    </tr>\n  </tbody>\n</table>\n</div>"
     },
     "execution_count": 36,
     "metadata": {},
     "output_type": "execute_result"
    }
   ],
   "source": [
    "### GRADED\n",
    "\n",
    "x_for_pred = ''\n",
    "\n",
    "### BEGIN SOLUTION\n",
    "x_for_pred = auto[['horsepower', 'hp2']].sort_values(by = 'horsepower')\n",
    "### END SOLUTION\n",
    "\n",
    "# Answer check\n",
    "print(type(x_for_pred))\n",
    "x_for_pred.head()"
   ]
  },
  {
   "cell_type": "code",
   "execution_count": 37,
   "metadata": {
    "nbgrader": {
     "grade": true,
     "grade_id": "cell-bd59288be9c2e4da",
     "locked": true,
     "points": 4,
     "schema_version": 1,
     "solution": false
    },
    "ExecuteTime": {
     "end_time": "2023-10-27T12:15:52.850895200Z",
     "start_time": "2023-10-27T12:15:52.360522900Z"
    }
   },
   "outputs": [],
   "source": [
    "### BEGIN HIDDEN TESTS\n",
    "auto_ = pd.read_csv('data/auto.csv')\n",
    "auto_['hp2'] = auto['horsepower']**2\n",
    "X_ = auto_[['horsepower', 'hp2']]\n",
    "y_ = auto_['mpg']\n",
    "x_for_pred_ = auto_[['horsepower', 'hp2']].sort_values(by = 'horsepower')\n",
    "#\n",
    "#\n",
    "#\n",
    "assert type(x_for_pred) == type(x_for_pred_)\n",
    "pd.testing.assert_frame_equal(x_for_pred, x_for_pred_)\n",
    "### END HIDDEN TESTS"
   ]
  },
  {
   "cell_type": "markdown",
   "metadata": {
    "nbgrader": {
     "grade": false,
     "grade_id": "cell-342b489684a73b5e",
     "locked": true,
     "schema_version": 1,
     "solution": false
    }
   },
   "source": [
    "[Back to top](#Index:) \n",
    "\n",
    "## Problem 5\n",
    "\n",
    "### Comparing the model performance\n",
    "\n",
    "**4 Points**\n",
    "\n",
    "Reflect on the mean squared error of the two models.  Which model more closely approximated the data -- linear or quadratic?  Assign your answer as a string to `best_model` below (`linear` or `quadratic`).  "
   ]
  },
  {
   "cell_type": "code",
   "execution_count": 38,
   "metadata": {
    "nbgrader": {
     "grade": false,
     "grade_id": "cell-3bb0d0c6df3cd22c",
     "locked": false,
     "schema_version": 1,
     "solution": true
    },
    "ExecuteTime": {
     "end_time": "2023-10-27T12:15:52.850895200Z",
     "start_time": "2023-10-27T12:15:52.367373500Z"
    }
   },
   "outputs": [
    {
     "name": "stdout",
     "output_type": "stream",
     "text": [
      "quadratic\n"
     ]
    }
   ],
   "source": [
    "### GRADED\n",
    "\n",
    "best_model = ''\n",
    "\n",
    "### BEGIN SOLUTION\n",
    "best_model = 'quadratic'\n",
    "### END SOLUTION\n",
    "\n",
    "# Answer check\n",
    "print(best_model)"
   ]
  },
  {
   "cell_type": "code",
   "execution_count": 39,
   "metadata": {
    "nbgrader": {
     "grade": true,
     "grade_id": "cell-1937119042a86944",
     "locked": true,
     "points": 4,
     "schema_version": 1,
     "solution": false
    },
    "ExecuteTime": {
     "end_time": "2023-10-27T12:15:52.850895200Z",
     "start_time": "2023-10-27T12:15:52.371392800Z"
    }
   },
   "outputs": [],
   "source": [
    "### BEGIN HIDDEN TESTS\n",
    "best_model_ = 'quadratic'\n",
    "#\n",
    "#\n",
    "#\n",
    "assert type(best_model) == type(best_model_)\n",
    "### END HIDDEN TESTS"
   ]
  },
  {
   "cell_type": "markdown",
   "metadata": {
    "nbgrader": {
     "grade": false,
     "grade_id": "cell-801eca3357159e06",
     "locked": true,
     "schema_version": 1,
     "solution": false
    }
   },
   "source": [
    "#### Visualization and Summary\n",
    "\n",
    "As an ungraded exercise, use `plotly` or `matplotlib` to create a scatterplot of the data alongside the quadratic model as a line plot. "
   ]
  },
  {
   "cell_type": "code",
   "execution_count": 47,
   "outputs": [
    {
     "data": {
      "text/plain": "<Figure size 640x480 with 1 Axes>",
      "image/png": "[encoded data removed]"
     },
     "metadata": {},
     "output_type": "display_data"
    }
   ],
   "source": [
    "from sklearn.preprocessing import PolynomialFeatures\n",
    "X = auto[['horsepower']].values\n",
    "y = auto['mpg'].values\n",
    "poly_reg=PolynomialFeatures(degree=2)\n",
    "X_poly=poly_reg.fit_transform(X)\n",
    "\n",
    "lin2_reg = LinearRegression().fit(X_poly, y)\n",
    "lin2_reg.fit(X_poly,y)\n",
    "\n",
    "X_grid = np.arange(min(X),max(X),0.1)\n",
    "X_grid = X_grid.reshape(len(X_grid),1)\n",
    "\n",
    "plt.scatter(X, y, color='red')\n",
    "plt.plot(X_grid, lin2_reg.predict(poly_reg.fit_transform(X_grid)),color='blue')\n",
    "\n",
    "plt.title(\"Automobile's dataset\")\n",
    "plt.xlabel('horsepower')\n",
    "plt.ylabel('mpg')\n",
    "plt.show()"
   ],
   "metadata": {
    "collapsed": false,
    "ExecuteTime": {
     "end_time": "2023-10-27T16:36:15.756741800Z",
     "start_time": "2023-10-27T16:36:15.626782Z"
    }
   }
  },
  {
   "cell_type": "code",
   "execution_count": 41,
   "outputs": [],
   "source": [],
   "metadata": {
    "collapsed": false
   }
  }
 ],
 "metadata": {
  "celltoolbar": "Create Assignment",
  "kernelspec": {
   "display_name": "Python 3",
   "language": "python",
   "name": "python3"
  },
  "language_info": {
   "codemirror_mode": {
    "name": "ipython",
    "version": 3
   },
   "file_extension": ".py",
   "mimetype": "text/x-python",
   "name": "python",
   "nbconvert_exporter": "python",
   "pygments_lexer": "ipython3",
   "version": "3.6.9"
  },
  "widgets": {
   "application/vnd.jupyter.widget-state+json": {
    "state": {},
    "version_major": 2,
    "version_minor": 0
   }
  }
 },
 "nbformat": 4,
 "nbformat_minor": 4
}
