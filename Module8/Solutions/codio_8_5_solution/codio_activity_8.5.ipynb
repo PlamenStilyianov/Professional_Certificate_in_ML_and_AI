{
 "cells": [
  {
   "cell_type": "markdown",
   "metadata": {
    "nbgrader": {
     "grade": false,
     "grade_id": "cell-64c2053c73e13ffb",
     "locked": true,
     "schema_version": 1,
     "solution": false
    }
   },
   "source": [
    "### Codio Activity 8.5: Comparing Complexity and Variance\n",
    "\n",
    "**Expected Time: 60 Minutes**\n",
    "\n",
    "**Total Points: 35**\n",
    "\n",
    "In this activity, you will explore the effect of model complexity on the variance in predictions.  Continuing with the automotive data, you will build models on a subset of 10 vehicles.  You will compare the model error when used on the entire dataset, and investigate how variance changes with model complexity.\n",
    "\n",
    "#### Index:\n",
    "\n",
    "- [Problem 1](#Problem-1)\n",
    "- [Problem 2](#Problem-2)\n",
    "- [Problem 3](#Problem-3)\n",
    "- [Problem 4](#Problem-4)\n"
   ]
  },
  {
   "cell_type": "code",
   "execution_count": 65,
   "metadata": {
    "nbgrader": {
     "grade": false,
     "grade_id": "cell-3f3018c76c6cef71",
     "locked": true,
     "schema_version": 1,
     "solution": false
    },
    "ExecuteTime": {
     "end_time": "2023-10-29T16:22:22.690097500Z",
     "start_time": "2023-10-29T16:22:22.613940500Z"
    }
   },
   "outputs": [],
   "source": [
    "import numpy as np\n",
    "import pandas as pd\n",
    "from sklearn.linear_model import LinearRegression\n",
    "from sklearn.preprocessing import PolynomialFeatures\n",
    "from sklearn.pipeline import Pipeline\n",
    "from sklearn.metrics import mean_squared_error\n",
    "import plotly.express as px"
   ]
  },
  {
   "cell_type": "code",
   "execution_count": 66,
   "metadata": {
    "nbgrader": {
     "grade": false,
     "grade_id": "cell-73ac6816c6e7d20b",
     "locked": true,
     "schema_version": 1,
     "solution": false
    },
    "ExecuteTime": {
     "end_time": "2023-10-29T16:22:22.709694700Z",
     "start_time": "2023-10-29T16:22:22.618575700Z"
    }
   },
   "outputs": [],
   "source": [
    "auto = pd.read_csv('data/auto.csv')"
   ]
  },
  {
   "cell_type": "code",
   "execution_count": 67,
   "metadata": {
    "nbgrader": {
     "grade": false,
     "grade_id": "cell-bef974eedda6777e",
     "locked": true,
     "schema_version": 1,
     "solution": false
    },
    "ExecuteTime": {
     "end_time": "2023-10-29T16:22:22.741574Z",
     "start_time": "2023-10-29T16:22:22.622117600Z"
    }
   },
   "outputs": [
    {
     "data": {
      "text/plain": "    mpg  cylinders  displacement  horsepower  weight  acceleration  year  \\\n0  18.0          8         307.0       130.0    3504          12.0    70   \n1  15.0          8         350.0       165.0    3693          11.5    70   \n2  18.0          8         318.0       150.0    3436          11.0    70   \n3  16.0          8         304.0       150.0    3433          12.0    70   \n4  17.0          8         302.0       140.0    3449          10.5    70   \n\n   origin                       name  \n0       1  chevrolet chevelle malibu  \n1       1          buick skylark 320  \n2       1         plymouth satellite  \n3       1              amc rebel sst  \n4       1                ford torino  ",
      "text/html": "<div>\n<style scoped>\n    .dataframe tbody tr th:only-of-type {\n        vertical-align: middle;\n    }\n\n    .dataframe tbody tr th {\n        vertical-align: top;\n    }\n\n    .dataframe thead th {\n        text-align: right;\n    }\n</style>\n<table border=\"1\" class=\"dataframe\">\n  <thead>\n    <tr style=\"text-align: right;\">\n      <th></th>\n      <th>mpg</th>\n      <th>cylinders</th>\n      <th>displacement</th>\n      <th>horsepower</th>\n      <th>weight</th>\n      <th>acceleration</th>\n      <th>year</th>\n      <th>origin</th>\n      <th>name</th>\n    </tr>\n  </thead>\n  <tbody>\n    <tr>\n      <th>0</th>\n      <td>18.0</td>\n      <td>8</td>\n      <td>307.0</td>\n      <td>130.0</td>\n      <td>3504</td>\n      <td>12.0</td>\n      <td>70</td>\n      <td>1</td>\n      <td>chevrolet chevelle malibu</td>\n    </tr>\n    <tr>\n      <th>1</th>\n      <td>15.0</td>\n      <td>8</td>\n      <td>350.0</td>\n      <td>165.0</td>\n      <td>3693</td>\n      <td>11.5</td>\n      <td>70</td>\n      <td>1</td>\n      <td>buick skylark 320</td>\n    </tr>\n    <tr>\n      <th>2</th>\n      <td>18.0</td>\n      <td>8</td>\n      <td>318.0</td>\n      <td>150.0</td>\n      <td>3436</td>\n      <td>11.0</td>\n      <td>70</td>\n      <td>1</td>\n      <td>plymouth satellite</td>\n    </tr>\n    <tr>\n      <th>3</th>\n      <td>16.0</td>\n      <td>8</td>\n      <td>304.0</td>\n      <td>150.0</td>\n      <td>3433</td>\n      <td>12.0</td>\n      <td>70</td>\n      <td>1</td>\n      <td>amc rebel sst</td>\n    </tr>\n    <tr>\n      <th>4</th>\n      <td>17.0</td>\n      <td>8</td>\n      <td>302.0</td>\n      <td>140.0</td>\n      <td>3449</td>\n      <td>10.5</td>\n      <td>70</td>\n      <td>1</td>\n      <td>ford torino</td>\n    </tr>\n  </tbody>\n</table>\n</div>"
     },
     "execution_count": 67,
     "metadata": {},
     "output_type": "execute_result"
    }
   ],
   "source": [
    "auto.head()"
   ]
  },
  {
   "cell_type": "markdown",
   "metadata": {
    "nbgrader": {
     "grade": false,
     "grade_id": "cell-f93ddb19e0524747",
     "locked": true,
     "schema_version": 1,
     "solution": false
    }
   },
   "source": [
    "### The Sample\n",
    "\n",
    "Below, a sample of ten vehicles from the data is extracted.  These data are what will form our **training** data.  The data is subsequently split into `X_train` and `y_train`.  You are to use this smaller dataset to build your models on, and explore their performance using the entire dataset."
   ]
  },
  {
   "cell_type": "code",
   "execution_count": 68,
   "metadata": {
    "nbgrader": {
     "grade": false,
     "grade_id": "cell-f70c1ab76af73290",
     "locked": true,
     "schema_version": 1,
     "solution": false
    },
    "ExecuteTime": {
     "end_time": "2023-10-29T16:22:22.775253600Z",
     "start_time": "2023-10-29T16:22:22.628750900Z"
    }
   },
   "outputs": [],
   "source": [
    "X = auto.loc[:,['horsepower']]\n",
    "y = auto['mpg']\n",
    "sample = auto.sample(10, random_state = 22)\n",
    "X_train = sample.loc[:, ['horsepower']]\n",
    "y_train = sample['mpg']"
   ]
  },
  {
   "cell_type": "code",
   "execution_count": 69,
   "metadata": {
    "nbgrader": {
     "grade": false,
     "grade_id": "cell-cf216c968b8942cf",
     "locked": true,
     "schema_version": 1,
     "solution": false
    },
    "ExecuteTime": {
     "end_time": "2023-10-29T16:22:22.823892400Z",
     "start_time": "2023-10-29T16:22:22.633464500Z"
    }
   },
   "outputs": [
    {
     "data": {
      "text/plain": "     horsepower\n280        88.0\n57         80.0\n46        100.0\n223       110.0\n303        90.0\n73        140.0\n98        100.0\n250       105.0\n254       100.0\n337       110.0",
      "text/html": "<div>\n<style scoped>\n    .dataframe tbody tr th:only-of-type {\n        vertical-align: middle;\n    }\n\n    .dataframe tbody tr th {\n        vertical-align: top;\n    }\n\n    .dataframe thead th {\n        text-align: right;\n    }\n</style>\n<table border=\"1\" class=\"dataframe\">\n  <thead>\n    <tr style=\"text-align: right;\">\n      <th></th>\n      <th>horsepower</th>\n    </tr>\n  </thead>\n  <tbody>\n    <tr>\n      <th>280</th>\n      <td>88.0</td>\n    </tr>\n    <tr>\n      <th>57</th>\n      <td>80.0</td>\n    </tr>\n    <tr>\n      <th>46</th>\n      <td>100.0</td>\n    </tr>\n    <tr>\n      <th>223</th>\n      <td>110.0</td>\n    </tr>\n    <tr>\n      <th>303</th>\n      <td>90.0</td>\n    </tr>\n    <tr>\n      <th>73</th>\n      <td>140.0</td>\n    </tr>\n    <tr>\n      <th>98</th>\n      <td>100.0</td>\n    </tr>\n    <tr>\n      <th>250</th>\n      <td>105.0</td>\n    </tr>\n    <tr>\n      <th>254</th>\n      <td>100.0</td>\n    </tr>\n    <tr>\n      <th>337</th>\n      <td>110.0</td>\n    </tr>\n  </tbody>\n</table>\n</div>"
     },
     "execution_count": 69,
     "metadata": {},
     "output_type": "execute_result"
    }
   ],
   "source": [
    "X_train"
   ]
  },
  {
   "cell_type": "code",
   "execution_count": 70,
   "metadata": {
    "nbgrader": {
     "grade": false,
     "grade_id": "cell-2fa050a0a64e7c6c",
     "locked": true,
     "schema_version": 1,
     "solution": false
    },
    "ExecuteTime": {
     "end_time": "2023-10-29T16:22:22.825225500Z",
     "start_time": "2023-10-29T16:22:22.641135100Z"
    }
   },
   "outputs": [
    {
     "data": {
      "text/plain": "280    22.3\n57     25.0\n46     19.0\n223    17.5\n303    28.4\n73     13.0\n98     18.0\n250    19.2\n254    20.5\n337    23.5\nName: mpg, dtype: float64"
     },
     "execution_count": 70,
     "metadata": {},
     "output_type": "execute_result"
    }
   ],
   "source": [
    "y_train"
   ]
  },
  {
   "cell_type": "code",
   "execution_count": 71,
   "metadata": {
    "nbgrader": {
     "grade": false,
     "grade_id": "cell-3fff97584257ebdb",
     "locked": true,
     "schema_version": 1,
     "solution": false
    },
    "ExecuteTime": {
     "end_time": "2023-10-29T16:22:22.825225500Z",
     "start_time": "2023-10-29T16:22:22.645440700Z"
    }
   },
   "outputs": [
    {
     "data": {
      "text/plain": "(392, 1)"
     },
     "execution_count": 71,
     "metadata": {},
     "output_type": "execute_result"
    }
   ],
   "source": [
    "X.shape"
   ]
  },
  {
   "cell_type": "markdown",
   "metadata": {
    "nbgrader": {
     "grade": false,
     "grade_id": "cell-c065614594f006da",
     "locked": true,
     "schema_version": 1,
     "solution": false
    }
   },
   "source": [
    "[Back to top](#Index:) \n",
    "\n",
    "### Problem 1\n",
    "\n",
    "#### Iterate on Models\n",
    "\n",
    "**20 Points**\n",
    "\n",
    "In this problem, you are to again build models using degree 1 through 10.  Use a `Pipeline` and be sure to set `include_bias = False` in your transformer.  Fit your pipelines on the training data, and assign the predictions using the entire dataset (`X`) to the appropriate key in the dictionary.`model_predictions`."
   ]
  },
  {
   "cell_type": "code",
   "execution_count": 85,
   "metadata": {
    "nbgrader": {
     "grade": false,
     "grade_id": "cell-5030deb704abdd79",
     "locked": false,
     "schema_version": 1,
     "solution": true
    },
    "ExecuteTime": {
     "end_time": "2023-10-29T16:29:11.244685Z",
     "start_time": "2023-10-29T16:22:29.750328400Z"
    }
   },
   "outputs": [
    {
     "name": "stdout",
     "output_type": "stream",
     "text": [
      "Starting Dictionary of Predictions\n",
      " {'degree_1': None, 'degree_2': None, 'degree_3': None, 'degree_4': None, 'degree_5': None, 'degree_6': None, 'degree_7': None, 'degree_8': None, 'degree_9': None, 'degree_10': None}\n"
     ]
    },
    {
     "ename": "KeyboardInterrupt",
     "evalue": "",
     "output_type": "error",
     "traceback": [
      "\u001B[1;31m---------------------------------------------------------------------------\u001B[0m",
      "\u001B[1;31mKeyboardInterrupt\u001B[0m                         Traceback (most recent call last)",
      "Cell \u001B[1;32mIn[81], line 30\u001B[0m\n\u001B[0;32m     26\u001B[0m     model_predictions[\u001B[38;5;124mf\u001B[39m\u001B[38;5;124m'\u001B[39m\u001B[38;5;124mdegree_\u001B[39m\u001B[38;5;132;01m{\u001B[39;00mi\u001B[38;5;132;01m}\u001B[39;00m\u001B[38;5;124m'\u001B[39m] \u001B[38;5;241m=\u001B[39m preds\n\u001B[0;32m     27\u001B[0m \u001B[38;5;66;03m### END SOLUTION\u001B[39;00m\n\u001B[0;32m     28\u001B[0m \n\u001B[0;32m     29\u001B[0m \u001B[38;5;66;03m# Answer check\u001B[39;00m\n\u001B[1;32m---> 30\u001B[0m model_predictions[\u001B[38;5;124m'\u001B[39m\u001B[38;5;124mdegree_1\u001B[39m\u001B[38;5;124m'\u001B[39m][:\u001B[38;5;241m10\u001B[39m]\n",
      "File \u001B[1;32m_pydevd_bundle\\pydevd_cython_win32_311_64.pyx:1179\u001B[0m, in \u001B[0;36m_pydevd_bundle.pydevd_cython_win32_311_64.SafeCallWrapper.__call__\u001B[1;34m()\u001B[0m\n",
      "File \u001B[1;32m_pydevd_bundle\\pydevd_cython_win32_311_64.pyx:620\u001B[0m, in \u001B[0;36m_pydevd_bundle.pydevd_cython_win32_311_64.PyDBFrame.trace_dispatch\u001B[1;34m()\u001B[0m\n",
      "File \u001B[1;32m_pydevd_bundle\\pydevd_cython_win32_311_64.pyx:929\u001B[0m, in \u001B[0;36m_pydevd_bundle.pydevd_cython_win32_311_64.PyDBFrame.trace_dispatch\u001B[1;34m()\u001B[0m\n",
      "File \u001B[1;32m_pydevd_bundle\\pydevd_cython_win32_311_64.pyx:920\u001B[0m, in \u001B[0;36m_pydevd_bundle.pydevd_cython_win32_311_64.PyDBFrame.trace_dispatch\u001B[1;34m()\u001B[0m\n",
      "File \u001B[1;32m_pydevd_bundle\\pydevd_cython_win32_311_64.pyx:317\u001B[0m, in \u001B[0;36m_pydevd_bundle.pydevd_cython_win32_311_64.PyDBFrame.do_wait_suspend\u001B[1;34m()\u001B[0m\n",
      "File \u001B[1;32mC:\\Java\\JetBrains\\DataSpell_2023.2.1\\plugins\\python-ce\\helpers\\pydev\\pydevd.py:1160\u001B[0m, in \u001B[0;36mPyDB.do_wait_suspend\u001B[1;34m(self, thread, frame, event, arg, send_suspend_message, is_unhandled_exception)\u001B[0m\n\u001B[0;32m   1157\u001B[0m         from_this_thread\u001B[38;5;241m.\u001B[39mappend(frame_id)\n\u001B[0;32m   1159\u001B[0m \u001B[38;5;28;01mwith\u001B[39;00m \u001B[38;5;28mself\u001B[39m\u001B[38;5;241m.\u001B[39m_threads_suspended_single_notification\u001B[38;5;241m.\u001B[39mnotify_thread_suspended(thread_id, stop_reason):\n\u001B[1;32m-> 1160\u001B[0m     \u001B[38;5;28mself\u001B[39m\u001B[38;5;241m.\u001B[39m_do_wait_suspend(thread, frame, event, arg, suspend_type, from_this_thread)\n",
      "File \u001B[1;32mC:\\Java\\JetBrains\\DataSpell_2023.2.1\\plugins\\python-ce\\helpers\\pydev\\pydevd.py:1175\u001B[0m, in \u001B[0;36mPyDB._do_wait_suspend\u001B[1;34m(self, thread, frame, event, arg, suspend_type, from_this_thread)\u001B[0m\n\u001B[0;32m   1172\u001B[0m             \u001B[38;5;28mself\u001B[39m\u001B[38;5;241m.\u001B[39m_call_mpl_hook()\n\u001B[0;32m   1174\u001B[0m         \u001B[38;5;28mself\u001B[39m\u001B[38;5;241m.\u001B[39mprocess_internal_commands()\n\u001B[1;32m-> 1175\u001B[0m         time\u001B[38;5;241m.\u001B[39msleep(\u001B[38;5;241m0.01\u001B[39m)\n\u001B[0;32m   1177\u001B[0m \u001B[38;5;28mself\u001B[39m\u001B[38;5;241m.\u001B[39mcancel_async_evaluation(get_current_thread_id(thread), \u001B[38;5;28mstr\u001B[39m(\u001B[38;5;28mid\u001B[39m(frame)))\n\u001B[0;32m   1179\u001B[0m \u001B[38;5;66;03m# process any stepping instructions\u001B[39;00m\n",
      "\u001B[1;31mKeyboardInterrupt\u001B[0m: "
     ]
    }
   ],
   "source": [
    "### GRADED\n",
    "\n",
    "### YOUR SOLUTION HERE\n",
    "model_predictions = {f'degree_{i}': None for i in range(1, 11)}\n",
    "\n",
    "print(\"Starting Dictionary of Predictions\\n\", model_predictions)\n",
    "#for 1, 2, 3, ..., 10\n",
    "\n",
    "    #create pipeline\n",
    "    \n",
    "    #fit pipeline on training data\n",
    "    \n",
    "    #make predictions on all data\n",
    "    \n",
    "    #assign to model_predictions\n",
    "    \n",
    "\n",
    "\n",
    "### BEGIN SOLUTION\n",
    "X = auto[['horsepower']]\n",
    "y = auto['mpg']\n",
    "for i in range(1, 11):\n",
    "    pipe = Pipeline([('quad_features', PolynomialFeatures(degree = i, include_bias = False)), ('quad_model', LinearRegression())])\n",
    "    pipe.fit(X_train, y_train)\n",
    "    preds = pipe.predict(X)\n",
    "    model_predictions[f'degree_{i}'] = preds\n",
    "### END SOLUTION\n",
    "\n",
    "# Answer check\n",
    "model_predictions['degree_1'][:10]"
   ]
  },
  {
   "cell_type": "code",
   "execution_count": 73,
   "metadata": {
    "nbgrader": {
     "grade": true,
     "grade_id": "cell-58b5c109b0fbde13",
     "locked": true,
     "points": 20,
     "schema_version": 1,
     "solution": false
    },
    "ExecuteTime": {
     "end_time": "2023-10-29T16:22:22.886696100Z",
     "start_time": "2023-10-29T16:22:22.681433900Z"
    }
   },
   "outputs": [],
   "source": [
    "### BEGIN HIDDEN TESTS\n",
    "auto_ = pd.read_csv('data/auto.csv')\n",
    "X_ = auto_[['horsepower']]\n",
    "y_ = auto_['mpg']\n",
    "sample_ = auto_.sample(10, random_state = 22)\n",
    "X_train_ = sample_.loc[:, ['horsepower']]\n",
    "y_train_ = sample_['mpg']\n",
    "model_predictions_ = {f'degree_{i}': None for i in range(1, 11)}\n",
    "for i in range(1, 11):\n",
    "    pipe_ = Pipeline([('quad_features', PolynomialFeatures(degree = i, include_bias = False)), ('quad_model', LinearRegression())])\n",
    "    pipe_.fit(X_train_, y_train_)\n",
    "    preds_ = pipe_.predict(X_)\n",
    "    model_predictions_[f'degree_{i}'] = preds_\n",
    "    \n",
    "#\n",
    "#\n",
    "#\n",
    "#\n",
    "assert type(model_predictions) == type(model_predictions_)\n",
    "for i,j in zip(model_predictions.values(), model_predictions_.values()):\n",
    "    np.testing.assert_array_equal(i, j)\n",
    "### END HIDDEN TESTS"
   ]
  },
  {
   "cell_type": "markdown",
   "metadata": {
    "nbgrader": {
     "grade": false,
     "grade_id": "cell-0e3ae8957659f76d",
     "locked": true,
     "schema_version": 1,
     "solution": false
    }
   },
   "source": [
    "[Back to top](#Index:) \n",
    "\n",
    "### Problem 2\n",
    "\n",
    "#### DataFrame of Predictions\n",
    "\n",
    "**5 Points**\n",
    "\n",
    "Use the `model_predictions` dictionary to create a DataFrame of the 10 models predictions.  Assign your solution to `pred_df` below as a DataFrame. "
   ]
  },
  {
   "cell_type": "code",
   "execution_count": 74,
   "metadata": {
    "nbgrader": {
     "grade": false,
     "grade_id": "cell-f410033f079f31d8",
     "locked": false,
     "schema_version": 1,
     "solution": true
    },
    "ExecuteTime": {
     "end_time": "2023-10-29T16:22:22.886696100Z",
     "start_time": "2023-10-29T16:22:22.714346400Z"
    }
   },
   "outputs": [
    {
     "name": "stdout",
     "output_type": "stream",
     "text": [
      "<class 'pandas.core.frame.DataFrame'>\n",
      "    degree_1   degree_2   degree_3    degree_4     degree_5     degree_6  \\\n",
      "0  14.903953  14.959892  15.704485   32.550328    97.807348   101.890910   \n",
      "1   7.656239   9.465786   0.931088 -372.035448 -3456.142387 -4370.255896   \n",
      "2  10.762402  11.618435   9.428697  -61.767623  -516.945616  -606.287128   \n",
      "3  10.762402  11.618435   9.428697  -61.767623  -516.945616  -606.287128   \n",
      "4  12.833177  13.221841  13.121121   13.003201    12.998539    13.014838   \n",
      "\n",
      "      degree_7     degree_8     degree_9    degree_10  \n",
      "0   103.933593   103.117995    98.288310    87.834472  \n",
      "1 -5342.367052 -6208.278703 -6618.841461 -5878.302579  \n",
      "2  -688.560751  -746.837153  -752.162315  -655.406301  \n",
      "3  -688.560751  -746.837153  -752.162315  -655.406301  \n",
      "4    12.999546    12.999491    12.999644    12.999760  \n"
     ]
    }
   ],
   "source": [
    "### GRADED\n",
    "\n",
    "### YOUR SOLUTION HERE\n",
    "pred_df = ''\n",
    "    \n",
    "\n",
    "\n",
    "### BEGIN SOLUTION\n",
    "pred_df = pd.DataFrame(model_predictions)\n",
    "### END SOLUTION\n",
    "\n",
    "# Answer check\n",
    "print(type(pred_df))\n",
    "print(pred_df.head())"
   ]
  },
  {
   "cell_type": "code",
   "execution_count": 75,
   "metadata": {
    "nbgrader": {
     "grade": true,
     "grade_id": "cell-435b1c581d017378",
     "locked": true,
     "points": 5,
     "schema_version": 1,
     "solution": false
    },
    "ExecuteTime": {
     "end_time": "2023-10-29T16:22:22.886696100Z",
     "start_time": "2023-10-29T16:22:22.719170100Z"
    }
   },
   "outputs": [],
   "source": [
    "### BEGIN HIDDEN TESTS\n",
    "pred_df_ = pd.DataFrame(model_predictions_)\n",
    "#\n",
    "#\n",
    "#\n",
    "assert type(pred_df_) == type(pred_df)\n",
    "pd.testing.assert_frame_equal(pred_df, pred_df_)\n",
    "### END HIDDEN TESTS"
   ]
  },
  {
   "cell_type": "markdown",
   "metadata": {
    "nbgrader": {
     "grade": false,
     "grade_id": "cell-2fc5be6c21c2e393",
     "locked": true,
     "schema_version": 1,
     "solution": false
    }
   },
   "source": [
    "[Back to top](#Index:) \n",
    "\n",
    "### Problem 3\n",
    "\n",
    "#### DataFrame of Errors\n",
    "\n",
    "**5 Points**\n",
    "\n",
    "Now, determine the error for each model and create a DataFrame of these errors.  One way to do this is to use your prediction DataFrame's `.subtract` method to subtract `y` from each feature.  Assign the DataFrame of errors as `error_df` below.  "
   ]
  },
  {
   "cell_type": "code",
   "execution_count": 76,
   "metadata": {
    "nbgrader": {
     "grade": false,
     "grade_id": "cell-39bb57c061a5550e",
     "locked": false,
     "schema_version": 1,
     "solution": true
    },
    "ExecuteTime": {
     "end_time": "2023-10-29T16:22:22.886696100Z",
     "start_time": "2023-10-29T16:22:22.728751400Z"
    }
   },
   "outputs": [
    {
     "name": "stdout",
     "output_type": "stream",
     "text": [
      "<class 'pandas.core.frame.DataFrame'>\n",
      "   degree_1  degree_2   degree_3    degree_4     degree_5     degree_6  \\\n",
      "0 -3.096047 -3.040108  -2.295515   14.550328    79.807348    83.890910   \n",
      "1 -7.343761 -5.534214 -14.068912 -387.035448 -3471.142387 -4385.255896   \n",
      "2 -7.237598 -6.381565  -8.571303  -79.767623  -534.945616  -624.287128   \n",
      "3 -5.237598 -4.381565  -6.571303  -77.767623  -532.945616  -622.287128   \n",
      "4 -4.166823 -3.778159  -3.878879   -3.996799    -4.001461    -3.985162   \n",
      "\n",
      "      degree_7     degree_8     degree_9    degree_10  \n",
      "0    85.933593    85.117995    80.288310    69.834472  \n",
      "1 -5357.367052 -6223.278703 -6633.841461 -5893.302579  \n",
      "2  -706.560751  -764.837153  -770.162315  -673.406301  \n",
      "3  -704.560751  -762.837153  -768.162315  -671.406301  \n",
      "4    -4.000454    -4.000509    -4.000356    -4.000240  \n"
     ]
    }
   ],
   "source": [
    "### GRADED\n",
    "\n",
    "### YOUR SOLUTION HERE\n",
    "error_df = ''\n",
    "    \n",
    "\n",
    "\n",
    "### BEGIN SOLUTION\n",
    "error_df = pred_df.subtract(y, axis = 0)\n",
    "### END SOLUTION\n",
    "\n",
    "# Answer check\n",
    "print(type(error_df))\n",
    "print(error_df.head())"
   ]
  },
  {
   "cell_type": "code",
   "execution_count": 77,
   "metadata": {
    "nbgrader": {
     "grade": true,
     "grade_id": "cell-f8eb586be93a6b46",
     "locked": true,
     "points": 5,
     "schema_version": 1,
     "solution": false
    },
    "ExecuteTime": {
     "end_time": "2023-10-29T16:22:22.886696100Z",
     "start_time": "2023-10-29T16:22:22.731301800Z"
    }
   },
   "outputs": [],
   "source": [
    "### BEGIN HIDDEN TESTS\n",
    "error_df_ = pred_df_.subtract(y, axis = 0)\n",
    "#\n",
    "#\n",
    "#\n",
    "assert type(error_df_) == type(error_df)\n",
    "pd.testing.assert_frame_equal(error_df, error_df_)\n",
    "### END HIDDEN TESTS"
   ]
  },
  {
   "cell_type": "markdown",
   "metadata": {
    "nbgrader": {
     "grade": false,
     "grade_id": "cell-ade7dbd628b3300f",
     "locked": true,
     "schema_version": 1,
     "solution": false
    }
   },
   "source": [
    "[Back to top](#Index:) \n",
    "\n",
    "### Problem 4\n",
    "\n",
    "#### Mean and Variance of Model Errors\n",
    "\n",
    "**5 Points**\n",
    "\n",
    "\n",
    "Using the DataFrame of errors, examine the mean and variance of each model's error.  What degree model has the highest variance?  Assign your response as an integer to `highest_var_degree` below."
   ]
  },
  {
   "cell_type": "code",
   "execution_count": 78,
   "metadata": {
    "nbgrader": {
     "grade": false,
     "grade_id": "cell-ef9bb67cd8c535da",
     "locked": false,
     "schema_version": 1,
     "solution": true
    },
    "ExecuteTime": {
     "end_time": "2023-10-29T16:22:22.886696100Z",
     "start_time": "2023-10-29T16:22:22.735851300Z"
    }
   },
   "outputs": [
    {
     "name": "stdout",
     "output_type": "stream",
     "text": [
      "<class 'int'>\n",
      "10\n"
     ]
    }
   ],
   "source": [
    "### GRADED\n",
    "\n",
    "### YOUR SOLUTION HERE\n",
    "highest_var_degree = ''\n",
    "    \n",
    "\n",
    "\n",
    "### BEGIN SOLUTION\n",
    "highest_var_degree = 10\n",
    "### END SOLUTION\n",
    "\n",
    "# Answer check\n",
    "print(type(highest_var_degree))\n",
    "print(highest_var_degree)"
   ]
  },
  {
   "cell_type": "code",
   "execution_count": 79,
   "metadata": {
    "nbgrader": {
     "grade": true,
     "grade_id": "cell-ed6417d67b686a9e",
     "locked": true,
     "points": 5,
     "schema_version": 1,
     "solution": false
    },
    "ExecuteTime": {
     "end_time": "2023-10-29T16:22:22.886696100Z",
     "start_time": "2023-10-29T16:22:22.738624100Z"
    }
   },
   "outputs": [],
   "source": [
    "### BEGIN HIDDEN TESTS\n",
    "highest_var_degree_ = 10\n",
    "#\n",
    "#\n",
    "#\n",
    "assert highest_var_degree == highest_var_degree_\n",
    "### END HIDDEN TESTS"
   ]
  },
  {
   "cell_type": "markdown",
   "metadata": {
    "nbgrader": {
     "grade": false,
     "grade_id": "cell-9799130bdb931dfd",
     "locked": true,
     "schema_version": 1,
     "solution": false
    }
   },
   "source": [
    "\n",
    "#### Boxplots of Errors by Degree\n",
    "\n",
    "Below, uncomment the code to create boxplots for each degree model error.  This should demonstrate an important idea, that as model complexity grows so does the variance in predictions of unseen data. "
   ]
  },
  {
   "cell_type": "code",
   "execution_count": 80,
   "metadata": {
    "ExecuteTime": {
     "end_time": "2023-10-29T16:22:22.888019200Z",
     "start_time": "2023-10-29T16:22:22.743224700Z"
    }
   },
   "outputs": [],
   "source": [
    "# px.box(error_df)"
   ]
  }
 ],
 "metadata": {
  "celltoolbar": "Create Assignment",
  "kernelspec": {
   "display_name": "Python 3",
   "language": "python",
   "name": "python3"
  },
  "language_info": {
   "codemirror_mode": {
    "name": "ipython",
    "version": 3
   },
   "file_extension": ".py",
   "mimetype": "text/x-python",
   "name": "python",
   "nbconvert_exporter": "python",
   "pygments_lexer": "ipython3",
   "version": "3.6.9"
  },
  "widgets": {
   "application/vnd.jupyter.widget-state+json": {
    "state": {},
    "version_major": 2,
    "version_minor": 0
   }
  }
 },
 "nbformat": 4,
 "nbformat_minor": 4
}
