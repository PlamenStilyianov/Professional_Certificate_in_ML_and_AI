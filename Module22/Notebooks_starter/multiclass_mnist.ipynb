{
 "cells": [
  {
   "cell_type": "code",
   "execution_count": 1,
   "id": "2a13a144",
   "metadata": {
    "ExecuteTime": {
     "end_time": "2024-02-29T17:54:11.090203Z",
     "start_time": "2024-02-29T17:54:11.082241Z"
    }
   },
   "outputs": [],
   "source": [
    "#@title Run on TensorFlow 2.x\n",
    "# %tensorflow_version 2.x"
   ]
  },
  {
   "cell_type": "code",
   "execution_count": 2,
   "id": "8b3e236a",
   "metadata": {
    "ExecuteTime": {
     "end_time": "2024-02-29T17:54:14.524502Z",
     "start_time": "2024-02-29T17:54:11.091200Z"
    }
   },
   "outputs": [
    {
     "name": "stdout",
     "output_type": "stream",
     "text": [
      "WARNING:tensorflow:From C:\\Java\\Python3.10.8\\lib\\site-packages\\keras\\src\\losses.py:2976: The name tf.losses.sparse_softmax_cross_entropy is deprecated. Please use tf.compat.v1.losses.sparse_softmax_cross_entropy instead.\n"
     ]
    }
   ],
   "source": [
    "#@title Import relevant modules\n",
    "import numpy as np\n",
    "import pandas as pd\n",
    "import tensorflow as tf\n",
    "from tensorflow.keras import layers\n",
    "from matplotlib import pyplot as plt\n",
    "import warnings\n",
    "warnings.filterwarnings(\"ignore\")\n",
    "\n",
    "# The following lines adjust the granularity of reporting. \n",
    "pd.options.display.max_rows = 10\n",
    "pd.options.display.float_format = \"{:.1f}\".format\n",
    "\n",
    "# The following line improves formatting when ouputting NumPy arrays.\n",
    "np.set_printoptions(linewidth = 200)"
   ]
  },
  {
   "cell_type": "code",
   "execution_count": 3,
   "id": "de0d244e",
   "metadata": {
    "ExecuteTime": {
     "end_time": "2024-02-29T17:54:14.540330Z",
     "start_time": "2024-02-29T17:54:14.525766Z"
    }
   },
   "outputs": [],
   "source": [
    "colormap = {0:'black', 1:'red', 2:'blue'}\n",
    "def plot_region(model,dlim,features=[]):\n",
    "    d1lim = dlim[:2]\n",
    "    d2lim = dlim[2:]\n",
    "    d1_grid, d2_grid = np.meshgrid(np.arange(d1lim[0], d1lim[1], 0.02), np.arange(d2lim[0], d2lim[1], 0.02))\n",
    "    X0 = d1_grid.ravel()\n",
    "    X1 = d2_grid.ravel()\n",
    "    \n",
    "    d12_array = np.empty((len(X0),2+len(features)))\n",
    "    d12_array[:,0] = X0\n",
    "    d12_array[:,1] = X1\n",
    "    i=2\n",
    "\n",
    "    for feature in features:\n",
    "        d12_array[:,i] = feature(X0,X1)\n",
    "        i += 1\n",
    "    \n",
    "    y_array = model.predict(d12_array)\n",
    "    y_grid = y_array.reshape(d1_grid.shape)\n",
    "    plt.contourf(d1_grid, d2_grid, y_grid, cmap='Pastel2')"
   ]
  },
  {
   "cell_type": "markdown",
   "id": "d5af641a",
   "metadata": {},
   "source": [
    "## Load the dataset\n",
    "\n",
    "`tf.keras` provides a set of convenience functions for loading well-known datasets. Each of these convenience functions does the following:\n",
    "\n",
    "* Loads both the training set and the test set.\n",
    "* Separates each set into features and labels.\n",
    "\n",
    "The relevant convenience function for MNIST is called `mnist.load_data()`:"
   ]
  },
  {
   "cell_type": "code",
   "execution_count": 4,
   "id": "f4937590",
   "metadata": {
    "ExecuteTime": {
     "end_time": "2024-02-29T17:54:14.712026Z",
     "start_time": "2024-02-29T17:54:14.541332Z"
    }
   },
   "outputs": [],
   "source": [
    "(x_train, y_train),(x_test, y_test) = tf.keras.datasets.mnist.load_data()\n"
   ]
  },
  {
   "cell_type": "markdown",
   "id": "0088f0c3",
   "metadata": {},
   "source": [
    "Notice that `mnist.load_data()` returned four separate values:\n",
    "\n",
    "* `x_train` contains the training set's features.\n",
    "* `y_train` contains the training set's labels.\n",
    "* `x_test` contains the test set's features.\n",
    "* `y_test` contains the test set's labels.\n",
    "\n",
    "**Note:** The MNIST .csv training set is already shuffled."
   ]
  },
  {
   "cell_type": "markdown",
   "id": "5c2a7ce2",
   "metadata": {},
   "source": [
    "## View the dataset\n",
    "\n",
    "The .csv file for the California Housing Dataset contains column names (for example, `latitude`, `longitude`, `population`). By contrast, the .csv file for MNIST does not contain column names. Instead of column names, you use ordinal numbers to access different subsets of the MNIST dataset. In fact, it is probably best to think of `x_train` and `x_test` as three-dimensional NumPy arrays:  \n",
    "\n"
   ]
  },
  {
   "cell_type": "code",
   "execution_count": 5,
   "id": "c3ea6108",
   "metadata": {
    "ExecuteTime": {
     "end_time": "2024-02-29T17:54:14.727973Z",
     "start_time": "2024-02-29T17:54:14.713939Z"
    }
   },
   "outputs": [
    {
     "data": {
      "text/plain": "array([[  0,   0,   0,   0,   0,   0,   0,   0,   0,   0,   0,   0,   0,   0,   0,   0,   0,   0,   0,   0,   0,   0,   0,   0,   0,   0,   0,   0],\n       [  0,   0,   0,   0,   0,   0,   0,   0,   0,   0,   0,   0,   0,   0,   0,   0,   0,   0,   0,   0,   0,   0,   0,   0,   0,   0,   0,   0],\n       [  0,   0,   0,   0,   0,   0,   0,   0,   0,   0,   0,   0,   0,   0,   0,   0,   0,   0,   0,   0,   0,   0,   0,   0,   0,   0,   0,   0],\n       [  0,   0,   0,   0,   0,   0,   0,   0,   0,   0,   0,   0,   0,   0,   0,   0,   0,   0,   0,   0,   0,   0,   0,   0,   0,   0,   0,   0],\n       [  0,   0,   0,   0,   0,   0,   0,   0,   0,   0,   0,   0,   0,   0,   0,   0,   0,   0,   0,   0,   0,   0,   0,   0,   0,   0,   0,   0],\n       [  0,   0,   0,   0,   0,   0,   0,   0,   0,   0,   0,   0,   0,   0,   0,   0,   0,   0,   0,   0,   0,   0,   0,   0,   0,   0,   0,   0],\n       [  0,   0,   0,   0,   0,   0,   0,   0, 127, 100, 156, 239, 224, 177, 213, 159,  70,  13,   0,   0,   0,   0,   0,   0,   0,   0,   0,   0],\n       [  0,   0,   0,   0,   0,   0,   0, 110, 250, 254, 254, 254, 254, 254, 254, 254, 254, 184,  10,   0,   0,   0,   0,   0,   0,   0,   0,   0],\n       [  0,   0,   0,   0,   0,   0,   0, 216, 254, 254, 254, 254, 254, 254, 254, 254, 254, 251,  54,   0,   0,   0,   0,   0,   0,   0,   0,   0],\n       [  0,   0,   0,   0,   0,   0,   0,   3, 131, 197,  68, 137, 101,  83,  41,  70, 221, 254, 108,   0,   0,   0,   0,   0,   0,   0,   0,   0],\n       [  0,   0,   0,   0,   0,   0,   0,   0,   0,   0,   0,   0,   0,   0,   0,   0,  58, 254, 216,  11,   0,   0,   0,   0,   0,   0,   0,   0],\n       [  0,   0,   0,   0,   0,   0,   0,   0,   0,   0,   0,   0,   0,   0,   0,   0, 110, 254, 254,  24,   0,   0,   0,   0,   0,   0,   0,   0],\n       [  0,   0,   0,   0,   0,   0,   0,   0,   0,   0,   0,   0,   0,   0,   4,  83, 247, 254, 192,  10,   0,   0,   0,   0,   0,   0,   0,   0],\n       [  0,   0,   0,   0,   0,   0,   0,   0,   0,   0,   0,   0,   0,  37, 124, 254, 254, 250,  47,   0,   0,   0,   0,   0,   0,   0,   0,   0],\n       [  0,   0,   0,   0,   0,   0,   0,   0,   0,   0,   0, 113, 178, 250, 254, 254, 254, 252, 178, 128,  50,   0,   0,   0,   0,   0,   0,   0],\n       [  0,   0,   0,   0,   0,   0,   0,   0,   0,   0,  69, 252, 254, 254, 254, 254, 254, 254, 254, 254, 153,   0,   0,   0,   0,   0,   0,   0],\n       [  0,   0,   0,   0,   0,   0,   0,   0,   0,   0, 141, 252, 254, 241, 241, 254, 247, 252, 254, 254, 153,   0,   0,   0,   0,   0,   0,   0],\n       [  0,   0,   0,   0,   0,   0,   0,   0,   0,   0,   0,  68,  82,   5,   5,  82,  37,  65, 167, 254, 190,   0,   0,   0,   0,   0,   0,   0],\n       [  0,   0,   0,   0,   0,   0,   0,   0,   0,   0,   0,   0,   0,   0,   0,   0,   0,   0, 162, 254, 153,   0,   0,   0,   0,   0,   0,   0],\n       [  0,   0,   0,   0,   0,   0,   0,   0,   0,   0,   0,   0,   0,   0,   0,   0,   0,   1, 172, 253,  75,   0,   0,   0,   0,   0,   0,   0],\n       [  0,   0,   0,   0,   0,   0,   0,   0,   0,   0,   0,   0,   0,   0,   0,   0,   0, 102, 254, 152,   0,   0,   0,   0,   0,   0,   0,   0],\n       [  0,   0,   0,   0,   0,   0,   0,   0,   0,   0,   0,   0,   0,   0,   0,   0,  38, 230, 216,  20,   0,   0,   0,   0,   0,   0,   0,   0],\n       [  0,   0,   0,   0,   0,   0,   0,   0,   0,   0,   0,   0,   0,   0,   1,  71, 222, 254, 142,   0,   0,   0,   0,   0,   0,   0,   0,   0],\n       [  0,   0,   0,   0,   0,   0,   0,   0,   0,   0,   0,   0,   0,   0,  66, 254, 254, 157,   0,   0,   0,   0,   0,   0,   0,   0,   0,   0],\n       [  0,   0,   0,   0,   0,   0,   0,   0,   4,  34,  34,  78, 161, 226, 249, 254, 154,   6,   0,   0,   0,   0,   0,   0,   0,   0,   0,   0],\n       [  0,   0,   0,   0,   0,   0,   0,  96, 184, 254, 254, 254, 254, 254, 249,  93,   5,   0,   0,   0,   0,   0,   0,   0,   0,   0,   0,   0],\n       [  0,   0,   0,   0,   0,   0,   0,   0,   0,   0,   0,   0,   0,   0,   0,   0,   0,   0,   0,   0,   0,   0,   0,   0,   0,   0,   0,   0],\n       [  0,   0,   0,   0,   0,   0,   0,   0,   0,   0,   0,   0,   0,   0,   0,   0,   0,   0,   0,   0,   0,   0,   0,   0,   0,   0,   0,   0]], dtype=uint8)"
     },
     "execution_count": 5,
     "metadata": {},
     "output_type": "execute_result"
    }
   ],
   "source": [
    "# Output example #2917 of the training set.\n",
    "x_train[2917]"
   ]
  },
  {
   "cell_type": "markdown",
   "id": "3a557353",
   "metadata": {},
   "source": [
    "Alternatively, you can call `matplotlib.pyplot.imshow` to interpret the preceding numeric array as an image. "
   ]
  },
  {
   "cell_type": "code",
   "execution_count": 6,
   "id": "305f6fa4",
   "metadata": {
    "ExecuteTime": {
     "end_time": "2024-02-29T17:54:14.837410Z",
     "start_time": "2024-02-29T17:54:14.729980Z"
    }
   },
   "outputs": [
    {
     "data": {
      "text/plain": "<matplotlib.image.AxesImage at 0x1d0cd5df010>"
     },
     "execution_count": 6,
     "metadata": {},
     "output_type": "execute_result"
    },
    {
     "data": {
      "text/plain": "<Figure size 640x480 with 1 Axes>",
      "image/png": "[encoded data removed]"
     },
     "metadata": {},
     "output_type": "display_data"
    }
   ],
   "source": [
    "# Use false colors to visualize the array.\n",
    "plt.imshow(x_train[2917])"
   ]
  },
  {
   "cell_type": "code",
   "execution_count": 7,
   "id": "bb63c643",
   "metadata": {
    "ExecuteTime": {
     "end_time": "2024-02-29T17:54:14.853414Z",
     "start_time": "2024-02-29T17:54:14.838496Z"
    }
   },
   "outputs": [
    {
     "data": {
      "text/plain": "array([  0,   0,   0,   0,   0,   0,   0,   0,   0,   0,   0,   0,   0,   0,   0,   0,  58, 254, 216,  11,   0,   0,   0,   0,   0,   0,   0,   0], dtype=uint8)"
     },
     "execution_count": 7,
     "metadata": {},
     "output_type": "execute_result"
    }
   ],
   "source": [
    "# Output row #10 of example #2917.\n",
    "x_train[2917][10]"
   ]
  },
  {
   "cell_type": "code",
   "execution_count": 8,
   "id": "4c83a559",
   "metadata": {
    "ExecuteTime": {
     "end_time": "2024-02-29T17:54:14.868860Z",
     "start_time": "2024-02-29T17:54:14.854572Z"
    }
   },
   "outputs": [
    {
     "data": {
      "text/plain": "58"
     },
     "execution_count": 8,
     "metadata": {},
     "output_type": "execute_result"
    }
   ],
   "source": [
    "# Output pixel #16 of row #10 of example #2900.\n",
    "x_train[2917][10][16]"
   ]
  },
  {
   "cell_type": "markdown",
   "id": "a4cfd603",
   "metadata": {},
   "source": [
    "## Task 1: Normalize feature values\n",
    "\n",
    "Complete the following code cell to map each feature value from its current representation (an integer between 0 and 255) to a floating-point value between 0 and 1.0. Store the floating-point values in `x_train_normalized` and `x_test_normalized`."
   ]
  },
  {
   "cell_type": "code",
   "execution_count": 9,
   "id": "d3207671",
   "metadata": {
    "ExecuteTime": {
     "end_time": "2024-02-29T17:54:14.977174Z",
     "start_time": "2024-02-29T17:54:14.869855Z"
    }
   },
   "outputs": [
    {
     "name": "stdout",
     "output_type": "stream",
     "text": [
      "[0.         0.         0.         0.         0.         0.         0.         0.55294118 1.         0.66666667 0.11372549 0.         0.         0.         0.         0.         0.         0.\n",
      " 0.         0.         0.         0.         0.         0.         0.         0.         0.         0.        ]\n"
     ]
    }
   ],
   "source": [
    "#@title Double-click to see a solution to Task 1. \n",
    "\n",
    "x_train_normalized = x_train / 255.0\n",
    "x_test_normalized = x_test / 255.0\n",
    "print(x_train_normalized[2900][10]) # Output a normalized row"
   ]
  },
  {
   "cell_type": "markdown",
   "id": "2a7aa86c",
   "metadata": {},
   "source": [
    "## Define a plotting function\n",
    "\n",
    "The following function plots an accuracy curve:"
   ]
  },
  {
   "cell_type": "code",
   "execution_count": 10,
   "id": "b236e1cc",
   "metadata": {
    "ExecuteTime": {
     "end_time": "2024-02-29T17:54:14.993313Z",
     "start_time": "2024-02-29T17:54:14.978343Z"
    }
   },
   "outputs": [
    {
     "name": "stdout",
     "output_type": "stream",
     "text": [
      "Loaded the plot_curve function.\n"
     ]
    }
   ],
   "source": [
    "#@title Define the plotting function\n",
    "def plot_curve(epochs, hist, list_of_metrics):\n",
    "  \"\"\"Plot a curve of one or more classification metrics vs. epoch.\"\"\"  \n",
    "  # list_of_metrics should be one of the names shown in:\n",
    "  # https://www.tensorflow.org/tutorials/structured_data/imbalanced_data#define_the_model_and_metrics  \n",
    "\n",
    "  plt.figure()\n",
    "  plt.xlabel(\"Epoch\")\n",
    "  plt.ylabel(\"Value\")\n",
    "\n",
    "  for m in list_of_metrics:\n",
    "    x = hist[m]\n",
    "    plt.plot(epochs[1:], x[1:], label=m)\n",
    "\n",
    "  plt.legend()\n",
    "\n",
    "print(\"Loaded the plot_curve function.\")"
   ]
  },
  {
   "cell_type": "markdown",
   "id": "38c553a2",
   "metadata": {},
   "source": [
    "\n",
    "#@title Define the plotting function\n",
    "def plot_curve(epochs, hist, list_of_metrics):\n",
    "  \"\"\"Plot a curve of one or more classification metrics vs. epoch.\"\"\"  \n",
    "  # list_of_metrics should be one of the names shown in:\n",
    "  # https://www.tensorflow.org/tutorials/structured_data/imbalanced_data#define_the_model_and_metrics  \n",
    "\n",
    "  plt.figure()\n",
    "  plt.xlabel(\"Epoch\")\n",
    "  plt.ylabel(\"Value\")\n",
    "\n",
    "  for m in list_of_metrics:\n",
    "    x = hist[m]\n",
    "    plt.plot(epochs[1:], x[1:], label=m)\n",
    "\n",
    "  plt.legend()\n",
    "\n",
    "print(\"Loaded the plot_curve function.\")"
   ]
  },
  {
   "cell_type": "code",
   "execution_count": 11,
   "id": "398bcd65",
   "metadata": {
    "ExecuteTime": {
     "end_time": "2024-02-29T17:54:15.008612Z",
     "start_time": "2024-02-29T17:54:14.994315Z"
    }
   },
   "outputs": [],
   "source": [
    "def create_model(my_learning_rate):\n",
    "  \"\"\"Create and compile a deep neural net.\"\"\"\n",
    "  \n",
    "  # All models in this course are sequential.\n",
    "  model = tf.keras.models.Sequential()\n",
    "\n",
    "  # The features are stored in a two-dimensional 28X28 array. \n",
    "  # Flatten that two-dimensional array into a a one-dimensional \n",
    "  # 784-element array.\n",
    "  model.add(tf.keras.layers.Flatten(input_shape=(28, 28)))\n",
    "\n",
    "  # Define the first hidden layer.   \n",
    "  model.add(tf.keras.layers.Dense(units=32, activation='relu'))\n",
    "  \n",
    "  # Define a dropout regularization layer. \n",
    "  model.add(tf.keras.layers.Dropout(rate=0.2))\n",
    "\n",
    "  # Define the output layer. The units parameter is set to 10 because\n",
    "  # the model must choose among 10 possible output values (representing\n",
    "  # the digits from 0 to 9, inclusive).\n",
    "  #\n",
    "  # Don't change this layer.\n",
    "  model.add(tf.keras.layers.Dense(units=10, activation='softmax'))     \n",
    "                           \n",
    "  # Construct the layers into a model that TensorFlow can execute.  \n",
    "  # Notice that the loss function for multi-class classification\n",
    "  # is different than the loss function for binary classification.  \n",
    "  model.compile(optimizer=tf.keras.optimizers.Adam(learning_rate=my_learning_rate),\n",
    "                loss=\"sparse_categorical_crossentropy\",\n",
    "                metrics=['accuracy'])\n",
    "  \n",
    "  return model    \n",
    "\n",
    "\n",
    "def train_model(model, train_features, train_label, epochs, batch_size=None, validation_split=0.1):\n",
    "  \"\"\"Train the model by feeding it data.\"\"\"\n",
    "\n",
    "  history = model.fit(x=train_features, y=train_label, batch_size=batch_size, epochs=epochs, shuffle=True, validation_split=validation_split)\n",
    " \n",
    "  # To track the progression of training, gather a snapshot\n",
    "  # of the model's metrics at each epoch. \n",
    "  epochs = history.epoch\n",
    "  hist = pd.DataFrame(history.history)\n",
    "\n",
    "  return epochs, hist    "
   ]
  },
  {
   "cell_type": "markdown",
   "id": "6158ad5f",
   "metadata": {},
   "source": [
    "## Invoke the previous functions\n",
    "\n",
    "Run the following code cell to invoke the preceding functions and actually train the model on the training set. \n",
    "\n",
    "**Note:** Due to several factors (for example, more examples and a more complex neural network) training MNIST might take longer than training the California Housing Dataset. Be patient."
   ]
  },
  {
   "cell_type": "code",
   "execution_count": 12,
   "id": "3d6bf6e9",
   "metadata": {
    "ExecuteTime": {
     "end_time": "2024-02-29T17:54:20.520093Z",
     "start_time": "2024-02-29T17:54:15.009609Z"
    }
   },
   "outputs": [
    {
     "name": "stdout",
     "output_type": "stream",
     "text": [
      "WARNING:tensorflow:From C:\\Java\\Python3.10.8\\lib\\site-packages\\keras\\src\\backend.py:873: The name tf.get_default_graph is deprecated. Please use tf.compat.v1.get_default_graph instead.\n",
      "Epoch 1/50\n",
      "WARNING:tensorflow:From C:\\Java\\Python3.10.8\\lib\\site-packages\\keras\\src\\utils\\tf_utils.py:492: The name tf.ragged.RaggedTensorValue is deprecated. Please use tf.compat.v1.ragged.RaggedTensorValue instead.\n",
      "WARNING:tensorflow:From C:\\Java\\Python3.10.8\\lib\\site-packages\\keras\\src\\engine\\base_layer_utils.py:384: The name tf.executing_eagerly_outside_functions is deprecated. Please use tf.compat.v1.executing_eagerly_outside_functions instead.\n",
      "12/12 [==============================] - 1s 17ms/step - loss: 1.7922 - accuracy: 0.4324 - val_loss: 1.0907 - val_accuracy: 0.7463\n",
      "Epoch 2/50\n",
      "12/12 [==============================] - 0s 8ms/step - loss: 0.9678 - accuracy: 0.7229 - val_loss: 0.5874 - val_accuracy: 0.8581\n",
      "Epoch 3/50\n",
      "12/12 [==============================] - 0s 8ms/step - loss: 0.6759 - accuracy: 0.8013 - val_loss: 0.4389 - val_accuracy: 0.8892\n",
      "Epoch 4/50\n",
      "12/12 [==============================] - 0s 8ms/step - loss: 0.5520 - accuracy: 0.8376 - val_loss: 0.3766 - val_accuracy: 0.9027\n",
      "Epoch 5/50\n",
      "12/12 [==============================] - 0s 8ms/step - loss: 0.4858 - accuracy: 0.8585 - val_loss: 0.3364 - val_accuracy: 0.9114\n",
      "Epoch 6/50\n",
      "12/12 [==============================] - 0s 8ms/step - loss: 0.4462 - accuracy: 0.8691 - val_loss: 0.3111 - val_accuracy: 0.9177\n",
      "Epoch 7/50\n",
      "12/12 [==============================] - 0s 9ms/step - loss: 0.4086 - accuracy: 0.8814 - val_loss: 0.2903 - val_accuracy: 0.9220\n",
      "Epoch 8/50\n",
      "12/12 [==============================] - 0s 8ms/step - loss: 0.3852 - accuracy: 0.8887 - val_loss: 0.2759 - val_accuracy: 0.9240\n",
      "Epoch 9/50\n",
      "12/12 [==============================] - 0s 7ms/step - loss: 0.3705 - accuracy: 0.8918 - val_loss: 0.2643 - val_accuracy: 0.9276\n",
      "Epoch 10/50\n",
      "12/12 [==============================] - 0s 7ms/step - loss: 0.3533 - accuracy: 0.8965 - val_loss: 0.2557 - val_accuracy: 0.9295\n",
      "Epoch 11/50\n",
      "12/12 [==============================] - 0s 7ms/step - loss: 0.3416 - accuracy: 0.8995 - val_loss: 0.2462 - val_accuracy: 0.9321\n",
      "Epoch 12/50\n",
      "12/12 [==============================] - 0s 7ms/step - loss: 0.3291 - accuracy: 0.9043 - val_loss: 0.2377 - val_accuracy: 0.9344\n",
      "Epoch 13/50\n",
      "12/12 [==============================] - 0s 7ms/step - loss: 0.3195 - accuracy: 0.9058 - val_loss: 0.2314 - val_accuracy: 0.9354\n",
      "Epoch 14/50\n",
      "12/12 [==============================] - 0s 8ms/step - loss: 0.3095 - accuracy: 0.9096 - val_loss: 0.2251 - val_accuracy: 0.9370\n",
      "Epoch 15/50\n",
      "12/12 [==============================] - 0s 7ms/step - loss: 0.3013 - accuracy: 0.9111 - val_loss: 0.2179 - val_accuracy: 0.9390\n",
      "Epoch 16/50\n",
      "12/12 [==============================] - 0s 7ms/step - loss: 0.2984 - accuracy: 0.9111 - val_loss: 0.2159 - val_accuracy: 0.9397\n",
      "Epoch 17/50\n",
      "12/12 [==============================] - 0s 8ms/step - loss: 0.2894 - accuracy: 0.9154 - val_loss: 0.2101 - val_accuracy: 0.9413\n",
      "Epoch 18/50\n",
      "12/12 [==============================] - 0s 7ms/step - loss: 0.2799 - accuracy: 0.9185 - val_loss: 0.2048 - val_accuracy: 0.9425\n",
      "Epoch 19/50\n",
      "12/12 [==============================] - 0s 8ms/step - loss: 0.2773 - accuracy: 0.9182 - val_loss: 0.2039 - val_accuracy: 0.9433\n",
      "Epoch 20/50\n",
      "12/12 [==============================] - 0s 8ms/step - loss: 0.2741 - accuracy: 0.9200 - val_loss: 0.1981 - val_accuracy: 0.9441\n",
      "Epoch 21/50\n",
      "12/12 [==============================] - 0s 8ms/step - loss: 0.2649 - accuracy: 0.9211 - val_loss: 0.1945 - val_accuracy: 0.9446\n",
      "Epoch 22/50\n",
      "12/12 [==============================] - 0s 7ms/step - loss: 0.2614 - accuracy: 0.9225 - val_loss: 0.1906 - val_accuracy: 0.9458\n",
      "Epoch 23/50\n",
      "12/12 [==============================] - 0s 8ms/step - loss: 0.2599 - accuracy: 0.9233 - val_loss: 0.1885 - val_accuracy: 0.9463\n",
      "Epoch 24/50\n",
      "12/12 [==============================] - 0s 7ms/step - loss: 0.2542 - accuracy: 0.9247 - val_loss: 0.1862 - val_accuracy: 0.9463\n",
      "Epoch 25/50\n",
      "12/12 [==============================] - 0s 7ms/step - loss: 0.2489 - accuracy: 0.9277 - val_loss: 0.1841 - val_accuracy: 0.9463\n",
      "Epoch 26/50\n",
      "12/12 [==============================] - 0s 7ms/step - loss: 0.2448 - accuracy: 0.9265 - val_loss: 0.1822 - val_accuracy: 0.9481\n",
      "Epoch 27/50\n",
      "12/12 [==============================] - 0s 8ms/step - loss: 0.2406 - accuracy: 0.9282 - val_loss: 0.1785 - val_accuracy: 0.9501\n",
      "Epoch 28/50\n",
      "12/12 [==============================] - 0s 8ms/step - loss: 0.2396 - accuracy: 0.9290 - val_loss: 0.1768 - val_accuracy: 0.9507\n",
      "Epoch 29/50\n",
      "12/12 [==============================] - 0s 7ms/step - loss: 0.2358 - accuracy: 0.9298 - val_loss: 0.1746 - val_accuracy: 0.9504\n",
      "Epoch 30/50\n",
      "12/12 [==============================] - 0s 8ms/step - loss: 0.2327 - accuracy: 0.9297 - val_loss: 0.1728 - val_accuracy: 0.9514\n",
      "Epoch 31/50\n",
      "12/12 [==============================] - 0s 8ms/step - loss: 0.2301 - accuracy: 0.9301 - val_loss: 0.1724 - val_accuracy: 0.9513\n",
      "Epoch 32/50\n",
      "12/12 [==============================] - 0s 8ms/step - loss: 0.2255 - accuracy: 0.9320 - val_loss: 0.1692 - val_accuracy: 0.9525\n",
      "Epoch 33/50\n",
      "12/12 [==============================] - 0s 7ms/step - loss: 0.2256 - accuracy: 0.9320 - val_loss: 0.1689 - val_accuracy: 0.9526\n",
      "Epoch 34/50\n",
      "12/12 [==============================] - 0s 7ms/step - loss: 0.2248 - accuracy: 0.9315 - val_loss: 0.1666 - val_accuracy: 0.9535\n",
      "Epoch 35/50\n",
      "12/12 [==============================] - 0s 7ms/step - loss: 0.2206 - accuracy: 0.9331 - val_loss: 0.1659 - val_accuracy: 0.9544\n",
      "Epoch 36/50\n",
      "12/12 [==============================] - 0s 8ms/step - loss: 0.2163 - accuracy: 0.9348 - val_loss: 0.1640 - val_accuracy: 0.9539\n",
      "Epoch 37/50\n",
      "12/12 [==============================] - 0s 8ms/step - loss: 0.2172 - accuracy: 0.9332 - val_loss: 0.1629 - val_accuracy: 0.9552\n",
      "Epoch 38/50\n",
      "12/12 [==============================] - 0s 8ms/step - loss: 0.2159 - accuracy: 0.9351 - val_loss: 0.1624 - val_accuracy: 0.9548\n",
      "Epoch 39/50\n",
      "12/12 [==============================] - 0s 7ms/step - loss: 0.2134 - accuracy: 0.9357 - val_loss: 0.1611 - val_accuracy: 0.9548\n",
      "Epoch 40/50\n",
      "12/12 [==============================] - 0s 7ms/step - loss: 0.2126 - accuracy: 0.9357 - val_loss: 0.1594 - val_accuracy: 0.9554\n",
      "Epoch 41/50\n",
      "12/12 [==============================] - 0s 8ms/step - loss: 0.2082 - accuracy: 0.9361 - val_loss: 0.1597 - val_accuracy: 0.9553\n",
      "Epoch 42/50\n",
      "12/12 [==============================] - 0s 7ms/step - loss: 0.2069 - accuracy: 0.9366 - val_loss: 0.1591 - val_accuracy: 0.9560\n",
      "Epoch 43/50\n",
      "12/12 [==============================] - 0s 7ms/step - loss: 0.2067 - accuracy: 0.9367 - val_loss: 0.1577 - val_accuracy: 0.9555\n",
      "Epoch 44/50\n",
      "12/12 [==============================] - 0s 8ms/step - loss: 0.2046 - accuracy: 0.9373 - val_loss: 0.1576 - val_accuracy: 0.9565\n",
      "Epoch 45/50\n",
      "12/12 [==============================] - 0s 8ms/step - loss: 0.2014 - accuracy: 0.9384 - val_loss: 0.1560 - val_accuracy: 0.9562\n",
      "Epoch 46/50\n",
      "12/12 [==============================] - 0s 8ms/step - loss: 0.1986 - accuracy: 0.9391 - val_loss: 0.1554 - val_accuracy: 0.9573\n",
      "Epoch 47/50\n",
      "12/12 [==============================] - 0s 8ms/step - loss: 0.1971 - accuracy: 0.9395 - val_loss: 0.1534 - val_accuracy: 0.9575\n",
      "Epoch 48/50\n",
      "12/12 [==============================] - 0s 8ms/step - loss: 0.1945 - accuracy: 0.9411 - val_loss: 0.1533 - val_accuracy: 0.9576\n",
      "Epoch 49/50\n",
      "12/12 [==============================] - 0s 7ms/step - loss: 0.1952 - accuracy: 0.9402 - val_loss: 0.1531 - val_accuracy: 0.9573\n",
      "Epoch 50/50\n",
      "12/12 [==============================] - 0s 7ms/step - loss: 0.1928 - accuracy: 0.9408 - val_loss: 0.1515 - val_accuracy: 0.9578\n",
      "\n",
      " Evaluate the new model against the test set:\n",
      "3/3 [==============================] - 0s 3ms/step - loss: 0.1496 - accuracy: 0.9560\n"
     ]
    },
    {
     "data": {
      "text/plain": "[0.14962589740753174, 0.9559999704360962]"
     },
     "execution_count": 12,
     "metadata": {},
     "output_type": "execute_result"
    },
    {
     "data": {
      "text/plain": "<Figure size 640x480 with 1 Axes>",
      "image/png": "[encoded data removed]"
     },
     "metadata": {},
     "output_type": "display_data"
    }
   ],
   "source": [
    "# The following variables are the hyperparameters.\n",
    "learning_rate = 0.003\n",
    "epochs = 50\n",
    "batch_size = 4000\n",
    "validation_split = 0.2\n",
    "\n",
    "# Establish the model's topography.\n",
    "my_model = create_model(learning_rate)\n",
    "\n",
    "# Train the model on the normalized training set.\n",
    "epochs, hist = train_model(my_model, x_train_normalized, y_train, epochs, batch_size, validation_split)\n",
    "\n",
    "# Plot a graph of the metric vs. epochs.\n",
    "list_of_metrics_to_plot = ['accuracy']\n",
    "plot_curve(epochs, hist, list_of_metrics_to_plot)\n",
    "\n",
    "# Evaluate against the test set.\n",
    "print(\"\\n Evaluate the new model against the test set:\")\n",
    "my_model.evaluate(x=x_test_normalized, y=y_test, batch_size=batch_size)"
   ]
  },
  {
   "cell_type": "markdown",
   "id": "1306fef6",
   "metadata": {},
   "source": [
    "## Task 2: Optimize the model\n",
    "\n",
    "Experiment with the following:\n",
    "\n",
    "* number of hidden layers \n",
    "* number of nodes in each layer\n",
    "* dropout regularization rate\n",
    "\n",
    "What trends did you discover?  Can you reach at least 98% accuracy against the test set? \n",
    "\n",
    "\n"
   ]
  },
  {
   "cell_type": "code",
   "execution_count": 13,
   "id": "0a0cc458",
   "metadata": {
    "ExecuteTime": {
     "end_time": "2024-02-29T17:54:20.536108Z",
     "start_time": "2024-02-29T17:54:20.521008Z"
    }
   },
   "outputs": [],
   "source": [
    "#@title Double-click to view some possible answers.\n",
    "\n",
    "# It would take much too long to experiment \n",
    "# fully with topography and dropout regularization \n",
    "# rate. In the real world, you would\n",
    "# also experiment with learning rate, batch size, \n",
    "# and number of epochs.  Since you only have a \n",
    "# few minutes, searching for trends can be helpful.\n",
    "# Here is what we discovered:\n",
    "#   * Adding more nodes (at least until 256 nodes) \n",
    "#     to the first hidden layer improved accuracy.\n",
    "#   * Adding a second hidden layer generally \n",
    "#     improved accuracy.\n",
    "#   * When the model contains a lot of nodes, \n",
    "#     the model overfits unless the dropout rate \n",
    "#     is at least 0.5. \n",
    "\n",
    "# We reached 98% test accuracy with the \n",
    "# following configuration:\n",
    "#   * One hidden layer of 256 nodes; no second \n",
    "#     hidden layer.\n",
    "#   * dropout regularization rate of 0.4\n",
    "\n",
    "# We reached 98.2% test accuracy with the \n",
    "# following configuration:\n",
    "#   * First hidden layer of 256 nodes; \n",
    "#     second hidden layer of 128 nodes.\n",
    "#   * dropout regularization rate of 0.2\n"
   ]
  },
  {
   "cell_type": "code",
   "execution_count": 13,
   "id": "6a7653ac",
   "metadata": {
    "ExecuteTime": {
     "end_time": "2024-02-29T17:54:20.551662Z",
     "start_time": "2024-02-29T17:54:20.537114Z"
    }
   },
   "outputs": [],
   "source": []
  }
 ],
 "metadata": {
  "kernelspec": {
   "display_name": "Python 3 (ipykernel)",
   "language": "python",
   "name": "python3"
  },
  "language_info": {
   "codemirror_mode": {
    "name": "ipython",
    "version": 3
   },
   "file_extension": ".py",
   "mimetype": "text/x-python",
   "name": "python",
   "nbconvert_exporter": "python",
   "pygments_lexer": "ipython3",
   "version": "3.9.5"
  }
 },
 "nbformat": 4,
 "nbformat_minor": 5
}
