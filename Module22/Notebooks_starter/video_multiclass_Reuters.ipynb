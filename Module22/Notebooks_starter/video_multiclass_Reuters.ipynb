{
 "cells": [
  {
   "cell_type": "code",
   "execution_count": 29,
   "id": "cfa2c620",
   "metadata": {
    "ExecuteTime": {
     "end_time": "2024-02-29T16:50:04.152763Z",
     "start_time": "2024-02-29T16:50:04.143445Z"
    }
   },
   "outputs": [],
   "source": [
    "import copy\n",
    "import numpy as np\n",
    "import matplotlib.pyplot as plt\n",
    "from tensorflow.keras.datasets import reuters\n",
    "from tensorflow.keras.utils import to_categorical\n",
    "from tensorflow import keras\n",
    "from tensorflow.keras import layers\n",
    "import warnings\n",
    "warnings.filterwarnings(\"ignore\")"
   ]
  },
  {
   "cell_type": "markdown",
   "id": "bdbce4e0",
   "metadata": {},
   "source": [
    "+ classify Reuters newswires into 6 mutually exclusive topics\n",
    "+ instance of single-label multiclass classification. If each data point could belong to multiple categories (in this case, topics), we’d be facing a multilabel multiclass classification problem."
   ]
  },
  {
   "cell_type": "markdown",
   "id": "81b15fa9",
   "metadata": {},
   "source": [
    "## Reuters dataset"
   ]
  },
  {
   "cell_type": "markdown",
   "id": "1b7642db",
   "metadata": {},
   "source": [
    "+ set of short newswires and their topics, published by Reuters in 1986"
   ]
  },
  {
   "cell_type": "code",
   "execution_count": 30,
   "id": "4795fdda",
   "metadata": {
    "ExecuteTime": {
     "end_time": "2024-02-29T16:50:04.557640Z",
     "start_time": "2024-02-29T16:50:04.240244Z"
    }
   },
   "outputs": [],
   "source": [
    "(train_data, train_labels), (test_data, test_labels) = reuters.load_data(num_words=10000)"
   ]
  },
  {
   "cell_type": "code",
   "execution_count": 31,
   "id": "47f9c76d",
   "metadata": {
    "ExecuteTime": {
     "end_time": "2024-02-29T16:50:04.573588Z",
     "start_time": "2024-02-29T16:50:04.557640Z"
    }
   },
   "outputs": [
    {
     "data": {
      "text/plain": "(8982, numpy.ndarray, list, 87)"
     },
     "execution_count": 31,
     "metadata": {},
     "output_type": "execute_result"
    }
   ],
   "source": [
    "len(train_data), type(train_data), type(train_data[0]), len(train_data[0])"
   ]
  },
  {
   "cell_type": "code",
   "execution_count": 32,
   "id": "aaea610e",
   "metadata": {
    "ExecuteTime": {
     "end_time": "2024-02-29T16:50:04.589438Z",
     "start_time": "2024-02-29T16:50:04.574584Z"
    }
   },
   "outputs": [
    {
     "data": {
      "text/plain": "(2246, numpy.ndarray, list, 145)"
     },
     "execution_count": 32,
     "metadata": {},
     "output_type": "execute_result"
    }
   ],
   "source": [
    "len(test_data), type(test_data), type(test_data[0]), len(test_data[0])"
   ]
  },
  {
   "cell_type": "markdown",
   "id": "34a258dc",
   "metadata": {},
   "source": [
    "## Decode it back to words"
   ]
  },
  {
   "cell_type": "code",
   "execution_count": 33,
   "id": "9c9af814",
   "metadata": {
    "ExecuteTime": {
     "end_time": "2024-02-29T16:50:04.621280Z",
     "start_time": "2024-02-29T16:50:04.593109Z"
    }
   },
   "outputs": [],
   "source": [
    "word_index = reuters.get_word_index()\n",
    "reverse_word_index = dict([(value, key) for (key, value) in word_index.items()])"
   ]
  },
  {
   "cell_type": "code",
   "execution_count": 34,
   "id": "1af88ee3",
   "metadata": {
    "ExecuteTime": {
     "end_time": "2024-02-29T16:50:04.637507Z",
     "start_time": "2024-02-29T16:50:04.622720Z"
    }
   },
   "outputs": [],
   "source": [
    "decoded_newswire = \" \".join([reverse_word_index.get(i - 3, \"?\") for i in     train_data[0]])"
   ]
  },
  {
   "cell_type": "code",
   "execution_count": 35,
   "id": "bfb29247",
   "metadata": {
    "ExecuteTime": {
     "end_time": "2024-02-29T16:50:04.653729Z",
     "start_time": "2024-02-29T16:50:04.638812Z"
    }
   },
   "outputs": [
    {
     "data": {
      "text/plain": "'? ? ? said as a result of its december acquisition of space co it expects earnings per share in 1987 of 1 15 to 1 30 dlrs per share up from 70 cts in 1986 the company said pretax net should rise to nine to 10 mln dlrs from six mln dlrs in 1986 and rental operation revenues to 19 to 22 mln dlrs from 12 5 mln dlrs it said cash flow per share this year should be 2 50 to three dlrs reuter 3'"
     },
     "execution_count": 35,
     "metadata": {},
     "output_type": "execute_result"
    }
   ],
   "source": [
    "decoded_newswire"
   ]
  },
  {
   "cell_type": "markdown",
   "id": "3be333f6",
   "metadata": {},
   "source": [
    "\n",
    "\n",
    "The label associated with an example is an integer between 0 and 45—a topic index:\n"
   ]
  },
  {
   "cell_type": "code",
   "execution_count": 36,
   "id": "3d10d323",
   "metadata": {
    "ExecuteTime": {
     "end_time": "2024-02-29T16:50:04.668953Z",
     "start_time": "2024-02-29T16:50:04.654952Z"
    }
   },
   "outputs": [
    {
     "data": {
      "text/plain": "3"
     },
     "execution_count": 36,
     "metadata": {},
     "output_type": "execute_result"
    }
   ],
   "source": [
    "train_labels[10]"
   ]
  },
  {
   "cell_type": "markdown",
   "id": "0f30c337",
   "metadata": {},
   "source": [
    "## Preparing the data\n",
    "You can’t directly feed lists of integers into a neural network. They all have different lengths, but a neural network expects to process contiguous batches of data. You have to turn your lists into tensors. There are two ways to do that:\n",
    "\n",
    "+ Pad your lists so that they all have the same length, turn them into an integer tensor of shape (samples, max_length), and start your model with a layer capable of handling such integer tensors (the Embedding layer, which we’ll cover in detail later in the book).\n",
    " \n",
    "+ Multi-hot encode your lists to turn them into vectors of 0s and 1s. This would mean, for instance, turning the sequence [8, 5] into a 10,000-dimensional vector that would be all 0s except for indices 8 and 5, which would be 1s. Then you could use a Dense layer, capable of handling floating-point vector data, as the first layer in your model.\n",
    "\n",
    "Let’s go with the latter solution to vectorize the data, which you’ll do manually for maximum clarity.\n"
   ]
  },
  {
   "cell_type": "code",
   "execution_count": 37,
   "id": "615de17a",
   "metadata": {
    "ExecuteTime": {
     "end_time": "2024-02-29T16:50:04.684605Z",
     "start_time": "2024-02-29T16:50:04.668953Z"
    }
   },
   "outputs": [],
   "source": [
    "def vectorize_sequences(sequences, dimension=10000): \n",
    "    results = np.zeros((len(sequences), dimension))\n",
    "    for i, sequence in enumerate(sequences):\n",
    "        for j in sequence:\n",
    "            results[i, j] = 1.\n",
    "    return results\n"
   ]
  },
  {
   "cell_type": "code",
   "execution_count": 38,
   "id": "6ba1f208",
   "metadata": {
    "ExecuteTime": {
     "end_time": "2024-02-29T16:50:04.889479Z",
     "start_time": "2024-02-29T16:50:04.686930Z"
    }
   },
   "outputs": [],
   "source": [
    "x_train = vectorize_sequences(train_data)\n",
    "x_test = vectorize_sequences(test_data)"
   ]
  },
  {
   "cell_type": "markdown",
   "id": "49aef239",
   "metadata": {},
   "source": [
    "To vectorize the labels, there are two possibilities: you can cast the label list as an integer tensor, or you can use one-hot encoding. One-hot encoding is a widely used format for categorical data, also called categorical encoding. In this case, one-hot encoding of the labels consists of embedding each label as an all-zero vector with a 1 in the place of the label index. The following listing shows an example."
   ]
  },
  {
   "cell_type": "code",
   "execution_count": 39,
   "id": "17aa8b87",
   "metadata": {
    "ExecuteTime": {
     "end_time": "2024-02-29T16:50:04.904619Z",
     "start_time": "2024-02-29T16:50:04.891911Z"
    }
   },
   "outputs": [],
   "source": [
    "def to_one_hot(labels, dimension=46):\n",
    "    results = np.zeros((len(labels), dimension))\n",
    "    for i, label in enumerate(labels):\n",
    "        results[i, label] = 1. \n",
    "    return results"
   ]
  },
  {
   "cell_type": "code",
   "execution_count": 40,
   "id": "197f6650",
   "metadata": {
    "ExecuteTime": {
     "end_time": "2024-02-29T16:50:04.920581Z",
     "start_time": "2024-02-29T16:50:04.905989Z"
    }
   },
   "outputs": [],
   "source": [
    "y_train = to_one_hot(train_labels)\n",
    "y_test = to_one_hot(test_labels)"
   ]
  },
  {
   "cell_type": "markdown",
   "id": "6d3a65d4",
   "metadata": {},
   "source": [
    "Note that there is a built-in way to do this in Keras:"
   ]
  },
  {
   "cell_type": "code",
   "execution_count": 41,
   "id": "a36ae8b2",
   "metadata": {
    "ExecuteTime": {
     "end_time": "2024-02-29T16:50:04.936118Z",
     "start_time": "2024-02-29T16:50:04.922574Z"
    }
   },
   "outputs": [],
   "source": [
    "y_train = to_categorical(train_labels)\n",
    "y_test = to_categorical(test_labels)"
   ]
  },
  {
   "cell_type": "markdown",
   "id": "c048a417",
   "metadata": {},
   "source": [
    "## Building your model"
   ]
  },
  {
   "cell_type": "markdown",
   "id": "48455c6b",
   "metadata": {},
   "source": [
    "In a stack of Dense layers like those we’ve been using, each layer can only access information present in the output of the previous layer. If one layer drops some information relevant to the classification problem, this information can never be recovered by later layers: each layer can potentially become an information bottleneck. In the previous example, we used 16-dimensional intermediate layers, but a 16-dimensional space may be too limited to learn to separate 46 different classes: such small layers may act as information bottlenecks, permanently dropping relevant information.\n",
    "\n",
    "For this reason we’ll use larger layers. Let’s go with 64 units."
   ]
  },
  {
   "cell_type": "code",
   "execution_count": 42,
   "id": "453fbda9",
   "metadata": {
    "ExecuteTime": {
     "end_time": "2024-02-29T16:50:04.951765Z",
     "start_time": "2024-02-29T16:50:04.937187Z"
    }
   },
   "outputs": [],
   "source": [
    "model = keras.Sequential([\n",
    "    layers.Dense(64, activation=\"relu\"),\n",
    "    layers.Dense(64, activation=\"relu\"),\n",
    "    layers.Dense(46, activation=\"softmax\")\n",
    "])"
   ]
  },
  {
   "cell_type": "markdown",
   "id": "0668139e",
   "metadata": {},
   "source": [
    "Note\n",
    "\n",
    "+ output is softmax of size 46. This is for 46 classes\n",
    "+ softmax was introduced with MNIST. This means the output will be probability.\n",
    "+ best loss function for this is categorical_crossentropy\n"
   ]
  },
  {
   "cell_type": "markdown",
   "id": "a025a0d7",
   "metadata": {},
   "source": [
    "### Compile the model"
   ]
  },
  {
   "cell_type": "code",
   "execution_count": 43,
   "id": "1e3c2ea2",
   "metadata": {
    "ExecuteTime": {
     "end_time": "2024-02-29T16:50:05.059691Z",
     "start_time": "2024-02-29T16:50:04.951765Z"
    }
   },
   "outputs": [],
   "source": [
    "model.compile(optimizer=\"rmsprop\",\n",
    "              loss=\"categorical_crossentropy\",\n",
    "              metrics=[\"accuracy\"])"
   ]
  },
  {
   "cell_type": "markdown",
   "id": "4cc9a992",
   "metadata": {},
   "source": [
    "### Validating set"
   ]
  },
  {
   "cell_type": "code",
   "execution_count": 44,
   "id": "d09e134a",
   "metadata": {
    "ExecuteTime": {
     "end_time": "2024-02-29T16:50:05.106457Z",
     "start_time": "2024-02-29T16:50:05.061043Z"
    }
   },
   "outputs": [],
   "source": [
    "x_val = x_train[:1000]\n",
    "partial_x_train = x_train[1000:]\n",
    "y_val = y_train[:1000]\n",
    "partial_y_train = y_train[1000:]"
   ]
  },
  {
   "cell_type": "markdown",
   "id": "bfb7bace",
   "metadata": {},
   "source": [
    "### Train"
   ]
  },
  {
   "cell_type": "code",
   "execution_count": 45,
   "id": "82e0d769",
   "metadata": {
    "ExecuteTime": {
     "end_time": "2024-02-29T16:50:10.097350Z",
     "start_time": "2024-02-29T16:50:05.107461Z"
    }
   },
   "outputs": [
    {
     "name": "stdout",
     "output_type": "stream",
     "text": [
      "Epoch 1/20\n",
      "16/16 [==============================] - 1s 22ms/step - loss: 2.8363 - accuracy: 0.5008 - val_loss: 1.9412 - val_accuracy: 0.6140\n",
      "Epoch 2/20\n",
      "16/16 [==============================] - 0s 14ms/step - loss: 1.5956 - accuracy: 0.6790 - val_loss: 1.4126 - val_accuracy: 0.6830\n",
      "Epoch 3/20\n",
      "16/16 [==============================] - 0s 13ms/step - loss: 1.2068 - accuracy: 0.7261 - val_loss: 1.2189 - val_accuracy: 0.7180\n",
      "Epoch 4/20\n",
      "16/16 [==============================] - 0s 14ms/step - loss: 0.9929 - accuracy: 0.7840 - val_loss: 1.1063 - val_accuracy: 0.7530\n",
      "Epoch 5/20\n",
      "16/16 [==============================] - 0s 14ms/step - loss: 0.8244 - accuracy: 0.8231 - val_loss: 1.0143 - val_accuracy: 0.7960\n",
      "Epoch 6/20\n",
      "16/16 [==============================] - 0s 14ms/step - loss: 0.6890 - accuracy: 0.8548 - val_loss: 0.9589 - val_accuracy: 0.8050\n",
      "Epoch 7/20\n",
      "16/16 [==============================] - 0s 14ms/step - loss: 0.5771 - accuracy: 0.8792 - val_loss: 0.9214 - val_accuracy: 0.8080\n",
      "Epoch 8/20\n",
      "16/16 [==============================] - 0s 13ms/step - loss: 0.4859 - accuracy: 0.8989 - val_loss: 0.9107 - val_accuracy: 0.8160\n",
      "Epoch 9/20\n",
      "16/16 [==============================] - 0s 14ms/step - loss: 0.4088 - accuracy: 0.9137 - val_loss: 0.8937 - val_accuracy: 0.8100\n",
      "Epoch 10/20\n",
      "16/16 [==============================] - 0s 13ms/step - loss: 0.3568 - accuracy: 0.9246 - val_loss: 0.8661 - val_accuracy: 0.8240\n",
      "Epoch 11/20\n",
      "16/16 [==============================] - 0s 13ms/step - loss: 0.3003 - accuracy: 0.9347 - val_loss: 0.9136 - val_accuracy: 0.8120\n",
      "Epoch 12/20\n",
      "16/16 [==============================] - 0s 13ms/step - loss: 0.2664 - accuracy: 0.9415 - val_loss: 0.8925 - val_accuracy: 0.8190\n",
      "Epoch 13/20\n",
      "16/16 [==============================] - 0s 13ms/step - loss: 0.2377 - accuracy: 0.9444 - val_loss: 0.8885 - val_accuracy: 0.8170\n",
      "Epoch 14/20\n",
      "16/16 [==============================] - 0s 14ms/step - loss: 0.2127 - accuracy: 0.9474 - val_loss: 0.8927 - val_accuracy: 0.8160\n",
      "Epoch 15/20\n",
      "16/16 [==============================] - 0s 14ms/step - loss: 0.1940 - accuracy: 0.9499 - val_loss: 0.8923 - val_accuracy: 0.8280\n",
      "Epoch 16/20\n",
      "16/16 [==============================] - 0s 13ms/step - loss: 0.1806 - accuracy: 0.9505 - val_loss: 0.9139 - val_accuracy: 0.8220\n",
      "Epoch 17/20\n",
      "16/16 [==============================] - 0s 14ms/step - loss: 0.1650 - accuracy: 0.9544 - val_loss: 0.9672 - val_accuracy: 0.8130\n",
      "Epoch 18/20\n",
      "16/16 [==============================] - 0s 14ms/step - loss: 0.1548 - accuracy: 0.9548 - val_loss: 0.9713 - val_accuracy: 0.8150\n",
      "Epoch 19/20\n",
      "16/16 [==============================] - 0s 13ms/step - loss: 0.1480 - accuracy: 0.9559 - val_loss: 0.9548 - val_accuracy: 0.8110\n",
      "Epoch 20/20\n",
      "16/16 [==============================] - 0s 13ms/step - loss: 0.1337 - accuracy: 0.9548 - val_loss: 0.9523 - val_accuracy: 0.8190\n"
     ]
    }
   ],
   "source": [
    "history = model.fit(partial_x_train,\n",
    "                    partial_y_train,\n",
    "                    epochs=20,\n",
    "                    batch_size=512,\n",
    "                    validation_data=(x_val, y_val))"
   ]
  },
  {
   "cell_type": "code",
   "execution_count": 46,
   "id": "d0a58339",
   "metadata": {
    "ExecuteTime": {
     "end_time": "2024-02-29T16:50:10.219837Z",
     "start_time": "2024-02-29T16:50:10.098338Z"
    }
   },
   "outputs": [
    {
     "data": {
      "text/plain": "<Figure size 640x480 with 1 Axes>",
      "image/png": "[encoded data removed]"
     },
     "metadata": {},
     "output_type": "display_data"
    }
   ],
   "source": [
    "loss = history.history[\"loss\"]\n",
    "val_loss = history.history[\"val_loss\"]\n",
    "epochs = range(1, len(loss) + 1)\n",
    "plt.plot(epochs, loss, \"bo\", label=\"Training loss\")\n",
    "plt.plot(epochs, val_loss, \"b\", label=\"Validation loss\")\n",
    "plt.title(\"Training and validation loss\")\n",
    "plt.xlabel(\"Epochs\")\n",
    "plt.ylabel(\"Loss\")\n",
    "plt.legend()\n",
    "plt.show()"
   ]
  },
  {
   "cell_type": "code",
   "execution_count": 47,
   "id": "7d68c518",
   "metadata": {
    "ExecuteTime": {
     "end_time": "2024-02-29T16:50:10.343223Z",
     "start_time": "2024-02-29T16:50:10.221327Z"
    }
   },
   "outputs": [
    {
     "data": {
      "text/plain": "<Figure size 640x480 with 1 Axes>",
      "image/png": "[encoded data removed]"
     },
     "metadata": {},
     "output_type": "display_data"
    }
   ],
   "source": [
    "plt.clf()\n",
    "acc = history.history[\"accuracy\"]\n",
    "val_acc = history.history[\"val_accuracy\"]\n",
    "plt.plot(epochs, acc, \"bo\", label=\"Training accuracy\")\n",
    "plt.plot(epochs, val_acc, \"b\", label=\"Validation accuracy\")\n",
    "plt.title(\"Training and validation accuracy\")\n",
    "plt.xlabel(\"Epochs\")\n",
    "plt.ylabel(\"Accuracy\")\n",
    "plt.legend()\n",
    "plt.show()"
   ]
  },
  {
   "cell_type": "markdown",
   "id": "a40434a5",
   "metadata": {},
   "source": [
    "\n",
    "\n",
    "The model begins to overfit after nine epochs. Let’s train a new model from scratch for nine epochs and then evaluate it on the test set.\n"
   ]
  },
  {
   "cell_type": "code",
   "execution_count": 48,
   "id": "f192ca6e",
   "metadata": {
    "ExecuteTime": {
     "end_time": "2024-02-29T16:50:12.991501Z",
     "start_time": "2024-02-29T16:50:10.344415Z"
    }
   },
   "outputs": [
    {
     "name": "stdout",
     "output_type": "stream",
     "text": [
      "Epoch 1/9\n",
      "18/18 [==============================] - 0s 11ms/step - loss: 2.7224 - accuracy: 0.5200\n",
      "Epoch 2/9\n",
      "18/18 [==============================] - 0s 11ms/step - loss: 1.5333 - accuracy: 0.6840\n",
      "Epoch 3/9\n",
      "18/18 [==============================] - 0s 11ms/step - loss: 1.1605 - accuracy: 0.7478\n",
      "Epoch 4/9\n",
      "18/18 [==============================] - 0s 11ms/step - loss: 0.9465 - accuracy: 0.7967\n",
      "Epoch 5/9\n",
      "18/18 [==============================] - 0s 11ms/step - loss: 0.7795 - accuracy: 0.8331\n",
      "Epoch 6/9\n",
      "18/18 [==============================] - 0s 12ms/step - loss: 0.6481 - accuracy: 0.8604\n",
      "Epoch 7/9\n",
      "18/18 [==============================] - 0s 12ms/step - loss: 0.5435 - accuracy: 0.8852\n",
      "Epoch 8/9\n",
      "18/18 [==============================] - 0s 11ms/step - loss: 0.4586 - accuracy: 0.9021\n",
      "Epoch 9/9\n",
      "18/18 [==============================] - 0s 11ms/step - loss: 0.3900 - accuracy: 0.9161\n",
      "71/71 [==============================] - 0s 1ms/step - loss: 0.9170 - accuracy: 0.7912\n"
     ]
    }
   ],
   "source": [
    "model = keras.Sequential([\n",
    "    layers.Dense(64, activation=\"relu\"),\n",
    "    layers.Dense(64, activation=\"relu\"),\n",
    "    layers.Dense(46, activation=\"softmax\")\n",
    "])\n",
    "model.compile(optimizer=\"rmsprop\",\n",
    "              loss=\"categorical_crossentropy\",\n",
    "              metrics=[\"accuracy\"])\n",
    "model.fit(x_train,\n",
    "          y_train,\n",
    "          epochs=9,\n",
    "          batch_size=512)\n",
    "results = model.evaluate(x_test, y_test)"
   ]
  },
  {
   "cell_type": "code",
   "execution_count": 49,
   "id": "ea87e597",
   "metadata": {
    "ExecuteTime": {
     "end_time": "2024-02-29T16:50:13.006835Z",
     "start_time": "2024-02-29T16:50:12.992497Z"
    }
   },
   "outputs": [
    {
     "data": {
      "text/plain": "[0.9169841408729553, 0.7911843061447144]"
     },
     "execution_count": 49,
     "metadata": {},
     "output_type": "execute_result"
    }
   ],
   "source": [
    "results"
   ]
  },
  {
   "cell_type": "markdown",
   "id": "03731542",
   "metadata": {},
   "source": [
    "### accuracy of a random classifier"
   ]
  },
  {
   "cell_type": "code",
   "execution_count": 50,
   "id": "275d5b8e",
   "metadata": {
    "ExecuteTime": {
     "end_time": "2024-02-29T16:50:13.022573Z",
     "start_time": "2024-02-29T16:50:13.008284Z"
    }
   },
   "outputs": [
    {
     "data": {
      "text/plain": "0.1918967052537845"
     },
     "execution_count": 50,
     "metadata": {},
     "output_type": "execute_result"
    }
   ],
   "source": [
    "test_labels_copy = copy.copy(test_labels)\n",
    "np.random.shuffle(test_labels_copy)\n",
    "hits_array = np.array(test_labels) == np.array(test_labels_copy)\n",
    "hits_array.mean()"
   ]
  },
  {
   "cell_type": "markdown",
   "id": "46b4d759",
   "metadata": {},
   "source": [
    "## Generating predictions on new data"
   ]
  },
  {
   "cell_type": "code",
   "execution_count": 51,
   "id": "109a61f7",
   "metadata": {
    "ExecuteTime": {
     "end_time": "2024-02-29T16:50:13.241088Z",
     "start_time": "2024-02-29T16:50:13.023683Z"
    }
   },
   "outputs": [
    {
     "name": "stdout",
     "output_type": "stream",
     "text": [
      "71/71 [==============================] - 0s 1ms/step\n"
     ]
    }
   ],
   "source": [
    "predictions = model.predict(x_test)"
   ]
  },
  {
   "cell_type": "code",
   "execution_count": 52,
   "id": "1e2a0ba7",
   "metadata": {
    "ExecuteTime": {
     "end_time": "2024-02-29T16:50:13.256239Z",
     "start_time": "2024-02-29T16:50:13.242208Z"
    }
   },
   "outputs": [
    {
     "data": {
      "text/plain": "(2246, 46)"
     },
     "execution_count": 52,
     "metadata": {},
     "output_type": "execute_result"
    }
   ],
   "source": [
    "predictions.shape"
   ]
  },
  {
   "cell_type": "code",
   "execution_count": 53,
   "id": "83d37e65",
   "metadata": {
    "ExecuteTime": {
     "end_time": "2024-02-29T16:50:13.271980Z",
     "start_time": "2024-02-29T16:50:13.256239Z"
    }
   },
   "outputs": [
    {
     "data": {
      "text/plain": "array([ 3, 10,  1, ...,  3,  4,  1], dtype=int64)"
     },
     "execution_count": 53,
     "metadata": {},
     "output_type": "execute_result"
    }
   ],
   "source": [
    "np.argmax(predictions,axis=1)"
   ]
  },
  {
   "cell_type": "markdown",
   "id": "dff3929d",
   "metadata": {},
   "source": [
    "## A different way to handle the labels and the loss\n",
    "\n",
    "We mentioned earlier that another way to encode the labels would be to cast them as an integer tensor, like this:"
   ]
  },
  {
   "cell_type": "code",
   "execution_count": 54,
   "id": "d1c62df1",
   "metadata": {
    "ExecuteTime": {
     "end_time": "2024-02-29T16:50:13.287959Z",
     "start_time": "2024-02-29T16:50:13.273033Z"
    }
   },
   "outputs": [],
   "source": [
    "y_train = np.array(train_labels)\n",
    "y_test = np.array(test_labels)"
   ]
  },
  {
   "cell_type": "markdown",
   "id": "8afbf423",
   "metadata": {},
   "source": [
    "The only thing this approach would change is the choice of the loss function. The loss function used in listing 4.21, categorical_crossentropy, expects the labels to follow a categorical encoding. With integer labels, you should use sparse_categorical_ crossentropy"
   ]
  },
  {
   "cell_type": "code",
   "execution_count": 55,
   "id": "588fea78",
   "metadata": {
    "ExecuteTime": {
     "end_time": "2024-02-29T16:50:13.303674Z",
     "start_time": "2024-02-29T16:50:13.288955Z"
    }
   },
   "outputs": [],
   "source": [
    "model.compile(optimizer=\"rmsprop\",\n",
    "              loss=\"sparse_categorical_crossentropy\",\n",
    "              metrics=[\"accuracy\"])"
   ]
  },
  {
   "cell_type": "markdown",
   "id": "96e33eb8",
   "metadata": {},
   "source": [
    "|This new loss function is still mathematically the same as categorical_crossentropy; it just has a different interface. "
   ]
  },
  {
   "cell_type": "markdown",
   "id": "37214e3b",
   "metadata": {},
   "source": [
    "##  The importance of having sufficiently large intermediate layers"
   ]
  },
  {
   "cell_type": "markdown",
   "id": "6e4e5df2",
   "metadata": {},
   "source": [
    "We mentioned earlier that because the final outputs are 46-dimensional, you should avoid intermediate layers with many fewer than 46 units. Now let’s see what happens when we introduce an information bottleneck by having intermediate layers that are significantly less than 46-dimensional: for example, 4-dimensional."
   ]
  },
  {
   "cell_type": "code",
   "execution_count": 56,
   "id": "6e3633b0",
   "metadata": {
    "ExecuteTime": {
     "end_time": "2024-02-29T16:50:23.559028Z",
     "start_time": "2024-02-29T16:50:13.304727Z"
    }
   },
   "outputs": [
    {
     "name": "stdout",
     "output_type": "stream",
     "text": [
      "Epoch 1/20\n",
      "63/63 [==============================] - 1s 9ms/step - loss: 3.0235 - accuracy: 0.4449 - val_loss: 2.3277 - val_accuracy: 0.5180\n",
      "Epoch 2/20\n",
      "63/63 [==============================] - 0s 7ms/step - loss: 1.9296 - accuracy: 0.5547 - val_loss: 1.7346 - val_accuracy: 0.5640\n",
      "Epoch 3/20\n",
      "63/63 [==============================] - 0s 7ms/step - loss: 1.5460 - accuracy: 0.5983 - val_loss: 1.5860 - val_accuracy: 0.5990\n",
      "Epoch 4/20\n",
      "63/63 [==============================] - 0s 8ms/step - loss: 1.3724 - accuracy: 0.6369 - val_loss: 1.4995 - val_accuracy: 0.6180\n",
      "Epoch 5/20\n",
      "63/63 [==============================] - 0s 8ms/step - loss: 1.2586 - accuracy: 0.6708 - val_loss: 1.4654 - val_accuracy: 0.6430\n",
      "Epoch 6/20\n",
      "63/63 [==============================] - 1s 8ms/step - loss: 1.1714 - accuracy: 0.7061 - val_loss: 1.4477 - val_accuracy: 0.6630\n",
      "Epoch 7/20\n",
      "63/63 [==============================] - 0s 8ms/step - loss: 1.1033 - accuracy: 0.7142 - val_loss: 1.4389 - val_accuracy: 0.6630\n",
      "Epoch 8/20\n",
      "63/63 [==============================] - 0s 8ms/step - loss: 1.0436 - accuracy: 0.7217 - val_loss: 1.4492 - val_accuracy: 0.6580\n",
      "Epoch 9/20\n",
      "63/63 [==============================] - 1s 8ms/step - loss: 0.9725 - accuracy: 0.7368 - val_loss: 1.4180 - val_accuracy: 0.6860\n",
      "Epoch 10/20\n",
      "63/63 [==============================] - 0s 8ms/step - loss: 0.9011 - accuracy: 0.7580 - val_loss: 1.4285 - val_accuracy: 0.6960\n",
      "Epoch 11/20\n",
      "63/63 [==============================] - 0s 8ms/step - loss: 0.8326 - accuracy: 0.7735 - val_loss: 1.4001 - val_accuracy: 0.7070\n",
      "Epoch 12/20\n",
      "63/63 [==============================] - 0s 8ms/step - loss: 0.7776 - accuracy: 0.7855 - val_loss: 1.4103 - val_accuracy: 0.7150\n",
      "Epoch 13/20\n",
      "63/63 [==============================] - 0s 8ms/step - loss: 0.7279 - accuracy: 0.7932 - val_loss: 1.4295 - val_accuracy: 0.7200\n",
      "Epoch 14/20\n",
      "63/63 [==============================] - 0s 8ms/step - loss: 0.6882 - accuracy: 0.7985 - val_loss: 1.4564 - val_accuracy: 0.7110\n",
      "Epoch 15/20\n",
      "63/63 [==============================] - 0s 8ms/step - loss: 0.6481 - accuracy: 0.8115 - val_loss: 1.4730 - val_accuracy: 0.7220\n",
      "Epoch 16/20\n",
      "63/63 [==============================] - 0s 8ms/step - loss: 0.6140 - accuracy: 0.8237 - val_loss: 1.5192 - val_accuracy: 0.7150\n",
      "Epoch 17/20\n",
      "63/63 [==============================] - 0s 7ms/step - loss: 0.5816 - accuracy: 0.8375 - val_loss: 1.5351 - val_accuracy: 0.7240\n",
      "Epoch 18/20\n",
      "63/63 [==============================] - 0s 7ms/step - loss: 0.5543 - accuracy: 0.8470 - val_loss: 1.5901 - val_accuracy: 0.7210\n",
      "Epoch 19/20\n",
      "63/63 [==============================] - 0s 7ms/step - loss: 0.5280 - accuracy: 0.8519 - val_loss: 1.6355 - val_accuracy: 0.7200\n",
      "Epoch 20/20\n",
      "63/63 [==============================] - 0s 8ms/step - loss: 0.5066 - accuracy: 0.8584 - val_loss: 1.6696 - val_accuracy: 0.7230\n"
     ]
    },
    {
     "data": {
      "text/plain": "<keras.src.callbacks.History at 0x2d06cbdf670>"
     },
     "execution_count": 56,
     "metadata": {},
     "output_type": "execute_result"
    }
   ],
   "source": [
    "model = keras.Sequential([\n",
    "    layers.Dense(64, activation=\"relu\"),\n",
    "    layers.Dense(4, activation=\"relu\"),\n",
    "    layers.Dense(46, activation=\"softmax\")\n",
    "])\n",
    "model.compile(optimizer=\"rmsprop\",\n",
    "              loss=\"categorical_crossentropy\",\n",
    "              metrics=[\"accuracy\"])\n",
    "model.fit(partial_x_train,\n",
    "          partial_y_train,\n",
    "          epochs=20,\n",
    "          batch_size=128,\n",
    "          validation_data=(x_val, y_val))"
   ]
  },
  {
   "cell_type": "markdown",
   "id": "a418908c",
   "metadata": {},
   "source": [
    "This does worse."
   ]
  },
  {
   "cell_type": "markdown",
   "id": "b00e8fd2",
   "metadata": {},
   "source": [
    "## Further experiments\n",
    "\n",
    "Like in the previous example, I encourage you to try out the following experiments to train your intuition about the kind of configuration decisions you have to make with such models:\n",
    "\n",
    "+ Try using larger or smaller layers: 32 units, 128 units, and so on.\n",
    "+ You used two intermediate layers before the final softmax classification layer. Now try using a single intermediate layer, or three intermediate layers.\n",
    "\n",
    "\n",
    "## Wrapping up\n",
    "\n",
    "Here’s what you should take away from this example:\n",
    "\n",
    "+ If you’re trying to classify data points among N classes, your model should end with a Dense layer of size N.\n",
    "+ In a single-label, multiclass classification problem, your model should end with a softmax activation so that it will output a probability distribution over the N output classes.\n",
    "+ Categorical crossentropy is almost always the loss function you should use for such problems. It minimizes the distance between the probability distributions output by the model and the true distribution of the targets.\n",
    "+ There are two ways to handle labels in multiclass classification:\n",
    "  + Encoding the labels via categorical encoding (also known as one-hot encoding) and using categorical_crossentropy as a loss function\n",
    "  + Encoding the labels as integers and using the sparse_categorical_crossentropy loss function\n",
    "+ If you need to classify data into a large number of categories, you should avoid creating information bottlenecks in your model due to intermediate layers that are too small. \n"
   ]
  },
  {
   "cell_type": "code",
   "execution_count": 56,
   "id": "70c8d2d6",
   "metadata": {
    "ExecuteTime": {
     "end_time": "2024-02-29T16:50:23.574973Z",
     "start_time": "2024-02-29T16:50:23.561021Z"
    }
   },
   "outputs": [],
   "source": []
  }
 ],
 "metadata": {
  "kernelspec": {
   "display_name": "Python 3 (ipykernel)",
   "language": "python",
   "name": "python3"
  },
  "language_info": {
   "codemirror_mode": {
    "name": "ipython",
    "version": 3
   },
   "file_extension": ".py",
   "mimetype": "text/x-python",
   "name": "python",
   "nbconvert_exporter": "python",
   "pygments_lexer": "ipython3",
   "version": "3.9.5"
  }
 },
 "nbformat": 4,
 "nbformat_minor": 5
}
