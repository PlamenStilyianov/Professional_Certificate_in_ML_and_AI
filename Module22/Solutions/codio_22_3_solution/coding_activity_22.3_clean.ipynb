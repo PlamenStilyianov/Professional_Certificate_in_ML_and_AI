{
 "cells": [
  {
   "cell_type": "markdown",
   "metadata": {
    "deletable": false,
    "editable": false,
    "nbgrader": {
     "cell_type": "markdown",
     "checksum": "f6e871018f6d5f329c5a80826db77def",
     "grade": false,
     "grade_id": "cell-8a142f231cff6cac",
     "locked": true,
     "schema_version": 3,
     "solution": false,
     "task": false
    }
   },
   "source": [
    "### Codio Activity 22.3: Basic Weight Update\n",
    "\n",
    "**Expected Time = 60 minutes**\n",
    "\n",
    "**Total Points = 60**\n",
    "\n",
    "This activity focuses on updating the weights to improve the performance of the network.  To demonstrate this update process, we implement a basic loss function and its derivative to update randomly initialized weights.  You begin with a very basic dataset meant to replicate the logic gate problems surrounding the early ANN models.\n",
    "\n",
    "#### Index\n",
    "\n",
    "- [Problem 1](#-Problem-1)\n",
    "- [Problem 2](#-Problem-2)\n",
    "- [Problem 3](#-Problem-3)\n",
    "- [Problem 4](#-Problem-4)\n",
    "- [Problem 5](#-Problem-5)\n",
    "- [Problem 6](#-Problem-6)"
   ]
  },
  {
   "cell_type": "code",
   "execution_count": 1,
   "metadata": {
    "ExecuteTime": {
     "end_time": "2024-02-29T22:10:55.440011Z",
     "start_time": "2024-02-29T22:10:55.438444Z"
    }
   },
   "outputs": [],
   "source": [
    "import numpy as np\n",
    "import matplotlib.pyplot as plt"
   ]
  },
  {
   "cell_type": "code",
   "execution_count": 2,
   "metadata": {
    "ExecuteTime": {
     "end_time": "2024-02-29T22:10:55.460181Z",
     "start_time": "2024-02-29T22:10:55.440475Z"
    }
   },
   "outputs": [],
   "source": [
    "#set up our data\n",
    "X = np.array([[0, 0], [0, 1], [1, 0], [1, 1]])\n",
    "y = np.array([0, 1, 1, 1])"
   ]
  },
  {
   "cell_type": "code",
   "execution_count": 3,
   "metadata": {
    "ExecuteTime": {
     "end_time": "2024-02-29T22:10:55.472287Z",
     "start_time": "2024-02-29T22:10:55.460874Z"
    }
   },
   "outputs": [],
   "source": [
    "#subset no and yes\n",
    "nos = X[y == 0]\n",
    "yesses = X[y == 1]"
   ]
  },
  {
   "cell_type": "code",
   "execution_count": 4,
   "metadata": {
    "ExecuteTime": {
     "end_time": "2024-02-29T22:10:55.607064Z",
     "start_time": "2024-02-29T22:10:55.473066Z"
    }
   },
   "outputs": [
    {
     "data": {
      "text/plain": "<Figure size 640x480 with 1 Axes>",
      "image/png": "[encoded data removed]"
     },
     "metadata": {},
     "output_type": "display_data"
    }
   ],
   "source": [
    "#plot our examples\n",
    "plt.scatter(nos[:, 0], nos[:, 1], marker = 'x', s = 400)\n",
    "plt.scatter(yesses[:, 0], yesses[:, 1], marker = '+', s = 400)\n",
    "plt.title(\"Can we Seperate?\");"
   ]
  },
  {
   "cell_type": "markdown",
   "metadata": {
    "deletable": false,
    "editable": false,
    "nbgrader": {
     "cell_type": "markdown",
     "checksum": "0ead257860e92cc666102d7495f307bb",
     "grade": false,
     "grade_id": "cell-816b04fea4f5aea8",
     "locked": true,
     "schema_version": 3,
     "solution": false,
     "task": false
    }
   },
   "source": [
    "[Back to top](#-Index)\n",
    "\n",
    "### Problem 1\n",
    "\n",
    "#### Preparing the Data\n",
    "\n",
    "**10 Points**\n",
    "\n",
    "To prepare the data for modeling, you will need to add a bias term.  In this example, you are to prepend a column of -1's to the array `X` and save the new array as `Xt` below."
   ]
  },
  {
   "cell_type": "code",
   "execution_count": 5,
   "metadata": {
    "deletable": false,
    "nbgrader": {
     "cell_type": "code",
     "checksum": "621214553b2dee95296660c0bda06d52",
     "grade": false,
     "grade_id": "cell-103d03f5f8c7df86",
     "locked": false,
     "schema_version": 3,
     "solution": true,
     "task": false
    },
    "ExecuteTime": {
     "end_time": "2024-02-29T22:10:55.610356Z",
     "start_time": "2024-02-29T22:10:55.607847Z"
    }
   },
   "outputs": [
    {
     "name": "stdout",
     "output_type": "stream",
     "text": [
      "[[-1.  0.  0.]\n",
      " [-1.  0.  1.]\n",
      " [-1.  1.  0.]\n",
      " [-1.  1.  1.]]\n"
     ]
    }
   ],
   "source": [
    "### GRADED\n",
    "ones = ''\n",
    "Xt = ''\n",
    "    \n",
    "# YOUR CODE HERE\n",
    "b = np.ones((X.shape[0], 1)) * -1\n",
    "Xt = np.concatenate((b, X), axis = 1)\n",
    "\n",
    "### ANSWER CHECK\n",
    "print(Xt)"
   ]
  },
  {
   "cell_type": "code",
   "execution_count": 5,
   "metadata": {
    "deletable": false,
    "editable": false,
    "nbgrader": {
     "cell_type": "code",
     "checksum": "eb0539ad878dff4a583dc766c4520b94",
     "grade": true,
     "grade_id": "cell-9faf58fddd7dca79",
     "locked": true,
     "points": 10,
     "schema_version": 3,
     "solution": false,
     "task": false
    },
    "ExecuteTime": {
     "end_time": "2024-02-29T22:10:55.612318Z",
     "start_time": "2024-02-29T22:10:55.610982Z"
    }
   },
   "outputs": [],
   "source": []
  },
  {
   "cell_type": "markdown",
   "metadata": {
    "deletable": false,
    "editable": false,
    "nbgrader": {
     "cell_type": "markdown",
     "checksum": "fe65f6a0236ed0f70319c55db675f968",
     "grade": false,
     "grade_id": "cell-a72cc0b839e09bec",
     "locked": true,
     "schema_version": 3,
     "solution": false,
     "task": false
    }
   },
   "source": [
    "[Back to top](#-Index)\n",
    "\n",
    "### Problem 2\n",
    "\n",
    "#### Initializing the weights\n",
    "\n",
    "**10 Points**\n",
    "\n",
    "Below, an array of weights is given for both the bias term and the two features.  Use this weight array `w` to apply these weights to the input and bias.  Assign this product to `weighted_sum` below."
   ]
  },
  {
   "cell_type": "code",
   "execution_count": 6,
   "metadata": {
    "ExecuteTime": {
     "end_time": "2024-02-29T22:10:55.629964Z",
     "start_time": "2024-02-29T22:10:55.612783Z"
    }
   },
   "outputs": [],
   "source": [
    "#weight array\n",
    "w = np.array([-0.05, -0.02, 0.02])"
   ]
  },
  {
   "cell_type": "code",
   "execution_count": 7,
   "metadata": {
    "deletable": false,
    "nbgrader": {
     "cell_type": "code",
     "checksum": "06fb1e2bfab1c2464d598e8ae4b77828",
     "grade": false,
     "grade_id": "cell-cec95097950fa80b",
     "locked": false,
     "schema_version": 3,
     "solution": true,
     "task": false
    },
    "ExecuteTime": {
     "end_time": "2024-02-29T22:10:55.643627Z",
     "start_time": "2024-02-29T22:10:55.630669Z"
    }
   },
   "outputs": [
    {
     "name": "stdout",
     "output_type": "stream",
     "text": [
      "[0.05 0.07 0.03 0.05]\n"
     ]
    }
   ],
   "source": [
    "### GRADED\n",
    "weighted_sum = ''\n",
    "    \n",
    "# YOUR CODE HERE\n",
    "weighted_sum = Xt@w\n",
    "\n",
    "### ANSWER CHECK\n",
    "print(weighted_sum)"
   ]
  },
  {
   "cell_type": "code",
   "execution_count": 7,
   "metadata": {
    "deletable": false,
    "editable": false,
    "nbgrader": {
     "cell_type": "code",
     "checksum": "ea6e68b7ac040dfe1804fbe8662e1ba5",
     "grade": true,
     "grade_id": "cell-a7daee11947921fa",
     "locked": true,
     "points": 10,
     "schema_version": 3,
     "solution": false,
     "task": false
    },
    "ExecuteTime": {
     "end_time": "2024-02-29T22:10:55.645925Z",
     "start_time": "2024-02-29T22:10:55.644367Z"
    }
   },
   "outputs": [],
   "source": []
  },
  {
   "cell_type": "markdown",
   "metadata": {
    "deletable": false,
    "editable": false,
    "nbgrader": {
     "cell_type": "markdown",
     "checksum": "ae4acb05029d1dbe9889543d6c8dad11",
     "grade": false,
     "grade_id": "cell-52cef374dc288e3d",
     "locked": true,
     "schema_version": 3,
     "solution": false,
     "task": false
    }
   },
   "source": [
    "[Back to top](#-Index)\n",
    "\n",
    "### Problem 3\n",
    "\n",
    "#### Activation Function\n",
    "\n",
    "**10 Points**\n",
    "\n",
    "Now, use the basic threshold activation function to output 1 if the input is greater than 0, otherwise label it 0.  Assign the values as `predictions` below.  Apply this threshold function to the weighted sum.  What is the accuracy of the classifier after 1 epoch?  "
   ]
  },
  {
   "cell_type": "code",
   "execution_count": 8,
   "metadata": {
    "deletable": false,
    "nbgrader": {
     "cell_type": "code",
     "checksum": "a68b03538315d1e5381dd6b7de4709c7",
     "grade": false,
     "grade_id": "cell-bb2fbe7497f3dd70",
     "locked": false,
     "schema_version": 3,
     "solution": true,
     "task": false
    },
    "ExecuteTime": {
     "end_time": "2024-02-29T22:10:55.656251Z",
     "start_time": "2024-02-29T22:10:55.647551Z"
    }
   },
   "outputs": [
    {
     "name": "stdout",
     "output_type": "stream",
     "text": [
      "[1 1 1 1]\n"
     ]
    }
   ],
   "source": [
    "### GRADED\n",
    "predictions = ''\n",
    "    \n",
    "# YOUR CODE HERE\n",
    "predictions = np.where(weighted_sum > 0, 1, 0)\n",
    "\n",
    "### ANSWER CHECK\n",
    "print(predictions)"
   ]
  },
  {
   "cell_type": "code",
   "execution_count": 8,
   "metadata": {
    "deletable": false,
    "editable": false,
    "nbgrader": {
     "cell_type": "code",
     "checksum": "52361643dadad39ec453575e3bb326f9",
     "grade": true,
     "grade_id": "cell-9b35d59d9186b5ff",
     "locked": true,
     "points": 10,
     "schema_version": 3,
     "solution": false,
     "task": false
    },
    "ExecuteTime": {
     "end_time": "2024-02-29T22:10:55.658333Z",
     "start_time": "2024-02-29T22:10:55.656886Z"
    }
   },
   "outputs": [],
   "source": []
  },
  {
   "cell_type": "markdown",
   "metadata": {
    "deletable": false,
    "editable": false,
    "nbgrader": {
     "cell_type": "markdown",
     "checksum": "def01398c9c1014b04c40a0f4e6c5ea4",
     "grade": false,
     "grade_id": "cell-f8662a09712e5f06",
     "locked": true,
     "schema_version": 3,
     "solution": false,
     "task": false
    }
   },
   "source": [
    "[Back to top](#-Index)\n",
    "\n",
    "### Problem 4\n",
    "\n",
    "#### Weight Update\n",
    "\n",
    "**10 Points**\n",
    "\n",
    "Next, you want to update the initial weights using the following rule for gradient descent with learning rate $\\alpha$:\n",
    "\n",
    "$$w_{i + 1} = w_{i} + \\alpha(y - \\hat{y})x$$\n",
    "\n",
    "Use this rule to update the initial weights with $\\alpha = 0.1$ and assign to `w2` below."
   ]
  },
  {
   "cell_type": "code",
   "execution_count": 9,
   "metadata": {
    "deletable": false,
    "nbgrader": {
     "cell_type": "code",
     "checksum": "fed06f37d1a3fad102c3762e3d9af571",
     "grade": false,
     "grade_id": "cell-776473e47d7aea82",
     "locked": false,
     "schema_version": 3,
     "solution": true,
     "task": false
    },
    "ExecuteTime": {
     "end_time": "2024-02-29T22:10:55.664149Z",
     "start_time": "2024-02-29T22:10:55.658809Z"
    }
   },
   "outputs": [
    {
     "name": "stdout",
     "output_type": "stream",
     "text": [
      "[ 0.05 -0.02  0.02]\n"
     ]
    }
   ],
   "source": [
    "### GRADED\n",
    "w2 = ''\n",
    "    \n",
    "# YOUR CODE HERE\n",
    "w2 = w + 0.1*(y - predictions)@Xt\n",
    "\n",
    "### ANSWER CHECK\n",
    "print(w2)"
   ]
  },
  {
   "cell_type": "code",
   "execution_count": 9,
   "metadata": {
    "deletable": false,
    "editable": false,
    "nbgrader": {
     "cell_type": "code",
     "checksum": "ab66392b2cd6b6c518d646f8de240c6b",
     "grade": true,
     "grade_id": "cell-4076ae9b26b49264",
     "locked": true,
     "points": 10,
     "schema_version": 3,
     "solution": false,
     "task": false
    },
    "ExecuteTime": {
     "end_time": "2024-02-29T22:10:55.665788Z",
     "start_time": "2024-02-29T22:10:55.664688Z"
    }
   },
   "outputs": [],
   "source": []
  },
  {
   "cell_type": "markdown",
   "metadata": {
    "deletable": false,
    "editable": false,
    "nbgrader": {
     "cell_type": "markdown",
     "checksum": "dda6a7f7abd5f49542ccda3bd914cbfc",
     "grade": false,
     "grade_id": "cell-d5c0000f77834d0e",
     "locked": true,
     "schema_version": 3,
     "solution": false,
     "task": false
    }
   },
   "source": [
    "[Back to top](#-Index)\n",
    "\n",
    "### Problem 5\n",
    "\n",
    "#### Putting it together\n",
    "\n",
    "**10 Points**\n",
    "\n",
    "Now, consider building a model by performing 10 iterations of the weight updates.  What is the accuracy?  Assign this to `ans5` below."
   ]
  },
  {
   "cell_type": "code",
   "execution_count": 10,
   "metadata": {
    "deletable": false,
    "nbgrader": {
     "cell_type": "code",
     "checksum": "6eaae0335ddf33331b5d3f0d2859032c",
     "grade": false,
     "grade_id": "cell-d14c584598e7240c",
     "locked": false,
     "schema_version": 3,
     "solution": true,
     "task": false
    },
    "ExecuteTime": {
     "end_time": "2024-02-29T22:10:55.669738Z",
     "start_time": "2024-02-29T22:10:55.666362Z"
    }
   },
   "outputs": [
    {
     "name": "stdout",
     "output_type": "stream",
     "text": [
      "1.0\n",
      "[0.05 0.18 0.22]\n",
      "[0 1 1 1]\n"
     ]
    }
   ],
   "source": [
    "### GRADED\n",
    "w = np.array([-0.05, -0.02, 0.02])\n",
    "for i in range(10):\n",
    "    #perform our estimation\n",
    "    predictions = ''\n",
    "    ##print(predictions)\n",
    "    #weight update\n",
    "    w = ''\n",
    "ans5 = ''   \n",
    "    \n",
    "# YOUR CODE HERE\n",
    "w = np.array([-0.05, -0.02, 0.02])\n",
    "for i in range(10):\n",
    "    #perform our estimation\n",
    "    predictions = np.where(Xt@w > 0, 1, 0)\n",
    "    #print(preds)\n",
    "    #weight update\n",
    "    w = w + 0.1*(y - predictions)@Xt\n",
    "ans5 = sum(predictions == y)/len(y)\n",
    "\n",
    "### ANSWER CHECK\n",
    "print(ans5)\n",
    "print(w)\n",
    "print(predictions)"
   ]
  },
  {
   "cell_type": "code",
   "execution_count": 10,
   "metadata": {
    "deletable": false,
    "editable": false,
    "nbgrader": {
     "cell_type": "code",
     "checksum": "c1cb9123c9b848f86ff70c0684b93602",
     "grade": true,
     "grade_id": "cell-f85850c619622dc1",
     "locked": true,
     "points": 10,
     "schema_version": 3,
     "solution": false,
     "task": false
    },
    "ExecuteTime": {
     "end_time": "2024-02-29T22:10:55.671865Z",
     "start_time": "2024-02-29T22:10:55.670457Z"
    }
   },
   "outputs": [],
   "source": []
  },
  {
   "cell_type": "markdown",
   "metadata": {
    "deletable": false,
    "editable": false,
    "nbgrader": {
     "cell_type": "markdown",
     "checksum": "59f253a7b53923f9ccbc91ca642536d2",
     "grade": false,
     "grade_id": "cell-c15d47533b2398b6",
     "locked": true,
     "schema_version": 3,
     "solution": false,
     "task": false
    }
   },
   "source": [
    "[Back to top](#-Index)\n",
    "\n",
    "### Problem 6\n",
    "\n",
    "#### A Larger Example\n",
    "\n",
    "**10 Points**\n",
    "\n",
    "Below, a second example is constructed using a synthetic dataset.  Your goal is to use the algorithm for updating the weights.  Determie the accuracy and assign as `ans6` below."
   ]
  },
  {
   "cell_type": "code",
   "execution_count": 11,
   "metadata": {
    "ExecuteTime": {
     "end_time": "2024-02-29T22:10:55.742050Z",
     "start_time": "2024-02-29T22:10:55.672681Z"
    }
   },
   "outputs": [],
   "source": [
    "from sklearn.datasets import make_blobs"
   ]
  },
  {
   "cell_type": "code",
   "execution_count": 12,
   "metadata": {
    "ExecuteTime": {
     "end_time": "2024-02-29T22:10:55.746193Z",
     "start_time": "2024-02-29T22:10:55.742950Z"
    }
   },
   "outputs": [],
   "source": [
    "X, y = make_blobs(centers = 2, center_box=(-3, 3), random_state = 22)"
   ]
  },
  {
   "cell_type": "code",
   "execution_count": 13,
   "metadata": {
    "ExecuteTime": {
     "end_time": "2024-02-29T22:10:55.886097Z",
     "start_time": "2024-02-29T22:10:55.747096Z"
    }
   },
   "outputs": [
    {
     "data": {
      "text/plain": "<Figure size 640x480 with 1 Axes>",
      "image/png": "[encoded data removed]"
     },
     "metadata": {},
     "output_type": "display_data"
    }
   ],
   "source": [
    "plt.scatter(X[:, 0], X[:, 1], c = y)\n",
    "plt.grid()\n",
    "plt.title('Synthetic Binary Dataset');"
   ]
  },
  {
   "cell_type": "code",
   "execution_count": 14,
   "metadata": {
    "deletable": false,
    "nbgrader": {
     "cell_type": "code",
     "checksum": "13c959c99f0c41e31dbea5981bf473eb",
     "grade": false,
     "grade_id": "cell-9994b902165537c5",
     "locked": false,
     "schema_version": 3,
     "solution": true,
     "task": false
    },
    "ExecuteTime": {
     "end_time": "2024-02-29T22:10:55.891057Z",
     "start_time": "2024-02-29T22:10:55.886925Z"
    }
   },
   "outputs": [
    {
     "name": "stdout",
     "output_type": "stream",
     "text": [
      "[-1.4         7.85617133  9.69891443]\n",
      "1.0\n"
     ]
    }
   ],
   "source": [
    "### GRADED\n",
    "X2 = ''\n",
    "w = np.array([0, 0, 0])\n",
    "for i in range(100):\n",
    "    #perform our estimation\n",
    "    predictions = ''\n",
    "    ##print(predictions)\n",
    "    #weight update\n",
    "    w = ''\n",
    "ans6 = ''   \n",
    "    \n",
    "# YOUR CODE HERE\n",
    "w = np.array([0, 0, 0])\n",
    "biases = np.ones((X.shape[0], 1))\n",
    "X2 = np.concatenate((biases, X), axis = 1)\n",
    "for i in range(100):\n",
    "    #perform our estimation\n",
    "    predictions = np.where(X2@w > 0, 1, 0)\n",
    "    #print(preds)\n",
    "    #weight update\n",
    "    w = w + 0.1*(y - predictions)@X2\n",
    "ans6 = sum(predictions == y)/len(y)\n",
    "\n",
    "### ANSWER CHECK\n",
    "print(w)\n",
    "print(ans6)"
   ]
  },
  {
   "cell_type": "code",
   "execution_count": 14,
   "metadata": {
    "deletable": false,
    "editable": false,
    "nbgrader": {
     "cell_type": "code",
     "checksum": "02cf17ae87436e72a77acf1368e539ad",
     "grade": true,
     "grade_id": "cell-f7fca64cf425ca5c",
     "locked": true,
     "points": 10,
     "schema_version": 3,
     "solution": false,
     "task": false
    },
    "ExecuteTime": {
     "end_time": "2024-02-29T22:10:55.892971Z",
     "start_time": "2024-02-29T22:10:55.891734Z"
    }
   },
   "outputs": [],
   "source": []
  }
 ],
 "metadata": {
  "kernelspec": {
   "display_name": "Python 3 (ipykernel)",
   "language": "python",
   "name": "python3"
  },
  "language_info": {
   "codemirror_mode": {
    "name": "ipython",
    "version": 3
   },
   "file_extension": ".py",
   "mimetype": "text/x-python",
   "name": "python",
   "nbconvert_exporter": "python",
   "pygments_lexer": "ipython3",
   "version": "3.9.11"
  },
  "widgets": {
   "application/vnd.jupyter.widget-state+json": {
    "state": {},
    "version_major": 2,
    "version_minor": 0
   }
  }
 },
 "nbformat": 4,
 "nbformat_minor": 4
}
