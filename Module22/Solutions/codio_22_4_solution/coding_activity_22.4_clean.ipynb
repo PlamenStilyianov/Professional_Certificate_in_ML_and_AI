{
 "cells": [
  {
   "cell_type": "markdown",
   "metadata": {
    "deletable": false,
    "editable": false,
    "nbgrader": {
     "cell_type": "markdown",
     "checksum": "b8229e79c7f197b52e5ea0d9790099a5",
     "grade": false,
     "grade_id": "cell-66d8ec40d6c8ee24",
     "locked": true,
     "schema_version": 3,
     "solution": false,
     "task": false
    }
   },
   "source": [
    "### Codio Activity 22.4: Using `keras`\n",
    "\n",
    "**Expected Time = 60 minutes**\n",
    "\n",
    "**Total Points = 50**\n",
    "\n",
    "This activity focuses on using the `keras` library to build an Artificial Neural Network for the titanic dataset.  You will now use all the rows of the data and the `age` and `fare` columns to build a basic network.  After building the model you will visualize the loss by epoch.\n",
    "\n",
    "#### Index\n",
    "\n",
    "- [Problem 1](#-Problem-1)\n",
    "- [Problem 2](#-Problem-2)\n",
    "- [Problem 3](#-Problem-3)\n",
    "- [Problem 4](#-Problem-4)\n",
    "- [Problem 5](#-Problem-5)"
   ]
  },
  {
   "cell_type": "code",
   "execution_count": 1,
   "metadata": {
    "ExecuteTime": {
     "end_time": "2024-03-01T05:08:59.067288Z",
     "start_time": "2024-03-01T05:08:58.014260Z"
    }
   },
   "outputs": [
    {
     "name": "stderr",
     "output_type": "stream",
     "text": [
      "2024-03-01 05:08:58.190571: E external/local_xla/xla/stream_executor/cuda/cuda_dnn.cc:9261] Unable to register cuDNN factory: Attempting to register factory for plugin cuDNN when one has already been registered\n",
      "2024-03-01 05:08:58.190596: E external/local_xla/xla/stream_executor/cuda/cuda_fft.cc:607] Unable to register cuFFT factory: Attempting to register factory for plugin cuFFT when one has already been registered\n",
      "2024-03-01 05:08:58.191248: E external/local_xla/xla/stream_executor/cuda/cuda_blas.cc:1515] Unable to register cuBLAS factory: Attempting to register factory for plugin cuBLAS when one has already been registered\n",
      "2024-03-01 05:08:58.196061: I tensorflow/core/platform/cpu_feature_guard.cc:182] This TensorFlow binary is optimized to use available CPU instructions in performance-critical operations.\n",
      "To enable the following instructions: AVX2 AVX_VNNI FMA, in other operations, rebuild TensorFlow with the appropriate compiler flags.\n",
      "2024-03-01 05:08:58.709790: W tensorflow/compiler/tf2tensorrt/utils/py_utils.cc:38] TF-TRT Warning: Could not find TensorRT\n"
     ]
    }
   ],
   "source": [
    "import numpy as np\n",
    "import pandas as pd\n",
    "import matplotlib.pyplot as plt\n",
    "import seaborn as sns\n",
    "import tensorflow as tf\n",
    "\n",
    "from tensorflow.keras.layers import Dense\n",
    "from tensorflow.keras.models import Sequential\n",
    "from tensorflow.keras.utils import plot_model\n",
    "\n",
    "import warnings\n",
    "warnings.filterwarnings('ignore')"
   ]
  },
  {
   "cell_type": "code",
   "execution_count": 2,
   "metadata": {
    "ExecuteTime": {
     "end_time": "2024-03-01T05:08:59.076919Z",
     "start_time": "2024-03-01T05:08:59.068058Z"
    }
   },
   "outputs": [
    {
     "name": "stdout",
     "output_type": "stream",
     "text": [
      "(714, 2)\n"
     ]
    }
   ],
   "source": [
    "titanic = sns.load_dataset('titanic').dropna(subset = ['age'])\n",
    "X = titanic[['age', 'fare']].values\n",
    "y = titanic['survived'].values\n",
    "print(X.shape)"
   ]
  },
  {
   "cell_type": "markdown",
   "metadata": {
    "deletable": false,
    "editable": false,
    "nbgrader": {
     "cell_type": "markdown",
     "checksum": "893f400507b8f5973b0976947c8e6f48",
     "grade": false,
     "grade_id": "cell-b15afe099bbcc7ac",
     "locked": true,
     "schema_version": 3,
     "solution": false,
     "task": false
    }
   },
   "source": [
    "[Back to top](#-Index)\n",
    "\n",
    "### Problem 1\n",
    "\n",
    "#### A Basic Network\n",
    "\n",
    "**10 Points**\n",
    "\n",
    "To begin, use `keras` and the `Sequential` model to create a model with the following architecture:\n",
    "\n",
    "- 1 Hidden Layer\n",
    "- 1 Node in Hidden Layer\n",
    "- 1 output node\n",
    "- Sigmoid activation function on all nodes\n",
    "\n",
    "This would be equivalent to the architecture in your first assignment."
   ]
  },
  {
   "cell_type": "code",
   "execution_count": 3,
   "metadata": {
    "deletable": false,
    "nbgrader": {
     "cell_type": "code",
     "checksum": "67a3957f78bc8206188da92f66fe0a20",
     "grade": false,
     "grade_id": "cell-2fad3e5bd06726d4",
     "locked": false,
     "schema_version": 3,
     "solution": true,
     "task": false
    },
    "ExecuteTime": {
     "end_time": "2024-03-01T05:08:59.259747Z",
     "start_time": "2024-03-01T05:08:59.077676Z"
    }
   },
   "outputs": [
    {
     "name": "stderr",
     "output_type": "stream",
     "text": [
      "2024-03-01 05:08:59.163589: I external/local_xla/xla/stream_executor/cuda/cuda_executor.cc:901] successful NUMA node read from SysFS had negative value (-1), but there must be at least one NUMA node, so returning NUMA node zero. See more at https://github.com/torvalds/linux/blob/v6.0/Documentation/ABI/testing/sysfs-bus-pci#L344-L355\n",
      "2024-03-01 05:08:59.177750: I external/local_xla/xla/stream_executor/cuda/cuda_executor.cc:901] successful NUMA node read from SysFS had negative value (-1), but there must be at least one NUMA node, so returning NUMA node zero. See more at https://github.com/torvalds/linux/blob/v6.0/Documentation/ABI/testing/sysfs-bus-pci#L344-L355\n",
      "2024-03-01 05:08:59.177892: I external/local_xla/xla/stream_executor/cuda/cuda_executor.cc:901] successful NUMA node read from SysFS had negative value (-1), but there must be at least one NUMA node, so returning NUMA node zero. See more at https://github.com/torvalds/linux/blob/v6.0/Documentation/ABI/testing/sysfs-bus-pci#L344-L355\n",
      "2024-03-01 05:08:59.180164: I external/local_xla/xla/stream_executor/cuda/cuda_executor.cc:901] successful NUMA node read from SysFS had negative value (-1), but there must be at least one NUMA node, so returning NUMA node zero. See more at https://github.com/torvalds/linux/blob/v6.0/Documentation/ABI/testing/sysfs-bus-pci#L344-L355\n",
      "2024-03-01 05:08:59.180265: I external/local_xla/xla/stream_executor/cuda/cuda_executor.cc:901] successful NUMA node read from SysFS had negative value (-1), but there must be at least one NUMA node, so returning NUMA node zero. See more at https://github.com/torvalds/linux/blob/v6.0/Documentation/ABI/testing/sysfs-bus-pci#L344-L355\n",
      "2024-03-01 05:08:59.180326: I external/local_xla/xla/stream_executor/cuda/cuda_executor.cc:901] successful NUMA node read from SysFS had negative value (-1), but there must be at least one NUMA node, so returning NUMA node zero. See more at https://github.com/torvalds/linux/blob/v6.0/Documentation/ABI/testing/sysfs-bus-pci#L344-L355\n",
      "2024-03-01 05:08:59.238829: I external/local_xla/xla/stream_executor/cuda/cuda_executor.cc:901] successful NUMA node read from SysFS had negative value (-1), but there must be at least one NUMA node, so returning NUMA node zero. See more at https://github.com/torvalds/linux/blob/v6.0/Documentation/ABI/testing/sysfs-bus-pci#L344-L355\n",
      "2024-03-01 05:08:59.238937: I external/local_xla/xla/stream_executor/cuda/cuda_executor.cc:901] successful NUMA node read from SysFS had negative value (-1), but there must be at least one NUMA node, so returning NUMA node zero. See more at https://github.com/torvalds/linux/blob/v6.0/Documentation/ABI/testing/sysfs-bus-pci#L344-L355\n",
      "2024-03-01 05:08:59.239001: I external/local_xla/xla/stream_executor/cuda/cuda_executor.cc:901] successful NUMA node read from SysFS had negative value (-1), but there must be at least one NUMA node, so returning NUMA node zero. See more at https://github.com/torvalds/linux/blob/v6.0/Documentation/ABI/testing/sysfs-bus-pci#L344-L355\n",
      "2024-03-01 05:08:59.239050: I tensorflow/core/common_runtime/gpu/gpu_device.cc:1929] Created device /job:localhost/replica:0/task:0/device:GPU:0 with 721 MB memory:  -> device: 0, name: NVIDIA GeForce RTX 3080 Ti Laptop GPU, pci bus id: 0000:01:00.0, compute capability: 8.6\n"
     ]
    },
    {
     "data": {
      "text/plain": "<keras.src.engine.sequential.Sequential at 0x7f423d4d33a0>"
     },
     "execution_count": 3,
     "metadata": {},
     "output_type": "execute_result"
    }
   ],
   "source": [
    "### GRADED\n",
    "tf.random.set_seed(42)\n",
    "single_node_model = ''\n",
    "    \n",
    "# YOUR CODE HERE\n",
    "tf.random.set_seed(42)\n",
    "single_node_model = Sequential([\n",
    "    Dense(1, activation = 'sigmoid'),\n",
    "    Dense(1, activation = 'sigmoid')\n",
    "    ])\n",
    "\n",
    "### ANSWER CHECK\n",
    "single_node_model"
   ]
  },
  {
   "cell_type": "code",
   "execution_count": 4,
   "metadata": {
    "ExecuteTime": {
     "end_time": "2024-03-01T05:08:59.263387Z",
     "start_time": "2024-03-01T05:08:59.260651Z"
    }
   },
   "outputs": [
    {
     "data": {
      "text/plain": "<function keras.src.activations.sigmoid(x)>"
     },
     "execution_count": 4,
     "metadata": {},
     "output_type": "execute_result"
    }
   ],
   "source": [
    "single_node_model.layers[0].activation"
   ]
  },
  {
   "cell_type": "code",
   "execution_count": 4,
   "metadata": {
    "deletable": false,
    "editable": false,
    "nbgrader": {
     "cell_type": "code",
     "checksum": "d9265c46abc7cde10eddc9a357b8d251",
     "grade": true,
     "grade_id": "cell-caad29a86aec42f8",
     "locked": true,
     "points": 10,
     "schema_version": 3,
     "solution": false,
     "task": false
    },
    "ExecuteTime": {
     "end_time": "2024-03-01T05:08:59.265253Z",
     "start_time": "2024-03-01T05:08:59.263893Z"
    }
   },
   "outputs": [],
   "source": []
  },
  {
   "cell_type": "markdown",
   "metadata": {
    "deletable": false,
    "editable": false,
    "nbgrader": {
     "cell_type": "markdown",
     "checksum": "99d166020bd0312a7666b06205167121",
     "grade": false,
     "grade_id": "cell-a90e7130fc78980d",
     "locked": true,
     "points": 0,
     "schema_version": 3,
     "solution": false,
     "task": true
    }
   },
   "source": [
    "[Back to top](#-Index)\n",
    "\n",
    "### Problem 2\n",
    "\n",
    "#### Compiling the Network\n",
    "\n",
    "**10 Points**\n",
    "\n",
    "Now, use your `single_node_model` and specify the following elements using the `.compile` method.\n",
    "\n",
    "- `optimizer = rmsprop`\n",
    "- `loss = binary_crossentropy` or `bce`\n",
    "- `metrics = ['accuracy']`"
   ]
  },
  {
   "cell_type": "code",
   "execution_count": 5,
   "metadata": {
    "deletable": false,
    "nbgrader": {
     "cell_type": "code",
     "checksum": "9c4d780e7f1d16eb0e96990e99511dde",
     "grade": false,
     "grade_id": "cell-e253d21e36668ef0",
     "locked": false,
     "schema_version": 3,
     "solution": true,
     "task": false
    },
    "ExecuteTime": {
     "end_time": "2024-03-01T05:08:59.304597Z",
     "start_time": "2024-03-01T05:08:59.266132Z"
    }
   },
   "outputs": [
    {
     "data": {
      "text/plain": "<keras.src.engine.sequential.Sequential at 0x7f423d4d33a0>"
     },
     "execution_count": 5,
     "metadata": {},
     "output_type": "execute_result"
    }
   ],
   "source": [
    "### GRADED\n",
    "\n",
    "tf.random.set_seed(42)\n",
    "single_node_model.compile()\n",
    "\n",
    "\n",
    "# YOUR CODE HERE\n",
    "tf.random.set_seed(42)\n",
    "single_node_model.compile(optimizer='rmsprop', loss = 'binary_crossentropy', metrics = ['accuracy'])\n",
    "\n",
    "### ANSWER CHECK\n",
    "single_node_model"
   ]
  },
  {
   "cell_type": "code",
   "execution_count": 5,
   "metadata": {
    "deletable": false,
    "editable": false,
    "nbgrader": {
     "cell_type": "code",
     "checksum": "e79517eb9e54a36a314429ad135e17b4",
     "grade": true,
     "grade_id": "cell-f655e65a2446657f",
     "locked": true,
     "points": 10,
     "schema_version": 3,
     "solution": false,
     "task": false
    },
    "ExecuteTime": {
     "end_time": "2024-03-01T05:08:59.307064Z",
     "start_time": "2024-03-01T05:08:59.305479Z"
    }
   },
   "outputs": [],
   "source": []
  },
  {
   "cell_type": "markdown",
   "metadata": {
    "deletable": false,
    "editable": false,
    "nbgrader": {
     "cell_type": "markdown",
     "checksum": "b0bfbf6c2e9183a43baa8edd0ff08b0b",
     "grade": false,
     "grade_id": "cell-27499b77baa0ce58",
     "locked": true,
     "schema_version": 3,
     "solution": false,
     "task": false
    }
   },
   "source": [
    "[Back to top](#-Index)\n",
    "\n",
    "### Problem 3\n",
    "\n",
    "#### Fit the model\n",
    "\n",
    "**10 Points**\n",
    "\n",
    "With your model setup, fit the model below using the following parameters:\n",
    "\n",
    "- `epochs = 20`\n",
    "- `batch_size = 10`\n",
    "- `verbose = 0`\n",
    "\n",
    "Also, leave the `tf.random.set_seed(42)` to assure proper grading.  Assign your fit model to the variable `history` below."
   ]
  },
  {
   "cell_type": "code",
   "execution_count": 6,
   "metadata": {
    "deletable": false,
    "nbgrader": {
     "cell_type": "code",
     "checksum": "0e111b39133ab46fe9fb06cef9ec288f",
     "grade": false,
     "grade_id": "cell-edc2684ae7362db5",
     "locked": false,
     "schema_version": 3,
     "solution": true,
     "task": false
    },
    "ExecuteTime": {
     "end_time": "2024-03-01T05:09:03.123923Z",
     "start_time": "2024-03-01T05:08:59.307683Z"
    }
   },
   "outputs": [
    {
     "name": "stderr",
     "output_type": "stream",
     "text": [
      "2024-03-01 05:08:59.862934: I external/local_xla/xla/service/service.cc:168] XLA service 0x7f40f0772ba0 initialized for platform CUDA (this does not guarantee that XLA will be used). Devices:\n",
      "2024-03-01 05:08:59.862954: I external/local_xla/xla/service/service.cc:176]   StreamExecutor device (0): NVIDIA GeForce RTX 3080 Ti Laptop GPU, Compute Capability 8.6\n",
      "2024-03-01 05:08:59.866393: I tensorflow/compiler/mlir/tensorflow/utils/dump_mlir_util.cc:269] disabling MLIR crash reproducer, set env var `MLIR_CRASH_REPRODUCER_DIRECTORY` to enable.\n",
      "2024-03-01 05:08:59.874995: I external/local_xla/xla/stream_executor/cuda/cuda_dnn.cc:454] Loaded cuDNN version 8904\n",
      "WARNING: All log messages before absl::InitializeLog() is called are written to STDERR\n",
      "I0000 00:00:1709269739.902266    7325 device_compiler.h:186] Compiled cluster using XLA!  This line is logged at most once for the lifetime of the process.\n"
     ]
    },
    {
     "data": {
      "text/plain": "{'verbose': 0, 'epochs': 20, 'steps': 72}"
     },
     "execution_count": 6,
     "metadata": {},
     "output_type": "execute_result"
    }
   ],
   "source": [
    "### GRADED\n",
    "tf.random.set_seed(42)\n",
    "history = ''\n",
    "\n",
    "    \n",
    "# YOUR CODE HERE\n",
    "tf.random.set_seed(42)\n",
    "history = single_node_model.fit(x = X, y = y, epochs = 20, batch_size=10, verbose = 0)\n",
    "\n",
    "### ANSWER CHECK\n",
    "history.params"
   ]
  },
  {
   "cell_type": "code",
   "execution_count": 6,
   "metadata": {
    "deletable": false,
    "editable": false,
    "nbgrader": {
     "cell_type": "code",
     "checksum": "9c21449233a5137e67369165ae4aa258",
     "grade": true,
     "grade_id": "cell-f71d1269cb4ff9dc",
     "locked": true,
     "points": 10,
     "schema_version": 3,
     "solution": false,
     "task": false
    },
    "ExecuteTime": {
     "end_time": "2024-03-01T05:09:03.126973Z",
     "start_time": "2024-03-01T05:09:03.125055Z"
    }
   },
   "outputs": [],
   "source": []
  },
  {
   "cell_type": "markdown",
   "metadata": {
    "deletable": false,
    "editable": false,
    "nbgrader": {
     "cell_type": "markdown",
     "checksum": "134f8c12403dfb5daf5794f21bf89212",
     "grade": false,
     "grade_id": "cell-dd00fd6a508daa28",
     "locked": true,
     "schema_version": 3,
     "solution": false,
     "task": false
    }
   },
   "source": [
    "[Back to top](#-Index)\n",
    "\n",
    "### Problem 4\n",
    "\n",
    "#### Evaluate the model\n",
    "\n",
    "**10 Points**\n",
    "\n",
    "Use the `.evaluate` method of your `single_node_model` with the `X` and `y` arrays to examine the loss and accuracy of the model.  Assign these values as `single_loss` and `single_acc` below."
   ]
  },
  {
   "cell_type": "code",
   "execution_count": 7,
   "metadata": {
    "deletable": false,
    "nbgrader": {
     "cell_type": "code",
     "checksum": "18963a808f9d4ecc7b1f65ceea4252a0",
     "grade": false,
     "grade_id": "cell-3fc8d4b03bcd60f1",
     "locked": false,
     "schema_version": 3,
     "solution": true,
     "task": false
    },
    "ExecuteTime": {
     "end_time": "2024-03-01T05:09:03.291239Z",
     "start_time": "2024-03-01T05:09:03.128461Z"
    }
   },
   "outputs": [
    {
     "name": "stdout",
     "output_type": "stream",
     "text": [
      "23/23 [==============================] - 0s 3ms/step - loss: 0.6198 - accuracy: 0.6807\n",
      "0.6197721362113953\n",
      "0.680672287940979\n"
     ]
    }
   ],
   "source": [
    "### GRADED\n",
    "single_loss = ''\n",
    "single_acc = ''\n",
    "    \n",
    "# YOUR CODE HERE\n",
    "tf.random.set_seed(42)\n",
    "results = single_node_model.evaluate(X, y)\n",
    "single_loss = results[0]\n",
    "single_acc = results[1]\n",
    "\n",
    "### ANSWER CHECK\n",
    "print(single_loss)\n",
    "print(single_acc)"
   ]
  },
  {
   "cell_type": "code",
   "execution_count": 7,
   "metadata": {
    "deletable": false,
    "editable": false,
    "nbgrader": {
     "cell_type": "code",
     "checksum": "7d3c067646b37e2ea9d688ab5dbac062",
     "grade": true,
     "grade_id": "cell-0fb4c144e3ce33b4",
     "locked": true,
     "points": 10,
     "schema_version": 3,
     "solution": false,
     "task": false
    },
    "ExecuteTime": {
     "end_time": "2024-03-01T05:09:03.293766Z",
     "start_time": "2024-03-01T05:09:03.292105Z"
    }
   },
   "outputs": [],
   "source": []
  },
  {
   "cell_type": "markdown",
   "metadata": {
    "deletable": false,
    "editable": false,
    "nbgrader": {
     "cell_type": "markdown",
     "checksum": "f7414ece67ce130127048d445434f5c4",
     "grade": false,
     "grade_id": "cell-b0ed9e5e208e501a",
     "locked": true,
     "schema_version": 3,
     "solution": false,
     "task": false
    }
   },
   "source": [
    "[Back to top](#-Index)\n",
    "\n",
    "### Problem 5\n",
    "\n",
    "#### A More Complex Model\n",
    "\n",
    "**10 Points**\n",
    "\n",
    "To try to improve the model, now build and evaluate a second model that uses a single hidden layer with 100 nodes, and a single output layer.  \n",
    "\n",
    "For the hidden layer use the `relu` activation function and for the output layer use the `sigmoid` activation.  \n",
    "\n",
    "Again, set the `np.random.seed(42)`, using the same compile settings and train settings for number of epochs and batch size.  Assign the accuracy of the model to `hundred_acc` below."
   ]
  },
  {
   "cell_type": "code",
   "execution_count": 8,
   "metadata": {
    "deletable": false,
    "nbgrader": {
     "cell_type": "code",
     "checksum": "fc1bfe35d8b1c79c27fac326c51b92f1",
     "grade": false,
     "grade_id": "cell-99ca08ba0f195e6e",
     "locked": false,
     "schema_version": 3,
     "solution": true,
     "task": false
    },
    "ExecuteTime": {
     "end_time": "2024-03-01T05:09:06.439762Z",
     "start_time": "2024-03-01T05:09:03.294726Z"
    }
   },
   "outputs": [
    {
     "name": "stdout",
     "output_type": "stream",
     "text": [
      "23/23 [==============================] - 0s 1ms/step - loss: 0.6313 - acc: 0.6905\n",
      "[0.631266176700592, 0.6904761791229248]\n"
     ]
    }
   ],
   "source": [
    "### GRADED\n",
    "complex_model = ''\n",
    "hundred_acc = ''\n",
    "    \n",
    "# YOUR CODE HERE\n",
    "tf.random.set_seed(42)\n",
    "complex_model = Sequential([ Dense(100, activation = 'relu'), Dense(1, activation = 'sigmoid') ])\n",
    "complex_model.compile(loss = 'bce', optimizer = 'rmsprop', metrics = ['acc'])\n",
    "np.random.seed(42)\n",
    "history = complex_model.fit(X, y, epochs = 20, batch_size = 10, verbose = 0)\n",
    "hundred_acc = complex_model.evaluate(X, y)\n",
    "\n",
    "### ANSWER CHECK\n",
    "print(hundred_acc)"
   ]
  },
  {
   "cell_type": "code",
   "execution_count": 8,
   "metadata": {
    "deletable": false,
    "editable": false,
    "nbgrader": {
     "cell_type": "code",
     "checksum": "b860a4424a19ca1005ff03066282af4f",
     "grade": true,
     "grade_id": "cell-6abd29d1900b7ea3",
     "locked": true,
     "points": 10,
     "schema_version": 3,
     "solution": false,
     "task": false
    },
    "ExecuteTime": {
     "end_time": "2024-03-01T05:09:06.442001Z",
     "start_time": "2024-03-01T05:09:06.440360Z"
    }
   },
   "outputs": [],
   "source": []
  }
 ],
 "metadata": {
  "kernelspec": {
   "display_name": "Python 3 (ipykernel)",
   "language": "python",
   "name": "python3"
  },
  "language_info": {
   "codemirror_mode": {
    "name": "ipython",
    "version": 3
   },
   "file_extension": ".py",
   "mimetype": "text/x-python",
   "name": "python",
   "nbconvert_exporter": "python",
   "pygments_lexer": "ipython3",
   "version": "3.9.11"
  },
  "widgets": {
   "application/vnd.jupyter.widget-state+json": {
    "state": {},
    "version_major": 2,
    "version_minor": 0
   }
  }
 },
 "nbformat": 4,
 "nbformat_minor": 4
}
