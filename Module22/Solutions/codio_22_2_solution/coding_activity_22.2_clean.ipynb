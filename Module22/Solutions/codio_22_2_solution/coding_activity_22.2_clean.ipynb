{
 "cells": [
  {
   "cell_type": "markdown",
   "metadata": {
    "deletable": false,
    "editable": false,
    "nbgrader": {
     "cell_type": "markdown",
     "checksum": "929b7df9e8e3d054ade749600094489e",
     "grade": false,
     "grade_id": "cell-2426e9c3c39b6cf1",
     "locked": true,
     "schema_version": 3,
     "solution": false,
     "task": false
    }
   },
   "source": [
    "### Codio Activity 22.2: Multiple Nodes\n",
    "\n",
    "**Expected Time = 60 minutes**\n",
    "\n",
    "**Total Points = 60**\n",
    "\n",
    "This activity focuses on expanding the neural network to use three nodes for a prediction.  The main difference from your prior activity is that for each new node you will need a corresponding set of weights for features and bias.  Again, you will use a small sample of the titanic dataset to test the networks forward pass.\n",
    "\n",
    "#### Index\n",
    "\n",
    "- [Problem 1](#-Problem-1)\n",
    "- [Problem 2](#-Problem-2)\n",
    "- [Problem 3](#-Problem-3)\n",
    "- [Problem 4](#-Problem-4)\n",
    "- [Problem 5](#-Problem-5)\n",
    "- [Problem 6](#-Problem-6)"
   ]
  },
  {
   "cell_type": "code",
   "execution_count": 1,
   "metadata": {
    "ExecuteTime": {
     "end_time": "2024-02-29T21:25:57.606257Z",
     "start_time": "2024-02-29T21:25:57.604699Z"
    }
   },
   "outputs": [],
   "source": [
    "import numpy as np\n",
    "import pandas as pd\n",
    "import matplotlib.pyplot as plt"
   ]
  },
  {
   "cell_type": "code",
   "execution_count": 2,
   "metadata": {
    "ExecuteTime": {
     "end_time": "2024-02-29T21:25:57.633116Z",
     "start_time": "2024-02-29T21:25:57.606737Z"
    }
   },
   "outputs": [],
   "source": [
    "import seaborn as sns\n",
    "titanic = sns.load_dataset('titanic').dropna(subset = ['age'])\n",
    "X = titanic[['age', 'fare']].head()\n",
    "y = titanic['survived'].head()"
   ]
  },
  {
   "cell_type": "markdown",
   "metadata": {
    "deletable": false,
    "editable": false,
    "nbgrader": {
     "cell_type": "markdown",
     "checksum": "8b72910bec182f26827303868ccd5860",
     "grade": false,
     "grade_id": "cell-09a32ec897a7df6e",
     "locked": true,
     "schema_version": 3,
     "solution": false,
     "task": false
    }
   },
   "source": [
    "[Back to top](#-Index)\n",
    "\n",
    "### Problem 1\n",
    "\n",
    "#### Add bias\n",
    "\n",
    "**10 Points**\n",
    "\n",
    "Again, you will need to add a bias term to the data.  Complete the function below to add a column of 1's as the first column of your data."
   ]
  },
  {
   "cell_type": "code",
   "execution_count": 3,
   "metadata": {
    "deletable": false,
    "nbgrader": {
     "cell_type": "code",
     "checksum": "70268156568faea668e3eaf3b7bd3b19",
     "grade": false,
     "grade_id": "cell-e2111025d10c425f",
     "locked": false,
     "schema_version": 3,
     "solution": true,
     "task": false
    },
    "ExecuteTime": {
     "end_time": "2024-02-29T21:25:57.644029Z",
     "start_time": "2024-02-29T21:25:57.633744Z"
    }
   },
   "outputs": [
    {
     "data": {
      "text/plain": "   bias   age     fare\n0   1.0  22.0   7.2500\n1   1.0  38.0  71.2833\n2   1.0  26.0   7.9250\n3   1.0  35.0  53.1000\n4   1.0  35.0   8.0500",
      "text/html": "<div>\n<style scoped>\n    .dataframe tbody tr th:only-of-type {\n        vertical-align: middle;\n    }\n\n    .dataframe tbody tr th {\n        vertical-align: top;\n    }\n\n    .dataframe thead th {\n        text-align: right;\n    }\n</style>\n<table border=\"1\" class=\"dataframe\">\n  <thead>\n    <tr style=\"text-align: right;\">\n      <th></th>\n      <th>bias</th>\n      <th>age</th>\n      <th>fare</th>\n    </tr>\n  </thead>\n  <tbody>\n    <tr>\n      <th>0</th>\n      <td>1.0</td>\n      <td>22.0</td>\n      <td>7.2500</td>\n    </tr>\n    <tr>\n      <th>1</th>\n      <td>1.0</td>\n      <td>38.0</td>\n      <td>71.2833</td>\n    </tr>\n    <tr>\n      <th>2</th>\n      <td>1.0</td>\n      <td>26.0</td>\n      <td>7.9250</td>\n    </tr>\n    <tr>\n      <th>3</th>\n      <td>1.0</td>\n      <td>35.0</td>\n      <td>53.1000</td>\n    </tr>\n    <tr>\n      <th>4</th>\n      <td>1.0</td>\n      <td>35.0</td>\n      <td>8.0500</td>\n    </tr>\n  </tbody>\n</table>\n</div>"
     },
     "execution_count": 3,
     "metadata": {},
     "output_type": "execute_result"
    }
   ],
   "source": [
    "### GRADED\n",
    "def add_bias(X):\n",
    "    '''\n",
    "    This function adds a bias feature\n",
    "    as the lead column to an array X.\n",
    "    '''\n",
    "    return ''\n",
    "    \n",
    "# YOUR CODE HERE\n",
    "def add_bias(X):\n",
    "    bias = pd.Series(np.ones(len(X)), name = 'bias')\n",
    "    ans = pd.concat([bias, X], axis = 1)\n",
    "    return ans\n",
    "\n",
    "### ANSWER CHECK\n",
    "X_with_bias = add_bias(X)\n",
    "X_with_bias.head()"
   ]
  },
  {
   "cell_type": "code",
   "execution_count": 3,
   "metadata": {
    "deletable": false,
    "editable": false,
    "nbgrader": {
     "cell_type": "code",
     "checksum": "6d682c40bfa7c039a41ce38ed8af8453",
     "grade": true,
     "grade_id": "cell-c8727496c812b325",
     "locked": true,
     "points": 10,
     "schema_version": 3,
     "solution": false,
     "task": false
    },
    "ExecuteTime": {
     "end_time": "2024-02-29T21:25:57.645890Z",
     "start_time": "2024-02-29T21:25:57.644614Z"
    }
   },
   "outputs": [],
   "source": []
  },
  {
   "cell_type": "markdown",
   "metadata": {
    "deletable": false,
    "editable": false,
    "nbgrader": {
     "cell_type": "markdown",
     "checksum": "235d3484add0e56e18a4b93828648602",
     "grade": false,
     "grade_id": "cell-c207a1b5f763e0ca",
     "locked": true,
     "schema_version": 3,
     "solution": false,
     "task": false
    }
   },
   "source": [
    "[Back to top](#-Index)\n",
    "\n",
    "### Problem 2\n",
    "\n",
    "#### A weight array\n",
    "\n",
    "**10 Points**\n",
    "\n",
    "Now, because you are working with three layers, you need to create weights for the bias and each feature in each node.  This means for a 3-node layer you will need three rows of three columns of weights.  Create this array below as `weights` using `np.random.normal` with `np.random.seed(42)`. "
   ]
  },
  {
   "cell_type": "code",
   "execution_count": 4,
   "metadata": {
    "deletable": false,
    "nbgrader": {
     "cell_type": "code",
     "checksum": "0bd6d9c1395bfba7b44f4cd71a988047",
     "grade": false,
     "grade_id": "cell-0dcec7128b5d4ec5",
     "locked": false,
     "schema_version": 3,
     "solution": true,
     "task": false
    },
    "ExecuteTime": {
     "end_time": "2024-02-29T21:25:57.654837Z",
     "start_time": "2024-02-29T21:25:57.646393Z"
    }
   },
   "outputs": [
    {
     "name": "stdout",
     "output_type": "stream",
     "text": [
      "(3, 3)\n",
      "[[ 0.49671415 -0.1382643   0.64768854]\n",
      " [ 1.52302986 -0.23415337 -0.23413696]\n",
      " [ 1.57921282  0.76743473 -0.46947439]]\n"
     ]
    }
   ],
   "source": [
    "### GRADED\n",
    "weights = ''\n",
    "    \n",
    "# YOUR CODE HERE\n",
    "np.random.seed(42)\n",
    "weights = np.random.normal(size = (3, 3))\n",
    "\n",
    "### ANSWER CHECK\n",
    "print(weights.shape)\n",
    "print(weights)"
   ]
  },
  {
   "cell_type": "code",
   "execution_count": 4,
   "metadata": {
    "deletable": false,
    "editable": false,
    "nbgrader": {
     "cell_type": "code",
     "checksum": "94cd429a95f103af17db563b88937446",
     "grade": true,
     "grade_id": "cell-1e313047a6fecde7",
     "locked": true,
     "points": 10,
     "schema_version": 3,
     "solution": false,
     "task": false
    },
    "ExecuteTime": {
     "end_time": "2024-02-29T21:25:57.656588Z",
     "start_time": "2024-02-29T21:25:57.655358Z"
    }
   },
   "outputs": [],
   "source": []
  },
  {
   "cell_type": "markdown",
   "metadata": {
    "deletable": false,
    "editable": false,
    "nbgrader": {
     "cell_type": "markdown",
     "checksum": "27a46e4fddf52d3ff4bd13b7f9a03ef6",
     "grade": false,
     "grade_id": "cell-5d0c2978b2921c51",
     "locked": true,
     "schema_version": 3,
     "solution": false,
     "task": false
    }
   },
   "source": [
    "[Back to top](#-Index)\n",
    "\n",
    "### Problem 3\n",
    "\n",
    "#### Weighted Sum\n",
    "\n",
    "**10 Points**\n",
    "\n",
    "\n",
    "Again, you will use the weights to compute a weighted sum of the features and bias term with the weights.  The result should be a `(5, 3)` array.  Assign this as `layer_1_output` below."
   ]
  },
  {
   "cell_type": "code",
   "execution_count": 5,
   "metadata": {
    "deletable": false,
    "nbgrader": {
     "cell_type": "code",
     "checksum": "7b663d20574de84c71a68647c0a8d8b4",
     "grade": false,
     "grade_id": "cell-00a39e06f81ffe9b",
     "locked": false,
     "schema_version": 3,
     "solution": true,
     "task": false
    },
    "ExecuteTime": {
     "end_time": "2024-02-29T21:25:57.683476Z",
     "start_time": "2024-02-29T21:25:57.657088Z"
    }
   },
   "outputs": [
    {
     "name": "stdout",
     "output_type": "stream",
     "text": [
      "            0          1          2\n",
      "0   45.452664   0.274263  -7.907014\n",
      "1  170.943350  45.669187 -41.715199\n",
      "2   52.610752  -0.144332  -9.160457\n",
      "3  137.658960  32.417152 -32.476195\n",
      "4   66.515422  -2.155783 -11.326374\n"
     ]
    }
   ],
   "source": [
    "### GRADED\n",
    "layer_1_output = ''\n",
    "    \n",
    "# YOUR CODE HERE\n",
    "layer_1_output = X_with_bias@weights\n",
    "\n",
    "### ANSWER CHECK\n",
    "print(layer_1_output)"
   ]
  },
  {
   "cell_type": "code",
   "execution_count": 5,
   "metadata": {
    "deletable": false,
    "editable": false,
    "nbgrader": {
     "cell_type": "code",
     "checksum": "3f1a1a16bb1fbbf0c92724415a3edc21",
     "grade": true,
     "grade_id": "cell-37989b7756e3c894",
     "locked": true,
     "points": 10,
     "schema_version": 3,
     "solution": false,
     "task": false
    },
    "ExecuteTime": {
     "end_time": "2024-02-29T21:25:57.686935Z",
     "start_time": "2024-02-29T21:25:57.685212Z"
    }
   },
   "outputs": [],
   "source": []
  },
  {
   "cell_type": "markdown",
   "metadata": {
    "deletable": false,
    "editable": false,
    "nbgrader": {
     "cell_type": "markdown",
     "checksum": "2e1811100166bf825480576b8b132fd2",
     "grade": false,
     "grade_id": "cell-66fefa1e861fc14a",
     "locked": true,
     "schema_version": 3,
     "solution": false,
     "task": false
    }
   },
   "source": [
    "[Back to top](#-Index)\n",
    "\n",
    "### Problem 4\n",
    "\n",
    "#### Activation\n",
    "\n",
    "**10 Points**\n",
    "\n",
    "\n",
    "Again, use a sigmoid activation function to transform the results of the weighted sum using the sigmoid function to apply the activation function.  Assign the results as a DataFrame to `layer_1_activation` below."
   ]
  },
  {
   "cell_type": "code",
   "execution_count": 9,
   "metadata": {
    "deletable": false,
    "nbgrader": {
     "cell_type": "code",
     "checksum": "175cd23e8511e4e7c4e048e1170a3970",
     "grade": false,
     "grade_id": "cell-adb67a70e9985d37",
     "locked": false,
     "schema_version": 3,
     "solution": true,
     "task": false
    },
    "ExecuteTime": {
     "end_time": "2024-02-29T21:26:24.492208Z",
     "start_time": "2024-02-29T21:26:24.487647Z"
    }
   },
   "outputs": [
    {
     "name": "stdout",
     "output_type": "stream",
     "text": [
      "<class 'pandas.core.frame.DataFrame'>\n",
      "     0         1             2\n",
      "0  1.0  0.568139  3.680168e-04\n",
      "1  1.0  1.000000  7.643973e-19\n",
      "2  1.0  0.463980  1.051038e-04\n",
      "3  1.0  1.000000  7.866251e-15\n",
      "4  1.0  0.103792  1.205072e-05\n"
     ]
    }
   ],
   "source": [
    "### GRADED\n",
    "def sigmoid(x):\n",
    "    return ''\n",
    "\n",
    "layer_1_activation = ''\n",
    "    \n",
    "# YOUR CODE HERE\n",
    "def sigmoid(x):\n",
    "    return 1/(1 + np.exp(-x))\n",
    "\n",
    "layer_1_activation = sigmoid(layer_1_output)\n",
    "\n",
    "### ANSWER CHECK\n",
    "print(type(layer_1_activation))\n",
    "print(layer_1_activation)"
   ]
  },
  {
   "cell_type": "code",
   "execution_count": 6,
   "metadata": {
    "deletable": false,
    "editable": false,
    "nbgrader": {
     "cell_type": "code",
     "checksum": "5475349615b3feea95210b22c9ef84a9",
     "grade": true,
     "grade_id": "cell-5af3aaec49007e8e",
     "locked": true,
     "points": 10,
     "schema_version": 3,
     "solution": false,
     "task": false
    },
    "ExecuteTime": {
     "end_time": "2024-02-29T21:25:57.695450Z",
     "start_time": "2024-02-29T21:25:57.693353Z"
    }
   },
   "outputs": [],
   "source": []
  },
  {
   "cell_type": "markdown",
   "metadata": {
    "deletable": false,
    "editable": false,
    "nbgrader": {
     "cell_type": "markdown",
     "checksum": "bb22e92cb67473b31af159dfb2fe032f",
     "grade": false,
     "grade_id": "cell-f435a8df2e8fdd96",
     "locked": true,
     "schema_version": 3,
     "solution": false,
     "task": false
    }
   },
   "source": [
    "[Back to top](#-Index)\n",
    "\n",
    "### Problem 5\n",
    "\n",
    "#### Bias Term\n",
    "\n",
    "**10 Points**\n",
    "\n",
    "\n",
    "The array from above will need to again have weights applied, and these include a weight for a bias term.  Use your function to again add a bias term and assign the resulting array to `layer_1_with_bias` below.  Then create an appropriately sized array of weights for a single node named `weights_2` again using `np.random.seed(42)`.  "
   ]
  },
  {
   "cell_type": "code",
   "execution_count": 7,
   "metadata": {
    "deletable": false,
    "nbgrader": {
     "cell_type": "code",
     "checksum": "798e88015a100a9ca88c1d508cc9ce7b",
     "grade": false,
     "grade_id": "cell-25d82faece542d51",
     "locked": false,
     "schema_version": 3,
     "solution": true,
     "task": false
    },
    "ExecuteTime": {
     "end_time": "2024-02-29T21:25:57.703765Z",
     "start_time": "2024-02-29T21:25:57.696578Z"
    }
   },
   "outputs": [
    {
     "name": "stdout",
     "output_type": "stream",
     "text": [
      "   bias    0         1             2\n",
      "0   1.0  1.0  0.568139  3.680168e-04\n",
      "1   1.0  1.0  1.000000  7.643973e-19\n",
      "2   1.0  1.0  0.463980  1.051038e-04\n",
      "3   1.0  1.0  1.000000  7.866251e-15\n",
      "4   1.0  1.0  0.103792  1.205072e-05\n",
      "[ 0.49671415 -0.1382643   0.64768854  1.52302986]\n"
     ]
    }
   ],
   "source": [
    "### GRADED\n",
    "layer_1_with_bias = ''\n",
    "weights_2 = ''\n",
    "    \n",
    "# YOUR CODE HERE\n",
    "layer_1_with_bias = add_bias(layer_1_activation)\n",
    "np.random.seed(42)\n",
    "weights_2 = np.random.normal(size = (4,))\n",
    "\n",
    "### ANSWER CHECK\n",
    "print(layer_1_with_bias)\n",
    "print(weights_2)"
   ]
  },
  {
   "cell_type": "code",
   "execution_count": 7,
   "metadata": {
    "deletable": false,
    "editable": false,
    "nbgrader": {
     "cell_type": "code",
     "checksum": "8b49a524b8e012f9d306749d8cff719c",
     "grade": true,
     "grade_id": "cell-80049f3c7d5783c3",
     "locked": true,
     "points": 10,
     "schema_version": 3,
     "solution": false,
     "task": false
    },
    "ExecuteTime": {
     "end_time": "2024-02-29T21:25:57.706252Z",
     "start_time": "2024-02-29T21:25:57.704682Z"
    }
   },
   "outputs": [],
   "source": []
  },
  {
   "cell_type": "markdown",
   "metadata": {
    "deletable": false,
    "editable": false,
    "nbgrader": {
     "cell_type": "markdown",
     "checksum": "a875c38133861ec405618197ae1a7eff",
     "grade": false,
     "grade_id": "cell-85c81c5f0b55f4e6",
     "locked": true,
     "schema_version": 3,
     "solution": false,
     "task": false
    }
   },
   "source": [
    "[Back to top](#-Index)\n",
    "\n",
    "### Problem 6\n",
    "\n",
    "#### Output of First Pass\n",
    "\n",
    "**10 Points**\n",
    "\n",
    "\n",
    "Finally, use the weights and bias added data from the first layer to compute the weighted sum and pass the results through a sigmoid activation.  Use these results to predict the positive class if output > 0.5 and class 0 otherwise.  What is the accuracy on the dataset -- assign to `acc_first_pass` below."
   ]
  },
  {
   "cell_type": "code",
   "execution_count": 8,
   "metadata": {
    "deletable": false,
    "nbgrader": {
     "cell_type": "code",
     "checksum": "7801e1df7d237139767a6bd7febf24f0",
     "grade": false,
     "grade_id": "cell-45bf3f790bfaeab2",
     "locked": false,
     "schema_version": 3,
     "solution": true,
     "task": false
    },
    "ExecuteTime": {
     "end_time": "2024-02-29T21:25:57.710445Z",
     "start_time": "2024-02-29T21:25:57.706937Z"
    }
   },
   "outputs": [
    {
     "name": "stdout",
     "output_type": "stream",
     "text": [
      "0.6\n"
     ]
    }
   ],
   "source": [
    "### GRADED\n",
    "ans = ''\n",
    "acc_first_pass = ''\n",
    "    \n",
    "# YOUR CODE HERE\n",
    "ans = layer_1_with_bias  @ weights_2\n",
    "acc_first_pass = sum(y == np.where(sigmoid(ans) > .5, 1, 0))/len(y)\n",
    "\n",
    "### ANSWER CHECK\n",
    "print(acc_first_pass)"
   ]
  },
  {
   "cell_type": "code",
   "execution_count": 8,
   "metadata": {
    "deletable": false,
    "editable": false,
    "nbgrader": {
     "cell_type": "code",
     "checksum": "3300a7380b58460019949dbd385bc721",
     "grade": true,
     "grade_id": "cell-33dfacd1285115ef",
     "locked": true,
     "points": 10,
     "schema_version": 3,
     "solution": false,
     "task": false
    },
    "ExecuteTime": {
     "end_time": "2024-02-29T21:25:57.713057Z",
     "start_time": "2024-02-29T21:25:57.711269Z"
    }
   },
   "outputs": [],
   "source": []
  },
  {
   "cell_type": "markdown",
   "metadata": {
    "deletable": false,
    "editable": false,
    "nbgrader": {
     "cell_type": "markdown",
     "checksum": "c9b8fd466cadc6dc2733083f967a6748",
     "grade": false,
     "grade_id": "cell-362cee990f6dd955",
     "locked": true,
     "schema_version": 3,
     "solution": false,
     "task": false
    }
   },
   "source": [
    "Great job!  Obviously we hope to use a better approach than purely random weights -- this is where backpropogation comes in.  Next you will iteratively update these weights to hopefully improve the performance of the network."
   ]
  }
 ],
 "metadata": {
  "kernelspec": {
   "display_name": "Python 3 (ipykernel)",
   "language": "python",
   "name": "python3"
  },
  "language_info": {
   "codemirror_mode": {
    "name": "ipython",
    "version": 3
   },
   "file_extension": ".py",
   "mimetype": "text/x-python",
   "name": "python",
   "nbconvert_exporter": "python",
   "pygments_lexer": "ipython3",
   "version": "3.9.11"
  },
  "widgets": {
   "application/vnd.jupyter.widget-state+json": {
    "state": {},
    "version_major": 2,
    "version_minor": 0
   }
  }
 },
 "nbformat": 4,
 "nbformat_minor": 4
}
