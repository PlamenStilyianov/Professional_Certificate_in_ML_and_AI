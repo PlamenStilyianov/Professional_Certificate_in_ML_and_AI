{
 "cells": [
  {
   "cell_type": "markdown",
   "metadata": {
    "deletable": false,
    "editable": false,
    "nbgrader": {
     "cell_type": "markdown",
     "checksum": "1d7c36318fe2789782f33849e53f20fe",
     "grade": false,
     "grade_id": "cell-2dab136f3f285526",
     "locked": true,
     "schema_version": 3,
     "solution": false,
     "task": false
    }
   },
   "source": [
    "### Codio Activity 18.2: Named Entities\n",
    "\n",
    "**Expected Time = 45 minutes**\n",
    "\n",
    "**Total Points = 30**\n",
    "\n",
    "This activity focuses on extracting named entities from text.  The named entities will be extracted using the `nltk` library.  You will read in the full text of Newton's *Principia* and identify the entities labeled as places.  \n",
    "\n",
    "#### Index\n",
    "\n",
    "- [Problem 1](#-Problem-1)\n",
    "- [Problem 2](#-Problem-2)\n",
    "- [Problem 3](#-Problem-3)\n",
    "- [Problem 4](#-Problem-4)\n",
    "- [Problem 5](#-Problem-5)\n",
    "- [Problem 6](#-Problem-6)"
   ]
  },
  {
   "cell_type": "code",
   "execution_count": 1,
   "metadata": {
    "ExecuteTime": {
     "end_time": "2024-02-02T00:38:16.773508800Z",
     "start_time": "2024-02-02T00:38:15.890261900Z"
    }
   },
   "outputs": [
    {
     "name": "stderr",
     "output_type": "stream",
     "text": [
      "[nltk_data] Downloading package punkt to\n",
      "[nltk_data]     C:\\Users\\Plamen\\AppData\\Roaming\\nltk_data...\n",
      "[nltk_data]   Package punkt is already up-to-date!\n",
      "[nltk_data] Downloading package averaged_perceptron_tagger to\n",
      "[nltk_data]     C:\\Users\\Plamen\\AppData\\Roaming\\nltk_data...\n",
      "[nltk_data]   Package averaged_perceptron_tagger is already up-to-\n",
      "[nltk_data]       date!\n",
      "[nltk_data] Downloading package maxent_ne_chunker to\n",
      "[nltk_data]     C:\\Users\\Plamen\\AppData\\Roaming\\nltk_data...\n",
      "[nltk_data]   Package maxent_ne_chunker is already up-to-date!\n",
      "[nltk_data] Downloading package words to\n",
      "[nltk_data]     C:\\Users\\Plamen\\AppData\\Roaming\\nltk_data...\n",
      "[nltk_data]   Package words is already up-to-date!\n",
      "[nltk_data] Downloading package stopwords to\n",
      "[nltk_data]     C:\\Users\\Plamen\\AppData\\Roaming\\nltk_data...\n",
      "[nltk_data]   Package stopwords is already up-to-date!\n"
     ]
    },
    {
     "data": {
      "text/plain": "True"
     },
     "execution_count": 1,
     "metadata": {},
     "output_type": "execute_result"
    }
   ],
   "source": [
    "import nltk\n",
    "from nltk import word_tokenize\n",
    "nltk.download('punkt')\n",
    "nltk.download('averaged_perceptron_tagger')\n",
    "nltk.download('maxent_ne_chunker')\n",
    "nltk.download('words')\n",
    "nltk.download('stopwords')"
   ]
  },
  {
   "cell_type": "markdown",
   "metadata": {
    "deletable": false,
    "editable": false,
    "nbgrader": {
     "cell_type": "markdown",
     "checksum": "798b0175e2f1225eb92d53c135e0e287",
     "grade": false,
     "grade_id": "cell-c6875bd64c2ef903",
     "locked": true,
     "schema_version": 3,
     "solution": false,
     "task": false
    }
   },
   "source": [
    "[Back to top](#-Index)\n",
    "\n",
    "### Problem 1\n",
    "\n",
    "#### Opening a `.txt` file.\n",
    "\n",
    "**5 Points**\n",
    "\n",
    "Use the `open` function to open the text file with the Principia by Isaac Newton using the filepath given below.  Assign the text using the `readlines()` function to assign the text as a list of lines to the variable `principia` below. "
   ]
  },
  {
   "cell_type": "code",
   "execution_count": 2,
   "metadata": {
    "ExecuteTime": {
     "end_time": "2024-02-02T00:38:16.777121800Z",
     "start_time": "2024-02-02T00:38:16.773508800Z"
    }
   },
   "outputs": [],
   "source": [
    "filepath = 'data/Philosophiae_Naturalis_Principia_Mathematica.txt'"
   ]
  },
  {
   "cell_type": "code",
   "execution_count": 3,
   "metadata": {
    "deletable": false,
    "nbgrader": {
     "cell_type": "code",
     "checksum": "6c62ee828375870eb9f453b9d2ca4336",
     "grade": false,
     "grade_id": "cell-9aba37c2556f6459",
     "locked": false,
     "schema_version": 3,
     "solution": true,
     "task": false
    },
    "ExecuteTime": {
     "end_time": "2024-02-02T00:38:16.789565300Z",
     "start_time": "2024-02-02T00:38:16.776521700Z"
    }
   },
   "outputs": [
    {
     "name": "stdout",
     "output_type": "stream",
     "text": [
      "<class 'list'>\n"
     ]
    }
   ],
   "source": [
    "### GRADED\n",
    "with open(filepath) as f:\n",
    "    principia = ''\n",
    "\n",
    "    \n",
    "# YOUR CODE HERE\n",
    "with open(filepath) as f:\n",
    "    principia = f.readlines()\n",
    "\n",
    "### ANSWER CHECK\n",
    "print(type(principia))"
   ]
  },
  {
   "cell_type": "code",
   "execution_count": 3,
   "metadata": {
    "deletable": false,
    "editable": false,
    "nbgrader": {
     "cell_type": "code",
     "checksum": "51da6d434673cb09801dad834bafd8f8",
     "grade": true,
     "grade_id": "cell-c24bf604efe53156",
     "locked": true,
     "points": 5,
     "schema_version": 3,
     "solution": false,
     "task": false
    },
    "ExecuteTime": {
     "end_time": "2024-02-02T00:38:16.813155800Z",
     "start_time": "2024-02-02T00:38:16.789053300Z"
    }
   },
   "outputs": [],
   "source": []
  },
  {
   "cell_type": "markdown",
   "metadata": {
    "deletable": false,
    "editable": false,
    "nbgrader": {
     "cell_type": "markdown",
     "checksum": "6da18917dcf1e687c3639806291dc7dd",
     "grade": false,
     "grade_id": "cell-9a0835a4a22385e7",
     "locked": true,
     "schema_version": 3,
     "solution": false,
     "task": false
    }
   },
   "source": [
    "[Back to top](#-Index)\n",
    "\n",
    "### Problem 2\n",
    "\n",
    "#### Tokenizing the text. \n",
    "\n",
    "**5 Points**\n",
    "\n",
    "Using the `principia` variable from problem 1, combine the `' '.join()` function with `word_tokenize` to create a list of tokens named `tokens` below."
   ]
  },
  {
   "cell_type": "code",
   "execution_count": 4,
   "metadata": {
    "deletable": false,
    "nbgrader": {
     "cell_type": "code",
     "checksum": "a564a0641876a6987e47a33aea7860fe",
     "grade": false,
     "grade_id": "cell-807f689ba0e006c7",
     "locked": false,
     "schema_version": 3,
     "solution": true,
     "task": false
    },
    "ExecuteTime": {
     "end_time": "2024-02-02T00:38:16.815156Z",
     "start_time": "2024-02-02T00:38:16.792567100Z"
    }
   },
   "outputs": [
    {
     "name": "stdout",
     "output_type": "stream",
     "text": [
      "<class 'list'>\n",
      "['Philosophiae', 'Naturalis', 'Principia', 'Mathematica', 'Isaacus']\n"
     ]
    }
   ],
   "source": [
    "### GRADED\n",
    "tokens = ''\n",
    "\n",
    "    \n",
    "# YOUR CODE HERE\n",
    "tokens = word_tokenize(' '.join(principia))\n",
    "\n",
    "### ANSWER CHECK\n",
    "print(type(tokens))\n",
    "print(tokens[:5])"
   ]
  },
  {
   "cell_type": "code",
   "execution_count": 4,
   "metadata": {
    "deletable": false,
    "editable": false,
    "nbgrader": {
     "cell_type": "code",
     "checksum": "dbfa06425b989bd72c7eb129e4ee3d13",
     "grade": true,
     "grade_id": "cell-27ceb37df417dbbc",
     "locked": true,
     "points": 5,
     "schema_version": 3,
     "solution": false,
     "task": false
    },
    "ExecuteTime": {
     "end_time": "2024-02-02T00:38:16.815156Z",
     "start_time": "2024-02-02T00:38:16.809153900Z"
    }
   },
   "outputs": [],
   "source": []
  },
  {
   "cell_type": "markdown",
   "metadata": {
    "deletable": false,
    "editable": false,
    "nbgrader": {
     "cell_type": "markdown",
     "checksum": "6101f3fb37380a83f6625235aaf92927",
     "grade": false,
     "grade_id": "cell-7dcdb426f4e87995",
     "locked": true,
     "schema_version": 3,
     "solution": false,
     "task": false
    }
   },
   "source": [
    "[Back to top](#-Index)\n",
    "\n",
    "### Problem 3\n",
    "\n",
    "#### Part of Speech Tags \n",
    "\n",
    "**5 Points**\n",
    "\n",
    "Use the `pos_tag` function to create the part of speech tagged corpus of the principia text.  Assign the tagged text to the variable `words_pos` below."
   ]
  },
  {
   "cell_type": "code",
   "execution_count": 5,
   "metadata": {
    "deletable": false,
    "nbgrader": {
     "cell_type": "code",
     "checksum": "bb64dbcda526b0753e3055d1408cb7a3",
     "grade": false,
     "grade_id": "cell-650ad3c54397b85a",
     "locked": false,
     "schema_version": 3,
     "solution": true,
     "task": false
    },
    "ExecuteTime": {
     "end_time": "2024-02-02T00:38:16.926366200Z",
     "start_time": "2024-02-02T00:38:16.810155900Z"
    }
   },
   "outputs": [
    {
     "name": "stdout",
     "output_type": "stream",
     "text": [
      "<class 'list'>\n",
      "[('Philosophiae', 'NNP'), ('Naturalis', 'NNP'), ('Principia', 'NNP'), ('Mathematica', 'NNP'), ('Isaacus', 'NNP')]\n"
     ]
    }
   ],
   "source": [
    "### GRADED\n",
    "words_pos = ''\n",
    "\n",
    "    \n",
    "# YOUR CODE HERE\n",
    "words_pos = nltk.pos_tag(tokens)\n",
    "\n",
    "### ANSWER CHECK\n",
    "print(type(words_pos))\n",
    "print(words_pos[:5])"
   ]
  },
  {
   "cell_type": "code",
   "execution_count": 5,
   "metadata": {
    "deletable": false,
    "editable": false,
    "nbgrader": {
     "cell_type": "code",
     "checksum": "d4dcfa1e2aabc8951b853c709a347781",
     "grade": true,
     "grade_id": "cell-c07997113ae412c8",
     "locked": true,
     "points": 5,
     "schema_version": 3,
     "solution": false,
     "task": false
    },
    "ExecuteTime": {
     "end_time": "2024-02-02T00:38:16.927549900Z",
     "start_time": "2024-02-02T00:38:16.926366200Z"
    }
   },
   "outputs": [],
   "source": []
  },
  {
   "cell_type": "markdown",
   "metadata": {
    "deletable": false,
    "editable": false,
    "nbgrader": {
     "cell_type": "markdown",
     "checksum": "b90758c2957de27d4ebd0178d9b106b4",
     "grade": false,
     "grade_id": "cell-ee0e86460f002861",
     "locked": true,
     "schema_version": 3,
     "solution": false,
     "task": false
    }
   },
   "source": [
    "[Back to top](#-Index)\n",
    "\n",
    "### Problem 4\n",
    "\n",
    "#### Named Entities\n",
    "\n",
    "**5 Points**\n",
    "\n",
    "Use the tagged words in `words_pos` to create a list of tuples in the form (word, entity type) if the word has a named entity label.  Assign these tuples to the list `named_entities` below."
   ]
  },
  {
   "cell_type": "code",
   "execution_count": 6,
   "metadata": {
    "deletable": false,
    "nbgrader": {
     "cell_type": "code",
     "checksum": "3ecf9e424ca2d0a74c6f8deb228571d4",
     "grade": false,
     "grade_id": "cell-ce072603df835fbd",
     "locked": false,
     "schema_version": 3,
     "solution": true,
     "task": false
    },
    "ExecuteTime": {
     "end_time": "2024-02-02T00:38:17.077443Z",
     "start_time": "2024-02-02T00:38:16.930552500Z"
    }
   },
   "outputs": [
    {
     "name": "stdout",
     "output_type": "stream",
     "text": [
      "<class 'list'>\n",
      "[('Philosophiae', 'GSP'), ('Naturalis Principia Mathematica Isaacus Newtonus', 'PERSON'), ('Wikisource', 'GPE'), ('INDEX Tituli', 'ORGANIZATION'), ('Auctoris', 'GPE')]\n"
     ]
    }
   ],
   "source": [
    "### GRADED\n",
    "named_entities = []\n",
    "\n",
    "\n",
    "    \n",
    "# YOUR CODE HERE\n",
    "for word in nltk.ne_chunk(words_pos):\n",
    "    if hasattr(word, 'label'):\n",
    "        named_entities.append((' '.join(c[0] for c in word.leaves()), word.label()))\n",
    "\n",
    "### ANSWER CHECK\n",
    "print(type(named_entities))\n",
    "print(named_entities[:5])"
   ]
  },
  {
   "cell_type": "code",
   "execution_count": 6,
   "metadata": {
    "deletable": false,
    "editable": false,
    "nbgrader": {
     "cell_type": "code",
     "checksum": "1af4f00cf078c07d14a2b1e318188183",
     "grade": true,
     "grade_id": "cell-5d52b6005bcf4b3e",
     "locked": true,
     "points": 5,
     "schema_version": 3,
     "solution": false,
     "task": false
    },
    "ExecuteTime": {
     "end_time": "2024-02-02T00:38:17.081429200Z",
     "start_time": "2024-02-02T00:38:17.077443Z"
    }
   },
   "outputs": [],
   "source": []
  },
  {
   "cell_type": "markdown",
   "metadata": {
    "deletable": false,
    "editable": false,
    "nbgrader": {
     "cell_type": "markdown",
     "checksum": "117980e42503777b1295958619969a64",
     "grade": false,
     "grade_id": "cell-010a845bf5cb4d22",
     "locked": true,
     "schema_version": 3,
     "solution": false,
     "task": false
    }
   },
   "source": [
    "[Back to top](#-Index)\n",
    "\n",
    "### Problem 5\n",
    "\n",
    "#### Removing People\n",
    "\n",
    "**5 Points**\n",
    "\n",
    "Use the `named_entities` list to include only entities labeled `GPE` and create a list of these words lowercased as `places` below."
   ]
  },
  {
   "cell_type": "code",
   "execution_count": 7,
   "metadata": {
    "deletable": false,
    "nbgrader": {
     "cell_type": "code",
     "checksum": "c3dd487be3353f6cbc6d0d3a827bf33c",
     "grade": false,
     "grade_id": "cell-a23882a47b1e5974",
     "locked": false,
     "schema_version": 3,
     "solution": true,
     "task": false
    },
    "ExecuteTime": {
     "end_time": "2024-02-02T00:38:17.085432300Z",
     "start_time": "2024-02-02T00:38:17.082431600Z"
    }
   },
   "outputs": [
    {
     "name": "stdout",
     "output_type": "stream",
     "text": [
      "<class 'list'>\n",
      "['wikisource', 'auctoris', 'umbilico', 'orbibus', 'orbibus']\n"
     ]
    }
   ],
   "source": [
    "### GRADED\n",
    "places = []\n",
    "\n",
    "\n",
    "    \n",
    "# YOUR CODE HERE\n",
    "places = [i[0].lower() for i in named_entities if i[1] == 'GPE']\n",
    "\n",
    "### ANSWER CHECK\n",
    "print(type(places))\n",
    "print(places[:5])"
   ]
  },
  {
   "cell_type": "code",
   "execution_count": 7,
   "metadata": {
    "deletable": false,
    "editable": false,
    "nbgrader": {
     "cell_type": "code",
     "checksum": "c4b8626e7b43a438a8b6c5532ccb2874",
     "grade": true,
     "grade_id": "cell-e74c123002f87e04",
     "locked": true,
     "points": 5,
     "schema_version": 3,
     "solution": false,
     "task": false
    },
    "ExecuteTime": {
     "end_time": "2024-02-02T00:38:17.086432400Z",
     "start_time": "2024-02-02T00:38:17.085432300Z"
    }
   },
   "outputs": [],
   "source": []
  },
  {
   "cell_type": "markdown",
   "metadata": {
    "deletable": false,
    "editable": false,
    "nbgrader": {
     "cell_type": "markdown",
     "checksum": "19773b56574933c7f8715b928ebde43c",
     "grade": false,
     "grade_id": "cell-7d9df33ade83e4fd",
     "locked": true,
     "schema_version": 3,
     "solution": false,
     "task": false
    }
   },
   "source": [
    "[Back to top](#-Index)\n",
    "\n",
    "### Problem 6\n",
    "\n",
    "#### Removing stopwords\n",
    "\n",
    "**5 Points**\n",
    "\n",
    "Use the list `places` to remove all stopwords.  Assign these words as a list to `no_stops` below."
   ]
  },
  {
   "cell_type": "code",
   "execution_count": 8,
   "metadata": {
    "ExecuteTime": {
     "end_time": "2024-02-02T00:38:17.089880900Z",
     "start_time": "2024-02-02T00:38:17.086432400Z"
    }
   },
   "outputs": [],
   "source": [
    "from nltk.corpus import stopwords"
   ]
  },
  {
   "cell_type": "code",
   "execution_count": 9,
   "metadata": {
    "deletable": false,
    "nbgrader": {
     "cell_type": "code",
     "checksum": "584c02720e6f7afffea556246dbe7f86",
     "grade": false,
     "grade_id": "cell-f48753c59ed8ad9c",
     "locked": false,
     "schema_version": 3,
     "solution": true,
     "task": false
    },
    "ExecuteTime": {
     "end_time": "2024-02-02T00:38:17.101049600Z",
     "start_time": "2024-02-02T00:38:17.090881400Z"
    }
   },
   "outputs": [
    {
     "name": "stdout",
     "output_type": "stream",
     "text": [
      "<class 'list'>\n",
      "['wikisource', 'auctoris', 'umbilico', 'orbibus', 'orbibus', 'superficiebus', 'mediis', 'fluida']\n"
     ]
    }
   ],
   "source": [
    "### GRADED\n",
    "no_stops = ''\n",
    "\n",
    "\n",
    "    \n",
    "# YOUR CODE HERE\n",
    "no_stops = [i for i in places if not i in stopwords.words('english')]\n",
    "\n",
    "### ANSWER CHECK\n",
    "print(type(no_stops))\n",
    "print(no_stops)"
   ]
  },
  {
   "cell_type": "code",
   "execution_count": 9,
   "metadata": {
    "deletable": false,
    "editable": false,
    "nbgrader": {
     "cell_type": "code",
     "checksum": "08792c3b5df58fb35df1c6621323a6ae",
     "grade": true,
     "grade_id": "cell-233a5f1eeb96d37e",
     "locked": true,
     "points": 5,
     "schema_version": 3,
     "solution": false,
     "task": false
    },
    "ExecuteTime": {
     "end_time": "2024-02-02T00:38:17.101049600Z",
     "start_time": "2024-02-02T00:38:17.095530800Z"
    }
   },
   "outputs": [],
   "source": []
  }
 ],
 "metadata": {
  "kernelspec": {
   "display_name": "Python 3 (ipykernel)",
   "language": "python",
   "name": "python3"
  },
  "language_info": {
   "codemirror_mode": {
    "name": "ipython",
    "version": 3
   },
   "file_extension": ".py",
   "mimetype": "text/x-python",
   "name": "python",
   "nbconvert_exporter": "python",
   "pygments_lexer": "ipython3",
   "version": "3.9.11"
  }
 },
 "nbformat": 4,
 "nbformat_minor": 4
}
