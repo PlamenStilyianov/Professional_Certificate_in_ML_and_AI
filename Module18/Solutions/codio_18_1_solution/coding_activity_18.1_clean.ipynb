{
 "cells": [
  {
   "cell_type": "markdown",
   "metadata": {
    "deletable": false,
    "editable": false,
    "nbgrader": {
     "cell_type": "markdown",
     "checksum": "9baf43333b5cd938c000874dee51903d",
     "grade": false,
     "grade_id": "cell-0850ed01a49b26c2",
     "locked": true,
     "schema_version": 3,
     "solution": false,
     "task": false
    }
   },
   "source": [
    "### Codio Activity 18.1: Tokenization\n",
    "\n",
    "**Expected Time = 60 minutes** \n",
    "\n",
    "**Total Points = 60**\n",
    "\n",
    "This activity focuses on tokenizing text.  You will use `nltk` to tokenize words and sentences of given documents.  In general, tokenizing a text refers to the operation of splitting the text apart into chunks.  Here, our chunks can be individual \"words\" and \"sentences\".  These are not necessarily meant to refer to proper grammatical structure or meaning, however splitting entities based on white space, periods, or other punctuation.  \n",
    "\n",
    "#### Index\n",
    "\n",
    "- [Problem 1](#-Problem-1)\n",
    "- [Problem 2](#-Problem-2)\n",
    "- [Problem 3](#-Problem-3)\n",
    "- [Problem 4](#-Problem-4)\n",
    "- [Problem 5](#-Problem-5)\n",
    "- [Problem 6](#-Problem-6)"
   ]
  },
  {
   "cell_type": "markdown",
   "metadata": {
    "deletable": false,
    "editable": false,
    "nbgrader": {
     "cell_type": "markdown",
     "checksum": "a5fc81f800e07a8dd85a5505834b504a",
     "grade": false,
     "grade_id": "cell-b6d1d57070ae15cc",
     "locked": true,
     "schema_version": 3,
     "solution": false,
     "task": false
    }
   },
   "source": [
    "#### The Data\n",
    "\n",
    "We use both a single piece of text in the form of a lead paragraph from Isaac Newton's *Principia* and a dataset including text data from [kaggle](https://www.kaggle.com/datasets/sankha1998/emotion?select=Emotion%28sad%29.csv) related to classifying WhatsApp status. "
   ]
  },
  {
   "cell_type": "code",
   "execution_count": 12,
   "metadata": {
    "ExecuteTime": {
     "end_time": "2024-02-01T02:44:41.854349500Z",
     "start_time": "2024-02-01T02:44:41.828436400Z"
    }
   },
   "outputs": [],
   "source": [
    "principia = '''\n",
    "Since the ancients (as we are told by Pappus), made great account of the science of mechanics in the investigation of natural things; and the moderns, laying aside substantial forms and occult qualities, have endeavoured to subject the phænomena of nature to the laws of mathematics, I have in this treatise cultivated mathematics so far as it regards philosophy. The ancients considered mechanics in a twofold respect; as rational, which proceeds accurately by demonstration: and practical. To practical mechanics all the manual arts belong, from which mechanics took its name. But as artificers do not work with perfect accuracy, it comes to pass that mechanics is so distinguished from geometry, that what is perfectly accurate is called geometrical, what is less so, is called mechanical. But the errors are not in the art, but in the artificers. He that works with less accuracy is an imperfect mechanic; and if any could work with perfect accuracy, he would be the most perfect mechanic of all; for the description if right lines and circles, upon which geometry is founded, belongs to mechanics. Geometry does not teach us to draw these lines, but requires them to be drawn; for it requires that the learner should first be taught to describe these accurately, before he enters upon geometry; then it shows how by these operations problems may be solved. To describe right lines and circles are problems, but not geometrical problems. The solution of these problems is required from mechanics; and by geometry the use of them, when so solved, is shown; and it is the glory of geometry that from those few principles, brought from without, it is able to produce so many things. Therefore geometry is founded in mechanical practice, and is nothing but that part of universal mechanics which accurately proposes and demonstrates the art of measuring. But since the manual arts are chiefly conversant in the moving of bodies, it comes to pass that geometry is commonly referred to their magnitudes, and mechanics to their motion. In this sense rational mechanics will be the science of motions resulting from any forces whatsoever, and of the forces required to produce any motions, accurately proposed and demonstrated. This part of mechanics was cultivated by the ancients in the five powers which relate to manual arts, who considered gravity (it not being a manual power), no otherwise than as it moved weights by those powers. Our design not respecting arts, but philosophy, and our subject not manual but natural powers, we consider chiefly those things which relate to gravity, levity, elastic force, the resistance of fluids, and the like forces, whether attractive or impulsive; and therefore we offer this work as the mathematical principles if philosophy; for all the difficulty of philosophy seems to consist in this—from the phænomena of motions to investigate the forces of nature, and then from these forces to demonstrate the other phænomena; and to this end the general propositions in the first and second book are directed. In the third book we give an example of this in the explication of the System of the World; for by the propositions mathematically demonstrated in the former books, we in the third derive from the celestial phenomena the forces of gravity with which bodies tend to the sun and the several planets. Then from these forces, by other propositions which are also mathematical, we deduce the motions of the planets, the comets, the moon, and the sea. I wish we could derive the rest of the phænomena of nature by the same kind of reasoning from mechanical principles; for I am induced by many reasons to suspect that they may all depend upon certain forces by which the particles of bodies, by some causes hitherto unknown, are either mutually impelled towards each other, and cohere in regular figures, or are repelled and recede from each other; which forces being unknown, philosophers have hitherto attempted the search of nature in vain; but I hope the principles here laid down will afford some light either to this or some truer method of philosophy.'''"
   ]
  },
  {
   "cell_type": "code",
   "execution_count": 13,
   "metadata": {
    "ExecuteTime": {
     "end_time": "2024-02-01T02:44:41.882256Z",
     "start_time": "2024-02-01T02:44:41.845379700Z"
    }
   },
   "outputs": [
    {
     "name": "stdout",
     "output_type": "stream",
     "text": [
      "\n",
      "Since the ancients (as we are told by Pappus), made great account of the science of mechanics in the investigation of natural things; and the moderns, laying aside substantial forms and occult qualities, have endeavoured to subject the phænomena of nature to the laws of mathematics, I have in this treatise cultivated mathematics so far as it regards philosophy. The ancients considered mechanics in a twofold respect; as rational, which proceeds accurately by demonstration: and practical. To practical mechanics all the manual arts belong, from which mechanics took its name. But as artificers do not work with perfect accuracy, it comes to pass that mechanics is so distinguished from geometry, that what is perfectly accurate is called geometrical, what is less so, is called mechanical. But the errors are not in the art, but in the artificers. He that works with less accuracy is an imperfect mechanic; and if any could work with perfect accuracy, he would be the most perfect mechanic of all; for the description if right lines and circles, upon which geometry is founded, belongs to mechanics. Geometry does not teach us to draw these lines, but requires them to be drawn; for it requires that the learner should first be taught to describe these accurately, before he enters upon geometry; then it shows how by these operations problems may be solved. To describe right lines and circles are problems, but not geometrical problems. The solution of these problems is required from mechanics; and by geometry the use of them, when so solved, is shown; and it is the glory of geometry that from those few principles, brought from without, it is able to produce so many things. Therefore geometry is founded in mechanical practice, and is nothing but that part of universal mechanics which accurately proposes and demonstrates the art of measuring. But since the manual arts are chiefly conversant in the moving of bodies, it comes to pass that geometry is commonly referred to their magnitudes, and mechanics to their motion. In this sense rational mechanics will be the science of motions resulting from any forces whatsoever, and of the forces required to produce any motions, accurately proposed and demonstrated. This part of mechanics was cultivated by the ancients in the five powers which relate to manual arts, who considered gravity (it not being a manual power), no otherwise than as it moved weights by those powers. Our design not respecting arts, but philosophy, and our subject not manual but natural powers, we consider chiefly those things which relate to gravity, levity, elastic force, the resistance of fluids, and the like forces, whether attractive or impulsive; and therefore we offer this work as the mathematical principles if philosophy; for all the difficulty of philosophy seems to consist in this—from the phænomena of motions to investigate the forces of nature, and then from these forces to demonstrate the other phænomena; and to this end the general propositions in the first and second book are directed. In the third book we give an example of this in the explication of the System of the World; for by the propositions mathematically demonstrated in the former books, we in the third derive from the celestial phenomena the forces of gravity with which bodies tend to the sun and the several planets. Then from these forces, by other propositions which are also mathematical, we deduce the motions of the planets, the comets, the moon, and the sea. I wish we could derive the rest of the phænomena of nature by the same kind of reasoning from mechanical principles; for I am induced by many reasons to suspect that they may all depend upon certain forces by which the particles of bodies, by some causes hitherto unknown, are either mutually impelled towards each other, and cohere in regular figures, or are repelled and recede from each other; which forces being unknown, philosophers have hitherto attempted the search of nature in vain; but I hope the principles here laid down will afford some light either to this or some truer method of philosophy.\n"
     ]
    }
   ],
   "source": [
    "print(principia)"
   ]
  },
  {
   "cell_type": "code",
   "execution_count": 14,
   "metadata": {
    "ExecuteTime": {
     "end_time": "2024-02-01T02:44:41.883253500Z",
     "start_time": "2024-02-01T02:44:41.860329600Z"
    }
   },
   "outputs": [],
   "source": [
    "import nltk\n",
    "import pandas as pd"
   ]
  },
  {
   "cell_type": "code",
   "execution_count": 15,
   "metadata": {
    "ExecuteTime": {
     "end_time": "2024-02-01T02:44:41.909166400Z",
     "start_time": "2024-02-01T02:44:41.876276900Z"
    }
   },
   "outputs": [
    {
     "name": "stderr",
     "output_type": "stream",
     "text": [
      "[nltk_data] Downloading package punkt to\n",
      "[nltk_data]     C:\\Users\\Plamen\\AppData\\Roaming\\nltk_data...\n",
      "[nltk_data]   Package punkt is already up-to-date!\n"
     ]
    },
    {
     "data": {
      "text/plain": "True"
     },
     "execution_count": 15,
     "metadata": {},
     "output_type": "execute_result"
    }
   ],
   "source": [
    "from nltk import word_tokenize, sent_tokenize\n",
    "nltk.download('punkt')"
   ]
  },
  {
   "cell_type": "markdown",
   "metadata": {
    "deletable": false,
    "editable": false,
    "nbgrader": {
     "cell_type": "markdown",
     "checksum": "09f54e6708f4b99ea899580441427004",
     "grade": false,
     "grade_id": "cell-8678f8df6e5d33d5",
     "locked": true,
     "schema_version": 3,
     "solution": false,
     "task": false
    }
   },
   "source": [
    "[Back to top](#-Index)\n",
    "\n",
    "### Problem 1\n",
    "\n",
    "#### Word Tokenizing a String\n",
    "\n",
    "**10 Points**\n",
    "\n",
    "Use the `word_tokenize` to split the string `principia` into individual elements of the text.  Assign your results as a list to `ans1` below. "
   ]
  },
  {
   "cell_type": "code",
   "execution_count": 16,
   "metadata": {
    "deletable": false,
    "nbgrader": {
     "cell_type": "code",
     "checksum": "73ae35cda97e4cbe67c28362c4880875",
     "grade": false,
     "grade_id": "cell-0fcf4e36f634a872",
     "locked": false,
     "schema_version": 3,
     "solution": true,
     "task": false
    },
    "ExecuteTime": {
     "end_time": "2024-02-01T02:44:41.909166400Z",
     "start_time": "2024-02-01T02:44:41.891225900Z"
    }
   },
   "outputs": [
    {
     "name": "stdout",
     "output_type": "stream",
     "text": [
      "<class 'list'>\n",
      "['Since', 'the', 'ancients', '(', 'as']\n"
     ]
    }
   ],
   "source": [
    "### GRADED\n",
    "ans1 = ''\n",
    "\n",
    "    \n",
    "# YOUR CODE HERE\n",
    "ans1 = word_tokenize(principia)\n",
    "\n",
    "### ANSWER CHECK\n",
    "print(type(ans1))\n",
    "print(ans1[:5])"
   ]
  },
  {
   "cell_type": "code",
   "execution_count": 16,
   "metadata": {
    "deletable": false,
    "editable": false,
    "nbgrader": {
     "cell_type": "code",
     "checksum": "7970f171169e8c28dc2de70b0253c12d",
     "grade": true,
     "grade_id": "cell-92689918993eb7cc",
     "locked": true,
     "points": 10,
     "schema_version": 3,
     "solution": false,
     "task": false
    },
    "ExecuteTime": {
     "end_time": "2024-02-01T02:44:41.937052500Z",
     "start_time": "2024-02-01T02:44:41.905179800Z"
    }
   },
   "outputs": [],
   "source": []
  },
  {
   "cell_type": "markdown",
   "metadata": {
    "deletable": false,
    "editable": false,
    "nbgrader": {
     "cell_type": "markdown",
     "checksum": "59dad140ed8b05f74c26a5fda2cda7ba",
     "grade": false,
     "grade_id": "cell-cb1827736a6b11d3",
     "locked": true,
     "schema_version": 3,
     "solution": false,
     "task": false
    }
   },
   "source": [
    "[Back to top](#-Index)\n",
    "\n",
    "### Problem 2\n",
    "\n",
    "#### Sentence Tokenization of a string\n",
    "\n",
    "**10 Points**\n",
    "\n",
    "Rather than breaking a text apart into individual tokens or \"words\" you can split based on sentences using `sent_tokenize`. Split the principia text into sentences and assign your answer as a list to `ans2` below."
   ]
  },
  {
   "cell_type": "code",
   "execution_count": 17,
   "metadata": {
    "deletable": false,
    "nbgrader": {
     "cell_type": "code",
     "checksum": "50363f564a34ddbab7af81b5db72c5fe",
     "grade": false,
     "grade_id": "cell-791a2e377df55633",
     "locked": false,
     "schema_version": 3,
     "solution": true,
     "task": false
    },
    "ExecuteTime": {
     "end_time": "2024-02-01T02:44:41.937052500Z",
     "start_time": "2024-02-01T02:44:41.920951900Z"
    }
   },
   "outputs": [
    {
     "name": "stdout",
     "output_type": "stream",
     "text": [
      "<class 'list'>\n",
      "['\\nSince the ancients (as we are told by Pappus), made great account of the science of mechanics in the investigation of natural things; and the moderns, laying aside substantial forms and occult qualities, have endeavoured to subject the phænomena of nature to the laws of mathematics, I have in this treatise cultivated mathematics so far as it regards philosophy.', 'The ancients considered mechanics in a twofold respect; as rational, which proceeds accurately by demonstration: and practical.']\n"
     ]
    }
   ],
   "source": [
    "### GRADED\n",
    "ans2 = ''\n",
    "\n",
    "    \n",
    "# YOUR CODE HERE\n",
    "ans2 = sent_tokenize(principia)\n",
    "\n",
    "### ANSWER CHECK\n",
    "print(type(ans2))\n",
    "print(ans2[:2])"
   ]
  },
  {
   "cell_type": "code",
   "execution_count": 17,
   "metadata": {
    "deletable": false,
    "editable": false,
    "nbgrader": {
     "cell_type": "code",
     "checksum": "2a3c9c25ac5507cc48544ae251251151",
     "grade": true,
     "grade_id": "cell-26519959423c21eb",
     "locked": true,
     "points": 10,
     "schema_version": 3,
     "solution": false,
     "task": false
    },
    "ExecuteTime": {
     "end_time": "2024-02-01T02:44:41.972836400Z",
     "start_time": "2024-02-01T02:44:41.936055500Z"
    }
   },
   "outputs": [],
   "source": []
  },
  {
   "cell_type": "markdown",
   "metadata": {
    "deletable": false,
    "editable": false,
    "nbgrader": {
     "cell_type": "markdown",
     "checksum": "341c0ec605ab8ab9ee0fb52e466fc581",
     "grade": false,
     "grade_id": "cell-9a53c40e8dd0c32b",
     "locked": true,
     "schema_version": 3,
     "solution": false,
     "task": false
    }
   },
   "source": [
    "[Back to top](#-Index)\n",
    "\n",
    "### Problem 3\n",
    "\n",
    "#### Unique Words with `set`\n",
    "\n",
    "**10 Points**\n",
    "\n",
    "The tokenization does not yield unique words.  To create a collection of unique words, use the `set` function along with `word_tokenize` to create a mathematical set object of the words from the principia.  Assign your solution to `ans3` below.  "
   ]
  },
  {
   "cell_type": "code",
   "execution_count": 18,
   "metadata": {
    "deletable": false,
    "nbgrader": {
     "cell_type": "code",
     "checksum": "59fad991c18a85d96dc88eba900bfebc",
     "grade": false,
     "grade_id": "cell-0996778cdabc41b7",
     "locked": false,
     "schema_version": 3,
     "solution": true,
     "task": false
    },
    "ExecuteTime": {
     "end_time": "2024-02-01T02:44:41.973833100Z",
     "start_time": "2024-02-01T02:44:41.954182400Z"
    }
   },
   "outputs": [
    {
     "name": "stdout",
     "output_type": "stream",
     "text": [
      "<class 'set'>\n",
      "{'distinguished', 'Therefore', 'suspect', 'In', 'if', 'demonstrate', 'same', 'bodies', 'endeavoured', ')', 'sea', 'being', 'errors', 'repelled', 'impulsive', 'figures', 'mechanic', 'an', 'drawn', 'phænomena', 'ancients', 'account', 'consist', 'shown', 'fluids', 'sun', 'few', 'particles', 'some', 'is', 'belongs', 'System', 'to', 'regards', 'second', 'no', 'respecting', 'attractive', 'solved', 'moderns', 'called', 'motion', 'offer', 'World', 'powers', 'it', 'right', 'these', 'took', 'towards', 'natural', 'Our', 'design', 'operations', 'laid', 'qualities', 'will', 'subject', 'philosophers', 'geometrical', 'mathematical', 'certain', 'consider', 'them', 'as', 'former', 'planets', 'seems', 'recede', 'relate', 'whatsoever', 'shows', 'substantial', 'impelled', 'they', 'less', 'attempted', 'kind', 'induced', 'that', 'pass', 'this—from', 'resulting', 'in', 'taught', 'resistance', 'measuring', 'hitherto', 'have', 'many', 'causes', 'all', 'arts', 'unknown', 'demonstrated', 'laws', 'conversant', 'with', 'most', 'vain', 'a', 'which', 'accuracy', 'mathematically', 'here', 'wish', '(', 'This', 'so', 'solution', 'tend', 'moon', 'of', 'description', 'upon', 'may', 'books', 'celestial', 'rational', 'great', 'or', 'how', ';', 'practice', 'accurate', 'proceeds', 'mechanical', 'founded', 'treatise', 'method', 'learner', 'am', 'required', 'but', 'To', 'do', 'But', 'brought', 'therefore', 'describe', 'force', 'requires', 'science', 'sense', 'able', 'rest', 'proposed', 'could', 'comets', 'lines', 'told', '.', 'weights', 'the', 'moved', 'each', 'universal', 'Pappus', 'does', 'produce', 'use', 'be', 'example', 'demonstrates', 'He', 'hope', 'levity', 'elastic', 'philosophy', 'occult', 'far', 'first', 'enters', 'was', 'explication', 'light', 'Then', 'are', 'belong', 'those', 'manual', 'aside', 'things', ',', 'part', 'us', 'referred', 'we', 'nature', 'propositions', 'draw', 'afford', 'when', 'gravity', 'cohere', 'work', 'accurately', 'who', 'end', 'general', 'before', 'forms', 'The', 'artificers', 'depend', 'whether', 'also', 'geometry', 'made', 'not', 'regular', 'cultivated', 'perfectly', 'five', 'chiefly', 'moving', 'any', 'he', 'perfect', 'Geometry', 'search', 'nothing', 'truer', 'difficulty', 'several', 'down', 'this', 'phenomena', 'problems', 'from', ':', 'third', 'without', 'commonly', 'demonstration', 'either', 'practical', 'works', 'their', 'by', 'imperfect', 'and', 'motions', 'deduce', 'I', 'other', 'book', 'derive', 'mathematics', 'investigate', 'give', 'reasons', 'reasoning', 'principles', 'since', 'mechanics', 'laying', 'circles', 'our', 'name', 'respect', 'glory', 'forces', 'would', 'mutually', 'Since', 'art', 'otherwise', 'comes', 'magnitudes', 'like', 'directed', 'should', 'what', 'then', 'investigation', 'its', 'considered', 'proposes', 'than', 'teach', 'twofold', 'for', 'power'}\n"
     ]
    }
   ],
   "source": [
    "### GRADED\n",
    "ans3 = ''\n",
    "\n",
    "    \n",
    "# YOUR CODE HERE\n",
    "ans3 = set(word_tokenize(principia))\n",
    "\n",
    "### ANSWER CHECK\n",
    "print(type(ans3))\n",
    "print(ans3)"
   ]
  },
  {
   "cell_type": "code",
   "execution_count": 18,
   "metadata": {
    "deletable": false,
    "editable": false,
    "nbgrader": {
     "cell_type": "code",
     "checksum": "ff0dbf7813e8a921b4ea4617f59a81b9",
     "grade": true,
     "grade_id": "cell-16c98febda39396a",
     "locked": true,
     "points": 10,
     "schema_version": 3,
     "solution": false,
     "task": false
    },
    "ExecuteTime": {
     "end_time": "2024-02-01T02:44:41.995607300Z",
     "start_time": "2024-02-01T02:44:41.966161500Z"
    }
   },
   "outputs": [],
   "source": []
  },
  {
   "cell_type": "markdown",
   "metadata": {
    "deletable": false,
    "editable": false,
    "nbgrader": {
     "cell_type": "markdown",
     "checksum": "409eaa7e9a72affa404a1369e7136402",
     "grade": false,
     "grade_id": "cell-19fb0ab0f6d5616f",
     "locked": true,
     "schema_version": 3,
     "solution": false,
     "task": false
    }
   },
   "source": [
    "[Back to top](#-Index)\n",
    "\n",
    "### Problem 4\n",
    "\n",
    "#### Counts of words\n",
    "\n",
    "**10 Points**\n",
    "\n",
    "Determine the number of words in the principia text using `word_tokenize` and the `len` function.  Assign your answer as an integer to `ans4` below."
   ]
  },
  {
   "cell_type": "code",
   "execution_count": 19,
   "metadata": {
    "deletable": false,
    "nbgrader": {
     "cell_type": "code",
     "checksum": "d064d76b6c67ffce3e692345e52a5744",
     "grade": false,
     "grade_id": "cell-841fca7061fd74f5",
     "locked": false,
     "schema_version": 3,
     "solution": true,
     "task": false
    },
    "ExecuteTime": {
     "end_time": "2024-02-01T02:44:41.996758800Z",
     "start_time": "2024-02-01T02:44:41.986186600Z"
    }
   },
   "outputs": [
    {
     "name": "stdout",
     "output_type": "stream",
     "text": [
      "<class 'int'>\n",
      "766\n"
     ]
    }
   ],
   "source": [
    "### GRADED\n",
    "ans4 = ''\n",
    "\n",
    "    \n",
    "# YOUR CODE HERE\n",
    "ans4 = len(word_tokenize(principia))\n",
    "\n",
    "### ANSWER CHECK\n",
    "print(type(ans4))\n",
    "print(ans4)"
   ]
  },
  {
   "cell_type": "code",
   "execution_count": 19,
   "metadata": {
    "deletable": false,
    "editable": false,
    "nbgrader": {
     "cell_type": "code",
     "checksum": "06eda67605e608602c99a95ecf7df519",
     "grade": true,
     "grade_id": "cell-b8ea9cd99fa65f48",
     "locked": true,
     "points": 10,
     "schema_version": 3,
     "solution": false,
     "task": false
    },
    "ExecuteTime": {
     "end_time": "2024-02-01T02:44:42.030593900Z",
     "start_time": "2024-02-01T02:44:41.997799500Z"
    }
   },
   "outputs": [],
   "source": []
  },
  {
   "cell_type": "markdown",
   "metadata": {
    "deletable": false,
    "editable": false,
    "nbgrader": {
     "cell_type": "markdown",
     "checksum": "b364f6da1a160ae8a80330433fcd9fb5",
     "grade": false,
     "grade_id": "cell-c82daea35fd67882",
     "locked": true,
     "schema_version": 3,
     "solution": false,
     "task": false
    }
   },
   "source": [
    "[Back to top](#-Index)\n",
    "\n",
    "### Problem 5\n",
    "\n",
    "#### Lexical Diversity\n",
    "\n",
    "**10 Points**\n",
    "\n",
    "The lexical diversity of a text is the ratio of unique words to the total words.  Compute the lexical diversity of the principia text and assign your answer as a float to `ans5` below. \n",
    "\n",
    "Hint: Use the `length` function to find the numerial amount of unique and non-unique words"
   ]
  },
  {
   "cell_type": "code",
   "execution_count": 20,
   "metadata": {
    "deletable": false,
    "nbgrader": {
     "cell_type": "code",
     "checksum": "fa61d156ae014fa505a7a639195576b2",
     "grade": false,
     "grade_id": "cell-894fa4e09c260b21",
     "locked": false,
     "schema_version": 3,
     "solution": true,
     "task": false
    },
    "ExecuteTime": {
     "end_time": "2024-02-01T02:44:42.031590400Z",
     "start_time": "2024-02-01T02:44:42.013953Z"
    }
   },
   "outputs": [
    {
     "name": "stdout",
     "output_type": "stream",
     "text": [
      "<class 'float'>\n",
      "0.370757180156658\n",
      "284\n",
      "766\n"
     ]
    }
   ],
   "source": [
    "### GRADED\n",
    "ans5 = ''\n",
    "ans1 = len(set(word_tokenize(principia)))\n",
    "ans2 = len(word_tokenize(principia))\n",
    "    \n",
    "# YOUR CODE HERE\n",
    "ans5 = ans1/ans2\n",
    "\n",
    "### ANSWER CHECK\n",
    "print(type(ans5))\n",
    "print(ans5)\n",
    "print(ans1)\n",
    "print(ans2)"
   ]
  },
  {
   "cell_type": "code",
   "execution_count": 20,
   "metadata": {
    "deletable": false,
    "editable": false,
    "nbgrader": {
     "cell_type": "code",
     "checksum": "99c63546f9862f20ed3ecd3a55a78c96",
     "grade": true,
     "grade_id": "cell-6c100ccd634d775c",
     "locked": true,
     "points": 10,
     "schema_version": 3,
     "solution": false,
     "task": false
    },
    "ExecuteTime": {
     "end_time": "2024-02-01T02:44:42.043299200Z",
     "start_time": "2024-02-01T02:44:42.028467100Z"
    }
   },
   "outputs": [],
   "source": []
  },
  {
   "cell_type": "markdown",
   "metadata": {
    "deletable": false,
    "editable": false,
    "nbgrader": {
     "cell_type": "markdown",
     "checksum": "9b4d2df82585f948bf982541b6005a53",
     "grade": false,
     "grade_id": "cell-41685fc4be92e50f",
     "locked": true,
     "schema_version": 3,
     "solution": false,
     "task": false
    }
   },
   "source": [
    "[Back to top](#-Index)\n",
    "\n",
    "### Problem 6\n",
    "\n",
    "#### Text in a DataFrame\n",
    "\n",
    "**10 Points**\n",
    "\n",
    "To this point, we have been dealing with a block of text. How doe you work with multiple lines of text in a DataFrame? You can use `set` to determine the number of unique words (as above), but this will only provide a result PER ITEM, not for the entire DataFrame. To determine the total amount of words in a DataFrame, first use the `word_tokenize` function with the `.apply` method, and sum the resulting column to get a non-unique list of words.  Use your work above to determine the number of non-unique words (using `len`) from `happy_df` in the `content` feature given below.  Assign your answer as an integer to `ans6` below."
   ]
  },
  {
   "cell_type": "code",
   "execution_count": 21,
   "metadata": {
    "ExecuteTime": {
     "end_time": "2024-02-01T02:44:42.069449600Z",
     "start_time": "2024-02-01T02:44:42.044499600Z"
    }
   },
   "outputs": [
    {
     "data": {
      "text/plain": "                                             content sentiment\n0  Wants to know how the hell I can remember word...     happy\n1  Love is a long sweet dream & marriage is an al...     happy\n2  The world could be amazing when you are slight...     happy\n3  My secret talent is getting tired without doin...     happy\n4  Khatarnaak Whatsapp Status Ever… Can\\’t talk, ...     happy",
      "text/html": "<div>\n<style scoped>\n    .dataframe tbody tr th:only-of-type {\n        vertical-align: middle;\n    }\n\n    .dataframe tbody tr th {\n        vertical-align: top;\n    }\n\n    .dataframe thead th {\n        text-align: right;\n    }\n</style>\n<table border=\"1\" class=\"dataframe\">\n  <thead>\n    <tr style=\"text-align: right;\">\n      <th></th>\n      <th>content</th>\n      <th>sentiment</th>\n    </tr>\n  </thead>\n  <tbody>\n    <tr>\n      <th>0</th>\n      <td>Wants to know how the hell I can remember word...</td>\n      <td>happy</td>\n    </tr>\n    <tr>\n      <th>1</th>\n      <td>Love is a long sweet dream &amp; marriage is an al...</td>\n      <td>happy</td>\n    </tr>\n    <tr>\n      <th>2</th>\n      <td>The world could be amazing when you are slight...</td>\n      <td>happy</td>\n    </tr>\n    <tr>\n      <th>3</th>\n      <td>My secret talent is getting tired without doin...</td>\n      <td>happy</td>\n    </tr>\n    <tr>\n      <th>4</th>\n      <td>Khatarnaak Whatsapp Status Ever… Can\\’t talk, ...</td>\n      <td>happy</td>\n    </tr>\n  </tbody>\n</table>\n</div>"
     },
     "execution_count": 21,
     "metadata": {},
     "output_type": "execute_result"
    }
   ],
   "source": [
    "happy_df = pd.read_csv('data/Emotion(happy).csv')\n",
    "happy_df.head()"
   ]
  },
  {
   "cell_type": "code",
   "execution_count": 22,
   "metadata": {
    "deletable": false,
    "nbgrader": {
     "cell_type": "code",
     "checksum": "f8290ec9c6fcce0215b01bbfac7e3d72",
     "grade": false,
     "grade_id": "cell-04256cbd1261ea17",
     "locked": false,
     "schema_version": 3,
     "solution": true,
     "task": false
    },
    "ExecuteTime": {
     "end_time": "2024-02-01T02:44:42.136177400Z",
     "start_time": "2024-02-01T02:44:42.059434400Z"
    }
   },
   "outputs": [
    {
     "name": "stdout",
     "output_type": "stream",
     "text": [
      "<class 'int'>\n",
      "2095\n"
     ]
    }
   ],
   "source": [
    "### GRADED\n",
    "ans6 = ''\n",
    "\n",
    "    \n",
    "# YOUR CODE HERE\n",
    "words = happy_df['content'].apply(word_tokenize).sum()\n",
    "ans6 = len(set(words))\n",
    "### ANSWER CHECK\n",
    "\n",
    "print(type(ans6))\n",
    "print(ans6)"
   ]
  },
  {
   "cell_type": "code",
   "execution_count": 22,
   "metadata": {
    "deletable": false,
    "editable": false,
    "nbgrader": {
     "cell_type": "code",
     "checksum": "45c49fd9fde276f3872bcb66d3624734",
     "grade": true,
     "grade_id": "cell-7d8ecd23db616ee5",
     "locked": true,
     "points": 10,
     "schema_version": 3,
     "solution": false,
     "task": false
    },
    "ExecuteTime": {
     "end_time": "2024-02-01T02:44:42.155228500Z",
     "start_time": "2024-02-01T02:44:42.137174200Z"
    }
   },
   "outputs": [],
   "source": []
  }
 ],
 "metadata": {
  "kernelspec": {
   "display_name": "Python 3 (ipykernel)",
   "language": "python",
   "name": "python3"
  },
  "language_info": {
   "codemirror_mode": {
    "name": "ipython",
    "version": 3
   },
   "file_extension": ".py",
   "mimetype": "text/x-python",
   "name": "python",
   "nbconvert_exporter": "python",
   "pygments_lexer": "ipython3",
   "version": "3.9.11"
  }
 },
 "nbformat": 4,
 "nbformat_minor": 4
}
