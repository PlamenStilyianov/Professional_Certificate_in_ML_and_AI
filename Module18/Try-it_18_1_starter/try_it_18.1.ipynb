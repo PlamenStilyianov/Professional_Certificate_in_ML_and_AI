{
 "cells": [
  {
   "cell_type": "markdown",
   "metadata": {},
   "source": [
    "### Comparing Models and Vectorization Strategies for Text Classification\n",
    "\n",
    "This try-it focuses on weighing the positives and negatives of different estimators and vectorization strategies for a text classification problem.  In order to consider each of these components, you should make use of the `Pipeline` and `GridSearchCV` objects in scikitlearn to try different combinations of vectorizers with different estimators.  For each of these, you also want to use the `.cv_results_` to examine the time for the estimator to fit the data."
   ]
  },
  {
   "cell_type": "markdown",
   "metadata": {},
   "source": [
    "### The Data\n",
    "\n",
    "The dataset below is from [kaggle]() and contains a dataset named the \"ColBert Dataset\" created for this [paper](https://arxiv.org/pdf/2004.12765.pdf).  You are to use the text column to classify whether or not the text was humorous.  It is loaded and displayed below.\n",
    "\n",
    "**Note:** The original dataset contains 200K rows of data. It is best to try to use the full dtaset. If the original dataset is too large for your computer, please use the 'dataset-minimal.csv', which has been reduced to 100K."
   ]
  },
  {
   "cell_type": "code",
   "execution_count": 231,
   "metadata": {
    "ExecuteTime": {
     "end_time": "2024-02-06T02:13:51.370325800Z",
     "start_time": "2024-02-06T02:13:51.334449800Z"
    }
   },
   "outputs": [],
   "source": [
    "import string\n",
    "import numpy as np\n",
    "import pandas as pd\n",
    "from nltk import word_tokenize\n",
    "from sklearn.pipeline import Pipeline\n",
    "from plotly.figure_factory import create_table\n",
    "from nltk.stem import PorterStemmer, WordNetLemmatizer\n",
    "from sklearn.feature_extraction.text import CountVectorizer, TfidfVectorizer\n",
    "from sklearn.model_selection import train_test_split, GridSearchCV\n",
    "from sklearn.naive_bayes import GaussianNB, MultinomialNB\n",
    "from sklearn.tree import DecisionTreeClassifier\n",
    "from sklearn.linear_model import LogisticRegression\n",
    "from sklearn.neighbors import KNeighborsClassifier\n",
    "from sklearn.svm import SVC\n",
    "\n",
    "import warnings\n",
    "\n",
    "warnings.filterwarnings(\"ignore\")"
   ]
  },
  {
   "cell_type": "code",
   "execution_count": 232,
   "metadata": {
    "ExecuteTime": {
     "end_time": "2024-02-06T02:13:51.537466700Z",
     "start_time": "2024-02-06T02:13:51.372787800Z"
    }
   },
   "outputs": [],
   "source": [
    "df = pd.read_csv('data/dataset.csv')\n",
    "df.rename(columns={'text': 'content'}, inplace=True)"
   ]
  },
  {
   "cell_type": "code",
   "execution_count": 233,
   "metadata": {
    "ExecuteTime": {
     "end_time": "2024-02-06T02:13:51.553056600Z",
     "start_time": "2024-02-06T02:13:51.538463Z"
    }
   },
   "outputs": [
    {
     "data": {
      "text/plain": "                                             content  humor\n0  Joe biden rules out 2020 bid: 'guys, i'm not r...  False\n1  Watch: darvish gave hitter whiplash with slow ...  False\n2  What do you call a turtle without its shell? d...   True\n3      5 reasons the 2016 election feels so personal  False\n4  Pasco police shot mexican migrant from behind,...  False",
      "text/html": "<div>\n<style scoped>\n    .dataframe tbody tr th:only-of-type {\n        vertical-align: middle;\n    }\n\n    .dataframe tbody tr th {\n        vertical-align: top;\n    }\n\n    .dataframe thead th {\n        text-align: right;\n    }\n</style>\n<table border=\"1\" class=\"dataframe\">\n  <thead>\n    <tr style=\"text-align: right;\">\n      <th></th>\n      <th>content</th>\n      <th>humor</th>\n    </tr>\n  </thead>\n  <tbody>\n    <tr>\n      <th>0</th>\n      <td>Joe biden rules out 2020 bid: 'guys, i'm not r...</td>\n      <td>False</td>\n    </tr>\n    <tr>\n      <th>1</th>\n      <td>Watch: darvish gave hitter whiplash with slow ...</td>\n      <td>False</td>\n    </tr>\n    <tr>\n      <th>2</th>\n      <td>What do you call a turtle without its shell? d...</td>\n      <td>True</td>\n    </tr>\n    <tr>\n      <th>3</th>\n      <td>5 reasons the 2016 election feels so personal</td>\n      <td>False</td>\n    </tr>\n    <tr>\n      <th>4</th>\n      <td>Pasco police shot mexican migrant from behind,...</td>\n      <td>False</td>\n    </tr>\n  </tbody>\n</table>\n</div>"
     },
     "execution_count": 233,
     "metadata": {},
     "output_type": "execute_result"
    }
   ],
   "source": [
    "df.head()"
   ]
  },
  {
   "cell_type": "markdown",
   "metadata": {},
   "source": [
    "#### Task\n",
    "\n",
    "\n",
    "**Text preprocessing:** As a pre-processing step, perform both `stemming` and `lemmatizing` to normalize your text before classifying. For each technique use both the `CountVectorize`r and `TfidifVectorizer` and use options for stop words and max features to prepare the text data for your estimator.\n",
    "\n",
    "**Classification:** Once you have prepared the text data with stemming lemmatizing techniques, consider `LogisticRegression`, `DecisionTreeClassifier`, and `MultinomialNB` as classification algorithms for the data. Compare their performance in terms of accuracy and speed.\n",
    "\n",
    "Share the results of your best classifier in the form of a table with the best version of each estimator, a dictionary of the best parameters and the best score."
   ]
  },
  {
   "cell_type": "code",
   "execution_count": 234,
   "metadata": {
    "ExecuteTime": {
     "end_time": "2024-02-06T02:13:51.586686900Z",
     "start_time": "2024-02-06T02:13:51.553056600Z"
    }
   },
   "outputs": [
    {
     "data": {
      "text/plain": "              best_params best_score\nmodel                               \nLogistic                            \nDecision Tree                       \nBayes                               ",
      "text/html": "<div>\n<style scoped>\n    .dataframe tbody tr th:only-of-type {\n        vertical-align: middle;\n    }\n\n    .dataframe tbody tr th {\n        vertical-align: top;\n    }\n\n    .dataframe thead th {\n        text-align: right;\n    }\n</style>\n<table border=\"1\" class=\"dataframe\">\n  <thead>\n    <tr style=\"text-align: right;\">\n      <th></th>\n      <th>best_params</th>\n      <th>best_score</th>\n    </tr>\n    <tr>\n      <th>model</th>\n      <th></th>\n      <th></th>\n    </tr>\n  </thead>\n  <tbody>\n    <tr>\n      <th>Logistic</th>\n      <td></td>\n      <td></td>\n    </tr>\n    <tr>\n      <th>Decision Tree</th>\n      <td></td>\n      <td></td>\n    </tr>\n    <tr>\n      <th>Bayes</th>\n      <td></td>\n      <td></td>\n    </tr>\n  </tbody>\n</table>\n</div>"
     },
     "execution_count": 234,
     "metadata": {},
     "output_type": "execute_result"
    }
   ],
   "source": [
    "pd.DataFrame({'model': ['Logistic', 'Decision Tree', 'Bayes'], \n",
    "             'best_params': ['', '', ''],\n",
    "             'best_score': ['', '', '']}).set_index('model')"
   ]
  },
  {
   "cell_type": "markdown",
   "source": [
    "### Pre-porocessing"
   ],
   "metadata": {
    "collapsed": false
   }
  },
  {
   "cell_type": "code",
   "outputs": [],
   "source": [
    "def preprocess_text(text):\n",
    "    # Stemming, Lemmatizing each word, and also removing the stop words\n",
    "    stemmer = PorterStemmer()\n",
    "    lemmatizer = WordNetLemmatizer()\n",
    "    #swords = stopwords.words('english')\n",
    "\n",
    "    # text stemmed, removed the stop words and then lemmatize each word\n",
    "    tokens = word_tokenize(text)\n",
    "    text_stemmer = [stemmer.stem(word) for word in tokens if word not in string.punctuation]\n",
    "    text_lemmatizer = [lemmatizer.lemmatize(word) for word in text_stemmer]\n",
    "\n",
    "    return ' '.join(w for w in text_lemmatizer)"
   ],
   "metadata": {
    "collapsed": false,
    "ExecuteTime": {
     "end_time": "2024-02-06T02:13:51.597286700Z",
     "start_time": "2024-02-06T02:13:51.569008300Z"
    }
   },
   "execution_count": 235
  },
  {
   "cell_type": "code",
   "outputs": [],
   "source": [
    "df['content'] = df['content'].apply(preprocess_text)"
   ],
   "metadata": {
    "collapsed": false,
    "is_executing": true,
    "ExecuteTime": {
     "start_time": "2024-02-06T02:13:51.584577300Z"
    }
   },
   "execution_count": null
  },
  {
   "cell_type": "code",
   "outputs": [],
   "source": [
    "df.head()"
   ],
   "metadata": {
    "collapsed": false,
    "is_executing": true
   },
   "execution_count": null
  },
  {
   "cell_type": "markdown",
   "source": [
    "### Split Dataset on train and test subsets"
   ],
   "metadata": {
    "collapsed": false
   }
  },
  {
   "cell_type": "code",
   "outputs": [],
   "source": [
    "X = df.drop('humor', axis=1)\n",
    "y = df['humor']"
   ],
   "metadata": {
    "collapsed": false,
    "is_executing": true
   },
   "execution_count": null
  },
  {
   "cell_type": "code",
   "outputs": [],
   "source": [
    "X_train, X_test, y_train, y_test = train_test_split(X['content'], y, random_state = 42)"
   ],
   "metadata": {
    "collapsed": false,
    "is_executing": true
   },
   "execution_count": null
  },
  {
   "cell_type": "code",
   "outputs": [],
   "source": [
    "X_train.shape"
   ],
   "metadata": {
    "collapsed": false,
    "is_executing": true
   },
   "execution_count": null
  },
  {
   "cell_type": "markdown",
   "source": [
    "##### Counter Vectorizer"
   ],
   "metadata": {
    "collapsed": false
   }
  },
  {
   "cell_type": "code",
   "outputs": [],
   "source": [
    "pipelines = {\n",
    "    'lr_cv': Pipeline([('cvect', CountVectorizer()), ('classifier', LogisticRegression(solver='lbfgs', max_iter=100))]),\n",
    "#    'knn_cv': Pipeline([('cvect', CountVectorizer()), ('classifier', KNeighborsClassifier())]),\n",
    "#    'dt_cv': Pipeline([('cvect', CountVectorizer()), ('classifier', DecisionTreeClassifier())]),\n",
    "#    'svm_cv': Pipeline([('cvect', CountVectorizer()), ('classifier', SVC())]),\n",
    "#    'gnb_cv': Pipeline([('cvect', CountVectorizer()), ('classifier', GaussianNB())]),\n",
    "    'mnb_cv': Pipeline([('cvect', CountVectorizer()), ('classifier', MultinomialNB())]),\n",
    "    'lr_tf': Pipeline([('tfidf', TfidfVectorizer()), ('classifier', LogisticRegression(solver='lbfgs', max_iter=100))]),\n",
    "    #    'knn_tf': Pipeline([('tfidf', TfidfVectorizer()), ('classifier', KNeighborsClassifier())]),\n",
    "    #    'dt_tf': Pipeline([('tfidf', TfidfVectorizer()), ('classifier', DecisionTreeClassifier())]),\n",
    "    #    'svm_tf': Pipeline([('tfidf', TfidfVectorizer()), ('classifier', SVC())]),\n",
    "    #    'gnb_tf': Pipeline([('tfidf', TfidfVectorizer()), ('classifier', GaussianNB())]),\n",
    "    'mnb_tf': Pipeline([('tfidf', CountVectorizer()), ('classifier', MultinomialNB())]),\n",
    "}"
   ],
   "metadata": {
    "collapsed": false,
    "is_executing": true
   },
   "execution_count": null
  },
  {
   "cell_type": "code",
   "outputs": [],
   "source": [
    "params = {'cvect__max_features': [100, 500, 1000, 2000],\n",
    "          'cvect__stop_words': ['english', None]}"
   ],
   "metadata": {
    "collapsed": false,
    "is_executing": true
   },
   "execution_count": null
  },
  {
   "cell_type": "code",
   "outputs": [],
   "source": [
    "report_data = {'Model':[], 'best_parameters':[], 'best_score':[], 'fit_time':[]} \n",
    "for pipeline in list(pipelines.values()):\n",
    "    grid = GridSearchCV(pipeline, param_grid=params, scoring='accuracy', cv=5)\n",
    "    grid.fit(X_train, y_train)\n",
    "    best_score = grid.best_score_\n",
    "    best_parameters = grid.best_params_\n",
    "    fit_time = np.mean(grid.cv_results_['mean_fit_time'])\n",
    "    report_data['Model'].append(f\"{grid.estimator.__class__.__name__}_{ 'CountVector' if grid.best_estimator_.steps[0][0] == 'cvect' else 'TfidfVector'}\" )\n",
    "    report_data['best_parameters'].append(best_parameters)\n",
    "    report_data['best_score'].append(best_score)\n",
    "    report_data['fit_time'].append(fit_time)\n",
    "    print(f'Best hyperparameters for {grid.estimator.__class__.__name__}: {best_parameters}')\n",
    "    print(f'the {grid.estimator.__class__.__name__} Model accuracy score: {best_score}')\n",
    "    print(f'the {grid.estimator.__class__.__name__} Model score time: {fit_time}')"
   ],
   "metadata": {
    "collapsed": false,
    "is_executing": true
   },
   "execution_count": null
  },
  {
   "cell_type": "code",
   "outputs": [],
   "source": [
    "df_scores = pd.DataFrame.from_dict(report_data)\n",
    "df_scores.set_index('Model', inplace=True)\n",
    "df_scores.head()"
   ],
   "metadata": {
    "collapsed": false,
    "is_executing": true
   },
   "execution_count": null
  },
  {
   "cell_type": "code",
   "outputs": [],
   "source": [
    "create_table(df_scores, index_title='Model',index=True)"
   ],
   "metadata": {
    "collapsed": false,
    "is_executing": true
   }
  }
 ],
 "metadata": {
  "kernelspec": {
   "display_name": "Python 3",
   "language": "python",
   "name": "python3"
  },
  "language_info": {
   "codemirror_mode": {
    "name": "ipython",
    "version": 3
   },
   "file_extension": ".py",
   "mimetype": "text/x-python",
   "name": "python",
   "nbconvert_exporter": "python",
   "pygments_lexer": "ipython3",
   "version": "3.8.8"
  }
 },
 "nbformat": 4,
 "nbformat_minor": 4
}
