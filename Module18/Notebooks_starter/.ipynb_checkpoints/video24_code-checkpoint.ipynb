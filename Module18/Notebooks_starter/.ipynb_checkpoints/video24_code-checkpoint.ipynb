{
 "cells": [
  {
   "cell_type": "code",
   "execution_count": 1,
   "id": "81a5df23",
   "metadata": {
    "ExecuteTime": {
     "end_time": "2024-01-31T22:21:26.699208400Z",
     "start_time": "2024-01-31T22:21:21.623693Z"
    }
   },
   "outputs": [],
   "source": [
    "import nltk\n",
    "import numpy as np\n",
    "import warnings\n",
    "\n",
    "warnings.filterwarnings(\"ignore\")"
   ]
  },
  {
   "cell_type": "code",
   "execution_count": 2,
   "id": "11750b69",
   "metadata": {
    "ExecuteTime": {
     "end_time": "2024-01-31T22:22:23.404143700Z",
     "start_time": "2024-01-31T22:21:26.700422600Z"
    }
   },
   "outputs": [
    {
     "name": "stderr",
     "output_type": "stream",
     "text": [
      "[nltk_data] Downloading package punkt to\n",
      "[nltk_data]     C:\\Users\\Plamen\\AppData\\Roaming\\nltk_data...\n",
      "[nltk_data]   Unzipping tokenizers\\punkt.zip.\n",
      "[nltk_data] Error with downloaded zip file\n",
      "[nltk_data] Downloading package maxent_ne_chunker to\n",
      "[nltk_data]     C:\\Users\\Plamen\\AppData\\Roaming\\nltk_data...\n",
      "[nltk_data]   Unzipping chunkers\\maxent_ne_chunker.zip.\n",
      "[nltk_data] Error with downloaded zip file\n",
      "[nltk_data] Downloading package words to\n",
      "[nltk_data]     C:\\Users\\Plamen\\AppData\\Roaming\\nltk_data...\n",
      "[nltk_data]   Unzipping corpora\\words.zip.\n",
      "[nltk_data] Downloading package stopwords to\n",
      "[nltk_data]     C:\\Users\\Plamen\\AppData\\Roaming\\nltk_data...\n",
      "[nltk_data]   Unzipping corpora\\stopwords.zip.\n",
      "[nltk_data] Downloading package wordnet to\n",
      "[nltk_data]     C:\\Users\\Plamen\\AppData\\Roaming\\nltk_data...\n",
      "[nltk_data] Downloading package omw-1.4 to\n",
      "[nltk_data]     C:\\Users\\Plamen\\AppData\\Roaming\\nltk_data...\n",
      "[nltk_data] Downloading package averaged_perceptron_tagger to\n",
      "[nltk_data]     C:\\Users\\Plamen\\AppData\\Roaming\\nltk_data...\n",
      "[nltk_data]   Unzipping taggers\\averaged_perceptron_tagger.zip.\n"
     ]
    },
    {
     "data": {
      "text/plain": [
       "True"
      ]
     },
     "execution_count": 2,
     "metadata": {},
     "output_type": "execute_result"
    }
   ],
   "source": [
    "nltk.download('punkt')\n",
    "nltk.download('maxent_ne_chunker')\n",
    "nltk.download('words')\n",
    "nltk.download('stopwords')\n",
    "nltk.download('wordnet')\n",
    "nltk.download('omw-1.4')\n",
    "nltk.download('averaged_perceptron_tagger')"
   ]
  },
  {
   "cell_type": "markdown",
   "id": "435c512f",
   "metadata": {},
   "source": [
    "# Positive review"
   ]
  },
  {
   "cell_type": "code",
   "execution_count": 3,
   "id": "29242f15",
   "metadata": {
    "ExecuteTime": {
     "end_time": "2024-01-31T22:22:23.914149200Z",
     "start_time": "2024-01-31T22:22:23.404143700Z"
    }
   },
   "outputs": [
    {
     "name": "stdout",
     "output_type": "stream",
     "text": [
      "I enjoyed 'Minority Report'. Tom Cruise didn't disappoint, and Steven Spielberg is at the top of his game. The movie was long but it wasn't boring. GREAT MOVIE!\n"
     ]
    }
   ],
   "source": [
    "text = \"I enjoyed 'Minority Report'. Tom Cruise didn't disappoint, and Steven Spielberg is at the top of his game. The movie was long but it wasn't boring. GREAT MOVIE!\"\n",
    "print(text)"
   ]
  },
  {
   "cell_type": "markdown",
   "id": "d113d2b2",
   "metadata": {},
   "source": [
    "## sentence tokenize"
   ]
  },
  {
   "cell_type": "code",
   "execution_count": 4,
   "id": "37ae8269",
   "metadata": {
    "ExecuteTime": {
     "end_time": "2024-01-31T22:22:24.026787100Z",
     "start_time": "2024-01-31T22:22:23.852622300Z"
    }
   },
   "outputs": [
    {
     "ename": "LookupError",
     "evalue": "\n**********************************************************************\n  Resource \u001b[93mpunkt\u001b[0m not found.\n  Please use the NLTK Downloader to obtain the resource:\n\n  \u001b[31m>>> import nltk\n  >>> nltk.download('punkt')\n  \u001b[0m\n  For more information see: https://www.nltk.org/data.html\n\n  Attempted to load \u001b[93mtokenizers/punkt/english.pickle\u001b[0m\n\n  Searched in:\n    - 'C:\\\\Users\\\\Plamen/nltk_data'\n    - 'C:\\\\Java\\\\Python3.10.8\\\\nltk_data'\n    - 'C:\\\\Java\\\\Python3.10.8\\\\share\\\\nltk_data'\n    - 'C:\\\\Java\\\\Python3.10.8\\\\lib\\\\nltk_data'\n    - 'C:\\\\Users\\\\Plamen\\\\AppData\\\\Roaming\\\\nltk_data'\n    - 'C:\\\\nltk_data'\n    - 'D:\\\\nltk_data'\n    - 'E:\\\\nltk_data'\n    - ''\n**********************************************************************\n",
     "output_type": "error",
     "traceback": [
      "\u001b[1;31m---------------------------------------------------------------------------\u001b[0m",
      "\u001b[1;31mLookupError\u001b[0m                               Traceback (most recent call last)",
      "Cell \u001b[1;32mIn[4], line 1\u001b[0m\n\u001b[1;32m----> 1\u001b[0m sentences \u001b[38;5;241m=\u001b[39m \u001b[43mnltk\u001b[49m\u001b[38;5;241;43m.\u001b[39;49m\u001b[43msent_tokenize\u001b[49m\u001b[43m(\u001b[49m\u001b[43mtext\u001b[49m\u001b[43m)\u001b[49m\n\u001b[0;32m      3\u001b[0m \u001b[38;5;28mprint\u001b[39m(\u001b[38;5;28mlen\u001b[39m(sentences))\n\u001b[0;32m      4\u001b[0m \u001b[38;5;28;01mfor\u001b[39;00m sentence \u001b[38;5;129;01min\u001b[39;00m sentences:\n",
      "File \u001b[1;32mC:\\Java\\Python3.10.8\\lib\\site-packages\\nltk\\tokenize\\__init__.py:106\u001b[0m, in \u001b[0;36msent_tokenize\u001b[1;34m(text, language)\u001b[0m\n\u001b[0;32m     96\u001b[0m \u001b[38;5;28;01mdef\u001b[39;00m \u001b[38;5;21msent_tokenize\u001b[39m(text, language\u001b[38;5;241m=\u001b[39m\u001b[38;5;124m\"\u001b[39m\u001b[38;5;124menglish\u001b[39m\u001b[38;5;124m\"\u001b[39m):\n\u001b[0;32m     97\u001b[0m \u001b[38;5;250m    \u001b[39m\u001b[38;5;124;03m\"\"\"\u001b[39;00m\n\u001b[0;32m     98\u001b[0m \u001b[38;5;124;03m    Return a sentence-tokenized copy of *text*,\u001b[39;00m\n\u001b[0;32m     99\u001b[0m \u001b[38;5;124;03m    using NLTK's recommended sentence tokenizer\u001b[39;00m\n\u001b[1;32m   (...)\u001b[0m\n\u001b[0;32m    104\u001b[0m \u001b[38;5;124;03m    :param language: the model name in the Punkt corpus\u001b[39;00m\n\u001b[0;32m    105\u001b[0m \u001b[38;5;124;03m    \"\"\"\u001b[39;00m\n\u001b[1;32m--> 106\u001b[0m     tokenizer \u001b[38;5;241m=\u001b[39m \u001b[43mload\u001b[49m\u001b[43m(\u001b[49m\u001b[38;5;124;43mf\u001b[39;49m\u001b[38;5;124;43m\"\u001b[39;49m\u001b[38;5;124;43mtokenizers/punkt/\u001b[39;49m\u001b[38;5;132;43;01m{\u001b[39;49;00m\u001b[43mlanguage\u001b[49m\u001b[38;5;132;43;01m}\u001b[39;49;00m\u001b[38;5;124;43m.pickle\u001b[39;49m\u001b[38;5;124;43m\"\u001b[39;49m\u001b[43m)\u001b[49m\n\u001b[0;32m    107\u001b[0m     \u001b[38;5;28;01mreturn\u001b[39;00m tokenizer\u001b[38;5;241m.\u001b[39mtokenize(text)\n",
      "File \u001b[1;32mC:\\Java\\Python3.10.8\\lib\\site-packages\\nltk\\data.py:750\u001b[0m, in \u001b[0;36mload\u001b[1;34m(resource_url, format, cache, verbose, logic_parser, fstruct_reader, encoding)\u001b[0m\n\u001b[0;32m    747\u001b[0m     \u001b[38;5;28mprint\u001b[39m(\u001b[38;5;124mf\u001b[39m\u001b[38;5;124m\"\u001b[39m\u001b[38;5;124m<<Loading \u001b[39m\u001b[38;5;132;01m{\u001b[39;00mresource_url\u001b[38;5;132;01m}\u001b[39;00m\u001b[38;5;124m>>\u001b[39m\u001b[38;5;124m\"\u001b[39m)\n\u001b[0;32m    749\u001b[0m \u001b[38;5;66;03m# Load the resource.\u001b[39;00m\n\u001b[1;32m--> 750\u001b[0m opened_resource \u001b[38;5;241m=\u001b[39m \u001b[43m_open\u001b[49m\u001b[43m(\u001b[49m\u001b[43mresource_url\u001b[49m\u001b[43m)\u001b[49m\n\u001b[0;32m    752\u001b[0m \u001b[38;5;28;01mif\u001b[39;00m \u001b[38;5;28mformat\u001b[39m \u001b[38;5;241m==\u001b[39m \u001b[38;5;124m\"\u001b[39m\u001b[38;5;124mraw\u001b[39m\u001b[38;5;124m\"\u001b[39m:\n\u001b[0;32m    753\u001b[0m     resource_val \u001b[38;5;241m=\u001b[39m opened_resource\u001b[38;5;241m.\u001b[39mread()\n",
      "File \u001b[1;32mC:\\Java\\Python3.10.8\\lib\\site-packages\\nltk\\data.py:876\u001b[0m, in \u001b[0;36m_open\u001b[1;34m(resource_url)\u001b[0m\n\u001b[0;32m    873\u001b[0m protocol, path_ \u001b[38;5;241m=\u001b[39m split_resource_url(resource_url)\n\u001b[0;32m    875\u001b[0m \u001b[38;5;28;01mif\u001b[39;00m protocol \u001b[38;5;129;01mis\u001b[39;00m \u001b[38;5;28;01mNone\u001b[39;00m \u001b[38;5;129;01mor\u001b[39;00m protocol\u001b[38;5;241m.\u001b[39mlower() \u001b[38;5;241m==\u001b[39m \u001b[38;5;124m\"\u001b[39m\u001b[38;5;124mnltk\u001b[39m\u001b[38;5;124m\"\u001b[39m:\n\u001b[1;32m--> 876\u001b[0m     \u001b[38;5;28;01mreturn\u001b[39;00m \u001b[43mfind\u001b[49m\u001b[43m(\u001b[49m\u001b[43mpath_\u001b[49m\u001b[43m,\u001b[49m\u001b[43m \u001b[49m\u001b[43mpath\u001b[49m\u001b[43m \u001b[49m\u001b[38;5;241;43m+\u001b[39;49m\u001b[43m \u001b[49m\u001b[43m[\u001b[49m\u001b[38;5;124;43m\"\u001b[39;49m\u001b[38;5;124;43m\"\u001b[39;49m\u001b[43m]\u001b[49m\u001b[43m)\u001b[49m\u001b[38;5;241m.\u001b[39mopen()\n\u001b[0;32m    877\u001b[0m \u001b[38;5;28;01melif\u001b[39;00m protocol\u001b[38;5;241m.\u001b[39mlower() \u001b[38;5;241m==\u001b[39m \u001b[38;5;124m\"\u001b[39m\u001b[38;5;124mfile\u001b[39m\u001b[38;5;124m\"\u001b[39m:\n\u001b[0;32m    878\u001b[0m     \u001b[38;5;66;03m# urllib might not use mode='rb', so handle this one ourselves:\u001b[39;00m\n\u001b[0;32m    879\u001b[0m     \u001b[38;5;28;01mreturn\u001b[39;00m find(path_, [\u001b[38;5;124m\"\u001b[39m\u001b[38;5;124m\"\u001b[39m])\u001b[38;5;241m.\u001b[39mopen()\n",
      "File \u001b[1;32mC:\\Java\\Python3.10.8\\lib\\site-packages\\nltk\\data.py:583\u001b[0m, in \u001b[0;36mfind\u001b[1;34m(resource_name, paths)\u001b[0m\n\u001b[0;32m    581\u001b[0m sep \u001b[38;5;241m=\u001b[39m \u001b[38;5;124m\"\u001b[39m\u001b[38;5;124m*\u001b[39m\u001b[38;5;124m\"\u001b[39m \u001b[38;5;241m*\u001b[39m \u001b[38;5;241m70\u001b[39m\n\u001b[0;32m    582\u001b[0m resource_not_found \u001b[38;5;241m=\u001b[39m \u001b[38;5;124mf\u001b[39m\u001b[38;5;124m\"\u001b[39m\u001b[38;5;130;01m\\n\u001b[39;00m\u001b[38;5;132;01m{\u001b[39;00msep\u001b[38;5;132;01m}\u001b[39;00m\u001b[38;5;130;01m\\n\u001b[39;00m\u001b[38;5;132;01m{\u001b[39;00mmsg\u001b[38;5;132;01m}\u001b[39;00m\u001b[38;5;130;01m\\n\u001b[39;00m\u001b[38;5;132;01m{\u001b[39;00msep\u001b[38;5;132;01m}\u001b[39;00m\u001b[38;5;130;01m\\n\u001b[39;00m\u001b[38;5;124m\"\u001b[39m\n\u001b[1;32m--> 583\u001b[0m \u001b[38;5;28;01mraise\u001b[39;00m \u001b[38;5;167;01mLookupError\u001b[39;00m(resource_not_found)\n",
      "\u001b[1;31mLookupError\u001b[0m: \n**********************************************************************\n  Resource \u001b[93mpunkt\u001b[0m not found.\n  Please use the NLTK Downloader to obtain the resource:\n\n  \u001b[31m>>> import nltk\n  >>> nltk.download('punkt')\n  \u001b[0m\n  For more information see: https://www.nltk.org/data.html\n\n  Attempted to load \u001b[93mtokenizers/punkt/english.pickle\u001b[0m\n\n  Searched in:\n    - 'C:\\\\Users\\\\Plamen/nltk_data'\n    - 'C:\\\\Java\\\\Python3.10.8\\\\nltk_data'\n    - 'C:\\\\Java\\\\Python3.10.8\\\\share\\\\nltk_data'\n    - 'C:\\\\Java\\\\Python3.10.8\\\\lib\\\\nltk_data'\n    - 'C:\\\\Users\\\\Plamen\\\\AppData\\\\Roaming\\\\nltk_data'\n    - 'C:\\\\nltk_data'\n    - 'D:\\\\nltk_data'\n    - 'E:\\\\nltk_data'\n    - ''\n**********************************************************************\n"
     ]
    }
   ],
   "source": [
    "sentences = nltk.sent_tokenize(text)\n",
    "\n",
    "print(len(sentences))\n",
    "for sentence in sentences:\n",
    "    print(sentence)"
   ]
  },
  {
   "cell_type": "markdown",
   "id": "a445b1b4",
   "metadata": {},
   "source": [
    "## word tokenize"
   ]
  },
  {
   "cell_type": "code",
   "execution_count": null,
   "id": "cf2081cf",
   "metadata": {
    "ExecuteTime": {
     "end_time": "2024-01-31T22:22:24.038723600Z",
     "start_time": "2024-01-31T22:22:24.027760200Z"
    }
   },
   "outputs": [],
   "source": [
    "words = nltk.word_tokenize(text)\n",
    "print(len(words))\n",
    "print(words[:10])\n",
    "print(words[10:20])\n",
    "print(words[20:32])\n",
    "print(words[32:])"
   ]
  },
  {
   "cell_type": "markdown",
   "id": "73b470c8",
   "metadata": {},
   "source": [
    "# Parts of speech"
   ]
  },
  {
   "cell_type": "code",
   "execution_count": null,
   "id": "243509bc",
   "metadata": {
    "ExecuteTime": {
     "start_time": "2024-01-31T22:22:24.028756800Z"
    }
   },
   "outputs": [],
   "source": [
    "nltk.download('tagsets')\n",
    "nltk.help.upenn_tagset('PRP$')"
   ]
  },
  {
   "cell_type": "code",
   "execution_count": null,
   "id": "4b7c76af",
   "metadata": {
    "ExecuteTime": {
     "start_time": "2024-01-31T22:22:24.029753400Z"
    }
   },
   "outputs": [],
   "source": [
    "nltk.help.upenn_tagset('PRP$')"
   ]
  },
  {
   "cell_type": "code",
   "execution_count": null,
   "id": "c48b5904",
   "metadata": {
    "ExecuteTime": {
     "start_time": "2024-01-31T22:22:24.030750400Z"
    }
   },
   "outputs": [],
   "source": [
    "nltk.pos_tag(nltk.word_tokenize('The movie was long but it was not boring'))"
   ]
  },
  {
   "cell_type": "code",
   "execution_count": null,
   "id": "acc2cd63",
   "metadata": {
    "ExecuteTime": {
     "start_time": "2024-01-31T22:22:24.032743300Z"
    }
   },
   "outputs": [],
   "source": [
    "words_pos = nltk.pos_tag(words)\n",
    "words_pos"
   ]
  },
  {
   "cell_type": "markdown",
   "id": "a080f5b0",
   "metadata": {},
   "source": [
    "# Named entity recognition"
   ]
  },
  {
   "cell_type": "code",
   "execution_count": null,
   "id": "0943edad",
   "metadata": {
    "ExecuteTime": {
     "start_time": "2024-01-31T22:22:24.033740100Z"
    }
   },
   "outputs": [],
   "source": [
    "named_entities = []\n",
    "for t in nltk.ne_chunk(words_pos):\n",
    "    if hasattr(t,'label'):\n",
    "        e_name = ' '.join(c[0] for c in t.leaves());\n",
    "        e_type = t.label()\n",
    "        named_entities.append((e_name, e_type))\n",
    "        \n",
    "print(named_entities)"
   ]
  },
  {
   "cell_type": "markdown",
   "id": "11858595",
   "metadata": {},
   "source": [
    "## Remove named entities and lower case\n"
   ]
  },
  {
   "cell_type": "code",
   "execution_count": null,
   "id": "c5013436",
   "metadata": {
    "ExecuteTime": {
     "start_time": "2024-01-31T22:22:24.034736900Z"
    }
   },
   "outputs": [],
   "source": [
    "words_nonames = words.copy()\n",
    "for ne in named_entities:\n",
    "    if ne[1]=='PERSON':\n",
    "        for name in nltk.word_tokenize(ne[0]):\n",
    "            words_nonames.remove(name)"
   ]
  },
  {
   "cell_type": "code",
   "execution_count": null,
   "id": "f421dce7",
   "metadata": {
    "ExecuteTime": {
     "start_time": "2024-01-31T22:22:24.035733700Z"
    }
   },
   "outputs": [],
   "source": [
    "words_nonames_lower = [word.lower() for word in words_nonames]\n",
    "' '.join(words_nonames_lower)"
   ]
  },
  {
   "cell_type": "markdown",
   "id": "337dc0ae",
   "metadata": {},
   "source": [
    "## Remove stopwords"
   ]
  },
  {
   "cell_type": "code",
   "execution_count": null,
   "id": "bd7e1c00",
   "metadata": {
    "ExecuteTime": {
     "start_time": "2024-01-31T22:22:24.036730Z"
    }
   },
   "outputs": [],
   "source": [
    "from nltk.corpus import stopwords\n",
    "swords = stopwords.words('english') "
   ]
  },
  {
   "cell_type": "code",
   "execution_count": null,
   "id": "cf596ef6",
   "metadata": {
    "ExecuteTime": {
     "start_time": "2024-01-31T22:22:24.037726500Z"
    }
   },
   "outputs": [],
   "source": [
    "words_nonames_lower_nostop = [w for w in words_nonames_lower if not w in swords]\n",
    "print(' '.join(words_nonames_lower_nostop))"
   ]
  },
  {
   "cell_type": "code",
   "execution_count": null,
   "id": "a3253f55",
   "metadata": {
    "ExecuteTime": {
     "end_time": "2024-01-31T22:22:24.047702Z",
     "start_time": "2024-01-31T22:22:24.039719900Z"
    }
   },
   "outputs": [],
   "source": [
    "print(len(words_nonames_lower_nostop))"
   ]
  },
  {
   "cell_type": "markdown",
   "id": "faeffa94",
   "metadata": {},
   "source": [
    "## Stemming"
   ]
  },
  {
   "cell_type": "code",
   "execution_count": null,
   "id": "d6d19f20",
   "metadata": {
    "ExecuteTime": {
     "start_time": "2024-01-31T22:22:24.040716800Z"
    }
   },
   "outputs": [],
   "source": [
    "from nltk.stem import PorterStemmer\n",
    "stemmer = PorterStemmer()"
   ]
  },
  {
   "cell_type": "code",
   "execution_count": null,
   "id": "96fd8a54",
   "metadata": {
    "ExecuteTime": {
     "start_time": "2024-01-31T22:22:24.042713500Z"
    }
   },
   "outputs": [],
   "source": [
    "A = ['joy','joyful','joyfully','joyous','geese']\n",
    "[stemmer.stem(w) for w in A]"
   ]
  },
  {
   "cell_type": "code",
   "execution_count": null,
   "id": "06856980",
   "metadata": {
    "ExecuteTime": {
     "start_time": "2024-01-31T22:22:24.043707Z"
    }
   },
   "outputs": [],
   "source": [
    "A = ['run','runner','running','ran']\n",
    "[stemmer.stem(w) for w in A]"
   ]
  },
  {
   "cell_type": "code",
   "execution_count": null,
   "id": "426e367f",
   "metadata": {
    "ExecuteTime": {
     "start_time": "2024-01-31T22:22:24.045700500Z"
    }
   },
   "outputs": [],
   "source": [
    "words_nonames_lower_nostop_stem = [stemmer.stem(w) for w in words_nonames_lower_nostop]\n",
    "print(' '.join(words_nonames_lower_nostop_stem))"
   ]
  },
  {
   "cell_type": "markdown",
   "id": "35d06372",
   "metadata": {},
   "source": [
    "## Lemmatization"
   ]
  },
  {
   "cell_type": "code",
   "execution_count": null,
   "id": "23650946",
   "metadata": {
    "ExecuteTime": {
     "start_time": "2024-01-31T22:22:24.046705700Z"
    }
   },
   "outputs": [],
   "source": [
    "from nltk.stem import WordNetLemmatizer\n",
    "lemma = WordNetLemmatizer()"
   ]
  },
  {
   "cell_type": "code",
   "execution_count": null,
   "id": "6ced7c6a",
   "metadata": {
    "ExecuteTime": {
     "end_time": "2024-01-31T22:22:24.087362Z",
     "start_time": "2024-01-31T22:22:24.047702Z"
    }
   },
   "outputs": [],
   "source": [
    "A = ['joy','joyful','joyfully','joyous','geese']\n",
    "[lemma.lemmatize(w) for w in A]"
   ]
  },
  {
   "cell_type": "code",
   "execution_count": null,
   "id": "f874bdac",
   "metadata": {
    "ExecuteTime": {
     "start_time": "2024-01-31T22:22:24.048699100Z"
    }
   },
   "outputs": [],
   "source": [
    "words_nonames_lower_nostop_lemma = [lemma.lemmatize(w) for w in words_nonames_lower_nostop]\n",
    "print(' '.join(words_nonames_lower_nostop_lemma))"
   ]
  },
  {
   "cell_type": "code",
   "execution_count": null,
   "id": "df3e85ad",
   "metadata": {
    "ExecuteTime": {
     "start_time": "2024-01-31T22:22:24.049695500Z"
    }
   },
   "outputs": [],
   "source": [
    "' '.join([stemmer.stem(w) for w in words_nonames_lower_nostop])"
   ]
  },
  {
   "cell_type": "code",
   "execution_count": null,
   "id": "3df66175",
   "metadata": {
    "ExecuteTime": {
     "start_time": "2024-01-31T22:22:24.050683700Z"
    }
   },
   "outputs": [],
   "source": [
    "' '.join([lemma.lemmatize(w) for w in words_nonames_lower_nostop])"
   ]
  },
  {
   "cell_type": "markdown",
   "id": "34012ae8",
   "metadata": {},
   "source": [
    "# Bag of words"
   ]
  },
  {
   "cell_type": "code",
   "execution_count": null,
   "id": "dd021b71",
   "metadata": {
    "ExecuteTime": {
     "start_time": "2024-01-31T22:22:24.051680200Z"
    }
   },
   "outputs": [],
   "source": [
    "doc1 = [w for w in words_nonames_lower_nostop_stem if (w!=\"'\") and (w!=\".\") and (w!=\",\") and (w!=\"!\")]"
   ]
  },
  {
   "cell_type": "code",
   "execution_count": null,
   "id": "244aaf7c",
   "metadata": {
    "ExecuteTime": {
     "start_time": "2024-01-31T22:22:24.052677200Z"
    }
   },
   "outputs": [],
   "source": [
    "doc1"
   ]
  },
  {
   "cell_type": "markdown",
   "id": "c785fca7",
   "metadata": {},
   "source": [
    "# idf"
   ]
  },
  {
   "cell_type": "code",
   "execution_count": null,
   "id": "9795b931",
   "metadata": {
    "ExecuteTime": {
     "start_time": "2024-01-31T22:22:24.053673900Z"
    }
   },
   "outputs": [],
   "source": [
    "import matplotlib.pyplot as plt\n",
    "x = np.linspace(0,1)\n",
    "plt.plot(x,-np.log(x))\n",
    "plt.ylabel('idf(t)',fontsize=14)\n",
    "plt.xlabel('proportion of documents that contain t',fontsize=14)\n",
    "plt.grid(':')"
   ]
  },
  {
   "cell_type": "code",
   "execution_count": null,
   "id": "053d63a5",
   "metadata": {
    "ExecuteTime": {
     "start_time": "2024-01-31T22:22:24.053673900Z"
    }
   },
   "outputs": [],
   "source": [
    "nltk.download('punkt')"
   ]
  },
  {
   "cell_type": "code",
   "execution_count": null,
   "id": "1e7dc95a4b4e3362",
   "metadata": {
    "ExecuteTime": {
     "start_time": "2024-01-31T22:22:24.055666700Z"
    }
   },
   "outputs": [
    {
     "name": "stdout",
     "output_type": "stream",
     "text": [
      "showing info https://raw.githubusercontent.com/nltk/nltk_data/gh-pages/index.xml\n"
     ]
    }
   ],
   "source": [
    "nltk.download()"
   ]
  },
  {
   "cell_type": "code",
   "execution_count": null,
   "id": "2ecb8ac7",
   "metadata": {},
   "outputs": [],
   "source": []
  }
 ],
 "metadata": {
  "kernelspec": {
   "display_name": "Python 3 (ipykernel)",
   "language": "python",
   "name": "python3"
  },
  "language_info": {
   "codemirror_mode": {
    "name": "ipython",
    "version": 3
   },
   "file_extension": ".py",
   "mimetype": "text/x-python",
   "name": "python",
   "nbconvert_exporter": "python",
   "pygments_lexer": "ipython3",
   "version": "3.10.8"
  }
 },
 "nbformat": 4,
 "nbformat_minor": 5
}
