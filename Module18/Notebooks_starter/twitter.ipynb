{
 "cells": [
  {
   "cell_type": "code",
   "execution_count": 1,
   "id": "4098f495",
   "metadata": {
    "ExecuteTime": {
     "end_time": "2024-02-04T21:42:50.814296900Z",
     "start_time": "2024-02-04T21:42:49.710490600Z"
    }
   },
   "outputs": [],
   "source": [
    "import numpy as np\n",
    "import matplotlib.pyplot as plt\n",
    "import pandas as pd\n",
    "from sklearn.metrics import ConfusionMatrixDisplay\n",
    "from sklearn.linear_model import LogisticRegression\n",
    "from sklearn.naive_bayes import MultinomialNB"
   ]
  },
  {
   "cell_type": "markdown",
   "id": "2e7ccba5",
   "metadata": {},
   "source": [
    "# Import NLTK and download the data"
   ]
  },
  {
   "cell_type": "code",
   "execution_count": 2,
   "id": "3d5d5d2b",
   "metadata": {
    "ExecuteTime": {
     "end_time": "2024-02-04T21:43:12.505788Z",
     "start_time": "2024-02-04T21:42:50.814296900Z"
    }
   },
   "outputs": [
    {
     "name": "stderr",
     "output_type": "stream",
     "text": [
      "[nltk_data] Downloading package twitter_samples to\n",
      "[nltk_data]     C:\\Users\\Plamen\\AppData\\Roaming\\nltk_data...\n",
      "[nltk_data]   Package twitter_samples is already up-to-date!\n"
     ]
    },
    {
     "data": {
      "text/plain": "True"
     },
     "execution_count": 2,
     "metadata": {},
     "output_type": "execute_result"
    }
   ],
   "source": [
    "import nltk\n",
    "nltk.download('twitter_samples')"
   ]
  },
  {
   "cell_type": "markdown",
   "id": "6234f6db",
   "metadata": {},
   "source": [
    "# Load Twitter data"
   ]
  },
  {
   "cell_type": "code",
   "execution_count": 3,
   "id": "32bde5fb",
   "metadata": {
    "ExecuteTime": {
     "end_time": "2024-02-04T21:43:12.845413900Z",
     "start_time": "2024-02-04T21:43:12.505788Z"
    }
   },
   "outputs": [],
   "source": [
    "from nltk.corpus import twitter_samples\n",
    "tweets_pos = twitter_samples.strings('positive_tweets.json')     #  5000\n",
    "tweets_neg = twitter_samples.strings('negative_tweets.json')     #  5000\n",
    "tweets_all = tweets_pos + tweets_neg                             # 10000"
   ]
  },
  {
   "cell_type": "code",
   "execution_count": 4,
   "id": "b7841a99",
   "metadata": {
    "ExecuteTime": {
     "end_time": "2024-02-04T21:43:12.861297400Z",
     "start_time": "2024-02-04T21:43:12.845413900Z"
    }
   },
   "outputs": [],
   "source": [
    "labels_pos = np.ones ((len(tweets_pos),1), dtype=np.int8)  # positive labels (1)\n",
    "labels_neg = np.zeros((len(tweets_neg),1), dtype=np.int8)  # negative labels (0)\n",
    "labels_all = np.append(labels_pos,labels_neg)              # all labels"
   ]
  },
  {
   "cell_type": "code",
   "execution_count": 5,
   "id": "c20f4431",
   "metadata": {
    "ExecuteTime": {
     "end_time": "2024-02-04T21:43:12.883224100Z",
     "start_time": "2024-02-04T21:43:12.862294900Z"
    }
   },
   "outputs": [
    {
     "data": {
      "text/plain": "                                               tweet  label\n0  #FollowFriday @France_Inte @PKuchly57 @Milipol...      1\n1  @Lamb2ja Hey James! How odd :/ Please call our...      1\n2  @DespiteOfficial we had a listen last night :)...      1\n3                               @97sides CONGRATS :)      1\n4  yeaaaah yippppy!!!  my accnt verified rqst has...      1\n5  @BhaktisBanter @PallaviRuhail This one is irre...      1\n6  We don't like to keep our lovely customers wai...      1\n7  @Impatientraider On second thought, there’s ju...      1\n8            Jgh , but we have to go to Bayan :D bye      1\n9  As an act of mischievousness, am calling the E...      1",
      "text/html": "<div>\n<style scoped>\n    .dataframe tbody tr th:only-of-type {\n        vertical-align: middle;\n    }\n\n    .dataframe tbody tr th {\n        vertical-align: top;\n    }\n\n    .dataframe thead th {\n        text-align: right;\n    }\n</style>\n<table border=\"1\" class=\"dataframe\">\n  <thead>\n    <tr style=\"text-align: right;\">\n      <th></th>\n      <th>tweet</th>\n      <th>label</th>\n    </tr>\n  </thead>\n  <tbody>\n    <tr>\n      <th>0</th>\n      <td>#FollowFriday @France_Inte @PKuchly57 @Milipol...</td>\n      <td>1</td>\n    </tr>\n    <tr>\n      <th>1</th>\n      <td>@Lamb2ja Hey James! How odd :/ Please call our...</td>\n      <td>1</td>\n    </tr>\n    <tr>\n      <th>2</th>\n      <td>@DespiteOfficial we had a listen last night :)...</td>\n      <td>1</td>\n    </tr>\n    <tr>\n      <th>3</th>\n      <td>@97sides CONGRATS :)</td>\n      <td>1</td>\n    </tr>\n    <tr>\n      <th>4</th>\n      <td>yeaaaah yippppy!!!  my accnt verified rqst has...</td>\n      <td>1</td>\n    </tr>\n    <tr>\n      <th>5</th>\n      <td>@BhaktisBanter @PallaviRuhail This one is irre...</td>\n      <td>1</td>\n    </tr>\n    <tr>\n      <th>6</th>\n      <td>We don't like to keep our lovely customers wai...</td>\n      <td>1</td>\n    </tr>\n    <tr>\n      <th>7</th>\n      <td>@Impatientraider On second thought, there’s ju...</td>\n      <td>1</td>\n    </tr>\n    <tr>\n      <th>8</th>\n      <td>Jgh , but we have to go to Bayan :D bye</td>\n      <td>1</td>\n    </tr>\n    <tr>\n      <th>9</th>\n      <td>As an act of mischievousness, am calling the E...</td>\n      <td>1</td>\n    </tr>\n  </tbody>\n</table>\n</div>"
     },
     "execution_count": 5,
     "metadata": {},
     "output_type": "execute_result"
    }
   ],
   "source": [
    "pd.DataFrame(data={'tweet':tweets_all,'label':labels_all}).head(10)"
   ]
  },
  {
   "cell_type": "markdown",
   "id": "b75428bd",
   "metadata": {},
   "source": [
    "# Test train split"
   ]
  },
  {
   "cell_type": "code",
   "execution_count": 6,
   "id": "db661769",
   "metadata": {
    "ExecuteTime": {
     "end_time": "2024-02-04T21:43:12.910134600Z",
     "start_time": "2024-02-04T21:43:12.877244200Z"
    }
   },
   "outputs": [
    {
     "data": {
      "text/plain": "(7500, 2500, 7500, 2500)"
     },
     "execution_count": 6,
     "metadata": {},
     "output_type": "execute_result"
    }
   ],
   "source": [
    "from sklearn.model_selection import train_test_split\n",
    "X_train, X_test, y_train, y_test = train_test_split(tweets_all, labels_all, test_size=0.25, random_state=243824)\n",
    "len(X_train), len(X_test), len(y_train), len(y_test)"
   ]
  },
  {
   "cell_type": "markdown",
   "id": "684682ce",
   "metadata": {},
   "source": [
    "# Process"
   ]
  },
  {
   "cell_type": "markdown",
   "id": "891ee441",
   "metadata": {},
   "source": [
    "## 1) Tokenize"
   ]
  },
  {
   "cell_type": "code",
   "execution_count": 7,
   "id": "623979f0",
   "metadata": {
    "ExecuteTime": {
     "end_time": "2024-02-04T21:43:12.953168300Z",
     "start_time": "2024-02-04T21:43:12.897177600Z"
    }
   },
   "outputs": [
    {
     "name": "stdout",
     "output_type": "stream",
     "text": [
      "Object `TweetTokenizer` not found.\n"
     ]
    }
   ],
   "source": [
    "TweetTokenizer?"
   ]
  },
  {
   "cell_type": "code",
   "execution_count": 8,
   "id": "ed147b24",
   "metadata": {
    "ExecuteTime": {
     "end_time": "2024-02-04T21:43:13.441692600Z",
     "start_time": "2024-02-04T21:43:12.909137900Z"
    }
   },
   "outputs": [],
   "source": [
    "from nltk.tokenize import TweetTokenizer\n",
    "tokenizer = TweetTokenizer(preserve_case=False, strip_handles=True, reduce_len=True)\n",
    "X_train_tok = [tokenizer.tokenize(tweet) for tweet in X_train]\n"
   ]
  },
  {
   "cell_type": "code",
   "execution_count": 9,
   "id": "06042fcf",
   "metadata": {
    "ExecuteTime": {
     "end_time": "2024-02-04T21:43:13.460465800Z",
     "start_time": "2024-02-04T21:43:13.442704Z"
    }
   },
   "outputs": [
    {
     "data": {
      "text/plain": "(\"@hawkins_g omg you're so mean, he's fine :(\",\n ['omg', \"you're\", 'so', 'mean', ',', \"he's\", 'fine', ':('])"
     },
     "execution_count": 9,
     "metadata": {},
     "output_type": "execute_result"
    }
   ],
   "source": [
    "n = 47\n",
    "X_train[n],X_train_tok[n]"
   ]
  },
  {
   "cell_type": "code",
   "execution_count": 10,
   "id": "f6aece7a",
   "metadata": {
    "ExecuteTime": {
     "end_time": "2024-02-04T21:43:13.507750600Z",
     "start_time": "2024-02-04T21:43:13.457125900Z"
    }
   },
   "outputs": [
    {
     "data": {
      "text/plain": "'@TOBMAST3R @inspchin @koeitecmoeurope @TanikoHorigome @GoldxFierce @Kronin1 @Addictrian @chako33 @MatthewRumple thx Tobi-bro! :D'"
     },
     "execution_count": 10,
     "metadata": {},
     "output_type": "execute_result"
    }
   ],
   "source": [
    "X_train[89]"
   ]
  },
  {
   "cell_type": "code",
   "execution_count": 11,
   "id": "a45d5bc8",
   "metadata": {
    "ExecuteTime": {
     "end_time": "2024-02-04T21:43:13.509743600Z",
     "start_time": "2024-02-04T21:43:13.471851200Z"
    }
   },
   "outputs": [
    {
     "data": {
      "text/plain": "['thx', 'tobi-bro', '!', ':D']"
     },
     "execution_count": 11,
     "metadata": {},
     "output_type": "execute_result"
    }
   ],
   "source": [
    "X_train_tok[89]"
   ]
  },
  {
   "cell_type": "markdown",
   "id": "73b6c8a8",
   "metadata": {},
   "source": [
    "## 2) Remove stopwords"
   ]
  },
  {
   "cell_type": "code",
   "execution_count": 12,
   "id": "c94fc1a5",
   "metadata": {
    "ExecuteTime": {
     "end_time": "2024-02-04T21:43:13.595757600Z",
     "start_time": "2024-02-04T21:43:13.487691100Z"
    }
   },
   "outputs": [],
   "source": [
    "from nltk.corpus import stopwords\n",
    "swords = stopwords.words('english')\n",
    "\n",
    "X_train_tok_nostop = []\n",
    "for tweet in X_train_tok:\n",
    "    words = [word for word in tweet if word not in swords]\n",
    "    X_train_tok_nostop.append(words)"
   ]
  },
  {
   "cell_type": "code",
   "execution_count": 13,
   "id": "66c37f85",
   "metadata": {
    "ExecuteTime": {
     "end_time": "2024-02-04T21:43:13.613271Z",
     "start_time": "2024-02-04T21:43:13.595757600Z"
    }
   },
   "outputs": [
    {
     "data": {
      "text/plain": "['thx', 'tobi-bro', '!', ':D']"
     },
     "execution_count": 13,
     "metadata": {},
     "output_type": "execute_result"
    }
   ],
   "source": [
    "X_train_tok_nostop[89]"
   ]
  },
  {
   "cell_type": "markdown",
   "id": "e924822a",
   "metadata": {},
   "source": [
    "## 2) Stemming"
   ]
  },
  {
   "cell_type": "code",
   "execution_count": 14,
   "id": "235723e3",
   "metadata": {
    "ExecuteTime": {
     "end_time": "2024-02-04T21:43:14.271691100Z",
     "start_time": "2024-02-04T21:43:13.612057600Z"
    }
   },
   "outputs": [],
   "source": [
    "from nltk.stem import PorterStemmer\n",
    "stemmer = PorterStemmer()\n",
    "\n",
    "X_train_tok_nostop_stem = []\n",
    "for tweet in X_train_tok_nostop:\n",
    "    words = [stemmer.stem(word) for word in tweet]\n",
    "    X_train_tok_nostop_stem.append(words)"
   ]
  },
  {
   "cell_type": "code",
   "execution_count": 15,
   "id": "a5f4c580",
   "metadata": {
    "ExecuteTime": {
     "end_time": "2024-02-04T21:43:14.289606400Z",
     "start_time": "2024-02-04T21:43:14.265799100Z"
    }
   },
   "outputs": [
    {
     "data": {
      "text/plain": "['thx', 'tobi-bro', '!', ':d']"
     },
     "execution_count": 15,
     "metadata": {},
     "output_type": "execute_result"
    }
   ],
   "source": [
    "X_train_tok_nostop_stem[89]"
   ]
  },
  {
   "cell_type": "markdown",
   "id": "2d70a2d4",
   "metadata": {},
   "source": [
    "\n",
    "# Put it all into a function"
   ]
  },
  {
   "cell_type": "code",
   "execution_count": 16,
   "id": "9bd1c8de",
   "metadata": {
    "ExecuteTime": {
     "end_time": "2024-02-04T21:43:14.333570400Z",
     "start_time": "2024-02-04T21:43:14.281550200Z"
    }
   },
   "outputs": [],
   "source": [
    "def preprocess_text(tweets):\n",
    "\n",
    "    tokenizer = TweetTokenizer(preserve_case=False, strip_handles=True, reduce_len=True)\n",
    "    stemmer = PorterStemmer()\n",
    "    swords = stopwords.words('english')\n",
    "\n",
    "    X = []\n",
    "    for tweet in tweets:\n",
    "        tokens = tokenizer.tokenize(tweet)\n",
    "        X.append([stemmer.stem(word) for word in tokens if word not in swords]) \n",
    "        \n",
    "    return X"
   ]
  },
  {
   "cell_type": "code",
   "execution_count": 17,
   "id": "a2b14c55",
   "metadata": {
    "ExecuteTime": {
     "end_time": "2024-02-04T21:43:15.506388600Z",
     "start_time": "2024-02-04T21:43:14.301188200Z"
    }
   },
   "outputs": [],
   "source": [
    "X_train_pp = preprocess_text(X_train)"
   ]
  },
  {
   "cell_type": "markdown",
   "id": "7c80b1d7",
   "metadata": {},
   "source": [
    "# Word frequencies"
   ]
  },
  {
   "cell_type": "code",
   "execution_count": 18,
   "id": "97591003",
   "metadata": {
    "ExecuteTime": {
     "end_time": "2024-02-04T21:43:15.521915200Z",
     "start_time": "2024-02-04T21:43:15.509524100Z"
    }
   },
   "outputs": [
    {
     "data": {
      "text/plain": "10223"
     },
     "execution_count": 18,
     "metadata": {},
     "output_type": "execute_result"
    }
   ],
   "source": [
    "unique_words = set()\n",
    "for tweet in X_train_pp:\n",
    "    unique_words.update(tweet)\n",
    "len(unique_words)"
   ]
  },
  {
   "cell_type": "code",
   "execution_count": 19,
   "id": "fad52c9e",
   "metadata": {
    "ExecuteTime": {
     "end_time": "2024-02-04T21:43:15.580717700Z",
     "start_time": "2024-02-04T21:43:15.521915200Z"
    }
   },
   "outputs": [
    {
     "name": "stdout",
     "output_type": "stream",
     "text": [
      "['stat' 'day' 'arriv' '.' '1' 'new']\n",
      "['one' 'want' 'go' 'ant' 'man' ':(']\n"
     ]
    }
   ],
   "source": [
    "words_pos = []\n",
    "words_neg = []\n",
    "\n",
    "for tweet, label in zip(X_train_pp,y_train):\n",
    "    if label==0:\n",
    "        words_neg.extend(tweet)\n",
    "    else:\n",
    "        words_pos.extend(tweet)\n",
    "        \n",
    "unique_words = np.array(list(unique_words))\n",
    "words_pos = np.array(words_pos)\n",
    "words_neg = np.array(words_neg)\n",
    "\n",
    "print(words_pos[:6])\n",
    "print(words_neg[:6])"
   ]
  },
  {
   "cell_type": "code",
   "execution_count": 20,
   "id": "43508942",
   "metadata": {
    "ExecuteTime": {
     "end_time": "2024-02-04T21:43:15.625567400Z",
     "start_time": "2024-02-04T21:43:15.569756100Z"
    }
   },
   "outputs": [
    {
     "data": {
      "text/plain": "61485"
     },
     "execution_count": 20,
     "metadata": {},
     "output_type": "execute_result"
    }
   ],
   "source": [
    "len(words_pos) + len(words_neg)"
   ]
  },
  {
   "cell_type": "code",
   "execution_count": 20,
   "id": "bb44edee",
   "metadata": {
    "ExecuteTime": {
     "end_time": "2024-02-04T21:43:15.627569800Z",
     "start_time": "2024-02-04T21:43:15.584705900Z"
    }
   },
   "outputs": [],
   "source": []
  },
  {
   "cell_type": "code",
   "execution_count": 21,
   "id": "ff671176",
   "metadata": {
    "ExecuteTime": {
     "end_time": "2024-02-04T21:43:15.672411600Z",
     "start_time": "2024-02-04T21:43:15.601649500Z"
    }
   },
   "outputs": [],
   "source": [
    "word_count = { w: [0,0] for w in unique_words }\n",
    "for word in words_pos:\n",
    "    word_count[word][1] += 1\n",
    "for word in words_neg:\n",
    "    word_count[word][0] += 1"
   ]
  },
  {
   "cell_type": "code",
   "execution_count": 22,
   "id": "28b684fb",
   "metadata": {
    "ExecuteTime": {
     "end_time": "2024-02-04T21:43:15.689362900Z",
     "start_time": "2024-02-04T21:43:15.647512800Z"
    }
   },
   "outputs": [
    {
     "name": "stdout",
     "output_type": "stream",
     "text": [
      "['!' '.' '(' ':(']\n",
      "[',' '.' '!' ':)']\n"
     ]
    },
    {
     "data": {
      "text/plain": "[3442, 1]"
     },
     "execution_count": 22,
     "metadata": {},
     "output_type": "execute_result"
    }
   ],
   "source": [
    "word_count_matrix = np.array([val for key,val in word_count.items()])\n",
    "\n",
    "ind_neg = np.argsort(word_count_matrix[:,0])\n",
    "ind_pos = np.argsort(word_count_matrix[:,1])\n",
    "\n",
    "print(unique_words[ind_neg[-4:]])\n",
    "print(unique_words[ind_pos[-4:]])\n",
    "\n",
    "word_count[':(']"
   ]
  },
  {
   "cell_type": "code",
   "execution_count": 23,
   "id": "59501355",
   "metadata": {
    "ExecuteTime": {
     "end_time": "2024-02-04T21:43:15.745251100Z",
     "start_time": "2024-02-04T21:43:15.662445700Z"
    }
   },
   "outputs": [
    {
     "data": {
      "text/plain": "[813, 980]"
     },
     "execution_count": 23,
     "metadata": {},
     "output_type": "execute_result"
    }
   ],
   "source": [
    "word_count['.']"
   ]
  },
  {
   "cell_type": "markdown",
   "id": "feaf28c4",
   "metadata": {},
   "source": [
    "# Plot a sample"
   ]
  },
  {
   "cell_type": "code",
   "execution_count": 24,
   "id": "4354f79e",
   "metadata": {
    "ExecuteTime": {
     "end_time": "2024-02-04T21:43:16.133904800Z",
     "start_time": "2024-02-04T21:43:15.680385500Z"
    }
   },
   "outputs": [
    {
     "data": {
      "text/plain": "<Figure size 1000x1000 with 1 Axes>",
      "image/png": "[encoded data removed]"
     },
     "metadata": {},
     "output_type": "display_data"
    }
   ],
   "source": [
    "keys = ['❤', '😍', '😒', ':)', ':(','great','bad','scari','bore','best','worst','omg','lol','come','go']\\\n",
    "\n",
    "A = np.array([word_count[key] for key in keys])\n",
    "\n",
    "plt.figure(figsize=(10,10))\n",
    "plt.loglog(A[:,0],A[:,1],'.',markersize=0)  \n",
    "xlim = plt.xlim()\n",
    "ylim = plt.ylim()\n",
    "plt.loglog(xlim,ylim,'--')\n",
    "plt.xlim(xlim)\n",
    "plt.ylim(ylim)\n",
    "\n",
    "plt.xticks(fontsize=14)\n",
    "plt.yticks(fontsize=14)\n",
    "\n",
    "plt.ylabel(\"Count in positive tweets\", fontsize=18)\n",
    "plt.xlabel(\"Count in negative tweets\", fontsize=18)\n",
    "\n",
    "for i in range(0, len(keys)):\n",
    "    plt.annotate(keys[i], A[i,:], fontsize=16)"
   ]
  },
  {
   "cell_type": "markdown",
   "id": "29656084",
   "metadata": {},
   "source": [
    "# Full bag of words"
   ]
  },
  {
   "cell_type": "code",
   "execution_count": 25,
   "id": "db73df87",
   "metadata": {
    "ExecuteTime": {
     "end_time": "2024-02-04T21:43:21.313339600Z",
     "start_time": "2024-02-04T21:43:16.129880200Z"
    }
   },
   "outputs": [],
   "source": [
    "bow_matrix_train = np.zeros((len(X_train_pp),len(unique_words)))\n",
    "for i, tweet in enumerate(X_train_pp):\n",
    "    for word in tweet:\n",
    "        bow_matrix_train[i,unique_words==word] += 1"
   ]
  },
  {
   "cell_type": "code",
   "execution_count": 26,
   "id": "ddc592bc",
   "metadata": {
    "ExecuteTime": {
     "end_time": "2024-02-04T21:43:21.492784300Z",
     "start_time": "2024-02-04T21:43:21.314336500Z"
    }
   },
   "outputs": [
    {
     "data": {
      "text/plain": "0.0007451302618279044"
     },
     "execution_count": 26,
     "metadata": {},
     "output_type": "execute_result"
    }
   ],
   "source": [
    "np.sum(bow_matrix_train!=0)/np.prod(bow_matrix_train.shape)"
   ]
  },
  {
   "cell_type": "code",
   "execution_count": 26,
   "id": "9e093fa1",
   "metadata": {
    "ExecuteTime": {
     "end_time": "2024-02-04T21:43:21.522683500Z",
     "start_time": "2024-02-04T21:43:21.487810900Z"
    }
   },
   "outputs": [],
   "source": []
  },
  {
   "cell_type": "code",
   "execution_count": 27,
   "id": "f9299345",
   "metadata": {
    "ExecuteTime": {
     "end_time": "2024-02-04T21:43:21.546603700Z",
     "start_time": "2024-02-04T21:43:21.503746700Z"
    }
   },
   "outputs": [
    {
     "data": {
      "text/plain": "   aboard  brows  http://t.co/ezrfqqlzxc  unsettl  flat  exo  t___t  crazi  \\\n0     0.0    0.0                     0.0      0.0   0.0  0.0    0.0    0.0   \n1     0.0    0.0                     0.0      0.0   0.0  0.0    0.0    0.0   \n2     0.0    0.0                     0.0      0.0   0.0  0.0    0.0    0.0   \n3     0.0    0.0                     0.0      0.0   0.0  0.0    0.0    0.0   \n4     0.0    0.0                     0.0      0.0   0.0  0.0    0.0    0.0   \n5     0.0    0.0                     0.0      0.0   0.0  0.0    0.0    0.0   \n6     0.0    0.0                     0.0      0.0   0.0  0.0    0.0    0.0   \n7     0.0    0.0                     0.0      0.0   0.0  0.0    0.0    0.0   \n8     0.0    0.0                     0.0      0.0   0.0  0.0    0.0    0.0   \n9     0.0    0.0                     0.0      0.0   0.0  0.0    0.0    0.0   \n\n   . ...  mark'  ...  bonilla  afraid  victori  worth  nicest  heechul  \\\n0    0.0    0.0  ...      0.0     0.0      0.0    0.0     0.0      0.0   \n1    0.0    0.0  ...      0.0     0.0      0.0    0.0     0.0      0.0   \n2    0.0    0.0  ...      0.0     0.0      0.0    0.0     0.0      0.0   \n3    0.0    0.0  ...      0.0     0.0      0.0    0.0     0.0      0.0   \n4    0.0    0.0  ...      0.0     0.0      0.0    0.0     0.0      0.0   \n5    0.0    0.0  ...      0.0     0.0      0.0    0.0     0.0      0.0   \n6    0.0    0.0  ...      0.0     0.0      0.0    0.0     0.0      0.0   \n7    0.0    0.0  ...      0.0     0.0      0.0    0.0     0.0      0.0   \n8    0.0    0.0  ...      0.0     0.0      0.0    0.0     0.0      0.0   \n9    0.0    0.0  ...      0.0     0.0      0.0    0.0     0.0      0.0   \n\n   tammirossm  http://t.co/clwnnmfv0d  https://t.co/nj0ziq14i   31  \n0         0.0                     0.0                     0.0  0.0  \n1         0.0                     0.0                     0.0  0.0  \n2         0.0                     0.0                     0.0  0.0  \n3         0.0                     0.0                     0.0  0.0  \n4         0.0                     0.0                     0.0  0.0  \n5         0.0                     0.0                     0.0  0.0  \n6         0.0                     0.0                     0.0  0.0  \n7         0.0                     0.0                     0.0  0.0  \n8         0.0                     0.0                     0.0  0.0  \n9         0.0                     0.0                     0.0  0.0  \n\n[10 rows x 10223 columns]",
      "text/html": "<div>\n<style scoped>\n    .dataframe tbody tr th:only-of-type {\n        vertical-align: middle;\n    }\n\n    .dataframe tbody tr th {\n        vertical-align: top;\n    }\n\n    .dataframe thead th {\n        text-align: right;\n    }\n</style>\n<table border=\"1\" class=\"dataframe\">\n  <thead>\n    <tr style=\"text-align: right;\">\n      <th></th>\n      <th>aboard</th>\n      <th>brows</th>\n      <th>http://t.co/ezrfqqlzxc</th>\n      <th>unsettl</th>\n      <th>flat</th>\n      <th>exo</th>\n      <th>t___t</th>\n      <th>crazi</th>\n      <th>. ...</th>\n      <th>mark'</th>\n      <th>...</th>\n      <th>bonilla</th>\n      <th>afraid</th>\n      <th>victori</th>\n      <th>worth</th>\n      <th>nicest</th>\n      <th>heechul</th>\n      <th>tammirossm</th>\n      <th>http://t.co/clwnnmfv0d</th>\n      <th>https://t.co/nj0ziq14i</th>\n      <th>31</th>\n    </tr>\n  </thead>\n  <tbody>\n    <tr>\n      <th>0</th>\n      <td>0.0</td>\n      <td>0.0</td>\n      <td>0.0</td>\n      <td>0.0</td>\n      <td>0.0</td>\n      <td>0.0</td>\n      <td>0.0</td>\n      <td>0.0</td>\n      <td>0.0</td>\n      <td>0.0</td>\n      <td>...</td>\n      <td>0.0</td>\n      <td>0.0</td>\n      <td>0.0</td>\n      <td>0.0</td>\n      <td>0.0</td>\n      <td>0.0</td>\n      <td>0.0</td>\n      <td>0.0</td>\n      <td>0.0</td>\n      <td>0.0</td>\n    </tr>\n    <tr>\n      <th>1</th>\n      <td>0.0</td>\n      <td>0.0</td>\n      <td>0.0</td>\n      <td>0.0</td>\n      <td>0.0</td>\n      <td>0.0</td>\n      <td>0.0</td>\n      <td>0.0</td>\n      <td>0.0</td>\n      <td>0.0</td>\n      <td>...</td>\n      <td>0.0</td>\n      <td>0.0</td>\n      <td>0.0</td>\n      <td>0.0</td>\n      <td>0.0</td>\n      <td>0.0</td>\n      <td>0.0</td>\n      <td>0.0</td>\n      <td>0.0</td>\n      <td>0.0</td>\n    </tr>\n    <tr>\n      <th>2</th>\n      <td>0.0</td>\n      <td>0.0</td>\n      <td>0.0</td>\n      <td>0.0</td>\n      <td>0.0</td>\n      <td>0.0</td>\n      <td>0.0</td>\n      <td>0.0</td>\n      <td>0.0</td>\n      <td>0.0</td>\n      <td>...</td>\n      <td>0.0</td>\n      <td>0.0</td>\n      <td>0.0</td>\n      <td>0.0</td>\n      <td>0.0</td>\n      <td>0.0</td>\n      <td>0.0</td>\n      <td>0.0</td>\n      <td>0.0</td>\n      <td>0.0</td>\n    </tr>\n    <tr>\n      <th>3</th>\n      <td>0.0</td>\n      <td>0.0</td>\n      <td>0.0</td>\n      <td>0.0</td>\n      <td>0.0</td>\n      <td>0.0</td>\n      <td>0.0</td>\n      <td>0.0</td>\n      <td>0.0</td>\n      <td>0.0</td>\n      <td>...</td>\n      <td>0.0</td>\n      <td>0.0</td>\n      <td>0.0</td>\n      <td>0.0</td>\n      <td>0.0</td>\n      <td>0.0</td>\n      <td>0.0</td>\n      <td>0.0</td>\n      <td>0.0</td>\n      <td>0.0</td>\n    </tr>\n    <tr>\n      <th>4</th>\n      <td>0.0</td>\n      <td>0.0</td>\n      <td>0.0</td>\n      <td>0.0</td>\n      <td>0.0</td>\n      <td>0.0</td>\n      <td>0.0</td>\n      <td>0.0</td>\n      <td>0.0</td>\n      <td>0.0</td>\n      <td>...</td>\n      <td>0.0</td>\n      <td>0.0</td>\n      <td>0.0</td>\n      <td>0.0</td>\n      <td>0.0</td>\n      <td>0.0</td>\n      <td>0.0</td>\n      <td>0.0</td>\n      <td>0.0</td>\n      <td>0.0</td>\n    </tr>\n    <tr>\n      <th>5</th>\n      <td>0.0</td>\n      <td>0.0</td>\n      <td>0.0</td>\n      <td>0.0</td>\n      <td>0.0</td>\n      <td>0.0</td>\n      <td>0.0</td>\n      <td>0.0</td>\n      <td>0.0</td>\n      <td>0.0</td>\n      <td>...</td>\n      <td>0.0</td>\n      <td>0.0</td>\n      <td>0.0</td>\n      <td>0.0</td>\n      <td>0.0</td>\n      <td>0.0</td>\n      <td>0.0</td>\n      <td>0.0</td>\n      <td>0.0</td>\n      <td>0.0</td>\n    </tr>\n    <tr>\n      <th>6</th>\n      <td>0.0</td>\n      <td>0.0</td>\n      <td>0.0</td>\n      <td>0.0</td>\n      <td>0.0</td>\n      <td>0.0</td>\n      <td>0.0</td>\n      <td>0.0</td>\n      <td>0.0</td>\n      <td>0.0</td>\n      <td>...</td>\n      <td>0.0</td>\n      <td>0.0</td>\n      <td>0.0</td>\n      <td>0.0</td>\n      <td>0.0</td>\n      <td>0.0</td>\n      <td>0.0</td>\n      <td>0.0</td>\n      <td>0.0</td>\n      <td>0.0</td>\n    </tr>\n    <tr>\n      <th>7</th>\n      <td>0.0</td>\n      <td>0.0</td>\n      <td>0.0</td>\n      <td>0.0</td>\n      <td>0.0</td>\n      <td>0.0</td>\n      <td>0.0</td>\n      <td>0.0</td>\n      <td>0.0</td>\n      <td>0.0</td>\n      <td>...</td>\n      <td>0.0</td>\n      <td>0.0</td>\n      <td>0.0</td>\n      <td>0.0</td>\n      <td>0.0</td>\n      <td>0.0</td>\n      <td>0.0</td>\n      <td>0.0</td>\n      <td>0.0</td>\n      <td>0.0</td>\n    </tr>\n    <tr>\n      <th>8</th>\n      <td>0.0</td>\n      <td>0.0</td>\n      <td>0.0</td>\n      <td>0.0</td>\n      <td>0.0</td>\n      <td>0.0</td>\n      <td>0.0</td>\n      <td>0.0</td>\n      <td>0.0</td>\n      <td>0.0</td>\n      <td>...</td>\n      <td>0.0</td>\n      <td>0.0</td>\n      <td>0.0</td>\n      <td>0.0</td>\n      <td>0.0</td>\n      <td>0.0</td>\n      <td>0.0</td>\n      <td>0.0</td>\n      <td>0.0</td>\n      <td>0.0</td>\n    </tr>\n    <tr>\n      <th>9</th>\n      <td>0.0</td>\n      <td>0.0</td>\n      <td>0.0</td>\n      <td>0.0</td>\n      <td>0.0</td>\n      <td>0.0</td>\n      <td>0.0</td>\n      <td>0.0</td>\n      <td>0.0</td>\n      <td>0.0</td>\n      <td>...</td>\n      <td>0.0</td>\n      <td>0.0</td>\n      <td>0.0</td>\n      <td>0.0</td>\n      <td>0.0</td>\n      <td>0.0</td>\n      <td>0.0</td>\n      <td>0.0</td>\n      <td>0.0</td>\n      <td>0.0</td>\n    </tr>\n  </tbody>\n</table>\n<p>10 rows × 10223 columns</p>\n</div>"
     },
     "execution_count": 27,
     "metadata": {},
     "output_type": "execute_result"
    }
   ],
   "source": [
    "df = pd.DataFrame(data=bow_matrix_train,columns=unique_words)\n",
    "df.head(10)"
   ]
  },
  {
   "cell_type": "markdown",
   "id": "0f2ef226",
   "metadata": {},
   "source": [
    "# Test data"
   ]
  },
  {
   "cell_type": "code",
   "execution_count": 28,
   "id": "24657d31",
   "metadata": {
    "ExecuteTime": {
     "end_time": "2024-02-04T21:43:24.834049200Z",
     "start_time": "2024-02-04T21:43:21.535640100Z"
    }
   },
   "outputs": [],
   "source": [
    "X_test_pp = preprocess_text(X_test)\n",
    "bow_matrix_test = np.zeros((len(X_test_pp),len(unique_words)))\n",
    "for i, tweet in enumerate(X_test_pp):\n",
    "    for word in tweet:\n",
    "        if word in unique_words:\n",
    "            bow_matrix_test[i,unique_words==word] += 1"
   ]
  },
  {
   "cell_type": "markdown",
   "id": "f31a7aba",
   "metadata": {},
   "source": [
    "# Naive Bayes"
   ]
  },
  {
   "cell_type": "code",
   "execution_count": 29,
   "id": "e6287485",
   "metadata": {
    "ExecuteTime": {
     "end_time": "2024-02-04T21:43:25.027999200Z",
     "start_time": "2024-02-04T21:43:24.836042600Z"
    }
   },
   "outputs": [
    {
     "name": "stdout",
     "output_type": "stream",
     "text": [
      "[ -9.54218286  -9.94764797 -10.64079515 ...  -9.94764797 -10.64079515\n",
      " -10.64079515]\n"
     ]
    }
   ],
   "source": [
    "alpha = 1 # smooting fact\n",
    "M = bow_matrix_train.shape[1]\n",
    "\n",
    "# indices of positive tweets\n",
    "ind_pos = y_train==1\n",
    "\n",
    "# Word count for each term i in positive and negative tweets\n",
    "N_pos_i = bow_matrix_train[ ind_pos,:].sum(axis=0)\n",
    "N_neg_i = bow_matrix_train[~ind_pos,:].sum(axis=0)\n",
    "\n",
    "# Total word count in positive and negative tweets\n",
    "N_pos = N_pos_i.sum()\n",
    "N_neg = N_neg_i.sum()\n",
    "\n",
    "# Coefficients for positive and negative classes\n",
    "logp_pos_i = np.log( (N_pos_i+alpha)/(N_pos+M*alpha) )\n",
    "logp_neg_i = np.log( (N_neg_i+alpha)/(N_neg+M*alpha) )\n",
    "\n",
    "# Intercepts for positive and negative classes\n",
    "logp_pos = np.log( N_pos/(N_pos + N_neg) )\n",
    "logp_neg = np.log( N_neg/(N_pos + N_neg) )\n",
    "\n",
    "print(logp_pos_i)"
   ]
  },
  {
   "cell_type": "code",
   "execution_count": 30,
   "id": "fff33f52",
   "metadata": {
    "ExecuteTime": {
     "end_time": "2024-02-04T21:43:25.176289500Z",
     "start_time": "2024-02-04T21:43:25.020348300Z"
    }
   },
   "outputs": [],
   "source": [
    "naive_bayes = MultinomialNB(alpha=1.0, fit_prior=False).fit(bow_matrix_train,y_train)"
   ]
  },
  {
   "cell_type": "code",
   "execution_count": 31,
   "id": "efb133cd",
   "metadata": {
    "ExecuteTime": {
     "end_time": "2024-02-04T21:43:25.191239500Z",
     "start_time": "2024-02-04T21:43:25.174295700Z"
    }
   },
   "outputs": [
    {
     "name": "stdout",
     "output_type": "stream",
     "text": [
      "[ -9.54218286  -9.94764797 -10.64079515 ...  -9.94764797 -10.64079515\n",
      " -10.64079515]\n"
     ]
    }
   ],
   "source": [
    "print(naive_bayes.feature_log_prob_[1])"
   ]
  },
  {
   "cell_type": "code",
   "execution_count": 32,
   "id": "06a755ff",
   "metadata": {
    "ExecuteTime": {
     "end_time": "2024-02-04T21:43:25.287915700Z",
     "start_time": "2024-02-04T21:43:25.191239500Z"
    }
   },
   "outputs": [
    {
     "data": {
      "text/plain": "0.998"
     },
     "execution_count": 32,
     "metadata": {},
     "output_type": "execute_result"
    }
   ],
   "source": [
    "naive_bayes.score(bow_matrix_test, y_test)"
   ]
  },
  {
   "cell_type": "code",
   "execution_count": 33,
   "id": "ac8d60a3",
   "metadata": {
    "ExecuteTime": {
     "end_time": "2024-02-04T21:43:25.474175200Z",
     "start_time": "2024-02-04T21:43:25.283939700Z"
    }
   },
   "outputs": [
    {
     "data": {
      "text/plain": "<sklearn.metrics._plot.confusion_matrix.ConfusionMatrixDisplay at 0x27403843010>"
     },
     "execution_count": 33,
     "metadata": {},
     "output_type": "execute_result"
    },
    {
     "data": {
      "text/plain": "<Figure size 640x480 with 2 Axes>",
      "image/png": "[encoded data removed]"
     },
     "metadata": {},
     "output_type": "display_data"
    }
   ],
   "source": [
    "ConfusionMatrixDisplay.from_estimator(naive_bayes, bow_matrix_test, y_test, cmap='hot')"
   ]
  },
  {
   "cell_type": "markdown",
   "id": "886545b5",
   "metadata": {},
   "source": [
    "# Logistic regression"
   ]
  },
  {
   "cell_type": "code",
   "execution_count": 34,
   "id": "bb57392b",
   "metadata": {
    "ExecuteTime": {
     "end_time": "2024-02-04T21:43:26.965197400Z",
     "start_time": "2024-02-04T21:43:25.471184700Z"
    }
   },
   "outputs": [],
   "source": [
    "lr_full = LogisticRegression().fit(bow_matrix_train,y_train)"
   ]
  },
  {
   "cell_type": "code",
   "execution_count": 35,
   "id": "56158cc3",
   "metadata": {
    "ExecuteTime": {
     "end_time": "2024-02-04T21:43:27.175052300Z",
     "start_time": "2024-02-04T21:43:26.967192700Z"
    }
   },
   "outputs": [
    {
     "data": {
      "text/plain": "<Figure size 1500x500 with 1 Axes>",
      "image/png": "[encoded data removed]"
     },
     "metadata": {},
     "output_type": "display_data"
    },
    {
     "data": {
      "text/plain": "<Figure size 1500x500 with 1 Axes>",
      "image/png": "[encoded data removed]"
     },
     "metadata": {},
     "output_type": "display_data"
    }
   ],
   "source": [
    "ind = np.argsort(lr_full.coef_[0])\n",
    "\n",
    "n = 10\n",
    "plt.figure(figsize=(15,5))\n",
    "plt.bar([unique_words[i] for i in ind[:n]], lr_full.coef_[0,ind[:n]])\n",
    "plt.yticks(fontsize=14)\n",
    "plt.xticks(fontsize=14)\n",
    "\n",
    "plt.figure(figsize=(15,5))\n",
    "plt.bar([unique_words[i] for i in ind[-n:]], lr_full.coef_[0,ind[-n:]])\n",
    "plt.yticks(fontsize=14)\n",
    "plt.xticks(fontsize=14)\n",
    "plt.show()"
   ]
  },
  {
   "cell_type": "code",
   "execution_count": 36,
   "id": "e6260ebf",
   "metadata": {
    "ExecuteTime": {
     "end_time": "2024-02-04T21:43:27.245899400Z",
     "start_time": "2024-02-04T21:43:27.138669400Z"
    }
   },
   "outputs": [
    {
     "data": {
      "text/plain": "0.9992"
     },
     "execution_count": 36,
     "metadata": {},
     "output_type": "execute_result"
    }
   ],
   "source": [
    "lr_full.score(bow_matrix_test, y_test)"
   ]
  },
  {
   "cell_type": "code",
   "execution_count": 37,
   "id": "017dcd00",
   "metadata": {
    "ExecuteTime": {
     "end_time": "2024-02-04T21:43:27.334526500Z",
     "start_time": "2024-02-04T21:43:27.170067800Z"
    }
   },
   "outputs": [
    {
     "data": {
      "text/plain": "<sklearn.metrics._plot.confusion_matrix.ConfusionMatrixDisplay at 0x27428714850>"
     },
     "execution_count": 37,
     "metadata": {},
     "output_type": "execute_result"
    },
    {
     "data": {
      "text/plain": "<Figure size 640x480 with 2 Axes>",
      "image/png": "[encoded data removed]"
     },
     "metadata": {},
     "output_type": "display_data"
    }
   ],
   "source": [
    "ConfusionMatrixDisplay.from_estimator(lr_full, bow_matrix_test, y_test, cmap='prism')"
   ]
  },
  {
   "cell_type": "markdown",
   "id": "1bdbc97f",
   "metadata": {},
   "source": [
    "# Reduced bag of words (2 best features)"
   ]
  },
  {
   "cell_type": "code",
   "execution_count": 38,
   "id": "e148d4ec",
   "metadata": {
    "ExecuteTime": {
     "end_time": "2024-02-04T21:43:27.336511500Z",
     "start_time": "2024-02-04T21:43:27.311594200Z"
    }
   },
   "outputs": [
    {
     "data": {
      "text/plain": "(5976, 2)"
     },
     "execution_count": 38,
     "metadata": {},
     "output_type": "execute_result"
    }
   ],
   "source": [
    "keep_words = [':(', ':)']\n",
    "bow_matrix_train = np.zeros((len(X_train_pp),len(keep_words)))\n",
    "for i, tweet in enumerate(X_train_pp):\n",
    "    for word in tweet:\n",
    "        if word in keep_words:\n",
    "            bow_matrix_train[i,keep_words.index(word)] += 1\n",
    "            \n",
    "# throw away tweets with none of these features\n",
    "ind_has_feat = bow_matrix_train.sum(axis=1)>0\n",
    "bow_matrix_train_red = bow_matrix_train[ind_has_feat,:]\n",
    "y_train_red = y_train[ind_has_feat]\n",
    "\n",
    "bow_matrix_train_red.shape"
   ]
  },
  {
   "cell_type": "code",
   "execution_count": 39,
   "id": "bdc2740d",
   "metadata": {
    "ExecuteTime": {
     "end_time": "2024-02-04T21:43:27.438694100Z",
     "start_time": "2024-02-04T21:43:27.327541500Z"
    }
   },
   "outputs": [
    {
     "data": {
      "text/plain": "0.3984"
     },
     "execution_count": 39,
     "metadata": {},
     "output_type": "execute_result"
    }
   ],
   "source": [
    "np.sum(bow_matrix_train!=0)/np.prod(bow_matrix_train.shape)"
   ]
  },
  {
   "cell_type": "markdown",
   "id": "67ddd9c4",
   "metadata": {},
   "source": [
    "# Reduced test data"
   ]
  },
  {
   "cell_type": "code",
   "execution_count": 40,
   "id": "9afcd546",
   "metadata": {
    "ExecuteTime": {
     "end_time": "2024-02-04T21:43:27.489523500Z",
     "start_time": "2024-02-04T21:43:27.340497700Z"
    }
   },
   "outputs": [
    {
     "data": {
      "text/plain": "(509, (1991, 2))"
     },
     "execution_count": 40,
     "metadata": {},
     "output_type": "execute_result"
    }
   ],
   "source": [
    "bow_matrix_test = np.zeros((len(X_test_pp),len(keep_words)))\n",
    "for i, tweet in enumerate(X_test_pp):\n",
    "    for word in tweet:\n",
    "        if word in keep_words:\n",
    "            bow_matrix_test[i,keep_words.index(word)] += 1\n",
    "            \n",
    "# throw away tweets with none of these features\n",
    "ind_has_feat = bow_matrix_test.sum(axis=1)>0\n",
    "bow_matrix_test_red = bow_matrix_test[ind_has_feat,:]\n",
    "y_test_red = y_test[ind_has_feat]\n",
    "\n",
    "sum(~ind_has_feat), bow_matrix_test_red.shape"
   ]
  },
  {
   "cell_type": "markdown",
   "id": "c204c1f4",
   "metadata": {},
   "source": [
    "# Reduced logistic regression"
   ]
  },
  {
   "cell_type": "code",
   "execution_count": 41,
   "id": "850263a6",
   "metadata": {
    "ExecuteTime": {
     "end_time": "2024-02-04T21:43:27.491527300Z",
     "start_time": "2024-02-04T21:43:27.371409900Z"
    }
   },
   "outputs": [
    {
     "data": {
      "text/plain": "0.9994977398292315"
     },
     "execution_count": 41,
     "metadata": {},
     "output_type": "execute_result"
    }
   ],
   "source": [
    "lr_red = LogisticRegression()\n",
    "lr_red.fit(bow_matrix_train_red,y_train_red)\n",
    "lr_red.score(bow_matrix_test_red, y_test_red)"
   ]
  },
  {
   "cell_type": "code",
   "execution_count": 54,
   "id": "d1b28a8c",
   "metadata": {
    "ExecuteTime": {
     "end_time": "2024-02-04T21:51:31.697123900Z",
     "start_time": "2024-02-04T21:51:31.649876Z"
    }
   },
   "outputs": [
    {
     "data": {
      "text/plain": "0.9994977398292315"
     },
     "execution_count": 54,
     "metadata": {},
     "output_type": "execute_result"
    }
   ],
   "source": [
    "MultinomialNB(alpha=1.0, fit_prior=False).fit(bow_matrix_train_red,y_train_red).score(bow_matrix_test_red, y_test_red)"
   ]
  },
  {
   "cell_type": "code",
   "outputs": [],
   "source": [
    "from matplotlib import colormaps"
   ],
   "metadata": {
    "collapsed": false,
    "ExecuteTime": {
     "end_time": "2024-02-04T21:43:27.512447900Z",
     "start_time": "2024-02-04T21:43:27.401817900Z"
    }
   },
   "id": "5edff3c2da3ebf7",
   "execution_count": 43
  },
  {
   "cell_type": "code",
   "outputs": [
    {
     "data": {
      "text/plain": "['magma',\n 'inferno',\n 'plasma',\n 'viridis',\n 'cividis',\n 'twilight',\n 'twilight_shifted',\n 'turbo',\n 'Blues',\n 'BrBG',\n 'BuGn',\n 'BuPu',\n 'CMRmap',\n 'GnBu',\n 'Greens',\n 'Greys',\n 'OrRd',\n 'Oranges',\n 'PRGn',\n 'PiYG',\n 'PuBu',\n 'PuBuGn',\n 'PuOr',\n 'PuRd',\n 'Purples',\n 'RdBu',\n 'RdGy',\n 'RdPu',\n 'RdYlBu',\n 'RdYlGn',\n 'Reds',\n 'Spectral',\n 'Wistia',\n 'YlGn',\n 'YlGnBu',\n 'YlOrBr',\n 'YlOrRd',\n 'afmhot',\n 'autumn',\n 'binary',\n 'bone',\n 'brg',\n 'bwr',\n 'cool',\n 'coolwarm',\n 'copper',\n 'cubehelix',\n 'flag',\n 'gist_earth',\n 'gist_gray',\n 'gist_heat',\n 'gist_ncar',\n 'gist_rainbow',\n 'gist_stern',\n 'gist_yarg',\n 'gnuplot',\n 'gnuplot2',\n 'gray',\n 'hot',\n 'hsv',\n 'jet',\n 'nipy_spectral',\n 'ocean',\n 'pink',\n 'prism',\n 'rainbow',\n 'seismic',\n 'spring',\n 'summer',\n 'terrain',\n 'winter',\n 'Accent',\n 'Dark2',\n 'Paired',\n 'Pastel1',\n 'Pastel2',\n 'Set1',\n 'Set2',\n 'Set3',\n 'tab10',\n 'tab20',\n 'tab20b',\n 'tab20c',\n 'magma_r',\n 'inferno_r',\n 'plasma_r',\n 'viridis_r',\n 'cividis_r',\n 'twilight_r',\n 'twilight_shifted_r',\n 'turbo_r',\n 'Blues_r',\n 'BrBG_r',\n 'BuGn_r',\n 'BuPu_r',\n 'CMRmap_r',\n 'GnBu_r',\n 'Greens_r',\n 'Greys_r',\n 'OrRd_r',\n 'Oranges_r',\n 'PRGn_r',\n 'PiYG_r',\n 'PuBu_r',\n 'PuBuGn_r',\n 'PuOr_r',\n 'PuRd_r',\n 'Purples_r',\n 'RdBu_r',\n 'RdGy_r',\n 'RdPu_r',\n 'RdYlBu_r',\n 'RdYlGn_r',\n 'Reds_r',\n 'Spectral_r',\n 'Wistia_r',\n 'YlGn_r',\n 'YlGnBu_r',\n 'YlOrBr_r',\n 'YlOrRd_r',\n 'afmhot_r',\n 'autumn_r',\n 'binary_r',\n 'bone_r',\n 'brg_r',\n 'bwr_r',\n 'cool_r',\n 'coolwarm_r',\n 'copper_r',\n 'cubehelix_r',\n 'flag_r',\n 'gist_earth_r',\n 'gist_gray_r',\n 'gist_heat_r',\n 'gist_ncar_r',\n 'gist_rainbow_r',\n 'gist_stern_r',\n 'gist_yarg_r',\n 'gnuplot_r',\n 'gnuplot2_r',\n 'gray_r',\n 'hot_r',\n 'hsv_r',\n 'jet_r',\n 'nipy_spectral_r',\n 'ocean_r',\n 'pink_r',\n 'prism_r',\n 'rainbow_r',\n 'seismic_r',\n 'spring_r',\n 'summer_r',\n 'terrain_r',\n 'winter_r',\n 'Accent_r',\n 'Dark2_r',\n 'Paired_r',\n 'Pastel1_r',\n 'Pastel2_r',\n 'Set1_r',\n 'Set2_r',\n 'Set3_r',\n 'tab10_r',\n 'tab20_r',\n 'tab20b_r',\n 'tab20c_r']"
     },
     "execution_count": 44,
     "metadata": {},
     "output_type": "execute_result"
    }
   ],
   "source": [
    "list(colormaps)"
   ],
   "metadata": {
    "collapsed": false,
    "ExecuteTime": {
     "end_time": "2024-02-04T21:43:27.514449600Z",
     "start_time": "2024-02-04T21:43:27.416767300Z"
    }
   },
   "id": "faf7626eddc6cccf",
   "execution_count": 44
  },
  {
   "cell_type": "code",
   "execution_count": 45,
   "id": "484263a4",
   "metadata": {
    "ExecuteTime": {
     "end_time": "2024-02-04T21:43:27.673907300Z",
     "start_time": "2024-02-04T21:43:27.432714700Z"
    }
   },
   "outputs": [
    {
     "data": {
      "text/plain": "<sklearn.metrics._plot.confusion_matrix.ConfusionMatrixDisplay at 0x2747808a650>"
     },
     "execution_count": 45,
     "metadata": {},
     "output_type": "execute_result"
    },
    {
     "data": {
      "text/plain": "<Figure size 640x480 with 2 Axes>",
      "image/png": "[encoded data removed]"
     },
     "metadata": {},
     "output_type": "display_data"
    }
   ],
   "source": [
    "ConfusionMatrixDisplay.from_estimator(lr_red, bow_matrix_test_red, y_test_red, cmap='prism')"
   ]
  },
  {
   "cell_type": "markdown",
   "id": "3408cdd6",
   "metadata": {},
   "source": [
    "# Words only"
   ]
  },
  {
   "cell_type": "code",
   "execution_count": 46,
   "id": "7a77ca92",
   "metadata": {
    "ExecuteTime": {
     "end_time": "2024-02-04T21:43:27.675900700Z",
     "start_time": "2024-02-04T21:43:27.557306300Z"
    }
   },
   "outputs": [
    {
     "data": {
      "text/plain": "(7096, 10223)"
     },
     "execution_count": 46,
     "metadata": {},
     "output_type": "execute_result"
    }
   ],
   "source": [
    "alpha_words = [word for word in unique_words if word.isalpha()]\n",
    "len(alpha_words), len(unique_words)"
   ]
  },
  {
   "cell_type": "markdown",
   "id": "32443ea1",
   "metadata": {},
   "source": [
    "## Train and test data"
   ]
  },
  {
   "cell_type": "code",
   "execution_count": 47,
   "id": "7a3491d9",
   "metadata": {
    "ExecuteTime": {
     "end_time": "2024-02-04T21:43:31.478237500Z",
     "start_time": "2024-02-04T21:43:27.572247400Z"
    }
   },
   "outputs": [],
   "source": [
    "bow_matrix_train = np.zeros((len(X_train_pp),len(alpha_words)))\n",
    "for i, tweet in enumerate(X_train_pp):\n",
    "    for word in tweet:\n",
    "        if word in alpha_words:\n",
    "            bow_matrix_train[i,alpha_words.index(word)] += 1\n",
    "            \n",
    "            \n",
    "# throw away tweets with none of these features\n",
    "ind_has_feat = bow_matrix_train.sum(axis=1)>0\n",
    "bow_matrix_train_words = bow_matrix_train[ind_has_feat,:]\n",
    "y_train_words = y_train[ind_has_feat]"
   ]
  },
  {
   "cell_type": "code",
   "execution_count": 48,
   "id": "de47ae08",
   "metadata": {
    "ExecuteTime": {
     "end_time": "2024-02-04T21:43:32.689603300Z",
     "start_time": "2024-02-04T21:43:31.478237500Z"
    }
   },
   "outputs": [
    {
     "data": {
      "text/plain": "(82, (1991, 2))"
     },
     "execution_count": 48,
     "metadata": {},
     "output_type": "execute_result"
    }
   ],
   "source": [
    "bow_matrix_test = np.zeros((len(X_test_pp),len(alpha_words)))\n",
    "for i, tweet in enumerate(X_test_pp):\n",
    "    for word in tweet:\n",
    "        if word in alpha_words:\n",
    "            bow_matrix_test[i,alpha_words.index(word)] += 1\n",
    "            \n",
    "# throw away tweets with none of these features\n",
    "ind_has_feat = bow_matrix_test.sum(axis=1)>0\n",
    "bow_matrix_test_words = bow_matrix_test[ind_has_feat,:]\n",
    "y_test_words = y_test[ind_has_feat]\n",
    "\n",
    "sum(~ind_has_feat), bow_matrix_test_red.shape"
   ]
  },
  {
   "cell_type": "markdown",
   "id": "9329b6c7",
   "metadata": {},
   "source": [
    "## Logistic regression"
   ]
  },
  {
   "cell_type": "code",
   "execution_count": 49,
   "id": "437e8a26",
   "metadata": {
    "ExecuteTime": {
     "end_time": "2024-02-04T21:43:35.365959700Z",
     "start_time": "2024-02-04T21:43:32.690657300Z"
    }
   },
   "outputs": [
    {
     "data": {
      "text/plain": "0.7377998345740281"
     },
     "execution_count": 49,
     "metadata": {},
     "output_type": "execute_result"
    }
   ],
   "source": [
    "lr_alpha = LogisticRegression()\n",
    "lr_alpha.fit(bow_matrix_train_words,y_train_words)\n",
    "lr_alpha.score(bow_matrix_test_words, y_test_words)"
   ]
  },
  {
   "cell_type": "code",
   "execution_count": 50,
   "id": "54bf87f2",
   "metadata": {
    "ExecuteTime": {
     "end_time": "2024-02-04T21:43:35.520519400Z",
     "start_time": "2024-02-04T21:43:35.362650200Z"
    }
   },
   "outputs": [
    {
     "data": {
      "text/plain": "0.7460711331679074"
     },
     "execution_count": 50,
     "metadata": {},
     "output_type": "execute_result"
    }
   ],
   "source": [
    "MultinomialNB(alpha=1.0, fit_prior=False) \\\n",
    "    .fit(bow_matrix_train_words,y_train_words) \\\n",
    "    .score(bow_matrix_test_words, y_test_words)"
   ]
  },
  {
   "cell_type": "code",
   "execution_count": 51,
   "id": "59dbd7bd",
   "metadata": {
    "ExecuteTime": {
     "end_time": "2024-02-04T21:43:35.680816100Z",
     "start_time": "2024-02-04T21:43:35.518010Z"
    }
   },
   "outputs": [
    {
     "data": {
      "text/plain": "<sklearn.metrics._plot.confusion_matrix.ConfusionMatrixDisplay at 0x274287a6470>"
     },
     "execution_count": 51,
     "metadata": {},
     "output_type": "execute_result"
    },
    {
     "data": {
      "text/plain": "<Figure size 640x480 with 2 Axes>",
      "image/png": "[encoded data removed]"
     },
     "metadata": {},
     "output_type": "display_data"
    }
   ],
   "source": [
    "ConfusionMatrixDisplay.from_estimator(lr_alpha, bow_matrix_test_words, y_test_words, cmap='hot')"
   ]
  },
  {
   "cell_type": "code",
   "execution_count": 52,
   "id": "38530c3c",
   "metadata": {
    "ExecuteTime": {
     "end_time": "2024-02-04T21:43:35.746060800Z",
     "start_time": "2024-02-04T21:43:35.671799200Z"
    }
   },
   "outputs": [
    {
     "name": "stdout",
     "output_type": "stream",
     "text": [
      "['sad', 'miss', 'sorri', 'shame', 'aw']\n",
      "['happi', 'goodnight', 'welcom', 'thank', 'fback']\n"
     ]
    }
   ],
   "source": [
    "ind = np.argsort(lr_alpha.coef_[0])\n",
    "print([alpha_words[i] for i in ind[:5]])\n",
    "print([alpha_words[i] for i in ind[-5:]])"
   ]
  },
  {
   "cell_type": "code",
   "execution_count": 53,
   "id": "83be53e6",
   "metadata": {
    "ExecuteTime": {
     "end_time": "2024-02-04T21:43:35.921712400Z",
     "start_time": "2024-02-04T21:43:35.687217900Z"
    }
   },
   "outputs": [
    {
     "data": {
      "text/plain": "<Figure size 1500x500 with 1 Axes>",
      "image/png": "[encoded data removed]"
     },
     "metadata": {},
     "output_type": "display_data"
    },
    {
     "data": {
      "text/plain": "<Figure size 1500x500 with 1 Axes>",
      "image/png": "[encoded data removed]"
     },
     "metadata": {},
     "output_type": "display_data"
    }
   ],
   "source": [
    "\n",
    "n = 10\n",
    "plt.figure(figsize=(15,5))\n",
    "plt.bar([alpha_words[i] for i in ind[:n]], lr_alpha.coef_[0,ind[:n]])\n",
    "plt.xticks(fontsize=14)\n",
    "\n",
    "plt.figure(figsize=(15,5))\n",
    "plt.bar([alpha_words[i] for i in ind[-n:]], lr_alpha.coef_[0,ind[-n:]])\n",
    "plt.xticks(fontsize=14)\n",
    "plt.show()"
   ]
  },
  {
   "cell_type": "markdown",
   "id": "0d10e854",
   "metadata": {},
   "source": [
    "# TF IDF"
   ]
  },
  {
   "cell_type": "code",
   "execution_count": 53,
   "id": "6fd5a9c6",
   "metadata": {
    "ExecuteTime": {
     "end_time": "2024-02-04T21:43:35.922750800Z",
     "start_time": "2024-02-04T21:43:35.902829100Z"
    }
   },
   "outputs": [],
   "source": []
  },
  {
   "cell_type": "code",
   "execution_count": 53,
   "id": "51021990",
   "metadata": {
    "ExecuteTime": {
     "end_time": "2024-02-04T21:43:36.010165500Z",
     "start_time": "2024-02-04T21:43:35.918131200Z"
    }
   },
   "outputs": [],
   "source": []
  }
 ],
 "metadata": {
  "kernelspec": {
   "display_name": "Python 3 (ipykernel)",
   "language": "python",
   "name": "python3"
  },
  "language_info": {
   "codemirror_mode": {
    "name": "ipython",
    "version": 3
   },
   "file_extension": ".py",
   "mimetype": "text/x-python",
   "name": "python",
   "nbconvert_exporter": "python",
   "pygments_lexer": "ipython3",
   "version": "3.10.1"
  }
 },
 "nbformat": 4,
 "nbformat_minor": 5
}
