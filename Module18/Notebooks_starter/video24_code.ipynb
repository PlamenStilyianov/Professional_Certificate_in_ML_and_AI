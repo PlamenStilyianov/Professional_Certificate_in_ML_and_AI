{
 "cells": [
  {
   "cell_type": "code",
   "execution_count": 4,
   "id": "81a5df23",
   "metadata": {
    "ExecuteTime": {
     "end_time": "2024-02-04T02:47:42.265656700Z",
     "start_time": "2024-02-04T02:47:41.887600Z"
    }
   },
   "outputs": [],
   "source": [
    "import nltk\n",
    "import numpy as np\n",
    "import warnings\n",
    "\n",
    "warnings.filterwarnings(\"ignore\")"
   ]
  },
  {
   "cell_type": "code",
   "execution_count": 5,
   "id": "11750b69",
   "metadata": {
    "ExecuteTime": {
     "end_time": "2024-02-04T02:47:42.454184400Z",
     "start_time": "2024-02-04T02:47:42.239370200Z"
    }
   },
   "outputs": [
    {
     "name": "stderr",
     "output_type": "stream",
     "text": [
      "[nltk_data] Downloading package punkt to\n",
      "[nltk_data]     C:\\Users\\Plamen\\AppData\\Roaming\\nltk_data...\n",
      "[nltk_data]   Package punkt is already up-to-date!\n",
      "[nltk_data] Downloading package maxent_ne_chunker to\n",
      "[nltk_data]     C:\\Users\\Plamen\\AppData\\Roaming\\nltk_data...\n",
      "[nltk_data]   Package maxent_ne_chunker is already up-to-date!\n",
      "[nltk_data] Downloading package words to\n",
      "[nltk_data]     C:\\Users\\Plamen\\AppData\\Roaming\\nltk_data...\n",
      "[nltk_data]   Package words is already up-to-date!\n",
      "[nltk_data] Downloading package stopwords to\n",
      "[nltk_data]     C:\\Users\\Plamen\\AppData\\Roaming\\nltk_data...\n",
      "[nltk_data]   Package stopwords is already up-to-date!\n",
      "[nltk_data] Downloading package wordnet to\n",
      "[nltk_data]     C:\\Users\\Plamen\\AppData\\Roaming\\nltk_data...\n",
      "[nltk_data]   Package wordnet is already up-to-date!\n",
      "[nltk_data] Downloading package omw-1.4 to\n",
      "[nltk_data]     C:\\Users\\Plamen\\AppData\\Roaming\\nltk_data...\n",
      "[nltk_data]   Package omw-1.4 is already up-to-date!\n",
      "[nltk_data] Downloading package averaged_perceptron_tagger to\n",
      "[nltk_data]     C:\\Users\\Plamen\\AppData\\Roaming\\nltk_data...\n",
      "[nltk_data]   Package averaged_perceptron_tagger is already up-to-\n",
      "[nltk_data]       date!\n"
     ]
    },
    {
     "data": {
      "text/plain": "True"
     },
     "execution_count": 5,
     "metadata": {},
     "output_type": "execute_result"
    }
   ],
   "source": [
    "nltk.download('punkt')\n",
    "nltk.download('maxent_ne_chunker')\n",
    "nltk.download('words')\n",
    "nltk.download('stopwords')\n",
    "nltk.download('wordnet')\n",
    "nltk.download('omw-1.4')\n",
    "nltk.download('averaged_perceptron_tagger')"
   ]
  },
  {
   "cell_type": "markdown",
   "id": "435c512f",
   "metadata": {},
   "source": [
    "# Positive review"
   ]
  },
  {
   "cell_type": "code",
   "execution_count": 6,
   "id": "29242f15",
   "metadata": {
    "ExecuteTime": {
     "end_time": "2024-02-04T02:47:42.470297300Z",
     "start_time": "2024-02-04T02:47:42.455180800Z"
    }
   },
   "outputs": [
    {
     "name": "stdout",
     "output_type": "stream",
     "text": [
      "I enjoyed 'Minority Report'. Tom Cruise didn't disappoint, and Steven Spielberg is at the top of his game. The movie was long but it wasn't boring. GREAT MOVIE!\n"
     ]
    }
   ],
   "source": [
    "text = \"I enjoyed 'Minority Report'. Tom Cruise didn't disappoint, and Steven Spielberg is at the top of his game. The movie was long but it wasn't boring. GREAT MOVIE!\"\n",
    "print(text)"
   ]
  },
  {
   "cell_type": "markdown",
   "id": "d113d2b2",
   "metadata": {},
   "source": [
    "## sentence tokenize"
   ]
  },
  {
   "cell_type": "code",
   "execution_count": 7,
   "id": "37ae8269",
   "metadata": {
    "ExecuteTime": {
     "end_time": "2024-02-04T02:47:42.524117500Z",
     "start_time": "2024-02-04T02:47:42.471341200Z"
    }
   },
   "outputs": [
    {
     "name": "stdout",
     "output_type": "stream",
     "text": [
      "4\n",
      "I enjoyed 'Minority Report'.\n",
      "Tom Cruise didn't disappoint, and Steven Spielberg is at the top of his game.\n",
      "The movie was long but it wasn't boring.\n",
      "GREAT MOVIE!\n"
     ]
    }
   ],
   "source": [
    "sentences = nltk.sent_tokenize(text)\n",
    "\n",
    "print(len(sentences))\n",
    "for sentence in sentences:\n",
    "    print(sentence)"
   ]
  },
  {
   "cell_type": "markdown",
   "id": "a445b1b4",
   "metadata": {},
   "source": [
    "## word tokenize"
   ]
  },
  {
   "cell_type": "code",
   "execution_count": 8,
   "id": "cf2081cf",
   "metadata": {
    "ExecuteTime": {
     "end_time": "2024-02-04T02:47:42.525122500Z",
     "start_time": "2024-02-04T02:47:42.485255500Z"
    }
   },
   "outputs": [
    {
     "name": "stdout",
     "output_type": "stream",
     "text": [
      "36\n",
      "['I', 'enjoyed', \"'Minority\", 'Report', \"'\", '.', 'Tom', 'Cruise', 'did', \"n't\"]\n",
      "['disappoint', ',', 'and', 'Steven', 'Spielberg', 'is', 'at', 'the', 'top', 'of']\n",
      "['his', 'game', '.', 'The', 'movie', 'was', 'long', 'but', 'it', 'was', \"n't\", 'boring']\n",
      "['.', 'GREAT', 'MOVIE', '!']\n"
     ]
    }
   ],
   "source": [
    "words = nltk.word_tokenize(text)\n",
    "print(len(words))\n",
    "print(words[:10])\n",
    "print(words[10:20])\n",
    "print(words[20:32])\n",
    "print(words[32:])"
   ]
  },
  {
   "cell_type": "markdown",
   "id": "73b470c8",
   "metadata": {},
   "source": [
    "# Parts of speech"
   ]
  },
  {
   "cell_type": "code",
   "execution_count": 9,
   "id": "243509bc",
   "metadata": {
    "ExecuteTime": {
     "end_time": "2024-02-04T02:47:42.526120Z",
     "start_time": "2024-02-04T02:47:42.502190800Z"
    }
   },
   "outputs": [
    {
     "name": "stdout",
     "output_type": "stream",
     "text": [
      "PRP$: pronoun, possessive\n",
      "    her his mine my our ours their thy your\n"
     ]
    },
    {
     "name": "stderr",
     "output_type": "stream",
     "text": [
      "[nltk_data] Downloading package tagsets to\n",
      "[nltk_data]     C:\\Users\\Plamen\\AppData\\Roaming\\nltk_data...\n",
      "[nltk_data]   Package tagsets is already up-to-date!\n"
     ]
    }
   ],
   "source": [
    "nltk.download('tagsets')\n",
    "nltk.help.upenn_tagset('PRP$')"
   ]
  },
  {
   "cell_type": "code",
   "execution_count": 10,
   "id": "4b7c76af",
   "metadata": {
    "ExecuteTime": {
     "end_time": "2024-02-04T02:47:42.596874Z",
     "start_time": "2024-02-04T02:47:42.517141100Z"
    }
   },
   "outputs": [
    {
     "name": "stdout",
     "output_type": "stream",
     "text": [
      "PRP$: pronoun, possessive\n",
      "    her his mine my our ours their thy your\n"
     ]
    }
   ],
   "source": [
    "nltk.help.upenn_tagset('PRP$')"
   ]
  },
  {
   "cell_type": "code",
   "execution_count": 11,
   "id": "c48b5904",
   "metadata": {
    "ExecuteTime": {
     "end_time": "2024-02-04T02:47:42.661110600Z",
     "start_time": "2024-02-04T02:47:42.533087600Z"
    }
   },
   "outputs": [
    {
     "data": {
      "text/plain": "[('The', 'DT'),\n ('movie', 'NN'),\n ('was', 'VBD'),\n ('long', 'RB'),\n ('but', 'CC'),\n ('it', 'PRP'),\n ('was', 'VBD'),\n ('not', 'RB'),\n ('boring', 'JJ')]"
     },
     "execution_count": 11,
     "metadata": {},
     "output_type": "execute_result"
    }
   ],
   "source": [
    "nltk.pos_tag(nltk.word_tokenize('The movie was long but it was not boring'))"
   ]
  },
  {
   "cell_type": "code",
   "execution_count": 12,
   "id": "acc2cd63",
   "metadata": {
    "ExecuteTime": {
     "end_time": "2024-02-04T02:47:42.685643Z",
     "start_time": "2024-02-04T02:47:42.658956200Z"
    }
   },
   "outputs": [
    {
     "data": {
      "text/plain": "[('I', 'PRP'),\n ('enjoyed', 'VBP'),\n (\"'Minority\", 'JJ'),\n ('Report', 'NNP'),\n (\"'\", 'POS'),\n ('.', '.'),\n ('Tom', 'NNP'),\n ('Cruise', 'NNP'),\n ('did', 'VBD'),\n (\"n't\", 'RB'),\n ('disappoint', 'VB'),\n (',', ','),\n ('and', 'CC'),\n ('Steven', 'NNP'),\n ('Spielberg', 'NNP'),\n ('is', 'VBZ'),\n ('at', 'IN'),\n ('the', 'DT'),\n ('top', 'NN'),\n ('of', 'IN'),\n ('his', 'PRP$'),\n ('game', 'NN'),\n ('.', '.'),\n ('The', 'DT'),\n ('movie', 'NN'),\n ('was', 'VBD'),\n ('long', 'RB'),\n ('but', 'CC'),\n ('it', 'PRP'),\n ('was', 'VBD'),\n (\"n't\", 'RB'),\n ('boring', 'JJ'),\n ('.', '.'),\n ('GREAT', 'JJ'),\n ('MOVIE', 'NN'),\n ('!', '.')]"
     },
     "execution_count": 12,
     "metadata": {},
     "output_type": "execute_result"
    }
   ],
   "source": [
    "words_pos = nltk.pos_tag(words)\n",
    "words_pos"
   ]
  },
  {
   "cell_type": "markdown",
   "id": "a080f5b0",
   "metadata": {},
   "source": [
    "# Named entity recognition"
   ]
  },
  {
   "cell_type": "code",
   "execution_count": 13,
   "id": "0943edad",
   "metadata": {
    "ExecuteTime": {
     "end_time": "2024-02-04T02:47:42.781533300Z",
     "start_time": "2024-02-04T02:47:42.675894800Z"
    }
   },
   "outputs": [
    {
     "name": "stdout",
     "output_type": "stream",
     "text": [
      "[('Report', 'ORGANIZATION'), ('Tom Cruise', 'PERSON'), ('Steven Spielberg', 'PERSON'), ('GREAT', 'ORGANIZATION'), ('MOVIE', 'ORGANIZATION')]\n"
     ]
    }
   ],
   "source": [
    "named_entities = []\n",
    "for t in nltk.ne_chunk(words_pos):\n",
    "    if hasattr(t,'label'):\n",
    "        e_name = ' '.join(c[0] for c in t.leaves());\n",
    "        e_type = t.label()\n",
    "        named_entities.append((e_name, e_type))\n",
    "        \n",
    "print(named_entities)"
   ]
  },
  {
   "cell_type": "markdown",
   "id": "11858595",
   "metadata": {},
   "source": [
    "## Remove named entities and lower case\n"
   ]
  },
  {
   "cell_type": "code",
   "execution_count": 14,
   "id": "c5013436",
   "metadata": {
    "ExecuteTime": {
     "end_time": "2024-02-04T02:47:42.809689800Z",
     "start_time": "2024-02-04T02:47:42.783898Z"
    }
   },
   "outputs": [],
   "source": [
    "words_nonames = words.copy()\n",
    "for ne in named_entities:\n",
    "    if ne[1]=='PERSON':\n",
    "        for name in nltk.word_tokenize(ne[0]):\n",
    "            words_nonames.remove(name)"
   ]
  },
  {
   "cell_type": "code",
   "execution_count": 15,
   "id": "f421dce7",
   "metadata": {
    "ExecuteTime": {
     "end_time": "2024-02-04T02:47:42.813090900Z",
     "start_time": "2024-02-04T02:47:42.796891500Z"
    }
   },
   "outputs": [
    {
     "data": {
      "text/plain": "\"i enjoyed 'minority report ' . did n't disappoint , and is at the top of his game . the movie was long but it was n't boring . great movie !\""
     },
     "execution_count": 15,
     "metadata": {},
     "output_type": "execute_result"
    }
   ],
   "source": [
    "words_nonames_lower = [word.lower() for word in words_nonames]\n",
    "' '.join(words_nonames_lower)"
   ]
  },
  {
   "cell_type": "markdown",
   "id": "337dc0ae",
   "metadata": {},
   "source": [
    "## Remove stopwords"
   ]
  },
  {
   "cell_type": "code",
   "execution_count": 16,
   "id": "bd7e1c00",
   "metadata": {
    "ExecuteTime": {
     "end_time": "2024-02-04T02:47:42.852854100Z",
     "start_time": "2024-02-04T02:47:42.814244700Z"
    }
   },
   "outputs": [],
   "source": [
    "from nltk.corpus import stopwords\n",
    "swords = stopwords.words('english') "
   ]
  },
  {
   "cell_type": "code",
   "execution_count": 17,
   "id": "cf596ef6",
   "metadata": {
    "ExecuteTime": {
     "end_time": "2024-02-04T02:47:42.854909700Z",
     "start_time": "2024-02-04T02:47:42.829978100Z"
    }
   },
   "outputs": [
    {
     "name": "stdout",
     "output_type": "stream",
     "text": [
      "enjoyed 'minority report ' . n't disappoint , top game . movie long n't boring . great movie !\n"
     ]
    }
   ],
   "source": [
    "words_nonames_lower_nostop = [w for w in words_nonames_lower if not w in swords]\n",
    "print(' '.join(words_nonames_lower_nostop))"
   ]
  },
  {
   "cell_type": "code",
   "execution_count": 18,
   "id": "a3253f55",
   "metadata": {
    "ExecuteTime": {
     "end_time": "2024-02-04T02:47:42.888609900Z",
     "start_time": "2024-02-04T02:47:42.844908Z"
    }
   },
   "outputs": [
    {
     "name": "stdout",
     "output_type": "stream",
     "text": [
      "19\n"
     ]
    }
   ],
   "source": [
    "print(len(words_nonames_lower_nostop))"
   ]
  },
  {
   "cell_type": "markdown",
   "id": "faeffa94",
   "metadata": {},
   "source": [
    "## Stemming"
   ]
  },
  {
   "cell_type": "code",
   "execution_count": 19,
   "id": "d6d19f20",
   "metadata": {
    "ExecuteTime": {
     "end_time": "2024-02-04T02:47:42.889807500Z",
     "start_time": "2024-02-04T02:47:42.859900300Z"
    }
   },
   "outputs": [],
   "source": [
    "from nltk.stem import PorterStemmer\n",
    "stemmer = PorterStemmer()"
   ]
  },
  {
   "cell_type": "code",
   "execution_count": 20,
   "id": "96fd8a54",
   "metadata": {
    "ExecuteTime": {
     "end_time": "2024-02-04T02:47:42.916267100Z",
     "start_time": "2024-02-04T02:47:42.875282900Z"
    }
   },
   "outputs": [
    {
     "data": {
      "text/plain": "['joy', 'joy', 'joy', 'joyou', 'gees']"
     },
     "execution_count": 20,
     "metadata": {},
     "output_type": "execute_result"
    }
   ],
   "source": [
    "A = ['joy','joyful','joyfully','joyous','geese']\n",
    "[stemmer.stem(w) for w in A]"
   ]
  },
  {
   "cell_type": "code",
   "execution_count": 21,
   "id": "06856980",
   "metadata": {
    "ExecuteTime": {
     "end_time": "2024-02-04T02:47:42.919379900Z",
     "start_time": "2024-02-04T02:47:42.890814700Z"
    }
   },
   "outputs": [
    {
     "data": {
      "text/plain": "['run', 'runner', 'run', 'ran']"
     },
     "execution_count": 21,
     "metadata": {},
     "output_type": "execute_result"
    }
   ],
   "source": [
    "A = ['run','runner','running','ran']\n",
    "[stemmer.stem(w) for w in A]"
   ]
  },
  {
   "cell_type": "code",
   "execution_count": 22,
   "id": "426e367f",
   "metadata": {
    "ExecuteTime": {
     "end_time": "2024-02-04T02:47:42.933805300Z",
     "start_time": "2024-02-04T02:47:42.907596200Z"
    }
   },
   "outputs": [
    {
     "name": "stdout",
     "output_type": "stream",
     "text": [
      "enjoy 'minor report ' . n't disappoint , top game . movi long n't bore . great movi !\n"
     ]
    }
   ],
   "source": [
    "words_nonames_lower_nostop_stem = [stemmer.stem(w) for w in words_nonames_lower_nostop]\n",
    "print(' '.join(words_nonames_lower_nostop_stem))"
   ]
  },
  {
   "cell_type": "markdown",
   "id": "35d06372",
   "metadata": {},
   "source": [
    "## Lemmatization"
   ]
  },
  {
   "cell_type": "code",
   "execution_count": 23,
   "id": "23650946",
   "metadata": {
    "ExecuteTime": {
     "end_time": "2024-02-04T02:47:42.971205700Z",
     "start_time": "2024-02-04T02:47:42.921702600Z"
    }
   },
   "outputs": [],
   "source": [
    "from nltk.stem import WordNetLemmatizer\n",
    "lemma = WordNetLemmatizer()"
   ]
  },
  {
   "cell_type": "code",
   "execution_count": 24,
   "id": "6ced7c6a",
   "metadata": {
    "ExecuteTime": {
     "end_time": "2024-02-04T02:47:43.893537500Z",
     "start_time": "2024-02-04T02:47:42.938787400Z"
    }
   },
   "outputs": [
    {
     "data": {
      "text/plain": "['joy', 'joyful', 'joyfully', 'joyous', 'goose', 'dog']"
     },
     "execution_count": 24,
     "metadata": {},
     "output_type": "execute_result"
    }
   ],
   "source": [
    "A = ['joy','joyful','joyfully','joyous','geese', 'dogs']\n",
    "[lemma.lemmatize(w) for w in A]"
   ]
  },
  {
   "cell_type": "code",
   "execution_count": 25,
   "id": "f874bdac",
   "metadata": {
    "ExecuteTime": {
     "end_time": "2024-02-04T02:47:43.931420400Z",
     "start_time": "2024-02-04T02:47:43.894534500Z"
    }
   },
   "outputs": [
    {
     "name": "stdout",
     "output_type": "stream",
     "text": [
      "enjoyed 'minority report ' . n't disappoint , top game . movie long n't boring . great movie !\n"
     ]
    }
   ],
   "source": [
    "words_nonames_lower_nostop_lemma = [lemma.lemmatize(w) for w in words_nonames_lower_nostop]\n",
    "print(' '.join(words_nonames_lower_nostop_lemma))"
   ]
  },
  {
   "cell_type": "code",
   "execution_count": 26,
   "id": "df3e85ad",
   "metadata": {
    "ExecuteTime": {
     "end_time": "2024-02-04T02:47:43.932417200Z",
     "start_time": "2024-02-04T02:47:43.910482200Z"
    }
   },
   "outputs": [
    {
     "data": {
      "text/plain": "\"enjoy 'minor report ' . n't disappoint , top game . movi long n't bore . great movi !\""
     },
     "execution_count": 26,
     "metadata": {},
     "output_type": "execute_result"
    }
   ],
   "source": [
    "' '.join([stemmer.stem(w) for w in words_nonames_lower_nostop])"
   ]
  },
  {
   "cell_type": "code",
   "execution_count": 27,
   "id": "3df66175",
   "metadata": {
    "ExecuteTime": {
     "end_time": "2024-02-04T02:47:43.959732900Z",
     "start_time": "2024-02-04T02:47:43.924481500Z"
    }
   },
   "outputs": [
    {
     "data": {
      "text/plain": "\"enjoyed 'minority report ' . n't disappoint , top game . movie long n't boring . great movie !\""
     },
     "execution_count": 27,
     "metadata": {},
     "output_type": "execute_result"
    }
   ],
   "source": [
    "' '.join([lemma.lemmatize(w) for w in words_nonames_lower_nostop])"
   ]
  },
  {
   "cell_type": "markdown",
   "id": "34012ae8",
   "metadata": {},
   "source": [
    "# Bag of words"
   ]
  },
  {
   "cell_type": "code",
   "execution_count": 28,
   "id": "dd021b71",
   "metadata": {
    "ExecuteTime": {
     "end_time": "2024-02-04T02:47:43.960803900Z",
     "start_time": "2024-02-04T02:47:43.939384800Z"
    }
   },
   "outputs": [],
   "source": [
    "doc1 = [w for w in words_nonames_lower_nostop_stem if (w!=\"'\") and (w!=\".\") and (w!=\",\") and (w!=\"!\")]"
   ]
  },
  {
   "cell_type": "code",
   "execution_count": 29,
   "id": "244aaf7c",
   "metadata": {
    "ExecuteTime": {
     "end_time": "2024-02-04T02:47:43.999179200Z",
     "start_time": "2024-02-04T02:47:43.954734400Z"
    }
   },
   "outputs": [
    {
     "data": {
      "text/plain": "['enjoy',\n \"'minor\",\n 'report',\n \"n't\",\n 'disappoint',\n 'top',\n 'game',\n 'movi',\n 'long',\n \"n't\",\n 'bore',\n 'great',\n 'movi']"
     },
     "execution_count": 29,
     "metadata": {},
     "output_type": "execute_result"
    }
   ],
   "source": [
    "doc1"
   ]
  },
  {
   "cell_type": "markdown",
   "id": "c785fca7",
   "metadata": {},
   "source": [
    "# idf"
   ]
  },
  {
   "cell_type": "code",
   "execution_count": 30,
   "id": "9795b931",
   "metadata": {
    "ExecuteTime": {
     "end_time": "2024-02-04T02:47:44.436000300Z",
     "start_time": "2024-02-04T02:47:43.971677900Z"
    }
   },
   "outputs": [
    {
     "data": {
      "text/plain": "<Figure size 640x480 with 1 Axes>",
      "image/png": "[encoded data removed]"
     },
     "metadata": {},
     "output_type": "display_data"
    }
   ],
   "source": [
    "import matplotlib.pyplot as plt\n",
    "x = np.linspace(0,1)\n",
    "plt.plot(x,-np.log(x))\n",
    "plt.ylabel('idf(t)',fontsize=14)\n",
    "plt.xlabel('proportion of documents that contain t',fontsize=14)\n",
    "plt.grid(':')"
   ]
  },
  {
   "cell_type": "markdown",
   "source": [
    "### Google's Word2vec"
   ],
   "metadata": {
    "collapsed": false
   },
   "id": "9c12c440f45acdef"
  },
  {
   "cell_type": "code",
   "outputs": [],
   "source": [
    "import gensim.downloader as api"
   ],
   "metadata": {
    "collapsed": false,
    "ExecuteTime": {
     "end_time": "2024-02-04T02:51:52.302216700Z",
     "start_time": "2024-02-04T02:51:52.273290600Z"
    }
   },
   "id": "1557a0c4029133f0",
   "execution_count": 36
  },
  {
   "cell_type": "code",
   "outputs": [],
   "source": [
    "path = api.load(\"word2vec-google-news-300\", return_path=True)"
   ],
   "metadata": {
    "collapsed": false,
    "ExecuteTime": {
     "end_time": "2024-02-04T02:51:53.334578100Z",
     "start_time": "2024-02-04T02:51:53.221236600Z"
    }
   },
   "id": "47e627229899b8d1",
   "execution_count": 37
  },
  {
   "cell_type": "code",
   "outputs": [
    {
     "name": "stdout",
     "output_type": "stream",
     "text": [
      "C:\\Users\\Plamen/gensim-data\\word2vec-google-news-300\\word2vec-google-news-300.gz\n"
     ]
    }
   ],
   "source": [
    "print(path)"
   ],
   "metadata": {
    "collapsed": false,
    "ExecuteTime": {
     "end_time": "2024-02-04T02:51:55.685115900Z",
     "start_time": "2024-02-04T02:51:55.660199400Z"
    }
   },
   "id": "75f2520a61faeb6d",
   "execution_count": 38
  },
  {
   "cell_type": "code",
   "outputs": [],
   "source": [
    "from gensim.models.word2vec import Word2Vec\n",
    "import gensim.downloader as api"
   ],
   "metadata": {
    "collapsed": false,
    "ExecuteTime": {
     "end_time": "2024-02-04T03:11:57.152366100Z",
     "start_time": "2024-02-04T03:11:57.145389900Z"
    }
   },
   "id": "300102c068705b18",
   "execution_count": 60
  },
  {
   "cell_type": "code",
   "outputs": [
    {
     "data": {
      "text/plain": "[('driver', 0.796831488609314),\n ('taxi', 0.7318128943443298),\n ('cars', 0.7149017453193665),\n ('motorcycle', 0.6871437430381775),\n ('racing', 0.6631249189376831),\n ('vehicle', 0.6613308191299438),\n ('truck', 0.6558552980422974),\n ('glider', 0.6471863389015198),\n ('automobile', 0.627905011177063),\n ('passenger', 0.6185401082038879)]"
     },
     "execution_count": 61,
     "metadata": {},
     "output_type": "execute_result"
    }
   ],
   "source": [
    "corpus = api.load('text8')  # download the corpus and return it opened as an iterable\n",
    "model = Word2Vec(corpus)  # train a model from the corpus\n",
    "model.wv.most_similar('car')"
   ],
   "metadata": {
    "collapsed": false,
    "ExecuteTime": {
     "end_time": "2024-02-04T03:12:33.568968500Z",
     "start_time": "2024-02-04T03:11:58.243270100Z"
    }
   },
   "id": "b36ea3ebfc839aab",
   "execution_count": 61
  },
  {
   "cell_type": "code",
   "outputs": [],
   "source": [
    "from gensim.models import Word2Vec"
   ],
   "metadata": {
    "collapsed": false,
    "ExecuteTime": {
     "end_time": "2024-02-04T03:08:05.883834200Z",
     "start_time": "2024-02-04T03:08:05.868236600Z"
    }
   },
   "id": "c4e20a1c70a10989",
   "execution_count": 53
  },
  {
   "cell_type": "code",
   "outputs": [],
   "source": [
    "model = Word2Vec(corpus)"
   ],
   "metadata": {
    "collapsed": false,
    "ExecuteTime": {
     "end_time": "2024-02-04T03:08:43.110004800Z",
     "start_time": "2024-02-04T03:08:06.484236Z"
    }
   },
   "id": "1526369ca38a0e2c",
   "execution_count": 54
  },
  {
   "cell_type": "code",
   "outputs": [
    {
     "data": {
      "text/plain": "[('driver', 0.816473662853241),\n ('taxi', 0.7348203063011169),\n ('cars', 0.7211964726448059),\n ('glider', 0.6976900100708008),\n ('vehicle', 0.6942869424819946),\n ('motorcycle', 0.6924675107002258),\n ('truck', 0.6766753792762756),\n ('passenger', 0.6634942889213562),\n ('racing', 0.6607642769813538),\n ('audi', 0.6510863304138184)]"
     },
     "execution_count": 58,
     "metadata": {},
     "output_type": "execute_result"
    }
   ],
   "source": [
    "model.wv.most_similar('car')"
   ],
   "metadata": {
    "collapsed": false,
    "ExecuteTime": {
     "end_time": "2024-02-04T03:10:17.520792700Z",
     "start_time": "2024-02-04T03:10:17.493882700Z"
    }
   },
   "id": "dd58750dbf00fc33",
   "execution_count": 58
  },
  {
   "cell_type": "code",
   "outputs": [],
   "source": [],
   "metadata": {
    "collapsed": false
   },
   "id": "f431fe5f4dfa328"
  }
 ],
 "metadata": {
  "kernelspec": {
   "display_name": "Python 3 (ipykernel)",
   "language": "python",
   "name": "python3"
  },
  "language_info": {
   "codemirror_mode": {
    "name": "ipython",
    "version": 3
   },
   "file_extension": ".py",
   "mimetype": "text/x-python",
   "name": "python",
   "nbconvert_exporter": "python",
   "pygments_lexer": "ipython3",
   "version": "3.10.8"
  }
 },
 "nbformat": 4,
 "nbformat_minor": 5
}
