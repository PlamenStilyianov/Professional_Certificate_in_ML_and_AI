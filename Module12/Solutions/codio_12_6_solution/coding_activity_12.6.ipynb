{
 "cells": [
  {
   "cell_type": "markdown",
   "metadata": {
    "nbgrader": {
     "grade": false,
     "grade_id": "cell-9ac57c22dea04d1d",
     "locked": true,
     "schema_version": 3,
     "solution": false
    }
   },
   "source": [
    "### Codio Activity 12.6: Evaluation Curves: Precision vs. Recall and ROC\n",
    "\n",
    "**Estimated Time: 90 Minutes**\n",
    "\n",
    "**Total Points: 60**\n",
    "\n",
    "This assignment focuses on using the precision recall curves and receiver operating characteristic (roc) curves to examine tradeoffs in classifier performance.  Also, these curves and the area determined by them can be viewed as a metric itself.  Scikitlearn implements all of this, and by the end of this activity you should be comfortable with these functions."
   ]
  },
  {
   "cell_type": "markdown",
   "metadata": {
    "nbgrader": {
     "grade": false,
     "grade_id": "cell-ede1a8b81a520136",
     "locked": true,
     "schema_version": 3,
     "solution": false
    }
   },
   "source": [
    "#### Index\n",
    "\n",
    "- [Problem 1](#Problem-1)\n",
    "- [Problem 2](#Problem-2)\n",
    "- [Problem 3](#Problem-3)\n",
    "- [Problem 4](#Problem-4)\n",
    "- [Problem 5](#Problem-5)\n",
    "- [Problem 6](#Problem-6)"
   ]
  },
  {
   "cell_type": "code",
   "execution_count": 24,
   "metadata": {
    "ExecuteTime": {
     "end_time": "2023-12-03T01:54:32.308819900Z",
     "start_time": "2023-12-03T01:54:32.208189600Z"
    }
   },
   "outputs": [],
   "source": [
    "import pandas as pd\n",
    "import numpy as np\n",
    "import matplotlib.pyplot as plt\n",
    "import seaborn as sns\n",
    "\n",
    "from sklearn.preprocessing import StandardScaler, OneHotEncoder\n",
    "from sklearn.model_selection import train_test_split, GridSearchCV\n",
    "from sklearn.neighbors import KNeighborsClassifier\n",
    "from sklearn.pipeline import Pipeline\n",
    "from sklearn.metrics import accuracy_score, recall_score, precision_score, precision_recall_curve, roc_curve\n",
    "from sklearn.datasets import load_breast_cancer\n",
    "from sklearn.compose import make_column_transformer\n",
    "from sklearn import set_config\n",
    "\n",
    "set_config(display=\"diagram\")"
   ]
  },
  {
   "cell_type": "markdown",
   "metadata": {
    "nbgrader": {
     "grade": false,
     "grade_id": "cell-7c6f528bbe21a8ac",
     "locked": true,
     "schema_version": 3,
     "solution": false
    }
   },
   "source": [
    "### The Data\n",
    "\n",
    "\n",
    "For this exercise, you will again use the credit card default data.  It is loaded and split below.  A pipeline for model building is also instantiated and fit. "
   ]
  },
  {
   "cell_type": "code",
   "execution_count": 25,
   "metadata": {
    "ExecuteTime": {
     "end_time": "2023-12-03T01:54:32.336021300Z",
     "start_time": "2023-12-03T01:54:32.214283900Z"
    }
   },
   "outputs": [],
   "source": [
    "default = pd.read_csv('data/default.csv', index_col=0)"
   ]
  },
  {
   "cell_type": "code",
   "execution_count": 26,
   "metadata": {
    "ExecuteTime": {
     "end_time": "2023-12-03T01:54:32.418952500Z",
     "start_time": "2023-12-03T01:54:32.234751600Z"
    }
   },
   "outputs": [
    {
     "data": {
      "text/plain": "  default student      balance        income\n1      No      No   729.526495  44361.625074\n2      No     Yes   817.180407  12106.134700\n3      No      No  1073.549164  31767.138947\n4      No      No   529.250605  35704.493935\n5      No      No   785.655883  38463.495879",
      "text/html": "<div>\n<style scoped>\n    .dataframe tbody tr th:only-of-type {\n        vertical-align: middle;\n    }\n\n    .dataframe tbody tr th {\n        vertical-align: top;\n    }\n\n    .dataframe thead th {\n        text-align: right;\n    }\n</style>\n<table border=\"1\" class=\"dataframe\">\n  <thead>\n    <tr style=\"text-align: right;\">\n      <th></th>\n      <th>default</th>\n      <th>student</th>\n      <th>balance</th>\n      <th>income</th>\n    </tr>\n  </thead>\n  <tbody>\n    <tr>\n      <th>1</th>\n      <td>No</td>\n      <td>No</td>\n      <td>729.526495</td>\n      <td>44361.625074</td>\n    </tr>\n    <tr>\n      <th>2</th>\n      <td>No</td>\n      <td>Yes</td>\n      <td>817.180407</td>\n      <td>12106.134700</td>\n    </tr>\n    <tr>\n      <th>3</th>\n      <td>No</td>\n      <td>No</td>\n      <td>1073.549164</td>\n      <td>31767.138947</td>\n    </tr>\n    <tr>\n      <th>4</th>\n      <td>No</td>\n      <td>No</td>\n      <td>529.250605</td>\n      <td>35704.493935</td>\n    </tr>\n    <tr>\n      <th>5</th>\n      <td>No</td>\n      <td>No</td>\n      <td>785.655883</td>\n      <td>38463.495879</td>\n    </tr>\n  </tbody>\n</table>\n</div>"
     },
     "execution_count": 26,
     "metadata": {},
     "output_type": "execute_result"
    }
   ],
   "source": [
    "default.head()"
   ]
  },
  {
   "cell_type": "code",
   "execution_count": 47,
   "metadata": {
    "ExecuteTime": {
     "end_time": "2023-12-03T01:55:12.489945200Z",
     "start_time": "2023-12-03T01:55:12.458733600Z"
    }
   },
   "outputs": [],
   "source": [
    "transformer = make_column_transformer((OneHotEncoder(drop = 'if_binary'), ['student']), remainder = StandardScaler())\n",
    "X_train, X_test, y_train, y_test = train_test_split(default.drop('default', axis = 1), default.default, random_state=42, stratify = default.default)\n",
    "knn_pipe = Pipeline([('transform', transformer), ('knn', KNeighborsClassifier(n_neighbors = 10))])"
   ]
  },
  {
   "cell_type": "code",
   "execution_count": 48,
   "metadata": {
    "ExecuteTime": {
     "end_time": "2023-12-03T01:55:14.332575Z",
     "start_time": "2023-12-03T01:55:14.298664600Z"
    }
   },
   "outputs": [
    {
     "data": {
      "text/plain": "Pipeline(steps=[('transform',\n                 ColumnTransformer(remainder=StandardScaler(),\n                                   transformers=[('onehotencoder',\n                                                  OneHotEncoder(drop='if_binary'),\n                                                  ['student'])])),\n                ('knn', KNeighborsClassifier(n_neighbors=10))])",
      "text/html": "<style>#sk-container-id-5 {color: black;}#sk-container-id-5 pre{padding: 0;}#sk-container-id-5 div.sk-toggleable {background-color: white;}#sk-container-id-5 label.sk-toggleable__label {cursor: pointer;display: block;width: 100%;margin-bottom: 0;padding: 0.3em;box-sizing: border-box;text-align: center;}#sk-container-id-5 label.sk-toggleable__label-arrow:before {content: \"▸\";float: left;margin-right: 0.25em;color: #696969;}#sk-container-id-5 label.sk-toggleable__label-arrow:hover:before {color: black;}#sk-container-id-5 div.sk-estimator:hover label.sk-toggleable__label-arrow:before {color: black;}#sk-container-id-5 div.sk-toggleable__content {max-height: 0;max-width: 0;overflow: hidden;text-align: left;background-color: #f0f8ff;}#sk-container-id-5 div.sk-toggleable__content pre {margin: 0.2em;color: black;border-radius: 0.25em;background-color: #f0f8ff;}#sk-container-id-5 input.sk-toggleable__control:checked~div.sk-toggleable__content {max-height: 200px;max-width: 100%;overflow: auto;}#sk-container-id-5 input.sk-toggleable__control:checked~label.sk-toggleable__label-arrow:before {content: \"▾\";}#sk-container-id-5 div.sk-estimator input.sk-toggleable__control:checked~label.sk-toggleable__label {background-color: #d4ebff;}#sk-container-id-5 div.sk-label input.sk-toggleable__control:checked~label.sk-toggleable__label {background-color: #d4ebff;}#sk-container-id-5 input.sk-hidden--visually {border: 0;clip: rect(1px 1px 1px 1px);clip: rect(1px, 1px, 1px, 1px);height: 1px;margin: -1px;overflow: hidden;padding: 0;position: absolute;width: 1px;}#sk-container-id-5 div.sk-estimator {font-family: monospace;background-color: #f0f8ff;border: 1px dotted black;border-radius: 0.25em;box-sizing: border-box;margin-bottom: 0.5em;}#sk-container-id-5 div.sk-estimator:hover {background-color: #d4ebff;}#sk-container-id-5 div.sk-parallel-item::after {content: \"\";width: 100%;border-bottom: 1px solid gray;flex-grow: 1;}#sk-container-id-5 div.sk-label:hover label.sk-toggleable__label {background-color: #d4ebff;}#sk-container-id-5 div.sk-serial::before {content: \"\";position: absolute;border-left: 1px solid gray;box-sizing: border-box;top: 0;bottom: 0;left: 50%;z-index: 0;}#sk-container-id-5 div.sk-serial {display: flex;flex-direction: column;align-items: center;background-color: white;padding-right: 0.2em;padding-left: 0.2em;position: relative;}#sk-container-id-5 div.sk-item {position: relative;z-index: 1;}#sk-container-id-5 div.sk-parallel {display: flex;align-items: stretch;justify-content: center;background-color: white;position: relative;}#sk-container-id-5 div.sk-item::before, #sk-container-id-5 div.sk-parallel-item::before {content: \"\";position: absolute;border-left: 1px solid gray;box-sizing: border-box;top: 0;bottom: 0;left: 50%;z-index: -1;}#sk-container-id-5 div.sk-parallel-item {display: flex;flex-direction: column;z-index: 1;position: relative;background-color: white;}#sk-container-id-5 div.sk-parallel-item:first-child::after {align-self: flex-end;width: 50%;}#sk-container-id-5 div.sk-parallel-item:last-child::after {align-self: flex-start;width: 50%;}#sk-container-id-5 div.sk-parallel-item:only-child::after {width: 0;}#sk-container-id-5 div.sk-dashed-wrapped {border: 1px dashed gray;margin: 0 0.4em 0.5em 0.4em;box-sizing: border-box;padding-bottom: 0.4em;background-color: white;}#sk-container-id-5 div.sk-label label {font-family: monospace;font-weight: bold;display: inline-block;line-height: 1.2em;}#sk-container-id-5 div.sk-label-container {text-align: center;}#sk-container-id-5 div.sk-container {/* jupyter's `normalize.less` sets `[hidden] { display: none; }` but bootstrap.min.css set `[hidden] { display: none !important; }` so we also need the `!important` here to be able to override the default hidden behavior on the sphinx rendered scikit-learn.org. See: https://github.com/scikit-learn/scikit-learn/issues/21755 */display: inline-block !important;position: relative;}#sk-container-id-5 div.sk-text-repr-fallback {display: none;}</style><div id=\"sk-container-id-5\" class=\"sk-top-container\"><div class=\"sk-text-repr-fallback\"><pre>Pipeline(steps=[(&#x27;transform&#x27;,\n                 ColumnTransformer(remainder=StandardScaler(),\n                                   transformers=[(&#x27;onehotencoder&#x27;,\n                                                  OneHotEncoder(drop=&#x27;if_binary&#x27;),\n                                                  [&#x27;student&#x27;])])),\n                (&#x27;knn&#x27;, KNeighborsClassifier(n_neighbors=10))])</pre><b>In a Jupyter environment, please rerun this cell to show the HTML representation or trust the notebook. <br />On GitHub, the HTML representation is unable to render, please try loading this page with nbviewer.org.</b></div><div class=\"sk-container\" hidden><div class=\"sk-item sk-dashed-wrapped\"><div class=\"sk-label-container\"><div class=\"sk-label sk-toggleable\"><input class=\"sk-toggleable__control sk-hidden--visually\" id=\"sk-estimator-id-29\" type=\"checkbox\" ><label for=\"sk-estimator-id-29\" class=\"sk-toggleable__label sk-toggleable__label-arrow\">Pipeline</label><div class=\"sk-toggleable__content\"><pre>Pipeline(steps=[(&#x27;transform&#x27;,\n                 ColumnTransformer(remainder=StandardScaler(),\n                                   transformers=[(&#x27;onehotencoder&#x27;,\n                                                  OneHotEncoder(drop=&#x27;if_binary&#x27;),\n                                                  [&#x27;student&#x27;])])),\n                (&#x27;knn&#x27;, KNeighborsClassifier(n_neighbors=10))])</pre></div></div></div><div class=\"sk-serial\"><div class=\"sk-item sk-dashed-wrapped\"><div class=\"sk-label-container\"><div class=\"sk-label sk-toggleable\"><input class=\"sk-toggleable__control sk-hidden--visually\" id=\"sk-estimator-id-30\" type=\"checkbox\" ><label for=\"sk-estimator-id-30\" class=\"sk-toggleable__label sk-toggleable__label-arrow\">transform: ColumnTransformer</label><div class=\"sk-toggleable__content\"><pre>ColumnTransformer(remainder=StandardScaler(),\n                  transformers=[(&#x27;onehotencoder&#x27;,\n                                 OneHotEncoder(drop=&#x27;if_binary&#x27;),\n                                 [&#x27;student&#x27;])])</pre></div></div></div><div class=\"sk-parallel\"><div class=\"sk-parallel-item\"><div class=\"sk-item\"><div class=\"sk-label-container\"><div class=\"sk-label sk-toggleable\"><input class=\"sk-toggleable__control sk-hidden--visually\" id=\"sk-estimator-id-31\" type=\"checkbox\" ><label for=\"sk-estimator-id-31\" class=\"sk-toggleable__label sk-toggleable__label-arrow\">onehotencoder</label><div class=\"sk-toggleable__content\"><pre>[&#x27;student&#x27;]</pre></div></div></div><div class=\"sk-serial\"><div class=\"sk-item\"><div class=\"sk-estimator sk-toggleable\"><input class=\"sk-toggleable__control sk-hidden--visually\" id=\"sk-estimator-id-32\" type=\"checkbox\" ><label for=\"sk-estimator-id-32\" class=\"sk-toggleable__label sk-toggleable__label-arrow\">OneHotEncoder</label><div class=\"sk-toggleable__content\"><pre>OneHotEncoder(drop=&#x27;if_binary&#x27;)</pre></div></div></div></div></div></div><div class=\"sk-parallel-item\"><div class=\"sk-item\"><div class=\"sk-label-container\"><div class=\"sk-label sk-toggleable\"><input class=\"sk-toggleable__control sk-hidden--visually\" id=\"sk-estimator-id-33\" type=\"checkbox\" ><label for=\"sk-estimator-id-33\" class=\"sk-toggleable__label sk-toggleable__label-arrow\">remainder</label><div class=\"sk-toggleable__content\"><pre>[&#x27;balance&#x27;, &#x27;income&#x27;]</pre></div></div></div><div class=\"sk-serial\"><div class=\"sk-item\"><div class=\"sk-estimator sk-toggleable\"><input class=\"sk-toggleable__control sk-hidden--visually\" id=\"sk-estimator-id-34\" type=\"checkbox\" ><label for=\"sk-estimator-id-34\" class=\"sk-toggleable__label sk-toggleable__label-arrow\">StandardScaler</label><div class=\"sk-toggleable__content\"><pre>StandardScaler()</pre></div></div></div></div></div></div></div></div><div class=\"sk-item\"><div class=\"sk-estimator sk-toggleable\"><input class=\"sk-toggleable__control sk-hidden--visually\" id=\"sk-estimator-id-35\" type=\"checkbox\" ><label for=\"sk-estimator-id-35\" class=\"sk-toggleable__label sk-toggleable__label-arrow\">KNeighborsClassifier</label><div class=\"sk-toggleable__content\"><pre>KNeighborsClassifier(n_neighbors=10)</pre></div></div></div></div></div></div></div>"
     },
     "execution_count": 48,
     "metadata": {},
     "output_type": "execute_result"
    }
   ],
   "source": [
    "knn_pipe.fit(X_train, y_train)"
   ]
  },
  {
   "cell_type": "code",
   "execution_count": 57,
   "metadata": {
    "ExecuteTime": {
     "end_time": "2023-12-03T02:04:07.408342500Z",
     "start_time": "2023-12-03T02:04:07.345976Z"
    }
   },
   "outputs": [
    {
     "data": {
      "text/plain": "array([[1. , 0. ],\n       [0.9, 0.1],\n       [1. , 0. ],\n       ...,\n       [1. , 0. ],\n       [1. , 0. ],\n       [1. , 0. ]])"
     },
     "execution_count": 57,
     "metadata": {},
     "output_type": "execute_result"
    }
   ],
   "source": [
    "test_predictions = knn_pipe.predict_proba(X_test)\n",
    "test_predictions"
   ]
  },
  {
   "cell_type": "markdown",
   "metadata": {
    "nbgrader": {
     "grade": false,
     "grade_id": "cell-9c1f15d5341ac144",
     "locked": true,
     "schema_version": 3,
     "solution": false
    }
   },
   "source": [
    "[Back to top](#-Index)\n",
    "\n",
    "### Problem 1\n",
    "\n",
    "#### Precision for different thresholds\n",
    "\n",
    "**10 Points**\n",
    "\n",
    "Below, complete the function `precision_thresh` to take in a numpy array of predicted probabilities, and return a prediction for the positive class at or above that threshold, and negative for that below.  "
   ]
  },
  {
   "cell_type": "code",
   "execution_count": 58,
   "metadata": {
    "nbgrader": {
     "grade": false,
     "grade_id": "cell-aa2f28ba58aff633",
     "locked": false,
     "schema_version": 3,
     "solution": true
    },
    "ExecuteTime": {
     "end_time": "2023-12-03T02:04:55.833393800Z",
     "start_time": "2023-12-03T02:04:55.808028100Z"
    }
   },
   "outputs": [
    {
     "name": "stdout",
     "output_type": "stream",
     "text": [
      "0.18658892128279883\n",
      "0.75\n"
     ]
    }
   ],
   "source": [
    "### GRADED\n",
    "def precision_thresh(predict_probs, y_test, thresh):\n",
    "    \"\"\"Given predicted probabilities and a threshold, this function\n",
    "    computes predictions for the positive class at or above the threshold\n",
    "    and returns the subesequent precision score for that thresholds predictions \n",
    "    against the test data.\n",
    "    \n",
    "    Parameters\n",
    "    ----------\n",
    "    predict_probs: type 'np.ndarray'\n",
    "        1D NumPy array of probabilities for positive class\n",
    "    y_test: type `np.ndarray`\n",
    "        1D NumPy array of test label\n",
    "    thresh: type `float`\n",
    "        threshold for positive classification at or above\n",
    "          \n",
    "    Returns a float for precision value\n",
    "    \"\"\"\n",
    "    return None\n",
    "\n",
    "### BEGIN SOLUTION\n",
    "def precision_thresh(predict_probs, y_test, thresh):\n",
    "    preds = np.where(predict_probs >= thresh, 'Yes', 'No')\n",
    "    \n",
    "    return precision_score(y_test, preds, pos_label='Yes')\n",
    "### END SOLUTION\n",
    "\n",
    "# Answer check\n",
    "print(precision_thresh(test_predictions[:, 1], y_test, 0.1))\n",
    "print(precision_thresh(test_predictions[:, 1], y_test, 0.9))"
   ]
  },
  {
   "cell_type": "code",
   "execution_count": 59,
   "metadata": {
    "nbgrader": {
     "grade": true,
     "grade_id": "cell-17e6c60c93406da9",
     "locked": true,
     "points": 10,
     "schema_version": 3,
     "solution": false
    },
    "ExecuteTime": {
     "end_time": "2023-12-03T02:04:56.775114100Z",
     "start_time": "2023-12-03T02:04:56.730860400Z"
    }
   },
   "outputs": [],
   "source": [
    "### BEGIN HIDDEN TESTS\n",
    "def precision_thresh_(predict_probs, y_test, thresh):\n",
    "    preds = np.where(predict_probs >= thresh, 'Yes', 'No')\n",
    "    return precision_score(y_test, preds, pos_label='Yes')\n",
    "#\n",
    "#\n",
    "#\n",
    "assert precision_thresh(test_predictions[:, 1], y_test, 0.1) == precision_thresh_(test_predictions[:, 1], y_test, 0.1)\n",
    "assert precision_thresh(test_predictions[:, 1], y_test, 0.9) == precision_thresh_(test_predictions[:, 1], y_test, 0.9)\n",
    "### END HIDDEN TESTS"
   ]
  },
  {
   "cell_type": "markdown",
   "metadata": {
    "nbgrader": {
     "grade": false,
     "grade_id": "cell-c7c8229811bcd199",
     "locked": true,
     "schema_version": 3,
     "solution": false
    }
   },
   "source": [
    "[Back to top](#-Index)\n",
    "\n",
    "### Problem 2\n",
    "\n",
    "#### Determining precision for multiple thresholds\n",
    "\n",
    "**10 Points**\n",
    "\n",
    "Now, create a DataFrame called `results_df` with columns `threshold` and `precision` using the list `thresholds` below to pass to your `precision_thresh` function.  "
   ]
  },
  {
   "cell_type": "code",
   "execution_count": 60,
   "metadata": {
    "ExecuteTime": {
     "end_time": "2023-12-03T02:04:58.613858700Z",
     "start_time": "2023-12-03T02:04:58.609782300Z"
    }
   },
   "outputs": [
    {
     "data": {
      "text/plain": "array([0. , 0.1, 0.2, 0.3, 0.4, 0.5, 0.6, 0.7, 0.8, 0.9])"
     },
     "execution_count": 60,
     "metadata": {},
     "output_type": "execute_result"
    }
   ],
   "source": [
    "thresholds = np.arange(0, 1, .1)\n",
    "thresholds"
   ]
  },
  {
   "cell_type": "code",
   "execution_count": 61,
   "metadata": {
    "nbgrader": {
     "grade": false,
     "grade_id": "cell-1f9418ad30a6cb2a",
     "locked": false,
     "schema_version": 3,
     "solution": true
    },
    "ExecuteTime": {
     "end_time": "2023-12-03T02:05:00.035939100Z",
     "start_time": "2023-12-03T02:04:59.939200600Z"
    }
   },
   "outputs": [
    {
     "data": {
      "text/plain": "   threshold  precision\n0        0.0   0.033200\n1        0.1   0.186589\n2        0.2   0.303571\n3        0.3   0.500000\n4        0.4   0.500000\n5        0.5   0.559322\n6        0.6   0.558824\n7        0.7   0.736842\n8        0.8   0.736842\n9        0.9   0.750000",
      "text/html": "<div>\n<style scoped>\n    .dataframe tbody tr th:only-of-type {\n        vertical-align: middle;\n    }\n\n    .dataframe tbody tr th {\n        vertical-align: top;\n    }\n\n    .dataframe thead th {\n        text-align: right;\n    }\n</style>\n<table border=\"1\" class=\"dataframe\">\n  <thead>\n    <tr style=\"text-align: right;\">\n      <th></th>\n      <th>threshold</th>\n      <th>precision</th>\n    </tr>\n  </thead>\n  <tbody>\n    <tr>\n      <th>0</th>\n      <td>0.0</td>\n      <td>0.033200</td>\n    </tr>\n    <tr>\n      <th>1</th>\n      <td>0.1</td>\n      <td>0.186589</td>\n    </tr>\n    <tr>\n      <th>2</th>\n      <td>0.2</td>\n      <td>0.303571</td>\n    </tr>\n    <tr>\n      <th>3</th>\n      <td>0.3</td>\n      <td>0.500000</td>\n    </tr>\n    <tr>\n      <th>4</th>\n      <td>0.4</td>\n      <td>0.500000</td>\n    </tr>\n    <tr>\n      <th>5</th>\n      <td>0.5</td>\n      <td>0.559322</td>\n    </tr>\n    <tr>\n      <th>6</th>\n      <td>0.6</td>\n      <td>0.558824</td>\n    </tr>\n    <tr>\n      <th>7</th>\n      <td>0.7</td>\n      <td>0.736842</td>\n    </tr>\n    <tr>\n      <th>8</th>\n      <td>0.8</td>\n      <td>0.736842</td>\n    </tr>\n    <tr>\n      <th>9</th>\n      <td>0.9</td>\n      <td>0.750000</td>\n    </tr>\n  </tbody>\n</table>\n</div>"
     },
     "execution_count": 61,
     "metadata": {},
     "output_type": "execute_result"
    }
   ],
   "source": [
    "### GRADED\n",
    "\n",
    "results_df = ''\n",
    "\n",
    "### BEGIN SOLUTION\n",
    "results_df = pd.DataFrame({'threshold': thresholds, 'precision': [precision_thresh(test_predictions[:, 1], y_test, i) for i in thresholds]})\n",
    "\n",
    "### END SOLUTION\n",
    "\n",
    "# Answer check\n",
    "results_df"
   ]
  },
  {
   "cell_type": "code",
   "execution_count": 62,
   "metadata": {
    "nbgrader": {
     "grade": true,
     "grade_id": "cell-fb4854d718e9a8f2",
     "locked": true,
     "points": 10,
     "schema_version": 3,
     "solution": false
    },
    "ExecuteTime": {
     "end_time": "2023-12-03T02:05:02.624377Z",
     "start_time": "2023-12-03T02:05:02.538336600Z"
    }
   },
   "outputs": [],
   "source": [
    "### BEGIN HIDDEN TESTS\n",
    "results_df_ = pd.DataFrame({'threshold': thresholds, 'precision': [precision_thresh_(test_predictions[:, 1], y_test, i) for i in thresholds]})\n",
    "#\n",
    "#\n",
    "#\n",
    "pd.testing.assert_frame_equal(results_df, results_df_)\n",
    "### END HIDDEN TESTS"
   ]
  },
  {
   "cell_type": "code",
   "execution_count": 63,
   "metadata": {
    "ExecuteTime": {
     "end_time": "2023-12-03T02:05:04.560007100Z",
     "start_time": "2023-12-03T02:05:04.531267600Z"
    }
   },
   "outputs": [],
   "source": [
    "##Uncomment to visualize precision changes\n",
    "# plt.plot(precision_df['threshold'], precision_df['precision'], '--o', label = 'precision')\n",
    "# plt.xticks(thresholds)\n",
    "# plt.xlabel('Threshold')\n",
    "# plt.ylabel('Precision')\n",
    "# plt.grid();"
   ]
  },
  {
   "cell_type": "markdown",
   "metadata": {
    "nbgrader": {
     "grade": false,
     "grade_id": "cell-eb82f4a98d283216",
     "locked": true,
     "schema_version": 3,
     "solution": false
    }
   },
   "source": [
    "[Back to top](#-Index)\n",
    "\n",
    "### Problem 3\n",
    "\n",
    "#### A Recall threshold function\n",
    "\n",
    "**10 Points**\n",
    "\n",
    "Similar to your `precision_thresh` function, complete the function `recall_thresh` below to compute the recall given a threshold.  Use the function to add a column to `results_df` named `recall`.  "
   ]
  },
  {
   "cell_type": "code",
   "execution_count": 66,
   "metadata": {
    "nbgrader": {
     "grade": false,
     "grade_id": "cell-bf0288d8c9fa0106",
     "locked": false,
     "schema_version": 3,
     "solution": true
    },
    "ExecuteTime": {
     "end_time": "2023-12-03T02:07:48.212798Z",
     "start_time": "2023-12-03T02:07:48.102541400Z"
    }
   },
   "outputs": [
    {
     "name": "stdout",
     "output_type": "stream",
     "text": [
      "0.7710843373493976\n",
      "0.07228915662650602\n"
     ]
    },
    {
     "data": {
      "text/plain": "   threshold  precision    recall\n0        0.0   0.033200  1.000000\n1        0.1   0.186589  0.771084\n2        0.2   0.303571  0.614458\n3        0.3   0.500000  0.445783\n4        0.4   0.500000  0.445783\n5        0.5   0.559322  0.397590\n6        0.6   0.558824  0.228916\n7        0.7   0.736842  0.168675\n8        0.8   0.736842  0.168675\n9        0.9   0.750000  0.072289",
      "text/html": "<div>\n<style scoped>\n    .dataframe tbody tr th:only-of-type {\n        vertical-align: middle;\n    }\n\n    .dataframe tbody tr th {\n        vertical-align: top;\n    }\n\n    .dataframe thead th {\n        text-align: right;\n    }\n</style>\n<table border=\"1\" class=\"dataframe\">\n  <thead>\n    <tr style=\"text-align: right;\">\n      <th></th>\n      <th>threshold</th>\n      <th>precision</th>\n      <th>recall</th>\n    </tr>\n  </thead>\n  <tbody>\n    <tr>\n      <th>0</th>\n      <td>0.0</td>\n      <td>0.033200</td>\n      <td>1.000000</td>\n    </tr>\n    <tr>\n      <th>1</th>\n      <td>0.1</td>\n      <td>0.186589</td>\n      <td>0.771084</td>\n    </tr>\n    <tr>\n      <th>2</th>\n      <td>0.2</td>\n      <td>0.303571</td>\n      <td>0.614458</td>\n    </tr>\n    <tr>\n      <th>3</th>\n      <td>0.3</td>\n      <td>0.500000</td>\n      <td>0.445783</td>\n    </tr>\n    <tr>\n      <th>4</th>\n      <td>0.4</td>\n      <td>0.500000</td>\n      <td>0.445783</td>\n    </tr>\n    <tr>\n      <th>5</th>\n      <td>0.5</td>\n      <td>0.559322</td>\n      <td>0.397590</td>\n    </tr>\n    <tr>\n      <th>6</th>\n      <td>0.6</td>\n      <td>0.558824</td>\n      <td>0.228916</td>\n    </tr>\n    <tr>\n      <th>7</th>\n      <td>0.7</td>\n      <td>0.736842</td>\n      <td>0.168675</td>\n    </tr>\n    <tr>\n      <th>8</th>\n      <td>0.8</td>\n      <td>0.736842</td>\n      <td>0.168675</td>\n    </tr>\n    <tr>\n      <th>9</th>\n      <td>0.9</td>\n      <td>0.750000</td>\n      <td>0.072289</td>\n    </tr>\n  </tbody>\n</table>\n</div>"
     },
     "execution_count": 66,
     "metadata": {},
     "output_type": "execute_result"
    }
   ],
   "source": [
    "### GRADED\n",
    "def recall_thresh(predict_probs, \n",
    "                  y_test, \n",
    "                  thresh):\n",
    "    \"\"\"Given predicted probabilities and a threshold, this function\n",
    "    computes predictions for the positive class at or above the threshold\n",
    "    and returns the subesequent recall score for that thresholds predictions \n",
    "    against the test data.\n",
    "    \n",
    "    Parameters\n",
    "    ----------\n",
    "    predict_probs: type 'np.ndarray'\n",
    "        1D NumPy array of probabilities for positive class\n",
    "    y_test: type `np.ndarray`\n",
    "        1D NumPy array of test label\n",
    "    thresh: type `float`\n",
    "        threshold for positive classification at or above\n",
    "          \n",
    "    Returns a float for recall value\n",
    "    \"\"\"\n",
    "    return None\n",
    "\n",
    "### BEGIN SOLUTION\n",
    "def recall_thresh(predict_probs, y_test, thresh):\n",
    "    preds = np.where(predict_probs >= thresh, 'Yes', 'No')\n",
    "    return recall_score(y_test, preds, pos_label='Yes')\n",
    "\n",
    "results_df['recall'] = [recall_thresh(test_predictions[:, 1], y_test, i) for i in thresholds]\n",
    "### END SOLUTION\n",
    "\n",
    "# Answer check\n",
    "print(recall_thresh(test_predictions[:, 1], y_test, 0.1))\n",
    "print(recall_thresh(test_predictions[:, 1], y_test, 0.9))\n",
    "results_df"
   ]
  },
  {
   "cell_type": "code",
   "execution_count": 67,
   "metadata": {
    "nbgrader": {
     "grade": true,
     "grade_id": "cell-c7b044a5e8a5bef0",
     "locked": true,
     "points": 10,
     "schema_version": 3,
     "solution": false
    },
    "ExecuteTime": {
     "end_time": "2023-12-03T02:07:49.429077900Z",
     "start_time": "2023-12-03T02:07:49.238780300Z"
    }
   },
   "outputs": [],
   "source": [
    "### BEGIN HIDDEN TESTS\n",
    "results_df_ = pd.DataFrame({'threshold': thresholds, 'precision': [precision_thresh_(test_predictions[:, 1], y_test, i) for i in thresholds]})\n",
    "def recall_thresh_(predict_probs, \n",
    "                  y_test, \n",
    "                  thresh):\n",
    "    preds = np.where(predict_probs >= thresh, 'Yes', 'No')\n",
    "    \n",
    "    return recall_score(y_test, preds, pos_label='Yes')\n",
    "results_df_['recall'] = [recall_thresh_(test_predictions[:, 1], y_test, i) for i in thresholds]\n",
    "#\n",
    "#\n",
    "#\n",
    "pd.testing.assert_frame_equal(results_df, results_df_)\n",
    "### END HIDDEN TESTS"
   ]
  },
  {
   "cell_type": "markdown",
   "metadata": {
    "nbgrader": {
     "grade": false,
     "grade_id": "cell-fdcbbf10b3a88130",
     "locked": true,
     "schema_version": 3,
     "solution": false
    }
   },
   "source": [
    "[Back to top](#-Index)\n",
    "\n",
    "### Problem 4\n",
    "\n",
    "#### Precision vs. Recall Tradeoff\n",
    "\n",
    "**10 Points**\n",
    "\n",
    "As you see in the plot below based on the `results_df` improving the precision involves a decrease in recall.  \n",
    "\n",
    "<center>\n",
    "    <img src = 'images/precall.png'/>\n",
    "</center>\n",
    "\n",
    "scikitlearn implements a function `precision_recall_curve` that takes as arguments `y_true`, `probas_pred`, `pos_label=None`. \n",
    "\n",
    "The function returns the values for precision, recall, and the decision thresholds.  Use the probabilities in `test_predictions` in the `precision_recall_curve` function, and assign the results to `precision`, `recall`, and `boundaries` below.  Uncomment the plot to visualize your results."
   ]
  },
  {
   "cell_type": "code",
   "execution_count": 68,
   "metadata": {
    "nbgrader": {
     "grade": false,
     "grade_id": "cell-5f1475c664f2084a",
     "locked": false,
     "schema_version": 3,
     "solution": true
    },
    "ExecuteTime": {
     "end_time": "2023-12-03T02:07:52.088725600Z",
     "start_time": "2023-12-03T02:07:52.067991100Z"
    }
   },
   "outputs": [
    {
     "name": "stdout",
     "output_type": "stream",
     "text": [
      "[0.  0.1 0.2 0.3 0.4]\n"
     ]
    }
   ],
   "source": [
    "### GRADED\n",
    "precision, recall, boundaries = '', '', ''\n",
    "\n",
    "### BEGIN SOLUTION\n",
    "precision, recall, boundaries = precision_recall_curve(y_test, test_predictions[:, 1], pos_label='Yes')\n",
    "### END SOLUTION\n",
    "\n",
    "# Answer check\n",
    "print(boundaries[:5])\n",
    "# plt.plot(precision, recall, '--o')\n",
    "# plt.xticks(boundaries);\n",
    "# plt.grid()\n",
    "# plt.ylabel('Recall')\n",
    "# plt.xlabel('Precision')\n",
    "# plt.title('Precision vs Recall from sklearn');"
   ]
  },
  {
   "cell_type": "code",
   "execution_count": 69,
   "metadata": {
    "nbgrader": {
     "grade": true,
     "grade_id": "cell-7cb71b2cc1d2594c",
     "locked": true,
     "points": 10,
     "schema_version": 3,
     "solution": false
    },
    "ExecuteTime": {
     "end_time": "2023-12-03T02:07:53.255857400Z",
     "start_time": "2023-12-03T02:07:53.238743900Z"
    }
   },
   "outputs": [],
   "source": [
    "### BEGIN HIDDEN TESTS\n",
    "precision_, recall_, boundaries_ = precision_recall_curve(y_test, test_predictions[:, 1], pos_label='Yes')\n",
    "#\n",
    "#\n",
    "#\n",
    "np.testing.assert_array_equal(precision, precision_)\n",
    "np.testing.assert_array_equal(recall_, recall)\n",
    "### END HIDDEN TESTS"
   ]
  },
  {
   "cell_type": "markdown",
   "metadata": {
    "nbgrader": {
     "grade": false,
     "grade_id": "cell-c695fe027b8abd97",
     "locked": true,
     "schema_version": 3,
     "solution": false
    }
   },
   "source": [
    "[Back to top](#-Index)\n",
    "\n",
    "### Problem 5\n",
    "\n",
    "#### ROC Curve\n",
    "\n",
    "**10 Points**\n",
    "\n",
    "Similar to the `precision_recall_curve` the `roc_curve` function takes in `y_true` and `y_score` which can be predicted probabilities.  The function returns the false positive rates, true positive rates, and thresholds.  Assign these to `fpr`, `tpr`, and `thresh_rocs` below.  Uncomment the code to visualize the ROC curve. "
   ]
  },
  {
   "cell_type": "code",
   "execution_count": 70,
   "metadata": {
    "nbgrader": {
     "grade": false,
     "grade_id": "cell-351b4ccfb60cccf7",
     "locked": false,
     "schema_version": 3,
     "solution": true
    },
    "ExecuteTime": {
     "end_time": "2023-12-03T02:09:07.189387Z",
     "start_time": "2023-12-03T02:09:07.028653Z"
    }
   },
   "outputs": [
    {
     "name": "stdout",
     "output_type": "stream",
     "text": [
      "False Positive Rates:  [0.         0.00041374 0.00082747 0.00206868 0.00620604]\n",
      "True Positive Rates:  [0.         0.01204819 0.07228916 0.1686747  0.22891566]\n"
     ]
    },
    {
     "data": {
      "text/plain": "<Figure size 640x480 with 1 Axes>",
      "image/png": "[encoded data removed]"
     },
     "metadata": {},
     "output_type": "display_data"
    }
   ],
   "source": [
    "### GRADED\n",
    "fpr, tpr, thresh_rocs = '', '', ''\n",
    "\n",
    "### BEGIN SOLUTION\n",
    "fpr, tpr, thresh_rocs = roc_curve(y_test, test_predictions[:, 1], pos_label='Yes')\n",
    "### END SOLUTION\n",
    "\n",
    "# Answer check\n",
    "print('False Positive Rates: ', fpr[:5])\n",
    "print('True Positive Rates: ', tpr[:5])\n",
    "plt.plot(fpr, tpr, '--o', label = 'roc curve')\n",
    "plt.plot(tpr, tpr, label = 'baseline')\n",
    "plt.legend()\n",
    "plt.title('ROC Curve')\n",
    "plt.xlabel('False Positive Rate')\n",
    "plt.ylabel('True Positive Rate')\n",
    "plt.grid();"
   ]
  },
  {
   "cell_type": "code",
   "execution_count": 71,
   "metadata": {
    "nbgrader": {
     "grade": true,
     "grade_id": "cell-0f22a7829165a75e",
     "locked": true,
     "points": 10,
     "schema_version": 3,
     "solution": false
    },
    "ExecuteTime": {
     "end_time": "2023-12-03T02:12:55.773988800Z",
     "start_time": "2023-12-03T02:12:55.766821300Z"
    }
   },
   "outputs": [],
   "source": [
    "### BEGIN HIDDEN TESTS\n",
    "fpr_, tpr_, thresh_rocs_ = roc_curve(y_test, test_predictions[:, 1], pos_label='Yes')\n",
    "#\n",
    "#\n",
    "#\n",
    "np.testing.assert_array_equal(fpr, fpr_)\n",
    "np.testing.assert_array_equal(tpr, tpr_)\n",
    "### END HIDDEN TESTS"
   ]
  },
  {
   "cell_type": "markdown",
   "metadata": {
    "nbgrader": {
     "grade": false,
     "grade_id": "cell-0d0f0fd4693f1894",
     "locked": true,
     "schema_version": 3,
     "solution": false
    }
   },
   "source": [
    "[Back to top](#-Index)\n",
    "\n",
    "### Problem 6\n",
    "\n",
    "#### Area Under Curve as metric\n",
    "\n",
    "**10 Points**\n",
    "\n",
    "Finally, consider the proposed area under the curve scoring method described in the lectures.  Below, construct a grid search named `roc_grid` that uses the `knn_pipe` and searches over the number of neighbors from 1 to 31 by odd values, choosing the model that optimizes `roc_auc_score`.  Identify the optimal number of neighbors and assign to `best_k` below.  "
   ]
  },
  {
   "cell_type": "code",
   "execution_count": 72,
   "metadata": {
    "nbgrader": {
     "grade": false,
     "grade_id": "cell-757458e9af6400ec",
     "locked": false,
     "schema_version": 3,
     "solution": true
    },
    "ExecuteTime": {
     "end_time": "2023-12-03T02:12:59.415832900Z",
     "start_time": "2023-12-03T02:12:57.878871900Z"
    }
   },
   "outputs": [
    {
     "data": {
      "text/plain": "29"
     },
     "execution_count": 72,
     "metadata": {},
     "output_type": "execute_result"
    }
   ],
   "source": [
    "### GRADED\n",
    "roc_grid = ''\n",
    "best_k = ''\n",
    "\n",
    "### BEGIN SOLUTION\n",
    "roc_grid = GridSearchCV(knn_pipe, param_grid={'knn__n_neighbors': range(1, 33, 2)}, scoring = 'roc_auc')\n",
    "roc_grid.fit(X_train, y_train)\n",
    "best_k = roc_grid.best_params_['knn__n_neighbors']\n",
    "### END SOLUTION\n",
    "\n",
    "# Answer check\n",
    "best_k"
   ]
  },
  {
   "cell_type": "code",
   "execution_count": 73,
   "metadata": {
    "nbgrader": {
     "grade": true,
     "grade_id": "cell-dcd5ef8c57953964",
     "locked": true,
     "points": 10,
     "schema_version": 3,
     "solution": false
    },
    "ExecuteTime": {
     "end_time": "2023-12-03T02:13:04.266147800Z",
     "start_time": "2023-12-03T02:13:02.504904Z"
    }
   },
   "outputs": [],
   "source": [
    "### BEGIN HIDDEN TESTS\n",
    "roc_grid_ = GridSearchCV(knn_pipe, param_grid={'knn__n_neighbors': range(1, 33, 2)}, scoring = 'roc_auc')\n",
    "roc_grid_.fit(X_train, y_train)\n",
    "best_k_ = roc_grid_.best_params_['knn__n_neighbors']\n",
    "#\n",
    "#\n",
    "#\n",
    "assert best_k == best_k_\n",
    "### END HIDDEN TESTS"
   ]
  },
  {
   "cell_type": "markdown",
   "metadata": {
    "nbgrader": {
     "grade": false,
     "grade_id": "cell-bd022abdcd502403",
     "locked": true,
     "schema_version": 3,
     "solution": false
    }
   },
   "source": [
    "#### Visualizing with scikitlearn\n",
    "\n",
    "Below, we use the `RocCurveDisplay` to display roc curves for three knn models.  You can either use predictions or estimators to create the visualization.  Below, we use the `from_estimator` method."
   ]
  },
  {
   "cell_type": "code",
   "execution_count": 74,
   "metadata": {
    "ExecuteTime": {
     "end_time": "2023-12-03T02:13:07.445767500Z",
     "start_time": "2023-12-03T02:13:07.427159700Z"
    }
   },
   "outputs": [],
   "source": [
    "from sklearn.metrics import RocCurveDisplay"
   ]
  },
  {
   "cell_type": "code",
   "execution_count": 75,
   "metadata": {
    "ExecuteTime": {
     "end_time": "2023-12-03T02:13:08.049612900Z",
     "start_time": "2023-12-03T02:13:08.027105Z"
    }
   },
   "outputs": [
    {
     "data": {
      "text/plain": "Pipeline(steps=[('transform',\n                 ColumnTransformer(remainder=StandardScaler(),\n                                   transformers=[('onehotencoder',\n                                                  OneHotEncoder(drop='if_binary'),\n                                                  ['student'])])),\n                ('knn', KNeighborsClassifier(n_neighbors=1))])",
      "text/html": "<style>#sk-container-id-6 {color: black;}#sk-container-id-6 pre{padding: 0;}#sk-container-id-6 div.sk-toggleable {background-color: white;}#sk-container-id-6 label.sk-toggleable__label {cursor: pointer;display: block;width: 100%;margin-bottom: 0;padding: 0.3em;box-sizing: border-box;text-align: center;}#sk-container-id-6 label.sk-toggleable__label-arrow:before {content: \"▸\";float: left;margin-right: 0.25em;color: #696969;}#sk-container-id-6 label.sk-toggleable__label-arrow:hover:before {color: black;}#sk-container-id-6 div.sk-estimator:hover label.sk-toggleable__label-arrow:before {color: black;}#sk-container-id-6 div.sk-toggleable__content {max-height: 0;max-width: 0;overflow: hidden;text-align: left;background-color: #f0f8ff;}#sk-container-id-6 div.sk-toggleable__content pre {margin: 0.2em;color: black;border-radius: 0.25em;background-color: #f0f8ff;}#sk-container-id-6 input.sk-toggleable__control:checked~div.sk-toggleable__content {max-height: 200px;max-width: 100%;overflow: auto;}#sk-container-id-6 input.sk-toggleable__control:checked~label.sk-toggleable__label-arrow:before {content: \"▾\";}#sk-container-id-6 div.sk-estimator input.sk-toggleable__control:checked~label.sk-toggleable__label {background-color: #d4ebff;}#sk-container-id-6 div.sk-label input.sk-toggleable__control:checked~label.sk-toggleable__label {background-color: #d4ebff;}#sk-container-id-6 input.sk-hidden--visually {border: 0;clip: rect(1px 1px 1px 1px);clip: rect(1px, 1px, 1px, 1px);height: 1px;margin: -1px;overflow: hidden;padding: 0;position: absolute;width: 1px;}#sk-container-id-6 div.sk-estimator {font-family: monospace;background-color: #f0f8ff;border: 1px dotted black;border-radius: 0.25em;box-sizing: border-box;margin-bottom: 0.5em;}#sk-container-id-6 div.sk-estimator:hover {background-color: #d4ebff;}#sk-container-id-6 div.sk-parallel-item::after {content: \"\";width: 100%;border-bottom: 1px solid gray;flex-grow: 1;}#sk-container-id-6 div.sk-label:hover label.sk-toggleable__label {background-color: #d4ebff;}#sk-container-id-6 div.sk-serial::before {content: \"\";position: absolute;border-left: 1px solid gray;box-sizing: border-box;top: 0;bottom: 0;left: 50%;z-index: 0;}#sk-container-id-6 div.sk-serial {display: flex;flex-direction: column;align-items: center;background-color: white;padding-right: 0.2em;padding-left: 0.2em;position: relative;}#sk-container-id-6 div.sk-item {position: relative;z-index: 1;}#sk-container-id-6 div.sk-parallel {display: flex;align-items: stretch;justify-content: center;background-color: white;position: relative;}#sk-container-id-6 div.sk-item::before, #sk-container-id-6 div.sk-parallel-item::before {content: \"\";position: absolute;border-left: 1px solid gray;box-sizing: border-box;top: 0;bottom: 0;left: 50%;z-index: -1;}#sk-container-id-6 div.sk-parallel-item {display: flex;flex-direction: column;z-index: 1;position: relative;background-color: white;}#sk-container-id-6 div.sk-parallel-item:first-child::after {align-self: flex-end;width: 50%;}#sk-container-id-6 div.sk-parallel-item:last-child::after {align-self: flex-start;width: 50%;}#sk-container-id-6 div.sk-parallel-item:only-child::after {width: 0;}#sk-container-id-6 div.sk-dashed-wrapped {border: 1px dashed gray;margin: 0 0.4em 0.5em 0.4em;box-sizing: border-box;padding-bottom: 0.4em;background-color: white;}#sk-container-id-6 div.sk-label label {font-family: monospace;font-weight: bold;display: inline-block;line-height: 1.2em;}#sk-container-id-6 div.sk-label-container {text-align: center;}#sk-container-id-6 div.sk-container {/* jupyter's `normalize.less` sets `[hidden] { display: none; }` but bootstrap.min.css set `[hidden] { display: none !important; }` so we also need the `!important` here to be able to override the default hidden behavior on the sphinx rendered scikit-learn.org. See: https://github.com/scikit-learn/scikit-learn/issues/21755 */display: inline-block !important;position: relative;}#sk-container-id-6 div.sk-text-repr-fallback {display: none;}</style><div id=\"sk-container-id-6\" class=\"sk-top-container\"><div class=\"sk-text-repr-fallback\"><pre>Pipeline(steps=[(&#x27;transform&#x27;,\n                 ColumnTransformer(remainder=StandardScaler(),\n                                   transformers=[(&#x27;onehotencoder&#x27;,\n                                                  OneHotEncoder(drop=&#x27;if_binary&#x27;),\n                                                  [&#x27;student&#x27;])])),\n                (&#x27;knn&#x27;, KNeighborsClassifier(n_neighbors=1))])</pre><b>In a Jupyter environment, please rerun this cell to show the HTML representation or trust the notebook. <br />On GitHub, the HTML representation is unable to render, please try loading this page with nbviewer.org.</b></div><div class=\"sk-container\" hidden><div class=\"sk-item sk-dashed-wrapped\"><div class=\"sk-label-container\"><div class=\"sk-label sk-toggleable\"><input class=\"sk-toggleable__control sk-hidden--visually\" id=\"sk-estimator-id-36\" type=\"checkbox\" ><label for=\"sk-estimator-id-36\" class=\"sk-toggleable__label sk-toggleable__label-arrow\">Pipeline</label><div class=\"sk-toggleable__content\"><pre>Pipeline(steps=[(&#x27;transform&#x27;,\n                 ColumnTransformer(remainder=StandardScaler(),\n                                   transformers=[(&#x27;onehotencoder&#x27;,\n                                                  OneHotEncoder(drop=&#x27;if_binary&#x27;),\n                                                  [&#x27;student&#x27;])])),\n                (&#x27;knn&#x27;, KNeighborsClassifier(n_neighbors=1))])</pre></div></div></div><div class=\"sk-serial\"><div class=\"sk-item sk-dashed-wrapped\"><div class=\"sk-label-container\"><div class=\"sk-label sk-toggleable\"><input class=\"sk-toggleable__control sk-hidden--visually\" id=\"sk-estimator-id-37\" type=\"checkbox\" ><label for=\"sk-estimator-id-37\" class=\"sk-toggleable__label sk-toggleable__label-arrow\">transform: ColumnTransformer</label><div class=\"sk-toggleable__content\"><pre>ColumnTransformer(remainder=StandardScaler(),\n                  transformers=[(&#x27;onehotencoder&#x27;,\n                                 OneHotEncoder(drop=&#x27;if_binary&#x27;),\n                                 [&#x27;student&#x27;])])</pre></div></div></div><div class=\"sk-parallel\"><div class=\"sk-parallel-item\"><div class=\"sk-item\"><div class=\"sk-label-container\"><div class=\"sk-label sk-toggleable\"><input class=\"sk-toggleable__control sk-hidden--visually\" id=\"sk-estimator-id-38\" type=\"checkbox\" ><label for=\"sk-estimator-id-38\" class=\"sk-toggleable__label sk-toggleable__label-arrow\">onehotencoder</label><div class=\"sk-toggleable__content\"><pre>[&#x27;student&#x27;]</pre></div></div></div><div class=\"sk-serial\"><div class=\"sk-item\"><div class=\"sk-estimator sk-toggleable\"><input class=\"sk-toggleable__control sk-hidden--visually\" id=\"sk-estimator-id-39\" type=\"checkbox\" ><label for=\"sk-estimator-id-39\" class=\"sk-toggleable__label sk-toggleable__label-arrow\">OneHotEncoder</label><div class=\"sk-toggleable__content\"><pre>OneHotEncoder(drop=&#x27;if_binary&#x27;)</pre></div></div></div></div></div></div><div class=\"sk-parallel-item\"><div class=\"sk-item\"><div class=\"sk-label-container\"><div class=\"sk-label sk-toggleable\"><input class=\"sk-toggleable__control sk-hidden--visually\" id=\"sk-estimator-id-40\" type=\"checkbox\" ><label for=\"sk-estimator-id-40\" class=\"sk-toggleable__label sk-toggleable__label-arrow\">remainder</label><div class=\"sk-toggleable__content\"><pre>[&#x27;balance&#x27;, &#x27;income&#x27;]</pre></div></div></div><div class=\"sk-serial\"><div class=\"sk-item\"><div class=\"sk-estimator sk-toggleable\"><input class=\"sk-toggleable__control sk-hidden--visually\" id=\"sk-estimator-id-41\" type=\"checkbox\" ><label for=\"sk-estimator-id-41\" class=\"sk-toggleable__label sk-toggleable__label-arrow\">StandardScaler</label><div class=\"sk-toggleable__content\"><pre>StandardScaler()</pre></div></div></div></div></div></div></div></div><div class=\"sk-item\"><div class=\"sk-estimator sk-toggleable\"><input class=\"sk-toggleable__control sk-hidden--visually\" id=\"sk-estimator-id-42\" type=\"checkbox\" ><label for=\"sk-estimator-id-42\" class=\"sk-toggleable__label sk-toggleable__label-arrow\">KNeighborsClassifier</label><div class=\"sk-toggleable__content\"><pre>KNeighborsClassifier(n_neighbors=1)</pre></div></div></div></div></div></div></div>"
     },
     "execution_count": 75,
     "metadata": {},
     "output_type": "execute_result"
    }
   ],
   "source": [
    "knn_1 = Pipeline([('transform', transformer), ('knn', KNeighborsClassifier(n_neighbors = 1))])\n",
    "knn_1.fit(X_train, y_train)"
   ]
  },
  {
   "cell_type": "code",
   "execution_count": 76,
   "metadata": {
    "ExecuteTime": {
     "end_time": "2023-12-03T02:13:08.840217900Z",
     "start_time": "2023-12-03T02:13:08.559393600Z"
    }
   },
   "outputs": [
    {
     "data": {
      "text/plain": "<Figure size 640x480 with 1 Axes>",
      "image/png": "[encoded data removed]"
     },
     "metadata": {},
     "output_type": "display_data"
    }
   ],
   "source": [
    "fig, ax = plt.subplots()\n",
    "RocCurveDisplay.from_estimator(roc_grid, X_test, y_test, pos_label = 'Yes', ax = ax, label = 'Grid Search: 29 Neighbors')\n",
    "RocCurveDisplay.from_estimator(knn_pipe, X_test, y_test, pos_label = 'Yes', ax = ax, label = '10 Neighbors')\n",
    "RocCurveDisplay.from_estimator(knn_1, X_test, y_test, ax = ax, label = '1 Neighbor')\n",
    "plt.grid()\n",
    "plt.plot(np.arange(0, 1.1, .1), np.arange(0, 1.1, .1), label = 'baseline');\n",
    "plt.title('Using RocCurveDisplay')\n",
    "plt.legend();"
   ]
  },
  {
   "cell_type": "code",
   "execution_count": 76,
   "outputs": [],
   "source": [],
   "metadata": {
    "collapsed": false,
    "ExecuteTime": {
     "end_time": "2023-12-03T02:13:09.914990900Z",
     "start_time": "2023-12-03T02:13:09.874726500Z"
    }
   }
  },
  {
   "cell_type": "code",
   "execution_count": 76,
   "outputs": [],
   "source": [],
   "metadata": {
    "collapsed": false,
    "ExecuteTime": {
     "end_time": "2023-12-03T02:13:10.553714Z",
     "start_time": "2023-12-03T02:13:10.526383200Z"
    }
   }
  },
  {
   "cell_type": "code",
   "execution_count": null,
   "outputs": [],
   "source": [],
   "metadata": {
    "collapsed": false
   }
  }
 ],
 "metadata": {
  "celltoolbar": "Create Assignment",
  "kernelspec": {
   "display_name": "Python 3 (ipykernel)",
   "language": "python",
   "name": "python3"
  },
  "language_info": {
   "codemirror_mode": {
    "name": "ipython",
    "version": 3
   },
   "file_extension": ".py",
   "mimetype": "text/x-python",
   "name": "python",
   "nbconvert_exporter": "python",
   "pygments_lexer": "ipython3",
   "version": "3.9.11"
  },
  "widgets": {
   "application/vnd.jupyter.widget-state+json": {
    "state": {},
    "version_major": 2,
    "version_minor": 0
   }
  }
 },
 "nbformat": 4,
 "nbformat_minor": 4
}
