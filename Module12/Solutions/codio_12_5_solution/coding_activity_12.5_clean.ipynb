{
 "cells": [
  {
   "cell_type": "markdown",
   "metadata": {
    "deletable": false,
    "editable": false,
    "nbgrader": {
     "cell_type": "markdown",
     "checksum": "6330433d8feaaafe94fcba9a7d1011da",
     "grade": false,
     "grade_id": "cell-dcb13ee69e0fa77d",
     "locked": true,
     "schema_version": 3,
     "solution": false
    }
   },
   "source": [
    "### Codio Activity 12.5: Confusion Matrices and Metrics for Classification\n",
    "\n",
    "#### This activity focuses on using confusion matrices to compute different classification metrics.  You will use scikitlearn to generate the confusion matrices and answer questions about the appropriate metric for the given dataset.  \n",
    "\n",
    "**Expected Time: 60 Minutes**\n",
    "\n",
    "**Total Points: 50**"
   ]
  },
  {
   "cell_type": "markdown",
   "metadata": {
    "deletable": false,
    "editable": false,
    "nbgrader": {
     "cell_type": "markdown",
     "checksum": "a9bf16f06869c708337c3f95cb6da591",
     "grade": false,
     "grade_id": "cell-e4fc7954fedb38d6",
     "locked": true,
     "schema_version": 3,
     "solution": false
    }
   },
   "source": [
    "#### Index\n",
    "\n",
    "- [Problem 1](#Problem-1)\n",
    "- [Problem 2](#Problem-2)\n",
    "- [Problem 3](#Problem-3)\n",
    "- [Problem 4](#Problem-4)\n",
    "- [Problem 5](#Problem-5)\n",
    "- [Problem 6](#Problem-6)"
   ]
  },
  {
   "cell_type": "code",
   "execution_count": 1,
   "metadata": {
    "ExecuteTime": {
     "end_time": "2023-12-04T20:15:05.509319600Z",
     "start_time": "2023-12-04T20:15:05.234469Z"
    }
   },
   "outputs": [],
   "source": [
    "import pandas as pd\n",
    "import numpy as np\n",
    "import matplotlib.pyplot as plt\n",
    "import seaborn as sns\n",
    "import warnings\n",
    "\n",
    "from sklearn.preprocessing import StandardScaler, OneHotEncoder\n",
    "from sklearn.model_selection import GridSearchCV, train_test_split\n",
    "from sklearn.neighbors import KNeighborsClassifier\n",
    "from sklearn.metrics import confusion_matrix, precision_score, recall_score, accuracy_score, ConfusionMatrixDisplay\n",
    "from sklearn.datasets import load_breast_cancer\n",
    "from sklearn.pipeline import Pipeline\n",
    "from sklearn import set_config\n",
    "import warnings\n",
    "\n",
    "warnings.filterwarnings(\"ignore\")\n",
    "set_config(\"display\")"
   ]
  },
  {
   "cell_type": "markdown",
   "metadata": {
    "deletable": false,
    "editable": false,
    "nbgrader": {
     "cell_type": "markdown",
     "checksum": "9c7b418ec52f1b523aeb9b95f9bd7116",
     "grade": false,
     "grade_id": "cell-e4908c6e157743d8",
     "locked": true,
     "schema_version": 3,
     "solution": false
    }
   },
   "source": [
    "### The Data\n",
    "\n",
    "#### For this exercise you will explore two different scenarios.  The first, is a built-in dataset from scikitlearn related to breast cancer tumors.  The second is a dataset representing telecommunications customer data and retention.  \n",
    "\n",
    "**Cancer Description**\n",
    "\n",
    "\n",
    "#### This is a copy of UCI ML Breast Cancer Wisconsin (Diagnostic) datasets.\n",
    "https://goo.gl/U2Uwz2\n",
    "\n",
    "#### Features are computed from a digitized image of a fine needle aspirate (FNA) of a breast mass.  They describe characteristics of the cell nuclei present in the image.\n",
    "\n",
    "\n"
   ]
  },
  {
   "cell_type": "markdown",
   "metadata": {
    "deletable": false,
    "editable": false,
    "nbgrader": {
     "cell_type": "markdown",
     "checksum": "c65c5047e6f483a912debcdf89c283e3",
     "grade": false,
     "grade_id": "cell-a796ba3046346273",
     "locked": true,
     "schema_version": 3,
     "solution": false
    }
   },
   "source": [
    "**Telecommnunications Churn Data**\n",
    "\n",
    "\n",
    "#### This data set contains information on a communcations company customers.  The target feature means if the customer abandoned their subscription or not, or were \"churned\".  The features primarily represent information about the customers-usage.\n",
    "\n",
    "\n",
    " "
   ]
  },
  {
   "cell_type": "code",
   "execution_count": 2,
   "metadata": {
    "ExecuteTime": {
     "end_time": "2023-12-04T20:15:05.544043Z",
     "start_time": "2023-12-04T20:15:05.505548100Z"
    }
   },
   "outputs": [],
   "source": [
    "cancer = load_breast_cancer(as_frame=True)\n",
    "cancer_df = cancer.frame"
   ]
  },
  {
   "cell_type": "code",
   "execution_count": 3,
   "metadata": {
    "ExecuteTime": {
     "end_time": "2023-12-04T20:15:05.559000700Z",
     "start_time": "2023-12-04T20:15:05.523916700Z"
    }
   },
   "outputs": [
    {
     "data": {
      "text/plain": "   mean radius  mean texture  mean perimeter  mean area  mean smoothness  \\\n0        17.99         10.38          122.80     1001.0          0.11840   \n1        20.57         17.77          132.90     1326.0          0.08474   \n2        19.69         21.25          130.00     1203.0          0.10960   \n3        11.42         20.38           77.58      386.1          0.14250   \n4        20.29         14.34          135.10     1297.0          0.10030   \n\n   mean compactness  mean concavity  mean concave points  mean symmetry  \\\n0           0.27760          0.3001              0.14710         0.2419   \n1           0.07864          0.0869              0.07017         0.1812   \n2           0.15990          0.1974              0.12790         0.2069   \n3           0.28390          0.2414              0.10520         0.2597   \n4           0.13280          0.1980              0.10430         0.1809   \n\n   mean fractal dimension  ...  worst texture  worst perimeter  worst area  \\\n0                 0.07871  ...          17.33           184.60      2019.0   \n1                 0.05667  ...          23.41           158.80      1956.0   \n2                 0.05999  ...          25.53           152.50      1709.0   \n3                 0.09744  ...          26.50            98.87       567.7   \n4                 0.05883  ...          16.67           152.20      1575.0   \n\n   worst smoothness  worst compactness  worst concavity  worst concave points  \\\n0            0.1622             0.6656           0.7119                0.2654   \n1            0.1238             0.1866           0.2416                0.1860   \n2            0.1444             0.4245           0.4504                0.2430   \n3            0.2098             0.8663           0.6869                0.2575   \n4            0.1374             0.2050           0.4000                0.1625   \n\n   worst symmetry  worst fractal dimension  target  \n0          0.4601                  0.11890       0  \n1          0.2750                  0.08902       0  \n2          0.3613                  0.08758       0  \n3          0.6638                  0.17300       0  \n4          0.2364                  0.07678       0  \n\n[5 rows x 31 columns]",
      "text/html": "<div>\n<style scoped>\n    .dataframe tbody tr th:only-of-type {\n        vertical-align: middle;\n    }\n\n    .dataframe tbody tr th {\n        vertical-align: top;\n    }\n\n    .dataframe thead th {\n        text-align: right;\n    }\n</style>\n<table border=\"1\" class=\"dataframe\">\n  <thead>\n    <tr style=\"text-align: right;\">\n      <th></th>\n      <th>mean radius</th>\n      <th>mean texture</th>\n      <th>mean perimeter</th>\n      <th>mean area</th>\n      <th>mean smoothness</th>\n      <th>mean compactness</th>\n      <th>mean concavity</th>\n      <th>mean concave points</th>\n      <th>mean symmetry</th>\n      <th>mean fractal dimension</th>\n      <th>...</th>\n      <th>worst texture</th>\n      <th>worst perimeter</th>\n      <th>worst area</th>\n      <th>worst smoothness</th>\n      <th>worst compactness</th>\n      <th>worst concavity</th>\n      <th>worst concave points</th>\n      <th>worst symmetry</th>\n      <th>worst fractal dimension</th>\n      <th>target</th>\n    </tr>\n  </thead>\n  <tbody>\n    <tr>\n      <th>0</th>\n      <td>17.99</td>\n      <td>10.38</td>\n      <td>122.80</td>\n      <td>1001.0</td>\n      <td>0.11840</td>\n      <td>0.27760</td>\n      <td>0.3001</td>\n      <td>0.14710</td>\n      <td>0.2419</td>\n      <td>0.07871</td>\n      <td>...</td>\n      <td>17.33</td>\n      <td>184.60</td>\n      <td>2019.0</td>\n      <td>0.1622</td>\n      <td>0.6656</td>\n      <td>0.7119</td>\n      <td>0.2654</td>\n      <td>0.4601</td>\n      <td>0.11890</td>\n      <td>0</td>\n    </tr>\n    <tr>\n      <th>1</th>\n      <td>20.57</td>\n      <td>17.77</td>\n      <td>132.90</td>\n      <td>1326.0</td>\n      <td>0.08474</td>\n      <td>0.07864</td>\n      <td>0.0869</td>\n      <td>0.07017</td>\n      <td>0.1812</td>\n      <td>0.05667</td>\n      <td>...</td>\n      <td>23.41</td>\n      <td>158.80</td>\n      <td>1956.0</td>\n      <td>0.1238</td>\n      <td>0.1866</td>\n      <td>0.2416</td>\n      <td>0.1860</td>\n      <td>0.2750</td>\n      <td>0.08902</td>\n      <td>0</td>\n    </tr>\n    <tr>\n      <th>2</th>\n      <td>19.69</td>\n      <td>21.25</td>\n      <td>130.00</td>\n      <td>1203.0</td>\n      <td>0.10960</td>\n      <td>0.15990</td>\n      <td>0.1974</td>\n      <td>0.12790</td>\n      <td>0.2069</td>\n      <td>0.05999</td>\n      <td>...</td>\n      <td>25.53</td>\n      <td>152.50</td>\n      <td>1709.0</td>\n      <td>0.1444</td>\n      <td>0.4245</td>\n      <td>0.4504</td>\n      <td>0.2430</td>\n      <td>0.3613</td>\n      <td>0.08758</td>\n      <td>0</td>\n    </tr>\n    <tr>\n      <th>3</th>\n      <td>11.42</td>\n      <td>20.38</td>\n      <td>77.58</td>\n      <td>386.1</td>\n      <td>0.14250</td>\n      <td>0.28390</td>\n      <td>0.2414</td>\n      <td>0.10520</td>\n      <td>0.2597</td>\n      <td>0.09744</td>\n      <td>...</td>\n      <td>26.50</td>\n      <td>98.87</td>\n      <td>567.7</td>\n      <td>0.2098</td>\n      <td>0.8663</td>\n      <td>0.6869</td>\n      <td>0.2575</td>\n      <td>0.6638</td>\n      <td>0.17300</td>\n      <td>0</td>\n    </tr>\n    <tr>\n      <th>4</th>\n      <td>20.29</td>\n      <td>14.34</td>\n      <td>135.10</td>\n      <td>1297.0</td>\n      <td>0.10030</td>\n      <td>0.13280</td>\n      <td>0.1980</td>\n      <td>0.10430</td>\n      <td>0.1809</td>\n      <td>0.05883</td>\n      <td>...</td>\n      <td>16.67</td>\n      <td>152.20</td>\n      <td>1575.0</td>\n      <td>0.1374</td>\n      <td>0.2050</td>\n      <td>0.4000</td>\n      <td>0.1625</td>\n      <td>0.2364</td>\n      <td>0.07678</td>\n      <td>0</td>\n    </tr>\n  </tbody>\n</table>\n<p>5 rows × 31 columns</p>\n</div>"
     },
     "execution_count": 3,
     "metadata": {},
     "output_type": "execute_result"
    }
   ],
   "source": [
    "cancer_df.head()"
   ]
  },
  {
   "cell_type": "code",
   "execution_count": 4,
   "metadata": {
    "ExecuteTime": {
     "end_time": "2023-12-04T20:15:05.615479600Z",
     "start_time": "2023-12-04T20:15:05.557480600Z"
    }
   },
   "outputs": [
    {
     "name": "stdout",
     "output_type": "stream",
     "text": [
      "<class 'pandas.core.frame.DataFrame'>\n",
      "RangeIndex: 569 entries, 0 to 568\n",
      "Data columns (total 31 columns):\n",
      " #   Column                   Non-Null Count  Dtype  \n",
      "---  ------                   --------------  -----  \n",
      " 0   mean radius              569 non-null    float64\n",
      " 1   mean texture             569 non-null    float64\n",
      " 2   mean perimeter           569 non-null    float64\n",
      " 3   mean area                569 non-null    float64\n",
      " 4   mean smoothness          569 non-null    float64\n",
      " 5   mean compactness         569 non-null    float64\n",
      " 6   mean concavity           569 non-null    float64\n",
      " 7   mean concave points      569 non-null    float64\n",
      " 8   mean symmetry            569 non-null    float64\n",
      " 9   mean fractal dimension   569 non-null    float64\n",
      " 10  radius error             569 non-null    float64\n",
      " 11  texture error            569 non-null    float64\n",
      " 12  perimeter error          569 non-null    float64\n",
      " 13  area error               569 non-null    float64\n",
      " 14  smoothness error         569 non-null    float64\n",
      " 15  compactness error        569 non-null    float64\n",
      " 16  concavity error          569 non-null    float64\n",
      " 17  concave points error     569 non-null    float64\n",
      " 18  symmetry error           569 non-null    float64\n",
      " 19  fractal dimension error  569 non-null    float64\n",
      " 20  worst radius             569 non-null    float64\n",
      " 21  worst texture            569 non-null    float64\n",
      " 22  worst perimeter          569 non-null    float64\n",
      " 23  worst area               569 non-null    float64\n",
      " 24  worst smoothness         569 non-null    float64\n",
      " 25  worst compactness        569 non-null    float64\n",
      " 26  worst concavity          569 non-null    float64\n",
      " 27  worst concave points     569 non-null    float64\n",
      " 28  worst symmetry           569 non-null    float64\n",
      " 29  worst fractal dimension  569 non-null    float64\n",
      " 30  target                   569 non-null    int32  \n",
      "dtypes: float64(30), int32(1)\n",
      "memory usage: 135.7 KB\n"
     ]
    }
   ],
   "source": [
    "cancer_df.info()"
   ]
  },
  {
   "cell_type": "code",
   "execution_count": 5,
   "outputs": [
    {
     "data": {
      "text/plain": "target\n1    0.627417\n0    0.372583\nName: proportion, dtype: float64"
     },
     "execution_count": 5,
     "metadata": {},
     "output_type": "execute_result"
    }
   ],
   "source": [
    "cancer_df['target'].value_counts(normalize = True)"
   ],
   "metadata": {
    "collapsed": false,
    "ExecuteTime": {
     "end_time": "2023-12-04T20:15:05.615479600Z",
     "start_time": "2023-12-04T20:15:05.572837300Z"
    }
   }
  },
  {
   "cell_type": "code",
   "execution_count": 6,
   "outputs": [
    {
     "name": "stdout",
     "output_type": "stream",
     "text": [
      "1 means benign\n",
      "0 means malignant\n"
     ]
    },
    {
     "data": {
      "text/plain": "<Figure size 640x480 with 1 Axes>",
      "image/png": "[encoded data removed]"
     },
     "metadata": {},
     "output_type": "display_data"
    }
   ],
   "source": [
    "sns.countplot(data=cancer_df, x = 'target')\n",
    "plt.title('Count of target observations');\n",
    "print('1 means benign')\n",
    "print('0 means malignant')"
   ],
   "metadata": {
    "collapsed": false,
    "ExecuteTime": {
     "end_time": "2023-12-04T20:15:05.810156600Z",
     "start_time": "2023-12-04T20:15:05.576338100Z"
    }
   }
  },
  {
   "cell_type": "code",
   "execution_count": 7,
   "metadata": {
    "ExecuteTime": {
     "end_time": "2023-12-04T20:15:05.846310300Z",
     "start_time": "2023-12-04T20:15:05.734329500Z"
    }
   },
   "outputs": [
    {
     "data": {
      "text/plain": "   account_length  area_code  vmail_message  day_mins  day_calls  day_charge  \\\n0             128        415             25     265.1        110       45.07   \n1             107        415             26     161.6        123       27.47   \n2             137        415              0     243.4        114       41.38   \n3              84        408              0     299.4         71       50.90   \n4              75        415              0     166.7        113       28.34   \n\n   eve_mins  eve_calls  eve_charge  night_mins  night_calls  night_charge  \\\n0     197.4         99       16.78       244.7           91         11.01   \n1     195.5        103       16.62       254.4          103         11.45   \n2     121.2        110       10.30       162.6          104          7.32   \n3      61.9         88        5.26       196.9           89          8.86   \n4     148.3        122       12.61       186.9          121          8.41   \n\n   intl_mins  intl_calls  intl_charge  custserv_calls  churn  \n0       10.0           3         2.70               1  False  \n1       13.7           3         3.70               1  False  \n2       12.2           5         3.29               0  False  \n3        6.6           7         1.78               2  False  \n4       10.1           3         2.73               3  False  ",
      "text/html": "<div>\n<style scoped>\n    .dataframe tbody tr th:only-of-type {\n        vertical-align: middle;\n    }\n\n    .dataframe tbody tr th {\n        vertical-align: top;\n    }\n\n    .dataframe thead th {\n        text-align: right;\n    }\n</style>\n<table border=\"1\" class=\"dataframe\">\n  <thead>\n    <tr style=\"text-align: right;\">\n      <th></th>\n      <th>account_length</th>\n      <th>area_code</th>\n      <th>vmail_message</th>\n      <th>day_mins</th>\n      <th>day_calls</th>\n      <th>day_charge</th>\n      <th>eve_mins</th>\n      <th>eve_calls</th>\n      <th>eve_charge</th>\n      <th>night_mins</th>\n      <th>night_calls</th>\n      <th>night_charge</th>\n      <th>intl_mins</th>\n      <th>intl_calls</th>\n      <th>intl_charge</th>\n      <th>custserv_calls</th>\n      <th>churn</th>\n    </tr>\n  </thead>\n  <tbody>\n    <tr>\n      <th>0</th>\n      <td>128</td>\n      <td>415</td>\n      <td>25</td>\n      <td>265.1</td>\n      <td>110</td>\n      <td>45.07</td>\n      <td>197.4</td>\n      <td>99</td>\n      <td>16.78</td>\n      <td>244.7</td>\n      <td>91</td>\n      <td>11.01</td>\n      <td>10.0</td>\n      <td>3</td>\n      <td>2.70</td>\n      <td>1</td>\n      <td>False</td>\n    </tr>\n    <tr>\n      <th>1</th>\n      <td>107</td>\n      <td>415</td>\n      <td>26</td>\n      <td>161.6</td>\n      <td>123</td>\n      <td>27.47</td>\n      <td>195.5</td>\n      <td>103</td>\n      <td>16.62</td>\n      <td>254.4</td>\n      <td>103</td>\n      <td>11.45</td>\n      <td>13.7</td>\n      <td>3</td>\n      <td>3.70</td>\n      <td>1</td>\n      <td>False</td>\n    </tr>\n    <tr>\n      <th>2</th>\n      <td>137</td>\n      <td>415</td>\n      <td>0</td>\n      <td>243.4</td>\n      <td>114</td>\n      <td>41.38</td>\n      <td>121.2</td>\n      <td>110</td>\n      <td>10.30</td>\n      <td>162.6</td>\n      <td>104</td>\n      <td>7.32</td>\n      <td>12.2</td>\n      <td>5</td>\n      <td>3.29</td>\n      <td>0</td>\n      <td>False</td>\n    </tr>\n    <tr>\n      <th>3</th>\n      <td>84</td>\n      <td>408</td>\n      <td>0</td>\n      <td>299.4</td>\n      <td>71</td>\n      <td>50.90</td>\n      <td>61.9</td>\n      <td>88</td>\n      <td>5.26</td>\n      <td>196.9</td>\n      <td>89</td>\n      <td>8.86</td>\n      <td>6.6</td>\n      <td>7</td>\n      <td>1.78</td>\n      <td>2</td>\n      <td>False</td>\n    </tr>\n    <tr>\n      <th>4</th>\n      <td>75</td>\n      <td>415</td>\n      <td>0</td>\n      <td>166.7</td>\n      <td>113</td>\n      <td>28.34</td>\n      <td>148.3</td>\n      <td>122</td>\n      <td>12.61</td>\n      <td>186.9</td>\n      <td>121</td>\n      <td>8.41</td>\n      <td>10.1</td>\n      <td>3</td>\n      <td>2.73</td>\n      <td>3</td>\n      <td>False</td>\n    </tr>\n  </tbody>\n</table>\n</div>"
     },
     "execution_count": 7,
     "metadata": {},
     "output_type": "execute_result"
    }
   ],
   "source": [
    "churn = pd.read_csv('data/cell_phone_churn.csv').select_dtypes(['float', 'int', 'bool'])\n",
    "churn.head()"
   ]
  },
  {
   "cell_type": "code",
   "execution_count": 8,
   "metadata": {
    "ExecuteTime": {
     "end_time": "2023-12-04T20:15:05.850299200Z",
     "start_time": "2023-12-04T20:15:05.755131700Z"
    }
   },
   "outputs": [
    {
     "name": "stdout",
     "output_type": "stream",
     "text": [
      "<class 'pandas.core.frame.DataFrame'>\n",
      "RangeIndex: 3333 entries, 0 to 3332\n",
      "Data columns (total 17 columns):\n",
      " #   Column          Non-Null Count  Dtype  \n",
      "---  ------          --------------  -----  \n",
      " 0   account_length  3333 non-null   int64  \n",
      " 1   area_code       3333 non-null   int64  \n",
      " 2   vmail_message   3333 non-null   int64  \n",
      " 3   day_mins        3333 non-null   float64\n",
      " 4   day_calls       3333 non-null   int64  \n",
      " 5   day_charge      3333 non-null   float64\n",
      " 6   eve_mins        3333 non-null   float64\n",
      " 7   eve_calls       3333 non-null   int64  \n",
      " 8   eve_charge      3333 non-null   float64\n",
      " 9   night_mins      3333 non-null   float64\n",
      " 10  night_calls     3333 non-null   int64  \n",
      " 11  night_charge    3333 non-null   float64\n",
      " 12  intl_mins       3333 non-null   float64\n",
      " 13  intl_calls      3333 non-null   int64  \n",
      " 14  intl_charge     3333 non-null   float64\n",
      " 15  custserv_calls  3333 non-null   int64  \n",
      " 16  churn           3333 non-null   bool   \n",
      "dtypes: bool(1), float64(8), int64(8)\n",
      "memory usage: 420.0 KB\n"
     ]
    }
   ],
   "source": [
    "churn.info()"
   ]
  },
  {
   "cell_type": "code",
   "execution_count": 9,
   "outputs": [
    {
     "data": {
      "text/plain": "churn\nFalse    0.855086\nTrue     0.144914\nName: proportion, dtype: float64"
     },
     "execution_count": 9,
     "metadata": {},
     "output_type": "execute_result"
    }
   ],
   "source": [
    "churn['churn'].value_counts(normalize = True)"
   ],
   "metadata": {
    "collapsed": false,
    "ExecuteTime": {
     "end_time": "2023-12-04T20:15:05.851295900Z",
     "start_time": "2023-12-04T20:15:05.764967700Z"
    }
   }
  },
  {
   "cell_type": "code",
   "execution_count": 10,
   "outputs": [
    {
     "data": {
      "text/plain": "<Figure size 640x480 with 1 Axes>",
      "image/png": "[encoded data removed]"
     },
     "metadata": {},
     "output_type": "display_data"
    }
   ],
   "source": [
    "sns.countplot(data=churn, x = 'churn')\n",
    "plt.title('Count of target observations');"
   ],
   "metadata": {
    "collapsed": false,
    "ExecuteTime": {
     "end_time": "2023-12-04T20:15:06.257913400Z",
     "start_time": "2023-12-04T20:15:05.768064500Z"
    }
   }
  },
  {
   "cell_type": "code",
   "execution_count": 11,
   "metadata": {
    "ExecuteTime": {
     "end_time": "2023-12-04T20:15:06.257913400Z",
     "start_time": "2023-12-04T20:15:05.881446900Z"
    }
   },
   "outputs": [],
   "source": [
    "churn_x, churn_y = churn.drop('churn', axis = 1), churn.churn\n",
    "churn_x_train, churn_x_test, churn_y_train, churn_y_test = train_test_split(churn_x, churn_y, random_state = 42)"
   ]
  },
  {
   "cell_type": "code",
   "execution_count": 12,
   "metadata": {
    "ExecuteTime": {
     "end_time": "2023-12-04T20:15:06.257913400Z",
     "start_time": "2023-12-04T20:15:05.889186300Z"
    }
   },
   "outputs": [],
   "source": [
    "cancer_x, cancer_y = cancer.data, cancer.target\n",
    "cancer_x_train, cancer_x_test, cancer_y_train, cancer_y_test = train_test_split(cancer_x, cancer_y, random_state=42)"
   ]
  },
  {
   "cell_type": "markdown",
   "metadata": {
    "deletable": false,
    "editable": false,
    "nbgrader": {
     "cell_type": "markdown",
     "checksum": "1366b8c7eb72487ae75ad1a693a144b5",
     "grade": false,
     "grade_id": "cell-bf120c389dbd65d5",
     "locked": true,
     "schema_version": 3,
     "solution": false
    }
   },
   "source": [
    "[Back to top](#-Index)\n",
    "\n",
    "### Problem 1\n",
    "\n",
    "#### Pipeline for cancer data\n",
    "\n",
    "**10 Points**\n",
    "\n",
    "#### As before, you want to scale your data prior to building the model.  Because the cancer dataset contains only numeric features, you can simply pass all features through the `StandardScaler`.  Below, construct a pipeline named `cancer_pipeline` with named steps `scale` and `knn`.  Leave all the settings to default in the `KNeighborsClassifier`. \n",
    "\n",
    "#### Fit the pipeline on the training data, and make predictions on the test data.  Assign these as an array to `cancer_preds` below. "
   ]
  },
  {
   "cell_type": "code",
   "execution_count": 13,
   "metadata": {
    "deletable": false,
    "nbgrader": {
     "cell_type": "code",
     "checksum": "3837f4f4ae14fc2ac5d230ce970a2559",
     "grade": false,
     "grade_id": "cell-d336864ba5330241",
     "locked": false,
     "schema_version": 3,
     "solution": true
    },
    "ExecuteTime": {
     "end_time": "2023-12-04T20:15:06.258918900Z",
     "start_time": "2023-12-04T20:15:05.893448200Z"
    }
   },
   "outputs": [
    {
     "name": "stdout",
     "output_type": "stream",
     "text": [
      "[1 0 0 1 1]\n"
     ]
    },
    {
     "data": {
      "text/plain": "Pipeline(steps=[('scale', StandardScaler()), ('knn', KNeighborsClassifier())])",
      "text/html": "<style>#sk-container-id-1 {color: black;}#sk-container-id-1 pre{padding: 0;}#sk-container-id-1 div.sk-toggleable {background-color: white;}#sk-container-id-1 label.sk-toggleable__label {cursor: pointer;display: block;width: 100%;margin-bottom: 0;padding: 0.3em;box-sizing: border-box;text-align: center;}#sk-container-id-1 label.sk-toggleable__label-arrow:before {content: \"▸\";float: left;margin-right: 0.25em;color: #696969;}#sk-container-id-1 label.sk-toggleable__label-arrow:hover:before {color: black;}#sk-container-id-1 div.sk-estimator:hover label.sk-toggleable__label-arrow:before {color: black;}#sk-container-id-1 div.sk-toggleable__content {max-height: 0;max-width: 0;overflow: hidden;text-align: left;background-color: #f0f8ff;}#sk-container-id-1 div.sk-toggleable__content pre {margin: 0.2em;color: black;border-radius: 0.25em;background-color: #f0f8ff;}#sk-container-id-1 input.sk-toggleable__control:checked~div.sk-toggleable__content {max-height: 200px;max-width: 100%;overflow: auto;}#sk-container-id-1 input.sk-toggleable__control:checked~label.sk-toggleable__label-arrow:before {content: \"▾\";}#sk-container-id-1 div.sk-estimator input.sk-toggleable__control:checked~label.sk-toggleable__label {background-color: #d4ebff;}#sk-container-id-1 div.sk-label input.sk-toggleable__control:checked~label.sk-toggleable__label {background-color: #d4ebff;}#sk-container-id-1 input.sk-hidden--visually {border: 0;clip: rect(1px 1px 1px 1px);clip: rect(1px, 1px, 1px, 1px);height: 1px;margin: -1px;overflow: hidden;padding: 0;position: absolute;width: 1px;}#sk-container-id-1 div.sk-estimator {font-family: monospace;background-color: #f0f8ff;border: 1px dotted black;border-radius: 0.25em;box-sizing: border-box;margin-bottom: 0.5em;}#sk-container-id-1 div.sk-estimator:hover {background-color: #d4ebff;}#sk-container-id-1 div.sk-parallel-item::after {content: \"\";width: 100%;border-bottom: 1px solid gray;flex-grow: 1;}#sk-container-id-1 div.sk-label:hover label.sk-toggleable__label {background-color: #d4ebff;}#sk-container-id-1 div.sk-serial::before {content: \"\";position: absolute;border-left: 1px solid gray;box-sizing: border-box;top: 0;bottom: 0;left: 50%;z-index: 0;}#sk-container-id-1 div.sk-serial {display: flex;flex-direction: column;align-items: center;background-color: white;padding-right: 0.2em;padding-left: 0.2em;position: relative;}#sk-container-id-1 div.sk-item {position: relative;z-index: 1;}#sk-container-id-1 div.sk-parallel {display: flex;align-items: stretch;justify-content: center;background-color: white;position: relative;}#sk-container-id-1 div.sk-item::before, #sk-container-id-1 div.sk-parallel-item::before {content: \"\";position: absolute;border-left: 1px solid gray;box-sizing: border-box;top: 0;bottom: 0;left: 50%;z-index: -1;}#sk-container-id-1 div.sk-parallel-item {display: flex;flex-direction: column;z-index: 1;position: relative;background-color: white;}#sk-container-id-1 div.sk-parallel-item:first-child::after {align-self: flex-end;width: 50%;}#sk-container-id-1 div.sk-parallel-item:last-child::after {align-self: flex-start;width: 50%;}#sk-container-id-1 div.sk-parallel-item:only-child::after {width: 0;}#sk-container-id-1 div.sk-dashed-wrapped {border: 1px dashed gray;margin: 0 0.4em 0.5em 0.4em;box-sizing: border-box;padding-bottom: 0.4em;background-color: white;}#sk-container-id-1 div.sk-label label {font-family: monospace;font-weight: bold;display: inline-block;line-height: 1.2em;}#sk-container-id-1 div.sk-label-container {text-align: center;}#sk-container-id-1 div.sk-container {/* jupyter's `normalize.less` sets `[hidden] { display: none; }` but bootstrap.min.css set `[hidden] { display: none !important; }` so we also need the `!important` here to be able to override the default hidden behavior on the sphinx rendered scikit-learn.org. See: https://github.com/scikit-learn/scikit-learn/issues/21755 */display: inline-block !important;position: relative;}#sk-container-id-1 div.sk-text-repr-fallback {display: none;}</style><div id=\"sk-container-id-1\" class=\"sk-top-container\"><div class=\"sk-text-repr-fallback\"><pre>Pipeline(steps=[(&#x27;scale&#x27;, StandardScaler()), (&#x27;knn&#x27;, KNeighborsClassifier())])</pre><b>In a Jupyter environment, please rerun this cell to show the HTML representation or trust the notebook. <br />On GitHub, the HTML representation is unable to render, please try loading this page with nbviewer.org.</b></div><div class=\"sk-container\" hidden><div class=\"sk-item sk-dashed-wrapped\"><div class=\"sk-label-container\"><div class=\"sk-label sk-toggleable\"><input class=\"sk-toggleable__control sk-hidden--visually\" id=\"sk-estimator-id-1\" type=\"checkbox\" ><label for=\"sk-estimator-id-1\" class=\"sk-toggleable__label sk-toggleable__label-arrow\">Pipeline</label><div class=\"sk-toggleable__content\"><pre>Pipeline(steps=[(&#x27;scale&#x27;, StandardScaler()), (&#x27;knn&#x27;, KNeighborsClassifier())])</pre></div></div></div><div class=\"sk-serial\"><div class=\"sk-item\"><div class=\"sk-estimator sk-toggleable\"><input class=\"sk-toggleable__control sk-hidden--visually\" id=\"sk-estimator-id-2\" type=\"checkbox\" ><label for=\"sk-estimator-id-2\" class=\"sk-toggleable__label sk-toggleable__label-arrow\">StandardScaler</label><div class=\"sk-toggleable__content\"><pre>StandardScaler()</pre></div></div></div><div class=\"sk-item\"><div class=\"sk-estimator sk-toggleable\"><input class=\"sk-toggleable__control sk-hidden--visually\" id=\"sk-estimator-id-3\" type=\"checkbox\" ><label for=\"sk-estimator-id-3\" class=\"sk-toggleable__label sk-toggleable__label-arrow\">KNeighborsClassifier</label><div class=\"sk-toggleable__content\"><pre>KNeighborsClassifier()</pre></div></div></div></div></div></div></div>"
     },
     "execution_count": 13,
     "metadata": {},
     "output_type": "execute_result"
    }
   ],
   "source": [
    "### GRADED\n",
    "\n",
    "cancer_pipeline = ''\n",
    "cancer_preds = ''\n",
    "\n",
    "# YOUR CODE HERE\n",
    "cancer_pipeline = Pipeline([('scale', StandardScaler()), ('knn', KNeighborsClassifier())])\n",
    "cancer_pipeline.fit(cancer_x_train, cancer_y_train)\n",
    "cancer_preds = cancer_pipeline.predict(cancer_x_test)\n",
    "\n",
    "# Answer check\n",
    "print(cancer_preds[:5])\n",
    "cancer_pipeline"
   ]
  },
  {
   "cell_type": "code",
   "execution_count": 13,
   "metadata": {
    "deletable": false,
    "editable": false,
    "nbgrader": {
     "cell_type": "code",
     "checksum": "c21e4ed109dfad889bf49c4f58822aac",
     "grade": true,
     "grade_id": "cell-6c3944e3d382fa3b",
     "locked": true,
     "points": 10,
     "schema_version": 3,
     "solution": false
    },
    "ExecuteTime": {
     "end_time": "2023-12-04T20:15:06.258918900Z",
     "start_time": "2023-12-04T20:15:05.945745Z"
    }
   },
   "outputs": [],
   "source": []
  },
  {
   "cell_type": "markdown",
   "metadata": {
    "deletable": false,
    "editable": false,
    "nbgrader": {
     "cell_type": "markdown",
     "checksum": "5e60243ecc8d89e322b93046b6fb6b94",
     "grade": false,
     "grade_id": "cell-bcd08612552901d3",
     "locked": true,
     "schema_version": 3,
     "solution": false
    }
   },
   "source": [
    "[Back to top](#-Index)\n",
    "\n",
    "### Problem 2\n",
    "\n",
    "#### Confusion matrix for cancer data\n",
    "\n",
    "**10 Points**\n",
    "\n",
    "#### Use the `ConfusionMatrixDisplay.from_predictions` function to visualize your confusion matrix on the test data.  Note that in the example of the cancer data a 1 means benign and 0 means malignant.  Use these by setting `display_labels = ['benign', 'malignant']`.  Assign your confusion matrix object to `cancer_confusion_mat` below as a ConfusionMatrixDisplay object."
   ]
  },
  {
   "cell_type": "code",
   "execution_count": 14,
   "metadata": {
    "deletable": false,
    "nbgrader": {
     "cell_type": "code",
     "checksum": "105262ac3993b5b06c25783a32426b22",
     "grade": false,
     "grade_id": "cell-c3f877729d34df98",
     "locked": false,
     "schema_version": 3,
     "solution": true
    },
    "ExecuteTime": {
     "end_time": "2023-12-04T20:15:06.316818100Z",
     "start_time": "2023-12-04T20:15:05.949261300Z"
    }
   },
   "outputs": [
    {
     "data": {
      "text/plain": "<Figure size 1000x1000 with 2 Axes>",
      "image/png": "[encoded data removed]"
     },
     "metadata": {},
     "output_type": "display_data"
    },
    {
     "name": "stdout",
     "output_type": "stream",
     "text": [
      "<class 'numpy.ndarray'>\n"
     ]
    }
   ],
   "source": [
    "### GRADED\n",
    "cancer_confusion_mat = ''\n",
    "\n",
    "# YOUR CODE HERE\n",
    "cancer_confusion_mat = confusion_matrix(cancer_y_test, cancer_preds, labels=[1, 0], normalize='true')\n",
    "disp = ConfusionMatrixDisplay(confusion_matrix=cancer_confusion_mat, display_labels=['benign', 'malignant' ])\n",
    "fig, ax = plt.subplots(figsize=(10,10))\n",
    "disp.plot(ax=ax, cmap=plt.cm.Blues)\n",
    "plt.show()\n",
    "\n",
    "# Answer check\n",
    "print(type(cancer_confusion_mat))"
   ]
  },
  {
   "cell_type": "code",
   "execution_count": 14,
   "metadata": {
    "deletable": false,
    "editable": false,
    "nbgrader": {
     "cell_type": "code",
     "checksum": "80759d1a8ba7d49b16eac9f880d88f34",
     "grade": true,
     "grade_id": "cell-e5168935ef00c8a9",
     "locked": true,
     "points": 10,
     "schema_version": 3,
     "solution": false
    },
    "ExecuteTime": {
     "end_time": "2023-12-04T20:15:06.316818100Z",
     "start_time": "2023-12-04T20:15:06.133945200Z"
    }
   },
   "outputs": [],
   "source": []
  },
  {
   "cell_type": "markdown",
   "metadata": {
    "deletable": false,
    "editable": false,
    "nbgrader": {
     "cell_type": "markdown",
     "checksum": "f164cd224b621d3bd83f4a93c8a0706d",
     "grade": false,
     "grade_id": "cell-3f319d54278f3635",
     "locked": true,
     "schema_version": 3,
     "solution": false
    }
   },
   "source": [
    "[Back to top](#-Index)\n",
    "\n",
    "### Problem 3\n",
    "\n",
    "#### Which Errors are worse?\n",
    "\n",
    "**5 Points**\n",
    "\n",
    "#### In this problem, which of the errors would you care more about avoiding?  Those tumors that are identified as malignant but are benign, or those that are benign classified as malignant.  Consider this from the doctors point of view.  Assign your answer as the string `false positive` (classified malignant but benign) or `false negative` (classified as benign but malignant) to `ans3` below."
   ]
  },
  {
   "cell_type": "code",
   "execution_count": 15,
   "metadata": {
    "deletable": false,
    "nbgrader": {
     "cell_type": "code",
     "checksum": "a005080eb4bb61f8c26304b7d5d31399",
     "grade": false,
     "grade_id": "cell-819ffdafd6522a20",
     "locked": false,
     "schema_version": 3,
     "solution": true
    },
    "ExecuteTime": {
     "end_time": "2023-12-04T20:15:06.316818100Z",
     "start_time": "2023-12-04T20:15:06.140339100Z"
    }
   },
   "outputs": [
    {
     "name": "stdout",
     "output_type": "stream",
     "text": [
      "false negative\n"
     ]
    }
   ],
   "source": [
    "### GRADED\n",
    "\n",
    "ans3 = ''\n",
    "\n",
    "# YOUR CODE HERE\n",
    "ans3 = 'false negative'\n",
    "\n",
    "# Answer check\n",
    "print(ans3)"
   ]
  },
  {
   "cell_type": "code",
   "execution_count": 15,
   "metadata": {
    "deletable": false,
    "editable": false,
    "nbgrader": {
     "cell_type": "code",
     "checksum": "d10d8844c86f5bf7d0711e89e9b833ed",
     "grade": true,
     "grade_id": "cell-071aec54597aed25",
     "locked": true,
     "points": 5,
     "schema_version": 3,
     "solution": false
    },
    "ExecuteTime": {
     "end_time": "2023-12-04T20:15:06.316818100Z",
     "start_time": "2023-12-04T20:15:06.145060400Z"
    }
   },
   "outputs": [],
   "source": []
  },
  {
   "cell_type": "markdown",
   "metadata": {
    "deletable": false,
    "editable": false,
    "nbgrader": {
     "cell_type": "markdown",
     "checksum": "48c90d0e524b819e0ac25ea830a523f6",
     "grade": false,
     "grade_id": "cell-bcf20acee0bc26ec",
     "locked": true,
     "schema_version": 3,
     "solution": false
    }
   },
   "source": [
    "[Back to top](#-Index)\n",
    "\n",
    "### Problem 4\n",
    "\n",
    "#### Adjusting the Decision Boundary\n",
    "\n",
    "**10 Points**\n",
    "\n",
    "#### Consider improving the recall score.  By adjusting your decision boundary you can alter the recall.  Below, a new model is fit with `n_neighbors = 10` and predictions with both lower and higher decision boundaries.  Use these to decide which was better in the case of avoiding misclassifying tumors that are malignant as benign.  Select the choice 'a', 'b', or 'c' based on the confusion matrices below and assign to `best_knn` below."
   ]
  },
  {
   "cell_type": "code",
   "execution_count": 16,
   "metadata": {
    "ExecuteTime": {
     "end_time": "2023-12-04T20:15:06.319365800Z",
     "start_time": "2023-12-04T20:15:06.149820600Z"
    }
   },
   "outputs": [],
   "source": [
    "knn_ex = Pipeline([('scale', StandardScaler()), ('knn', KNeighborsClassifier(n_neighbors = 10))])\n",
    "knn_ex.fit(cancer_x_train, cancer_y_train)\n",
    "low_preds = np.where(knn_ex.predict_proba(cancer_x_test)[:, 1] > .25, 1, 0)\n",
    "high_preds = np.where(knn_ex.predict_proba(cancer_x_test)[:, 1] > .95, 1, 0)\n",
    "mid_preds = knn_ex.predict(cancer_x_test)\n",
    "df_preds_can = pd.DataFrame({'Low (25%)':low_preds.tolist(), 'High (95%)':high_preds.tolist(), 'Mid (50%)':mid_preds})"
   ]
  },
  {
   "cell_type": "code",
   "execution_count": 17,
   "outputs": [
    {
     "data": {
      "text/plain": "<Figure size 3000x1500 with 4 Axes>",
      "image/png": "[encoded data removed]"
     },
     "metadata": {},
     "output_type": "display_data"
    }
   ],
   "source": [
    "cancer_map={1:'benign', 0:'malignant'}\n",
    "\n",
    "f, axes = plt.subplots(1, 3, figsize=(30, 15), sharey='row')\n",
    "for i, preds in enumerate([mid_preds, high_preds, mid_preds]):\n",
    "    confusion_mat = confusion_matrix(cancer_y_test, preds, labels=list(knn_ex.classes_), normalize='true')\n",
    "    disp = ConfusionMatrixDisplay(confusion_matrix=confusion_mat, display_labels=[cancer_map[knn_ex.classes_[0]],cancer_map[knn_ex.classes_[1]]])\n",
    "    disp.plot(ax=axes[i], xticks_rotation=45, cmap=plt.cm.Blues)\n",
    "    disp.ax_.set_title(df_preds_can.keys().to_list()[i])\n",
    "    disp.im_.colorbar.remove()\n",
    "    disp.ax_.set_xlabel('')\n",
    "    if i!=0:\n",
    "        disp.ax_.set_ylabel('')\n",
    "\n",
    "f.text(0.4, 0.1, 'Predicted label', ha='left')\n",
    "plt.subplots_adjust(wspace=0.40, hspace=0.1)\n",
    "\n",
    "\n",
    "f.colorbar(disp.im_, ax=axes)\n",
    "plt.show()"
   ],
   "metadata": {
    "collapsed": false,
    "ExecuteTime": {
     "end_time": "2023-12-04T20:15:06.995379900Z",
     "start_time": "2023-12-04T20:15:06.182940100Z"
    }
   }
  },
  {
   "cell_type": "markdown",
   "metadata": {},
   "source": [
    "![](images/three_knn.png)"
   ]
  },
  {
   "cell_type": "code",
   "execution_count": 18,
   "metadata": {
    "deletable": false,
    "nbgrader": {
     "cell_type": "code",
     "checksum": "dafb8090edf605c0a82e20426cb6a969",
     "grade": false,
     "grade_id": "cell-1a2e9fe97f430409",
     "locked": false,
     "schema_version": 3,
     "solution": true
    },
    "ExecuteTime": {
     "end_time": "2023-12-04T20:15:06.995379900Z",
     "start_time": "2023-12-04T20:15:06.506295Z"
    }
   },
   "outputs": [
    {
     "name": "stdout",
     "output_type": "stream",
     "text": [
      "c\n"
     ]
    }
   ],
   "source": [
    "### GRADED\n",
    "\n",
    "best_knn = ''\n",
    "\n",
    "# YOUR CODE HERE\n",
    "best_knn = 'c'\n",
    "\n",
    "# Answer check\n",
    "print(best_knn)"
   ]
  },
  {
   "cell_type": "code",
   "execution_count": 18,
   "metadata": {
    "deletable": false,
    "editable": false,
    "nbgrader": {
     "cell_type": "code",
     "checksum": "3d4e830c24b0ec8b7d117e36a47cce87",
     "grade": true,
     "grade_id": "cell-eade828bf7db30e5",
     "locked": true,
     "points": 10,
     "schema_version": 3,
     "solution": false
    },
    "ExecuteTime": {
     "end_time": "2023-12-04T20:15:06.995379900Z",
     "start_time": "2023-12-04T20:15:06.511191200Z"
    }
   },
   "outputs": [],
   "source": []
  },
  {
   "cell_type": "markdown",
   "metadata": {
    "deletable": false,
    "editable": false,
    "nbgrader": {
     "cell_type": "markdown",
     "checksum": "d8685203e54fd2649ddb0ce08bfca02e",
     "grade": false,
     "grade_id": "cell-c8ae14b1c154872a",
     "locked": true,
     "schema_version": 3,
     "solution": false
    }
   },
   "source": [
    "[Back to top](#-Index)\n",
    "\n",
    "### Problem 5\n",
    "\n",
    "#### Cell Phone Churn \n",
    "\n",
    "**10 Points**\n",
    "\n",
    "#### In the example of the cell phone churn data, consider the problem of investing in customer incentives.  Here, you'd prefer to target customers who will likely churn.  \n",
    "\n",
    "#### To begin, use the given training data -- `churn_x_train`, `churn_y_train` -- to build a pipeline named `churn_pipe` with named steps `scale` and `knn` that use `StandardScaler` and `KNeighborsClassifier` with `n_neighbors = 10` to scale and estimate the data.  Visualize your predictions using the `DisplayConfusionMatrix.from_preds` function and assign as `churn_confusion_mat`.  "
   ]
  },
  {
   "cell_type": "code",
   "execution_count": 19,
   "metadata": {
    "deletable": false,
    "nbgrader": {
     "cell_type": "code",
     "checksum": "53d98abaaf76d16ed48b77d9008a0b07",
     "grade": false,
     "grade_id": "cell-dadb816b78178057",
     "locked": false,
     "schema_version": 3,
     "solution": true
    },
    "ExecuteTime": {
     "end_time": "2023-12-04T20:15:06.997373400Z",
     "start_time": "2023-12-04T20:15:06.515032300Z"
    }
   },
   "outputs": [
    {
     "data": {
      "text/plain": "<Figure size 1000x1000 with 2 Axes>",
      "image/png": "[encoded data removed]"
     },
     "metadata": {},
     "output_type": "display_data"
    }
   ],
   "source": [
    "### GRADED\n",
    "\n",
    "churn_pipe = ''\n",
    "\n",
    "# YOUR CODE HERE\n",
    "churn_pipe = Pipeline([('scale', StandardScaler()), ('knn', KNeighborsClassifier(n_neighbors=10))])\n",
    "churn_pipe.fit(churn_x_train, churn_y_train)\n",
    "churn_preds = churn_pipe.predict(churn_x_test)\n",
    "churn_confusion_mat = confusion_matrix(churn_y_test, churn_preds, labels=list(churn_pipe.classes_), normalize='true')\n",
    "disp = ConfusionMatrixDisplay(confusion_matrix=churn_confusion_mat, display_labels=['Retain', 'Churn' ])\n",
    "fig, ax = plt.subplots(figsize=(10,10))\n",
    "disp.plot(ax=ax, cmap=plt.cm.Blues)\n",
    "plt.show()\n",
    "\n",
    "# Answer check\n",
    "#print(churn_confusion_mat)"
   ]
  },
  {
   "cell_type": "code",
   "execution_count": 20,
   "outputs": [
    {
     "data": {
      "text/plain": "438     False\n2674    False\n1345     True\n1957    False\n2148    False\n        ...  \n3257    False\n1586    False\n3068    False\n2484    False\n219     False\nName: churn, Length: 834, dtype: bool"
     },
     "execution_count": 20,
     "metadata": {},
     "output_type": "execute_result"
    }
   ],
   "source": [
    "churn_y_test"
   ],
   "metadata": {
    "collapsed": false,
    "ExecuteTime": {
     "end_time": "2023-12-04T20:15:06.998881900Z",
     "start_time": "2023-12-04T20:15:06.679385300Z"
    }
   }
  },
  {
   "cell_type": "markdown",
   "metadata": {
    "deletable": false,
    "editable": false,
    "nbgrader": {
     "cell_type": "markdown",
     "checksum": "e2e76e0eaae907936db1d20d0ef61fa8",
     "grade": false,
     "grade_id": "cell-e6c568b1daf6f51b",
     "locked": true,
     "schema_version": 3,
     "solution": false
    }
   },
   "source": [
    "[Back to top](#-Index)\n",
    "\n",
    "### Problem 6\n",
    "\n",
    "#### Adjusting the Decision Boundary\n",
    "\n",
    "**5 Points**\n",
    "\n",
    "#### Below, create predictions for the positive class that has thresholds of greater than 30% and 80%.  Compare these to your baseline predictions at 50% and identify which one minimizes the number of churns predicted as not churning.  Assign your answer as an integer to `ans6` below -- 30, 50, or 80."
   ]
  },
  {
   "cell_type": "code",
   "execution_count": 21,
   "outputs": [
    {
     "name": "stdout",
     "output_type": "stream",
     "text": [
      "baseline score: 0.8550855085508551\n"
     ]
    },
    {
     "data": {
      "text/plain": "churn\nFalse    0.855086\nTrue     0.144914\nName: proportion, dtype: float64"
     },
     "execution_count": 21,
     "metadata": {},
     "output_type": "execute_result"
    }
   ],
   "source": [
    "# the baseline score for a classification model\n",
    "print(f\"baseline score: { churn['churn'].value_counts(normalize = True)[0] }\")\n",
    "churn['churn'].value_counts(normalize = True)"
   ],
   "metadata": {
    "collapsed": false,
    "ExecuteTime": {
     "end_time": "2023-12-04T20:15:06.998881900Z",
     "start_time": "2023-12-04T20:15:06.687942500Z"
    }
   }
  },
  {
   "cell_type": "code",
   "execution_count": 22,
   "outputs": [
    {
     "data": {
      "text/plain": "<Figure size 640x480 with 1 Axes>",
      "image/png": "[encoded data removed]"
     },
     "metadata": {},
     "output_type": "display_data"
    }
   ],
   "source": [
    "sns.countplot(data=churn, x = 'churn')\n",
    "plt.title('Count of target observations');"
   ],
   "metadata": {
    "collapsed": false,
    "ExecuteTime": {
     "end_time": "2023-12-04T20:15:07.100530800Z",
     "start_time": "2023-12-04T20:15:06.695374Z"
    }
   }
  },
  {
   "cell_type": "code",
   "execution_count": 23,
   "outputs": [
    {
     "data": {
      "text/plain": "   p_no_churn  p_churn\n0         0.9      0.1\n1         0.9      0.1\n2         0.4      0.6\n3         0.9      0.1\n4         1.0      0.0",
      "text/html": "<div>\n<style scoped>\n    .dataframe tbody tr th:only-of-type {\n        vertical-align: middle;\n    }\n\n    .dataframe tbody tr th {\n        vertical-align: top;\n    }\n\n    .dataframe thead th {\n        text-align: right;\n    }\n</style>\n<table border=\"1\" class=\"dataframe\">\n  <thead>\n    <tr style=\"text-align: right;\">\n      <th></th>\n      <th>p_no_churn</th>\n      <th>p_churn</th>\n    </tr>\n  </thead>\n  <tbody>\n    <tr>\n      <th>0</th>\n      <td>0.9</td>\n      <td>0.1</td>\n    </tr>\n    <tr>\n      <th>1</th>\n      <td>0.9</td>\n      <td>0.1</td>\n    </tr>\n    <tr>\n      <th>2</th>\n      <td>0.4</td>\n      <td>0.6</td>\n    </tr>\n    <tr>\n      <th>3</th>\n      <td>0.9</td>\n      <td>0.1</td>\n    </tr>\n    <tr>\n      <th>4</th>\n      <td>1.0</td>\n      <td>0.0</td>\n    </tr>\n  </tbody>\n</table>\n</div>"
     },
     "execution_count": 23,
     "metadata": {},
     "output_type": "execute_result"
    }
   ],
   "source": [
    "low_preds_chr = np.where(churn_pipe.predict_proba(churn_x_test)[:, 1] > .30, False, True)     # 30%\n",
    "high_preds_chr = np.where(churn_pipe.predict_proba(churn_x_test)[:, 1] > .80, False, True)    # 80%\n",
    "mid_preds_chr = [int(x) for x in churn_pipe.predict(churn_x_test)]                            # 50%\n",
    "base_acc = churn_pipe.score(churn_x_test, churn_y_test)                            # baseline at 50%\n",
    "base_fn = 0\n",
    "for i, j in zip(churn_preds, churn_y_test):\n",
    "    if i == 'False':\n",
    "        if j == 'True':\n",
    "            base_fn += 1\n",
    "\n",
    "# Base probabilities at 50%\n",
    "base_probs_chr = churn_pipe.predict_proba(churn_x_test)\n",
    "pd.DataFrame(base_probs_chr[:5], columns = ['p_no_churn', 'p_churn'])"
   ],
   "metadata": {
    "collapsed": false,
    "ExecuteTime": {
     "end_time": "2023-12-04T20:15:07.102556100Z",
     "start_time": "2023-12-04T20:15:06.796746Z"
    }
   }
  },
  {
   "cell_type": "code",
   "execution_count": 24,
   "outputs": [
    {
     "name": "stdout",
     "output_type": "stream",
     "text": [
      "0.8717026378896883\n"
     ]
    },
    {
     "data": {
      "text/plain": "['Low (30%)', 'High (80%)', 'Mid (50%)']"
     },
     "execution_count": 24,
     "metadata": {},
     "output_type": "execute_result"
    }
   ],
   "source": [
    "print(base_acc)\n",
    "df_preds = pd.DataFrame({'Low (30%)':low_preds_chr.tolist(), 'High (80%)':high_preds_chr.tolist(), 'Mid (50%)':mid_preds_chr})\n",
    "df_preds.keys().to_list()"
   ],
   "metadata": {
    "collapsed": false,
    "ExecuteTime": {
     "end_time": "2023-12-04T20:15:07.103553Z",
     "start_time": "2023-12-04T20:15:06.898223200Z"
    }
   }
  },
  {
   "cell_type": "code",
   "execution_count": 25,
   "outputs": [
    {
     "data": {
      "text/plain": "<Figure size 3000x1500 with 4 Axes>",
      "image/png": "[encoded data removed]"
     },
     "metadata": {},
     "output_type": "display_data"
    }
   ],
   "source": [
    "\n",
    "f, axes = plt.subplots(1, 3, figsize=(30, 15), sharey='row')\n",
    "for i, preds1 in enumerate([low_preds_chr, high_preds_chr, np.array(mid_preds_chr) ]):\n",
    "    churn_confusion_mat = confusion_matrix(churn_y_test, preds1, labels=list(churn_pipe.classes_), normalize='true')\n",
    "    disp = ConfusionMatrixDisplay(confusion_matrix=churn_confusion_mat, display_labels=['Retain', 'Churn' ])\n",
    "    disp.plot(ax=axes[i], xticks_rotation=45, cmap=plt.cm.Blues)\n",
    "    disp.ax_.set_title(df_preds.keys().to_list()[i])\n",
    "    disp.im_.colorbar.remove()\n",
    "    disp.ax_.set_xlabel('')\n",
    "    if i!=0:\n",
    "        disp.ax_.set_ylabel('')\n",
    "    \n",
    "f.text(0.4, 0.1, 'Predicted label', ha='left')\n",
    "plt.subplots_adjust(wspace=0.40, hspace=0.1)\n",
    "\n",
    "\n",
    "f.colorbar(disp.im_, ax=axes)\n",
    "plt.show()"
   ],
   "metadata": {
    "collapsed": false,
    "ExecuteTime": {
     "end_time": "2023-12-04T20:15:07.966313Z",
     "start_time": "2023-12-04T20:15:06.908406900Z"
    }
   }
  },
  {
   "cell_type": "code",
   "execution_count": 26,
   "metadata": {
    "deletable": false,
    "nbgrader": {
     "cell_type": "code",
     "checksum": "903cffc7686e200e2ed43f9948296dfc",
     "grade": false,
     "grade_id": "cell-65a847f1884752a8",
     "locked": false,
     "schema_version": 3,
     "solution": true
    },
    "ExecuteTime": {
     "end_time": "2023-12-04T20:15:07.966313Z",
     "start_time": "2023-12-04T20:15:07.398285400Z"
    }
   },
   "outputs": [
    {
     "name": "stdout",
     "output_type": "stream",
     "text": [
      "30\n"
     ]
    }
   ],
   "source": [
    "### GRADED\n",
    "\n",
    "ans6 = ''\n",
    "\n",
    "# YOUR CODE HERE\n",
    "ans6 = 30\n",
    "\n",
    "# Answer check\n",
    "print(ans6)"
   ]
  },
  {
   "cell_type": "code",
   "execution_count": 27,
   "metadata": {
    "deletable": false,
    "editable": false,
    "nbgrader": {
     "cell_type": "code",
     "checksum": "db67b1f64d702a6d3bf58506901ac470",
     "grade": true,
     "grade_id": "cell-5903c53f33debdf0",
     "locked": true,
     "points": 5,
     "schema_version": 3,
     "solution": false
    },
    "ExecuteTime": {
     "end_time": "2023-12-04T20:15:07.974963400Z",
     "start_time": "2023-12-04T20:15:07.402404100Z"
    }
   },
   "outputs": [
    {
     "data": {
      "text/plain": "0.8550855085508551"
     },
     "execution_count": 27,
     "metadata": {},
     "output_type": "execute_result"
    }
   ],
   "source": [
    "churn['churn'].value_counts(normalize = True)[0]"
   ]
  },
  {
   "cell_type": "markdown",
   "metadata": {
    "deletable": false,
    "editable": false,
    "nbgrader": {
     "cell_type": "markdown",
     "checksum": "30d7cb96fef297c6b69ddc553260736c",
     "grade": false,
     "grade_id": "cell-2ca08e4b8a3b8b64",
     "locked": true,
     "schema_version": 3,
     "solution": false
    }
   },
   "source": [
    "#### While remembering the different metrics of precision, recall, and accuracy are important -- in part they depend on what is considered positive or negative.  Using your confusion matrices can help intuit which metric is best for a specific scenario.   "
   ]
  },
  {
   "cell_type": "code",
   "execution_count": 27,
   "metadata": {
    "ExecuteTime": {
     "end_time": "2023-12-04T20:15:07.974963400Z",
     "start_time": "2023-12-04T20:15:07.406450500Z"
    }
   },
   "outputs": [],
   "source": []
  },
  {
   "cell_type": "code",
   "execution_count": 27,
   "metadata": {
    "ExecuteTime": {
     "end_time": "2023-12-04T20:15:07.974963400Z",
     "start_time": "2023-12-04T20:15:07.409177Z"
    }
   },
   "outputs": [],
   "source": []
  }
 ],
 "metadata": {
  "kernelspec": {
   "display_name": "Python 3 (ipykernel)",
   "language": "python",
   "name": "python3"
  },
  "language_info": {
   "codemirror_mode": {
    "name": "ipython",
    "version": 3
   },
   "file_extension": ".py",
   "mimetype": "text/x-python",
   "name": "python",
   "nbconvert_exporter": "python",
   "pygments_lexer": "ipython3",
   "version": "3.9.11"
  },
  "widgets": {
   "application/vnd.jupyter.widget-state+json": {
    "state": {},
    "version_major": 2,
    "version_minor": 0
   }
  }
 },
 "nbformat": 4,
 "nbformat_minor": 4
}
