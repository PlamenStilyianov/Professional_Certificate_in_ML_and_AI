{
 "nbformat": 4,
 "nbformat_minor": 0,
 "metadata": {
  "colab": {
   "provenance": []
  },
  "kernelspec": {
   "name": "python3",
   "language": "python",
   "display_name": "Python 3 (ipykernel)"
  },
  "language_info": {
   "name": "python"
  }
 },
 "cells": [
  {
   "cell_type": "markdown",
   "source": [
    "# Import libraries"
   ],
   "metadata": {
    "id": "3RqWP521Fuog"
   }
  },
  {
   "cell_type": "code",
   "source": [
    "import numpy as np\n",
    "import pandas as pd\n",
    "import matplotlib.pyplot as plt\n",
    "import plotly.graph_objs as go\n",
    "\n",
    "from sklearn import datasets\n",
    "from sklearn.model_selection import train_test_split, cross_val_score\n",
    "from sklearn.preprocessing import StandardScaler\n",
    "from sklearn.neighbors import KNeighborsClassifier\n",
    "from sklearn.metrics import confusion_matrix, classification_report\n",
    "from sklearn.metrics import roc_auc_score, roc_curve, auc\n",
    "from sklearn.metrics import ConfusionMatrixDisplay, RocCurveDisplay\n",
    "\n",
    "\n",
    "import warnings\n",
    "\n",
    "warnings.filterwarnings(\"ignore\")"
   ],
   "metadata": {
    "id": "z14lmVmZF5gl",
    "ExecuteTime": {
     "end_time": "2023-11-30T18:24:03.758031700Z",
     "start_time": "2023-11-30T18:24:03.596161400Z"
    }
   },
   "execution_count": 134,
   "outputs": []
  },
  {
   "cell_type": "markdown",
   "source": [
    "# Load data"
   ],
   "metadata": {
    "id": "onKMXFvcF57Z"
   }
  },
  {
   "cell_type": "code",
   "source": [
    "iris = datasets.load_iris()"
   ],
   "metadata": {
    "id": "_Qk0oUkdF67v",
    "ExecuteTime": {
     "end_time": "2023-11-30T18:24:03.939292600Z",
     "start_time": "2023-11-30T18:24:03.604135100Z"
    }
   },
   "execution_count": 135,
   "outputs": []
  },
  {
   "cell_type": "code",
   "source": [
    "iris.keys()"
   ],
   "metadata": {
    "colab": {
     "base_uri": "https://localhost:8080/"
    },
    "id": "-K08BpktF-HX",
    "outputId": "0dd6f656-99ab-4223-c813-795cf79f6191",
    "ExecuteTime": {
     "end_time": "2023-11-30T18:24:04.035719Z",
     "start_time": "2023-11-30T18:24:03.619084700Z"
    }
   },
   "execution_count": 136,
   "outputs": [
    {
     "data": {
      "text/plain": "dict_keys(['data', 'target', 'frame', 'target_names', 'DESCR', 'feature_names', 'filename', 'data_module'])"
     },
     "execution_count": 136,
     "metadata": {},
     "output_type": "execute_result"
    }
   ]
  },
  {
   "cell_type": "code",
   "source": [
    "target_labels = iris.target_names\n",
    "target_labels"
   ],
   "metadata": {
    "colab": {
     "base_uri": "https://localhost:8080/"
    },
    "id": "URJuOQwaF-lD",
    "outputId": "7612cb2f-eeee-49f3-dd01-81f82d06f210",
    "ExecuteTime": {
     "end_time": "2023-11-30T18:24:04.189832700Z",
     "start_time": "2023-11-30T18:24:03.636679600Z"
    }
   },
   "execution_count": 137,
   "outputs": [
    {
     "data": {
      "text/plain": "array(['setosa', 'versicolor', 'virginica'], dtype='<U10')"
     },
     "execution_count": 137,
     "metadata": {},
     "output_type": "execute_result"
    }
   ]
  },
  {
   "cell_type": "code",
   "source": [
    "target_labels_dic = {\n",
    "    0: 'setosa',\n",
    "    1: 'versicolor',\n",
    "    2: 'virginica'\n",
    "}"
   ],
   "metadata": {
    "id": "Hn6aZTSsd7O_",
    "ExecuteTime": {
     "end_time": "2023-11-30T18:24:04.235143Z",
     "start_time": "2023-11-30T18:24:03.651632100Z"
    }
   },
   "execution_count": 138,
   "outputs": []
  },
  {
   "cell_type": "code",
   "source": [
    "X = pd.DataFrame(iris.data)\n",
    "X.columns = iris.feature_names\n",
    "X = X[X.columns[2:]]\n",
    "X.head()"
   ],
   "metadata": {
    "colab": {
     "base_uri": "https://localhost:8080/",
     "height": 206
    },
    "id": "HnzMyYBuGAAd",
    "outputId": "086f0536-e4dc-4c2c-83e7-9a3799d37348",
    "ExecuteTime": {
     "end_time": "2023-11-30T18:24:04.238133400Z",
     "start_time": "2023-11-30T18:24:03.666712400Z"
    }
   },
   "execution_count": 139,
   "outputs": [
    {
     "data": {
      "text/plain": "   petal length (cm)  petal width (cm)\n0                1.4               0.2\n1                1.4               0.2\n2                1.3               0.2\n3                1.5               0.2\n4                1.4               0.2",
      "text/html": "<div>\n<style scoped>\n    .dataframe tbody tr th:only-of-type {\n        vertical-align: middle;\n    }\n\n    .dataframe tbody tr th {\n        vertical-align: top;\n    }\n\n    .dataframe thead th {\n        text-align: right;\n    }\n</style>\n<table border=\"1\" class=\"dataframe\">\n  <thead>\n    <tr style=\"text-align: right;\">\n      <th></th>\n      <th>petal length (cm)</th>\n      <th>petal width (cm)</th>\n    </tr>\n  </thead>\n  <tbody>\n    <tr>\n      <th>0</th>\n      <td>1.4</td>\n      <td>0.2</td>\n    </tr>\n    <tr>\n      <th>1</th>\n      <td>1.4</td>\n      <td>0.2</td>\n    </tr>\n    <tr>\n      <th>2</th>\n      <td>1.3</td>\n      <td>0.2</td>\n    </tr>\n    <tr>\n      <th>3</th>\n      <td>1.5</td>\n      <td>0.2</td>\n    </tr>\n    <tr>\n      <th>4</th>\n      <td>1.4</td>\n      <td>0.2</td>\n    </tr>\n  </tbody>\n</table>\n</div>"
     },
     "execution_count": 139,
     "metadata": {},
     "output_type": "execute_result"
    }
   ]
  },
  {
   "cell_type": "code",
   "source": [
    "y = pd.DataFrame(iris.target)\n",
    "y.columns = ['target']\n",
    "y.head()"
   ],
   "metadata": {
    "colab": {
     "base_uri": "https://localhost:8080/",
     "height": 206
    },
    "id": "4HonEwY8GBE8",
    "outputId": "a041dd46-31f1-4ebe-eeb3-2cf8c7d6a52f",
    "ExecuteTime": {
     "end_time": "2023-11-30T18:24:04.239129800Z",
     "start_time": "2023-11-30T18:24:03.682015900Z"
    }
   },
   "execution_count": 140,
   "outputs": [
    {
     "data": {
      "text/plain": "   target\n0       0\n1       0\n2       0\n3       0\n4       0",
      "text/html": "<div>\n<style scoped>\n    .dataframe tbody tr th:only-of-type {\n        vertical-align: middle;\n    }\n\n    .dataframe tbody tr th {\n        vertical-align: top;\n    }\n\n    .dataframe thead th {\n        text-align: right;\n    }\n</style>\n<table border=\"1\" class=\"dataframe\">\n  <thead>\n    <tr style=\"text-align: right;\">\n      <th></th>\n      <th>target</th>\n    </tr>\n  </thead>\n  <tbody>\n    <tr>\n      <th>0</th>\n      <td>0</td>\n    </tr>\n    <tr>\n      <th>1</th>\n      <td>0</td>\n    </tr>\n    <tr>\n      <th>2</th>\n      <td>0</td>\n    </tr>\n    <tr>\n      <th>3</th>\n      <td>0</td>\n    </tr>\n    <tr>\n      <th>4</th>\n      <td>0</td>\n    </tr>\n  </tbody>\n</table>\n</div>"
     },
     "execution_count": 140,
     "metadata": {},
     "output_type": "execute_result"
    }
   ]
  },
  {
   "cell_type": "code",
   "source": [
    "# I'll make it a binary classification problem so I can use ROC-AUC\n",
    "y = y[y.target!=0]\n",
    "X = X[X.index.isin(y.index)]\n",
    "target_labels = iris.target_names[1:]\n",
    "target_labels"
   ],
   "metadata": {
    "colab": {
     "base_uri": "https://localhost:8080/"
    },
    "id": "T3tI8tyYcTJA",
    "outputId": "67cb681b-ab5c-4dbc-a5a5-32d8b062e94f",
    "ExecuteTime": {
     "end_time": "2023-11-30T18:24:04.239129800Z",
     "start_time": "2023-11-30T18:24:03.697828600Z"
    }
   },
   "execution_count": 141,
   "outputs": [
    {
     "data": {
      "text/plain": "array(['versicolor', 'virginica'], dtype='<U10')"
     },
     "execution_count": 141,
     "metadata": {},
     "output_type": "execute_result"
    }
   ]
  },
  {
   "cell_type": "markdown",
   "source": [
    "# EDA"
   ],
   "metadata": {
    "id": "BS-Y8pO4GCVK"
   }
  },
  {
   "cell_type": "code",
   "source": [
    "X.info()"
   ],
   "metadata": {
    "colab": {
     "base_uri": "https://localhost:8080/"
    },
    "id": "EOI3nmBiGDqk",
    "outputId": "daf3082c-ac33-40cb-f774-4d605b912d90",
    "ExecuteTime": {
     "end_time": "2023-11-30T18:24:04.239129800Z",
     "start_time": "2023-11-30T18:24:03.712809100Z"
    }
   },
   "execution_count": 142,
   "outputs": [
    {
     "name": "stdout",
     "output_type": "stream",
     "text": [
      "<class 'pandas.core.frame.DataFrame'>\n",
      "Int64Index: 100 entries, 50 to 149\n",
      "Data columns (total 2 columns):\n",
      " #   Column             Non-Null Count  Dtype  \n",
      "---  ------             --------------  -----  \n",
      " 0   petal length (cm)  100 non-null    float64\n",
      " 1   petal width (cm)   100 non-null    float64\n",
      "dtypes: float64(2)\n",
      "memory usage: 2.3 KB\n"
     ]
    }
   ]
  },
  {
   "cell_type": "code",
   "source": [
    "X.describe()"
   ],
   "metadata": {
    "colab": {
     "base_uri": "https://localhost:8080/",
     "height": 300
    },
    "id": "oMYBB1hLGEl8",
    "outputId": "8f08a8b4-ab4c-4730-9d66-ebefa47088ca",
    "ExecuteTime": {
     "end_time": "2023-11-30T18:24:04.240126300Z",
     "start_time": "2023-11-30T18:24:03.729354900Z"
    }
   },
   "execution_count": 143,
   "outputs": [
    {
     "data": {
      "text/plain": "       petal length (cm)  petal width (cm)\ncount         100.000000        100.000000\nmean            4.906000          1.676000\nstd             0.825578          0.424769\nmin             3.000000          1.000000\n25%             4.375000          1.300000\n50%             4.900000          1.600000\n75%             5.525000          2.000000\nmax             6.900000          2.500000",
      "text/html": "<div>\n<style scoped>\n    .dataframe tbody tr th:only-of-type {\n        vertical-align: middle;\n    }\n\n    .dataframe tbody tr th {\n        vertical-align: top;\n    }\n\n    .dataframe thead th {\n        text-align: right;\n    }\n</style>\n<table border=\"1\" class=\"dataframe\">\n  <thead>\n    <tr style=\"text-align: right;\">\n      <th></th>\n      <th>petal length (cm)</th>\n      <th>petal width (cm)</th>\n    </tr>\n  </thead>\n  <tbody>\n    <tr>\n      <th>count</th>\n      <td>100.000000</td>\n      <td>100.000000</td>\n    </tr>\n    <tr>\n      <th>mean</th>\n      <td>4.906000</td>\n      <td>1.676000</td>\n    </tr>\n    <tr>\n      <th>std</th>\n      <td>0.825578</td>\n      <td>0.424769</td>\n    </tr>\n    <tr>\n      <th>min</th>\n      <td>3.000000</td>\n      <td>1.000000</td>\n    </tr>\n    <tr>\n      <th>25%</th>\n      <td>4.375000</td>\n      <td>1.300000</td>\n    </tr>\n    <tr>\n      <th>50%</th>\n      <td>4.900000</td>\n      <td>1.600000</td>\n    </tr>\n    <tr>\n      <th>75%</th>\n      <td>5.525000</td>\n      <td>2.000000</td>\n    </tr>\n    <tr>\n      <th>max</th>\n      <td>6.900000</td>\n      <td>2.500000</td>\n    </tr>\n  </tbody>\n</table>\n</div>"
     },
     "execution_count": 143,
     "metadata": {},
     "output_type": "execute_result"
    }
   ]
  },
  {
   "cell_type": "code",
   "source": [
    "X.isna().sum()"
   ],
   "metadata": {
    "colab": {
     "base_uri": "https://localhost:8080/"
    },
    "id": "gGEY8Pc3GFVn",
    "outputId": "c9c8f0db-2c2d-4d25-d36f-68e551346841",
    "ExecuteTime": {
     "end_time": "2023-11-30T18:24:04.240126300Z",
     "start_time": "2023-11-30T18:24:03.747508100Z"
    }
   },
   "execution_count": 144,
   "outputs": [
    {
     "data": {
      "text/plain": "petal length (cm)    0\npetal width (cm)     0\ndtype: int64"
     },
     "execution_count": 144,
     "metadata": {},
     "output_type": "execute_result"
    }
   ]
  },
  {
   "cell_type": "code",
   "source": [
    "X.corr()"
   ],
   "metadata": {
    "colab": {
     "base_uri": "https://localhost:8080/",
     "height": 112
    },
    "id": "S67UvAlHGGNE",
    "outputId": "70b778cd-1cff-44d8-ea83-865209b9af66",
    "ExecuteTime": {
     "end_time": "2023-11-30T18:24:04.242119600Z",
     "start_time": "2023-11-30T18:24:03.762576500Z"
    }
   },
   "execution_count": 145,
   "outputs": [
    {
     "data": {
      "text/plain": "                   petal length (cm)  petal width (cm)\npetal length (cm)           1.000000          0.823348\npetal width (cm)            0.823348          1.000000",
      "text/html": "<div>\n<style scoped>\n    .dataframe tbody tr th:only-of-type {\n        vertical-align: middle;\n    }\n\n    .dataframe tbody tr th {\n        vertical-align: top;\n    }\n\n    .dataframe thead th {\n        text-align: right;\n    }\n</style>\n<table border=\"1\" class=\"dataframe\">\n  <thead>\n    <tr style=\"text-align: right;\">\n      <th></th>\n      <th>petal length (cm)</th>\n      <th>petal width (cm)</th>\n    </tr>\n  </thead>\n  <tbody>\n    <tr>\n      <th>petal length (cm)</th>\n      <td>1.000000</td>\n      <td>0.823348</td>\n    </tr>\n    <tr>\n      <th>petal width (cm)</th>\n      <td>0.823348</td>\n      <td>1.000000</td>\n    </tr>\n  </tbody>\n</table>\n</div>"
     },
     "execution_count": 145,
     "metadata": {},
     "output_type": "execute_result"
    }
   ]
  },
  {
   "cell_type": "code",
   "source": [
    "y.value_counts()"
   ],
   "metadata": {
    "colab": {
     "base_uri": "https://localhost:8080/"
    },
    "id": "miccVMHdGHRj",
    "outputId": "f556fb72-b30f-4250-f398-be8bd5cf92f0",
    "ExecuteTime": {
     "end_time": "2023-11-30T18:24:04.242119600Z",
     "start_time": "2023-11-30T18:24:03.779546100Z"
    }
   },
   "execution_count": 146,
   "outputs": [
    {
     "data": {
      "text/plain": "target\n1         50\n2         50\ndtype: int64"
     },
     "execution_count": 146,
     "metadata": {},
     "output_type": "execute_result"
    }
   ]
  },
  {
   "cell_type": "markdown",
   "source": [
    "# Split dataset into train/test\n",
    "\n",
    "## **ALWAYS** before feature engineering and modeling\n",
    "\n",
    "The primary reason for performing a train/test split before feature engineering and modeling is to prevent data leakage and to ensure that the evaluation of your model is accurate and indicative of its performance on unseen data.\n",
    "\n",
    "- Prevention of Data Leakage\n",
    "- Accurate Evaluation\n",
    "- Ethical Modeling Practices"
   ],
   "metadata": {
    "id": "S8SX4p4NGNol"
   }
  },
  {
   "cell_type": "code",
   "source": [
    "X_train, X_test, y_train, y_test = train_test_split(X, y, test_size=0.2, random_state=42)"
   ],
   "metadata": {
    "id": "OT7kS2FhGckk",
    "ExecuteTime": {
     "end_time": "2023-11-30T18:24:04.242119600Z",
     "start_time": "2023-11-30T18:24:03.792906100Z"
    }
   },
   "execution_count": 147,
   "outputs": []
  },
  {
   "cell_type": "markdown",
   "source": [
    "# Feature Engineering\n",
    "\n",
    "### Feature scaling\n",
    "\n",
    "- For distance-based algortihms like KNN it's important to scale features because otherwise the calculation will be dominated by features with larger scales.\n",
    "  - For instance, consider a dataset with two features: one feature ranges between 0 and 1, and another ranges between 0 and 1000. The larger feature would disproportionately influence the distance calculation, potentially leading to incorrect classifications or predictions.\n",
    "- It's crucial to **fit the scaler on your training data** and not the entire dataset. This is to avoid data leakage.\n",
    "- If you were to fit the scaler on the entire dataset, it would calculate scaling parameters (like the mean and standard deviation for standardization) that reflect the distribution of the entire dataset, test set included.\n",
    "- Once the scaler is **fitted on the training set**, it can then be used to **transform the training set, as well as the validation and test sets**. This means the test data is scaled according to the statistics of the training data, which mirrors the real-life scenario where we apply the model to unseen data.\n",
    "\n"
   ],
   "metadata": {
    "id": "OKsrIIUpGeVm"
   }
  },
  {
   "cell_type": "code",
   "source": [
    "scaler = StandardScaler()"
   ],
   "metadata": {
    "id": "9TfsvvnaIqRS",
    "ExecuteTime": {
     "end_time": "2023-11-30T18:24:04.242119600Z",
     "start_time": "2023-11-30T18:24:03.809554Z"
    }
   },
   "execution_count": 148,
   "outputs": []
  },
  {
   "cell_type": "code",
   "source": [
    "scaler.fit(X_train)"
   ],
   "metadata": {
    "colab": {
     "base_uri": "https://localhost:8080/",
     "height": 74
    },
    "id": "wvfZmwhoIsul",
    "outputId": "8aa0d284-7fdb-46f3-c344-e2bdecacf9ef",
    "ExecuteTime": {
     "end_time": "2023-11-30T18:24:04.243117800Z",
     "start_time": "2023-11-30T18:24:03.824332Z"
    }
   },
   "execution_count": 149,
   "outputs": [
    {
     "data": {
      "text/plain": "StandardScaler()",
      "text/html": "<style>#sk-container-id-7 {color: black;}#sk-container-id-7 pre{padding: 0;}#sk-container-id-7 div.sk-toggleable {background-color: white;}#sk-container-id-7 label.sk-toggleable__label {cursor: pointer;display: block;width: 100%;margin-bottom: 0;padding: 0.3em;box-sizing: border-box;text-align: center;}#sk-container-id-7 label.sk-toggleable__label-arrow:before {content: \"▸\";float: left;margin-right: 0.25em;color: #696969;}#sk-container-id-7 label.sk-toggleable__label-arrow:hover:before {color: black;}#sk-container-id-7 div.sk-estimator:hover label.sk-toggleable__label-arrow:before {color: black;}#sk-container-id-7 div.sk-toggleable__content {max-height: 0;max-width: 0;overflow: hidden;text-align: left;background-color: #f0f8ff;}#sk-container-id-7 div.sk-toggleable__content pre {margin: 0.2em;color: black;border-radius: 0.25em;background-color: #f0f8ff;}#sk-container-id-7 input.sk-toggleable__control:checked~div.sk-toggleable__content {max-height: 200px;max-width: 100%;overflow: auto;}#sk-container-id-7 input.sk-toggleable__control:checked~label.sk-toggleable__label-arrow:before {content: \"▾\";}#sk-container-id-7 div.sk-estimator input.sk-toggleable__control:checked~label.sk-toggleable__label {background-color: #d4ebff;}#sk-container-id-7 div.sk-label input.sk-toggleable__control:checked~label.sk-toggleable__label {background-color: #d4ebff;}#sk-container-id-7 input.sk-hidden--visually {border: 0;clip: rect(1px 1px 1px 1px);clip: rect(1px, 1px, 1px, 1px);height: 1px;margin: -1px;overflow: hidden;padding: 0;position: absolute;width: 1px;}#sk-container-id-7 div.sk-estimator {font-family: monospace;background-color: #f0f8ff;border: 1px dotted black;border-radius: 0.25em;box-sizing: border-box;margin-bottom: 0.5em;}#sk-container-id-7 div.sk-estimator:hover {background-color: #d4ebff;}#sk-container-id-7 div.sk-parallel-item::after {content: \"\";width: 100%;border-bottom: 1px solid gray;flex-grow: 1;}#sk-container-id-7 div.sk-label:hover label.sk-toggleable__label {background-color: #d4ebff;}#sk-container-id-7 div.sk-serial::before {content: \"\";position: absolute;border-left: 1px solid gray;box-sizing: border-box;top: 0;bottom: 0;left: 50%;z-index: 0;}#sk-container-id-7 div.sk-serial {display: flex;flex-direction: column;align-items: center;background-color: white;padding-right: 0.2em;padding-left: 0.2em;position: relative;}#sk-container-id-7 div.sk-item {position: relative;z-index: 1;}#sk-container-id-7 div.sk-parallel {display: flex;align-items: stretch;justify-content: center;background-color: white;position: relative;}#sk-container-id-7 div.sk-item::before, #sk-container-id-7 div.sk-parallel-item::before {content: \"\";position: absolute;border-left: 1px solid gray;box-sizing: border-box;top: 0;bottom: 0;left: 50%;z-index: -1;}#sk-container-id-7 div.sk-parallel-item {display: flex;flex-direction: column;z-index: 1;position: relative;background-color: white;}#sk-container-id-7 div.sk-parallel-item:first-child::after {align-self: flex-end;width: 50%;}#sk-container-id-7 div.sk-parallel-item:last-child::after {align-self: flex-start;width: 50%;}#sk-container-id-7 div.sk-parallel-item:only-child::after {width: 0;}#sk-container-id-7 div.sk-dashed-wrapped {border: 1px dashed gray;margin: 0 0.4em 0.5em 0.4em;box-sizing: border-box;padding-bottom: 0.4em;background-color: white;}#sk-container-id-7 div.sk-label label {font-family: monospace;font-weight: bold;display: inline-block;line-height: 1.2em;}#sk-container-id-7 div.sk-label-container {text-align: center;}#sk-container-id-7 div.sk-container {/* jupyter's `normalize.less` sets `[hidden] { display: none; }` but bootstrap.min.css set `[hidden] { display: none !important; }` so we also need the `!important` here to be able to override the default hidden behavior on the sphinx rendered scikit-learn.org. See: https://github.com/scikit-learn/scikit-learn/issues/21755 */display: inline-block !important;position: relative;}#sk-container-id-7 div.sk-text-repr-fallback {display: none;}</style><div id=\"sk-container-id-7\" class=\"sk-top-container\"><div class=\"sk-text-repr-fallback\"><pre>StandardScaler()</pre><b>In a Jupyter environment, please rerun this cell to show the HTML representation or trust the notebook. <br />On GitHub, the HTML representation is unable to render, please try loading this page with nbviewer.org.</b></div><div class=\"sk-container\" hidden><div class=\"sk-item\"><div class=\"sk-estimator sk-toggleable\"><input class=\"sk-toggleable__control sk-hidden--visually\" id=\"sk-estimator-id-7\" type=\"checkbox\" checked><label for=\"sk-estimator-id-7\" class=\"sk-toggleable__label sk-toggleable__label-arrow\">StandardScaler</label><div class=\"sk-toggleable__content\"><pre>StandardScaler()</pre></div></div></div></div></div>"
     },
     "execution_count": 149,
     "metadata": {},
     "output_type": "execute_result"
    }
   ]
  },
  {
   "cell_type": "code",
   "source": [
    "scaler.mean_"
   ],
   "metadata": {
    "colab": {
     "base_uri": "https://localhost:8080/"
    },
    "id": "9EDCEbgWIuaI",
    "outputId": "29c9907c-b41f-4dcc-9e79-cbcfc9b3397d",
    "ExecuteTime": {
     "end_time": "2023-11-30T18:24:04.253083100Z",
     "start_time": "2023-11-30T18:24:03.839875800Z"
    }
   },
   "execution_count": 150,
   "outputs": [
    {
     "data": {
      "text/plain": "array([4.95875, 1.71125])"
     },
     "execution_count": 150,
     "metadata": {},
     "output_type": "execute_result"
    }
   ]
  },
  {
   "cell_type": "code",
   "source": [
    "scaler.var_"
   ],
   "metadata": {
    "colab": {
     "base_uri": "https://localhost:8080/"
    },
    "id": "ITpl6k6DIvSo",
    "outputId": "dca1c228-6ec6-4224-9c61-a5bb00c7da9b",
    "ExecuteTime": {
     "end_time": "2023-11-30T18:24:04.253083100Z",
     "start_time": "2023-11-30T18:24:03.855059900Z"
    }
   },
   "execution_count": 151,
   "outputs": [
    {
     "data": {
      "text/plain": "array([0.70692344, 0.17899844])"
     },
     "execution_count": 151,
     "metadata": {},
     "output_type": "execute_result"
    }
   ]
  },
  {
   "cell_type": "code",
   "source": [
    "scaler.get_feature_names_out()"
   ],
   "metadata": {
    "colab": {
     "base_uri": "https://localhost:8080/"
    },
    "id": "m_tRPSkWIvyZ",
    "outputId": "dba727b8-b49e-4ecb-8558-b07fd342b01b",
    "ExecuteTime": {
     "end_time": "2023-11-30T18:24:04.253083100Z",
     "start_time": "2023-11-30T18:24:03.872773600Z"
    }
   },
   "execution_count": 152,
   "outputs": [
    {
     "data": {
      "text/plain": "array(['petal length (cm)', 'petal width (cm)'], dtype=object)"
     },
     "execution_count": 152,
     "metadata": {},
     "output_type": "execute_result"
    }
   ]
  },
  {
   "cell_type": "code",
   "source": [
    "X_train = pd.DataFrame(scaler.transform(X_train))\n",
    "X_train"
   ],
   "metadata": {
    "colab": {
     "base_uri": "https://localhost:8080/",
     "height": 423
    },
    "id": "AZ5QMt1IIy5o",
    "outputId": "f1aadf04-a04b-45f2-92e7-0cf84be5fbab",
    "ExecuteTime": {
     "end_time": "2023-11-30T18:24:04.254079500Z",
     "start_time": "2023-11-30T18:24:03.886989400Z"
    }
   },
   "execution_count": 153,
   "outputs": [
    {
     "data": {
      "text/plain": "           0         1\n0   1.952039  0.918852\n1  -0.188811  0.209770\n2  -0.188811 -0.735673\n3  -1.140300 -1.208394\n4   0.049061 -0.499312\n..       ...       ...\n75  0.167997  0.682492\n76 -0.069875  0.682492\n77 -1.616045 -0.972034\n78  0.167997  0.446131\n79  0.167997  0.446131\n\n[80 rows x 2 columns]",
      "text/html": "<div>\n<style scoped>\n    .dataframe tbody tr th:only-of-type {\n        vertical-align: middle;\n    }\n\n    .dataframe tbody tr th {\n        vertical-align: top;\n    }\n\n    .dataframe thead th {\n        text-align: right;\n    }\n</style>\n<table border=\"1\" class=\"dataframe\">\n  <thead>\n    <tr style=\"text-align: right;\">\n      <th></th>\n      <th>0</th>\n      <th>1</th>\n    </tr>\n  </thead>\n  <tbody>\n    <tr>\n      <th>0</th>\n      <td>1.952039</td>\n      <td>0.918852</td>\n    </tr>\n    <tr>\n      <th>1</th>\n      <td>-0.188811</td>\n      <td>0.209770</td>\n    </tr>\n    <tr>\n      <th>2</th>\n      <td>-0.188811</td>\n      <td>-0.735673</td>\n    </tr>\n    <tr>\n      <th>3</th>\n      <td>-1.140300</td>\n      <td>-1.208394</td>\n    </tr>\n    <tr>\n      <th>4</th>\n      <td>0.049061</td>\n      <td>-0.499312</td>\n    </tr>\n    <tr>\n      <th>...</th>\n      <td>...</td>\n      <td>...</td>\n    </tr>\n    <tr>\n      <th>75</th>\n      <td>0.167997</td>\n      <td>0.682492</td>\n    </tr>\n    <tr>\n      <th>76</th>\n      <td>-0.069875</td>\n      <td>0.682492</td>\n    </tr>\n    <tr>\n      <th>77</th>\n      <td>-1.616045</td>\n      <td>-0.972034</td>\n    </tr>\n    <tr>\n      <th>78</th>\n      <td>0.167997</td>\n      <td>0.446131</td>\n    </tr>\n    <tr>\n      <th>79</th>\n      <td>0.167997</td>\n      <td>0.446131</td>\n    </tr>\n  </tbody>\n</table>\n<p>80 rows × 2 columns</p>\n</div>"
     },
     "execution_count": 153,
     "metadata": {},
     "output_type": "execute_result"
    }
   ]
  },
  {
   "cell_type": "markdown",
   "source": [
    "# Modeling"
   ],
   "metadata": {
    "id": "_Az6ghscI2Mh"
   }
  },
  {
   "cell_type": "markdown",
   "source": [
    "### Selecting the best $k$, number of neighbors"
   ],
   "metadata": {
    "id": "0IApsbJSMiSI"
   }
  },
  {
   "cell_type": "code",
   "source": [
    "# Trying different values for n_neighbors\n",
    "neighbors = range(1, 21)\n",
    "cv_scores = []"
   ],
   "metadata": {
    "id": "350OT2cbKBMz",
    "ExecuteTime": {
     "end_time": "2023-11-30T18:24:04.254079500Z",
     "start_time": "2023-11-30T18:24:03.903402200Z"
    }
   },
   "execution_count": 154,
   "outputs": []
  },
  {
   "cell_type": "code",
   "source": [
    "for k in neighbors:\n",
    "    print(f\"Calculating for k={k}\")\n",
    "    knn = KNeighborsClassifier(n_neighbors=k)\n",
    "    scores = cross_val_score(knn, X_train, y_train.values.ravel(), cv=5, scoring='accuracy')\n",
    "    cv_scores.append(scores.mean())"
   ],
   "metadata": {
    "colab": {
     "base_uri": "https://localhost:8080/"
    },
    "id": "Y1rcuV_rKBrz",
    "outputId": "8012a35b-de25-4f18-d18d-4b758f1566ea",
    "ExecuteTime": {
     "end_time": "2023-11-30T18:24:04.378576500Z",
     "start_time": "2023-11-30T18:24:03.918751800Z"
    }
   },
   "execution_count": 155,
   "outputs": [
    {
     "name": "stdout",
     "output_type": "stream",
     "text": [
      "Calculating for k=1\n",
      "Calculating for k=2\n",
      "Calculating for k=3\n",
      "Calculating for k=4\n",
      "Calculating for k=5\n",
      "Calculating for k=6\n",
      "Calculating for k=7\n",
      "Calculating for k=8\n",
      "Calculating for k=9\n",
      "Calculating for k=10\n",
      "Calculating for k=11\n",
      "Calculating for k=12\n",
      "Calculating for k=13\n",
      "Calculating for k=14\n",
      "Calculating for k=15\n",
      "Calculating for k=16\n",
      "Calculating for k=17\n",
      "Calculating for k=18\n",
      "Calculating for k=19\n",
      "Calculating for k=20\n"
     ]
    }
   ]
  },
  {
   "cell_type": "code",
   "source": [
    "# Plotting the results\n",
    "plt.figure(figsize=(12, 6))\n",
    "plt.plot(neighbors, cv_scores, marker='o')\n",
    "plt.xlabel('Number of Neighbors (k)')\n",
    "plt.ylabel('Cross-Validated Accuracy')\n",
    "plt.title('KNN Varying number of neighbors')\n",
    "plt.xticks(range(1, 21))\n",
    "plt.grid()\n",
    "plt.show()"
   ],
   "metadata": {
    "colab": {
     "base_uri": "https://localhost:8080/",
     "height": 564
    },
    "id": "7q0Gf77nKEgy",
    "outputId": "764630a5-39bd-4918-e0ba-f4525ad187e9",
    "ExecuteTime": {
     "end_time": "2023-11-30T18:24:04.650221200Z",
     "start_time": "2023-11-30T18:24:04.197854100Z"
    }
   },
   "execution_count": 156,
   "outputs": [
    {
     "data": {
      "text/plain": "<Figure size 1200x600 with 1 Axes>",
      "image/png": "[encoded data removed]"
     },
     "metadata": {},
     "output_type": "display_data"
    }
   ]
  },
  {
   "cell_type": "markdown",
   "source": [
    "### Now we retrain the model on the entire training set for $k=5$"
   ],
   "metadata": {
    "id": "8lqCE9JLMndH"
   }
  },
  {
   "cell_type": "code",
   "source": [
    "# Initialize the KNN model with k=5\n",
    "knn_optimal = KNeighborsClassifier(n_neighbors=5)"
   ],
   "metadata": {
    "id": "e3Rm51tiMs51",
    "ExecuteTime": {
     "end_time": "2023-11-30T18:24:04.650221200Z",
     "start_time": "2023-11-30T18:24:04.397202200Z"
    }
   },
   "execution_count": 157,
   "outputs": []
  },
  {
   "cell_type": "code",
   "source": [
    "# Retrain the model on the entire training dataset\n",
    "knn_optimal.fit(X_train, y_train.values.ravel())"
   ],
   "metadata": {
    "colab": {
     "base_uri": "https://localhost:8080/",
     "height": 74
    },
    "id": "MHh8NyKPMvUQ",
    "outputId": "d31e518f-766b-4c03-8b33-a89633236365",
    "ExecuteTime": {
     "end_time": "2023-11-30T18:24:04.651298Z",
     "start_time": "2023-11-30T18:24:04.414469700Z"
    }
   },
   "execution_count": 158,
   "outputs": [
    {
     "data": {
      "text/plain": "KNeighborsClassifier()",
      "text/html": "<style>#sk-container-id-8 {color: black;}#sk-container-id-8 pre{padding: 0;}#sk-container-id-8 div.sk-toggleable {background-color: white;}#sk-container-id-8 label.sk-toggleable__label {cursor: pointer;display: block;width: 100%;margin-bottom: 0;padding: 0.3em;box-sizing: border-box;text-align: center;}#sk-container-id-8 label.sk-toggleable__label-arrow:before {content: \"▸\";float: left;margin-right: 0.25em;color: #696969;}#sk-container-id-8 label.sk-toggleable__label-arrow:hover:before {color: black;}#sk-container-id-8 div.sk-estimator:hover label.sk-toggleable__label-arrow:before {color: black;}#sk-container-id-8 div.sk-toggleable__content {max-height: 0;max-width: 0;overflow: hidden;text-align: left;background-color: #f0f8ff;}#sk-container-id-8 div.sk-toggleable__content pre {margin: 0.2em;color: black;border-radius: 0.25em;background-color: #f0f8ff;}#sk-container-id-8 input.sk-toggleable__control:checked~div.sk-toggleable__content {max-height: 200px;max-width: 100%;overflow: auto;}#sk-container-id-8 input.sk-toggleable__control:checked~label.sk-toggleable__label-arrow:before {content: \"▾\";}#sk-container-id-8 div.sk-estimator input.sk-toggleable__control:checked~label.sk-toggleable__label {background-color: #d4ebff;}#sk-container-id-8 div.sk-label input.sk-toggleable__control:checked~label.sk-toggleable__label {background-color: #d4ebff;}#sk-container-id-8 input.sk-hidden--visually {border: 0;clip: rect(1px 1px 1px 1px);clip: rect(1px, 1px, 1px, 1px);height: 1px;margin: -1px;overflow: hidden;padding: 0;position: absolute;width: 1px;}#sk-container-id-8 div.sk-estimator {font-family: monospace;background-color: #f0f8ff;border: 1px dotted black;border-radius: 0.25em;box-sizing: border-box;margin-bottom: 0.5em;}#sk-container-id-8 div.sk-estimator:hover {background-color: #d4ebff;}#sk-container-id-8 div.sk-parallel-item::after {content: \"\";width: 100%;border-bottom: 1px solid gray;flex-grow: 1;}#sk-container-id-8 div.sk-label:hover label.sk-toggleable__label {background-color: #d4ebff;}#sk-container-id-8 div.sk-serial::before {content: \"\";position: absolute;border-left: 1px solid gray;box-sizing: border-box;top: 0;bottom: 0;left: 50%;z-index: 0;}#sk-container-id-8 div.sk-serial {display: flex;flex-direction: column;align-items: center;background-color: white;padding-right: 0.2em;padding-left: 0.2em;position: relative;}#sk-container-id-8 div.sk-item {position: relative;z-index: 1;}#sk-container-id-8 div.sk-parallel {display: flex;align-items: stretch;justify-content: center;background-color: white;position: relative;}#sk-container-id-8 div.sk-item::before, #sk-container-id-8 div.sk-parallel-item::before {content: \"\";position: absolute;border-left: 1px solid gray;box-sizing: border-box;top: 0;bottom: 0;left: 50%;z-index: -1;}#sk-container-id-8 div.sk-parallel-item {display: flex;flex-direction: column;z-index: 1;position: relative;background-color: white;}#sk-container-id-8 div.sk-parallel-item:first-child::after {align-self: flex-end;width: 50%;}#sk-container-id-8 div.sk-parallel-item:last-child::after {align-self: flex-start;width: 50%;}#sk-container-id-8 div.sk-parallel-item:only-child::after {width: 0;}#sk-container-id-8 div.sk-dashed-wrapped {border: 1px dashed gray;margin: 0 0.4em 0.5em 0.4em;box-sizing: border-box;padding-bottom: 0.4em;background-color: white;}#sk-container-id-8 div.sk-label label {font-family: monospace;font-weight: bold;display: inline-block;line-height: 1.2em;}#sk-container-id-8 div.sk-label-container {text-align: center;}#sk-container-id-8 div.sk-container {/* jupyter's `normalize.less` sets `[hidden] { display: none; }` but bootstrap.min.css set `[hidden] { display: none !important; }` so we also need the `!important` here to be able to override the default hidden behavior on the sphinx rendered scikit-learn.org. See: https://github.com/scikit-learn/scikit-learn/issues/21755 */display: inline-block !important;position: relative;}#sk-container-id-8 div.sk-text-repr-fallback {display: none;}</style><div id=\"sk-container-id-8\" class=\"sk-top-container\"><div class=\"sk-text-repr-fallback\"><pre>KNeighborsClassifier()</pre><b>In a Jupyter environment, please rerun this cell to show the HTML representation or trust the notebook. <br />On GitHub, the HTML representation is unable to render, please try loading this page with nbviewer.org.</b></div><div class=\"sk-container\" hidden><div class=\"sk-item\"><div class=\"sk-estimator sk-toggleable\"><input class=\"sk-toggleable__control sk-hidden--visually\" id=\"sk-estimator-id-8\" type=\"checkbox\" checked><label for=\"sk-estimator-id-8\" class=\"sk-toggleable__label sk-toggleable__label-arrow\">KNeighborsClassifier</label><div class=\"sk-toggleable__content\"><pre>KNeighborsClassifier()</pre></div></div></div></div></div>"
     },
     "execution_count": 158,
     "metadata": {},
     "output_type": "execute_result"
    }
   ]
  },
  {
   "cell_type": "markdown",
   "source": [
    "# Model evaluation\n",
    "\n",
    "Don't forget to transform your `X_test` the same way you did with `X_train`"
   ],
   "metadata": {
    "id": "GyJ-7a6zJOoX"
   }
  },
  {
   "cell_type": "code",
   "source": [
    "X_test_scaled = pd.DataFrame(scaler.transform(X_test))\n",
    "X_test_scaled.head()"
   ],
   "metadata": {
    "colab": {
     "base_uri": "https://localhost:8080/",
     "height": 206
    },
    "id": "8C6erBeNPp0n",
    "outputId": "5fe161c5-8b47-4d03-ae3a-76c3b866dc45",
    "ExecuteTime": {
     "end_time": "2023-11-30T18:24:04.651298Z",
     "start_time": "2023-11-30T18:24:04.430949300Z"
    }
   },
   "execution_count": 159,
   "outputs": [
    {
     "data": {
      "text/plain": "          0         1\n0  0.167997 -0.499312\n1  0.762678  0.209770\n2  0.881614  1.391574\n3 -0.902428 -1.208394\n4 -0.902428 -0.972034",
      "text/html": "<div>\n<style scoped>\n    .dataframe tbody tr th:only-of-type {\n        vertical-align: middle;\n    }\n\n    .dataframe tbody tr th {\n        vertical-align: top;\n    }\n\n    .dataframe thead th {\n        text-align: right;\n    }\n</style>\n<table border=\"1\" class=\"dataframe\">\n  <thead>\n    <tr style=\"text-align: right;\">\n      <th></th>\n      <th>0</th>\n      <th>1</th>\n    </tr>\n  </thead>\n  <tbody>\n    <tr>\n      <th>0</th>\n      <td>0.167997</td>\n      <td>-0.499312</td>\n    </tr>\n    <tr>\n      <th>1</th>\n      <td>0.762678</td>\n      <td>0.209770</td>\n    </tr>\n    <tr>\n      <th>2</th>\n      <td>0.881614</td>\n      <td>1.391574</td>\n    </tr>\n    <tr>\n      <th>3</th>\n      <td>-0.902428</td>\n      <td>-1.208394</td>\n    </tr>\n    <tr>\n      <th>4</th>\n      <td>-0.902428</td>\n      <td>-0.972034</td>\n    </tr>\n  </tbody>\n</table>\n</div>"
     },
     "execution_count": 159,
     "metadata": {},
     "output_type": "execute_result"
    }
   ]
  },
  {
   "cell_type": "code",
   "source": [
    "# Make predictions on the test set\n",
    "y_pred = knn_optimal.predict(X_test_scaled)"
   ],
   "metadata": {
    "id": "pJqOOpAfJPjB",
    "ExecuteTime": {
     "end_time": "2023-11-30T18:24:04.651298Z",
     "start_time": "2023-11-30T18:24:04.444073600Z"
    }
   },
   "execution_count": 160,
   "outputs": []
  },
  {
   "cell_type": "code",
   "source": [
    "y_pred"
   ],
   "metadata": {
    "colab": {
     "base_uri": "https://localhost:8080/"
    },
    "id": "uMM9o7iMe7Vn",
    "outputId": "55185181-89f0-407c-b1d5-967552ba222f",
    "ExecuteTime": {
     "end_time": "2023-11-30T18:24:04.651298Z",
     "start_time": "2023-11-30T18:24:04.462279700Z"
    }
   },
   "execution_count": 161,
   "outputs": [
    {
     "data": {
      "text/plain": "array([1, 2, 2, 1, 1, 1, 1, 2, 1, 1, 1, 1, 2, 1, 2, 1, 2, 2, 1, 1])"
     },
     "execution_count": 161,
     "metadata": {},
     "output_type": "execute_result"
    }
   ]
  },
  {
   "cell_type": "code",
   "source": [
    "knn_optimal.predict_proba(X_test_scaled)"
   ],
   "metadata": {
    "colab": {
     "base_uri": "https://localhost:8080/"
    },
    "id": "lpN7hkjTe8vd",
    "outputId": "2453527f-c699-4fe3-f4f5-eaab09aff484",
    "ExecuteTime": {
     "end_time": "2023-11-30T18:24:04.674364600Z",
     "start_time": "2023-11-30T18:24:04.476627600Z"
    }
   },
   "execution_count": 162,
   "outputs": [
    {
     "data": {
      "text/plain": "array([[0.8, 0.2],\n       [0. , 1. ],\n       [0. , 1. ],\n       [1. , 0. ],\n       [1. , 0. ],\n       [1. , 0. ],\n       [0.8, 0.2],\n       [0. , 1. ],\n       [1. , 0. ],\n       [1. , 0. ],\n       [1. , 0. ],\n       [1. , 0. ],\n       [0.4, 0.6],\n       [0.6, 0.4],\n       [0. , 1. ],\n       [1. , 0. ],\n       [0.4, 0.6],\n       [0.4, 0.6],\n       [1. , 0. ],\n       [1. , 0. ]])"
     },
     "execution_count": 162,
     "metadata": {},
     "output_type": "execute_result"
    }
   ]
  },
  {
   "cell_type": "code",
   "source": [
    "# Naming the labels\n",
    "y_test_named = [target_labels_dic[i[0]] for i in y_test.values]\n",
    "y_pred_named = [target_labels_dic[i] for i in y_pred]"
   ],
   "metadata": {
    "id": "YYqe-3XQTAkl",
    "ExecuteTime": {
     "end_time": "2023-11-30T18:24:04.695790600Z",
     "start_time": "2023-11-30T18:24:04.490943200Z"
    }
   },
   "execution_count": 163,
   "outputs": []
  },
  {
   "cell_type": "code",
   "source": [
    "print(classification_report(y_test_named, y_pred_named))"
   ],
   "metadata": {
    "colab": {
     "base_uri": "https://localhost:8080/"
    },
    "id": "DjKncO-DNP2h",
    "outputId": "f4505197-fe14-43ca-ade3-f73e8b532080",
    "ExecuteTime": {
     "end_time": "2023-11-30T18:24:04.723027700Z",
     "start_time": "2023-11-30T18:24:04.506197500Z"
    }
   },
   "execution_count": 164,
   "outputs": [
    {
     "name": "stdout",
     "output_type": "stream",
     "text": [
      "              precision    recall  f1-score   support\n",
      "\n",
      "  versicolor       0.92      1.00      0.96        12\n",
      "   virginica       1.00      0.88      0.93         8\n",
      "\n",
      "    accuracy                           0.95        20\n",
      "   macro avg       0.96      0.94      0.95        20\n",
      "weighted avg       0.95      0.95      0.95        20\n"
     ]
    }
   ]
  },
  {
   "cell_type": "code",
   "source": [
    "cm = confusion_matrix(y_true=y_test_named, y_pred=y_pred_named, labels=target_labels)\n",
    "ConfusionMatrixDisplay(cm, display_labels=target_labels).plot(cmap=plt.cm.Greens)\n",
    "plt.show()"
   ],
   "metadata": {
    "colab": {
     "base_uri": "https://localhost:8080/",
     "height": 455
    },
    "id": "3zpd0PYaQywV",
    "outputId": "1f524223-5aaa-47f4-c982-efa10f763349",
    "ExecuteTime": {
     "end_time": "2023-11-30T18:24:04.774688700Z",
     "start_time": "2023-11-30T18:24:04.521224900Z"
    }
   },
   "execution_count": 165,
   "outputs": [
    {
     "data": {
      "text/plain": "<Figure size 640x480 with 2 Axes>",
      "image/png": "[encoded data removed]"
     },
     "metadata": {},
     "output_type": "display_data"
    }
   ]
  },
  {
   "cell_type": "markdown",
   "source": [
    "### A few notes about `roc_auc_score`\n",
    "\n",
    "- You can use this with a multiclass dataset the following way\n",
    "`roc_auc_score(y_test.values.ravel(), knn_optimal.predict_proba(X_test_scaled), multiclass='ovr') `\n",
    "  - OvR (One-vs-Rest). You'll N different binary classifiers  \n",
    "  - OvO (One-vs-One). You'll have all possible convos of classifiers\n",
    "\n",
    "- For binary classification, you use `knn_optimal.predict_proba(X_test_scaled)[:, 1]` to get probabilities for the positive class\n"
   ],
   "metadata": {
    "id": "x_0YqZs3guW8"
   }
  },
  {
   "cell_type": "code",
   "source": [
    "r_a_score = roc_auc_score(y_test.values.ravel(), knn_optimal.predict_proba(X_test_scaled)[:, 1], multi_class='raise')\n",
    "print(f\"ROC AUC Score: {r_a_score}\")"
   ],
   "metadata": {
    "colab": {
     "base_uri": "https://localhost:8080/"
    },
    "id": "Nh9mXQEdM0xC",
    "outputId": "3ab2b88c-a105-4d76-97b7-3c212c03f98e",
    "ExecuteTime": {
     "end_time": "2023-11-30T18:24:04.821946400Z",
     "start_time": "2023-11-30T18:24:04.647616900Z"
    }
   },
   "execution_count": 166,
   "outputs": [
    {
     "name": "stdout",
     "output_type": "stream",
     "text": [
      "ROC AUC Score: 0.984375\n"
     ]
    }
   ]
  },
  {
   "cell_type": "code",
   "source": [
    "# Plotting ROC curve\n",
    "y_probs = knn_optimal.predict_proba(X_test_scaled)[:, 1]\n",
    "\n",
    "# Compute TPR, FPR, and thresholds\n",
    "fpr, tpr, thresholds = roc_curve(y_test_named, y_probs, pos_label='virginica')\n",
    "\n",
    "# Compute the AUC (Area Under the Curve)\n",
    "roc_auc = auc(fpr, tpr)\n",
    "\n",
    "# Create ROC Curve Display\n",
    "roc_display = RocCurveDisplay(fpr=fpr, tpr=tpr, roc_auc=roc_auc, estimator_name='KNN')\n",
    "\n",
    "# Plot the ROC Curve\n",
    "roc_display.plot()\n",
    "plt.title(\"ROC Curve\")\n",
    "plt.xlabel(\"False Positive Rate\")\n",
    "plt.ylabel(\"True Positive Rate\")\n",
    "plt.grid()\n",
    "plt.show()"
   ],
   "metadata": {
    "colab": {
     "base_uri": "https://localhost:8080/",
     "height": 472
    },
    "id": "u05Thu2HNEtn",
    "outputId": "c1eb5839-218f-430f-bc4b-57664d330957",
    "ExecuteTime": {
     "end_time": "2023-11-30T18:24:04.999695Z",
     "start_time": "2023-11-30T18:24:04.665251800Z"
    }
   },
   "execution_count": 167,
   "outputs": [
    {
     "data": {
      "text/plain": "<Figure size 640x480 with 1 Axes>",
      "image/png": "[encoded data removed]"
     },
     "metadata": {},
     "output_type": "display_data"
    }
   ]
  },
  {
   "cell_type": "code",
   "source": [
    "thresholds"
   ],
   "metadata": {
    "colab": {
     "base_uri": "https://localhost:8080/"
    },
    "id": "1o32ehVtk3Al",
    "outputId": "fbcb06c7-2f04-4cc8-a762-139a75c8ee57",
    "ExecuteTime": {
     "end_time": "2023-11-30T18:24:05.001688800Z",
     "start_time": "2023-11-30T18:24:04.803693400Z"
    }
   },
   "execution_count": 168,
   "outputs": [
    {
     "data": {
      "text/plain": "array([inf, 1. , 0.6, 0.4, 0.2, 0. ])"
     },
     "execution_count": 168,
     "metadata": {},
     "output_type": "execute_result"
    }
   ]
  },
  {
   "cell_type": "code",
   "source": [
    "# Calculate the Euclidean distance for each point on the ROC curve from the top-left corner (0,1)\n",
    "distances = np.sqrt((fpr - 0)**2 + (tpr - 1)**2)\n",
    "\n",
    "# Find the smallest distance\n",
    "min_distance_idx = np.argmin(distances)\n",
    "\n",
    "# Find the optimal threshold\n",
    "optimal_threshold = thresholds[min_distance_idx]\n",
    "op_fpr = fpr[min_distance_idx]\n",
    "op_tpr = tpr[min_distance_idx]"
   ],
   "metadata": {
    "id": "wvJ771J4mITD",
    "ExecuteTime": {
     "end_time": "2023-11-30T18:24:05.003682300Z",
     "start_time": "2023-11-30T18:24:04.819953Z"
    }
   },
   "execution_count": 169,
   "outputs": []
  },
  {
   "cell_type": "code",
   "source": [
    "optimal_threshold, op_fpr, op_tpr"
   ],
   "metadata": {
    "colab": {
     "base_uri": "https://localhost:8080/"
    },
    "id": "7WDscpE3mZ0p",
    "outputId": "d925b0bc-3d08-4d13-87da-049defee6b5e",
    "ExecuteTime": {
     "end_time": "2023-11-30T18:24:05.003682300Z",
     "start_time": "2023-11-30T18:24:04.835559900Z"
    }
   },
   "execution_count": 170,
   "outputs": [
    {
     "data": {
      "text/plain": "(0.6, 0.0, 0.875)"
     },
     "execution_count": 170,
     "metadata": {},
     "output_type": "execute_result"
    }
   ]
  },
  {
   "cell_type": "code",
   "source": [
    "final_predictions = (y_probs >= optimal_threshold).astype(int)\n",
    "final_predictions_named = [target_labels_dic[i+1] for i in final_predictions]\n",
    "final_predictions_named"
   ],
   "metadata": {
    "colab": {
     "base_uri": "https://localhost:8080/"
    },
    "id": "024qb3Gxmrwb",
    "outputId": "25a260ea-3d9e-4737-fb67-c3017e67217d",
    "ExecuteTime": {
     "end_time": "2023-11-30T18:24:05.004678200Z",
     "start_time": "2023-11-30T18:24:04.851951500Z"
    }
   },
   "execution_count": 171,
   "outputs": [
    {
     "data": {
      "text/plain": "['versicolor',\n 'virginica',\n 'virginica',\n 'versicolor',\n 'versicolor',\n 'versicolor',\n 'versicolor',\n 'virginica',\n 'versicolor',\n 'versicolor',\n 'versicolor',\n 'versicolor',\n 'virginica',\n 'versicolor',\n 'virginica',\n 'versicolor',\n 'virginica',\n 'virginica',\n 'versicolor',\n 'versicolor']"
     },
     "execution_count": 171,
     "metadata": {},
     "output_type": "execute_result"
    }
   ]
  },
  {
   "cell_type": "markdown",
   "source": [
    "# Interpretation"
   ],
   "metadata": {
    "id": "EobAPeEDoMBc"
   }
  },
  {
   "cell_type": "code",
   "source": [
    "# Create a mesh grid for plotting\n",
    "x_min, x_max = X_test_scaled.iloc[:, 0].min() - 1, X_test_scaled.iloc[:, 0].max() + 1\n",
    "y_min, y_max = X_test_scaled.iloc[:, 1].min() - 1, X_test_scaled.iloc[:, 1].max() + 1\n",
    "xx, yy = np.meshgrid(np.arange(x_min, x_max, 0.1), np.arange(y_min, y_max, 0.1))\n",
    "\n",
    "# Predict on the mesh grid\n",
    "Z = knn_optimal.predict(np.c_[xx.ravel(), yy.ravel()])\n",
    "Z = Z.reshape(xx.shape)\n",
    "\n",
    "# Plotting the decision boundaries\n",
    "plt.contourf(xx, yy, Z, alpha=0.4)\n",
    "plt.scatter(X_test_scaled.iloc[:, 0], X_test_scaled.iloc[:, 1], c=y_test.values.ravel(), s=20, edgecolor='k')\n",
    "plt.title('Decision Boundaries')\n",
    "plt.xlabel('sepal length (cm)')\n",
    "plt.ylabel('sepal width (cm)')\n",
    "plt.show()"
   ],
   "metadata": {
    "colab": {
     "base_uri": "https://localhost:8080/",
     "height": 472
    },
    "id": "t6a_BhMmnJl6",
    "outputId": "ae4cab3c-f9a0-4f01-85fc-6a9d2cb3541e",
    "ExecuteTime": {
     "end_time": "2023-11-30T18:24:05.169927500Z",
     "start_time": "2023-11-30T18:24:04.868976400Z"
    }
   },
   "execution_count": 172,
   "outputs": [
    {
     "data": {
      "text/plain": "<Figure size 640x480 with 1 Axes>",
      "image/png": "[encoded data removed]"
     },
     "metadata": {},
     "output_type": "display_data"
    }
   ]
  },
  {
   "cell_type": "code",
   "source": [
    "# Create a mesh grid for plotting in the scaled space\n",
    "x_min, x_max = X_test_scaled.iloc[:, 0].min() - 1, X_test_scaled.iloc[:, 0].max() + 1\n",
    "y_min, y_max = X_test_scaled.iloc[:, 1].min() - 1, X_test_scaled.iloc[:, 1].max() + 1\n",
    "xx, yy = np.meshgrid(np.arange(x_min, x_max, 0.1), np.arange(y_min, y_max, 0.1))\n",
    "\n",
    "# Predict on the mesh grid\n",
    "Z = knn_optimal.predict(np.c_[xx.ravel(), yy.ravel()])\n",
    "Z = Z.reshape(xx.shape)\n",
    "\n",
    "# Inverse transform the mesh grid points back to the original scale\n",
    "xx_inv, yy_inv = scaler.inverse_transform(np.c_[xx.ravel(), yy.ravel()]).T\n",
    "xx_inv = xx_inv.reshape(xx.shape)\n",
    "yy_inv = yy_inv.reshape(yy.shape)\n",
    "\n",
    "# Plotting the decision boundaries in the original feature space\n",
    "plt.contourf(xx_inv, yy_inv, Z, alpha=0.4)\n",
    "plt.scatter(X_test.iloc[:, 0], X_test.iloc[:, 1], c=y_test.values.ravel(), s=20, edgecolor='k')\n",
    "plt.title('Decision Boundaries in Original Feature Space')\n",
    "plt.xlabel('sepal length (cm)')\n",
    "plt.ylabel('sepal width (cm)')\n",
    "plt.show()"
   ],
   "metadata": {
    "colab": {
     "base_uri": "https://localhost:8080/",
     "height": 472
    },
    "id": "tQZGkASxqejd",
    "outputId": "caf5952c-9906-4aae-8be9-83c8195a9ec0",
    "ExecuteTime": {
     "end_time": "2023-11-30T18:24:05.351686Z",
     "start_time": "2023-11-30T18:24:05.055714900Z"
    }
   },
   "execution_count": 173,
   "outputs": [
    {
     "data": {
      "text/plain": "<Figure size 640x480 with 1 Axes>",
      "image/png": "[encoded data removed]"
     },
     "metadata": {},
     "output_type": "display_data"
    }
   ]
  },
  {
   "cell_type": "code",
   "source": [
    "##TODO: Double-check it's plotting correctly\n",
    "# Determine the limits of the plot from the full dataset\n",
    "x_min, x_max = X.iloc[:, 0].min() - 1, X.iloc[:, 0].max() + 1\n",
    "y_min, y_max = X.iloc[:, 1].min() - 1, X.iloc[:, 1].max() + 1\n",
    "xx, yy = np.meshgrid(np.arange(x_min, x_max, 0.1), np.arange(y_min, y_max, 0.1))\n",
    "\n",
    "# Predict on the mesh grid with the KNN model\n",
    "Z = knn_optimal.predict(scaler.transform(np.c_[xx.ravel(), yy.ravel()]))\n",
    "Z = Z.reshape(xx.shape)\n",
    "\n",
    "# Plot the decision boundary using a contour plot\n",
    "contour = go.Contour(\n",
    "                        x=np.arange(x_min, x_max, 0.1),\n",
    "                        y=np.arange(y_min, y_max, 0.1),\n",
    "                        z=Z,\n",
    "                        contours_coloring='lines',\n",
    "                        showscale=False\n",
    "                    )\n",
    "\n",
    "# Inverse transform the training and test datasets to plot in original feature space\n",
    "X_train_inv = scaler.inverse_transform(X_train)\n",
    "X_test_inv = scaler.inverse_transform(X_test_scaled)\n",
    "\n",
    "# Create hover text for the training data\n",
    "train_hover_text = ['Train: {}'.format(target_labels_dic[true]) for true in y_train.values.ravel()]\n",
    "\n",
    "# Create hover text for the test data\n",
    "test_hover_text = ['Test - True: {}, Pred: {}'.format(true, pred) for true, pred in zip(y_test_named, final_predictions_named)]\n",
    "\n",
    "# Scatter plot for the training data\n",
    "scatter_train = go.Scatter( x=X_train_inv[:, 0], \n",
    "                            y=X_train_inv[:, 1], \n",
    "                            mode='markers', \n",
    "                            marker=dict(color='gray', size=10, opacity=0.5),\n",
    "                            name='Training Data', \n",
    "                            text=train_hover_text, \n",
    "                            hoverinfo='text' )\n",
    "\n",
    "# Scatter plot for the test data colored by predictions\n",
    "scatter_test = go.Scatter(\n",
    "                            x=X_test_inv[:, 0],\n",
    "                            y=X_test_inv[:, 1],\n",
    "                            mode='markers',\n",
    "                            marker=dict(size=10,\n",
    "                                        opacity=0.5,\n",
    "                                        color=final_predictions,  # Use the predicted labels to define the color\n",
    "                                        colorscale='Viridis',  # This is a sequential colorscale, you can choose any other\n",
    "                                        colorbar=dict(title='Predicted Class'),\n",
    "                                        line=dict(color='black', width=1)\n",
    "                                        ),\n",
    "                            name='Test Data',\n",
    "                            text=test_hover_text,\n",
    "                            hoverinfo='text'\n",
    "                        )\n",
    "\n",
    "# Combine all plots\n",
    "fig = go.Figure(data=[contour, scatter_train, scatter_test])\n",
    "\n",
    "# Update the layout\n",
    "fig.update_layout(\n",
    "    title='Decision Boundary with Training and Test Data',\n",
    "    xaxis_title='sepal length (cm)',\n",
    "    yaxis_title='sepal width (cm)',\n",
    ")\n",
    "\n",
    "# Show the plot\n",
    "fig.show()"
   ],
   "metadata": {
    "colab": {
     "base_uri": "https://localhost:8080/",
     "height": 611
    },
    "id": "Hxet0baVuLv7",
    "outputId": "43a7e8f5-3258-4fb6-b009-db097225ceaa",
    "ExecuteTime": {
     "end_time": "2023-11-30T18:24:05.402515900Z",
     "start_time": "2023-11-30T18:24:05.351686Z"
    }
   },
   "execution_count": 174,
   "outputs": [
    {
     "data": {
      "application/vnd.plotly.v1+json": {
       "data": [
        {
         "contours": {
          "coloring": "lines"
         },
         "showscale": false,
         "x": [
          2.0,
          2.1,
          2.2,
          2.3000000000000003,
          2.4000000000000004,
          2.5000000000000004,
          2.6000000000000005,
          2.7000000000000006,
          2.8000000000000007,
          2.900000000000001,
          3.000000000000001,
          3.100000000000001,
          3.200000000000001,
          3.300000000000001,
          3.4000000000000012,
          3.5000000000000013,
          3.6000000000000014,
          3.7000000000000015,
          3.8000000000000016,
          3.9000000000000017,
          4.000000000000002,
          4.100000000000001,
          4.200000000000002,
          4.3000000000000025,
          4.400000000000002,
          4.500000000000002,
          4.600000000000002,
          4.700000000000003,
          4.8000000000000025,
          4.900000000000002,
          5.000000000000003,
          5.100000000000003,
          5.200000000000003,
          5.3000000000000025,
          5.400000000000003,
          5.5000000000000036,
          5.600000000000003,
          5.700000000000003,
          5.800000000000003,
          5.900000000000004,
          6.0000000000000036,
          6.100000000000003,
          6.200000000000004,
          6.300000000000004,
          6.400000000000004,
          6.5000000000000036,
          6.600000000000004,
          6.700000000000005,
          6.800000000000004,
          6.900000000000004,
          7.000000000000004,
          7.100000000000005,
          7.200000000000005,
          7.300000000000004,
          7.400000000000005,
          7.500000000000005,
          7.600000000000005,
          7.700000000000005,
          7.800000000000005
         ],
         "y": [
          0.0,
          0.1,
          0.2,
          0.30000000000000004,
          0.4,
          0.5,
          0.6000000000000001,
          0.7000000000000001,
          0.8,
          0.9,
          1.0,
          1.1,
          1.2000000000000002,
          1.3,
          1.4000000000000001,
          1.5,
          1.6,
          1.7000000000000002,
          1.8,
          1.9000000000000001,
          2.0,
          2.1,
          2.2,
          2.3000000000000003,
          2.4000000000000004,
          2.5,
          2.6,
          2.7,
          2.8000000000000003,
          2.9000000000000004,
          3.0,
          3.1,
          3.2,
          3.3000000000000003,
          3.4000000000000004
         ],
         "z": [
          [
           1,
           1,
           1,
           1,
           1,
           1,
           1,
           1,
           1,
           1,
           1,
           1,
           1,
           1,
           1,
           1,
           1,
           1,
           1,
           1,
           1,
           1,
           1,
           1,
           1,
           1,
           1,
           1,
           1,
           1,
           1,
           1,
           1,
           1,
           1,
           1,
           1,
           1,
           1,
           1,
           1,
           1,
           1,
           1,
           1,
           1,
           1,
           1,
           1,
           1,
           1,
           1,
           1,
           2,
           2,
           2,
           2,
           2,
           2
          ],
          [
           1,
           1,
           1,
           1,
           1,
           1,
           1,
           1,
           1,
           1,
           1,
           1,
           1,
           1,
           1,
           1,
           1,
           1,
           1,
           1,
           1,
           1,
           1,
           1,
           1,
           1,
           1,
           1,
           1,
           1,
           1,
           1,
           1,
           1,
           1,
           1,
           1,
           1,
           1,
           1,
           1,
           1,
           1,
           1,
           1,
           1,
           1,
           1,
           1,
           1,
           1,
           1,
           2,
           2,
           2,
           2,
           2,
           2,
           2
          ],
          [
           1,
           1,
           1,
           1,
           1,
           1,
           1,
           1,
           1,
           1,
           1,
           1,
           1,
           1,
           1,
           1,
           1,
           1,
           1,
           1,
           1,
           1,
           1,
           1,
           1,
           1,
           1,
           1,
           1,
           1,
           1,
           1,
           1,
           1,
           1,
           1,
           1,
           1,
           1,
           1,
           1,
           1,
           1,
           1,
           1,
           1,
           1,
           1,
           1,
           1,
           1,
           2,
           2,
           2,
           2,
           2,
           2,
           2,
           2
          ],
          [
           1,
           1,
           1,
           1,
           1,
           1,
           1,
           1,
           1,
           1,
           1,
           1,
           1,
           1,
           1,
           1,
           1,
           1,
           1,
           1,
           1,
           1,
           1,
           1,
           1,
           1,
           1,
           1,
           1,
           1,
           1,
           1,
           1,
           1,
           1,
           1,
           1,
           1,
           1,
           1,
           1,
           1,
           1,
           1,
           1,
           1,
           1,
           1,
           1,
           1,
           2,
           2,
           2,
           2,
           2,
           2,
           2,
           2,
           2
          ],
          [
           1,
           1,
           1,
           1,
           1,
           1,
           1,
           1,
           1,
           1,
           1,
           1,
           1,
           1,
           1,
           1,
           1,
           1,
           1,
           1,
           1,
           1,
           1,
           1,
           1,
           1,
           1,
           1,
           1,
           1,
           1,
           1,
           1,
           1,
           1,
           1,
           1,
           1,
           1,
           1,
           1,
           1,
           1,
           1,
           1,
           1,
           1,
           1,
           2,
           2,
           2,
           2,
           2,
           2,
           2,
           2,
           2,
           2,
           2
          ],
          [
           1,
           1,
           1,
           1,
           1,
           1,
           1,
           1,
           1,
           1,
           1,
           1,
           1,
           1,
           1,
           1,
           1,
           1,
           1,
           1,
           1,
           1,
           1,
           1,
           1,
           1,
           1,
           1,
           1,
           1,
           1,
           1,
           1,
           1,
           1,
           1,
           1,
           1,
           1,
           1,
           1,
           1,
           1,
           1,
           1,
           1,
           2,
           2,
           2,
           2,
           2,
           2,
           2,
           2,
           2,
           2,
           2,
           2,
           2
          ],
          [
           1,
           1,
           1,
           1,
           1,
           1,
           1,
           1,
           1,
           1,
           1,
           1,
           1,
           1,
           1,
           1,
           1,
           1,
           1,
           1,
           1,
           1,
           1,
           1,
           1,
           1,
           1,
           1,
           1,
           1,
           1,
           1,
           1,
           1,
           1,
           1,
           1,
           1,
           1,
           1,
           1,
           1,
           1,
           1,
           2,
           2,
           2,
           2,
           2,
           2,
           2,
           2,
           2,
           2,
           2,
           2,
           2,
           2,
           2
          ],
          [
           1,
           1,
           1,
           1,
           1,
           1,
           1,
           1,
           1,
           1,
           1,
           1,
           1,
           1,
           1,
           1,
           1,
           1,
           1,
           1,
           1,
           1,
           1,
           1,
           1,
           1,
           1,
           1,
           1,
           1,
           1,
           1,
           1,
           1,
           1,
           1,
           1,
           1,
           1,
           1,
           1,
           1,
           2,
           2,
           2,
           2,
           2,
           2,
           2,
           2,
           2,
           2,
           2,
           2,
           2,
           2,
           2,
           2,
           2
          ],
          [
           1,
           1,
           1,
           1,
           1,
           1,
           1,
           1,
           1,
           1,
           1,
           1,
           1,
           1,
           1,
           1,
           1,
           1,
           1,
           1,
           1,
           1,
           1,
           1,
           1,
           1,
           1,
           1,
           1,
           1,
           1,
           1,
           1,
           1,
           1,
           1,
           1,
           1,
           1,
           1,
           2,
           2,
           2,
           2,
           2,
           2,
           2,
           2,
           2,
           2,
           2,
           2,
           2,
           2,
           2,
           2,
           2,
           2,
           2
          ],
          [
           1,
           1,
           1,
           1,
           1,
           1,
           1,
           1,
           1,
           1,
           1,
           1,
           1,
           1,
           1,
           1,
           1,
           1,
           1,
           1,
           1,
           1,
           1,
           1,
           1,
           1,
           1,
           1,
           1,
           1,
           1,
           1,
           1,
           1,
           1,
           1,
           1,
           1,
           2,
           2,
           2,
           2,
           2,
           2,
           2,
           2,
           2,
           2,
           2,
           2,
           2,
           2,
           2,
           2,
           2,
           2,
           2,
           2,
           2
          ],
          [
           1,
           1,
           1,
           1,
           1,
           1,
           1,
           1,
           1,
           1,
           1,
           1,
           1,
           1,
           1,
           1,
           1,
           1,
           1,
           1,
           1,
           1,
           1,
           1,
           1,
           1,
           1,
           1,
           1,
           1,
           1,
           1,
           1,
           1,
           1,
           1,
           1,
           2,
           2,
           2,
           2,
           2,
           2,
           2,
           2,
           2,
           2,
           2,
           2,
           2,
           2,
           2,
           2,
           2,
           2,
           2,
           2,
           2,
           2
          ],
          [
           1,
           1,
           1,
           1,
           1,
           1,
           1,
           1,
           1,
           1,
           1,
           1,
           1,
           1,
           1,
           1,
           1,
           1,
           1,
           1,
           1,
           1,
           1,
           1,
           1,
           1,
           1,
           1,
           1,
           1,
           1,
           1,
           1,
           1,
           1,
           1,
           2,
           2,
           2,
           2,
           2,
           2,
           2,
           2,
           2,
           2,
           2,
           2,
           2,
           2,
           2,
           2,
           2,
           2,
           2,
           2,
           2,
           2,
           2
          ],
          [
           1,
           1,
           1,
           1,
           1,
           1,
           1,
           1,
           1,
           1,
           1,
           1,
           1,
           1,
           1,
           1,
           1,
           1,
           1,
           1,
           1,
           1,
           1,
           1,
           1,
           1,
           1,
           1,
           1,
           1,
           1,
           1,
           1,
           1,
           1,
           1,
           2,
           2,
           2,
           2,
           2,
           2,
           2,
           2,
           2,
           2,
           2,
           2,
           2,
           2,
           2,
           2,
           2,
           2,
           2,
           2,
           2,
           2,
           2
          ],
          [
           1,
           1,
           1,
           1,
           1,
           1,
           1,
           1,
           1,
           1,
           1,
           1,
           1,
           1,
           1,
           1,
           1,
           1,
           1,
           1,
           1,
           1,
           1,
           1,
           1,
           1,
           1,
           1,
           1,
           1,
           1,
           1,
           1,
           1,
           2,
           2,
           2,
           2,
           2,
           2,
           2,
           2,
           2,
           2,
           2,
           2,
           2,
           2,
           2,
           2,
           2,
           2,
           2,
           2,
           2,
           2,
           2,
           2,
           2
          ],
          [
           1,
           1,
           1,
           1,
           1,
           1,
           1,
           1,
           1,
           1,
           1,
           1,
           1,
           1,
           1,
           1,
           1,
           1,
           1,
           1,
           1,
           1,
           1,
           1,
           1,
           1,
           1,
           1,
           1,
           1,
           1,
           1,
           1,
           1,
           2,
           2,
           2,
           2,
           2,
           2,
           2,
           2,
           2,
           2,
           2,
           2,
           2,
           2,
           2,
           2,
           2,
           2,
           2,
           2,
           2,
           2,
           2,
           2,
           2
          ],
          [
           1,
           1,
           1,
           1,
           1,
           1,
           1,
           1,
           1,
           1,
           1,
           1,
           1,
           1,
           1,
           1,
           1,
           1,
           1,
           1,
           1,
           1,
           1,
           1,
           1,
           1,
           1,
           1,
           1,
           1,
           1,
           1,
           1,
           2,
           2,
           2,
           2,
           2,
           2,
           2,
           2,
           2,
           2,
           2,
           2,
           2,
           2,
           2,
           2,
           2,
           2,
           2,
           2,
           2,
           2,
           2,
           2,
           2,
           2
          ],
          [
           1,
           1,
           1,
           1,
           1,
           1,
           1,
           1,
           1,
           1,
           1,
           1,
           1,
           1,
           1,
           1,
           1,
           1,
           1,
           1,
           1,
           1,
           1,
           1,
           1,
           1,
           1,
           1,
           1,
           1,
           1,
           1,
           2,
           2,
           2,
           2,
           2,
           2,
           2,
           2,
           2,
           2,
           2,
           2,
           2,
           2,
           2,
           2,
           2,
           2,
           2,
           2,
           2,
           2,
           2,
           2,
           2,
           2,
           2
          ],
          [
           1,
           1,
           1,
           1,
           1,
           1,
           1,
           1,
           1,
           1,
           1,
           1,
           1,
           1,
           1,
           1,
           1,
           1,
           1,
           1,
           1,
           1,
           1,
           1,
           1,
           1,
           1,
           1,
           1,
           1,
           1,
           2,
           2,
           2,
           2,
           2,
           2,
           2,
           2,
           2,
           2,
           2,
           2,
           2,
           2,
           2,
           2,
           2,
           2,
           2,
           2,
           2,
           2,
           2,
           2,
           2,
           2,
           2,
           2
          ],
          [
           1,
           1,
           1,
           1,
           1,
           1,
           1,
           1,
           1,
           1,
           1,
           1,
           1,
           1,
           1,
           1,
           1,
           1,
           1,
           1,
           1,
           1,
           1,
           1,
           1,
           1,
           1,
           2,
           2,
           2,
           2,
           2,
           2,
           2,
           2,
           2,
           2,
           2,
           2,
           2,
           2,
           2,
           2,
           2,
           2,
           2,
           2,
           2,
           2,
           2,
           2,
           2,
           2,
           2,
           2,
           2,
           2,
           2,
           2
          ],
          [
           1,
           1,
           1,
           1,
           1,
           1,
           1,
           1,
           1,
           1,
           1,
           1,
           1,
           1,
           1,
           1,
           1,
           1,
           1,
           1,
           1,
           1,
           2,
           2,
           2,
           2,
           2,
           2,
           2,
           2,
           2,
           2,
           2,
           2,
           2,
           2,
           2,
           2,
           2,
           2,
           2,
           2,
           2,
           2,
           2,
           2,
           2,
           2,
           2,
           2,
           2,
           2,
           2,
           2,
           2,
           2,
           2,
           2,
           2
          ],
          [
           1,
           1,
           1,
           1,
           1,
           1,
           1,
           1,
           1,
           1,
           1,
           1,
           1,
           1,
           1,
           1,
           1,
           1,
           1,
           2,
           2,
           2,
           2,
           2,
           2,
           2,
           2,
           2,
           2,
           2,
           2,
           2,
           2,
           2,
           2,
           2,
           2,
           2,
           2,
           2,
           2,
           2,
           2,
           2,
           2,
           2,
           2,
           2,
           2,
           2,
           2,
           2,
           2,
           2,
           2,
           2,
           2,
           2,
           2
          ],
          [
           1,
           1,
           1,
           1,
           1,
           1,
           1,
           1,
           1,
           1,
           1,
           1,
           1,
           1,
           1,
           2,
           2,
           2,
           2,
           2,
           2,
           2,
           2,
           2,
           2,
           2,
           2,
           2,
           2,
           2,
           2,
           2,
           2,
           2,
           2,
           2,
           2,
           2,
           2,
           2,
           2,
           2,
           2,
           2,
           2,
           2,
           2,
           2,
           2,
           2,
           2,
           2,
           2,
           2,
           2,
           2,
           2,
           2,
           2
          ],
          [
           1,
           1,
           1,
           1,
           1,
           1,
           1,
           1,
           1,
           1,
           1,
           1,
           1,
           2,
           2,
           2,
           2,
           2,
           2,
           2,
           2,
           2,
           2,
           2,
           2,
           2,
           2,
           2,
           2,
           2,
           2,
           2,
           2,
           2,
           2,
           2,
           2,
           2,
           2,
           2,
           2,
           2,
           2,
           2,
           2,
           2,
           2,
           2,
           2,
           2,
           2,
           2,
           2,
           2,
           2,
           2,
           2,
           2,
           2
          ],
          [
           1,
           1,
           1,
           1,
           1,
           1,
           1,
           1,
           1,
           1,
           1,
           2,
           2,
           2,
           2,
           2,
           2,
           2,
           2,
           2,
           2,
           2,
           2,
           2,
           2,
           2,
           2,
           2,
           2,
           2,
           2,
           2,
           2,
           2,
           2,
           2,
           2,
           2,
           2,
           2,
           2,
           2,
           2,
           2,
           2,
           2,
           2,
           2,
           2,
           2,
           2,
           2,
           2,
           2,
           2,
           2,
           2,
           2,
           2
          ],
          [
           1,
           1,
           1,
           1,
           1,
           1,
           1,
           1,
           2,
           2,
           2,
           2,
           2,
           2,
           2,
           2,
           2,
           2,
           2,
           2,
           2,
           2,
           2,
           2,
           2,
           2,
           2,
           2,
           2,
           2,
           2,
           2,
           2,
           2,
           2,
           2,
           2,
           2,
           2,
           2,
           2,
           2,
           2,
           2,
           2,
           2,
           2,
           2,
           2,
           2,
           2,
           2,
           2,
           2,
           2,
           2,
           2,
           2,
           2
          ],
          [
           1,
           1,
           1,
           1,
           1,
           2,
           2,
           2,
           2,
           2,
           2,
           2,
           2,
           2,
           2,
           2,
           2,
           2,
           2,
           2,
           2,
           2,
           2,
           2,
           2,
           2,
           2,
           2,
           2,
           2,
           2,
           2,
           2,
           2,
           2,
           2,
           2,
           2,
           2,
           2,
           2,
           2,
           2,
           2,
           2,
           2,
           2,
           2,
           2,
           2,
           2,
           2,
           2,
           2,
           2,
           2,
           2,
           2,
           2
          ],
          [
           1,
           1,
           2,
           2,
           2,
           2,
           2,
           2,
           2,
           2,
           2,
           2,
           2,
           2,
           2,
           2,
           2,
           2,
           2,
           2,
           2,
           2,
           2,
           2,
           2,
           2,
           2,
           2,
           2,
           2,
           2,
           2,
           2,
           2,
           2,
           2,
           2,
           2,
           2,
           2,
           2,
           2,
           2,
           2,
           2,
           2,
           2,
           2,
           2,
           2,
           2,
           2,
           2,
           2,
           2,
           2,
           2,
           2,
           2
          ],
          [
           2,
           2,
           2,
           2,
           2,
           2,
           2,
           2,
           2,
           2,
           2,
           2,
           2,
           2,
           2,
           2,
           2,
           2,
           2,
           2,
           2,
           2,
           2,
           2,
           2,
           2,
           2,
           2,
           2,
           2,
           2,
           2,
           2,
           2,
           2,
           2,
           2,
           2,
           2,
           2,
           2,
           2,
           2,
           2,
           2,
           2,
           2,
           2,
           2,
           2,
           2,
           2,
           2,
           2,
           2,
           2,
           2,
           2,
           2
          ],
          [
           2,
           2,
           2,
           2,
           2,
           2,
           2,
           2,
           2,
           2,
           2,
           2,
           2,
           2,
           2,
           2,
           2,
           2,
           2,
           2,
           2,
           2,
           2,
           2,
           2,
           2,
           2,
           2,
           2,
           2,
           2,
           2,
           2,
           2,
           2,
           2,
           2,
           2,
           2,
           2,
           2,
           2,
           2,
           2,
           2,
           2,
           2,
           2,
           2,
           2,
           2,
           2,
           2,
           2,
           2,
           2,
           2,
           2,
           2
          ],
          [
           2,
           2,
           2,
           2,
           2,
           2,
           2,
           2,
           2,
           2,
           2,
           2,
           2,
           2,
           2,
           2,
           2,
           2,
           2,
           2,
           2,
           2,
           2,
           2,
           2,
           2,
           2,
           2,
           2,
           2,
           2,
           2,
           2,
           2,
           2,
           2,
           2,
           2,
           2,
           2,
           2,
           2,
           2,
           2,
           2,
           2,
           2,
           2,
           2,
           2,
           2,
           2,
           2,
           2,
           2,
           2,
           2,
           2,
           2
          ],
          [
           2,
           2,
           2,
           2,
           2,
           2,
           2,
           2,
           2,
           2,
           2,
           2,
           2,
           2,
           2,
           2,
           2,
           2,
           2,
           2,
           2,
           2,
           2,
           2,
           2,
           2,
           2,
           2,
           2,
           2,
           2,
           2,
           2,
           2,
           2,
           2,
           2,
           2,
           2,
           2,
           2,
           2,
           2,
           2,
           2,
           2,
           2,
           2,
           2,
           2,
           2,
           2,
           2,
           2,
           2,
           2,
           2,
           2,
           2
          ],
          [
           2,
           2,
           2,
           2,
           2,
           2,
           2,
           2,
           2,
           2,
           2,
           2,
           2,
           2,
           2,
           2,
           2,
           2,
           2,
           2,
           2,
           2,
           2,
           2,
           2,
           2,
           2,
           2,
           2,
           2,
           2,
           2,
           2,
           2,
           2,
           2,
           2,
           2,
           2,
           2,
           2,
           2,
           2,
           2,
           2,
           2,
           2,
           2,
           2,
           2,
           2,
           2,
           2,
           2,
           2,
           2,
           2,
           2,
           2
          ],
          [
           2,
           2,
           2,
           2,
           2,
           2,
           2,
           2,
           2,
           2,
           2,
           2,
           2,
           2,
           2,
           2,
           2,
           2,
           2,
           2,
           2,
           2,
           2,
           2,
           2,
           2,
           2,
           2,
           2,
           2,
           2,
           2,
           2,
           2,
           2,
           2,
           2,
           2,
           2,
           2,
           2,
           2,
           2,
           2,
           2,
           2,
           2,
           2,
           2,
           2,
           2,
           2,
           2,
           2,
           2,
           2,
           2,
           2,
           2
          ],
          [
           2,
           2,
           2,
           2,
           2,
           2,
           2,
           2,
           2,
           2,
           2,
           2,
           2,
           2,
           2,
           2,
           2,
           2,
           2,
           2,
           2,
           2,
           2,
           2,
           2,
           2,
           2,
           2,
           2,
           2,
           2,
           2,
           2,
           2,
           2,
           2,
           2,
           2,
           2,
           2,
           2,
           2,
           2,
           2,
           2,
           2,
           2,
           2,
           2,
           2,
           2,
           2,
           2,
           2,
           2,
           2,
           2,
           2,
           2
          ],
          [
           2,
           2,
           2,
           2,
           2,
           2,
           2,
           2,
           2,
           2,
           2,
           2,
           2,
           2,
           2,
           2,
           2,
           2,
           2,
           2,
           2,
           2,
           2,
           2,
           2,
           2,
           2,
           2,
           2,
           2,
           2,
           2,
           2,
           2,
           2,
           2,
           2,
           2,
           2,
           2,
           2,
           2,
           2,
           2,
           2,
           2,
           2,
           2,
           2,
           2,
           2,
           2,
           2,
           2,
           2,
           2,
           2,
           2,
           2
          ]
         ],
         "type": "contour"
        },
        {
         "hoverinfo": "text",
         "marker": {
          "color": "gray",
          "opacity": 0.5,
          "size": 10
         },
         "mode": "markers",
         "name": "Training Data",
         "text": [
          "Train: virginica",
          "Train: virginica",
          "Train: versicolor",
          "Train: versicolor",
          "Train: virginica",
          "Train: versicolor",
          "Train: versicolor",
          "Train: virginica",
          "Train: versicolor",
          "Train: virginica",
          "Train: versicolor",
          "Train: versicolor",
          "Train: virginica",
          "Train: versicolor",
          "Train: virginica",
          "Train: versicolor",
          "Train: virginica",
          "Train: virginica",
          "Train: versicolor",
          "Train: versicolor",
          "Train: versicolor",
          "Train: versicolor",
          "Train: versicolor",
          "Train: virginica",
          "Train: versicolor",
          "Train: versicolor",
          "Train: virginica",
          "Train: versicolor",
          "Train: virginica",
          "Train: versicolor",
          "Train: versicolor",
          "Train: versicolor",
          "Train: versicolor",
          "Train: versicolor",
          "Train: versicolor",
          "Train: virginica",
          "Train: versicolor",
          "Train: virginica",
          "Train: versicolor",
          "Train: virginica",
          "Train: virginica",
          "Train: virginica",
          "Train: virginica",
          "Train: versicolor",
          "Train: virginica",
          "Train: virginica",
          "Train: versicolor",
          "Train: virginica",
          "Train: virginica",
          "Train: virginica",
          "Train: virginica",
          "Train: versicolor",
          "Train: virginica",
          "Train: versicolor",
          "Train: virginica",
          "Train: virginica",
          "Train: virginica",
          "Train: versicolor",
          "Train: virginica",
          "Train: virginica",
          "Train: virginica",
          "Train: virginica",
          "Train: versicolor",
          "Train: versicolor",
          "Train: versicolor",
          "Train: virginica",
          "Train: versicolor",
          "Train: versicolor",
          "Train: versicolor",
          "Train: virginica",
          "Train: virginica",
          "Train: virginica",
          "Train: virginica",
          "Train: virginica",
          "Train: versicolor",
          "Train: virginica",
          "Train: virginica",
          "Train: versicolor",
          "Train: virginica",
          "Train: virginica"
         ],
         "x": [
          6.6,
          4.8,
          4.8,
          4.0,
          5.0,
          4.4,
          4.4,
          5.0,
          3.9,
          6.7,
          4.2,
          4.3,
          6.1,
          4.5,
          5.9,
          4.5,
          5.5,
          5.3,
          4.5,
          4.5,
          4.1,
          4.5,
          3.3,
          5.2,
          5.0,
          3.9,
          6.4,
          4.4,
          5.5,
          4.7,
          4.3,
          4.0,
          4.1,
          4.1,
          4.6,
          5.6,
          4.7,
          5.1,
          4.7,
          5.4,
          4.5,
          5.1,
          5.8,
          3.3,
          6.0,
          6.7,
          4.2,
          6.9,
          5.3,
          5.2,
          5.8,
          4.6,
          5.8,
          3.0,
          5.4,
          6.3,
          6.0,
          3.9,
          5.7,
          6.1,
          5.0,
          5.6,
          4.4,
          3.5,
          4.5,
          5.9,
          4.0,
          4.9,
          4.7,
          5.5,
          5.1,
          5.7,
          5.6,
          5.6,
          4.8,
          5.1,
          4.9,
          3.6,
          5.1,
          5.1
         ],
         "y": [
          2.1,
          1.8,
          1.4,
          1.2,
          1.5,
          1.4,
          1.2,
          1.9,
          1.4,
          2.0,
          1.5,
          1.3,
          2.3,
          1.5,
          2.3,
          1.3,
          1.8,
          2.3,
          1.6,
          1.5,
          1.3,
          1.5,
          1.0,
          2.3,
          1.7,
          1.1,
          2.0,
          1.4,
          2.1,
          1.4,
          1.3,
          1.3,
          1.0,
          1.3,
          1.3,
          2.1,
          1.6,
          2.4,
          1.5,
          2.1,
          1.7,
          1.8,
          2.2,
          1.0,
          2.5,
          2.2,
          1.3,
          2.3,
          1.9,
          2.0,
          1.6,
          1.4,
          1.8,
          1.1,
          2.3,
          1.8,
          1.8,
          1.2,
          2.5,
          2.5,
          2.0,
          1.4,
          1.3,
          1.0,
          1.5,
          2.1,
          1.3,
          1.5,
          1.2,
          1.8,
          2.3,
          2.1,
          2.4,
          2.2,
          1.8,
          2.0,
          2.0,
          1.3,
          1.9,
          1.9
         ],
         "type": "scatter"
        },
        {
         "hoverinfo": "text",
         "marker": {
          "color": [
           0,
           1,
           1,
           0,
           0,
           0,
           0,
           1,
           0,
           0,
           0,
           0,
           1,
           0,
           1,
           0,
           1,
           1,
           0,
           0
          ],
          "colorbar": {
           "title": {
            "text": "Predicted Class"
           }
          },
          "colorscale": [
           [
            0.0,
            "#440154"
           ],
           [
            0.1111111111111111,
            "#482878"
           ],
           [
            0.2222222222222222,
            "#3e4989"
           ],
           [
            0.3333333333333333,
            "#31688e"
           ],
           [
            0.4444444444444444,
            "#26828e"
           ],
           [
            0.5555555555555556,
            "#1f9e89"
           ],
           [
            0.6666666666666666,
            "#35b779"
           ],
           [
            0.7777777777777778,
            "#6ece58"
           ],
           [
            0.8888888888888888,
            "#b5de2b"
           ],
           [
            1.0,
            "#fde725"
           ]
          ],
          "line": {
           "color": "black",
           "width": 1
          },
          "opacity": 0.5,
          "size": 10
         },
         "mode": "markers",
         "name": "Test Data",
         "text": [
          "Test - True: virginica, Pred: versicolor",
          "Test - True: virginica, Pred: virginica",
          "Test - True: virginica, Pred: virginica",
          "Test - True: versicolor, Pred: versicolor",
          "Test - True: versicolor, Pred: versicolor",
          "Test - True: versicolor, Pred: versicolor",
          "Test - True: versicolor, Pred: versicolor",
          "Test - True: virginica, Pred: virginica",
          "Test - True: versicolor, Pred: versicolor",
          "Test - True: versicolor, Pred: versicolor",
          "Test - True: versicolor, Pred: versicolor",
          "Test - True: versicolor, Pred: versicolor",
          "Test - True: virginica, Pred: virginica",
          "Test - True: versicolor, Pred: versicolor",
          "Test - True: virginica, Pred: virginica",
          "Test - True: versicolor, Pred: versicolor",
          "Test - True: virginica, Pred: virginica",
          "Test - True: virginica, Pred: virginica",
          "Test - True: versicolor, Pred: versicolor",
          "Test - True: versicolor, Pred: versicolor"
         ],
         "x": [
          5.1,
          5.6,
          5.7,
          4.2,
          4.2,
          4.0,
          4.9,
          6.1,
          3.5,
          4.7,
          4.5,
          3.8,
          4.9,
          5.1,
          5.6,
          4.6,
          4.8,
          4.9,
          4.0,
          3.7
         ],
         "y": [
          1.5,
          1.8,
          2.3,
          1.2,
          1.3,
          1.3,
          1.5,
          1.9,
          1.0,
          1.4,
          1.5,
          1.1,
          1.8,
          1.6,
          2.4,
          1.5,
          1.8,
          1.8,
          1.0,
          1.0
         ],
         "type": "scatter"
        }
       ],
       "layout": {
        "template": {
         "data": {
          "histogram2dcontour": [
           {
            "type": "histogram2dcontour",
            "colorbar": {
             "outlinewidth": 0,
             "ticks": ""
            },
            "colorscale": [
             [
              0.0,
              "#0d0887"
             ],
             [
              0.1111111111111111,
              "#46039f"
             ],
             [
              0.2222222222222222,
              "#7201a8"
             ],
             [
              0.3333333333333333,
              "#9c179e"
             ],
             [
              0.4444444444444444,
              "#bd3786"
             ],
             [
              0.5555555555555556,
              "#d8576b"
             ],
             [
              0.6666666666666666,
              "#ed7953"
             ],
             [
              0.7777777777777778,
              "#fb9f3a"
             ],
             [
              0.8888888888888888,
              "#fdca26"
             ],
             [
              1.0,
              "#f0f921"
             ]
            ]
           }
          ],
          "choropleth": [
           {
            "type": "choropleth",
            "colorbar": {
             "outlinewidth": 0,
             "ticks": ""
            }
           }
          ],
          "histogram2d": [
           {
            "type": "histogram2d",
            "colorbar": {
             "outlinewidth": 0,
             "ticks": ""
            },
            "colorscale": [
             [
              0.0,
              "#0d0887"
             ],
             [
              0.1111111111111111,
              "#46039f"
             ],
             [
              0.2222222222222222,
              "#7201a8"
             ],
             [
              0.3333333333333333,
              "#9c179e"
             ],
             [
              0.4444444444444444,
              "#bd3786"
             ],
             [
              0.5555555555555556,
              "#d8576b"
             ],
             [
              0.6666666666666666,
              "#ed7953"
             ],
             [
              0.7777777777777778,
              "#fb9f3a"
             ],
             [
              0.8888888888888888,
              "#fdca26"
             ],
             [
              1.0,
              "#f0f921"
             ]
            ]
           }
          ],
          "heatmap": [
           {
            "type": "heatmap",
            "colorbar": {
             "outlinewidth": 0,
             "ticks": ""
            },
            "colorscale": [
             [
              0.0,
              "#0d0887"
             ],
             [
              0.1111111111111111,
              "#46039f"
             ],
             [
              0.2222222222222222,
              "#7201a8"
             ],
             [
              0.3333333333333333,
              "#9c179e"
             ],
             [
              0.4444444444444444,
              "#bd3786"
             ],
             [
              0.5555555555555556,
              "#d8576b"
             ],
             [
              0.6666666666666666,
              "#ed7953"
             ],
             [
              0.7777777777777778,
              "#fb9f3a"
             ],
             [
              0.8888888888888888,
              "#fdca26"
             ],
             [
              1.0,
              "#f0f921"
             ]
            ]
           }
          ],
          "heatmapgl": [
           {
            "type": "heatmapgl",
            "colorbar": {
             "outlinewidth": 0,
             "ticks": ""
            },
            "colorscale": [
             [
              0.0,
              "#0d0887"
             ],
             [
              0.1111111111111111,
              "#46039f"
             ],
             [
              0.2222222222222222,
              "#7201a8"
             ],
             [
              0.3333333333333333,
              "#9c179e"
             ],
             [
              0.4444444444444444,
              "#bd3786"
             ],
             [
              0.5555555555555556,
              "#d8576b"
             ],
             [
              0.6666666666666666,
              "#ed7953"
             ],
             [
              0.7777777777777778,
              "#fb9f3a"
             ],
             [
              0.8888888888888888,
              "#fdca26"
             ],
             [
              1.0,
              "#f0f921"
             ]
            ]
           }
          ],
          "contourcarpet": [
           {
            "type": "contourcarpet",
            "colorbar": {
             "outlinewidth": 0,
             "ticks": ""
            }
           }
          ],
          "contour": [
           {
            "type": "contour",
            "colorbar": {
             "outlinewidth": 0,
             "ticks": ""
            },
            "colorscale": [
             [
              0.0,
              "#0d0887"
             ],
             [
              0.1111111111111111,
              "#46039f"
             ],
             [
              0.2222222222222222,
              "#7201a8"
             ],
             [
              0.3333333333333333,
              "#9c179e"
             ],
             [
              0.4444444444444444,
              "#bd3786"
             ],
             [
              0.5555555555555556,
              "#d8576b"
             ],
             [
              0.6666666666666666,
              "#ed7953"
             ],
             [
              0.7777777777777778,
              "#fb9f3a"
             ],
             [
              0.8888888888888888,
              "#fdca26"
             ],
             [
              1.0,
              "#f0f921"
             ]
            ]
           }
          ],
          "surface": [
           {
            "type": "surface",
            "colorbar": {
             "outlinewidth": 0,
             "ticks": ""
            },
            "colorscale": [
             [
              0.0,
              "#0d0887"
             ],
             [
              0.1111111111111111,
              "#46039f"
             ],
             [
              0.2222222222222222,
              "#7201a8"
             ],
             [
              0.3333333333333333,
              "#9c179e"
             ],
             [
              0.4444444444444444,
              "#bd3786"
             ],
             [
              0.5555555555555556,
              "#d8576b"
             ],
             [
              0.6666666666666666,
              "#ed7953"
             ],
             [
              0.7777777777777778,
              "#fb9f3a"
             ],
             [
              0.8888888888888888,
              "#fdca26"
             ],
             [
              1.0,
              "#f0f921"
             ]
            ]
           }
          ],
          "mesh3d": [
           {
            "type": "mesh3d",
            "colorbar": {
             "outlinewidth": 0,
             "ticks": ""
            }
           }
          ],
          "scatter": [
           {
            "marker": {
             "line": {
              "color": "#283442"
             }
            },
            "type": "scatter"
           }
          ],
          "parcoords": [
           {
            "type": "parcoords",
            "line": {
             "colorbar": {
              "outlinewidth": 0,
              "ticks": ""
             }
            }
           }
          ],
          "scatterpolargl": [
           {
            "type": "scatterpolargl",
            "marker": {
             "colorbar": {
              "outlinewidth": 0,
              "ticks": ""
             }
            }
           }
          ],
          "bar": [
           {
            "error_x": {
             "color": "#f2f5fa"
            },
            "error_y": {
             "color": "#f2f5fa"
            },
            "marker": {
             "line": {
              "color": "rgb(17,17,17)",
              "width": 0.5
             },
             "pattern": {
              "fillmode": "overlay",
              "size": 10,
              "solidity": 0.2
             }
            },
            "type": "bar"
           }
          ],
          "scattergeo": [
           {
            "type": "scattergeo",
            "marker": {
             "colorbar": {
              "outlinewidth": 0,
              "ticks": ""
             }
            }
           }
          ],
          "scatterpolar": [
           {
            "type": "scatterpolar",
            "marker": {
             "colorbar": {
              "outlinewidth": 0,
              "ticks": ""
             }
            }
           }
          ],
          "histogram": [
           {
            "marker": {
             "pattern": {
              "fillmode": "overlay",
              "size": 10,
              "solidity": 0.2
             }
            },
            "type": "histogram"
           }
          ],
          "scattergl": [
           {
            "marker": {
             "line": {
              "color": "#283442"
             }
            },
            "type": "scattergl"
           }
          ],
          "scatter3d": [
           {
            "type": "scatter3d",
            "line": {
             "colorbar": {
              "outlinewidth": 0,
              "ticks": ""
             }
            },
            "marker": {
             "colorbar": {
              "outlinewidth": 0,
              "ticks": ""
             }
            }
           }
          ],
          "scattermapbox": [
           {
            "type": "scattermapbox",
            "marker": {
             "colorbar": {
              "outlinewidth": 0,
              "ticks": ""
             }
            }
           }
          ],
          "scatterternary": [
           {
            "type": "scatterternary",
            "marker": {
             "colorbar": {
              "outlinewidth": 0,
              "ticks": ""
             }
            }
           }
          ],
          "scattercarpet": [
           {
            "type": "scattercarpet",
            "marker": {
             "colorbar": {
              "outlinewidth": 0,
              "ticks": ""
             }
            }
           }
          ],
          "carpet": [
           {
            "aaxis": {
             "endlinecolor": "#A2B1C6",
             "gridcolor": "#506784",
             "linecolor": "#506784",
             "minorgridcolor": "#506784",
             "startlinecolor": "#A2B1C6"
            },
            "baxis": {
             "endlinecolor": "#A2B1C6",
             "gridcolor": "#506784",
             "linecolor": "#506784",
             "minorgridcolor": "#506784",
             "startlinecolor": "#A2B1C6"
            },
            "type": "carpet"
           }
          ],
          "table": [
           {
            "cells": {
             "fill": {
              "color": "#506784"
             },
             "line": {
              "color": "rgb(17,17,17)"
             }
            },
            "header": {
             "fill": {
              "color": "#2a3f5f"
             },
             "line": {
              "color": "rgb(17,17,17)"
             }
            },
            "type": "table"
           }
          ],
          "barpolar": [
           {
            "marker": {
             "line": {
              "color": "rgb(17,17,17)",
              "width": 0.5
             },
             "pattern": {
              "fillmode": "overlay",
              "size": 10,
              "solidity": 0.2
             }
            },
            "type": "barpolar"
           }
          ],
          "pie": [
           {
            "automargin": true,
            "type": "pie"
           }
          ]
         },
         "layout": {
          "autotypenumbers": "strict",
          "colorway": [
           "#636efa",
           "#EF553B",
           "#00cc96",
           "#ab63fa",
           "#FFA15A",
           "#19d3f3",
           "#FF6692",
           "#B6E880",
           "#FF97FF",
           "#FECB52"
          ],
          "font": {
           "color": "#f2f5fa"
          },
          "hovermode": "closest",
          "hoverlabel": {
           "align": "left"
          },
          "paper_bgcolor": "rgb(17,17,17)",
          "plot_bgcolor": "rgb(17,17,17)",
          "polar": {
           "bgcolor": "rgb(17,17,17)",
           "angularaxis": {
            "gridcolor": "#506784",
            "linecolor": "#506784",
            "ticks": ""
           },
           "radialaxis": {
            "gridcolor": "#506784",
            "linecolor": "#506784",
            "ticks": ""
           }
          },
          "ternary": {
           "bgcolor": "rgb(17,17,17)",
           "aaxis": {
            "gridcolor": "#506784",
            "linecolor": "#506784",
            "ticks": ""
           },
           "baxis": {
            "gridcolor": "#506784",
            "linecolor": "#506784",
            "ticks": ""
           },
           "caxis": {
            "gridcolor": "#506784",
            "linecolor": "#506784",
            "ticks": ""
           }
          },
          "coloraxis": {
           "colorbar": {
            "outlinewidth": 0,
            "ticks": ""
           }
          },
          "colorscale": {
           "sequential": [
            [
             0.0,
             "#0d0887"
            ],
            [
             0.1111111111111111,
             "#46039f"
            ],
            [
             0.2222222222222222,
             "#7201a8"
            ],
            [
             0.3333333333333333,
             "#9c179e"
            ],
            [
             0.4444444444444444,
             "#bd3786"
            ],
            [
             0.5555555555555556,
             "#d8576b"
            ],
            [
             0.6666666666666666,
             "#ed7953"
            ],
            [
             0.7777777777777778,
             "#fb9f3a"
            ],
            [
             0.8888888888888888,
             "#fdca26"
            ],
            [
             1.0,
             "#f0f921"
            ]
           ],
           "sequentialminus": [
            [
             0.0,
             "#0d0887"
            ],
            [
             0.1111111111111111,
             "#46039f"
            ],
            [
             0.2222222222222222,
             "#7201a8"
            ],
            [
             0.3333333333333333,
             "#9c179e"
            ],
            [
             0.4444444444444444,
             "#bd3786"
            ],
            [
             0.5555555555555556,
             "#d8576b"
            ],
            [
             0.6666666666666666,
             "#ed7953"
            ],
            [
             0.7777777777777778,
             "#fb9f3a"
            ],
            [
             0.8888888888888888,
             "#fdca26"
            ],
            [
             1.0,
             "#f0f921"
            ]
           ],
           "diverging": [
            [
             0,
             "#8e0152"
            ],
            [
             0.1,
             "#c51b7d"
            ],
            [
             0.2,
             "#de77ae"
            ],
            [
             0.3,
             "#f1b6da"
            ],
            [
             0.4,
             "#fde0ef"
            ],
            [
             0.5,
             "#f7f7f7"
            ],
            [
             0.6,
             "#e6f5d0"
            ],
            [
             0.7,
             "#b8e186"
            ],
            [
             0.8,
             "#7fbc41"
            ],
            [
             0.9,
             "#4d9221"
            ],
            [
             1,
             "#276419"
            ]
           ]
          },
          "xaxis": {
           "gridcolor": "#283442",
           "linecolor": "#506784",
           "ticks": "",
           "title": {
            "standoff": 15
           },
           "zerolinecolor": "#283442",
           "automargin": true,
           "zerolinewidth": 2
          },
          "yaxis": {
           "gridcolor": "#283442",
           "linecolor": "#506784",
           "ticks": "",
           "title": {
            "standoff": 15
           },
           "zerolinecolor": "#283442",
           "automargin": true,
           "zerolinewidth": 2
          },
          "scene": {
           "xaxis": {
            "backgroundcolor": "rgb(17,17,17)",
            "gridcolor": "#506784",
            "linecolor": "#506784",
            "showbackground": true,
            "ticks": "",
            "zerolinecolor": "#C8D4E3",
            "gridwidth": 2
           },
           "yaxis": {
            "backgroundcolor": "rgb(17,17,17)",
            "gridcolor": "#506784",
            "linecolor": "#506784",
            "showbackground": true,
            "ticks": "",
            "zerolinecolor": "#C8D4E3",
            "gridwidth": 2
           },
           "zaxis": {
            "backgroundcolor": "rgb(17,17,17)",
            "gridcolor": "#506784",
            "linecolor": "#506784",
            "showbackground": true,
            "ticks": "",
            "zerolinecolor": "#C8D4E3",
            "gridwidth": 2
           }
          },
          "shapedefaults": {
           "line": {
            "color": "#f2f5fa"
           }
          },
          "annotationdefaults": {
           "arrowcolor": "#f2f5fa",
           "arrowhead": 0,
           "arrowwidth": 1
          },
          "geo": {
           "bgcolor": "rgb(17,17,17)",
           "landcolor": "rgb(17,17,17)",
           "subunitcolor": "#506784",
           "showland": true,
           "showlakes": true,
           "lakecolor": "rgb(17,17,17)"
          },
          "title": {
           "x": 0.05
          },
          "updatemenudefaults": {
           "bgcolor": "#506784",
           "borderwidth": 0
          },
          "sliderdefaults": {
           "bgcolor": "#C8D4E3",
           "borderwidth": 1,
           "bordercolor": "rgb(17,17,17)",
           "tickwidth": 0
          },
          "mapbox": {
           "style": "dark"
          }
         }
        },
        "title": {
         "text": "Decision Boundary with Training and Test Data"
        },
        "xaxis": {
         "title": {
          "text": "sepal length (cm)"
         }
        },
        "yaxis": {
         "title": {
          "text": "sepal width (cm)"
         }
        }
       },
       "config": {
        "plotlyServerURL": "https://plot.ly"
       }
      },
      "text/html": "<div>                            <div id=\"67f99942-ee39-4dba-bf8f-c9d7a21331ef\" class=\"plotly-graph-div\" style=\"height:525px; width:100%;\"></div>            <script type=\"text/javascript\">                require([\"plotly\"], function(Plotly) {                    window.PLOTLYENV=window.PLOTLYENV || {};                                    if (document.getElementById(\"67f99942-ee39-4dba-bf8f-c9d7a21331ef\")) {                    Plotly.newPlot(                        \"67f99942-ee39-4dba-bf8f-c9d7a21331ef\",                        [{\"contours\":{\"coloring\":\"lines\"},\"showscale\":false,\"x\":[2.0,2.1,2.2,2.3000000000000003,2.4000000000000004,2.5000000000000004,2.6000000000000005,2.7000000000000006,2.8000000000000007,2.900000000000001,3.000000000000001,3.100000000000001,3.200000000000001,3.300000000000001,3.4000000000000012,3.5000000000000013,3.6000000000000014,3.7000000000000015,3.8000000000000016,3.9000000000000017,4.000000000000002,4.100000000000001,4.200000000000002,4.3000000000000025,4.400000000000002,4.500000000000002,4.600000000000002,4.700000000000003,4.8000000000000025,4.900000000000002,5.000000000000003,5.100000000000003,5.200000000000003,5.3000000000000025,5.400000000000003,5.5000000000000036,5.600000000000003,5.700000000000003,5.800000000000003,5.900000000000004,6.0000000000000036,6.100000000000003,6.200000000000004,6.300000000000004,6.400000000000004,6.5000000000000036,6.600000000000004,6.700000000000005,6.800000000000004,6.900000000000004,7.000000000000004,7.100000000000005,7.200000000000005,7.300000000000004,7.400000000000005,7.500000000000005,7.600000000000005,7.700000000000005,7.800000000000005],\"y\":[0.0,0.1,0.2,0.30000000000000004,0.4,0.5,0.6000000000000001,0.7000000000000001,0.8,0.9,1.0,1.1,1.2000000000000002,1.3,1.4000000000000001,1.5,1.6,1.7000000000000002,1.8,1.9000000000000001,2.0,2.1,2.2,2.3000000000000003,2.4000000000000004,2.5,2.6,2.7,2.8000000000000003,2.9000000000000004,3.0,3.1,3.2,3.3000000000000003,3.4000000000000004],\"z\":[[1,1,1,1,1,1,1,1,1,1,1,1,1,1,1,1,1,1,1,1,1,1,1,1,1,1,1,1,1,1,1,1,1,1,1,1,1,1,1,1,1,1,1,1,1,1,1,1,1,1,1,1,1,2,2,2,2,2,2],[1,1,1,1,1,1,1,1,1,1,1,1,1,1,1,1,1,1,1,1,1,1,1,1,1,1,1,1,1,1,1,1,1,1,1,1,1,1,1,1,1,1,1,1,1,1,1,1,1,1,1,1,2,2,2,2,2,2,2],[1,1,1,1,1,1,1,1,1,1,1,1,1,1,1,1,1,1,1,1,1,1,1,1,1,1,1,1,1,1,1,1,1,1,1,1,1,1,1,1,1,1,1,1,1,1,1,1,1,1,1,2,2,2,2,2,2,2,2],[1,1,1,1,1,1,1,1,1,1,1,1,1,1,1,1,1,1,1,1,1,1,1,1,1,1,1,1,1,1,1,1,1,1,1,1,1,1,1,1,1,1,1,1,1,1,1,1,1,1,2,2,2,2,2,2,2,2,2],[1,1,1,1,1,1,1,1,1,1,1,1,1,1,1,1,1,1,1,1,1,1,1,1,1,1,1,1,1,1,1,1,1,1,1,1,1,1,1,1,1,1,1,1,1,1,1,1,2,2,2,2,2,2,2,2,2,2,2],[1,1,1,1,1,1,1,1,1,1,1,1,1,1,1,1,1,1,1,1,1,1,1,1,1,1,1,1,1,1,1,1,1,1,1,1,1,1,1,1,1,1,1,1,1,1,2,2,2,2,2,2,2,2,2,2,2,2,2],[1,1,1,1,1,1,1,1,1,1,1,1,1,1,1,1,1,1,1,1,1,1,1,1,1,1,1,1,1,1,1,1,1,1,1,1,1,1,1,1,1,1,1,1,2,2,2,2,2,2,2,2,2,2,2,2,2,2,2],[1,1,1,1,1,1,1,1,1,1,1,1,1,1,1,1,1,1,1,1,1,1,1,1,1,1,1,1,1,1,1,1,1,1,1,1,1,1,1,1,1,1,2,2,2,2,2,2,2,2,2,2,2,2,2,2,2,2,2],[1,1,1,1,1,1,1,1,1,1,1,1,1,1,1,1,1,1,1,1,1,1,1,1,1,1,1,1,1,1,1,1,1,1,1,1,1,1,1,1,2,2,2,2,2,2,2,2,2,2,2,2,2,2,2,2,2,2,2],[1,1,1,1,1,1,1,1,1,1,1,1,1,1,1,1,1,1,1,1,1,1,1,1,1,1,1,1,1,1,1,1,1,1,1,1,1,1,2,2,2,2,2,2,2,2,2,2,2,2,2,2,2,2,2,2,2,2,2],[1,1,1,1,1,1,1,1,1,1,1,1,1,1,1,1,1,1,1,1,1,1,1,1,1,1,1,1,1,1,1,1,1,1,1,1,1,2,2,2,2,2,2,2,2,2,2,2,2,2,2,2,2,2,2,2,2,2,2],[1,1,1,1,1,1,1,1,1,1,1,1,1,1,1,1,1,1,1,1,1,1,1,1,1,1,1,1,1,1,1,1,1,1,1,1,2,2,2,2,2,2,2,2,2,2,2,2,2,2,2,2,2,2,2,2,2,2,2],[1,1,1,1,1,1,1,1,1,1,1,1,1,1,1,1,1,1,1,1,1,1,1,1,1,1,1,1,1,1,1,1,1,1,1,1,2,2,2,2,2,2,2,2,2,2,2,2,2,2,2,2,2,2,2,2,2,2,2],[1,1,1,1,1,1,1,1,1,1,1,1,1,1,1,1,1,1,1,1,1,1,1,1,1,1,1,1,1,1,1,1,1,1,2,2,2,2,2,2,2,2,2,2,2,2,2,2,2,2,2,2,2,2,2,2,2,2,2],[1,1,1,1,1,1,1,1,1,1,1,1,1,1,1,1,1,1,1,1,1,1,1,1,1,1,1,1,1,1,1,1,1,1,2,2,2,2,2,2,2,2,2,2,2,2,2,2,2,2,2,2,2,2,2,2,2,2,2],[1,1,1,1,1,1,1,1,1,1,1,1,1,1,1,1,1,1,1,1,1,1,1,1,1,1,1,1,1,1,1,1,1,2,2,2,2,2,2,2,2,2,2,2,2,2,2,2,2,2,2,2,2,2,2,2,2,2,2],[1,1,1,1,1,1,1,1,1,1,1,1,1,1,1,1,1,1,1,1,1,1,1,1,1,1,1,1,1,1,1,1,2,2,2,2,2,2,2,2,2,2,2,2,2,2,2,2,2,2,2,2,2,2,2,2,2,2,2],[1,1,1,1,1,1,1,1,1,1,1,1,1,1,1,1,1,1,1,1,1,1,1,1,1,1,1,1,1,1,1,2,2,2,2,2,2,2,2,2,2,2,2,2,2,2,2,2,2,2,2,2,2,2,2,2,2,2,2],[1,1,1,1,1,1,1,1,1,1,1,1,1,1,1,1,1,1,1,1,1,1,1,1,1,1,1,2,2,2,2,2,2,2,2,2,2,2,2,2,2,2,2,2,2,2,2,2,2,2,2,2,2,2,2,2,2,2,2],[1,1,1,1,1,1,1,1,1,1,1,1,1,1,1,1,1,1,1,1,1,1,2,2,2,2,2,2,2,2,2,2,2,2,2,2,2,2,2,2,2,2,2,2,2,2,2,2,2,2,2,2,2,2,2,2,2,2,2],[1,1,1,1,1,1,1,1,1,1,1,1,1,1,1,1,1,1,1,2,2,2,2,2,2,2,2,2,2,2,2,2,2,2,2,2,2,2,2,2,2,2,2,2,2,2,2,2,2,2,2,2,2,2,2,2,2,2,2],[1,1,1,1,1,1,1,1,1,1,1,1,1,1,1,2,2,2,2,2,2,2,2,2,2,2,2,2,2,2,2,2,2,2,2,2,2,2,2,2,2,2,2,2,2,2,2,2,2,2,2,2,2,2,2,2,2,2,2],[1,1,1,1,1,1,1,1,1,1,1,1,1,2,2,2,2,2,2,2,2,2,2,2,2,2,2,2,2,2,2,2,2,2,2,2,2,2,2,2,2,2,2,2,2,2,2,2,2,2,2,2,2,2,2,2,2,2,2],[1,1,1,1,1,1,1,1,1,1,1,2,2,2,2,2,2,2,2,2,2,2,2,2,2,2,2,2,2,2,2,2,2,2,2,2,2,2,2,2,2,2,2,2,2,2,2,2,2,2,2,2,2,2,2,2,2,2,2],[1,1,1,1,1,1,1,1,2,2,2,2,2,2,2,2,2,2,2,2,2,2,2,2,2,2,2,2,2,2,2,2,2,2,2,2,2,2,2,2,2,2,2,2,2,2,2,2,2,2,2,2,2,2,2,2,2,2,2],[1,1,1,1,1,2,2,2,2,2,2,2,2,2,2,2,2,2,2,2,2,2,2,2,2,2,2,2,2,2,2,2,2,2,2,2,2,2,2,2,2,2,2,2,2,2,2,2,2,2,2,2,2,2,2,2,2,2,2],[1,1,2,2,2,2,2,2,2,2,2,2,2,2,2,2,2,2,2,2,2,2,2,2,2,2,2,2,2,2,2,2,2,2,2,2,2,2,2,2,2,2,2,2,2,2,2,2,2,2,2,2,2,2,2,2,2,2,2],[2,2,2,2,2,2,2,2,2,2,2,2,2,2,2,2,2,2,2,2,2,2,2,2,2,2,2,2,2,2,2,2,2,2,2,2,2,2,2,2,2,2,2,2,2,2,2,2,2,2,2,2,2,2,2,2,2,2,2],[2,2,2,2,2,2,2,2,2,2,2,2,2,2,2,2,2,2,2,2,2,2,2,2,2,2,2,2,2,2,2,2,2,2,2,2,2,2,2,2,2,2,2,2,2,2,2,2,2,2,2,2,2,2,2,2,2,2,2],[2,2,2,2,2,2,2,2,2,2,2,2,2,2,2,2,2,2,2,2,2,2,2,2,2,2,2,2,2,2,2,2,2,2,2,2,2,2,2,2,2,2,2,2,2,2,2,2,2,2,2,2,2,2,2,2,2,2,2],[2,2,2,2,2,2,2,2,2,2,2,2,2,2,2,2,2,2,2,2,2,2,2,2,2,2,2,2,2,2,2,2,2,2,2,2,2,2,2,2,2,2,2,2,2,2,2,2,2,2,2,2,2,2,2,2,2,2,2],[2,2,2,2,2,2,2,2,2,2,2,2,2,2,2,2,2,2,2,2,2,2,2,2,2,2,2,2,2,2,2,2,2,2,2,2,2,2,2,2,2,2,2,2,2,2,2,2,2,2,2,2,2,2,2,2,2,2,2],[2,2,2,2,2,2,2,2,2,2,2,2,2,2,2,2,2,2,2,2,2,2,2,2,2,2,2,2,2,2,2,2,2,2,2,2,2,2,2,2,2,2,2,2,2,2,2,2,2,2,2,2,2,2,2,2,2,2,2],[2,2,2,2,2,2,2,2,2,2,2,2,2,2,2,2,2,2,2,2,2,2,2,2,2,2,2,2,2,2,2,2,2,2,2,2,2,2,2,2,2,2,2,2,2,2,2,2,2,2,2,2,2,2,2,2,2,2,2],[2,2,2,2,2,2,2,2,2,2,2,2,2,2,2,2,2,2,2,2,2,2,2,2,2,2,2,2,2,2,2,2,2,2,2,2,2,2,2,2,2,2,2,2,2,2,2,2,2,2,2,2,2,2,2,2,2,2,2]],\"type\":\"contour\"},{\"hoverinfo\":\"text\",\"marker\":{\"color\":\"gray\",\"opacity\":0.5,\"size\":10},\"mode\":\"markers\",\"name\":\"Training Data\",\"text\":[\"Train: virginica\",\"Train: virginica\",\"Train: versicolor\",\"Train: versicolor\",\"Train: virginica\",\"Train: versicolor\",\"Train: versicolor\",\"Train: virginica\",\"Train: versicolor\",\"Train: virginica\",\"Train: versicolor\",\"Train: versicolor\",\"Train: virginica\",\"Train: versicolor\",\"Train: virginica\",\"Train: versicolor\",\"Train: virginica\",\"Train: virginica\",\"Train: versicolor\",\"Train: versicolor\",\"Train: versicolor\",\"Train: versicolor\",\"Train: versicolor\",\"Train: virginica\",\"Train: versicolor\",\"Train: versicolor\",\"Train: virginica\",\"Train: versicolor\",\"Train: virginica\",\"Train: versicolor\",\"Train: versicolor\",\"Train: versicolor\",\"Train: versicolor\",\"Train: versicolor\",\"Train: versicolor\",\"Train: virginica\",\"Train: versicolor\",\"Train: virginica\",\"Train: versicolor\",\"Train: virginica\",\"Train: virginica\",\"Train: virginica\",\"Train: virginica\",\"Train: versicolor\",\"Train: virginica\",\"Train: virginica\",\"Train: versicolor\",\"Train: virginica\",\"Train: virginica\",\"Train: virginica\",\"Train: virginica\",\"Train: versicolor\",\"Train: virginica\",\"Train: versicolor\",\"Train: virginica\",\"Train: virginica\",\"Train: virginica\",\"Train: versicolor\",\"Train: virginica\",\"Train: virginica\",\"Train: virginica\",\"Train: virginica\",\"Train: versicolor\",\"Train: versicolor\",\"Train: versicolor\",\"Train: virginica\",\"Train: versicolor\",\"Train: versicolor\",\"Train: versicolor\",\"Train: virginica\",\"Train: virginica\",\"Train: virginica\",\"Train: virginica\",\"Train: virginica\",\"Train: versicolor\",\"Train: virginica\",\"Train: virginica\",\"Train: versicolor\",\"Train: virginica\",\"Train: virginica\"],\"x\":[6.6,4.8,4.8,4.0,5.0,4.4,4.4,5.0,3.9,6.7,4.2,4.3,6.1,4.5,5.9,4.5,5.5,5.3,4.5,4.5,4.1,4.5,3.3,5.2,5.0,3.9,6.4,4.4,5.5,4.7,4.3,4.0,4.1,4.1,4.6,5.6,4.7,5.1,4.7,5.4,4.5,5.1,5.8,3.3,6.0,6.7,4.2,6.9,5.3,5.2,5.8,4.6,5.8,3.0,5.4,6.3,6.0,3.9,5.7,6.1,5.0,5.6,4.4,3.5,4.5,5.9,4.0,4.9,4.7,5.5,5.1,5.7,5.6,5.6,4.8,5.1,4.9,3.6,5.1,5.1],\"y\":[2.1,1.8,1.4,1.2,1.5,1.4,1.2,1.9,1.4,2.0,1.5,1.3,2.3,1.5,2.3,1.3,1.8,2.3,1.6,1.5,1.3,1.5,1.0,2.3,1.7,1.1,2.0,1.4,2.1,1.4,1.3,1.3,1.0,1.3,1.3,2.1,1.6,2.4,1.5,2.1,1.7,1.8,2.2,1.0,2.5,2.2,1.3,2.3,1.9,2.0,1.6,1.4,1.8,1.1,2.3,1.8,1.8,1.2,2.5,2.5,2.0,1.4,1.3,1.0,1.5,2.1,1.3,1.5,1.2,1.8,2.3,2.1,2.4,2.2,1.8,2.0,2.0,1.3,1.9,1.9],\"type\":\"scatter\"},{\"hoverinfo\":\"text\",\"marker\":{\"color\":[0,1,1,0,0,0,0,1,0,0,0,0,1,0,1,0,1,1,0,0],\"colorbar\":{\"title\":{\"text\":\"Predicted Class\"}},\"colorscale\":[[0.0,\"#440154\"],[0.1111111111111111,\"#482878\"],[0.2222222222222222,\"#3e4989\"],[0.3333333333333333,\"#31688e\"],[0.4444444444444444,\"#26828e\"],[0.5555555555555556,\"#1f9e89\"],[0.6666666666666666,\"#35b779\"],[0.7777777777777778,\"#6ece58\"],[0.8888888888888888,\"#b5de2b\"],[1.0,\"#fde725\"]],\"line\":{\"color\":\"black\",\"width\":1},\"opacity\":0.5,\"size\":10},\"mode\":\"markers\",\"name\":\"Test Data\",\"text\":[\"Test - True: virginica, Pred: versicolor\",\"Test - True: virginica, Pred: virginica\",\"Test - True: virginica, Pred: virginica\",\"Test - True: versicolor, Pred: versicolor\",\"Test - True: versicolor, Pred: versicolor\",\"Test - True: versicolor, Pred: versicolor\",\"Test - True: versicolor, Pred: versicolor\",\"Test - True: virginica, Pred: virginica\",\"Test - True: versicolor, Pred: versicolor\",\"Test - True: versicolor, Pred: versicolor\",\"Test - True: versicolor, Pred: versicolor\",\"Test - True: versicolor, Pred: versicolor\",\"Test - True: virginica, Pred: virginica\",\"Test - True: versicolor, Pred: versicolor\",\"Test - True: virginica, Pred: virginica\",\"Test - True: versicolor, Pred: versicolor\",\"Test - True: virginica, Pred: virginica\",\"Test - True: virginica, Pred: virginica\",\"Test - True: versicolor, Pred: versicolor\",\"Test - True: versicolor, Pred: versicolor\"],\"x\":[5.1,5.6,5.7,4.2,4.2,4.0,4.9,6.1,3.5,4.7,4.5,3.8,4.9,5.1,5.6,4.6,4.8,4.9,4.0,3.7],\"y\":[1.5,1.8,2.3,1.2,1.3,1.3,1.5,1.9,1.0,1.4,1.5,1.1,1.8,1.6,2.4,1.5,1.8,1.8,1.0,1.0],\"type\":\"scatter\"}],                        {\"template\":{\"data\":{\"histogram2dcontour\":[{\"type\":\"histogram2dcontour\",\"colorbar\":{\"outlinewidth\":0,\"ticks\":\"\"},\"colorscale\":[[0.0,\"#0d0887\"],[0.1111111111111111,\"#46039f\"],[0.2222222222222222,\"#7201a8\"],[0.3333333333333333,\"#9c179e\"],[0.4444444444444444,\"#bd3786\"],[0.5555555555555556,\"#d8576b\"],[0.6666666666666666,\"#ed7953\"],[0.7777777777777778,\"#fb9f3a\"],[0.8888888888888888,\"#fdca26\"],[1.0,\"#f0f921\"]]}],\"choropleth\":[{\"type\":\"choropleth\",\"colorbar\":{\"outlinewidth\":0,\"ticks\":\"\"}}],\"histogram2d\":[{\"type\":\"histogram2d\",\"colorbar\":{\"outlinewidth\":0,\"ticks\":\"\"},\"colorscale\":[[0.0,\"#0d0887\"],[0.1111111111111111,\"#46039f\"],[0.2222222222222222,\"#7201a8\"],[0.3333333333333333,\"#9c179e\"],[0.4444444444444444,\"#bd3786\"],[0.5555555555555556,\"#d8576b\"],[0.6666666666666666,\"#ed7953\"],[0.7777777777777778,\"#fb9f3a\"],[0.8888888888888888,\"#fdca26\"],[1.0,\"#f0f921\"]]}],\"heatmap\":[{\"type\":\"heatmap\",\"colorbar\":{\"outlinewidth\":0,\"ticks\":\"\"},\"colorscale\":[[0.0,\"#0d0887\"],[0.1111111111111111,\"#46039f\"],[0.2222222222222222,\"#7201a8\"],[0.3333333333333333,\"#9c179e\"],[0.4444444444444444,\"#bd3786\"],[0.5555555555555556,\"#d8576b\"],[0.6666666666666666,\"#ed7953\"],[0.7777777777777778,\"#fb9f3a\"],[0.8888888888888888,\"#fdca26\"],[1.0,\"#f0f921\"]]}],\"heatmapgl\":[{\"type\":\"heatmapgl\",\"colorbar\":{\"outlinewidth\":0,\"ticks\":\"\"},\"colorscale\":[[0.0,\"#0d0887\"],[0.1111111111111111,\"#46039f\"],[0.2222222222222222,\"#7201a8\"],[0.3333333333333333,\"#9c179e\"],[0.4444444444444444,\"#bd3786\"],[0.5555555555555556,\"#d8576b\"],[0.6666666666666666,\"#ed7953\"],[0.7777777777777778,\"#fb9f3a\"],[0.8888888888888888,\"#fdca26\"],[1.0,\"#f0f921\"]]}],\"contourcarpet\":[{\"type\":\"contourcarpet\",\"colorbar\":{\"outlinewidth\":0,\"ticks\":\"\"}}],\"contour\":[{\"type\":\"contour\",\"colorbar\":{\"outlinewidth\":0,\"ticks\":\"\"},\"colorscale\":[[0.0,\"#0d0887\"],[0.1111111111111111,\"#46039f\"],[0.2222222222222222,\"#7201a8\"],[0.3333333333333333,\"#9c179e\"],[0.4444444444444444,\"#bd3786\"],[0.5555555555555556,\"#d8576b\"],[0.6666666666666666,\"#ed7953\"],[0.7777777777777778,\"#fb9f3a\"],[0.8888888888888888,\"#fdca26\"],[1.0,\"#f0f921\"]]}],\"surface\":[{\"type\":\"surface\",\"colorbar\":{\"outlinewidth\":0,\"ticks\":\"\"},\"colorscale\":[[0.0,\"#0d0887\"],[0.1111111111111111,\"#46039f\"],[0.2222222222222222,\"#7201a8\"],[0.3333333333333333,\"#9c179e\"],[0.4444444444444444,\"#bd3786\"],[0.5555555555555556,\"#d8576b\"],[0.6666666666666666,\"#ed7953\"],[0.7777777777777778,\"#fb9f3a\"],[0.8888888888888888,\"#fdca26\"],[1.0,\"#f0f921\"]]}],\"mesh3d\":[{\"type\":\"mesh3d\",\"colorbar\":{\"outlinewidth\":0,\"ticks\":\"\"}}],\"scatter\":[{\"marker\":{\"line\":{\"color\":\"#283442\"}},\"type\":\"scatter\"}],\"parcoords\":[{\"type\":\"parcoords\",\"line\":{\"colorbar\":{\"outlinewidth\":0,\"ticks\":\"\"}}}],\"scatterpolargl\":[{\"type\":\"scatterpolargl\",\"marker\":{\"colorbar\":{\"outlinewidth\":0,\"ticks\":\"\"}}}],\"bar\":[{\"error_x\":{\"color\":\"#f2f5fa\"},\"error_y\":{\"color\":\"#f2f5fa\"},\"marker\":{\"line\":{\"color\":\"rgb(17,17,17)\",\"width\":0.5},\"pattern\":{\"fillmode\":\"overlay\",\"size\":10,\"solidity\":0.2}},\"type\":\"bar\"}],\"scattergeo\":[{\"type\":\"scattergeo\",\"marker\":{\"colorbar\":{\"outlinewidth\":0,\"ticks\":\"\"}}}],\"scatterpolar\":[{\"type\":\"scatterpolar\",\"marker\":{\"colorbar\":{\"outlinewidth\":0,\"ticks\":\"\"}}}],\"histogram\":[{\"marker\":{\"pattern\":{\"fillmode\":\"overlay\",\"size\":10,\"solidity\":0.2}},\"type\":\"histogram\"}],\"scattergl\":[{\"marker\":{\"line\":{\"color\":\"#283442\"}},\"type\":\"scattergl\"}],\"scatter3d\":[{\"type\":\"scatter3d\",\"line\":{\"colorbar\":{\"outlinewidth\":0,\"ticks\":\"\"}},\"marker\":{\"colorbar\":{\"outlinewidth\":0,\"ticks\":\"\"}}}],\"scattermapbox\":[{\"type\":\"scattermapbox\",\"marker\":{\"colorbar\":{\"outlinewidth\":0,\"ticks\":\"\"}}}],\"scatterternary\":[{\"type\":\"scatterternary\",\"marker\":{\"colorbar\":{\"outlinewidth\":0,\"ticks\":\"\"}}}],\"scattercarpet\":[{\"type\":\"scattercarpet\",\"marker\":{\"colorbar\":{\"outlinewidth\":0,\"ticks\":\"\"}}}],\"carpet\":[{\"aaxis\":{\"endlinecolor\":\"#A2B1C6\",\"gridcolor\":\"#506784\",\"linecolor\":\"#506784\",\"minorgridcolor\":\"#506784\",\"startlinecolor\":\"#A2B1C6\"},\"baxis\":{\"endlinecolor\":\"#A2B1C6\",\"gridcolor\":\"#506784\",\"linecolor\":\"#506784\",\"minorgridcolor\":\"#506784\",\"startlinecolor\":\"#A2B1C6\"},\"type\":\"carpet\"}],\"table\":[{\"cells\":{\"fill\":{\"color\":\"#506784\"},\"line\":{\"color\":\"rgb(17,17,17)\"}},\"header\":{\"fill\":{\"color\":\"#2a3f5f\"},\"line\":{\"color\":\"rgb(17,17,17)\"}},\"type\":\"table\"}],\"barpolar\":[{\"marker\":{\"line\":{\"color\":\"rgb(17,17,17)\",\"width\":0.5},\"pattern\":{\"fillmode\":\"overlay\",\"size\":10,\"solidity\":0.2}},\"type\":\"barpolar\"}],\"pie\":[{\"automargin\":true,\"type\":\"pie\"}]},\"layout\":{\"autotypenumbers\":\"strict\",\"colorway\":[\"#636efa\",\"#EF553B\",\"#00cc96\",\"#ab63fa\",\"#FFA15A\",\"#19d3f3\",\"#FF6692\",\"#B6E880\",\"#FF97FF\",\"#FECB52\"],\"font\":{\"color\":\"#f2f5fa\"},\"hovermode\":\"closest\",\"hoverlabel\":{\"align\":\"left\"},\"paper_bgcolor\":\"rgb(17,17,17)\",\"plot_bgcolor\":\"rgb(17,17,17)\",\"polar\":{\"bgcolor\":\"rgb(17,17,17)\",\"angularaxis\":{\"gridcolor\":\"#506784\",\"linecolor\":\"#506784\",\"ticks\":\"\"},\"radialaxis\":{\"gridcolor\":\"#506784\",\"linecolor\":\"#506784\",\"ticks\":\"\"}},\"ternary\":{\"bgcolor\":\"rgb(17,17,17)\",\"aaxis\":{\"gridcolor\":\"#506784\",\"linecolor\":\"#506784\",\"ticks\":\"\"},\"baxis\":{\"gridcolor\":\"#506784\",\"linecolor\":\"#506784\",\"ticks\":\"\"},\"caxis\":{\"gridcolor\":\"#506784\",\"linecolor\":\"#506784\",\"ticks\":\"\"}},\"coloraxis\":{\"colorbar\":{\"outlinewidth\":0,\"ticks\":\"\"}},\"colorscale\":{\"sequential\":[[0.0,\"#0d0887\"],[0.1111111111111111,\"#46039f\"],[0.2222222222222222,\"#7201a8\"],[0.3333333333333333,\"#9c179e\"],[0.4444444444444444,\"#bd3786\"],[0.5555555555555556,\"#d8576b\"],[0.6666666666666666,\"#ed7953\"],[0.7777777777777778,\"#fb9f3a\"],[0.8888888888888888,\"#fdca26\"],[1.0,\"#f0f921\"]],\"sequentialminus\":[[0.0,\"#0d0887\"],[0.1111111111111111,\"#46039f\"],[0.2222222222222222,\"#7201a8\"],[0.3333333333333333,\"#9c179e\"],[0.4444444444444444,\"#bd3786\"],[0.5555555555555556,\"#d8576b\"],[0.6666666666666666,\"#ed7953\"],[0.7777777777777778,\"#fb9f3a\"],[0.8888888888888888,\"#fdca26\"],[1.0,\"#f0f921\"]],\"diverging\":[[0,\"#8e0152\"],[0.1,\"#c51b7d\"],[0.2,\"#de77ae\"],[0.3,\"#f1b6da\"],[0.4,\"#fde0ef\"],[0.5,\"#f7f7f7\"],[0.6,\"#e6f5d0\"],[0.7,\"#b8e186\"],[0.8,\"#7fbc41\"],[0.9,\"#4d9221\"],[1,\"#276419\"]]},\"xaxis\":{\"gridcolor\":\"#283442\",\"linecolor\":\"#506784\",\"ticks\":\"\",\"title\":{\"standoff\":15},\"zerolinecolor\":\"#283442\",\"automargin\":true,\"zerolinewidth\":2},\"yaxis\":{\"gridcolor\":\"#283442\",\"linecolor\":\"#506784\",\"ticks\":\"\",\"title\":{\"standoff\":15},\"zerolinecolor\":\"#283442\",\"automargin\":true,\"zerolinewidth\":2},\"scene\":{\"xaxis\":{\"backgroundcolor\":\"rgb(17,17,17)\",\"gridcolor\":\"#506784\",\"linecolor\":\"#506784\",\"showbackground\":true,\"ticks\":\"\",\"zerolinecolor\":\"#C8D4E3\",\"gridwidth\":2},\"yaxis\":{\"backgroundcolor\":\"rgb(17,17,17)\",\"gridcolor\":\"#506784\",\"linecolor\":\"#506784\",\"showbackground\":true,\"ticks\":\"\",\"zerolinecolor\":\"#C8D4E3\",\"gridwidth\":2},\"zaxis\":{\"backgroundcolor\":\"rgb(17,17,17)\",\"gridcolor\":\"#506784\",\"linecolor\":\"#506784\",\"showbackground\":true,\"ticks\":\"\",\"zerolinecolor\":\"#C8D4E3\",\"gridwidth\":2}},\"shapedefaults\":{\"line\":{\"color\":\"#f2f5fa\"}},\"annotationdefaults\":{\"arrowcolor\":\"#f2f5fa\",\"arrowhead\":0,\"arrowwidth\":1},\"geo\":{\"bgcolor\":\"rgb(17,17,17)\",\"landcolor\":\"rgb(17,17,17)\",\"subunitcolor\":\"#506784\",\"showland\":true,\"showlakes\":true,\"lakecolor\":\"rgb(17,17,17)\"},\"title\":{\"x\":0.05},\"updatemenudefaults\":{\"bgcolor\":\"#506784\",\"borderwidth\":0},\"sliderdefaults\":{\"bgcolor\":\"#C8D4E3\",\"borderwidth\":1,\"bordercolor\":\"rgb(17,17,17)\",\"tickwidth\":0},\"mapbox\":{\"style\":\"dark\"}}},\"title\":{\"text\":\"Decision Boundary with Training and Test Data\"},\"xaxis\":{\"title\":{\"text\":\"sepal length (cm)\"}},\"yaxis\":{\"title\":{\"text\":\"sepal width (cm)\"}}},                        {\"responsive\": true}                    ).then(function(){\n                            \nvar gd = document.getElementById('67f99942-ee39-4dba-bf8f-c9d7a21331ef');\nvar x = new MutationObserver(function (mutations, observer) {{\n        var display = window.getComputedStyle(gd).display;\n        if (!display || display === 'none') {{\n            console.log([gd, 'removed!']);\n            Plotly.purge(gd);\n            observer.disconnect();\n        }}\n}});\n\n// Listen for the removal of the full notebook cells\nvar notebookContainer = gd.closest('#notebook-container');\nif (notebookContainer) {{\n    x.observe(notebookContainer, {childList: true});\n}}\n\n// Listen for the clearing of the current output cell\nvar outputEl = gd.closest('.output');\nif (outputEl) {{\n    x.observe(outputEl, {childList: true});\n}}\n\n                        })                };                });            </script>        </div>"
     },
     "metadata": {},
     "output_type": "display_data"
    }
   ]
  },
  {
   "cell_type": "markdown",
   "source": [
    "# Deployment"
   ],
   "metadata": {
    "id": "tsmIkyBNtyq-"
   }
  },
  {
   "cell_type": "code",
   "source": [
    "# TODO: Adjust functions for optimal threshold. Also write ideas about deployment using Flask/Cloud\n",
    "\n",
    "import joblib\n",
    "\n",
    "# Save the model\n",
    "joblib.dump(knn_optimal, 'knn_model.pkl')\n",
    "\n",
    "# If you also need to save the scaler\n",
    "joblib.dump(scaler, 'scaler.pkl')"
   ],
   "metadata": {
    "colab": {
     "base_uri": "https://localhost:8080/"
    },
    "id": "3Ge0Jk46sQy4",
    "outputId": "b68f3d36-3666-4d23-e573-5a5000827577",
    "ExecuteTime": {
     "end_time": "2023-11-30T18:24:05.435405400Z",
     "start_time": "2023-11-30T18:24:05.394543100Z"
    }
   },
   "execution_count": 175,
   "outputs": [
    {
     "data": {
      "text/plain": "['scaler.pkl']"
     },
     "execution_count": 175,
     "metadata": {},
     "output_type": "execute_result"
    }
   ]
  },
  {
   "cell_type": "code",
   "source": [
    "# Predict on new data\n",
    "\n",
    "def load_model(model_path):\n",
    "    return joblib.load(model_path)\n",
    "\n",
    "def predict(input_features, model, scaler):\n",
    "    # Scale the features using the loaded scaler\n",
    "    scaled_features = scaler.transform([input_features])\n",
    "    # Predict with the KNN model\n",
    "    return model.predict(scaled_features)"
   ],
   "metadata": {
    "id": "spD_y5-C1W5Y",
    "ExecuteTime": {
     "end_time": "2023-11-30T18:24:05.469663500Z",
     "start_time": "2023-11-30T18:24:05.418463Z"
    }
   },
   "execution_count": 176,
   "outputs": []
  },
  {
   "cell_type": "code",
   "source": [
    "# Usage\n",
    "model = load_model('knn_model.pkl')\n",
    "scaler = load_model('scaler.pkl')\n",
    "new_data = [4.6, 3.2]  # Example new data\n",
    "prediction = predict(new_data, model, scaler)\n",
    "print(target_labels_dic[prediction[0]])"
   ],
   "metadata": {
    "colab": {
     "base_uri": "https://localhost:8080/"
    },
    "id": "sI9UD6Y52kkP",
    "outputId": "c38161f5-e73e-4ed1-e45d-20262a070f34",
    "ExecuteTime": {
     "end_time": "2023-11-30T18:24:05.470660Z",
     "start_time": "2023-11-30T18:24:05.428429100Z"
    }
   },
   "execution_count": 177,
   "outputs": [
    {
     "name": "stdout",
     "output_type": "stream",
     "text": [
      "virginica\n"
     ]
    }
   ]
  },
  {
   "cell_type": "code",
   "source": [],
   "metadata": {
    "id": "H_SLF9eq2nAI",
    "ExecuteTime": {
     "end_time": "2023-11-30T18:24:05.486696Z",
     "start_time": "2023-11-30T18:24:05.442007300Z"
    }
   },
   "execution_count": 177,
   "outputs": []
  }
 ]
}
