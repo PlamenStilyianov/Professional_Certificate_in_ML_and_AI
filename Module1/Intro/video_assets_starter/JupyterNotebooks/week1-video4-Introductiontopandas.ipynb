{
 "cells": [
  {
   "cell_type": "markdown",
   "metadata": {},
   "source": [
    "### Python lists"
   ]
  },
  {
   "cell_type": "code",
   "execution_count": 24,
   "metadata": {
    "ExecuteTime": {
     "end_time": "2023-09-04T23:47:51.382062800Z",
     "start_time": "2023-09-04T23:47:51.274779900Z"
    }
   },
   "outputs": [
    {
     "data": {
      "text/plain": "[0.1, 0.2, 'a', 'b']"
     },
     "execution_count": 24,
     "metadata": {},
     "output_type": "execute_result"
    }
   ],
   "source": [
    "[0.1, 0.2, 'a', 'b']"
   ]
  },
  {
   "cell_type": "markdown",
   "metadata": {},
   "source": [
    "### Numpy array"
   ]
  },
  {
   "cell_type": "code",
   "execution_count": 25,
   "metadata": {
    "ExecuteTime": {
     "end_time": "2023-09-04T23:47:51.382569500Z",
     "start_time": "2023-09-04T23:47:51.278777300Z"
    }
   },
   "outputs": [
    {
     "data": {
      "text/plain": "array([0.1, 0.2, 0.3, 0.4])"
     },
     "execution_count": 25,
     "metadata": {},
     "output_type": "execute_result"
    }
   ],
   "source": [
    "import numpy as np\n",
    "\n",
    "np.array([0.1, 0.2, 0.3, 0.4])"
   ]
  },
  {
   "cell_type": "markdown",
   "metadata": {},
   "source": [
    "### Pandas DataFrame\n",
    "\n",
    "![title](pandas_df.png)"
   ]
  },
  {
   "cell_type": "markdown",
   "metadata": {},
   "source": [
    "---\n",
    "# <center><font color=purple>[pandas](https://pandas.pydata.org/)[docs](https://pandas.pydata.org/pandas-docs/stable/index.html)</font></center>\n",
    "---"
   ]
  },
  {
   "cell_type": "markdown",
   "metadata": {},
   "source": [
    "## Standard import"
   ]
  },
  {
   "cell_type": "code",
   "execution_count": 26,
   "metadata": {
    "ExecuteTime": {
     "end_time": "2023-09-04T23:47:51.402424100Z",
     "start_time": "2023-09-04T23:47:51.288107600Z"
    }
   },
   "outputs": [],
   "source": [
    "import pandas as pd"
   ]
  },
  {
   "cell_type": "markdown",
   "metadata": {},
   "source": [
    "---\n",
    "# <center> <font color=darkgreen>Creating a DataFrame</font></center>\n",
    "---"
   ]
  },
  {
   "cell_type": "markdown",
   "metadata": {},
   "source": [
    "## Create a DataFrame from a dictionary"
   ]
  },
  {
   "cell_type": "code",
   "execution_count": 26,
   "outputs": [],
   "source": [],
   "metadata": {
    "collapsed": false,
    "ExecuteTime": {
     "end_time": "2023-09-04T23:47:51.476928600Z",
     "start_time": "2023-09-04T23:47:51.293603700Z"
    }
   }
  },
  {
   "cell_type": "code",
   "execution_count": 27,
   "metadata": {
    "ExecuteTime": {
     "end_time": "2023-09-04T23:47:51.478959600Z",
     "start_time": "2023-09-04T23:47:51.300057300Z"
    }
   },
   "outputs": [
    {
     "data": {
      "text/plain": "    A     B\n0  25  str1\n1  56  str2\n2  93  str3",
      "text/html": "<div>\n<style scoped>\n    .dataframe tbody tr th:only-of-type {\n        vertical-align: middle;\n    }\n\n    .dataframe tbody tr th {\n        vertical-align: top;\n    }\n\n    .dataframe thead th {\n        text-align: right;\n    }\n</style>\n<table border=\"1\" class=\"dataframe\">\n  <thead>\n    <tr style=\"text-align: right;\">\n      <th></th>\n      <th>A</th>\n      <th>B</th>\n    </tr>\n  </thead>\n  <tbody>\n    <tr>\n      <th>0</th>\n      <td>25</td>\n      <td>str1</td>\n    </tr>\n    <tr>\n      <th>1</th>\n      <td>56</td>\n      <td>str2</td>\n    </tr>\n    <tr>\n      <th>2</th>\n      <td>93</td>\n      <td>str3</td>\n    </tr>\n  </tbody>\n</table>\n</div>"
     },
     "execution_count": 27,
     "metadata": {},
     "output_type": "execute_result"
    }
   ],
   "source": [
    "df1 = pd.DataFrame({'A':[25,56,93] , \n",
    "                    'B':['str1','str2','str3']})\n",
    "\n",
    "df1"
   ]
  },
  {
   "cell_type": "markdown",
   "metadata": {},
   "source": [
    "### Change the index: [`set_index()`](https://pandas.pydata.org/pandas-docs/stable/reference/api/pandas.DataFrame.set_index.html)\n",
    "\n",
    "The default index is a list of integers. Use `set_index()` to assign a column to be the index."
   ]
  },
  {
   "cell_type": "code",
   "execution_count": 28,
   "metadata": {
    "ExecuteTime": {
     "end_time": "2023-09-04T23:47:51.505305700Z",
     "start_time": "2023-09-04T23:47:51.307575900Z"
    }
   },
   "outputs": [
    {
     "data": {
      "text/plain": "       B\nA       \n25  str1\n56  str2\n93  str3",
      "text/html": "<div>\n<style scoped>\n    .dataframe tbody tr th:only-of-type {\n        vertical-align: middle;\n    }\n\n    .dataframe tbody tr th {\n        vertical-align: top;\n    }\n\n    .dataframe thead th {\n        text-align: right;\n    }\n</style>\n<table border=\"1\" class=\"dataframe\">\n  <thead>\n    <tr style=\"text-align: right;\">\n      <th></th>\n      <th>B</th>\n    </tr>\n    <tr>\n      <th>A</th>\n      <th></th>\n    </tr>\n  </thead>\n  <tbody>\n    <tr>\n      <th>25</th>\n      <td>str1</td>\n    </tr>\n    <tr>\n      <th>56</th>\n      <td>str2</td>\n    </tr>\n    <tr>\n      <th>93</th>\n      <td>str3</td>\n    </tr>\n  </tbody>\n</table>\n</div>"
     },
     "execution_count": 28,
     "metadata": {},
     "output_type": "execute_result"
    }
   ],
   "source": [
    "df2 = df1.set_index('A')\n",
    "df2"
   ]
  },
  {
   "cell_type": "markdown",
   "metadata": {},
   "source": [
    "## Load data from an external source"
   ]
  },
  {
   "cell_type": "code",
   "execution_count": 29,
   "metadata": {
    "ExecuteTime": {
     "end_time": "2023-09-04T23:47:51.505305700Z",
     "start_time": "2023-09-04T23:47:51.313134300Z"
    }
   },
   "outputs": [],
   "source": [
    "# pd.read_"
   ]
  },
  {
   "cell_type": "markdown",
   "metadata": {},
   "source": [
    "## Load a DataFrame from a file"
   ]
  },
  {
   "cell_type": "code",
   "execution_count": 30,
   "metadata": {
    "ExecuteTime": {
     "end_time": "2023-09-04T23:47:51.525092700Z",
     "start_time": "2023-09-04T23:47:51.316714100Z"
    }
   },
   "outputs": [
    {
     "data": {
      "text/plain": "        id firstname midname     lastname           fullname        ftin  \\\n0        1     Verne     NaN       Troyer       Verne Troyer     2ft 8in   \n1        8     Herve     NaN  Villechaize  Herve Villechaize    3ft 10in   \n2        9     David     NaN    Rappaport    David Rappaport    3ft 11in   \n3        2      Tony     NaN          Cox           Tony Cox     3ft 6in   \n4        3   Warwick     NaN        Davis      Warwick Davis     3ft 6in   \n...    ...       ...     ...          ...                ...         ...   \n5497  5499   General     NaN       Height     General Height   7ft 6.5in   \n5498  5498   Matthew     NaN      McGrory    Matthew McGrory     7ft 6in   \n5499  5500     Sandy     NaN        Allen        Sandy Allen  7ft 7.25in   \n5500  5501       Sun    Ming         Ming      Sun Ming Ming  7ft 8.75in   \n5501  5502    Robert     NaN       Wadlow      Robert Wadlow    8ft 11in   \n\n      feet  inches   meters gender  \n0        2    8.00  0.81280      M  \n1        3   10.00  1.16840      M  \n2        3   11.00  1.19380      M  \n3        3    6.00  1.06680      M  \n4        3    6.00  1.06680      M  \n...    ...     ...      ...    ...  \n5497     7    6.50  2.29870    NaN  \n5498     7    6.00  2.28600      M  \n5499     7    7.25  2.31775      F  \n5500     7    8.75  2.35585    NaN  \n5501     8   11.00  2.71780      M  \n\n[5502 rows x 10 columns]",
      "text/html": "<div>\n<style scoped>\n    .dataframe tbody tr th:only-of-type {\n        vertical-align: middle;\n    }\n\n    .dataframe tbody tr th {\n        vertical-align: top;\n    }\n\n    .dataframe thead th {\n        text-align: right;\n    }\n</style>\n<table border=\"1\" class=\"dataframe\">\n  <thead>\n    <tr style=\"text-align: right;\">\n      <th></th>\n      <th>id</th>\n      <th>firstname</th>\n      <th>midname</th>\n      <th>lastname</th>\n      <th>fullname</th>\n      <th>ftin</th>\n      <th>feet</th>\n      <th>inches</th>\n      <th>meters</th>\n      <th>gender</th>\n    </tr>\n  </thead>\n  <tbody>\n    <tr>\n      <th>0</th>\n      <td>1</td>\n      <td>Verne</td>\n      <td>NaN</td>\n      <td>Troyer</td>\n      <td>Verne Troyer</td>\n      <td>2ft 8in</td>\n      <td>2</td>\n      <td>8.00</td>\n      <td>0.81280</td>\n      <td>M</td>\n    </tr>\n    <tr>\n      <th>1</th>\n      <td>8</td>\n      <td>Herve</td>\n      <td>NaN</td>\n      <td>Villechaize</td>\n      <td>Herve Villechaize</td>\n      <td>3ft 10in</td>\n      <td>3</td>\n      <td>10.00</td>\n      <td>1.16840</td>\n      <td>M</td>\n    </tr>\n    <tr>\n      <th>2</th>\n      <td>9</td>\n      <td>David</td>\n      <td>NaN</td>\n      <td>Rappaport</td>\n      <td>David Rappaport</td>\n      <td>3ft 11in</td>\n      <td>3</td>\n      <td>11.00</td>\n      <td>1.19380</td>\n      <td>M</td>\n    </tr>\n    <tr>\n      <th>3</th>\n      <td>2</td>\n      <td>Tony</td>\n      <td>NaN</td>\n      <td>Cox</td>\n      <td>Tony Cox</td>\n      <td>3ft 6in</td>\n      <td>3</td>\n      <td>6.00</td>\n      <td>1.06680</td>\n      <td>M</td>\n    </tr>\n    <tr>\n      <th>4</th>\n      <td>3</td>\n      <td>Warwick</td>\n      <td>NaN</td>\n      <td>Davis</td>\n      <td>Warwick Davis</td>\n      <td>3ft 6in</td>\n      <td>3</td>\n      <td>6.00</td>\n      <td>1.06680</td>\n      <td>M</td>\n    </tr>\n    <tr>\n      <th>...</th>\n      <td>...</td>\n      <td>...</td>\n      <td>...</td>\n      <td>...</td>\n      <td>...</td>\n      <td>...</td>\n      <td>...</td>\n      <td>...</td>\n      <td>...</td>\n      <td>...</td>\n    </tr>\n    <tr>\n      <th>5497</th>\n      <td>5499</td>\n      <td>General</td>\n      <td>NaN</td>\n      <td>Height</td>\n      <td>General Height</td>\n      <td>7ft 6.5in</td>\n      <td>7</td>\n      <td>6.50</td>\n      <td>2.29870</td>\n      <td>NaN</td>\n    </tr>\n    <tr>\n      <th>5498</th>\n      <td>5498</td>\n      <td>Matthew</td>\n      <td>NaN</td>\n      <td>McGrory</td>\n      <td>Matthew McGrory</td>\n      <td>7ft 6in</td>\n      <td>7</td>\n      <td>6.00</td>\n      <td>2.28600</td>\n      <td>M</td>\n    </tr>\n    <tr>\n      <th>5499</th>\n      <td>5500</td>\n      <td>Sandy</td>\n      <td>NaN</td>\n      <td>Allen</td>\n      <td>Sandy Allen</td>\n      <td>7ft 7.25in</td>\n      <td>7</td>\n      <td>7.25</td>\n      <td>2.31775</td>\n      <td>F</td>\n    </tr>\n    <tr>\n      <th>5500</th>\n      <td>5501</td>\n      <td>Sun</td>\n      <td>Ming</td>\n      <td>Ming</td>\n      <td>Sun Ming Ming</td>\n      <td>7ft 8.75in</td>\n      <td>7</td>\n      <td>8.75</td>\n      <td>2.35585</td>\n      <td>NaN</td>\n    </tr>\n    <tr>\n      <th>5501</th>\n      <td>5502</td>\n      <td>Robert</td>\n      <td>NaN</td>\n      <td>Wadlow</td>\n      <td>Robert Wadlow</td>\n      <td>8ft 11in</td>\n      <td>8</td>\n      <td>11.00</td>\n      <td>2.71780</td>\n      <td>M</td>\n    </tr>\n  </tbody>\n</table>\n<p>5502 rows × 10 columns</p>\n</div>"
     },
     "execution_count": 30,
     "metadata": {},
     "output_type": "execute_result"
    }
   ],
   "source": [
    "CH = pd.read_csv('../data/celebrity-heights.csv')\n",
    "CH"
   ]
  },
  {
   "cell_type": "code",
   "execution_count": 31,
   "outputs": [
    {
     "data": {
      "text/plain": "   firstname     lastname      ftin  feet  inches\n1      Herve  Villechaize  3ft 10in     3    10.0\n5       Phil    Fondacaro   3ft 6in     3     6.0\n11   Kristin    Chenoweth  4ft 10in     4    10.0\n12     Danny       DeVito  4ft 10in     4    10.0",
      "text/html": "<div>\n<style scoped>\n    .dataframe tbody tr th:only-of-type {\n        vertical-align: middle;\n    }\n\n    .dataframe tbody tr th {\n        vertical-align: top;\n    }\n\n    .dataframe thead th {\n        text-align: right;\n    }\n</style>\n<table border=\"1\" class=\"dataframe\">\n  <thead>\n    <tr style=\"text-align: right;\">\n      <th></th>\n      <th>firstname</th>\n      <th>lastname</th>\n      <th>ftin</th>\n      <th>feet</th>\n      <th>inches</th>\n    </tr>\n  </thead>\n  <tbody>\n    <tr>\n      <th>1</th>\n      <td>Herve</td>\n      <td>Villechaize</td>\n      <td>3ft 10in</td>\n      <td>3</td>\n      <td>10.0</td>\n    </tr>\n    <tr>\n      <th>5</th>\n      <td>Phil</td>\n      <td>Fondacaro</td>\n      <td>3ft 6in</td>\n      <td>3</td>\n      <td>6.0</td>\n    </tr>\n    <tr>\n      <th>11</th>\n      <td>Kristin</td>\n      <td>Chenoweth</td>\n      <td>4ft 10in</td>\n      <td>4</td>\n      <td>10.0</td>\n    </tr>\n    <tr>\n      <th>12</th>\n      <td>Danny</td>\n      <td>DeVito</td>\n      <td>4ft 10in</td>\n      <td>4</td>\n      <td>10.0</td>\n    </tr>\n  </tbody>\n</table>\n</div>"
     },
     "execution_count": 31,
     "metadata": {},
     "output_type": "execute_result"
    }
   ],
   "source": [
    "#CH.set_index('fullname', inplace=True)\n",
    "CH.iloc[[1,5,11,12],[1,3,5,6,7]]"
   ],
   "metadata": {
    "collapsed": false,
    "ExecuteTime": {
     "end_time": "2023-09-04T23:47:51.527086Z",
     "start_time": "2023-09-04T23:47:51.336762200Z"
    }
   }
  },
  {
   "cell_type": "code",
   "execution_count": 32,
   "metadata": {
    "ExecuteTime": {
     "end_time": "2023-09-04T23:47:51.530583700Z",
     "start_time": "2023-09-04T23:47:51.350250500Z"
    }
   },
   "outputs": [
    {
     "data": {
      "text/plain": "                    id firstname midname     lastname      ftin  feet  inches  \\\nfullname                                                                        \nVerne Troyer         1     Verne     NaN       Troyer   2ft 8in     2     8.0   \nHerve Villechaize    8     Herve     NaN  Villechaize  3ft 10in     3    10.0   \nDavid Rappaport      9     David     NaN    Rappaport  3ft 11in     3    11.0   \nTony Cox             2      Tony     NaN          Cox   3ft 6in     3     6.0   \nWarwick Davis        3   Warwick     NaN        Davis   3ft 6in     3     6.0   \nPhil Fondacaro       4      Phil     NaN    Fondacaro   3ft 6in     3     6.0   \nMichael J Anderson   5   Michael       J     Anderson   3ft 7in     3     7.0   \nKenny Baker          6     Kenny     NaN        Baker   3ft 8in     3     8.0   \n\n                    meters gender  \nfullname                           \nVerne Troyer        0.8128      M  \nHerve Villechaize   1.1684      M  \nDavid Rappaport     1.1938      M  \nTony Cox            1.0668      M  \nWarwick Davis       1.0668      M  \nPhil Fondacaro      1.0668      M  \nMichael J Anderson  1.0922      M  \nKenny Baker         1.1176      M  ",
      "text/html": "<div>\n<style scoped>\n    .dataframe tbody tr th:only-of-type {\n        vertical-align: middle;\n    }\n\n    .dataframe tbody tr th {\n        vertical-align: top;\n    }\n\n    .dataframe thead th {\n        text-align: right;\n    }\n</style>\n<table border=\"1\" class=\"dataframe\">\n  <thead>\n    <tr style=\"text-align: right;\">\n      <th></th>\n      <th>id</th>\n      <th>firstname</th>\n      <th>midname</th>\n      <th>lastname</th>\n      <th>ftin</th>\n      <th>feet</th>\n      <th>inches</th>\n      <th>meters</th>\n      <th>gender</th>\n    </tr>\n    <tr>\n      <th>fullname</th>\n      <th></th>\n      <th></th>\n      <th></th>\n      <th></th>\n      <th></th>\n      <th></th>\n      <th></th>\n      <th></th>\n      <th></th>\n    </tr>\n  </thead>\n  <tbody>\n    <tr>\n      <th>Verne Troyer</th>\n      <td>1</td>\n      <td>Verne</td>\n      <td>NaN</td>\n      <td>Troyer</td>\n      <td>2ft 8in</td>\n      <td>2</td>\n      <td>8.0</td>\n      <td>0.8128</td>\n      <td>M</td>\n    </tr>\n    <tr>\n      <th>Herve Villechaize</th>\n      <td>8</td>\n      <td>Herve</td>\n      <td>NaN</td>\n      <td>Villechaize</td>\n      <td>3ft 10in</td>\n      <td>3</td>\n      <td>10.0</td>\n      <td>1.1684</td>\n      <td>M</td>\n    </tr>\n    <tr>\n      <th>David Rappaport</th>\n      <td>9</td>\n      <td>David</td>\n      <td>NaN</td>\n      <td>Rappaport</td>\n      <td>3ft 11in</td>\n      <td>3</td>\n      <td>11.0</td>\n      <td>1.1938</td>\n      <td>M</td>\n    </tr>\n    <tr>\n      <th>Tony Cox</th>\n      <td>2</td>\n      <td>Tony</td>\n      <td>NaN</td>\n      <td>Cox</td>\n      <td>3ft 6in</td>\n      <td>3</td>\n      <td>6.0</td>\n      <td>1.0668</td>\n      <td>M</td>\n    </tr>\n    <tr>\n      <th>Warwick Davis</th>\n      <td>3</td>\n      <td>Warwick</td>\n      <td>NaN</td>\n      <td>Davis</td>\n      <td>3ft 6in</td>\n      <td>3</td>\n      <td>6.0</td>\n      <td>1.0668</td>\n      <td>M</td>\n    </tr>\n    <tr>\n      <th>Phil Fondacaro</th>\n      <td>4</td>\n      <td>Phil</td>\n      <td>NaN</td>\n      <td>Fondacaro</td>\n      <td>3ft 6in</td>\n      <td>3</td>\n      <td>6.0</td>\n      <td>1.0668</td>\n      <td>M</td>\n    </tr>\n    <tr>\n      <th>Michael J Anderson</th>\n      <td>5</td>\n      <td>Michael</td>\n      <td>J</td>\n      <td>Anderson</td>\n      <td>3ft 7in</td>\n      <td>3</td>\n      <td>7.0</td>\n      <td>1.0922</td>\n      <td>M</td>\n    </tr>\n    <tr>\n      <th>Kenny Baker</th>\n      <td>6</td>\n      <td>Kenny</td>\n      <td>NaN</td>\n      <td>Baker</td>\n      <td>3ft 8in</td>\n      <td>3</td>\n      <td>8.0</td>\n      <td>1.1176</td>\n      <td>M</td>\n    </tr>\n  </tbody>\n</table>\n</div>"
     },
     "execution_count": 32,
     "metadata": {},
     "output_type": "execute_result"
    }
   ],
   "source": [
    "CH.set_index('fullname', inplace=True)\n",
    "CH.head(8)"
   ]
  },
  {
   "cell_type": "markdown",
   "source": [],
   "metadata": {
    "collapsed": false
   }
  },
  {
   "cell_type": "markdown",
   "metadata": {},
   "source": [
    "## Load a DataFrame from online data\n",
    "\n",
    "+ We will load data on eductional attainment and personal income from the [California Open Data](https://data.ca.gov/dataset/ca-educational-attainment-personal-income/resource/26201f19-4469-4311-a819-bbbd3e557eda) portal. \n",
    "+ Go to the website, copy the URL and enter it below."
   ]
  },
  {
   "cell_type": "code",
   "execution_count": 33,
   "metadata": {
    "ExecuteTime": {
     "end_time": "2023-09-04T23:47:53.158149900Z",
     "start_time": "2023-09-04T23:47:51.352275500Z"
    }
   },
   "outputs": [],
   "source": [
    "url = 'https://data.ca.gov/dataset/cea8cd18-9d21-4676-85de-d504ee2d4aab/resource/26201f19-4469-4311-a819-bbbd3e557eda/download/ca-educational-attainment-personal-income-2008-2014.csv'\n",
    "table = pd.read_csv(url)"
   ]
  },
  {
   "cell_type": "code",
   "execution_count": 47,
   "metadata": {
    "ExecuteTime": {
     "end_time": "2023-09-04T23:55:50.637585300Z",
     "start_time": "2023-09-04T23:55:50.628096900Z"
    }
   },
   "outputs": [
    {
     "data": {
      "text/plain": "       Population Count\ncount      1.026000e+03\nmean       1.855429e+05\nstd        2.187005e+05\nmin        1.048000e+03\n25%        3.052250e+04\n50%        9.039300e+04\n75%        2.879518e+05\nmax        1.643095e+06",
      "text/html": "<div>\n<style scoped>\n    .dataframe tbody tr th:only-of-type {\n        vertical-align: middle;\n    }\n\n    .dataframe tbody tr th {\n        vertical-align: top;\n    }\n\n    .dataframe thead th {\n        text-align: right;\n    }\n</style>\n<table border=\"1\" class=\"dataframe\">\n  <thead>\n    <tr style=\"text-align: right;\">\n      <th></th>\n      <th>Population Count</th>\n    </tr>\n  </thead>\n  <tbody>\n    <tr>\n      <th>count</th>\n      <td>1.026000e+03</td>\n    </tr>\n    <tr>\n      <th>mean</th>\n      <td>1.855429e+05</td>\n    </tr>\n    <tr>\n      <th>std</th>\n      <td>2.187005e+05</td>\n    </tr>\n    <tr>\n      <th>min</th>\n      <td>1.048000e+03</td>\n    </tr>\n    <tr>\n      <th>25%</th>\n      <td>3.052250e+04</td>\n    </tr>\n    <tr>\n      <th>50%</th>\n      <td>9.039300e+04</td>\n    </tr>\n    <tr>\n      <th>75%</th>\n      <td>2.879518e+05</td>\n    </tr>\n    <tr>\n      <th>max</th>\n      <td>1.643095e+06</td>\n    </tr>\n  </tbody>\n</table>\n</div>"
     },
     "execution_count": 47,
     "metadata": {},
     "output_type": "execute_result"
    }
   ],
   "source": [
    "table.describe()"
   ]
  },
  {
   "cell_type": "markdown",
   "metadata": {},
   "source": [
    "## DataFrame summaries\n",
    "+ [info()](https://pandas.pydata.org/pandas-docs/stable/reference/api/pandas.DataFrame.info.html#): Column data types.\n",
    "+ [describe()](https://pandas.pydata.org/pandas-docs/stable/reference/api/pandas.DataFrame.describe.html#): Summary statistics for numerical columns\n",
    "+ [head()](https://pandas.pydata.org/pandas-docs/stable/reference/api/pandas.DataFrame.head.html), [tail()](https://pandas.pydata.org/pandas-docs/stable/reference/api/pandas.DataFrame.tail.html#pandas.DataFrame.tail) : Show first or last few rows of a table"
   ]
  },
  {
   "cell_type": "code",
   "execution_count": 35,
   "metadata": {
    "ExecuteTime": {
     "end_time": "2023-09-04T23:47:53.180911700Z",
     "start_time": "2023-09-04T23:47:53.168270700Z"
    }
   },
   "outputs": [
    {
     "data": {
      "text/plain": "                        Year        Age  Gender  \\\n1050  01/01/2014 12:00:00 AM  65 to 80+  Female   \n1051  01/01/2014 12:00:00 AM  65 to 80+  Female   \n1052  01/01/2014 12:00:00 AM  65 to 80+  Female   \n1053  01/01/2014 12:00:00 AM  65 to 80+  Female   \n1054  01/01/2014 12:00:00 AM  65 to 80+  Female   \n1055  01/01/2014 12:00:00 AM  65 to 80+  Female   \n1056  01/01/2014 12:00:00 AM  65 to 80+  Female   \n1057  01/01/2014 12:00:00 AM  65 to 80+  Female   \n1058  01/01/2014 12:00:00 AM  65 to 80+  Female   \n1059  01/01/2014 12:00:00 AM  65 to 80+  Female   \n\n                   Educational Attainment     Personal Income  \\\n1050  Some college, less than 4-yr degree  $50,000 to $74,999   \n1051  Some college, less than 4-yr degree    $75,000 and over   \n1052          Bachelor's degree or higher           No Income   \n1053          Bachelor's degree or higher    $5,000 to $9,999   \n1054          Bachelor's degree or higher  $10,000 to $14,999   \n1055          Bachelor's degree or higher  $15,000 to $24,999   \n1056          Bachelor's degree or higher  $25,000 to $34,999   \n1057          Bachelor's degree or higher  $35,000 to $49,999   \n1058          Bachelor's degree or higher  $50,000 to $74,999   \n1059          Bachelor's degree or higher    $75,000 and over   \n\n      Population Count  \n1050           63144.0  \n1051           54704.0  \n1052           15459.0  \n1053           62471.0  \n1054          104583.0  \n1055           82988.0  \n1056           59607.0  \n1057          113584.0  \n1058           97657.0  \n1059          110009.0  ",
      "text/html": "<div>\n<style scoped>\n    .dataframe tbody tr th:only-of-type {\n        vertical-align: middle;\n    }\n\n    .dataframe tbody tr th {\n        vertical-align: top;\n    }\n\n    .dataframe thead th {\n        text-align: right;\n    }\n</style>\n<table border=\"1\" class=\"dataframe\">\n  <thead>\n    <tr style=\"text-align: right;\">\n      <th></th>\n      <th>Year</th>\n      <th>Age</th>\n      <th>Gender</th>\n      <th>Educational Attainment</th>\n      <th>Personal Income</th>\n      <th>Population Count</th>\n    </tr>\n  </thead>\n  <tbody>\n    <tr>\n      <th>1050</th>\n      <td>01/01/2014 12:00:00 AM</td>\n      <td>65 to 80+</td>\n      <td>Female</td>\n      <td>Some college, less than 4-yr degree</td>\n      <td>$50,000 to $74,999</td>\n      <td>63144.0</td>\n    </tr>\n    <tr>\n      <th>1051</th>\n      <td>01/01/2014 12:00:00 AM</td>\n      <td>65 to 80+</td>\n      <td>Female</td>\n      <td>Some college, less than 4-yr degree</td>\n      <td>$75,000 and over</td>\n      <td>54704.0</td>\n    </tr>\n    <tr>\n      <th>1052</th>\n      <td>01/01/2014 12:00:00 AM</td>\n      <td>65 to 80+</td>\n      <td>Female</td>\n      <td>Bachelor's degree or higher</td>\n      <td>No Income</td>\n      <td>15459.0</td>\n    </tr>\n    <tr>\n      <th>1053</th>\n      <td>01/01/2014 12:00:00 AM</td>\n      <td>65 to 80+</td>\n      <td>Female</td>\n      <td>Bachelor's degree or higher</td>\n      <td>$5,000 to $9,999</td>\n      <td>62471.0</td>\n    </tr>\n    <tr>\n      <th>1054</th>\n      <td>01/01/2014 12:00:00 AM</td>\n      <td>65 to 80+</td>\n      <td>Female</td>\n      <td>Bachelor's degree or higher</td>\n      <td>$10,000 to $14,999</td>\n      <td>104583.0</td>\n    </tr>\n    <tr>\n      <th>1055</th>\n      <td>01/01/2014 12:00:00 AM</td>\n      <td>65 to 80+</td>\n      <td>Female</td>\n      <td>Bachelor's degree or higher</td>\n      <td>$15,000 to $24,999</td>\n      <td>82988.0</td>\n    </tr>\n    <tr>\n      <th>1056</th>\n      <td>01/01/2014 12:00:00 AM</td>\n      <td>65 to 80+</td>\n      <td>Female</td>\n      <td>Bachelor's degree or higher</td>\n      <td>$25,000 to $34,999</td>\n      <td>59607.0</td>\n    </tr>\n    <tr>\n      <th>1057</th>\n      <td>01/01/2014 12:00:00 AM</td>\n      <td>65 to 80+</td>\n      <td>Female</td>\n      <td>Bachelor's degree or higher</td>\n      <td>$35,000 to $49,999</td>\n      <td>113584.0</td>\n    </tr>\n    <tr>\n      <th>1058</th>\n      <td>01/01/2014 12:00:00 AM</td>\n      <td>65 to 80+</td>\n      <td>Female</td>\n      <td>Bachelor's degree or higher</td>\n      <td>$50,000 to $74,999</td>\n      <td>97657.0</td>\n    </tr>\n    <tr>\n      <th>1059</th>\n      <td>01/01/2014 12:00:00 AM</td>\n      <td>65 to 80+</td>\n      <td>Female</td>\n      <td>Bachelor's degree or higher</td>\n      <td>$75,000 and over</td>\n      <td>110009.0</td>\n    </tr>\n  </tbody>\n</table>\n</div>"
     },
     "execution_count": 35,
     "metadata": {},
     "output_type": "execute_result"
    }
   ],
   "source": [
    "table.tail(10)"
   ]
  },
  {
   "cell_type": "markdown",
   "metadata": {},
   "source": [
    "---\n",
    "# <center> <font color=darkgreen>Selecting data</font>  </center>\n",
    "---\n",
    "\n",
    "There are three basic ways to select data from a DataFrame. \n",
    "\n",
    "+ `[]`: Bracket selection\n",
    "+ `.loc[]` : Label-based selection\n",
    "+ `.iloc[]` : Integer-based selection"
   ]
  },
  {
   "cell_type": "markdown",
   "metadata": {},
   "source": [
    "## `[]` Bracket selection\n",
    "\n",
    "Syntax: `X[selector]`\n",
    "+ To select columns the `selector` can be\n",
    "    + A column label (string)\n",
    "    + A list of column labels (list of strings)\n",
    "+ To select rows the `selector` can be\n",
    "    + A slice\n",
    "    + A boolean mask"
   ]
  },
  {
   "cell_type": "markdown",
   "metadata": {},
   "source": [
    "### Select a single column (string)"
   ]
  },
  {
   "cell_type": "code",
   "execution_count": 36,
   "metadata": {
    "ExecuteTime": {
     "end_time": "2023-09-04T23:47:53.206195Z",
     "start_time": "2023-09-04T23:47:53.182416Z"
    }
   },
   "outputs": [
    {
     "data": {
      "text/plain": "fullname\nVerne Troyer           Verne\nHerve Villechaize      Herve\nDavid Rappaport        David\nTony Cox                Tony\nWarwick Davis        Warwick\n                      ...   \nGeneral Height       General\nMatthew McGrory      Matthew\nSandy Allen            Sandy\nSun Ming Ming            Sun\nRobert Wadlow         Robert\nName: firstname, Length: 5502, dtype: object"
     },
     "execution_count": 36,
     "metadata": {},
     "output_type": "execute_result"
    }
   ],
   "source": [
    "CH['firstname']"
   ]
  },
  {
   "cell_type": "markdown",
   "metadata": {},
   "source": [
    "### Select multiple columns (list of strings)"
   ]
  },
  {
   "cell_type": "code",
   "execution_count": 37,
   "outputs": [
    {
     "data": {
      "text/plain": "                  firstname     lastname\nfullname                                \nVerne Troyer          Verne       Troyer\nHerve Villechaize     Herve  Villechaize\nDavid Rappaport       David    Rappaport\nTony Cox               Tony          Cox\nWarwick Davis       Warwick        Davis\n...                     ...          ...\nGeneral Height      General       Height\nMatthew McGrory     Matthew      McGrory\nSandy Allen           Sandy        Allen\nSun Ming Ming           Sun         Ming\nRobert Wadlow        Robert       Wadlow\n\n[5502 rows x 2 columns]",
      "text/html": "<div>\n<style scoped>\n    .dataframe tbody tr th:only-of-type {\n        vertical-align: middle;\n    }\n\n    .dataframe tbody tr th {\n        vertical-align: top;\n    }\n\n    .dataframe thead th {\n        text-align: right;\n    }\n</style>\n<table border=\"1\" class=\"dataframe\">\n  <thead>\n    <tr style=\"text-align: right;\">\n      <th></th>\n      <th>firstname</th>\n      <th>lastname</th>\n    </tr>\n    <tr>\n      <th>fullname</th>\n      <th></th>\n      <th></th>\n    </tr>\n  </thead>\n  <tbody>\n    <tr>\n      <th>Verne Troyer</th>\n      <td>Verne</td>\n      <td>Troyer</td>\n    </tr>\n    <tr>\n      <th>Herve Villechaize</th>\n      <td>Herve</td>\n      <td>Villechaize</td>\n    </tr>\n    <tr>\n      <th>David Rappaport</th>\n      <td>David</td>\n      <td>Rappaport</td>\n    </tr>\n    <tr>\n      <th>Tony Cox</th>\n      <td>Tony</td>\n      <td>Cox</td>\n    </tr>\n    <tr>\n      <th>Warwick Davis</th>\n      <td>Warwick</td>\n      <td>Davis</td>\n    </tr>\n    <tr>\n      <th>...</th>\n      <td>...</td>\n      <td>...</td>\n    </tr>\n    <tr>\n      <th>General Height</th>\n      <td>General</td>\n      <td>Height</td>\n    </tr>\n    <tr>\n      <th>Matthew McGrory</th>\n      <td>Matthew</td>\n      <td>McGrory</td>\n    </tr>\n    <tr>\n      <th>Sandy Allen</th>\n      <td>Sandy</td>\n      <td>Allen</td>\n    </tr>\n    <tr>\n      <th>Sun Ming Ming</th>\n      <td>Sun</td>\n      <td>Ming</td>\n    </tr>\n    <tr>\n      <th>Robert Wadlow</th>\n      <td>Robert</td>\n      <td>Wadlow</td>\n    </tr>\n  </tbody>\n</table>\n<p>5502 rows × 2 columns</p>\n</div>"
     },
     "execution_count": 37,
     "metadata": {},
     "output_type": "execute_result"
    }
   ],
   "source": [
    "CH[['firstname', 'lastname']]"
   ],
   "metadata": {
    "collapsed": false,
    "ExecuteTime": {
     "end_time": "2023-09-04T23:47:53.267784200Z",
     "start_time": "2023-09-04T23:47:53.190491100Z"
    }
   }
  },
  {
   "cell_type": "code",
   "execution_count": 38,
   "metadata": {
    "ExecuteTime": {
     "end_time": "2023-09-04T23:47:53.281108900Z",
     "start_time": "2023-09-04T23:47:53.194090100Z"
    }
   },
   "outputs": [
    {
     "data": {
      "text/plain": "pandas.core.frame.DataFrame"
     },
     "execution_count": 38,
     "metadata": {},
     "output_type": "execute_result"
    }
   ],
   "source": [
    "type(CH[['firstname','lastname']])"
   ]
  },
  {
   "cell_type": "markdown",
   "metadata": {},
   "source": [
    "### Select rows with slice indexing\n",
    "[Slice indexing](https://docs.python.org/3/tutorial/introduction.html), in which you specify a start index, a stop index, and a step, works in the same way in Pandas as it does for regaular Python lists."
   ]
  },
  {
   "cell_type": "code",
   "execution_count": 39,
   "metadata": {
    "ExecuteTime": {
     "end_time": "2023-09-04T23:47:53.302731800Z",
     "start_time": "2023-09-04T23:47:53.201081Z"
    }
   },
   "outputs": [
    {
     "data": {
      "text/plain": "                      id firstname midname   lastname        ftin  feet  \\\nfullname                                                                  \nDavid Rappaport        9     David     NaN  Rappaport    3ft 11in     3   \nTony Cox               2      Tony     NaN        Cox     3ft 6in     3   \nWarwick Davis          3   Warwick     NaN      Davis     3ft 6in     3   \nPhil Fondacaro         4      Phil     NaN  Fondacaro     3ft 6in     3   \nMichael J Anderson     5   Michael       J   Anderson     3ft 7in     3   \n...                  ...       ...     ...        ...         ...   ...   \nGeneral Height      5499   General     NaN     Height   7ft 6.5in     7   \nMatthew McGrory     5498   Matthew     NaN    McGrory     7ft 6in     7   \nSandy Allen         5500     Sandy     NaN      Allen  7ft 7.25in     7   \nSun Ming Ming       5501       Sun    Ming       Ming  7ft 8.75in     7   \nRobert Wadlow       5502    Robert     NaN     Wadlow    8ft 11in     8   \n\n                    inches   meters gender  \nfullname                                    \nDavid Rappaport      11.00  1.19380      M  \nTony Cox              6.00  1.06680      M  \nWarwick Davis         6.00  1.06680      M  \nPhil Fondacaro        6.00  1.06680      M  \nMichael J Anderson    7.00  1.09220      M  \n...                    ...      ...    ...  \nGeneral Height        6.50  2.29870    NaN  \nMatthew McGrory       6.00  2.28600      M  \nSandy Allen           7.25  2.31775      F  \nSun Ming Ming         8.75  2.35585    NaN  \nRobert Wadlow        11.00  2.71780      M  \n\n[5500 rows x 9 columns]",
      "text/html": "<div>\n<style scoped>\n    .dataframe tbody tr th:only-of-type {\n        vertical-align: middle;\n    }\n\n    .dataframe tbody tr th {\n        vertical-align: top;\n    }\n\n    .dataframe thead th {\n        text-align: right;\n    }\n</style>\n<table border=\"1\" class=\"dataframe\">\n  <thead>\n    <tr style=\"text-align: right;\">\n      <th></th>\n      <th>id</th>\n      <th>firstname</th>\n      <th>midname</th>\n      <th>lastname</th>\n      <th>ftin</th>\n      <th>feet</th>\n      <th>inches</th>\n      <th>meters</th>\n      <th>gender</th>\n    </tr>\n    <tr>\n      <th>fullname</th>\n      <th></th>\n      <th></th>\n      <th></th>\n      <th></th>\n      <th></th>\n      <th></th>\n      <th></th>\n      <th></th>\n      <th></th>\n    </tr>\n  </thead>\n  <tbody>\n    <tr>\n      <th>David Rappaport</th>\n      <td>9</td>\n      <td>David</td>\n      <td>NaN</td>\n      <td>Rappaport</td>\n      <td>3ft 11in</td>\n      <td>3</td>\n      <td>11.00</td>\n      <td>1.19380</td>\n      <td>M</td>\n    </tr>\n    <tr>\n      <th>Tony Cox</th>\n      <td>2</td>\n      <td>Tony</td>\n      <td>NaN</td>\n      <td>Cox</td>\n      <td>3ft 6in</td>\n      <td>3</td>\n      <td>6.00</td>\n      <td>1.06680</td>\n      <td>M</td>\n    </tr>\n    <tr>\n      <th>Warwick Davis</th>\n      <td>3</td>\n      <td>Warwick</td>\n      <td>NaN</td>\n      <td>Davis</td>\n      <td>3ft 6in</td>\n      <td>3</td>\n      <td>6.00</td>\n      <td>1.06680</td>\n      <td>M</td>\n    </tr>\n    <tr>\n      <th>Phil Fondacaro</th>\n      <td>4</td>\n      <td>Phil</td>\n      <td>NaN</td>\n      <td>Fondacaro</td>\n      <td>3ft 6in</td>\n      <td>3</td>\n      <td>6.00</td>\n      <td>1.06680</td>\n      <td>M</td>\n    </tr>\n    <tr>\n      <th>Michael J Anderson</th>\n      <td>5</td>\n      <td>Michael</td>\n      <td>J</td>\n      <td>Anderson</td>\n      <td>3ft 7in</td>\n      <td>3</td>\n      <td>7.00</td>\n      <td>1.09220</td>\n      <td>M</td>\n    </tr>\n    <tr>\n      <th>...</th>\n      <td>...</td>\n      <td>...</td>\n      <td>...</td>\n      <td>...</td>\n      <td>...</td>\n      <td>...</td>\n      <td>...</td>\n      <td>...</td>\n      <td>...</td>\n    </tr>\n    <tr>\n      <th>General Height</th>\n      <td>5499</td>\n      <td>General</td>\n      <td>NaN</td>\n      <td>Height</td>\n      <td>7ft 6.5in</td>\n      <td>7</td>\n      <td>6.50</td>\n      <td>2.29870</td>\n      <td>NaN</td>\n    </tr>\n    <tr>\n      <th>Matthew McGrory</th>\n      <td>5498</td>\n      <td>Matthew</td>\n      <td>NaN</td>\n      <td>McGrory</td>\n      <td>7ft 6in</td>\n      <td>7</td>\n      <td>6.00</td>\n      <td>2.28600</td>\n      <td>M</td>\n    </tr>\n    <tr>\n      <th>Sandy Allen</th>\n      <td>5500</td>\n      <td>Sandy</td>\n      <td>NaN</td>\n      <td>Allen</td>\n      <td>7ft 7.25in</td>\n      <td>7</td>\n      <td>7.25</td>\n      <td>2.31775</td>\n      <td>F</td>\n    </tr>\n    <tr>\n      <th>Sun Ming Ming</th>\n      <td>5501</td>\n      <td>Sun</td>\n      <td>Ming</td>\n      <td>Ming</td>\n      <td>7ft 8.75in</td>\n      <td>7</td>\n      <td>8.75</td>\n      <td>2.35585</td>\n      <td>NaN</td>\n    </tr>\n    <tr>\n      <th>Robert Wadlow</th>\n      <td>5502</td>\n      <td>Robert</td>\n      <td>NaN</td>\n      <td>Wadlow</td>\n      <td>8ft 11in</td>\n      <td>8</td>\n      <td>11.00</td>\n      <td>2.71780</td>\n      <td>M</td>\n    </tr>\n  </tbody>\n</table>\n<p>5500 rows × 9 columns</p>\n</div>"
     },
     "execution_count": 39,
     "metadata": {},
     "output_type": "execute_result"
    }
   ],
   "source": [
    "CH[2:]"
   ]
  },
  {
   "cell_type": "markdown",
   "metadata": {},
   "source": [
    "### Select rows with a boolean mask\n",
    "\n",
    "You can use a boolean list or a boolean Series as a mask for filtering rows."
   ]
  },
  {
   "cell_type": "code",
   "execution_count": 40,
   "metadata": {
    "ExecuteTime": {
     "end_time": "2023-09-04T23:47:53.323422700Z",
     "start_time": "2023-09-04T23:47:53.215688200Z"
    }
   },
   "outputs": [
    {
     "data": {
      "text/plain": "fullname\nMichael J Anderson    Anderson\nA J Langer              Langer\nMichael J Fox              Fox\nJ J Moses                Moses\nBrian J White            White\nSam J Jones              Jones\nName: lastname, dtype: object"
     },
     "execution_count": 40,
     "metadata": {},
     "output_type": "execute_result"
    }
   ],
   "source": [
    "CH.loc[CH['midname'] == 'J', 'lastname']"
   ]
  },
  {
   "cell_type": "markdown",
   "metadata": {},
   "source": [
    "## `loc[]` : Label-based selection\n",
    "\n",
    "Syntax: `X.loc[rowselector,columnselector]` (`columnselector` is optional)\n",
    " \n",
    "`rowselector` can be\n",
    "+ An index (integer, string, date, etc.)\n",
    "+ A list of indexes.\n",
    "+ A slice (only if the index is integer-based)\n",
    "+ A boolean mask\n",
    "\n",
    "`columnselector` can be \n",
    "+ A string label. \n",
    "+ A list of strings labels."
   ]
  },
  {
   "cell_type": "markdown",
   "metadata": {},
   "source": [
    "### `.loc` can do (almost) anything `[]` can do\n",
    "\n",
    "+ Except: .loc(slice) only works if the index is the integer-based default index. \n",
    "+ For column selection, use `.loc[:,columnselector]`"
   ]
  },
  {
   "cell_type": "code",
   "execution_count": 41,
   "metadata": {
    "ExecuteTime": {
     "end_time": "2023-09-04T23:47:53.368Z",
     "start_time": "2023-09-04T23:47:53.219667300Z"
    }
   },
   "outputs": [
    {
     "data": {
      "text/plain": "fullname\nVerne Troyer           M\nHerve Villechaize      M\nDavid Rappaport        M\nTony Cox               M\nWarwick Davis          M\n                    ... \nGeneral Height       NaN\nMatthew McGrory        M\nSandy Allen            F\nSun Ming Ming        NaN\nRobert Wadlow          M\nName: gender, Length: 5502, dtype: object"
     },
     "execution_count": 41,
     "metadata": {},
     "output_type": "execute_result"
    }
   ],
   "source": [
    "CH.loc[:,'gender']"
   ]
  },
  {
   "cell_type": "markdown",
   "metadata": {},
   "source": [
    "### Example: Select multiple rows and columns"
   ]
  },
  {
   "cell_type": "code",
   "execution_count": 42,
   "metadata": {
    "ExecuteTime": {
     "end_time": "2023-09-04T23:47:53.405794700Z",
     "start_time": "2023-09-04T23:47:53.228337Z"
    }
   },
   "outputs": [
    {
     "data": {
      "text/plain": "                   firstname  meters      ftin\nfullname                                      \nVerne Troyer           Verne  0.8128   2ft 8in\nHerve Villechaize      Herve  1.1684  3ft 10in\nDavid Rappaport        David  1.1938  3ft 11in\nTony Cox                Tony  1.0668   3ft 6in\nWarwick Davis        Warwick  1.0668   3ft 6in\n...                      ...     ...       ...\nShaquille O'Neal   Shaquille  2.1590   7ft 1in\nIan Whyte                Ian  2.1590   7ft 1in\nKevin Peter Hall       Kevin  2.1844   7ft 2in\nMatthew McGrory      Matthew  2.2860   7ft 6in\nRobert Wadlow         Robert  2.7178  8ft 11in\n\n[2651 rows x 3 columns]",
      "text/html": "<div>\n<style scoped>\n    .dataframe tbody tr th:only-of-type {\n        vertical-align: middle;\n    }\n\n    .dataframe tbody tr th {\n        vertical-align: top;\n    }\n\n    .dataframe thead th {\n        text-align: right;\n    }\n</style>\n<table border=\"1\" class=\"dataframe\">\n  <thead>\n    <tr style=\"text-align: right;\">\n      <th></th>\n      <th>firstname</th>\n      <th>meters</th>\n      <th>ftin</th>\n    </tr>\n    <tr>\n      <th>fullname</th>\n      <th></th>\n      <th></th>\n      <th></th>\n    </tr>\n  </thead>\n  <tbody>\n    <tr>\n      <th>Verne Troyer</th>\n      <td>Verne</td>\n      <td>0.8128</td>\n      <td>2ft 8in</td>\n    </tr>\n    <tr>\n      <th>Herve Villechaize</th>\n      <td>Herve</td>\n      <td>1.1684</td>\n      <td>3ft 10in</td>\n    </tr>\n    <tr>\n      <th>David Rappaport</th>\n      <td>David</td>\n      <td>1.1938</td>\n      <td>3ft 11in</td>\n    </tr>\n    <tr>\n      <th>Tony Cox</th>\n      <td>Tony</td>\n      <td>1.0668</td>\n      <td>3ft 6in</td>\n    </tr>\n    <tr>\n      <th>Warwick Davis</th>\n      <td>Warwick</td>\n      <td>1.0668</td>\n      <td>3ft 6in</td>\n    </tr>\n    <tr>\n      <th>...</th>\n      <td>...</td>\n      <td>...</td>\n      <td>...</td>\n    </tr>\n    <tr>\n      <th>Shaquille O'Neal</th>\n      <td>Shaquille</td>\n      <td>2.1590</td>\n      <td>7ft 1in</td>\n    </tr>\n    <tr>\n      <th>Ian Whyte</th>\n      <td>Ian</td>\n      <td>2.1590</td>\n      <td>7ft 1in</td>\n    </tr>\n    <tr>\n      <th>Kevin Peter Hall</th>\n      <td>Kevin</td>\n      <td>2.1844</td>\n      <td>7ft 2in</td>\n    </tr>\n    <tr>\n      <th>Matthew McGrory</th>\n      <td>Matthew</td>\n      <td>2.2860</td>\n      <td>7ft 6in</td>\n    </tr>\n    <tr>\n      <th>Robert Wadlow</th>\n      <td>Robert</td>\n      <td>2.7178</td>\n      <td>8ft 11in</td>\n    </tr>\n  </tbody>\n</table>\n<p>2651 rows × 3 columns</p>\n</div>"
     },
     "execution_count": 42,
     "metadata": {},
     "output_type": "execute_result"
    }
   ],
   "source": [
    "CH.loc[CH['gender'] == 'M', ['firstname','meters','ftin']]"
   ]
  },
  {
   "cell_type": "markdown",
   "metadata": {},
   "source": [
    "### Example: Boolean masking"
   ]
  },
  {
   "cell_type": "code",
   "execution_count": 43,
   "metadata": {
    "ExecuteTime": {
     "end_time": "2023-09-04T23:47:53.410828100Z",
     "start_time": "2023-09-04T23:47:53.237395500Z"
    }
   },
   "outputs": [
    {
     "ename": "TypeError",
     "evalue": "'<' not supported between instances of 'str' and 'int'",
     "output_type": "error",
     "traceback": [
      "\u001B[1;31m---------------------------------------------------------------------------\u001B[0m",
      "\u001B[1;31mTypeError\u001B[0m                                 Traceback (most recent call last)",
      "Cell \u001B[1;32mIn[43], line 1\u001B[0m\n\u001B[1;32m----> 1\u001B[0m CH\u001B[38;5;241m.\u001B[39mloc[\u001B[43mCH\u001B[49m\u001B[38;5;241;43m.\u001B[39;49m\u001B[43mindex\u001B[49m\u001B[38;5;241;43m<\u001B[39;49m\u001B[38;5;241;43m10\u001B[39;49m,[\u001B[38;5;124m'\u001B[39m\u001B[38;5;124mfirstname\u001B[39m\u001B[38;5;124m'\u001B[39m,\u001B[38;5;124m'\u001B[39m\u001B[38;5;124mlastname\u001B[39m\u001B[38;5;124m'\u001B[39m,\u001B[38;5;124m'\u001B[39m\u001B[38;5;124mgender\u001B[39m\u001B[38;5;124m'\u001B[39m,\u001B[38;5;124m'\u001B[39m\u001B[38;5;124mmeters\u001B[39m\u001B[38;5;124m'\u001B[39m]]\n",
      "File \u001B[1;32mC:\\Java\\anaconda3\\lib\\site-packages\\pandas\\core\\ops\\common.py:81\u001B[0m, in \u001B[0;36m_unpack_zerodim_and_defer.<locals>.new_method\u001B[1;34m(self, other)\u001B[0m\n\u001B[0;32m     77\u001B[0m             \u001B[38;5;28;01mreturn\u001B[39;00m \u001B[38;5;28mNotImplemented\u001B[39m\n\u001B[0;32m     79\u001B[0m other \u001B[38;5;241m=\u001B[39m item_from_zerodim(other)\n\u001B[1;32m---> 81\u001B[0m \u001B[38;5;28;01mreturn\u001B[39;00m \u001B[43mmethod\u001B[49m\u001B[43m(\u001B[49m\u001B[38;5;28;43mself\u001B[39;49m\u001B[43m,\u001B[49m\u001B[43m \u001B[49m\u001B[43mother\u001B[49m\u001B[43m)\u001B[49m\n",
      "File \u001B[1;32mC:\\Java\\anaconda3\\lib\\site-packages\\pandas\\core\\arraylike.py:48\u001B[0m, in \u001B[0;36mOpsMixin.__lt__\u001B[1;34m(self, other)\u001B[0m\n\u001B[0;32m     46\u001B[0m \u001B[38;5;129m@unpack_zerodim_and_defer\u001B[39m(\u001B[38;5;124m\"\u001B[39m\u001B[38;5;124m__lt__\u001B[39m\u001B[38;5;124m\"\u001B[39m)\n\u001B[0;32m     47\u001B[0m \u001B[38;5;28;01mdef\u001B[39;00m \u001B[38;5;21m__lt__\u001B[39m(\u001B[38;5;28mself\u001B[39m, other):\n\u001B[1;32m---> 48\u001B[0m     \u001B[38;5;28;01mreturn\u001B[39;00m \u001B[38;5;28;43mself\u001B[39;49m\u001B[38;5;241;43m.\u001B[39;49m\u001B[43m_cmp_method\u001B[49m\u001B[43m(\u001B[49m\u001B[43mother\u001B[49m\u001B[43m,\u001B[49m\u001B[43m \u001B[49m\u001B[43moperator\u001B[49m\u001B[38;5;241;43m.\u001B[39;49m\u001B[43mlt\u001B[49m\u001B[43m)\u001B[49m\n",
      "File \u001B[1;32mC:\\Java\\anaconda3\\lib\\site-packages\\pandas\\core\\indexes\\base.py:6779\u001B[0m, in \u001B[0;36mIndex._cmp_method\u001B[1;34m(self, other, op)\u001B[0m\n\u001B[0;32m   6776\u001B[0m \u001B[38;5;28;01melif\u001B[39;00m is_object_dtype(\u001B[38;5;28mself\u001B[39m\u001B[38;5;241m.\u001B[39mdtype) \u001B[38;5;129;01mand\u001B[39;00m \u001B[38;5;129;01mnot\u001B[39;00m \u001B[38;5;28misinstance\u001B[39m(\u001B[38;5;28mself\u001B[39m, ABCMultiIndex):\n\u001B[0;32m   6777\u001B[0m     \u001B[38;5;66;03m# don't pass MultiIndex\u001B[39;00m\n\u001B[0;32m   6778\u001B[0m     \u001B[38;5;28;01mwith\u001B[39;00m np\u001B[38;5;241m.\u001B[39merrstate(\u001B[38;5;28mall\u001B[39m\u001B[38;5;241m=\u001B[39m\u001B[38;5;124m\"\u001B[39m\u001B[38;5;124mignore\u001B[39m\u001B[38;5;124m\"\u001B[39m):\n\u001B[1;32m-> 6779\u001B[0m         result \u001B[38;5;241m=\u001B[39m \u001B[43mops\u001B[49m\u001B[38;5;241;43m.\u001B[39;49m\u001B[43mcomp_method_OBJECT_ARRAY\u001B[49m\u001B[43m(\u001B[49m\u001B[43mop\u001B[49m\u001B[43m,\u001B[49m\u001B[43m \u001B[49m\u001B[38;5;28;43mself\u001B[39;49m\u001B[38;5;241;43m.\u001B[39;49m\u001B[43m_values\u001B[49m\u001B[43m,\u001B[49m\u001B[43m \u001B[49m\u001B[43mother\u001B[49m\u001B[43m)\u001B[49m\n\u001B[0;32m   6781\u001B[0m \u001B[38;5;28;01melse\u001B[39;00m:\n\u001B[0;32m   6782\u001B[0m     \u001B[38;5;28;01mwith\u001B[39;00m np\u001B[38;5;241m.\u001B[39merrstate(\u001B[38;5;28mall\u001B[39m\u001B[38;5;241m=\u001B[39m\u001B[38;5;124m\"\u001B[39m\u001B[38;5;124mignore\u001B[39m\u001B[38;5;124m\"\u001B[39m):\n",
      "File \u001B[1;32mC:\\Java\\anaconda3\\lib\\site-packages\\pandas\\core\\ops\\array_ops.py:82\u001B[0m, in \u001B[0;36mcomp_method_OBJECT_ARRAY\u001B[1;34m(op, x, y)\u001B[0m\n\u001B[0;32m     80\u001B[0m     result \u001B[38;5;241m=\u001B[39m libops\u001B[38;5;241m.\u001B[39mvec_compare(x\u001B[38;5;241m.\u001B[39mravel(), y\u001B[38;5;241m.\u001B[39mravel(), op)\n\u001B[0;32m     81\u001B[0m \u001B[38;5;28;01melse\u001B[39;00m:\n\u001B[1;32m---> 82\u001B[0m     result \u001B[38;5;241m=\u001B[39m \u001B[43mlibops\u001B[49m\u001B[38;5;241;43m.\u001B[39;49m\u001B[43mscalar_compare\u001B[49m\u001B[43m(\u001B[49m\u001B[43mx\u001B[49m\u001B[38;5;241;43m.\u001B[39;49m\u001B[43mravel\u001B[49m\u001B[43m(\u001B[49m\u001B[43m)\u001B[49m\u001B[43m,\u001B[49m\u001B[43m \u001B[49m\u001B[43my\u001B[49m\u001B[43m,\u001B[49m\u001B[43m \u001B[49m\u001B[43mop\u001B[49m\u001B[43m)\u001B[49m\n\u001B[0;32m     83\u001B[0m \u001B[38;5;28;01mreturn\u001B[39;00m result\u001B[38;5;241m.\u001B[39mreshape(x\u001B[38;5;241m.\u001B[39mshape)\n",
      "File \u001B[1;32mC:\\Java\\anaconda3\\lib\\site-packages\\pandas\\_libs\\ops.pyx:107\u001B[0m, in \u001B[0;36mpandas._libs.ops.scalar_compare\u001B[1;34m()\u001B[0m\n",
      "\u001B[1;31mTypeError\u001B[0m: '<' not supported between instances of 'str' and 'int'"
     ]
    }
   ],
   "source": [
    "CH.loc[CH.index<10,['firstname','lastname','gender','meters']]"
   ]
  },
  {
   "cell_type": "markdown",
   "metadata": {},
   "source": [
    "## `iloc[]`:  Integer-based selection\n",
    "    \n",
    "Syntax: `iloc[rowselector,columnselector]` (`columnselector` is optional)\n",
    " \n",
    "`rowselector` and `columnselector` can be\n",
    "+ An integer or list of integers\n",
    "+ A slice\n",
    "\n",
    "    \n",
    "### Examples"
   ]
  },
  {
   "cell_type": "code",
   "execution_count": null,
   "metadata": {
    "ExecuteTime": {
     "start_time": "2023-09-04T23:47:53.280187Z"
    }
   },
   "outputs": [],
   "source": [
    "CH.iloc[:10,[1,2]]"
   ]
  },
  {
   "cell_type": "markdown",
   "source": [
    "- First item\n",
    "- Second item\n",
    "- Third item\n",
    "    - Indented item\n",
    "    - Indented item\n",
    "- Fourth item"
   ],
   "metadata": {
    "collapsed": false
   }
  }
 ],
 "metadata": {
  "kernelspec": {
   "display_name": "Python 3 (ipykernel)",
   "language": "python",
   "name": "python3"
  },
  "language_info": {
   "codemirror_mode": {
    "name": "ipython",
    "version": 3
   },
   "file_extension": ".py",
   "mimetype": "text/x-python",
   "name": "python",
   "nbconvert_exporter": "python",
   "pygments_lexer": "ipython3",
   "version": "3.9.5"
  }
 },
 "nbformat": 4,
 "nbformat_minor": 2
}
