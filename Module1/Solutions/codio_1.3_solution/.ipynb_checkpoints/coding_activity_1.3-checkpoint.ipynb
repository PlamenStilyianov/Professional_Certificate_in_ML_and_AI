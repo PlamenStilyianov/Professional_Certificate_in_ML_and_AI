{
 "cells": [
  {
   "cell_type": "markdown",
   "id": "3c4a540b",
   "metadata": {
    "nbgrader": {
     "grade": false,
     "grade_id": "cell-e1db32c15778e963",
     "locked": true,
     "schema_version": 1,
     "solution": false
    }
   },
   "source": [
    "## Codio Activity 1.3: Selecting Data in Multiple Ways\n",
    "\n",
    "**Expected Time: 45 Minutes**\n",
    "\n",
    "**Total Points: 20 Points**\n",
    "\n",
    "## Index:\n",
    "\n",
    "- [Part 1](#Part-one)\n",
    "- [Part 2](#Part-two)\n",
    "- [Part 3](#Part-three)"
   ]
  },
  {
   "cell_type": "code",
   "execution_count": 380,
   "id": "6ec2a8b0",
   "metadata": {
    "ExecuteTime": {
     "end_time": "2023-09-01T17:11:38.351500400Z",
     "start_time": "2023-09-01T17:11:38.208575200Z"
    }
   },
   "outputs": [],
   "source": [
    "import pandas as pd"
   ]
  },
  {
   "cell_type": "markdown",
   "id": "a54cd6cd",
   "metadata": {
    "nbgrader": {
     "grade": false,
     "grade_id": "cell-c5192e6fb172717e",
     "locked": true,
     "schema_version": 1,
     "solution": false
    }
   },
   "source": [
    "[Back to top](#Index:) \n",
    "\n",
    "## Part one\n",
    "\n",
    "### loc[]\n",
    "\n",
    "**2 Points each**\n",
    "\n",
    "In this exercise, return the basic information from a dataframe using loc[]"
   ]
  },
  {
   "cell_type": "code",
   "execution_count": 381,
   "id": "613b4f25",
   "metadata": {
    "ExecuteTime": {
     "end_time": "2023-09-01T17:11:38.583214600Z",
     "start_time": "2023-09-01T17:11:38.214100800Z"
    }
   },
   "outputs": [
    {
     "data": {
      "text/plain": "   Unnamed: 0           Name            Team  Number Position   Age Height  \\\n0           0  Avery Bradley  Boston Celtics     0.0       PG  25.0    6-2   \n1           1    Jae Crowder  Boston Celtics    99.0       SF  25.0    6-6   \n2           2   John Holland  Boston Celtics    30.0       SG  27.0    6-5   \n3           3    R.J. Hunter  Boston Celtics    28.0       SG  22.0    6-5   \n4           4  Jonas Jerebko  Boston Celtics     8.0       PF  29.0   6-10   \n5           5   Amir Johnson  Boston Celtics    90.0       PF  29.0    6-9   \n6           6  Jordan Mickey  Boston Celtics    55.0       PF  21.0    6-8   \n7           7   Kelly Olynyk  Boston Celtics    41.0        C  25.0    7-0   \n8           8   Terry Rozier  Boston Celtics    12.0       PG  22.0    6-2   \n9           9   Marcus Smart  Boston Celtics    36.0       PG  22.0    6-4   \n\n   Weight            College      Salary  \n0   180.0              Texas   7730337.0  \n1   235.0          Marquette   6796117.0  \n2   205.0  Boston University         NaN  \n3   185.0      Georgia State   1148640.0  \n4   231.0                NaN   5000000.0  \n5   240.0                NaN  12000000.0  \n6   235.0                LSU   1170960.0  \n7   238.0            Gonzaga   2165160.0  \n8   190.0         Louisville   1824360.0  \n9   220.0     Oklahoma State   3431040.0  ",
      "text/html": "<div>\n<style scoped>\n    .dataframe tbody tr th:only-of-type {\n        vertical-align: middle;\n    }\n\n    .dataframe tbody tr th {\n        vertical-align: top;\n    }\n\n    .dataframe thead th {\n        text-align: right;\n    }\n</style>\n<table border=\"1\" class=\"dataframe\">\n  <thead>\n    <tr style=\"text-align: right;\">\n      <th></th>\n      <th>Unnamed: 0</th>\n      <th>Name</th>\n      <th>Team</th>\n      <th>Number</th>\n      <th>Position</th>\n      <th>Age</th>\n      <th>Height</th>\n      <th>Weight</th>\n      <th>College</th>\n      <th>Salary</th>\n    </tr>\n  </thead>\n  <tbody>\n    <tr>\n      <th>0</th>\n      <td>0</td>\n      <td>Avery Bradley</td>\n      <td>Boston Celtics</td>\n      <td>0.0</td>\n      <td>PG</td>\n      <td>25.0</td>\n      <td>6-2</td>\n      <td>180.0</td>\n      <td>Texas</td>\n      <td>7730337.0</td>\n    </tr>\n    <tr>\n      <th>1</th>\n      <td>1</td>\n      <td>Jae Crowder</td>\n      <td>Boston Celtics</td>\n      <td>99.0</td>\n      <td>SF</td>\n      <td>25.0</td>\n      <td>6-6</td>\n      <td>235.0</td>\n      <td>Marquette</td>\n      <td>6796117.0</td>\n    </tr>\n    <tr>\n      <th>2</th>\n      <td>2</td>\n      <td>John Holland</td>\n      <td>Boston Celtics</td>\n      <td>30.0</td>\n      <td>SG</td>\n      <td>27.0</td>\n      <td>6-5</td>\n      <td>205.0</td>\n      <td>Boston University</td>\n      <td>NaN</td>\n    </tr>\n    <tr>\n      <th>3</th>\n      <td>3</td>\n      <td>R.J. Hunter</td>\n      <td>Boston Celtics</td>\n      <td>28.0</td>\n      <td>SG</td>\n      <td>22.0</td>\n      <td>6-5</td>\n      <td>185.0</td>\n      <td>Georgia State</td>\n      <td>1148640.0</td>\n    </tr>\n    <tr>\n      <th>4</th>\n      <td>4</td>\n      <td>Jonas Jerebko</td>\n      <td>Boston Celtics</td>\n      <td>8.0</td>\n      <td>PF</td>\n      <td>29.0</td>\n      <td>6-10</td>\n      <td>231.0</td>\n      <td>NaN</td>\n      <td>5000000.0</td>\n    </tr>\n    <tr>\n      <th>5</th>\n      <td>5</td>\n      <td>Amir Johnson</td>\n      <td>Boston Celtics</td>\n      <td>90.0</td>\n      <td>PF</td>\n      <td>29.0</td>\n      <td>6-9</td>\n      <td>240.0</td>\n      <td>NaN</td>\n      <td>12000000.0</td>\n    </tr>\n    <tr>\n      <th>6</th>\n      <td>6</td>\n      <td>Jordan Mickey</td>\n      <td>Boston Celtics</td>\n      <td>55.0</td>\n      <td>PF</td>\n      <td>21.0</td>\n      <td>6-8</td>\n      <td>235.0</td>\n      <td>LSU</td>\n      <td>1170960.0</td>\n    </tr>\n    <tr>\n      <th>7</th>\n      <td>7</td>\n      <td>Kelly Olynyk</td>\n      <td>Boston Celtics</td>\n      <td>41.0</td>\n      <td>C</td>\n      <td>25.0</td>\n      <td>7-0</td>\n      <td>238.0</td>\n      <td>Gonzaga</td>\n      <td>2165160.0</td>\n    </tr>\n    <tr>\n      <th>8</th>\n      <td>8</td>\n      <td>Terry Rozier</td>\n      <td>Boston Celtics</td>\n      <td>12.0</td>\n      <td>PG</td>\n      <td>22.0</td>\n      <td>6-2</td>\n      <td>190.0</td>\n      <td>Louisville</td>\n      <td>1824360.0</td>\n    </tr>\n    <tr>\n      <th>9</th>\n      <td>9</td>\n      <td>Marcus Smart</td>\n      <td>Boston Celtics</td>\n      <td>36.0</td>\n      <td>PG</td>\n      <td>22.0</td>\n      <td>6-4</td>\n      <td>220.0</td>\n      <td>Oklahoma State</td>\n      <td>3431040.0</td>\n    </tr>\n  </tbody>\n</table>\n</div>"
     },
     "execution_count": 381,
     "metadata": {},
     "output_type": "execute_result"
    }
   ],
   "source": [
    "#create the DataFrame utilizing Pandas \n",
    "data = pd.read_csv('data/nba.csv')\n",
    "data = data.iloc[:-1 , :] # removing last row NaN\n",
    "data.head(10)"
   ]
  },
  {
   "cell_type": "code",
   "execution_count": 382,
   "id": "9f67b59a",
   "metadata": {
    "nbgrader": {
     "grade": false,
     "grade_id": "cell-b045abc8cbfc7df8",
     "locked": false,
     "schema_version": 1,
     "solution": true
    },
    "ExecuteTime": {
     "end_time": "2023-09-01T17:11:38.727547600Z",
     "start_time": "2023-09-01T17:11:38.228622700Z"
    }
   },
   "outputs": [
    {
     "name": "stdout",
     "output_type": "stream",
     "text": [
      "Unnamed: 0                 0\n",
      "Name           Avery Bradley\n",
      "Team          Boston Celtics\n",
      "Number                   0.0\n",
      "Position                  PG\n",
      "Age                     25.0\n",
      "Height                   6-2\n",
      "Weight                 180.0\n",
      "College                Texas\n",
      "Salary             7730337.0\n",
      "Name: 0, dtype: object\n"
     ]
    }
   ],
   "source": [
    "### GRADED\n",
    "\n",
    "# Please print the information for the first line in the DataFrame. \n",
    "\n",
    "locinfo = None\n",
    "#print(data)\n",
    "### BEGIN SOLUTION\n",
    "locinfo = data.loc[0, : ]\n",
    "### END SOLUTION\n",
    "from pprint import pprint\n",
    "# ANSWER CHECK\n",
    "print(locinfo)"
   ]
  },
  {
   "cell_type": "code",
   "execution_count": 383,
   "id": "15513533",
   "metadata": {
    "nbgrader": {
     "grade": true,
     "grade_id": "cell-c17601ab1d1e84b9",
     "locked": true,
     "points": 2,
     "schema_version": 1,
     "solution": false
    },
    "ExecuteTime": {
     "end_time": "2023-09-01T17:11:38.728547200Z",
     "start_time": "2023-09-01T17:11:38.245075100Z"
    }
   },
   "outputs": [
    {
     "data": {
      "text/plain": "Unnamed: 0    True\nName          True\nTeam          True\nNumber        True\nPosition      True\nAge           True\nHeight        True\nWeight        True\nCollege       True\nSalary        True\nName: 0, dtype: bool"
     },
     "execution_count": 383,
     "metadata": {},
     "output_type": "execute_result"
    }
   ],
   "source": [
    "### BEGIN HIDDEN TESTS\n",
    "locinfo1 = data.loc[0]\n",
    "assert type(locinfo) == type(locinfo1)\n",
    "locinfo == locinfo1\n",
    "\n",
    "### END HIDDEN TESTS"
   ]
  },
  {
   "cell_type": "code",
   "execution_count": 384,
   "id": "cc745640",
   "metadata": {
    "nbgrader": {
     "grade": false,
     "grade_id": "cell-2ce96b09f45395ce",
     "locked": false,
     "schema_version": 1,
     "solution": true
    },
    "ExecuteTime": {
     "end_time": "2023-09-01T17:11:38.728547200Z",
     "start_time": "2023-09-01T17:11:38.259788100Z"
    }
   },
   "outputs": [
    {
     "name": "stdout",
     "output_type": "stream",
     "text": [
      "             Name                 Team\n",
      "169  LeBron James  Cleveland Cavaliers\n"
     ]
    }
   ],
   "source": [
    "### GRADED\n",
    "# Please show LeBron James' name and team\n",
    "\n",
    "teamdata = None\n",
    "\n",
    "### BEGIN SOLUTION\n",
    "teamdata = data.loc[data['Name'] == 'LeBron James', 'Name':'Team']\n",
    "### END SOLUTION\n",
    "\n",
    "# ANSWER CHECK\n",
    "print(teamdata)"
   ]
  },
  {
   "cell_type": "code",
   "execution_count": 385,
   "id": "a9f39ecf",
   "metadata": {
    "nbgrader": {
     "grade": true,
     "grade_id": "cell-597b728f731e35e1",
     "locked": true,
     "points": 2,
     "schema_version": 1,
     "solution": false
    },
    "ExecuteTime": {
     "end_time": "2023-09-01T17:11:38.728547200Z",
     "start_time": "2023-09-01T17:11:38.276311500Z"
    }
   },
   "outputs": [
    {
     "data": {
      "text/plain": "     Name  Team\n169  True  True",
      "text/html": "<div>\n<style scoped>\n    .dataframe tbody tr th:only-of-type {\n        vertical-align: middle;\n    }\n\n    .dataframe tbody tr th {\n        vertical-align: top;\n    }\n\n    .dataframe thead th {\n        text-align: right;\n    }\n</style>\n<table border=\"1\" class=\"dataframe\">\n  <thead>\n    <tr style=\"text-align: right;\">\n      <th></th>\n      <th>Name</th>\n      <th>Team</th>\n    </tr>\n  </thead>\n  <tbody>\n    <tr>\n      <th>169</th>\n      <td>True</td>\n      <td>True</td>\n    </tr>\n  </tbody>\n</table>\n</div>"
     },
     "execution_count": 385,
     "metadata": {},
     "output_type": "execute_result"
    }
   ],
   "source": [
    "### BEGIN HIDDEN TESTS\n",
    "teamdata_ = data.loc[data.Name == 'LeBron James', 'Name':'Team']\n",
    "assert type(teamdata) == type(teamdata_)\n",
    "teamdata == teamdata_\n",
    "\n",
    "### END HIDDEN TESTS"
   ]
  },
  {
   "cell_type": "markdown",
   "id": "b5ba7a76",
   "metadata": {
    "nbgrader": {
     "grade": false,
     "grade_id": "cell-3dbaee614a4b6329",
     "locked": true,
     "schema_version": 1,
     "solution": false
    }
   },
   "source": [
    "[Back to top](#Index:) \n",
    "\n",
    "## Part two\n",
    "\n",
    "### iloc[]\n",
    "\n",
    "**2 Points each**\n",
    "\n",
    "In this exercise, return single selections using iloc[]"
   ]
  },
  {
   "cell_type": "code",
   "execution_count": 386,
   "id": "71d67b9f",
   "metadata": {
    "nbgrader": {
     "grade": false,
     "grade_id": "cell-ac4f90f3ca044a80",
     "locked": false,
     "schema_version": 1,
     "solution": true
    },
    "ExecuteTime": {
     "end_time": "2023-09-01T17:11:38.728547200Z",
     "start_time": "2023-09-01T17:11:38.291345Z"
    }
   },
   "outputs": [
    {
     "name": "stdout",
     "output_type": "stream",
     "text": [
      "Unnamed: 0                 0\n",
      "Name           Avery Bradley\n",
      "Team          Boston Celtics\n",
      "Number                   0.0\n",
      "Position                  PG\n",
      "Age                     25.0\n",
      "Height                   6-2\n",
      "Weight                 180.0\n",
      "College                Texas\n",
      "Salary             7730337.0\n",
      "Name: 0, dtype: object\n"
     ]
    }
   ],
   "source": [
    "### GRADED\n",
    "# Please print the first row of data frame \n",
    "\n",
    "fr = None\n",
    "\n",
    "### BEGIN SOLUTION\n",
    "\n",
    "fr = data.iloc[0]\n",
    "\n",
    "### END SOLUTION\n",
    "\n",
    "# ANSWER CHECK\n",
    "print(fr)"
   ]
  },
  {
   "cell_type": "code",
   "execution_count": 387,
   "id": "ca0298e4",
   "metadata": {
    "nbgrader": {
     "grade": true,
     "grade_id": "cell-5c398dc822477664",
     "locked": true,
     "points": 2,
     "schema_version": 1,
     "solution": false
    },
    "ExecuteTime": {
     "end_time": "2023-09-01T17:11:38.729861800Z",
     "start_time": "2023-09-01T17:11:38.306409400Z"
    }
   },
   "outputs": [
    {
     "data": {
      "text/plain": "Unnamed: 0    True\nName          True\nTeam          True\nNumber        True\nPosition      True\nAge           True\nHeight        True\nWeight        True\nCollege       True\nSalary        True\nName: 0, dtype: bool"
     },
     "execution_count": 387,
     "metadata": {},
     "output_type": "execute_result"
    }
   ],
   "source": [
    "### BEGIN HIDDEN TESTS\n",
    "\n",
    "## Old test case, seem incorrect. Commenting it for now...\n",
    "# teamdata1 = data.loc[data.Name == 'LeBron James', 'Name':'Team']\n",
    "# assert type(teamdata) == type(teamdata1)\n",
    "# teamdata == teamdata1\n",
    "\n",
    "fr_ =  data.iloc[0]\n",
    "assert type(fr) == type(fr_ )\n",
    "fr == fr_\n",
    "\n",
    "### END HIDDEN TESTS"
   ]
  },
  {
   "cell_type": "code",
   "execution_count": 388,
   "id": "1e7ce809",
   "metadata": {
    "nbgrader": {
     "grade": false,
     "grade_id": "cell-c96cb0193a5accb4",
     "locked": false,
     "schema_version": 1,
     "solution": true
    },
    "ExecuteTime": {
     "end_time": "2023-09-01T17:11:38.729861800Z",
     "start_time": "2023-09-01T17:11:38.323028500Z"
    }
   },
   "outputs": [
    {
     "name": "stdout",
     "output_type": "stream",
     "text": [
      "Unnamed: 0                 1\n",
      "Name             Jae Crowder\n",
      "Team          Boston Celtics\n",
      "Number                  99.0\n",
      "Position                  SF\n",
      "Age                     25.0\n",
      "Height                   6-6\n",
      "Weight                 235.0\n",
      "College            Marquette\n",
      "Salary             6796117.0\n",
      "Name: 1, dtype: object\n"
     ]
    }
   ],
   "source": [
    "### GRADED\n",
    "# Please print the second row of data frame \n",
    "\n",
    "sr = None\n",
    "\n",
    "### BEGIN SOLUTION\n",
    "\n",
    "sr =  data.iloc[1]\n",
    "\n",
    "### END SOLUTION\n",
    "\n",
    "# ANSWER CHECK\n",
    "print(sr)"
   ]
  },
  {
   "cell_type": "code",
   "execution_count": 389,
   "id": "edcd56ea",
   "metadata": {
    "nbgrader": {
     "grade": true,
     "grade_id": "cell-621a6217da17246a",
     "locked": true,
     "points": 2,
     "schema_version": 1,
     "solution": false
    },
    "ExecuteTime": {
     "end_time": "2023-09-01T17:11:38.730991200Z",
     "start_time": "2023-09-01T17:11:38.339969600Z"
    }
   },
   "outputs": [
    {
     "data": {
      "text/plain": "Unnamed: 0    True\nName          True\nTeam          True\nNumber        True\nPosition      True\nAge           True\nHeight        True\nWeight        True\nCollege       True\nSalary        True\nName: 1, dtype: bool"
     },
     "execution_count": 389,
     "metadata": {},
     "output_type": "execute_result"
    }
   ],
   "source": [
    "### BEGIN HIDDEN TESTS\n",
    "sr_ =  data.iloc[1]\n",
    "assert type(sr) == type(sr_ )\n",
    "sr == sr_ \n",
    "\n",
    "### END HIDDEN TESTS"
   ]
  },
  {
   "cell_type": "code",
   "execution_count": 390,
   "id": "57c251ab",
   "metadata": {
    "nbgrader": {
     "grade": false,
     "grade_id": "cell-1843d8fe5e08d07a",
     "locked": false,
     "schema_version": 1,
     "solution": true
    },
    "ExecuteTime": {
     "end_time": "2023-09-01T17:11:38.730991200Z",
     "start_time": "2023-09-01T17:11:38.356226700Z"
    }
   },
   "outputs": [
    {
     "name": "stdout",
     "output_type": "stream",
     "text": [
      "Unnamed: 0             455\n",
      "Name          Tibor Pleiss\n",
      "Team             Utah Jazz\n",
      "Number                21.0\n",
      "Position                 C\n",
      "Age                   26.0\n",
      "Height                 7-3\n",
      "Weight               256.0\n",
      "College                NaN\n",
      "Salary           2900000.0\n",
      "Name: 455, dtype: object\n"
     ]
    }
   ],
   "source": [
    "### GRADED\n",
    "# Please print the last row of data frame\n",
    "\n",
    "lr = None\n",
    "\n",
    "### BEGIN SOLUTION\n",
    "\n",
    "lr =  data.iloc[-1] \n",
    "\n",
    "### END SOLUTION\n",
    "\n",
    "# ANSWER CHECK\n",
    "print(lr)"
   ]
  },
  {
   "cell_type": "code",
   "execution_count": 391,
   "id": "44898bcb",
   "metadata": {
    "nbgrader": {
     "grade": true,
     "grade_id": "cell-d0d3c052cb0eb6c4",
     "locked": true,
     "points": 2,
     "schema_version": 1,
     "solution": false
    },
    "ExecuteTime": {
     "end_time": "2023-09-01T17:11:38.730991200Z",
     "start_time": "2023-09-01T17:11:38.371862300Z"
    }
   },
   "outputs": [
    {
     "data": {
      "text/plain": "Unnamed: 0     True\nName           True\nTeam           True\nNumber         True\nPosition       True\nAge            True\nHeight         True\nWeight         True\nCollege       False\nSalary         True\nName: 455, dtype: bool"
     },
     "execution_count": 391,
     "metadata": {},
     "output_type": "execute_result"
    }
   ],
   "source": [
    "### BEGIN HIDDEN TESTS\n",
    "lr_ =  data.iloc[-1]\n",
    "assert type(lr) == type(lr_)\n",
    "lr == lr_\n",
    "\n",
    "### END HIDDEN TESTS"
   ]
  },
  {
   "cell_type": "code",
   "execution_count": 392,
   "id": "a75701ec",
   "metadata": {
    "nbgrader": {
     "grade": false,
     "grade_id": "cell-b2ddae2ebcad6705",
     "locked": false,
     "schema_version": 1,
     "solution": true
    },
    "ExecuteTime": {
     "end_time": "2023-09-01T17:11:38.730991200Z",
     "start_time": "2023-09-01T17:11:38.386255800Z"
    }
   },
   "outputs": [
    {
     "name": "stdout",
     "output_type": "stream",
     "text": [
      "0        0\n",
      "1        1\n",
      "2        2\n",
      "3        3\n",
      "4        4\n",
      "      ... \n",
      "451    451\n",
      "452    452\n",
      "453    453\n",
      "454    454\n",
      "455    455\n",
      "Name: Unnamed: 0, Length: 456, dtype: int64\n"
     ]
    }
   ],
   "source": [
    "###GRADED\n",
    "# Please print the first column of data frame\n",
    " \n",
    "fc = None\n",
    "\n",
    "### BEGIN SOLUTION\n",
    "\n",
    "fc =  data.iloc[:,0] \n",
    "\n",
    "### END SOLUTION\n",
    "\n",
    "# ANSWER CHECK\n",
    "print(fc)"
   ]
  },
  {
   "cell_type": "code",
   "execution_count": 393,
   "id": "33a925af",
   "metadata": {
    "nbgrader": {
     "grade": true,
     "grade_id": "cell-3a927802d2551a13",
     "locked": true,
     "points": 2,
     "schema_version": 1,
     "solution": false
    },
    "ExecuteTime": {
     "end_time": "2023-09-01T17:11:38.730991200Z",
     "start_time": "2023-09-01T17:11:38.401905800Z"
    }
   },
   "outputs": [
    {
     "data": {
      "text/plain": "0      True\n1      True\n2      True\n3      True\n4      True\n       ... \n451    True\n452    True\n453    True\n454    True\n455    True\nName: Unnamed: 0, Length: 456, dtype: bool"
     },
     "execution_count": 393,
     "metadata": {},
     "output_type": "execute_result"
    }
   ],
   "source": [
    "### BEGIN HIDDEN TESTS\n",
    "fc_ =  data.iloc[:,0]\n",
    "assert type(fc) == type(fc_)\n",
    "fc == fc_\n",
    "\n",
    "### END HIDDEN TESTS"
   ]
  },
  {
   "cell_type": "code",
   "execution_count": 394,
   "id": "ca164924",
   "metadata": {
    "nbgrader": {
     "grade": false,
     "grade_id": "cell-35925d6c39ff9c32",
     "locked": false,
     "schema_version": 1,
     "solution": true
    },
    "ExecuteTime": {
     "end_time": "2023-09-01T17:11:38.730991200Z",
     "start_time": "2023-09-01T17:11:38.417666600Z"
    }
   },
   "outputs": [
    {
     "name": "stdout",
     "output_type": "stream",
     "text": [
      "0      Avery Bradley\n",
      "1        Jae Crowder\n",
      "2       John Holland\n",
      "3        R.J. Hunter\n",
      "4      Jonas Jerebko\n",
      "           ...      \n",
      "451    Chris Johnson\n",
      "452       Trey Lyles\n",
      "453     Shelvin Mack\n",
      "454        Raul Neto\n",
      "455     Tibor Pleiss\n",
      "Name: Name, Length: 456, dtype: object\n"
     ]
    }
   ],
   "source": [
    "### GRADED\n",
    "# Please print the second column of data frame\n",
    "\n",
    "sc = None\n",
    "\n",
    "### BEGIN SOLUTION\n",
    "\n",
    "sc =  data.iloc[:,1]\n",
    "\n",
    "### END SOLUTION\n",
    "\n",
    "# ANSWER CHECK\n",
    "print(sc)"
   ]
  },
  {
   "cell_type": "code",
   "execution_count": 395,
   "id": "abecdf2a",
   "metadata": {
    "nbgrader": {
     "grade": true,
     "grade_id": "cell-5040d043a3cceb73",
     "locked": true,
     "points": 2,
     "schema_version": 1,
     "solution": false
    },
    "ExecuteTime": {
     "end_time": "2023-09-01T17:11:38.730991200Z",
     "start_time": "2023-09-01T17:11:38.431592800Z"
    }
   },
   "outputs": [
    {
     "data": {
      "text/plain": "0      True\n1      True\n2      True\n3      True\n4      True\n       ... \n451    True\n452    True\n453    True\n454    True\n455    True\nName: Name, Length: 456, dtype: bool"
     },
     "execution_count": 395,
     "metadata": {},
     "output_type": "execute_result"
    }
   ],
   "source": [
    "### BEGIN HIDDEN TESTS\n",
    "sc_ =  data.iloc[:,1]\n",
    "assert type(sc) == type(sc_)\n",
    "sc == sc_\n",
    "\n",
    "### END HIDDEN TESTS"
   ]
  },
  {
   "cell_type": "code",
   "execution_count": 396,
   "id": "2a1bc18d",
   "metadata": {
    "nbgrader": {
     "grade": false,
     "grade_id": "cell-04a5a0d17f2b4901",
     "locked": false,
     "schema_version": 1,
     "solution": true
    },
    "ExecuteTime": {
     "end_time": "2023-09-01T17:11:38.730991200Z",
     "start_time": "2023-09-01T17:11:38.449364500Z"
    }
   },
   "outputs": [
    {
     "name": "stdout",
     "output_type": "stream",
     "text": [
      "0      7730337.0\n",
      "1      6796117.0\n",
      "2            NaN\n",
      "3      1148640.0\n",
      "4      5000000.0\n",
      "         ...    \n",
      "451     981348.0\n",
      "452    2239800.0\n",
      "453    2433333.0\n",
      "454     900000.0\n",
      "455    2900000.0\n",
      "Name: Salary, Length: 456, dtype: float64\n"
     ]
    }
   ],
   "source": [
    "### GRADED\n",
    "# Please print the last column of data frame\n",
    "\n",
    "lc = None\n",
    "\n",
    "### BEGIN SOLUTION\n",
    "\n",
    "lc =  data.iloc[:,-1] \n",
    "\n",
    "### END SOLUTION\n",
    "\n",
    "# ANSWER CHECK\n",
    "print(lc)"
   ]
  },
  {
   "cell_type": "code",
   "execution_count": 397,
   "id": "96e3e04b",
   "metadata": {
    "nbgrader": {
     "grade": true,
     "grade_id": "cell-86adba4835e0586a",
     "locked": true,
     "points": 2,
     "schema_version": 1,
     "solution": false
    },
    "ExecuteTime": {
     "end_time": "2023-09-01T17:11:38.732141600Z",
     "start_time": "2023-09-01T17:11:38.466568Z"
    }
   },
   "outputs": [
    {
     "data": {
      "text/plain": "0       True\n1       True\n2      False\n3       True\n4       True\n       ...  \n451     True\n452     True\n453     True\n454     True\n455     True\nName: Salary, Length: 456, dtype: bool"
     },
     "execution_count": 397,
     "metadata": {},
     "output_type": "execute_result"
    }
   ],
   "source": [
    "### BEGIN HIDDEN TESTS\n",
    "lc_ =  data.iloc[:,-1]\n",
    "assert type(lc) == type(lc_)\n",
    "lc == lc_\n",
    "\n",
    "### END HIDDEN TESTS"
   ]
  },
  {
   "cell_type": "markdown",
   "id": "4df9d11e",
   "metadata": {
    "nbgrader": {
     "grade": false,
     "grade_id": "cell-a2d49a9f9bf6d7df",
     "locked": true,
     "schema_version": 1,
     "solution": false
    }
   },
   "source": [
    "[Back to top](#Index:) \n",
    "\n",
    "## Part three\n",
    "\n",
    "### Split\n",
    "\n",
    "**2 Points each**\n",
    "\n",
    "In this exercise, return the first and last name utilizing the split function"
   ]
  },
  {
   "cell_type": "code",
   "execution_count": 398,
   "outputs": [
    {
     "data": {
      "text/plain": "     Unnamed: 0           Name            Team  Number Position   Age Height  \\\n0             0  Avery Bradley  Boston Celtics     0.0       PG  25.0    6-2   \n1             1    Jae Crowder  Boston Celtics    99.0       SF  25.0    6-6   \n2             2   John Holland  Boston Celtics    30.0       SG  27.0    6-5   \n3             3    R.J. Hunter  Boston Celtics    28.0       SG  22.0    6-5   \n4             4  Jonas Jerebko  Boston Celtics     8.0       PF  29.0   6-10   \n..          ...            ...             ...     ...      ...   ...    ...   \n451         451  Chris Johnson       Utah Jazz    23.0       SF  26.0    6-6   \n452         452     Trey Lyles       Utah Jazz    41.0       PF  20.0   6-10   \n453         453   Shelvin Mack       Utah Jazz     8.0       PG  26.0    6-3   \n454         454      Raul Neto       Utah Jazz    25.0       PG  24.0    6-1   \n455         455   Tibor Pleiss       Utah Jazz    21.0        C  26.0    7-3   \n\n     Weight            College     Salary  \n0     180.0              Texas  7730337.0  \n1     235.0          Marquette  6796117.0  \n2     205.0  Boston University        NaN  \n3     185.0      Georgia State  1148640.0  \n4     231.0                NaN  5000000.0  \n..      ...                ...        ...  \n451   206.0             Dayton   981348.0  \n452   234.0           Kentucky  2239800.0  \n453   203.0             Butler  2433333.0  \n454   179.0                NaN   900000.0  \n455   256.0                NaN  2900000.0  \n\n[456 rows x 10 columns]",
      "text/html": "<div>\n<style scoped>\n    .dataframe tbody tr th:only-of-type {\n        vertical-align: middle;\n    }\n\n    .dataframe tbody tr th {\n        vertical-align: top;\n    }\n\n    .dataframe thead th {\n        text-align: right;\n    }\n</style>\n<table border=\"1\" class=\"dataframe\">\n  <thead>\n    <tr style=\"text-align: right;\">\n      <th></th>\n      <th>Unnamed: 0</th>\n      <th>Name</th>\n      <th>Team</th>\n      <th>Number</th>\n      <th>Position</th>\n      <th>Age</th>\n      <th>Height</th>\n      <th>Weight</th>\n      <th>College</th>\n      <th>Salary</th>\n    </tr>\n  </thead>\n  <tbody>\n    <tr>\n      <th>0</th>\n      <td>0</td>\n      <td>Avery Bradley</td>\n      <td>Boston Celtics</td>\n      <td>0.0</td>\n      <td>PG</td>\n      <td>25.0</td>\n      <td>6-2</td>\n      <td>180.0</td>\n      <td>Texas</td>\n      <td>7730337.0</td>\n    </tr>\n    <tr>\n      <th>1</th>\n      <td>1</td>\n      <td>Jae Crowder</td>\n      <td>Boston Celtics</td>\n      <td>99.0</td>\n      <td>SF</td>\n      <td>25.0</td>\n      <td>6-6</td>\n      <td>235.0</td>\n      <td>Marquette</td>\n      <td>6796117.0</td>\n    </tr>\n    <tr>\n      <th>2</th>\n      <td>2</td>\n      <td>John Holland</td>\n      <td>Boston Celtics</td>\n      <td>30.0</td>\n      <td>SG</td>\n      <td>27.0</td>\n      <td>6-5</td>\n      <td>205.0</td>\n      <td>Boston University</td>\n      <td>NaN</td>\n    </tr>\n    <tr>\n      <th>3</th>\n      <td>3</td>\n      <td>R.J. Hunter</td>\n      <td>Boston Celtics</td>\n      <td>28.0</td>\n      <td>SG</td>\n      <td>22.0</td>\n      <td>6-5</td>\n      <td>185.0</td>\n      <td>Georgia State</td>\n      <td>1148640.0</td>\n    </tr>\n    <tr>\n      <th>4</th>\n      <td>4</td>\n      <td>Jonas Jerebko</td>\n      <td>Boston Celtics</td>\n      <td>8.0</td>\n      <td>PF</td>\n      <td>29.0</td>\n      <td>6-10</td>\n      <td>231.0</td>\n      <td>NaN</td>\n      <td>5000000.0</td>\n    </tr>\n    <tr>\n      <th>...</th>\n      <td>...</td>\n      <td>...</td>\n      <td>...</td>\n      <td>...</td>\n      <td>...</td>\n      <td>...</td>\n      <td>...</td>\n      <td>...</td>\n      <td>...</td>\n      <td>...</td>\n    </tr>\n    <tr>\n      <th>451</th>\n      <td>451</td>\n      <td>Chris Johnson</td>\n      <td>Utah Jazz</td>\n      <td>23.0</td>\n      <td>SF</td>\n      <td>26.0</td>\n      <td>6-6</td>\n      <td>206.0</td>\n      <td>Dayton</td>\n      <td>981348.0</td>\n    </tr>\n    <tr>\n      <th>452</th>\n      <td>452</td>\n      <td>Trey Lyles</td>\n      <td>Utah Jazz</td>\n      <td>41.0</td>\n      <td>PF</td>\n      <td>20.0</td>\n      <td>6-10</td>\n      <td>234.0</td>\n      <td>Kentucky</td>\n      <td>2239800.0</td>\n    </tr>\n    <tr>\n      <th>453</th>\n      <td>453</td>\n      <td>Shelvin Mack</td>\n      <td>Utah Jazz</td>\n      <td>8.0</td>\n      <td>PG</td>\n      <td>26.0</td>\n      <td>6-3</td>\n      <td>203.0</td>\n      <td>Butler</td>\n      <td>2433333.0</td>\n    </tr>\n    <tr>\n      <th>454</th>\n      <td>454</td>\n      <td>Raul Neto</td>\n      <td>Utah Jazz</td>\n      <td>25.0</td>\n      <td>PG</td>\n      <td>24.0</td>\n      <td>6-1</td>\n      <td>179.0</td>\n      <td>NaN</td>\n      <td>900000.0</td>\n    </tr>\n    <tr>\n      <th>455</th>\n      <td>455</td>\n      <td>Tibor Pleiss</td>\n      <td>Utah Jazz</td>\n      <td>21.0</td>\n      <td>C</td>\n      <td>26.0</td>\n      <td>7-3</td>\n      <td>256.0</td>\n      <td>NaN</td>\n      <td>2900000.0</td>\n    </tr>\n  </tbody>\n</table>\n<p>456 rows × 10 columns</p>\n</div>"
     },
     "execution_count": 398,
     "metadata": {},
     "output_type": "execute_result"
    }
   ],
   "source": [
    "data"
   ],
   "metadata": {
    "collapsed": false,
    "ExecuteTime": {
     "end_time": "2023-09-01T17:11:38.780786900Z",
     "start_time": "2023-09-01T17:11:38.478823100Z"
    }
   },
   "id": "8936bad1d9adc6c3"
  },
  {
   "cell_type": "code",
   "execution_count": 399,
   "id": "b4f1ed6a",
   "metadata": {
    "nbgrader": {
     "grade": false,
     "grade_id": "cell-268b6113422e9d31",
     "locked": false,
     "schema_version": 1,
     "solution": true
    },
    "ExecuteTime": {
     "end_time": "2023-09-01T17:11:38.782214900Z",
     "start_time": "2023-09-01T17:11:38.496767Z"
    }
   },
   "outputs": [
    {
     "name": "stdout",
     "output_type": "stream",
     "text": [
      "The first name is Avery\n"
     ]
    }
   ],
   "source": [
    "### GRADED\n",
    "\n",
    "# Please print the first name of the first series in the data frame\n",
    "\n",
    "firstname = None\n",
    "\n",
    "### BEGIN SOLUTION\n",
    "\n",
    "firstname = data['Name'].str.split().str[0].iloc[0]\n",
    "\n",
    "### END SOLUTION\n",
    "\n",
    "# ANSWER CHECK\n",
    "print('The first name is ' + firstname)"
   ]
  },
  {
   "cell_type": "code",
   "execution_count": 400,
   "id": "528183ec",
   "metadata": {
    "nbgrader": {
     "grade": true,
     "grade_id": "cell-d1baa522c6132ea0",
     "locked": true,
     "points": 2,
     "schema_version": 1,
     "solution": false
    },
    "ExecuteTime": {
     "end_time": "2023-09-01T17:11:38.782214900Z",
     "start_time": "2023-09-01T17:11:38.508627300Z"
    }
   },
   "outputs": [
    {
     "data": {
      "text/plain": "True"
     },
     "execution_count": 400,
     "metadata": {},
     "output_type": "execute_result"
    }
   ],
   "source": [
    "### BEGIN HIDDEN TESTS\n",
    "firstname1 =  data['Name'].str.split().str[0].iloc[0]\n",
    "assert type(firstname) == type(firstname1)\n",
    "firstname == firstname1\n",
    "\n",
    "### END HIDDEN TESTS"
   ]
  },
  {
   "cell_type": "markdown",
   "source": [
    "### # Please print the first name of the first series in the data frame\n",
    "\n",
    "#### Plamen's explanation"
   ],
   "metadata": {
    "collapsed": false
   },
   "id": "69eef4ca2fe489aa"
  },
  {
   "cell_type": "code",
   "execution_count": 401,
   "outputs": [
    {
     "data": {
      "text/plain": "     Unnamed: 0           Name            Team  Number Position   Age Height  \\\n0             0  Avery Bradley  Boston Celtics     0.0       PG  25.0    6-2   \n1             1    Jae Crowder  Boston Celtics    99.0       SF  25.0    6-6   \n2             2   John Holland  Boston Celtics    30.0       SG  27.0    6-5   \n3             3    R.J. Hunter  Boston Celtics    28.0       SG  22.0    6-5   \n4             4  Jonas Jerebko  Boston Celtics     8.0       PF  29.0   6-10   \n..          ...            ...             ...     ...      ...   ...    ...   \n451         451  Chris Johnson       Utah Jazz    23.0       SF  26.0    6-6   \n452         452     Trey Lyles       Utah Jazz    41.0       PF  20.0   6-10   \n453         453   Shelvin Mack       Utah Jazz     8.0       PG  26.0    6-3   \n454         454      Raul Neto       Utah Jazz    25.0       PG  24.0    6-1   \n455         455   Tibor Pleiss       Utah Jazz    21.0        C  26.0    7-3   \n\n     Weight            College     Salary  \n0     180.0              Texas  7730337.0  \n1     235.0          Marquette  6796117.0  \n2     205.0  Boston University        NaN  \n3     185.0      Georgia State  1148640.0  \n4     231.0                NaN  5000000.0  \n..      ...                ...        ...  \n451   206.0             Dayton   981348.0  \n452   234.0           Kentucky  2239800.0  \n453   203.0             Butler  2433333.0  \n454   179.0                NaN   900000.0  \n455   256.0                NaN  2900000.0  \n\n[456 rows x 10 columns]",
      "text/html": "<div>\n<style scoped>\n    .dataframe tbody tr th:only-of-type {\n        vertical-align: middle;\n    }\n\n    .dataframe tbody tr th {\n        vertical-align: top;\n    }\n\n    .dataframe thead th {\n        text-align: right;\n    }\n</style>\n<table border=\"1\" class=\"dataframe\">\n  <thead>\n    <tr style=\"text-align: right;\">\n      <th></th>\n      <th>Unnamed: 0</th>\n      <th>Name</th>\n      <th>Team</th>\n      <th>Number</th>\n      <th>Position</th>\n      <th>Age</th>\n      <th>Height</th>\n      <th>Weight</th>\n      <th>College</th>\n      <th>Salary</th>\n    </tr>\n  </thead>\n  <tbody>\n    <tr>\n      <th>0</th>\n      <td>0</td>\n      <td>Avery Bradley</td>\n      <td>Boston Celtics</td>\n      <td>0.0</td>\n      <td>PG</td>\n      <td>25.0</td>\n      <td>6-2</td>\n      <td>180.0</td>\n      <td>Texas</td>\n      <td>7730337.0</td>\n    </tr>\n    <tr>\n      <th>1</th>\n      <td>1</td>\n      <td>Jae Crowder</td>\n      <td>Boston Celtics</td>\n      <td>99.0</td>\n      <td>SF</td>\n      <td>25.0</td>\n      <td>6-6</td>\n      <td>235.0</td>\n      <td>Marquette</td>\n      <td>6796117.0</td>\n    </tr>\n    <tr>\n      <th>2</th>\n      <td>2</td>\n      <td>John Holland</td>\n      <td>Boston Celtics</td>\n      <td>30.0</td>\n      <td>SG</td>\n      <td>27.0</td>\n      <td>6-5</td>\n      <td>205.0</td>\n      <td>Boston University</td>\n      <td>NaN</td>\n    </tr>\n    <tr>\n      <th>3</th>\n      <td>3</td>\n      <td>R.J. Hunter</td>\n      <td>Boston Celtics</td>\n      <td>28.0</td>\n      <td>SG</td>\n      <td>22.0</td>\n      <td>6-5</td>\n      <td>185.0</td>\n      <td>Georgia State</td>\n      <td>1148640.0</td>\n    </tr>\n    <tr>\n      <th>4</th>\n      <td>4</td>\n      <td>Jonas Jerebko</td>\n      <td>Boston Celtics</td>\n      <td>8.0</td>\n      <td>PF</td>\n      <td>29.0</td>\n      <td>6-10</td>\n      <td>231.0</td>\n      <td>NaN</td>\n      <td>5000000.0</td>\n    </tr>\n    <tr>\n      <th>...</th>\n      <td>...</td>\n      <td>...</td>\n      <td>...</td>\n      <td>...</td>\n      <td>...</td>\n      <td>...</td>\n      <td>...</td>\n      <td>...</td>\n      <td>...</td>\n      <td>...</td>\n    </tr>\n    <tr>\n      <th>451</th>\n      <td>451</td>\n      <td>Chris Johnson</td>\n      <td>Utah Jazz</td>\n      <td>23.0</td>\n      <td>SF</td>\n      <td>26.0</td>\n      <td>6-6</td>\n      <td>206.0</td>\n      <td>Dayton</td>\n      <td>981348.0</td>\n    </tr>\n    <tr>\n      <th>452</th>\n      <td>452</td>\n      <td>Trey Lyles</td>\n      <td>Utah Jazz</td>\n      <td>41.0</td>\n      <td>PF</td>\n      <td>20.0</td>\n      <td>6-10</td>\n      <td>234.0</td>\n      <td>Kentucky</td>\n      <td>2239800.0</td>\n    </tr>\n    <tr>\n      <th>453</th>\n      <td>453</td>\n      <td>Shelvin Mack</td>\n      <td>Utah Jazz</td>\n      <td>8.0</td>\n      <td>PG</td>\n      <td>26.0</td>\n      <td>6-3</td>\n      <td>203.0</td>\n      <td>Butler</td>\n      <td>2433333.0</td>\n    </tr>\n    <tr>\n      <th>454</th>\n      <td>454</td>\n      <td>Raul Neto</td>\n      <td>Utah Jazz</td>\n      <td>25.0</td>\n      <td>PG</td>\n      <td>24.0</td>\n      <td>6-1</td>\n      <td>179.0</td>\n      <td>NaN</td>\n      <td>900000.0</td>\n    </tr>\n    <tr>\n      <th>455</th>\n      <td>455</td>\n      <td>Tibor Pleiss</td>\n      <td>Utah Jazz</td>\n      <td>21.0</td>\n      <td>C</td>\n      <td>26.0</td>\n      <td>7-3</td>\n      <td>256.0</td>\n      <td>NaN</td>\n      <td>2900000.0</td>\n    </tr>\n  </tbody>\n</table>\n<p>456 rows × 10 columns</p>\n</div>"
     },
     "execution_count": 401,
     "metadata": {},
     "output_type": "execute_result"
    }
   ],
   "source": [
    "# the data frame\n",
    "data"
   ],
   "metadata": {
    "collapsed": false,
    "ExecuteTime": {
     "end_time": "2023-09-01T17:11:38.782795Z",
     "start_time": "2023-09-01T17:11:38.524047Z"
    }
   },
   "id": "6fe77914204d274f"
  },
  {
   "cell_type": "code",
   "execution_count": 402,
   "outputs": [
    {
     "data": {
      "text/plain": "0      Avery Bradley\n1        Jae Crowder\n2       John Holland\n3        R.J. Hunter\n4      Jonas Jerebko\n           ...      \n451    Chris Johnson\n452       Trey Lyles\n453     Shelvin Mack\n454        Raul Neto\n455     Tibor Pleiss\nName: Name, Length: 456, dtype: object"
     },
     "execution_count": 402,
     "metadata": {},
     "output_type": "execute_result"
    }
   ],
   "source": [
    "# the first series in the data frame\n",
    "data.Name"
   ],
   "metadata": {
    "collapsed": false,
    "ExecuteTime": {
     "end_time": "2023-09-01T17:11:38.782795Z",
     "start_time": "2023-09-01T17:11:38.539590300Z"
    }
   },
   "id": "1f27179d04f02f5f"
  },
  {
   "cell_type": "code",
   "execution_count": 403,
   "outputs": [
    {
     "data": {
      "text/plain": "0      [Avery, Bradley]\n1        [Jae, Crowder]\n2       [John, Holland]\n3        [R.J., Hunter]\n4      [Jonas, Jerebko]\n             ...       \n451    [Chris, Johnson]\n452       [Trey, Lyles]\n453     [Shelvin, Mack]\n454        [Raul, Neto]\n455     [Tibor, Pleiss]\nName: Name, Length: 456, dtype: object"
     },
     "execution_count": 403,
     "metadata": {},
     "output_type": "execute_result"
    }
   ],
   "source": [
    "# the first data series in the data frame (split)\n",
    "data.Name.str.split()"
   ],
   "metadata": {
    "collapsed": false,
    "ExecuteTime": {
     "end_time": "2023-09-01T17:11:38.782795Z",
     "start_time": "2023-09-01T17:11:38.555201Z"
    }
   },
   "id": "55fab370628c0a29"
  },
  {
   "cell_type": "code",
   "execution_count": 404,
   "outputs": [
    {
     "data": {
      "text/plain": "0        Avery\n1          Jae\n2         John\n3         R.J.\n4        Jonas\n        ...   \n451      Chris\n452       Trey\n453    Shelvin\n454       Raul\n455      Tibor\nName: Name, Length: 456, dtype: object"
     },
     "execution_count": 404,
     "metadata": {},
     "output_type": "execute_result"
    }
   ],
   "source": [
    "# the first name of the first series in the data frame\n",
    "# returns pandas series\n",
    "data.Name.str.split().str[0]"
   ],
   "metadata": {
    "collapsed": false,
    "ExecuteTime": {
     "end_time": "2023-09-01T17:11:38.783930500Z",
     "start_time": "2023-09-01T17:11:38.571139300Z"
    }
   },
   "id": "8c5979c108743a33"
  },
  {
   "cell_type": "code",
   "execution_count": 405,
   "outputs": [
    {
     "data": {
      "text/plain": "'Avery'"
     },
     "execution_count": 405,
     "metadata": {},
     "output_type": "execute_result"
    }
   ],
   "source": [
    "# the first record or the first value of the Data Series, which series is \"the first name of the first data series in the data frame\"\n",
    "# returns string\n",
    "data.Name.iloc[0].split()[0]"
   ],
   "metadata": {
    "collapsed": false,
    "ExecuteTime": {
     "end_time": "2023-09-01T17:11:38.784918Z",
     "start_time": "2023-09-01T17:11:38.587545200Z"
    }
   },
   "id": "d7e3dee80575c03f"
  },
  {
   "cell_type": "code",
   "execution_count": 406,
   "outputs": [
    {
     "data": {
      "text/plain": "'Avery'"
     },
     "execution_count": 406,
     "metadata": {},
     "output_type": "execute_result"
    }
   ],
   "source": [
    "# Your answer returns: first record or first value of a series \"the first name of the first data series in the data frame\"\n",
    "# returns string\n",
    "data['Name'].str.split().str[0].iloc[0]"
   ],
   "metadata": {
    "collapsed": false,
    "ExecuteTime": {
     "end_time": "2023-09-01T17:11:38.926216200Z",
     "start_time": "2023-09-01T17:11:38.602880400Z"
    }
   },
   "id": "765ff6805329edde"
  },
  {
   "cell_type": "code",
   "execution_count": 407,
   "id": "22dc1bf1",
   "metadata": {
    "nbgrader": {
     "grade": false,
     "grade_id": "cell-66242b355c8d6e79",
     "locked": false,
     "schema_version": 1,
     "solution": true
    },
    "ExecuteTime": {
     "end_time": "2023-09-01T17:11:38.926216200Z",
     "start_time": "2023-09-01T17:11:38.618244300Z"
    }
   },
   "outputs": [
    {
     "name": "stdout",
     "output_type": "stream",
     "text": [
      "The last name is Bradley\n"
     ]
    }
   ],
   "source": [
    "###GRADED\n",
    "\n",
    "# Please print the last name of the first series in the data frame\n",
    "\n",
    "lastname = None\n",
    "\n",
    "### BEGIN SOLUTION\n",
    "lastname =  data['Name'].str.split().str[1].iloc[0]\n",
    "### END SOLUTION\n",
    "\n",
    "# ANSWER CHECK\n",
    "print('The last name is ' + lastname)"
   ]
  },
  {
   "cell_type": "code",
   "execution_count": 408,
   "id": "e06ba465",
   "metadata": {
    "nbgrader": {
     "grade": true,
     "grade_id": "cell-4cab45fe56846428",
     "locked": true,
     "points": 2,
     "schema_version": 1,
     "solution": false
    },
    "ExecuteTime": {
     "end_time": "2023-09-01T17:11:38.926216200Z",
     "start_time": "2023-09-01T17:11:38.632835100Z"
    }
   },
   "outputs": [
    {
     "data": {
      "text/plain": "True"
     },
     "execution_count": 408,
     "metadata": {},
     "output_type": "execute_result"
    }
   ],
   "source": [
    "### BEGIN HIDDEN TESTS\n",
    "lastname1 =  data['Name'].str.split().str[1].iloc[0]\n",
    "assert type(lastname) == type(lastname1)\n",
    "lastname == lastname1\n",
    "\n",
    "### END HIDDEN TESTS"
   ]
  },
  {
   "cell_type": "markdown",
   "source": [
    "### # Please print the last name of the first series in the data frame\n",
    "\n",
    "#### Plamen's explanation"
   ],
   "metadata": {
    "collapsed": false
   },
   "id": "e7f38c10569fc4e4"
  },
  {
   "cell_type": "code",
   "execution_count": 409,
   "outputs": [
    {
     "data": {
      "text/plain": "     Unnamed: 0           Name            Team  Number Position   Age Height  \\\n0             0  Avery Bradley  Boston Celtics     0.0       PG  25.0    6-2   \n1             1    Jae Crowder  Boston Celtics    99.0       SF  25.0    6-6   \n2             2   John Holland  Boston Celtics    30.0       SG  27.0    6-5   \n3             3    R.J. Hunter  Boston Celtics    28.0       SG  22.0    6-5   \n4             4  Jonas Jerebko  Boston Celtics     8.0       PF  29.0   6-10   \n..          ...            ...             ...     ...      ...   ...    ...   \n451         451  Chris Johnson       Utah Jazz    23.0       SF  26.0    6-6   \n452         452     Trey Lyles       Utah Jazz    41.0       PF  20.0   6-10   \n453         453   Shelvin Mack       Utah Jazz     8.0       PG  26.0    6-3   \n454         454      Raul Neto       Utah Jazz    25.0       PG  24.0    6-1   \n455         455   Tibor Pleiss       Utah Jazz    21.0        C  26.0    7-3   \n\n     Weight            College     Salary  \n0     180.0              Texas  7730337.0  \n1     235.0          Marquette  6796117.0  \n2     205.0  Boston University        NaN  \n3     185.0      Georgia State  1148640.0  \n4     231.0                NaN  5000000.0  \n..      ...                ...        ...  \n451   206.0             Dayton   981348.0  \n452   234.0           Kentucky  2239800.0  \n453   203.0             Butler  2433333.0  \n454   179.0                NaN   900000.0  \n455   256.0                NaN  2900000.0  \n\n[456 rows x 10 columns]",
      "text/html": "<div>\n<style scoped>\n    .dataframe tbody tr th:only-of-type {\n        vertical-align: middle;\n    }\n\n    .dataframe tbody tr th {\n        vertical-align: top;\n    }\n\n    .dataframe thead th {\n        text-align: right;\n    }\n</style>\n<table border=\"1\" class=\"dataframe\">\n  <thead>\n    <tr style=\"text-align: right;\">\n      <th></th>\n      <th>Unnamed: 0</th>\n      <th>Name</th>\n      <th>Team</th>\n      <th>Number</th>\n      <th>Position</th>\n      <th>Age</th>\n      <th>Height</th>\n      <th>Weight</th>\n      <th>College</th>\n      <th>Salary</th>\n    </tr>\n  </thead>\n  <tbody>\n    <tr>\n      <th>0</th>\n      <td>0</td>\n      <td>Avery Bradley</td>\n      <td>Boston Celtics</td>\n      <td>0.0</td>\n      <td>PG</td>\n      <td>25.0</td>\n      <td>6-2</td>\n      <td>180.0</td>\n      <td>Texas</td>\n      <td>7730337.0</td>\n    </tr>\n    <tr>\n      <th>1</th>\n      <td>1</td>\n      <td>Jae Crowder</td>\n      <td>Boston Celtics</td>\n      <td>99.0</td>\n      <td>SF</td>\n      <td>25.0</td>\n      <td>6-6</td>\n      <td>235.0</td>\n      <td>Marquette</td>\n      <td>6796117.0</td>\n    </tr>\n    <tr>\n      <th>2</th>\n      <td>2</td>\n      <td>John Holland</td>\n      <td>Boston Celtics</td>\n      <td>30.0</td>\n      <td>SG</td>\n      <td>27.0</td>\n      <td>6-5</td>\n      <td>205.0</td>\n      <td>Boston University</td>\n      <td>NaN</td>\n    </tr>\n    <tr>\n      <th>3</th>\n      <td>3</td>\n      <td>R.J. Hunter</td>\n      <td>Boston Celtics</td>\n      <td>28.0</td>\n      <td>SG</td>\n      <td>22.0</td>\n      <td>6-5</td>\n      <td>185.0</td>\n      <td>Georgia State</td>\n      <td>1148640.0</td>\n    </tr>\n    <tr>\n      <th>4</th>\n      <td>4</td>\n      <td>Jonas Jerebko</td>\n      <td>Boston Celtics</td>\n      <td>8.0</td>\n      <td>PF</td>\n      <td>29.0</td>\n      <td>6-10</td>\n      <td>231.0</td>\n      <td>NaN</td>\n      <td>5000000.0</td>\n    </tr>\n    <tr>\n      <th>...</th>\n      <td>...</td>\n      <td>...</td>\n      <td>...</td>\n      <td>...</td>\n      <td>...</td>\n      <td>...</td>\n      <td>...</td>\n      <td>...</td>\n      <td>...</td>\n      <td>...</td>\n    </tr>\n    <tr>\n      <th>451</th>\n      <td>451</td>\n      <td>Chris Johnson</td>\n      <td>Utah Jazz</td>\n      <td>23.0</td>\n      <td>SF</td>\n      <td>26.0</td>\n      <td>6-6</td>\n      <td>206.0</td>\n      <td>Dayton</td>\n      <td>981348.0</td>\n    </tr>\n    <tr>\n      <th>452</th>\n      <td>452</td>\n      <td>Trey Lyles</td>\n      <td>Utah Jazz</td>\n      <td>41.0</td>\n      <td>PF</td>\n      <td>20.0</td>\n      <td>6-10</td>\n      <td>234.0</td>\n      <td>Kentucky</td>\n      <td>2239800.0</td>\n    </tr>\n    <tr>\n      <th>453</th>\n      <td>453</td>\n      <td>Shelvin Mack</td>\n      <td>Utah Jazz</td>\n      <td>8.0</td>\n      <td>PG</td>\n      <td>26.0</td>\n      <td>6-3</td>\n      <td>203.0</td>\n      <td>Butler</td>\n      <td>2433333.0</td>\n    </tr>\n    <tr>\n      <th>454</th>\n      <td>454</td>\n      <td>Raul Neto</td>\n      <td>Utah Jazz</td>\n      <td>25.0</td>\n      <td>PG</td>\n      <td>24.0</td>\n      <td>6-1</td>\n      <td>179.0</td>\n      <td>NaN</td>\n      <td>900000.0</td>\n    </tr>\n    <tr>\n      <th>455</th>\n      <td>455</td>\n      <td>Tibor Pleiss</td>\n      <td>Utah Jazz</td>\n      <td>21.0</td>\n      <td>C</td>\n      <td>26.0</td>\n      <td>7-3</td>\n      <td>256.0</td>\n      <td>NaN</td>\n      <td>2900000.0</td>\n    </tr>\n  </tbody>\n</table>\n<p>456 rows × 10 columns</p>\n</div>"
     },
     "execution_count": 409,
     "metadata": {},
     "output_type": "execute_result"
    }
   ],
   "source": [
    "# the data frame\n",
    "data"
   ],
   "metadata": {
    "collapsed": false,
    "ExecuteTime": {
     "end_time": "2023-09-01T17:11:38.926216200Z",
     "start_time": "2023-09-01T17:11:38.647957900Z"
    }
   },
   "id": "856c1ca63239b86b"
  },
  {
   "cell_type": "code",
   "execution_count": 410,
   "outputs": [
    {
     "data": {
      "text/plain": "0      Avery Bradley\n1        Jae Crowder\n2       John Holland\n3        R.J. Hunter\n4      Jonas Jerebko\n           ...      \n451    Chris Johnson\n452       Trey Lyles\n453     Shelvin Mack\n454        Raul Neto\n455     Tibor Pleiss\nName: Name, Length: 456, dtype: object"
     },
     "execution_count": 410,
     "metadata": {},
     "output_type": "execute_result"
    }
   ],
   "source": [
    "# the first series in the data frame\n",
    "data['Name']"
   ],
   "metadata": {
    "collapsed": false,
    "ExecuteTime": {
     "end_time": "2023-09-01T17:11:38.951705100Z",
     "start_time": "2023-09-01T17:11:38.664349100Z"
    }
   },
   "id": "badb8124d3bc7af2"
  },
  {
   "cell_type": "code",
   "execution_count": 411,
   "outputs": [
    {
     "data": {
      "text/plain": "0      [Avery, Bradley]\n1        [Jae, Crowder]\n2       [John, Holland]\n3        [R.J., Hunter]\n4      [Jonas, Jerebko]\n             ...       \n451    [Chris, Johnson]\n452       [Trey, Lyles]\n453     [Shelvin, Mack]\n454        [Raul, Neto]\n455     [Tibor, Pleiss]\nName: Name, Length: 456, dtype: object"
     },
     "execution_count": 411,
     "metadata": {},
     "output_type": "execute_result"
    }
   ],
   "source": [
    "# the first series in the data frame (split)\n",
    "data['Name'].str.split()"
   ],
   "metadata": {
    "collapsed": false,
    "ExecuteTime": {
     "end_time": "2023-09-01T17:11:38.951705100Z",
     "start_time": "2023-09-01T17:11:38.679373800Z"
    }
   },
   "id": "3eef8857a49c6e2e"
  },
  {
   "cell_type": "code",
   "execution_count": 412,
   "outputs": [
    {
     "data": {
      "text/plain": "0      Bradley\n1      Crowder\n2      Holland\n3       Hunter\n4      Jerebko\n        ...   \n451    Johnson\n452      Lyles\n453       Mack\n454       Neto\n455     Pleiss\nName: Name, Length: 456, dtype: object"
     },
     "execution_count": 412,
     "metadata": {},
     "output_type": "execute_result"
    }
   ],
   "source": [
    "# the last name of the first series in the data frame\n",
    "# returns pandas series\n",
    "data['Name'].str.split().str[1]"
   ],
   "metadata": {
    "collapsed": false,
    "ExecuteTime": {
     "end_time": "2023-09-01T17:11:38.951705100Z",
     "start_time": "2023-09-01T17:11:38.695200800Z"
    }
   },
   "id": "65288f8f11231608"
  },
  {
   "cell_type": "code",
   "execution_count": 413,
   "outputs": [
    {
     "data": {
      "text/plain": "'Bradley'"
     },
     "execution_count": 413,
     "metadata": {},
     "output_type": "execute_result"
    }
   ],
   "source": [
    "# the first record or the first value of the Data Series, which series is \"the last name of the first data series in the data frame\"\n",
    "# returns string\n",
    "data.Name.str.split().str[1].iloc[0]"
   ],
   "metadata": {
    "collapsed": false,
    "ExecuteTime": {
     "end_time": "2023-09-01T17:11:38.952713600Z",
     "start_time": "2023-09-01T17:11:38.710089Z"
    }
   },
   "id": "b1af00165f01a4d4"
  },
  {
   "cell_type": "code",
   "execution_count": 415,
   "outputs": [
    {
     "data": {
      "text/plain": "'Bradley'"
     },
     "execution_count": 415,
     "metadata": {},
     "output_type": "execute_result"
    }
   ],
   "source": [
    "# Your answer returns: first record or first value of a series \"the last name of the first data series in the data frame\"\n",
    "# returns string\n",
    "data['Name'].str.split().str[1].iloc[0]"
   ],
   "metadata": {
    "collapsed": false,
    "ExecuteTime": {
     "end_time": "2023-09-01T17:11:43.887979600Z",
     "start_time": "2023-09-01T17:11:43.827485Z"
    }
   },
   "id": "3c0e141c0ff42e3c"
  }
 ],
 "metadata": {
  "celltoolbar": "Create Assignment",
  "kernelspec": {
   "display_name": "Python 3 (ipykernel)",
   "language": "python",
   "name": "python3"
  },
  "language_info": {
   "codemirror_mode": {
    "name": "ipython",
    "version": 3
   },
   "file_extension": ".py",
   "mimetype": "text/x-python",
   "name": "python",
   "nbconvert_exporter": "python",
   "pygments_lexer": "ipython3",
   "version": "3.9.9"
  }
 },
 "nbformat": 4,
 "nbformat_minor": 5
}
