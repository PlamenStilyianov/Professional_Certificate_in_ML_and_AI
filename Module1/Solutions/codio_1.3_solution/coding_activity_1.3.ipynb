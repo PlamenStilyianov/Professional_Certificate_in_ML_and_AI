{
 "cells": [
  {
   "cell_type": "markdown",
   "id": "3c4a540b",
   "metadata": {
    "nbgrader": {
     "grade": false,
     "grade_id": "cell-e1db32c15778e963",
     "locked": true,
     "schema_version": 1,
     "solution": false
    }
   },
   "source": [
    "## Codio Activity 1.3: Selecting Data in Multiple Ways\n",
    "\n",
    "**Expected Time: 45 Minutes**\n",
    "\n",
    "**Total Points: 20 Points**\n",
    "\n",
    "## Index:\n",
    "\n",
    "- [Part 1](#Part-one)\n",
    "- [Part 2](#Part-two)\n",
    "- [Part 3](#Part-three)"
   ]
  },
  {
   "cell_type": "code",
   "execution_count": 1,
   "id": "6ec2a8b0",
   "metadata": {
    "ExecuteTime": {
     "end_time": "2023-09-03T16:45:51.408298600Z",
     "start_time": "2023-09-03T16:45:51.078750700Z"
    }
   },
   "outputs": [],
   "source": [
    "import pandas as pd"
   ]
  },
  {
   "cell_type": "markdown",
   "id": "a54cd6cd",
   "metadata": {
    "nbgrader": {
     "grade": false,
     "grade_id": "cell-c5192e6fb172717e",
     "locked": true,
     "schema_version": 1,
     "solution": false
    }
   },
   "source": [
    "[Back to top](#Index:) \n",
    "\n",
    "## Part one\n",
    "\n",
    "### loc[]\n",
    "\n",
    "**2 Points each**\n",
    "\n",
    "In this exercise, return the basic information from a dataframe using loc[]"
   ]
  },
  {
   "cell_type": "code",
   "execution_count": 2,
   "id": "613b4f25",
   "metadata": {
    "ExecuteTime": {
     "end_time": "2023-09-03T16:45:51.467339200Z",
     "start_time": "2023-09-03T16:45:51.408298600Z"
    }
   },
   "outputs": [
    {
     "data": {
      "text/html": [
       "<div>\n",
       "<style scoped>\n",
       "    .dataframe tbody tr th:only-of-type {\n",
       "        vertical-align: middle;\n",
       "    }\n",
       "\n",
       "    .dataframe tbody tr th {\n",
       "        vertical-align: top;\n",
       "    }\n",
       "\n",
       "    .dataframe thead th {\n",
       "        text-align: right;\n",
       "    }\n",
       "</style>\n",
       "<table border=\"1\" class=\"dataframe\">\n",
       "  <thead>\n",
       "    <tr style=\"text-align: right;\">\n",
       "      <th></th>\n",
       "      <th>Unnamed: 0</th>\n",
       "      <th>Name</th>\n",
       "      <th>Team</th>\n",
       "      <th>Number</th>\n",
       "      <th>Position</th>\n",
       "      <th>Age</th>\n",
       "      <th>Height</th>\n",
       "      <th>Weight</th>\n",
       "      <th>College</th>\n",
       "      <th>Salary</th>\n",
       "    </tr>\n",
       "  </thead>\n",
       "  <tbody>\n",
       "    <tr>\n",
       "      <th>0</th>\n",
       "      <td>0</td>\n",
       "      <td>Avery Bradley</td>\n",
       "      <td>Boston Celtics</td>\n",
       "      <td>0.0</td>\n",
       "      <td>PG</td>\n",
       "      <td>25.0</td>\n",
       "      <td>6-2</td>\n",
       "      <td>180.0</td>\n",
       "      <td>Texas</td>\n",
       "      <td>7730337.0</td>\n",
       "    </tr>\n",
       "    <tr>\n",
       "      <th>1</th>\n",
       "      <td>1</td>\n",
       "      <td>Jae Crowder</td>\n",
       "      <td>Boston Celtics</td>\n",
       "      <td>99.0</td>\n",
       "      <td>SF</td>\n",
       "      <td>25.0</td>\n",
       "      <td>6-6</td>\n",
       "      <td>235.0</td>\n",
       "      <td>Marquette</td>\n",
       "      <td>6796117.0</td>\n",
       "    </tr>\n",
       "    <tr>\n",
       "      <th>2</th>\n",
       "      <td>2</td>\n",
       "      <td>John Holland</td>\n",
       "      <td>Boston Celtics</td>\n",
       "      <td>30.0</td>\n",
       "      <td>SG</td>\n",
       "      <td>27.0</td>\n",
       "      <td>6-5</td>\n",
       "      <td>205.0</td>\n",
       "      <td>Boston University</td>\n",
       "      <td>NaN</td>\n",
       "    </tr>\n",
       "    <tr>\n",
       "      <th>3</th>\n",
       "      <td>3</td>\n",
       "      <td>R.J. Hunter</td>\n",
       "      <td>Boston Celtics</td>\n",
       "      <td>28.0</td>\n",
       "      <td>SG</td>\n",
       "      <td>22.0</td>\n",
       "      <td>6-5</td>\n",
       "      <td>185.0</td>\n",
       "      <td>Georgia State</td>\n",
       "      <td>1148640.0</td>\n",
       "    </tr>\n",
       "    <tr>\n",
       "      <th>4</th>\n",
       "      <td>4</td>\n",
       "      <td>Jonas Jerebko</td>\n",
       "      <td>Boston Celtics</td>\n",
       "      <td>8.0</td>\n",
       "      <td>PF</td>\n",
       "      <td>29.0</td>\n",
       "      <td>6-10</td>\n",
       "      <td>231.0</td>\n",
       "      <td>NaN</td>\n",
       "      <td>5000000.0</td>\n",
       "    </tr>\n",
       "    <tr>\n",
       "      <th>5</th>\n",
       "      <td>5</td>\n",
       "      <td>Amir Johnson</td>\n",
       "      <td>Boston Celtics</td>\n",
       "      <td>90.0</td>\n",
       "      <td>PF</td>\n",
       "      <td>29.0</td>\n",
       "      <td>6-9</td>\n",
       "      <td>240.0</td>\n",
       "      <td>NaN</td>\n",
       "      <td>12000000.0</td>\n",
       "    </tr>\n",
       "    <tr>\n",
       "      <th>6</th>\n",
       "      <td>6</td>\n",
       "      <td>Jordan Mickey</td>\n",
       "      <td>Boston Celtics</td>\n",
       "      <td>55.0</td>\n",
       "      <td>PF</td>\n",
       "      <td>21.0</td>\n",
       "      <td>6-8</td>\n",
       "      <td>235.0</td>\n",
       "      <td>LSU</td>\n",
       "      <td>1170960.0</td>\n",
       "    </tr>\n",
       "    <tr>\n",
       "      <th>7</th>\n",
       "      <td>7</td>\n",
       "      <td>Kelly Olynyk</td>\n",
       "      <td>Boston Celtics</td>\n",
       "      <td>41.0</td>\n",
       "      <td>C</td>\n",
       "      <td>25.0</td>\n",
       "      <td>7-0</td>\n",
       "      <td>238.0</td>\n",
       "      <td>Gonzaga</td>\n",
       "      <td>2165160.0</td>\n",
       "    </tr>\n",
       "    <tr>\n",
       "      <th>8</th>\n",
       "      <td>8</td>\n",
       "      <td>Terry Rozier</td>\n",
       "      <td>Boston Celtics</td>\n",
       "      <td>12.0</td>\n",
       "      <td>PG</td>\n",
       "      <td>22.0</td>\n",
       "      <td>6-2</td>\n",
       "      <td>190.0</td>\n",
       "      <td>Louisville</td>\n",
       "      <td>1824360.0</td>\n",
       "    </tr>\n",
       "    <tr>\n",
       "      <th>9</th>\n",
       "      <td>9</td>\n",
       "      <td>Marcus Smart</td>\n",
       "      <td>Boston Celtics</td>\n",
       "      <td>36.0</td>\n",
       "      <td>PG</td>\n",
       "      <td>22.0</td>\n",
       "      <td>6-4</td>\n",
       "      <td>220.0</td>\n",
       "      <td>Oklahoma State</td>\n",
       "      <td>3431040.0</td>\n",
       "    </tr>\n",
       "  </tbody>\n",
       "</table>\n",
       "</div>"
      ],
      "text/plain": [
       "   Unnamed: 0           Name            Team  Number Position   Age Height  \\\n",
       "0           0  Avery Bradley  Boston Celtics     0.0       PG  25.0    6-2   \n",
       "1           1    Jae Crowder  Boston Celtics    99.0       SF  25.0    6-6   \n",
       "2           2   John Holland  Boston Celtics    30.0       SG  27.0    6-5   \n",
       "3           3    R.J. Hunter  Boston Celtics    28.0       SG  22.0    6-5   \n",
       "4           4  Jonas Jerebko  Boston Celtics     8.0       PF  29.0   6-10   \n",
       "5           5   Amir Johnson  Boston Celtics    90.0       PF  29.0    6-9   \n",
       "6           6  Jordan Mickey  Boston Celtics    55.0       PF  21.0    6-8   \n",
       "7           7   Kelly Olynyk  Boston Celtics    41.0        C  25.0    7-0   \n",
       "8           8   Terry Rozier  Boston Celtics    12.0       PG  22.0    6-2   \n",
       "9           9   Marcus Smart  Boston Celtics    36.0       PG  22.0    6-4   \n",
       "\n",
       "   Weight            College      Salary  \n",
       "0   180.0              Texas   7730337.0  \n",
       "1   235.0          Marquette   6796117.0  \n",
       "2   205.0  Boston University         NaN  \n",
       "3   185.0      Georgia State   1148640.0  \n",
       "4   231.0                NaN   5000000.0  \n",
       "5   240.0                NaN  12000000.0  \n",
       "6   235.0                LSU   1170960.0  \n",
       "7   238.0            Gonzaga   2165160.0  \n",
       "8   190.0         Louisville   1824360.0  \n",
       "9   220.0     Oklahoma State   3431040.0  "
      ]
     },
     "execution_count": 2,
     "metadata": {},
     "output_type": "execute_result"
    }
   ],
   "source": [
    "#create the DataFrame utilizing Pandas \n",
    "data = pd.read_csv('data/nba.csv')\n",
    "data = data.iloc[:-1 , :] # removing last row NaN\n",
    "data.head(10)"
   ]
  },
  {
   "cell_type": "code",
   "execution_count": 3,
   "id": "9f67b59a",
   "metadata": {
    "ExecuteTime": {
     "end_time": "2023-09-03T16:45:51.497617500Z",
     "start_time": "2023-09-03T16:45:51.440900900Z"
    },
    "nbgrader": {
     "grade": false,
     "grade_id": "cell-b045abc8cbfc7df8",
     "locked": false,
     "schema_version": 1,
     "solution": true
    }
   },
   "outputs": [
    {
     "name": "stdout",
     "output_type": "stream",
     "text": [
      "Unnamed: 0                 0\n",
      "Name           Avery Bradley\n",
      "Team          Boston Celtics\n",
      "Number                   0.0\n",
      "Position                  PG\n",
      "Age                     25.0\n",
      "Height                   6-2\n",
      "Weight                 180.0\n",
      "College                Texas\n",
      "Salary             7730337.0\n",
      "Name: 0, dtype: object\n"
     ]
    }
   ],
   "source": [
    "### GRADED\n",
    "\n",
    "# Please print the information for the first line in the DataFrame. \n",
    "\n",
    "locinfo = None\n",
    "#print(data)\n",
    "### BEGIN SOLUTION\n",
    "locinfo = data.loc[0, : ]\n",
    "### END SOLUTION\n",
    "from pprint import pprint\n",
    "# ANSWER CHECK\n",
    "print(locinfo)"
   ]
  },
  {
   "cell_type": "code",
   "execution_count": 4,
   "id": "15513533",
   "metadata": {
    "ExecuteTime": {
     "end_time": "2023-09-03T16:45:51.516772300Z",
     "start_time": "2023-09-03T16:45:51.457278500Z"
    },
    "nbgrader": {
     "grade": true,
     "grade_id": "cell-c17601ab1d1e84b9",
     "locked": true,
     "points": 2,
     "schema_version": 1,
     "solution": false
    }
   },
   "outputs": [
    {
     "data": {
      "text/plain": [
       "Unnamed: 0    True\n",
       "Name          True\n",
       "Team          True\n",
       "Number        True\n",
       "Position      True\n",
       "Age           True\n",
       "Height        True\n",
       "Weight        True\n",
       "College       True\n",
       "Salary        True\n",
       "Name: 0, dtype: bool"
      ]
     },
     "execution_count": 4,
     "metadata": {},
     "output_type": "execute_result"
    }
   ],
   "source": [
    "### BEGIN HIDDEN TESTS\n",
    "locinfo1 = data.loc[0]\n",
    "assert type(locinfo) == type(locinfo1)\n",
    "locinfo == locinfo1\n",
    "\n",
    "### END HIDDEN TESTS"
   ]
  },
  {
   "cell_type": "code",
   "execution_count": 5,
   "id": "cc745640",
   "metadata": {
    "ExecuteTime": {
     "end_time": "2023-09-03T16:45:51.545944100Z",
     "start_time": "2023-09-03T16:45:51.476008600Z"
    },
    "nbgrader": {
     "grade": false,
     "grade_id": "cell-2ce96b09f45395ce",
     "locked": false,
     "schema_version": 1,
     "solution": true
    }
   },
   "outputs": [
    {
     "name": "stdout",
     "output_type": "stream",
     "text": [
      "             Name                 Team\n",
      "169  LeBron James  Cleveland Cavaliers\n"
     ]
    }
   ],
   "source": [
    "### GRADED\n",
    "# Please show LeBron James' name and team\n",
    "\n",
    "teamdata = None\n",
    "\n",
    "### BEGIN SOLUTION\n",
    "teamdata = data.loc[data['Name'] == 'LeBron James', 'Name':'Team']\n",
    "### END SOLUTION\n",
    "\n",
    "# ANSWER CHECK\n",
    "print(teamdata)"
   ]
  },
  {
   "cell_type": "code",
   "execution_count": 6,
   "id": "a9f39ecf",
   "metadata": {
    "ExecuteTime": {
     "end_time": "2023-09-03T16:45:51.584431500Z",
     "start_time": "2023-09-03T16:45:51.485533300Z"
    },
    "nbgrader": {
     "grade": true,
     "grade_id": "cell-597b728f731e35e1",
     "locked": true,
     "points": 2,
     "schema_version": 1,
     "solution": false
    }
   },
   "outputs": [
    {
     "data": {
      "text/html": [
       "<div>\n",
       "<style scoped>\n",
       "    .dataframe tbody tr th:only-of-type {\n",
       "        vertical-align: middle;\n",
       "    }\n",
       "\n",
       "    .dataframe tbody tr th {\n",
       "        vertical-align: top;\n",
       "    }\n",
       "\n",
       "    .dataframe thead th {\n",
       "        text-align: right;\n",
       "    }\n",
       "</style>\n",
       "<table border=\"1\" class=\"dataframe\">\n",
       "  <thead>\n",
       "    <tr style=\"text-align: right;\">\n",
       "      <th></th>\n",
       "      <th>Name</th>\n",
       "      <th>Team</th>\n",
       "    </tr>\n",
       "  </thead>\n",
       "  <tbody>\n",
       "    <tr>\n",
       "      <th>169</th>\n",
       "      <td>True</td>\n",
       "      <td>True</td>\n",
       "    </tr>\n",
       "  </tbody>\n",
       "</table>\n",
       "</div>"
      ],
      "text/plain": [
       "     Name  Team\n",
       "169  True  True"
      ]
     },
     "execution_count": 6,
     "metadata": {},
     "output_type": "execute_result"
    }
   ],
   "source": [
    "### BEGIN HIDDEN TESTS\n",
    "teamdata_ = data.loc[data.Name == 'LeBron James', 'Name':'Team']\n",
    "assert type(teamdata) == type(teamdata_)\n",
    "teamdata == teamdata_\n",
    "\n",
    "### END HIDDEN TESTS"
   ]
  },
  {
   "cell_type": "markdown",
   "id": "b5ba7a76",
   "metadata": {
    "nbgrader": {
     "grade": false,
     "grade_id": "cell-3dbaee614a4b6329",
     "locked": true,
     "schema_version": 1,
     "solution": false
    }
   },
   "source": [
    "[Back to top](#Index:) \n",
    "\n",
    "## Part two\n",
    "\n",
    "### iloc[]\n",
    "\n",
    "**2 Points each**\n",
    "\n",
    "In this exercise, return single selections using iloc[]"
   ]
  },
  {
   "cell_type": "code",
   "execution_count": 7,
   "id": "71d67b9f",
   "metadata": {
    "ExecuteTime": {
     "end_time": "2023-09-03T16:45:51.585428700Z",
     "start_time": "2023-09-03T16:45:51.500557Z"
    },
    "nbgrader": {
     "grade": false,
     "grade_id": "cell-ac4f90f3ca044a80",
     "locked": false,
     "schema_version": 1,
     "solution": true
    }
   },
   "outputs": [
    {
     "name": "stdout",
     "output_type": "stream",
     "text": [
      "Unnamed: 0                 0\n",
      "Name           Avery Bradley\n",
      "Team          Boston Celtics\n",
      "Number                   0.0\n",
      "Position                  PG\n",
      "Age                     25.0\n",
      "Height                   6-2\n",
      "Weight                 180.0\n",
      "College                Texas\n",
      "Salary             7730337.0\n",
      "Name: 0, dtype: object\n"
     ]
    }
   ],
   "source": [
    "### GRADED\n",
    "# Please print the first row of data frame \n",
    "\n",
    "fr = None\n",
    "\n",
    "### BEGIN SOLUTION\n",
    "\n",
    "fr = data.iloc[0]\n",
    "\n",
    "### END SOLUTION\n",
    "\n",
    "# ANSWER CHECK\n",
    "print(fr)"
   ]
  },
  {
   "cell_type": "code",
   "execution_count": 8,
   "id": "ca0298e4",
   "metadata": {
    "ExecuteTime": {
     "end_time": "2023-09-03T16:45:51.588421200Z",
     "start_time": "2023-09-03T16:45:51.514768Z"
    },
    "nbgrader": {
     "grade": true,
     "grade_id": "cell-5c398dc822477664",
     "locked": true,
     "points": 2,
     "schema_version": 1,
     "solution": false
    }
   },
   "outputs": [
    {
     "data": {
      "text/plain": [
       "Unnamed: 0    True\n",
       "Name          True\n",
       "Team          True\n",
       "Number        True\n",
       "Position      True\n",
       "Age           True\n",
       "Height        True\n",
       "Weight        True\n",
       "College       True\n",
       "Salary        True\n",
       "Name: 0, dtype: bool"
      ]
     },
     "execution_count": 8,
     "metadata": {},
     "output_type": "execute_result"
    }
   ],
   "source": [
    "### BEGIN HIDDEN TESTS\n",
    "\n",
    "## Old test case, seem incorrect. Commenting it for now...\n",
    "# teamdata1 = data.loc[data.Name == 'LeBron James', 'Name':'Team']\n",
    "# assert type(teamdata) == type(teamdata1)\n",
    "# teamdata == teamdata1\n",
    "\n",
    "fr_ =  data.iloc[0]\n",
    "assert type(fr) == type(fr_ )\n",
    "fr == fr_\n",
    "\n",
    "### END HIDDEN TESTS"
   ]
  },
  {
   "cell_type": "code",
   "execution_count": 9,
   "id": "1e7ce809",
   "metadata": {
    "ExecuteTime": {
     "end_time": "2023-09-03T16:45:51.608337300Z",
     "start_time": "2023-09-03T16:45:51.531314Z"
    },
    "nbgrader": {
     "grade": false,
     "grade_id": "cell-c96cb0193a5accb4",
     "locked": false,
     "schema_version": 1,
     "solution": true
    }
   },
   "outputs": [
    {
     "name": "stdout",
     "output_type": "stream",
     "text": [
      "Unnamed: 0                 1\n",
      "Name             Jae Crowder\n",
      "Team          Boston Celtics\n",
      "Number                  99.0\n",
      "Position                  SF\n",
      "Age                     25.0\n",
      "Height                   6-6\n",
      "Weight                 235.0\n",
      "College            Marquette\n",
      "Salary             6796117.0\n",
      "Name: 1, dtype: object\n"
     ]
    }
   ],
   "source": [
    "### GRADED\n",
    "# Please print the second row of data frame \n",
    "\n",
    "sr = None\n",
    "\n",
    "### BEGIN SOLUTION\n",
    "\n",
    "sr =  data.iloc[1]\n",
    "\n",
    "### END SOLUTION\n",
    "\n",
    "# ANSWER CHECK\n",
    "print(sr)"
   ]
  },
  {
   "cell_type": "code",
   "execution_count": 10,
   "id": "edcd56ea",
   "metadata": {
    "ExecuteTime": {
     "end_time": "2023-09-03T16:45:51.611893800Z",
     "start_time": "2023-09-03T16:45:51.548934500Z"
    },
    "nbgrader": {
     "grade": true,
     "grade_id": "cell-621a6217da17246a",
     "locked": true,
     "points": 2,
     "schema_version": 1,
     "solution": false
    }
   },
   "outputs": [
    {
     "data": {
      "text/plain": [
       "Unnamed: 0    True\n",
       "Name          True\n",
       "Team          True\n",
       "Number        True\n",
       "Position      True\n",
       "Age           True\n",
       "Height        True\n",
       "Weight        True\n",
       "College       True\n",
       "Salary        True\n",
       "Name: 1, dtype: bool"
      ]
     },
     "execution_count": 10,
     "metadata": {},
     "output_type": "execute_result"
    }
   ],
   "source": [
    "### BEGIN HIDDEN TESTS\n",
    "sr_ =  data.iloc[1]\n",
    "assert type(sr) == type(sr_ )\n",
    "sr == sr_ \n",
    "\n",
    "### END HIDDEN TESTS"
   ]
  },
  {
   "cell_type": "code",
   "execution_count": 11,
   "id": "57c251ab",
   "metadata": {
    "ExecuteTime": {
     "end_time": "2023-09-03T16:45:51.637453600Z",
     "start_time": "2023-09-03T16:45:51.563066800Z"
    },
    "nbgrader": {
     "grade": false,
     "grade_id": "cell-1843d8fe5e08d07a",
     "locked": false,
     "schema_version": 1,
     "solution": true
    }
   },
   "outputs": [
    {
     "name": "stdout",
     "output_type": "stream",
     "text": [
      "Unnamed: 0             455\n",
      "Name          Tibor Pleiss\n",
      "Team             Utah Jazz\n",
      "Number                21.0\n",
      "Position                 C\n",
      "Age                   26.0\n",
      "Height                 7-3\n",
      "Weight               256.0\n",
      "College                NaN\n",
      "Salary           2900000.0\n",
      "Name: 455, dtype: object\n"
     ]
    }
   ],
   "source": [
    "### GRADED\n",
    "# Please print the last row of data frame\n",
    "\n",
    "lr = None\n",
    "\n",
    "### BEGIN SOLUTION\n",
    "\n",
    "lr =  data.iloc[-1] \n",
    "\n",
    "### END SOLUTION\n",
    "\n",
    "# ANSWER CHECK\n",
    "print(lr)"
   ]
  },
  {
   "cell_type": "code",
   "execution_count": 12,
   "id": "44898bcb",
   "metadata": {
    "ExecuteTime": {
     "end_time": "2023-09-03T16:45:51.672895100Z",
     "start_time": "2023-09-03T16:45:51.578926300Z"
    },
    "nbgrader": {
     "grade": true,
     "grade_id": "cell-d0d3c052cb0eb6c4",
     "locked": true,
     "points": 2,
     "schema_version": 1,
     "solution": false
    }
   },
   "outputs": [
    {
     "data": {
      "text/plain": [
       "Unnamed: 0     True\n",
       "Name           True\n",
       "Team           True\n",
       "Number         True\n",
       "Position       True\n",
       "Age            True\n",
       "Height         True\n",
       "Weight         True\n",
       "College       False\n",
       "Salary         True\n",
       "Name: 455, dtype: bool"
      ]
     },
     "execution_count": 12,
     "metadata": {},
     "output_type": "execute_result"
    }
   ],
   "source": [
    "### BEGIN HIDDEN TESTS\n",
    "lr_ =  data.iloc[-1]\n",
    "assert type(lr) == type(lr_)\n",
    "lr == lr_\n",
    "\n",
    "### END HIDDEN TESTS"
   ]
  },
  {
   "cell_type": "code",
   "execution_count": 13,
   "id": "a75701ec",
   "metadata": {
    "ExecuteTime": {
     "end_time": "2023-09-03T16:45:51.747856400Z",
     "start_time": "2023-09-03T16:45:51.594980300Z"
    },
    "nbgrader": {
     "grade": false,
     "grade_id": "cell-b2ddae2ebcad6705",
     "locked": false,
     "schema_version": 1,
     "solution": true
    }
   },
   "outputs": [
    {
     "name": "stdout",
     "output_type": "stream",
     "text": [
      "0        0\n",
      "1        1\n",
      "2        2\n",
      "3        3\n",
      "4        4\n",
      "      ... \n",
      "451    451\n",
      "452    452\n",
      "453    453\n",
      "454    454\n",
      "455    455\n",
      "Name: Unnamed: 0, Length: 456, dtype: int64\n"
     ]
    }
   ],
   "source": [
    "###GRADED\n",
    "# Please print the first column of data frame\n",
    " \n",
    "fc = None\n",
    "\n",
    "### BEGIN SOLUTION\n",
    "\n",
    "fc =  data.iloc[:,0] \n",
    "\n",
    "### END SOLUTION\n",
    "\n",
    "# ANSWER CHECK\n",
    "print(fc)"
   ]
  },
  {
   "cell_type": "code",
   "execution_count": 14,
   "id": "33a925af",
   "metadata": {
    "ExecuteTime": {
     "end_time": "2023-09-03T16:45:51.782625300Z",
     "start_time": "2023-09-03T16:45:51.610896Z"
    },
    "nbgrader": {
     "grade": true,
     "grade_id": "cell-3a927802d2551a13",
     "locked": true,
     "points": 2,
     "schema_version": 1,
     "solution": false
    }
   },
   "outputs": [
    {
     "data": {
      "text/plain": [
       "0      True\n",
       "1      True\n",
       "2      True\n",
       "3      True\n",
       "4      True\n",
       "       ... \n",
       "451    True\n",
       "452    True\n",
       "453    True\n",
       "454    True\n",
       "455    True\n",
       "Name: Unnamed: 0, Length: 456, dtype: bool"
      ]
     },
     "execution_count": 14,
     "metadata": {},
     "output_type": "execute_result"
    }
   ],
   "source": [
    "### BEGIN HIDDEN TESTS\n",
    "fc_ =  data.iloc[:,0]\n",
    "assert type(fc) == type(fc_)\n",
    "fc == fc_\n",
    "\n",
    "### END HIDDEN TESTS"
   ]
  },
  {
   "cell_type": "code",
   "execution_count": 15,
   "id": "ca164924",
   "metadata": {
    "ExecuteTime": {
     "end_time": "2023-09-03T16:45:51.783624200Z",
     "start_time": "2023-09-03T16:45:51.627882500Z"
    },
    "nbgrader": {
     "grade": false,
     "grade_id": "cell-35925d6c39ff9c32",
     "locked": false,
     "schema_version": 1,
     "solution": true
    }
   },
   "outputs": [
    {
     "name": "stdout",
     "output_type": "stream",
     "text": [
      "0      Avery Bradley\n",
      "1        Jae Crowder\n",
      "2       John Holland\n",
      "3        R.J. Hunter\n",
      "4      Jonas Jerebko\n",
      "           ...      \n",
      "451    Chris Johnson\n",
      "452       Trey Lyles\n",
      "453     Shelvin Mack\n",
      "454        Raul Neto\n",
      "455     Tibor Pleiss\n",
      "Name: Name, Length: 456, dtype: object\n"
     ]
    }
   ],
   "source": [
    "### GRADED\n",
    "# Please print the second column of data frame\n",
    "\n",
    "sc = None\n",
    "\n",
    "### BEGIN SOLUTION\n",
    "\n",
    "sc =  data.iloc[:,1]\n",
    "\n",
    "### END SOLUTION\n",
    "\n",
    "# ANSWER CHECK\n",
    "print(sc)"
   ]
  },
  {
   "cell_type": "code",
   "execution_count": 16,
   "id": "abecdf2a",
   "metadata": {
    "ExecuteTime": {
     "end_time": "2023-09-03T16:45:51.784620400Z",
     "start_time": "2023-09-03T16:45:51.641885800Z"
    },
    "nbgrader": {
     "grade": true,
     "grade_id": "cell-5040d043a3cceb73",
     "locked": true,
     "points": 2,
     "schema_version": 1,
     "solution": false
    }
   },
   "outputs": [
    {
     "data": {
      "text/plain": [
       "0      True\n",
       "1      True\n",
       "2      True\n",
       "3      True\n",
       "4      True\n",
       "       ... \n",
       "451    True\n",
       "452    True\n",
       "453    True\n",
       "454    True\n",
       "455    True\n",
       "Name: Name, Length: 456, dtype: bool"
      ]
     },
     "execution_count": 16,
     "metadata": {},
     "output_type": "execute_result"
    }
   ],
   "source": [
    "### BEGIN HIDDEN TESTS\n",
    "sc_ =  data.iloc[:,1]\n",
    "assert type(sc) == type(sc_)\n",
    "sc == sc_\n",
    "\n",
    "### END HIDDEN TESTS"
   ]
  },
  {
   "cell_type": "code",
   "execution_count": 17,
   "id": "2a1bc18d",
   "metadata": {
    "ExecuteTime": {
     "end_time": "2023-09-03T16:45:51.785618300Z",
     "start_time": "2023-09-03T16:45:51.657524500Z"
    },
    "nbgrader": {
     "grade": false,
     "grade_id": "cell-04a5a0d17f2b4901",
     "locked": false,
     "schema_version": 1,
     "solution": true
    }
   },
   "outputs": [
    {
     "name": "stdout",
     "output_type": "stream",
     "text": [
      "0      7730337.0\n",
      "1      6796117.0\n",
      "2            NaN\n",
      "3      1148640.0\n",
      "4      5000000.0\n",
      "         ...    \n",
      "451     981348.0\n",
      "452    2239800.0\n",
      "453    2433333.0\n",
      "454     900000.0\n",
      "455    2900000.0\n",
      "Name: Salary, Length: 456, dtype: float64\n"
     ]
    }
   ],
   "source": [
    "### GRADED\n",
    "# Please print the last column of data frame\n",
    "\n",
    "lc = None\n",
    "\n",
    "### BEGIN SOLUTION\n",
    "\n",
    "lc =  data.iloc[:,-1] \n",
    "\n",
    "### END SOLUTION\n",
    "\n",
    "# ANSWER CHECK\n",
    "print(lc)"
   ]
  },
  {
   "cell_type": "code",
   "execution_count": 18,
   "id": "96e3e04b",
   "metadata": {
    "ExecuteTime": {
     "end_time": "2023-09-03T16:45:51.792633400Z",
     "start_time": "2023-09-03T16:45:51.671783Z"
    },
    "nbgrader": {
     "grade": true,
     "grade_id": "cell-86adba4835e0586a",
     "locked": true,
     "points": 2,
     "schema_version": 1,
     "solution": false
    }
   },
   "outputs": [
    {
     "data": {
      "text/plain": [
       "0       True\n",
       "1       True\n",
       "2      False\n",
       "3       True\n",
       "4       True\n",
       "       ...  \n",
       "451     True\n",
       "452     True\n",
       "453     True\n",
       "454     True\n",
       "455     True\n",
       "Name: Salary, Length: 456, dtype: bool"
      ]
     },
     "execution_count": 18,
     "metadata": {},
     "output_type": "execute_result"
    }
   ],
   "source": [
    "### BEGIN HIDDEN TESTS\n",
    "lc_ =  data.iloc[:,-1]\n",
    "assert type(lc) == type(lc_)\n",
    "lc == lc_\n",
    "\n",
    "### END HIDDEN TESTS"
   ]
  },
  {
   "cell_type": "markdown",
   "id": "4df9d11e",
   "metadata": {
    "nbgrader": {
     "grade": false,
     "grade_id": "cell-a2d49a9f9bf6d7df",
     "locked": true,
     "schema_version": 1,
     "solution": false
    }
   },
   "source": [
    "[Back to top](#Index:) \n",
    "\n",
    "## Part three\n",
    "\n",
    "### Split\n",
    "\n",
    "**2 Points each**\n",
    "\n",
    "In this exercise, return the first and last name utilizing the split function"
   ]
  },
  {
   "cell_type": "code",
   "execution_count": 19,
   "id": "8936bad1d9adc6c3",
   "metadata": {
    "ExecuteTime": {
     "end_time": "2023-09-03T16:45:51.793620Z",
     "start_time": "2023-09-03T16:45:51.687857400Z"
    },
    "collapsed": false
   },
   "outputs": [
    {
     "data": {
      "text/html": [
       "<div>\n",
       "<style scoped>\n",
       "    .dataframe tbody tr th:only-of-type {\n",
       "        vertical-align: middle;\n",
       "    }\n",
       "\n",
       "    .dataframe tbody tr th {\n",
       "        vertical-align: top;\n",
       "    }\n",
       "\n",
       "    .dataframe thead th {\n",
       "        text-align: right;\n",
       "    }\n",
       "</style>\n",
       "<table border=\"1\" class=\"dataframe\">\n",
       "  <thead>\n",
       "    <tr style=\"text-align: right;\">\n",
       "      <th></th>\n",
       "      <th>Unnamed: 0</th>\n",
       "      <th>Name</th>\n",
       "      <th>Team</th>\n",
       "      <th>Number</th>\n",
       "      <th>Position</th>\n",
       "      <th>Age</th>\n",
       "      <th>Height</th>\n",
       "      <th>Weight</th>\n",
       "      <th>College</th>\n",
       "      <th>Salary</th>\n",
       "    </tr>\n",
       "  </thead>\n",
       "  <tbody>\n",
       "    <tr>\n",
       "      <th>0</th>\n",
       "      <td>0</td>\n",
       "      <td>Avery Bradley</td>\n",
       "      <td>Boston Celtics</td>\n",
       "      <td>0.0</td>\n",
       "      <td>PG</td>\n",
       "      <td>25.0</td>\n",
       "      <td>6-2</td>\n",
       "      <td>180.0</td>\n",
       "      <td>Texas</td>\n",
       "      <td>7730337.0</td>\n",
       "    </tr>\n",
       "    <tr>\n",
       "      <th>1</th>\n",
       "      <td>1</td>\n",
       "      <td>Jae Crowder</td>\n",
       "      <td>Boston Celtics</td>\n",
       "      <td>99.0</td>\n",
       "      <td>SF</td>\n",
       "      <td>25.0</td>\n",
       "      <td>6-6</td>\n",
       "      <td>235.0</td>\n",
       "      <td>Marquette</td>\n",
       "      <td>6796117.0</td>\n",
       "    </tr>\n",
       "    <tr>\n",
       "      <th>2</th>\n",
       "      <td>2</td>\n",
       "      <td>John Holland</td>\n",
       "      <td>Boston Celtics</td>\n",
       "      <td>30.0</td>\n",
       "      <td>SG</td>\n",
       "      <td>27.0</td>\n",
       "      <td>6-5</td>\n",
       "      <td>205.0</td>\n",
       "      <td>Boston University</td>\n",
       "      <td>NaN</td>\n",
       "    </tr>\n",
       "    <tr>\n",
       "      <th>3</th>\n",
       "      <td>3</td>\n",
       "      <td>R.J. Hunter</td>\n",
       "      <td>Boston Celtics</td>\n",
       "      <td>28.0</td>\n",
       "      <td>SG</td>\n",
       "      <td>22.0</td>\n",
       "      <td>6-5</td>\n",
       "      <td>185.0</td>\n",
       "      <td>Georgia State</td>\n",
       "      <td>1148640.0</td>\n",
       "    </tr>\n",
       "    <tr>\n",
       "      <th>4</th>\n",
       "      <td>4</td>\n",
       "      <td>Jonas Jerebko</td>\n",
       "      <td>Boston Celtics</td>\n",
       "      <td>8.0</td>\n",
       "      <td>PF</td>\n",
       "      <td>29.0</td>\n",
       "      <td>6-10</td>\n",
       "      <td>231.0</td>\n",
       "      <td>NaN</td>\n",
       "      <td>5000000.0</td>\n",
       "    </tr>\n",
       "    <tr>\n",
       "      <th>...</th>\n",
       "      <td>...</td>\n",
       "      <td>...</td>\n",
       "      <td>...</td>\n",
       "      <td>...</td>\n",
       "      <td>...</td>\n",
       "      <td>...</td>\n",
       "      <td>...</td>\n",
       "      <td>...</td>\n",
       "      <td>...</td>\n",
       "      <td>...</td>\n",
       "    </tr>\n",
       "    <tr>\n",
       "      <th>451</th>\n",
       "      <td>451</td>\n",
       "      <td>Chris Johnson</td>\n",
       "      <td>Utah Jazz</td>\n",
       "      <td>23.0</td>\n",
       "      <td>SF</td>\n",
       "      <td>26.0</td>\n",
       "      <td>6-6</td>\n",
       "      <td>206.0</td>\n",
       "      <td>Dayton</td>\n",
       "      <td>981348.0</td>\n",
       "    </tr>\n",
       "    <tr>\n",
       "      <th>452</th>\n",
       "      <td>452</td>\n",
       "      <td>Trey Lyles</td>\n",
       "      <td>Utah Jazz</td>\n",
       "      <td>41.0</td>\n",
       "      <td>PF</td>\n",
       "      <td>20.0</td>\n",
       "      <td>6-10</td>\n",
       "      <td>234.0</td>\n",
       "      <td>Kentucky</td>\n",
       "      <td>2239800.0</td>\n",
       "    </tr>\n",
       "    <tr>\n",
       "      <th>453</th>\n",
       "      <td>453</td>\n",
       "      <td>Shelvin Mack</td>\n",
       "      <td>Utah Jazz</td>\n",
       "      <td>8.0</td>\n",
       "      <td>PG</td>\n",
       "      <td>26.0</td>\n",
       "      <td>6-3</td>\n",
       "      <td>203.0</td>\n",
       "      <td>Butler</td>\n",
       "      <td>2433333.0</td>\n",
       "    </tr>\n",
       "    <tr>\n",
       "      <th>454</th>\n",
       "      <td>454</td>\n",
       "      <td>Raul Neto</td>\n",
       "      <td>Utah Jazz</td>\n",
       "      <td>25.0</td>\n",
       "      <td>PG</td>\n",
       "      <td>24.0</td>\n",
       "      <td>6-1</td>\n",
       "      <td>179.0</td>\n",
       "      <td>NaN</td>\n",
       "      <td>900000.0</td>\n",
       "    </tr>\n",
       "    <tr>\n",
       "      <th>455</th>\n",
       "      <td>455</td>\n",
       "      <td>Tibor Pleiss</td>\n",
       "      <td>Utah Jazz</td>\n",
       "      <td>21.0</td>\n",
       "      <td>C</td>\n",
       "      <td>26.0</td>\n",
       "      <td>7-3</td>\n",
       "      <td>256.0</td>\n",
       "      <td>NaN</td>\n",
       "      <td>2900000.0</td>\n",
       "    </tr>\n",
       "  </tbody>\n",
       "</table>\n",
       "<p>456 rows × 10 columns</p>\n",
       "</div>"
      ],
      "text/plain": [
       "     Unnamed: 0           Name            Team  Number Position   Age Height  \\\n",
       "0             0  Avery Bradley  Boston Celtics     0.0       PG  25.0    6-2   \n",
       "1             1    Jae Crowder  Boston Celtics    99.0       SF  25.0    6-6   \n",
       "2             2   John Holland  Boston Celtics    30.0       SG  27.0    6-5   \n",
       "3             3    R.J. Hunter  Boston Celtics    28.0       SG  22.0    6-5   \n",
       "4             4  Jonas Jerebko  Boston Celtics     8.0       PF  29.0   6-10   \n",
       "..          ...            ...             ...     ...      ...   ...    ...   \n",
       "451         451  Chris Johnson       Utah Jazz    23.0       SF  26.0    6-6   \n",
       "452         452     Trey Lyles       Utah Jazz    41.0       PF  20.0   6-10   \n",
       "453         453   Shelvin Mack       Utah Jazz     8.0       PG  26.0    6-3   \n",
       "454         454      Raul Neto       Utah Jazz    25.0       PG  24.0    6-1   \n",
       "455         455   Tibor Pleiss       Utah Jazz    21.0        C  26.0    7-3   \n",
       "\n",
       "     Weight            College     Salary  \n",
       "0     180.0              Texas  7730337.0  \n",
       "1     235.0          Marquette  6796117.0  \n",
       "2     205.0  Boston University        NaN  \n",
       "3     185.0      Georgia State  1148640.0  \n",
       "4     231.0                NaN  5000000.0  \n",
       "..      ...                ...        ...  \n",
       "451   206.0             Dayton   981348.0  \n",
       "452   234.0           Kentucky  2239800.0  \n",
       "453   203.0             Butler  2433333.0  \n",
       "454   179.0                NaN   900000.0  \n",
       "455   256.0                NaN  2900000.0  \n",
       "\n",
       "[456 rows x 10 columns]"
      ]
     },
     "execution_count": 19,
     "metadata": {},
     "output_type": "execute_result"
    }
   ],
   "source": [
    "data"
   ]
  },
  {
   "cell_type": "code",
   "execution_count": 20,
   "id": "b4f1ed6a",
   "metadata": {
    "ExecuteTime": {
     "end_time": "2023-09-03T16:45:51.794624400Z",
     "start_time": "2023-09-03T16:45:51.703622500Z"
    },
    "nbgrader": {
     "grade": false,
     "grade_id": "cell-268b6113422e9d31",
     "locked": false,
     "schema_version": 1,
     "solution": true
    }
   },
   "outputs": [
    {
     "name": "stdout",
     "output_type": "stream",
     "text": [
      "The first name is Avery\n"
     ]
    }
   ],
   "source": [
    "### GRADED\n",
    "\n",
    "# Please print the first name of the first series in the data frame\n",
    "\n",
    "firstname = None\n",
    "\n",
    "### BEGIN SOLUTION\n",
    "\n",
    "firstname = data['Name'].str.split().str[0].iloc[0]\n",
    "\n",
    "### END SOLUTION\n",
    "\n",
    "# ANSWER CHECK\n",
    "print('The first name is ' + firstname)"
   ]
  },
  {
   "cell_type": "code",
   "execution_count": 21,
   "id": "528183ec",
   "metadata": {
    "ExecuteTime": {
     "end_time": "2023-09-03T16:45:51.794624400Z",
     "start_time": "2023-09-03T16:45:51.721574Z"
    },
    "nbgrader": {
     "grade": true,
     "grade_id": "cell-d1baa522c6132ea0",
     "locked": true,
     "points": 2,
     "schema_version": 1,
     "solution": false
    }
   },
   "outputs": [
    {
     "data": {
      "text/plain": [
       "True"
      ]
     },
     "execution_count": 21,
     "metadata": {},
     "output_type": "execute_result"
    }
   ],
   "source": [
    "### BEGIN HIDDEN TESTS\n",
    "firstname1 =  data['Name'].str.split().str[0].iloc[0]\n",
    "assert type(firstname) == type(firstname1)\n",
    "firstname == firstname1\n",
    "\n",
    "### END HIDDEN TESTS"
   ]
  },
  {
   "cell_type": "markdown",
   "id": "69eef4ca2fe489aa",
   "metadata": {
    "collapsed": false
   },
   "source": [
    "### # Please print the first name of the first series in the data frame\n",
    "\n",
    "#### Plamen's explanation"
   ]
  },
  {
   "cell_type": "code",
   "execution_count": 22,
   "id": "6fe77914204d274f",
   "metadata": {
    "ExecuteTime": {
     "end_time": "2023-09-03T16:45:51.815009Z",
     "start_time": "2023-09-03T16:45:51.734783800Z"
    },
    "collapsed": false
   },
   "outputs": [
    {
     "data": {
      "text/html": [
       "<div>\n",
       "<style scoped>\n",
       "    .dataframe tbody tr th:only-of-type {\n",
       "        vertical-align: middle;\n",
       "    }\n",
       "\n",
       "    .dataframe tbody tr th {\n",
       "        vertical-align: top;\n",
       "    }\n",
       "\n",
       "    .dataframe thead th {\n",
       "        text-align: right;\n",
       "    }\n",
       "</style>\n",
       "<table border=\"1\" class=\"dataframe\">\n",
       "  <thead>\n",
       "    <tr style=\"text-align: right;\">\n",
       "      <th></th>\n",
       "      <th>Unnamed: 0</th>\n",
       "      <th>Name</th>\n",
       "      <th>Team</th>\n",
       "      <th>Number</th>\n",
       "      <th>Position</th>\n",
       "      <th>Age</th>\n",
       "      <th>Height</th>\n",
       "      <th>Weight</th>\n",
       "      <th>College</th>\n",
       "      <th>Salary</th>\n",
       "    </tr>\n",
       "  </thead>\n",
       "  <tbody>\n",
       "    <tr>\n",
       "      <th>0</th>\n",
       "      <td>0</td>\n",
       "      <td>Avery Bradley</td>\n",
       "      <td>Boston Celtics</td>\n",
       "      <td>0.0</td>\n",
       "      <td>PG</td>\n",
       "      <td>25.0</td>\n",
       "      <td>6-2</td>\n",
       "      <td>180.0</td>\n",
       "      <td>Texas</td>\n",
       "      <td>7730337.0</td>\n",
       "    </tr>\n",
       "    <tr>\n",
       "      <th>1</th>\n",
       "      <td>1</td>\n",
       "      <td>Jae Crowder</td>\n",
       "      <td>Boston Celtics</td>\n",
       "      <td>99.0</td>\n",
       "      <td>SF</td>\n",
       "      <td>25.0</td>\n",
       "      <td>6-6</td>\n",
       "      <td>235.0</td>\n",
       "      <td>Marquette</td>\n",
       "      <td>6796117.0</td>\n",
       "    </tr>\n",
       "    <tr>\n",
       "      <th>2</th>\n",
       "      <td>2</td>\n",
       "      <td>John Holland</td>\n",
       "      <td>Boston Celtics</td>\n",
       "      <td>30.0</td>\n",
       "      <td>SG</td>\n",
       "      <td>27.0</td>\n",
       "      <td>6-5</td>\n",
       "      <td>205.0</td>\n",
       "      <td>Boston University</td>\n",
       "      <td>NaN</td>\n",
       "    </tr>\n",
       "    <tr>\n",
       "      <th>3</th>\n",
       "      <td>3</td>\n",
       "      <td>R.J. Hunter</td>\n",
       "      <td>Boston Celtics</td>\n",
       "      <td>28.0</td>\n",
       "      <td>SG</td>\n",
       "      <td>22.0</td>\n",
       "      <td>6-5</td>\n",
       "      <td>185.0</td>\n",
       "      <td>Georgia State</td>\n",
       "      <td>1148640.0</td>\n",
       "    </tr>\n",
       "    <tr>\n",
       "      <th>4</th>\n",
       "      <td>4</td>\n",
       "      <td>Jonas Jerebko</td>\n",
       "      <td>Boston Celtics</td>\n",
       "      <td>8.0</td>\n",
       "      <td>PF</td>\n",
       "      <td>29.0</td>\n",
       "      <td>6-10</td>\n",
       "      <td>231.0</td>\n",
       "      <td>NaN</td>\n",
       "      <td>5000000.0</td>\n",
       "    </tr>\n",
       "    <tr>\n",
       "      <th>...</th>\n",
       "      <td>...</td>\n",
       "      <td>...</td>\n",
       "      <td>...</td>\n",
       "      <td>...</td>\n",
       "      <td>...</td>\n",
       "      <td>...</td>\n",
       "      <td>...</td>\n",
       "      <td>...</td>\n",
       "      <td>...</td>\n",
       "      <td>...</td>\n",
       "    </tr>\n",
       "    <tr>\n",
       "      <th>451</th>\n",
       "      <td>451</td>\n",
       "      <td>Chris Johnson</td>\n",
       "      <td>Utah Jazz</td>\n",
       "      <td>23.0</td>\n",
       "      <td>SF</td>\n",
       "      <td>26.0</td>\n",
       "      <td>6-6</td>\n",
       "      <td>206.0</td>\n",
       "      <td>Dayton</td>\n",
       "      <td>981348.0</td>\n",
       "    </tr>\n",
       "    <tr>\n",
       "      <th>452</th>\n",
       "      <td>452</td>\n",
       "      <td>Trey Lyles</td>\n",
       "      <td>Utah Jazz</td>\n",
       "      <td>41.0</td>\n",
       "      <td>PF</td>\n",
       "      <td>20.0</td>\n",
       "      <td>6-10</td>\n",
       "      <td>234.0</td>\n",
       "      <td>Kentucky</td>\n",
       "      <td>2239800.0</td>\n",
       "    </tr>\n",
       "    <tr>\n",
       "      <th>453</th>\n",
       "      <td>453</td>\n",
       "      <td>Shelvin Mack</td>\n",
       "      <td>Utah Jazz</td>\n",
       "      <td>8.0</td>\n",
       "      <td>PG</td>\n",
       "      <td>26.0</td>\n",
       "      <td>6-3</td>\n",
       "      <td>203.0</td>\n",
       "      <td>Butler</td>\n",
       "      <td>2433333.0</td>\n",
       "    </tr>\n",
       "    <tr>\n",
       "      <th>454</th>\n",
       "      <td>454</td>\n",
       "      <td>Raul Neto</td>\n",
       "      <td>Utah Jazz</td>\n",
       "      <td>25.0</td>\n",
       "      <td>PG</td>\n",
       "      <td>24.0</td>\n",
       "      <td>6-1</td>\n",
       "      <td>179.0</td>\n",
       "      <td>NaN</td>\n",
       "      <td>900000.0</td>\n",
       "    </tr>\n",
       "    <tr>\n",
       "      <th>455</th>\n",
       "      <td>455</td>\n",
       "      <td>Tibor Pleiss</td>\n",
       "      <td>Utah Jazz</td>\n",
       "      <td>21.0</td>\n",
       "      <td>C</td>\n",
       "      <td>26.0</td>\n",
       "      <td>7-3</td>\n",
       "      <td>256.0</td>\n",
       "      <td>NaN</td>\n",
       "      <td>2900000.0</td>\n",
       "    </tr>\n",
       "  </tbody>\n",
       "</table>\n",
       "<p>456 rows × 10 columns</p>\n",
       "</div>"
      ],
      "text/plain": [
       "     Unnamed: 0           Name            Team  Number Position   Age Height  \\\n",
       "0             0  Avery Bradley  Boston Celtics     0.0       PG  25.0    6-2   \n",
       "1             1    Jae Crowder  Boston Celtics    99.0       SF  25.0    6-6   \n",
       "2             2   John Holland  Boston Celtics    30.0       SG  27.0    6-5   \n",
       "3             3    R.J. Hunter  Boston Celtics    28.0       SG  22.0    6-5   \n",
       "4             4  Jonas Jerebko  Boston Celtics     8.0       PF  29.0   6-10   \n",
       "..          ...            ...             ...     ...      ...   ...    ...   \n",
       "451         451  Chris Johnson       Utah Jazz    23.0       SF  26.0    6-6   \n",
       "452         452     Trey Lyles       Utah Jazz    41.0       PF  20.0   6-10   \n",
       "453         453   Shelvin Mack       Utah Jazz     8.0       PG  26.0    6-3   \n",
       "454         454      Raul Neto       Utah Jazz    25.0       PG  24.0    6-1   \n",
       "455         455   Tibor Pleiss       Utah Jazz    21.0        C  26.0    7-3   \n",
       "\n",
       "     Weight            College     Salary  \n",
       "0     180.0              Texas  7730337.0  \n",
       "1     235.0          Marquette  6796117.0  \n",
       "2     205.0  Boston University        NaN  \n",
       "3     185.0      Georgia State  1148640.0  \n",
       "4     231.0                NaN  5000000.0  \n",
       "..      ...                ...        ...  \n",
       "451   206.0             Dayton   981348.0  \n",
       "452   234.0           Kentucky  2239800.0  \n",
       "453   203.0             Butler  2433333.0  \n",
       "454   179.0                NaN   900000.0  \n",
       "455   256.0                NaN  2900000.0  \n",
       "\n",
       "[456 rows x 10 columns]"
      ]
     },
     "execution_count": 22,
     "metadata": {},
     "output_type": "execute_result"
    }
   ],
   "source": [
    "# the data frame\n",
    "data"
   ]
  },
  {
   "cell_type": "code",
   "execution_count": 23,
   "id": "1f27179d04f02f5f",
   "metadata": {
    "ExecuteTime": {
     "end_time": "2023-09-03T16:45:51.817002800Z",
     "start_time": "2023-09-03T16:45:51.752371100Z"
    },
    "collapsed": false
   },
   "outputs": [
    {
     "data": {
      "text/plain": [
       "0      Avery Bradley\n",
       "1        Jae Crowder\n",
       "2       John Holland\n",
       "3        R.J. Hunter\n",
       "4      Jonas Jerebko\n",
       "           ...      \n",
       "451    Chris Johnson\n",
       "452       Trey Lyles\n",
       "453     Shelvin Mack\n",
       "454        Raul Neto\n",
       "455     Tibor Pleiss\n",
       "Name: Name, Length: 456, dtype: object"
      ]
     },
     "execution_count": 23,
     "metadata": {},
     "output_type": "execute_result"
    }
   ],
   "source": [
    "# the first series in the data frame\n",
    "data.Name"
   ]
  },
  {
   "cell_type": "code",
   "execution_count": 24,
   "id": "55fab370628c0a29",
   "metadata": {
    "ExecuteTime": {
     "end_time": "2023-09-03T16:45:51.902967700Z",
     "start_time": "2023-09-03T16:45:51.766966300Z"
    },
    "collapsed": false
   },
   "outputs": [
    {
     "data": {
      "text/plain": [
       "0      [Avery, Bradley]\n",
       "1        [Jae, Crowder]\n",
       "2       [John, Holland]\n",
       "3        [R.J., Hunter]\n",
       "4      [Jonas, Jerebko]\n",
       "             ...       \n",
       "451    [Chris, Johnson]\n",
       "452       [Trey, Lyles]\n",
       "453     [Shelvin, Mack]\n",
       "454        [Raul, Neto]\n",
       "455     [Tibor, Pleiss]\n",
       "Name: Name, Length: 456, dtype: object"
      ]
     },
     "execution_count": 24,
     "metadata": {},
     "output_type": "execute_result"
    }
   ],
   "source": [
    "# the first data series in the data frame (split)\n",
    "data.Name.str.split()"
   ]
  },
  {
   "cell_type": "code",
   "execution_count": 25,
   "id": "8c5979c108743a33",
   "metadata": {
    "ExecuteTime": {
     "end_time": "2023-09-03T16:45:51.932302Z",
     "start_time": "2023-09-03T16:45:51.782625300Z"
    },
    "collapsed": false
   },
   "outputs": [
    {
     "data": {
      "text/plain": [
       "0        Avery\n",
       "1          Jae\n",
       "2         John\n",
       "3         R.J.\n",
       "4        Jonas\n",
       "        ...   \n",
       "451      Chris\n",
       "452       Trey\n",
       "453    Shelvin\n",
       "454       Raul\n",
       "455      Tibor\n",
       "Name: Name, Length: 456, dtype: object"
      ]
     },
     "execution_count": 25,
     "metadata": {},
     "output_type": "execute_result"
    }
   ],
   "source": [
    "# the first name of the first series in the data frame\n",
    "# returns pandas series\n",
    "data.Name.str.split().str[0]"
   ]
  },
  {
   "cell_type": "code",
   "execution_count": 26,
   "id": "d7e3dee80575c03f",
   "metadata": {
    "ExecuteTime": {
     "end_time": "2023-09-03T16:45:51.933295500Z",
     "start_time": "2023-09-03T16:45:51.797605400Z"
    },
    "collapsed": false
   },
   "outputs": [
    {
     "data": {
      "text/plain": [
       "'Avery'"
      ]
     },
     "execution_count": 26,
     "metadata": {},
     "output_type": "execute_result"
    }
   ],
   "source": [
    "# the first record or the first value of the Data Series, which series is \"the first name of the first data series in the data frame\"\n",
    "# returns string\n",
    "data.Name.iloc[0].split()[0]"
   ]
  },
  {
   "cell_type": "code",
   "execution_count": 27,
   "id": "765ff6805329edde",
   "metadata": {
    "ExecuteTime": {
     "end_time": "2023-09-03T16:45:51.951825300Z",
     "start_time": "2023-09-03T16:45:51.817002800Z"
    },
    "collapsed": false
   },
   "outputs": [
    {
     "data": {
      "text/plain": [
       "'Avery'"
      ]
     },
     "execution_count": 27,
     "metadata": {},
     "output_type": "execute_result"
    }
   ],
   "source": [
    "# Your answer returns: first record or first value of a series \"the first name of the first data series in the data frame\"\n",
    "# returns string\n",
    "data['Name'].str.split().str[0].iloc[0]"
   ]
  },
  {
   "cell_type": "code",
   "execution_count": 28,
   "id": "22dc1bf1",
   "metadata": {
    "ExecuteTime": {
     "end_time": "2023-09-03T16:45:51.957934Z",
     "start_time": "2023-09-03T16:45:51.830482500Z"
    },
    "nbgrader": {
     "grade": false,
     "grade_id": "cell-66242b355c8d6e79",
     "locked": false,
     "schema_version": 1,
     "solution": true
    }
   },
   "outputs": [
    {
     "name": "stdout",
     "output_type": "stream",
     "text": [
      "The last name is Bradley\n"
     ]
    }
   ],
   "source": [
    "###GRADED\n",
    "\n",
    "# Please print the last name of the first series in the data frame\n",
    "\n",
    "lastname = None\n",
    "\n",
    "### BEGIN SOLUTION\n",
    "lastname =  data['Name'].str.split().str[1].iloc[0]\n",
    "### END SOLUTION\n",
    "\n",
    "# ANSWER CHECK\n",
    "print('The last name is ' + lastname)"
   ]
  },
  {
   "cell_type": "code",
   "execution_count": 29,
   "id": "e06ba465",
   "metadata": {
    "ExecuteTime": {
     "end_time": "2023-09-03T16:45:51.982821100Z",
     "start_time": "2023-09-03T16:45:51.848546Z"
    },
    "nbgrader": {
     "grade": true,
     "grade_id": "cell-4cab45fe56846428",
     "locked": true,
     "points": 2,
     "schema_version": 1,
     "solution": false
    }
   },
   "outputs": [
    {
     "data": {
      "text/plain": [
       "True"
      ]
     },
     "execution_count": 29,
     "metadata": {},
     "output_type": "execute_result"
    }
   ],
   "source": [
    "### BEGIN HIDDEN TESTS\n",
    "lastname1 =  data['Name'].str.split().str[1].iloc[0]\n",
    "assert type(lastname) == type(lastname1)\n",
    "lastname == lastname1\n",
    "\n",
    "### END HIDDEN TESTS"
   ]
  },
  {
   "cell_type": "markdown",
   "id": "e7f38c10569fc4e4",
   "metadata": {
    "collapsed": false
   },
   "source": [
    "### # Please print the last name of the first series in the data frame\n",
    "\n",
    "#### Plamen's explanation"
   ]
  },
  {
   "cell_type": "code",
   "execution_count": 30,
   "id": "856c1ca63239b86b",
   "metadata": {
    "ExecuteTime": {
     "end_time": "2023-09-03T16:45:52.013688400Z",
     "start_time": "2023-09-03T16:45:51.871211100Z"
    },
    "collapsed": false
   },
   "outputs": [
    {
     "data": {
      "text/html": [
       "<div>\n",
       "<style scoped>\n",
       "    .dataframe tbody tr th:only-of-type {\n",
       "        vertical-align: middle;\n",
       "    }\n",
       "\n",
       "    .dataframe tbody tr th {\n",
       "        vertical-align: top;\n",
       "    }\n",
       "\n",
       "    .dataframe thead th {\n",
       "        text-align: right;\n",
       "    }\n",
       "</style>\n",
       "<table border=\"1\" class=\"dataframe\">\n",
       "  <thead>\n",
       "    <tr style=\"text-align: right;\">\n",
       "      <th></th>\n",
       "      <th>Unnamed: 0</th>\n",
       "      <th>Name</th>\n",
       "      <th>Team</th>\n",
       "      <th>Number</th>\n",
       "      <th>Position</th>\n",
       "      <th>Age</th>\n",
       "      <th>Height</th>\n",
       "      <th>Weight</th>\n",
       "      <th>College</th>\n",
       "      <th>Salary</th>\n",
       "    </tr>\n",
       "  </thead>\n",
       "  <tbody>\n",
       "    <tr>\n",
       "      <th>0</th>\n",
       "      <td>0</td>\n",
       "      <td>Avery Bradley</td>\n",
       "      <td>Boston Celtics</td>\n",
       "      <td>0.0</td>\n",
       "      <td>PG</td>\n",
       "      <td>25.0</td>\n",
       "      <td>6-2</td>\n",
       "      <td>180.0</td>\n",
       "      <td>Texas</td>\n",
       "      <td>7730337.0</td>\n",
       "    </tr>\n",
       "    <tr>\n",
       "      <th>1</th>\n",
       "      <td>1</td>\n",
       "      <td>Jae Crowder</td>\n",
       "      <td>Boston Celtics</td>\n",
       "      <td>99.0</td>\n",
       "      <td>SF</td>\n",
       "      <td>25.0</td>\n",
       "      <td>6-6</td>\n",
       "      <td>235.0</td>\n",
       "      <td>Marquette</td>\n",
       "      <td>6796117.0</td>\n",
       "    </tr>\n",
       "    <tr>\n",
       "      <th>2</th>\n",
       "      <td>2</td>\n",
       "      <td>John Holland</td>\n",
       "      <td>Boston Celtics</td>\n",
       "      <td>30.0</td>\n",
       "      <td>SG</td>\n",
       "      <td>27.0</td>\n",
       "      <td>6-5</td>\n",
       "      <td>205.0</td>\n",
       "      <td>Boston University</td>\n",
       "      <td>NaN</td>\n",
       "    </tr>\n",
       "    <tr>\n",
       "      <th>3</th>\n",
       "      <td>3</td>\n",
       "      <td>R.J. Hunter</td>\n",
       "      <td>Boston Celtics</td>\n",
       "      <td>28.0</td>\n",
       "      <td>SG</td>\n",
       "      <td>22.0</td>\n",
       "      <td>6-5</td>\n",
       "      <td>185.0</td>\n",
       "      <td>Georgia State</td>\n",
       "      <td>1148640.0</td>\n",
       "    </tr>\n",
       "    <tr>\n",
       "      <th>4</th>\n",
       "      <td>4</td>\n",
       "      <td>Jonas Jerebko</td>\n",
       "      <td>Boston Celtics</td>\n",
       "      <td>8.0</td>\n",
       "      <td>PF</td>\n",
       "      <td>29.0</td>\n",
       "      <td>6-10</td>\n",
       "      <td>231.0</td>\n",
       "      <td>NaN</td>\n",
       "      <td>5000000.0</td>\n",
       "    </tr>\n",
       "    <tr>\n",
       "      <th>...</th>\n",
       "      <td>...</td>\n",
       "      <td>...</td>\n",
       "      <td>...</td>\n",
       "      <td>...</td>\n",
       "      <td>...</td>\n",
       "      <td>...</td>\n",
       "      <td>...</td>\n",
       "      <td>...</td>\n",
       "      <td>...</td>\n",
       "      <td>...</td>\n",
       "    </tr>\n",
       "    <tr>\n",
       "      <th>451</th>\n",
       "      <td>451</td>\n",
       "      <td>Chris Johnson</td>\n",
       "      <td>Utah Jazz</td>\n",
       "      <td>23.0</td>\n",
       "      <td>SF</td>\n",
       "      <td>26.0</td>\n",
       "      <td>6-6</td>\n",
       "      <td>206.0</td>\n",
       "      <td>Dayton</td>\n",
       "      <td>981348.0</td>\n",
       "    </tr>\n",
       "    <tr>\n",
       "      <th>452</th>\n",
       "      <td>452</td>\n",
       "      <td>Trey Lyles</td>\n",
       "      <td>Utah Jazz</td>\n",
       "      <td>41.0</td>\n",
       "      <td>PF</td>\n",
       "      <td>20.0</td>\n",
       "      <td>6-10</td>\n",
       "      <td>234.0</td>\n",
       "      <td>Kentucky</td>\n",
       "      <td>2239800.0</td>\n",
       "    </tr>\n",
       "    <tr>\n",
       "      <th>453</th>\n",
       "      <td>453</td>\n",
       "      <td>Shelvin Mack</td>\n",
       "      <td>Utah Jazz</td>\n",
       "      <td>8.0</td>\n",
       "      <td>PG</td>\n",
       "      <td>26.0</td>\n",
       "      <td>6-3</td>\n",
       "      <td>203.0</td>\n",
       "      <td>Butler</td>\n",
       "      <td>2433333.0</td>\n",
       "    </tr>\n",
       "    <tr>\n",
       "      <th>454</th>\n",
       "      <td>454</td>\n",
       "      <td>Raul Neto</td>\n",
       "      <td>Utah Jazz</td>\n",
       "      <td>25.0</td>\n",
       "      <td>PG</td>\n",
       "      <td>24.0</td>\n",
       "      <td>6-1</td>\n",
       "      <td>179.0</td>\n",
       "      <td>NaN</td>\n",
       "      <td>900000.0</td>\n",
       "    </tr>\n",
       "    <tr>\n",
       "      <th>455</th>\n",
       "      <td>455</td>\n",
       "      <td>Tibor Pleiss</td>\n",
       "      <td>Utah Jazz</td>\n",
       "      <td>21.0</td>\n",
       "      <td>C</td>\n",
       "      <td>26.0</td>\n",
       "      <td>7-3</td>\n",
       "      <td>256.0</td>\n",
       "      <td>NaN</td>\n",
       "      <td>2900000.0</td>\n",
       "    </tr>\n",
       "  </tbody>\n",
       "</table>\n",
       "<p>456 rows × 10 columns</p>\n",
       "</div>"
      ],
      "text/plain": [
       "     Unnamed: 0           Name            Team  Number Position   Age Height  \\\n",
       "0             0  Avery Bradley  Boston Celtics     0.0       PG  25.0    6-2   \n",
       "1             1    Jae Crowder  Boston Celtics    99.0       SF  25.0    6-6   \n",
       "2             2   John Holland  Boston Celtics    30.0       SG  27.0    6-5   \n",
       "3             3    R.J. Hunter  Boston Celtics    28.0       SG  22.0    6-5   \n",
       "4             4  Jonas Jerebko  Boston Celtics     8.0       PF  29.0   6-10   \n",
       "..          ...            ...             ...     ...      ...   ...    ...   \n",
       "451         451  Chris Johnson       Utah Jazz    23.0       SF  26.0    6-6   \n",
       "452         452     Trey Lyles       Utah Jazz    41.0       PF  20.0   6-10   \n",
       "453         453   Shelvin Mack       Utah Jazz     8.0       PG  26.0    6-3   \n",
       "454         454      Raul Neto       Utah Jazz    25.0       PG  24.0    6-1   \n",
       "455         455   Tibor Pleiss       Utah Jazz    21.0        C  26.0    7-3   \n",
       "\n",
       "     Weight            College     Salary  \n",
       "0     180.0              Texas  7730337.0  \n",
       "1     235.0          Marquette  6796117.0  \n",
       "2     205.0  Boston University        NaN  \n",
       "3     185.0      Georgia State  1148640.0  \n",
       "4     231.0                NaN  5000000.0  \n",
       "..      ...                ...        ...  \n",
       "451   206.0             Dayton   981348.0  \n",
       "452   234.0           Kentucky  2239800.0  \n",
       "453   203.0             Butler  2433333.0  \n",
       "454   179.0                NaN   900000.0  \n",
       "455   256.0                NaN  2900000.0  \n",
       "\n",
       "[456 rows x 10 columns]"
      ]
     },
     "execution_count": 30,
     "metadata": {},
     "output_type": "execute_result"
    }
   ],
   "source": [
    "# the data frame\n",
    "data"
   ]
  },
  {
   "cell_type": "code",
   "execution_count": 31,
   "id": "badb8124d3bc7af2",
   "metadata": {
    "ExecuteTime": {
     "end_time": "2023-09-03T16:45:52.014703Z",
     "start_time": "2023-09-03T16:45:51.877196600Z"
    },
    "collapsed": false
   },
   "outputs": [
    {
     "data": {
      "text/plain": [
       "0      Avery Bradley\n",
       "1        Jae Crowder\n",
       "2       John Holland\n",
       "3        R.J. Hunter\n",
       "4      Jonas Jerebko\n",
       "           ...      \n",
       "451    Chris Johnson\n",
       "452       Trey Lyles\n",
       "453     Shelvin Mack\n",
       "454        Raul Neto\n",
       "455     Tibor Pleiss\n",
       "Name: Name, Length: 456, dtype: object"
      ]
     },
     "execution_count": 31,
     "metadata": {},
     "output_type": "execute_result"
    }
   ],
   "source": [
    "# the first series in the data frame\n",
    "data['Name']"
   ]
  },
  {
   "cell_type": "code",
   "execution_count": 32,
   "id": "3eef8857a49c6e2e",
   "metadata": {
    "ExecuteTime": {
     "end_time": "2023-09-03T16:45:52.015681300Z",
     "start_time": "2023-09-03T16:45:51.891746Z"
    },
    "collapsed": false
   },
   "outputs": [
    {
     "data": {
      "text/plain": [
       "0      [Avery, Bradley]\n",
       "1        [Jae, Crowder]\n",
       "2       [John, Holland]\n",
       "3        [R.J., Hunter]\n",
       "4      [Jonas, Jerebko]\n",
       "             ...       \n",
       "451    [Chris, Johnson]\n",
       "452       [Trey, Lyles]\n",
       "453     [Shelvin, Mack]\n",
       "454        [Raul, Neto]\n",
       "455     [Tibor, Pleiss]\n",
       "Name: Name, Length: 456, dtype: object"
      ]
     },
     "execution_count": 32,
     "metadata": {},
     "output_type": "execute_result"
    }
   ],
   "source": [
    "# the first series in the data frame (split)\n",
    "data['Name'].str.split()"
   ]
  },
  {
   "cell_type": "code",
   "execution_count": 33,
   "id": "65288f8f11231608",
   "metadata": {
    "ExecuteTime": {
     "end_time": "2023-09-03T16:45:52.017705Z",
     "start_time": "2023-09-03T16:45:51.908578400Z"
    },
    "collapsed": false
   },
   "outputs": [
    {
     "data": {
      "text/plain": [
       "0      Bradley\n",
       "1      Crowder\n",
       "2      Holland\n",
       "3       Hunter\n",
       "4      Jerebko\n",
       "        ...   \n",
       "451    Johnson\n",
       "452      Lyles\n",
       "453       Mack\n",
       "454       Neto\n",
       "455     Pleiss\n",
       "Name: Name, Length: 456, dtype: object"
      ]
     },
     "execution_count": 33,
     "metadata": {},
     "output_type": "execute_result"
    }
   ],
   "source": [
    "# the last name of the first series in the data frame\n",
    "# returns pandas series\n",
    "data['Name'].str.split().str[1]"
   ]
  },
  {
   "cell_type": "code",
   "execution_count": 34,
   "id": "b1af00165f01a4d4",
   "metadata": {
    "ExecuteTime": {
     "end_time": "2023-09-03T16:45:52.091842200Z",
     "start_time": "2023-09-03T16:45:51.923308700Z"
    },
    "collapsed": false
   },
   "outputs": [
    {
     "data": {
      "text/plain": [
       "'Bradley'"
      ]
     },
     "execution_count": 34,
     "metadata": {},
     "output_type": "execute_result"
    }
   ],
   "source": [
    "# the first record or the first value of the Data Series, which series is \"the last name of the first data series in the data frame\"\n",
    "# returns string\n",
    "data.Name.str.split().str[1].iloc[0]"
   ]
  },
  {
   "cell_type": "code",
   "execution_count": 35,
   "id": "3c0e141c0ff42e3c",
   "metadata": {
    "ExecuteTime": {
     "end_time": "2023-09-03T16:45:52.094062200Z",
     "start_time": "2023-09-03T16:45:51.938270Z"
    },
    "collapsed": false
   },
   "outputs": [
    {
     "data": {
      "text/plain": [
       "'Bradley'"
      ]
     },
     "execution_count": 35,
     "metadata": {},
     "output_type": "execute_result"
    }
   ],
   "source": [
    "# Your answer returns: first record or first value of a series \"the last name of the first data series in the data frame\"\n",
    "# returns string\n",
    "data['Name'].str.split().str[1].iloc[0]"
   ]
  },
  {
   "cell_type": "markdown",
   "id": "e7ded8d9-b511-4f03-979a-7a4d5b6d98ac",
   "metadata": {},
   "source": [
    "### Please print:  the first name of the first series in the data frame"
   ]
  },
  {
   "cell_type": "code",
   "execution_count": 36,
   "id": "a5bb6bd4-db69-4a13-bda2-66597a0185d9",
   "metadata": {},
   "outputs": [
    {
     "data": {
      "text/html": [
       "<div>\n",
       "<style scoped>\n",
       "    .dataframe tbody tr th:only-of-type {\n",
       "        vertical-align: middle;\n",
       "    }\n",
       "\n",
       "    .dataframe tbody tr th {\n",
       "        vertical-align: top;\n",
       "    }\n",
       "\n",
       "    .dataframe thead th {\n",
       "        text-align: right;\n",
       "    }\n",
       "</style>\n",
       "<table border=\"1\" class=\"dataframe\">\n",
       "  <thead>\n",
       "    <tr style=\"text-align: right;\">\n",
       "      <th></th>\n",
       "      <th>Unnamed: 0</th>\n",
       "      <th>Name</th>\n",
       "      <th>Team</th>\n",
       "      <th>Number</th>\n",
       "      <th>Position</th>\n",
       "      <th>Age</th>\n",
       "      <th>Height</th>\n",
       "      <th>Weight</th>\n",
       "      <th>College</th>\n",
       "      <th>Salary</th>\n",
       "    </tr>\n",
       "  </thead>\n",
       "  <tbody>\n",
       "    <tr>\n",
       "      <th>0</th>\n",
       "      <td>0</td>\n",
       "      <td>Avery Bradley</td>\n",
       "      <td>Boston Celtics</td>\n",
       "      <td>0.0</td>\n",
       "      <td>PG</td>\n",
       "      <td>25.0</td>\n",
       "      <td>6-2</td>\n",
       "      <td>180.0</td>\n",
       "      <td>Texas</td>\n",
       "      <td>7730337.0</td>\n",
       "    </tr>\n",
       "    <tr>\n",
       "      <th>1</th>\n",
       "      <td>1</td>\n",
       "      <td>Jae Crowder</td>\n",
       "      <td>Boston Celtics</td>\n",
       "      <td>99.0</td>\n",
       "      <td>SF</td>\n",
       "      <td>25.0</td>\n",
       "      <td>6-6</td>\n",
       "      <td>235.0</td>\n",
       "      <td>Marquette</td>\n",
       "      <td>6796117.0</td>\n",
       "    </tr>\n",
       "    <tr>\n",
       "      <th>2</th>\n",
       "      <td>2</td>\n",
       "      <td>John Holland</td>\n",
       "      <td>Boston Celtics</td>\n",
       "      <td>30.0</td>\n",
       "      <td>SG</td>\n",
       "      <td>27.0</td>\n",
       "      <td>6-5</td>\n",
       "      <td>205.0</td>\n",
       "      <td>Boston University</td>\n",
       "      <td>NaN</td>\n",
       "    </tr>\n",
       "    <tr>\n",
       "      <th>3</th>\n",
       "      <td>3</td>\n",
       "      <td>R.J. Hunter</td>\n",
       "      <td>Boston Celtics</td>\n",
       "      <td>28.0</td>\n",
       "      <td>SG</td>\n",
       "      <td>22.0</td>\n",
       "      <td>6-5</td>\n",
       "      <td>185.0</td>\n",
       "      <td>Georgia State</td>\n",
       "      <td>1148640.0</td>\n",
       "    </tr>\n",
       "    <tr>\n",
       "      <th>4</th>\n",
       "      <td>4</td>\n",
       "      <td>Jonas Jerebko</td>\n",
       "      <td>Boston Celtics</td>\n",
       "      <td>8.0</td>\n",
       "      <td>PF</td>\n",
       "      <td>29.0</td>\n",
       "      <td>6-10</td>\n",
       "      <td>231.0</td>\n",
       "      <td>NaN</td>\n",
       "      <td>5000000.0</td>\n",
       "    </tr>\n",
       "    <tr>\n",
       "      <th>...</th>\n",
       "      <td>...</td>\n",
       "      <td>...</td>\n",
       "      <td>...</td>\n",
       "      <td>...</td>\n",
       "      <td>...</td>\n",
       "      <td>...</td>\n",
       "      <td>...</td>\n",
       "      <td>...</td>\n",
       "      <td>...</td>\n",
       "      <td>...</td>\n",
       "    </tr>\n",
       "    <tr>\n",
       "      <th>451</th>\n",
       "      <td>451</td>\n",
       "      <td>Chris Johnson</td>\n",
       "      <td>Utah Jazz</td>\n",
       "      <td>23.0</td>\n",
       "      <td>SF</td>\n",
       "      <td>26.0</td>\n",
       "      <td>6-6</td>\n",
       "      <td>206.0</td>\n",
       "      <td>Dayton</td>\n",
       "      <td>981348.0</td>\n",
       "    </tr>\n",
       "    <tr>\n",
       "      <th>452</th>\n",
       "      <td>452</td>\n",
       "      <td>Trey Lyles</td>\n",
       "      <td>Utah Jazz</td>\n",
       "      <td>41.0</td>\n",
       "      <td>PF</td>\n",
       "      <td>20.0</td>\n",
       "      <td>6-10</td>\n",
       "      <td>234.0</td>\n",
       "      <td>Kentucky</td>\n",
       "      <td>2239800.0</td>\n",
       "    </tr>\n",
       "    <tr>\n",
       "      <th>453</th>\n",
       "      <td>453</td>\n",
       "      <td>Shelvin Mack</td>\n",
       "      <td>Utah Jazz</td>\n",
       "      <td>8.0</td>\n",
       "      <td>PG</td>\n",
       "      <td>26.0</td>\n",
       "      <td>6-3</td>\n",
       "      <td>203.0</td>\n",
       "      <td>Butler</td>\n",
       "      <td>2433333.0</td>\n",
       "    </tr>\n",
       "    <tr>\n",
       "      <th>454</th>\n",
       "      <td>454</td>\n",
       "      <td>Raul Neto</td>\n",
       "      <td>Utah Jazz</td>\n",
       "      <td>25.0</td>\n",
       "      <td>PG</td>\n",
       "      <td>24.0</td>\n",
       "      <td>6-1</td>\n",
       "      <td>179.0</td>\n",
       "      <td>NaN</td>\n",
       "      <td>900000.0</td>\n",
       "    </tr>\n",
       "    <tr>\n",
       "      <th>455</th>\n",
       "      <td>455</td>\n",
       "      <td>Tibor Pleiss</td>\n",
       "      <td>Utah Jazz</td>\n",
       "      <td>21.0</td>\n",
       "      <td>C</td>\n",
       "      <td>26.0</td>\n",
       "      <td>7-3</td>\n",
       "      <td>256.0</td>\n",
       "      <td>NaN</td>\n",
       "      <td>2900000.0</td>\n",
       "    </tr>\n",
       "  </tbody>\n",
       "</table>\n",
       "<p>456 rows × 10 columns</p>\n",
       "</div>"
      ],
      "text/plain": [
       "     Unnamed: 0           Name            Team  Number Position   Age Height  \\\n",
       "0             0  Avery Bradley  Boston Celtics     0.0       PG  25.0    6-2   \n",
       "1             1    Jae Crowder  Boston Celtics    99.0       SF  25.0    6-6   \n",
       "2             2   John Holland  Boston Celtics    30.0       SG  27.0    6-5   \n",
       "3             3    R.J. Hunter  Boston Celtics    28.0       SG  22.0    6-5   \n",
       "4             4  Jonas Jerebko  Boston Celtics     8.0       PF  29.0   6-10   \n",
       "..          ...            ...             ...     ...      ...   ...    ...   \n",
       "451         451  Chris Johnson       Utah Jazz    23.0       SF  26.0    6-6   \n",
       "452         452     Trey Lyles       Utah Jazz    41.0       PF  20.0   6-10   \n",
       "453         453   Shelvin Mack       Utah Jazz     8.0       PG  26.0    6-3   \n",
       "454         454      Raul Neto       Utah Jazz    25.0       PG  24.0    6-1   \n",
       "455         455   Tibor Pleiss       Utah Jazz    21.0        C  26.0    7-3   \n",
       "\n",
       "     Weight            College     Salary  \n",
       "0     180.0              Texas  7730337.0  \n",
       "1     235.0          Marquette  6796117.0  \n",
       "2     205.0  Boston University        NaN  \n",
       "3     185.0      Georgia State  1148640.0  \n",
       "4     231.0                NaN  5000000.0  \n",
       "..      ...                ...        ...  \n",
       "451   206.0             Dayton   981348.0  \n",
       "452   234.0           Kentucky  2239800.0  \n",
       "453   203.0             Butler  2433333.0  \n",
       "454   179.0                NaN   900000.0  \n",
       "455   256.0                NaN  2900000.0  \n",
       "\n",
       "[456 rows x 10 columns]"
      ]
     },
     "execution_count": 36,
     "metadata": {},
     "output_type": "execute_result"
    }
   ],
   "source": [
    "# dataframe\n",
    "data"
   ]
  },
  {
   "cell_type": "code",
   "execution_count": 37,
   "id": "e55b8e06-e5f7-42f4-867b-527a9059f110",
   "metadata": {},
   "outputs": [
    {
     "data": {
      "text/plain": [
       "0      Avery Bradley\n",
       "1        Jae Crowder\n",
       "2       John Holland\n",
       "3        R.J. Hunter\n",
       "4      Jonas Jerebko\n",
       "           ...      \n",
       "451    Chris Johnson\n",
       "452       Trey Lyles\n",
       "453     Shelvin Mack\n",
       "454        Raul Neto\n",
       "455     Tibor Pleiss\n",
       "Name: Name, Length: 456, dtype: object"
      ]
     },
     "execution_count": 37,
     "metadata": {},
     "output_type": "execute_result"
    }
   ],
   "source": [
    "#the first series \n",
    "data['Name']"
   ]
  },
  {
   "cell_type": "markdown",
   "id": "e9a0dbfb-05d3-4f39-bb73-043c3ede7b79",
   "metadata": {},
   "source": [
    "### \"THE FIRST NAME OF THE FIRST SERIES\" is ambiguous\n",
    "#### in the above example"
   ]
  },
  {
   "cell_type": "markdown",
   "id": "1602d607-dee8-4ce9-bdb6-70656928c485",
   "metadata": {},
   "source": [
    "# it could be interpreted in two different ways"
   ]
  },
  {
   "cell_type": "markdown",
   "id": "1e14aaea-3fd4-4513-a33a-fd721c057df7",
   "metadata": {},
   "source": [
    "#### *as the first name of all names in the first series, which \"Avery Bradley\",*\n",
    "#### *but that value has 'First Name' as well*"
   ]
  },
  {
   "cell_type": "code",
   "execution_count": 50,
   "id": "a188eb17-a682-41c5-9fe8-bdf5961f759a",
   "metadata": {},
   "outputs": [
    {
     "data": {
      "text/plain": [
       "'Avery Bradley'"
      ]
     },
     "execution_count": 50,
     "metadata": {},
     "output_type": "execute_result"
    }
   ],
   "source": [
    "# the first name of the first series\n",
    "data['Name'].iloc[0]"
   ]
  },
  {
   "cell_type": "markdown",
   "id": "154e3510-ff83-4de9-af53-a635add245ad",
   "metadata": {},
   "source": [
    "#### *as the first name of all full names in the first series*"
   ]
  },
  {
   "cell_type": "code",
   "execution_count": 51,
   "id": "b53120b8-4df0-412e-9e6f-1fec47829d4a",
   "metadata": {},
   "outputs": [
    {
     "data": {
      "text/plain": [
       "0        Avery\n",
       "1          Jae\n",
       "2         John\n",
       "3         R.J.\n",
       "4        Jonas\n",
       "        ...   \n",
       "451      Chris\n",
       "452       Trey\n",
       "453    Shelvin\n",
       "454       Raul\n",
       "455      Tibor\n",
       "Name: Name, Length: 456, dtype: object"
      ]
     },
     "execution_count": 51,
     "metadata": {},
     "output_type": "execute_result"
    }
   ],
   "source": [
    "# the first name of the first series\n",
    "data['Name'].str.split().str[0]"
   ]
  },
  {
   "cell_type": "code",
   "execution_count": 42,
   "outputs": [
    {
     "name": "stdout",
     "output_type": "stream",
     "text": [
      "| First Name | --- | Last Name | = | Name |\n",
      "------------------------------------------\n",
      "| Avery | --- | Bradley | = | Avery Bradley |\n",
      "| Jae | --- | Crowder | = | Jae Crowder |\n",
      "| John | --- | Holland | = | John Holland |\n",
      "| R.J. | --- | Hunter | = | R.J. Hunter |\n",
      "| Jonas | --- | Jerebko | = | Jonas Jerebko |\n",
      "| Amir | --- | Johnson | = | Amir Johnson |\n",
      "| Jordan | --- | Mickey | = | Jordan Mickey |\n",
      "| Kelly | --- | Olynyk | = | Kelly Olynyk |\n",
      "| Terry | --- | Rozier | = | Terry Rozier |\n",
      "| Marcus | --- | Smart | = | Marcus Smart |\n",
      "| Jared | --- | Sullinger | = | Jared Sullinger |\n",
      "| Isaiah | --- | Thomas | = | Isaiah Thomas |\n",
      "| Evan | --- | Turner | = | Evan Turner |\n",
      "| James | --- | Young | = | James Young |\n",
      "| Tyler | --- | Zeller | = | Tyler Zeller |\n",
      "| Bojan | --- | Bogdanovic | = | Bojan Bogdanovic |\n",
      "| Markel | --- | Brown | = | Markel Brown |\n",
      "| Wayne | --- | Ellington | = | Wayne Ellington |\n",
      "| Rondae | --- | Hollis-Jefferson | = | Rondae Hollis-Jefferson |\n",
      "| Jarrett | --- | Jack | = | Jarrett Jack |\n",
      "| Sergey | --- | Karasev | = | Sergey Karasev |\n",
      "| Sean | --- | Kilpatrick | = | Sean Kilpatrick |\n",
      "| Shane | --- | Larkin | = | Shane Larkin |\n",
      "| Brook | --- | Lopez | = | Brook Lopez |\n",
      "| Chris | --- | McCullough | = | Chris McCullough |\n",
      "| Willie | --- | Reed | = | Willie Reed |\n",
      "| Thomas | --- | Robinson | = | Thomas Robinson |\n",
      "| Henry | --- | Sims | = | Henry Sims |\n",
      "| Donald | --- | Sloan | = | Donald Sloan |\n",
      "| Thaddeus | --- | Young | = | Thaddeus Young |\n",
      "| Arron | --- | Afflalo | = | Arron Afflalo |\n",
      "| Lou | --- | Amundson | = | Lou Amundson |\n",
      "| Thanasis | --- | Antetokounmpo | = | Thanasis Antetokounmpo |\n",
      "| Carmelo | --- | Anthony | = | Carmelo Anthony |\n",
      "| Jose | --- | Calderon | = | Jose Calderon |\n",
      "| Cleanthony | --- | Early | = | Cleanthony Early |\n",
      "| Langston | --- | Galloway | = | Langston Galloway |\n",
      "| Jerian | --- | Grant | = | Jerian Grant |\n",
      "| Robin | --- | Lopez | = | Robin Lopez |\n",
      "| Kyle | --- | O'Quinn | = | Kyle O'Quinn |\n",
      "| Kristaps | --- | Porzingis | = | Kristaps Porzingis |\n",
      "| Kevin | --- | Seraphin | = | Kevin Seraphin |\n",
      "| Lance | --- | Thomas | = | Lance Thomas |\n",
      "| Sasha | --- | Vujacic | = | Sasha Vujacic |\n",
      "| Derrick | --- | Williams | = | Derrick Williams |\n",
      "| Tony | --- | Wroten | = | Tony Wroten |\n",
      "| Elton | --- | Brand | = | Elton Brand |\n",
      "| Isaiah | --- | Canaan | = | Isaiah Canaan |\n",
      "| Robert | --- | Covington | = | Robert Covington |\n",
      "| Joel | --- | Embiid | = | Joel Embiid |\n",
      "| Jerami | --- | Grant | = | Jerami Grant |\n",
      "| Richaun | --- | Holmes | = | Richaun Holmes |\n",
      "| Carl | --- | Landry | = | Carl Landry |\n",
      "| Kendall | --- | Marshall | = | Kendall Marshall |\n",
      "| T.J. | --- | McConnell | = | T.J. McConnell |\n",
      "| Nerlens | --- | Noel | = | Nerlens Noel |\n",
      "| Jahlil | --- | Okafor | = | Jahlil Okafor |\n",
      "| Ish | --- | Smith | = | Ish Smith |\n",
      "| Nik | --- | Stauskas | = | Nik Stauskas |\n",
      "| Hollis | --- | Thompson | = | Hollis Thompson |\n",
      "| Christian | --- | Wood | = | Christian Wood |\n",
      "| Bismack | --- | Biyombo | = | Bismack Biyombo |\n",
      "| Bruno | --- | Caboclo | = | Bruno Caboclo |\n",
      "| DeMarre | --- | Carroll | = | DeMarre Carroll |\n",
      "| DeMar | --- | DeRozan | = | DeMar DeRozan |\n",
      "| James | --- | Johnson | = | James Johnson |\n",
      "| Cory | --- | Joseph | = | Cory Joseph |\n",
      "| Kyle | --- | Lowry | = | Kyle Lowry |\n",
      "| Lucas | --- | Nogueira | = | Lucas Nogueira |\n",
      "| Patrick | --- | Patterson | = | Patrick Patterson |\n",
      "| Norman | --- | Powell | = | Norman Powell |\n",
      "| Terrence | --- | Ross | = | Terrence Ross |\n",
      "| Luis | --- | Scola | = | Luis Scola |\n",
      "| Jason | --- | Thompson | = | Jason Thompson |\n",
      "| Jonas | --- | Valanciunas | = | Jonas Valanciunas |\n",
      "| Delon | --- | Wright | = | Delon Wright |\n",
      "| Leandro | --- | Barbosa | = | Leandro Barbosa |\n",
      "| Harrison | --- | Barnes | = | Harrison Barnes |\n",
      "| Andrew | --- | Bogut | = | Andrew Bogut |\n",
      "| Ian | --- | Clark | = | Ian Clark |\n",
      "| Stephen | --- | Curry | = | Stephen Curry |\n",
      "| Festus | --- | Ezeli | = | Festus Ezeli |\n",
      "| Draymond | --- | Green | = | Draymond Green |\n",
      "| Andre | --- | Iguodala | = | Andre Iguodala |\n",
      "| Shaun | --- | Livingston | = | Shaun Livingston |\n",
      "| Kevon | --- | Looney | = | Kevon Looney |\n",
      "| James | --- | Michael | = | James Michael McAdoo |\n",
      "| Brandon | --- | Rush | = | Brandon Rush |\n",
      "| Marreese | --- | Speights | = | Marreese Speights |\n",
      "| Klay | --- | Thompson | = | Klay Thompson |\n",
      "| Anderson | --- | Varejao | = | Anderson Varejao |\n",
      "| Cole | --- | Aldrich | = | Cole Aldrich |\n",
      "| Jeff | --- | Ayres | = | Jeff Ayres |\n",
      "| Jamal | --- | Crawford | = | Jamal Crawford |\n",
      "| Branden | --- | Dawson | = | Branden Dawson |\n",
      "| Jeff | --- | Green | = | Jeff Green |\n",
      "| Blake | --- | Griffin | = | Blake Griffin |\n",
      "| Wesley | --- | Johnson | = | Wesley Johnson |\n",
      "| DeAndre | --- | Jordan | = | DeAndre Jordan |\n",
      "| Luc | --- | Richard | = | Luc Richard Mbah a Moute |\n",
      "| Chris | --- | Paul | = | Chris Paul |\n",
      "| Paul | --- | Pierce | = | Paul Pierce |\n",
      "| Pablo | --- | Prigioni | = | Pablo Prigioni |\n",
      "| JJ | --- | Redick | = | JJ Redick |\n",
      "| Austin | --- | Rivers | = | Austin Rivers |\n",
      "| C.J. | --- | Wilcox | = | C.J. Wilcox |\n",
      "| Brandon | --- | Bass | = | Brandon Bass |\n",
      "| Tarik | --- | Black | = | Tarik Black |\n",
      "| Anthony | --- | Brown | = | Anthony Brown |\n",
      "| Kobe | --- | Bryant | = | Kobe Bryant |\n",
      "| Jordan | --- | Clarkson | = | Jordan Clarkson |\n",
      "| Roy | --- | Hibbert | = | Roy Hibbert |\n",
      "| Marcelo | --- | Huertas | = | Marcelo Huertas |\n",
      "| Ryan | --- | Kelly | = | Ryan Kelly |\n",
      "| Larry | --- | Nance | = | Larry Nance Jr. |\n",
      "| Julius | --- | Randle | = | Julius Randle |\n",
      "| D'Angelo | --- | Russell | = | D'Angelo Russell |\n",
      "| Robert | --- | Sacre | = | Robert Sacre |\n",
      "| Louis | --- | Williams | = | Louis Williams |\n",
      "| Metta | --- | World | = | Metta World Peace |\n",
      "| Nick | --- | Young | = | Nick Young |\n",
      "| Eric | --- | Bledsoe | = | Eric Bledsoe |\n",
      "| Devin | --- | Booker | = | Devin Booker |\n",
      "| Chase | --- | Budinger | = | Chase Budinger |\n",
      "| Tyson | --- | Chandler | = | Tyson Chandler |\n",
      "| Archie | --- | Goodwin | = | Archie Goodwin |\n",
      "| John | --- | Jenkins | = | John Jenkins |\n",
      "| Brandon | --- | Knight | = | Brandon Knight |\n",
      "| Alex | --- | Len | = | Alex Len |\n",
      "| Jon | --- | Leuer | = | Jon Leuer |\n",
      "| Phil | --- | Pressey | = | Phil Pressey |\n",
      "| Ronnie | --- | Price | = | Ronnie Price |\n",
      "| Mirza | --- | Teletovic | = | Mirza Teletovic |\n",
      "| P.J. | --- | Tucker | = | P.J. Tucker |\n",
      "| T.J. | --- | Warren | = | T.J. Warren |\n",
      "| Alan | --- | Williams | = | Alan Williams |\n",
      "| Quincy | --- | Acy | = | Quincy Acy |\n",
      "| James | --- | Anderson | = | James Anderson |\n",
      "| Marco | --- | Belinelli | = | Marco Belinelli |\n",
      "| Caron | --- | Butler | = | Caron Butler |\n",
      "| Omri | --- | Casspi | = | Omri Casspi |\n",
      "| Willie | --- | Cauley-Stein | = | Willie Cauley-Stein |\n",
      "| Darren | --- | Collison | = | Darren Collison |\n",
      "| DeMarcus | --- | Cousins | = | DeMarcus Cousins |\n",
      "| Seth | --- | Curry | = | Seth Curry |\n",
      "| Duje | --- | Dukan | = | Duje Dukan |\n",
      "| Rudy | --- | Gay | = | Rudy Gay |\n",
      "| Kosta | --- | Koufos | = | Kosta Koufos |\n",
      "| Ben | --- | McLemore | = | Ben McLemore |\n",
      "| Eric | --- | Moreland | = | Eric Moreland |\n",
      "| Rajon | --- | Rondo | = | Rajon Rondo |\n",
      "| Cameron | --- | Bairstow | = | Cameron Bairstow |\n",
      "| Aaron | --- | Brooks | = | Aaron Brooks |\n",
      "| Jimmy | --- | Butler | = | Jimmy Butler |\n",
      "| Mike | --- | Dunleavy | = | Mike Dunleavy |\n",
      "| Cristiano | --- | Felicio | = | Cristiano Felicio |\n",
      "| Pau | --- | Gasol | = | Pau Gasol |\n",
      "| Taj | --- | Gibson | = | Taj Gibson |\n",
      "| Justin | --- | Holiday | = | Justin Holiday |\n",
      "| Doug | --- | McDermott | = | Doug McDermott |\n",
      "| Nikola | --- | Mirotic | = | Nikola Mirotic |\n",
      "| E'Twaun | --- | Moore | = | E'Twaun Moore |\n",
      "| Joakim | --- | Noah | = | Joakim Noah |\n",
      "| Bobby | --- | Portis | = | Bobby Portis |\n",
      "| Derrick | --- | Rose | = | Derrick Rose |\n",
      "| Tony | --- | Snell | = | Tony Snell |\n",
      "| Matthew | --- | Dellavedova | = | Matthew Dellavedova |\n",
      "| Channing | --- | Frye | = | Channing Frye |\n",
      "| Kyrie | --- | Irving | = | Kyrie Irving |\n",
      "| LeBron | --- | James | = | LeBron James |\n",
      "| Richard | --- | Jefferson | = | Richard Jefferson |\n",
      "| Dahntay | --- | Jones | = | Dahntay Jones |\n",
      "| James | --- | Jones | = | James Jones |\n",
      "| Sasha | --- | Kaun | = | Sasha Kaun |\n",
      "| Kevin | --- | Love | = | Kevin Love |\n",
      "| Jordan | --- | McRae | = | Jordan McRae |\n",
      "| Timofey | --- | Mozgov | = | Timofey Mozgov |\n",
      "| Iman | --- | Shumpert | = | Iman Shumpert |\n",
      "| J.R. | --- | Smith | = | J.R. Smith |\n",
      "| Tristan | --- | Thompson | = | Tristan Thompson |\n",
      "| Mo | --- | Williams | = | Mo Williams |\n",
      "| Joel | --- | Anthony | = | Joel Anthony |\n",
      "| Aron | --- | Baynes | = | Aron Baynes |\n",
      "| Steve | --- | Blake | = | Steve Blake |\n",
      "| Lorenzo | --- | Brown | = | Lorenzo Brown |\n",
      "| Reggie | --- | Bullock | = | Reggie Bullock |\n",
      "| Kentavious | --- | Caldwell-Pope | = | Kentavious Caldwell-Pope |\n",
      "| Spencer | --- | Dinwiddie | = | Spencer Dinwiddie |\n",
      "| Andre | --- | Drummond | = | Andre Drummond |\n",
      "| Tobias | --- | Harris | = | Tobias Harris |\n",
      "| Darrun | --- | Hilliard | = | Darrun Hilliard |\n",
      "| Reggie | --- | Jackson | = | Reggie Jackson |\n",
      "| Stanley | --- | Johnson | = | Stanley Johnson |\n",
      "| Jodie | --- | Meeks | = | Jodie Meeks |\n",
      "| Marcus | --- | Morris | = | Marcus Morris |\n",
      "| Anthony | --- | Tolliver | = | Anthony Tolliver |\n",
      "| Lavoy | --- | Allen | = | Lavoy Allen |\n",
      "| Rakeem | --- | Christmas | = | Rakeem Christmas |\n",
      "| Monta | --- | Ellis | = | Monta Ellis |\n",
      "| Paul | --- | George | = | Paul George |\n",
      "| George | --- | Hill | = | George Hill |\n",
      "| Jordan | --- | Hill | = | Jordan Hill |\n",
      "| Solomon | --- | Hill | = | Solomon Hill |\n",
      "| Ty | --- | Lawson | = | Ty Lawson |\n",
      "| Ian | --- | Mahinmi | = | Ian Mahinmi |\n",
      "| C.J. | --- | Miles | = | C.J. Miles |\n",
      "| Glenn | --- | Robinson | = | Glenn Robinson III |\n",
      "| Rodney | --- | Stuckey | = | Rodney Stuckey |\n",
      "| Myles | --- | Turner | = | Myles Turner |\n",
      "| Shayne | --- | Whittington | = | Shayne Whittington |\n",
      "| Joe | --- | Young | = | Joe Young |\n",
      "| Giannis | --- | Antetokounmpo | = | Giannis Antetokounmpo |\n",
      "| Jerryd | --- | Bayless | = | Jerryd Bayless |\n",
      "| Michael | --- | Carter-Williams | = | Michael Carter-Williams |\n",
      "| Jared | --- | Cunningham | = | Jared Cunningham |\n",
      "| Tyler | --- | Ennis | = | Tyler Ennis |\n",
      "| John | --- | Henson | = | John Henson |\n",
      "| Damien | --- | Inglis | = | Damien Inglis |\n",
      "| O.J. | --- | Mayo | = | O.J. Mayo |\n",
      "| Khris | --- | Middleton | = | Khris Middleton |\n",
      "| Greg | --- | Monroe | = | Greg Monroe |\n",
      "| Steve | --- | Novak | = | Steve Novak |\n",
      "| Johnny | --- | O'Bryant | = | Johnny O'Bryant III |\n",
      "| Jabari | --- | Parker | = | Jabari Parker |\n",
      "| Miles | --- | Plumlee | = | Miles Plumlee |\n",
      "| Greivis | --- | Vasquez | = | Greivis Vasquez |\n",
      "| Rashad | --- | Vaughn | = | Rashad Vaughn |\n",
      "| Justin | --- | Anderson | = | Justin Anderson |\n",
      "| J.J. | --- | Barea | = | J.J. Barea |\n",
      "| Jeremy | --- | Evans | = | Jeremy Evans |\n",
      "| Raymond | --- | Felton | = | Raymond Felton |\n",
      "| Devin | --- | Harris | = | Devin Harris |\n",
      "| David | --- | Lee | = | David Lee |\n",
      "| Wesley | --- | Matthews | = | Wesley Matthews |\n",
      "| JaVale | --- | McGee | = | JaVale McGee |\n",
      "| Salah | --- | Mejri | = | Salah Mejri |\n",
      "| Dirk | --- | Nowitzki | = | Dirk Nowitzki |\n",
      "| Zaza | --- | Pachulia | = | Zaza Pachulia |\n",
      "| Chandler | --- | Parsons | = | Chandler Parsons |\n",
      "| Dwight | --- | Powell | = | Dwight Powell |\n",
      "| Charlie | --- | Villanueva | = | Charlie Villanueva |\n",
      "| Deron | --- | Williams | = | Deron Williams |\n",
      "| Trevor | --- | Ariza | = | Trevor Ariza |\n",
      "| Michael | --- | Beasley | = | Michael Beasley |\n",
      "| Patrick | --- | Beverley | = | Patrick Beverley |\n",
      "| Corey | --- | Brewer | = | Corey Brewer |\n",
      "| Clint | --- | Capela | = | Clint Capela |\n",
      "| Sam | --- | Dekker | = | Sam Dekker |\n",
      "| Andrew | --- | Goudelock | = | Andrew Goudelock |\n",
      "| James | --- | Harden | = | James Harden |\n",
      "| Montrezl | --- | Harrell | = | Montrezl Harrell |\n",
      "| Dwight | --- | Howard | = | Dwight Howard |\n",
      "| Terrence | --- | Jones | = | Terrence Jones |\n",
      "| K.J. | --- | McDaniels | = | K.J. McDaniels |\n",
      "| Donatas | --- | Motiejunas | = | Donatas Motiejunas |\n",
      "| Josh | --- | Smith | = | Josh Smith |\n",
      "| Jason | --- | Terry | = | Jason Terry |\n",
      "| Jordan | --- | Adams | = | Jordan Adams |\n",
      "| Tony | --- | Allen | = | Tony Allen |\n",
      "| Chris | --- | Andersen | = | Chris Andersen |\n",
      "| Matt | --- | Barnes | = | Matt Barnes |\n",
      "| Vince | --- | Carter | = | Vince Carter |\n",
      "| Mike | --- | Conley | = | Mike Conley |\n",
      "| Bryce | --- | Cotton | = | Bryce Cotton |\n",
      "| Jordan | --- | Farmar | = | Jordan Farmar |\n",
      "| Marc | --- | Gasol | = | Marc Gasol |\n",
      "| JaMychal | --- | Green | = | JaMychal Green |\n",
      "| P.J. | --- | Hairston | = | P.J. Hairston |\n",
      "| Jarell | --- | Martin | = | Jarell Martin |\n",
      "| Ray | --- | McCallum | = | Ray McCallum |\n",
      "| Xavier | --- | Munford | = | Xavier Munford |\n",
      "| Zach | --- | Randolph | = | Zach Randolph |\n",
      "| Lance | --- | Stephenson | = | Lance Stephenson |\n",
      "| Alex | --- | Stepheson | = | Alex Stepheson |\n",
      "| Brandan | --- | Wright | = | Brandan Wright |\n",
      "| Alexis | --- | Ajinca | = | Alexis Ajinca |\n",
      "| Ryan | --- | Anderson | = | Ryan Anderson |\n",
      "| Omer | --- | Asik | = | Omer Asik |\n",
      "| Luke | --- | Babbitt | = | Luke Babbitt |\n",
      "| Norris | --- | Cole | = | Norris Cole |\n",
      "| Dante | --- | Cunningham | = | Dante Cunningham |\n",
      "| Anthony | --- | Davis | = | Anthony Davis |\n",
      "| Bryce | --- | Dejean-Jones | = | Bryce Dejean-Jones |\n",
      "| Toney | --- | Douglas | = | Toney Douglas |\n",
      "| James | --- | Ennis | = | James Ennis |\n",
      "| Tyreke | --- | Evans | = | Tyreke Evans |\n",
      "| Tim | --- | Frazier | = | Tim Frazier |\n",
      "| Alonzo | --- | Gee | = | Alonzo Gee |\n",
      "| Eric | --- | Gordon | = | Eric Gordon |\n",
      "| Jordan | --- | Hamilton | = | Jordan Hamilton |\n",
      "| Jrue | --- | Holiday | = | Jrue Holiday |\n",
      "| Orlando | --- | Johnson | = | Orlando Johnson |\n",
      "| Kendrick | --- | Perkins | = | Kendrick Perkins |\n",
      "| Quincy | --- | Pondexter | = | Quincy Pondexter |\n",
      "| LaMarcus | --- | Aldridge | = | LaMarcus Aldridge |\n",
      "| Kyle | --- | Anderson | = | Kyle Anderson |\n",
      "| Matt | --- | Bonner | = | Matt Bonner |\n",
      "| Boris | --- | Diaw | = | Boris Diaw |\n",
      "| Tim | --- | Duncan | = | Tim Duncan |\n",
      "| Manu | --- | Ginobili | = | Manu Ginobili |\n",
      "| Danny | --- | Green | = | Danny Green |\n",
      "| Kawhi | --- | Leonard | = | Kawhi Leonard |\n",
      "| Boban | --- | Marjanovic | = | Boban Marjanovic |\n",
      "| Kevin | --- | Martin | = | Kevin Martin |\n",
      "| Andre | --- | Miller | = | Andre Miller |\n",
      "| Patty | --- | Mills | = | Patty Mills |\n",
      "| Tony | --- | Parker | = | Tony Parker |\n",
      "| Jonathon | --- | Simmons | = | Jonathon Simmons |\n",
      "| David | --- | West | = | David West |\n",
      "| Kent | --- | Bazemore | = | Kent Bazemore |\n",
      "| Tim | --- | Hardaway | = | Tim Hardaway Jr. |\n",
      "| Kirk | --- | Hinrich | = | Kirk Hinrich |\n",
      "| Al | --- | Horford | = | Al Horford |\n",
      "| Kris | --- | Humphries | = | Kris Humphries |\n",
      "| Kyle | --- | Korver | = | Kyle Korver |\n",
      "| Paul | --- | Millsap | = | Paul Millsap |\n",
      "| Mike | --- | Muscala | = | Mike Muscala |\n",
      "| Lamar | --- | Patterson | = | Lamar Patterson |\n",
      "| Dennis | --- | Schroder | = | Dennis Schroder |\n",
      "| Mike | --- | Scott | = | Mike Scott |\n",
      "| Thabo | --- | Sefolosha | = | Thabo Sefolosha |\n",
      "| Tiago | --- | Splitter | = | Tiago Splitter |\n",
      "| Walter | --- | Tavares | = | Walter Tavares |\n",
      "| Jeff | --- | Teague | = | Jeff Teague |\n",
      "| Nicolas | --- | Batum | = | Nicolas Batum |\n",
      "| Troy | --- | Daniels | = | Troy Daniels |\n",
      "| Jorge | --- | Gutierrez | = | Jorge Gutierrez |\n",
      "| Tyler | --- | Hansbrough | = | Tyler Hansbrough |\n",
      "| Aaron | --- | Harrison | = | Aaron Harrison |\n",
      "| Spencer | --- | Hawes | = | Spencer Hawes |\n",
      "| Al | --- | Jefferson | = | Al Jefferson |\n",
      "| Frank | --- | Kaminsky | = | Frank Kaminsky III |\n",
      "| Michael | --- | Kidd-Gilchrist | = | Michael Kidd-Gilchrist |\n",
      "| Jeremy | --- | Lamb | = | Jeremy Lamb |\n",
      "| Courtney | --- | Lee | = | Courtney Lee |\n",
      "| Jeremy | --- | Lin | = | Jeremy Lin |\n",
      "| Kemba | --- | Walker | = | Kemba Walker |\n",
      "| Marvin | --- | Williams | = | Marvin Williams |\n",
      "| Cody | --- | Zeller | = | Cody Zeller |\n",
      "| Chris | --- | Bosh | = | Chris Bosh |\n",
      "| Luol | --- | Deng | = | Luol Deng |\n",
      "| Goran | --- | Dragic | = | Goran Dragic |\n",
      "| Gerald | --- | Green | = | Gerald Green |\n",
      "| Udonis | --- | Haslem | = | Udonis Haslem |\n",
      "| Joe | --- | Johnson | = | Joe Johnson |\n",
      "| Tyler | --- | Johnson | = | Tyler Johnson |\n",
      "| Josh | --- | McRoberts | = | Josh McRoberts |\n",
      "| Josh | --- | Richardson | = | Josh Richardson |\n",
      "| Amar'e | --- | Stoudemire | = | Amar'e Stoudemire |\n",
      "| Dwyane | --- | Wade | = | Dwyane Wade |\n",
      "| Briante | --- | Weber | = | Briante Weber |\n",
      "| Hassan | --- | Whiteside | = | Hassan Whiteside |\n",
      "| Justise | --- | Winslow | = | Justise Winslow |\n",
      "| Dorell | --- | Wright | = | Dorell Wright |\n",
      "| Dewayne | --- | Dedmon | = | Dewayne Dedmon |\n",
      "| Evan | --- | Fournier | = | Evan Fournier |\n",
      "| Aaron | --- | Gordon | = | Aaron Gordon |\n",
      "| Mario | --- | Hezonja | = | Mario Hezonja |\n",
      "| Ersan | --- | Ilyasova | = | Ersan Ilyasova |\n",
      "| Brandon | --- | Jennings | = | Brandon Jennings |\n",
      "| Devyn | --- | Marble | = | Devyn Marble |\n",
      "| Shabazz | --- | Napier | = | Shabazz Napier |\n",
      "| Andrew | --- | Nicholson | = | Andrew Nicholson |\n",
      "| Victor | --- | Oladipo | = | Victor Oladipo |\n",
      "| Elfrid | --- | Payton | = | Elfrid Payton |\n",
      "| Jason | --- | Smith | = | Jason Smith |\n",
      "| Nikola | --- | Vucevic | = | Nikola Vucevic |\n",
      "| C.J. | --- | Watson | = | C.J. Watson |\n",
      "| Alan | --- | Anderson | = | Alan Anderson |\n",
      "| Bradley | --- | Beal | = | Bradley Beal |\n",
      "| Jared | --- | Dudley | = | Jared Dudley |\n",
      "| Jarell | --- | Eddie | = | Jarell Eddie |\n",
      "| Drew | --- | Gooden | = | Drew Gooden |\n",
      "| Marcin | --- | Gortat | = | Marcin Gortat |\n",
      "| JJ | --- | Hickson | = | JJ Hickson |\n",
      "| Nene | --- | Hilario | = | Nene Hilario |\n",
      "| Markieff | --- | Morris | = | Markieff Morris |\n",
      "| Kelly | --- | Oubre | = | Kelly Oubre Jr. |\n",
      "| Otto | --- | Porter | = | Otto Porter Jr. |\n",
      "| Ramon | --- | Sessions | = | Ramon Sessions |\n",
      "| Garrett | --- | Temple | = | Garrett Temple |\n",
      "| Marcus | --- | Thornton | = | Marcus Thornton |\n",
      "| John | --- | Wall | = | John Wall |\n",
      "| Darrell | --- | Arthur | = | Darrell Arthur |\n",
      "| D.J. | --- | Augustin | = | D.J. Augustin |\n",
      "| Will | --- | Barton | = | Will Barton |\n",
      "| Wilson | --- | Chandler | = | Wilson Chandler |\n",
      "| Kenneth | --- | Faried | = | Kenneth Faried |\n",
      "| Danilo | --- | Gallinari | = | Danilo Gallinari |\n",
      "| Gary | --- | Harris | = | Gary Harris |\n",
      "| Nikola | --- | Jokic | = | Nikola Jokic |\n",
      "| Joffrey | --- | Lauvergne | = | Joffrey Lauvergne |\n",
      "| Mike | --- | Miller | = | Mike Miller |\n",
      "| Emmanuel | --- | Mudiay | = | Emmanuel Mudiay |\n",
      "| Jameer | --- | Nelson | = | Jameer Nelson |\n",
      "| Jusuf | --- | Nurkic | = | Jusuf Nurkic |\n",
      "| JaKarr | --- | Sampson | = | JaKarr Sampson |\n",
      "| Axel | --- | Toupane | = | Axel Toupane |\n",
      "| Nemanja | --- | Bjelica | = | Nemanja Bjelica |\n",
      "| Gorgui | --- | Dieng | = | Gorgui Dieng |\n",
      "| Kevin | --- | Garnett | = | Kevin Garnett |\n",
      "| Tyus | --- | Jones | = | Tyus Jones |\n",
      "| Zach | --- | LaVine | = | Zach LaVine |\n",
      "| Shabazz | --- | Muhammad | = | Shabazz Muhammad |\n",
      "| Adreian | --- | Payne | = | Adreian Payne |\n",
      "| Nikola | --- | Pekovic | = | Nikola Pekovic |\n",
      "| Tayshaun | --- | Prince | = | Tayshaun Prince |\n",
      "| Ricky | --- | Rubio | = | Ricky Rubio |\n",
      "| Damjan | --- | Rudez | = | Damjan Rudez |\n",
      "| Greg | --- | Smith | = | Greg Smith |\n",
      "| Karl-Anthony | --- | Towns | = | Karl-Anthony Towns |\n",
      "| Andrew | --- | Wiggins | = | Andrew Wiggins |\n",
      "| Steven | --- | Adams | = | Steven Adams |\n",
      "| Nick | --- | Collison | = | Nick Collison |\n",
      "| Kevin | --- | Durant | = | Kevin Durant |\n",
      "| Randy | --- | Foye | = | Randy Foye |\n",
      "| Josh | --- | Huestis | = | Josh Huestis |\n",
      "| Serge | --- | Ibaka | = | Serge Ibaka |\n",
      "| Enes | --- | Kanter | = | Enes Kanter |\n",
      "| Mitch | --- | McGary | = | Mitch McGary |\n",
      "| Nazr | --- | Mohammed | = | Nazr Mohammed |\n",
      "| Anthony | --- | Morrow | = | Anthony Morrow |\n",
      "| Cameron | --- | Payne | = | Cameron Payne |\n",
      "| Andre | --- | Roberson | = | Andre Roberson |\n",
      "| Kyle | --- | Singler | = | Kyle Singler |\n",
      "| Dion | --- | Waiters | = | Dion Waiters |\n",
      "| Russell | --- | Westbrook | = | Russell Westbrook |\n",
      "| Cliff | --- | Alexander | = | Cliff Alexander |\n",
      "| Al-Farouq | --- | Aminu | = | Al-Farouq Aminu |\n",
      "| Pat | --- | Connaughton | = | Pat Connaughton |\n",
      "| Allen | --- | Crabbe | = | Allen Crabbe |\n",
      "| Ed | --- | Davis | = | Ed Davis |\n",
      "| Maurice | --- | Harkless | = | Maurice Harkless |\n",
      "| Gerald | --- | Henderson | = | Gerald Henderson |\n",
      "| Chris | --- | Kaman | = | Chris Kaman |\n",
      "| Meyers | --- | Leonard | = | Meyers Leonard |\n",
      "| Damian | --- | Lillard | = | Damian Lillard |\n",
      "| C.J. | --- | McCollum | = | C.J. McCollum |\n",
      "| Luis | --- | Montero | = | Luis Montero |\n",
      "| Mason | --- | Plumlee | = | Mason Plumlee |\n",
      "| Brian | --- | Roberts | = | Brian Roberts |\n",
      "| Noah | --- | Vonleh | = | Noah Vonleh |\n",
      "| Trevor | --- | Booker | = | Trevor Booker |\n",
      "| Trey | --- | Burke | = | Trey Burke |\n",
      "| Alec | --- | Burks | = | Alec Burks |\n",
      "| Dante | --- | Exum | = | Dante Exum |\n",
      "| Derrick | --- | Favors | = | Derrick Favors |\n",
      "| Rudy | --- | Gobert | = | Rudy Gobert |\n",
      "| Gordon | --- | Hayward | = | Gordon Hayward |\n",
      "| Rodney | --- | Hood | = | Rodney Hood |\n",
      "| Joe | --- | Ingles | = | Joe Ingles |\n",
      "| Chris | --- | Johnson | = | Chris Johnson |\n",
      "| Trey | --- | Lyles | = | Trey Lyles |\n",
      "| Shelvin | --- | Mack | = | Shelvin Mack |\n",
      "| Raul | --- | Neto | = | Raul Neto |\n",
      "| Tibor | --- | Pleiss | = | Tibor Pleiss |\n"
     ]
    }
   ],
   "source": [
    "print('| First Name | --- | Last Name | = | Name |')\n",
    "print('------------------------------------------')\n",
    "for name in data['Name']:\n",
    "    print('| {} | --- | {} | = | {} |'.format(str(name).split()[0], str(name).split()[1], name))"
   ],
   "metadata": {
    "collapsed": false,
    "ExecuteTime": {
     "end_time": "2023-09-04T00:02:22.898087100Z",
     "start_time": "2023-09-04T00:02:22.892491Z"
    }
   },
   "id": "3b6cc01a10c9d468"
  }
 ],
 "metadata": {
  "celltoolbar": "Create Assignment",
  "kernelspec": {
   "display_name": "Python 3 (ipykernel)",
   "language": "python",
   "name": "python3"
  },
  "language_info": {
   "codemirror_mode": {
    "name": "ipython",
    "version": 3
   },
   "file_extension": ".py",
   "mimetype": "text/x-python",
   "name": "python",
   "nbconvert_exporter": "python",
   "pygments_lexer": "ipython3",
   "version": "3.10.12"
  }
 },
 "nbformat": 4,
 "nbformat_minor": 5
}
