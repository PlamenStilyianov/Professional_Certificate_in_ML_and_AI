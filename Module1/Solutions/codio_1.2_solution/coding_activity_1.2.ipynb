{
 "cells": [
  {
   "cell_type": "markdown",
   "source": [
    "## Codio Activity 1.2: Exploring a DataFrame \n",
    "\n",
    "**Expected Time: 30 Minutes**\n",
    "\n",
    "**Total Points: 12 Points**\n",
    "\n",
    "In this exercise you will use basic summarization methods on a pandas DataFrame.\n",
    "\n",
    "## Index:\n",
    "\n",
    "- [Problem 1](#Problem-1)\n",
    "- [Problem 2](#Problem-2)\n",
    "- [Problem 3](#Problem-3)"
   ],
   "metadata": {
    "collapsed": false
   }
  },
  {
   "cell_type": "code",
   "execution_count": 105,
   "metadata": {
    "ExecuteTime": {
     "end_time": "2023-09-01T00:09:58.642828200Z",
     "start_time": "2023-09-01T00:09:58.600537900Z"
    }
   },
   "outputs": [],
   "source": [
    "import pandas as pd\n",
    "import numpy as np"
   ]
  },
  {
   "cell_type": "code",
   "execution_count": 106,
   "metadata": {
    "ExecuteTime": {
     "end_time": "2023-09-01T00:09:58.682520600Z",
     "start_time": "2023-09-01T00:09:58.637943900Z"
    }
   },
   "outputs": [],
   "source": [
    "nba = pd.read_csv('data/nba.csv', index_col = 0)"
   ]
  },
  {
   "cell_type": "code",
   "execution_count": 107,
   "outputs": [
    {
     "data": {
      "text/plain": "              Name            Team Position Height            College  Number  \\\n0    Avery Bradley  Boston Celtics       PG    6-2              Texas     0.0   \n1      Jae Crowder  Boston Celtics       SF    6-6          Marquette    99.0   \n2     John Holland  Boston Celtics       SG    6-5  Boston University    30.0   \n3      R.J. Hunter  Boston Celtics       SG    6-5      Georgia State    28.0   \n4    Jonas Jerebko  Boston Celtics       PF   6-10                NaN     8.0   \n..             ...             ...      ...    ...                ...     ...   \n452     Trey Lyles       Utah Jazz       PF   6-10           Kentucky    41.0   \n453   Shelvin Mack       Utah Jazz       PG    6-3             Butler     8.0   \n454      Raul Neto       Utah Jazz       PG    6-1                NaN    25.0   \n455   Tibor Pleiss       Utah Jazz        C    7-3                NaN    21.0   \n456    Jeff Withey       Utah Jazz        C    7-0             Kansas    24.0   \n\n      Age  Weight     Salary  \n0    25.0   180.0  7730337.0  \n1    25.0   235.0  6796117.0  \n2    27.0   205.0        0.0  \n3    22.0   185.0  1148640.0  \n4    29.0   231.0  5000000.0  \n..    ...     ...        ...  \n452  20.0   234.0  2239800.0  \n453  26.0   203.0  2433333.0  \n454  24.0   179.0   900000.0  \n455  26.0   256.0  2900000.0  \n456  26.0   231.0   947276.0  \n\n[457 rows x 9 columns]",
      "text/html": "<div>\n<style scoped>\n    .dataframe tbody tr th:only-of-type {\n        vertical-align: middle;\n    }\n\n    .dataframe tbody tr th {\n        vertical-align: top;\n    }\n\n    .dataframe thead th {\n        text-align: right;\n    }\n</style>\n<table border=\"1\" class=\"dataframe\">\n  <thead>\n    <tr style=\"text-align: right;\">\n      <th></th>\n      <th>Name</th>\n      <th>Team</th>\n      <th>Position</th>\n      <th>Height</th>\n      <th>College</th>\n      <th>Number</th>\n      <th>Age</th>\n      <th>Weight</th>\n      <th>Salary</th>\n    </tr>\n  </thead>\n  <tbody>\n    <tr>\n      <th>0</th>\n      <td>Avery Bradley</td>\n      <td>Boston Celtics</td>\n      <td>PG</td>\n      <td>6-2</td>\n      <td>Texas</td>\n      <td>0.0</td>\n      <td>25.0</td>\n      <td>180.0</td>\n      <td>7730337.0</td>\n    </tr>\n    <tr>\n      <th>1</th>\n      <td>Jae Crowder</td>\n      <td>Boston Celtics</td>\n      <td>SF</td>\n      <td>6-6</td>\n      <td>Marquette</td>\n      <td>99.0</td>\n      <td>25.0</td>\n      <td>235.0</td>\n      <td>6796117.0</td>\n    </tr>\n    <tr>\n      <th>2</th>\n      <td>John Holland</td>\n      <td>Boston Celtics</td>\n      <td>SG</td>\n      <td>6-5</td>\n      <td>Boston University</td>\n      <td>30.0</td>\n      <td>27.0</td>\n      <td>205.0</td>\n      <td>0.0</td>\n    </tr>\n    <tr>\n      <th>3</th>\n      <td>R.J. Hunter</td>\n      <td>Boston Celtics</td>\n      <td>SG</td>\n      <td>6-5</td>\n      <td>Georgia State</td>\n      <td>28.0</td>\n      <td>22.0</td>\n      <td>185.0</td>\n      <td>1148640.0</td>\n    </tr>\n    <tr>\n      <th>4</th>\n      <td>Jonas Jerebko</td>\n      <td>Boston Celtics</td>\n      <td>PF</td>\n      <td>6-10</td>\n      <td>NaN</td>\n      <td>8.0</td>\n      <td>29.0</td>\n      <td>231.0</td>\n      <td>5000000.0</td>\n    </tr>\n    <tr>\n      <th>...</th>\n      <td>...</td>\n      <td>...</td>\n      <td>...</td>\n      <td>...</td>\n      <td>...</td>\n      <td>...</td>\n      <td>...</td>\n      <td>...</td>\n      <td>...</td>\n    </tr>\n    <tr>\n      <th>452</th>\n      <td>Trey Lyles</td>\n      <td>Utah Jazz</td>\n      <td>PF</td>\n      <td>6-10</td>\n      <td>Kentucky</td>\n      <td>41.0</td>\n      <td>20.0</td>\n      <td>234.0</td>\n      <td>2239800.0</td>\n    </tr>\n    <tr>\n      <th>453</th>\n      <td>Shelvin Mack</td>\n      <td>Utah Jazz</td>\n      <td>PG</td>\n      <td>6-3</td>\n      <td>Butler</td>\n      <td>8.0</td>\n      <td>26.0</td>\n      <td>203.0</td>\n      <td>2433333.0</td>\n    </tr>\n    <tr>\n      <th>454</th>\n      <td>Raul Neto</td>\n      <td>Utah Jazz</td>\n      <td>PG</td>\n      <td>6-1</td>\n      <td>NaN</td>\n      <td>25.0</td>\n      <td>24.0</td>\n      <td>179.0</td>\n      <td>900000.0</td>\n    </tr>\n    <tr>\n      <th>455</th>\n      <td>Tibor Pleiss</td>\n      <td>Utah Jazz</td>\n      <td>C</td>\n      <td>7-3</td>\n      <td>NaN</td>\n      <td>21.0</td>\n      <td>26.0</td>\n      <td>256.0</td>\n      <td>2900000.0</td>\n    </tr>\n    <tr>\n      <th>456</th>\n      <td>Jeff Withey</td>\n      <td>Utah Jazz</td>\n      <td>C</td>\n      <td>7-0</td>\n      <td>Kansas</td>\n      <td>24.0</td>\n      <td>26.0</td>\n      <td>231.0</td>\n      <td>947276.0</td>\n    </tr>\n  </tbody>\n</table>\n<p>457 rows × 9 columns</p>\n</div>"
     },
     "execution_count": 107,
     "metadata": {},
     "output_type": "execute_result"
    }
   ],
   "source": [
    "nba"
   ],
   "metadata": {
    "collapsed": false,
    "ExecuteTime": {
     "end_time": "2023-09-01T00:09:58.718480700Z",
     "start_time": "2023-09-01T00:09:58.679534100Z"
    }
   }
  },
  {
   "cell_type": "markdown",
   "metadata": {
    "nbgrader": {
     "grade": false,
     "grade_id": "cell-de5edc1cb59236d3",
     "locked": true,
     "schema_version": 1,
     "solution": false
    }
   },
   "source": [
    "[Back to top](#Index:) \n",
    "\n",
    "## Problem 1\n",
    "\n",
    "### Describing the data\n",
    "\n",
    "**4 Points**\n",
    "\n",
    "Using the DataFrame `nba` loaded above, get a summary of the numeric variables using the `.describe` method.  Assign your results as a DataFrame to `nba_summary` below. "
   ]
  },
  {
   "cell_type": "code",
   "execution_count": 108,
   "metadata": {
    "nbgrader": {
     "grade": false,
     "grade_id": "cell-cb8365b624aba7a4",
     "locked": false,
     "schema_version": 1,
     "solution": true
    },
    "ExecuteTime": {
     "end_time": "2023-09-01T00:09:58.746448200Z",
     "start_time": "2023-09-01T00:09:58.703336700Z"
    }
   },
   "outputs": [
    {
     "name": "stdout",
     "output_type": "stream",
     "text": [
      "           Number         Age      Weight        Salary\n",
      "count  457.000000  457.000000  457.000000  4.570000e+02\n",
      "mean    17.678337   26.938731  221.522976  4.726121e+06\n",
      "std     15.966090    4.404016   26.368343  5.218945e+06\n",
      "min      0.000000   19.000000  161.000000  0.000000e+00\n",
      "25%      5.000000   24.000000  200.000000  1.000000e+06\n",
      "50%     13.000000   26.000000  220.000000  2.658240e+06\n",
      "75%     25.000000   30.000000  240.000000  6.331404e+06\n",
      "max     99.000000   40.000000  307.000000  2.500000e+07\n",
      "<class 'pandas.core.frame.DataFrame'>\n"
     ]
    }
   ],
   "source": [
    "### GRADED\n",
    "\n",
    "nba_summary = None\n",
    "\n",
    "### BEGIN SOLUTION\n",
    "nba_summary = nba.describe()\n",
    "type(nba_summary)\n",
    "### END SOLUTION\n",
    "\n",
    "# Answer check\n",
    "print(nba_summary)\n",
    "print(type(nba_summary))"
   ]
  },
  {
   "cell_type": "code",
   "execution_count": 109,
   "metadata": {
    "nbgrader": {
     "grade": true,
     "grade_id": "cell-ff1d43a9f019258d",
     "locked": true,
     "points": 4,
     "schema_version": 1,
     "solution": false
    },
    "ExecuteTime": {
     "end_time": "2023-09-01T00:09:58.808048500Z",
     "start_time": "2023-09-01T00:09:58.717481500Z"
    }
   },
   "outputs": [],
   "source": [
    "### BEGIN HIDDEN TESTS\n",
    "nba_summary_ = nba.describe()\n",
    "#\n",
    "#\n",
    "#\n",
    "assert type(nba_summary_) == type(nba_summary)\n",
    "pd.testing.assert_frame_equal(nba_summary, nba_summary_)\n",
    "### END HIDDEN TESTS"
   ]
  },
  {
   "cell_type": "markdown",
   "metadata": {
    "nbgrader": {
     "grade": false,
     "grade_id": "cell-ca874c0433a24e23",
     "locked": true,
     "schema_version": 1,
     "solution": false
    }
   },
   "source": [
    "[Back to top](#Index:) \n",
    "\n",
    "### Problem 2\n",
    "\n",
    "### Getting the missing data information \n",
    "\n",
    "**4 Points**\n",
    "\n",
    "In the National Basketball Association (NBA), there are some athletes that do not take the usual career path of playing for a college and then become a professional athlete. Some athletes skip college and go professional directly out of high school. How many athletes in this dataframe skipped college and went straight to the professional level?\n",
    "\n",
    "To find this answer, create a series with the counts of null values for each column in the `nba` DataFrame.  Assign your solution as a pandas Series to `nba_nulls` below.  **HINT**: Use the `.isnull` and `.sum` methods together. "
   ]
  },
  {
   "cell_type": "code",
   "execution_count": 110,
   "outputs": [
    {
     "data": {
      "text/plain": "              Name            Team Position Height            College  Number  \\\n0    Avery Bradley  Boston Celtics       PG    6-2              Texas     0.0   \n1      Jae Crowder  Boston Celtics       SF    6-6          Marquette    99.0   \n2     John Holland  Boston Celtics       SG    6-5  Boston University    30.0   \n3      R.J. Hunter  Boston Celtics       SG    6-5      Georgia State    28.0   \n4    Jonas Jerebko  Boston Celtics       PF   6-10                NaN     8.0   \n..             ...             ...      ...    ...                ...     ...   \n452     Trey Lyles       Utah Jazz       PF   6-10           Kentucky    41.0   \n453   Shelvin Mack       Utah Jazz       PG    6-3             Butler     8.0   \n454      Raul Neto       Utah Jazz       PG    6-1                NaN    25.0   \n455   Tibor Pleiss       Utah Jazz        C    7-3                NaN    21.0   \n456    Jeff Withey       Utah Jazz        C    7-0             Kansas    24.0   \n\n      Age  Weight     Salary  \n0    25.0   180.0  7730337.0  \n1    25.0   235.0  6796117.0  \n2    27.0   205.0        0.0  \n3    22.0   185.0  1148640.0  \n4    29.0   231.0  5000000.0  \n..    ...     ...        ...  \n452  20.0   234.0  2239800.0  \n453  26.0   203.0  2433333.0  \n454  24.0   179.0   900000.0  \n455  26.0   256.0  2900000.0  \n456  26.0   231.0   947276.0  \n\n[457 rows x 9 columns]",
      "text/html": "<div>\n<style scoped>\n    .dataframe tbody tr th:only-of-type {\n        vertical-align: middle;\n    }\n\n    .dataframe tbody tr th {\n        vertical-align: top;\n    }\n\n    .dataframe thead th {\n        text-align: right;\n    }\n</style>\n<table border=\"1\" class=\"dataframe\">\n  <thead>\n    <tr style=\"text-align: right;\">\n      <th></th>\n      <th>Name</th>\n      <th>Team</th>\n      <th>Position</th>\n      <th>Height</th>\n      <th>College</th>\n      <th>Number</th>\n      <th>Age</th>\n      <th>Weight</th>\n      <th>Salary</th>\n    </tr>\n  </thead>\n  <tbody>\n    <tr>\n      <th>0</th>\n      <td>Avery Bradley</td>\n      <td>Boston Celtics</td>\n      <td>PG</td>\n      <td>6-2</td>\n      <td>Texas</td>\n      <td>0.0</td>\n      <td>25.0</td>\n      <td>180.0</td>\n      <td>7730337.0</td>\n    </tr>\n    <tr>\n      <th>1</th>\n      <td>Jae Crowder</td>\n      <td>Boston Celtics</td>\n      <td>SF</td>\n      <td>6-6</td>\n      <td>Marquette</td>\n      <td>99.0</td>\n      <td>25.0</td>\n      <td>235.0</td>\n      <td>6796117.0</td>\n    </tr>\n    <tr>\n      <th>2</th>\n      <td>John Holland</td>\n      <td>Boston Celtics</td>\n      <td>SG</td>\n      <td>6-5</td>\n      <td>Boston University</td>\n      <td>30.0</td>\n      <td>27.0</td>\n      <td>205.0</td>\n      <td>0.0</td>\n    </tr>\n    <tr>\n      <th>3</th>\n      <td>R.J. Hunter</td>\n      <td>Boston Celtics</td>\n      <td>SG</td>\n      <td>6-5</td>\n      <td>Georgia State</td>\n      <td>28.0</td>\n      <td>22.0</td>\n      <td>185.0</td>\n      <td>1148640.0</td>\n    </tr>\n    <tr>\n      <th>4</th>\n      <td>Jonas Jerebko</td>\n      <td>Boston Celtics</td>\n      <td>PF</td>\n      <td>6-10</td>\n      <td>NaN</td>\n      <td>8.0</td>\n      <td>29.0</td>\n      <td>231.0</td>\n      <td>5000000.0</td>\n    </tr>\n    <tr>\n      <th>...</th>\n      <td>...</td>\n      <td>...</td>\n      <td>...</td>\n      <td>...</td>\n      <td>...</td>\n      <td>...</td>\n      <td>...</td>\n      <td>...</td>\n      <td>...</td>\n    </tr>\n    <tr>\n      <th>452</th>\n      <td>Trey Lyles</td>\n      <td>Utah Jazz</td>\n      <td>PF</td>\n      <td>6-10</td>\n      <td>Kentucky</td>\n      <td>41.0</td>\n      <td>20.0</td>\n      <td>234.0</td>\n      <td>2239800.0</td>\n    </tr>\n    <tr>\n      <th>453</th>\n      <td>Shelvin Mack</td>\n      <td>Utah Jazz</td>\n      <td>PG</td>\n      <td>6-3</td>\n      <td>Butler</td>\n      <td>8.0</td>\n      <td>26.0</td>\n      <td>203.0</td>\n      <td>2433333.0</td>\n    </tr>\n    <tr>\n      <th>454</th>\n      <td>Raul Neto</td>\n      <td>Utah Jazz</td>\n      <td>PG</td>\n      <td>6-1</td>\n      <td>NaN</td>\n      <td>25.0</td>\n      <td>24.0</td>\n      <td>179.0</td>\n      <td>900000.0</td>\n    </tr>\n    <tr>\n      <th>455</th>\n      <td>Tibor Pleiss</td>\n      <td>Utah Jazz</td>\n      <td>C</td>\n      <td>7-3</td>\n      <td>NaN</td>\n      <td>21.0</td>\n      <td>26.0</td>\n      <td>256.0</td>\n      <td>2900000.0</td>\n    </tr>\n    <tr>\n      <th>456</th>\n      <td>Jeff Withey</td>\n      <td>Utah Jazz</td>\n      <td>C</td>\n      <td>7-0</td>\n      <td>Kansas</td>\n      <td>24.0</td>\n      <td>26.0</td>\n      <td>231.0</td>\n      <td>947276.0</td>\n    </tr>\n  </tbody>\n</table>\n<p>457 rows × 9 columns</p>\n</div>"
     },
     "execution_count": 110,
     "metadata": {},
     "output_type": "execute_result"
    }
   ],
   "source": [
    "nba"
   ],
   "metadata": {
    "collapsed": false,
    "ExecuteTime": {
     "end_time": "2023-09-01T00:09:58.824226200Z",
     "start_time": "2023-09-01T00:09:58.733479800Z"
    }
   }
  },
  {
   "cell_type": "code",
   "execution_count": 111,
   "outputs": [
    {
     "data": {
      "text/plain": "84"
     },
     "execution_count": 111,
     "metadata": {},
     "output_type": "execute_result"
    }
   ],
   "source": [
    "len(nba['College'].loc[nba['College'].isnull()])"
   ],
   "metadata": {
    "collapsed": false,
    "ExecuteTime": {
     "end_time": "2023-09-01T00:09:58.827409600Z",
     "start_time": "2023-09-01T00:09:58.748459900Z"
    }
   }
  },
  {
   "cell_type": "code",
   "execution_count": 112,
   "outputs": [
    {
     "data": {
      "text/plain": "Name         0\nTeam         0\nPosition     0\nHeight       0\nCollege     84\nNumber       0\nAge          0\nWeight       0\nSalary       0\ndtype: int64"
     },
     "execution_count": 112,
     "metadata": {},
     "output_type": "execute_result"
    }
   ],
   "source": [
    "nba.isnull().sum()"
   ],
   "metadata": {
    "collapsed": false,
    "ExecuteTime": {
     "end_time": "2023-09-01T00:09:58.827409600Z",
     "start_time": "2023-09-01T00:09:58.766853100Z"
    }
   }
  },
  {
   "cell_type": "code",
   "execution_count": 113,
   "outputs": [
    {
     "data": {
      "text/plain": "457"
     },
     "execution_count": 113,
     "metadata": {},
     "output_type": "execute_result"
    }
   ],
   "source": [
    "len(nba)"
   ],
   "metadata": {
    "collapsed": false,
    "ExecuteTime": {
     "end_time": "2023-09-01T00:09:58.866693600Z",
     "start_time": "2023-09-01T00:09:58.830461900Z"
    }
   }
  },
  {
   "cell_type": "code",
   "execution_count": 114,
   "metadata": {
    "nbgrader": {
     "grade": false,
     "grade_id": "cell-a78e6c5da54a7081",
     "locked": false,
     "schema_version": 1,
     "solution": true
    },
    "ExecuteTime": {
     "end_time": "2023-09-01T00:09:58.898418500Z",
     "start_time": "2023-09-01T00:09:58.858154700Z"
    }
   },
   "outputs": [
    {
     "name": "stdout",
     "output_type": "stream",
     "text": [
      "Name         0\n",
      "Team         0\n",
      "Position     0\n",
      "Height       0\n",
      "College     84\n",
      "Number       0\n",
      "Age          0\n",
      "Weight       0\n",
      "Salary       0\n",
      "dtype: int64\n",
      "<class 'pandas.core.series.Series'>\n"
     ]
    }
   ],
   "source": [
    "### GRADED\n",
    "\n",
    "nba_nulls = None\n",
    "\n",
    "### BEGIN SOLUTION\n",
    "nba_nulls = nba.isnull().sum()\n",
    "type(nba_nulls)\n",
    "### END SOLUTION\n",
    "\n",
    "# Answer check\n",
    "print(nba_nulls)\n",
    "print(type(nba_nulls))"
   ]
  },
  {
   "cell_type": "code",
   "execution_count": 115,
   "metadata": {
    "nbgrader": {
     "grade": true,
     "grade_id": "cell-8f2d38bd42b42677",
     "locked": true,
     "points": 4,
     "schema_version": 1,
     "solution": false
    },
    "ExecuteTime": {
     "end_time": "2023-09-01T00:09:58.934458900Z",
     "start_time": "2023-09-01T00:09:58.889563800Z"
    }
   },
   "outputs": [],
   "source": [
    "### BEGIN HIDDEN TESTS\n",
    "nba_nulls_ = nba.isnull().sum()\n",
    "#\n",
    "#\n",
    "#\n",
    "assert type(nba_nulls_) == type(nba_nulls)\n",
    "pd.testing.assert_series_equal(nba_nulls, nba_nulls_)\n",
    "### END HIDDEN TESTS"
   ]
  },
  {
   "cell_type": "markdown",
   "source": [
    "[Back to top](#Index:) \n",
    "\n",
    "## Problem 3\n",
    "\n",
    "### Examining top 10 rows\n",
    "\n",
    "**4 Points**\n",
    "\n",
    "Use the `.head` method to display the first 10 rows of the nba data.  Assign your results as a DataFrame to `nba_head` below."
   ],
   "metadata": {
    "collapsed": false
   }
  },
  {
   "cell_type": "code",
   "execution_count": 119,
   "outputs": [
    {
     "data": {
      "text/plain": "            Name            Team Position Height            College  Number  \\\n0  Avery Bradley  Boston Celtics       PG    6-2              Texas     0.0   \n1    Jae Crowder  Boston Celtics       SF    6-6          Marquette    99.0   \n2   John Holland  Boston Celtics       SG    6-5  Boston University    30.0   \n3    R.J. Hunter  Boston Celtics       SG    6-5      Georgia State    28.0   \n4  Jonas Jerebko  Boston Celtics       PF   6-10                NaN     8.0   \n5   Amir Johnson  Boston Celtics       PF    6-9                NaN    90.0   \n6  Jordan Mickey  Boston Celtics       PF    6-8                LSU    55.0   \n7   Kelly Olynyk  Boston Celtics        C    7-0            Gonzaga    41.0   \n8   Terry Rozier  Boston Celtics       PG    6-2         Louisville    12.0   \n9   Marcus Smart  Boston Celtics       PG    6-4     Oklahoma State    36.0   \n\n    Age  Weight      Salary  \n0  25.0   180.0   7730337.0  \n1  25.0   235.0   6796117.0  \n2  27.0   205.0         0.0  \n3  22.0   185.0   1148640.0  \n4  29.0   231.0   5000000.0  \n5  29.0   240.0  12000000.0  \n6  21.0   235.0   1170960.0  \n7  25.0   238.0   2165160.0  \n8  22.0   190.0   1824360.0  \n9  22.0   220.0   3431040.0  ",
      "text/html": "<div>\n<style scoped>\n    .dataframe tbody tr th:only-of-type {\n        vertical-align: middle;\n    }\n\n    .dataframe tbody tr th {\n        vertical-align: top;\n    }\n\n    .dataframe thead th {\n        text-align: right;\n    }\n</style>\n<table border=\"1\" class=\"dataframe\">\n  <thead>\n    <tr style=\"text-align: right;\">\n      <th></th>\n      <th>Name</th>\n      <th>Team</th>\n      <th>Position</th>\n      <th>Height</th>\n      <th>College</th>\n      <th>Number</th>\n      <th>Age</th>\n      <th>Weight</th>\n      <th>Salary</th>\n    </tr>\n  </thead>\n  <tbody>\n    <tr>\n      <th>0</th>\n      <td>Avery Bradley</td>\n      <td>Boston Celtics</td>\n      <td>PG</td>\n      <td>6-2</td>\n      <td>Texas</td>\n      <td>0.0</td>\n      <td>25.0</td>\n      <td>180.0</td>\n      <td>7730337.0</td>\n    </tr>\n    <tr>\n      <th>1</th>\n      <td>Jae Crowder</td>\n      <td>Boston Celtics</td>\n      <td>SF</td>\n      <td>6-6</td>\n      <td>Marquette</td>\n      <td>99.0</td>\n      <td>25.0</td>\n      <td>235.0</td>\n      <td>6796117.0</td>\n    </tr>\n    <tr>\n      <th>2</th>\n      <td>John Holland</td>\n      <td>Boston Celtics</td>\n      <td>SG</td>\n      <td>6-5</td>\n      <td>Boston University</td>\n      <td>30.0</td>\n      <td>27.0</td>\n      <td>205.0</td>\n      <td>0.0</td>\n    </tr>\n    <tr>\n      <th>3</th>\n      <td>R.J. Hunter</td>\n      <td>Boston Celtics</td>\n      <td>SG</td>\n      <td>6-5</td>\n      <td>Georgia State</td>\n      <td>28.0</td>\n      <td>22.0</td>\n      <td>185.0</td>\n      <td>1148640.0</td>\n    </tr>\n    <tr>\n      <th>4</th>\n      <td>Jonas Jerebko</td>\n      <td>Boston Celtics</td>\n      <td>PF</td>\n      <td>6-10</td>\n      <td>NaN</td>\n      <td>8.0</td>\n      <td>29.0</td>\n      <td>231.0</td>\n      <td>5000000.0</td>\n    </tr>\n    <tr>\n      <th>5</th>\n      <td>Amir Johnson</td>\n      <td>Boston Celtics</td>\n      <td>PF</td>\n      <td>6-9</td>\n      <td>NaN</td>\n      <td>90.0</td>\n      <td>29.0</td>\n      <td>240.0</td>\n      <td>12000000.0</td>\n    </tr>\n    <tr>\n      <th>6</th>\n      <td>Jordan Mickey</td>\n      <td>Boston Celtics</td>\n      <td>PF</td>\n      <td>6-8</td>\n      <td>LSU</td>\n      <td>55.0</td>\n      <td>21.0</td>\n      <td>235.0</td>\n      <td>1170960.0</td>\n    </tr>\n    <tr>\n      <th>7</th>\n      <td>Kelly Olynyk</td>\n      <td>Boston Celtics</td>\n      <td>C</td>\n      <td>7-0</td>\n      <td>Gonzaga</td>\n      <td>41.0</td>\n      <td>25.0</td>\n      <td>238.0</td>\n      <td>2165160.0</td>\n    </tr>\n    <tr>\n      <th>8</th>\n      <td>Terry Rozier</td>\n      <td>Boston Celtics</td>\n      <td>PG</td>\n      <td>6-2</td>\n      <td>Louisville</td>\n      <td>12.0</td>\n      <td>22.0</td>\n      <td>190.0</td>\n      <td>1824360.0</td>\n    </tr>\n    <tr>\n      <th>9</th>\n      <td>Marcus Smart</td>\n      <td>Boston Celtics</td>\n      <td>PG</td>\n      <td>6-4</td>\n      <td>Oklahoma State</td>\n      <td>36.0</td>\n      <td>22.0</td>\n      <td>220.0</td>\n      <td>3431040.0</td>\n    </tr>\n  </tbody>\n</table>\n</div>"
     },
     "execution_count": 119,
     "metadata": {},
     "output_type": "execute_result"
    }
   ],
   "source": [
    "nba.head(10)"
   ],
   "metadata": {
    "collapsed": false,
    "ExecuteTime": {
     "end_time": "2023-09-01T00:11:21.506419800Z",
     "start_time": "2023-09-01T00:11:21.481945900Z"
    }
   }
  },
  {
   "cell_type": "code",
   "execution_count": 116,
   "outputs": [
    {
     "name": "stdout",
     "output_type": "stream",
     "text": [
      "<class 'pandas.core.frame.DataFrame'>\n",
      "(10, 9)\n"
     ]
    }
   ],
   "source": [
    "### GRADED\n",
    "\n",
    "nba_head = None\n",
    "\n",
    "### BEGIN SOLUTION\n",
    "nba_head = nba.head(10)\n",
    "type(nba_head)\n",
    "### END SOLUTION\n",
    "\n",
    "# Answer check\n",
    "print(type(nba_head))\n",
    "print(nba_head.shape)"
   ],
   "metadata": {
    "collapsed": false,
    "ExecuteTime": {
     "end_time": "2023-09-01T00:09:58.948538400Z",
     "start_time": "2023-09-01T00:09:58.922499500Z"
    }
   }
  },
  {
   "cell_type": "code",
   "execution_count": 117,
   "outputs": [],
   "source": [
    "### BEGIN HIDDEN TESTS\n",
    "nba_head_ = nba.head(10)\n",
    "#\n",
    "#\n",
    "#\n",
    "assert type(nba_head_) == type(nba_head)\n",
    "pd.testing.assert_frame_equal(nba_head, nba_head_, 'Make sure to select the first 10 rows.')\n",
    "### END HIDDEN TESTS"
   ],
   "metadata": {
    "collapsed": false,
    "ExecuteTime": {
     "end_time": "2023-09-01T00:09:58.971535900Z",
     "start_time": "2023-09-01T00:09:58.950598400Z"
    }
   }
  },
  {
   "cell_type": "markdown",
   "source": [
    "# Plamen Testing\n"
   ],
   "metadata": {
    "collapsed": false
   }
  },
  {
   "cell_type": "code",
   "execution_count": 118,
   "outputs": [
    {
     "data": {
      "text/plain": "5"
     },
     "execution_count": 118,
     "metadata": {},
     "output_type": "execute_result"
    }
   ],
   "source": [
    "2 + 3"
   ],
   "metadata": {
    "collapsed": false,
    "ExecuteTime": {
     "end_time": "2023-09-01T00:09:58.983538700Z",
     "start_time": "2023-09-01T00:09:58.966548500Z"
    }
   }
  }
 ],
 "metadata": {
  "celltoolbar": "Create Assignment",
  "kernelspec": {
   "display_name": "Python 3",
   "language": "python",
   "name": "python3"
  },
  "language_info": {
   "codemirror_mode": {
    "name": "ipython",
    "version": 3
   },
   "file_extension": ".py",
   "mimetype": "text/x-python",
   "name": "python",
   "nbconvert_exporter": "python",
   "pygments_lexer": "ipython3",
   "version": "3.6.9"
  },
  "widgets": {
   "application/vnd.jupyter.widget-state+json": {
    "state": {},
    "version_major": 2,
    "version_minor": 0
   }
  }
 },
 "nbformat": 4,
 "nbformat_minor": 4
}
