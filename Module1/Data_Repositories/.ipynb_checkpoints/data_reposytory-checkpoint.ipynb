{
 "cells": [
  {
   "cell_type": "markdown",
   "source": [
    "#### Description: \n",
    "This dataset includes the financial information collected from Yahoo Finance and includes all U.S. Mutual Funds and along with their historical prices. The file contains 23,783 Mutual Funds and 2,310 ETFs with:\n",
    "General fund aspects (e.g. total_net_assets, fund family, inception date, etc.)\n",
    "Portfolio indicators (e.g. cash, stocks, bonds, sectors, etc.)\n",
    "Historical yearly and quarterly returns (e.g. year_to_date, 1-year, 3-years, etc.)\n",
    "Financial ratios (price/earning, Treynor and Sharpe ratios, alpha, and beta)\n",
    "ESG scores\n",
    "\n",
    "#### Use Cases: \n",
    "Private investor and Corporate institutions\n",
    "Trading Strategies: Design and validate trading techniques based on mutual funds and ETFs.\n",
    "Risk Management: Use the data for hedging decisions and risk management for businesses.\n",
    "\n",
    "#### Source:\n",
    "url = https://storage.googleapis.com/kaggle-data-sets/55721/2915265/bundle/archive.zip\n",
    "\n"
   ],
   "metadata": {
    "collapsed": false
   },
   "id": "1141f257af1e0545"
  },
  {
   "cell_type": "code",
   "execution_count": 17,
   "outputs": [
    {
     "data": {
      "text/plain": "      fund_symbol  quote_type region                  fund_short_name  \\\n0           AAAAX  MutualFund     US  DWS RREEF Real Assets Fund - Cl   \n1           AAAEX  MutualFund     US  AllianzGI Health Sciences Fund    \n2           AAAFX  MutualFund     US                              NaN   \n3           AAAGX  MutualFund     US  Thrivent Large Cap Growth Fund    \n4           AAAHX  MutualFund     US                              NaN   \n...           ...         ...    ...                              ...   \n23778       ZVNIX  MutualFund     US  Fidelity Advisor Small Cap Valu   \n23779       VHYAX  MutualFund     US  Capital World Bond Fund - Class   \n23780       VIAAX  MutualFund     US  Capital World Growth and Income   \n23781       VIHAX  MutualFund     US      Templeton China World Cl R6   \n23782       TSWHX  MutualFund     US      Fidelity Select Industrials   \n\n                                          fund_long_name currency  \\\n0                   DWS RREEF Real Assets Fund - Class A      USD   \n1          Virtus AllianzGI Health Sciences Fund Class P      USD   \n2      American Century One Choice Blend+ 2015 Portfo...      USD   \n3                 Thrivent Large Cap Growth Fund Class A      USD   \n4      American Century One Choice Blend+ 2015 Portfo...      USD   \n...                                                  ...      ...   \n23778      Fidelity Advisor Small Cap Value Fund Class M      USD   \n23779  American Funds Capital World Bond Fund Class 5...      USD   \n23780  American Funds Capital World Growth and Income...      USD   \n23781                Templeton China World Fund Class R6      USD   \n23782              Fidelity Select Industrials Portfolio      USD   \n\n       initial_investment  subsequent_investment         fund_category  \\\n0                  1000.0                   50.0      World Allocation   \n1               1000000.0                    NaN                Health   \n2                  2500.0                   50.0      Target-Date 2015   \n3                  2000.0                   50.0          Large Growth   \n4               5000000.0                    NaN      Target-Date 2015   \n...                   ...                    ...                   ...   \n23778             50000.0                  500.0          Large Growth   \n23779              3000.0                    1.0           Large Value   \n23780              3000.0                    1.0  Foreign Large Growth   \n23781              3000.0                    1.0   Foreign Large Value   \n23782           1000000.0                    NaN       High Yield Bond   \n\n                          fund_family  ... peer_environment_avg  \\\n0                                 DWS  ...                 5.05   \n1                              Virtus  ...                 1.43   \n2        American Century Investments  ...                  NaN   \n3                      Thrivent Funds  ...                 2.70   \n4        American Century Investments  ...                  NaN   \n...                               ...  ...                  ...   \n23778            Fidelity Investments  ...                 2.70   \n23779                  American Funds  ...                 5.00   \n23780                  American Funds  ...                 3.87   \n23781  Franklin Templeton Investments  ...                 5.35   \n23782            Fidelity Investments  ...                  NaN   \n\n      peer_environment_max social_score peer_social_min peer_social_avg  \\\n0                    10.58         7.43            5.98            9.07   \n1                     3.27        12.96            9.52           12.87   \n2                      NaN          NaN             NaN             NaN   \n3                     5.81        10.13            7.25           10.14   \n4                      NaN          NaN             NaN             NaN   \n...                    ...          ...             ...             ...   \n23778                 5.81        10.53            7.25           10.14   \n23779                 9.11        10.83            7.04           10.48   \n23780                 6.22         8.53            7.25            8.96   \n23781                11.49         9.55            6.59            9.24   \n23782                  NaN          NaN             NaN             NaN   \n\n      peer_social_max  governance_score  peer_governance_min  \\\n0               11.30              5.43                 4.26   \n1               15.08              8.40                 4.96   \n2                 NaN               NaN                  NaN   \n3               11.97              8.03                 5.30   \n4                 NaN               NaN                  NaN   \n...               ...               ...                  ...   \n23778           11.97              7.25                 5.30   \n23779           12.42              7.84                 5.83   \n23780           11.96              7.70                 5.79   \n23781           11.66              8.79                 5.79   \n23782             NaN               NaN                  NaN   \n\n       peer_governance_avg  peer_governance_max  \n0                     7.14                 8.11  \n1                     7.68                10.30  \n2                      NaN                  NaN  \n3                     7.54                 8.90  \n4                      NaN                  NaN  \n...                    ...                  ...  \n23778                 7.54                 8.90  \n23779                 7.71                 9.30  \n23780                 7.42                 8.78  \n23781                 8.10                10.85  \n23782                  NaN                  NaN  \n\n[23783 rows x 298 columns]",
      "text/html": "<div>\n<style scoped>\n    .dataframe tbody tr th:only-of-type {\n        vertical-align: middle;\n    }\n\n    .dataframe tbody tr th {\n        vertical-align: top;\n    }\n\n    .dataframe thead th {\n        text-align: right;\n    }\n</style>\n<table border=\"1\" class=\"dataframe\">\n  <thead>\n    <tr style=\"text-align: right;\">\n      <th></th>\n      <th>fund_symbol</th>\n      <th>quote_type</th>\n      <th>region</th>\n      <th>fund_short_name</th>\n      <th>fund_long_name</th>\n      <th>currency</th>\n      <th>initial_investment</th>\n      <th>subsequent_investment</th>\n      <th>fund_category</th>\n      <th>fund_family</th>\n      <th>...</th>\n      <th>peer_environment_avg</th>\n      <th>peer_environment_max</th>\n      <th>social_score</th>\n      <th>peer_social_min</th>\n      <th>peer_social_avg</th>\n      <th>peer_social_max</th>\n      <th>governance_score</th>\n      <th>peer_governance_min</th>\n      <th>peer_governance_avg</th>\n      <th>peer_governance_max</th>\n    </tr>\n  </thead>\n  <tbody>\n    <tr>\n      <th>0</th>\n      <td>AAAAX</td>\n      <td>MutualFund</td>\n      <td>US</td>\n      <td>DWS RREEF Real Assets Fund - Cl</td>\n      <td>DWS RREEF Real Assets Fund - Class A</td>\n      <td>USD</td>\n      <td>1000.0</td>\n      <td>50.0</td>\n      <td>World Allocation</td>\n      <td>DWS</td>\n      <td>...</td>\n      <td>5.05</td>\n      <td>10.58</td>\n      <td>7.43</td>\n      <td>5.98</td>\n      <td>9.07</td>\n      <td>11.30</td>\n      <td>5.43</td>\n      <td>4.26</td>\n      <td>7.14</td>\n      <td>8.11</td>\n    </tr>\n    <tr>\n      <th>1</th>\n      <td>AAAEX</td>\n      <td>MutualFund</td>\n      <td>US</td>\n      <td>AllianzGI Health Sciences Fund</td>\n      <td>Virtus AllianzGI Health Sciences Fund Class P</td>\n      <td>USD</td>\n      <td>1000000.0</td>\n      <td>NaN</td>\n      <td>Health</td>\n      <td>Virtus</td>\n      <td>...</td>\n      <td>1.43</td>\n      <td>3.27</td>\n      <td>12.96</td>\n      <td>9.52</td>\n      <td>12.87</td>\n      <td>15.08</td>\n      <td>8.40</td>\n      <td>4.96</td>\n      <td>7.68</td>\n      <td>10.30</td>\n    </tr>\n    <tr>\n      <th>2</th>\n      <td>AAAFX</td>\n      <td>MutualFund</td>\n      <td>US</td>\n      <td>NaN</td>\n      <td>American Century One Choice Blend+ 2015 Portfo...</td>\n      <td>USD</td>\n      <td>2500.0</td>\n      <td>50.0</td>\n      <td>Target-Date 2015</td>\n      <td>American Century Investments</td>\n      <td>...</td>\n      <td>NaN</td>\n      <td>NaN</td>\n      <td>NaN</td>\n      <td>NaN</td>\n      <td>NaN</td>\n      <td>NaN</td>\n      <td>NaN</td>\n      <td>NaN</td>\n      <td>NaN</td>\n      <td>NaN</td>\n    </tr>\n    <tr>\n      <th>3</th>\n      <td>AAAGX</td>\n      <td>MutualFund</td>\n      <td>US</td>\n      <td>Thrivent Large Cap Growth Fund</td>\n      <td>Thrivent Large Cap Growth Fund Class A</td>\n      <td>USD</td>\n      <td>2000.0</td>\n      <td>50.0</td>\n      <td>Large Growth</td>\n      <td>Thrivent Funds</td>\n      <td>...</td>\n      <td>2.70</td>\n      <td>5.81</td>\n      <td>10.13</td>\n      <td>7.25</td>\n      <td>10.14</td>\n      <td>11.97</td>\n      <td>8.03</td>\n      <td>5.30</td>\n      <td>7.54</td>\n      <td>8.90</td>\n    </tr>\n    <tr>\n      <th>4</th>\n      <td>AAAHX</td>\n      <td>MutualFund</td>\n      <td>US</td>\n      <td>NaN</td>\n      <td>American Century One Choice Blend+ 2015 Portfo...</td>\n      <td>USD</td>\n      <td>5000000.0</td>\n      <td>NaN</td>\n      <td>Target-Date 2015</td>\n      <td>American Century Investments</td>\n      <td>...</td>\n      <td>NaN</td>\n      <td>NaN</td>\n      <td>NaN</td>\n      <td>NaN</td>\n      <td>NaN</td>\n      <td>NaN</td>\n      <td>NaN</td>\n      <td>NaN</td>\n      <td>NaN</td>\n      <td>NaN</td>\n    </tr>\n    <tr>\n      <th>...</th>\n      <td>...</td>\n      <td>...</td>\n      <td>...</td>\n      <td>...</td>\n      <td>...</td>\n      <td>...</td>\n      <td>...</td>\n      <td>...</td>\n      <td>...</td>\n      <td>...</td>\n      <td>...</td>\n      <td>...</td>\n      <td>...</td>\n      <td>...</td>\n      <td>...</td>\n      <td>...</td>\n      <td>...</td>\n      <td>...</td>\n      <td>...</td>\n      <td>...</td>\n      <td>...</td>\n    </tr>\n    <tr>\n      <th>23778</th>\n      <td>ZVNIX</td>\n      <td>MutualFund</td>\n      <td>US</td>\n      <td>Fidelity Advisor Small Cap Valu</td>\n      <td>Fidelity Advisor Small Cap Value Fund Class M</td>\n      <td>USD</td>\n      <td>50000.0</td>\n      <td>500.0</td>\n      <td>Large Growth</td>\n      <td>Fidelity Investments</td>\n      <td>...</td>\n      <td>2.70</td>\n      <td>5.81</td>\n      <td>10.53</td>\n      <td>7.25</td>\n      <td>10.14</td>\n      <td>11.97</td>\n      <td>7.25</td>\n      <td>5.30</td>\n      <td>7.54</td>\n      <td>8.90</td>\n    </tr>\n    <tr>\n      <th>23779</th>\n      <td>VHYAX</td>\n      <td>MutualFund</td>\n      <td>US</td>\n      <td>Capital World Bond Fund - Class</td>\n      <td>American Funds Capital World Bond Fund Class 5...</td>\n      <td>USD</td>\n      <td>3000.0</td>\n      <td>1.0</td>\n      <td>Large Value</td>\n      <td>American Funds</td>\n      <td>...</td>\n      <td>5.00</td>\n      <td>9.11</td>\n      <td>10.83</td>\n      <td>7.04</td>\n      <td>10.48</td>\n      <td>12.42</td>\n      <td>7.84</td>\n      <td>5.83</td>\n      <td>7.71</td>\n      <td>9.30</td>\n    </tr>\n    <tr>\n      <th>23780</th>\n      <td>VIAAX</td>\n      <td>MutualFund</td>\n      <td>US</td>\n      <td>Capital World Growth and Income</td>\n      <td>American Funds Capital World Growth and Income...</td>\n      <td>USD</td>\n      <td>3000.0</td>\n      <td>1.0</td>\n      <td>Foreign Large Growth</td>\n      <td>American Funds</td>\n      <td>...</td>\n      <td>3.87</td>\n      <td>6.22</td>\n      <td>8.53</td>\n      <td>7.25</td>\n      <td>8.96</td>\n      <td>11.96</td>\n      <td>7.70</td>\n      <td>5.79</td>\n      <td>7.42</td>\n      <td>8.78</td>\n    </tr>\n    <tr>\n      <th>23781</th>\n      <td>VIHAX</td>\n      <td>MutualFund</td>\n      <td>US</td>\n      <td>Templeton China World Cl R6</td>\n      <td>Templeton China World Fund Class R6</td>\n      <td>USD</td>\n      <td>3000.0</td>\n      <td>1.0</td>\n      <td>Foreign Large Value</td>\n      <td>Franklin Templeton Investments</td>\n      <td>...</td>\n      <td>5.35</td>\n      <td>11.49</td>\n      <td>9.55</td>\n      <td>6.59</td>\n      <td>9.24</td>\n      <td>11.66</td>\n      <td>8.79</td>\n      <td>5.79</td>\n      <td>8.10</td>\n      <td>10.85</td>\n    </tr>\n    <tr>\n      <th>23782</th>\n      <td>TSWHX</td>\n      <td>MutualFund</td>\n      <td>US</td>\n      <td>Fidelity Select Industrials</td>\n      <td>Fidelity Select Industrials Portfolio</td>\n      <td>USD</td>\n      <td>1000000.0</td>\n      <td>NaN</td>\n      <td>High Yield Bond</td>\n      <td>Fidelity Investments</td>\n      <td>...</td>\n      <td>NaN</td>\n      <td>NaN</td>\n      <td>NaN</td>\n      <td>NaN</td>\n      <td>NaN</td>\n      <td>NaN</td>\n      <td>NaN</td>\n      <td>NaN</td>\n      <td>NaN</td>\n      <td>NaN</td>\n    </tr>\n  </tbody>\n</table>\n<p>23783 rows × 298 columns</p>\n</div>"
     },
     "execution_count": 17,
     "metadata": {},
     "output_type": "execute_result"
    }
   ],
   "source": [
    "#dataframe\n",
    "import pandas as pd\n",
    "data_funds = pd.read_csv('data/mutual_funds_data.csv')\n",
    "data_funds"
   ],
   "metadata": {
    "collapsed": false,
    "ExecuteTime": {
     "end_time": "2023-09-05T02:15:41.440050200Z",
     "start_time": "2023-09-05T02:15:40.743057800Z"
    }
   },
   "id": "initial_id"
  },
  {
   "cell_type": "code",
   "execution_count": 18,
   "outputs": [
    {
     "data": {
      "text/plain": "(23783, 298)"
     },
     "execution_count": 18,
     "metadata": {},
     "output_type": "execute_result"
    }
   ],
   "source": [
    "data_funds.shape"
   ],
   "metadata": {
    "collapsed": false,
    "ExecuteTime": {
     "end_time": "2023-09-05T02:15:41.479119100Z",
     "start_time": "2023-09-05T02:15:41.441055400Z"
    }
   },
   "id": "25c0cda31fd135c6"
  },
  {
   "cell_type": "code",
   "execution_count": 19,
   "outputs": [
    {
     "data": {
      "text/plain": "       initial_investment  subsequent_investment  total_net_assets  \\\ncount        1.648500e+04            8943.000000      2.374900e+04   \nmean         5.179181e+06            1015.925752      4.924192e+09   \nstd          9.253584e+07           11023.969484      2.109765e+10   \nmin          1.000000e+01               1.000000      1.000000e+01   \n25%          1.000000e+03              50.000000      1.445834e+08   \n50%          2.500000e+03              50.000000      6.443283e+08   \n75%          5.000000e+05             100.000000      2.453409e+09   \nmax          5.000000e+09          500000.000000      7.534100e+11   \n\n       year_to_date_return  day50_moving_average  day200_moving_average  \\\ncount         23382.000000          23782.000000           23782.000000   \nmean              0.093485             23.638731              23.084989   \nstd               0.082276             33.126315              31.552946   \nmin              -0.522800              1.279000               1.363000   \n25%               0.026100             10.997250              10.968000   \n50%               0.092000             14.959500              14.709000   \n75%               0.149700             25.184500              24.693250   \nmax               0.578900           2018.338000            1920.319000   \n\n       week52_high_low_change  week52_high_low_change_perc   week52_high  \\\ncount            23496.000000                 23496.000000  23496.000000   \nmean                 4.643490                     0.146057     24.995830   \nstd                  9.312633                     0.092420     35.208749   \nmin                  0.000000                     0.000000      1.700000   \n25%                  0.750000                     0.061890     11.350000   \n50%                  2.420000                     0.149255     15.660000   \n75%                  5.390000                     0.211635     26.680000   \nmax                455.750000                     0.882960   2092.820000   \n\n       week52_high_change  ...  peer_environment_avg  peer_environment_max  \\\ncount        23421.000000  ...          14839.000000          14839.000000   \nmean            -1.957576  ...              4.357856              7.675547   \nstd              4.069716  ...              1.498273              2.838513   \nmin           -101.420040  ...              0.750000              0.830000   \n25%             -1.960000  ...              3.810000              5.810000   \n50%             -0.800000  ...              4.080000              7.420000   \n75%             -0.340000  ...              5.000000              9.890000   \nmax              0.004900  ...             14.350000             21.290000   \n\n       social_score  peer_social_min  peer_social_avg  peer_social_max  \\\ncount  15388.000000     14839.000000     14839.000000     14839.000000   \nmean       8.043626         6.906983         9.346850        11.308239   \nstd        3.674170         1.167251         1.204409         1.732701   \nmin        0.000000         2.300000         4.410000         5.860000   \n25%        8.240000         6.530000         9.060000        10.710000   \n50%        9.480000         7.040000         9.450000        11.520000   \n75%       10.190000         7.420000        10.120000        12.040000   \nmax       15.080000        14.780000        14.790000        17.250000   \n\n       governance_score  peer_governance_min  peer_governance_avg  \\\ncount      15388.000000         14839.000000         14839.000000   \nmean           6.210819             5.387539             7.219275   \nstd            2.800713             0.748176             0.820705   \nmin            0.000000             2.610000             3.040000   \n25%            6.230000             5.050000             6.930000   \n50%            7.350000             5.300000             7.420000   \n75%            7.740000             5.830000             7.540000   \nmax           14.020000            11.650000            11.650000   \n\n       peer_governance_max  \ncount         14839.000000  \nmean              8.917380  \nstd               1.364138  \nmin               3.310000  \n25%               7.950000  \n50%               8.950000  \n75%               9.650000  \nmax              15.300000  \n\n[8 rows x 277 columns]",
      "text/html": "<div>\n<style scoped>\n    .dataframe tbody tr th:only-of-type {\n        vertical-align: middle;\n    }\n\n    .dataframe tbody tr th {\n        vertical-align: top;\n    }\n\n    .dataframe thead th {\n        text-align: right;\n    }\n</style>\n<table border=\"1\" class=\"dataframe\">\n  <thead>\n    <tr style=\"text-align: right;\">\n      <th></th>\n      <th>initial_investment</th>\n      <th>subsequent_investment</th>\n      <th>total_net_assets</th>\n      <th>year_to_date_return</th>\n      <th>day50_moving_average</th>\n      <th>day200_moving_average</th>\n      <th>week52_high_low_change</th>\n      <th>week52_high_low_change_perc</th>\n      <th>week52_high</th>\n      <th>week52_high_change</th>\n      <th>...</th>\n      <th>peer_environment_avg</th>\n      <th>peer_environment_max</th>\n      <th>social_score</th>\n      <th>peer_social_min</th>\n      <th>peer_social_avg</th>\n      <th>peer_social_max</th>\n      <th>governance_score</th>\n      <th>peer_governance_min</th>\n      <th>peer_governance_avg</th>\n      <th>peer_governance_max</th>\n    </tr>\n  </thead>\n  <tbody>\n    <tr>\n      <th>count</th>\n      <td>1.648500e+04</td>\n      <td>8943.000000</td>\n      <td>2.374900e+04</td>\n      <td>23382.000000</td>\n      <td>23782.000000</td>\n      <td>23782.000000</td>\n      <td>23496.000000</td>\n      <td>23496.000000</td>\n      <td>23496.000000</td>\n      <td>23421.000000</td>\n      <td>...</td>\n      <td>14839.000000</td>\n      <td>14839.000000</td>\n      <td>15388.000000</td>\n      <td>14839.000000</td>\n      <td>14839.000000</td>\n      <td>14839.000000</td>\n      <td>15388.000000</td>\n      <td>14839.000000</td>\n      <td>14839.000000</td>\n      <td>14839.000000</td>\n    </tr>\n    <tr>\n      <th>mean</th>\n      <td>5.179181e+06</td>\n      <td>1015.925752</td>\n      <td>4.924192e+09</td>\n      <td>0.093485</td>\n      <td>23.638731</td>\n      <td>23.084989</td>\n      <td>4.643490</td>\n      <td>0.146057</td>\n      <td>24.995830</td>\n      <td>-1.957576</td>\n      <td>...</td>\n      <td>4.357856</td>\n      <td>7.675547</td>\n      <td>8.043626</td>\n      <td>6.906983</td>\n      <td>9.346850</td>\n      <td>11.308239</td>\n      <td>6.210819</td>\n      <td>5.387539</td>\n      <td>7.219275</td>\n      <td>8.917380</td>\n    </tr>\n    <tr>\n      <th>std</th>\n      <td>9.253584e+07</td>\n      <td>11023.969484</td>\n      <td>2.109765e+10</td>\n      <td>0.082276</td>\n      <td>33.126315</td>\n      <td>31.552946</td>\n      <td>9.312633</td>\n      <td>0.092420</td>\n      <td>35.208749</td>\n      <td>4.069716</td>\n      <td>...</td>\n      <td>1.498273</td>\n      <td>2.838513</td>\n      <td>3.674170</td>\n      <td>1.167251</td>\n      <td>1.204409</td>\n      <td>1.732701</td>\n      <td>2.800713</td>\n      <td>0.748176</td>\n      <td>0.820705</td>\n      <td>1.364138</td>\n    </tr>\n    <tr>\n      <th>min</th>\n      <td>1.000000e+01</td>\n      <td>1.000000</td>\n      <td>1.000000e+01</td>\n      <td>-0.522800</td>\n      <td>1.279000</td>\n      <td>1.363000</td>\n      <td>0.000000</td>\n      <td>0.000000</td>\n      <td>1.700000</td>\n      <td>-101.420040</td>\n      <td>...</td>\n      <td>0.750000</td>\n      <td>0.830000</td>\n      <td>0.000000</td>\n      <td>2.300000</td>\n      <td>4.410000</td>\n      <td>5.860000</td>\n      <td>0.000000</td>\n      <td>2.610000</td>\n      <td>3.040000</td>\n      <td>3.310000</td>\n    </tr>\n    <tr>\n      <th>25%</th>\n      <td>1.000000e+03</td>\n      <td>50.000000</td>\n      <td>1.445834e+08</td>\n      <td>0.026100</td>\n      <td>10.997250</td>\n      <td>10.968000</td>\n      <td>0.750000</td>\n      <td>0.061890</td>\n      <td>11.350000</td>\n      <td>-1.960000</td>\n      <td>...</td>\n      <td>3.810000</td>\n      <td>5.810000</td>\n      <td>8.240000</td>\n      <td>6.530000</td>\n      <td>9.060000</td>\n      <td>10.710000</td>\n      <td>6.230000</td>\n      <td>5.050000</td>\n      <td>6.930000</td>\n      <td>7.950000</td>\n    </tr>\n    <tr>\n      <th>50%</th>\n      <td>2.500000e+03</td>\n      <td>50.000000</td>\n      <td>6.443283e+08</td>\n      <td>0.092000</td>\n      <td>14.959500</td>\n      <td>14.709000</td>\n      <td>2.420000</td>\n      <td>0.149255</td>\n      <td>15.660000</td>\n      <td>-0.800000</td>\n      <td>...</td>\n      <td>4.080000</td>\n      <td>7.420000</td>\n      <td>9.480000</td>\n      <td>7.040000</td>\n      <td>9.450000</td>\n      <td>11.520000</td>\n      <td>7.350000</td>\n      <td>5.300000</td>\n      <td>7.420000</td>\n      <td>8.950000</td>\n    </tr>\n    <tr>\n      <th>75%</th>\n      <td>5.000000e+05</td>\n      <td>100.000000</td>\n      <td>2.453409e+09</td>\n      <td>0.149700</td>\n      <td>25.184500</td>\n      <td>24.693250</td>\n      <td>5.390000</td>\n      <td>0.211635</td>\n      <td>26.680000</td>\n      <td>-0.340000</td>\n      <td>...</td>\n      <td>5.000000</td>\n      <td>9.890000</td>\n      <td>10.190000</td>\n      <td>7.420000</td>\n      <td>10.120000</td>\n      <td>12.040000</td>\n      <td>7.740000</td>\n      <td>5.830000</td>\n      <td>7.540000</td>\n      <td>9.650000</td>\n    </tr>\n    <tr>\n      <th>max</th>\n      <td>5.000000e+09</td>\n      <td>500000.000000</td>\n      <td>7.534100e+11</td>\n      <td>0.578900</td>\n      <td>2018.338000</td>\n      <td>1920.319000</td>\n      <td>455.750000</td>\n      <td>0.882960</td>\n      <td>2092.820000</td>\n      <td>0.004900</td>\n      <td>...</td>\n      <td>14.350000</td>\n      <td>21.290000</td>\n      <td>15.080000</td>\n      <td>14.780000</td>\n      <td>14.790000</td>\n      <td>17.250000</td>\n      <td>14.020000</td>\n      <td>11.650000</td>\n      <td>11.650000</td>\n      <td>15.300000</td>\n    </tr>\n  </tbody>\n</table>\n<p>8 rows × 277 columns</p>\n</div>"
     },
     "execution_count": 19,
     "metadata": {},
     "output_type": "execute_result"
    }
   ],
   "source": [
    "data_funds.describe()"
   ],
   "metadata": {
    "collapsed": false,
    "ExecuteTime": {
     "end_time": "2023-09-05T02:15:41.901222100Z",
     "start_time": "2023-09-05T02:15:41.455742700Z"
    }
   },
   "id": "fce526d308b93c9b"
  },
  {
   "cell_type": "markdown",
   "source": [
    "#### Description: \n",
    "A blockchain is a distributed ledger with growing lists of records (blocks) that are securely linked together via cryptographic hashes. Each block contains a cryptographic hash of the previous block, a timestamp, and transaction data (generally represented as a Merkle tree, where data nodes are represented by leaves)\n",
    "\n",
    "#### Use Cases: \n",
    "Individual researches and developers to be able to analyze the blockchain deeply or even train machine learning models in just a few minutes, instead of several hours/days\n",
    "\n",
    "#### Source:\n",
    "url = https://storage.googleapis.com/kaggle-data-sets/3554939/6359065/bundle/archive.zip"
   ],
   "metadata": {
    "collapsed": false
   },
   "id": "ee944cefc01315cb"
  },
  {
   "cell_type": "code",
   "execution_count": 20,
   "outputs": [
    {
     "data": {
      "text/plain": "        height      timestamp     size  tx_count    difficulty  \\\n0            1  1231469665000      215         1  1.000000e+00   \n1            2  1231469744000      215         1  1.000000e+00   \n2            3  1231470173000      215         1  1.000000e+00   \n3            4  1231470988000      215         1  1.000000e+00   \n4            5  1231471428000      215         1  1.000000e+00   \n...        ...            ...      ...       ...           ...   \n804663  804664  1692882889000  1668438      2761  5.562144e+13   \n804664  804665  1692883478000  1393602      2977  5.562144e+13   \n804665  804666  1692883741000  1972901      5807  5.562144e+13   \n804666  804667  1692885144000  1536390      3794  5.562144e+13   \n804667  804668  1692885738000  1431158      2354  5.562144e+13   \n\n        median_fee_rate  avg_fee_rate  total_fees  fee_range_min  \\\n0              0.000000             0           0       0.000000   \n1              0.000000             0           0       0.000000   \n2              0.000000             0           0       0.000000   \n3              0.000000             0           0       0.000000   \n4              0.000000             0           0       0.000000   \n...                 ...           ...         ...            ...   \n804663         6.980994             7     7057459       6.397059   \n804664        14.074866            20    20772172       6.419118   \n804665         6.426471             8     8481713       6.397059   \n804666        14.074866            18    18722309       8.520249   \n804667        10.001966            13    13348783       7.018868   \n\n        fee_range_max  input_count  output_count  output_amount  \n0            0.000000            0             1              0  \n1            0.000000            0             1              0  \n2            0.000000            0             1              0  \n3            0.000000            0             1              0  \n4            0.000000            0             1              0  \n...               ...          ...           ...            ...  \n804663      35.686275         6689         11582    36150240896  \n804664     760.452962         5291          8314   915303123154  \n804665     225.225225         7080          8775   143619008510  \n804666     500.000000         6508         12022  1587385460492  \n804667     365.700185         6867          7351   748544084803  \n\n[804668 rows x 13 columns]",
      "text/html": "<div>\n<style scoped>\n    .dataframe tbody tr th:only-of-type {\n        vertical-align: middle;\n    }\n\n    .dataframe tbody tr th {\n        vertical-align: top;\n    }\n\n    .dataframe thead th {\n        text-align: right;\n    }\n</style>\n<table border=\"1\" class=\"dataframe\">\n  <thead>\n    <tr style=\"text-align: right;\">\n      <th></th>\n      <th>height</th>\n      <th>timestamp</th>\n      <th>size</th>\n      <th>tx_count</th>\n      <th>difficulty</th>\n      <th>median_fee_rate</th>\n      <th>avg_fee_rate</th>\n      <th>total_fees</th>\n      <th>fee_range_min</th>\n      <th>fee_range_max</th>\n      <th>input_count</th>\n      <th>output_count</th>\n      <th>output_amount</th>\n    </tr>\n  </thead>\n  <tbody>\n    <tr>\n      <th>0</th>\n      <td>1</td>\n      <td>1231469665000</td>\n      <td>215</td>\n      <td>1</td>\n      <td>1.000000e+00</td>\n      <td>0.000000</td>\n      <td>0</td>\n      <td>0</td>\n      <td>0.000000</td>\n      <td>0.000000</td>\n      <td>0</td>\n      <td>1</td>\n      <td>0</td>\n    </tr>\n    <tr>\n      <th>1</th>\n      <td>2</td>\n      <td>1231469744000</td>\n      <td>215</td>\n      <td>1</td>\n      <td>1.000000e+00</td>\n      <td>0.000000</td>\n      <td>0</td>\n      <td>0</td>\n      <td>0.000000</td>\n      <td>0.000000</td>\n      <td>0</td>\n      <td>1</td>\n      <td>0</td>\n    </tr>\n    <tr>\n      <th>2</th>\n      <td>3</td>\n      <td>1231470173000</td>\n      <td>215</td>\n      <td>1</td>\n      <td>1.000000e+00</td>\n      <td>0.000000</td>\n      <td>0</td>\n      <td>0</td>\n      <td>0.000000</td>\n      <td>0.000000</td>\n      <td>0</td>\n      <td>1</td>\n      <td>0</td>\n    </tr>\n    <tr>\n      <th>3</th>\n      <td>4</td>\n      <td>1231470988000</td>\n      <td>215</td>\n      <td>1</td>\n      <td>1.000000e+00</td>\n      <td>0.000000</td>\n      <td>0</td>\n      <td>0</td>\n      <td>0.000000</td>\n      <td>0.000000</td>\n      <td>0</td>\n      <td>1</td>\n      <td>0</td>\n    </tr>\n    <tr>\n      <th>4</th>\n      <td>5</td>\n      <td>1231471428000</td>\n      <td>215</td>\n      <td>1</td>\n      <td>1.000000e+00</td>\n      <td>0.000000</td>\n      <td>0</td>\n      <td>0</td>\n      <td>0.000000</td>\n      <td>0.000000</td>\n      <td>0</td>\n      <td>1</td>\n      <td>0</td>\n    </tr>\n    <tr>\n      <th>...</th>\n      <td>...</td>\n      <td>...</td>\n      <td>...</td>\n      <td>...</td>\n      <td>...</td>\n      <td>...</td>\n      <td>...</td>\n      <td>...</td>\n      <td>...</td>\n      <td>...</td>\n      <td>...</td>\n      <td>...</td>\n      <td>...</td>\n    </tr>\n    <tr>\n      <th>804663</th>\n      <td>804664</td>\n      <td>1692882889000</td>\n      <td>1668438</td>\n      <td>2761</td>\n      <td>5.562144e+13</td>\n      <td>6.980994</td>\n      <td>7</td>\n      <td>7057459</td>\n      <td>6.397059</td>\n      <td>35.686275</td>\n      <td>6689</td>\n      <td>11582</td>\n      <td>36150240896</td>\n    </tr>\n    <tr>\n      <th>804664</th>\n      <td>804665</td>\n      <td>1692883478000</td>\n      <td>1393602</td>\n      <td>2977</td>\n      <td>5.562144e+13</td>\n      <td>14.074866</td>\n      <td>20</td>\n      <td>20772172</td>\n      <td>6.419118</td>\n      <td>760.452962</td>\n      <td>5291</td>\n      <td>8314</td>\n      <td>915303123154</td>\n    </tr>\n    <tr>\n      <th>804665</th>\n      <td>804666</td>\n      <td>1692883741000</td>\n      <td>1972901</td>\n      <td>5807</td>\n      <td>5.562144e+13</td>\n      <td>6.426471</td>\n      <td>8</td>\n      <td>8481713</td>\n      <td>6.397059</td>\n      <td>225.225225</td>\n      <td>7080</td>\n      <td>8775</td>\n      <td>143619008510</td>\n    </tr>\n    <tr>\n      <th>804666</th>\n      <td>804667</td>\n      <td>1692885144000</td>\n      <td>1536390</td>\n      <td>3794</td>\n      <td>5.562144e+13</td>\n      <td>14.074866</td>\n      <td>18</td>\n      <td>18722309</td>\n      <td>8.520249</td>\n      <td>500.000000</td>\n      <td>6508</td>\n      <td>12022</td>\n      <td>1587385460492</td>\n    </tr>\n    <tr>\n      <th>804667</th>\n      <td>804668</td>\n      <td>1692885738000</td>\n      <td>1431158</td>\n      <td>2354</td>\n      <td>5.562144e+13</td>\n      <td>10.001966</td>\n      <td>13</td>\n      <td>13348783</td>\n      <td>7.018868</td>\n      <td>365.700185</td>\n      <td>6867</td>\n      <td>7351</td>\n      <td>748544084803</td>\n    </tr>\n  </tbody>\n</table>\n<p>804668 rows × 13 columns</p>\n</div>"
     },
     "execution_count": 20,
     "metadata": {},
     "output_type": "execute_result"
    }
   ],
   "source": [
    "# dataframe\n",
    "df_bit = pd.read_csv('data/bitcoin_hist_data.csv')\n",
    "df_bit"
   ],
   "metadata": {
    "collapsed": false,
    "ExecuteTime": {
     "end_time": "2023-09-05T02:15:42.458845700Z",
     "start_time": "2023-09-05T02:15:41.897623100Z"
    }
   },
   "id": "c959d6c59094a33"
  },
  {
   "cell_type": "code",
   "execution_count": 21,
   "outputs": [
    {
     "data": {
      "text/plain": "(804668, 13)"
     },
     "execution_count": 21,
     "metadata": {},
     "output_type": "execute_result"
    }
   ],
   "source": [
    "df_bit.shape"
   ],
   "metadata": {
    "collapsed": false,
    "ExecuteTime": {
     "end_time": "2023-09-05T02:15:42.468688100Z",
     "start_time": "2023-09-05T02:15:42.455708200Z"
    }
   },
   "id": "d609d9ed5076b8e5"
  },
  {
   "cell_type": "code",
   "execution_count": 22,
   "outputs": [
    {
     "data": {
      "text/plain": "              height     timestamp          size       tx_count    difficulty  \\\ncount  804668.000000  8.046680e+05  8.046680e+05  804668.000000  8.046680e+05   \nmean   402334.500000  1.461348e+12  6.288598e+05    1098.575234  7.449962e+12   \nstd    232287.787543  1.305817e+11  5.998891e+05    1106.430154  1.243851e+13   \nmin         1.000000  1.231470e+12  1.760000e+02       1.000000  1.000000e+00   \n25%    201167.750000  1.348973e+12  3.333550e+04      68.000000  2.864141e+06   \n50%    402334.500000  1.457787e+12  4.397995e+05     667.000000  1.634917e+11   \n75%    603501.250000  1.573596e+12  1.140764e+06    2079.000000  1.294859e+13   \nmax    804668.000000  1.692886e+12  3.978938e+06   12239.000000  5.562144e+13   \n\n       median_fee_rate  avg_fee_rate    total_fees  fee_range_min  \\\ncount     8.046680e+05  8.046680e+05  8.046680e+05  804668.000000   \nmean      5.500943e+01  9.334386e+01  3.348021e+07       9.376817   \nstd       1.204936e+03  1.885444e+03  9.181505e+07     147.811305   \nmin       0.000000e+00  0.000000e+00  0.000000e+00       0.000000   \n25%       1.000000e+00  1.000000e+01  1.939169e+06       0.000000   \n50%       1.400000e+01  2.900000e+01  1.041885e+07       1.000000   \n75%       5.100000e+01  8.300000e+01  3.141290e+07       1.000000   \nmax       1.029502e+06  1.143052e+06  2.915328e+10   56155.000000   \n\n       fee_range_max    input_count   output_count  output_amount  \ncount   8.046680e+05  804668.000000  804668.000000   8.046680e+05  \nmean    2.093577e+11    2869.449523    3083.856496   1.044516e+12  \nstd     1.878007e+14    2687.080207    3254.668625   3.487197e+12  \nmin     0.000000e+00       0.000000       1.000000   0.000000e+00  \n25%     2.240000e+02     153.000000     166.000000   8.286572e+10  \n50%     4.730000e+02    2038.000000    1818.000000   4.016351e+11  \n75%     1.312000e+03    5371.000000    5483.000000   1.135333e+12  \nmax     1.684634e+17   20894.000000   23642.000000   6.499324e+14  ",
      "text/html": "<div>\n<style scoped>\n    .dataframe tbody tr th:only-of-type {\n        vertical-align: middle;\n    }\n\n    .dataframe tbody tr th {\n        vertical-align: top;\n    }\n\n    .dataframe thead th {\n        text-align: right;\n    }\n</style>\n<table border=\"1\" class=\"dataframe\">\n  <thead>\n    <tr style=\"text-align: right;\">\n      <th></th>\n      <th>height</th>\n      <th>timestamp</th>\n      <th>size</th>\n      <th>tx_count</th>\n      <th>difficulty</th>\n      <th>median_fee_rate</th>\n      <th>avg_fee_rate</th>\n      <th>total_fees</th>\n      <th>fee_range_min</th>\n      <th>fee_range_max</th>\n      <th>input_count</th>\n      <th>output_count</th>\n      <th>output_amount</th>\n    </tr>\n  </thead>\n  <tbody>\n    <tr>\n      <th>count</th>\n      <td>804668.000000</td>\n      <td>8.046680e+05</td>\n      <td>8.046680e+05</td>\n      <td>804668.000000</td>\n      <td>8.046680e+05</td>\n      <td>8.046680e+05</td>\n      <td>8.046680e+05</td>\n      <td>8.046680e+05</td>\n      <td>804668.000000</td>\n      <td>8.046680e+05</td>\n      <td>804668.000000</td>\n      <td>804668.000000</td>\n      <td>8.046680e+05</td>\n    </tr>\n    <tr>\n      <th>mean</th>\n      <td>402334.500000</td>\n      <td>1.461348e+12</td>\n      <td>6.288598e+05</td>\n      <td>1098.575234</td>\n      <td>7.449962e+12</td>\n      <td>5.500943e+01</td>\n      <td>9.334386e+01</td>\n      <td>3.348021e+07</td>\n      <td>9.376817</td>\n      <td>2.093577e+11</td>\n      <td>2869.449523</td>\n      <td>3083.856496</td>\n      <td>1.044516e+12</td>\n    </tr>\n    <tr>\n      <th>std</th>\n      <td>232287.787543</td>\n      <td>1.305817e+11</td>\n      <td>5.998891e+05</td>\n      <td>1106.430154</td>\n      <td>1.243851e+13</td>\n      <td>1.204936e+03</td>\n      <td>1.885444e+03</td>\n      <td>9.181505e+07</td>\n      <td>147.811305</td>\n      <td>1.878007e+14</td>\n      <td>2687.080207</td>\n      <td>3254.668625</td>\n      <td>3.487197e+12</td>\n    </tr>\n    <tr>\n      <th>min</th>\n      <td>1.000000</td>\n      <td>1.231470e+12</td>\n      <td>1.760000e+02</td>\n      <td>1.000000</td>\n      <td>1.000000e+00</td>\n      <td>0.000000e+00</td>\n      <td>0.000000e+00</td>\n      <td>0.000000e+00</td>\n      <td>0.000000</td>\n      <td>0.000000e+00</td>\n      <td>0.000000</td>\n      <td>1.000000</td>\n      <td>0.000000e+00</td>\n    </tr>\n    <tr>\n      <th>25%</th>\n      <td>201167.750000</td>\n      <td>1.348973e+12</td>\n      <td>3.333550e+04</td>\n      <td>68.000000</td>\n      <td>2.864141e+06</td>\n      <td>1.000000e+00</td>\n      <td>1.000000e+01</td>\n      <td>1.939169e+06</td>\n      <td>0.000000</td>\n      <td>2.240000e+02</td>\n      <td>153.000000</td>\n      <td>166.000000</td>\n      <td>8.286572e+10</td>\n    </tr>\n    <tr>\n      <th>50%</th>\n      <td>402334.500000</td>\n      <td>1.457787e+12</td>\n      <td>4.397995e+05</td>\n      <td>667.000000</td>\n      <td>1.634917e+11</td>\n      <td>1.400000e+01</td>\n      <td>2.900000e+01</td>\n      <td>1.041885e+07</td>\n      <td>1.000000</td>\n      <td>4.730000e+02</td>\n      <td>2038.000000</td>\n      <td>1818.000000</td>\n      <td>4.016351e+11</td>\n    </tr>\n    <tr>\n      <th>75%</th>\n      <td>603501.250000</td>\n      <td>1.573596e+12</td>\n      <td>1.140764e+06</td>\n      <td>2079.000000</td>\n      <td>1.294859e+13</td>\n      <td>5.100000e+01</td>\n      <td>8.300000e+01</td>\n      <td>3.141290e+07</td>\n      <td>1.000000</td>\n      <td>1.312000e+03</td>\n      <td>5371.000000</td>\n      <td>5483.000000</td>\n      <td>1.135333e+12</td>\n    </tr>\n    <tr>\n      <th>max</th>\n      <td>804668.000000</td>\n      <td>1.692886e+12</td>\n      <td>3.978938e+06</td>\n      <td>12239.000000</td>\n      <td>5.562144e+13</td>\n      <td>1.029502e+06</td>\n      <td>1.143052e+06</td>\n      <td>2.915328e+10</td>\n      <td>56155.000000</td>\n      <td>1.684634e+17</td>\n      <td>20894.000000</td>\n      <td>23642.000000</td>\n      <td>6.499324e+14</td>\n    </tr>\n  </tbody>\n</table>\n</div>"
     },
     "execution_count": 22,
     "metadata": {},
     "output_type": "execute_result"
    }
   ],
   "source": [
    "df_bit.describe()"
   ],
   "metadata": {
    "collapsed": false,
    "ExecuteTime": {
     "end_time": "2023-09-05T02:15:42.673337500Z",
     "start_time": "2023-09-05T02:15:42.470749600Z"
    }
   },
   "id": "aac480310e02f0e1"
  },
  {
   "cell_type": "markdown",
   "source": [
    "#### Description:\n",
    "This dataset offers detailed, up-to-date information on precious metals futures. Futures are financial contracts obligating the buyer to purchase, and the seller to sell, a particular precious metal (such as gold, silver, platinum, etc.) at a predetermined future date and price.\n",
    "\n",
    "#### Use Cases:\n",
    "Trend Analysis: Examine patterns and price movements to predict future market behaviors.\n",
    "Academic Research: Study the historical behavior and impact of global events on metal prices.\n",
    "Trading Strategies: Design and validate trading techniques based on precious metals futures.\n",
    "Risk Management: Use the data for hedging decisions and risk management for businesses involved in mining or trading precious metals\n",
    "\n",
    "#### Source\n",
    "url = https://storage.googleapis.com/kaggle-data-sets/3625760/6402313/bundle/archive.zip\n"
   ],
   "metadata": {
    "collapsed": false
   },
   "id": "909b2afbc84b1f24"
  },
  {
   "cell_type": "code",
   "execution_count": 23,
   "outputs": [
    {
     "data": {
      "text/plain": "      ticker  commodity        date         open         high          low  \\\n0       GC=F       Gold  2000-08-30   273.899994   273.899994   273.899994   \n1       GC=F       Gold  2000-08-31   274.799988   278.299988   274.799988   \n2       GC=F       Gold  2000-09-01   277.000000   277.000000   277.000000   \n3       GC=F       Gold  2000-09-05   275.799988   275.799988   275.799988   \n4       GC=F       Gold  2000-09-06   274.200012   274.200012   274.200012   \n...      ...        ...         ...          ...          ...          ...   \n28039   PA=F  Palladium  2023-08-28  1245.400024  1245.400024  1245.400024   \n28040   PA=F  Palladium  2023-08-29  1232.800049  1232.800049  1232.800049   \n28041   PA=F  Palladium  2023-08-30  1236.500000  1241.000000  1203.000000   \n28042   PA=F  Palladium  2023-08-31  1228.000000  1228.000000  1207.800049   \n28043   PA=F  Palladium  2023-09-01  1217.199951  1217.199951  1217.199951   \n\n             close  volume  \n0       273.899994       0  \n1       278.299988       0  \n2       277.000000       0  \n3       275.799988       2  \n4       274.200012       0  \n...            ...     ...  \n28039  1245.400024       1  \n28040  1232.800049    2836  \n28041  1216.900024     439  \n28042  1207.800049      19  \n28043  1217.199951      19  \n\n[28044 rows x 8 columns]",
      "text/html": "<div>\n<style scoped>\n    .dataframe tbody tr th:only-of-type {\n        vertical-align: middle;\n    }\n\n    .dataframe tbody tr th {\n        vertical-align: top;\n    }\n\n    .dataframe thead th {\n        text-align: right;\n    }\n</style>\n<table border=\"1\" class=\"dataframe\">\n  <thead>\n    <tr style=\"text-align: right;\">\n      <th></th>\n      <th>ticker</th>\n      <th>commodity</th>\n      <th>date</th>\n      <th>open</th>\n      <th>high</th>\n      <th>low</th>\n      <th>close</th>\n      <th>volume</th>\n    </tr>\n  </thead>\n  <tbody>\n    <tr>\n      <th>0</th>\n      <td>GC=F</td>\n      <td>Gold</td>\n      <td>2000-08-30</td>\n      <td>273.899994</td>\n      <td>273.899994</td>\n      <td>273.899994</td>\n      <td>273.899994</td>\n      <td>0</td>\n    </tr>\n    <tr>\n      <th>1</th>\n      <td>GC=F</td>\n      <td>Gold</td>\n      <td>2000-08-31</td>\n      <td>274.799988</td>\n      <td>278.299988</td>\n      <td>274.799988</td>\n      <td>278.299988</td>\n      <td>0</td>\n    </tr>\n    <tr>\n      <th>2</th>\n      <td>GC=F</td>\n      <td>Gold</td>\n      <td>2000-09-01</td>\n      <td>277.000000</td>\n      <td>277.000000</td>\n      <td>277.000000</td>\n      <td>277.000000</td>\n      <td>0</td>\n    </tr>\n    <tr>\n      <th>3</th>\n      <td>GC=F</td>\n      <td>Gold</td>\n      <td>2000-09-05</td>\n      <td>275.799988</td>\n      <td>275.799988</td>\n      <td>275.799988</td>\n      <td>275.799988</td>\n      <td>2</td>\n    </tr>\n    <tr>\n      <th>4</th>\n      <td>GC=F</td>\n      <td>Gold</td>\n      <td>2000-09-06</td>\n      <td>274.200012</td>\n      <td>274.200012</td>\n      <td>274.200012</td>\n      <td>274.200012</td>\n      <td>0</td>\n    </tr>\n    <tr>\n      <th>...</th>\n      <td>...</td>\n      <td>...</td>\n      <td>...</td>\n      <td>...</td>\n      <td>...</td>\n      <td>...</td>\n      <td>...</td>\n      <td>...</td>\n    </tr>\n    <tr>\n      <th>28039</th>\n      <td>PA=F</td>\n      <td>Palladium</td>\n      <td>2023-08-28</td>\n      <td>1245.400024</td>\n      <td>1245.400024</td>\n      <td>1245.400024</td>\n      <td>1245.400024</td>\n      <td>1</td>\n    </tr>\n    <tr>\n      <th>28040</th>\n      <td>PA=F</td>\n      <td>Palladium</td>\n      <td>2023-08-29</td>\n      <td>1232.800049</td>\n      <td>1232.800049</td>\n      <td>1232.800049</td>\n      <td>1232.800049</td>\n      <td>2836</td>\n    </tr>\n    <tr>\n      <th>28041</th>\n      <td>PA=F</td>\n      <td>Palladium</td>\n      <td>2023-08-30</td>\n      <td>1236.500000</td>\n      <td>1241.000000</td>\n      <td>1203.000000</td>\n      <td>1216.900024</td>\n      <td>439</td>\n    </tr>\n    <tr>\n      <th>28042</th>\n      <td>PA=F</td>\n      <td>Palladium</td>\n      <td>2023-08-31</td>\n      <td>1228.000000</td>\n      <td>1228.000000</td>\n      <td>1207.800049</td>\n      <td>1207.800049</td>\n      <td>19</td>\n    </tr>\n    <tr>\n      <th>28043</th>\n      <td>PA=F</td>\n      <td>Palladium</td>\n      <td>2023-09-01</td>\n      <td>1217.199951</td>\n      <td>1217.199951</td>\n      <td>1217.199951</td>\n      <td>1217.199951</td>\n      <td>19</td>\n    </tr>\n  </tbody>\n</table>\n<p>28044 rows × 8 columns</p>\n</div>"
     },
     "execution_count": 23,
     "metadata": {},
     "output_type": "execute_result"
    }
   ],
   "source": [
    "# data frame commodities\n",
    "df_commodities = pd.read_csv('data/commodities_data.csv')\n",
    "df_commodities"
   ],
   "metadata": {
    "collapsed": false,
    "ExecuteTime": {
     "end_time": "2023-09-05T02:15:42.768672800Z",
     "start_time": "2023-09-05T02:15:42.673337500Z"
    }
   },
   "id": "18e046b9a586f266"
  },
  {
   "cell_type": "code",
   "execution_count": 24,
   "outputs": [
    {
     "data": {
      "text/plain": "(28044, 8)"
     },
     "execution_count": 24,
     "metadata": {},
     "output_type": "execute_result"
    }
   ],
   "source": [
    "df_commodities.shape"
   ],
   "metadata": {
    "collapsed": false,
    "ExecuteTime": {
     "end_time": "2023-09-05T02:15:42.769190800Z",
     "start_time": "2023-09-05T02:15:42.720340200Z"
    }
   },
   "id": "14c0af6905ee1f63"
  },
  {
   "cell_type": "code",
   "execution_count": 25,
   "outputs": [
    {
     "data": {
      "text/plain": "               open          high           low         close         volume\ncount  28044.000000  28044.000000  28044.000000  28044.000000   28044.000000\nmean     594.863297    597.080781    592.491851    594.855095    1551.540793\nstd      641.129097    643.136145    638.772045    640.873576   12099.105779\nmin        0.609000      0.609500      0.604000      0.604000       0.000000\n25%        7.525750      7.545250      7.504250      7.524000       3.000000\n50%      402.000000    403.550003    400.000000    401.949997      66.000000\n75%     1021.925018   1024.850037   1020.100006   1022.062485     365.000000\nmax     3380.500000   3380.500000   2985.399902   2985.399902  386334.000000",
      "text/html": "<div>\n<style scoped>\n    .dataframe tbody tr th:only-of-type {\n        vertical-align: middle;\n    }\n\n    .dataframe tbody tr th {\n        vertical-align: top;\n    }\n\n    .dataframe thead th {\n        text-align: right;\n    }\n</style>\n<table border=\"1\" class=\"dataframe\">\n  <thead>\n    <tr style=\"text-align: right;\">\n      <th></th>\n      <th>open</th>\n      <th>high</th>\n      <th>low</th>\n      <th>close</th>\n      <th>volume</th>\n    </tr>\n  </thead>\n  <tbody>\n    <tr>\n      <th>count</th>\n      <td>28044.000000</td>\n      <td>28044.000000</td>\n      <td>28044.000000</td>\n      <td>28044.000000</td>\n      <td>28044.000000</td>\n    </tr>\n    <tr>\n      <th>mean</th>\n      <td>594.863297</td>\n      <td>597.080781</td>\n      <td>592.491851</td>\n      <td>594.855095</td>\n      <td>1551.540793</td>\n    </tr>\n    <tr>\n      <th>std</th>\n      <td>641.129097</td>\n      <td>643.136145</td>\n      <td>638.772045</td>\n      <td>640.873576</td>\n      <td>12099.105779</td>\n    </tr>\n    <tr>\n      <th>min</th>\n      <td>0.609000</td>\n      <td>0.609500</td>\n      <td>0.604000</td>\n      <td>0.604000</td>\n      <td>0.000000</td>\n    </tr>\n    <tr>\n      <th>25%</th>\n      <td>7.525750</td>\n      <td>7.545250</td>\n      <td>7.504250</td>\n      <td>7.524000</td>\n      <td>3.000000</td>\n    </tr>\n    <tr>\n      <th>50%</th>\n      <td>402.000000</td>\n      <td>403.550003</td>\n      <td>400.000000</td>\n      <td>401.949997</td>\n      <td>66.000000</td>\n    </tr>\n    <tr>\n      <th>75%</th>\n      <td>1021.925018</td>\n      <td>1024.850037</td>\n      <td>1020.100006</td>\n      <td>1022.062485</td>\n      <td>365.000000</td>\n    </tr>\n    <tr>\n      <th>max</th>\n      <td>3380.500000</td>\n      <td>3380.500000</td>\n      <td>2985.399902</td>\n      <td>2985.399902</td>\n      <td>386334.000000</td>\n    </tr>\n  </tbody>\n</table>\n</div>"
     },
     "execution_count": 25,
     "metadata": {},
     "output_type": "execute_result"
    }
   ],
   "source": [
    "df_commodities.describe()"
   ],
   "metadata": {
    "collapsed": false,
    "ExecuteTime": {
     "end_time": "2023-09-05T02:15:42.769190800Z",
     "start_time": "2023-09-05T02:15:42.735839600Z"
    }
   },
   "id": "7a1b9b9756494371"
  }
 ],
 "metadata": {
  "kernelspec": {
   "display_name": "Python 3",
   "language": "python",
   "name": "python3"
  },
  "language_info": {
   "codemirror_mode": {
    "name": "ipython",
    "version": 2
   },
   "file_extension": ".py",
   "mimetype": "text/x-python",
   "name": "python",
   "nbconvert_exporter": "python",
   "pygments_lexer": "ipython2",
   "version": "2.7.6"
  }
 },
 "nbformat": 4,
 "nbformat_minor": 5
}
