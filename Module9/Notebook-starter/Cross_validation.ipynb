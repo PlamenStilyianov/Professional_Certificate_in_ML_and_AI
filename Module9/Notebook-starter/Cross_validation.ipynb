{
 "nbformat": 4,
 "nbformat_minor": 0,
 "metadata": {
  "colab": {
   "provenance": []
  },
  "kernelspec": {
   "name": "python3",
   "language": "python",
   "display_name": "Python 3 (ipykernel)"
  },
  "language_info": {
   "name": "python"
  }
 },
 "cells": [
  {
   "cell_type": "code",
   "execution_count": null,
   "outputs": [],
   "source": [
    "# Import the necessary libraries\n",
    "import numpy as np\n",
    "from sklearn.datasets import load_iris\n",
    "from sklearn.linear_model import LogisticRegression\n",
    "from sklearn.model_selection import cross_val_score\n",
    "from sklearn.preprocessing import StandardScaler, LabelEncoder\n",
    "from sklearn.pipeline import make_pipeline\n",
    "from sklearn.metrics import mean_squared_error\n",
    "from sklearn.model_selection import train_test_split, LeaveOneOut, KFold, StratifiedKFold\n",
    "\n",
    "import warnings\n",
    "\n",
    "warnings.filterwarnings(\"ignore\")\n",
    "\n",
    "\n",
    "# Load the dataset\n",
    "from sklearn.datasets import fetch_california_housing\n",
    "iris = fetch_california_housing()\n",
    "X, y = fetch_california_housing(as_frame=True).data, fetch_california_housing(as_frame=True).target\n",
    "\n",
    "# Create a logistic regression classifier\n",
    "# We use a pipeline to ensure each fold in the cross-validation is treated independently\n",
    "logreg_pipeline = make_pipeline(StandardScaler(), LogisticRegression(max_iter=10, solver='liblinear'))\n",
    "\n",
    "lab = LabelEncoder()\n",
    "y_transformed = lab.fit_transform(y)\n",
    "\n",
    "loocv = LeaveOneOut()\n",
    "kfold = KFold(n_splits=10, shuffle=True, random_state=10)\n",
    "skfold = StratifiedKFold(n_splits=3, shuffle=True, random_state=10)\n",
    "\n",
    "# Perform 5-fold cross-validation\n",
    "# It returns an array of scores of the estimator for each run of the cross-validation.\n",
    "scores = cross_val_score(logreg_pipeline, X, y_transformed, cv=loocv)\n",
    "\n",
    "# Output the results\n",
    "print(f\"Accuracy scores for each fold: {scores}\")\n",
    "print(f\"Mean cross-validation score: {np.mean(scores):.2f}\")\n",
    "\n",
    "# If you need to see the model with the best cross-validation score:\n",
    "# Train the model on the entire dataset\n",
    "logreg_pipeline.fit(X, y_transformed)\n",
    "print(f\"MSE: {mean_squared_error(y_transformed, logreg_pipeline.predict(X))}\")\n",
    "# You can now use logreg_pipeline to make predictions on new data\n",
    "# For example:\n",
    "# predictions = logreg_pipeline.predict(new_X)\n"
   ],
   "metadata": {
    "collapsed": false,
    "is_executing": true,
    "ExecuteTime": {
     "start_time": "2023-11-28T03:31:03.516593500Z"
    }
   }
  },
  {
   "cell_type": "code",
   "source": [
    "#5\n",
    "#Accuracy scores for each fold: [0.04844961 0.05111434 0.04844961 0.04723837 0.05014535]\n",
    "#Mean cross-validation score: 0.05\n",
    "#MSE: 1895986.2778585271\n",
    "\n",
    "#3\n",
    "#Accuracy scores for each fold: [0.04840116 0.04723837 0.0502907 ]\n",
    "#Mean cross-validation score: 0.05\n",
    "#MSE: 1896491.050387597"
   ],
   "metadata": {
    "id": "hWo7DCeZ_vvy",
    "is_executing": true
   },
   "execution_count": null,
   "outputs": []
  },
  {
   "cell_type": "code",
   "execution_count": null,
   "outputs": [],
   "source": [],
   "metadata": {
    "collapsed": false,
    "is_executing": true
   }
  }
 ]
}
