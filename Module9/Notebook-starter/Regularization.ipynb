{
 "nbformat": 4,
 "nbformat_minor": 0,
 "metadata": {
  "colab": {
   "provenance": []
  },
  "kernelspec": {
   "name": "python3",
   "language": "python",
   "display_name": "Python 3 (ipykernel)"
  },
  "language_info": {
   "name": "python"
  }
 },
 "cells": [
  {
   "cell_type": "code",
   "source": [
    "import numpy as np\n",
    "import pandas as pd\n",
    "import matplotlib.pyplot as plt\n",
    "from sklearn import datasets\n",
    "from sklearn.model_selection import train_test_split\n",
    "from sklearn.linear_model import LinearRegression\n",
    "from sklearn.linear_model import Lasso, Ridge, ElasticNet\n",
    "from sklearn.metrics import mean_squared_error, r2_score"
   ],
   "metadata": {
    "id": "v4W97UA2RmQG",
    "ExecuteTime": {
     "end_time": "2023-11-04T01:45:14.045018600Z",
     "start_time": "2023-11-04T01:45:06.536410200Z"
    }
   },
   "execution_count": 2,
   "outputs": []
  },
  {
   "cell_type": "markdown",
   "source": [
    "# Let's look at the data"
   ],
   "metadata": {
    "id": "jFYU1vegRnJX"
   }
  },
  {
   "cell_type": "code",
   "source": [
    "diabetes = datasets.load_diabetes()\n",
    "print(diabetes.keys())\n",
    "print(diabetes['DESCR'])\n",
    "\n",
    "df = pd.DataFrame(diabetes['data'], columns=diabetes['feature_names'])\n",
    "df['target'] = diabetes['target']\n",
    "df.head()"
   ],
   "metadata": {
    "colab": {
     "base_uri": "https://localhost:8080/",
     "height": 936
    },
    "id": "nESbIDB-Rq9F",
    "outputId": "0e1fde7f-b4c7-4678-f764-293e4d7ed9fa",
    "ExecuteTime": {
     "end_time": "2023-11-04T01:45:14.093986200Z",
     "start_time": "2023-11-04T01:45:14.045018600Z"
    }
   },
   "execution_count": 3,
   "outputs": [
    {
     "name": "stdout",
     "output_type": "stream",
     "text": [
      "dict_keys(['data', 'target', 'frame', 'DESCR', 'feature_names', 'data_filename', 'target_filename', 'data_module'])\n",
      ".. _diabetes_dataset:\n",
      "\n",
      "Diabetes dataset\n",
      "----------------\n",
      "\n",
      "Ten baseline variables, age, sex, body mass index, average blood\n",
      "pressure, and six blood serum measurements were obtained for each of n =\n",
      "442 diabetes patients, as well as the response of interest, a\n",
      "quantitative measure of disease progression one year after baseline.\n",
      "\n",
      "**Data Set Characteristics:**\n",
      "\n",
      "  :Number of Instances: 442\n",
      "\n",
      "  :Number of Attributes: First 10 columns are numeric predictive values\n",
      "\n",
      "  :Target: Column 11 is a quantitative measure of disease progression one year after baseline\n",
      "\n",
      "  :Attribute Information:\n",
      "      - age     age in years\n",
      "      - sex\n",
      "      - bmi     body mass index\n",
      "      - bp      average blood pressure\n",
      "      - s1      tc, total serum cholesterol\n",
      "      - s2      ldl, low-density lipoproteins\n",
      "      - s3      hdl, high-density lipoproteins\n",
      "      - s4      tch, total cholesterol / HDL\n",
      "      - s5      ltg, possibly log of serum triglycerides level\n",
      "      - s6      glu, blood sugar level\n",
      "\n",
      "Note: Each of these 10 feature variables have been mean centered and scaled by the standard deviation times the square root of `n_samples` (i.e. the sum of squares of each column totals 1).\n",
      "\n",
      "Source URL:\n",
      "https://www4.stat.ncsu.edu/~boos/var.select/diabetes.html\n",
      "\n",
      "For more information see:\n",
      "Bradley Efron, Trevor Hastie, Iain Johnstone and Robert Tibshirani (2004) \"Least Angle Regression,\" Annals of Statistics (with discussion), 407-499.\n",
      "(https://web.stanford.edu/~hastie/Papers/LARS/LeastAngle_2002.pdf)\n"
     ]
    },
    {
     "data": {
      "text/plain": "        age       sex       bmi        bp        s1        s2        s3  \\\n0  0.038076  0.050680  0.061696  0.021872 -0.044223 -0.034821 -0.043401   \n1 -0.001882 -0.044642 -0.051474 -0.026328 -0.008449 -0.019163  0.074412   \n2  0.085299  0.050680  0.044451 -0.005670 -0.045599 -0.034194 -0.032356   \n3 -0.089063 -0.044642 -0.011595 -0.036656  0.012191  0.024991 -0.036038   \n4  0.005383 -0.044642 -0.036385  0.021872  0.003935  0.015596  0.008142   \n\n         s4        s5        s6  target  \n0 -0.002592  0.019907 -0.017646   151.0  \n1 -0.039493 -0.068332 -0.092204    75.0  \n2 -0.002592  0.002861 -0.025930   141.0  \n3  0.034309  0.022688 -0.009362   206.0  \n4 -0.002592 -0.031988 -0.046641   135.0  ",
      "text/html": "<div>\n<style scoped>\n    .dataframe tbody tr th:only-of-type {\n        vertical-align: middle;\n    }\n\n    .dataframe tbody tr th {\n        vertical-align: top;\n    }\n\n    .dataframe thead th {\n        text-align: right;\n    }\n</style>\n<table border=\"1\" class=\"dataframe\">\n  <thead>\n    <tr style=\"text-align: right;\">\n      <th></th>\n      <th>age</th>\n      <th>sex</th>\n      <th>bmi</th>\n      <th>bp</th>\n      <th>s1</th>\n      <th>s2</th>\n      <th>s3</th>\n      <th>s4</th>\n      <th>s5</th>\n      <th>s6</th>\n      <th>target</th>\n    </tr>\n  </thead>\n  <tbody>\n    <tr>\n      <th>0</th>\n      <td>0.038076</td>\n      <td>0.050680</td>\n      <td>0.061696</td>\n      <td>0.021872</td>\n      <td>-0.044223</td>\n      <td>-0.034821</td>\n      <td>-0.043401</td>\n      <td>-0.002592</td>\n      <td>0.019907</td>\n      <td>-0.017646</td>\n      <td>151.0</td>\n    </tr>\n    <tr>\n      <th>1</th>\n      <td>-0.001882</td>\n      <td>-0.044642</td>\n      <td>-0.051474</td>\n      <td>-0.026328</td>\n      <td>-0.008449</td>\n      <td>-0.019163</td>\n      <td>0.074412</td>\n      <td>-0.039493</td>\n      <td>-0.068332</td>\n      <td>-0.092204</td>\n      <td>75.0</td>\n    </tr>\n    <tr>\n      <th>2</th>\n      <td>0.085299</td>\n      <td>0.050680</td>\n      <td>0.044451</td>\n      <td>-0.005670</td>\n      <td>-0.045599</td>\n      <td>-0.034194</td>\n      <td>-0.032356</td>\n      <td>-0.002592</td>\n      <td>0.002861</td>\n      <td>-0.025930</td>\n      <td>141.0</td>\n    </tr>\n    <tr>\n      <th>3</th>\n      <td>-0.089063</td>\n      <td>-0.044642</td>\n      <td>-0.011595</td>\n      <td>-0.036656</td>\n      <td>0.012191</td>\n      <td>0.024991</td>\n      <td>-0.036038</td>\n      <td>0.034309</td>\n      <td>0.022688</td>\n      <td>-0.009362</td>\n      <td>206.0</td>\n    </tr>\n    <tr>\n      <th>4</th>\n      <td>0.005383</td>\n      <td>-0.044642</td>\n      <td>-0.036385</td>\n      <td>0.021872</td>\n      <td>0.003935</td>\n      <td>0.015596</td>\n      <td>0.008142</td>\n      <td>-0.002592</td>\n      <td>-0.031988</td>\n      <td>-0.046641</td>\n      <td>135.0</td>\n    </tr>\n  </tbody>\n</table>\n</div>"
     },
     "execution_count": 3,
     "metadata": {},
     "output_type": "execute_result"
    }
   ]
  },
  {
   "cell_type": "markdown",
   "source": [
    "```\n",
    "'''\n",
    "# Add this at the begining if you want to visualize it\n",
    "# Use only one feature for simplicity\n",
    "diabetes_X = diabetes_X[:, np.newaxis, 2]\n",
    "\n",
    "# Plot outputs\n",
    "plt.scatter(X_test, y_test, color='black')\n",
    "plt.plot(X_test, diabetes_y_pred, color='blue', linewidth=3)\n",
    "plt.xlabel('Body mass index')\n",
    "plt.ylabel('Disease Progression')\n",
    "plt.title('Linear Regression')\n",
    "plt.show()\n",
    "'''\n",
    "```"
   ],
   "metadata": {
    "id": "W98RYcNCTgcd"
   }
  },
  {
   "cell_type": "markdown",
   "source": [
    "# Linear Regression"
   ],
   "metadata": {
    "id": "L_KIHt2kRdMW"
   }
  },
  {
   "cell_type": "code",
   "source": [
    "# Load the diabetes dataset\n",
    "diabetes_X, diabetes_y = datasets.load_diabetes(return_X_y=True)\n",
    "\n",
    "# Split the data into training/testing sets\n",
    "X_train, X_test, y_train, y_test = train_test_split(diabetes_X, diabetes_y, test_size=0.2, random_state=42)\n",
    "\n",
    "# Create linear regression object\n",
    "regr = LinearRegression()\n",
    "\n",
    "# Train the model using the training sets\n",
    "regr.fit(X_train, y_train)\n",
    "\n",
    "# Make predictions using the testing set\n",
    "diabetes_y_pred = regr.predict(X_test)\n",
    "\n",
    "# The coefficients\n",
    "print('Coefficients: \\n', regr.coef_)\n",
    "print()\n",
    "# The root mean squared error\n",
    "rmse = np.sqrt(mean_squared_error(y_test, diabetes_y_pred))\n",
    "print('RMSE: %.2f' % rmse)\n",
    "# R Squared\n",
    "r2 = r2_score(y_test, diabetes_y_pred)\n",
    "print('R2 score: %.2f' % r2)"
   ],
   "metadata": {
    "colab": {
     "base_uri": "https://localhost:8080/"
    },
    "id": "SF6nV3jwRc_6",
    "outputId": "29e96e1e-f886-49d3-f90e-5adf2605c5f4",
    "ExecuteTime": {
     "end_time": "2023-11-04T01:45:14.137021600Z",
     "start_time": "2023-11-04T01:45:14.096013500Z"
    }
   },
   "execution_count": 4,
   "outputs": [
    {
     "name": "stdout",
     "output_type": "stream",
     "text": [
      "Coefficients: \n",
      " [  37.90402135 -241.96436231  542.42875852  347.70384391 -931.48884588\n",
      "  518.06227698  163.41998299  275.31790158  736.1988589    48.67065743]\n",
      "\n",
      "RMSE: 53.85\n",
      "R2 score: 0.45\n"
     ]
    }
   ]
  },
  {
   "cell_type": "markdown",
   "source": [
    "# Lasso Regression"
   ],
   "metadata": {
    "id": "55D4wKvUTJKr"
   }
  },
  {
   "cell_type": "code",
   "execution_count": 5,
   "metadata": {
    "colab": {
     "base_uri": "https://localhost:8080/"
    },
    "id": "LYr9D5mkRKLB",
    "outputId": "ef174482-0d12-43c1-b760-8daf2fc9c70c",
    "ExecuteTime": {
     "end_time": "2023-11-04T01:45:14.168622300Z",
     "start_time": "2023-11-04T01:45:14.108020100Z"
    }
   },
   "outputs": [
    {
     "name": "stdout",
     "output_type": "stream",
     "text": [
      "Coefficients: \n",
      " [   0.         -152.66477923  552.69777529  303.36515791  -81.36500664\n",
      "   -0.         -229.25577639    0.          447.91952518   29.64261704]\n",
      "\n",
      "RMSE: 52.90\n",
      "R2 score: 0.47\n"
     ]
    }
   ],
   "source": [
    "# Create lasso regression object with an alpha value\n",
    "lasso = Lasso(alpha=0.1)\n",
    "\n",
    "# Train the model using the training sets\n",
    "lasso.fit(X_train, y_train)\n",
    "\n",
    "# Make predictions using the testing set\n",
    "y_pred_lasso = lasso.predict(X_test)\n",
    "\n",
    "# The coefficients\n",
    "print('Coefficients: \\n', lasso.coef_)\n",
    "print()\n",
    "# The root mean squared error\n",
    "rmse = np.sqrt(mean_squared_error(y_test, y_pred_lasso))\n",
    "print('RMSE: %.2f' % rmse)\n",
    "# R Squared\n",
    "r2 = r2_score(y_test, y_pred_lasso)\n",
    "print('R2 score: %.2f' % r2)"
   ]
  },
  {
   "cell_type": "code",
   "source": [
    "df.columns"
   ],
   "metadata": {
    "id": "l9v07lAhUMA9",
    "outputId": "da7dad89-8955-4c69-a86e-700b7f82412d",
    "colab": {
     "base_uri": "https://localhost:8080/"
    },
    "ExecuteTime": {
     "end_time": "2023-11-04T01:45:14.187038800Z",
     "start_time": "2023-11-04T01:45:14.123013700Z"
    }
   },
   "execution_count": 6,
   "outputs": [
    {
     "data": {
      "text/plain": "Index(['age', 'sex', 'bmi', 'bp', 's1', 's2', 's3', 's4', 's5', 's6',\n       'target'],\n      dtype='object')"
     },
     "execution_count": 6,
     "metadata": {},
     "output_type": "execute_result"
    }
   ]
  },
  {
   "cell_type": "markdown",
   "source": [
    "# Ridge Regression"
   ],
   "metadata": {
    "id": "cvSNKtM_Tn0n"
   }
  },
  {
   "cell_type": "code",
   "source": [
    "# Create ridge regression object with an alpha value\n",
    "ridge = Ridge(alpha=1.0)\n",
    "\n",
    "# Train the model using the training sets\n",
    "ridge.fit(X_train, y_train)\n",
    "\n",
    "# Make predictions using the testing set\n",
    "y_pred_ridge = ridge.predict(X_test)\n",
    "\n",
    "# The coefficients\n",
    "print('Coefficients: \\n', ridge.coef_)\n",
    "print()\n",
    "# The root mean squared error\n",
    "rmse = np.sqrt(mean_squared_error(y_test, y_pred_ridge))\n",
    "print('RMSE: %.2f' % rmse)\n",
    "# R Squared\n",
    "r2 = r2_score(y_test, y_pred_ridge)\n",
    "print('R2 score: %.2f' % r2)\n",
    "print('R2 score: %.2f' % ridge.score(X_test, y_test))"
   ],
   "metadata": {
    "colab": {
     "base_uri": "https://localhost:8080/"
    },
    "id": "8bxHPTrTTSZK",
    "outputId": "2195c870-31c1-480a-803f-8d14bb82dd8e",
    "ExecuteTime": {
     "end_time": "2023-11-04T01:47:50.360641100Z",
     "start_time": "2023-11-04T01:47:50.338545Z"
    }
   },
   "execution_count": 8,
   "outputs": [
    {
     "name": "stdout",
     "output_type": "stream",
     "text": [
      "Coefficients: \n",
      " [  45.36737726  -76.66608563  291.33883165  198.99581745   -0.53030959\n",
      "  -28.57704987 -144.51190505  119.26006559  230.22160832  112.14983004]\n",
      "\n",
      "RMSE: 55.47\n",
      "R2 score: 0.42\n",
      "R2 score: 0.42\n"
     ]
    }
   ]
  },
  {
   "cell_type": "code",
   "execution_count": 7,
   "outputs": [],
   "source": [],
   "metadata": {
    "collapsed": false,
    "ExecuteTime": {
     "end_time": "2023-11-04T01:45:14.261574800Z",
     "start_time": "2023-11-04T01:45:14.154734500Z"
    }
   }
  }
 ]
}
