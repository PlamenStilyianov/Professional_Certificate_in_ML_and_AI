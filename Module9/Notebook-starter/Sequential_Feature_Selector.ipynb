{
 "nbformat": 4,
 "nbformat_minor": 0,
 "metadata": {
  "colab": {
   "provenance": []
  },
  "kernelspec": {
   "name": "python3",
   "language": "python",
   "display_name": "Python 3 (ipykernel)"
  },
  "language_info": {
   "name": "python"
  }
 },
 "cells": [
  {
   "cell_type": "markdown",
   "source": [
    "# Sequential Feature Selector\n",
    "\n",
    "Sequential Feature Selection (SFS) is a family of greedy search algorithms that are used to reduce the dimensionality of the input feature space for machine learning models. The goal is to find the best subset of features that results in the optimal performance of a model according to a specified criterion (usually predictive accuracy).\n",
    "\n",
    "SFS algorithms can be divided into two categories:\n",
    "\n",
    "- **Sequential Forward Selection (SFS):** This method starts with an empty set of features and sequentially adds features one by one. At each step, it adds the feature that provides the most significant improvement to the model performance until a desired number of features is reached or performance improvement is no longer statistically significant.\n",
    "\n",
    "- **Sequential Backward Selection (SBS):** This method starts with the full set of features and sequentially removes the least important feature at each step. It eliminates the feature whose removal causes the least degradation in the model performance until the desired number of features is left or further removal of features degrades the model performance beyond a certain threshold.\n",
    "\n",
    "Both methods are considered greedy because they make the locally optimal choice at each step with the hope of finding the global optimum. However, since they do not consider all possible subsets of features, they do not guarantee to find the best possible subset but often yield a good subset that improves model performance and reduces overfitting.\n",
    "\n",
    "The main steps in sequential feature selection are:\n",
    "\n",
    "1. Initialization: Start with an empty set of features (for SFS) or all features (for SBS).\n",
    "\n",
    "1. Iteration: For each step:\n",
    "\n",
    "  - In SFS, evaluate all possible additions of a single feature to the current set of features and choose the one that maximizes the performance criterion.\n",
    "  - In SBS, evaluate all possible removals of a single feature from the current set of features and choose the one that has the least impact on the performance criterion.\n",
    "1. Termination: Stop when a predetermined stopping criterion is met, which could be a set number of features, a performance threshold, or if there is no improvement in performance.\n",
    "\n",
    "1. Final Evaluation: The selected subset of features is used to train the final model, and the performance is evaluated.\n",
    "\n",
    "In Python, sequential feature selection can be performed using libraries like scikit-learn, which provides a SequentialFeatureSelector transformer that works with any estimator that has a fit method (such as classifiers or regressors). The SFS can be a powerful method when dealing with high-dimensional data where feature selection is necessary to improve the interpretability of the model, reduce overfitting, and possibly enhance the model's predictive performance."
   ],
   "metadata": {
    "id": "5QkTm-fYwiDQ"
   }
  },
  {
   "cell_type": "code",
   "execution_count": 1,
   "metadata": {
    "colab": {
     "base_uri": "https://localhost:8080/"
    },
    "id": "fQrXiZPewb7R",
    "outputId": "d00b9222-4cd5-42fe-8e80-2f6c76c05cbd",
    "ExecuteTime": {
     "end_time": "2023-11-04T20:32:30.425599600Z",
     "start_time": "2023-11-04T20:32:29.250621400Z"
    }
   },
   "outputs": [
    {
     "name": "stdout",
     "output_type": "stream",
     "text": [
      "Selected features: ['petal length (cm)', 'petal width (cm)']\n",
      "Model score with selected features: 0.974\n"
     ]
    }
   ],
   "source": [
    "import matplotlib.pyplot as plt\n",
    "from sklearn.datasets import load_iris\n",
    "from sklearn.linear_model import LogisticRegression\n",
    "from sklearn.model_selection import train_test_split\n",
    "from sklearn.feature_selection import SequentialFeatureSelector\n",
    "\n",
    "# Load the dataset\n",
    "iris = load_iris(as_frame=True)\n",
    "X, y = iris.data, iris.target\n",
    "\n",
    "# Split the data into training and testing sets\n",
    "X_train, X_test, y_train, y_test = train_test_split(X, y, random_state=0)\n",
    "\n",
    "# Create a logistic regression classifier\n",
    "logreg = LogisticRegression(max_iter=1000)\n",
    "\n",
    "# Create the SequentialFeatureSelector object\n",
    "sfs = SequentialFeatureSelector(logreg, n_features_to_select=2, direction='forward')\n",
    "\n",
    "# Fit the SequentialFeatureSelector\n",
    "sfs.fit(X_train, y_train)\n",
    "\n",
    "# Transform the dataset to only include the selected features\n",
    "X_train_selected = sfs.transform(X_train)\n",
    "X_test_selected = sfs.transform(X_test)\n",
    "\n",
    "# Fit the logistic regression classifier to the training set with the selected features\n",
    "logreg.fit(X_train_selected, y_train)\n",
    "\n",
    "# Print which features were selected\n",
    "selected_features = sfs.get_support()\n",
    "print(\"Selected features:\", [iris.feature_names[i] for i in range(len(selected_features)) if selected_features[i]])\n",
    "\n",
    "# Evaluate the model on the test set with the selected features\n",
    "print(f\"Model score with selected features: {logreg.score(X_test_selected, y_test):.3f}\")"
   ]
  },
  {
   "cell_type": "code",
   "execution_count": 2,
   "outputs": [
    {
     "data": {
      "text/plain": "['sepal length (cm)',\n 'sepal width (cm)',\n 'petal length (cm)',\n 'petal width (cm)']"
     },
     "execution_count": 2,
     "metadata": {},
     "output_type": "execute_result"
    }
   ],
   "source": [
    "iris.feature_names"
   ],
   "metadata": {
    "collapsed": false,
    "ExecuteTime": {
     "end_time": "2023-11-04T20:32:30.467200400Z",
     "start_time": "2023-11-04T20:32:30.423599900Z"
    }
   }
  },
  {
   "cell_type": "code",
   "execution_count": 3,
   "outputs": [
    {
     "data": {
      "text/plain": "     sepal length (cm)  sepal width (cm)  petal length (cm)  petal width (cm)  \\\n0                  5.1               3.5                1.4               0.2   \n1                  4.9               3.0                1.4               0.2   \n2                  4.7               3.2                1.3               0.2   \n3                  4.6               3.1                1.5               0.2   \n4                  5.0               3.6                1.4               0.2   \n..                 ...               ...                ...               ...   \n145                6.7               3.0                5.2               2.3   \n146                6.3               2.5                5.0               1.9   \n147                6.5               3.0                5.2               2.0   \n148                6.2               3.4                5.4               2.3   \n149                5.9               3.0                5.1               1.8   \n\n     target  \n0         0  \n1         0  \n2         0  \n3         0  \n4         0  \n..      ...  \n145       2  \n146       2  \n147       2  \n148       2  \n149       2  \n\n[150 rows x 5 columns]",
      "text/html": "<div>\n<style scoped>\n    .dataframe tbody tr th:only-of-type {\n        vertical-align: middle;\n    }\n\n    .dataframe tbody tr th {\n        vertical-align: top;\n    }\n\n    .dataframe thead th {\n        text-align: right;\n    }\n</style>\n<table border=\"1\" class=\"dataframe\">\n  <thead>\n    <tr style=\"text-align: right;\">\n      <th></th>\n      <th>sepal length (cm)</th>\n      <th>sepal width (cm)</th>\n      <th>petal length (cm)</th>\n      <th>petal width (cm)</th>\n      <th>target</th>\n    </tr>\n  </thead>\n  <tbody>\n    <tr>\n      <th>0</th>\n      <td>5.1</td>\n      <td>3.5</td>\n      <td>1.4</td>\n      <td>0.2</td>\n      <td>0</td>\n    </tr>\n    <tr>\n      <th>1</th>\n      <td>4.9</td>\n      <td>3.0</td>\n      <td>1.4</td>\n      <td>0.2</td>\n      <td>0</td>\n    </tr>\n    <tr>\n      <th>2</th>\n      <td>4.7</td>\n      <td>3.2</td>\n      <td>1.3</td>\n      <td>0.2</td>\n      <td>0</td>\n    </tr>\n    <tr>\n      <th>3</th>\n      <td>4.6</td>\n      <td>3.1</td>\n      <td>1.5</td>\n      <td>0.2</td>\n      <td>0</td>\n    </tr>\n    <tr>\n      <th>4</th>\n      <td>5.0</td>\n      <td>3.6</td>\n      <td>1.4</td>\n      <td>0.2</td>\n      <td>0</td>\n    </tr>\n    <tr>\n      <th>...</th>\n      <td>...</td>\n      <td>...</td>\n      <td>...</td>\n      <td>...</td>\n      <td>...</td>\n    </tr>\n    <tr>\n      <th>145</th>\n      <td>6.7</td>\n      <td>3.0</td>\n      <td>5.2</td>\n      <td>2.3</td>\n      <td>2</td>\n    </tr>\n    <tr>\n      <th>146</th>\n      <td>6.3</td>\n      <td>2.5</td>\n      <td>5.0</td>\n      <td>1.9</td>\n      <td>2</td>\n    </tr>\n    <tr>\n      <th>147</th>\n      <td>6.5</td>\n      <td>3.0</td>\n      <td>5.2</td>\n      <td>2.0</td>\n      <td>2</td>\n    </tr>\n    <tr>\n      <th>148</th>\n      <td>6.2</td>\n      <td>3.4</td>\n      <td>5.4</td>\n      <td>2.3</td>\n      <td>2</td>\n    </tr>\n    <tr>\n      <th>149</th>\n      <td>5.9</td>\n      <td>3.0</td>\n      <td>5.1</td>\n      <td>1.8</td>\n      <td>2</td>\n    </tr>\n  </tbody>\n</table>\n<p>150 rows × 5 columns</p>\n</div>"
     },
     "execution_count": 3,
     "metadata": {},
     "output_type": "execute_result"
    }
   ],
   "source": [
    "iris.frame"
   ],
   "metadata": {
    "collapsed": false,
    "ExecuteTime": {
     "end_time": "2023-11-04T20:32:30.478756200Z",
     "start_time": "2023-11-04T20:32:30.439452800Z"
    }
   }
  }
 ]
}
