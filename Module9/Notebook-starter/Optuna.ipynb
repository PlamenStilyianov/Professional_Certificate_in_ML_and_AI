{
 "nbformat": 4,
 "nbformat_minor": 0,
 "metadata": {
  "colab": {
   "provenance": []
  },
  "kernelspec": {
   "name": "python3",
   "language": "python",
   "display_name": "Python 3 (ipykernel)"
  },
  "language_info": {
   "name": "python"
  }
 },
 "cells": [
  {
   "cell_type": "code",
   "source": [
    "! pip install optuna"
   ],
   "metadata": {
    "colab": {
     "base_uri": "https://localhost:8080/"
    },
    "id": "H-EYMMP4IR0g",
    "outputId": "89f87c6e-551e-467f-964d-5a4b27c2a8d1",
    "ExecuteTime": {
     "end_time": "2023-11-02T19:44:42.964346200Z",
     "start_time": "2023-11-02T19:44:39.581857700Z"
    }
   },
   "execution_count": 16,
   "outputs": [
    {
     "name": "stdout",
     "output_type": "stream",
     "text": [
      "Looking in indexes: https://pypi.org/simple, https://pypi.ngc.nvidia.com\n",
      "Requirement already satisfied: optuna in c:\\java\\python3.10.8\\lib\\site-packages (3.4.0)\n",
      "Requirement already satisfied: alembic>=1.5.0 in c:\\java\\python3.10.8\\lib\\site-packages (from optuna) (1.12.1)\n",
      "Requirement already satisfied: colorlog in c:\\java\\python3.10.8\\lib\\site-packages (from optuna) (6.7.0)\n",
      "Requirement already satisfied: numpy in c:\\java\\python3.10.8\\lib\\site-packages (from optuna) (1.23.4)\n",
      "Requirement already satisfied: packaging>=20.0 in c:\\java\\python3.10.8\\lib\\site-packages (from optuna) (23.2)\n",
      "Requirement already satisfied: sqlalchemy>=1.3.0 in c:\\java\\python3.10.8\\lib\\site-packages (from optuna) (2.0.21)\n",
      "Requirement already satisfied: tqdm in c:\\java\\python3.10.8\\lib\\site-packages (from optuna) (4.66.1)\n",
      "Requirement already satisfied: PyYAML in c:\\java\\python3.10.8\\lib\\site-packages (from optuna) (6.0.1)\n",
      "Requirement already satisfied: Mako in c:\\java\\python3.10.8\\lib\\site-packages (from alembic>=1.5.0->optuna) (1.2.4)\n",
      "Requirement already satisfied: typing-extensions>=4 in c:\\java\\python3.10.8\\lib\\site-packages (from alembic>=1.5.0->optuna) (4.8.0)\n",
      "Requirement already satisfied: greenlet!=0.4.17 in c:\\java\\python3.10.8\\lib\\site-packages (from sqlalchemy>=1.3.0->optuna) (3.0.0)\n",
      "Requirement already satisfied: colorama in c:\\java\\python3.10.8\\lib\\site-packages (from colorlog->optuna) (0.4.6)\n",
      "Requirement already satisfied: MarkupSafe>=0.9.2 in c:\\java\\python3.10.8\\lib\\site-packages (from Mako->alembic>=1.5.0->optuna) (2.1.3)\n"
     ]
    },
    {
     "name": "stderr",
     "output_type": "stream",
     "text": [
      "DEPRECATION: pytorch-lightning 1.6.5 has a non-standard dependency specifier torch>=1.8.*. pip 24.0 will enforce this behaviour change. A possible replacement is to upgrade to a newer version of pytorch-lightning or contact the author to suggest that they release a version with a conforming dependency specifiers. Discussion can be found at https://github.com/pypa/pip/issues/12063\n"
     ]
    }
   ]
  },
  {
   "cell_type": "code",
   "execution_count": 17,
   "metadata": {
    "id": "X8h-IQP1GNkX",
    "ExecuteTime": {
     "end_time": "2023-11-02T19:44:43.008131900Z",
     "start_time": "2023-11-02T19:44:42.964346200Z"
    }
   },
   "outputs": [],
   "source": [
    "# Importing necessary libraries\n",
    "import optuna\n",
    "import numpy as np\n",
    "from sklearn.datasets import load_iris\n",
    "from sklearn.linear_model import LogisticRegression\n",
    "from sklearn.model_selection import cross_val_score, train_test_split\n",
    "from sklearn.metrics import accuracy_score, classification_report\n",
    "from sklearn.preprocessing import StandardScaler\n",
    "from sklearn.pipeline import make_pipeline\n",
    "import joblib"
   ]
  },
  {
   "cell_type": "code",
   "source": [
    "# Step 1: Load the data\n",
    "iris = load_iris()\n",
    "X, y = iris.data, iris.target"
   ],
   "metadata": {
    "id": "mzNpEXXCGTga",
    "ExecuteTime": {
     "end_time": "2023-11-02T19:44:43.022028200Z",
     "start_time": "2023-11-02T19:44:42.982079300Z"
    }
   },
   "execution_count": 18,
   "outputs": []
  },
  {
   "cell_type": "code",
   "source": [
    "# Step 2: Split the dataset into training and test sets\n",
    "X_train, X_test, y_train, y_test = train_test_split(X, y, test_size=0.2, random_state=42)"
   ],
   "metadata": {
    "id": "ru9wg7VNGUtu",
    "ExecuteTime": {
     "end_time": "2023-11-02T19:44:43.023089300Z",
     "start_time": "2023-11-02T19:44:42.998026300Z"
    }
   },
   "execution_count": 19,
   "outputs": []
  },
  {
   "cell_type": "code",
   "source": [
    "# Step 3\n",
    "def objective(trial):\n",
    "    # Define hyperparameters based on given search space\n",
    "    penalty = trial.suggest_categorical('penalty', ['l1', 'l2'])\n",
    "    C = trial.suggest_float('C', 1e-4, 1e4, log=True)\n",
    "\n",
    "    # Initialize and train classifier\n",
    "    model = make_pipeline(\n",
    "        StandardScaler(),\n",
    "        LogisticRegression(solver='liblinear', penalty=penalty, C=C, random_state=0)\n",
    "    )\n",
    "    model.fit(X_train, y_train)\n",
    "\n",
    "    # Predict and return accuracy\n",
    "    y_pred = model.predict(X_test)\n",
    "    accuracy = accuracy_score(y_test, y_pred)\n",
    "    return accuracy"
   ],
   "metadata": {
    "id": "MsvIVqstGWNm",
    "ExecuteTime": {
     "end_time": "2023-11-02T19:44:43.057043700Z",
     "start_time": "2023-11-02T19:44:43.014026300Z"
    }
   },
   "execution_count": 20,
   "outputs": []
  },
  {
   "cell_type": "code",
   "source": [
    "# Step 4: Create a study object and specify the direction is 'maximize'.\n",
    "study = optuna.create_study(direction='maximize')"
   ],
   "metadata": {
    "colab": {
     "base_uri": "https://localhost:8080/"
    },
    "id": "wspJAvnGGnhJ",
    "outputId": "48324e01-363c-484d-f340-9c8289f4feb1",
    "ExecuteTime": {
     "end_time": "2023-11-02T19:44:43.086497300Z",
     "start_time": "2023-11-02T19:44:43.027025200Z"
    }
   },
   "execution_count": 21,
   "outputs": [
    {
     "name": "stderr",
     "output_type": "stream",
     "text": [
      "[I 2023-11-02 19:44:43,026] A new study created in memory with name: no-name-494d6e25-c43a-45cc-9481-ca195e118d1e\n"
     ]
    }
   ]
  },
  {
   "cell_type": "code",
   "source": [
    "# Step 5: Optimize the study, the objective function is passed in as the first argument.\n",
    "study.optimize(objective, n_trials=100)"
   ],
   "metadata": {
    "id": "ObtJ1PWXGYLb",
    "colab": {
     "base_uri": "https://localhost:8080/"
    },
    "outputId": "cda718af-2ea9-4366-ad12-2148e11ebcf0",
    "ExecuteTime": {
     "end_time": "2023-11-02T19:44:43.656215400Z",
     "start_time": "2023-11-02T19:44:43.041035Z"
    }
   },
   "execution_count": 22,
   "outputs": [
    {
     "name": "stderr",
     "output_type": "stream",
     "text": [
      "[I 2023-11-02 19:44:43,044] Trial 0 finished with value: 0.9666666666666667 and parameters: {'penalty': 'l2', 'C': 4.502313328282632}. Best is trial 0 with value: 0.9666666666666667.\n",
      "[I 2023-11-02 19:44:43,046] Trial 1 finished with value: 1.0 and parameters: {'penalty': 'l2', 'C': 134.6114988665146}. Best is trial 1 with value: 1.0.\n",
      "[I 2023-11-02 19:44:43,048] Trial 2 finished with value: 1.0 and parameters: {'penalty': 'l1', 'C': 508.67005398069693}. Best is trial 1 with value: 1.0.\n",
      "[I 2023-11-02 19:44:43,050] Trial 3 finished with value: 0.6 and parameters: {'penalty': 'l1', 'C': 0.019554952606035996}. Best is trial 1 with value: 1.0.\n",
      "[I 2023-11-02 19:44:43,052] Trial 4 finished with value: 1.0 and parameters: {'penalty': 'l1', 'C': 26.46394941581556}. Best is trial 1 with value: 1.0.\n",
      "[I 2023-11-02 19:44:43,055] Trial 5 finished with value: 1.0 and parameters: {'penalty': 'l1', 'C': 881.8841675931137}. Best is trial 1 with value: 1.0.\n",
      "[I 2023-11-02 19:44:43,057] Trial 6 finished with value: 0.9 and parameters: {'penalty': 'l2', 'C': 0.06746041872803571}. Best is trial 1 with value: 1.0.\n",
      "[I 2023-11-02 19:44:43,059] Trial 7 finished with value: 1.0 and parameters: {'penalty': 'l1', 'C': 54.531804689244254}. Best is trial 1 with value: 1.0.\n",
      "[I 2023-11-02 19:44:43,062] Trial 8 finished with value: 0.9333333333333333 and parameters: {'penalty': 'l2', 'C': 0.29016853723153385}. Best is trial 1 with value: 1.0.\n",
      "[I 2023-11-02 19:44:43,064] Trial 9 finished with value: 0.9666666666666667 and parameters: {'penalty': 'l1', 'C': 0.34574808903867166}. Best is trial 1 with value: 1.0.\n",
      "[I 2023-11-02 19:44:43,068] Trial 10 finished with value: 0.8 and parameters: {'penalty': 'l2', 'C': 0.0003652221532590777}. Best is trial 1 with value: 1.0.\n",
      "[I 2023-11-02 19:44:43,074] Trial 11 finished with value: 1.0 and parameters: {'penalty': 'l2', 'C': 3270.4448396593366}. Best is trial 1 with value: 1.0.\n",
      "[I 2023-11-02 19:44:43,079] Trial 12 finished with value: 1.0 and parameters: {'penalty': 'l2', 'C': 9346.76270972954}. Best is trial 1 with value: 1.0.\n",
      "[I 2023-11-02 19:44:43,084] Trial 13 finished with value: 1.0 and parameters: {'penalty': 'l1', 'C': 428.61429740216096}. Best is trial 1 with value: 1.0.\n",
      "[I 2023-11-02 19:44:43,089] Trial 14 finished with value: 1.0 and parameters: {'penalty': 'l1', 'C': 221.60916901612399}. Best is trial 1 with value: 1.0.\n",
      "[I 2023-11-02 19:44:43,095] Trial 15 finished with value: 1.0 and parameters: {'penalty': 'l2', 'C': 20.958446863689105}. Best is trial 1 with value: 1.0.\n",
      "[I 2023-11-02 19:44:43,101] Trial 16 finished with value: 1.0 and parameters: {'penalty': 'l1', 'C': 1624.278626845764}. Best is trial 1 with value: 1.0.\n",
      "[I 2023-11-02 19:44:43,107] Trial 17 finished with value: 1.0 and parameters: {'penalty': 'l2', 'C': 135.51798096414916}. Best is trial 1 with value: 1.0.\n",
      "[I 2023-11-02 19:44:43,112] Trial 18 finished with value: 0.9666666666666667 and parameters: {'penalty': 'l2', 'C': 3.2676954710600166}. Best is trial 1 with value: 1.0.\n",
      "[I 2023-11-02 19:44:43,119] Trial 19 finished with value: 1.0 and parameters: {'penalty': 'l1', 'C': 7201.566757094651}. Best is trial 1 with value: 1.0.\n",
      "[I 2023-11-02 19:44:43,125] Trial 20 finished with value: 1.0 and parameters: {'penalty': 'l1', 'C': 439.2689772189692}. Best is trial 1 with value: 1.0.\n",
      "[I 2023-11-02 19:44:43,130] Trial 21 finished with value: 1.0 and parameters: {'penalty': 'l1', 'C': 24.623548391133752}. Best is trial 1 with value: 1.0.\n",
      "[I 2023-11-02 19:44:43,136] Trial 22 finished with value: 1.0 and parameters: {'penalty': 'l1', 'C': 74.65819469280049}. Best is trial 1 with value: 1.0.\n",
      "[I 2023-11-02 19:44:43,141] Trial 23 finished with value: 1.0 and parameters: {'penalty': 'l1', 'C': 14.018270926318555}. Best is trial 1 with value: 1.0.\n",
      "[I 2023-11-02 19:44:43,147] Trial 24 finished with value: 1.0 and parameters: {'penalty': 'l1', 'C': 172.85882372751593}. Best is trial 1 with value: 1.0.\n",
      "[I 2023-11-02 19:44:43,153] Trial 25 finished with value: 1.0 and parameters: {'penalty': 'l1', 'C': 1723.2625537976373}. Best is trial 1 with value: 1.0.\n",
      "[I 2023-11-02 19:44:43,159] Trial 26 finished with value: 1.0 and parameters: {'penalty': 'l2', 'C': 562.0633906650555}. Best is trial 1 with value: 1.0.\n",
      "[I 2023-11-02 19:44:43,166] Trial 27 finished with value: 1.0 and parameters: {'penalty': 'l1', 'C': 7.8442364150373}. Best is trial 1 with value: 1.0.\n",
      "[I 2023-11-02 19:44:43,171] Trial 28 finished with value: 1.0 and parameters: {'penalty': 'l2', 'C': 55.368932147440134}. Best is trial 1 with value: 1.0.\n",
      "[I 2023-11-02 19:44:43,176] Trial 29 finished with value: 0.9666666666666667 and parameters: {'penalty': 'l2', 'C': 2.0644317412346145}. Best is trial 1 with value: 1.0.\n",
      "[I 2023-11-02 19:44:43,182] Trial 30 finished with value: 1.0 and parameters: {'penalty': 'l1', 'C': 6.348122983445814}. Best is trial 1 with value: 1.0.\n",
      "[I 2023-11-02 19:44:43,188] Trial 31 finished with value: 1.0 and parameters: {'penalty': 'l1', 'C': 1067.272592515534}. Best is trial 1 with value: 1.0.\n",
      "[I 2023-11-02 19:44:43,194] Trial 32 finished with value: 1.0 and parameters: {'penalty': 'l1', 'C': 639.7830147516416}. Best is trial 1 with value: 1.0.\n",
      "[I 2023-11-02 19:44:43,201] Trial 33 finished with value: 1.0 and parameters: {'penalty': 'l1', 'C': 185.78293996065054}. Best is trial 1 with value: 1.0.\n",
      "[I 2023-11-02 19:44:43,208] Trial 34 finished with value: 1.0 and parameters: {'penalty': 'l1', 'C': 51.6200639232318}. Best is trial 1 with value: 1.0.\n",
      "[I 2023-11-02 19:44:43,214] Trial 35 finished with value: 1.0 and parameters: {'penalty': 'l1', 'C': 2949.4693987517358}. Best is trial 1 with value: 1.0.\n",
      "[I 2023-11-02 19:44:43,219] Trial 36 finished with value: 1.0 and parameters: {'penalty': 'l1', 'C': 61.40273302576501}. Best is trial 1 with value: 1.0.\n",
      "[I 2023-11-02 19:44:43,224] Trial 37 finished with value: 1.0 and parameters: {'penalty': 'l2', 'C': 20.645308955997663}. Best is trial 1 with value: 1.0.\n",
      "[I 2023-11-02 19:44:43,231] Trial 38 finished with value: 1.0 and parameters: {'penalty': 'l1', 'C': 977.6470734814651}. Best is trial 1 with value: 1.0.\n",
      "[I 2023-11-02 19:44:43,239] Trial 39 finished with value: 0.9666666666666667 and parameters: {'penalty': 'l2', 'C': 1.0756140684499575}. Best is trial 1 with value: 1.0.\n",
      "[I 2023-11-02 19:44:43,246] Trial 40 finished with value: 1.0 and parameters: {'penalty': 'l1', 'C': 3739.1249459728756}. Best is trial 1 with value: 1.0.\n",
      "[I 2023-11-02 19:44:43,251] Trial 41 finished with value: 1.0 and parameters: {'penalty': 'l1', 'C': 290.18992776097423}. Best is trial 1 with value: 1.0.\n",
      "[I 2023-11-02 19:44:43,257] Trial 42 finished with value: 1.0 and parameters: {'penalty': 'l1', 'C': 97.83326588994446}. Best is trial 1 with value: 1.0.\n",
      "[I 2023-11-02 19:44:43,263] Trial 43 finished with value: 1.0 and parameters: {'penalty': 'l1', 'C': 304.43236207569277}. Best is trial 1 with value: 1.0.\n",
      "[I 2023-11-02 19:44:43,268] Trial 44 finished with value: 1.0 and parameters: {'penalty': 'l1', 'C': 35.491292014842145}. Best is trial 1 with value: 1.0.\n",
      "[I 2023-11-02 19:44:43,276] Trial 45 finished with value: 1.0 and parameters: {'penalty': 'l2', 'C': 108.40126232450136}. Best is trial 1 with value: 1.0.\n",
      "[I 2023-11-02 19:44:43,282] Trial 46 finished with value: 1.0 and parameters: {'penalty': 'l1', 'C': 11.203261636619937}. Best is trial 1 with value: 1.0.\n",
      "[I 2023-11-02 19:44:43,288] Trial 47 finished with value: 1.0 and parameters: {'penalty': 'l2', 'C': 708.8072789450921}. Best is trial 1 with value: 1.0.\n",
      "[I 2023-11-02 19:44:43,294] Trial 48 finished with value: 1.0 and parameters: {'penalty': 'l1', 'C': 28.00847876263541}. Best is trial 1 with value: 1.0.\n",
      "[I 2023-11-02 19:44:43,299] Trial 49 finished with value: 1.0 and parameters: {'penalty': 'l2', 'C': 230.58758080939117}. Best is trial 1 with value: 1.0.\n",
      "[I 2023-11-02 19:44:43,304] Trial 50 finished with value: 1.0 and parameters: {'penalty': 'l1', 'C': 3.518303962131809}. Best is trial 1 with value: 1.0.\n",
      "[I 2023-11-02 19:44:43,310] Trial 51 finished with value: 1.0 and parameters: {'penalty': 'l2', 'C': 8078.85745728645}. Best is trial 1 with value: 1.0.\n",
      "[I 2023-11-02 19:44:43,317] Trial 52 finished with value: 1.0 and parameters: {'penalty': 'l2', 'C': 1851.0921488296422}. Best is trial 1 with value: 1.0.\n",
      "[I 2023-11-02 19:44:43,323] Trial 53 finished with value: 1.0 and parameters: {'penalty': 'l2', 'C': 436.7637339673486}. Best is trial 1 with value: 1.0.\n",
      "[I 2023-11-02 19:44:43,329] Trial 54 finished with value: 1.0 and parameters: {'penalty': 'l2', 'C': 3851.417148659277}. Best is trial 1 with value: 1.0.\n",
      "[I 2023-11-02 19:44:43,334] Trial 55 finished with value: 1.0 and parameters: {'penalty': 'l2', 'C': 123.68168238303728}. Best is trial 1 with value: 1.0.\n",
      "[I 2023-11-02 19:44:43,341] Trial 56 finished with value: 1.0 and parameters: {'penalty': 'l1', 'C': 1486.6662948801345}. Best is trial 1 with value: 1.0.\n",
      "[I 2023-11-02 19:44:43,347] Trial 57 finished with value: 1.0 and parameters: {'penalty': 'l1', 'C': 697.9946776168163}. Best is trial 1 with value: 1.0.\n",
      "[I 2023-11-02 19:44:43,354] Trial 58 finished with value: 1.0 and parameters: {'penalty': 'l2', 'C': 329.00594422508505}. Best is trial 1 with value: 1.0.\n",
      "[I 2023-11-02 19:44:43,361] Trial 59 finished with value: 1.0 and parameters: {'penalty': 'l1', 'C': 177.0040454529643}. Best is trial 1 with value: 1.0.\n",
      "[I 2023-11-02 19:44:43,367] Trial 60 finished with value: 1.0 and parameters: {'penalty': 'l2', 'C': 2322.094655660372}. Best is trial 1 with value: 1.0.\n",
      "[I 2023-11-02 19:44:43,373] Trial 61 finished with value: 1.0 and parameters: {'penalty': 'l2', 'C': 8195.111520240525}. Best is trial 1 with value: 1.0.\n",
      "[I 2023-11-02 19:44:43,379] Trial 62 finished with value: 1.0 and parameters: {'penalty': 'l2', 'C': 4846.800738086335}. Best is trial 1 with value: 1.0.\n",
      "[I 2023-11-02 19:44:43,385] Trial 63 finished with value: 1.0 and parameters: {'penalty': 'l2', 'C': 1293.9204145114359}. Best is trial 1 with value: 1.0.\n",
      "[I 2023-11-02 19:44:43,392] Trial 64 finished with value: 1.0 and parameters: {'penalty': 'l2', 'C': 5502.292653240851}. Best is trial 1 with value: 1.0.\n",
      "[I 2023-11-02 19:44:43,400] Trial 65 finished with value: 1.0 and parameters: {'penalty': 'l1', 'C': 2061.6809430739786}. Best is trial 1 with value: 1.0.\n",
      "[I 2023-11-02 19:44:43,406] Trial 66 finished with value: 1.0 and parameters: {'penalty': 'l1', 'C': 732.0182577448771}. Best is trial 1 with value: 1.0.\n",
      "[I 2023-11-02 19:44:43,414] Trial 67 finished with value: 1.0 and parameters: {'penalty': 'l2', 'C': 9329.337018663864}. Best is trial 1 with value: 1.0.\n",
      "[I 2023-11-02 19:44:43,420] Trial 68 finished with value: 1.0 and parameters: {'penalty': 'l1', 'C': 3152.4118591768784}. Best is trial 1 with value: 1.0.\n",
      "[I 2023-11-02 19:44:43,427] Trial 69 finished with value: 1.0 and parameters: {'penalty': 'l1', 'C': 82.26154315087729}. Best is trial 1 with value: 1.0.\n",
      "[I 2023-11-02 19:44:43,433] Trial 70 finished with value: 1.0 and parameters: {'penalty': 'l2', 'C': 44.37308029926168}. Best is trial 1 with value: 1.0.\n",
      "[I 2023-11-02 19:44:43,439] Trial 71 finished with value: 1.0 and parameters: {'penalty': 'l1', 'C': 400.6372785072037}. Best is trial 1 with value: 1.0.\n",
      "[I 2023-11-02 19:44:43,447] Trial 72 finished with value: 1.0 and parameters: {'penalty': 'l1', 'C': 196.16825727608452}. Best is trial 1 with value: 1.0.\n",
      "[I 2023-11-02 19:44:43,454] Trial 73 finished with value: 1.0 and parameters: {'penalty': 'l1', 'C': 1041.0180479544936}. Best is trial 1 with value: 1.0.\n",
      "[I 2023-11-02 19:44:43,462] Trial 74 finished with value: 1.0 and parameters: {'penalty': 'l1', 'C': 533.5076882484311}. Best is trial 1 with value: 1.0.\n",
      "[I 2023-11-02 19:44:43,468] Trial 75 finished with value: 1.0 and parameters: {'penalty': 'l1', 'C': 2439.66777819582}. Best is trial 1 with value: 1.0.\n",
      "[I 2023-11-02 19:44:43,475] Trial 76 finished with value: 1.0 and parameters: {'penalty': 'l1', 'C': 17.795388793049575}. Best is trial 1 with value: 1.0.\n",
      "[I 2023-11-02 19:44:43,482] Trial 77 finished with value: 1.0 and parameters: {'penalty': 'l1', 'C': 73.27448687553328}. Best is trial 1 with value: 1.0.\n",
      "[I 2023-11-02 19:44:43,487] Trial 78 finished with value: 1.0 and parameters: {'penalty': 'l2', 'C': 1046.8910205987588}. Best is trial 1 with value: 1.0.\n",
      "[I 2023-11-02 19:44:43,494] Trial 79 finished with value: 1.0 and parameters: {'penalty': 'l1', 'C': 164.8996318020491}. Best is trial 1 with value: 1.0.\n",
      "[I 2023-11-02 19:44:43,500] Trial 80 finished with value: 1.0 and parameters: {'penalty': 'l1', 'C': 312.0192779333017}. Best is trial 1 with value: 1.0.\n",
      "[I 2023-11-02 19:44:43,507] Trial 81 finished with value: 1.0 and parameters: {'penalty': 'l1', 'C': 34.95723636822991}. Best is trial 1 with value: 1.0.\n",
      "[I 2023-11-02 19:44:43,513] Trial 82 finished with value: 1.0 and parameters: {'penalty': 'l1', 'C': 466.13634944244393}. Best is trial 1 with value: 1.0.\n",
      "[I 2023-11-02 19:44:43,520] Trial 83 finished with value: 1.0 and parameters: {'penalty': 'l1', 'C': 5518.950703829694}. Best is trial 1 with value: 1.0.\n",
      "[I 2023-11-02 19:44:43,526] Trial 84 finished with value: 1.0 and parameters: {'penalty': 'l1', 'C': 116.76448345533001}. Best is trial 1 with value: 1.0.\n",
      "[I 2023-11-02 19:44:43,532] Trial 85 finished with value: 1.0 and parameters: {'penalty': 'l2', 'C': 259.8112691803147}. Best is trial 1 with value: 1.0.\n",
      "[I 2023-11-02 19:44:43,539] Trial 86 finished with value: 1.0 and parameters: {'penalty': 'l1', 'C': 56.21767260697678}. Best is trial 1 with value: 1.0.\n",
      "[I 2023-11-02 19:44:43,546] Trial 87 finished with value: 1.0 and parameters: {'penalty': 'l1', 'C': 1427.4548908137497}. Best is trial 1 with value: 1.0.\n",
      "[I 2023-11-02 19:44:43,553] Trial 88 finished with value: 1.0 and parameters: {'penalty': 'l2', 'C': 129.53447402939977}. Best is trial 1 with value: 1.0.\n",
      "[I 2023-11-02 19:44:43,559] Trial 89 finished with value: 1.0 and parameters: {'penalty': 'l1', 'C': 796.8299434868966}. Best is trial 1 with value: 1.0.\n",
      "[I 2023-11-02 19:44:43,566] Trial 90 finished with value: 1.0 and parameters: {'penalty': 'l2', 'C': 3675.885013136932}. Best is trial 1 with value: 1.0.\n",
      "[I 2023-11-02 19:44:43,572] Trial 91 finished with value: 1.0 and parameters: {'penalty': 'l2', 'C': 14.185251291634772}. Best is trial 1 with value: 1.0.\n",
      "[I 2023-11-02 19:44:43,579] Trial 92 finished with value: 1.0 and parameters: {'penalty': 'l2', 'C': 25.460175684478024}. Best is trial 1 with value: 1.0.\n",
      "[I 2023-11-02 19:44:43,586] Trial 93 finished with value: 1.0 and parameters: {'penalty': 'l2', 'C': 8.345257033970455}. Best is trial 1 with value: 1.0.\n",
      "[I 2023-11-02 19:44:43,597] Trial 94 finished with value: 1.0 and parameters: {'penalty': 'l2', 'C': 79.16714739275602}. Best is trial 1 with value: 1.0.\n",
      "[I 2023-11-02 19:44:43,605] Trial 95 finished with value: 1.0 and parameters: {'penalty': 'l2', 'C': 216.2386487521832}. Best is trial 1 with value: 1.0.\n",
      "[I 2023-11-02 19:44:43,614] Trial 96 finished with value: 1.0 and parameters: {'penalty': 'l1', 'C': 45.90378565465918}. Best is trial 1 with value: 1.0.\n",
      "[I 2023-11-02 19:44:43,621] Trial 97 finished with value: 1.0 and parameters: {'penalty': 'l2', 'C': 1809.4691776244072}. Best is trial 1 with value: 1.0.\n",
      "[I 2023-11-02 19:44:43,627] Trial 98 finished with value: 1.0 and parameters: {'penalty': 'l1', 'C': 443.4916483715977}. Best is trial 1 with value: 1.0.\n",
      "[I 2023-11-02 19:44:43,634] Trial 99 finished with value: 1.0 and parameters: {'penalty': 'l1', 'C': 590.5713657313077}. Best is trial 1 with value: 1.0.\n"
     ]
    }
   ]
  },
  {
   "cell_type": "code",
   "source": [
    "# Step 6: Retrieve the best parameters\n",
    "best_params = study.best_trial.params\n",
    "print(\"Best parameters: \", best_params)"
   ],
   "metadata": {
    "id": "WXUkBUcpGboJ",
    "colab": {
     "base_uri": "https://localhost:8080/"
    },
    "outputId": "e4f3c131-4be9-4b3d-8696-3ec8c2a73229",
    "ExecuteTime": {
     "end_time": "2023-11-02T19:44:43.666862900Z",
     "start_time": "2023-11-02T19:44:43.651342500Z"
    }
   },
   "execution_count": 23,
   "outputs": [
    {
     "name": "stdout",
     "output_type": "stream",
     "text": [
      "Best parameters:  {'penalty': 'l2', 'C': 134.6114988665146}\n"
     ]
    }
   ]
  },
  {
   "cell_type": "code",
   "source": [
    "# Step 7: Retrieve the best model\n",
    "best_model = make_pipeline(\n",
    "    StandardScaler(),\n",
    "    LogisticRegression(**best_params, solver='liblinear', random_state=0)\n",
    ")"
   ],
   "metadata": {
    "id": "Pr3T9ILbGdE0",
    "ExecuteTime": {
     "end_time": "2023-11-02T19:44:43.708617Z",
     "start_time": "2023-11-02T19:44:43.664350500Z"
    }
   },
   "execution_count": 24,
   "outputs": []
  },
  {
   "cell_type": "code",
   "source": [
    "# Step 10: Train the best model\n",
    "best_model.fit(X_train, y_train)"
   ],
   "metadata": {
    "colab": {
     "base_uri": "https://localhost:8080/",
     "height": 125
    },
    "id": "o4Xs8PYvJkfK",
    "outputId": "6596798f-a5ad-48a9-954b-7a48e8eb43e8",
    "ExecuteTime": {
     "end_time": "2023-11-02T19:44:43.712937700Z",
     "start_time": "2023-11-02T19:44:43.682134200Z"
    }
   },
   "execution_count": 25,
   "outputs": [
    {
     "data": {
      "text/plain": "Pipeline(steps=[('standardscaler', StandardScaler()),\n                ('logisticregression',\n                 LogisticRegression(C=134.6114988665146, random_state=0,\n                                    solver='liblinear'))])",
      "text/html": "<style>#sk-container-id-2 {color: black;}#sk-container-id-2 pre{padding: 0;}#sk-container-id-2 div.sk-toggleable {background-color: white;}#sk-container-id-2 label.sk-toggleable__label {cursor: pointer;display: block;width: 100%;margin-bottom: 0;padding: 0.3em;box-sizing: border-box;text-align: center;}#sk-container-id-2 label.sk-toggleable__label-arrow:before {content: \"▸\";float: left;margin-right: 0.25em;color: #696969;}#sk-container-id-2 label.sk-toggleable__label-arrow:hover:before {color: black;}#sk-container-id-2 div.sk-estimator:hover label.sk-toggleable__label-arrow:before {color: black;}#sk-container-id-2 div.sk-toggleable__content {max-height: 0;max-width: 0;overflow: hidden;text-align: left;background-color: #f0f8ff;}#sk-container-id-2 div.sk-toggleable__content pre {margin: 0.2em;color: black;border-radius: 0.25em;background-color: #f0f8ff;}#sk-container-id-2 input.sk-toggleable__control:checked~div.sk-toggleable__content {max-height: 200px;max-width: 100%;overflow: auto;}#sk-container-id-2 input.sk-toggleable__control:checked~label.sk-toggleable__label-arrow:before {content: \"▾\";}#sk-container-id-2 div.sk-estimator input.sk-toggleable__control:checked~label.sk-toggleable__label {background-color: #d4ebff;}#sk-container-id-2 div.sk-label input.sk-toggleable__control:checked~label.sk-toggleable__label {background-color: #d4ebff;}#sk-container-id-2 input.sk-hidden--visually {border: 0;clip: rect(1px 1px 1px 1px);clip: rect(1px, 1px, 1px, 1px);height: 1px;margin: -1px;overflow: hidden;padding: 0;position: absolute;width: 1px;}#sk-container-id-2 div.sk-estimator {font-family: monospace;background-color: #f0f8ff;border: 1px dotted black;border-radius: 0.25em;box-sizing: border-box;margin-bottom: 0.5em;}#sk-container-id-2 div.sk-estimator:hover {background-color: #d4ebff;}#sk-container-id-2 div.sk-parallel-item::after {content: \"\";width: 100%;border-bottom: 1px solid gray;flex-grow: 1;}#sk-container-id-2 div.sk-label:hover label.sk-toggleable__label {background-color: #d4ebff;}#sk-container-id-2 div.sk-serial::before {content: \"\";position: absolute;border-left: 1px solid gray;box-sizing: border-box;top: 0;bottom: 0;left: 50%;z-index: 0;}#sk-container-id-2 div.sk-serial {display: flex;flex-direction: column;align-items: center;background-color: white;padding-right: 0.2em;padding-left: 0.2em;position: relative;}#sk-container-id-2 div.sk-item {position: relative;z-index: 1;}#sk-container-id-2 div.sk-parallel {display: flex;align-items: stretch;justify-content: center;background-color: white;position: relative;}#sk-container-id-2 div.sk-item::before, #sk-container-id-2 div.sk-parallel-item::before {content: \"\";position: absolute;border-left: 1px solid gray;box-sizing: border-box;top: 0;bottom: 0;left: 50%;z-index: -1;}#sk-container-id-2 div.sk-parallel-item {display: flex;flex-direction: column;z-index: 1;position: relative;background-color: white;}#sk-container-id-2 div.sk-parallel-item:first-child::after {align-self: flex-end;width: 50%;}#sk-container-id-2 div.sk-parallel-item:last-child::after {align-self: flex-start;width: 50%;}#sk-container-id-2 div.sk-parallel-item:only-child::after {width: 0;}#sk-container-id-2 div.sk-dashed-wrapped {border: 1px dashed gray;margin: 0 0.4em 0.5em 0.4em;box-sizing: border-box;padding-bottom: 0.4em;background-color: white;}#sk-container-id-2 div.sk-label label {font-family: monospace;font-weight: bold;display: inline-block;line-height: 1.2em;}#sk-container-id-2 div.sk-label-container {text-align: center;}#sk-container-id-2 div.sk-container {/* jupyter's `normalize.less` sets `[hidden] { display: none; }` but bootstrap.min.css set `[hidden] { display: none !important; }` so we also need the `!important` here to be able to override the default hidden behavior on the sphinx rendered scikit-learn.org. See: https://github.com/scikit-learn/scikit-learn/issues/21755 */display: inline-block !important;position: relative;}#sk-container-id-2 div.sk-text-repr-fallback {display: none;}</style><div id=\"sk-container-id-2\" class=\"sk-top-container\"><div class=\"sk-text-repr-fallback\"><pre>Pipeline(steps=[(&#x27;standardscaler&#x27;, StandardScaler()),\n                (&#x27;logisticregression&#x27;,\n                 LogisticRegression(C=134.6114988665146, random_state=0,\n                                    solver=&#x27;liblinear&#x27;))])</pre><b>In a Jupyter environment, please rerun this cell to show the HTML representation or trust the notebook. <br />On GitHub, the HTML representation is unable to render, please try loading this page with nbviewer.org.</b></div><div class=\"sk-container\" hidden><div class=\"sk-item sk-dashed-wrapped\"><div class=\"sk-label-container\"><div class=\"sk-label sk-toggleable\"><input class=\"sk-toggleable__control sk-hidden--visually\" id=\"sk-estimator-id-4\" type=\"checkbox\" ><label for=\"sk-estimator-id-4\" class=\"sk-toggleable__label sk-toggleable__label-arrow\">Pipeline</label><div class=\"sk-toggleable__content\"><pre>Pipeline(steps=[(&#x27;standardscaler&#x27;, StandardScaler()),\n                (&#x27;logisticregression&#x27;,\n                 LogisticRegression(C=134.6114988665146, random_state=0,\n                                    solver=&#x27;liblinear&#x27;))])</pre></div></div></div><div class=\"sk-serial\"><div class=\"sk-item\"><div class=\"sk-estimator sk-toggleable\"><input class=\"sk-toggleable__control sk-hidden--visually\" id=\"sk-estimator-id-5\" type=\"checkbox\" ><label for=\"sk-estimator-id-5\" class=\"sk-toggleable__label sk-toggleable__label-arrow\">StandardScaler</label><div class=\"sk-toggleable__content\"><pre>StandardScaler()</pre></div></div></div><div class=\"sk-item\"><div class=\"sk-estimator sk-toggleable\"><input class=\"sk-toggleable__control sk-hidden--visually\" id=\"sk-estimator-id-6\" type=\"checkbox\" ><label for=\"sk-estimator-id-6\" class=\"sk-toggleable__label sk-toggleable__label-arrow\">LogisticRegression</label><div class=\"sk-toggleable__content\"><pre>LogisticRegression(C=134.6114988665146, random_state=0, solver=&#x27;liblinear&#x27;)</pre></div></div></div></div></div></div></div>"
     },
     "execution_count": 25,
     "metadata": {},
     "output_type": "execute_result"
    }
   ]
  },
  {
   "cell_type": "code",
   "source": [
    "# Step 9: Make predictions using the test set\n",
    "y_pred = best_model.predict(X_test)"
   ],
   "metadata": {
    "id": "IxY1gCNWGz-5",
    "ExecuteTime": {
     "end_time": "2023-11-02T19:44:43.714378Z",
     "start_time": "2023-11-02T19:44:43.696124900Z"
    }
   },
   "execution_count": 26,
   "outputs": []
  },
  {
   "cell_type": "code",
   "source": [
    "# Step 10: Evaluate the model's performance\n",
    "cv_scores = cross_val_score(best_model, X_train, y_train, cv=5)\n",
    "print(f\"Cross-validation scores: {cv_scores}\")\n",
    "print(f\"Average CV Score: {cv_scores.mean()}\")\n",
    "print()\n",
    "print(\"Accuracy on test set:\", accuracy_score(y_test, y_pred))\n",
    "print(\"Classification Report:\\n\", classification_report(y_test, y_pred))"
   ],
   "metadata": {
    "colab": {
     "base_uri": "https://localhost:8080/"
    },
    "id": "oLZXFpqWG1ph",
    "outputId": "76387a68-bde5-4315-9010-109a09a87acf",
    "ExecuteTime": {
     "end_time": "2023-11-02T19:44:43.754840200Z",
     "start_time": "2023-11-02T19:44:43.712937700Z"
    }
   },
   "execution_count": 27,
   "outputs": [
    {
     "name": "stdout",
     "output_type": "stream",
     "text": [
      "Cross-validation scores: [0.95833333 1.         0.83333333 1.         0.95833333]\n",
      "Average CV Score: 0.95\n",
      "\n",
      "Accuracy on test set: 1.0\n",
      "Classification Report:\n",
      "               precision    recall  f1-score   support\n",
      "\n",
      "           0       1.00      1.00      1.00        10\n",
      "           1       1.00      1.00      1.00         9\n",
      "           2       1.00      1.00      1.00        11\n",
      "\n",
      "    accuracy                           1.00        30\n",
      "   macro avg       1.00      1.00      1.00        30\n",
      "weighted avg       1.00      1.00      1.00        30\n"
     ]
    }
   ]
  },
  {
   "cell_type": "code",
   "source": [
    "# Step 12: Predicting on new data\n",
    "new_data = np.array([[5.1, 3.5, 1.4, 0.2]])\n",
    "new_prediction = best_model.predict(new_data)\n",
    "print(\"Prediction for the new data:\", new_prediction)"
   ],
   "metadata": {
    "colab": {
     "base_uri": "https://localhost:8080/"
    },
    "id": "po4oGeyIG8L0",
    "outputId": "be7c1d3f-62cb-40e0-cd7a-f5251e3b6dfb",
    "ExecuteTime": {
     "end_time": "2023-11-02T19:44:43.756971Z",
     "start_time": "2023-11-02T19:44:43.743787200Z"
    }
   },
   "execution_count": 28,
   "outputs": [
    {
     "name": "stdout",
     "output_type": "stream",
     "text": [
      "Prediction for the new data: [0]\n"
     ]
    }
   ]
  },
  {
   "cell_type": "code",
   "source": [
    "# Step 13: Save the model to a file for future use\n",
    "joblib.dump(best_model, 'best_logistic_model.pkl')"
   ],
   "metadata": {
    "colab": {
     "base_uri": "https://localhost:8080/"
    },
    "id": "IQ4YVk9HHBwj",
    "outputId": "8bdb181b-8018-472a-f115-88737685d762",
    "ExecuteTime": {
     "end_time": "2023-11-02T19:44:43.775632Z",
     "start_time": "2023-11-02T19:44:43.757977900Z"
    }
   },
   "execution_count": 29,
   "outputs": [
    {
     "data": {
      "text/plain": "['best_logistic_model.pkl']"
     },
     "execution_count": 29,
     "metadata": {},
     "output_type": "execute_result"
    }
   ]
  },
  {
   "cell_type": "markdown",
   "source": [
    "After you save your trained model to a file using joblib.dump, you would typically perform the following steps depending on your project needs:\n",
    "\n",
    "1. Deployment: If the model's performance is satisfactory, you may deploy it to a production environment where it can start making predictions on new, unseen data. This can involve setting up a REST API, using a model serving platform, or integrating it directly into an application.\n",
    "\n",
    "1. Monitoring: Once deployed, it's crucial to monitor your model to ensure it maintains performance over time and to check if it's still relevant for the data it's receiving. Monitoring can also help you detect when the model might need retraining.\n",
    "\n",
    "1. Retraining: As new data becomes available, you might retrain your model periodically with the new data to keep it up to date. This is especially important if the underlying data distribution changes over time (a phenomenon known as concept drift).\n",
    "\n",
    "1. Versioning: You should version control your model like you would with code. This means saving new versions of the model each time you retrain, so you can roll back to a previous version if necessary.\n",
    "\n",
    "1. Documentation: Documenting your model's performance metrics, the hyperparameters used, and any peculiarities noted during training/testing is vital for reproducibility and for future reference.\n",
    "\n",
    "1. Model Analysis: Sometimes, after deploying a model, you'll want to further analyze what kind of predictions it's making. Techniques like a confusion matrix, ROC curve analysis, or feature importance analysis can provide insight into how your model is operating.\n",
    "\n",
    "1. Feedback Loop: In many machine learning systems, you'll set up a feedback loop where the model's predictions are evaluated by users or domain experts, and their feedback is used to further improve the model.\n",
    "\n",
    "1. Load the Model: When you need to make predictions, you will load the model using joblib.load and then call its predict or predict_proba methods.\n",
    "\n"
   ],
   "metadata": {
    "id": "Qi0MLj5fHPFp"
   }
  },
  {
   "cell_type": "code",
   "source": [
    "# Load the saved model\n",
    "loaded_model = joblib.load('best_logistic_model.pkl')\n",
    "\n",
    "# Predict on new data\n",
    "new_data = np.array([[5.9, 3.0, 5.1, 1.8]])  # Replace this with new data\n",
    "prediction = loaded_model.predict(new_data)\n",
    "print(f\"The predicted class for the new data is: {prediction}\")"
   ],
   "metadata": {
    "colab": {
     "base_uri": "https://localhost:8080/"
    },
    "id": "4G501A8nHDwp",
    "outputId": "9bf322b4-8d6c-4b3d-9420-f4a18e056b84",
    "ExecuteTime": {
     "end_time": "2023-11-02T19:44:43.818643600Z",
     "start_time": "2023-11-02T19:44:43.773639100Z"
    }
   },
   "execution_count": 30,
   "outputs": [
    {
     "name": "stdout",
     "output_type": "stream",
     "text": [
      "The predicted class for the new data is: [2]\n"
     ]
    }
   ]
  }
 ]
}
