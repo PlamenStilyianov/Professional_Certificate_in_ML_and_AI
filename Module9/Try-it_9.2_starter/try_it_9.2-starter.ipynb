{
 "cells": [
  {
   "cell_type": "markdown",
   "metadata": {},
   "source": [
    "### Try-it 9.2: Predicting Wages\n",
    "\n",
    "This activity is meant to summarize your work with regularized regression models.  You will use your earlier work with data preparation and pipelines together with what you've learned with grid searches to determine an optimal model.  In addition to the prior strategies, this example is an excellent opportunity to utilize the `TransformedTargetRegressor` estimator in scikitlearn."
   ]
  },
  {
   "cell_type": "markdown",
   "metadata": {},
   "source": [
    "### The Data\n",
    "\n",
    "This dataset is loaded from the openml resource library.  Originally from census data, the data contains wage and demographic information on 534 individuals. From the dataset documentation [here](https://www.openml.org/d/534)\n",
    "\n",
    "```\n",
    "The Current Population Survey (CPS) is used to supplement census information between census years. These data consist of a random sample of 534 persons from the CPS, with information on wages and other characteristics of the workers, including sex, number of years of education, years of work experience, occupational status, region of residence and union membership. \n",
    "```"
   ]
  },
  {
   "cell_type": "code",
   "execution_count": 14,
   "outputs": [],
   "source": [
    "from sklearn.datasets import fetch_openml\n",
    "import warnings\n",
    "\n",
    "warnings.filterwarnings(\"ignore\")"
   ],
   "metadata": {
    "collapsed": false
   }
  },
  {
   "cell_type": "code",
   "execution_count": 15,
   "outputs": [],
   "source": [
    "wages = fetch_openml(data_id=534, as_frame=True)"
   ],
   "metadata": {
    "collapsed": false
   }
  },
  {
   "cell_type": "code",
   "execution_count": 16,
   "metadata": {
    "ExecuteTime": {
     "end_time": "2023-11-06T23:09:03.805617600Z",
     "start_time": "2023-11-06T23:09:03.593426100Z"
    }
   },
   "outputs": [
    {
     "data": {
      "text/plain": "   EDUCATION SOUTH     SEX  EXPERIENCE       UNION  WAGE  AGE      RACE  \\\n0          8    no  female          21  not_member  5.10   35  Hispanic   \n1          9    no  female          42  not_member  4.95   57     White   \n2         12    no    male           1  not_member  6.67   19     White   \n3         12    no    male           4  not_member  4.00   22     White   \n4         12    no    male          17  not_member  7.50   35     White   \n\n  OCCUPATION         SECTOR       MARR  \n0      Other  Manufacturing    Married  \n1      Other  Manufacturing    Married  \n2      Other  Manufacturing  Unmarried  \n3      Other          Other  Unmarried  \n4      Other          Other    Married  ",
      "text/html": "<div>\n<style scoped>\n    .dataframe tbody tr th:only-of-type {\n        vertical-align: middle;\n    }\n\n    .dataframe tbody tr th {\n        vertical-align: top;\n    }\n\n    .dataframe thead th {\n        text-align: right;\n    }\n</style>\n<table border=\"1\" class=\"dataframe\">\n  <thead>\n    <tr style=\"text-align: right;\">\n      <th></th>\n      <th>EDUCATION</th>\n      <th>SOUTH</th>\n      <th>SEX</th>\n      <th>EXPERIENCE</th>\n      <th>UNION</th>\n      <th>WAGE</th>\n      <th>AGE</th>\n      <th>RACE</th>\n      <th>OCCUPATION</th>\n      <th>SECTOR</th>\n      <th>MARR</th>\n    </tr>\n  </thead>\n  <tbody>\n    <tr>\n      <th>0</th>\n      <td>8</td>\n      <td>no</td>\n      <td>female</td>\n      <td>21</td>\n      <td>not_member</td>\n      <td>5.10</td>\n      <td>35</td>\n      <td>Hispanic</td>\n      <td>Other</td>\n      <td>Manufacturing</td>\n      <td>Married</td>\n    </tr>\n    <tr>\n      <th>1</th>\n      <td>9</td>\n      <td>no</td>\n      <td>female</td>\n      <td>42</td>\n      <td>not_member</td>\n      <td>4.95</td>\n      <td>57</td>\n      <td>White</td>\n      <td>Other</td>\n      <td>Manufacturing</td>\n      <td>Married</td>\n    </tr>\n    <tr>\n      <th>2</th>\n      <td>12</td>\n      <td>no</td>\n      <td>male</td>\n      <td>1</td>\n      <td>not_member</td>\n      <td>6.67</td>\n      <td>19</td>\n      <td>White</td>\n      <td>Other</td>\n      <td>Manufacturing</td>\n      <td>Unmarried</td>\n    </tr>\n    <tr>\n      <th>3</th>\n      <td>12</td>\n      <td>no</td>\n      <td>male</td>\n      <td>4</td>\n      <td>not_member</td>\n      <td>4.00</td>\n      <td>22</td>\n      <td>White</td>\n      <td>Other</td>\n      <td>Other</td>\n      <td>Unmarried</td>\n    </tr>\n    <tr>\n      <th>4</th>\n      <td>12</td>\n      <td>no</td>\n      <td>male</td>\n      <td>17</td>\n      <td>not_member</td>\n      <td>7.50</td>\n      <td>35</td>\n      <td>White</td>\n      <td>Other</td>\n      <td>Other</td>\n      <td>Married</td>\n    </tr>\n  </tbody>\n</table>\n</div>"
     },
     "execution_count": 16,
     "metadata": {},
     "output_type": "execute_result"
    }
   ],
   "source": [
    "wages.frame.head()"
   ]
  },
  {
   "cell_type": "markdown",
   "metadata": {},
   "source": [
    "#### Task\n",
    "\n",
    "Build regression models to predict `WAGE`.  Incorporate the categorical features and transform the target using a logarithm.  Build `Ridge` models and consider some different amounts of regularization.  \n",
    "\n",
    "After fitting your model, interpret the model and try to understand what features led to higher wages.  Consider using `permutation_importance` that you encountered in module 8.  Discuss your findings in the class forum.\n",
    "\n",
    "For an in depth example discussing the perils of interpreting the coefficients see the example in scikitlearn examples [here](https://scikit-learn.org/stable/auto_examples/inspection/plot_linear_model_coefficient_interpretation.html)."
   ]
  },
  {
   "cell_type": "code",
   "execution_count": 26,
   "metadata": {
    "ExecuteTime": {
     "end_time": "2023-11-06T23:37:35.874143Z",
     "start_time": "2023-11-06T23:37:35.854132100Z"
    }
   },
   "outputs": [],
   "source": [
    "import matplotlib.pyplot as plt\n",
    "\n",
    "from sklearn.model_selection import train_test_split\n",
    "from sklearn.metrics import mean_squared_error, r2_score,PredictionErrorDisplay\n",
    "from sklearn.pipeline import Pipeline\n",
    "from sklearn.model_selection import GridSearchCV\n",
    "from sklearn.linear_model import LinearRegression, RidgeCV, Lasso\n",
    "from sklearn.preprocessing import PolynomialFeatures, StandardScaler, OneHotEncoder\n",
    "from sklearn.compose import make_column_transformer, TransformedTargetRegressor\n",
    "from sklearn.inspection import permutation_importance\n",
    "from sklearn.feature_selection import SequentialFeatureSelector\n",
    "import numpy as np\n",
    "import plotly.express as px\n",
    "import pandas as pd\n",
    "import warnings"
   ]
  },
  {
   "cell_type": "code",
   "execution_count": 27,
   "metadata": {
    "ExecuteTime": {
     "end_time": "2023-11-06T23:37:39.512810600Z",
     "start_time": "2023-11-06T23:37:39.484175300Z"
    }
   },
   "outputs": [],
   "source": [
    "X = wages.data\n",
    "y = wages.target\n",
    "X_train, X_test, y_train, y_test = train_test_split(X, y, test_size=0.33, random_state=42)"
   ]
  },
  {
   "cell_type": "code",
   "execution_count": 35,
   "outputs": [
    {
     "data": {
      "text/plain": "{'data':      EDUCATION SOUTH     SEX  EXPERIENCE       UNION  AGE      RACE  \\\n 0            8    no  female          21  not_member   35  Hispanic   \n 1            9    no  female          42  not_member   57     White   \n 2           12    no    male           1  not_member   19     White   \n 3           12    no    male           4  not_member   22     White   \n 4           12    no    male          17  not_member   35     White   \n ..         ...   ...     ...         ...         ...  ...       ...   \n 529         18    no    male           5  not_member   29     White   \n 530         12    no  female          33  not_member   51     Other   \n 531         17    no  female          25      member   48     Other   \n 532         12   yes    male          13      member   31     White   \n 533         16    no    male          33  not_member   55     White   \n \n        OCCUPATION         SECTOR       MARR  \n 0           Other  Manufacturing    Married  \n 1           Other  Manufacturing    Married  \n 2           Other  Manufacturing  Unmarried  \n 3           Other          Other  Unmarried  \n 4           Other          Other    Married  \n ..            ...            ...        ...  \n 529  Professional          Other  Unmarried  \n 530  Professional          Other    Married  \n 531  Professional          Other    Married  \n 532  Professional          Other    Married  \n 533  Professional  Manufacturing    Married  \n \n [534 rows x 10 columns],\n 'target': 0       5.10\n 1       4.95\n 2       6.67\n 3       4.00\n 4       7.50\n        ...  \n 529    11.36\n 530     6.10\n 531    23.25\n 532    19.88\n 533    15.38\n Name: WAGE, Length: 534, dtype: float64,\n 'frame':      EDUCATION SOUTH     SEX  EXPERIENCE       UNION   WAGE  AGE      RACE  \\\n 0            8    no  female          21  not_member   5.10   35  Hispanic   \n 1            9    no  female          42  not_member   4.95   57     White   \n 2           12    no    male           1  not_member   6.67   19     White   \n 3           12    no    male           4  not_member   4.00   22     White   \n 4           12    no    male          17  not_member   7.50   35     White   \n ..         ...   ...     ...         ...         ...    ...  ...       ...   \n 529         18    no    male           5  not_member  11.36   29     White   \n 530         12    no  female          33  not_member   6.10   51     Other   \n 531         17    no  female          25      member  23.25   48     Other   \n 532         12   yes    male          13      member  19.88   31     White   \n 533         16    no    male          33  not_member  15.38   55     White   \n \n        OCCUPATION         SECTOR       MARR  \n 0           Other  Manufacturing    Married  \n 1           Other  Manufacturing    Married  \n 2           Other  Manufacturing  Unmarried  \n 3           Other          Other  Unmarried  \n 4           Other          Other    Married  \n ..            ...            ...        ...  \n 529  Professional          Other  Unmarried  \n 530  Professional          Other    Married  \n 531  Professional          Other    Married  \n 532  Professional          Other    Married  \n 533  Professional  Manufacturing    Married  \n \n [534 rows x 11 columns],\n 'categories': None,\n 'feature_names': ['EDUCATION',\n  'SOUTH',\n  'SEX',\n  'EXPERIENCE',\n  'UNION',\n  'AGE',\n  'RACE',\n  'OCCUPATION',\n  'SECTOR',\n  'MARR'],\n 'target_names': ['WAGE'],\n 'DESCR': '**Author**:   \\n**Source**: Unknown - Date unknown  \\n**Please cite**:   \\n\\nDeterminants of Wages from the 1985 Current Population Survey\\n\\nSummary:\\nThe Current Population Survey (CPS) is used to supplement census information between census years. These data consist of a random sample of 534 persons from the CPS, with information on wages and other characteristics of the workers, including sex, number of years of education, years of work experience, occupational status, region of residence and union membership. We wish to determine (i) whether wages are related to these characteristics and (ii) whether there is a gender gap in wages.\\nBased on residual plots, wages were log-transformed to stabilize the variance. Age and work experience were almost perfectly correlated (r=.98). Multiple regression of log wages against sex, age, years of education, work experience, union membership, southern residence, and occupational status showed that these covariates were related to wages (pooled F test, p < .0001). The effect of age was not significant after controlling for experience. Standardized residual plots showed no patterns, except for one large outlier with lower wages than expected. This was a male, with 22 years of experience and 12 years of education, in a management position, who lived in the north and was not a union member. Removing this person from the analysis did not substantially change the results, so that the final model included the entire sample.\\nAdjusting for all other variables in the model, females earned 81% (75%, 88%) the wages of males (p < .0001). Wages increased 41% (28%, 56%) for every 5 additional years of education (p < .0001). They increased by 11% (7%, 14%) for every additional 10 years of experience (p < .0001). Union members were paid 23% (12%, 36%) more than non-union members (p < .0001). Northerns were paid 11% (2%, 20%) more than southerns (p =.016). Management and professional positions were paid most, and service and clerical positions were paid least (pooled F-test, p < .0001). Overall variance explained was R2 = .35.\\nIn summary, many factors describe the variations in wages: occupational status, years of experience, years of education, sex, union membership and region of residence. However, despite adjustment for all factors that were available, there still appeared to be a gender gap in wages. There is no readily available explanation for this gender gap.\\n\\nAuthorization: Public Domain\\n\\nReference: Berndt, ER. The Practice of Econometrics. 1991. NY: Addison-Wesley.\\n\\nDescription:  The datafile contains 534 observations on 11 variables sampled from the Current Population Survey of 1985.  This data set demonstrates multiple regression, confounding, transformations, multicollinearity, categorical variables, ANOVA, pooled tests of significance, interactions and model building strategies.\\n\\nVariable names in order from left to right:\\nEDUCATION: Number of years of education.\\nSOUTH: Indicator variable for Southern Region (1=Person lives in \\t\\tSouth, 0=Person lives elsewhere).\\nSEX: Indicator variable for sex (1=Female, 0=Male).\\nEXPERIENCE: Number of years of work experience.\\nUNION: Indicator variable for union membership (1=Union member, \\t\\t0=Not union member).\\nWAGE: Wage (dollars per hour).\\nAGE: Age (years).\\nRACE: Race (1=Other, 2=Hispanic, 3=White).\\nOCCUPATION: Occupational category (1=Management, \\t\\t2=Sales, 3=Clerical, 4=Service, 5=Professional, 6=Other).\\nSECTOR: Sector (0=Other, 1=Manufacturing, 2=Construction).\\nMARR: Marital Status (0=Unmarried,  1=Married)\\n\\n\\nTherese Stukel\\nDartmouth Hitchcock Medical Center\\nOne Medical Center Dr.\\nLebanon, NH 03756\\ne-mail: stukel@dartmouth.edu\\n\\n\\nInformation about the dataset\\nCLASSTYPE: numeric\\nCLASSINDEX: none specific\\n\\nDownloaded from openml.org.',\n 'details': {'id': '534',\n  'name': 'cps_85_wages',\n  'version': '1',\n  'description_version': '1',\n  'format': 'ARFF',\n  'creator': ['D. and Rubinfeld', \"D.L. 'Hedonic\"],\n  'contributor': 'Therese Stukel',\n  'collection_date': '1985',\n  'upload_date': '2014-09-29T00:08:13',\n  'language': 'English',\n  'licence': 'Public',\n  'url': 'https://api.openml.org/data/v1/download/52646/cps_85_wages.arff',\n  'parquet_url': 'http://openml1.win.tue.nl/dataset534/dataset_534.pq',\n  'file_id': '52646',\n  'default_target_attribute': 'WAGE',\n  'tag': 'OpenML-Reg19',\n  'visibility': 'public',\n  'minio_url': 'http://openml1.win.tue.nl/dataset534/dataset_534.pq',\n  'status': 'active',\n  'processing_date': '2020-11-20 20:35:45',\n  'md5_checksum': '5fd1cadd7665efa170ee99e0dd07f07f'},\n 'url': 'https://www.openml.org/d/534'}"
     },
     "execution_count": 35,
     "metadata": {},
     "output_type": "execute_result"
    }
   ],
   "source": [
    "wages"
   ],
   "metadata": {
    "collapsed": false,
    "ExecuteTime": {
     "end_time": "2023-11-06T23:58:00.263913900Z",
     "start_time": "2023-11-06T23:58:00.228494300Z"
    }
   }
  },
  {
   "cell_type": "code",
   "execution_count": 33,
   "metadata": {
    "ExecuteTime": {
     "end_time": "2023-11-06T23:42:32.750718100Z",
     "start_time": "2023-11-06T23:42:32.712474800Z"
    }
   },
   "outputs": [
    {
     "data": {
      "text/plain": "     EDUCATION SOUTH     SEX  EXPERIENCE       UNION  AGE   RACE  \\\n5           13    no    male           9      member   28  White   \n116         11    no    male          11  not_member   28  White   \n45           7   yes  female          15  not_member   28  White   \n444         16   yes    male          13  not_member   35  Other   \n298         12    no  female           0  not_member   18  White   \n..         ...   ...     ...         ...         ...  ...    ...   \n71          14    no    male          20      member   40  White   \n106         14    no    male          21      member   41  White   \n270         12    no  female          38  not_member   56  White   \n435         18    no    male           8  not_member   32  White   \n102         12    no    male           8  not_member   26  White   \n\n       OCCUPATION         SECTOR       MARR  \n5           Other          Other  Unmarried  \n116         Other   Construction  Unmarried  \n45          Other  Manufacturing    Married  \n444  Professional          Other    Married  \n298      Clerical          Other  Unmarried  \n..            ...            ...        ...  \n71          Other          Other    Married  \n106         Other          Other    Married  \n270      Clerical          Other    Married  \n435  Professional          Other    Married  \n102         Other          Other  Unmarried  \n\n[357 rows x 10 columns]",
      "text/html": "<div>\n<style scoped>\n    .dataframe tbody tr th:only-of-type {\n        vertical-align: middle;\n    }\n\n    .dataframe tbody tr th {\n        vertical-align: top;\n    }\n\n    .dataframe thead th {\n        text-align: right;\n    }\n</style>\n<table border=\"1\" class=\"dataframe\">\n  <thead>\n    <tr style=\"text-align: right;\">\n      <th></th>\n      <th>EDUCATION</th>\n      <th>SOUTH</th>\n      <th>SEX</th>\n      <th>EXPERIENCE</th>\n      <th>UNION</th>\n      <th>AGE</th>\n      <th>RACE</th>\n      <th>OCCUPATION</th>\n      <th>SECTOR</th>\n      <th>MARR</th>\n    </tr>\n  </thead>\n  <tbody>\n    <tr>\n      <th>5</th>\n      <td>13</td>\n      <td>no</td>\n      <td>male</td>\n      <td>9</td>\n      <td>member</td>\n      <td>28</td>\n      <td>White</td>\n      <td>Other</td>\n      <td>Other</td>\n      <td>Unmarried</td>\n    </tr>\n    <tr>\n      <th>116</th>\n      <td>11</td>\n      <td>no</td>\n      <td>male</td>\n      <td>11</td>\n      <td>not_member</td>\n      <td>28</td>\n      <td>White</td>\n      <td>Other</td>\n      <td>Construction</td>\n      <td>Unmarried</td>\n    </tr>\n    <tr>\n      <th>45</th>\n      <td>7</td>\n      <td>yes</td>\n      <td>female</td>\n      <td>15</td>\n      <td>not_member</td>\n      <td>28</td>\n      <td>White</td>\n      <td>Other</td>\n      <td>Manufacturing</td>\n      <td>Married</td>\n    </tr>\n    <tr>\n      <th>444</th>\n      <td>16</td>\n      <td>yes</td>\n      <td>male</td>\n      <td>13</td>\n      <td>not_member</td>\n      <td>35</td>\n      <td>Other</td>\n      <td>Professional</td>\n      <td>Other</td>\n      <td>Married</td>\n    </tr>\n    <tr>\n      <th>298</th>\n      <td>12</td>\n      <td>no</td>\n      <td>female</td>\n      <td>0</td>\n      <td>not_member</td>\n      <td>18</td>\n      <td>White</td>\n      <td>Clerical</td>\n      <td>Other</td>\n      <td>Unmarried</td>\n    </tr>\n    <tr>\n      <th>...</th>\n      <td>...</td>\n      <td>...</td>\n      <td>...</td>\n      <td>...</td>\n      <td>...</td>\n      <td>...</td>\n      <td>...</td>\n      <td>...</td>\n      <td>...</td>\n      <td>...</td>\n    </tr>\n    <tr>\n      <th>71</th>\n      <td>14</td>\n      <td>no</td>\n      <td>male</td>\n      <td>20</td>\n      <td>member</td>\n      <td>40</td>\n      <td>White</td>\n      <td>Other</td>\n      <td>Other</td>\n      <td>Married</td>\n    </tr>\n    <tr>\n      <th>106</th>\n      <td>14</td>\n      <td>no</td>\n      <td>male</td>\n      <td>21</td>\n      <td>member</td>\n      <td>41</td>\n      <td>White</td>\n      <td>Other</td>\n      <td>Other</td>\n      <td>Married</td>\n    </tr>\n    <tr>\n      <th>270</th>\n      <td>12</td>\n      <td>no</td>\n      <td>female</td>\n      <td>38</td>\n      <td>not_member</td>\n      <td>56</td>\n      <td>White</td>\n      <td>Clerical</td>\n      <td>Other</td>\n      <td>Married</td>\n    </tr>\n    <tr>\n      <th>435</th>\n      <td>18</td>\n      <td>no</td>\n      <td>male</td>\n      <td>8</td>\n      <td>not_member</td>\n      <td>32</td>\n      <td>White</td>\n      <td>Professional</td>\n      <td>Other</td>\n      <td>Married</td>\n    </tr>\n    <tr>\n      <th>102</th>\n      <td>12</td>\n      <td>no</td>\n      <td>male</td>\n      <td>8</td>\n      <td>not_member</td>\n      <td>26</td>\n      <td>White</td>\n      <td>Other</td>\n      <td>Other</td>\n      <td>Unmarried</td>\n    </tr>\n  </tbody>\n</table>\n<p>357 rows × 10 columns</p>\n</div>"
     },
     "execution_count": 33,
     "metadata": {},
     "output_type": "execute_result"
    }
   ],
   "source": [
    "X_train"
   ]
  },
  {
   "cell_type": "code",
   "execution_count": 34,
   "outputs": [
    {
     "data": {
      "text/plain": "5      13.07\n116     3.75\n45      6.00\n444    17.50\n298     5.00\n       ...  \n71     16.00\n106    26.00\n270     9.65\n435    22.20\n102     6.50\nName: WAGE, Length: 357, dtype: float64"
     },
     "execution_count": 34,
     "metadata": {},
     "output_type": "execute_result"
    }
   ],
   "source": [
    "y_train"
   ],
   "metadata": {
    "collapsed": false,
    "ExecuteTime": {
     "end_time": "2023-11-06T23:43:10.868916800Z",
     "start_time": "2023-11-06T23:43:10.827176500Z"
    }
   }
  },
  {
   "cell_type": "code",
   "execution_count": null,
   "outputs": [],
   "source": [],
   "metadata": {
    "collapsed": false
   }
  }
 ],
 "metadata": {
  "kernelspec": {
   "display_name": "Python 3",
   "language": "python",
   "name": "python3"
  },
  "language_info": {
   "codemirror_mode": {
    "name": "ipython",
    "version": 3
   },
   "file_extension": ".py",
   "mimetype": "text/x-python",
   "name": "python",
   "nbconvert_exporter": "python",
   "pygments_lexer": "ipython3",
   "version": "3.7.4"
  },
  "widgets": {
   "application/vnd.jupyter.widget-state+json": {
    "state": {},
    "version_major": 2,
    "version_minor": 0
   }
  }
 },
 "nbformat": 4,
 "nbformat_minor": 4
}
