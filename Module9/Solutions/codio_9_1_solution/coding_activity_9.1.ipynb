{
 "cells": [
  {
   "cell_type": "markdown",
   "metadata": {
    "nbgrader": {
     "grade": false,
     "grade_id": "cell-3e196cb29dc46142",
     "locked": true,
     "schema_version": 1,
     "solution": false
    }
   },
   "source": [
    "### Sequential Feature Selection \n",
    "\n",
    "**Expected Time: 60 minutes**\n",
    "\n",
    "**Total Points: 70**\n",
    "\n",
    "This activity focuses on using the stepwise feature selection approach outlined in video 9.3.  Here, your goal is to first generate polynomial features for a `degree = 3` model and limit them to a set number using the `SequentialFeatureSelection`. For more information on the selector see [here](https://scikit-learn.org/stable/modules/feature_selection.html#sequential-feature-selection). "
   ]
  },
  {
   "cell_type": "markdown",
   "metadata": {
    "nbgrader": {
     "grade": false,
     "grade_id": "cell-c64c70c202925728",
     "locked": true,
     "schema_version": 1,
     "solution": false
    }
   },
   "source": [
    "#### Index \n",
    "\n",
    "- [Problem 1](#Problem-1)\n",
    "- [Problem 2](#Problem-2)\n",
    "- [Problem 3](#Problem-3)\n",
    "- [Problem 4](#Problem-4)\n",
    "- [Problem 5](#Problem-5)"
   ]
  },
  {
   "cell_type": "code",
   "execution_count": 18,
   "metadata": {
    "nbgrader": {
     "grade": false,
     "grade_id": "cell-de0651f861c153e6",
     "locked": true,
     "schema_version": 1,
     "solution": false
    },
    "ExecuteTime": {
     "end_time": "2023-11-03T01:47:31.146854800Z",
     "start_time": "2023-11-03T01:47:30.952784200Z"
    }
   },
   "outputs": [],
   "source": [
    "from sklearn.feature_selection import SequentialFeatureSelector\n",
    "from sklearn.preprocessing import PolynomialFeatures\n",
    "from sklearn.model_selection import train_test_split\n",
    "from sklearn.linear_model import LinearRegression\n",
    "from sklearn.metrics import mean_squared_error\n",
    "from sklearn.pipeline import Pipeline\n",
    "from sklearn import set_config\n",
    "set_config(display=\"diagram\")\n",
    "\n",
    "import matplotlib.pyplot as plt\n",
    "import pandas as pd\n",
    "import numpy as np"
   ]
  },
  {
   "cell_type": "markdown",
   "metadata": {
    "nbgrader": {
     "grade": false,
     "grade_id": "cell-a8bf2667b0f39b5d",
     "locked": true,
     "schema_version": 1,
     "solution": false
    }
   },
   "source": [
    "### The Data\n",
    "\n",
    "The dataset used is from kaggle [here](https://www.kaggle.com/mirichoi0218/insurance) and contains information on insurance clients and their medical costs billed by the insurance company.  You will build regression models to predict the logarithm of the `charges`.    The dataset is loaded and displayed below, and the original target is plotted next to its resulting logarithm.   "
   ]
  },
  {
   "cell_type": "code",
   "execution_count": 19,
   "metadata": {
    "nbgrader": {
     "grade": false,
     "grade_id": "cell-fc78f6a812ad1dc1",
     "locked": true,
     "schema_version": 1,
     "solution": false
    },
    "ExecuteTime": {
     "end_time": "2023-11-03T01:47:31.352543200Z",
     "start_time": "2023-11-03T01:47:30.966783500Z"
    }
   },
   "outputs": [],
   "source": [
    "insurance = pd.read_csv('data/insurance.csv')"
   ]
  },
  {
   "cell_type": "code",
   "execution_count": 20,
   "metadata": {
    "nbgrader": {
     "grade": false,
     "grade_id": "cell-3d285da4a367ac42",
     "locked": true,
     "schema_version": 1,
     "solution": false
    },
    "ExecuteTime": {
     "end_time": "2023-11-03T01:47:31.353533Z",
     "start_time": "2023-11-03T01:47:30.982783700Z"
    }
   },
   "outputs": [
    {
     "data": {
      "text/plain": "   age     sex     bmi  children smoker     region      charges\n0   19  female  27.900         0    yes  southwest  16884.92400\n1   18    male  33.770         1     no  southeast   1725.55230\n2   28    male  33.000         3     no  southeast   4449.46200\n3   33    male  22.705         0     no  northwest  21984.47061\n4   32    male  28.880         0     no  northwest   3866.85520",
      "text/html": "<div>\n<style scoped>\n    .dataframe tbody tr th:only-of-type {\n        vertical-align: middle;\n    }\n\n    .dataframe tbody tr th {\n        vertical-align: top;\n    }\n\n    .dataframe thead th {\n        text-align: right;\n    }\n</style>\n<table border=\"1\" class=\"dataframe\">\n  <thead>\n    <tr style=\"text-align: right;\">\n      <th></th>\n      <th>age</th>\n      <th>sex</th>\n      <th>bmi</th>\n      <th>children</th>\n      <th>smoker</th>\n      <th>region</th>\n      <th>charges</th>\n    </tr>\n  </thead>\n  <tbody>\n    <tr>\n      <th>0</th>\n      <td>19</td>\n      <td>female</td>\n      <td>27.900</td>\n      <td>0</td>\n      <td>yes</td>\n      <td>southwest</td>\n      <td>16884.92400</td>\n    </tr>\n    <tr>\n      <th>1</th>\n      <td>18</td>\n      <td>male</td>\n      <td>33.770</td>\n      <td>1</td>\n      <td>no</td>\n      <td>southeast</td>\n      <td>1725.55230</td>\n    </tr>\n    <tr>\n      <th>2</th>\n      <td>28</td>\n      <td>male</td>\n      <td>33.000</td>\n      <td>3</td>\n      <td>no</td>\n      <td>southeast</td>\n      <td>4449.46200</td>\n    </tr>\n    <tr>\n      <th>3</th>\n      <td>33</td>\n      <td>male</td>\n      <td>22.705</td>\n      <td>0</td>\n      <td>no</td>\n      <td>northwest</td>\n      <td>21984.47061</td>\n    </tr>\n    <tr>\n      <th>4</th>\n      <td>32</td>\n      <td>male</td>\n      <td>28.880</td>\n      <td>0</td>\n      <td>no</td>\n      <td>northwest</td>\n      <td>3866.85520</td>\n    </tr>\n  </tbody>\n</table>\n</div>"
     },
     "execution_count": 20,
     "metadata": {},
     "output_type": "execute_result"
    }
   ],
   "source": [
    "insurance.head()"
   ]
  },
  {
   "cell_type": "code",
   "execution_count": 21,
   "metadata": {
    "nbgrader": {
     "grade": false,
     "grade_id": "cell-7d4275de1510fbaf",
     "locked": true,
     "schema_version": 1,
     "solution": false
    },
    "ExecuteTime": {
     "end_time": "2023-11-03T01:47:31.353533Z",
     "start_time": "2023-11-03T01:47:30.998784100Z"
    }
   },
   "outputs": [
    {
     "name": "stdout",
     "output_type": "stream",
     "text": [
      "<class 'pandas.core.frame.DataFrame'>\n",
      "RangeIndex: 1338 entries, 0 to 1337\n",
      "Data columns (total 7 columns):\n",
      " #   Column    Non-Null Count  Dtype  \n",
      "---  ------    --------------  -----  \n",
      " 0   age       1338 non-null   int64  \n",
      " 1   sex       1338 non-null   object \n",
      " 2   bmi       1338 non-null   float64\n",
      " 3   children  1338 non-null   int64  \n",
      " 4   smoker    1338 non-null   object \n",
      " 5   region    1338 non-null   object \n",
      " 6   charges   1338 non-null   float64\n",
      "dtypes: float64(2), int64(2), object(3)\n",
      "memory usage: 73.3+ KB\n"
     ]
    }
   ],
   "source": [
    "insurance.info()"
   ]
  },
  {
   "cell_type": "code",
   "execution_count": 22,
   "metadata": {
    "nbgrader": {
     "grade": false,
     "grade_id": "cell-5a408db8aac7bb67",
     "locked": true,
     "schema_version": 1,
     "solution": false
    },
    "ExecuteTime": {
     "end_time": "2023-11-03T01:47:31.437096400Z",
     "start_time": "2023-11-03T01:47:31.013783900Z"
    }
   },
   "outputs": [
    {
     "data": {
      "text/plain": "<Figure size 1500x400 with 2 Axes>",
      "image/png": "[encoded data removed]"
     },
     "metadata": {},
     "output_type": "display_data"
    }
   ],
   "source": [
    "fig, ax = plt.subplots(1, 2, figsize = (15, 4))\n",
    "ax[0].hist(insurance['charges'])\n",
    "ax[0].grid()\n",
    "ax[0].set_title('Original charges column')\n",
    "ax[1].hist(np.log1p(insurance['charges']))\n",
    "ax[1].grid()\n",
    "ax[1].set_title('Logarithm of charges');"
   ]
  },
  {
   "cell_type": "markdown",
   "metadata": {
    "nbgrader": {
     "grade": false,
     "grade_id": "cell-6a733df4c774e29c",
     "locked": true,
     "schema_version": 1,
     "solution": false
    }
   },
   "source": [
    "[Back to top](#Index)\n",
    "\n",
    "### Problem 1\n",
    "\n",
    "#### Train/Test split\n",
    "\n",
    "**Points: 10**\n",
    "\n",
    "Create a train and test set using `train_test_split` and assign to `X_train`, `X_test`, `y_train`, `y_test` below with parameters:\n",
    "\n",
    "- `test_size = 0.3`\n",
    "- `random_state = 42`\n",
    "\n",
    "The target data should be transformed according to the `np.log1p` function.  "
   ]
  },
  {
   "cell_type": "code",
   "execution_count": 23,
   "metadata": {
    "nbgrader": {
     "grade": false,
     "grade_id": "cell-b882d08634244046",
     "locked": false,
     "schema_version": 1,
     "solution": true
    },
    "ExecuteTime": {
     "end_time": "2023-11-03T01:47:31.438088100Z",
     "start_time": "2023-11-03T01:47:31.330106200Z"
    }
   },
   "outputs": [
    {
     "name": "stdout",
     "output_type": "stream",
     "text": [
      "(936, 6)\n",
      "(402, 6)\n"
     ]
    }
   ],
   "source": [
    "### GRADED\n",
    "\n",
    "X_train, X_test, y_train, y_test = '', '', '', ''\n",
    "\n",
    "### BEGIN SOLUTION\n",
    "X_train, X_test, y_train, y_test = train_test_split(insurance.drop('charges', axis = 1), np.log1p(insurance.charges), random_state=42, test_size = 0.3)\n",
    "### END SOLUTION\n",
    "\n",
    "# Answer check\n",
    "print(X_train.shape)\n",
    "print(X_test.shape)"
   ]
  },
  {
   "cell_type": "code",
   "execution_count": 24,
   "metadata": {
    "nbgrader": {
     "grade": true,
     "grade_id": "cell-aebfba83b77a9b7d",
     "locked": true,
     "points": 10,
     "schema_version": 1,
     "solution": false
    },
    "ExecuteTime": {
     "end_time": "2023-11-03T01:47:31.441087500Z",
     "start_time": "2023-11-03T01:47:31.345533100Z"
    }
   },
   "outputs": [],
   "source": [
    "### BEGIN HIDDEN TESTS\n",
    "X_train_, X_test_, y_train_, y_test_ = train_test_split(insurance.drop('charges', axis = 1), np.log1p(insurance.charges), random_state=42, test_size = 0.3)\n",
    "#\n",
    "#\n",
    "#\n",
    "pd.testing.assert_frame_equal(X_train, X_train_)\n",
    "pd.testing.assert_series_equal(y_train, y_train_)\n",
    "### END HIDDEN TESTS"
   ]
  },
  {
   "cell_type": "markdown",
   "metadata": {
    "nbgrader": {
     "grade": false,
     "grade_id": "cell-8febac9a59dee29d",
     "locked": true,
     "schema_version": 1,
     "solution": false
    }
   },
   "source": [
    "[Back to top](#Index)\n",
    "\n",
    "### Problem 2\n",
    "\n",
    "#### Building `PolynomialFeatures`\n",
    "\n",
    "**Points: 10**\n",
    "\n",
    "To begin, create a `DataFrame` with the `degree = 3` features and interaction terms added for numeric columns. Assign the following objects to the variables:\n",
    "\n",
    "- `poly_features`: Instantiate a `PolynomialFeatures` object for quadratic features without a bias term.\n",
    "- `X_train_poly`: Fit and transformed features using `['age', 'bmi', 'children']`.  \n",
    "- `X_test_poly`: Transformed test data using `['age', 'bmi', 'children']`.\n",
    "- `poly_columns`: Column names of transformed data\n",
    "- `train_df`: DataFrame with training features and column names.\n",
    "- `test_df`: DataFrame with test features and column names\n",
    "\n",
    "The DataFrame `train_df` should look like:"
   ]
  },
  {
   "cell_type": "markdown",
   "metadata": {
    "nbgrader": {
     "grade": false,
     "grade_id": "cell-1def317bb3d8486b",
     "locked": true,
     "schema_version": 1,
     "solution": false
    }
   },
   "source": [
    "'<table border=\"1\" class=\"dataframe\">  <thead>    <tr style=\"text-align: right;\">      <th></th>      <th>age</th>      <th>bmi</th>      <th>children</th>      <th>age^2</th>      <th>age bmi</th>      <th>age children</th>      <th>bmi^2</th>      <th>bmi children</th>      <th>children^2</th>      <th>age^3</th>      <th>age^2 bmi</th>      <th>age^2 children</th>      <th>age bmi^2</th>      <th>age bmi children</th>      <th>age children^2</th>      <th>bmi^3</th>      <th>bmi^2 children</th>      <th>bmi children^2</th>      <th>children^3</th>    </tr>  </thead>  <tbody>    <tr>      <th>0</th>      <td>61.0</td>      <td>31.160</td>      <td>0.0</td>      <td>3721.0</td>      <td>1900.760</td>      <td>0.0</td>      <td>970.945600</td>      <td>0.00</td>      <td>0.0</td>      <td>226981.0</td>      <td>115946.360</td>      <td>0.0</td>      <td>59227.681600</td>      <td>0.0</td>      <td>0.0</td>      <td>30254.664896</td>      <td>0.0000</td>      <td>0.00</td>      <td>0.0</td>    </tr>    <tr>      <th>1</th>      <td>46.0</td>      <td>27.600</td>      <td>0.0</td>      <td>2116.0</td>      <td>1269.600</td>      <td>0.0</td>      <td>761.760000</td>      <td>0.00</td>      <td>0.0</td>      <td>97336.0</td>      <td>58401.600</td>      <td>0.0</td>      <td>35040.960000</td>      <td>0.0</td>      <td>0.0</td>      <td>21024.576000</td>      <td>0.0000</td>      <td>0.00</td>      <td>0.0</td>    </tr>    <tr>      <th>2</th>      <td>54.0</td>      <td>31.900</td>      <td>3.0</td>      <td>2916.0</td>      <td>1722.600</td>      <td>162.0</td>      <td>1017.610000</td>      <td>95.70</td>      <td>9.0</td>      <td>157464.0</td>      <td>93020.400</td>      <td>8748.0</td>      <td>54950.940000</td>      <td>5167.8</td>      <td>486.0</td>      <td>32461.759000</td>      <td>3052.8300</td>      <td>287.10</td>      <td>27.0</td>    </tr>    <tr>      <th>3</th>      <td>55.0</td>      <td>30.685</td>      <td>0.0</td>      <td>3025.0</td>      <td>1687.675</td>      <td>0.0</td>      <td>941.569225</td>      <td>0.00</td>      <td>0.0</td>      <td>166375.0</td>      <td>92822.125</td>      <td>0.0</td>      <td>51786.307375</td>      <td>0.0</td>      <td>0.0</td>      <td>28892.051669</td>      <td>0.0000</td>      <td>0.00</td>      <td>0.0</td>    </tr>    <tr>      <th>4</th>      <td>25.0</td>      <td>45.540</td>      <td>2.0</td>      <td>625.0</td>      <td>1138.500</td>      <td>50.0</td>      <td>2073.891600</td>      <td>91.08</td>      <td>4.0</td>      <td>15625.0</td>      <td>28462.500</td>      <td>1250.0</td>      <td>51847.290000</td>      <td>2277.0</td>      <td>100.0</td>      <td>94445.023464</td>      <td>4147.7832</td>      <td>182.16</td>      <td>8.0</td>    </tr>  </tbody></table>'"
   ]
  },
  {
   "cell_type": "code",
   "execution_count": 25,
   "metadata": {
    "nbgrader": {
     "grade": false,
     "grade_id": "cell-01dfed88df3e2f2a",
     "locked": false,
     "schema_version": 1,
     "solution": true
    },
    "ExecuteTime": {
     "end_time": "2023-11-03T01:47:31.553598500Z",
     "start_time": "2023-11-03T01:47:31.360533600Z"
    }
   },
   "outputs": [
    {
     "data": {
      "text/plain": "    age     bmi  children   age^2   age bmi  age children        bmi^2  \\\n0  61.0  31.160       0.0  3721.0  1900.760           0.0   970.945600   \n1  46.0  27.600       0.0  2116.0  1269.600           0.0   761.760000   \n2  54.0  31.900       3.0  2916.0  1722.600         162.0  1017.610000   \n3  55.0  30.685       0.0  3025.0  1687.675           0.0   941.569225   \n4  25.0  45.540       2.0   625.0  1138.500          50.0  2073.891600   \n\n   bmi children  children^2     age^3   age^2 bmi  age^2 children  \\\n0          0.00         0.0  226981.0  115946.360             0.0   \n1          0.00         0.0   97336.0   58401.600             0.0   \n2         95.70         9.0  157464.0   93020.400          8748.0   \n3          0.00         0.0  166375.0   92822.125             0.0   \n4         91.08         4.0   15625.0   28462.500          1250.0   \n\n      age bmi^2  age bmi children  age children^2         bmi^3  \\\n0  59227.681600               0.0             0.0  30254.664896   \n1  35040.960000               0.0             0.0  21024.576000   \n2  54950.940000            5167.8           486.0  32461.759000   \n3  51786.307375               0.0             0.0  28892.051669   \n4  51847.290000            2277.0           100.0  94445.023464   \n\n   bmi^2 children  bmi children^2  children^3  \n0          0.0000            0.00         0.0  \n1          0.0000            0.00         0.0  \n2       3052.8300          287.10        27.0  \n3          0.0000            0.00         0.0  \n4       4147.7832          182.16         8.0  ",
      "text/html": "<div>\n<style scoped>\n    .dataframe tbody tr th:only-of-type {\n        vertical-align: middle;\n    }\n\n    .dataframe tbody tr th {\n        vertical-align: top;\n    }\n\n    .dataframe thead th {\n        text-align: right;\n    }\n</style>\n<table border=\"1\" class=\"dataframe\">\n  <thead>\n    <tr style=\"text-align: right;\">\n      <th></th>\n      <th>age</th>\n      <th>bmi</th>\n      <th>children</th>\n      <th>age^2</th>\n      <th>age bmi</th>\n      <th>age children</th>\n      <th>bmi^2</th>\n      <th>bmi children</th>\n      <th>children^2</th>\n      <th>age^3</th>\n      <th>age^2 bmi</th>\n      <th>age^2 children</th>\n      <th>age bmi^2</th>\n      <th>age bmi children</th>\n      <th>age children^2</th>\n      <th>bmi^3</th>\n      <th>bmi^2 children</th>\n      <th>bmi children^2</th>\n      <th>children^3</th>\n    </tr>\n  </thead>\n  <tbody>\n    <tr>\n      <th>0</th>\n      <td>61.0</td>\n      <td>31.160</td>\n      <td>0.0</td>\n      <td>3721.0</td>\n      <td>1900.760</td>\n      <td>0.0</td>\n      <td>970.945600</td>\n      <td>0.00</td>\n      <td>0.0</td>\n      <td>226981.0</td>\n      <td>115946.360</td>\n      <td>0.0</td>\n      <td>59227.681600</td>\n      <td>0.0</td>\n      <td>0.0</td>\n      <td>30254.664896</td>\n      <td>0.0000</td>\n      <td>0.00</td>\n      <td>0.0</td>\n    </tr>\n    <tr>\n      <th>1</th>\n      <td>46.0</td>\n      <td>27.600</td>\n      <td>0.0</td>\n      <td>2116.0</td>\n      <td>1269.600</td>\n      <td>0.0</td>\n      <td>761.760000</td>\n      <td>0.00</td>\n      <td>0.0</td>\n      <td>97336.0</td>\n      <td>58401.600</td>\n      <td>0.0</td>\n      <td>35040.960000</td>\n      <td>0.0</td>\n      <td>0.0</td>\n      <td>21024.576000</td>\n      <td>0.0000</td>\n      <td>0.00</td>\n      <td>0.0</td>\n    </tr>\n    <tr>\n      <th>2</th>\n      <td>54.0</td>\n      <td>31.900</td>\n      <td>3.0</td>\n      <td>2916.0</td>\n      <td>1722.600</td>\n      <td>162.0</td>\n      <td>1017.610000</td>\n      <td>95.70</td>\n      <td>9.0</td>\n      <td>157464.0</td>\n      <td>93020.400</td>\n      <td>8748.0</td>\n      <td>54950.940000</td>\n      <td>5167.8</td>\n      <td>486.0</td>\n      <td>32461.759000</td>\n      <td>3052.8300</td>\n      <td>287.10</td>\n      <td>27.0</td>\n    </tr>\n    <tr>\n      <th>3</th>\n      <td>55.0</td>\n      <td>30.685</td>\n      <td>0.0</td>\n      <td>3025.0</td>\n      <td>1687.675</td>\n      <td>0.0</td>\n      <td>941.569225</td>\n      <td>0.00</td>\n      <td>0.0</td>\n      <td>166375.0</td>\n      <td>92822.125</td>\n      <td>0.0</td>\n      <td>51786.307375</td>\n      <td>0.0</td>\n      <td>0.0</td>\n      <td>28892.051669</td>\n      <td>0.0000</td>\n      <td>0.00</td>\n      <td>0.0</td>\n    </tr>\n    <tr>\n      <th>4</th>\n      <td>25.0</td>\n      <td>45.540</td>\n      <td>2.0</td>\n      <td>625.0</td>\n      <td>1138.500</td>\n      <td>50.0</td>\n      <td>2073.891600</td>\n      <td>91.08</td>\n      <td>4.0</td>\n      <td>15625.0</td>\n      <td>28462.500</td>\n      <td>1250.0</td>\n      <td>51847.290000</td>\n      <td>2277.0</td>\n      <td>100.0</td>\n      <td>94445.023464</td>\n      <td>4147.7832</td>\n      <td>182.16</td>\n      <td>8.0</td>\n    </tr>\n  </tbody>\n</table>\n</div>"
     },
     "execution_count": 25,
     "metadata": {},
     "output_type": "execute_result"
    }
   ],
   "source": [
    "### GRADED\n",
    "\n",
    "poly_features = ''\n",
    "X_train_poly = ''\n",
    "X_test_poly = ''\n",
    "columns = ''\n",
    "train_df = ''\n",
    "test_df = ''\n",
    "\n",
    "### BEGIN SOLUTION\n",
    "poly_features = PolynomialFeatures(degree = 3, include_bias=False)\n",
    "X_train_poly = poly_features.fit_transform(X_train[['age', 'bmi', 'children']])\n",
    "X_test_poly = poly_features.fit_transform(X_test[['age', 'bmi', 'children']])\n",
    "columns = poly_features.get_feature_names_out()\n",
    "train_df = pd.DataFrame(X_train_poly, columns=columns)\n",
    "test_df = pd.DataFrame(X_test_poly, columns = columns)\n",
    "### END SOLUTION\n",
    "\n",
    "\n",
    "\n",
    "test_df.to_csv('data/test_cubic.csv', index = False)\n",
    "train_df.to_csv('data/train_cubic.csv', index = False)\n",
    "# ANSWER CHECK\n",
    "train_df.head()"
   ]
  },
  {
   "cell_type": "code",
   "execution_count": 26,
   "metadata": {
    "nbgrader": {
     "grade": false,
     "grade_id": "cell-4f844fb9a25d4ef8",
     "locked": true,
     "schema_version": 1,
     "solution": false
    },
    "ExecuteTime": {
     "end_time": "2023-11-03T01:47:31.569598700Z",
     "start_time": "2023-11-03T01:47:31.409544Z"
    }
   },
   "outputs": [
    {
     "data": {
      "text/plain": "      age     bmi  children   age^2   age bmi  age children        bmi^2  \\\n0    45.0  25.175       2.0  2025.0  1132.875          90.0   633.780625   \n1    36.0  30.020       0.0  1296.0  1080.720           0.0   901.200400   \n2    64.0  26.885       0.0  4096.0  1720.640           0.0   722.803225   \n3    46.0  25.745       3.0  2116.0  1184.270         138.0   662.805025   \n4    19.0  31.920       0.0   361.0   606.480           0.0  1018.886400   \n..    ...     ...       ...     ...       ...           ...          ...   \n397  50.0  44.745       0.0  2500.0  2237.250           0.0  2002.115025   \n398  36.0  29.700       0.0  1296.0  1069.200           0.0   882.090000   \n399  18.0  28.215       0.0   324.0   507.870           0.0   796.086225   \n400  58.0  36.080       0.0  3364.0  2092.640           0.0  1301.766400   \n401  20.0  22.000       1.0   400.0   440.000          20.0   484.000000   \n\n     bmi children  children^2     age^3   age^2 bmi  age^2 children  \\\n0          50.350         4.0   91125.0   50979.375          4050.0   \n1           0.000         0.0   46656.0   38905.920             0.0   \n2           0.000         0.0  262144.0  110120.960             0.0   \n3          77.235         9.0   97336.0   54476.420          6348.0   \n4           0.000         0.0    6859.0   11523.120             0.0   \n..            ...         ...       ...         ...             ...   \n397         0.000         0.0  125000.0  111862.500             0.0   \n398         0.000         0.0   46656.0   38491.200             0.0   \n399         0.000         0.0    5832.0    9141.660             0.0   \n400         0.000         0.0  195112.0  121373.120             0.0   \n401        22.000         1.0    8000.0    8800.000           400.0   \n\n         age bmi^2  age bmi children  age children^2         bmi^3  \\\n0     28520.128125           2265.75           180.0  15955.427234   \n1     32443.214400              0.00             0.0  27054.036008   \n2     46259.406400              0.00             0.0  19432.564704   \n3     30489.031150           3552.81           414.0  17063.915369   \n4     19358.841600              0.00             0.0  32522.853888   \n..             ...               ...             ...           ...   \n397  100105.751250              0.00             0.0  89584.636794   \n398   31755.240000              0.00             0.0  26198.073000   \n399   14329.552050              0.00             0.0  22461.572838   \n400   75502.451200              0.00             0.0  46967.731712   \n401    9680.000000            440.00            20.0  10648.000000   \n\n     bmi^2 children  bmi children^2  children^3  \n0       1267.561250         100.700         8.0  \n1          0.000000           0.000         0.0  \n2          0.000000           0.000         0.0  \n3       1988.415075         231.705        27.0  \n4          0.000000           0.000         0.0  \n..              ...             ...         ...  \n397        0.000000           0.000         0.0  \n398        0.000000           0.000         0.0  \n399        0.000000           0.000         0.0  \n400        0.000000           0.000         0.0  \n401      484.000000          22.000         1.0  \n\n[402 rows x 19 columns]",
      "text/html": "<div>\n<style scoped>\n    .dataframe tbody tr th:only-of-type {\n        vertical-align: middle;\n    }\n\n    .dataframe tbody tr th {\n        vertical-align: top;\n    }\n\n    .dataframe thead th {\n        text-align: right;\n    }\n</style>\n<table border=\"1\" class=\"dataframe\">\n  <thead>\n    <tr style=\"text-align: right;\">\n      <th></th>\n      <th>age</th>\n      <th>bmi</th>\n      <th>children</th>\n      <th>age^2</th>\n      <th>age bmi</th>\n      <th>age children</th>\n      <th>bmi^2</th>\n      <th>bmi children</th>\n      <th>children^2</th>\n      <th>age^3</th>\n      <th>age^2 bmi</th>\n      <th>age^2 children</th>\n      <th>age bmi^2</th>\n      <th>age bmi children</th>\n      <th>age children^2</th>\n      <th>bmi^3</th>\n      <th>bmi^2 children</th>\n      <th>bmi children^2</th>\n      <th>children^3</th>\n    </tr>\n  </thead>\n  <tbody>\n    <tr>\n      <th>0</th>\n      <td>45.0</td>\n      <td>25.175</td>\n      <td>2.0</td>\n      <td>2025.0</td>\n      <td>1132.875</td>\n      <td>90.0</td>\n      <td>633.780625</td>\n      <td>50.350</td>\n      <td>4.0</td>\n      <td>91125.0</td>\n      <td>50979.375</td>\n      <td>4050.0</td>\n      <td>28520.128125</td>\n      <td>2265.75</td>\n      <td>180.0</td>\n      <td>15955.427234</td>\n      <td>1267.561250</td>\n      <td>100.700</td>\n      <td>8.0</td>\n    </tr>\n    <tr>\n      <th>1</th>\n      <td>36.0</td>\n      <td>30.020</td>\n      <td>0.0</td>\n      <td>1296.0</td>\n      <td>1080.720</td>\n      <td>0.0</td>\n      <td>901.200400</td>\n      <td>0.000</td>\n      <td>0.0</td>\n      <td>46656.0</td>\n      <td>38905.920</td>\n      <td>0.0</td>\n      <td>32443.214400</td>\n      <td>0.00</td>\n      <td>0.0</td>\n      <td>27054.036008</td>\n      <td>0.000000</td>\n      <td>0.000</td>\n      <td>0.0</td>\n    </tr>\n    <tr>\n      <th>2</th>\n      <td>64.0</td>\n      <td>26.885</td>\n      <td>0.0</td>\n      <td>4096.0</td>\n      <td>1720.640</td>\n      <td>0.0</td>\n      <td>722.803225</td>\n      <td>0.000</td>\n      <td>0.0</td>\n      <td>262144.0</td>\n      <td>110120.960</td>\n      <td>0.0</td>\n      <td>46259.406400</td>\n      <td>0.00</td>\n      <td>0.0</td>\n      <td>19432.564704</td>\n      <td>0.000000</td>\n      <td>0.000</td>\n      <td>0.0</td>\n    </tr>\n    <tr>\n      <th>3</th>\n      <td>46.0</td>\n      <td>25.745</td>\n      <td>3.0</td>\n      <td>2116.0</td>\n      <td>1184.270</td>\n      <td>138.0</td>\n      <td>662.805025</td>\n      <td>77.235</td>\n      <td>9.0</td>\n      <td>97336.0</td>\n      <td>54476.420</td>\n      <td>6348.0</td>\n      <td>30489.031150</td>\n      <td>3552.81</td>\n      <td>414.0</td>\n      <td>17063.915369</td>\n      <td>1988.415075</td>\n      <td>231.705</td>\n      <td>27.0</td>\n    </tr>\n    <tr>\n      <th>4</th>\n      <td>19.0</td>\n      <td>31.920</td>\n      <td>0.0</td>\n      <td>361.0</td>\n      <td>606.480</td>\n      <td>0.0</td>\n      <td>1018.886400</td>\n      <td>0.000</td>\n      <td>0.0</td>\n      <td>6859.0</td>\n      <td>11523.120</td>\n      <td>0.0</td>\n      <td>19358.841600</td>\n      <td>0.00</td>\n      <td>0.0</td>\n      <td>32522.853888</td>\n      <td>0.000000</td>\n      <td>0.000</td>\n      <td>0.0</td>\n    </tr>\n    <tr>\n      <th>...</th>\n      <td>...</td>\n      <td>...</td>\n      <td>...</td>\n      <td>...</td>\n      <td>...</td>\n      <td>...</td>\n      <td>...</td>\n      <td>...</td>\n      <td>...</td>\n      <td>...</td>\n      <td>...</td>\n      <td>...</td>\n      <td>...</td>\n      <td>...</td>\n      <td>...</td>\n      <td>...</td>\n      <td>...</td>\n      <td>...</td>\n      <td>...</td>\n    </tr>\n    <tr>\n      <th>397</th>\n      <td>50.0</td>\n      <td>44.745</td>\n      <td>0.0</td>\n      <td>2500.0</td>\n      <td>2237.250</td>\n      <td>0.0</td>\n      <td>2002.115025</td>\n      <td>0.000</td>\n      <td>0.0</td>\n      <td>125000.0</td>\n      <td>111862.500</td>\n      <td>0.0</td>\n      <td>100105.751250</td>\n      <td>0.00</td>\n      <td>0.0</td>\n      <td>89584.636794</td>\n      <td>0.000000</td>\n      <td>0.000</td>\n      <td>0.0</td>\n    </tr>\n    <tr>\n      <th>398</th>\n      <td>36.0</td>\n      <td>29.700</td>\n      <td>0.0</td>\n      <td>1296.0</td>\n      <td>1069.200</td>\n      <td>0.0</td>\n      <td>882.090000</td>\n      <td>0.000</td>\n      <td>0.0</td>\n      <td>46656.0</td>\n      <td>38491.200</td>\n      <td>0.0</td>\n      <td>31755.240000</td>\n      <td>0.00</td>\n      <td>0.0</td>\n      <td>26198.073000</td>\n      <td>0.000000</td>\n      <td>0.000</td>\n      <td>0.0</td>\n    </tr>\n    <tr>\n      <th>399</th>\n      <td>18.0</td>\n      <td>28.215</td>\n      <td>0.0</td>\n      <td>324.0</td>\n      <td>507.870</td>\n      <td>0.0</td>\n      <td>796.086225</td>\n      <td>0.000</td>\n      <td>0.0</td>\n      <td>5832.0</td>\n      <td>9141.660</td>\n      <td>0.0</td>\n      <td>14329.552050</td>\n      <td>0.00</td>\n      <td>0.0</td>\n      <td>22461.572838</td>\n      <td>0.000000</td>\n      <td>0.000</td>\n      <td>0.0</td>\n    </tr>\n    <tr>\n      <th>400</th>\n      <td>58.0</td>\n      <td>36.080</td>\n      <td>0.0</td>\n      <td>3364.0</td>\n      <td>2092.640</td>\n      <td>0.0</td>\n      <td>1301.766400</td>\n      <td>0.000</td>\n      <td>0.0</td>\n      <td>195112.0</td>\n      <td>121373.120</td>\n      <td>0.0</td>\n      <td>75502.451200</td>\n      <td>0.00</td>\n      <td>0.0</td>\n      <td>46967.731712</td>\n      <td>0.000000</td>\n      <td>0.000</td>\n      <td>0.0</td>\n    </tr>\n    <tr>\n      <th>401</th>\n      <td>20.0</td>\n      <td>22.000</td>\n      <td>1.0</td>\n      <td>400.0</td>\n      <td>440.000</td>\n      <td>20.0</td>\n      <td>484.000000</td>\n      <td>22.000</td>\n      <td>1.0</td>\n      <td>8000.0</td>\n      <td>8800.000</td>\n      <td>400.0</td>\n      <td>9680.000000</td>\n      <td>440.00</td>\n      <td>20.0</td>\n      <td>10648.000000</td>\n      <td>484.000000</td>\n      <td>22.000</td>\n      <td>1.0</td>\n    </tr>\n  </tbody>\n</table>\n<p>402 rows × 19 columns</p>\n</div>"
     },
     "execution_count": 26,
     "metadata": {},
     "output_type": "execute_result"
    }
   ],
   "source": [
    "test_df"
   ]
  },
  {
   "cell_type": "code",
   "execution_count": 27,
   "metadata": {
    "nbgrader": {
     "grade": true,
     "grade_id": "cell-3de83240a90381b4",
     "locked": true,
     "points": 10,
     "schema_version": 1,
     "solution": false
    },
    "ExecuteTime": {
     "end_time": "2023-11-03T01:47:31.608598700Z",
     "start_time": "2023-11-03T01:47:31.441087500Z"
    }
   },
   "outputs": [],
   "source": [
    "### BEGIN HIDDEN TESTS\n",
    "poly_features_ = PolynomialFeatures(degree = 3, include_bias=False)\n",
    "X_train_poly_ = poly_features_.fit_transform(X_train_[['age', 'bmi', 'children']])\n",
    "X_test_poly_ = poly_features_.transform(X_test_[['age', 'bmi', 'children']])\n",
    "columns_ = poly_features_.get_feature_names_out()\n",
    "train_df_ = pd.DataFrame(X_train_poly_, columns=columns_)\n",
    "test_df_ = pd.DataFrame(X_test_poly_, columns = columns_)\n",
    "#\n",
    "#\n",
    "#\n",
    "pd.testing.assert_frame_equal(train_df, train_df_)\n",
    "pd.testing.assert_frame_equal(test_df, test_df_)\n",
    "### END HIDDEN TESTS"
   ]
  },
  {
   "cell_type": "markdown",
   "metadata": {
    "nbgrader": {
     "grade": false,
     "grade_id": "cell-1441a239f8811651",
     "locked": true,
     "schema_version": 1,
     "solution": false
    }
   },
   "source": [
    "[Back to top](#Index)\n",
    "\n",
    "### Problem 3\n",
    "\n",
    "#### Using `SequentialFeatureSelector`\n",
    "\n",
    "**Points: 10**\n",
    "\n",
    "Now, using the polynomial features you will use forward feature selection to select three features (`n_features_to_select = 3`) using a `LinearRegression` estimator to perform the feature selection on the training data.  Assign your transformed features to `best_features_df` as a DataFrame with appropriate feature names.  The transformer should be instantiated as `selector` and the transformed training data should be assigned to `best_features` as an array."
   ]
  },
  {
   "cell_type": "code",
   "execution_count": 28,
   "metadata": {
    "nbgrader": {
     "grade": false,
     "grade_id": "cell-9f4f9967ff33d5f2",
     "locked": false,
     "schema_version": 1,
     "solution": true
    },
    "ExecuteTime": {
     "end_time": "2023-11-03T01:47:31.888737100Z",
     "start_time": "2023-11-03T01:47:31.459087600Z"
    }
   },
   "outputs": [
    {
     "data": {
      "text/plain": "    age  bmi children  age children^2\n0  61.0          0.00             0.0\n1  46.0          0.00             0.0\n2  54.0         95.70           486.0\n3  55.0          0.00             0.0\n4  25.0         91.08           100.0",
      "text/html": "<div>\n<style scoped>\n    .dataframe tbody tr th:only-of-type {\n        vertical-align: middle;\n    }\n\n    .dataframe tbody tr th {\n        vertical-align: top;\n    }\n\n    .dataframe thead th {\n        text-align: right;\n    }\n</style>\n<table border=\"1\" class=\"dataframe\">\n  <thead>\n    <tr style=\"text-align: right;\">\n      <th></th>\n      <th>age</th>\n      <th>bmi children</th>\n      <th>age children^2</th>\n    </tr>\n  </thead>\n  <tbody>\n    <tr>\n      <th>0</th>\n      <td>61.0</td>\n      <td>0.00</td>\n      <td>0.0</td>\n    </tr>\n    <tr>\n      <th>1</th>\n      <td>46.0</td>\n      <td>0.00</td>\n      <td>0.0</td>\n    </tr>\n    <tr>\n      <th>2</th>\n      <td>54.0</td>\n      <td>95.70</td>\n      <td>486.0</td>\n    </tr>\n    <tr>\n      <th>3</th>\n      <td>55.0</td>\n      <td>0.00</td>\n      <td>0.0</td>\n    </tr>\n    <tr>\n      <th>4</th>\n      <td>25.0</td>\n      <td>91.08</td>\n      <td>100.0</td>\n    </tr>\n  </tbody>\n</table>\n</div>"
     },
     "execution_count": 28,
     "metadata": {},
     "output_type": "execute_result"
    }
   ],
   "source": [
    "### GRADED\n",
    "\n",
    "selector = ''\n",
    "best_features = ''\n",
    "best_features_df = ''\n",
    "\n",
    "### BEGIN SOLUTION\n",
    "selector = SequentialFeatureSelector(LinearRegression(), n_features_to_select=3)\n",
    "best_features = selector.fit_transform(train_df, y_train)\n",
    "best_features_df = pd.DataFrame(best_features, columns = selector.get_feature_names_out())\n",
    "### END SOLUTION\n",
    "\n",
    "# ANSWER CHECK\n",
    "best_features_df.head()"
   ]
  },
  {
   "cell_type": "code",
   "execution_count": 29,
   "metadata": {
    "nbgrader": {
     "grade": true,
     "grade_id": "cell-d85b583ba81fd7d6",
     "locked": true,
     "points": 10,
     "schema_version": 1,
     "solution": false
    },
    "ExecuteTime": {
     "end_time": "2023-11-03T01:47:32.174074300Z",
     "start_time": "2023-11-03T01:47:31.878736600Z"
    }
   },
   "outputs": [],
   "source": [
    "### BEGIN HIDDEN TESTS\n",
    "selector_ = SequentialFeatureSelector(LinearRegression(), n_features_to_select=3)\n",
    "best_features_ = selector_.fit_transform(train_df, y_train_)\n",
    "best_features_df_ = pd.DataFrame(best_features_, columns = selector_.get_feature_names_out())\n",
    "#\n",
    "#\n",
    "#\n",
    "assert type(selector) == type(selector_)\n",
    "np.testing.assert_array_equal(best_features, best_features_, err_msg='Make sure best_features is training data transformed to 3 best features')\n",
    "pd.testing.assert_frame_equal(best_features_df, best_features_df_)\n",
    "### END HIDDEN TESTS"
   ]
  },
  {
   "cell_type": "markdown",
   "metadata": {
    "nbgrader": {
     "grade": false,
     "grade_id": "cell-443bbe9d0e498c81",
     "locked": true,
     "schema_version": 1,
     "solution": false
    }
   },
   "source": [
    "[Back to top](#Index)\n",
    "\n",
    "### Problem 4\n",
    "\n",
    "#### `Pipeline` for regression model\n",
    "\n",
    "**Points: 20**\n",
    "\n",
    "\n",
    "Now, create a `Pipeline` object with steps `column_selector` to select three features, and `linreg` to build a `LinearRegression` estimator.  Determine the Mean Squared Error on the train and test set respectively and assign to `train_mse` and `test_mse` as a float. Be sure to use `train_df` and `test_df` from above for fitting and predicting."
   ]
  },
  {
   "cell_type": "code",
   "execution_count": 30,
   "metadata": {
    "nbgrader": {
     "grade": false,
     "grade_id": "cell-18c28262fcf1b06b",
     "locked": false,
     "schema_version": 1,
     "solution": true
    },
    "ExecuteTime": {
     "end_time": "2023-11-03T01:47:32.459407900Z",
     "start_time": "2023-11-03T01:47:32.175074100Z"
    }
   },
   "outputs": [
    {
     "name": "stdout",
     "output_type": "stream",
     "text": [
      "Train MSE:  0.60\n",
      "Test MSE:  0.56\n"
     ]
    },
    {
     "data": {
      "text/plain": "Pipeline(steps=[('column_selector',\n                 SequentialFeatureSelector(estimator=LinearRegression(),\n                                           n_features_to_select=3)),\n                ('linreg', LinearRegression())])",
      "text/html": "<style>#sk-container-id-3 {color: black;}#sk-container-id-3 pre{padding: 0;}#sk-container-id-3 div.sk-toggleable {background-color: white;}#sk-container-id-3 label.sk-toggleable__label {cursor: pointer;display: block;width: 100%;margin-bottom: 0;padding: 0.3em;box-sizing: border-box;text-align: center;}#sk-container-id-3 label.sk-toggleable__label-arrow:before {content: \"▸\";float: left;margin-right: 0.25em;color: #696969;}#sk-container-id-3 label.sk-toggleable__label-arrow:hover:before {color: black;}#sk-container-id-3 div.sk-estimator:hover label.sk-toggleable__label-arrow:before {color: black;}#sk-container-id-3 div.sk-toggleable__content {max-height: 0;max-width: 0;overflow: hidden;text-align: left;background-color: #f0f8ff;}#sk-container-id-3 div.sk-toggleable__content pre {margin: 0.2em;color: black;border-radius: 0.25em;background-color: #f0f8ff;}#sk-container-id-3 input.sk-toggleable__control:checked~div.sk-toggleable__content {max-height: 200px;max-width: 100%;overflow: auto;}#sk-container-id-3 input.sk-toggleable__control:checked~label.sk-toggleable__label-arrow:before {content: \"▾\";}#sk-container-id-3 div.sk-estimator input.sk-toggleable__control:checked~label.sk-toggleable__label {background-color: #d4ebff;}#sk-container-id-3 div.sk-label input.sk-toggleable__control:checked~label.sk-toggleable__label {background-color: #d4ebff;}#sk-container-id-3 input.sk-hidden--visually {border: 0;clip: rect(1px 1px 1px 1px);clip: rect(1px, 1px, 1px, 1px);height: 1px;margin: -1px;overflow: hidden;padding: 0;position: absolute;width: 1px;}#sk-container-id-3 div.sk-estimator {font-family: monospace;background-color: #f0f8ff;border: 1px dotted black;border-radius: 0.25em;box-sizing: border-box;margin-bottom: 0.5em;}#sk-container-id-3 div.sk-estimator:hover {background-color: #d4ebff;}#sk-container-id-3 div.sk-parallel-item::after {content: \"\";width: 100%;border-bottom: 1px solid gray;flex-grow: 1;}#sk-container-id-3 div.sk-label:hover label.sk-toggleable__label {background-color: #d4ebff;}#sk-container-id-3 div.sk-serial::before {content: \"\";position: absolute;border-left: 1px solid gray;box-sizing: border-box;top: 0;bottom: 0;left: 50%;z-index: 0;}#sk-container-id-3 div.sk-serial {display: flex;flex-direction: column;align-items: center;background-color: white;padding-right: 0.2em;padding-left: 0.2em;position: relative;}#sk-container-id-3 div.sk-item {position: relative;z-index: 1;}#sk-container-id-3 div.sk-parallel {display: flex;align-items: stretch;justify-content: center;background-color: white;position: relative;}#sk-container-id-3 div.sk-item::before, #sk-container-id-3 div.sk-parallel-item::before {content: \"\";position: absolute;border-left: 1px solid gray;box-sizing: border-box;top: 0;bottom: 0;left: 50%;z-index: -1;}#sk-container-id-3 div.sk-parallel-item {display: flex;flex-direction: column;z-index: 1;position: relative;background-color: white;}#sk-container-id-3 div.sk-parallel-item:first-child::after {align-self: flex-end;width: 50%;}#sk-container-id-3 div.sk-parallel-item:last-child::after {align-self: flex-start;width: 50%;}#sk-container-id-3 div.sk-parallel-item:only-child::after {width: 0;}#sk-container-id-3 div.sk-dashed-wrapped {border: 1px dashed gray;margin: 0 0.4em 0.5em 0.4em;box-sizing: border-box;padding-bottom: 0.4em;background-color: white;}#sk-container-id-3 div.sk-label label {font-family: monospace;font-weight: bold;display: inline-block;line-height: 1.2em;}#sk-container-id-3 div.sk-label-container {text-align: center;}#sk-container-id-3 div.sk-container {/* jupyter's `normalize.less` sets `[hidden] { display: none; }` but bootstrap.min.css set `[hidden] { display: none !important; }` so we also need the `!important` here to be able to override the default hidden behavior on the sphinx rendered scikit-learn.org. See: https://github.com/scikit-learn/scikit-learn/issues/21755 */display: inline-block !important;position: relative;}#sk-container-id-3 div.sk-text-repr-fallback {display: none;}</style><div id=\"sk-container-id-3\" class=\"sk-top-container\"><div class=\"sk-text-repr-fallback\"><pre>Pipeline(steps=[(&#x27;column_selector&#x27;,\n                 SequentialFeatureSelector(estimator=LinearRegression(),\n                                           n_features_to_select=3)),\n                (&#x27;linreg&#x27;, LinearRegression())])</pre><b>In a Jupyter environment, please rerun this cell to show the HTML representation or trust the notebook. <br />On GitHub, the HTML representation is unable to render, please try loading this page with nbviewer.org.</b></div><div class=\"sk-container\" hidden><div class=\"sk-item sk-dashed-wrapped\"><div class=\"sk-label-container\"><div class=\"sk-label sk-toggleable\"><input class=\"sk-toggleable__control sk-hidden--visually\" id=\"sk-estimator-id-11\" type=\"checkbox\" ><label for=\"sk-estimator-id-11\" class=\"sk-toggleable__label sk-toggleable__label-arrow\">Pipeline</label><div class=\"sk-toggleable__content\"><pre>Pipeline(steps=[(&#x27;column_selector&#x27;,\n                 SequentialFeatureSelector(estimator=LinearRegression(),\n                                           n_features_to_select=3)),\n                (&#x27;linreg&#x27;, LinearRegression())])</pre></div></div></div><div class=\"sk-serial\"><div class=\"sk-item sk-dashed-wrapped\"><div class=\"sk-label-container\"><div class=\"sk-label sk-toggleable\"><input class=\"sk-toggleable__control sk-hidden--visually\" id=\"sk-estimator-id-12\" type=\"checkbox\" ><label for=\"sk-estimator-id-12\" class=\"sk-toggleable__label sk-toggleable__label-arrow\">column_selector: SequentialFeatureSelector</label><div class=\"sk-toggleable__content\"><pre>SequentialFeatureSelector(estimator=LinearRegression(), n_features_to_select=3)</pre></div></div></div><div class=\"sk-parallel\"><div class=\"sk-parallel-item\"><div class=\"sk-item\"><div class=\"sk-label-container\"><div class=\"sk-label sk-toggleable\"><input class=\"sk-toggleable__control sk-hidden--visually\" id=\"sk-estimator-id-13\" type=\"checkbox\" ><label for=\"sk-estimator-id-13\" class=\"sk-toggleable__label sk-toggleable__label-arrow\">estimator: LinearRegression</label><div class=\"sk-toggleable__content\"><pre>LinearRegression()</pre></div></div></div><div class=\"sk-serial\"><div class=\"sk-item\"><div class=\"sk-estimator sk-toggleable\"><input class=\"sk-toggleable__control sk-hidden--visually\" id=\"sk-estimator-id-14\" type=\"checkbox\" ><label for=\"sk-estimator-id-14\" class=\"sk-toggleable__label sk-toggleable__label-arrow\">LinearRegression</label><div class=\"sk-toggleable__content\"><pre>LinearRegression()</pre></div></div></div></div></div></div></div></div><div class=\"sk-item\"><div class=\"sk-estimator sk-toggleable\"><input class=\"sk-toggleable__control sk-hidden--visually\" id=\"sk-estimator-id-15\" type=\"checkbox\" ><label for=\"sk-estimator-id-15\" class=\"sk-toggleable__label sk-toggleable__label-arrow\">LinearRegression</label><div class=\"sk-toggleable__content\"><pre>LinearRegression()</pre></div></div></div></div></div></div></div>"
     },
     "execution_count": 30,
     "metadata": {},
     "output_type": "execute_result"
    }
   ],
   "source": [
    "### GRADED\n",
    "\n",
    "pipe = ''\n",
    "train_preds = ''\n",
    "test_preds = ''\n",
    "train_mse = ''\n",
    "test_mse = ''\n",
    "\n",
    "### BEGIN SOLUTION\n",
    "pipe = Pipeline([('column_selector', selector), ('linreg', LinearRegression())])\n",
    "pipe.fit(train_df, y_train)\n",
    "train_preds = pipe.predict(train_df)\n",
    "test_preds = pipe.predict(test_df)\n",
    "train_mse = mean_squared_error(y_train, train_preds)\n",
    "test_mse = mean_squared_error(y_test, test_preds)\n",
    "### END SOLUTION\n",
    "\n",
    "# Answer check\n",
    "print(f'Train MSE: {train_mse: .2f}')\n",
    "print(f'Test MSE: {test_mse: .2f}')\n",
    "pipe"
   ]
  },
  {
   "cell_type": "code",
   "execution_count": 31,
   "metadata": {
    "nbgrader": {
     "grade": true,
     "grade_id": "cell-e237a96bbbc90a2a",
     "locked": true,
     "points": 20,
     "schema_version": 1,
     "solution": false
    },
    "ExecuteTime": {
     "end_time": "2023-11-03T01:47:32.738321Z",
     "start_time": "2023-11-03T01:47:32.455406400Z"
    }
   },
   "outputs": [],
   "source": [
    "### BEGIN HIDDEN TESTS\n",
    "pipe_ = Pipeline([('column_selector', selector), ('linreg', LinearRegression())])\n",
    "pipe_.fit(train_df, y_train)\n",
    "train_preds_ = pipe_.predict(train_df)\n",
    "test_preds_ = pipe_.predict(test_df)\n",
    "train_mse_ = mean_squared_error(y_train, train_preds_)\n",
    "test_mse_ = mean_squared_error(y_test, test_preds_)\n",
    "#\n",
    "#\n",
    "#\n",
    "assert train_mse_ == train_mse\n",
    "assert test_mse_ == test_mse\n",
    "### END HIDDEN TESTS"
   ]
  },
  {
   "cell_type": "markdown",
   "metadata": {
    "nbgrader": {
     "grade": false,
     "grade_id": "cell-70ae7b485ba6330f",
     "locked": true,
     "schema_version": 1,
     "solution": false
    }
   },
   "source": [
    "[Back to top](#Index)\n",
    "\n",
    "#### Problem 5\n",
    "\n",
    "#### Backward Selction\n",
    "\n",
    "**Points: 20**\n",
    "\n",
    "Similar to the forward selection method, backward selection starts with all features and sequentially eliminates features until the threshold is achieved.  Use the selector `backward_selector` below to again build a pipeline named `backward_pipe` and fit a `LinearRegression` model using three features from `train_df`. \n",
    "\n",
    "Assign the train and test mean squared errors as `backward_train_mse` and `backward_test_mse` respectively."
   ]
  },
  {
   "cell_type": "code",
   "execution_count": 32,
   "metadata": {
    "nbgrader": {
     "grade": false,
     "grade_id": "cell-1fc33b08f14ce729",
     "locked": true,
     "schema_version": 1,
     "solution": false
    },
    "ExecuteTime": {
     "end_time": "2023-11-03T01:47:32.754321100Z",
     "start_time": "2023-11-03T01:47:32.738321Z"
    }
   },
   "outputs": [],
   "source": [
    "backward_selector = SequentialFeatureSelector(LinearRegression(), n_features_to_select=3, direction = 'backward')"
   ]
  },
  {
   "cell_type": "code",
   "execution_count": 33,
   "metadata": {
    "nbgrader": {
     "grade": false,
     "grade_id": "cell-64f2fa2c467d6268",
     "locked": false,
     "schema_version": 1,
     "solution": true
    },
    "ExecuteTime": {
     "end_time": "2023-11-03T01:47:34.100515200Z",
     "start_time": "2023-11-03T01:47:32.754321100Z"
    }
   },
   "outputs": [
    {
     "name": "stdout",
     "output_type": "stream",
     "text": [
      "Train MSE:  0.60\n",
      "Test MSE:  0.57\n"
     ]
    },
    {
     "data": {
      "text/plain": "Pipeline(steps=[('column_selector',\n                 SequentialFeatureSelector(direction='backward',\n                                           estimator=LinearRegression(),\n                                           n_features_to_select=3)),\n                ('linreg', LinearRegression())])",
      "text/html": "<style>#sk-container-id-4 {color: black;}#sk-container-id-4 pre{padding: 0;}#sk-container-id-4 div.sk-toggleable {background-color: white;}#sk-container-id-4 label.sk-toggleable__label {cursor: pointer;display: block;width: 100%;margin-bottom: 0;padding: 0.3em;box-sizing: border-box;text-align: center;}#sk-container-id-4 label.sk-toggleable__label-arrow:before {content: \"▸\";float: left;margin-right: 0.25em;color: #696969;}#sk-container-id-4 label.sk-toggleable__label-arrow:hover:before {color: black;}#sk-container-id-4 div.sk-estimator:hover label.sk-toggleable__label-arrow:before {color: black;}#sk-container-id-4 div.sk-toggleable__content {max-height: 0;max-width: 0;overflow: hidden;text-align: left;background-color: #f0f8ff;}#sk-container-id-4 div.sk-toggleable__content pre {margin: 0.2em;color: black;border-radius: 0.25em;background-color: #f0f8ff;}#sk-container-id-4 input.sk-toggleable__control:checked~div.sk-toggleable__content {max-height: 200px;max-width: 100%;overflow: auto;}#sk-container-id-4 input.sk-toggleable__control:checked~label.sk-toggleable__label-arrow:before {content: \"▾\";}#sk-container-id-4 div.sk-estimator input.sk-toggleable__control:checked~label.sk-toggleable__label {background-color: #d4ebff;}#sk-container-id-4 div.sk-label input.sk-toggleable__control:checked~label.sk-toggleable__label {background-color: #d4ebff;}#sk-container-id-4 input.sk-hidden--visually {border: 0;clip: rect(1px 1px 1px 1px);clip: rect(1px, 1px, 1px, 1px);height: 1px;margin: -1px;overflow: hidden;padding: 0;position: absolute;width: 1px;}#sk-container-id-4 div.sk-estimator {font-family: monospace;background-color: #f0f8ff;border: 1px dotted black;border-radius: 0.25em;box-sizing: border-box;margin-bottom: 0.5em;}#sk-container-id-4 div.sk-estimator:hover {background-color: #d4ebff;}#sk-container-id-4 div.sk-parallel-item::after {content: \"\";width: 100%;border-bottom: 1px solid gray;flex-grow: 1;}#sk-container-id-4 div.sk-label:hover label.sk-toggleable__label {background-color: #d4ebff;}#sk-container-id-4 div.sk-serial::before {content: \"\";position: absolute;border-left: 1px solid gray;box-sizing: border-box;top: 0;bottom: 0;left: 50%;z-index: 0;}#sk-container-id-4 div.sk-serial {display: flex;flex-direction: column;align-items: center;background-color: white;padding-right: 0.2em;padding-left: 0.2em;position: relative;}#sk-container-id-4 div.sk-item {position: relative;z-index: 1;}#sk-container-id-4 div.sk-parallel {display: flex;align-items: stretch;justify-content: center;background-color: white;position: relative;}#sk-container-id-4 div.sk-item::before, #sk-container-id-4 div.sk-parallel-item::before {content: \"\";position: absolute;border-left: 1px solid gray;box-sizing: border-box;top: 0;bottom: 0;left: 50%;z-index: -1;}#sk-container-id-4 div.sk-parallel-item {display: flex;flex-direction: column;z-index: 1;position: relative;background-color: white;}#sk-container-id-4 div.sk-parallel-item:first-child::after {align-self: flex-end;width: 50%;}#sk-container-id-4 div.sk-parallel-item:last-child::after {align-self: flex-start;width: 50%;}#sk-container-id-4 div.sk-parallel-item:only-child::after {width: 0;}#sk-container-id-4 div.sk-dashed-wrapped {border: 1px dashed gray;margin: 0 0.4em 0.5em 0.4em;box-sizing: border-box;padding-bottom: 0.4em;background-color: white;}#sk-container-id-4 div.sk-label label {font-family: monospace;font-weight: bold;display: inline-block;line-height: 1.2em;}#sk-container-id-4 div.sk-label-container {text-align: center;}#sk-container-id-4 div.sk-container {/* jupyter's `normalize.less` sets `[hidden] { display: none; }` but bootstrap.min.css set `[hidden] { display: none !important; }` so we also need the `!important` here to be able to override the default hidden behavior on the sphinx rendered scikit-learn.org. See: https://github.com/scikit-learn/scikit-learn/issues/21755 */display: inline-block !important;position: relative;}#sk-container-id-4 div.sk-text-repr-fallback {display: none;}</style><div id=\"sk-container-id-4\" class=\"sk-top-container\"><div class=\"sk-text-repr-fallback\"><pre>Pipeline(steps=[(&#x27;column_selector&#x27;,\n                 SequentialFeatureSelector(direction=&#x27;backward&#x27;,\n                                           estimator=LinearRegression(),\n                                           n_features_to_select=3)),\n                (&#x27;linreg&#x27;, LinearRegression())])</pre><b>In a Jupyter environment, please rerun this cell to show the HTML representation or trust the notebook. <br />On GitHub, the HTML representation is unable to render, please try loading this page with nbviewer.org.</b></div><div class=\"sk-container\" hidden><div class=\"sk-item sk-dashed-wrapped\"><div class=\"sk-label-container\"><div class=\"sk-label sk-toggleable\"><input class=\"sk-toggleable__control sk-hidden--visually\" id=\"sk-estimator-id-16\" type=\"checkbox\" ><label for=\"sk-estimator-id-16\" class=\"sk-toggleable__label sk-toggleable__label-arrow\">Pipeline</label><div class=\"sk-toggleable__content\"><pre>Pipeline(steps=[(&#x27;column_selector&#x27;,\n                 SequentialFeatureSelector(direction=&#x27;backward&#x27;,\n                                           estimator=LinearRegression(),\n                                           n_features_to_select=3)),\n                (&#x27;linreg&#x27;, LinearRegression())])</pre></div></div></div><div class=\"sk-serial\"><div class=\"sk-item sk-dashed-wrapped\"><div class=\"sk-label-container\"><div class=\"sk-label sk-toggleable\"><input class=\"sk-toggleable__control sk-hidden--visually\" id=\"sk-estimator-id-17\" type=\"checkbox\" ><label for=\"sk-estimator-id-17\" class=\"sk-toggleable__label sk-toggleable__label-arrow\">column_selector: SequentialFeatureSelector</label><div class=\"sk-toggleable__content\"><pre>SequentialFeatureSelector(direction=&#x27;backward&#x27;, estimator=LinearRegression(),\n                          n_features_to_select=3)</pre></div></div></div><div class=\"sk-parallel\"><div class=\"sk-parallel-item\"><div class=\"sk-item\"><div class=\"sk-label-container\"><div class=\"sk-label sk-toggleable\"><input class=\"sk-toggleable__control sk-hidden--visually\" id=\"sk-estimator-id-18\" type=\"checkbox\" ><label for=\"sk-estimator-id-18\" class=\"sk-toggleable__label sk-toggleable__label-arrow\">estimator: LinearRegression</label><div class=\"sk-toggleable__content\"><pre>LinearRegression()</pre></div></div></div><div class=\"sk-serial\"><div class=\"sk-item\"><div class=\"sk-estimator sk-toggleable\"><input class=\"sk-toggleable__control sk-hidden--visually\" id=\"sk-estimator-id-19\" type=\"checkbox\" ><label for=\"sk-estimator-id-19\" class=\"sk-toggleable__label sk-toggleable__label-arrow\">LinearRegression</label><div class=\"sk-toggleable__content\"><pre>LinearRegression()</pre></div></div></div></div></div></div></div></div><div class=\"sk-item\"><div class=\"sk-estimator sk-toggleable\"><input class=\"sk-toggleable__control sk-hidden--visually\" id=\"sk-estimator-id-20\" type=\"checkbox\" ><label for=\"sk-estimator-id-20\" class=\"sk-toggleable__label sk-toggleable__label-arrow\">LinearRegression</label><div class=\"sk-toggleable__content\"><pre>LinearRegression()</pre></div></div></div></div></div></div></div>"
     },
     "execution_count": 33,
     "metadata": {},
     "output_type": "execute_result"
    }
   ],
   "source": [
    "### GRADED\n",
    "backward_pipe = ''\n",
    "backward_train_mse = ''\n",
    "backward_test_mse = ''\n",
    "\n",
    "### BEGIN SOLUTION\n",
    "backward_pipe = Pipeline([('column_selector', backward_selector), ('linreg', LinearRegression())])\n",
    "backward_pipe.fit(train_df, y_train)\n",
    "train_preds = backward_pipe.predict(train_df)\n",
    "test_preds = backward_pipe.predict(test_df)\n",
    "backward_train_mse = mean_squared_error(y_train, train_preds)\n",
    "backward_test_mse = mean_squared_error(y_test, test_preds)\n",
    "### END SOLUTION\n",
    "\n",
    "# Answer check\n",
    "print(f'Train MSE: {backward_train_mse: .2f}')\n",
    "print(f'Test MSE: {backward_test_mse: .2f}')\n",
    "backward_pipe"
   ]
  },
  {
   "cell_type": "code",
   "execution_count": 34,
   "metadata": {
    "nbgrader": {
     "grade": true,
     "grade_id": "cell-25e395f9599eca47",
     "locked": true,
     "points": 20,
     "schema_version": 1,
     "solution": false
    },
    "ExecuteTime": {
     "end_time": "2023-11-03T01:47:35.111977500Z",
     "start_time": "2023-11-03T01:47:34.101515Z"
    }
   },
   "outputs": [],
   "source": [
    "### BEGIN HIDDEN TESTS\n",
    "backward_pipe_ = Pipeline([('column_selector', backward_selector), ('linreg', LinearRegression())])\n",
    "backward_pipe_.fit(train_df_, y_train_)\n",
    "train_preds_ = backward_pipe.predict(train_df_)\n",
    "test_preds_ = backward_pipe.predict(test_df_)\n",
    "backward_train_mse_ = mean_squared_error(y_train_, train_preds_)\n",
    "backward_test_mse_ = mean_squared_error(y_test_, test_preds_)\n",
    "#\n",
    "#\n",
    "#\n",
    "assert backward_test_mse == backward_test_mse_\n",
    "assert backward_train_mse == backward_train_mse_\n",
    "### END HIDDEN TESTS"
   ]
  },
  {
   "cell_type": "markdown",
   "metadata": {
    "nbgrader": {
     "grade": false,
     "grade_id": "cell-5954d401e35d43aa",
     "locked": true,
     "schema_version": 1,
     "solution": false
    }
   },
   "source": [
    "#### Further Exploration\n",
    "\n",
    "As an optional exercise work on incorporating the `PolynomialFeatures` into the pipeline along with a `TransformedTargetRegressor` to further abstract the modeling process.  "
   ]
  }
 ],
 "metadata": {
  "celltoolbar": "Create Assignment",
  "kernelspec": {
   "display_name": "Python 3",
   "language": "python",
   "name": "python3"
  },
  "language_info": {
   "codemirror_mode": {
    "name": "ipython",
    "version": 3
   },
   "file_extension": ".py",
   "mimetype": "text/x-python",
   "name": "python",
   "nbconvert_exporter": "python",
   "pygments_lexer": "ipython3",
   "version": "3.6.9"
  },
  "widgets": {
   "application/vnd.jupyter.widget-state+json": {
    "state": {},
    "version_major": 2,
    "version_minor": 0
   }
  }
 },
 "nbformat": 4,
 "nbformat_minor": 4
}
