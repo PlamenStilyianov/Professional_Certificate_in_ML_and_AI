{
 "cells": [
  {
   "cell_type": "code",
   "execution_count": 1,
   "id": "d8d2e3ef",
   "metadata": {
    "ExecuteTime": {
     "end_time": "2024-03-08T02:22:44.861345Z",
     "start_time": "2024-03-08T02:22:40.289500Z"
    }
   },
   "outputs": [
    {
     "name": "stdout",
     "output_type": "stream",
     "text": [
      "WARNING:tensorflow:From C:\\Java\\Python3.10.8\\lib\\site-packages\\keras\\src\\losses.py:2976: The name tf.losses.sparse_softmax_cross_entropy is deprecated. Please use tf.compat.v1.losses.sparse_softmax_cross_entropy instead.\n"
     ]
    }
   ],
   "source": [
    "from tensorflow import keras \n",
    "from tensorflow.keras import layers\n",
    "import os\n",
    "import numpy as np\n",
    "from matplotlib import pyplot as plt\n",
    "from tensorflow import keras\n",
    "import pickle\n",
    "import pandas as pd\n",
    "\n",
    "\n",
    "epochs = 10\n",
    "dotrain = True\n",
    "dotest = True"
   ]
  },
  {
   "cell_type": "code",
   "execution_count": 2,
   "id": "e8a87482",
   "metadata": {
    "ExecuteTime": {
     "end_time": "2024-03-08T02:22:45.644582Z",
     "start_time": "2024-03-08T02:22:44.863324Z"
    }
   },
   "outputs": [
    {
     "name": "stderr",
     "output_type": "stream",
     "text": [
      "C:\\Users\\Plamen\\AppData\\Local\\Temp\\ipykernel_24452\\235935179.py:11: FutureWarning: The frame.append method is deprecated and will be removed from pandas in a future version. Use pandas.concat instead.\n",
      "  Y = Y.append(X)\n",
      "C:\\Users\\Plamen\\AppData\\Local\\Temp\\ipykernel_24452\\235935179.py:11: FutureWarning: The frame.append method is deprecated and will be removed from pandas in a future version. Use pandas.concat instead.\n",
      "  Y = Y.append(X)\n",
      "C:\\Users\\Plamen\\AppData\\Local\\Temp\\ipykernel_24452\\235935179.py:11: FutureWarning: The frame.append method is deprecated and will be removed from pandas in a future version. Use pandas.concat instead.\n",
      "  Y = Y.append(X)\n",
      "C:\\Users\\Plamen\\AppData\\Local\\Temp\\ipykernel_24452\\235935179.py:11: FutureWarning: The frame.append method is deprecated and will be removed from pandas in a future version. Use pandas.concat instead.\n",
      "  Y = Y.append(X)\n",
      "C:\\Users\\Plamen\\AppData\\Local\\Temp\\ipykernel_24452\\235935179.py:11: FutureWarning: The frame.append method is deprecated and will be removed from pandas in a future version. Use pandas.concat instead.\n",
      "  Y = Y.append(X)\n",
      "C:\\Users\\Plamen\\AppData\\Local\\Temp\\ipykernel_24452\\235935179.py:11: FutureWarning: The frame.append method is deprecated and will be removed from pandas in a future version. Use pandas.concat instead.\n",
      "  Y = Y.append(X)\n",
      "C:\\Users\\Plamen\\AppData\\Local\\Temp\\ipykernel_24452\\235935179.py:11: FutureWarning: The frame.append method is deprecated and will be removed from pandas in a future version. Use pandas.concat instead.\n",
      "  Y = Y.append(X)\n",
      "C:\\Users\\Plamen\\AppData\\Local\\Temp\\ipykernel_24452\\235935179.py:11: FutureWarning: The frame.append method is deprecated and will be removed from pandas in a future version. Use pandas.concat instead.\n",
      "  Y = Y.append(X)\n",
      "C:\\Users\\Plamen\\AppData\\Local\\Temp\\ipykernel_24452\\235935179.py:11: FutureWarning: The frame.append method is deprecated and will be removed from pandas in a future version. Use pandas.concat instead.\n",
      "  Y = Y.append(X)\n",
      "C:\\Users\\Plamen\\AppData\\Local\\Temp\\ipykernel_24452\\235935179.py:11: FutureWarning: The frame.append method is deprecated and will be removed from pandas in a future version. Use pandas.concat instead.\n",
      "  Y = Y.append(X)\n",
      "C:\\Users\\Plamen\\AppData\\Local\\Temp\\ipykernel_24452\\235935179.py:11: FutureWarning: The frame.append method is deprecated and will be removed from pandas in a future version. Use pandas.concat instead.\n",
      "  Y = Y.append(X)\n",
      "C:\\Users\\Plamen\\AppData\\Local\\Temp\\ipykernel_24452\\235935179.py:20: FutureWarning: The frame.append method is deprecated and will be removed from pandas in a future version. Use pandas.concat instead.\n",
      "  Y = Y.append(X)\n",
      "C:\\Users\\Plamen\\AppData\\Local\\Temp\\ipykernel_24452\\235935179.py:20: FutureWarning: The frame.append method is deprecated and will be removed from pandas in a future version. Use pandas.concat instead.\n",
      "  Y = Y.append(X)\n",
      "C:\\Users\\Plamen\\AppData\\Local\\Temp\\ipykernel_24452\\235935179.py:20: FutureWarning: The frame.append method is deprecated and will be removed from pandas in a future version. Use pandas.concat instead.\n",
      "  Y = Y.append(X)\n",
      "C:\\Users\\Plamen\\AppData\\Local\\Temp\\ipykernel_24452\\235935179.py:20: FutureWarning: The frame.append method is deprecated and will be removed from pandas in a future version. Use pandas.concat instead.\n",
      "  Y = Y.append(X)\n",
      "C:\\Users\\Plamen\\AppData\\Local\\Temp\\ipykernel_24452\\235935179.py:20: FutureWarning: The frame.append method is deprecated and will be removed from pandas in a future version. Use pandas.concat instead.\n",
      "  Y = Y.append(X)\n",
      "C:\\Users\\Plamen\\AppData\\Local\\Temp\\ipykernel_24452\\235935179.py:20: FutureWarning: The frame.append method is deprecated and will be removed from pandas in a future version. Use pandas.concat instead.\n",
      "  Y = Y.append(X)\n",
      "C:\\Users\\Plamen\\AppData\\Local\\Temp\\ipykernel_24452\\235935179.py:20: FutureWarning: The frame.append method is deprecated and will be removed from pandas in a future version. Use pandas.concat instead.\n",
      "  Y = Y.append(X)\n",
      "C:\\Users\\Plamen\\AppData\\Local\\Temp\\ipykernel_24452\\235935179.py:20: FutureWarning: The frame.append method is deprecated and will be removed from pandas in a future version. Use pandas.concat instead.\n",
      "  Y = Y.append(X)\n",
      "C:\\Users\\Plamen\\AppData\\Local\\Temp\\ipykernel_24452\\235935179.py:20: FutureWarning: The frame.append method is deprecated and will be removed from pandas in a future version. Use pandas.concat instead.\n",
      "  Y = Y.append(X)\n",
      "C:\\Users\\Plamen\\AppData\\Local\\Temp\\ipykernel_24452\\235935179.py:20: FutureWarning: The frame.append method is deprecated and will be removed from pandas in a future version. Use pandas.concat instead.\n",
      "  Y = Y.append(X)\n",
      "C:\\Users\\Plamen\\AppData\\Local\\Temp\\ipykernel_24452\\235935179.py:20: FutureWarning: The frame.append method is deprecated and will be removed from pandas in a future version. Use pandas.concat instead.\n",
      "  Y = Y.append(X)\n"
     ]
    }
   ],
   "source": [
    "Y = pd.DataFrame()\n",
    "\n",
    "\n",
    "prefix = 'C:\\\\Projects\\\\Professional_Certificate_in_ML_and_AI\\\\Module23\\\\Notebooks_starter\\\\traffic\\\\2018\\\\flow_station_1209204_2018_'\n",
    "for i in range(1,12):\n",
    "    filename = '{}{:02d}'.format(prefix,i)\n",
    "    with open(filename,'rb') as f:\n",
    "        X = pickle.load(f)\n",
    "        X.set_index(pd.to_datetime(X['Timestamp']),inplace=True)\n",
    "        X.drop(columns=['Timestamp'],inplace=True)\n",
    "        Y = Y.append(X)\n",
    "        \n",
    "prefix = 'C:\\\\Projects\\\\Professional_Certificate_in_ML_and_AI\\\\Module23\\\\Notebooks_starter\\\\traffic\\\\2019\\\\flow_station_1209204_2019_'\n",
    "for i in range(1,12):\n",
    "    filename = '{}{:02d}'.format(prefix,i)\n",
    "    with open(filename,'rb') as f:\n",
    "        X = pickle.load(f)\n",
    "        X.set_index(pd.to_datetime(X['Timestamp']),inplace=True)\n",
    "        X.drop(columns=['Timestamp'],inplace=True)\n",
    "        Y = Y.append(X)\n",
    "        \n",
    "        \n"
   ]
  },
  {
   "cell_type": "code",
   "execution_count": 3,
   "id": "89e2ca8a",
   "metadata": {
    "ExecuteTime": {
     "end_time": "2024-03-08T02:22:45.660410Z",
     "start_time": "2024-03-08T02:22:45.645530Z"
    }
   },
   "outputs": [
    {
     "name": "stdout",
     "output_type": "stream",
     "text": [
      "num_train_samples: 6990\n",
      "num_val_samples: 3495\n",
      "num_test_samples: 3495\n"
     ]
    }
   ],
   "source": [
    "raw_data = Y['Total Flow'].values\n",
    "num_train_samples = int(0.5 * len(raw_data))\n",
    "num_val_samples = int(0.25 * len(raw_data))\n",
    "num_test_samples = len(raw_data) - num_train_samples - num_val_samples\n",
    "print(\"num_train_samples:\", num_train_samples)\n",
    "print(\"num_val_samples:\", num_val_samples)\n",
    "print(\"num_test_samples:\", num_test_samples)"
   ]
  },
  {
   "cell_type": "code",
   "execution_count": 4,
   "id": "d9954579",
   "metadata": {
    "ExecuteTime": {
     "end_time": "2024-03-08T02:22:45.676360Z",
     "start_time": "2024-03-08T02:22:45.661400Z"
    }
   },
   "outputs": [
    {
     "data": {
      "text/plain": "(13980,)"
     },
     "execution_count": 4,
     "metadata": {},
     "output_type": "execute_result"
    }
   ],
   "source": [
    "raw_data.shape"
   ]
  },
  {
   "cell_type": "code",
   "execution_count": 5,
   "id": "c8f6975e",
   "metadata": {
    "ExecuteTime": {
     "end_time": "2024-03-08T02:22:45.848672Z",
     "start_time": "2024-03-08T02:22:45.677353Z"
    }
   },
   "outputs": [],
   "source": [
    "sampling_rate = 1\n",
    "sequence_length = 24*7 \n",
    "delay = sequence_length\n",
    "batch_size = 256\n",
    "  \n",
    "train_dataset = keras.preprocessing.timeseries_dataset_from_array(\n",
    "    raw_data[:-delay],\n",
    "    targets=raw_data[delay:],\n",
    "    sampling_rate=sampling_rate,\n",
    "    sequence_length=sequence_length,\n",
    "    shuffle=False,\n",
    "    batch_size=batch_size,\n",
    "    start_index=0,\n",
    "    end_index=num_train_samples)\n",
    "  \n",
    "val_dataset = keras.preprocessing.timeseries_dataset_from_array(\n",
    "    raw_data[:-delay],\n",
    "    targets=raw_data[delay:],\n",
    "    sampling_rate=sampling_rate,\n",
    "    sequence_length=sequence_length,\n",
    "    shuffle=False,\n",
    "    batch_size=batch_size,\n",
    "    start_index=num_train_samples,\n",
    "    end_index=num_train_samples + num_val_samples)\n",
    "  \n",
    "test_dataset = keras.preprocessing.timeseries_dataset_from_array(\n",
    "    raw_data[:-delay],\n",
    "    targets=raw_data[delay:],\n",
    "    sampling_rate=sampling_rate,\n",
    "    sequence_length=sequence_length,\n",
    "    shuffle=False,\n",
    "    batch_size=batch_size,\n",
    "    start_index=num_train_samples + num_val_samples)"
   ]
  },
  {
   "cell_type": "code",
   "execution_count": 6,
   "id": "7daf973f",
   "metadata": {
    "ExecuteTime": {
     "end_time": "2024-03-08T02:22:45.926010Z",
     "start_time": "2024-03-08T02:22:45.850653Z"
    }
   },
   "outputs": [
    {
     "name": "stdout",
     "output_type": "stream",
     "text": [
      "samples shape: (256, 168)\n",
      "targets shape: (256,)\n",
      "tf.Tensor(\n",
      "[[ 3637.  3955.  3464. ...  5876.  4618.  3402.]\n",
      " [ 3955.  3464.  2810. ...  4618.  3402.  2821.]\n",
      " [ 3464.  2810.  2659. ...  3402.  2821.  2216.]\n",
      " ...\n",
      " [10108. 10658. 10813. ...  9214.  9591. 10094.]\n",
      " [10658. 10813. 10804. ...  9591. 10094. 10079.]\n",
      " [10813. 10804.  9810. ... 10094. 10079. 10585.]], shape=(256, 168), dtype=float64) tf.Tensor(\n",
      "[ 2821.  2216.  1954.  2158.  2967.  4828.  7552.  9820.  9424.  9595.\n",
      "  8641.  8940.  9086.  9173.  9855. 10251.  9974.  9015.  9045.  8030.\n",
      "  6390.  5958.  5375.  4298.  3510.  2705.  2463.  2065.  2643.  4362.\n",
      "  7268.  9608.  9833.  8945.  8597.  9178.  9145.  9471.  9411.  9405.\n",
      " 10018.  9821.  8785.  7544.  5592.  5541.  4314.  3072.  2090.  1466.\n",
      "  1510.  1313.  2429.  4509.  7682. 10091. 10267.  9668.  9258.  9780.\n",
      "  9817. 10259. 10937. 11364. 11186. 10151.  8779.  8630.  6769.  5734.\n",
      "  4885.  3446.  2288.  1643.  1881.  1335.  2306.  4569.  7473. 10275.\n",
      " 10176. 10154.  9802.  9813. 10057. 10108. 10658. 10813. 10804.  9810.\n",
      "  9659.  9247.  7112.  6386.  5244.  3525.  2464.  1917.  1588.  1685.\n",
      "  2166.  4298.  7275. 10060. 10302.  9280.  9776. 10353. 10155. 10421.\n",
      " 10958. 10959. 10798.  9558.  9987.  9401.  7375.  6563.  5828.  4286.\n",
      "  3169.  2026.  1953.  1407.  1466.  2427.  3715.  5172.  7288.  8415.\n",
      "  9331.  9755. 10785.  9763.  9536.  9926.  8889.  9091.  8281.  7426.\n",
      "  6339.  6044.  6274.  5359.  4388.  3808.  3229.  2825.  1643.  2301.\n",
      "  2949.  3834.  5571.  6864.  8051.  8340.  8731.  9078.  9108.  8385.\n",
      "  7916.  8295.  7818.  7055.  6736.  6072.  5558.  4282.  3474.  2448.\n",
      "  1838.  1609.  2460.  4122.  6277.  7966.  8729.  8913.  8838.  9487.\n",
      "  9536.  9874. 10397. 10569. 10345. 10126.  9477.  8348.  6988.  6250.\n",
      "  5363.  3927.  2771.  2041.  2151.  2109.  2245.  4651.  7560. 10184.\n",
      " 10432. 10136.  9407.  9619.  9508.  9609. 10692. 10690. 11168.  9870.\n",
      "  9876.  9159.  7302.  6676.  5552.  4128.  3117.  2649.  2287.  1810.\n",
      "  2596.  4776.  7956. 10495. 10416.  9978.  9303.  9140.  9459. 10101.\n",
      " 10703. 11106. 10369. 10016.  9826.  9392.  7605.  6930.  5994.  4584.\n",
      "  3818.  3044.  2182.  2101.  2716.  4710.  7681. 10029. 10501.  9897.\n",
      "  9214.  9591. 10094. 10079. 10585. 10921.], shape=(256,), dtype=float64)\n"
     ]
    }
   ],
   "source": [
    "for samples, targets in train_dataset:\n",
    "    print(\"samples shape:\", samples.shape)\n",
    "    print(\"targets shape:\", targets.shape)\n",
    "    print(samples, targets)\n",
    "    break"
   ]
  },
  {
   "cell_type": "code",
   "execution_count": 7,
   "id": "202e52b1",
   "metadata": {
    "ExecuteTime": {
     "end_time": "2024-03-08T02:22:45.941919Z",
     "start_time": "2024-03-08T02:22:45.926985Z"
    }
   },
   "outputs": [],
   "source": [
    "mean = raw_data[:num_train_samples].mean(axis=0)\n",
    "raw_data -= mean\n",
    "std = raw_data[:num_train_samples].std(axis=0)\n",
    "raw_data /= std"
   ]
  },
  {
   "cell_type": "code",
   "execution_count": 8,
   "id": "c8f2e53b",
   "metadata": {
    "ExecuteTime": {
     "end_time": "2024-03-08T02:22:46.534157Z",
     "start_time": "2024-03-08T02:22:45.942984Z"
    }
   },
   "outputs": [
    {
     "name": "stdout",
     "output_type": "stream",
     "text": [
      "Validation MAE: 20350927.57\n",
      "Test MAE: 19979499.63\n"
     ]
    }
   ],
   "source": [
    "def evaluate_naive_method(dataset):\n",
    "    total_abs_err = 0. \n",
    "    samples_seen = 0 \n",
    "    for samples, targets in dataset:\n",
    "        preds = samples[:, -1] * std + mean\n",
    "        total_abs_err += np.sum(np.abs(preds - targets))\n",
    "        samples_seen += samples.shape[0]\n",
    "    return total_abs_err / samples_seen\n",
    "  \n",
    "print(f\"Validation MAE: {evaluate_naive_method(val_dataset):.2f}\") \n",
    "print(f\"Test MAE: {evaluate_naive_method(test_dataset):.2f}\")"
   ]
  },
  {
   "cell_type": "markdown",
   "id": "34d9e502",
   "metadata": {},
   "source": [
    "# DENSE"
   ]
  },
  {
   "cell_type": "code",
   "execution_count": 9,
   "id": "0040fcd3",
   "metadata": {
    "ExecuteTime": {
     "end_time": "2024-03-08T02:22:47.579745Z",
     "start_time": "2024-03-08T02:22:46.535229Z"
    }
   },
   "outputs": [
    {
     "name": "stdout",
     "output_type": "stream",
     "text": [
      "WARNING:tensorflow:From C:\\Java\\Python3.10.8\\lib\\site-packages\\keras\\src\\backend.py:1398: The name tf.executing_eagerly_outside_functions is deprecated. Please use tf.compat.v1.executing_eagerly_outside_functions instead.\n",
      "WARNING:tensorflow:From C:\\Java\\Python3.10.8\\lib\\site-packages\\keras\\src\\optimizers\\__init__.py:309: The name tf.train.Optimizer is deprecated. Please use tf.compat.v1.train.Optimizer instead.\n",
      "WARNING:tensorflow:From C:\\Java\\Python3.10.8\\lib\\site-packages\\keras\\src\\utils\\tf_utils.py:492: The name tf.ragged.RaggedTensorValue is deprecated. Please use tf.compat.v1.ragged.RaggedTensorValue instead.\n",
      "WARNING:tensorflow:From C:\\Java\\Python3.10.8\\lib\\site-packages\\keras\\src\\engine\\base_layer_utils.py:384: The name tf.executing_eagerly_outside_functions is deprecated. Please use tf.compat.v1.executing_eagerly_outside_functions instead.\n",
      "27/27 [==============================] - 1s 13ms/step - loss: 9173079.0000 - mae: 2281.0916 - val_loss: 4047348.0000 - val_mae: 1606.5944\n"
     ]
    }
   ],
   "source": [
    "if dotrain:\n",
    "\n",
    "  model_dense = keras.models.Sequential([ keras.Input(shape=sequence_length), keras.layers.Flatten(), keras.layers.Dense(16, activation=\"relu\"), keras.layers.Dense(1) ])\n",
    "\n",
    "#   callbacks = [ keras.callbacks.ModelCheckpoint(\"drive/MyDrive/Colab Notebooks/jena_dense.keras\",\n",
    "#                                       save_best_only=True) ] \n",
    "\n",
    "  model_dense.compile(optimizer=\"rmsprop\", loss=\"mse\", metrics=[\"mae\"])\n",
    "\n",
    "  history_dense = model_dense.fit(train_dataset, epochs=1, validation_data=val_dataset)"
   ]
  },
  {
   "cell_type": "code",
   "execution_count": 10,
   "id": "adac4027",
   "metadata": {
    "ExecuteTime": {
     "end_time": "2024-03-08T02:22:48.378034Z",
     "start_time": "2024-03-08T02:22:47.580902Z"
    }
   },
   "outputs": [
    {
     "name": "stdout",
     "output_type": "stream",
     "text": [
      "27/27 [==============================] - 1s 15ms/step - loss: 8701356.0000 - mae: 2637.0139 - val_loss: 9324057.0000 - val_mae: 2771.8225\n"
     ]
    }
   ],
   "source": [
    "if dotrain:\n",
    "\n",
    "  model_1Dconv = keras.models.Sequential([ keras.Input(shape=(sequence_length,1)), layers.Conv1D(8, 16, activation=\"relu\"), layers.GlobalAveragePooling1D(), layers.Dense(1) ])\n",
    "\n",
    "  model_1Dconv.compile(optimizer=\"rmsprop\", loss=\"mse\", metrics=[\"mae\"])\n",
    "  history_1Dconv = model_1Dconv.fit(train_dataset, epochs=1, validation_data=val_dataset)"
   ]
  },
  {
   "cell_type": "code",
   "execution_count": 11,
   "id": "5c01dffd",
   "metadata": {
    "ExecuteTime": {
     "end_time": "2024-03-08T02:22:49.673514Z",
     "start_time": "2024-03-08T02:22:48.379364Z"
    }
   },
   "outputs": [
    {
     "name": "stdout",
     "output_type": "stream",
     "text": [
      "27/27 [==============================] - 1s 24ms/step - loss: 63237812.0000 - mae: 7399.2139 - val_loss: 57530964.0000 - val_mae: 6959.6909\n"
     ]
    }
   ],
   "source": [
    "if dotrain:\n",
    "\n",
    "  model_simprnn = keras.models.Sequential([ keras.Input(shape=(sequence_length,1)), layers.SimpleRNN(16, return_sequences=False)  ])                 \n",
    "\n",
    "  model_simprnn.compile(optimizer=\"rmsprop\", loss=\"mse\", metrics=[\"mae\"])\n",
    "\n",
    "  history_simprnn = model_simprnn.fit(train_dataset, epochs=1, validation_data=val_dataset)"
   ]
  },
  {
   "cell_type": "code",
   "execution_count": 12,
   "id": "a51c9beb",
   "metadata": {
    "ExecuteTime": {
     "end_time": "2024-03-08T02:22:49.688749Z",
     "start_time": "2024-03-08T02:22:49.674585Z"
    }
   },
   "outputs": [
    {
     "data": {
      "text/plain": "168"
     },
     "execution_count": 12,
     "metadata": {},
     "output_type": "execute_result"
    }
   ],
   "source": [
    "sequence_length"
   ]
  },
  {
   "cell_type": "code",
   "execution_count": 13,
   "id": "202394df",
   "metadata": {
    "ExecuteTime": {
     "end_time": "2024-03-08T02:23:05.801201Z",
     "start_time": "2024-03-08T02:22:49.690740Z"
    }
   },
   "outputs": [
    {
     "name": "stdout",
     "output_type": "stream",
     "text": [
      "Epoch 1/10\n",
      "27/27 [==============================] - 3s 65ms/step - loss: 63213056.0000 - mae: 7397.5405 - val_loss: 57506168.0000 - val_mae: 6957.9097\n",
      "Epoch 2/10\n",
      "27/27 [==============================] - 1s 52ms/step - loss: 63210128.0000 - mae: 7397.3423 - val_loss: 57503596.0000 - val_mae: 6957.7246\n",
      "Epoch 3/10\n",
      "27/27 [==============================] - 1s 50ms/step - loss: 63207404.0000 - mae: 7397.1582 - val_loss: 57501040.0000 - val_mae: 6957.5415\n",
      "Epoch 4/10\n",
      "27/27 [==============================] - 1s 50ms/step - loss: 63204688.0000 - mae: 7396.9756 - val_loss: 57498480.0000 - val_mae: 6957.3574\n",
      "Epoch 5/10\n",
      "27/27 [==============================] - 1s 51ms/step - loss: 63201964.0000 - mae: 7396.7925 - val_loss: 57495928.0000 - val_mae: 6957.1743\n",
      "Epoch 6/10\n",
      "27/27 [==============================] - 2s 56ms/step - loss: 63199256.0000 - mae: 7396.6079 - val_loss: 57493372.0000 - val_mae: 6956.9902\n",
      "Epoch 7/10\n",
      "27/27 [==============================] - 1s 54ms/step - loss: 63196532.0000 - mae: 7396.4248 - val_loss: 57490816.0000 - val_mae: 6956.8071\n",
      "Epoch 8/10\n",
      "27/27 [==============================] - 1s 53ms/step - loss: 63193824.0000 - mae: 7396.2407 - val_loss: 57488276.0000 - val_mae: 6956.6240\n",
      "Epoch 9/10\n",
      "27/27 [==============================] - 1s 51ms/step - loss: 63191112.0000 - mae: 7396.0591 - val_loss: 57485716.0000 - val_mae: 6956.4399\n",
      "Epoch 10/10\n",
      "27/27 [==============================] - 2s 56ms/step - loss: 63188392.0000 - mae: 7395.8735 - val_loss: 57483172.0000 - val_mae: 6956.2568\n"
     ]
    }
   ],
   "source": [
    "if dotrain:\n",
    "\n",
    "  model_lstm = keras.models.Sequential([ keras.Input(shape=(sequence_length, 1)), layers.LSTM(16), layers.Dense(1) ])                 \n",
    "  \n",
    "  model_lstm.compile(optimizer=\"rmsprop\", loss=\"mse\", metrics=[\"mae\"])\n",
    "\n",
    "  history_lstm = model_lstm.fit(train_dataset, epochs=epochs, validation_data=val_dataset)"
   ]
  }
 ],
 "metadata": {
  "kernelspec": {
   "display_name": "Python 3 (ipykernel)",
   "language": "python",
   "name": "python3"
  },
  "language_info": {
   "codemirror_mode": {
    "name": "ipython",
    "version": 3
   },
   "file_extension": ".py",
   "mimetype": "text/x-python",
   "name": "python",
   "nbconvert_exporter": "python",
   "pygments_lexer": "ipython3",
   "version": "3.9.7"
  }
 },
 "nbformat": 4,
 "nbformat_minor": 5
}
