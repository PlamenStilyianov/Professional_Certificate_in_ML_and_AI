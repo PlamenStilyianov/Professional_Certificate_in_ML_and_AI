{
 "cells": [
  {
   "cell_type": "code",
   "execution_count": 1,
   "id": "81c6ed54",
   "metadata": {
    "ExecuteTime": {
     "end_time": "2024-03-07T18:19:57.345768Z",
     "start_time": "2024-03-07T18:19:49.225045Z"
    }
   },
   "outputs": [
    {
     "name": "stderr",
     "output_type": "stream",
     "text": [
      "C:\\Users\\Plamen\\AppData\\Local\\Temp\\ipykernel_19072\\1389482001.py:2: DeprecationWarning: \n",
      "Pyarrow will become a required dependency of pandas in the next major release of pandas (pandas 3.0),\n",
      "(to allow more performant data types, such as the Arrow string type, and better interoperability with other libraries)\n",
      "but was not found to be installed on your system.\n",
      "If this would cause problems for you,\n",
      "please provide us feedback at https://github.com/pandas-dev/pandas/issues/54466\n",
      "        \n",
      "  import pandas as pd\n"
     ]
    },
    {
     "name": "stdout",
     "output_type": "stream",
     "text": [
      "WARNING:tensorflow:From C:\\Java\\anaconda3\\Lib\\site-packages\\keras\\src\\losses.py:2976: The name tf.losses.sparse_softmax_cross_entropy is deprecated. Please use tf.compat.v1.losses.sparse_softmax_cross_entropy instead.\n"
     ]
    }
   ],
   "source": [
    "import numpy as np\n",
    "import pandas as pd\n",
    "import matplotlib.pyplot as plt\n",
    "import pickle\n",
    "from tensorflow import keras\n",
    "from tensorflow.keras import layers\n",
    "from tensorflow.keras.preprocessing import timeseries_dataset_from_array\n",
    "import os\n",
    "from tensorflow import convert_to_tensor\n",
    "\n",
    "from tensorflow.keras.models import Sequential\n",
    "from tensorflow.keras.layers import Dense, SimpleRNN\n"
   ]
  },
  {
   "cell_type": "code",
   "execution_count": 2,
   "id": "957a11b0",
   "metadata": {
    "ExecuteTime": {
     "end_time": "2024-03-07T18:19:57.350890Z",
     "start_time": "2024-03-07T18:19:57.346778Z"
    }
   },
   "outputs": [],
   "source": [
    "def generate_time_series( n_steps):\n",
    "    time = np.linspace(0,1,n_steps)\n",
    "    series = 0.5 * np.sin(time)\n",
    "    series += 0.1 * (np.random.rand(n_steps) - 0.5)\n",
    "    return series[...,np.newaxis].astype(np.float32)"
   ]
  },
  {
   "cell_type": "code",
   "execution_count": 3,
   "id": "648d27a1",
   "metadata": {
    "ExecuteTime": {
     "end_time": "2024-03-07T18:19:57.360096Z",
     "start_time": "2024-03-07T18:19:57.351901Z"
    }
   },
   "outputs": [
    {
     "data": {
      "text/plain": "array([[-0.02789092],\n       [ 0.06009863],\n       [ 0.02517983],\n       [ 0.10482239],\n       [ 0.07959697],\n       [ 0.11821268],\n       [ 0.16242681],\n       [ 0.21687399],\n       [ 0.21058604],\n       [ 0.23838317],\n       [ 0.24191654],\n       [ 0.29824594],\n       [ 0.33103734],\n       [ 0.2692502 ],\n       [ 0.3387884 ],\n       [ 0.3736774 ],\n       [ 0.41589   ],\n       [ 0.3509717 ],\n       [ 0.45465156],\n       [ 0.37436953]], dtype=float32)"
     },
     "execution_count": 3,
     "metadata": {},
     "output_type": "execute_result"
    }
   ],
   "source": [
    "generate_time_series(20)"
   ]
  },
  {
   "cell_type": "code",
   "execution_count": 4,
   "id": "6f89cbf1",
   "metadata": {
    "ExecuteTime": {
     "end_time": "2024-03-07T18:19:57.366443Z",
     "start_time": "2024-03-07T18:19:57.361182Z"
    }
   },
   "outputs": [],
   "source": [
    "def forecast(model, start, y_all, sequence_length):\n",
    "    N = len(y_all)-start\n",
    "    A = y_all[start-sequence_length:start].to_numpy().reshape(-1,1).T\n",
    "    y_pred = list()\n",
    "    for i in range(N):\n",
    "        z = A\n",
    "        z = convert_to_tensor(z)\n",
    "        r = model(z)\n",
    "        y_pred.append(r[0,0])\n",
    "        A = np.append(A[0,1:], r[0,0]).reshape(-1,1).T\n",
    "    y_pred = pd.Series(y_pred,index=y_all.index[start:])\n",
    "    return y_pred"
   ]
  },
  {
   "cell_type": "markdown",
   "id": "d2b7fd79",
   "metadata": {},
   "source": [
    "# Load the data"
   ]
  },
  {
   "cell_type": "code",
   "execution_count": 5,
   "id": "bf4cffe1",
   "metadata": {
    "ExecuteTime": {
     "end_time": "2024-03-07T18:19:57.371542Z",
     "start_time": "2024-03-07T18:19:57.366443Z"
    }
   },
   "outputs": [],
   "source": [
    "def MAE(x):\n",
    "    return np.abs(x).mean() \n",
    "\n",
    "def RMSE(x):\n",
    "    return np.sqrt( np.square(x).mean() )\n",
    "\n",
    "def plot_decomp(y_hist,y_future,D):\n",
    "    plt.figure(figsize=(14,4))\n",
    "    plt.plot(D['residue'],'k')\n",
    "    plt.plot(D['pred_error'],'m')\n",
    "\n",
    "    plt.figure(figsize=(16,5))\n",
    "    plt.plot(y_hist,'k',label='data',linewidth=1)\n",
    "    plt.plot(D['season_and_trend'],label='model',color='royalblue',linewidth=3)\n",
    "    plt.plot(D['yhat'],label='forecast',color='limegreen',linewidth=3)\n",
    "    plt.plot(y_future,'k',alpha=0.5,linewidth=1)"
   ]
  },
  {
   "cell_type": "code",
   "execution_count": 6,
   "id": "6844185a",
   "metadata": {
    "ExecuteTime": {
     "end_time": "2024-03-07T18:19:57.544771Z",
     "start_time": "2024-03-07T18:19:57.371542Z"
    }
   },
   "outputs": [
    {
     "ename": "FileNotFoundError",
     "evalue": "[Errno 2] No such file or directory: 'decomp.pkl'",
     "output_type": "error",
     "traceback": [
      "\u001B[1;31m---------------------------------------------------------------------------\u001B[0m",
      "\u001B[1;31mFileNotFoundError\u001B[0m                         Traceback (most recent call last)",
      "Cell \u001B[1;32mIn[6], line 1\u001B[0m\n\u001B[1;32m----> 1\u001B[0m \u001B[38;5;28;01mwith\u001B[39;00m \u001B[38;5;28;43mopen\u001B[39;49m\u001B[43m(\u001B[49m\u001B[38;5;124;43m'\u001B[39;49m\u001B[38;5;124;43mdecomp.pkl\u001B[39;49m\u001B[38;5;124;43m'\u001B[39;49m\u001B[43m,\u001B[49m\u001B[43m \u001B[49m\u001B[38;5;124;43m'\u001B[39;49m\u001B[38;5;124;43mrb\u001B[39;49m\u001B[38;5;124;43m'\u001B[39;49m\u001B[43m)\u001B[49m \u001B[38;5;28;01mas\u001B[39;00m file:\n\u001B[0;32m      2\u001B[0m     X \u001B[38;5;241m=\u001B[39m pickle\u001B[38;5;241m.\u001B[39mload(file)\n\u001B[0;32m      4\u001B[0m history \u001B[38;5;241m=\u001B[39m X[\u001B[38;5;124m'\u001B[39m\u001B[38;5;124mhistory\u001B[39m\u001B[38;5;124m'\u001B[39m]\n",
      "File \u001B[1;32mC:\\Java\\anaconda3\\Lib\\site-packages\\IPython\\core\\interactiveshell.py:310\u001B[0m, in \u001B[0;36m_modified_open\u001B[1;34m(file, *args, **kwargs)\u001B[0m\n\u001B[0;32m    303\u001B[0m \u001B[38;5;28;01mif\u001B[39;00m file \u001B[38;5;129;01min\u001B[39;00m {\u001B[38;5;241m0\u001B[39m, \u001B[38;5;241m1\u001B[39m, \u001B[38;5;241m2\u001B[39m}:\n\u001B[0;32m    304\u001B[0m     \u001B[38;5;28;01mraise\u001B[39;00m \u001B[38;5;167;01mValueError\u001B[39;00m(\n\u001B[0;32m    305\u001B[0m         \u001B[38;5;124mf\u001B[39m\u001B[38;5;124m\"\u001B[39m\u001B[38;5;124mIPython won\u001B[39m\u001B[38;5;124m'\u001B[39m\u001B[38;5;124mt let you open fd=\u001B[39m\u001B[38;5;132;01m{\u001B[39;00mfile\u001B[38;5;132;01m}\u001B[39;00m\u001B[38;5;124m by default \u001B[39m\u001B[38;5;124m\"\u001B[39m\n\u001B[0;32m    306\u001B[0m         \u001B[38;5;124m\"\u001B[39m\u001B[38;5;124mas it is likely to crash IPython. If you know what you are doing, \u001B[39m\u001B[38;5;124m\"\u001B[39m\n\u001B[0;32m    307\u001B[0m         \u001B[38;5;124m\"\u001B[39m\u001B[38;5;124myou can use builtins\u001B[39m\u001B[38;5;124m'\u001B[39m\u001B[38;5;124m open.\u001B[39m\u001B[38;5;124m\"\u001B[39m\n\u001B[0;32m    308\u001B[0m     )\n\u001B[1;32m--> 310\u001B[0m \u001B[38;5;28;01mreturn\u001B[39;00m \u001B[43mio_open\u001B[49m\u001B[43m(\u001B[49m\u001B[43mfile\u001B[49m\u001B[43m,\u001B[49m\u001B[43m \u001B[49m\u001B[38;5;241;43m*\u001B[39;49m\u001B[43margs\u001B[49m\u001B[43m,\u001B[49m\u001B[43m \u001B[49m\u001B[38;5;241;43m*\u001B[39;49m\u001B[38;5;241;43m*\u001B[39;49m\u001B[43mkwargs\u001B[49m\u001B[43m)\u001B[49m\n",
      "\u001B[1;31mFileNotFoundError\u001B[0m: [Errno 2] No such file or directory: 'decomp.pkl'"
     ]
    }
   ],
   "source": [
    "with open('decomp.pkl', 'rb') as file:\n",
    "    X = pickle.load(file)\n",
    "\n",
    "history = X['history']\n",
    "y_hist = history['y_hist']\n",
    "future = X['future']\n",
    "y_future = future['y_future']\n",
    "y_all = y_hist.append(y_future)\n",
    "\n",
    "Nhist = len(y_hist)\n",
    "\n",
    "time_all = y_all.index\n",
    "time_hist = y_hist.index\n",
    "time_future = y_future.index\n",
    "\n",
    "\n",
    "decomp = {}\n",
    "decomp['season_and_trend'] = history['t_and_s']\n",
    "decomp['residue'] = y_hist - history['t_and_s']\n",
    "decomp['MAEm'] = MAE(decomp['residue'])\n",
    "decomp['RMSEm'] = RMSE(decomp['residue'])\n",
    "decomp['y_future'] = future['y_future']\n",
    "decomp['yhat'] = future['y_hat']\n",
    "decomp['pred_error'] = decomp['y_future'] - decomp['yhat']\n",
    "decomp['MAEp'] = MAE(decomp['pred_error'])\n",
    "decomp['RMSEp'] = RMSE(decomp['pred_error'])"
   ]
  },
  {
   "cell_type": "code",
   "execution_count": null,
   "id": "54cc5875",
   "metadata": {},
   "outputs": [],
   "source": [
    "plot_decomp(y_hist,y_future,decomp)"
   ]
  },
  {
   "cell_type": "markdown",
   "id": "bac509bb",
   "metadata": {},
   "source": [
    "# Train test data"
   ]
  },
  {
   "cell_type": "code",
   "execution_count": null,
   "id": "6a8feb4b",
   "metadata": {
    "ExecuteTime": {
     "start_time": "2024-03-07T18:19:57.546863Z"
    }
   },
   "outputs": [],
   "source": [
    "sequence_length = 50\n",
    "lookahead = 1\n",
    "delay = sequence_length + lookahead - 1\n",
    "\n",
    "train_data = y_hist\n",
    "train_target = np.zeros(y_hist.shape)\n",
    "train_target[:-delay] = y_hist[delay:]\n",
    "train_target = pd.Series(train_target,index = train_data.index)\n",
    "\n",
    "train_dataset = timeseries_dataset_from_array(\n",
    "    data = train_data,\n",
    "    targets= train_target,\n",
    "    sequence_length = sequence_length,\n",
    "    batch_size = 1 )\n",
    "\n",
    "test_data = y_all[Nhist-delay:]\n",
    "test_target = np.zeros(test_data.shape)\n",
    "test_target[:-delay] = y_all[Nhist:]\n",
    "test_target = pd.Series(test_target,index = test_data.index)\n",
    "\n",
    "test_dataset = timeseries_dataset_from_array(\n",
    "    data = test_data,\n",
    "    targets= test_target,\n",
    "    sequence_length = sequence_length,\n",
    "    batch_size = 1 )"
   ]
  },
  {
   "cell_type": "markdown",
   "id": "2b757e78",
   "metadata": {},
   "source": [
    "# Dense neural network"
   ]
  },
  {
   "cell_type": "code",
   "execution_count": null,
   "id": "2eb41151",
   "metadata": {},
   "outputs": [],
   "source": [
    "inputs = keras.Input(shape=(sequence_length, 1))\n",
    "x = layers.Flatten()(inputs)\n",
    "x = layers.Dense(5, activation=\"relu\")(x)\n",
    "outputs = layers.Dense(1)(x)\n",
    "model_dense = keras.Model(inputs, outputs)\n",
    "model_dense.compile(optimizer=\"rmsprop\", loss=\"mse\", metrics=[\"mae\"])\n",
    "history = model_dense.fit(train_dataset,epochs=10)"
   ]
  },
  {
   "cell_type": "code",
   "execution_count": null,
   "id": "cb9daeea",
   "metadata": {
    "ExecuteTime": {
     "start_time": "2024-03-07T18:19:57.547856Z"
    }
   },
   "outputs": [],
   "source": [
    "y_hist_hat = model_dense.predict(train_dataset)\n",
    "y_future_hat = model_dense.predict(test_dataset)\n",
    "t_hist_hat = time_hist[delay-1:(delay+len(y_hist_hat))]\n",
    "t_future_hat = time_all[-len(y_future_hat):]"
   ]
  },
  {
   "cell_type": "markdown",
   "id": "761a3895",
   "metadata": {},
   "source": [
    "# training and testing error"
   ]
  },
  {
   "cell_type": "code",
   "execution_count": null,
   "id": "ac984a80",
   "metadata": {
    "ExecuteTime": {
     "start_time": "2024-03-07T18:19:57.548854Z"
    }
   },
   "outputs": [],
   "source": [
    "model_dense.evaluate(train_dataset)"
   ]
  },
  {
   "cell_type": "code",
   "execution_count": null,
   "id": "ffa11ef7",
   "metadata": {
    "ExecuteTime": {
     "start_time": "2024-03-07T18:19:57.549857Z"
    }
   },
   "outputs": [],
   "source": [
    "model_dense.evaluate(test_dataset)"
   ]
  },
  {
   "cell_type": "code",
   "execution_count": null,
   "id": "bd13eafd",
   "metadata": {},
   "outputs": [],
   "source": [
    "plt.figure(figsize=(15,6))\n",
    "plt.plot(y_hist,marker='.',linewidth=2)\n",
    "plt.plot(y_future,marker='.',linewidth=2)\n",
    "plt.plot(t_hist_hat,y_hist_hat,linewidth=2,marker='.',color='r')\n",
    "plt.plot(t_future_hat,y_future_hat,linewidth=2,marker='.',color='g')\n",
    "plt.xlim(100,12000)"
   ]
  },
  {
   "cell_type": "markdown",
   "id": "2e5f96e0",
   "metadata": {},
   "source": [
    "# Forecast"
   ]
  },
  {
   "cell_type": "code",
   "execution_count": null,
   "id": "27470635",
   "metadata": {
    "ExecuteTime": {
     "start_time": "2024-03-07T18:19:57.550849Z"
    }
   },
   "outputs": [],
   "source": [
    "start = 1020\n",
    "y_pred = forecast(model_dense, start, y_all, sequence_length)"
   ]
  },
  {
   "cell_type": "code",
   "execution_count": null,
   "id": "c4aded7d",
   "metadata": {
    "ExecuteTime": {
     "start_time": "2024-03-07T18:19:57.551848Z"
    }
   },
   "outputs": [],
   "source": [
    "plt.figure(figsize=(15,6))\n",
    "plt.plot(y_hist,marker='.',linewidth=2)\n",
    "plt.plot(y_future,marker='.',linewidth=2)\n",
    "plt.plot(y_all[start-sequence_length:start],marker='.',linewidth=2)\n",
    "plt.plot(y_pred,marker='.',linewidth=2)\n",
    "plt.xlim(100,12000)"
   ]
  },
  {
   "cell_type": "markdown",
   "id": "3fc5a53a",
   "metadata": {},
   "source": [
    "# RNN"
   ]
  },
  {
   "cell_type": "code",
   "execution_count": null,
   "id": "391640c0",
   "metadata": {
    "ExecuteTime": {
     "start_time": "2024-03-07T18:19:57.552843Z"
    }
   },
   "outputs": [],
   "source": [
    "model_rnn = keras.models.Sequential([\n",
    "    SimpleRNN(20, return_sequences=True, input_shape=[None,1]),\n",
    "    SimpleRNN(20, return_sequences=True),\n",
    "    SimpleRNN(1)\n",
    "])\n",
    "\n",
    "model_rnn.compile(optimizer=\"rmsprop\", loss=\"mse\", metrics=[\"mae\"])\n",
    "history = model_rnn.fit(train_dataset,epochs=10)"
   ]
  },
  {
   "cell_type": "code",
   "execution_count": null,
   "id": "05e472c6",
   "metadata": {
    "ExecuteTime": {
     "start_time": "2024-03-07T18:19:57.553832Z"
    }
   },
   "outputs": [],
   "source": [
    "inputs = keras.Input(shape=(sequence_length, 1))\n",
    "x = layers.SimpleRNN(3, return_sequences=True)(inputs)\n",
    "outputs = layers.Dense(1)(x)\n",
    "model_rnn = keras.Model(inputs, outputs)\n",
    "model_rnn.compile(optimizer=\"rmsprop\", loss=\"mse\", metrics=[\"mae\"])\n",
    "history = model_rnn.fit(train_dataset,epochs=10)"
   ]
  },
  {
   "cell_type": "code",
   "execution_count": null,
   "id": "b85185b2",
   "metadata": {
    "ExecuteTime": {
     "start_time": "2024-03-07T18:19:57.554840Z"
    }
   },
   "outputs": [],
   "source": [
    "# y_future_hat = model_rnn.predict(test_dataset)\n"
   ]
  },
  {
   "cell_type": "code",
   "execution_count": null,
   "id": "8c75ff54",
   "metadata": {
    "ExecuteTime": {
     "start_time": "2024-03-07T18:19:57.555830Z"
    }
   },
   "outputs": [],
   "source": [
    "for seq, trgt in test_dataset:\n",
    "    print(seq)\n",
    "    print(model_rnn.predict(seq))\n",
    "    break"
   ]
  },
  {
   "cell_type": "code",
   "execution_count": null,
   "id": "45b97773",
   "metadata": {
    "ExecuteTime": {
     "start_time": "2024-03-07T18:19:57.556827Z"
    }
   },
   "outputs": [],
   "source": [
    "y_pred = forecast(model_rnn, start, y_all, sequence_length)"
   ]
  },
  {
   "cell_type": "code",
   "execution_count": null,
   "id": "aeffa7e1",
   "metadata": {},
   "outputs": [],
   "source": [
    "plt.figure(figsize=(15,6))\n",
    "plt.plot(y_hist,marker='.',linewidth=2)\n",
    "plt.plot(y_future,marker='.',linewidth=2)\n",
    "plt.plot(y_all[start-sequence_length:start],marker='.',linewidth=2)\n",
    "plt.plot(y_pred,marker='.',linewidth=2)\n",
    "plt.plot(t_future_hat,y_future_hat,linewidth=2,marker='.',color='g')\n",
    "\n",
    "plt.xlim(100,12000)"
   ]
  },
  {
   "cell_type": "code",
   "execution_count": null,
   "id": "3ed3e033",
   "metadata": {
    "ExecuteTime": {
     "start_time": "2024-03-07T18:19:57.557821Z"
    }
   },
   "outputs": [],
   "source": [
    "model_rnn.layers"
   ]
  },
  {
   "cell_type": "code",
   "execution_count": null,
   "id": "d8c3ea95",
   "metadata": {
    "ExecuteTime": {
     "start_time": "2024-03-07T18:19:57.558823Z"
    }
   },
   "outputs": [],
   "source": []
  },
  {
   "cell_type": "markdown",
   "id": "cfbdeca3",
   "metadata": {},
   "source": [
    "\n",
    "# LSTM"
   ]
  },
  {
   "cell_type": "code",
   "execution_count": null,
   "id": "7f290ac1",
   "metadata": {
    "ExecuteTime": {
     "start_time": "2024-03-07T18:19:57.559816Z"
    }
   },
   "outputs": [],
   "source": [
    "inputs = keras.Input(shape=(sequence_length, 1))\n",
    "x = layers.LSTM(20)(inputs)\n",
    "outputs = layers.Dense(1)(x)\n",
    "model_lstm = keras.Model(inputs, outputs)\n",
    "model_lstm.compile(optimizer=\"rmsprop\", loss=\"mse\", metrics=[\"mae\"])\n",
    "history = model_lstm.fit(train_dataset,epochs=10)"
   ]
  },
  {
   "cell_type": "code",
   "execution_count": null,
   "id": "0ef419ef",
   "metadata": {
    "ExecuteTime": {
     "start_time": "2024-03-07T18:19:57.560811Z"
    }
   },
   "outputs": [],
   "source": [
    "y_pred = forecast(model_lstm, start, y_all, sequence_length)"
   ]
  },
  {
   "cell_type": "code",
   "execution_count": null,
   "id": "49e1c92f",
   "metadata": {},
   "outputs": [],
   "source": [
    "plt.figure(figsize=(15,6))\n",
    "plt.plot(y_hist,marker='.',linewidth=2)\n",
    "plt.plot(y_future,marker='.',linewidth=2)\n",
    "plt.plot(y_all[start-sequence_length:start],marker='.',linewidth=2)\n",
    "plt.plot(y_pred,marker='.',linewidth=2)\n",
    "plt.xlim(100,12000)"
   ]
  },
  {
   "cell_type": "code",
   "execution_count": null,
   "id": "78c0de7e",
   "metadata": {
    "ExecuteTime": {
     "start_time": "2024-03-07T18:19:57.563797Z"
    }
   },
   "outputs": [],
   "source": []
  }
 ],
 "metadata": {
  "kernelspec": {
   "display_name": "Python 3 (ipykernel)",
   "language": "python",
   "name": "python3"
  },
  "language_info": {
   "codemirror_mode": {
    "name": "ipython",
    "version": 3
   },
   "file_extension": ".py",
   "mimetype": "text/x-python",
   "name": "python",
   "nbconvert_exporter": "python",
   "pygments_lexer": "ipython3",
   "version": "3.9.7"
  }
 },
 "nbformat": 4,
 "nbformat_minor": 5
}
