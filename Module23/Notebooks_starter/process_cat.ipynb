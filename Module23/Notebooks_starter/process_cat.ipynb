{
 "nbformat": 4,
 "nbformat_minor": 0,
 "metadata": {
  "colab": {
   "name": "process_cat.ipynb",
   "provenance": [],
   "collapsed_sections": []
  },
  "kernelspec": {
   "name": "python3",
   "language": "python",
   "display_name": "Python 3 (ipykernel)"
  },
  "language_info": {
   "name": "python"
  }
 },
 "cells": [
  {
   "cell_type": "code",
   "metadata": {
    "id": "lJ8hhovW7vxr",
    "ExecuteTime": {
     "end_time": "2024-03-08T03:18:17.558501Z",
     "start_time": "2024-03-08T03:18:17.548526Z"
    }
   },
   "source": [
    "import os.path\n",
    "\n",
    "import cv2\n",
    "import numpy as np"
   ],
   "execution_count": 10,
   "outputs": []
  },
  {
   "cell_type": "code",
   "metadata": {
    "id": "QZeIFLHb7xcS",
    "ExecuteTime": {
     "end_time": "2024-03-08T03:18:17.573455Z",
     "start_time": "2024-03-08T03:18:17.559490Z"
    }
   },
   "source": [
    "def processImage(image):\n",
    "    print(\"Processing\")\n",
    "    image = cv2.imread(image)\n",
    "    image = cv2.cvtColor(src=image, code=cv2.COLOR_BGR2GRAY)\n",
    "    return image"
   ],
   "execution_count": 11,
   "outputs": []
  },
  {
   "cell_type": "code",
   "metadata": {
    "id": "CcZUHuBl76fy",
    "ExecuteTime": {
     "end_time": "2024-03-08T03:18:17.589456Z",
     "start_time": "2024-03-08T03:18:17.574443Z"
    }
   },
   "source": [
    "def convolve2D(image, kernel, padding=0, strides=1):\n",
    "    # Cross Correlation\n",
    "    kernel = np.flipud(np.fliplr(kernel))\n",
    "\n",
    "    # Gather Shapes of Kernel + Image + Padding\n",
    "    xKernShape = kernel.shape[0]\n",
    "    yKernShape = kernel.shape[1]\n",
    "    xImgShape = image.shape[0]\n",
    "    yImgShape = image.shape[1]\n",
    "\n",
    "    # Shape of Output Convolution\n",
    "    xOutput = int(((xImgShape - xKernShape + 2 * padding) / strides) + 1)\n",
    "    yOutput = int(((yImgShape - yKernShape + 2 * padding) / strides) + 1)\n",
    "    output = np.zeros((xOutput, yOutput))\n",
    "\n",
    "    # Apply Equal Padding to All Sides\n",
    "    if padding != 0:\n",
    "        imagePadded = np.zeros((image.shape[0] + padding * 2, image.shape[1] + padding * 2))\n",
    "        imagePadded[int(padding):int(-1 * padding), int(padding):int(-1 * padding)] = image\n",
    "        print(imagePadded)\n",
    "    else:\n",
    "        imagePadded = image\n",
    "\n",
    "    # Iterate through image\n",
    "    for y in range(image.shape[1]):\n",
    "        # Exit Convolution\n",
    "        if y > image.shape[1] - yKernShape:\n",
    "            break\n",
    "        # Only Convolve if y has gone down by the specified Strides\n",
    "        if y % strides == 0:\n",
    "            for x in range(image.shape[0]):\n",
    "                # Go to next row once kernel is out of bounds\n",
    "                if x > image.shape[0] - xKernShape:\n",
    "                    break\n",
    "                try:\n",
    "                    # Only Convolve if x has moved by the specified Strides\n",
    "                    if x % strides == 0:\n",
    "                        output[x, y] = (kernel * imagePadded[x: x + xKernShape, y: y + yKernShape]).sum()\n",
    "                except:\n",
    "                    break\n",
    "\n",
    "    return output"
   ],
   "execution_count": 12,
   "outputs": []
  },
  {
   "cell_type": "code",
   "outputs": [],
   "source": [
    "image = cv2.imread('C:\\\\Projects\\\\Professional_Certificate_in_ML_and_AI\\\\Module23\\\\Notebooks_starter\\\\data\\\\cat.png',1)"
   ],
   "metadata": {
    "collapsed": false,
    "ExecuteTime": {
     "end_time": "2024-03-08T03:18:17.605167Z",
     "start_time": "2024-03-08T03:18:17.590444Z"
    }
   },
   "execution_count": 13
  },
  {
   "cell_type": "code",
   "outputs": [
    {
     "data": {
      "text/plain": "array([[97, 97, 97, ..., 97, 97, 97],\n       [97, 97, 97, ..., 97, 97, 97],\n       [97, 97, 97, ..., 97, 97, 97],\n       ...,\n       [97, 97, 97, ..., 97, 97, 97],\n       [97, 97, 97, ..., 97, 97, 97],\n       [97, 97, 97, ..., 97, 97, 97]], dtype=uint8)"
     },
     "execution_count": 14,
     "metadata": {},
     "output_type": "execute_result"
    }
   ],
   "source": [
    "cv2.cvtColor(src=image, code=cv2.COLOR_RGB2GRAY)"
   ],
   "metadata": {
    "collapsed": false,
    "ExecuteTime": {
     "end_time": "2024-03-08T03:18:17.621114Z",
     "start_time": "2024-03-08T03:18:17.606155Z"
    }
   },
   "execution_count": 14
  },
  {
   "cell_type": "code",
   "metadata": {
    "id": "drhOkD-p8wl2",
    "ExecuteTime": {
     "end_time": "2024-03-08T03:18:17.637061Z",
     "start_time": "2024-03-08T03:18:17.622125Z"
    }
   },
   "source": [
    "kernels = list()\n",
    "kernels.append(np.array([[-1, -1, -1], [2, 2, 2], [-1, -1, -1]]))\n",
    "kernels.append(np.array([[-1, 2, -1], [-1, 2, -1], [-1, 2, -1]]))\n",
    "kernels.append(np.array([[-1, -1, -1], [-1, 8, -1], [-1, -1, -1]]))"
   ],
   "execution_count": 15,
   "outputs": []
  },
  {
   "cell_type": "code",
   "metadata": {
    "id": "zDL5u5uQ9iQN",
    "ExecuteTime": {
     "end_time": "2024-03-08T03:18:20.582949Z",
     "start_time": "2024-03-08T03:18:17.638049Z"
    }
   },
   "source": [
    "for i, kernel in enumerate(kernels):\n",
    "    output = convolve2D(image, kernel, padding=0)\n",
    "    cv2.imwrite('C:\\\\Projects\\Professional_Certificate_in_ML_and_AI\\\\Module23\\\\Notebooks_starter\\\\data\\\\cat_conv_{}.png'.format(i), 255 - output)\n",
    "\n"
   ],
   "execution_count": 16,
   "outputs": []
  },
  {
   "cell_type": "code",
   "metadata": {
    "id": "WtPl9DZY-EH1",
    "ExecuteTime": {
     "end_time": "2024-03-08T03:18:20.598707Z",
     "start_time": "2024-03-08T03:18:20.583867Z"
    }
   },
   "source": [
    "cv2.imwrite?"
   ],
   "execution_count": 17,
   "outputs": []
  },
  {
   "cell_type": "code",
   "metadata": {
    "id": "C_2YMT7-_UM2",
    "ExecuteTime": {
     "end_time": "2024-03-08T03:18:20.614644Z",
     "start_time": "2024-03-08T03:18:20.600691Z"
    }
   },
   "source": [
    "print(\"Done!\")"
   ],
   "execution_count": 18,
   "outputs": [
    {
     "name": "stdout",
     "output_type": "stream",
     "text": [
      "Done!\n"
     ]
    }
   ]
  }
 ]
}
