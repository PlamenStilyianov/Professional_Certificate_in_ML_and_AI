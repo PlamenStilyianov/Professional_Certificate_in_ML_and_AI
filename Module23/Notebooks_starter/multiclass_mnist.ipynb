{
 "cells": [
  {
   "cell_type": "code",
   "id": "2a13a144",
   "metadata": {
    "ExecuteTime": {
     "end_time": "2024-03-05T21:42:31.752040Z",
     "start_time": "2024-03-05T21:42:31.748980Z"
    }
   },
   "source": [
    "#@title Run on TensorFlow 2.x\n",
    "# %tensorflow_version 2.x"
   ],
   "outputs": [],
   "execution_count": 1
  },
  {
   "cell_type": "code",
   "id": "8b3e236a",
   "metadata": {
    "ExecuteTime": {
     "end_time": "2024-03-05T21:42:36.154841Z",
     "start_time": "2024-03-05T21:42:31.753435Z"
    }
   },
   "source": [
    "#@title Import relevant modules\n",
    "import numpy as np\n",
    "import pandas as pd\n",
    "import tensorflow as tf\n",
    "from tensorflow.keras import layers\n",
    "from matplotlib import pyplot as plt\n",
    "import warnings\n",
    "warnings.filterwarnings(\"ignore\")\n",
    "\n",
    "# The following lines adjust the granularity of reporting. \n",
    "pd.options.display.max_rows = 10\n",
    "pd.options.display.float_format = \"{:.1f}\".format\n",
    "\n",
    "# The following line improves formatting when ouputting NumPy arrays.\n",
    "np.set_printoptions(linewidth = 200)"
   ],
   "outputs": [
    {
     "name": "stderr",
     "output_type": "stream",
     "text": [
      "C:\\Users\\Plamen\\AppData\\Local\\Temp\\ipykernel_38788\\2932626271.py:3: DeprecationWarning: \n",
      "Pyarrow will become a required dependency of pandas in the next major release of pandas (pandas 3.0),\n",
      "(to allow more performant data types, such as the Arrow string type, and better interoperability with other libraries)\n",
      "but was not found to be installed on your system.\n",
      "If this would cause problems for you,\n",
      "please provide us feedback at https://github.com/pandas-dev/pandas/issues/54466\n",
      "        \n",
      "  import pandas as pd\n"
     ]
    },
    {
     "name": "stdout",
     "output_type": "stream",
     "text": [
      "WARNING:tensorflow:From C:\\Java\\anaconda3\\Lib\\site-packages\\keras\\src\\losses.py:2976: The name tf.losses.sparse_softmax_cross_entropy is deprecated. Please use tf.compat.v1.losses.sparse_softmax_cross_entropy instead.\n",
      "\n"
     ]
    }
   ],
   "execution_count": 2
  },
  {
   "cell_type": "code",
   "id": "de0d244e",
   "metadata": {
    "ExecuteTime": {
     "end_time": "2024-03-05T21:42:36.160193Z",
     "start_time": "2024-03-05T21:42:36.154841Z"
    }
   },
   "source": [
    "colormap = {0:'black', 1:'red', 2:'blue'}\n",
    "def plot_region(model,dlim,features=[]):\n",
    "    d1lim = dlim[:2]\n",
    "    d2lim = dlim[2:]\n",
    "    d1_grid, d2_grid = np.meshgrid(np.arange(d1lim[0], d1lim[1], 0.02), np.arange(d2lim[0], d2lim[1], 0.02))\n",
    "    X0 = d1_grid.ravel()\n",
    "    X1 = d2_grid.ravel()\n",
    "    \n",
    "    d12_array = np.empty((len(X0),2+len(features)))\n",
    "    d12_array[:,0] = X0\n",
    "    d12_array[:,1] = X1\n",
    "    i=2\n",
    "\n",
    "    for feature in features:\n",
    "        d12_array[:,i] = feature(X0,X1)\n",
    "        i += 1\n",
    "    \n",
    "    y_array = model.predict(d12_array)\n",
    "    y_grid = y_array.reshape(d1_grid.shape)\n",
    "    plt.contourf(d1_grid, d2_grid, y_grid, cmap='Pastel2')"
   ],
   "outputs": [],
   "execution_count": 3
  },
  {
   "cell_type": "markdown",
   "id": "d5af641a",
   "metadata": {},
   "source": [
    "## Load the dataset\n",
    "\n",
    "`tf.keras` provides a set of convenience functions for loading well-known datasets. Each of these convenience functions does the following:\n",
    "\n",
    "* Loads both the training set and the test set.\n",
    "* Separates each set into features and labels.\n",
    "\n",
    "The relevant convenience function for MNIST is called `mnist.load_data()`:"
   ]
  },
  {
   "cell_type": "code",
   "id": "f4937590",
   "metadata": {
    "ExecuteTime": {
     "end_time": "2024-03-05T21:42:36.349988Z",
     "start_time": "2024-03-05T21:42:36.160724Z"
    }
   },
   "source": [
    "(x_train, y_train),(x_test, y_test) = tf.keras.datasets.mnist.load_data()\n"
   ],
   "outputs": [],
   "execution_count": 4
  },
  {
   "cell_type": "markdown",
   "id": "0088f0c3",
   "metadata": {},
   "source": [
    "Notice that `mnist.load_data()` returned four separate values:\n",
    "\n",
    "* `x_train` contains the training set's features.\n",
    "* `y_train` contains the training set's labels.\n",
    "* `x_test` contains the test set's features.\n",
    "* `y_test` contains the test set's labels.\n",
    "\n",
    "**Note:** The MNIST .csv training set is already shuffled."
   ]
  },
  {
   "cell_type": "markdown",
   "id": "5c2a7ce2",
   "metadata": {},
   "source": [
    "## View the dataset\n",
    "\n",
    "The .csv file for the California Housing Dataset contains column names (for example, `latitude`, `longitude`, `population`). By contrast, the .csv file for MNIST does not contain column names. Instead of column names, you use ordinal numbers to access different subsets of the MNIST dataset. In fact, it is probably best to think of `x_train` and `x_test` as three-dimensional NumPy arrays:  \n",
    "\n"
   ]
  },
  {
   "cell_type": "code",
   "id": "c3ea6108",
   "metadata": {
    "ExecuteTime": {
     "end_time": "2024-03-05T21:42:36.357693Z",
     "start_time": "2024-03-05T21:42:36.349988Z"
    }
   },
   "source": [
    "# Output example #2917 of the training set.\n",
    "x_train[2917]"
   ],
   "outputs": [
    {
     "data": {
      "text/plain": [
       "array([[  0,   0,   0,   0,   0,   0,   0,   0,   0,   0,   0,   0,   0,   0,   0,   0,   0,   0,   0,   0,   0,   0,   0,   0,   0,   0,   0,   0],\n",
       "       [  0,   0,   0,   0,   0,   0,   0,   0,   0,   0,   0,   0,   0,   0,   0,   0,   0,   0,   0,   0,   0,   0,   0,   0,   0,   0,   0,   0],\n",
       "       [  0,   0,   0,   0,   0,   0,   0,   0,   0,   0,   0,   0,   0,   0,   0,   0,   0,   0,   0,   0,   0,   0,   0,   0,   0,   0,   0,   0],\n",
       "       [  0,   0,   0,   0,   0,   0,   0,   0,   0,   0,   0,   0,   0,   0,   0,   0,   0,   0,   0,   0,   0,   0,   0,   0,   0,   0,   0,   0],\n",
       "       [  0,   0,   0,   0,   0,   0,   0,   0,   0,   0,   0,   0,   0,   0,   0,   0,   0,   0,   0,   0,   0,   0,   0,   0,   0,   0,   0,   0],\n",
       "       [  0,   0,   0,   0,   0,   0,   0,   0,   0,   0,   0,   0,   0,   0,   0,   0,   0,   0,   0,   0,   0,   0,   0,   0,   0,   0,   0,   0],\n",
       "       [  0,   0,   0,   0,   0,   0,   0,   0, 127, 100, 156, 239, 224, 177, 213, 159,  70,  13,   0,   0,   0,   0,   0,   0,   0,   0,   0,   0],\n",
       "       [  0,   0,   0,   0,   0,   0,   0, 110, 250, 254, 254, 254, 254, 254, 254, 254, 254, 184,  10,   0,   0,   0,   0,   0,   0,   0,   0,   0],\n",
       "       [  0,   0,   0,   0,   0,   0,   0, 216, 254, 254, 254, 254, 254, 254, 254, 254, 254, 251,  54,   0,   0,   0,   0,   0,   0,   0,   0,   0],\n",
       "       [  0,   0,   0,   0,   0,   0,   0,   3, 131, 197,  68, 137, 101,  83,  41,  70, 221, 254, 108,   0,   0,   0,   0,   0,   0,   0,   0,   0],\n",
       "       [  0,   0,   0,   0,   0,   0,   0,   0,   0,   0,   0,   0,   0,   0,   0,   0,  58, 254, 216,  11,   0,   0,   0,   0,   0,   0,   0,   0],\n",
       "       [  0,   0,   0,   0,   0,   0,   0,   0,   0,   0,   0,   0,   0,   0,   0,   0, 110, 254, 254,  24,   0,   0,   0,   0,   0,   0,   0,   0],\n",
       "       [  0,   0,   0,   0,   0,   0,   0,   0,   0,   0,   0,   0,   0,   0,   4,  83, 247, 254, 192,  10,   0,   0,   0,   0,   0,   0,   0,   0],\n",
       "       [  0,   0,   0,   0,   0,   0,   0,   0,   0,   0,   0,   0,   0,  37, 124, 254, 254, 250,  47,   0,   0,   0,   0,   0,   0,   0,   0,   0],\n",
       "       [  0,   0,   0,   0,   0,   0,   0,   0,   0,   0,   0, 113, 178, 250, 254, 254, 254, 252, 178, 128,  50,   0,   0,   0,   0,   0,   0,   0],\n",
       "       [  0,   0,   0,   0,   0,   0,   0,   0,   0,   0,  69, 252, 254, 254, 254, 254, 254, 254, 254, 254, 153,   0,   0,   0,   0,   0,   0,   0],\n",
       "       [  0,   0,   0,   0,   0,   0,   0,   0,   0,   0, 141, 252, 254, 241, 241, 254, 247, 252, 254, 254, 153,   0,   0,   0,   0,   0,   0,   0],\n",
       "       [  0,   0,   0,   0,   0,   0,   0,   0,   0,   0,   0,  68,  82,   5,   5,  82,  37,  65, 167, 254, 190,   0,   0,   0,   0,   0,   0,   0],\n",
       "       [  0,   0,   0,   0,   0,   0,   0,   0,   0,   0,   0,   0,   0,   0,   0,   0,   0,   0, 162, 254, 153,   0,   0,   0,   0,   0,   0,   0],\n",
       "       [  0,   0,   0,   0,   0,   0,   0,   0,   0,   0,   0,   0,   0,   0,   0,   0,   0,   1, 172, 253,  75,   0,   0,   0,   0,   0,   0,   0],\n",
       "       [  0,   0,   0,   0,   0,   0,   0,   0,   0,   0,   0,   0,   0,   0,   0,   0,   0, 102, 254, 152,   0,   0,   0,   0,   0,   0,   0,   0],\n",
       "       [  0,   0,   0,   0,   0,   0,   0,   0,   0,   0,   0,   0,   0,   0,   0,   0,  38, 230, 216,  20,   0,   0,   0,   0,   0,   0,   0,   0],\n",
       "       [  0,   0,   0,   0,   0,   0,   0,   0,   0,   0,   0,   0,   0,   0,   1,  71, 222, 254, 142,   0,   0,   0,   0,   0,   0,   0,   0,   0],\n",
       "       [  0,   0,   0,   0,   0,   0,   0,   0,   0,   0,   0,   0,   0,   0,  66, 254, 254, 157,   0,   0,   0,   0,   0,   0,   0,   0,   0,   0],\n",
       "       [  0,   0,   0,   0,   0,   0,   0,   0,   4,  34,  34,  78, 161, 226, 249, 254, 154,   6,   0,   0,   0,   0,   0,   0,   0,   0,   0,   0],\n",
       "       [  0,   0,   0,   0,   0,   0,   0,  96, 184, 254, 254, 254, 254, 254, 249,  93,   5,   0,   0,   0,   0,   0,   0,   0,   0,   0,   0,   0],\n",
       "       [  0,   0,   0,   0,   0,   0,   0,   0,   0,   0,   0,   0,   0,   0,   0,   0,   0,   0,   0,   0,   0,   0,   0,   0,   0,   0,   0,   0],\n",
       "       [  0,   0,   0,   0,   0,   0,   0,   0,   0,   0,   0,   0,   0,   0,   0,   0,   0,   0,   0,   0,   0,   0,   0,   0,   0,   0,   0,   0]], dtype=uint8)"
      ]
     },
     "execution_count": 5,
     "metadata": {},
     "output_type": "execute_result"
    }
   ],
   "execution_count": 5
  },
  {
   "cell_type": "markdown",
   "id": "3a557353",
   "metadata": {},
   "source": [
    "Alternatively, you can call `matplotlib.pyplot.imshow` to interpret the preceding numeric array as an image. "
   ]
  },
  {
   "cell_type": "code",
   "id": "305f6fa4",
   "metadata": {
    "ExecuteTime": {
     "end_time": "2024-03-05T21:42:36.490377Z",
     "start_time": "2024-03-05T21:42:36.357693Z"
    }
   },
   "source": [
    "# Use false colors to visualize the array.\n",
    "plt.imshow(x_train[2917])"
   ],
   "outputs": [
    {
     "data": {
      "text/plain": [
       "<matplotlib.image.AxesImage at 0x1ce84dd7890>"
      ]
     },
     "execution_count": 6,
     "metadata": {},
     "output_type": "execute_result"
    },
    {
     "data": {
      "text/plain": [
       "<Figure size 640x480 with 1 Axes>"
      ],
      "image/png": "[encoded data removed]"
     },
     "metadata": {},
     "output_type": "display_data"
    }
   ],
   "execution_count": 6
  },
  {
   "cell_type": "code",
   "id": "bb63c643",
   "metadata": {
    "ExecuteTime": {
     "end_time": "2024-03-05T21:42:36.495707Z",
     "start_time": "2024-03-05T21:42:36.491816Z"
    }
   },
   "source": [
    "# Output row #10 of example #2917.\n",
    "x_train[2917][10]"
   ],
   "outputs": [
    {
     "data": {
      "text/plain": [
       "array([  0,   0,   0,   0,   0,   0,   0,   0,   0,   0,   0,   0,   0,   0,   0,   0,  58, 254, 216,  11,   0,   0,   0,   0,   0,   0,   0,   0], dtype=uint8)"
      ]
     },
     "execution_count": 7,
     "metadata": {},
     "output_type": "execute_result"
    }
   ],
   "execution_count": 7
  },
  {
   "cell_type": "code",
   "id": "4c83a559",
   "metadata": {
    "ExecuteTime": {
     "end_time": "2024-03-05T21:42:36.502136Z",
     "start_time": "2024-03-05T21:42:36.497002Z"
    }
   },
   "source": [
    "# Output pixel #16 of row #10 of example #2900.\n",
    "x_train[2917][10][16]"
   ],
   "outputs": [
    {
     "data": {
      "text/plain": [
       "58"
      ]
     },
     "execution_count": 8,
     "metadata": {},
     "output_type": "execute_result"
    }
   ],
   "execution_count": 8
  },
  {
   "cell_type": "markdown",
   "id": "a4cfd603",
   "metadata": {},
   "source": [
    "## Task 1: Normalize feature values\n",
    "\n",
    "Complete the following code cell to map each feature value from its current representation (an integer between 0 and 255) to a floating-point value between 0 and 1.0. Store the floating-point values in `x_train_normalized` and `x_test_normalized`."
   ]
  },
  {
   "cell_type": "code",
   "id": "d3207671",
   "metadata": {
    "ExecuteTime": {
     "end_time": "2024-03-05T21:42:36.644202Z",
     "start_time": "2024-03-05T21:42:36.502136Z"
    }
   },
   "source": [
    "#@title Double-click to see a solution to Task 1. \n",
    "\n",
    "x_train_normalized = x_train / 255.0\n",
    "x_test_normalized = x_test / 255.0\n",
    "print(x_train_normalized[2900][10]) # Output a normalized row"
   ],
   "outputs": [
    {
     "name": "stdout",
     "output_type": "stream",
     "text": [
      "[0.         0.         0.         0.         0.         0.         0.         0.55294118 1.         0.66666667 0.11372549 0.         0.         0.         0.         0.         0.         0.\n",
      " 0.         0.         0.         0.         0.         0.         0.         0.         0.         0.        ]\n"
     ]
    }
   ],
   "execution_count": 9
  },
  {
   "cell_type": "markdown",
   "id": "2a7aa86c",
   "metadata": {},
   "source": [
    "## Define a plotting function\n",
    "\n",
    "The following function plots an accuracy curve:"
   ]
  },
  {
   "cell_type": "code",
   "id": "b236e1cc",
   "metadata": {
    "ExecuteTime": {
     "end_time": "2024-03-05T21:42:36.649421Z",
     "start_time": "2024-03-05T21:42:36.644202Z"
    }
   },
   "source": [
    "#@title Define the plotting function\n",
    "def plot_curve(epochs, hist, list_of_metrics):\n",
    "  \"\"\"Plot a curve of one or more classification metrics vs. epoch.\"\"\"  \n",
    "  # list_of_metrics should be one of the names shown in:\n",
    "  # https://www.tensorflow.org/tutorials/structured_data/imbalanced_data#define_the_model_and_metrics  \n",
    "\n",
    "  plt.figure()\n",
    "  plt.xlabel(\"Epoch\")\n",
    "  plt.ylabel(\"Value\")\n",
    "\n",
    "  for m in list_of_metrics:\n",
    "    x = hist[m]\n",
    "    plt.plot(epochs[1:], x[1:], label=m)\n",
    "\n",
    "  plt.legend()\n",
    "\n",
    "print(\"Loaded the plot_curve function.\")"
   ],
   "outputs": [
    {
     "name": "stdout",
     "output_type": "stream",
     "text": [
      "Loaded the plot_curve function.\n"
     ]
    }
   ],
   "execution_count": 10
  },
  {
   "cell_type": "markdown",
   "id": "38c553a2",
   "metadata": {},
   "source": [
    "\n",
    "#@title Define the plotting function\n",
    "def plot_curve(epochs, hist, list_of_metrics):\n",
    "  \"\"\"Plot a curve of one or more classification metrics vs. epoch.\"\"\"  \n",
    "  # list_of_metrics should be one of the names shown in:\n",
    "  # https://www.tensorflow.org/tutorials/structured_data/imbalanced_data#define_the_model_and_metrics  \n",
    "\n",
    "  plt.figure()\n",
    "  plt.xlabel(\"Epoch\")\n",
    "  plt.ylabel(\"Value\")\n",
    "\n",
    "  for m in list_of_metrics:\n",
    "    x = hist[m]\n",
    "    plt.plot(epochs[1:], x[1:], label=m)\n",
    "\n",
    "  plt.legend()\n",
    "\n",
    "print(\"Loaded the plot_curve function.\")"
   ]
  },
  {
   "cell_type": "code",
   "id": "398bcd65",
   "metadata": {
    "ExecuteTime": {
     "end_time": "2024-03-05T21:42:36.655506Z",
     "start_time": "2024-03-05T21:42:36.650424Z"
    }
   },
   "source": [
    "def create_model(my_learning_rate):\n",
    "  \"\"\"Create and compile a deep neural net.\"\"\"\n",
    "  \n",
    "  # All models in this course are sequential.\n",
    "  model = tf.keras.models.Sequential()\n",
    "\n",
    "  # The features are stored in a two-dimensional 28X28 array. \n",
    "  # Flatten that two-dimensional array into a a one-dimensional \n",
    "  # 784-element array.\n",
    "  model.add(tf.keras.layers.Flatten(input_shape=(28, 28)))\n",
    "\n",
    "  # Define the first hidden layer.   \n",
    "  model.add(tf.keras.layers.Dense(units=32, activation='relu'))\n",
    "  \n",
    "  # Define a dropout regularization layer. \n",
    "  model.add(tf.keras.layers.Dropout(rate=0.2))\n",
    "\n",
    "  # Define the output layer. The units parameter is set to 10 because\n",
    "  # the model must choose among 10 possible output values (representing\n",
    "  # the digits from 0 to 9, inclusive).\n",
    "  #\n",
    "  # Don't change this layer.\n",
    "  model.add(tf.keras.layers.Dense(units=10, activation='softmax'))     \n",
    "                           \n",
    "  # Construct the layers into a model that TensorFlow can execute.  \n",
    "  # Notice that the loss function for multi-class classification\n",
    "  # is different than the loss function for binary classification.  \n",
    "  model.compile(optimizer=tf.keras.optimizers.Adam(learning_rate=my_learning_rate),\n",
    "                loss=\"sparse_categorical_crossentropy\",\n",
    "                metrics=['accuracy'])\n",
    "  \n",
    "  return model    \n",
    "\n",
    "\n",
    "def train_model(model, train_features, train_label, epochs, batch_size=None, validation_split=0.1):\n",
    "  \"\"\"Train the model by feeding it data.\"\"\"\n",
    "\n",
    "  history = model.fit(x=train_features, y=train_label, batch_size=batch_size, epochs=epochs, shuffle=True, validation_split=validation_split)\n",
    " \n",
    "  # To track the progression of training, gather a snapshot\n",
    "  # of the model's metrics at each epoch. \n",
    "  epochs = history.epoch\n",
    "  hist = pd.DataFrame(history.history)\n",
    "\n",
    "  return epochs, hist    "
   ],
   "outputs": [],
   "execution_count": 11
  },
  {
   "cell_type": "markdown",
   "id": "6158ad5f",
   "metadata": {},
   "source": [
    "## Invoke the previous functions\n",
    "\n",
    "Run the following code cell to invoke the preceding functions and actually train the model on the training set. \n",
    "\n",
    "**Note:** Due to several factors (for example, more examples and a more complex neural network) training MNIST might take longer than training the California Housing Dataset. Be patient."
   ]
  },
  {
   "cell_type": "code",
   "id": "3d6bf6e9",
   "metadata": {
    "ExecuteTime": {
     "end_time": "2024-03-05T21:42:42.704760Z",
     "start_time": "2024-03-05T21:42:36.655506Z"
    }
   },
   "source": [
    "# The following variables are the hyperparameters.\n",
    "learning_rate = 0.003\n",
    "epochs = 50\n",
    "batch_size = 4000\n",
    "validation_split = 0.2\n",
    "\n",
    "# Establish the model's topography.\n",
    "my_model = create_model(learning_rate)\n",
    "\n",
    "# Train the model on the normalized training set.\n",
    "epochs, hist = train_model(my_model, x_train_normalized, y_train, epochs, batch_size, validation_split)\n",
    "\n",
    "# Plot a graph of the metric vs. epochs.\n",
    "list_of_metrics_to_plot = ['accuracy']\n",
    "plot_curve(epochs, hist, list_of_metrics_to_plot)\n",
    "\n",
    "# Evaluate against the test set.\n",
    "print(\"\\n Evaluate the new model against the test set:\")\n",
    "my_model.evaluate(x=x_test_normalized, y=y_test, batch_size=batch_size)"
   ],
   "outputs": [
    {
     "name": "stdout",
     "output_type": "stream",
     "text": [
      "WARNING:tensorflow:From C:\\Java\\anaconda3\\Lib\\site-packages\\keras\\src\\backend.py:873: The name tf.get_default_graph is deprecated. Please use tf.compat.v1.get_default_graph instead.\n",
      "\n",
      "Epoch 1/50\n",
      "WARNING:tensorflow:From C:\\Java\\anaconda3\\Lib\\site-packages\\keras\\src\\utils\\tf_utils.py:492: The name tf.ragged.RaggedTensorValue is deprecated. Please use tf.compat.v1.ragged.RaggedTensorValue instead.\n",
      "\n",
      "WARNING:tensorflow:From C:\\Java\\anaconda3\\Lib\\site-packages\\keras\\src\\engine\\base_layer_utils.py:384: The name tf.executing_eagerly_outside_functions is deprecated. Please use tf.compat.v1.executing_eagerly_outside_functions instead.\n",
      "\n",
      "12/12 [==============================] - 1s 22ms/step - loss: 1.8337 - accuracy: 0.3651 - val_loss: 1.1405 - val_accuracy: 0.7184\n",
      "Epoch 2/50\n",
      "12/12 [==============================] - 0s 8ms/step - loss: 1.0006 - accuracy: 0.7060 - val_loss: 0.5869 - val_accuracy: 0.8571\n",
      "Epoch 3/50\n",
      "12/12 [==============================] - 0s 9ms/step - loss: 0.6882 - accuracy: 0.7895 - val_loss: 0.4421 - val_accuracy: 0.8807\n",
      "Epoch 4/50\n",
      "12/12 [==============================] - 0s 9ms/step - loss: 0.5629 - accuracy: 0.8304 - val_loss: 0.3782 - val_accuracy: 0.8986\n",
      "Epoch 5/50\n",
      "12/12 [==============================] - 0s 8ms/step - loss: 0.4954 - accuracy: 0.8513 - val_loss: 0.3358 - val_accuracy: 0.9090\n",
      "Epoch 6/50\n",
      "12/12 [==============================] - 0s 8ms/step - loss: 0.4536 - accuracy: 0.8654 - val_loss: 0.3125 - val_accuracy: 0.9149\n",
      "Epoch 7/50\n",
      "12/12 [==============================] - 0s 16ms/step - loss: 0.4213 - accuracy: 0.8769 - val_loss: 0.2925 - val_accuracy: 0.9192\n",
      "Epoch 8/50\n",
      "12/12 [==============================] - 0s 8ms/step - loss: 0.3981 - accuracy: 0.8839 - val_loss: 0.2783 - val_accuracy: 0.9232\n",
      "Epoch 9/50\n",
      "12/12 [==============================] - 0s 8ms/step - loss: 0.3765 - accuracy: 0.8897 - val_loss: 0.2640 - val_accuracy: 0.9265\n",
      "Epoch 10/50\n",
      "12/12 [==============================] - 0s 9ms/step - loss: 0.3633 - accuracy: 0.8937 - val_loss: 0.2547 - val_accuracy: 0.9300\n",
      "Epoch 11/50\n",
      "12/12 [==============================] - 0s 7ms/step - loss: 0.3477 - accuracy: 0.8980 - val_loss: 0.2447 - val_accuracy: 0.9323\n",
      "Epoch 12/50\n",
      "12/12 [==============================] - 0s 8ms/step - loss: 0.3323 - accuracy: 0.9024 - val_loss: 0.2368 - val_accuracy: 0.9346\n",
      "Epoch 13/50\n",
      "12/12 [==============================] - 0s 8ms/step - loss: 0.3225 - accuracy: 0.9064 - val_loss: 0.2288 - val_accuracy: 0.9367\n",
      "Epoch 14/50\n",
      "12/12 [==============================] - 0s 8ms/step - loss: 0.3129 - accuracy: 0.9083 - val_loss: 0.2239 - val_accuracy: 0.9381\n",
      "Epoch 15/50\n",
      "12/12 [==============================] - 0s 8ms/step - loss: 0.3058 - accuracy: 0.9097 - val_loss: 0.2174 - val_accuracy: 0.9398\n",
      "Epoch 16/50\n",
      "12/12 [==============================] - 0s 8ms/step - loss: 0.2975 - accuracy: 0.9128 - val_loss: 0.2123 - val_accuracy: 0.9417\n",
      "Epoch 17/50\n",
      "12/12 [==============================] - 0s 8ms/step - loss: 0.2896 - accuracy: 0.9156 - val_loss: 0.2066 - val_accuracy: 0.9425\n",
      "Epoch 18/50\n",
      "12/12 [==============================] - 0s 8ms/step - loss: 0.2827 - accuracy: 0.9167 - val_loss: 0.2034 - val_accuracy: 0.9434\n",
      "Epoch 19/50\n",
      "12/12 [==============================] - 0s 8ms/step - loss: 0.2776 - accuracy: 0.9179 - val_loss: 0.1986 - val_accuracy: 0.9450\n",
      "Epoch 20/50\n",
      "12/12 [==============================] - 0s 8ms/step - loss: 0.2741 - accuracy: 0.9187 - val_loss: 0.1968 - val_accuracy: 0.9438\n",
      "Epoch 21/50\n",
      "12/12 [==============================] - 0s 9ms/step - loss: 0.2679 - accuracy: 0.9221 - val_loss: 0.1916 - val_accuracy: 0.9472\n",
      "Epoch 22/50\n",
      "12/12 [==============================] - 0s 8ms/step - loss: 0.2615 - accuracy: 0.9230 - val_loss: 0.1883 - val_accuracy: 0.9474\n",
      "Epoch 23/50\n",
      "12/12 [==============================] - 0s 8ms/step - loss: 0.2553 - accuracy: 0.9254 - val_loss: 0.1855 - val_accuracy: 0.9480\n",
      "Epoch 24/50\n",
      "12/12 [==============================] - 0s 8ms/step - loss: 0.2511 - accuracy: 0.9261 - val_loss: 0.1830 - val_accuracy: 0.9483\n",
      "Epoch 25/50\n",
      "12/12 [==============================] - 0s 8ms/step - loss: 0.2465 - accuracy: 0.9269 - val_loss: 0.1817 - val_accuracy: 0.9478\n",
      "Epoch 26/50\n",
      "12/12 [==============================] - 0s 7ms/step - loss: 0.2470 - accuracy: 0.9266 - val_loss: 0.1789 - val_accuracy: 0.9497\n",
      "Epoch 27/50\n",
      "12/12 [==============================] - 0s 8ms/step - loss: 0.2434 - accuracy: 0.9288 - val_loss: 0.1762 - val_accuracy: 0.9495\n",
      "Epoch 28/50\n",
      "12/12 [==============================] - 0s 8ms/step - loss: 0.2377 - accuracy: 0.9285 - val_loss: 0.1733 - val_accuracy: 0.9504\n",
      "Epoch 29/50\n",
      "12/12 [==============================] - 0s 8ms/step - loss: 0.2325 - accuracy: 0.9319 - val_loss: 0.1721 - val_accuracy: 0.9499\n",
      "Epoch 30/50\n",
      "12/12 [==============================] - 0s 8ms/step - loss: 0.2319 - accuracy: 0.9304 - val_loss: 0.1698 - val_accuracy: 0.9510\n",
      "Epoch 31/50\n",
      "12/12 [==============================] - 0s 8ms/step - loss: 0.2250 - accuracy: 0.9325 - val_loss: 0.1683 - val_accuracy: 0.9532\n",
      "Epoch 32/50\n",
      "12/12 [==============================] - 0s 8ms/step - loss: 0.2265 - accuracy: 0.9327 - val_loss: 0.1667 - val_accuracy: 0.9516\n",
      "Epoch 33/50\n",
      "12/12 [==============================] - 0s 8ms/step - loss: 0.2196 - accuracy: 0.9349 - val_loss: 0.1646 - val_accuracy: 0.9528\n",
      "Epoch 34/50\n",
      "12/12 [==============================] - 0s 9ms/step - loss: 0.2210 - accuracy: 0.9339 - val_loss: 0.1639 - val_accuracy: 0.9522\n",
      "Epoch 35/50\n",
      "12/12 [==============================] - 0s 7ms/step - loss: 0.2170 - accuracy: 0.9348 - val_loss: 0.1623 - val_accuracy: 0.9530\n",
      "Epoch 36/50\n",
      "12/12 [==============================] - 0s 8ms/step - loss: 0.2165 - accuracy: 0.9362 - val_loss: 0.1620 - val_accuracy: 0.9530\n",
      "Epoch 37/50\n",
      "12/12 [==============================] - 0s 7ms/step - loss: 0.2075 - accuracy: 0.9376 - val_loss: 0.1602 - val_accuracy: 0.9532\n",
      "Epoch 38/50\n",
      "12/12 [==============================] - 0s 9ms/step - loss: 0.2136 - accuracy: 0.9371 - val_loss: 0.1594 - val_accuracy: 0.9538\n",
      "Epoch 39/50\n",
      "12/12 [==============================] - 0s 9ms/step - loss: 0.2066 - accuracy: 0.9390 - val_loss: 0.1575 - val_accuracy: 0.9538\n",
      "Epoch 40/50\n",
      "12/12 [==============================] - 0s 8ms/step - loss: 0.2041 - accuracy: 0.9391 - val_loss: 0.1565 - val_accuracy: 0.9544\n",
      "Epoch 41/50\n",
      "12/12 [==============================] - 0s 8ms/step - loss: 0.1997 - accuracy: 0.9397 - val_loss: 0.1559 - val_accuracy: 0.9553\n",
      "Epoch 42/50\n",
      "12/12 [==============================] - 0s 8ms/step - loss: 0.1987 - accuracy: 0.9404 - val_loss: 0.1558 - val_accuracy: 0.9555\n",
      "Epoch 43/50\n",
      "12/12 [==============================] - 0s 8ms/step - loss: 0.2003 - accuracy: 0.9384 - val_loss: 0.1545 - val_accuracy: 0.9565\n",
      "Epoch 44/50\n",
      "12/12 [==============================] - 0s 7ms/step - loss: 0.1963 - accuracy: 0.9408 - val_loss: 0.1543 - val_accuracy: 0.9553\n",
      "Epoch 45/50\n",
      "12/12 [==============================] - 0s 8ms/step - loss: 0.1932 - accuracy: 0.9414 - val_loss: 0.1526 - val_accuracy: 0.9562\n",
      "Epoch 46/50\n",
      "12/12 [==============================] - 0s 8ms/step - loss: 0.1920 - accuracy: 0.9424 - val_loss: 0.1518 - val_accuracy: 0.9562\n",
      "Epoch 47/50\n",
      "12/12 [==============================] - 0s 8ms/step - loss: 0.1898 - accuracy: 0.9427 - val_loss: 0.1499 - val_accuracy: 0.9559\n",
      "Epoch 48/50\n",
      "12/12 [==============================] - 0s 8ms/step - loss: 0.1875 - accuracy: 0.9429 - val_loss: 0.1507 - val_accuracy: 0.9556\n",
      "Epoch 49/50\n",
      "12/12 [==============================] - 0s 7ms/step - loss: 0.1851 - accuracy: 0.9436 - val_loss: 0.1488 - val_accuracy: 0.9567\n",
      "Epoch 50/50\n",
      "12/12 [==============================] - 0s 7ms/step - loss: 0.1827 - accuracy: 0.9447 - val_loss: 0.1486 - val_accuracy: 0.9559\n",
      "\n",
      " Evaluate the new model against the test set:\n",
      "3/3 [==============================] - 0s 3ms/step - loss: 0.1435 - accuracy: 0.9562\n"
     ]
    },
    {
     "data": {
      "text/plain": [
       "[0.14354489743709564, 0.9562000036239624]"
      ]
     },
     "execution_count": 12,
     "metadata": {},
     "output_type": "execute_result"
    },
    {
     "data": {
      "text/plain": [
       "<Figure size 640x480 with 1 Axes>"
      ],
      "image/png": "[encoded data removed]"
     },
     "metadata": {},
     "output_type": "display_data"
    }
   ],
   "execution_count": 12
  },
  {
   "cell_type": "markdown",
   "id": "1306fef6",
   "metadata": {},
   "source": [
    "## Task 2: Optimize the model\n",
    "\n",
    "Experiment with the following:\n",
    "\n",
    "* number of hidden layers \n",
    "* number of nodes in each layer\n",
    "* dropout regularization rate\n",
    "\n",
    "What trends did you discover?  Can you reach at least 98% accuracy against the test set? \n",
    "\n",
    "\n"
   ]
  },
  {
   "cell_type": "code",
   "id": "0a0cc458",
   "metadata": {
    "ExecuteTime": {
     "end_time": "2024-03-05T21:42:42.708051Z",
     "start_time": "2024-03-05T21:42:42.704760Z"
    }
   },
   "source": [
    "#@title Double-click to view some possible answers.\n",
    "\n",
    "# It would take much too long to experiment \n",
    "# fully with topography and dropout regularization \n",
    "# rate. In the real world, you would\n",
    "# also experiment with learning rate, batch size, \n",
    "# and number of epochs.  Since you only have a \n",
    "# few minutes, searching for trends can be helpful.\n",
    "# Here is what we discovered:\n",
    "#   * Adding more nodes (at least until 256 nodes) \n",
    "#     to the first hidden layer improved accuracy.\n",
    "#   * Adding a second hidden layer generally \n",
    "#     improved accuracy.\n",
    "#   * When the model contains a lot of nodes, \n",
    "#     the model overfits unless the dropout rate \n",
    "#     is at least 0.5. \n",
    "\n",
    "# We reached 98% test accuracy with the \n",
    "# following configuration:\n",
    "#   * One hidden layer of 256 nodes; no second \n",
    "#     hidden layer.\n",
    "#   * dropout regularization rate of 0.4\n",
    "\n",
    "# We reached 98.2% test accuracy with the \n",
    "# following configuration:\n",
    "#   * First hidden layer of 256 nodes; \n",
    "#     second hidden layer of 128 nodes.\n",
    "#   * dropout regularization rate of 0.2\n"
   ],
   "outputs": [],
   "execution_count": 13
  },
  {
   "cell_type": "code",
   "id": "6a7653ac",
   "metadata": {
    "ExecuteTime": {
     "end_time": "2024-03-05T21:42:42.712133Z",
     "start_time": "2024-03-05T21:42:42.709561Z"
    }
   },
   "source": [],
   "outputs": [],
   "execution_count": 13
  }
 ],
 "metadata": {
  "kernelspec": {
   "display_name": "Python 3 (ipykernel)",
   "language": "python",
   "name": "python3"
  },
  "language_info": {
   "codemirror_mode": {
    "name": "ipython",
    "version": 3
   },
   "file_extension": ".py",
   "mimetype": "text/x-python",
   "name": "python",
   "nbconvert_exporter": "python",
   "pygments_lexer": "ipython3",
   "version": "3.9.5"
  }
 },
 "nbformat": 4,
 "nbformat_minor": 5
}
