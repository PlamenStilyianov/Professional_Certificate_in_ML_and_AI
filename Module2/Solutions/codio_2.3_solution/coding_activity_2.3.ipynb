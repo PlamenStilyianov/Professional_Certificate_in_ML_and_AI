{
 "cells": [
  {
   "cell_type": "markdown",
   "metadata": {
    "nbgrader": {
     "grade": false,
     "grade_id": "cell-0bff1a324f359386",
     "locked": true,
     "schema_version": 1,
     "solution": false
    }
   },
   "source": [
    "## Codio Activity 2.3: The Law of Large Numbers\n",
    "\n",
    "**Expected Time: 45 Minutes**\n",
    "\n",
    "**Total Points: 10**\n",
    "\n",
    "In this activity, you will draw increasingly sized samples from a given distribution.  These samples means will be tracked, and compared to that which is known from the larger distribution.  You are to use the `scipy.stats` module and its distribution objects to produce these distributions and their samples.\n",
    "\n",
    "## Index:\n",
    "\n",
    "- [Problem 1](#Problem-1:-A-Uniform-Distribution)\n",
    "- [Problem 2](#Problem-2:-Loop-of-Samples)\n",
    "- [Problem 3](#Problem-3:-Comparing-the-sample-means-to-actual)\n",
    "- [Problem 4](#Problem-4:-Distribution-of-Sample-Means)\n",
    "- [Problem 5](#Problem-5:-Repeat-with-Gaussian-Distribution)\n"
   ]
  },
  {
   "cell_type": "code",
   "execution_count": 126,
   "metadata": {
    "ExecuteTime": {
     "end_time": "2023-09-08T01:08:19.143573300Z",
     "start_time": "2023-09-08T01:08:18.998420Z"
    }
   },
   "outputs": [],
   "source": [
    "import numpy as np\n",
    "import pandas as pd\n",
    "import matplotlib.pyplot as plt\n",
    "from scipy.stats import uniform, norm"
   ]
  },
  {
   "cell_type": "markdown",
   "metadata": {
    "nbgrader": {
     "grade": false,
     "grade_id": "cell-0599760f8eb84292",
     "locked": true,
     "schema_version": 1,
     "solution": false
    }
   },
   "source": [
    "[Back to top](#Index:) \n",
    "\n",
    "### Problem 1: A Uniform Distribution\n",
    "\n",
    "**2 Points**\n",
    "\n",
    "\n",
    "Create a uniform distribution with `loc = 5` and `scale = 10`.  Assign your results as a distribution object to `dist1` below. Done correctly, this code will produce uniformly distributed points between 5 and 15 with mean at 10."
   ]
  },
  {
   "cell_type": "code",
   "execution_count": 127,
   "metadata": {
    "nbgrader": {
     "grade": false,
     "grade_id": "cell-e19a29726f7a7f59",
     "locked": false,
     "schema_version": 1,
     "solution": true
    },
    "ExecuteTime": {
     "end_time": "2023-09-08T01:08:19.256462400Z",
     "start_time": "2023-09-08T01:08:19.015881500Z"
    }
   },
   "outputs": [
    {
     "name": "stdout",
     "output_type": "stream",
     "text": [
      "<class 'scipy.stats._distn_infrastructure.rv_continuous_frozen'>\n"
     ]
    }
   ],
   "source": [
    "### GRADED\n",
    "\n",
    "dist1 = ''\n",
    "\n",
    "### BEGIN SOLUTION\n",
    "dist1 = uniform(loc = 5, scale = 10)\n",
    "### END SOLUTION\n",
    "\n",
    "# Answer check\n",
    "print(type(dist1))"
   ]
  },
  {
   "cell_type": "code",
   "execution_count": 128,
   "metadata": {
    "nbgrader": {
     "grade": true,
     "grade_id": "cell-9a4f21b04dc4095d",
     "locked": true,
     "points": 2,
     "schema_version": 1,
     "solution": false
    },
    "ExecuteTime": {
     "end_time": "2023-09-08T01:08:19.278178800Z",
     "start_time": "2023-09-08T01:08:19.028381100Z"
    }
   },
   "outputs": [],
   "source": [
    "### BEGIN HIDDEN TESTS\n",
    "dist1_ = uniform(loc = 5, scale = 10)\n",
    "#\n",
    "#\n",
    "#\n",
    "assert type(dist1_) == type(dist1)\n",
    "assert dist1.mean() == dist1_.mean(), 'Make sure the mean is 10.'\n",
    "### END HIDDEN TESTS"
   ]
  },
  {
   "cell_type": "markdown",
   "metadata": {
    "nbgrader": {
     "grade": false,
     "grade_id": "cell-715829a75ba9fccc",
     "locked": true,
     "schema_version": 1,
     "solution": false
    }
   },
   "source": [
    "###  Problem 2: Loop of Samples\n",
    "\n",
    "**2 Points**\n",
    "\n",
    "Now, you are to generate samples of size 1 - 500 using `dist1`'s `.rvs` method including the `random_state = 22`.  For each sample, append the sample mean to the list `sample_means`.  "
   ]
  },
  {
   "cell_type": "code",
   "execution_count": 129,
   "metadata": {
    "nbgrader": {
     "grade": false,
     "grade_id": "cell-e6ebb7028e816557",
     "locked": false,
     "schema_version": 1,
     "solution": true
    },
    "ExecuteTime": {
     "end_time": "2023-09-08T01:08:19.281168500Z",
     "start_time": "2023-09-08T01:08:19.044706500Z"
    }
   },
   "outputs": [
    {
     "name": "stdout",
     "output_type": "stream",
     "text": [
      "<class 'list'>\n",
      "[7.084605373588426, 8.450707995611044, 8.702265448121944, 9.924654082394818, 9.2820463731392] \n",
      " [9.917152492762177, 9.92702320427582, 9.923037839990696, 9.921343577252099, 9.926403777871194]\n"
     ]
    }
   ],
   "source": [
    "### GRADED\n",
    "\n",
    "sample_means = []\n",
    "\n",
    "#loop over values 1 - 500\n",
    "\n",
    "    #generate samples \n",
    "    #remember the random_state\n",
    "    \n",
    "    #find sample mean\n",
    "    \n",
    "    #append mean to sample_means\n",
    "\n",
    "### BEGIN SOLUTION\n",
    "#dist1 = uniform(loc = 5, scale = 10)\n",
    "sample_means = []\n",
    "for i in range(1, 501):\n",
    "    sample = dist1.rvs(i, random_state = 22)\n",
    "    sample_mean = np.mean(sample)\n",
    "    sample_means.append(sample_mean)\n",
    "### END SOLUTION\n",
    "\n",
    "# Answer check\n",
    "print(type(sample_means))\n",
    "print(sample_means[:5], '\\n', sample_means[-5:])"
   ]
  },
  {
   "cell_type": "code",
   "execution_count": 130,
   "metadata": {
    "nbgrader": {
     "grade": true,
     "grade_id": "cell-bc94c886e9ac3ab7",
     "locked": true,
     "points": 2,
     "schema_version": 1,
     "solution": false
    },
    "ExecuteTime": {
     "end_time": "2023-09-08T01:08:19.313551500Z",
     "start_time": "2023-09-08T01:08:19.151530300Z"
    }
   },
   "outputs": [],
   "source": [
    "### BEGIN HIDDEN TESTS\n",
    "dist1_ = uniform(loc = 5, scale = 10)\n",
    "sample_means_ = []\n",
    "for i in range(1, 501):\n",
    "    sample_ = dist1_.rvs(i, random_state = 22)\n",
    "    sample_mean_ = np.mean(sample_)\n",
    "    sample_means_.append(sample_mean_)\n",
    "#\n",
    "#\n",
    "#\n",
    "assert type(dist1_) == type(dist1)\n",
    "assert len(sample_means) == len(sample_means_), 'Make sure you have 500 sample means'\n",
    "assert sample_means == sample_means_, 'Make sure you have determined the mean of the samples.'\n",
    "### END HIDDEN TESTS"
   ]
  },
  {
   "cell_type": "markdown",
   "metadata": {
    "nbgrader": {
     "grade": false,
     "grade_id": "cell-6b3e8778dd9e4f7b",
     "locked": true,
     "schema_version": 1,
     "solution": false
    }
   },
   "source": [
    "### Problem 3: Comparing the sample means to actual\n",
    "\n",
    "**2 Points**\n",
    "\n",
    "Note that the actual mean of our data is 10.  The code below will generate a plot that compares the actual mean to the sampled means.  Do the sample means approximate the true mean with error less than .1 if the sample size is 400?  Assign your answer as a boolean value to `ans3` below -- True for yes, False for no.  Plot the results using the code below.\n",
    "\n",
    "```python\n",
    "plt.plot(range(1, 501), sample_means, label = 'sample mean', color = 'purple')\n",
    "plt.axhline(10, label = 'true mean', color = 'green')\n",
    "plt.xlabel('Sample Size')\n",
    "plt.legend();\n",
    "```"
   ]
  },
  {
   "cell_type": "code",
   "execution_count": 131,
   "metadata": {
    "nbgrader": {
     "grade": false,
     "grade_id": "cell-760f114b86f46710",
     "locked": false,
     "schema_version": 1,
     "solution": true
    },
    "ExecuteTime": {
     "end_time": "2023-09-08T01:08:19.313551500Z",
     "start_time": "2023-09-08T01:08:19.259753800Z"
    }
   },
   "outputs": [
    {
     "name": "stdout",
     "output_type": "stream",
     "text": [
      "<class 'numpy.bool_'>\n"
     ]
    }
   ],
   "source": [
    "### GRADED\n",
    "\n",
    "ans3 = ''\n",
    "\n",
    "### BEGIN SOLUTION\n",
    "ans3 = abs(sample_means[399] - 10) < .1\n",
    "### END SOLUTION\n",
    "\n",
    "# Answer check\n",
    "print(type(ans3))"
   ]
  },
  {
   "cell_type": "code",
   "execution_count": 132,
   "outputs": [
    {
     "data": {
      "text/plain": "9.0"
     },
     "execution_count": 132,
     "metadata": {},
     "output_type": "execute_result"
    }
   ],
   "source": [
    "sum(sample_means)//len(sample_means)"
   ],
   "metadata": {
    "collapsed": false,
    "ExecuteTime": {
     "end_time": "2023-09-08T01:08:19.396244200Z",
     "start_time": "2023-09-08T01:08:19.275179900Z"
    }
   }
  },
  {
   "cell_type": "code",
   "execution_count": 133,
   "metadata": {
    "nbgrader": {
     "grade": true,
     "grade_id": "cell-6594e29aae39c71d",
     "locked": true,
     "points": 2,
     "schema_version": 1,
     "solution": false
    },
    "ExecuteTime": {
     "end_time": "2023-09-08T01:08:19.405143400Z",
     "start_time": "2023-09-08T01:08:19.290893500Z"
    }
   },
   "outputs": [],
   "source": [
    "### BEGIN HIDDEN TESTS\n",
    "ans3_ = abs(sample_means[399] - 10) < .1\n",
    "#\n",
    "#\n",
    "#\n",
    "assert ans3_ == ans3, 'Check sample_means[399] against 10.'\n",
    "### END HIDDEN TESTS"
   ]
  },
  {
   "cell_type": "code",
   "execution_count": 143,
   "outputs": [
    {
     "data": {
      "text/plain": "<Figure size 640x480 with 1 Axes>",
      "image/png": "[encoded data removed]"
     },
     "metadata": {},
     "output_type": "display_data"
    }
   ],
   "source": [
    "plt.plot(range(1, 501), sample_means, label = 'sample mean', color = 'purple')\n",
    "plt.axhline(10.4, label = 'true mean', color = 'green')\n",
    "plt.xlabel('Sample Size')\n",
    "plt.legend();"
   ],
   "metadata": {
    "collapsed": false,
    "ExecuteTime": {
     "end_time": "2023-09-08T01:30:40.648586200Z",
     "start_time": "2023-09-08T01:30:40.503154700Z"
    }
   }
  },
  {
   "cell_type": "code",
   "execution_count": 144,
   "outputs": [
    {
     "data": {
      "text/plain": "[7.084605373588426,\n 8.450707995611044,\n 8.702265448121944,\n 9.924654082394818,\n 9.2820463731392,\n 9.133145245288835,\n 8.929171400673045,\n 9.30182666365091,\n 9.068739830620505,\n 9.47381676809714,\n 9.0766760385575,\n 9.204622782563542,\n 9.507133481916496,\n 9.717409873250201,\n 9.52899011854056,\n 9.249766277598088,\n 9.453923479765574,\n 9.738612268719306,\n 9.858652614625823,\n 9.764509117327057,\n 9.903338560290335,\n 9.993286046137417,\n 9.944527296471017,\n 9.994841086240166,\n 9.966069538728297,\n 9.9997936499914,\n 10.0748514847567,\n 9.933569350259559,\n 10.081815209162487,\n 10.24205012681151,\n 10.291471339975022,\n 10.37460185293132,\n 10.220546145066155,\n 10.119282749927658,\n 10.222996884294787,\n 10.284839214555658,\n 10.279327388007715,\n 10.174169799330608,\n 10.16567422459216,\n 10.165475740939737,\n 10.115406738337398,\n 10.00448313566241,\n 9.989886006945168,\n 9.898271463586878,\n 9.799467678153324,\n 9.844007232686321,\n 9.921622130971205,\n 9.845173166407923,\n 9.772631674687728,\n 9.771791041609104,\n 9.716963473962915,\n 9.776564705007267,\n 9.801047231920712,\n 9.794268596936423,\n 9.885650824006651,\n 9.925006240329058,\n 9.87697637916925,\n 9.821767872311604,\n 9.831359175001184,\n 9.803073320123044,\n 9.873766707889121,\n 9.809069773853691,\n 9.782588353609443,\n 9.742100623375599,\n 9.782478495249455,\n 9.83555311879826,\n 9.8745097085106,\n 9.828934130140745,\n 9.883363084175478,\n 9.81438824181634,\n 9.796952234148689,\n 9.862709598804242,\n 9.925107602393252,\n 9.861666825695659,\n 9.886580067623338,\n 9.843876952712373,\n 9.854752884535001,\n 9.823553867643499,\n 9.782477985036428,\n 9.785642362912947,\n 9.797152351818742,\n 9.795961763784996,\n 9.799404060665623,\n 9.78081015636147,\n 9.82885925514076,\n 9.801992927847833,\n 9.845888159994669,\n 9.863002634259216,\n 9.886701838363273,\n 9.835788883900975,\n 9.85488035798955,\n 9.91073192166781,\n 9.912395608052387,\n 9.959353713455458,\n 9.953550292104422,\n 9.922787127757287,\n 9.954908246874306,\n 9.986763474887653,\n 9.94224595206781,\n 9.971854096049016,\n 9.967186399917626,\n 10.001940532911382,\n 9.988564106789173,\n 9.960061339068567,\n 9.995888320553275,\n 10.005616543736945,\n 10.036578327208147,\n 9.99260377104778,\n 10.011414435588785,\n 10.035219387232779,\n 10.025527066893629,\n 9.997927384368797,\n 9.968646883671209,\n 10.00308821259316,\n 10.023143279273434,\n 10.056322564551579,\n 10.035930437215056,\n 10.049508937577547,\n 10.043629622719836,\n 10.044488417881402,\n 10.049525541327778,\n 10.010965087474228,\n 10.041151258396122,\n 10.028728702261903,\n 10.031610980076243,\n 9.992265564995567,\n 9.956811148401213,\n 9.991000264011813,\n 9.968752421259174,\n 9.986288225078596,\n 9.9786108460336,\n 9.99665778920443,\n 10.00804665299985,\n 10.039705657185483,\n 10.047864025849963,\n 10.013474738857656,\n 9.985316264899692,\n 10.00400558421386,\n 10.000507617733838,\n 10.007980780774243,\n 10.03371893516703,\n 10.033508341436361,\n 10.055438347086808,\n 10.06541022057944,\n 10.062103365605488,\n 10.04311396304032,\n 10.065694635950468,\n 10.065952301398076,\n 10.033745702177175,\n 10.010495187896487,\n 10.037490693023592,\n 10.006668837814091,\n 10.00476641565729,\n 9.977390113693502,\n 9.980107266804469,\n 9.992743685600873,\n 9.964252585956416,\n 9.99223562556304,\n 9.987937498858305,\n 10.017485613574873,\n 10.009705783920875,\n 10.014490592766384,\n 10.000723828869083,\n 9.981141084202289,\n 9.981961700535951,\n 10.012059177584298,\n 10.012485610269971,\n 10.002890258159054,\n 9.984403946438801,\n 9.957643775085645,\n 9.961054705010172,\n 9.960332058104092,\n 9.981329014362329,\n 9.97614346935045,\n 9.962635403529077,\n 9.99115037442486,\n 10.008067673277923,\n 9.983457099036848,\n 9.973259272516708,\n 9.95022895523354,\n 9.964068388708956,\n 9.950699843823577,\n 9.942821626234407,\n 9.951621283509203,\n 9.969971296039846,\n 9.982048140335136,\n 9.977110683214642,\n 9.99193662113125,\n 9.986059720693941,\n 9.994739255862326,\n 9.97811713470947,\n 9.99633506608866,\n 10.013639216521042,\n 10.011730342196868,\n 9.997567771896357,\n 9.972376074152997,\n 9.974577066303873,\n 9.975169989193365,\n 9.952516722555021,\n 9.956215902340396,\n 9.980357439639363,\n 9.995682722378376,\n 10.000150382182902,\n 10.014316839518903,\n 10.027778374655243,\n 10.025126582142637,\n 10.01994809879202,\n 10.026116159545902,\n 10.006787044634677,\n 9.992030324164915,\n 9.97242617833504,\n 9.996031919058893,\n 10.010471414994859,\n 10.008241107263657,\n 9.993344981923906,\n 9.970432461501039,\n 9.978924223648132,\n 9.976396203442276,\n 9.997324369316777,\n 9.998852666375894,\n 9.982294837237932,\n 9.988616137848263,\n 9.967776298041649,\n 9.968326317789765,\n 9.982907175968796,\n 9.980146911424256,\n 9.978873364013731,\n 9.997294570509807,\n 10.007072382373487,\n 10.009612518513135,\n 9.991140681930005,\n 10.00168920786126,\n 9.994863762773267,\n 10.010161209610782,\n 10.015036342185947,\n 10.01241265894261,\n 10.017529074514867,\n 10.002023618176885,\n 9.99723054344135,\n 10.015542501487564,\n 10.017137630395169,\n 10.018684676713287,\n 10.007896452602541,\n 10.01242291737298,\n 9.999824834620298,\n 10.018489785293449,\n 10.009114157047536,\n 10.012287962969385,\n 10.023236014980805,\n 10.03100011926361,\n 10.041466815738143,\n 10.044837286297978,\n 10.029638665717995,\n 10.036208187038968,\n 10.053893177657038,\n 10.040734774098748,\n 10.053001025217739,\n 10.049697071108396,\n 10.05048559218351,\n 10.044260151121113,\n 10.046889575613173,\n 10.0452557019914,\n 10.042849297167129,\n 10.041234848791529,\n 10.049695507102168,\n 10.05886562617609,\n 10.053750848709324,\n 10.038941385291736,\n 10.036603199418657,\n 10.026586351838809,\n 10.029948594034702,\n 10.045554575696078,\n 10.030699050892023,\n 10.015111539747233,\n 9.999956382480834,\n 9.995879282119951,\n 9.980475621304363,\n 9.965565148765018,\n 9.971032353005688,\n 9.974234061449879,\n 9.969758144171342,\n 9.974648387342386,\n 9.960428332731652,\n 9.964035547635959,\n 9.980923211748232,\n 9.993698963216525,\n 10.007121937231686,\n 9.998301530258216,\n 10.015549943353879,\n 10.012362875027197,\n 10.000003649390845,\n 9.9858073016177,\n 9.986154236199157,\n 9.98833252294793,\n 9.972605948675813,\n 9.976026522224563,\n 9.962115129451837,\n 9.95141618973974,\n 9.944430667798601,\n 9.947740333551119,\n 9.956278065172295,\n 9.963243115735727,\n 9.968990592002573,\n 9.966319219479518,\n 9.965570194520142,\n 9.968721754733936,\n 9.963971941871812,\n 9.975703374339504,\n 9.985644737854447,\n 9.979541435811115,\n 9.969849714502937,\n 9.973612541995463,\n 9.963077194020796,\n 9.977883379807865,\n 9.993540370601515,\n 9.978867250275874,\n 9.965791222489328,\n 9.976849175588397,\n 9.96266017546843,\n 9.94990439031371,\n 9.951945486267475,\n 9.943487471456141,\n 9.939305537035684,\n 9.9346160342747,\n 9.921342613555176,\n 9.915850179427972,\n 9.920415212264395,\n 9.921643509914757,\n 9.926186792858877,\n 9.923243796976218,\n 9.924578092080086,\n 9.915260485846071,\n 9.917290525865306,\n 9.918365804214153,\n 9.920980511787874,\n 9.919141402015105,\n 9.933417120706997,\n 9.919188032824447,\n 9.933886212616022,\n 9.934668497127657,\n 9.939052182074928,\n 9.940597327038489,\n 9.941245995148055,\n 9.943714807985081,\n 9.93416371316732,\n 9.927308571428963,\n 9.926135267678712,\n 9.924382239604165,\n 9.920656127138209,\n 9.923635989602511,\n 9.920161216584152,\n 9.912075861437591,\n 9.904081528459388,\n 9.897941248145402,\n 9.893257826692542,\n 9.884857295064682,\n 9.88813932451947,\n 9.894224559053582,\n 9.882726683672539,\n 9.886590378479731,\n 9.898550776969321,\n 9.90521532958547,\n 9.896014653140076,\n 9.884795121652997,\n 9.878335225825023,\n 9.87370464559584,\n 9.863390986699937,\n 9.86858909871338,\n 9.869072510790726,\n 9.85769802455071,\n 9.847625640102901,\n 9.84759833706604,\n 9.84926551473491,\n 9.855822111994199,\n 9.867334444636535,\n 9.865480458098988,\n 9.866102336677134,\n 9.87414975920849,\n 9.873809874066783,\n 9.872727425693345,\n 9.885405624790385,\n 9.88154228300491,\n 9.894424377800618,\n 9.884361885137576,\n 9.894831928643995,\n 9.886169640573597,\n 9.888866965457204,\n 9.895578355848803,\n 9.905793953663933,\n 9.903124400349828,\n 9.910961277565818,\n 9.906689090898029,\n 9.918919968722593,\n 9.912450927851454,\n 9.915142283920309,\n 9.91298755539244,\n 9.923228963469391,\n 9.933411207603427,\n 9.943546078005166,\n 9.942241690605716,\n 9.934963333426717,\n 9.93403790526186,\n 9.938738811754826,\n 9.927511675122343,\n 9.919118814092398,\n 9.908497926725525,\n 9.914582728753684,\n 9.925211806493982,\n 9.913374031735016,\n 9.924980309207129,\n 9.920898652968146,\n 9.909372856158011,\n 9.901424778787794,\n 9.908505027992204,\n 9.907388783832463,\n 9.902314743239856,\n 9.90165708030296,\n 9.894672633324328,\n 9.89847551925468,\n 9.887608695646634,\n 9.895698280590501,\n 9.88989224902957,\n 9.89723557941248,\n 9.903503668232306,\n 9.912155428359508,\n 9.916751009494591,\n 9.918228624801822,\n 9.927352698937858,\n 9.938827005303551,\n 9.943462980955223,\n 9.94278428814203,\n 9.939927196550244,\n 9.938715169895252,\n 9.939906577210733,\n 9.929943335067453,\n 9.93322607779013,\n 9.94213542445987,\n 9.934563886490862,\n 9.941864498365186,\n 9.951652448073574,\n 9.953408536882387,\n 9.959016793903283,\n 9.963214042033986,\n 9.952961636361156,\n 9.942556468245746,\n 9.948449418623348,\n 9.950016561351568,\n 9.948999915872633,\n 9.93945334098926,\n 9.945621476230562,\n 9.94009016008137,\n 9.945627025218327,\n 9.936759651653533,\n 9.926248220743988,\n 9.933676963219268,\n 9.928136146198646,\n 9.92161072746881,\n 9.916503415393127,\n 9.916326524957189,\n 9.92512575024123,\n 9.931220273668737,\n 9.920901277048857,\n 9.927982016285174,\n 9.931462976828971,\n 9.941753168056554,\n 9.934155770083342,\n 9.923895427483249,\n 9.934628251431231,\n 9.942909419568482,\n 9.934889734981423,\n 9.942837417574491,\n 9.93276863464392,\n 9.937003694646387,\n 9.935362317632306,\n 9.931296203480574,\n 9.936116830986954,\n 9.937607094786681,\n 9.930736064422174,\n 9.923497095928248,\n 9.928788879909757,\n 9.922647405150386,\n 9.914670665400081,\n 9.923440793453922,\n 9.91936936079812,\n 9.928488780728394,\n 9.921043450337057,\n 9.922565012316978,\n 9.923841830489359,\n 9.925025591849211,\n 9.91619243406882,\n 9.917542830857712,\n 9.908194716911572,\n 9.913884841624572,\n 9.913034712198794,\n 9.910467988467706,\n 9.917152492762177,\n 9.92702320427582,\n 9.923037839990696,\n 9.921343577252099,\n 9.926403777871194]"
     },
     "execution_count": 144,
     "metadata": {},
     "output_type": "execute_result"
    }
   ],
   "source": [
    "sample_means"
   ],
   "metadata": {
    "collapsed": false,
    "ExecuteTime": {
     "end_time": "2023-09-08T01:31:16.392396900Z",
     "start_time": "2023-09-08T01:31:16.355456400Z"
    }
   }
  },
  {
   "cell_type": "markdown",
   "metadata": {
    "nbgrader": {
     "grade": false,
     "grade_id": "cell-6860b63501e42b25",
     "locked": true,
     "schema_version": 1,
     "solution": false
    }
   },
   "source": [
    "### Problem 4: Distribution of Sample Means\n",
    "\n",
    "**2 Points**\n",
    "\n",
    "As you notice in the plot above, there is larger variation in the small sample sizes.  As the lectures suggest, consider only those samples of size 30 or more and compute their mean and standard deviation.  Assign the samples as a list to `samples_30_or_more` below and compute the mean of these samples and thier standard deviation.  Assign the mean and deviation to `samples_mean` and `samples_std` below.  Uncomment the code to see a histogram of these sample means.  \n",
    "\n",
    "HINT: remember that Python starts counting at 0, so using 'sample_means[30:]' is actually incorrect."
   ]
  },
  {
   "cell_type": "code",
   "execution_count": 135,
   "metadata": {
    "nbgrader": {
     "grade": false,
     "grade_id": "cell-6b84832c8690fe91",
     "locked": false,
     "schema_version": 1,
     "solution": true
    },
    "ExecuteTime": {
     "end_time": "2023-09-08T01:08:19.605155Z",
     "start_time": "2023-09-08T01:08:19.449916600Z"
    }
   },
   "outputs": [
    {
     "name": "stdout",
     "output_type": "stream",
     "text": [
      "<class 'list'>\n",
      "9.955489061213552\n",
      "0.07692775219192274\n"
     ]
    },
    {
     "data": {
      "text/plain": "<Figure size 640x480 with 1 Axes>",
      "image/png": "[encoded data removed]"
     },
     "metadata": {},
     "output_type": "display_data"
    }
   ],
   "source": [
    "### GRADED\n",
    "\n",
    "samples_30_or_more = ''\n",
    "samples_mean = ''\n",
    "samples_std = ''\n",
    "\n",
    "### BEGIN SOLUTION\n",
    "samples_30_or_more = sample_means[29:]\n",
    "samples_mean = np.mean(samples_30_or_more)\n",
    "samples_std = np.std(samples_30_or_more)\n",
    "### END SOLUTION\n",
    "\n",
    "\n",
    "plt.hist(samples_30_or_more, edgecolor = 'black', alpha = 0.3)\n",
    "plt.title('Distribution of Sample Means');\n",
    "\n",
    "# Answer check\n",
    "print(type(samples_30_or_more))\n",
    "print(samples_mean)\n",
    "print(samples_std)"
   ]
  },
  {
   "cell_type": "code",
   "execution_count": 136,
   "outputs": [
    {
     "data": {
      "text/plain": "471"
     },
     "execution_count": 136,
     "metadata": {},
     "output_type": "execute_result"
    }
   ],
   "source": [
    "len(sample_means[29:])"
   ],
   "metadata": {
    "collapsed": false,
    "ExecuteTime": {
     "end_time": "2023-09-08T01:08:19.664148500Z",
     "start_time": "2023-09-08T01:08:19.606651500Z"
    }
   }
  },
  {
   "cell_type": "code",
   "execution_count": 137,
   "outputs": [
    {
     "data": {
      "text/plain": "-20.073596222128806"
     },
     "execution_count": 137,
     "metadata": {},
     "output_type": "execute_result"
    }
   ],
   "source": [
    "sample_means[-1]-30"
   ],
   "metadata": {
    "collapsed": false,
    "ExecuteTime": {
     "end_time": "2023-09-08T01:08:19.673651700Z",
     "start_time": "2023-09-08T01:08:19.620713200Z"
    }
   }
  },
  {
   "cell_type": "code",
   "execution_count": 138,
   "metadata": {
    "nbgrader": {
     "grade": true,
     "grade_id": "cell-f6ed5c17860c5ee5",
     "locked": true,
     "points": 2,
     "schema_version": 1,
     "solution": false
    },
    "ExecuteTime": {
     "end_time": "2023-09-08T01:08:19.675158100Z",
     "start_time": "2023-09-08T01:08:19.635509800Z"
    }
   },
   "outputs": [],
   "source": [
    "### BEGIN HIDDEN TESTS\n",
    "samples_30_or_more_ = sample_means_[29:]\n",
    "samples_mean_ = np.mean(samples_30_or_more_)\n",
    "samples_std_ = np.std(samples_30_or_more_)\n",
    "#\n",
    "#\n",
    "#\n",
    "assert samples_30_or_more == samples_30_or_more_, 'Samples of 30 or more.'\n",
    "assert samples_mean == samples_mean_\n",
    "assert samples_std_ == samples_std\n",
    "### END HIDDEN TESTS"
   ]
  },
  {
   "cell_type": "markdown",
   "metadata": {
    "nbgrader": {
     "grade": false,
     "grade_id": "cell-81d097c21d8b29eb",
     "locked": true,
     "schema_version": 1,
     "solution": false
    }
   },
   "source": [
    "### Problem 5: Repeat with Gaussian Distribution\n",
    "\n",
    "**2 Points**\n",
    "\n",
    "Now, you are to repeat the above exercise using samples from a Normal distribution centered at 5 with standard deviation 10.  Draw samples size 30 - 500 and examine their mean and deviation.  Assign the ditribution object to `gauss_dist`, the sample to the list `sample_means_gauss`, the sample mean to `gauss_mean` and standard deviation to `gauss_standard_deviation` below. Use `random_state = 22`"
   ]
  },
  {
   "cell_type": "code",
   "execution_count": 139,
   "metadata": {
    "nbgrader": {
     "grade": false,
     "grade_id": "cell-66731bec3448d1a4",
     "locked": false,
     "schema_version": 1,
     "solution": true
    },
    "ExecuteTime": {
     "end_time": "2023-09-08T01:08:19.749612Z",
     "start_time": "2023-09-08T01:08:19.652297400Z"
    }
   },
   "outputs": [
    {
     "name": "stdout",
     "output_type": "stream",
     "text": [
      "<class 'list'>\n",
      "[5.711989769815023, 6.495208371007466, 5.670348611610735, 5.578864596890512, 5.5331440323908465] \n",
      " [5.85212242634483, 5.842782955969858, 5.840843359217326, 5.834153785572032, 5.841178380882507]\n",
      "5.568508473194311\n",
      "0.5371819419572758\n"
     ]
    }
   ],
   "source": [
    "### GRADED\n",
    "\n",
    "gauss_dist = ''\n",
    "sample_means_gauss = []\n",
    "\n",
    "#create the distribution object\n",
    "\n",
    "#loop over values 30 - 500\n",
    "\n",
    "    #generate samples \n",
    "    #remember the random_state\n",
    "    \n",
    "    #find sample mean\n",
    "    \n",
    "    #append mean to sample_means\n",
    "\n",
    "gauss_mean = ''\n",
    "gauss_standard_deviation = ''\n",
    "\n",
    "\n",
    "### BEGIN SOLUTION\n",
    "gauss_dist = norm(loc = 5, scale = 10)\n",
    "sample_means_gauss = []\n",
    "for i in range(30, 501):\n",
    "    sample = gauss_dist.rvs(i, random_state = 22)\n",
    "    sample_mean = np.mean(sample)\n",
    "    sample_means_gauss.append(sample_mean)\n",
    "    \n",
    "gauss_mean = np.mean(sample_means_gauss)\n",
    "gauss_standard_deviation = np.std(sample_means_gauss)\n",
    "### END SOLUTION\n",
    "\n",
    "# Answer check\n",
    "print(type(sample_means_gauss))\n",
    "print(sample_means_gauss[:5], '\\n', sample_means_gauss[-5:])\n",
    "print(gauss_mean)\n",
    "print(gauss_standard_deviation)"
   ]
  },
  {
   "cell_type": "code",
   "execution_count": 140,
   "metadata": {
    "nbgrader": {
     "grade": true,
     "grade_id": "cell-19ef7e3915134b47",
     "locked": true,
     "points": 2,
     "schema_version": 1,
     "solution": false
    },
    "ExecuteTime": {
     "end_time": "2023-09-08T01:08:19.836095500Z",
     "start_time": "2023-09-08T01:08:19.752755400Z"
    }
   },
   "outputs": [],
   "source": [
    "### BEGIN HIDDEN TESTS\n",
    "gauss_dist_ = norm(loc = 5, scale = 10)\n",
    "sample_means_gauss_ = []\n",
    "for i in range(30, 501):\n",
    "    sample_ = gauss_dist_.rvs(i, random_state = 22)\n",
    "    sample_mean_ = np.mean(sample_)\n",
    "    sample_means_gauss_.append(sample_mean_)\n",
    "    \n",
    "gauss_mean_ = np.mean(sample_means_gauss_)\n",
    "gauss_standard_deviation_ = np.std(sample_means_gauss_)\n",
    "#\n",
    "#\n",
    "#\n",
    "assert gauss_mean_ == gauss_mean, 'Check that youve computed the sample means'\n",
    "assert gauss_standard_deviation == gauss_standard_deviation_, 'Standard Deviations do not match'\n",
    "assert type(gauss_dist) == type(gauss_dist_)\n",
    "### END HIDDEN TESTS"
   ]
  },
  {
   "cell_type": "code",
   "execution_count": 140,
   "outputs": [],
   "source": [],
   "metadata": {
    "collapsed": false,
    "ExecuteTime": {
     "end_time": "2023-09-08T01:08:19.852803Z",
     "start_time": "2023-09-08T01:08:19.837091800Z"
    }
   }
  }
 ],
 "metadata": {
  "celltoolbar": "Create Assignment",
  "kernelspec": {
   "display_name": "Python 3 (ipykernel)",
   "language": "python",
   "name": "python3"
  },
  "language_info": {
   "codemirror_mode": {
    "name": "ipython",
    "version": 3
   },
   "file_extension": ".py",
   "mimetype": "text/x-python",
   "name": "python",
   "nbconvert_exporter": "python",
   "pygments_lexer": "ipython3",
   "version": "3.9.9"
  }
 },
 "nbformat": 4,
 "nbformat_minor": 2
}
