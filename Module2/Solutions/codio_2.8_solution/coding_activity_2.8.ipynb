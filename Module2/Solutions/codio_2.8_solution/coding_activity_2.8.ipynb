{
 "cells": [
  {
   "cell_type": "markdown",
   "metadata": {
    "nbgrader": {
     "grade": false,
     "grade_id": "cell-06613f3a45089772",
     "locked": true,
     "schema_version": 1,
     "solution": false
    }
   },
   "source": [
    "### Codio Activity 2.8: Histograms and Conditional Probability Distributions\n",
    "\n",
    "**Expected Time: 45 Minutes**\n",
    "\n",
    "**Total Points: 20**\n",
    "\n",
    "This assignment uses `pandas` and `seaborn` to plot distributions of data conditioned on categorical features.  \n",
    "\n",
    "#### Index:\n",
    "\n",
    "- [Question 1](#Problem-1:-Conditional-Probabilities-with-`pandas`)\n",
    "- [Question 2](#Problem-2:-$P(age->-40-|-class-=-~--'Second')$)\n",
    "- [Question 3](#Problem-3:-Visualizing-the-Conditional-Probability)\n",
    "- [Question 4](#Problem-4:-$P(\\text{over 30}-|-\\text{survived})$)\n",
    "- [Question 5](#Problem-5:-Distribution-of-Ages-for-Survived-and-Not-Survived)\n",
    "- [Question 6](#Problem-6:-Which-is-more-likely?)\n"
   ]
  },
  {
   "cell_type": "code",
   "execution_count": 2,
   "metadata": {
    "nbgrader": {
     "grade": false,
     "grade_id": "cell-513465b08c79e5fe",
     "locked": true,
     "schema_version": 1,
     "solution": false
    },
    "ExecuteTime": {
     "end_time": "2023-09-12T11:44:14.249384400Z",
     "start_time": "2023-09-12T11:44:14.154477Z"
    }
   },
   "outputs": [],
   "source": [
    "import pandas as pd\n",
    "import seaborn as sns\n",
    "import numpy as np"
   ]
  },
  {
   "cell_type": "markdown",
   "metadata": {
    "nbgrader": {
     "grade": false,
     "grade_id": "cell-d2027291102d10e9",
     "locked": true,
     "schema_version": 1,
     "solution": false
    }
   },
   "source": [
    "### The Dataset\n",
    "\n",
    "For this assignment the dataset from `seaborn` relating to the titanic will be used.  This dataset contains specific information for each passenger on the titanic cruise ship.  Below the data is loaded, the first five rows displayed, and information on features displayed.  \n",
    "\n"
   ]
  },
  {
   "cell_type": "code",
   "execution_count": 3,
   "metadata": {
    "nbgrader": {
     "grade": false,
     "grade_id": "cell-6d7905e41a78705f",
     "locked": true,
     "schema_version": 1,
     "solution": false
    },
    "ExecuteTime": {
     "end_time": "2023-09-12T11:44:14.361953500Z",
     "start_time": "2023-09-12T11:44:14.167969100Z"
    }
   },
   "outputs": [],
   "source": [
    "titanic = sns.load_dataset('titanic')"
   ]
  },
  {
   "cell_type": "code",
   "execution_count": 4,
   "metadata": {
    "nbgrader": {
     "grade": false,
     "grade_id": "cell-a32f42b473098325",
     "locked": true,
     "schema_version": 1,
     "solution": false
    },
    "ExecuteTime": {
     "end_time": "2023-09-12T11:44:14.382051200Z",
     "start_time": "2023-09-12T11:44:14.198865Z"
    }
   },
   "outputs": [
    {
     "data": {
      "text/plain": "   survived  pclass     sex   age  sibsp  parch     fare embarked  class  \\\n0         0       3    male  22.0      1      0   7.2500        S  Third   \n1         1       1  female  38.0      1      0  71.2833        C  First   \n2         1       3  female  26.0      0      0   7.9250        S  Third   \n3         1       1  female  35.0      1      0  53.1000        S  First   \n4         0       3    male  35.0      0      0   8.0500        S  Third   \n\n     who  adult_male deck  embark_town alive  alone  \n0    man        True  NaN  Southampton    no  False  \n1  woman       False    C    Cherbourg   yes  False  \n2  woman       False  NaN  Southampton   yes   True  \n3  woman       False    C  Southampton   yes  False  \n4    man        True  NaN  Southampton    no   True  ",
      "text/html": "<div>\n<style scoped>\n    .dataframe tbody tr th:only-of-type {\n        vertical-align: middle;\n    }\n\n    .dataframe tbody tr th {\n        vertical-align: top;\n    }\n\n    .dataframe thead th {\n        text-align: right;\n    }\n</style>\n<table border=\"1\" class=\"dataframe\">\n  <thead>\n    <tr style=\"text-align: right;\">\n      <th></th>\n      <th>survived</th>\n      <th>pclass</th>\n      <th>sex</th>\n      <th>age</th>\n      <th>sibsp</th>\n      <th>parch</th>\n      <th>fare</th>\n      <th>embarked</th>\n      <th>class</th>\n      <th>who</th>\n      <th>adult_male</th>\n      <th>deck</th>\n      <th>embark_town</th>\n      <th>alive</th>\n      <th>alone</th>\n    </tr>\n  </thead>\n  <tbody>\n    <tr>\n      <th>0</th>\n      <td>0</td>\n      <td>3</td>\n      <td>male</td>\n      <td>22.0</td>\n      <td>1</td>\n      <td>0</td>\n      <td>7.2500</td>\n      <td>S</td>\n      <td>Third</td>\n      <td>man</td>\n      <td>True</td>\n      <td>NaN</td>\n      <td>Southampton</td>\n      <td>no</td>\n      <td>False</td>\n    </tr>\n    <tr>\n      <th>1</th>\n      <td>1</td>\n      <td>1</td>\n      <td>female</td>\n      <td>38.0</td>\n      <td>1</td>\n      <td>0</td>\n      <td>71.2833</td>\n      <td>C</td>\n      <td>First</td>\n      <td>woman</td>\n      <td>False</td>\n      <td>C</td>\n      <td>Cherbourg</td>\n      <td>yes</td>\n      <td>False</td>\n    </tr>\n    <tr>\n      <th>2</th>\n      <td>1</td>\n      <td>3</td>\n      <td>female</td>\n      <td>26.0</td>\n      <td>0</td>\n      <td>0</td>\n      <td>7.9250</td>\n      <td>S</td>\n      <td>Third</td>\n      <td>woman</td>\n      <td>False</td>\n      <td>NaN</td>\n      <td>Southampton</td>\n      <td>yes</td>\n      <td>True</td>\n    </tr>\n    <tr>\n      <th>3</th>\n      <td>1</td>\n      <td>1</td>\n      <td>female</td>\n      <td>35.0</td>\n      <td>1</td>\n      <td>0</td>\n      <td>53.1000</td>\n      <td>S</td>\n      <td>First</td>\n      <td>woman</td>\n      <td>False</td>\n      <td>C</td>\n      <td>Southampton</td>\n      <td>yes</td>\n      <td>False</td>\n    </tr>\n    <tr>\n      <th>4</th>\n      <td>0</td>\n      <td>3</td>\n      <td>male</td>\n      <td>35.0</td>\n      <td>0</td>\n      <td>0</td>\n      <td>8.0500</td>\n      <td>S</td>\n      <td>Third</td>\n      <td>man</td>\n      <td>True</td>\n      <td>NaN</td>\n      <td>Southampton</td>\n      <td>no</td>\n      <td>True</td>\n    </tr>\n  </tbody>\n</table>\n</div>"
     },
     "execution_count": 4,
     "metadata": {},
     "output_type": "execute_result"
    }
   ],
   "source": [
    "titanic.head()"
   ]
  },
  {
   "cell_type": "code",
   "execution_count": 5,
   "metadata": {
    "nbgrader": {
     "grade": false,
     "grade_id": "cell-eac91a2d03dd8704",
     "locked": true,
     "schema_version": 1,
     "solution": false
    },
    "ExecuteTime": {
     "end_time": "2023-09-12T11:44:14.382051200Z",
     "start_time": "2023-09-12T11:44:14.231457800Z"
    }
   },
   "outputs": [
    {
     "name": "stdout",
     "output_type": "stream",
     "text": [
      "<class 'pandas.core.frame.DataFrame'>\n",
      "RangeIndex: 891 entries, 0 to 890\n",
      "Data columns (total 15 columns):\n",
      " #   Column       Non-Null Count  Dtype   \n",
      "---  ------       --------------  -----   \n",
      " 0   survived     891 non-null    int64   \n",
      " 1   pclass       891 non-null    int64   \n",
      " 2   sex          891 non-null    object  \n",
      " 3   age          714 non-null    float64 \n",
      " 4   sibsp        891 non-null    int64   \n",
      " 5   parch        891 non-null    int64   \n",
      " 6   fare         891 non-null    float64 \n",
      " 7   embarked     889 non-null    object  \n",
      " 8   class        891 non-null    category\n",
      " 9   who          891 non-null    object  \n",
      " 10  adult_male   891 non-null    bool    \n",
      " 11  deck         203 non-null    category\n",
      " 12  embark_town  889 non-null    object  \n",
      " 13  alive        891 non-null    object  \n",
      " 14  alone        891 non-null    bool    \n",
      "dtypes: bool(2), category(2), float64(2), int64(4), object(5)\n",
      "memory usage: 80.7+ KB\n"
     ]
    }
   ],
   "source": [
    "titanic.info()"
   ]
  },
  {
   "cell_type": "markdown",
   "metadata": {
    "nbgrader": {
     "grade": false,
     "grade_id": "cell-03fbbbd76c52b364",
     "locked": true,
     "schema_version": 1,
     "solution": false
    }
   },
   "source": [
    "[Back to top](#Index:) \n",
    "\n",
    "### Problem 1: Conditional Probabilities with `pandas`\n",
    "\n",
    "**3 Points**\n",
    "\n",
    "Using the titanic data, conditional probabilities can be calculated by subsetting the data to the condition of interest and comparing the outcomes within this criteria.  For example, what is the probability given that someone is in first class that they are over the age of 40? \n",
    "\n",
    "To compute this, assign the following objects to the specified variable:\n",
    "\n",
    "```python\n",
    "first_class = #how many people in first class\n",
    "first_class_over_40 = #how many people in first class were over the age of 40?\n",
    "p_over_40_given_first_class = #p(age > 40 | class = First)\n",
    "```"
   ]
  },
  {
   "cell_type": "code",
   "execution_count": 6,
   "metadata": {
    "nbgrader": {
     "grade": false,
     "grade_id": "cell-bb5bface46609af6",
     "locked": false,
     "schema_version": 1,
     "solution": true
    },
    "ExecuteTime": {
     "end_time": "2023-09-12T11:44:14.384226100Z",
     "start_time": "2023-09-12T11:44:14.249384400Z"
    }
   },
   "outputs": [
    {
     "name": "stdout",
     "output_type": "stream",
     "text": [
      "0.35185185185185186\n"
     ]
    }
   ],
   "source": [
    "### GRADED\n",
    "\n",
    "first_class = ''\n",
    "first_class_over_40 = ''\n",
    "p_over_40_given_first_class = ''\n",
    "\n",
    "### BEGIN SOLUTION\n",
    "first_class = titanic.loc[titanic['class'] == 'First'].shape[0]\n",
    "first_class_over_40 = titanic.loc[(titanic['age'] > 40) & (titanic['class'] == 'First')].shape[0]\n",
    "p_over_40_given_first_class = first_class_over_40/first_class\n",
    "### END SOLUTION\n",
    "\n",
    "# Answer check\n",
    "print(p_over_40_given_first_class)"
   ]
  },
  {
   "cell_type": "code",
   "execution_count": 7,
   "metadata": {
    "nbgrader": {
     "grade": true,
     "grade_id": "cell-0785a8865ff83658",
     "locked": true,
     "points": 3,
     "schema_version": 1,
     "solution": false
    },
    "ExecuteTime": {
     "end_time": "2023-09-12T11:44:14.385229600Z",
     "start_time": "2023-09-12T11:44:14.262349700Z"
    }
   },
   "outputs": [],
   "source": [
    "### BEGIN HIDDEN TESTS\n",
    "titanic_ = sns.load_dataset('titanic')\n",
    "first_class_ = titanic_.loc[titanic_['class'] == 'First'].shape[0]\n",
    "first_class_over_40_ = titanic_.loc[(titanic_['age'] > 40) & (titanic_['class'] == 'First')].shape[0]\n",
    "p_over_40_given_first_class_ = first_class_over_40/first_class\n",
    "\n",
    "\n",
    "\n",
    "assert first_class == first_class_, 'Check the first class'\n",
    "assert first_class_over_40 == first_class_over_40_, 'Check the first class over 40'\n",
    "assert p_over_40_given_first_class == p_over_40_given_first_class_, 'Check the quotient of prior two...'\n",
    "### END HIDDEN TESTS"
   ]
  },
  {
   "cell_type": "markdown",
   "metadata": {
    "nbgrader": {
     "grade": false,
     "grade_id": "cell-09894f6fddbf1e37",
     "locked": true,
     "schema_version": 1,
     "solution": false
    }
   },
   "source": [
    "[Back to top](#Index:) \n",
    "\n",
    "### Problem 2: $P(age > 40 | class = ~  'Second')$\n",
    "\n",
    "**3 Points**\n",
    "\n",
    "Now compute the probability that a passenger is over the age of 40 given that the passenger was in second class.  Again there are three values to compute:\n",
    "\n",
    "- Number of passengers in second class (second_class)\n",
    "- Number of passengers in second class over the age of 40\n",
    "- Probability a passenger is over the age of 40 given they are in second class\n"
   ]
  },
  {
   "cell_type": "code",
   "execution_count": 8,
   "metadata": {
    "nbgrader": {
     "grade": false,
     "grade_id": "cell-a874935c2eb9a5ef",
     "locked": false,
     "schema_version": 1,
     "solution": true
    },
    "ExecuteTime": {
     "end_time": "2023-09-12T11:44:14.385229600Z",
     "start_time": "2023-09-12T11:44:14.281277900Z"
    }
   },
   "outputs": [
    {
     "name": "stdout",
     "output_type": "stream",
     "text": [
      "0.18478260869565216\n"
     ]
    }
   ],
   "source": [
    "### GRADED\n",
    "\n",
    "second_class = ''\n",
    "second_class_over_40 = ''\n",
    "p_over_40_given_second_class = ''\n",
    "\n",
    "### BEGIN SOLUTION\n",
    "second_class = titanic.loc[titanic['class'] == 'Second'].shape[0]\n",
    "second_class_over_40 = titanic.loc[(titanic['age'] > 40) & (titanic['class'] == 'Second')].shape[0]\n",
    "p_over_40_given_second_class = second_class_over_40/second_class\n",
    "### END SOLUTION\n",
    "\n",
    "# Answer check\n",
    "print(p_over_40_given_second_class)"
   ]
  },
  {
   "cell_type": "code",
   "execution_count": 9,
   "metadata": {
    "nbgrader": {
     "grade": true,
     "grade_id": "cell-92ce1ceba2fc1d52",
     "locked": true,
     "points": 3,
     "schema_version": 1,
     "solution": false
    },
    "ExecuteTime": {
     "end_time": "2023-09-12T11:44:14.385229600Z",
     "start_time": "2023-09-12T11:44:14.294234700Z"
    }
   },
   "outputs": [],
   "source": [
    "### BEGIN HIDDEN TESTS\n",
    "titanic_ = sns.load_dataset('titanic')\n",
    "second_class_ = titanic_.loc[titanic_['class'] == 'Second'].shape[0]\n",
    "second_class_over_40_ = titanic_.loc[(titanic_['age'] > 40) & (titanic_['class'] == 'Second')].shape[0]\n",
    "p_over_40_given_second_class_ = second_class_over_40/second_class\n",
    "\n",
    "\n",
    "\n",
    "assert second_class == second_class_, 'Check the second class'\n",
    "assert second_class_over_40 == second_class_over_40_, 'Check the second class over 40'\n",
    "assert p_over_40_given_second_class == p_over_40_given_second_class_, 'Check the quotient of prior two...'\n",
    "### END HIDDEN TESTS"
   ]
  },
  {
   "cell_type": "markdown",
   "metadata": {
    "nbgrader": {
     "grade": false,
     "grade_id": "cell-1ea2335b5ec22847",
     "locked": true,
     "schema_version": 1,
     "solution": false
    }
   },
   "source": [
    "[Back to top](#Index:) \n",
    "\n",
    "### Problem 3: Visualizing the Conditional Probability\n",
    "\n",
    "**4 Points**\n",
    "\n",
    "\n",
    "To visualize the earlier conditional probabilities, draw a plot containing a histogram of the age distribution of passengers in first and second class. Follow the hints below for one approach and use `sns.histplot()` function for drawing the histograms."
   ]
  },
  {
   "cell_type": "code",
   "execution_count": 10,
   "metadata": {
    "nbgrader": {
     "grade": false,
     "grade_id": "cell-dbe61fd0af740b03",
     "locked": false,
     "schema_version": 1,
     "solution": true
    },
    "ExecuteTime": {
     "end_time": "2023-09-12T11:44:14.724513800Z",
     "start_time": "2023-09-12T11:44:14.309187300Z"
    }
   },
   "outputs": [
    {
     "data": {
      "text/plain": "<Axes: xlabel='age', ylabel='Count'>"
     },
     "execution_count": 10,
     "metadata": {},
     "output_type": "execute_result"
    },
    {
     "data": {
      "text/plain": "<Figure size 640x480 with 1 Axes>",
      "image/png": "[encoded data removed]"
     },
     "metadata": {},
     "output_type": "display_data"
    }
   ],
   "source": [
    "### GRADED\n",
    "\n",
    "first_class = ''\n",
    "second_class = ''\n",
    "\n",
    "#histogram of first class\n",
    "\n",
    "#histogram of second class\n",
    "\n",
    "### BEGIN SOLUTION\n",
    "first_class = titanic.loc[titanic['class'] == 'First']['age']\n",
    "second_class = titanic.loc[titanic['class'] == 'Second']['age']\n",
    "sns.histplot(first_class, color = 'orange', alpha = 0.7)\n",
    "sns.histplot(second_class, color = 'lightblue', alpha = 0.7)\n",
    "### END SOLUTION"
   ]
  },
  {
   "cell_type": "code",
   "execution_count": 11,
   "metadata": {
    "nbgrader": {
     "grade": true,
     "grade_id": "cell-adda38c44d5f6a81",
     "locked": true,
     "points": 4,
     "schema_version": 1,
     "solution": false
    },
    "ExecuteTime": {
     "end_time": "2023-09-12T11:44:14.724513800Z",
     "start_time": "2023-09-12T11:44:14.641121Z"
    }
   },
   "outputs": [],
   "source": [
    "### BEGIN HIDDEN TESTS\n",
    "titanic_ = sns.load_dataset('titanic')\n",
    "first_class_ = titanic_.loc[titanic_['class'] == 'First']['age']\n",
    "second_class_ = titanic_.loc[titanic_['class'] == 'Second']['age']\n",
    "\n",
    "\n",
    "\n",
    "pd.testing.assert_series_equal(first_class, first_class_)\n",
    "pd.testing.assert_series_equal(second_class, second_class_)\n",
    "### END HIDDEN TESTS"
   ]
  },
  {
   "cell_type": "markdown",
   "metadata": {
    "nbgrader": {
     "grade": false,
     "grade_id": "cell-8f478a1bb6a7401a",
     "locked": true,
     "schema_version": 1,
     "solution": false
    }
   },
   "source": [
    "[Back to top](#Index:) \n",
    "\n",
    "### Problem 4: $P(\\text{over 30} | \\text{survived})$\n",
    "\n",
    "**4 Points**\n",
    "\n",
    "\n",
    "Compute the probability given that a passenger survived, they were over the age of 30.  Again, determine the following:\n",
    "\n",
    "- Number of passengers in survived\n",
    "- Number of passengers in who survived over the age of 30\n",
    "- $P(\\text{over 30} | \\text{survived})$\n"
   ]
  },
  {
   "cell_type": "code",
   "execution_count": 12,
   "metadata": {
    "nbgrader": {
     "grade": false,
     "grade_id": "cell-9de7f333272022ac",
     "locked": false,
     "schema_version": 1,
     "solution": true
    },
    "ExecuteTime": {
     "end_time": "2023-09-12T11:44:14.725510400Z",
     "start_time": "2023-09-12T11:44:14.667693400Z"
    }
   },
   "outputs": [
    {
     "name": "stdout",
     "output_type": "stream",
     "text": [
      "0.36257309941520466\n"
     ]
    }
   ],
   "source": [
    "### GRADED\n",
    "\n",
    "num_survived = ''\n",
    "survived_over_30 = ''\n",
    "p_over_30_given_survived = ''\n",
    "\n",
    "### BEGIN SOLUTION\n",
    "num_survived = titanic.loc[titanic['survived'] == 1].shape[0]\n",
    "survived_over_30 = titanic.loc[(titanic['age'] > 30) & (titanic['survived'] == 1)].shape[0]\n",
    "p_over_30_given_survived = survived_over_30/num_survived\n",
    "### END SOLUTION\n",
    "\n",
    "# Answer check\n",
    "print(p_over_30_given_survived)"
   ]
  },
  {
   "cell_type": "code",
   "execution_count": 13,
   "metadata": {
    "nbgrader": {
     "grade": true,
     "grade_id": "cell-ae60469c77bdb37e",
     "locked": true,
     "points": 4,
     "schema_version": 1,
     "solution": false
    },
    "ExecuteTime": {
     "end_time": "2023-09-12T11:44:14.725510400Z",
     "start_time": "2023-09-12T11:44:14.683334800Z"
    }
   },
   "outputs": [],
   "source": [
    "### BEGIN HIDDEN TESTS\n",
    "titanic_ = sns.load_dataset('titanic')\n",
    "num_survived_ = titanic.loc[titanic['survived'] == 1].shape[0]\n",
    "survived_over_30_ = titanic.loc[(titanic['age'] > 30) & (titanic['survived'] == 1)].shape[0]\n",
    "p_over_30_given_survived_ = survived_over_30/num_survived\n",
    "\n",
    "\n",
    "\n",
    "assert num_survived == num_survived_, 'Check the num survived'\n",
    "assert survived_over_30 == survived_over_30_, 'Check the survived over thirty'\n",
    "### END HIDDEN TESTS"
   ]
  },
  {
   "cell_type": "markdown",
   "metadata": {
    "nbgrader": {
     "grade": false,
     "grade_id": "cell-093f61def65033d2",
     "locked": true,
     "schema_version": 1,
     "solution": false
    }
   },
   "source": [
    "[Back to top](#Index:) \n",
    "\n",
    "### Problem 5: Distribution of Ages for Survived and Not Survived\n",
    "\n",
    "**3 Points**\n",
    "\n",
    "To plot the distribution of ages for those that survived and those that did not together on the same axes, use the `hue` argument in `sns.histplot` set to `survived` to create histograms of the ages conditioned on survived or not."
   ]
  },
  {
   "cell_type": "code",
   "execution_count": 14,
   "metadata": {
    "nbgrader": {
     "grade": false,
     "grade_id": "cell-5b658f1e5b65f1f9",
     "locked": false,
     "schema_version": 1,
     "solution": true
    },
    "ExecuteTime": {
     "end_time": "2023-09-12T11:44:15.063418600Z",
     "start_time": "2023-09-12T11:44:14.700476700Z"
    }
   },
   "outputs": [
    {
     "data": {
      "text/plain": "<Axes: xlabel='age', ylabel='Count'>"
     },
     "execution_count": 14,
     "metadata": {},
     "output_type": "execute_result"
    },
    {
     "data": {
      "text/plain": "<Figure size 640x480 with 1 Axes>",
      "image/png": "[encoded data removed]"
     },
     "metadata": {},
     "output_type": "display_data"
    }
   ],
   "source": [
    "### GRADED\n",
    "\n",
    "### BEGIN SOLUTION\n",
    "sns.histplot(data = titanic, x = 'age', hue = 'survived')\n",
    "### END SOLUTION"
   ]
  },
  {
   "cell_type": "code",
   "execution_count": 15,
   "metadata": {
    "nbgrader": {
     "grade": true,
     "grade_id": "cell-07d87a0d7eeec863",
     "locked": true,
     "points": 3,
     "schema_version": 1,
     "solution": false
    },
    "ExecuteTime": {
     "end_time": "2023-09-12T11:44:15.115254600Z",
     "start_time": "2023-09-12T11:44:15.057439100Z"
    }
   },
   "outputs": [],
   "source": [
    "### BEGIN HIDDEN TESTS\n",
    "pass\n",
    "### END HIDDEN TESTS"
   ]
  },
  {
   "cell_type": "markdown",
   "metadata": {
    "nbgrader": {
     "grade": false,
     "grade_id": "cell-972a7e076c271666",
     "locked": true,
     "schema_version": 1,
     "solution": false
    }
   },
   "source": [
    "[Back to top](#Index:) \n",
    "\n",
    "### Problem 6: Which is more likely?\n",
    "\n",
    "**3 Points**\n",
    "\n",
    "Based on your histogram in problem 5, given that a person was under the age of 20, is it more likely that they survived or did not survive?  Assign your answer as a boolean value to the variable `survived` below. True means you believe more likely to have survived, False more likely to be deceased."
   ]
  },
  {
   "cell_type": "code",
   "execution_count": 16,
   "metadata": {
    "nbgrader": {
     "grade": false,
     "grade_id": "cell-abe5fe5c1f79a12a",
     "locked": false,
     "schema_version": 1,
     "solution": true
    },
    "ExecuteTime": {
     "end_time": "2023-09-12T11:44:15.115254600Z",
     "start_time": "2023-09-12T11:44:15.072388800Z"
    }
   },
   "outputs": [],
   "source": [
    "### GRADED\n",
    "\n",
    "survived = ''\n",
    "\n",
    "### BEGIN SOLUTION\n",
    "survived = False\n",
    "\n",
    "\n",
    "#HERE IS A WAY TO GET TO THE ANSWER USING CODE\n",
    "#num_under_20 = titanic[titanic['age']<20].shape[0]\n",
    "#under_20_survived = titanic[(titanic['survived']==1) & (titanic['age']<20)].shape[0]\n",
    "#p_survived_given_under_20 = under_20_survived/num_under_20\n",
    "\n",
    "#survived = p_survived_given_under_20>1-p_survived_given_under_20\"\n",
    "\n",
    "### END SOLUTION"
   ]
  },
  {
   "cell_type": "code",
   "execution_count": 17,
   "metadata": {
    "nbgrader": {
     "grade": true,
     "grade_id": "cell-b1edd3cff7d83337",
     "locked": true,
     "points": 3,
     "schema_version": 1,
     "solution": false
    },
    "ExecuteTime": {
     "end_time": "2023-09-12T11:44:15.115254600Z",
     "start_time": "2023-09-12T11:44:15.087338800Z"
    }
   },
   "outputs": [],
   "source": [
    "### BEGIN HIDDEN TESTS\n",
    "survived_ = False\n",
    "\n",
    "\n",
    "assert survived == survived_\n",
    "### END HIDDEN TESTS"
   ]
  }
 ],
 "metadata": {
  "celltoolbar": "Create Assignment",
  "kernelspec": {
   "display_name": "Python 3",
   "language": "python",
   "name": "python3"
  },
  "language_info": {
   "codemirror_mode": {
    "name": "ipython",
    "version": 3
   },
   "file_extension": ".py",
   "mimetype": "text/x-python",
   "name": "python",
   "nbconvert_exporter": "python",
   "pygments_lexer": "ipython3",
   "version": "3.6.9"
  },
  "widgets": {
   "application/vnd.jupyter.widget-state+json": {
    "state": {},
    "version_major": 2,
    "version_minor": 0
   }
  }
 },
 "nbformat": 4,
 "nbformat_minor": 4
}
