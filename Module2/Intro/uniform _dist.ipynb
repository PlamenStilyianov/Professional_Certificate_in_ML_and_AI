{
 "cells": [
  {
   "cell_type": "markdown",
   "id": "5a692879c7720d6a",
   "metadata": {
    "collapsed": false
   },
   "source": [
    "### Uniform Distribution"
   ]
  },
  {
   "cell_type": "code",
   "execution_count": 1,
   "id": "fd2ea967fbda18fb",
   "metadata": {
    "collapsed": false,
    "ExecuteTime": {
     "end_time": "2023-09-08T18:59:54.167038600Z",
     "start_time": "2023-09-08T18:59:53.280581200Z"
    }
   },
   "outputs": [],
   "source": [
    "import numpy as np\n",
    "import matplotlib.pyplot as plt\n",
    "from scipy.stats import uniform\n"
   ]
  },
  {
   "cell_type": "code",
   "execution_count": 2,
   "id": "d591d86573c07f81",
   "metadata": {
    "collapsed": false,
    "ExecuteTime": {
     "end_time": "2023-09-08T18:59:54.180813400Z",
     "start_time": "2023-09-08T18:59:54.167038600Z"
    }
   },
   "outputs": [],
   "source": [
    "# loc is location\n",
    "U = uniform(loc=10, scale=5)\n",
    "U.plamen = 'plamen'"
   ]
  },
  {
   "cell_type": "code",
   "execution_count": 3,
   "outputs": [
    {
     "data": {
      "text/plain": "array([0. , 0.2, 0. ])"
     },
     "execution_count": 3,
     "metadata": {},
     "output_type": "execute_result"
    }
   ],
   "source": [
    "U.pdf([8,12,20])"
   ],
   "metadata": {
    "collapsed": false,
    "ExecuteTime": {
     "end_time": "2023-09-08T18:59:54.209666300Z",
     "start_time": "2023-09-08T18:59:54.181818900Z"
    }
   },
   "id": "ff76744fc3e2a39f"
  },
  {
   "cell_type": "code",
   "execution_count": 4,
   "outputs": [],
   "source": [
    "upoints = np.linspace(7, 18, 200)\n",
    "ppoints = U.pdf(upoints)"
   ],
   "metadata": {
    "collapsed": false,
    "ExecuteTime": {
     "end_time": "2023-09-08T18:59:54.230923800Z",
     "start_time": "2023-09-08T18:59:54.196905900Z"
    }
   },
   "id": "4b74195df7a5bb75"
  },
  {
   "cell_type": "code",
   "execution_count": 5,
   "outputs": [
    {
     "data": {
      "text/plain": "[<matplotlib.lines.Line2D at 0x16d3baf4340>]"
     },
     "execution_count": 5,
     "metadata": {},
     "output_type": "execute_result"
    },
    {
     "data": {
      "text/plain": "<Figure size 640x480 with 1 Axes>",
      "image/png": "[encoded data removed]"
     },
     "metadata": {},
     "output_type": "display_data"
    }
   ],
   "source": [
    "# location loc=10 and scale = 5 , so a=10 and b=a+scale= 10 + 5 = 15\n",
    "plt.plot(upoints,ppoints)"
   ],
   "metadata": {
    "collapsed": false,
    "ExecuteTime": {
     "end_time": "2023-09-08T18:59:54.396621200Z",
     "start_time": "2023-09-08T18:59:54.212647700Z"
    }
   },
   "id": "57ffea28d594c81d"
  },
  {
   "cell_type": "code",
   "execution_count": 6,
   "outputs": [
    {
     "data": {
      "text/plain": "12.5"
     },
     "execution_count": 6,
     "metadata": {},
     "output_type": "execute_result"
    }
   ],
   "source": [
    "U.mean()"
   ],
   "metadata": {
    "collapsed": false,
    "ExecuteTime": {
     "end_time": "2023-09-08T18:59:54.412404700Z",
     "start_time": "2023-09-08T18:59:54.399689300Z"
    }
   },
   "id": "dca88ef9980cb20d"
  },
  {
   "cell_type": "code",
   "execution_count": 7,
   "outputs": [
    {
     "data": {
      "text/plain": "2.083333333333333"
     },
     "execution_count": 7,
     "metadata": {},
     "output_type": "execute_result"
    }
   ],
   "source": [
    "U.var()"
   ],
   "metadata": {
    "collapsed": false,
    "ExecuteTime": {
     "end_time": "2023-09-08T18:59:54.520717100Z",
     "start_time": "2023-09-08T18:59:54.414340300Z"
    }
   },
   "id": "438634fa64e51271"
  },
  {
   "cell_type": "code",
   "execution_count": 8,
   "outputs": [
    {
     "data": {
      "text/plain": "1.4433756729740643"
     },
     "execution_count": 8,
     "metadata": {},
     "output_type": "execute_result"
    }
   ],
   "source": [
    "U.std()"
   ],
   "metadata": {
    "collapsed": false,
    "ExecuteTime": {
     "end_time": "2023-09-08T18:59:54.530323200Z",
     "start_time": "2023-09-08T18:59:54.431873800Z"
    }
   },
   "id": "c8e1f79ae19a0a14"
  },
  {
   "cell_type": "code",
   "execution_count": 9,
   "outputs": [
    {
     "data": {
      "text/plain": "12.34585689592007"
     },
     "execution_count": 9,
     "metadata": {},
     "output_type": "execute_result"
    }
   ],
   "source": [
    "U.rvs()"
   ],
   "metadata": {
    "collapsed": false,
    "ExecuteTime": {
     "end_time": "2023-09-08T18:59:54.531325300Z",
     "start_time": "2023-09-08T18:59:54.446497100Z"
    }
   },
   "id": "a5b9181393026553"
  },
  {
   "cell_type": "code",
   "execution_count": 10,
   "outputs": [
    {
     "name": "stdout",
     "output_type": "stream",
     "text": [
      "<class 'numpy.ndarray'>\n",
      "100\n"
     ]
    }
   ],
   "source": [
    "from scipy.stats import norm\n",
    "gauss1 = norm(loc = 5, scale = 2)\n",
    "samples=gauss1.rvs(100, random_state = 12)\n",
    "print(type(samples))\n",
    "print(len(samples))"
   ],
   "metadata": {
    "collapsed": false,
    "ExecuteTime": {
     "end_time": "2023-09-08T18:59:54.532336400Z",
     "start_time": "2023-09-08T18:59:54.463366Z"
    }
   },
   "id": "b279c76bb82ff2f9"
  },
  {
   "cell_type": "markdown",
   "source": [
    "upoints = U.rvs(size=200)\n",
    "ppoints = U.pdf(upoints)\n",
    "plt.plot(upoints,ppoints)"
   ],
   "metadata": {
    "collapsed": false
   },
   "id": "567e353b077565fc"
  },
  {
   "cell_type": "code",
   "execution_count": 11,
   "outputs": [
    {
     "data": {
      "text/plain": "25"
     },
     "execution_count": 11,
     "metadata": {},
     "output_type": "execute_result"
    }
   ],
   "source": [
    "b=15;a=10\n",
    "(b - a)**2"
   ],
   "metadata": {
    "collapsed": false,
    "ExecuteTime": {
     "end_time": "2023-09-08T18:59:54.532336400Z",
     "start_time": "2023-09-08T18:59:54.477757100Z"
    }
   },
   "id": "2991090536c66826"
  },
  {
   "cell_type": "code",
   "execution_count": 12,
   "outputs": [
    {
     "data": {
      "text/plain": "array([10.27251532, 10.67564956, 10.56094643])"
     },
     "execution_count": 12,
     "metadata": {},
     "output_type": "execute_result"
    }
   ],
   "source": [
    "# random variates\n",
    "U.rvs(size=3)"
   ],
   "metadata": {
    "collapsed": false,
    "ExecuteTime": {
     "end_time": "2023-09-08T18:59:54.533273900Z",
     "start_time": "2023-09-08T18:59:54.494401600Z"
    }
   },
   "id": "6f158bad336e8b3c"
  },
  {
   "cell_type": "code",
   "execution_count": 13,
   "outputs": [
    {
     "data": {
      "text/plain": "(array([1., 0., 0., 0., 0., 0., 0., 1., 0., 1.]),\n array([10.22004505, 10.66524667, 11.11044829, 11.55564992, 12.00085154,\n        12.44605316, 12.89125479, 13.33645641, 13.78165803, 14.22685966,\n        14.67206128]),\n <BarContainer object of 10 artists>)"
     },
     "execution_count": 13,
     "metadata": {},
     "output_type": "execute_result"
    },
    {
     "data": {
      "text/plain": "<Figure size 640x480 with 1 Axes>",
      "image/png": "[encoded data removed]"
     },
     "metadata": {},
     "output_type": "display_data"
    }
   ],
   "source": [
    "plt.hist(U.rvs(size=3))"
   ],
   "metadata": {
    "collapsed": false,
    "ExecuteTime": {
     "end_time": "2023-09-08T18:59:54.649316Z",
     "start_time": "2023-09-08T18:59:54.520717100Z"
    }
   },
   "id": "84a53e44ea6d5ca1"
  },
  {
   "cell_type": "code",
   "execution_count": 14,
   "outputs": [
    {
     "data": {
      "text/plain": "(array([14., 10.,  8.,  7.,  9., 10.,  7., 14.,  9., 12.]),\n array([10.0141654 , 10.51073413, 11.00730286, 11.5038716 , 12.00044033,\n        12.49700907, 12.9935778 , 13.49014653, 13.98671527, 14.483284  ,\n        14.97985273]),\n <BarContainer object of 10 artists>)"
     },
     "execution_count": 14,
     "metadata": {},
     "output_type": "execute_result"
    },
    {
     "data": {
      "text/plain": "<Figure size 640x480 with 1 Axes>",
      "image/png": "[encoded data removed]"
     },
     "metadata": {},
     "output_type": "display_data"
    }
   ],
   "source": [
    "plt.hist(U.rvs(size=100))"
   ],
   "metadata": {
    "collapsed": false,
    "ExecuteTime": {
     "end_time": "2023-09-08T18:59:54.770071200Z",
     "start_time": "2023-09-08T18:59:54.633961700Z"
    }
   },
   "id": "16364a5e66334d2a"
  },
  {
   "cell_type": "code",
   "execution_count": 15,
   "outputs": [
    {
     "data": {
      "text/plain": "[<matplotlib.lines.Line2D at 0x16d3d4c7490>]"
     },
     "execution_count": 15,
     "metadata": {},
     "output_type": "execute_result"
    },
    {
     "data": {
      "text/plain": "<Figure size 640x480 with 1 Axes>",
      "image/png": "[encoded data removed]"
     },
     "metadata": {},
     "output_type": "display_data"
    }
   ],
   "source": [
    "#plt.hist(U.rvs(size=200),density=True)\n",
    "plt.plot(upoints,ppoints)"
   ],
   "metadata": {
    "collapsed": false,
    "ExecuteTime": {
     "end_time": "2023-09-08T18:59:54.895058100Z",
     "start_time": "2023-09-08T18:59:54.757417800Z"
    }
   },
   "id": "c9fc645b710adbd7"
  },
  {
   "cell_type": "code",
   "execution_count": 16,
   "outputs": [
    {
     "data": {
      "text/plain": "(array([0.1978114 , 0.19801141, 0.20281168, 0.21061213, 0.19081099,\n        0.20361173, 0.19341114, 0.19841143, 0.20701193, 0.19761138]),\n array([10.00022711, 10.5001983 , 11.00016949, 11.50014069, 12.00011188,\n        12.50008307, 13.00005427, 13.50002546, 13.99999665, 14.49996785,\n        14.99993904]),\n <BarContainer object of 10 artists>)"
     },
     "execution_count": 16,
     "metadata": {},
     "output_type": "execute_result"
    },
    {
     "data": {
      "text/plain": "<Figure size 640x480 with 1 Axes>",
      "image/png": "[encoded data removed]"
     },
     "metadata": {},
     "output_type": "display_data"
    }
   ],
   "source": [
    "plt.hist(U.rvs(size=10000), density=True)"
   ],
   "metadata": {
    "collapsed": false,
    "ExecuteTime": {
     "end_time": "2023-09-08T18:59:55.021644600Z",
     "start_time": "2023-09-08T18:59:54.882562800Z"
    }
   },
   "id": "5c01cfb05409ddd6"
  },
  {
   "cell_type": "code",
   "execution_count": 16,
   "outputs": [],
   "source": [],
   "metadata": {
    "collapsed": false,
    "ExecuteTime": {
     "end_time": "2023-09-08T18:59:55.063684Z",
     "start_time": "2023-09-08T18:59:55.022632200Z"
    }
   },
   "id": "a4fb938a634856c9"
  },
  {
   "cell_type": "code",
   "execution_count": 16,
   "outputs": [],
   "source": [],
   "metadata": {
    "collapsed": false,
    "ExecuteTime": {
     "end_time": "2023-09-08T18:59:55.064644900Z",
     "start_time": "2023-09-08T18:59:55.039934200Z"
    }
   },
   "id": "55703c273f9200b4"
  }
 ],
 "metadata": {
  "kernelspec": {
   "display_name": "Python 3 (ipykernel)",
   "language": "python",
   "name": "python3"
  },
  "language_info": {
   "codemirror_mode": {
    "name": "ipython",
    "version": 3
   },
   "file_extension": ".py",
   "mimetype": "text/x-python",
   "name": "python",
   "nbconvert_exporter": "python",
   "pygments_lexer": "ipython3",
   "version": "3.10.12"
  }
 },
 "nbformat": 4,
 "nbformat_minor": 5
}
