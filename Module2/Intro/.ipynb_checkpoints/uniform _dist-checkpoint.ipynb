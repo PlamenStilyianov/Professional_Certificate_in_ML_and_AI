{
 "cells": [
  {
   "cell_type": "markdown",
   "source": [
    "### Uniform Distribution"
   ],
   "metadata": {
    "collapsed": false
   },
   "id": "5a692879c7720d6a"
  },
  {
   "cell_type": "code",
   "execution_count": 12,
   "outputs": [],
   "source": [
    "import numpy as np\n",
    "import matplotlib.pyplot as plt\n",
    "from scipy.stats import uniform\n"
   ],
   "metadata": {
    "collapsed": false,
    "ExecuteTime": {
     "end_time": "2023-09-06T21:42:20.862485100Z",
     "start_time": "2023-09-06T21:42:20.848076900Z"
    }
   },
   "id": "fd2ea967fbda18fb"
  },
  {
   "cell_type": "code",
   "execution_count": 13,
   "outputs": [],
   "source": [
    "# loc is location\n",
    "U = uniform(loc=10, scale=5)"
   ],
   "metadata": {
    "collapsed": false,
    "ExecuteTime": {
     "end_time": "2023-09-06T21:42:20.915202300Z",
     "start_time": "2023-09-06T21:42:20.858942600Z"
    }
   },
   "id": "d591d86573c07f81"
  },
  {
   "cell_type": "code",
   "execution_count": 13,
   "outputs": [],
   "source": [],
   "metadata": {
    "collapsed": false,
    "ExecuteTime": {
     "end_time": "2023-09-06T21:42:20.916501100Z",
     "start_time": "2023-09-06T21:42:20.870462900Z"
    }
   },
   "id": "58df861fe2cee7cc"
  },
  {
   "cell_type": "code",
   "execution_count": 14,
   "outputs": [
    {
     "data": {
      "text/plain": "0.0"
     },
     "execution_count": 14,
     "metadata": {},
     "output_type": "execute_result"
    }
   ],
   "source": [
    "from scipy.stats import uniform as U\n",
    "U.pdf(8)"
   ],
   "metadata": {
    "collapsed": false,
    "ExecuteTime": {
     "end_time": "2023-09-06T21:42:20.916501100Z",
     "start_time": "2023-09-06T21:42:20.887345100Z"
    }
   },
   "id": "1af8249b5ba5dcbc"
  },
  {
   "cell_type": "code",
   "execution_count": 15,
   "outputs": [
    {
     "data": {
      "text/plain": "1.0"
     },
     "execution_count": 15,
     "metadata": {},
     "output_type": "execute_result"
    }
   ],
   "source": [
    "U.cdf(9)"
   ],
   "metadata": {
    "collapsed": false,
    "ExecuteTime": {
     "end_time": "2023-09-06T21:42:20.917569200Z",
     "start_time": "2023-09-06T21:42:20.903409900Z"
    }
   },
   "id": "e4c77a28e5c642cf"
  },
  {
   "cell_type": "code",
   "execution_count": 15,
   "outputs": [],
   "source": [],
   "metadata": {
    "collapsed": false,
    "ExecuteTime": {
     "end_time": "2023-09-06T21:42:20.931431400Z",
     "start_time": "2023-09-06T21:42:20.917569200Z"
    }
   },
   "id": "baf5ac9b2b13f4a8"
  }
 ],
 "metadata": {
  "kernelspec": {
   "display_name": "Python 3",
   "language": "python",
   "name": "python3"
  },
  "language_info": {
   "codemirror_mode": {
    "name": "ipython",
    "version": 2
   },
   "file_extension": ".py",
   "mimetype": "text/x-python",
   "name": "python",
   "nbconvert_exporter": "python",
   "pygments_lexer": "ipython2",
   "version": "2.7.6"
  }
 },
 "nbformat": 4,
 "nbformat_minor": 5
}
