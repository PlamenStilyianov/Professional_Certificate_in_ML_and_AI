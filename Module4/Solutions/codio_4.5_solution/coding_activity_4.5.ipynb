{
 "cells": [
  {
   "cell_type": "markdown",
   "metadata": {
    "nbgrader": {
     "grade": false,
     "grade_id": "cell-c95102d8e7bccebf",
     "locked": true,
     "schema_version": 1,
     "solution": false
    }
   },
   "source": [
    "### Codio Activity 4.5: String Operations\n",
    "\n",
    "\n",
    "**Expected Time: 60 Minutes**\n",
    "\n",
    "**Total Points: 20**\n",
    "\n",
    "\n",
    "For this activity, you will focus on using string methods on `pandas` series.  Following the examples from video 4.8, a wikipedia page on the states of the russian federation will be the dataset.  Below is a map of the boundaries for the states. \n",
    "\n",
    "#### Index:\n",
    "\n",
    "- [Problem 1](#Problem-1)\n",
    "- [Problem 2](#Problem-2)\n",
    "- [Problem 3](#Problem-3)\n",
    "- [Problem 4](#Problem-4)\n",
    "\n",
    "![](https://upload.wikimedia.org/wikipedia/commons/thumb/7/7d/Map_of_federal_subjects_of_Russia_%282014%29.svg/1380px-Map_of_federal_subjects_of_Russia_%282014%29.svg.png)"
   ]
  },
  {
   "cell_type": "markdown",
   "metadata": {
    "nbgrader": {
     "grade": false,
     "grade_id": "cell-b5e784a8664a2700",
     "locked": true,
     "schema_version": 1,
     "solution": false
    }
   },
   "source": [
    "### Getting the Data\n",
    "\n",
    "Below, we access the data directly using the url and the `read_html` method from `pandas`.  This method reads any table from a web url in as a list of dataframes.  The data we are interested in is located in the fifth table on the page so we index the list of data accordingly below."
   ]
  },
  {
   "cell_type": "code",
   "execution_count": 15,
   "metadata": {
    "nbgrader": {
     "grade": false,
     "grade_id": "cell-8d2ffb96c4c2827e",
     "locked": true,
     "schema_version": 1,
     "solution": false
    },
    "ExecuteTime": {
     "end_time": "2023-09-25T16:11:49.426432Z",
     "start_time": "2023-09-25T16:11:49.202046800Z"
    }
   },
   "outputs": [],
   "source": [
    "import pandas as pd"
   ]
  },
  {
   "cell_type": "code",
   "execution_count": 16,
   "metadata": {
    "nbgrader": {
     "grade": false,
     "grade_id": "cell-c3929c64c7e703b0",
     "locked": true,
     "schema_version": 1,
     "solution": false
    },
    "ExecuteTime": {
     "end_time": "2023-09-25T16:11:49.684664800Z",
     "start_time": "2023-09-25T16:11:49.204353200Z"
    }
   },
   "outputs": [],
   "source": [
    "russian_states = pd.read_csv('data/russian_states.csv', index_col = 0)"
   ]
  },
  {
   "cell_type": "code",
   "execution_count": 17,
   "metadata": {
    "nbgrader": {
     "grade": false,
     "grade_id": "cell-987d4e6af2127f01",
     "locked": true,
     "schema_version": 1,
     "solution": false
    },
    "ExecuteTime": {
     "end_time": "2023-09-25T16:11:49.706763100Z",
     "start_time": "2023-09-25T16:11:49.217865700Z"
    }
   },
   "outputs": [
    {
     "data": {
      "text/plain": "    Code                        Name Capital/Administrative centre[a]  Flag  \\\n0      1         Adygea, Republic of                           Maykop   NaN   \n1      2  Bashkortostan, Republic of                              Ufa   NaN   \n2      3       Buryatia, Republic of                         Ulan-Ude   NaN   \n3      4              Altai Republic                    Gorno-Altaysk   NaN   \n4      5       Dagestan, Republic of                      Makhachkala   NaN   \n5      6     Ingushetia, Republic of      Magas(Largest city: Nazran)   NaN   \n6      7   Kabardino-Balkar Republic                          Nalchik   NaN   \n7      8       Kalmykia, Republic of                           Elista   NaN   \n8      9  Karachay-Cherkess Republic                        Cherkessk   NaN   \n9     10        Karelia, Republic of                     Petrozavodsk   NaN   \n10    11               Komi Republic                        Syktyvkar   NaN   \n11    12            Mari El Republic                      Yoshkar-Ola   NaN   \n\n    Coatof arms      Type Federal district Economic region Area(km2)[16]  \\\n0           NaN  republic         Southern  North Caucasus          7600   \n1           NaN  republic            Volga            Ural        143600   \n2           NaN  republic      Far Eastern   East Siberian        351300   \n3           NaN  republic         Siberian   West Siberian         92600   \n4           NaN  republic  North Caucasian  North Caucasus         50300   \n5           NaN  republic  North Caucasian  North Caucasus          4000   \n6           NaN  republic  North Caucasian  North Caucasus         12500   \n7           NaN  republic         Southern           Volga         76100   \n8           NaN  republic  North Caucasian  North Caucasus         14100   \n9           NaN  republic     Northwestern        Northern        172400   \n10          NaN  republic     Northwestern        Northern        415900   \n11          NaN  republic            Volga    Volga-Vyatka         23200   \n\n   Population[17]  Populationdensity(/km2)  Yearestablished  \n0          447109                    58.83             1922  \n1         4104336                    28.58             1919  \n2          981238                     2.79             1923  \n3          202947                     2.19             1922  \n4         2576531                    51.22             1921  \n5          467294                   116.82             1992  \n6          901494                    72.12             1936  \n7          292410                     3.84             1957  \n8          439470                    31.17             1957  \n9          716281                     4.15             1956  \n10        1018674                     2.45             1921  \n11         727979                    31.38             1920  ",
      "text/html": "<div>\n<style scoped>\n    .dataframe tbody tr th:only-of-type {\n        vertical-align: middle;\n    }\n\n    .dataframe tbody tr th {\n        vertical-align: top;\n    }\n\n    .dataframe thead th {\n        text-align: right;\n    }\n</style>\n<table border=\"1\" class=\"dataframe\">\n  <thead>\n    <tr style=\"text-align: right;\">\n      <th></th>\n      <th>Code</th>\n      <th>Name</th>\n      <th>Capital/Administrative centre[a]</th>\n      <th>Flag</th>\n      <th>Coatof arms</th>\n      <th>Type</th>\n      <th>Federal district</th>\n      <th>Economic region</th>\n      <th>Area(km2)[16]</th>\n      <th>Population[17]</th>\n      <th>Populationdensity(/km2)</th>\n      <th>Yearestablished</th>\n    </tr>\n  </thead>\n  <tbody>\n    <tr>\n      <th>0</th>\n      <td>1</td>\n      <td>Adygea, Republic of</td>\n      <td>Maykop</td>\n      <td>NaN</td>\n      <td>NaN</td>\n      <td>republic</td>\n      <td>Southern</td>\n      <td>North Caucasus</td>\n      <td>7600</td>\n      <td>447109</td>\n      <td>58.83</td>\n      <td>1922</td>\n    </tr>\n    <tr>\n      <th>1</th>\n      <td>2</td>\n      <td>Bashkortostan, Republic of</td>\n      <td>Ufa</td>\n      <td>NaN</td>\n      <td>NaN</td>\n      <td>republic</td>\n      <td>Volga</td>\n      <td>Ural</td>\n      <td>143600</td>\n      <td>4104336</td>\n      <td>28.58</td>\n      <td>1919</td>\n    </tr>\n    <tr>\n      <th>2</th>\n      <td>3</td>\n      <td>Buryatia, Republic of</td>\n      <td>Ulan-Ude</td>\n      <td>NaN</td>\n      <td>NaN</td>\n      <td>republic</td>\n      <td>Far Eastern</td>\n      <td>East Siberian</td>\n      <td>351300</td>\n      <td>981238</td>\n      <td>2.79</td>\n      <td>1923</td>\n    </tr>\n    <tr>\n      <th>3</th>\n      <td>4</td>\n      <td>Altai Republic</td>\n      <td>Gorno-Altaysk</td>\n      <td>NaN</td>\n      <td>NaN</td>\n      <td>republic</td>\n      <td>Siberian</td>\n      <td>West Siberian</td>\n      <td>92600</td>\n      <td>202947</td>\n      <td>2.19</td>\n      <td>1922</td>\n    </tr>\n    <tr>\n      <th>4</th>\n      <td>5</td>\n      <td>Dagestan, Republic of</td>\n      <td>Makhachkala</td>\n      <td>NaN</td>\n      <td>NaN</td>\n      <td>republic</td>\n      <td>North Caucasian</td>\n      <td>North Caucasus</td>\n      <td>50300</td>\n      <td>2576531</td>\n      <td>51.22</td>\n      <td>1921</td>\n    </tr>\n    <tr>\n      <th>5</th>\n      <td>6</td>\n      <td>Ingushetia, Republic of</td>\n      <td>Magas(Largest city: Nazran)</td>\n      <td>NaN</td>\n      <td>NaN</td>\n      <td>republic</td>\n      <td>North Caucasian</td>\n      <td>North Caucasus</td>\n      <td>4000</td>\n      <td>467294</td>\n      <td>116.82</td>\n      <td>1992</td>\n    </tr>\n    <tr>\n      <th>6</th>\n      <td>7</td>\n      <td>Kabardino-Balkar Republic</td>\n      <td>Nalchik</td>\n      <td>NaN</td>\n      <td>NaN</td>\n      <td>republic</td>\n      <td>North Caucasian</td>\n      <td>North Caucasus</td>\n      <td>12500</td>\n      <td>901494</td>\n      <td>72.12</td>\n      <td>1936</td>\n    </tr>\n    <tr>\n      <th>7</th>\n      <td>8</td>\n      <td>Kalmykia, Republic of</td>\n      <td>Elista</td>\n      <td>NaN</td>\n      <td>NaN</td>\n      <td>republic</td>\n      <td>Southern</td>\n      <td>Volga</td>\n      <td>76100</td>\n      <td>292410</td>\n      <td>3.84</td>\n      <td>1957</td>\n    </tr>\n    <tr>\n      <th>8</th>\n      <td>9</td>\n      <td>Karachay-Cherkess Republic</td>\n      <td>Cherkessk</td>\n      <td>NaN</td>\n      <td>NaN</td>\n      <td>republic</td>\n      <td>North Caucasian</td>\n      <td>North Caucasus</td>\n      <td>14100</td>\n      <td>439470</td>\n      <td>31.17</td>\n      <td>1957</td>\n    </tr>\n    <tr>\n      <th>9</th>\n      <td>10</td>\n      <td>Karelia, Republic of</td>\n      <td>Petrozavodsk</td>\n      <td>NaN</td>\n      <td>NaN</td>\n      <td>republic</td>\n      <td>Northwestern</td>\n      <td>Northern</td>\n      <td>172400</td>\n      <td>716281</td>\n      <td>4.15</td>\n      <td>1956</td>\n    </tr>\n    <tr>\n      <th>10</th>\n      <td>11</td>\n      <td>Komi Republic</td>\n      <td>Syktyvkar</td>\n      <td>NaN</td>\n      <td>NaN</td>\n      <td>republic</td>\n      <td>Northwestern</td>\n      <td>Northern</td>\n      <td>415900</td>\n      <td>1018674</td>\n      <td>2.45</td>\n      <td>1921</td>\n    </tr>\n    <tr>\n      <th>11</th>\n      <td>12</td>\n      <td>Mari El Republic</td>\n      <td>Yoshkar-Ola</td>\n      <td>NaN</td>\n      <td>NaN</td>\n      <td>republic</td>\n      <td>Volga</td>\n      <td>Volga-Vyatka</td>\n      <td>23200</td>\n      <td>727979</td>\n      <td>31.38</td>\n      <td>1920</td>\n    </tr>\n  </tbody>\n</table>\n</div>"
     },
     "execution_count": 17,
     "metadata": {},
     "output_type": "execute_result"
    }
   ],
   "source": [
    "russian_states.head(12)"
   ]
  },
  {
   "cell_type": "code",
   "execution_count": 17,
   "outputs": [],
   "source": [],
   "metadata": {
    "collapsed": false,
    "ExecuteTime": {
     "end_time": "2023-09-25T16:11:49.706763100Z",
     "start_time": "2023-09-25T16:11:49.226869600Z"
    }
   }
  },
  {
   "cell_type": "markdown",
   "metadata": {
    "nbgrader": {
     "grade": false,
     "grade_id": "cell-4698aa034b05d664",
     "locked": true,
     "schema_version": 1,
     "solution": false
    }
   },
   "source": [
    "[Back to top](#Index:) \n",
    "\n",
    "### Problem 1\n",
    "\n",
    "#### Using the `contains` method\n",
    "\n",
    "**5 Points**\n",
    "\n",
    "Use the string method `contains` to subset the data based on entries in the Economic Region column containing `Siberian`.  Assign your response as a DataFrame to `ans1` below."
   ]
  },
  {
   "cell_type": "code",
   "execution_count": 18,
   "metadata": {
    "nbgrader": {
     "grade": false,
     "grade_id": "cell-69b100fd1408e91a",
     "locked": false,
     "schema_version": 1,
     "solution": true
    },
    "ExecuteTime": {
     "end_time": "2023-09-25T16:11:49.755626100Z",
     "start_time": "2023-09-25T16:11:49.231415300Z"
    }
   },
   "outputs": [
    {
     "name": "stdout",
     "output_type": "stream",
     "text": [
      "(15, 12)\n"
     ]
    },
    {
     "data": {
      "text/plain": "    Code                    Name Capital/Administrative centre[a]  Flag  \\\n2      3   Buryatia, Republic of                         Ulan-Ude   NaN   \n3      4          Altai Republic                    Gorno-Altaysk   NaN   \n16    17           Tuva Republic                            Kyzyl   NaN   \n18    19  Khakassia, Republic of                           Abakan   NaN   \n21    22              Altai Krai                          Barnaul   NaN   \n\n    Coatof arms      Type Federal district Economic region Area(km2)[16]  \\\n2           NaN  republic      Far Eastern   East Siberian        351300   \n3           NaN  republic         Siberian   West Siberian         92600   \n16          NaN  republic         Siberian   East Siberian        170500   \n18          NaN  republic         Siberian   East Siberian         61900   \n21          NaN      krai         Siberian   West Siberian        169100   \n\n   Population[17]  Populationdensity(/km2)  Yearestablished  \n2          981238                     2.79             1923  \n3          202947                     2.19             1922  \n16         305510                     1.79             1944  \n18         546072                     8.82             1930  \n21        2607426                    15.42             1937  ",
      "text/html": "<div>\n<style scoped>\n    .dataframe tbody tr th:only-of-type {\n        vertical-align: middle;\n    }\n\n    .dataframe tbody tr th {\n        vertical-align: top;\n    }\n\n    .dataframe thead th {\n        text-align: right;\n    }\n</style>\n<table border=\"1\" class=\"dataframe\">\n  <thead>\n    <tr style=\"text-align: right;\">\n      <th></th>\n      <th>Code</th>\n      <th>Name</th>\n      <th>Capital/Administrative centre[a]</th>\n      <th>Flag</th>\n      <th>Coatof arms</th>\n      <th>Type</th>\n      <th>Federal district</th>\n      <th>Economic region</th>\n      <th>Area(km2)[16]</th>\n      <th>Population[17]</th>\n      <th>Populationdensity(/km2)</th>\n      <th>Yearestablished</th>\n    </tr>\n  </thead>\n  <tbody>\n    <tr>\n      <th>2</th>\n      <td>3</td>\n      <td>Buryatia, Republic of</td>\n      <td>Ulan-Ude</td>\n      <td>NaN</td>\n      <td>NaN</td>\n      <td>republic</td>\n      <td>Far Eastern</td>\n      <td>East Siberian</td>\n      <td>351300</td>\n      <td>981238</td>\n      <td>2.79</td>\n      <td>1923</td>\n    </tr>\n    <tr>\n      <th>3</th>\n      <td>4</td>\n      <td>Altai Republic</td>\n      <td>Gorno-Altaysk</td>\n      <td>NaN</td>\n      <td>NaN</td>\n      <td>republic</td>\n      <td>Siberian</td>\n      <td>West Siberian</td>\n      <td>92600</td>\n      <td>202947</td>\n      <td>2.19</td>\n      <td>1922</td>\n    </tr>\n    <tr>\n      <th>16</th>\n      <td>17</td>\n      <td>Tuva Republic</td>\n      <td>Kyzyl</td>\n      <td>NaN</td>\n      <td>NaN</td>\n      <td>republic</td>\n      <td>Siberian</td>\n      <td>East Siberian</td>\n      <td>170500</td>\n      <td>305510</td>\n      <td>1.79</td>\n      <td>1944</td>\n    </tr>\n    <tr>\n      <th>18</th>\n      <td>19</td>\n      <td>Khakassia, Republic of</td>\n      <td>Abakan</td>\n      <td>NaN</td>\n      <td>NaN</td>\n      <td>republic</td>\n      <td>Siberian</td>\n      <td>East Siberian</td>\n      <td>61900</td>\n      <td>546072</td>\n      <td>8.82</td>\n      <td>1930</td>\n    </tr>\n    <tr>\n      <th>21</th>\n      <td>22</td>\n      <td>Altai Krai</td>\n      <td>Barnaul</td>\n      <td>NaN</td>\n      <td>NaN</td>\n      <td>krai</td>\n      <td>Siberian</td>\n      <td>West Siberian</td>\n      <td>169100</td>\n      <td>2607426</td>\n      <td>15.42</td>\n      <td>1937</td>\n    </tr>\n  </tbody>\n</table>\n</div>"
     },
     "execution_count": 18,
     "metadata": {},
     "output_type": "execute_result"
    }
   ],
   "source": [
    "### GRADED\n",
    "\n",
    "ans1 = None\n",
    "\n",
    "### BEGIN SOLUTION\n",
    "ans1 = russian_states.loc[russian_states['Economic region'].str.contains(\"Siberian\")]\n",
    "type(ans1)\n",
    "### END SOLUTION\n",
    "\n",
    "# Answer check\n",
    "print(ans1.shape)\n",
    "ans1.head()"
   ]
  },
  {
   "cell_type": "code",
   "execution_count": 19,
   "metadata": {
    "nbgrader": {
     "grade": true,
     "grade_id": "cell-1de07c86f4ae43cc",
     "locked": true,
     "points": 5,
     "schema_version": 1,
     "solution": false
    },
    "ExecuteTime": {
     "end_time": "2023-09-25T16:11:49.756664100Z",
     "start_time": "2023-09-25T16:11:49.240206100Z"
    }
   },
   "outputs": [],
   "source": [
    "### BEGIN HIDDEN TESTS\n",
    "russian_states_ = pd.read_csv('data/russian_states.csv', index_col = 0)\n",
    "ans1_ = russian_states_.loc[russian_states_['Economic region'].str.contains(\"Siberian\")]\n",
    "#\n",
    "#\n",
    "#\n",
    "assert type(ans1) == type(ans1_)\n",
    "pd.testing.assert_frame_equal(ans1, ans1_)\n",
    "### END HIDDEN TESTS"
   ]
  },
  {
   "cell_type": "markdown",
   "metadata": {
    "nbgrader": {
     "grade": false,
     "grade_id": "cell-60249eaf5d390430",
     "locked": true,
     "schema_version": 1,
     "solution": false
    }
   },
   "source": [
    "[Back to top](#Index:) \n",
    "\n",
    "### Problem 2\n",
    "\n",
    "#### Using the `startswith` method\n",
    "\n",
    "**5 Points**\n",
    "\n",
    "Subset the data based on entries in the Economic region column that start with `North`.  Assign your answer as a DataFrame to `ans2` below."
   ]
  },
  {
   "cell_type": "code",
   "execution_count": 20,
   "metadata": {
    "nbgrader": {
     "grade": false,
     "grade_id": "cell-0f898f719d53e4c3",
     "locked": false,
     "schema_version": 1,
     "solution": true
    },
    "ExecuteTime": {
     "end_time": "2023-09-25T16:11:49.756664100Z",
     "start_time": "2023-09-25T16:11:49.247350700Z"
    }
   },
   "outputs": [
    {
     "name": "stdout",
     "output_type": "stream",
     "text": [
      "(22, 12)\n"
     ]
    },
    {
     "data": {
      "text/plain": "   Code                        Name Capital/Administrative centre[a]  Flag  \\\n0     1         Adygea, Republic of                           Maykop   NaN   \n4     5       Dagestan, Republic of                      Makhachkala   NaN   \n5     6     Ingushetia, Republic of      Magas(Largest city: Nazran)   NaN   \n6     7   Kabardino-Balkar Republic                          Nalchik   NaN   \n8     9  Karachay-Cherkess Republic                        Cherkessk   NaN   \n\n   Coatof arms      Type Federal district Economic region Area(km2)[16]  \\\n0          NaN  republic         Southern  North Caucasus          7600   \n4          NaN  republic  North Caucasian  North Caucasus         50300   \n5          NaN  republic  North Caucasian  North Caucasus          4000   \n6          NaN  republic  North Caucasian  North Caucasus         12500   \n8          NaN  republic  North Caucasian  North Caucasus         14100   \n\n  Population[17]  Populationdensity(/km2)  Yearestablished  \n0         447109                    58.83             1922  \n4        2576531                    51.22             1921  \n5         467294                   116.82             1992  \n6         901494                    72.12             1936  \n8         439470                    31.17             1957  ",
      "text/html": "<div>\n<style scoped>\n    .dataframe tbody tr th:only-of-type {\n        vertical-align: middle;\n    }\n\n    .dataframe tbody tr th {\n        vertical-align: top;\n    }\n\n    .dataframe thead th {\n        text-align: right;\n    }\n</style>\n<table border=\"1\" class=\"dataframe\">\n  <thead>\n    <tr style=\"text-align: right;\">\n      <th></th>\n      <th>Code</th>\n      <th>Name</th>\n      <th>Capital/Administrative centre[a]</th>\n      <th>Flag</th>\n      <th>Coatof arms</th>\n      <th>Type</th>\n      <th>Federal district</th>\n      <th>Economic region</th>\n      <th>Area(km2)[16]</th>\n      <th>Population[17]</th>\n      <th>Populationdensity(/km2)</th>\n      <th>Yearestablished</th>\n    </tr>\n  </thead>\n  <tbody>\n    <tr>\n      <th>0</th>\n      <td>1</td>\n      <td>Adygea, Republic of</td>\n      <td>Maykop</td>\n      <td>NaN</td>\n      <td>NaN</td>\n      <td>republic</td>\n      <td>Southern</td>\n      <td>North Caucasus</td>\n      <td>7600</td>\n      <td>447109</td>\n      <td>58.83</td>\n      <td>1922</td>\n    </tr>\n    <tr>\n      <th>4</th>\n      <td>5</td>\n      <td>Dagestan, Republic of</td>\n      <td>Makhachkala</td>\n      <td>NaN</td>\n      <td>NaN</td>\n      <td>republic</td>\n      <td>North Caucasian</td>\n      <td>North Caucasus</td>\n      <td>50300</td>\n      <td>2576531</td>\n      <td>51.22</td>\n      <td>1921</td>\n    </tr>\n    <tr>\n      <th>5</th>\n      <td>6</td>\n      <td>Ingushetia, Republic of</td>\n      <td>Magas(Largest city: Nazran)</td>\n      <td>NaN</td>\n      <td>NaN</td>\n      <td>republic</td>\n      <td>North Caucasian</td>\n      <td>North Caucasus</td>\n      <td>4000</td>\n      <td>467294</td>\n      <td>116.82</td>\n      <td>1992</td>\n    </tr>\n    <tr>\n      <th>6</th>\n      <td>7</td>\n      <td>Kabardino-Balkar Republic</td>\n      <td>Nalchik</td>\n      <td>NaN</td>\n      <td>NaN</td>\n      <td>republic</td>\n      <td>North Caucasian</td>\n      <td>North Caucasus</td>\n      <td>12500</td>\n      <td>901494</td>\n      <td>72.12</td>\n      <td>1936</td>\n    </tr>\n    <tr>\n      <th>8</th>\n      <td>9</td>\n      <td>Karachay-Cherkess Republic</td>\n      <td>Cherkessk</td>\n      <td>NaN</td>\n      <td>NaN</td>\n      <td>republic</td>\n      <td>North Caucasian</td>\n      <td>North Caucasus</td>\n      <td>14100</td>\n      <td>439470</td>\n      <td>31.17</td>\n      <td>1957</td>\n    </tr>\n  </tbody>\n</table>\n</div>"
     },
     "execution_count": 20,
     "metadata": {},
     "output_type": "execute_result"
    }
   ],
   "source": [
    "### GRADED\n",
    "\n",
    "ans2 = None\n",
    "\n",
    "### BEGIN SOLUTION\n",
    "ans2 = russian_states.loc[russian_states['Economic region'].str.startswith('North')]\n",
    "type(ans2)\n",
    "### END SOLUTION\n",
    "\n",
    "# Answer check\n",
    "print(ans2.shape)\n",
    "ans2.head()"
   ]
  },
  {
   "cell_type": "code",
   "execution_count": 21,
   "metadata": {
    "nbgrader": {
     "grade": true,
     "grade_id": "cell-99d4a7e77d5acc3b",
     "locked": true,
     "points": 5,
     "schema_version": 1,
     "solution": false
    },
    "ExecuteTime": {
     "end_time": "2023-09-25T16:11:49.760690600Z",
     "start_time": "2023-09-25T16:11:49.256540100Z"
    }
   },
   "outputs": [],
   "source": [
    "### BEGIN HIDDEN TESTS\n",
    "russian_states_ = pd.read_csv('data/russian_states.csv', index_col = 0)\n",
    "ans2_ = russian_states_.loc[russian_states_['Economic region'].str.startswith('North')]\n",
    "#\n",
    "#\n",
    "#\n",
    "assert type(ans2) == type(ans2_)\n",
    "pd.testing.assert_frame_equal(ans2, ans2_)\n",
    "### END HIDDEN TESTS"
   ]
  },
  {
   "cell_type": "markdown",
   "metadata": {
    "nbgrader": {
     "grade": false,
     "grade_id": "cell-03e6e3e859cf241c",
     "locked": true,
     "schema_version": 1,
     "solution": false
    }
   },
   "source": [
    "[Back to top](#Index:) \n",
    "\n",
    "### Problem 3: Using the `upper` method\n",
    "\n",
    "**5 Points**\n",
    "\n",
    "Use the `upper` method to create a series with the Federal District column all uppercased.  Assign your response as a Series to `ans3` below."
   ]
  },
  {
   "cell_type": "code",
   "execution_count": 22,
   "metadata": {
    "nbgrader": {
     "grade": false,
     "grade_id": "cell-228226682431b099",
     "locked": false,
     "schema_version": 1,
     "solution": true
    },
    "ExecuteTime": {
     "end_time": "2023-09-25T16:11:49.760690600Z",
     "start_time": "2023-09-25T16:11:49.265067Z"
    }
   },
   "outputs": [
    {
     "name": "stdout",
     "output_type": "stream",
     "text": [
      "<class 'pandas.core.series.Series'>\n"
     ]
    },
    {
     "data": {
      "text/plain": "0           SOUTHERN\n1              VOLGA\n2        FAR EASTERN\n3           SIBERIAN\n4    NORTH CAUCASIAN\nName: Federal district, dtype: object"
     },
     "execution_count": 22,
     "metadata": {},
     "output_type": "execute_result"
    }
   ],
   "source": [
    "### GRADED\n",
    "\n",
    "ans3 = None\n",
    "\n",
    "### BEGIN SOLUTION\n",
    "ans3 = russian_states['Federal district'].str.upper()\n",
    "type(ans3)\n",
    "### END SOLUTION\n",
    "\n",
    "# Answer check\n",
    "print(type(ans3))\n",
    "ans3.head()"
   ]
  },
  {
   "cell_type": "code",
   "execution_count": 23,
   "metadata": {
    "nbgrader": {
     "grade": true,
     "grade_id": "cell-513335067d60d99a",
     "locked": true,
     "points": 5,
     "schema_version": 1,
     "solution": false
    },
    "ExecuteTime": {
     "end_time": "2023-09-25T16:11:49.760690600Z",
     "start_time": "2023-09-25T16:11:49.267715400Z"
    }
   },
   "outputs": [],
   "source": [
    "### BEGIN HIDDEN TESTS\n",
    "russian_states_ = pd.read_csv('data/russian_states.csv', index_col = 0)\n",
    "ans3_ = russian_states['Federal district'].str.upper()\n",
    "#\n",
    "#\n",
    "#\n",
    "assert type(ans3) == type(ans3_)\n",
    "pd.testing.assert_series_equal(ans3, ans3_)\n",
    "### END HIDDEN TESTS"
   ]
  },
  {
   "cell_type": "markdown",
   "metadata": {
    "nbgrader": {
     "grade": false,
     "grade_id": "cell-e3bde681d79f5ea7",
     "locked": true,
     "schema_version": 1,
     "solution": false
    }
   },
   "source": [
    "[Back to top](#Index:) \n",
    "\n",
    "### Problem 4\n",
    "\n",
    "#### Examining the Population\n",
    "\n",
    "**5 Points**\n",
    " \n",
    "\n",
    "Much like the example in the videos, the Population column contains problematic characters that need to be replaced before the column can be converted to a float datatype.  Replace these values and convert the Population column to float datatypes.  Assign the your response as a series to `ans4` below.  \n",
    "\n",
    "**Note:** Create a new dataframe for your cleaned data. Don’t modify the original russian_states dataframe."
   ]
  },
  {
   "cell_type": "code",
   "execution_count": 24,
   "metadata": {
    "nbgrader": {
     "grade": false,
     "grade_id": "cell-74ef2f0c657d0393",
     "locked": false,
     "schema_version": 1,
     "solution": true
    },
    "ExecuteTime": {
     "end_time": "2023-09-25T16:11:49.792745Z",
     "start_time": "2023-09-25T16:11:49.275389200Z"
    }
   },
   "outputs": [
    {
     "name": "stdout",
     "output_type": "stream",
     "text": [
      "<class 'pandas.core.series.Series'>\n"
     ]
    },
    {
     "data": {
      "text/plain": "0     447109.0\n1    4104336.0\n2     981238.0\n3     202947.0\n4    2576531.0\nName: Population[17], dtype: float64"
     },
     "execution_count": 24,
     "metadata": {},
     "output_type": "execute_result"
    }
   ],
   "source": [
    "### GRADED\n",
    "\n",
    "ans4 = None\n",
    "\n",
    "### BEGIN SOLUTION\n",
    "ans4 = russian_states['Population[17]'].str.replace(\"[22]\", \" \").str.replace(\"[23]\", \" \").str.replace(',', '').astype('float')\n",
    "type(ans4)\n",
    "### END SOLUTION\n",
    "\n",
    "# Answer check\n",
    "print(type(ans4))\n",
    "ans4.head()"
   ]
  },
  {
   "cell_type": "code",
   "execution_count": 25,
   "metadata": {
    "nbgrader": {
     "grade": true,
     "grade_id": "cell-e5abae9366ae5429",
     "locked": true,
     "points": 5,
     "schema_version": 1,
     "solution": false
    },
    "ExecuteTime": {
     "end_time": "2023-09-25T16:11:49.793745300Z",
     "start_time": "2023-09-25T16:11:49.280386400Z"
    }
   },
   "outputs": [],
   "source": [
    "### BEGIN HIDDEN TESTS\n",
    "russian_states_ = pd.read_csv('data/russian_states.csv', index_col = 0)\n",
    "ans4_ = russian_states['Population[17]'].str.replace(\"[22]\", \" \").str.replace(\"[23]\", \" \").str.replace(',', '').astype('float')\n",
    "\n",
    "#\n",
    "#\n",
    "#\n",
    "assert type(ans4) == type(ans4_)\n",
    "pd.testing.assert_series_equal(ans4, ans4_)\n",
    "### END HIDDEN TESTS"
   ]
  },
  {
   "cell_type": "code",
   "execution_count": 25,
   "outputs": [],
   "source": [],
   "metadata": {
    "collapsed": false,
    "ExecuteTime": {
     "end_time": "2023-09-25T16:11:49.793745300Z",
     "start_time": "2023-09-25T16:11:49.287647600Z"
    }
   }
  }
 ],
 "metadata": {
  "celltoolbar": "Create Assignment",
  "kernelspec": {
   "display_name": "Python 3",
   "language": "python",
   "name": "python3"
  },
  "language_info": {
   "codemirror_mode": {
    "name": "ipython",
    "version": 3
   },
   "file_extension": ".py",
   "mimetype": "text/x-python",
   "name": "python",
   "nbconvert_exporter": "python",
   "pygments_lexer": "ipython3",
   "version": "3.6.9"
  }
 },
 "nbformat": 4,
 "nbformat_minor": 4
}
