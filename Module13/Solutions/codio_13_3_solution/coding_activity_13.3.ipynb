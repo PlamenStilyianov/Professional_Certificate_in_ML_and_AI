{
 "cells": [
  {
   "cell_type": "markdown",
   "metadata": {
    "nbgrader": {
     "grade": false,
     "grade_id": "cell-c4ad417ef9c632ba",
     "locked": true,
     "schema_version": 1,
     "solution": false
    }
   },
   "source": [
    "### Codio Activity 13.3: Determining the Logistic Functions Parameters\n",
    "\n",
    "**Expected Time = 60 minutes** \n",
    "\n",
    "**Total Points = 50** \n",
    "\n",
    "This activity focuses on determining the appropriate parameters for the logistic model using optimization.  To begin, you will write a function to represent $\\sigma(x)$.  Then, you will use the scikit-learn metric `log_loss` to evaluate the cross entropy based on the probabilities.  Finally, you will explore different parameters to select that which minimizes the cross entropy.\n",
    "\n",
    "#### Index\n",
    "\n",
    "- [Problem 1](#-Problem-1)\n",
    "- [Problem 2](#-Problem-2)\n",
    "- [Problem 3](#-Problem-3)\n",
    "- [Problem 4](#-Problem-4)\n",
    "- [Problem 5](#-Problem-5)"
   ]
  },
  {
   "cell_type": "code",
   "execution_count": 1,
   "metadata": {
    "ExecuteTime": {
     "end_time": "2023-12-11T17:18:03.326874600Z",
     "start_time": "2023-12-11T17:18:02.388113100Z"
    }
   },
   "outputs": [],
   "source": [
    "import pandas as pd\n",
    "import numpy as np\n",
    "import seaborn as sns\n",
    "import matplotlib.pyplot as plt\n",
    "\n",
    "from sklearn.linear_model import LogisticRegression\n",
    "from sklearn.metrics import log_loss"
   ]
  },
  {
   "cell_type": "code",
   "execution_count": 2,
   "metadata": {
    "ExecuteTime": {
     "end_time": "2023-12-11T17:18:03.341222500Z",
     "start_time": "2023-12-11T17:18:03.327792600Z"
    }
   },
   "outputs": [],
   "source": [
    "penguins = sns.load_dataset('penguins').dropna()\n",
    "penguins = penguins.loc[(penguins['species'] == 'Adelie') | (penguins['species'] == 'Gentoo')]\n",
    "X = penguins.drop('species', axis = 1)[['flipper_length_mm']]\n",
    "y = np.where(penguins.species == 'Adelie', 0, 1)"
   ]
  },
  {
   "cell_type": "markdown",
   "metadata": {},
   "source": [
    "### The Problem\n",
    "\n",
    "As discussed in the lectures, with gaussian assumptions of the data distributions, you are able to directly compute the parameters for the logistic model.  However, this is not going to work in higher dimensional settings.  As you see here, this assumption seems reasonable for the flipper length of our penguins data.\n",
    "\n",
    "<center>\n",
    "    <img src = 'images/flipperdist.png' />\n",
    "</center>\n",
    "\n",
    "But rather than using the mean and variance of these distributions learned through maximum likelihood, we will frame the problem of parameter estimation as one of minimization, and among a range of possible $\\beta$ values, select that which minimized cross entropy."
   ]
  },
  {
   "cell_type": "markdown",
   "metadata": {
    "nbgrader": {
     "grade": false,
     "grade_id": "cell-e1e88c4555a6b649",
     "locked": true,
     "schema_version": 1,
     "solution": false
    }
   },
   "source": [
    "[Back to top](#-Index)\n",
    "\n",
    "### Problem 1\n",
    "\n",
    "#### Sigma Function\n",
    "\n",
    "**10 Points**\n",
    "\n",
    "To begin, you are to define a sigmoid function with `sigma` below that takes in an array $X$, $\\beta_0$, $\\beta_1$, and returns \n",
    "\n",
    "$$\\sigma(x) = \\frac{1}{1 + e^{-(\\beta_0 + \\beta_1x)}}$$"
   ]
  },
  {
   "cell_type": "code",
   "execution_count": 20,
   "metadata": {
    "nbgrader": {
     "grade": false,
     "grade_id": "cell-533b33420380568c",
     "locked": false,
     "schema_version": 1,
     "solution": true
    },
    "ExecuteTime": {
     "end_time": "2023-12-11T17:23:03.561878400Z",
     "start_time": "2023-12-11T17:23:03.421347800Z"
    }
   },
   "outputs": [
    {
     "data": {
      "text/plain": "[<matplotlib.lines.Line2D at 0x221d2730e50>]"
     },
     "execution_count": 20,
     "metadata": {},
     "output_type": "execute_result"
    },
    {
     "data": {
      "text/plain": "<Figure size 640x480 with 1 Axes>",
      "image/png": "[encoded data removed]"
     },
     "metadata": {},
     "output_type": "display_data"
    }
   ],
   "source": [
    "### GRADED\n",
    "\n",
    "def sigma(x, beta_0, beta_1):\n",
    "    \"\"\"\n",
    "    This function evaluates the sigmoid function with \n",
    "    given parameters beta_0 and beta_1\n",
    "    \n",
    "    Argments\n",
    "    --------\n",
    "    x: np.array\n",
    "       domain for evaluation of sigma\n",
    "    beta_0: float\n",
    "       intercept term of linear function\n",
    "    beta_1: float\n",
    "        slope of linear term\n",
    "    \n",
    "    Returns\n",
    "    -------\n",
    "    np.array \n",
    "    \"\"\"\n",
    "    return None\n",
    "\n",
    "### BEGIN SOLUTION\n",
    "def sigma(x, beta_0, beta_1):\n",
    "    zi = beta_0 + beta_1*x\n",
    "    return 1/(1 + np.exp(-zi))\n",
    "### END SOLUTION\n",
    "\n",
    "# Answer check\n",
    "plt.plot(X.sort_values(by = 'flipper_length_mm'), sigma(X.sort_values(by = 'flipper_length_mm'), -165, .8), '--o')"
   ]
  },
  {
   "cell_type": "code",
   "execution_count": 21,
   "metadata": {
    "nbgrader": {
     "grade": true,
     "grade_id": "cell-0175d9df63633523",
     "locked": true,
     "points": 10,
     "schema_version": 1,
     "solution": false
    },
    "ExecuteTime": {
     "end_time": "2023-12-11T17:23:04.914497900Z",
     "start_time": "2023-12-11T17:23:04.895561700Z"
    }
   },
   "outputs": [],
   "source": [
    "### BEGIN HIDDEN TESTS\n",
    "def sigma_(x, beta_0, beta_1):\n",
    "    zi = beta_0 + beta_1*x\n",
    "    return 1/(1 + np.exp(-zi))\n",
    "stu = sigma(X, 1, 1)\n",
    "ans = sigma(X, 1, 1)\n",
    "#\n",
    "#\n",
    "#\n",
    "np.testing.assert_array_equal(stu, ans)\n",
    "### END HIDDEN TESTS"
   ]
  },
  {
   "cell_type": "markdown",
   "metadata": {
    "nbgrader": {
     "grade": false,
     "grade_id": "cell-2dedf86070c9d2da",
     "locked": true,
     "schema_version": 1,
     "solution": false
    }
   },
   "source": [
    "[Back to top](#-Index)\n",
    "\n",
    "### Problem 2\n",
    "\n",
    "#### Using a given $\\beta_0$ and $\\beta_1$ for predictions\n",
    "\n",
    "**10 Points**\n",
    "\n",
    "Now, your `sigma` function should return probabilities for making a classification.  Use your sigma function and the given $\\beta_0$ and $\\beta_1$ below to create predictions on X.  If the returned value is $\\geq .5$ predict class 1 and otherwise predict 0. Assign the probabilites as an array to `probs` and the subsequent predictions based on these probabilities to `predictions`.  \n",
    "\n"
   ]
  },
  {
   "cell_type": "code",
   "execution_count": 22,
   "metadata": {
    "ExecuteTime": {
     "end_time": "2023-12-11T17:23:07.471842600Z",
     "start_time": "2023-12-11T17:23:07.455881400Z"
    }
   },
   "outputs": [],
   "source": [
    "beta_0 = -165\n",
    "beta_1 = 0.7"
   ]
  },
  {
   "cell_type": "code",
   "execution_count": 26,
   "metadata": {
    "nbgrader": {
     "grade": false,
     "grade_id": "cell-8086826f4d0f39db",
     "locked": false,
     "schema_version": 1,
     "solution": true
    },
    "ExecuteTime": {
     "end_time": "2023-12-11T17:28:14.097805400Z",
     "start_time": "2023-12-11T17:28:14.079866300Z"
    }
   },
   "outputs": [
    {
     "data": {
      "text/plain": "array([0])"
     },
     "execution_count": 26,
     "metadata": {},
     "output_type": "execute_result"
    }
   ],
   "source": [
    "### GRADED\n",
    "probs = ''\n",
    "predictions = ''\n",
    "\n",
    "\n",
    "### BEGIN SOLUTION\n",
    "probs = sigma(X, beta_0, beta_1)\n",
    "predictions = np.where(probs >= 0.5, 1, 0)\n",
    "### END SOLUTION\n",
    "\n",
    "# Answer check\n",
    "np.unique(predictions)"
   ]
  },
  {
   "cell_type": "code",
   "execution_count": 27,
   "metadata": {
    "nbgrader": {
     "grade": true,
     "grade_id": "cell-0ddf5a5220d1c47e",
     "locked": true,
     "points": 10,
     "schema_version": 1,
     "solution": false
    },
    "ExecuteTime": {
     "end_time": "2023-12-11T17:28:14.835598300Z",
     "start_time": "2023-12-11T17:28:14.804705100Z"
    }
   },
   "outputs": [],
   "source": [
    "### BEGIN HIDDEN TESTS\n",
    "probs_ = sigma(X, beta_0, beta_1)\n",
    "predictions_ = np.where(probs_ >= 0.5, 1, 0)\n",
    "#\n",
    "#\n",
    "#\n",
    "np.testing.assert_array_equal(predictions, predictions_)\n",
    "### END HIDDEN TESTS"
   ]
  },
  {
   "cell_type": "markdown",
   "metadata": {
    "nbgrader": {
     "grade": false,
     "grade_id": "cell-6810d9f56a3486e3",
     "locked": true,
     "schema_version": 1,
     "solution": false
    }
   },
   "source": [
    "[Back to top](#-Index)\n",
    "\n",
    "### Problem 3\n",
    "\n",
    "#### Computing the Cross Entropy\n",
    "\n",
    "**10 Points**\n",
    "\n",
    "Recall that our goal is to find the $\\beta_0$ and $\\beta_1$ values that minimize the cross entropy.  The cross entropy was given to us as\n",
    "\n",
    "$$-\\sum_{i = 1} ^ N \\big( (1 - y_i)\\log(1 - \\sigma(x_i)\\big) + \\big(y_i(\\log \\sigma(x_i) \\big)$$\n",
    "\n",
    "Scikitlearn has an implementation of this in the metrics module with the `log_loss` function (imported again below).  To use this, we want to pass an array of probabilities for both the positive and negative classes against the true $y$ values.  Below, this array is created for you using the earlier probabilities.  Compute the log loss of your predicted probabilities and assign the value to `loss1` below.  "
   ]
  },
  {
   "cell_type": "code",
   "execution_count": 28,
   "metadata": {
    "ExecuteTime": {
     "end_time": "2023-12-11T17:28:16.962713900Z",
     "start_time": "2023-12-11T17:28:16.951751500Z"
    }
   },
   "outputs": [],
   "source": [
    "from sklearn.metrics import log_loss"
   ]
  },
  {
   "cell_type": "code",
   "execution_count": 29,
   "metadata": {
    "ExecuteTime": {
     "end_time": "2023-12-11T17:28:22.429956100Z",
     "start_time": "2023-12-11T17:28:22.415006800Z"
    }
   },
   "outputs": [
    {
     "data": {
      "text/plain": "   probability 0  probability 1\n0   2.325527e-17            1.0\n1   7.701087e-16            1.0\n2   4.193796e-13            1.0\n3   1.034177e-13            1.0\n4   1.266417e-14            1.0",
      "text/html": "<div>\n<style scoped>\n    .dataframe tbody tr th:only-of-type {\n        vertical-align: middle;\n    }\n\n    .dataframe tbody tr th {\n        vertical-align: top;\n    }\n\n    .dataframe thead th {\n        text-align: right;\n    }\n</style>\n<table border=\"1\" class=\"dataframe\">\n  <thead>\n    <tr style=\"text-align: right;\">\n      <th></th>\n      <th>probability 0</th>\n      <th>probability 1</th>\n    </tr>\n  </thead>\n  <tbody>\n    <tr>\n      <th>0</th>\n      <td>2.325527e-17</td>\n      <td>1.0</td>\n    </tr>\n    <tr>\n      <th>1</th>\n      <td>7.701087e-16</td>\n      <td>1.0</td>\n    </tr>\n    <tr>\n      <th>2</th>\n      <td>4.193796e-13</td>\n      <td>1.0</td>\n    </tr>\n    <tr>\n      <th>3</th>\n      <td>1.034177e-13</td>\n      <td>1.0</td>\n    </tr>\n    <tr>\n      <th>4</th>\n      <td>1.266417e-14</td>\n      <td>1.0</td>\n    </tr>\n  </tbody>\n</table>\n</div>"
     },
     "execution_count": 29,
     "metadata": {},
     "output_type": "execute_result"
    }
   ],
   "source": [
    "prob_array = np.concatenate((probs.values, (1 - probs).values), axis = 1)\n",
    "pd.DataFrame(prob_array, columns = ['probability 0', 'probability 1']).head()"
   ]
  },
  {
   "cell_type": "code",
   "execution_count": 31,
   "metadata": {
    "nbgrader": {
     "grade": false,
     "grade_id": "cell-4a2f889191ea3f75",
     "locked": false,
     "schema_version": 1,
     "solution": true
    },
    "ExecuteTime": {
     "end_time": "2023-12-11T17:32:56.039379500Z",
     "start_time": "2023-12-11T17:32:56.019441200Z"
    }
   },
   "outputs": [
    {
     "name": "stdout",
     "output_type": "stream",
     "text": [
      "17.345597211171192\n"
     ]
    }
   ],
   "source": [
    "### GRADED\n",
    "\n",
    "loss1 = ''\n",
    "\n",
    "### BEGIN SOLUTION\n",
    "loss1 = log_loss(y, prob_array)\n",
    "### END SOLUTION\n",
    "\n",
    "# Answer check\n",
    "print(loss1)"
   ]
  },
  {
   "cell_type": "code",
   "execution_count": 32,
   "metadata": {
    "nbgrader": {
     "grade": true,
     "grade_id": "cell-2152228bf0adfc25",
     "locked": true,
     "points": 10,
     "schema_version": 1,
     "solution": false
    },
    "ExecuteTime": {
     "end_time": "2023-12-11T17:32:56.555721600Z",
     "start_time": "2023-12-11T17:32:56.542423800Z"
    }
   },
   "outputs": [],
   "source": [
    "### BEGIN HIDDEN TESTS\n",
    "loss1_ = log_loss(y, prob_array)\n",
    "#\n",
    "#\n",
    "#\n",
    "assert loss1 == loss1_\n",
    "### END HIDDEN TESTS"
   ]
  },
  {
   "cell_type": "markdown",
   "metadata": {
    "nbgrader": {
     "grade": false,
     "grade_id": "cell-2b7720b972f0e0e5",
     "locked": true,
     "schema_version": 1,
     "solution": false
    }
   },
   "source": [
    "[Back to top](#-Index)\n",
    "\n",
    "### Problem 4\n",
    "\n",
    "#### Comparing Loss across Parameters\n",
    "\n",
    "**10 Points**\n",
    "\n",
    "Remember that your goal is to identify the parameters that **minimize** the log loss.  However, we know the rough values of this from our last assignment -- at least the values that come from the solved optimization problem with scikitlearn.  \n",
    "\n",
    "Accordingly, below consider an array of parameters `beta_1s`.  Complete the code below to loop over these parameters, determine probabilities using them, create a probability array, and compute the log loss of these predictions.  \n",
    "\n",
    "Keep track of the losses as a list in `losses`.  \n",
    "\n",
    "Finally, determine the beta_1 that minimizes the log_loss and assign it as a float to `best_beta1`."
   ]
  },
  {
   "cell_type": "code",
   "execution_count": 33,
   "metadata": {
    "ExecuteTime": {
     "end_time": "2023-12-11T17:32:58.737533700Z",
     "start_time": "2023-12-11T17:32:58.725569700Z"
    }
   },
   "outputs": [],
   "source": [
    "beta_1s = np.linspace(0, 1, 1000) #array of beta_1's to use\n",
    "beta_0 = -142 #beta_0"
   ]
  },
  {
   "cell_type": "code",
   "execution_count": 35,
   "metadata": {
    "nbgrader": {
     "grade": false,
     "grade_id": "cell-4777ea1367c2910f",
     "locked": false,
     "schema_version": 1,
     "solution": true
    },
    "ExecuteTime": {
     "end_time": "2023-12-11T17:42:25.932237400Z",
     "start_time": "2023-12-11T17:42:25.158628600Z"
    }
   },
   "outputs": [
    {
     "name": "stdout",
     "output_type": "stream",
     "text": [
      "0.7087087087087087\n"
     ]
    }
   ],
   "source": [
    "### GRADED\n",
    "losses = []\n",
    "for beta_1 in beta_1s:\n",
    "    probs = ''\n",
    "    prob_array = ''\n",
    "    losses.append(None)\n",
    "    \n",
    "best_beta1 = ''\n",
    "\n",
    "### BEGIN SOLUTION\n",
    "losses = []\n",
    "for beta_1 in beta_1s:\n",
    "    probs = sigma(X, beta_0, beta_1)\n",
    "    prob_array = np.concatenate((probs.values, (1 - probs).values), axis = 1)\n",
    "    losses.append(log_loss(y, prob_array))\n",
    "    \n",
    "best_beta1 = beta_1s[losses.index(min(losses))]\n",
    "### END SOLUTION\n",
    "\n",
    "# Answer check\n",
    "print(best_beta1)"
   ]
  },
  {
   "cell_type": "code",
   "execution_count": 36,
   "metadata": {
    "nbgrader": {
     "grade": true,
     "grade_id": "cell-e1daa05545cc653e",
     "locked": true,
     "points": 10,
     "schema_version": 1,
     "solution": false
    },
    "ExecuteTime": {
     "end_time": "2023-12-11T17:42:30.438484100Z",
     "start_time": "2023-12-11T17:42:29.365007700Z"
    }
   },
   "outputs": [],
   "source": [
    "### BEGIN HIDDEN TESTS\n",
    "losses_ = []\n",
    "for beta_1 in beta_1s:\n",
    "    probs_ = sigma(X, beta_0, beta_1)\n",
    "    prob_array_ = np.concatenate((probs_.values, (1 - probs_).values), axis = 1)\n",
    "    losses_.append(log_loss(y, prob_array_))\n",
    "    \n",
    "best_beta1_ = beta_1s[losses_.index(min(losses_))]\n",
    "#\n",
    "#\n",
    "#\n",
    "assert best_beta1 == best_beta1_\n",
    "### END HIDDEN TESTS"
   ]
  },
  {
   "cell_type": "markdown",
   "metadata": {
    "nbgrader": {
     "grade": false,
     "grade_id": "cell-bf9a48b3efcd7682",
     "locked": true,
     "schema_version": 1,
     "solution": false
    }
   },
   "source": [
    "[Back to top](#-Index)\n",
    "\n",
    "### Problem 5\n",
    "\n",
    "#### Comparing the results to `LogisticRegression`\n",
    "\n",
    "**10 Points**\n",
    "\n",
    "Behind the scenes, this is what the `LogisticRegression` estimator is doing.  However, unlike our guess and test strategy above, a solver that implements gradient descent is used to target the optimal parameter values.  Specifically, the solvers `'newton-cg', 'lbfgs', 'liblinear', 'sag', 'saga'` are available and `liblinear` is the default.  \n",
    "\n",
    "As a check, implement a logistic regression estimator using scikitlearn with all default settings and examine the coefficient.  Is it close to what you selected in problem 4 above?  \n",
    "\n",
    "Assign your fit estimator as `log_reg` the coefficient as a float to `coef` and the absolute difference between the coefficient from scikitlearn and that of `best_beta1` from problem 4 as difference."
   ]
  },
  {
   "cell_type": "code",
   "execution_count": 37,
   "metadata": {
    "nbgrader": {
     "grade": false,
     "grade_id": "cell-39462d43514bd0d8",
     "locked": false,
     "schema_version": 1,
     "solution": true
    },
    "ExecuteTime": {
     "end_time": "2023-12-11T17:42:50.691683200Z",
     "start_time": "2023-12-11T17:42:50.676214300Z"
    }
   },
   "outputs": [
    {
     "name": "stdout",
     "output_type": "stream",
     "text": [
      "Beta_1 from sklearn: 0.6948193765225669\n",
      "Beta_1 from our minimization: 0.7087087087087087\n",
      "Difference:  0.01\n"
     ]
    }
   ],
   "source": [
    "### GRADED\n",
    "\n",
    "logreg = ''\n",
    "coef = ''\n",
    "difference = ''\n",
    "\n",
    "### BEGIN SOLUTION\n",
    "logreg = LogisticRegression().fit(X, y)\n",
    "coef = float(logreg.coef_)\n",
    "difference = abs(coef - best_beta1)\n",
    "### END SOLUTION\n",
    "\n",
    "# Answer check\n",
    "print(f'Beta_1 from sklearn: {coef}\\nBeta_1 from our minimization: {best_beta1}\\nDifference: {difference: .2f}')\n"
   ]
  },
  {
   "cell_type": "code",
   "execution_count": null,
   "outputs": [],
   "source": [],
   "metadata": {
    "collapsed": false
   }
  },
  {
   "cell_type": "code",
   "execution_count": 16,
   "metadata": {
    "nbgrader": {
     "grade": true,
     "grade_id": "cell-3391b8637674a4a9",
     "locked": true,
     "points": 10,
     "schema_version": 1,
     "solution": false
    },
    "ExecuteTime": {
     "end_time": "2023-12-11T17:18:05.339274200Z",
     "start_time": "2023-12-11T17:18:05.293424Z"
    }
   },
   "outputs": [],
   "source": [
    "### BEGIN HIDDEN TESTS\n",
    "logreg_ = LogisticRegression().fit(X, y)\n",
    "coef_ = float(logreg_.coef_)\n",
    "difference_ = abs(coef_ - best_beta1_)\n",
    "#\n",
    "#\n",
    "#\n",
    "assert coef == coef_\n",
    "assert difference == difference_\n",
    "### END HIDDEN TESTS"
   ]
  },
  {
   "cell_type": "code",
   "execution_count": 16,
   "metadata": {
    "ExecuteTime": {
     "end_time": "2023-12-11T17:18:05.348236400Z",
     "start_time": "2023-12-11T17:18:05.309377100Z"
    }
   },
   "outputs": [],
   "source": []
  }
 ],
 "metadata": {
  "celltoolbar": "Create Assignment",
  "kernelspec": {
   "display_name": "Python 3",
   "language": "python",
   "name": "python3"
  },
  "language_info": {
   "codemirror_mode": {
    "name": "ipython",
    "version": 3
   },
   "file_extension": ".py",
   "mimetype": "text/x-python",
   "name": "python",
   "nbconvert_exporter": "python",
   "pygments_lexer": "ipython3",
   "version": "3.6.9"
  },
  "widgets": {
   "application/vnd.jupyter.widget-state+json": {
    "state": {},
    "version_major": 2,
    "version_minor": 0
   }
  }
 },
 "nbformat": 4,
 "nbformat_minor": 4
}
