{
 "cells": [
  {
   "cell_type": "markdown",
   "metadata": {
    "nbgrader": {
     "grade": false,
     "grade_id": "cell-780a10833ef4569c",
     "locked": true,
     "schema_version": 1,
     "solution": false
    }
   },
   "source": [
    "### Codio Activity 13.2: Introduction to Logistic Regression with Scikit-Learn\n",
    "\n",
    "**Expected Time = 60 minutes** \n",
    "\n",
    "**Total Points = 60** \n",
    "\n",
    "This activity introduces the `LogisticRegression` estimator from scikitlearn.  After fitting the model on a single feature for binary classes, you will plot the sigmoid curve for to represent the learned model in terms of probabilities.  Finally, you will evaluate the model in terms of accuracy, precision, and recall.  \n",
    "\n",
    "#### Index\n",
    "\n",
    "- [Problem 1](#-Problem-1)\n",
    "- [Problem 2](#-Problem-2)\n",
    "- [Problem 3](#-Problem-3)\n",
    "- [Problem 4](#-Problem-4)\n",
    "- [Problem 5](#-Problem-5)\n",
    "- [Problem 6](#-Problem-6)"
   ]
  },
  {
   "cell_type": "code",
   "execution_count": 41,
   "metadata": {
    "ExecuteTime": {
     "end_time": "2023-12-11T17:02:01.844620200Z",
     "start_time": "2023-12-11T17:02:01.734350300Z"
    }
   },
   "outputs": [],
   "source": [
    "import pandas as pd\n",
    "import numpy as np\n",
    "import seaborn as sns\n",
    "import matplotlib.pyplot as plt\n",
    "\n",
    "from sklearn.linear_model import LogisticRegression\n",
    "from sklearn.metrics import accuracy_score, recall_score, precision_score\n",
    "from sklearn.model_selection import train_test_split\n",
    "\n",
    "from scipy.optimize import minimize"
   ]
  },
  {
   "cell_type": "code",
   "execution_count": 42,
   "metadata": {
    "ExecuteTime": {
     "end_time": "2023-12-11T17:02:01.847609200Z",
     "start_time": "2023-12-11T17:02:01.753338700Z"
    }
   },
   "outputs": [],
   "source": [
    "penguins = sns.load_dataset('penguins').dropna()\n",
    "penguins = penguins.loc[(penguins['species'] == 'Adelie') | (penguins['species'] == 'Gentoo')]\n",
    "X = penguins.drop('species', axis = 1)[['flipper_length_mm']]\n",
    "y = np.where(penguins.species == 'Adelie', 0, 1)\n",
    "X_train, X_test, y_train, y_test = train_test_split(X, y, random_state = 42)"
   ]
  },
  {
   "cell_type": "code",
   "execution_count": 43,
   "metadata": {
    "ExecuteTime": {
     "end_time": "2023-12-11T17:02:01.920950400Z",
     "start_time": "2023-12-11T17:02:01.777211400Z"
    }
   },
   "outputs": [
    {
     "data": {
      "text/plain": "Text(0.5, 1.0, 'Flipper Length by Species')"
     },
     "execution_count": 43,
     "metadata": {},
     "output_type": "execute_result"
    },
    {
     "data": {
      "text/plain": "<Figure size 640x480 with 1 Axes>",
      "image/png": "[encoded data removed]"
     },
     "metadata": {},
     "output_type": "display_data"
    }
   ],
   "source": [
    "plt.scatter(X, penguins.species, c = y)\n",
    "plt.grid()\n",
    "plt.xlabel('Flipper Length (mm)')\n",
    "plt.ylabel('Species')\n",
    "plt.title('Flipper Length by Species')"
   ]
  },
  {
   "cell_type": "markdown",
   "metadata": {
    "nbgrader": {
     "grade": false,
     "grade_id": "cell-81ab669f9555a94f",
     "locked": true,
     "schema_version": 1,
     "solution": false
    }
   },
   "source": [
    "[Back to top](#-Index)\n",
    "\n",
    "### Problem 1\n",
    "\n",
    "#### Building a Logistic Model\n",
    "\n",
    "**10 Points**\n",
    "\n",
    "The `LogisticRegression` estimator works in the same way as our earlier examples.  Below, instantiate and fit the estimator as `log_reg` on the training data.  Note that you need not make the target feature numeric here, all the scikitlearn classifiers will handle string categories as a target.  "
   ]
  },
  {
   "cell_type": "code",
   "execution_count": 44,
   "metadata": {
    "nbgrader": {
     "grade": false,
     "grade_id": "cell-883ca83ce3760c4e",
     "locked": false,
     "schema_version": 1,
     "solution": true
    },
    "ExecuteTime": {
     "end_time": "2023-12-11T17:02:02.026647200Z",
     "start_time": "2023-12-11T17:02:01.922942900Z"
    }
   },
   "outputs": [
    {
     "name": "stdout",
     "output_type": "stream",
     "text": [
      "LogisticRegression()\n"
     ]
    }
   ],
   "source": [
    "### GRADED\n",
    "\n",
    "logreg = ''\n",
    "\n",
    "### BEGIN SOLUTION\n",
    "logreg = LogisticRegression().fit(X_train, y_train)\n",
    "### END SOLUTION\n",
    "\n",
    "# Answer check\n",
    "print(logreg)"
   ]
  },
  {
   "cell_type": "code",
   "execution_count": 45,
   "metadata": {
    "nbgrader": {
     "grade": true,
     "grade_id": "cell-ad29b4e862352ef6",
     "locked": true,
     "points": 10,
     "schema_version": 1,
     "solution": false
    },
    "ExecuteTime": {
     "end_time": "2023-12-11T17:02:02.036605700Z",
     "start_time": "2023-12-11T17:02:01.938473Z"
    }
   },
   "outputs": [],
   "source": [
    "### BEGIN HIDDEN TESTS\n",
    "logreg_ = LogisticRegression().fit(X_train, y_train)\n",
    "stu = logreg.coef_\n",
    "ans = logreg_.coef_\n",
    "#\n",
    "#\n",
    "#\n",
    "np.testing.assert_array_equal(stu, ans)\n",
    "### END HIDDEN TESTS"
   ]
  },
  {
   "cell_type": "markdown",
   "metadata": {
    "nbgrader": {
     "grade": false,
     "grade_id": "cell-2d1bbc4b2f767a0c",
     "locked": true,
     "schema_version": 1,
     "solution": false
    }
   },
   "source": [
    "[Back to top](#-Index)\n",
    "\n",
    "### Problem 2\n",
    "\n",
    "#### Examining the coefficients\n",
    "\n",
    "**10 Points**\n",
    "\n",
    "Similar to the `LinearRegression` estimator, your `log_reg` estimator now has a `.coef_` and `.intercept_` attribute.  Further, you are still interested in a linear combination of the input with these coefficients and intercept terms.  Below, complete the function `linear_predictions` that takes in a fit regression model, and a feature array.  It will return the predictions using the model $$\\text{odds} = \\text{intercept} + \\text{coef}*X$$ "
   ]
  },
  {
   "cell_type": "code",
   "execution_count": 46,
   "metadata": {
    "nbgrader": {
     "grade": false,
     "grade_id": "cell-0bcd6ad358d49405",
     "locked": false,
     "schema_version": 1,
     "solution": true
    },
    "ExecuteTime": {
     "end_time": "2023-12-11T17:02:02.038600400Z",
     "start_time": "2023-12-11T17:02:01.952426900Z"
    }
   },
   "outputs": [
    {
     "data": {
      "text/plain": "     flipper_length_mm\n92               -17.0\n340                7.0\n43                -8.0\n220                4.0\n253               19.0",
      "text/html": "<div>\n<style scoped>\n    .dataframe tbody tr th:only-of-type {\n        vertical-align: middle;\n    }\n\n    .dataframe tbody tr th {\n        vertical-align: top;\n    }\n\n    .dataframe thead th {\n        text-align: right;\n    }\n</style>\n<table border=\"1\" class=\"dataframe\">\n  <thead>\n    <tr style=\"text-align: right;\">\n      <th></th>\n      <th>flipper_length_mm</th>\n    </tr>\n  </thead>\n  <tbody>\n    <tr>\n      <th>92</th>\n      <td>-17.0</td>\n    </tr>\n    <tr>\n      <th>340</th>\n      <td>7.0</td>\n    </tr>\n    <tr>\n      <th>43</th>\n      <td>-8.0</td>\n    </tr>\n    <tr>\n      <th>220</th>\n      <td>4.0</td>\n    </tr>\n    <tr>\n      <th>253</th>\n      <td>19.0</td>\n    </tr>\n  </tbody>\n</table>\n</div>"
     },
     "execution_count": 46,
     "metadata": {},
     "output_type": "execute_result"
    }
   ],
   "source": [
    "### GRADED\n",
    "\n",
    "def linear_predictions(model, X):\n",
    "    \"\"\"\n",
    "    This function takes in a fit linear model\n",
    "    and returns the models intercept + coefs*X\n",
    "    \n",
    "    Arguments\n",
    "    ---------\n",
    "    model: scikitlearn.linear_model \n",
    "           Linear Model estimator -- Linear or Logistic Regression\n",
    "           that is already fit\n",
    "    X: pd.DataFrame (N,1)\n",
    "        1 Feature DataFrame with 1 feature\n",
    "        \n",
    "    Returns\n",
    "    --------\n",
    "    odds: pd.DataFrame\n",
    "         Array of odds based on input X\n",
    "    \"\"\"\n",
    "    return None\n",
    "\n",
    "### BEGIN SOLUTION\n",
    "def linear_predictions(model, X):\n",
    "    return model.coef_*X + model.intercept_\n",
    "### END SOLUTION\n",
    "\n",
    "# Answer check\n",
    "predictions = linear_predictions(logreg, X_train)\n",
    "np.round(predictions.head())"
   ]
  },
  {
   "cell_type": "code",
   "execution_count": 47,
   "metadata": {
    "nbgrader": {
     "grade": true,
     "grade_id": "cell-030d2d774b49bcba",
     "locked": true,
     "points": 10,
     "schema_version": 1,
     "solution": false
    },
    "ExecuteTime": {
     "end_time": "2023-12-11T17:02:02.038600400Z",
     "start_time": "2023-12-11T17:02:01.974428500Z"
    }
   },
   "outputs": [],
   "source": [
    "### BEGIN HIDDEN TESTS\n",
    "def linear_predictions_(model, X):\n",
    "    return model.coef_*X + model.intercept_\n",
    "predictions_ = linear_predictions(logreg, X_train)\n",
    "#\n",
    "#\n",
    "#\n",
    "np.testing.assert_array_equal(predictions, predictions_)\n",
    "### END HIDDEN TESTS"
   ]
  },
  {
   "cell_type": "markdown",
   "metadata": {
    "nbgrader": {
     "grade": false,
     "grade_id": "cell-621cf6101617c939",
     "locked": true,
     "schema_version": 1,
     "solution": false
    }
   },
   "source": [
    "[Back to top](#-Index)\n",
    "\n",
    "### Problem 3\n",
    "\n",
    "#### Examining the log odds\n",
    "\n",
    "**10 Points**\n",
    "\n",
    "The predictions above are the log odds for the positive class.  In order to interpret these as probabilities, we need to return to the original sigmoid form:\n",
    "\n",
    "$$\\sigma(x) = \\frac{1}{1 + e^{-(ax + b)}}$$\n",
    "\n",
    "Complete the function `sigma` below that takes in an array of log odds (like `predictions`) and returns the sigmoid function.  The results should look like the image below when plotted.\n",
    "\n",
    "<center>\n",
    "    <img src = 'images/sigmoid.png' />\n",
    "</center>"
   ]
  },
  {
   "cell_type": "code",
   "execution_count": 48,
   "metadata": {
    "nbgrader": {
     "grade": false,
     "grade_id": "cell-5818932cefd70eb1",
     "locked": false,
     "schema_version": 1,
     "solution": true
    },
    "ExecuteTime": {
     "end_time": "2023-12-11T17:02:02.040094100Z",
     "start_time": "2023-12-11T17:02:01.984776Z"
    }
   },
   "outputs": [
    {
     "name": "stdout",
     "output_type": "stream",
     "text": [
      "     flipper_length_mm\n",
      "92        3.984942e-08\n",
      "340       9.991126e-01\n",
      "43        2.706259e-04\n",
      "220       9.784955e-01\n",
      "253       1.000000e+00\n",
      "..                 ...\n",
      "25        1.982262e-07\n",
      "263       9.996019e-01\n",
      "77        1.786704e-08\n",
      "112       2.439876e-05\n",
      "108       1.610438e-09\n",
      "\n",
      "[198 rows x 1 columns]\n"
     ]
    }
   ],
   "source": [
    "### GRADED\n",
    "\n",
    "def sigma(predictions):\n",
    "    \"\"\"\n",
    "    This function takes in predictions as log odds and\n",
    "    returns their probability of being the positive class\n",
    "    in a binary classification setting.\n",
    "    \n",
    "    Arguments\n",
    "    ---------\n",
    "    predictions; np.array\n",
    "            array of log odds prediction values for each data\n",
    "            point\n",
    "    Returns\n",
    "    ---------\n",
    "    probabilities: np.array\n",
    "            array of probabilities for positive class\n",
    "    \"\"\"\n",
    "    return None\n",
    "\n",
    "### BEGIN SOLUTION\n",
    "def sigma(predictions):\n",
    "    return 1/(1 + np.exp(-predictions))\n",
    "### END SOLUTION\n",
    "\n",
    "# Answer check\n",
    "probs = sigma(predictions)\n",
    "print(probs)\n",
    "#plt.scatter(X, probs, c = y)"
   ]
  },
  {
   "cell_type": "code",
   "execution_count": 49,
   "metadata": {
    "nbgrader": {
     "grade": true,
     "grade_id": "cell-847149c07b0aabe4",
     "locked": true,
     "points": 10,
     "schema_version": 1,
     "solution": false
    },
    "ExecuteTime": {
     "end_time": "2023-12-11T17:02:02.040094100Z",
     "start_time": "2023-12-11T17:02:02.000727800Z"
    }
   },
   "outputs": [],
   "source": [
    "### BEGIN HIDDEN TESTS\n",
    "def sigma_(predictions):\n",
    "    return 1/(1 + np.exp(-predictions))\n",
    "probs = sigma(predictions)\n",
    "probs_ = sigma_(predictions)\n",
    "#\n",
    "#\n",
    "#\n",
    "np.testing.assert_array_equal(probs, probs_)\n",
    "### END HIDDEN TESTS"
   ]
  },
  {
   "cell_type": "markdown",
   "metadata": {
    "nbgrader": {
     "grade": false,
     "grade_id": "cell-97ce97cd1401f7b9",
     "locked": true,
     "schema_version": 1,
     "solution": false
    }
   },
   "source": [
    "[Back to top](#-Index)\n",
    "\n",
    "### Problem 4\n",
    "\n",
    "#### Making Class Predictions\n",
    "\n",
    "**10 Points**\n",
    "\n",
    "Now, use the probabilities obtained from the sigmoid function to make predictions.  Specifically, if a probability is greater than or equal to 0.5, assign this to the positive class 1, otherwise assign class 0.  Assign your solution as a numpy array to `class_predictions` below."
   ]
  },
  {
   "cell_type": "code",
   "execution_count": 50,
   "metadata": {
    "nbgrader": {
     "grade": false,
     "grade_id": "cell-af1f3a6d1f64927f",
     "locked": false,
     "schema_version": 1,
     "solution": true
    },
    "ExecuteTime": {
     "end_time": "2023-12-11T17:02:02.041096100Z",
     "start_time": "2023-12-11T17:02:02.017682800Z"
    }
   },
   "outputs": [
    {
     "name": "stdout",
     "output_type": "stream",
     "text": [
      "[105  93]\n"
     ]
    }
   ],
   "source": [
    "### GRADED\n",
    "\n",
    "class_predictions = ''\n",
    "\n",
    "### BEGIN SOLUTION\n",
    "class_predictions = np.where(sigma(predictions) >= 0.5, 1, 0)\n",
    "### END SOLUTION\n",
    "\n",
    "# Answer check\n",
    "print(np.unique(class_predictions, return_counts=True)[1])"
   ]
  },
  {
   "cell_type": "code",
   "execution_count": 51,
   "metadata": {
    "nbgrader": {
     "grade": true,
     "grade_id": "cell-bd06f8b3c011c96a",
     "locked": true,
     "points": 10,
     "schema_version": 1,
     "solution": false
    },
    "ExecuteTime": {
     "end_time": "2023-12-11T17:02:02.054053700Z",
     "start_time": "2023-12-11T17:02:02.031623100Z"
    }
   },
   "outputs": [],
   "source": [
    "### BEGIN HIDDEN TESTS\n",
    "def sigma_(predictions):\n",
    "    return 1/(1 + np.exp(-predictions))\n",
    "probs_ = sigma_(predictions)\n",
    "class_predictions_ = np.where(sigma(predictions) >= 0.5, 1, 0)\n",
    "#\n",
    "#\n",
    "#\n",
    "np.testing.assert_array_equal(class_predictions, class_predictions_)\n",
    "### END HIDDEN TESTS"
   ]
  },
  {
   "cell_type": "markdown",
   "metadata": {
    "nbgrader": {
     "grade": false,
     "grade_id": "cell-aba36cc4f9a369a3",
     "locked": true,
     "schema_version": 1,
     "solution": false
    }
   },
   "source": [
    "[Back to top](#-Index)\n",
    "\n",
    "### Problem 5\n",
    "\n",
    "#### Using the `predict_proba` method\n",
    "\n",
    "**10 Points**\n",
    "\n",
    "Luckily, you needn't go through this process each time having fit a Logistic model to determine these probabilities.  A fit `LogisticRegression` estimator has a `.predict_proba` method similar to that of the `KNeighborsClassifier` from last module.  This returns the probabilities for each class as a 2D numpy array.  Below, assign the probabilities for the positive class on the test data as a 1D numpy array -- (67,) -- to `positive_probs` below using the `predict_proba` method of the `logreg` object. \n"
   ]
  },
  {
   "cell_type": "code",
   "execution_count": 52,
   "metadata": {
    "nbgrader": {
     "grade": false,
     "grade_id": "cell-f350745aa18bae90",
     "locked": false,
     "schema_version": 1,
     "solution": true
    },
    "ExecuteTime": {
     "end_time": "2023-12-11T17:02:02.309170700Z",
     "start_time": "2023-12-11T17:02:02.047077200Z"
    }
   },
   "outputs": [
    {
     "name": "stdout",
     "output_type": "stream",
     "text": [
      "(67,)\n"
     ]
    },
    {
     "data": {
      "text/plain": "<matplotlib.collections.PathCollection at 0x1f13bfd4dc0>"
     },
     "execution_count": 52,
     "metadata": {},
     "output_type": "execute_result"
    },
    {
     "data": {
      "text/plain": "<Figure size 640x480 with 1 Axes>",
      "image/png": "[encoded data removed]"
     },
     "metadata": {},
     "output_type": "display_data"
    }
   ],
   "source": [
    "### GRADED\n",
    "\n",
    "positive_probs = ''\n",
    "\n",
    "### BEGIN SOLUTION\n",
    "positive_probs = logreg.predict_proba(X_test)[:, 1]\n",
    "### END SOLUTION\n",
    "\n",
    "# Answer check\n",
    "print(positive_probs.shape) #(67,)\n",
    "plt.scatter(X_test, positive_probs, c = y_test)"
   ]
  },
  {
   "cell_type": "code",
   "execution_count": 53,
   "metadata": {
    "nbgrader": {
     "grade": true,
     "grade_id": "cell-665d5fd3f889aa79",
     "locked": true,
     "points": 10,
     "schema_version": 1,
     "solution": false
    },
    "ExecuteTime": {
     "end_time": "2023-12-11T17:02:02.309170700Z",
     "start_time": "2023-12-11T17:02:02.280585300Z"
    }
   },
   "outputs": [],
   "source": [
    "### BEGIN HIDDEN TESTS\n",
    "positive_probs_ = logreg_.predict_proba(X_test)[:, 1]\n",
    "#\n",
    "#\n",
    "#\n",
    "np.testing.assert_array_equal(positive_probs, positive_probs_)\n",
    "### END HIDDEN TESTS"
   ]
  },
  {
   "cell_type": "markdown",
   "metadata": {
    "nbgrader": {
     "grade": false,
     "grade_id": "cell-c6619cd0a8044fec",
     "locked": true,
     "schema_version": 1,
     "solution": false
    }
   },
   "source": [
    "[Back to top](#-Index)\n",
    "\n",
    "### Problem 6\n",
    "\n",
    "#### Scoring the Classifier\n",
    "\n",
    "**10 Points**\n",
    "\n",
    "Again, you may be interested in different metrics for your classifier.  Below, use the `logreg` object to make predictions and evaluate them again `y_test` for accuracy, precision, and recall.  Assign as floats to the appropriate variables below."
   ]
  },
  {
   "cell_type": "code",
   "execution_count": 54,
   "metadata": {
    "nbgrader": {
     "grade": false,
     "grade_id": "cell-282f4248c3e596bd",
     "locked": false,
     "schema_version": 1,
     "solution": true
    },
    "ExecuteTime": {
     "end_time": "2023-12-11T17:02:02.311450800Z",
     "start_time": "2023-12-11T17:02:02.298611Z"
    }
   },
   "outputs": [
    {
     "name": "stdout",
     "output_type": "stream",
     "text": [
      "Accuracy:  0.99\n",
      "Precision:  1.00\n",
      "Recall:  0.96\n"
     ]
    }
   ],
   "source": [
    "### GRADED\n",
    "preds = ''\n",
    "accuracy = ''\n",
    "precision = ''\n",
    "recall = ''\n",
    "\n",
    "### BEGIN SOLUTION\n",
    "preds = logreg.predict(X_test)\n",
    "accuracy = accuracy_score(y_test, preds)\n",
    "precision = precision_score(y_test, preds)\n",
    "recall = recall_score(y_test, preds)\n",
    "### END SOLUTION\n",
    "\n",
    "# Answer check\n",
    "print(f'Accuracy: {accuracy: .2f}\\nPrecision: {precision: .2f}\\nRecall: {recall: .2f}')"
   ]
  },
  {
   "cell_type": "code",
   "execution_count": 55,
   "metadata": {
    "nbgrader": {
     "grade": true,
     "grade_id": "cell-69af0c46ddd5ab2a",
     "locked": true,
     "points": 10,
     "schema_version": 1,
     "solution": false
    },
    "ExecuteTime": {
     "end_time": "2023-12-11T17:02:02.370523400Z",
     "start_time": "2023-12-11T17:02:02.311450800Z"
    }
   },
   "outputs": [],
   "source": [
    "### BEGIN HIDDEN TESTS\n",
    "\n",
    "preds_ = logreg_.predict(X_test)\n",
    "accuracy_ = accuracy_score(y_test, preds_)\n",
    "precision_ = precision_score(y_test, preds_)\n",
    "recall_ = recall_score(y_test, preds_)\n",
    "#\n",
    "#\n",
    "#\n",
    "assert accuracy == accuracy_\n",
    "assert precision == precision_\n",
    "assert recall == recall_\n",
    "### END HIDDEN TESTS\n"
   ]
  },
  {
   "cell_type": "markdown",
   "metadata": {
    "nbgrader": {
     "grade": false,
     "grade_id": "cell-60f9c42e51e97653",
     "locked": true,
     "schema_version": 1,
     "solution": false
    }
   },
   "source": [
    "From this example it seems you have a powerful classifier.  In the following activity, you will explore more about exactly where these coefficients come from and how they are determined in general.  "
   ]
  }
 ],
 "metadata": {
  "celltoolbar": "Create Assignment",
  "kernelspec": {
   "display_name": "Python 3",
   "language": "python",
   "name": "python3"
  },
  "language_info": {
   "codemirror_mode": {
    "name": "ipython",
    "version": 3
   },
   "file_extension": ".py",
   "mimetype": "text/x-python",
   "name": "python",
   "nbconvert_exporter": "python",
   "pygments_lexer": "ipython3",
   "version": "3.6.9"
  },
  "widgets": {
   "application/vnd.jupyter.widget-state+json": {
    "state": {},
    "version_major": 2,
    "version_minor": 0
   }
  }
 },
 "nbformat": 4,
 "nbformat_minor": 4
}
