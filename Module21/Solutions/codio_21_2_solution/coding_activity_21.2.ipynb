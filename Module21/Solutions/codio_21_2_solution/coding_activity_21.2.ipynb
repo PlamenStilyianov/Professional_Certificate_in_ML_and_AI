{
 "cells": [
  {
   "cell_type": "markdown",
   "metadata": {},
   "source": [
    "### Basic Aggregating of Models\n",
    "\n",
    "This activity focuses on combining models in an ensemble to make predictions.  You will first create an ensemble on your own and then be introduced to the `VotingClassifier` from `scikitlearn` to implement these ensembles.  You will consider a classification problem and use Logistic Regression, KNN, and Support Vector Machines to build your ensemble.  \n",
    "\n",
    "#### Index\n",
    "\n",
    "- [Problem 1](#-Problem-1)\n",
    "- [Problem 2](#-Problem-2)\n",
    "- [Problem 3](#-Problem-3)\n",
    "- [Problem 4](#-Problem-4)\n",
    "- [Problem 5](#-Problem-5)\n",
    "- [Problem 6](#-Problem-6)\n",
    "\n"
   ]
  },
  {
   "cell_type": "code",
   "execution_count": 1,
   "metadata": {
    "ExecuteTime": {
     "end_time": "2024-02-26T00:05:11.376279600Z",
     "start_time": "2024-02-26T00:05:10.354108800Z"
    }
   },
   "outputs": [
    {
     "name": "stderr",
     "output_type": "stream",
     "text": [
      "C:\\Users\\Plamen\\AppData\\Local\\Temp\\ipykernel_11764\\3434748652.py:8: DeprecationWarning: \n",
      "Pyarrow will become a required dependency of pandas in the next major release of pandas (pandas 3.0),\n",
      "(to allow more performant data types, such as the Arrow string type, and better interoperability with other libraries)\n",
      "but was not found to be installed on your system.\n",
      "If this would cause problems for you,\n",
      "please provide us feedback at https://github.com/pandas-dev/pandas/issues/54466\n",
      "        \n",
      "  import pandas as pd\n"
     ]
    }
   ],
   "source": [
    "from sklearn.linear_model import LogisticRegression\n",
    "from sklearn.neighbors import KNeighborsClassifier\n",
    "from sklearn.svm import SVC\n",
    "from sklearn.model_selection import train_test_split\n",
    "from sklearn.preprocessing import StandardScaler\n",
    "from sklearn.ensemble import VotingClassifier\n",
    "\n",
    "import pandas as pd\n",
    "import numpy as np\n",
    "import matplotlib.pyplot as plt\n",
    "import warnings\n",
    "warnings.filterwarnings('ignore')"
   ]
  },
  {
   "cell_type": "markdown",
   "metadata": {},
   "source": [
    "### The Data\n",
    "\n",
    "\n",
    "The data was retrieved from [kaggle]() and contains information from fetal Cardiotocogram exams that were classified into three categories:\n",
    "\n",
    "\n",
    "- Normal\n",
    "- Suspect\n",
    "- Pathological\n"
   ]
  },
  {
   "cell_type": "code",
   "execution_count": 2,
   "metadata": {
    "ExecuteTime": {
     "end_time": "2024-02-26T00:05:11.392917200Z",
     "start_time": "2024-02-26T00:05:11.378271700Z"
    }
   },
   "outputs": [],
   "source": [
    "df = pd.read_csv('data/fetal.zip', compression = 'zip')"
   ]
  },
  {
   "cell_type": "code",
   "execution_count": 3,
   "metadata": {
    "ExecuteTime": {
     "end_time": "2024-02-26T00:05:11.420073100Z",
     "start_time": "2024-02-26T00:05:11.390917900Z"
    }
   },
   "outputs": [
    {
     "data": {
      "text/plain": "   baseline value  accelerations  fetal_movement  uterine_contractions  \\\n0           120.0          0.000             0.0                 0.000   \n1           132.0          0.006             0.0                 0.006   \n2           133.0          0.003             0.0                 0.008   \n3           134.0          0.003             0.0                 0.008   \n4           132.0          0.007             0.0                 0.008   \n\n   light_decelerations  severe_decelerations  prolongued_decelerations  \\\n0                0.000                   0.0                       0.0   \n1                0.003                   0.0                       0.0   \n2                0.003                   0.0                       0.0   \n3                0.003                   0.0                       0.0   \n4                0.000                   0.0                       0.0   \n\n   abnormal_short_term_variability  mean_value_of_short_term_variability  \\\n0                             73.0                                   0.5   \n1                             17.0                                   2.1   \n2                             16.0                                   2.1   \n3                             16.0                                   2.4   \n4                             16.0                                   2.4   \n\n   percentage_of_time_with_abnormal_long_term_variability  ...  histogram_min  \\\n0                                               43.0       ...           62.0   \n1                                                0.0       ...           68.0   \n2                                                0.0       ...           68.0   \n3                                                0.0       ...           53.0   \n4                                                0.0       ...           53.0   \n\n   histogram_max  histogram_number_of_peaks  histogram_number_of_zeroes  \\\n0          126.0                        2.0                         0.0   \n1          198.0                        6.0                         1.0   \n2          198.0                        5.0                         1.0   \n3          170.0                       11.0                         0.0   \n4          170.0                        9.0                         0.0   \n\n   histogram_mode  histogram_mean  histogram_median  histogram_variance  \\\n0           120.0           137.0             121.0                73.0   \n1           141.0           136.0             140.0                12.0   \n2           141.0           135.0             138.0                13.0   \n3           137.0           134.0             137.0                13.0   \n4           137.0           136.0             138.0                11.0   \n\n   histogram_tendency  fetal_health  \n0                 1.0           2.0  \n1                 0.0           1.0  \n2                 0.0           1.0  \n3                 1.0           1.0  \n4                 1.0           1.0  \n\n[5 rows x 22 columns]",
      "text/html": "<div>\n<style scoped>\n    .dataframe tbody tr th:only-of-type {\n        vertical-align: middle;\n    }\n\n    .dataframe tbody tr th {\n        vertical-align: top;\n    }\n\n    .dataframe thead th {\n        text-align: right;\n    }\n</style>\n<table border=\"1\" class=\"dataframe\">\n  <thead>\n    <tr style=\"text-align: right;\">\n      <th></th>\n      <th>baseline value</th>\n      <th>accelerations</th>\n      <th>fetal_movement</th>\n      <th>uterine_contractions</th>\n      <th>light_decelerations</th>\n      <th>severe_decelerations</th>\n      <th>prolongued_decelerations</th>\n      <th>abnormal_short_term_variability</th>\n      <th>mean_value_of_short_term_variability</th>\n      <th>percentage_of_time_with_abnormal_long_term_variability</th>\n      <th>...</th>\n      <th>histogram_min</th>\n      <th>histogram_max</th>\n      <th>histogram_number_of_peaks</th>\n      <th>histogram_number_of_zeroes</th>\n      <th>histogram_mode</th>\n      <th>histogram_mean</th>\n      <th>histogram_median</th>\n      <th>histogram_variance</th>\n      <th>histogram_tendency</th>\n      <th>fetal_health</th>\n    </tr>\n  </thead>\n  <tbody>\n    <tr>\n      <th>0</th>\n      <td>120.0</td>\n      <td>0.000</td>\n      <td>0.0</td>\n      <td>0.000</td>\n      <td>0.000</td>\n      <td>0.0</td>\n      <td>0.0</td>\n      <td>73.0</td>\n      <td>0.5</td>\n      <td>43.0</td>\n      <td>...</td>\n      <td>62.0</td>\n      <td>126.0</td>\n      <td>2.0</td>\n      <td>0.0</td>\n      <td>120.0</td>\n      <td>137.0</td>\n      <td>121.0</td>\n      <td>73.0</td>\n      <td>1.0</td>\n      <td>2.0</td>\n    </tr>\n    <tr>\n      <th>1</th>\n      <td>132.0</td>\n      <td>0.006</td>\n      <td>0.0</td>\n      <td>0.006</td>\n      <td>0.003</td>\n      <td>0.0</td>\n      <td>0.0</td>\n      <td>17.0</td>\n      <td>2.1</td>\n      <td>0.0</td>\n      <td>...</td>\n      <td>68.0</td>\n      <td>198.0</td>\n      <td>6.0</td>\n      <td>1.0</td>\n      <td>141.0</td>\n      <td>136.0</td>\n      <td>140.0</td>\n      <td>12.0</td>\n      <td>0.0</td>\n      <td>1.0</td>\n    </tr>\n    <tr>\n      <th>2</th>\n      <td>133.0</td>\n      <td>0.003</td>\n      <td>0.0</td>\n      <td>0.008</td>\n      <td>0.003</td>\n      <td>0.0</td>\n      <td>0.0</td>\n      <td>16.0</td>\n      <td>2.1</td>\n      <td>0.0</td>\n      <td>...</td>\n      <td>68.0</td>\n      <td>198.0</td>\n      <td>5.0</td>\n      <td>1.0</td>\n      <td>141.0</td>\n      <td>135.0</td>\n      <td>138.0</td>\n      <td>13.0</td>\n      <td>0.0</td>\n      <td>1.0</td>\n    </tr>\n    <tr>\n      <th>3</th>\n      <td>134.0</td>\n      <td>0.003</td>\n      <td>0.0</td>\n      <td>0.008</td>\n      <td>0.003</td>\n      <td>0.0</td>\n      <td>0.0</td>\n      <td>16.0</td>\n      <td>2.4</td>\n      <td>0.0</td>\n      <td>...</td>\n      <td>53.0</td>\n      <td>170.0</td>\n      <td>11.0</td>\n      <td>0.0</td>\n      <td>137.0</td>\n      <td>134.0</td>\n      <td>137.0</td>\n      <td>13.0</td>\n      <td>1.0</td>\n      <td>1.0</td>\n    </tr>\n    <tr>\n      <th>4</th>\n      <td>132.0</td>\n      <td>0.007</td>\n      <td>0.0</td>\n      <td>0.008</td>\n      <td>0.000</td>\n      <td>0.0</td>\n      <td>0.0</td>\n      <td>16.0</td>\n      <td>2.4</td>\n      <td>0.0</td>\n      <td>...</td>\n      <td>53.0</td>\n      <td>170.0</td>\n      <td>9.0</td>\n      <td>0.0</td>\n      <td>137.0</td>\n      <td>136.0</td>\n      <td>138.0</td>\n      <td>11.0</td>\n      <td>1.0</td>\n      <td>1.0</td>\n    </tr>\n  </tbody>\n</table>\n<p>5 rows × 22 columns</p>\n</div>"
     },
     "execution_count": 3,
     "metadata": {},
     "output_type": "execute_result"
    }
   ],
   "source": [
    "df.head()"
   ]
  },
  {
   "cell_type": "code",
   "execution_count": 4,
   "metadata": {
    "ExecuteTime": {
     "end_time": "2024-02-26T00:05:11.420864700Z",
     "start_time": "2024-02-26T00:05:11.411267400Z"
    }
   },
   "outputs": [
    {
     "name": "stdout",
     "output_type": "stream",
     "text": [
      "<class 'pandas.core.frame.DataFrame'>\n",
      "RangeIndex: 2126 entries, 0 to 2125\n",
      "Data columns (total 22 columns):\n",
      " #   Column                                                  Non-Null Count  Dtype  \n",
      "---  ------                                                  --------------  -----  \n",
      " 0   baseline value                                          2126 non-null   float64\n",
      " 1   accelerations                                           2126 non-null   float64\n",
      " 2   fetal_movement                                          2126 non-null   float64\n",
      " 3   uterine_contractions                                    2126 non-null   float64\n",
      " 4   light_decelerations                                     2126 non-null   float64\n",
      " 5   severe_decelerations                                    2126 non-null   float64\n",
      " 6   prolongued_decelerations                                2126 non-null   float64\n",
      " 7   abnormal_short_term_variability                         2126 non-null   float64\n",
      " 8   mean_value_of_short_term_variability                    2126 non-null   float64\n",
      " 9   percentage_of_time_with_abnormal_long_term_variability  2126 non-null   float64\n",
      " 10  mean_value_of_long_term_variability                     2126 non-null   float64\n",
      " 11  histogram_width                                         2126 non-null   float64\n",
      " 12  histogram_min                                           2126 non-null   float64\n",
      " 13  histogram_max                                           2126 non-null   float64\n",
      " 14  histogram_number_of_peaks                               2126 non-null   float64\n",
      " 15  histogram_number_of_zeroes                              2126 non-null   float64\n",
      " 16  histogram_mode                                          2126 non-null   float64\n",
      " 17  histogram_mean                                          2126 non-null   float64\n",
      " 18  histogram_median                                        2126 non-null   float64\n",
      " 19  histogram_variance                                      2126 non-null   float64\n",
      " 20  histogram_tendency                                      2126 non-null   float64\n",
      " 21  fetal_health                                            2126 non-null   float64\n",
      "dtypes: float64(22)\n",
      "memory usage: 365.5 KB\n"
     ]
    }
   ],
   "source": [
    "df.info()"
   ]
  },
  {
   "cell_type": "code",
   "execution_count": 5,
   "metadata": {
    "ExecuteTime": {
     "end_time": "2024-02-26T00:05:11.423373Z",
     "start_time": "2024-02-26T00:05:11.417073600Z"
    }
   },
   "outputs": [
    {
     "data": {
      "text/plain": "fetal_health\n1.0    1655\n2.0     295\n3.0     176\nName: count, dtype: int64"
     },
     "execution_count": 5,
     "metadata": {},
     "output_type": "execute_result"
    }
   ],
   "source": [
    "df['fetal_health'].value_counts()"
   ]
  },
  {
   "cell_type": "code",
   "execution_count": 6,
   "metadata": {
    "ExecuteTime": {
     "end_time": "2024-02-26T00:05:11.433162Z",
     "start_time": "2024-02-26T00:05:11.422386600Z"
    }
   },
   "outputs": [],
   "source": [
    "X = df.drop('fetal_health', axis = 1)\n",
    "y = df['fetal_health']"
   ]
  },
  {
   "cell_type": "code",
   "execution_count": 7,
   "metadata": {
    "ExecuteTime": {
     "end_time": "2024-02-26T00:05:11.433162Z",
     "start_time": "2024-02-26T00:05:11.426269900Z"
    }
   },
   "outputs": [],
   "source": [
    "scaler = StandardScaler()\n",
    "X = scaler.fit_transform(X)"
   ]
  },
  {
   "cell_type": "markdown",
   "metadata": {},
   "source": [
    "[Back to top](#-Index)\n",
    "\n",
    "### Problem 1\n",
    "\n",
    "#### Model Predictions\n",
    "\n",
    "**10 Points**\n",
    "\n",
    "Given the models below and the starter code, scale that data and train the models on the data, assigning the predictions as an array to the given dictionary.  "
   ]
  },
  {
   "cell_type": "code",
   "execution_count": 8,
   "metadata": {
    "ExecuteTime": {
     "end_time": "2024-02-26T00:05:11.465435200Z",
     "start_time": "2024-02-26T00:05:11.432019900Z"
    }
   },
   "outputs": [],
   "source": [
    "models = [LogisticRegression(), KNeighborsClassifier(), SVC()]"
   ]
  },
  {
   "cell_type": "code",
   "execution_count": 20,
   "metadata": {
    "ExecuteTime": {
     "end_time": "2024-02-26T00:10:12.322697800Z",
     "start_time": "2024-02-26T00:10:12.108387100Z"
    }
   },
   "outputs": [
    {
     "data": {
      "text/plain": "{'logistic': array([2., 1., 1., ..., 2., 2., 1.]),\n 'knn': array([2., 1., 1., ..., 2., 2., 1.]),\n 'svc': array([2., 1., 1., ..., 2., 2., 1.])}"
     },
     "execution_count": 20,
     "metadata": {},
     "output_type": "execute_result"
    }
   ],
   "source": [
    "### GRADED\n",
    "results = {'logistic': [],\n",
    "          'knn': [],\n",
    "          'svc': []}\n",
    "for model in models:\n",
    "    #fit the model\n",
    "    pass\n",
    "    #make predictions\n",
    "    \n",
    "    #track predictions with predictions -- should have three \n",
    "\n",
    "    \n",
    "### BEGIN SOLUTION\n",
    "results = {'logistic': [],\n",
    "          'knn': [],\n",
    "          'svc': []}\n",
    "\n",
    "for i, model in enumerate(models):\n",
    "    model.fit(X, y)\n",
    "    results[list(results.keys())[i]] = model.predict(X)\n",
    "        \n",
    "### END SOLUTION\n",
    "\n",
    "### ANSWER CHECK\n",
    "results"
   ]
  },
  {
   "cell_type": "code",
   "execution_count": 21,
   "metadata": {
    "ExecuteTime": {
     "end_time": "2024-02-26T00:11:27.678187500Z",
     "start_time": "2024-02-26T00:11:27.479912Z"
    }
   },
   "outputs": [],
   "source": [
    "### BEGIN HIDDEN TESTS\n",
    "results_ = {'logistic': [],\n",
    "          'knn': [],\n",
    "          'svc': []}\n",
    "i = 0\n",
    "for model_ in models:\n",
    "    model_.fit(X, y)\n",
    "    results_[list(results_.keys())[i]] = model_.predict(X)\n",
    "    i += 1\n",
    "#\n",
    "#\n",
    "#\n",
    "for k in results:\n",
    "    np.testing.assert_array_equal(results[k], results_[k])\n",
    "### END HIDDEN TESTS"
   ]
  },
  {
   "cell_type": "markdown",
   "metadata": {},
   "source": [
    "[Back to top](#-Index)\n",
    "\n",
    "### Problem 2\n",
    "\n",
    "#### Majority Vote\n",
    "\n",
    "**10 Points**\n",
    "\n",
    "Using your dictionary of predictions, create a DataFrame called `prediction_df` and add a column to the DataFrame named `ensemble_prediction` based on the majority vote of your predictions."
   ]
  },
  {
   "cell_type": "code",
   "execution_count": 22,
   "metadata": {
    "ExecuteTime": {
     "end_time": "2024-02-26T00:11:30.000638200Z",
     "start_time": "2024-02-26T00:11:29.713288100Z"
    }
   },
   "outputs": [
    {
     "data": {
      "text/plain": "   logistic  knn  svc  ensemble_prediction\n0       2.0  2.0  2.0                  2.0\n1       1.0  1.0  1.0                  1.0\n2       1.0  1.0  1.0                  1.0\n3       1.0  1.0  1.0                  1.0\n4       1.0  1.0  1.0                  1.0",
      "text/html": "<div>\n<style scoped>\n    .dataframe tbody tr th:only-of-type {\n        vertical-align: middle;\n    }\n\n    .dataframe tbody tr th {\n        vertical-align: top;\n    }\n\n    .dataframe thead th {\n        text-align: right;\n    }\n</style>\n<table border=\"1\" class=\"dataframe\">\n  <thead>\n    <tr style=\"text-align: right;\">\n      <th></th>\n      <th>logistic</th>\n      <th>knn</th>\n      <th>svc</th>\n      <th>ensemble_prediction</th>\n    </tr>\n  </thead>\n  <tbody>\n    <tr>\n      <th>0</th>\n      <td>2.0</td>\n      <td>2.0</td>\n      <td>2.0</td>\n      <td>2.0</td>\n    </tr>\n    <tr>\n      <th>1</th>\n      <td>1.0</td>\n      <td>1.0</td>\n      <td>1.0</td>\n      <td>1.0</td>\n    </tr>\n    <tr>\n      <th>2</th>\n      <td>1.0</td>\n      <td>1.0</td>\n      <td>1.0</td>\n      <td>1.0</td>\n    </tr>\n    <tr>\n      <th>3</th>\n      <td>1.0</td>\n      <td>1.0</td>\n      <td>1.0</td>\n      <td>1.0</td>\n    </tr>\n    <tr>\n      <th>4</th>\n      <td>1.0</td>\n      <td>1.0</td>\n      <td>1.0</td>\n      <td>1.0</td>\n    </tr>\n  </tbody>\n</table>\n</div>"
     },
     "execution_count": 22,
     "metadata": {},
     "output_type": "execute_result"
    }
   ],
   "source": [
    "### GRADED\n",
    "prediction_df = pd.DataFrame()\n",
    "prediction_df['ensemble_prediction'] = ''\n",
    "    \n",
    "### BEGIN SOLUTION\n",
    "prediction_df = pd.DataFrame(results)\n",
    "prediction_df['ensemble_prediction'] = prediction_df.mode(axis = 1).iloc[:, 0]\n",
    "### END SOLUTION\n",
    "\n",
    "### ANSWER CHECK\n",
    "prediction_df.head()"
   ]
  },
  {
   "cell_type": "code",
   "execution_count": 12,
   "metadata": {
    "ExecuteTime": {
     "end_time": "2024-02-26T00:05:12.471437Z",
     "start_time": "2024-02-26T00:05:12.206507800Z"
    }
   },
   "outputs": [],
   "source": [
    "### BEGIN HIDDEN TESTS\n",
    "prediction_df_ = pd.DataFrame(results_)\n",
    "prediction_df_['ensemble_prediction'] = prediction_df_.mode(axis = 1).iloc[:, 0]\n",
    "#\n",
    "#\n",
    "#\n",
    "pd.testing.assert_frame_equal(prediction_df, prediction_df)\n",
    "### END HIDDEN TESTS"
   ]
  },
  {
   "cell_type": "markdown",
   "metadata": {},
   "source": [
    "[Back to top](#-Index)\n",
    "\n",
    "### Problem 3\n",
    "\n",
    "\n",
    "#### Accuracy of Classifiers\n",
    "\n",
    "**10 Points**\n",
    "\n",
    "\n",
    "Create a list of accuracy scores for each of the classifiers.  Use this list with the columns to create a DataFrame named `results_df` to hold the accuracy scores of the classifiers.  What rank was your ensemble?\n"
   ]
  },
  {
   "cell_type": "code",
   "execution_count": 13,
   "metadata": {
    "ExecuteTime": {
     "end_time": "2024-02-26T00:05:12.479497200Z",
     "start_time": "2024-02-26T00:05:12.473423700Z"
    }
   },
   "outputs": [],
   "source": [
    "from sklearn.metrics import accuracy_score"
   ]
  },
  {
   "cell_type": "code",
   "execution_count": 14,
   "metadata": {
    "ExecuteTime": {
     "end_time": "2024-02-26T00:05:12.481787700Z",
     "start_time": "2024-02-26T00:05:12.476194300Z"
    }
   },
   "outputs": [
    {
     "data": {
      "text/plain": "[0.9045155221072436, 0.9374412041392286, 0.929444967074318, 0.9270931326434619]"
     },
     "execution_count": 14,
     "metadata": {},
     "output_type": "execute_result"
    }
   ],
   "source": [
    "### GRADED\n",
    "accuracies = []\n",
    "\n",
    "    \n",
    "### BEGIN SOLUTION\n",
    "accuracies = []\n",
    "for col in prediction_df.columns:\n",
    "    accuracies.append(accuracy_score(y, prediction_df[col]))\n",
    "### END SOLUTION\n",
    "\n",
    "### ANSWER CHECK\n",
    "accuracies"
   ]
  },
  {
   "cell_type": "code",
   "execution_count": 15,
   "metadata": {
    "ExecuteTime": {
     "end_time": "2024-02-26T00:05:12.489603700Z",
     "start_time": "2024-02-26T00:05:12.482787300Z"
    }
   },
   "outputs": [],
   "source": [
    "### BEGIN HIDDEN TESTS\n",
    "accuracies_ = []\n",
    "for col in prediction_df_.columns:\n",
    "    accuracies_.append(accuracy_score(y, prediction_df_[col]))\n",
    "#\n",
    "#\n",
    "#\n",
    "assert accuracies == accuracies_\n",
    "### END HIDDEN TESTS"
   ]
  },
  {
   "cell_type": "markdown",
   "metadata": {},
   "source": [
    "[Back to top](#-Index)\n",
    "\n",
    "### Problem 4\n",
    "\n",
    "#### Using the Voting Classifier\n",
    "\n",
    "**10 Points**\n",
    "\n",
    "Use the documentation and User Guide [here](https://scikit-learn.org/stable/modules/ensemble.html#voting-classifier) to create a voting ensemble using the `VotingClassifier` based on the majority vote using the same three classifiers `svc`, `lgr`, and `knn`.  Assign the accuracy of the ensemble to `vote_accuracy` below."
   ]
  },
  {
   "cell_type": "code",
   "execution_count": 23,
   "metadata": {
    "ExecuteTime": {
     "end_time": "2024-02-26T00:16:27.496775800Z",
     "start_time": "2024-02-26T00:16:27.298947600Z"
    }
   },
   "outputs": [
    {
     "data": {
      "text/plain": "0.9270931326434619"
     },
     "execution_count": 23,
     "metadata": {},
     "output_type": "execute_result"
    }
   ],
   "source": [
    "### GRADED\n",
    "voter = ''\n",
    "vote_accuracy = ''\n",
    "    \n",
    "### BEGIN SOLUTION\n",
    "voter = VotingClassifier([('svc', SVC()), ('lgr', LogisticRegression()), ('knn', KNeighborsClassifier())])\n",
    "voter.fit(X, y)\n",
    "vote_accuracy = voter.score(X, y)\n",
    "### END SOLUTION\n",
    "\n",
    "### ANSWER CHECK\n",
    "vote_accuracy"
   ]
  },
  {
   "cell_type": "code",
   "execution_count": 17,
   "metadata": {
    "ExecuteTime": {
     "end_time": "2024-02-26T00:05:12.975499400Z",
     "start_time": "2024-02-26T00:05:12.745412300Z"
    }
   },
   "outputs": [],
   "source": [
    "### BEGIN HIDDEN TESTS\n",
    "voter_ = VotingClassifier([('svc', SVC()), ('lgr', LogisticRegression()), ('knn', KNeighborsClassifier())])\n",
    "voter_.fit(X, y)\n",
    "vote_accuracy_ = voter_.score(X, y)\n",
    "#\n",
    "#\n",
    "#\n",
    "assert vote_accuracy == vote_accuracy_\n",
    "### END HIDDEN TESTS"
   ]
  },
  {
   "cell_type": "markdown",
   "metadata": {},
   "source": [
    "[Back to top](#-Index)\n",
    "\n",
    "### Problem 5\n",
    "\n",
    "#### Voting based on probabilities\n",
    "\n",
    "**10 Points**\n",
    "\n",
    "Consult the user guide and create a new ensemble that makes predictions based on the probabilities of the estimators.  **HINT**: This has to do with the `voting` parameter.  Assign the ensemble as `soft_voter` and the accuracy as `soft_accuracy`. "
   ]
  },
  {
   "cell_type": "code",
   "execution_count": 24,
   "metadata": {
    "ExecuteTime": {
     "end_time": "2024-02-26T00:17:36.835793400Z",
     "start_time": "2024-02-26T00:17:36.470578800Z"
    }
   },
   "outputs": [
    {
     "data": {
      "text/plain": "0.938381937911571"
     },
     "execution_count": 24,
     "metadata": {},
     "output_type": "execute_result"
    }
   ],
   "source": [
    "### GRADED\n",
    "soft_voter = ''\n",
    "soft_accuracy = ''\n",
    "    \n",
    "### BEGIN SOLUTION\n",
    "soft_voter = VotingClassifier([('svc', SVC(probability = True)), ('lgr', LogisticRegression()), ('knn', KNeighborsClassifier())], voting = 'soft')\n",
    "soft_voter.fit(X, y)\n",
    "soft_accuracy = soft_voter.score(X, y)\n",
    "### END SOLUTION\n",
    "\n",
    "### ANSWER CHECK\n",
    "soft_accuracy"
   ]
  },
  {
   "cell_type": "code",
   "execution_count": 29,
   "metadata": {
    "ExecuteTime": {
     "end_time": "2024-02-26T00:22:12.412316300Z",
     "start_time": "2024-02-26T00:22:11.977699800Z"
    }
   },
   "outputs": [],
   "source": [
    "### BEGIN HIDDEN TESTS\n",
    "soft_voter_ = VotingClassifier([('svc', SVC(probability = True)), ('lgr', LogisticRegression()), ('knn', KNeighborsClassifier())], voting = 'soft')\n",
    "soft_voter_.fit(X, y)\n",
    "soft_accuracy_ = soft_voter_.score(X, y)\n",
    "#\n",
    "#\n",
    "#\n",
    "assert soft_accuracy_ == soft_accuracy\n",
    "### END HIDDEN TESTS"
   ]
  },
  {
   "cell_type": "markdown",
   "metadata": {},
   "source": [
    "[Back to top](#-Index)\n",
    "\n",
    "### Problem 6\n",
    "\n",
    "#### Using different weights \n",
    "\n",
    "**10 Points**\n",
    "\n",
    "Finally, consider weighing the classifiers differently.  Use the Logistic Regression estimator as .5 of the weight in predicting based on majority votes, and the SVC and KNN as 0.25 each.  Assign the accuracy of these predictions on the test data to `weighted_acc`.  "
   ]
  },
  {
   "cell_type": "code",
   "execution_count": 30,
   "metadata": {
    "ExecuteTime": {
     "end_time": "2024-02-26T00:22:53.678041700Z",
     "start_time": "2024-02-26T00:22:53.208035Z"
    }
   },
   "outputs": [
    {
     "data": {
      "text/plain": "0.9214487300094073"
     },
     "execution_count": 30,
     "metadata": {},
     "output_type": "execute_result"
    }
   ],
   "source": [
    "### GRADED\n",
    "weighted_vote = ''\n",
    "weighted_vote = ''\n",
    "    \n",
    "### BEGIN SOLUTION\n",
    "weighted_voter = VotingClassifier([('svc', SVC(probability = True)), ('lgr', LogisticRegression()), ('knn', KNeighborsClassifier())], weights=[0.25, .5, .25])\n",
    "weighted_voter.fit(X, y)\n",
    "weighted_score = weighted_voter.score(X, y)\n",
    "### END SOLUTION\n",
    "\n",
    "### ANSWER CHECK\n",
    "weighted_score"
   ]
  },
  {
   "cell_type": "code",
   "execution_count": 32,
   "metadata": {
    "ExecuteTime": {
     "end_time": "2024-02-26T00:23:05.736843300Z",
     "start_time": "2024-02-26T00:23:05.267800400Z"
    }
   },
   "outputs": [],
   "source": [
    "### BEGIN HIDDEN TESTS\n",
    "weighted_voter_ = VotingClassifier([('svc', SVC(probability = True)), ('lgr', LogisticRegression()), ('knn', KNeighborsClassifier())], weights=[0.25, .5, .25])\n",
    "weighted_voter_.fit(X, y)\n",
    "weighted_score_ = weighted_voter_.score(X, y)\n",
    "#\n",
    "#\n",
    "#\n",
    "assert weighted_score == weighted_score_\n",
    "### END HIDDEN TESTS"
   ]
  },
  {
   "cell_type": "code",
   "outputs": [],
   "source": [],
   "metadata": {
    "collapsed": false
   }
  }
 ],
 "metadata": {
  "kernelspec": {
   "display_name": "Python 3",
   "language": "python",
   "name": "python3"
  },
  "language_info": {
   "codemirror_mode": {
    "name": "ipython",
    "version": 3
   },
   "file_extension": ".py",
   "mimetype": "text/x-python",
   "name": "python",
   "nbconvert_exporter": "python",
   "pygments_lexer": "ipython3",
   "version": "3.8.3"
  }
 },
 "nbformat": 4,
 "nbformat_minor": 4
}
