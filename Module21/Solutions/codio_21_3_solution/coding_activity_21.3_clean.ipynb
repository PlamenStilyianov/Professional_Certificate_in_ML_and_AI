{
 "cells": [
  {
   "cell_type": "markdown",
   "metadata": {
    "deletable": false,
    "editable": false,
    "nbgrader": {
     "cell_type": "markdown",
     "checksum": "cae04d5ada55fd81cb2a6e78473d4256",
     "grade": false,
     "grade_id": "cell-41029cfbb4062fd2",
     "locked": true,
     "schema_version": 3,
     "solution": false,
     "task": false
    }
   },
   "source": [
    "### Codio Activity 21.3: Implementing Bootstrapping\n",
    "\n",
    "**Expected Time = 30 minutes**\n",
    "\n",
    "**Total Points = 30**\n",
    "\n",
    "This activity focuses on the construction of bootstrapped samples using `pandas`.  You will take samples with replacement from the data and build Logistic Regression models on these samples.  This is a starting step towards the random forest using a Decision Tree over a Logistic Regressor.\n",
    "\n",
    "- [Problem 1](#-Problem-1)\n",
    "- [Problem 2](#-Problem-2)\n",
    "- [Problem 3](#-Problem-3)\n"
   ]
  },
  {
   "cell_type": "code",
   "execution_count": 1,
   "metadata": {
    "ExecuteTime": {
     "end_time": "2024-02-27T18:57:52.966296300Z",
     "start_time": "2024-02-27T18:57:52.007889700Z"
    }
   },
   "outputs": [
    {
     "name": "stderr",
     "output_type": "stream",
     "text": [
      "C:\\Users\\Plamen\\AppData\\Local\\Temp\\ipykernel_11304\\2177880679.py:3: DeprecationWarning: \n",
      "Pyarrow will become a required dependency of pandas in the next major release of pandas (pandas 3.0),\n",
      "(to allow more performant data types, such as the Arrow string type, and better interoperability with other libraries)\n",
      "but was not found to be installed on your system.\n",
      "If this would cause problems for you,\n",
      "please provide us feedback at https://github.com/pandas-dev/pandas/issues/54466\n",
      "        \n",
      "  import pandas as pd\n"
     ]
    }
   ],
   "source": [
    "import matplotlib.pyplot as plt\n",
    "import numpy as np\n",
    "import pandas as pd\n",
    "import scipy.stats as stats\n",
    "from sklearn.linear_model import LogisticRegression\n",
    "import warnings\n",
    "warnings.filterwarnings('ignore')"
   ]
  },
  {
   "cell_type": "code",
   "execution_count": 2,
   "metadata": {
    "ExecuteTime": {
     "end_time": "2024-02-27T18:57:52.978443800Z",
     "start_time": "2024-02-27T18:57:52.968289400Z"
    }
   },
   "outputs": [],
   "source": [
    "df = pd.read_csv('data/fetal.zip', compression = 'zip')"
   ]
  },
  {
   "cell_type": "code",
   "execution_count": 3,
   "metadata": {
    "ExecuteTime": {
     "end_time": "2024-02-27T18:57:52.987925600Z",
     "start_time": "2024-02-27T18:57:52.979441700Z"
    }
   },
   "outputs": [],
   "source": [
    "X, y = df.drop('fetal_health', axis = 1), df['fetal_health']"
   ]
  },
  {
   "cell_type": "code",
   "execution_count": 4,
   "metadata": {
    "ExecuteTime": {
     "end_time": "2024-02-27T18:57:53.008245400Z",
     "start_time": "2024-02-27T18:57:52.983934700Z"
    }
   },
   "outputs": [
    {
     "data": {
      "text/plain": "      baseline value  accelerations  fetal_movement  uterine_contractions  \\\n282            133.0          0.002           0.010                 0.003   \n1999           125.0          0.000           0.001                 0.009   \n1709           131.0          0.004           0.003                 0.004   \n988            131.0          0.011           0.000                 0.005   \n2018           125.0          0.000           0.000                 0.008   \n297            148.0          0.000           0.012                 0.000   \n1737           134.0          0.005           0.001                 0.007   \n651            123.0          0.000           0.000                 0.000   \n70             144.0          0.001           0.000                 0.005   \n290            144.0          0.000           0.005                 0.000   \n\n      light_decelerations  severe_decelerations  prolongued_decelerations  \\\n282                 0.002                   0.0                     0.000   \n1999                0.008                   0.0                     0.000   \n1709                0.005                   0.0                     0.001   \n988                 0.000                   0.0                     0.000   \n2018                0.007                   0.0                     0.001   \n297                 0.000                   0.0                     0.000   \n1737                0.005                   0.0                     0.000   \n651                 0.000                   0.0                     0.000   \n70                  0.000                   0.0                     0.000   \n290                 0.000                   0.0                     0.000   \n\n      abnormal_short_term_variability  mean_value_of_short_term_variability  \\\n282                              46.0                                   1.1   \n1999                             62.0                                   1.7   \n1709                             60.0                                   2.1   \n988                              29.0                                   1.3   \n2018                             64.0                                   1.3   \n297                              75.0                                   0.2   \n1737                             61.0                                   1.1   \n651                              74.0                                   0.3   \n70                               45.0                                   0.8   \n290                              65.0                                   0.4   \n\n      percentage_of_time_with_abnormal_long_term_variability  ...  \\\n282                                                 0.0       ...   \n1999                                                0.0       ...   \n1709                                                0.0       ...   \n988                                                 0.0       ...   \n2018                                                0.0       ...   \n297                                                84.0       ...   \n1737                                                0.0       ...   \n651                                                90.0       ...   \n70                                                  2.0       ...   \n290                                                21.0       ...   \n\n      histogram_width  histogram_min  histogram_max  \\\n282              69.0           95.0          164.0   \n1999             72.0           68.0          140.0   \n1709             90.0           78.0          168.0   \n988              89.0           82.0          171.0   \n2018             77.0           78.0          155.0   \n297               7.0          145.0          152.0   \n1737             83.0           90.0          173.0   \n651               9.0          120.0          129.0   \n70               30.0          138.0          168.0   \n290              27.0          129.0          156.0   \n\n      histogram_number_of_peaks  histogram_number_of_zeroes  histogram_mode  \\\n282                         5.0                         0.0           139.0   \n1999                        5.0                         0.0           130.0   \n1709                        8.0                         0.0           133.0   \n988                         8.0                         0.0           143.0   \n2018                        4.0                         0.0           114.0   \n297                         1.0                         0.0           148.0   \n1737                        5.0                         0.0           142.0   \n651                         2.0                         0.0           123.0   \n70                          3.0                         0.0           162.0   \n290                         2.0                         0.0           150.0   \n\n      histogram_mean  histogram_median  histogram_variance  histogram_tendency  \n282            135.0             138.0                 9.0                 0.0  \n1999           116.0             125.0                29.0                 1.0  \n1709           127.0             132.0                21.0                 0.0  \n988            145.0             145.0                 9.0                 1.0  \n2018           111.0             114.0                 7.0                 0.0  \n297            148.0             149.0                 0.0                 0.0  \n1737           143.0             147.0                17.0                 1.0  \n651            124.0             125.0                 0.0                 0.0  \n70             157.0             160.0                 5.0                 1.0  \n290            146.0             148.0                 3.0                 1.0  \n\n[10 rows x 21 columns]",
      "text/html": "<div>\n<style scoped>\n    .dataframe tbody tr th:only-of-type {\n        vertical-align: middle;\n    }\n\n    .dataframe tbody tr th {\n        vertical-align: top;\n    }\n\n    .dataframe thead th {\n        text-align: right;\n    }\n</style>\n<table border=\"1\" class=\"dataframe\">\n  <thead>\n    <tr style=\"text-align: right;\">\n      <th></th>\n      <th>baseline value</th>\n      <th>accelerations</th>\n      <th>fetal_movement</th>\n      <th>uterine_contractions</th>\n      <th>light_decelerations</th>\n      <th>severe_decelerations</th>\n      <th>prolongued_decelerations</th>\n      <th>abnormal_short_term_variability</th>\n      <th>mean_value_of_short_term_variability</th>\n      <th>percentage_of_time_with_abnormal_long_term_variability</th>\n      <th>...</th>\n      <th>histogram_width</th>\n      <th>histogram_min</th>\n      <th>histogram_max</th>\n      <th>histogram_number_of_peaks</th>\n      <th>histogram_number_of_zeroes</th>\n      <th>histogram_mode</th>\n      <th>histogram_mean</th>\n      <th>histogram_median</th>\n      <th>histogram_variance</th>\n      <th>histogram_tendency</th>\n    </tr>\n  </thead>\n  <tbody>\n    <tr>\n      <th>282</th>\n      <td>133.0</td>\n      <td>0.002</td>\n      <td>0.010</td>\n      <td>0.003</td>\n      <td>0.002</td>\n      <td>0.0</td>\n      <td>0.000</td>\n      <td>46.0</td>\n      <td>1.1</td>\n      <td>0.0</td>\n      <td>...</td>\n      <td>69.0</td>\n      <td>95.0</td>\n      <td>164.0</td>\n      <td>5.0</td>\n      <td>0.0</td>\n      <td>139.0</td>\n      <td>135.0</td>\n      <td>138.0</td>\n      <td>9.0</td>\n      <td>0.0</td>\n    </tr>\n    <tr>\n      <th>1999</th>\n      <td>125.0</td>\n      <td>0.000</td>\n      <td>0.001</td>\n      <td>0.009</td>\n      <td>0.008</td>\n      <td>0.0</td>\n      <td>0.000</td>\n      <td>62.0</td>\n      <td>1.7</td>\n      <td>0.0</td>\n      <td>...</td>\n      <td>72.0</td>\n      <td>68.0</td>\n      <td>140.0</td>\n      <td>5.0</td>\n      <td>0.0</td>\n      <td>130.0</td>\n      <td>116.0</td>\n      <td>125.0</td>\n      <td>29.0</td>\n      <td>1.0</td>\n    </tr>\n    <tr>\n      <th>1709</th>\n      <td>131.0</td>\n      <td>0.004</td>\n      <td>0.003</td>\n      <td>0.004</td>\n      <td>0.005</td>\n      <td>0.0</td>\n      <td>0.001</td>\n      <td>60.0</td>\n      <td>2.1</td>\n      <td>0.0</td>\n      <td>...</td>\n      <td>90.0</td>\n      <td>78.0</td>\n      <td>168.0</td>\n      <td>8.0</td>\n      <td>0.0</td>\n      <td>133.0</td>\n      <td>127.0</td>\n      <td>132.0</td>\n      <td>21.0</td>\n      <td>0.0</td>\n    </tr>\n    <tr>\n      <th>988</th>\n      <td>131.0</td>\n      <td>0.011</td>\n      <td>0.000</td>\n      <td>0.005</td>\n      <td>0.000</td>\n      <td>0.0</td>\n      <td>0.000</td>\n      <td>29.0</td>\n      <td>1.3</td>\n      <td>0.0</td>\n      <td>...</td>\n      <td>89.0</td>\n      <td>82.0</td>\n      <td>171.0</td>\n      <td>8.0</td>\n      <td>0.0</td>\n      <td>143.0</td>\n      <td>145.0</td>\n      <td>145.0</td>\n      <td>9.0</td>\n      <td>1.0</td>\n    </tr>\n    <tr>\n      <th>2018</th>\n      <td>125.0</td>\n      <td>0.000</td>\n      <td>0.000</td>\n      <td>0.008</td>\n      <td>0.007</td>\n      <td>0.0</td>\n      <td>0.001</td>\n      <td>64.0</td>\n      <td>1.3</td>\n      <td>0.0</td>\n      <td>...</td>\n      <td>77.0</td>\n      <td>78.0</td>\n      <td>155.0</td>\n      <td>4.0</td>\n      <td>0.0</td>\n      <td>114.0</td>\n      <td>111.0</td>\n      <td>114.0</td>\n      <td>7.0</td>\n      <td>0.0</td>\n    </tr>\n    <tr>\n      <th>297</th>\n      <td>148.0</td>\n      <td>0.000</td>\n      <td>0.012</td>\n      <td>0.000</td>\n      <td>0.000</td>\n      <td>0.0</td>\n      <td>0.000</td>\n      <td>75.0</td>\n      <td>0.2</td>\n      <td>84.0</td>\n      <td>...</td>\n      <td>7.0</td>\n      <td>145.0</td>\n      <td>152.0</td>\n      <td>1.0</td>\n      <td>0.0</td>\n      <td>148.0</td>\n      <td>148.0</td>\n      <td>149.0</td>\n      <td>0.0</td>\n      <td>0.0</td>\n    </tr>\n    <tr>\n      <th>1737</th>\n      <td>134.0</td>\n      <td>0.005</td>\n      <td>0.001</td>\n      <td>0.007</td>\n      <td>0.005</td>\n      <td>0.0</td>\n      <td>0.000</td>\n      <td>61.0</td>\n      <td>1.1</td>\n      <td>0.0</td>\n      <td>...</td>\n      <td>83.0</td>\n      <td>90.0</td>\n      <td>173.0</td>\n      <td>5.0</td>\n      <td>0.0</td>\n      <td>142.0</td>\n      <td>143.0</td>\n      <td>147.0</td>\n      <td>17.0</td>\n      <td>1.0</td>\n    </tr>\n    <tr>\n      <th>651</th>\n      <td>123.0</td>\n      <td>0.000</td>\n      <td>0.000</td>\n      <td>0.000</td>\n      <td>0.000</td>\n      <td>0.0</td>\n      <td>0.000</td>\n      <td>74.0</td>\n      <td>0.3</td>\n      <td>90.0</td>\n      <td>...</td>\n      <td>9.0</td>\n      <td>120.0</td>\n      <td>129.0</td>\n      <td>2.0</td>\n      <td>0.0</td>\n      <td>123.0</td>\n      <td>124.0</td>\n      <td>125.0</td>\n      <td>0.0</td>\n      <td>0.0</td>\n    </tr>\n    <tr>\n      <th>70</th>\n      <td>144.0</td>\n      <td>0.001</td>\n      <td>0.000</td>\n      <td>0.005</td>\n      <td>0.000</td>\n      <td>0.0</td>\n      <td>0.000</td>\n      <td>45.0</td>\n      <td>0.8</td>\n      <td>2.0</td>\n      <td>...</td>\n      <td>30.0</td>\n      <td>138.0</td>\n      <td>168.0</td>\n      <td>3.0</td>\n      <td>0.0</td>\n      <td>162.0</td>\n      <td>157.0</td>\n      <td>160.0</td>\n      <td>5.0</td>\n      <td>1.0</td>\n    </tr>\n    <tr>\n      <th>290</th>\n      <td>144.0</td>\n      <td>0.000</td>\n      <td>0.005</td>\n      <td>0.000</td>\n      <td>0.000</td>\n      <td>0.0</td>\n      <td>0.000</td>\n      <td>65.0</td>\n      <td>0.4</td>\n      <td>21.0</td>\n      <td>...</td>\n      <td>27.0</td>\n      <td>129.0</td>\n      <td>156.0</td>\n      <td>2.0</td>\n      <td>0.0</td>\n      <td>150.0</td>\n      <td>146.0</td>\n      <td>148.0</td>\n      <td>3.0</td>\n      <td>1.0</td>\n    </tr>\n  </tbody>\n</table>\n<p>10 rows × 21 columns</p>\n</div>"
     },
     "execution_count": 4,
     "metadata": {},
     "output_type": "execute_result"
    }
   ],
   "source": [
    "X.sample(10, random_state = 42)"
   ]
  },
  {
   "cell_type": "markdown",
   "metadata": {
    "deletable": false,
    "editable": false,
    "nbgrader": {
     "cell_type": "markdown",
     "checksum": "796a77bc759734ba7d7e766778a70ab1",
     "grade": false,
     "grade_id": "cell-9ad59e0f64c0cda8",
     "locked": true,
     "schema_version": 3,
     "solution": false,
     "task": false
    }
   },
   "source": [
    "[Back to top](#-Index)\n",
    "\n",
    "### Problem 1\n",
    "\n",
    "#### Taking Samples with Replacement\n",
    "\n",
    "**10 Points**\n",
    "\n",
    "Below, use the `.sample()` method to take samples with replacement of size 20 from the data `X`.  Use the iteration index as the `random_state` for each sample, create a DataFrame named `sample_means` where each row is the observed mean of the sample column in `X`. Don't forget to set `replace = True` when using `.sample()`"
   ]
  },
  {
   "cell_type": "code",
   "execution_count": 5,
   "metadata": {
    "deletable": false,
    "nbgrader": {
     "cell_type": "code",
     "checksum": "343d7e7a7f813c05279a1cd6262fdd7d",
     "grade": false,
     "grade_id": "cell-c340c53a91b0e904",
     "locked": false,
     "schema_version": 3,
     "solution": true,
     "task": false
    },
    "ExecuteTime": {
     "end_time": "2024-02-27T18:57:53.079417400Z",
     "start_time": "2024-02-27T18:57:53.010239400Z"
    }
   },
   "outputs": [
    {
     "data": {
      "text/plain": "   baseline value  accelerations  fetal_movement  uterine_contractions  \\\n0          130.85        0.00250         0.00155               0.00420   \n1          133.10        0.00355         0.00120               0.00440   \n2          131.85        0.00225         0.00930               0.00485   \n3          132.60        0.00425         0.00325               0.00455   \n4          134.90        0.00175         0.00335               0.00495   \n\n   light_decelerations  severe_decelerations  prolongued_decelerations  \\\n0              0.00355                   0.0                   0.00000   \n1              0.00185                   0.0                   0.00025   \n2              0.00295                   0.0                   0.00040   \n3              0.00230                   0.0                   0.00020   \n4              0.00245                   0.0                   0.00005   \n\n   abnormal_short_term_variability  mean_value_of_short_term_variability  \\\n0                            53.75                                 1.295   \n1                            41.10                                 1.395   \n2                            34.80                                 1.955   \n3                            48.10                                 1.490   \n4                            40.30                                 1.310   \n\n   percentage_of_time_with_abnormal_long_term_variability  ...  \\\n0                                              10.90       ...   \n1                                               8.00       ...   \n2                                               6.85       ...   \n3                                               5.15       ...   \n4                                              13.40       ...   \n\n   histogram_width  histogram_min  histogram_max  histogram_number_of_peaks  \\\n0            81.15          83.50         164.65                       5.60   \n1            77.30          84.65         161.95                       4.65   \n2            74.05          89.80         163.85                       4.05   \n3            75.25          90.95         166.20                       4.10   \n4            80.50          83.85         164.35                       4.95   \n\n   histogram_number_of_zeroes  histogram_mode  histogram_mean  \\\n0                        0.45          134.30          130.50   \n1                        0.40          136.40          133.60   \n2                        0.25          133.85          129.55   \n3                        0.40          140.80          135.60   \n4                        0.45          139.05          134.50   \n\n   histogram_median  histogram_variance  histogram_tendency  \n0            134.85               16.85                0.15  \n1            137.45               13.45                0.40  \n2            132.85               26.25                0.20  \n3            140.20               20.05                0.45  \n4            138.50               13.00                0.65  \n\n[5 rows x 21 columns]",
      "text/html": "<div>\n<style scoped>\n    .dataframe tbody tr th:only-of-type {\n        vertical-align: middle;\n    }\n\n    .dataframe tbody tr th {\n        vertical-align: top;\n    }\n\n    .dataframe thead th {\n        text-align: right;\n    }\n</style>\n<table border=\"1\" class=\"dataframe\">\n  <thead>\n    <tr style=\"text-align: right;\">\n      <th></th>\n      <th>baseline value</th>\n      <th>accelerations</th>\n      <th>fetal_movement</th>\n      <th>uterine_contractions</th>\n      <th>light_decelerations</th>\n      <th>severe_decelerations</th>\n      <th>prolongued_decelerations</th>\n      <th>abnormal_short_term_variability</th>\n      <th>mean_value_of_short_term_variability</th>\n      <th>percentage_of_time_with_abnormal_long_term_variability</th>\n      <th>...</th>\n      <th>histogram_width</th>\n      <th>histogram_min</th>\n      <th>histogram_max</th>\n      <th>histogram_number_of_peaks</th>\n      <th>histogram_number_of_zeroes</th>\n      <th>histogram_mode</th>\n      <th>histogram_mean</th>\n      <th>histogram_median</th>\n      <th>histogram_variance</th>\n      <th>histogram_tendency</th>\n    </tr>\n  </thead>\n  <tbody>\n    <tr>\n      <th>0</th>\n      <td>130.85</td>\n      <td>0.00250</td>\n      <td>0.00155</td>\n      <td>0.00420</td>\n      <td>0.00355</td>\n      <td>0.0</td>\n      <td>0.00000</td>\n      <td>53.75</td>\n      <td>1.295</td>\n      <td>10.90</td>\n      <td>...</td>\n      <td>81.15</td>\n      <td>83.50</td>\n      <td>164.65</td>\n      <td>5.60</td>\n      <td>0.45</td>\n      <td>134.30</td>\n      <td>130.50</td>\n      <td>134.85</td>\n      <td>16.85</td>\n      <td>0.15</td>\n    </tr>\n    <tr>\n      <th>1</th>\n      <td>133.10</td>\n      <td>0.00355</td>\n      <td>0.00120</td>\n      <td>0.00440</td>\n      <td>0.00185</td>\n      <td>0.0</td>\n      <td>0.00025</td>\n      <td>41.10</td>\n      <td>1.395</td>\n      <td>8.00</td>\n      <td>...</td>\n      <td>77.30</td>\n      <td>84.65</td>\n      <td>161.95</td>\n      <td>4.65</td>\n      <td>0.40</td>\n      <td>136.40</td>\n      <td>133.60</td>\n      <td>137.45</td>\n      <td>13.45</td>\n      <td>0.40</td>\n    </tr>\n    <tr>\n      <th>2</th>\n      <td>131.85</td>\n      <td>0.00225</td>\n      <td>0.00930</td>\n      <td>0.00485</td>\n      <td>0.00295</td>\n      <td>0.0</td>\n      <td>0.00040</td>\n      <td>34.80</td>\n      <td>1.955</td>\n      <td>6.85</td>\n      <td>...</td>\n      <td>74.05</td>\n      <td>89.80</td>\n      <td>163.85</td>\n      <td>4.05</td>\n      <td>0.25</td>\n      <td>133.85</td>\n      <td>129.55</td>\n      <td>132.85</td>\n      <td>26.25</td>\n      <td>0.20</td>\n    </tr>\n    <tr>\n      <th>3</th>\n      <td>132.60</td>\n      <td>0.00425</td>\n      <td>0.00325</td>\n      <td>0.00455</td>\n      <td>0.00230</td>\n      <td>0.0</td>\n      <td>0.00020</td>\n      <td>48.10</td>\n      <td>1.490</td>\n      <td>5.15</td>\n      <td>...</td>\n      <td>75.25</td>\n      <td>90.95</td>\n      <td>166.20</td>\n      <td>4.10</td>\n      <td>0.40</td>\n      <td>140.80</td>\n      <td>135.60</td>\n      <td>140.20</td>\n      <td>20.05</td>\n      <td>0.45</td>\n    </tr>\n    <tr>\n      <th>4</th>\n      <td>134.90</td>\n      <td>0.00175</td>\n      <td>0.00335</td>\n      <td>0.00495</td>\n      <td>0.00245</td>\n      <td>0.0</td>\n      <td>0.00005</td>\n      <td>40.30</td>\n      <td>1.310</td>\n      <td>13.40</td>\n      <td>...</td>\n      <td>80.50</td>\n      <td>83.85</td>\n      <td>164.35</td>\n      <td>4.95</td>\n      <td>0.45</td>\n      <td>139.05</td>\n      <td>134.50</td>\n      <td>138.50</td>\n      <td>13.00</td>\n      <td>0.65</td>\n    </tr>\n  </tbody>\n</table>\n<p>5 rows × 21 columns</p>\n</div>"
     },
     "execution_count": 5,
     "metadata": {},
     "output_type": "execute_result"
    }
   ],
   "source": [
    "### GRADED\n",
    "means = ''\n",
    "for i in range(100):\n",
    "    pass\n",
    "sample_means = ''\n",
    "\n",
    "# YOUR CODE HERE\n",
    "means = []\n",
    "for i in range(100):\n",
    "    sample = X.sample(20, random_state=i, replace = True)\n",
    "    means.append(sample.mean())\n",
    "sample_means = pd.DataFrame(means)\n",
    "\n",
    "### ANSWER CHECK\n",
    "sample_means.head()"
   ]
  },
  {
   "cell_type": "code",
   "execution_count": 5,
   "metadata": {
    "deletable": false,
    "editable": false,
    "nbgrader": {
     "cell_type": "code",
     "checksum": "57800e02adcbe0efce73030df4daf10b",
     "grade": true,
     "grade_id": "cell-d8a1dc9c97b0cafb",
     "locked": true,
     "points": 10,
     "schema_version": 3,
     "solution": false,
     "task": false
    },
    "ExecuteTime": {
     "end_time": "2024-02-27T18:57:53.080415300Z",
     "start_time": "2024-02-27T18:57:53.069447Z"
    }
   },
   "outputs": [],
   "source": []
  },
  {
   "cell_type": "markdown",
   "metadata": {
    "deletable": false,
    "editable": false,
    "nbgrader": {
     "cell_type": "markdown",
     "checksum": "11fdbede156950cce3ad7917414302b5",
     "grade": false,
     "grade_id": "cell-d49db082004729fe",
     "locked": true,
     "schema_version": 3,
     "solution": false,
     "task": false
    }
   },
   "source": [
    "[Back to top](#-Index)\n",
    "\n",
    "### Problem 2\n",
    "\n",
    "#### Models on samples\n",
    "\n",
    "**10 Points**\n",
    "\n",
    "Anticipating the bootstrap aggregation, build a logistic regression model on each iterations sample.  Create a DataFrame named `coef_df` of each iterations coefficients. Use sample size of 100 and set_`random_state = 42`. The first five rows of your DataFrame should look like:\n",
    "\n",
    "\n",
    "<table border=\"1\" class=\"dataframe\">  <thead>    <tr style=\"text-align: right;\">      <th></th>      <th>baseline value</th>      <th>accelerations</th>      <th>fetal_movement</th>      <th>uterine_contractions</th>      <th>light_decelerations</th>      <th>severe_decelerations</th>      <th>prolongued_decelerations</th>      <th>abnormal_short_term_variability</th>      <th>mean_value_of_short_term_variability</th>      <th>percentage_of_time_with_abnormal_long_term_variability</th>      <th>mean_value_of_long_term_variability</th>      <th>histogram_width</th>      <th>histogram_min</th>      <th>histogram_max</th>      <th>histogram_number_of_peaks</th>      <th>histogram_number_of_zeroes</th>      <th>histogram_mode</th>      <th>histogram_mean</th>      <th>histogram_median</th>      <th>histogram_variance</th>      <th>histogram_tendency</th>    </tr>  </thead>  <tbody>    <tr>      <th>0</th>      <td>-0.148653</td>      <td>0.000397</td>      <td>-0.000296</td>      <td>0.000575</td>      <td>0.000360</td>      <td>0.000000e+00</td>      <td>-0.000130</td>      <td>-0.326384</td>      <td>0.101630</td>      <td>-0.211499</td>      <td>-0.013581</td>      <td>-0.056798</td>      <td>0.182274</td>      <td>0.125475</td>      <td>-0.021006</td>      <td>-0.016422</td>      <td>-0.033148</td>      <td>0.179841</td>      <td>0.026306</td>      <td>-0.127317</td>      <td>-0.163619</td>    </tr>    <tr>      <th>1</th>      <td>-0.061691</td>      <td>0.000470</td>      <td>0.000546</td>      <td>0.000407</td>      <td>0.000115</td>      <td>-6.669241e-07</td>      <td>-0.000151</td>      <td>-0.353678</td>      <td>0.018719</td>      <td>-0.030565</td>      <td>-0.063293</td>      <td>0.105792</td>      <td>0.058392</td>      <td>0.164184</td>      <td>-0.175497</td>      <td>-0.044569</td>      <td>-0.253011</td>      <td>0.240469</td>      <td>0.017689</td>      <td>-0.159757</td>      <td>-0.078947</td>    </tr>    <tr>      <th>2</th>      <td>-0.075481</td>      <td>0.000434</td>      <td>-0.000229</td>      <td>0.000297</td>      <td>0.000023</td>      <td>0.000000e+00</td>      <td>-0.000075</td>      <td>-0.323813</td>      <td>0.092076</td>      <td>-0.143590</td>      <td>-0.075241</td>      <td>0.005551</td>      <td>0.065393</td>      <td>0.070944</td>      <td>-0.032991</td>      <td>-0.144008</td>      <td>0.071054</td>      <td>-0.055390</td>      <td>0.134176</td>      <td>-0.051194</td>      <td>-0.000221</td>    </tr>    <tr>      <th>3</th>      <td>-0.130622</td>      <td>0.001060</td>      <td>-0.003256</td>      <td>0.000483</td>      <td>0.000370</td>      <td>0.000000e+00</td>      <td>-0.000067</td>      <td>-0.274047</td>      <td>0.164185</td>      <td>-0.206988</td>      <td>0.014520</td>      <td>0.078620</td>      <td>-0.122271</td>      <td>-0.043652</td>      <td>-0.082847</td>      <td>0.120812</td>      <td>0.180340</td>      <td>-0.121190</td>      <td>0.433346</td>      <td>-0.212897</td>      <td>0.001096</td>    </tr>    <tr>      <th>4</th>      <td>-0.073390</td>      <td>0.000639</td>      <td>-0.000244</td>      <td>0.002119</td>      <td>0.000060</td>      <td>0.000000e+00</td>      <td>-0.000014</td>      <td>-0.508164</td>      <td>0.152837</td>      <td>-0.303871</td>      <td>0.017631</td>      <td>0.005860</td>      <td>0.065243</td>      <td>0.071102</td>      <td>-0.037210</td>      <td>-0.435003</td>      <td>0.116637</td>      <td>0.077635</td>      <td>0.117680</td>      <td>-0.090842</td>      <td>-0.008462</td>    </tr>  </tbody></table>\n"
   ]
  },
  {
   "cell_type": "code",
   "execution_count": 6,
   "metadata": {
    "deletable": false,
    "nbgrader": {
     "cell_type": "code",
     "checksum": "8bf6316434a42164c53cdd4526ef2de1",
     "grade": false,
     "grade_id": "cell-91b8f2b7c4777a60",
     "locked": false,
     "schema_version": 3,
     "solution": true,
     "task": false
    },
    "ExecuteTime": {
     "end_time": "2024-02-27T18:57:54.141461900Z",
     "start_time": "2024-02-27T18:57:53.071443100Z"
    }
   },
   "outputs": [
    {
     "data": {
      "text/plain": "   baseline value  accelerations  fetal_movement  uterine_contractions  \\\n0       -0.125543       0.000332       -0.000249              0.000481   \n1       -0.061691       0.000470        0.000546              0.000407   \n2       -0.075481       0.000434       -0.000229              0.000297   \n3       -0.130621       0.001060       -0.003256              0.000483   \n4       -0.076154       0.000697       -0.000283              0.002350   \n\n   light_decelerations  severe_decelerations  prolongued_decelerations  \\\n0             0.000300          0.000000e+00                 -0.000109   \n1             0.000115         -6.669234e-07                 -0.000151   \n2             0.000023          0.000000e+00                 -0.000075   \n3             0.000370          0.000000e+00                 -0.000067   \n4             0.000062          0.000000e+00                 -0.000015   \n\n   abnormal_short_term_variability  mean_value_of_short_term_variability  \\\n0                        -0.277944                              0.084862   \n1                        -0.353678                              0.018719   \n2                        -0.323813                              0.092076   \n3                        -0.274041                              0.164180   \n4                        -0.530426                              0.170120   \n\n   percentage_of_time_with_abnormal_long_term_variability  ...  \\\n0                                          -0.178498       ...   \n1                                          -0.030566       ...   \n2                                          -0.143590       ...   \n3                                          -0.206983       ...   \n4                                          -0.315907       ...   \n\n   histogram_width  histogram_min  histogram_max  histogram_number_of_peaks  \\\n0        -0.048951       0.151112       0.102161                  -0.014516   \n1         0.105792       0.058392       0.164183                  -0.175496   \n2         0.005551       0.065393       0.070944                  -0.032991   \n3         0.078618      -0.122268      -0.043650                  -0.082844   \n4         0.003820       0.066889       0.070709                  -0.029032   \n\n   histogram_number_of_zeroes  histogram_mode  histogram_mean  \\\n0                   -0.014155       -0.022771        0.152221   \n1                   -0.044569       -0.253010        0.240469   \n2                   -0.144008        0.071054       -0.055390   \n3                    0.120809        0.180334       -0.121184   \n4                   -0.475492        0.122984        0.078272   \n\n   histogram_median  histogram_variance  histogram_tendency  \n0          0.024947           -0.108073           -0.136233  \n1          0.017689           -0.159757           -0.078947  \n2          0.134176           -0.051195           -0.000221  \n3          0.433336           -0.212891            0.001096  \n4          0.129414           -0.093109           -0.008673  \n\n[5 rows x 21 columns]",
      "text/html": "<div>\n<style scoped>\n    .dataframe tbody tr th:only-of-type {\n        vertical-align: middle;\n    }\n\n    .dataframe tbody tr th {\n        vertical-align: top;\n    }\n\n    .dataframe thead th {\n        text-align: right;\n    }\n</style>\n<table border=\"1\" class=\"dataframe\">\n  <thead>\n    <tr style=\"text-align: right;\">\n      <th></th>\n      <th>baseline value</th>\n      <th>accelerations</th>\n      <th>fetal_movement</th>\n      <th>uterine_contractions</th>\n      <th>light_decelerations</th>\n      <th>severe_decelerations</th>\n      <th>prolongued_decelerations</th>\n      <th>abnormal_short_term_variability</th>\n      <th>mean_value_of_short_term_variability</th>\n      <th>percentage_of_time_with_abnormal_long_term_variability</th>\n      <th>...</th>\n      <th>histogram_width</th>\n      <th>histogram_min</th>\n      <th>histogram_max</th>\n      <th>histogram_number_of_peaks</th>\n      <th>histogram_number_of_zeroes</th>\n      <th>histogram_mode</th>\n      <th>histogram_mean</th>\n      <th>histogram_median</th>\n      <th>histogram_variance</th>\n      <th>histogram_tendency</th>\n    </tr>\n  </thead>\n  <tbody>\n    <tr>\n      <th>0</th>\n      <td>-0.125543</td>\n      <td>0.000332</td>\n      <td>-0.000249</td>\n      <td>0.000481</td>\n      <td>0.000300</td>\n      <td>0.000000e+00</td>\n      <td>-0.000109</td>\n      <td>-0.277944</td>\n      <td>0.084862</td>\n      <td>-0.178498</td>\n      <td>...</td>\n      <td>-0.048951</td>\n      <td>0.151112</td>\n      <td>0.102161</td>\n      <td>-0.014516</td>\n      <td>-0.014155</td>\n      <td>-0.022771</td>\n      <td>0.152221</td>\n      <td>0.024947</td>\n      <td>-0.108073</td>\n      <td>-0.136233</td>\n    </tr>\n    <tr>\n      <th>1</th>\n      <td>-0.061691</td>\n      <td>0.000470</td>\n      <td>0.000546</td>\n      <td>0.000407</td>\n      <td>0.000115</td>\n      <td>-6.669234e-07</td>\n      <td>-0.000151</td>\n      <td>-0.353678</td>\n      <td>0.018719</td>\n      <td>-0.030566</td>\n      <td>...</td>\n      <td>0.105792</td>\n      <td>0.058392</td>\n      <td>0.164183</td>\n      <td>-0.175496</td>\n      <td>-0.044569</td>\n      <td>-0.253010</td>\n      <td>0.240469</td>\n      <td>0.017689</td>\n      <td>-0.159757</td>\n      <td>-0.078947</td>\n    </tr>\n    <tr>\n      <th>2</th>\n      <td>-0.075481</td>\n      <td>0.000434</td>\n      <td>-0.000229</td>\n      <td>0.000297</td>\n      <td>0.000023</td>\n      <td>0.000000e+00</td>\n      <td>-0.000075</td>\n      <td>-0.323813</td>\n      <td>0.092076</td>\n      <td>-0.143590</td>\n      <td>...</td>\n      <td>0.005551</td>\n      <td>0.065393</td>\n      <td>0.070944</td>\n      <td>-0.032991</td>\n      <td>-0.144008</td>\n      <td>0.071054</td>\n      <td>-0.055390</td>\n      <td>0.134176</td>\n      <td>-0.051195</td>\n      <td>-0.000221</td>\n    </tr>\n    <tr>\n      <th>3</th>\n      <td>-0.130621</td>\n      <td>0.001060</td>\n      <td>-0.003256</td>\n      <td>0.000483</td>\n      <td>0.000370</td>\n      <td>0.000000e+00</td>\n      <td>-0.000067</td>\n      <td>-0.274041</td>\n      <td>0.164180</td>\n      <td>-0.206983</td>\n      <td>...</td>\n      <td>0.078618</td>\n      <td>-0.122268</td>\n      <td>-0.043650</td>\n      <td>-0.082844</td>\n      <td>0.120809</td>\n      <td>0.180334</td>\n      <td>-0.121184</td>\n      <td>0.433336</td>\n      <td>-0.212891</td>\n      <td>0.001096</td>\n    </tr>\n    <tr>\n      <th>4</th>\n      <td>-0.076154</td>\n      <td>0.000697</td>\n      <td>-0.000283</td>\n      <td>0.002350</td>\n      <td>0.000062</td>\n      <td>0.000000e+00</td>\n      <td>-0.000015</td>\n      <td>-0.530426</td>\n      <td>0.170120</td>\n      <td>-0.315907</td>\n      <td>...</td>\n      <td>0.003820</td>\n      <td>0.066889</td>\n      <td>0.070709</td>\n      <td>-0.029032</td>\n      <td>-0.475492</td>\n      <td>0.122984</td>\n      <td>0.078272</td>\n      <td>0.129414</td>\n      <td>-0.093109</td>\n      <td>-0.008673</td>\n    </tr>\n  </tbody>\n</table>\n<p>5 rows × 21 columns</p>\n</div>"
     },
     "execution_count": 6,
     "metadata": {},
     "output_type": "execute_result"
    }
   ],
   "source": [
    "### GRADED\n",
    "coefs = []\n",
    "for i in range(100):\n",
    "    pass\n",
    "coefs_df = ''\n",
    "\n",
    "# YOUR CODE HERE\n",
    "for i in range(100):\n",
    "    sample = df.sample(100, random_state = i,replace = True)\n",
    "    X, y = sample.drop('fetal_health', axis = 1), sample['fetal_health']\n",
    "    lgr = LogisticRegression(random_state=42)\n",
    "    lgr.fit(X, y)\n",
    "    coefs.append(lgr.coef_[0])\n",
    "coef_df = pd.DataFrame(coefs, columns = X.columns)\n",
    "\n",
    "\n",
    "### ANSWER CHECK\n",
    "coef_df.head()"
   ]
  },
  {
   "cell_type": "code",
   "execution_count": 6,
   "metadata": {
    "deletable": false,
    "editable": false,
    "nbgrader": {
     "cell_type": "code",
     "checksum": "e8cb644670e3a334dff9607e985915ba",
     "grade": true,
     "grade_id": "cell-ebb07c69ef7a4766",
     "locked": true,
     "points": 10,
     "schema_version": 3,
     "solution": false,
     "task": false
    },
    "ExecuteTime": {
     "end_time": "2024-02-27T18:57:54.142527300Z",
     "start_time": "2024-02-27T18:57:54.136687200Z"
    }
   },
   "outputs": [],
   "source": []
  },
  {
   "cell_type": "markdown",
   "metadata": {
    "deletable": false,
    "editable": false,
    "nbgrader": {
     "cell_type": "markdown",
     "checksum": "1b8f032ebee21c562506619041ad3413",
     "grade": false,
     "grade_id": "cell-c454901eb365fbfa",
     "locked": true,
     "schema_version": 3,
     "solution": false,
     "task": false
    }
   },
   "source": [
    "[Back to top](#-Index)\n",
    "\n",
    "### Problem 3\n",
    "\n",
    "#### Correlation of Models\n",
    "\n",
    "**10 Points**\n",
    "\n",
    "The multiple models are all built on the same features for the data.  Do you think these models are highly correlated?  Answer \"yes\" or \"no\" as a string to `ans3` below.  How might you handle this issue?\n",
    "\n"
   ]
  },
  {
   "cell_type": "code",
   "execution_count": 7,
   "metadata": {
    "deletable": false,
    "nbgrader": {
     "cell_type": "code",
     "checksum": "e2d696c49669150d8a56ca7d6014c83b",
     "grade": false,
     "grade_id": "cell-ec88588bacca2699",
     "locked": false,
     "schema_version": 3,
     "solution": true,
     "task": false
    },
    "ExecuteTime": {
     "end_time": "2024-02-27T18:57:54.143469100Z",
     "start_time": "2024-02-27T18:57:54.139885Z"
    }
   },
   "outputs": [
    {
     "name": "stdout",
     "output_type": "stream",
     "text": [
      "yes\n"
     ]
    }
   ],
   "source": [
    "### GRADED\n",
    "ans3 = ''\n",
    "    \n",
    "# YOUR CODE HERE\n",
    "ans3 = 'yes'\n",
    "\n",
    "### ANSWER CHECK\n",
    "print(ans3)"
   ]
  },
  {
   "cell_type": "code",
   "execution_count": 7,
   "metadata": {
    "deletable": false,
    "editable": false,
    "nbgrader": {
     "cell_type": "code",
     "checksum": "9ecb02f18688e4ec2d4316e0b2f2cd4b",
     "grade": true,
     "grade_id": "cell-b4579e93f4d99c02",
     "locked": true,
     "points": 10,
     "schema_version": 3,
     "solution": false,
     "task": false
    },
    "ExecuteTime": {
     "end_time": "2024-02-27T18:57:54.148689700Z",
     "start_time": "2024-02-27T18:57:54.143469100Z"
    }
   },
   "outputs": [],
   "source": []
  }
 ],
 "metadata": {
  "kernelspec": {
   "display_name": "Python 3 (ipykernel)",
   "language": "python",
   "name": "python3"
  },
  "language_info": {
   "codemirror_mode": {
    "name": "ipython",
    "version": 3
   },
   "file_extension": ".py",
   "mimetype": "text/x-python",
   "name": "python",
   "nbconvert_exporter": "python",
   "pygments_lexer": "ipython3",
   "version": "3.9.11"
  },
  "widgets": {
   "application/vnd.jupyter.widget-state+json": {
    "state": {},
    "version_major": 2,
    "version_minor": 0
   }
  }
 },
 "nbformat": 4,
 "nbformat_minor": 4
}
