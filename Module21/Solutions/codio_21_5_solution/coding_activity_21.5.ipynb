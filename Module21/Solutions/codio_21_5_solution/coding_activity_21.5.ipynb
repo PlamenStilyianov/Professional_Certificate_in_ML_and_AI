{
 "cells": [
  {
   "cell_type": "markdown",
   "metadata": {
    "nbgrader": {
     "grade": false,
     "grade_id": "cell-539a3392d6065efb",
     "locked": true,
     "schema_version": 3,
     "solution": false,
     "task": false
    }
   },
   "source": [
    "### Codio Activity 21.5: Implementing Random Forests\n",
    "\n",
    "**Expected Time = 60 minutes** \n",
    "\n",
    "**Total Points = 30** \n",
    "\n",
    "This activity focuses on building models using the `RandomForestClassifier` from scikit-learn.  You will explore the estimator, and how the number of trees in the model affect the performance. To evaluate your model you will look to the out of bag data rather than a test set. \n",
    "\n",
    "#### Index\n",
    "\n",
    "- [Problem 1](#-Problem-1)\n",
    "- [Problem 2](#-Problem-2)\n",
    "- [Problem 3](#-Problem-3)"
   ]
  },
  {
   "cell_type": "code",
   "execution_count": 15,
   "metadata": {
    "ExecuteTime": {
     "end_time": "2024-02-28T02:21:24.247184400Z",
     "start_time": "2024-02-28T02:21:24.223091300Z"
    }
   },
   "outputs": [],
   "source": [
    "import pandas as pd\n",
    "import numpy as np\n",
    "import matplotlib.pyplot as plt\n",
    "\n",
    "from sklearn.ensemble import RandomForestClassifier\n",
    "from sklearn.tree import plot_tree\n",
    "from sklearn.model_selection import train_test_split\n",
    "import warnings\n",
    "warnings.filterwarnings('ignore')"
   ]
  },
  {
   "cell_type": "code",
   "execution_count": null,
   "metadata": {
    "is_executing": true,
    "ExecuteTime": {
     "start_time": "2024-02-28T02:21:24.250163900Z"
    }
   },
   "outputs": [],
   "source": [
    "df = pd.read_csv('data/fetal.zip', compression = 'zip')"
   ]
  },
  {
   "cell_type": "code",
   "execution_count": null,
   "metadata": {
    "is_executing": true
   },
   "outputs": [],
   "source": [
    "df.head()"
   ]
  },
  {
   "cell_type": "code",
   "execution_count": null,
   "metadata": {
    "is_executing": true
   },
   "outputs": [],
   "source": [
    "X, y = df.drop('fetal_health', axis = 1), df['fetal_health']"
   ]
  },
  {
   "cell_type": "markdown",
   "metadata": {
    "nbgrader": {
     "grade": false,
     "grade_id": "cell-f6e343f12934352c",
     "locked": true,
     "schema_version": 3,
     "solution": false,
     "task": false
    }
   },
   "source": [
    "[Back to top](#-Index)\n",
    "\n",
    "### Problem 1\n",
    "\n",
    "#### Buildilng the Model\n",
    "\n",
    "**10 Points**\n",
    "\n",
    "Below, create an instance of the `RandomForestClassifier` named `forest_1` below using setting the parameters and fit to X and Y:\n",
    "\n",
    "- `random_state = 42`\n",
    "- `oob_score = True`\n",
    "\n",
    "Assign the oob score to score"
   ]
  },
  {
   "cell_type": "code",
   "execution_count": null,
   "metadata": {
    "nbgrader": {
     "grade": false,
     "grade_id": "cell-971d45c7cedcbe28",
     "locked": false,
     "schema_version": 3,
     "solution": true,
     "task": false
    },
    "is_executing": true
   },
   "outputs": [
    {
     "name": "stdout",
     "output_type": "stream",
     "text": [
      "0.9444967074317968\n"
     ]
    }
   ],
   "source": [
    "### GRADED\n",
    "forest_1 = ''\n",
    "score =''\n",
    "\n",
    "### BEGIN SOLUTION\n",
    "forest_1 = RandomForestClassifier(oob_score=True, random_state=42).fit(X, y)\n",
    "score = forest_1.oob_score_\n",
    "### END SOLUTION\n",
    "\n",
    "### ANSWER CHECK\n",
    "print(score)"
   ]
  },
  {
   "cell_type": "code",
   "execution_count": 20,
   "metadata": {
    "nbgrader": {
     "grade": true,
     "grade_id": "cell-e9af8d738e07417d",
     "locked": true,
     "points": 10,
     "schema_version": 3,
     "solution": false,
     "task": false
    },
    "ExecuteTime": {
     "end_time": "2024-02-28T02:21:24.867507600Z",
     "start_time": "2024-02-28T02:21:24.570888Z"
    }
   },
   "outputs": [],
   "source": [
    "### BEGIN HIDDEN TESTS\n",
    "forest_ = RandomForestClassifier(oob_score=True, random_state=42).fit(X, y)\n",
    "score_ = forest_.oob_score_\n",
    "#\n",
    "#\n",
    "#\n",
    "assert score == score_\n",
    "### END HIDDEN TESTS"
   ]
  },
  {
   "cell_type": "markdown",
   "metadata": {
    "nbgrader": {
     "grade": false,
     "grade_id": "cell-537dda2a219294ea",
     "locked": true,
     "schema_version": 3,
     "solution": false,
     "task": false
    }
   },
   "source": [
    "[Back to top](#-Index)\n",
    "\n",
    "### Problem 2\n",
    "\n",
    "#### Changing the number of trees\n",
    "\n",
    "**10 Points**\n",
    "\n",
    "Now, compare forests with different numbers of trees given in `n_trees` below. Iterate over these values and keep track of the out of bag score with the list `oob_scores`.  Again, be sure to set `random_state = 42` and `oob_score = True`.\n",
    "\n"
   ]
  },
  {
   "cell_type": "code",
   "execution_count": 21,
   "metadata": {
    "ExecuteTime": {
     "end_time": "2024-02-28T02:21:24.875363200Z",
     "start_time": "2024-02-28T02:21:24.868503900Z"
    }
   },
   "outputs": [],
   "source": [
    "n_trees = [1, 10, 100, 500, 1000, 2000]"
   ]
  },
  {
   "cell_type": "code",
   "execution_count": 22,
   "metadata": {
    "nbgrader": {
     "grade": false,
     "grade_id": "cell-1424f2579ef0b03d",
     "locked": false,
     "schema_version": 3,
     "solution": true,
     "task": false
    },
    "ExecuteTime": {
     "end_time": "2024-02-28T02:21:35.667704Z",
     "start_time": "2024-02-28T02:21:24.871387100Z"
    }
   },
   "outputs": [
    {
     "name": "stdout",
     "output_type": "stream",
     "text": [
      "[0.8287864534336783, 0.9158043273753528, 0.9444967074317968, 0.944967074317968, 0.9468485418626529, 0.9468485418626529]\n"
     ]
    }
   ],
   "source": [
    "### GRADED\n",
    "oob_scores = []\n",
    "for i in n_trees:\n",
    "    pass\n",
    "    \n",
    "### BEGIN SOLUTION\n",
    "oob_scores = []\n",
    "for i in n_trees:\n",
    "    forest = RandomForestClassifier(random_state=42, oob_score=True, n_estimators=i).fit(X, y)\n",
    "    oob_scores.append(forest.oob_score_)\n",
    "### END SOLUTION\n",
    "\n",
    "### ANSWER CHECK\n",
    "print(oob_scores)"
   ]
  },
  {
   "cell_type": "code",
   "execution_count": 23,
   "metadata": {
    "nbgrader": {
     "grade": true,
     "grade_id": "cell-d0da48ac2e56f2bd",
     "locked": true,
     "points": 10,
     "schema_version": 3,
     "solution": false,
     "task": false
    },
    "ExecuteTime": {
     "end_time": "2024-02-28T02:21:47.525295400Z",
     "start_time": "2024-02-28T02:21:35.670394200Z"
    }
   },
   "outputs": [],
   "source": [
    "### BEGIN HIDDEN TESTS\n",
    "oob_scores_ = []\n",
    "for i in n_trees:\n",
    "    forest_ = RandomForestClassifier(random_state=42, \n",
    "                                     oob_score=True, \n",
    "                                     n_estimators=i).fit(X, y)\n",
    "    oob_scores_.append(forest_.oob_score_)\n",
    "#\n",
    "#\n",
    "#\n",
    "np.testing.assert_array_equal(np.array(oob_scores_), np.array(oob_scores))\n",
    "### END HIDDEN TESTS"
   ]
  },
  {
   "cell_type": "code",
   "execution_count": 24,
   "metadata": {
    "ExecuteTime": {
     "end_time": "2024-02-28T02:21:47.713200300Z",
     "start_time": "2024-02-28T02:21:47.524021300Z"
    }
   },
   "outputs": [
    {
     "data": {
      "text/plain": "<Figure size 640x480 with 1 Axes>",
      "image/png": "[encoded data removed]"
     },
     "metadata": {},
     "output_type": "display_data"
    }
   ],
   "source": [
    "plt.plot(n_trees, oob_scores, '--o')\n",
    "plt.grid()\n",
    "plt.title('Number of trees and oob score')\n",
    "plt.xlabel('Number of Trees')\n",
    "plt.ylabel(\"oob score\");"
   ]
  },
  {
   "cell_type": "markdown",
   "metadata": {
    "nbgrader": {
     "grade": false,
     "grade_id": "cell-976593a9c6d4750d",
     "locked": true,
     "schema_version": 3,
     "solution": false,
     "task": false
    }
   },
   "source": [
    "[Back to top](#-Index)\n",
    "\n",
    "### Problem 3\n",
    "\n",
    "#### Changing the trees themselves\n",
    "\n",
    "**10 Points**\n",
    "\n",
    "The `RandomForestClassifier` contains most of the same parameters as the `DecisionTreeClassifier` including `max_depth` and `ccp_alpha` that control the geometry of the individual trees.  \n",
    "\n",
    "While searching over many parameters of a forest might seem like a good idea, in this context it is too computationally complex to be exhaustive.  \n",
    "\n",
    "Below, compare trees with 200 trees in the model, and explore if the depth of these trees effects the out of bag score.  Use the list `depths` below, and use the list `depth_oob` to keep track of the scores.\n",
    "\n"
   ]
  },
  {
   "cell_type": "code",
   "execution_count": 25,
   "metadata": {
    "ExecuteTime": {
     "end_time": "2024-02-28T02:21:47.713200300Z",
     "start_time": "2024-02-28T02:21:47.708704Z"
    }
   },
   "outputs": [],
   "source": [
    "depths = [1, 2, 3, 4, 5, None]"
   ]
  },
  {
   "cell_type": "code",
   "execution_count": 26,
   "metadata": {
    "nbgrader": {
     "grade": false,
     "grade_id": "cell-3e149731052c11da",
     "locked": false,
     "schema_version": 3,
     "solution": true,
     "task": false
    },
    "ExecuteTime": {
     "end_time": "2024-02-28T02:21:50.183960Z",
     "start_time": "2024-02-28T02:21:47.713200300Z"
    }
   },
   "outputs": [
    {
     "name": "stdout",
     "output_type": "stream",
     "text": [
      "[0.7784571966133584, 0.8598306679209784, 0.8955785512699906, 0.9059266227657573, 0.9158043273753528, 0.9468485418626529]\n"
     ]
    }
   ],
   "source": [
    "### GRADED\n",
    "depth_oobs = []\n",
    "for d in depths:\n",
    "    pass\n",
    "    \n",
    "### BEGIN SOLUTION\n",
    "depth_oobs = []\n",
    "for d in depths:\n",
    "    forest = RandomForestClassifier(random_state=42, oob_score=True, n_estimators=200, max_depth = d).fit(X, y)\n",
    "    depth_oobs.append(forest.oob_score_)\n",
    "### END SOLUTION\n",
    "\n",
    "### ANSWER CHECK\n",
    "print(depth_oobs)"
   ]
  },
  {
   "cell_type": "code",
   "execution_count": 27,
   "metadata": {
    "nbgrader": {
     "grade": true,
     "grade_id": "cell-7589c095fbbf19d0",
     "locked": true,
     "points": 10,
     "schema_version": 3,
     "solution": false,
     "task": false
    },
    "ExecuteTime": {
     "end_time": "2024-02-28T02:21:52.522964800Z",
     "start_time": "2024-02-28T02:21:50.184957Z"
    }
   },
   "outputs": [],
   "source": [
    "### BEGIN HIDDEN TESTS\n",
    "depth_oobs_ = []\n",
    "for d in depths:\n",
    "    forest_ = RandomForestClassifier(random_state=42, \n",
    "                                     oob_score=True, \n",
    "                                     n_estimators=200,\n",
    "                                    max_depth = d).fit(X, y)\n",
    "    depth_oobs_.append(forest_.oob_score_)\n",
    "#\n",
    "#\n",
    "#\n",
    "np.testing.assert_array_equal(np.array(depth_oobs_), np.array(depth_oobs))\n",
    "### END HIDDEN TESTS"
   ]
  },
  {
   "cell_type": "markdown",
   "metadata": {},
   "source": [
    "The Random Forest estimator is a powerful example of ensembling.  From situation to situation it is important to recall that there is no one model that will always do better.  In the next activities, you will see two more ensembling techniques that will be important options to consider in your work."
   ]
  }
 ],
 "metadata": {
  "celltoolbar": "Create Assignment",
  "kernelspec": {
   "display_name": "Python 3 (ipykernel)",
   "language": "python",
   "name": "python3"
  },
  "language_info": {
   "codemirror_mode": {
    "name": "ipython",
    "version": 3
   },
   "file_extension": ".py",
   "mimetype": "text/x-python",
   "name": "python",
   "nbconvert_exporter": "python",
   "pygments_lexer": "ipython3",
   "version": "3.9.11"
  },
  "widgets": {
   "application/vnd.jupyter.widget-state+json": {
    "state": {},
    "version_major": 2,
    "version_minor": 0
   }
  }
 },
 "nbformat": 4,
 "nbformat_minor": 4
}
