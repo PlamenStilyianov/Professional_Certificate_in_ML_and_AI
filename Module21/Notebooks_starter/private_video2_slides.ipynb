{
 "cells": [
  {
   "cell_type": "code",
   "execution_count": 37,
   "id": "8164bc29",
   "metadata": {
    "ExecuteTime": {
     "end_time": "2024-02-25T23:44:02.418301200Z",
     "start_time": "2024-02-25T23:44:02.412154400Z"
    }
   },
   "outputs": [],
   "source": [
    "import numpy as np\n",
    "# from scipy.stats import mode\n",
    "import scipy.stats\n",
    "from sklearn import datasets\n",
    "from sklearn.linear_model import LogisticRegression\n",
    "from sklearn.metrics import accuracy_score\n",
    "from sklearn.model_selection import train_test_split\n",
    "from sklearn.neighbors import KNeighborsClassifier\n",
    "from sklearn.pipeline import Pipeline\n",
    "from sklearn.preprocessing import StandardScaler\n",
    "from sklearn.svm import SVC\n",
    "from sklearn.tree import DecisionTreeClassifier"
   ]
  },
  {
   "cell_type": "markdown",
   "id": "4ed0508c",
   "metadata": {},
   "source": [
    "# Load data"
   ]
  },
  {
   "cell_type": "code",
   "execution_count": 38,
   "id": "8c6725b0",
   "metadata": {
    "ExecuteTime": {
     "end_time": "2024-02-25T23:44:02.419308300Z",
     "start_time": "2024-02-25T23:44:02.414156900Z"
    }
   },
   "outputs": [
    {
     "data": {
      "text/plain": "array([0, 0, 0, 0, 0, 0, 0, 0, 0, 0, 0, 0, 0, 0, 0, 0, 0, 0, 0, 0, 0, 0,\n       0, 0, 0, 0, 0, 0, 0, 0, 0, 0, 0, 0, 0, 0, 0, 0, 0, 0, 0, 0, 0, 0,\n       0, 0, 0, 0, 0, 0, 1, 1, 1, 1, 1, 1, 1, 1, 1, 1, 1, 1, 1, 1, 1, 1,\n       1, 1, 1, 1, 1, 1, 1, 1, 1, 1, 1, 1, 1, 1, 1, 1, 1, 1, 1, 1, 1, 1,\n       1, 1, 1, 1, 1, 1, 1, 1, 1, 1, 1, 1, 2, 2, 2, 2, 2, 2, 2, 2, 2, 2,\n       2, 2, 2, 2, 2, 2, 2, 2, 2, 2, 2, 2, 2, 2, 2, 2, 2, 2, 2, 2, 2, 2,\n       2, 2, 2, 2, 2, 2, 2, 2, 2, 2, 2, 2, 2, 2, 2, 2, 2, 2])"
     },
     "execution_count": 38,
     "metadata": {},
     "output_type": "execute_result"
    }
   ],
   "source": [
    "iris = datasets.load_iris()\n",
    "iris.target"
   ]
  },
  {
   "cell_type": "code",
   "execution_count": 39,
   "id": "16e6eeb3",
   "metadata": {
    "ExecuteTime": {
     "end_time": "2024-02-25T23:44:02.437551100Z",
     "start_time": "2024-02-25T23:44:02.421043500Z"
    }
   },
   "outputs": [],
   "source": [
    "X = iris.data[50:,[1,2]]\n",
    "y = iris.target[50:]"
   ]
  },
  {
   "cell_type": "markdown",
   "id": "7fba3091",
   "metadata": {},
   "source": [
    "# Majority vote classifier"
   ]
  },
  {
   "cell_type": "code",
   "execution_count": 40,
   "id": "6ee77c9b",
   "metadata": {
    "ExecuteTime": {
     "end_time": "2024-02-25T23:44:03.096435300Z",
     "start_time": "2024-02-25T23:44:02.427551Z"
    }
   },
   "outputs": [],
   "source": [
    "numit = 100\n",
    "model_acc = np.empty((numit,4))\n",
    "ensemble_acc = np.empty(numit)\n",
    "\n",
    "for c in range(numit):\n",
    "    \n",
    "    # Create an array with four models\n",
    "    clfs = [\n",
    "        Pipeline([ ('sc',StandardScaler()), \n",
    "                   ('lr',LogisticRegression()) \n",
    "                 ]), \n",
    "        \n",
    "        Pipeline([ ('sc',StandardScaler()), \n",
    "                   ('svc',SVC()) \n",
    "                 ]),\n",
    "\n",
    "        DecisionTreeClassifier(), \n",
    "\n",
    "        Pipeline([ ('sc',StandardScaler()), \n",
    "                   ('knn',KNeighborsClassifier()) \n",
    "                 ])\n",
    "    ]\n",
    "    \n",
    "    # Test/train split\n",
    "    X_train, X_test, y_train, y_test = train_test_split(X, y, test_size=0.2)\n",
    "    \n",
    "    # Train and test the four models\n",
    "    y_pred = np.empty( (len(clfs),len(y_test)) , int)\n",
    "    for i, model in enumerate(clfs):  \n",
    "        model.fit(X_train,y_train)\n",
    "        y_pred[i,:] = model.predict(X_test)\n",
    "        model_acc[c,i] = accuracy_score(y_test,y_pred[i,:])\n",
    "        \n",
    "    # Majority vote\n",
    "    y_pred_ens = scipy.stats.mode(y_pred).mode\n",
    "    ensemble_acc[c] = accuracy_score(y_test,y_pred_ens)"
   ]
  },
  {
   "cell_type": "code",
   "execution_count": 41,
   "id": "806035b9",
   "metadata": {
    "ExecuteTime": {
     "end_time": "2024-02-25T23:44:03.102178700Z",
     "start_time": "2024-02-25T23:44:03.097830100Z"
    }
   },
   "outputs": [
    {
     "data": {
      "text/plain": "(array([0.9275, 0.924 , 0.8805, 0.917 ]), 0.9164999999999999)"
     },
     "execution_count": 41,
     "metadata": {},
     "output_type": "execute_result"
    }
   ],
   "source": [
    "np.mean(model_acc,axis=0), np.mean(ensemble_acc)"
   ]
  }
 ],
 "metadata": {
  "kernelspec": {
   "display_name": "Python 3 (ipykernel)",
   "language": "python",
   "name": "python3"
  },
  "language_info": {
   "codemirror_mode": {
    "name": "ipython",
    "version": 3
   },
   "file_extension": ".py",
   "mimetype": "text/x-python",
   "name": "python",
   "nbconvert_exporter": "python",
   "pygments_lexer": "ipython3",
   "version": "3.9.5"
  }
 },
 "nbformat": 4,
 "nbformat_minor": 5
}
