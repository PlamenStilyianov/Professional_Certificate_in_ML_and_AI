{
 "cells": [
  {
   "cell_type": "markdown",
   "metadata": {
    "nbgrader": {
     "grade": false,
     "grade_id": "cell-67fd50a6913d53be",
     "locked": true,
     "schema_version": 1,
     "solution": false
    }
   },
   "source": [
    "### Codio Activity 14.1: Decision Trees with `sklearn`\n",
    "\n",
    "**Expected Time = 60 minutes**\n",
    "\n",
    "**Total Points = 50**\n",
    "\n",
    "This activity introduces using the `DecisionTreeClassifier` from the `sklearn.tree` module.  You will build some basic models and explore hyperparameters available.  Using the results of the model, you will explore decision boundaries determined by the estimator. \n",
    "\n",
    "#### Index \n",
    "\n",
    "- [Problem 1](#Problem-1)\n",
    "- [Problem 2](#Problem-2)\n",
    "- [Problem 3](#Problem-3)\n",
    "- [Problem 4](#Problem-4)\n",
    "- [Problem 5](#Problem-5)\n",
    "\n"
   ]
  },
  {
   "cell_type": "code",
   "execution_count": 32,
   "metadata": {
    "ExecuteTime": {
     "end_time": "2023-12-14T19:28:26.096498200Z",
     "start_time": "2023-12-14T19:28:26.056699900Z"
    }
   },
   "outputs": [],
   "source": [
    "import pandas as pd\n",
    "import numpy as np\n",
    "import matplotlib.pyplot as plt\n",
    "import seaborn as sns\n",
    "\n",
    "from sklearn.tree import DecisionTreeClassifier, export_text\n",
    "from sklearn.model_selection import train_test_split\n",
    "\n",
    "from sklearn import set_config\n",
    "\n",
    "set_config(\"diagram\")"
   ]
  },
  {
   "cell_type": "markdown",
   "metadata": {
    "nbgrader": {
     "grade": false,
     "grade_id": "cell-b2c57f25b2cfaa04",
     "locked": true,
     "schema_version": 1,
     "solution": false
    }
   },
   "source": [
    "### The Data\n",
    "\n",
    "For this activity, you will again use the `penguins` data from seaborn.  You will target the two most important features to determining between `Adelie` and `Gentoo`.  "
   ]
  },
  {
   "cell_type": "code",
   "execution_count": 33,
   "metadata": {
    "ExecuteTime": {
     "end_time": "2023-12-14T19:28:26.096498200Z",
     "start_time": "2023-12-14T19:28:26.074385200Z"
    }
   },
   "outputs": [],
   "source": [
    "penguins = sns.load_dataset('penguins').dropna()"
   ]
  },
  {
   "cell_type": "code",
   "execution_count": 34,
   "metadata": {
    "ExecuteTime": {
     "end_time": "2023-12-14T19:28:26.112709600Z",
     "start_time": "2023-12-14T19:28:26.094505200Z"
    }
   },
   "outputs": [
    {
     "data": {
      "text/plain": "  species     island  bill_length_mm  bill_depth_mm  flipper_length_mm  \\\n0  Adelie  Torgersen            39.1           18.7              181.0   \n1  Adelie  Torgersen            39.5           17.4              186.0   \n2  Adelie  Torgersen            40.3           18.0              195.0   \n4  Adelie  Torgersen            36.7           19.3              193.0   \n5  Adelie  Torgersen            39.3           20.6              190.0   \n\n   body_mass_g     sex  \n0       3750.0    Male  \n1       3800.0  Female  \n2       3250.0  Female  \n4       3450.0  Female  \n5       3650.0    Male  ",
      "text/html": "<div>\n<style scoped>\n    .dataframe tbody tr th:only-of-type {\n        vertical-align: middle;\n    }\n\n    .dataframe tbody tr th {\n        vertical-align: top;\n    }\n\n    .dataframe thead th {\n        text-align: right;\n    }\n</style>\n<table border=\"1\" class=\"dataframe\">\n  <thead>\n    <tr style=\"text-align: right;\">\n      <th></th>\n      <th>species</th>\n      <th>island</th>\n      <th>bill_length_mm</th>\n      <th>bill_depth_mm</th>\n      <th>flipper_length_mm</th>\n      <th>body_mass_g</th>\n      <th>sex</th>\n    </tr>\n  </thead>\n  <tbody>\n    <tr>\n      <th>0</th>\n      <td>Adelie</td>\n      <td>Torgersen</td>\n      <td>39.1</td>\n      <td>18.7</td>\n      <td>181.0</td>\n      <td>3750.0</td>\n      <td>Male</td>\n    </tr>\n    <tr>\n      <th>1</th>\n      <td>Adelie</td>\n      <td>Torgersen</td>\n      <td>39.5</td>\n      <td>17.4</td>\n      <td>186.0</td>\n      <td>3800.0</td>\n      <td>Female</td>\n    </tr>\n    <tr>\n      <th>2</th>\n      <td>Adelie</td>\n      <td>Torgersen</td>\n      <td>40.3</td>\n      <td>18.0</td>\n      <td>195.0</td>\n      <td>3250.0</td>\n      <td>Female</td>\n    </tr>\n    <tr>\n      <th>4</th>\n      <td>Adelie</td>\n      <td>Torgersen</td>\n      <td>36.7</td>\n      <td>19.3</td>\n      <td>193.0</td>\n      <td>3450.0</td>\n      <td>Female</td>\n    </tr>\n    <tr>\n      <th>5</th>\n      <td>Adelie</td>\n      <td>Torgersen</td>\n      <td>39.3</td>\n      <td>20.6</td>\n      <td>190.0</td>\n      <td>3650.0</td>\n      <td>Male</td>\n    </tr>\n  </tbody>\n</table>\n</div>"
     },
     "execution_count": 34,
     "metadata": {},
     "output_type": "execute_result"
    }
   ],
   "source": [
    "penguins.head()"
   ]
  },
  {
   "cell_type": "code",
   "execution_count": 35,
   "metadata": {
    "ExecuteTime": {
     "end_time": "2023-12-14T19:28:26.122937200Z",
     "start_time": "2023-12-14T19:28:26.105733600Z"
    }
   },
   "outputs": [],
   "source": [
    "X = penguins.select_dtypes(['float'])\n",
    "y = penguins.species"
   ]
  },
  {
   "cell_type": "code",
   "execution_count": 36,
   "metadata": {
    "ExecuteTime": {
     "end_time": "2023-12-14T19:28:28.429443300Z",
     "start_time": "2023-12-14T19:28:26.125926800Z"
    }
   },
   "outputs": [
    {
     "data": {
      "text/plain": "<seaborn.axisgrid.PairGrid at 0x15476603850>"
     },
     "execution_count": 36,
     "metadata": {},
     "output_type": "execute_result"
    }
   ],
   "source": [
    "sns.pairplot(data = penguins, hue = 'species')"
   ]
  },
  {
   "cell_type": "markdown",
   "metadata": {
    "nbgrader": {
     "grade": false,
     "grade_id": "cell-3493cf49d08c658a",
     "locked": true,
     "schema_version": 1,
     "solution": false
    }
   },
   "source": [
    "[Back to top](#-Index)\n",
    "\n",
    "### Problem 1\n",
    "\n",
    "#### Fitting a model\n",
    "\n",
    "To being, build a `DecisionTreeClassifier` with the parameter `max_depth = 1`.  Fit the model on the training data and assign it to the variable `dtree` below.\n",
    "\n",
    "**10 Points**\n",
    "\n"
   ]
  },
  {
   "cell_type": "code",
   "execution_count": 37,
   "metadata": {
    "nbgrader": {
     "grade": false,
     "grade_id": "cell-43da0a8787bea664",
     "locked": false,
     "schema_version": 1,
     "solution": true
    },
    "ExecuteTime": {
     "end_time": "2023-12-14T19:28:28.465202100Z",
     "start_time": "2023-12-14T19:28:28.429443300Z"
    }
   },
   "outputs": [
    {
     "name": "stdout",
     "output_type": "stream",
     "text": [
      "DecisionTreeClassifier(max_depth=1)\n"
     ]
    }
   ],
   "source": [
    "### GRADED\n",
    "\n",
    "dtree = ''\n",
    "\n",
    "### BEGIN SOLUTION\n",
    "dtree = DecisionTreeClassifier(max_depth = 1).fit(X, y)\n",
    "### END SOLUTION\n",
    "\n",
    "# Answer check\n",
    "print(dtree)"
   ]
  },
  {
   "cell_type": "code",
   "execution_count": 38,
   "metadata": {
    "nbgrader": {
     "grade": true,
     "grade_id": "cell-1b5f51abc8305263",
     "locked": true,
     "points": 10,
     "schema_version": 1,
     "solution": false
    },
    "ExecuteTime": {
     "end_time": "2023-12-14T19:28:28.466231500Z",
     "start_time": "2023-12-14T19:28:28.445686800Z"
    }
   },
   "outputs": [],
   "source": [
    "### BEGIN HIDDEN TESTS\n",
    "dtree_ = DecisionTreeClassifier(max_depth = 1).fit(X, y)\n",
    "#\n",
    "#\n",
    "#\n",
    "assert type(dtree_) == type(dtree)\n",
    "assert dtree.max_depth == dtree_.max_depth\n",
    "### END HIDDEN TESTS"
   ]
  },
  {
   "cell_type": "markdown",
   "metadata": {
    "nbgrader": {
     "grade": false,
     "grade_id": "cell-6bf819511f516171",
     "locked": true,
     "schema_version": 1,
     "solution": false
    }
   },
   "source": [
    "[Back to top](#-Index)\n",
    "\n",
    "### Problem 2\n",
    "\n",
    "#### Examining the Decision\n",
    "\n",
    "To examine a basic text representation of the fit tree, use the `export_text` function and set the argument `feature_names = list(X.columns)`.  \n",
    "\n",
    "**10 Points**"
   ]
  },
  {
   "cell_type": "code",
   "execution_count": 39,
   "metadata": {
    "nbgrader": {
     "grade": false,
     "grade_id": "cell-597e26eb83c1c4e6",
     "locked": false,
     "schema_version": 1,
     "solution": true
    },
    "ExecuteTime": {
     "end_time": "2023-12-14T19:28:28.479980400Z",
     "start_time": "2023-12-14T19:28:28.463054200Z"
    }
   },
   "outputs": [
    {
     "name": "stdout",
     "output_type": "stream",
     "text": [
      "|--- flipper_length_mm <= 206.50\n",
      "|   |--- class: Adelie\n",
      "|--- flipper_length_mm >  206.50\n",
      "|   |--- class: Gentoo\n"
     ]
    }
   ],
   "source": [
    "### GRADED\n",
    "\n",
    "depth_1 = ''\n",
    "\n",
    "### BEGIN SOLUTION\n",
    "depth_1 = export_text(dtree, feature_names = list(X.columns))\n",
    "### END SOLUTION\n",
    "\n",
    "### ANSWER CHECK\n",
    "print(depth_1)"
   ]
  },
  {
   "cell_type": "code",
   "execution_count": 40,
   "metadata": {
    "nbgrader": {
     "grade": true,
     "grade_id": "cell-4fe79e6e7f63f855",
     "locked": true,
     "points": 10,
     "schema_version": 1,
     "solution": false
    },
    "ExecuteTime": {
     "end_time": "2023-12-14T19:28:28.524257100Z",
     "start_time": "2023-12-14T19:28:28.478922200Z"
    }
   },
   "outputs": [],
   "source": [
    "### BEGIN HIDDEN TESTS\n",
    "depth_1_ = export_text(dtree_, feature_names = list(X.columns))\n",
    "#\n",
    "#\n",
    "#\n",
    "assert depth_1 == depth_1_\n",
    "### END HIDDEN TESTS"
   ]
  },
  {
   "attachments": {},
   "cell_type": "markdown",
   "metadata": {
    "nbgrader": {
     "grade": false,
     "grade_id": "cell-ed7f39f462a60545",
     "locked": true,
     "schema_version": 1,
     "solution": false
    }
   },
   "source": [
    "[Back to top](#-Index)\n",
    "\n",
    "### Problem 3\n",
    "\n",
    "#### Two Features\n",
    "\n",
    "**10 Points**\n",
    "\n",
    "Now, to make it simpler to plot the boundaries the data is subset to `flipper_length_mm` and `bill_length_mm`.  Below, fit the model and assign the results of the tree with `export_text()` as `tree2` below.  Try replicating the image below using the information from the tree. (vertical and horizontal lines represent decision boundaries of tree)\n",
    "\n",
    "<center>\n",
    "    <img src = 'images/p3.png' />\n",
    "</center>\n",
    "\n",
    "\n"
   ]
  },
  {
   "cell_type": "code",
   "execution_count": 41,
   "metadata": {
    "nbgrader": {
     "grade": false,
     "grade_id": "cell-b668dd37a9244c86",
     "locked": false,
     "schema_version": 1,
     "solution": true
    },
    "ExecuteTime": {
     "end_time": "2023-12-14T19:28:28.524257100Z",
     "start_time": "2023-12-14T19:28:28.493239700Z"
    }
   },
   "outputs": [
    {
     "name": "stdout",
     "output_type": "stream",
     "text": [
      "|--- flipper_length_mm <= 206.50\n",
      "|   |--- bill_length_mm <= 43.35\n",
      "|   |   |--- class: Adelie\n",
      "|   |--- bill_length_mm >  43.35\n",
      "|   |   |--- class: Chinstrap\n",
      "|--- flipper_length_mm >  206.50\n",
      "|   |--- bill_length_mm <= 40.85\n",
      "|   |   |--- class: Adelie\n",
      "|   |--- bill_length_mm >  40.85\n",
      "|   |   |--- class: Gentoo\n"
     ]
    }
   ],
   "source": [
    "### GRADED\n",
    "\n",
    "X2 = X[['flipper_length_mm', 'bill_length_mm']]\n",
    "dtree = ''\n",
    "tree2 = ''\n",
    "\n",
    "### BEGIN SOLUTION\n",
    "dtree = DecisionTreeClassifier(max_depth = 2).fit(X2, y)\n",
    "tree2 = export_text(dtree, feature_names = list(X2.columns))\n",
    "### END SOLUTION\n",
    "\n",
    "### ANSWER CHECK\n",
    "print(tree2)"
   ]
  },
  {
   "cell_type": "code",
   "execution_count": 42,
   "metadata": {
    "nbgrader": {
     "grade": true,
     "grade_id": "cell-f8fa53ead172a777",
     "locked": true,
     "points": 10,
     "schema_version": 1,
     "solution": false
    },
    "ExecuteTime": {
     "end_time": "2023-12-14T19:28:28.525272400Z",
     "start_time": "2023-12-14T19:28:28.509992700Z"
    }
   },
   "outputs": [],
   "source": [
    "### BEGIN HIDDEN TESTS\n",
    "X2_ = X[['flipper_length_mm', 'bill_length_mm']]\n",
    "dtree_ = DecisionTreeClassifier(max_depth = 2).fit(X2_, y)\n",
    "tree2_ = export_text(dtree_, feature_names = list(X2_.columns))\n",
    "#\n",
    "#\n",
    "#\n",
    "assert tree2 == tree2_\n",
    "### END HIDDEN TESTS"
   ]
  },
  {
   "attachments": {},
   "cell_type": "markdown",
   "metadata": {
    "nbgrader": {
     "grade": false,
     "grade_id": "cell-799c7eeb076848e8",
     "locked": true,
     "schema_version": 1,
     "solution": false
    }
   },
   "source": [
    "[Back to top](#-Index)\n",
    "\n",
    "### Problem 4\n",
    "\n",
    "#### Evaluating the tree\n",
    "\n",
    "**10 Points**\n",
    "\n",
    "Again, the default metric of the classifier is accuracy.  Evaluate the accuracy of the estimator `DecisionTreeClassifier` and assign as a float to `acc_depth_2` below.  As you see there are a few points misclassified in the image of the decision boundaries."
   ]
  },
  {
   "cell_type": "code",
   "execution_count": 47,
   "metadata": {
    "nbgrader": {
     "grade": false,
     "grade_id": "cell-5cc17f478f4e85cc",
     "locked": false,
     "schema_version": 1,
     "solution": true
    },
    "ExecuteTime": {
     "end_time": "2023-12-14T19:31:09.904772400Z",
     "start_time": "2023-12-14T19:31:09.879840700Z"
    }
   },
   "outputs": [
    {
     "name": "stdout",
     "output_type": "stream",
     "text": [
      "0.9519519519519519\n"
     ]
    }
   ],
   "source": [
    "### GRADED\n",
    "\n",
    "acc_depth_2 = ''\n",
    "\n",
    "### BEGIN SOLUTION\n",
    "acc_depth_2 = DecisionTreeClassifier(max_depth=2).fit(X2, y).score(X2, y)\n",
    "### END SOLUTION\n",
    "\n",
    "### ANSWER CHECK\n",
    "print(acc_depth_2)"
   ]
  },
  {
   "cell_type": "code",
   "execution_count": 48,
   "metadata": {
    "nbgrader": {
     "grade": true,
     "grade_id": "cell-24158ed6ea2a58ae",
     "locked": true,
     "points": 10,
     "schema_version": 1,
     "solution": false
    },
    "ExecuteTime": {
     "end_time": "2023-12-14T19:31:10.952533100Z",
     "start_time": "2023-12-14T19:31:10.926612100Z"
    }
   },
   "outputs": [],
   "source": [
    "### BEGIN HIDDEN TESTS\n",
    "acc_depth_2_ = DecisionTreeClassifier(max_depth=2).fit(X2, y).score(X2, y)\n",
    "#\n",
    "#\n",
    "#\n",
    "assert acc_depth_2 == acc_depth_2_\n",
    "### END HIDDEN TESTS"
   ]
  },
  {
   "attachments": {},
   "cell_type": "markdown",
   "metadata": {
    "nbgrader": {
     "grade": false,
     "grade_id": "cell-177c50f9e8374cd9",
     "locked": true,
     "schema_version": 1,
     "solution": false
    }
   },
   "source": [
    "[Back to top](#-Index)\n",
    "\n",
    "### Problem 5\n",
    "\n",
    "#### A Deeper Tree\n",
    "\n",
    "**10 Points**\n",
    "\n",
    "Finally, consider a tree with `max_depth = 3`.  Print the results and and use them to decide a prediction for the following penguin:\n",
    "\n",
    "| flipper_length_mm | bill_length_mm |\n",
    "| ----------------- | -------------  |\n",
    "| 209 | 41.2 |\n",
    "\n",
    "Assign your results as a string `Adelie`, `Chinstrap`, or `Gentoo` to `prediction` below."
   ]
  },
  {
   "cell_type": "code",
   "execution_count": 49,
   "metadata": {
    "nbgrader": {
     "grade": false,
     "grade_id": "cell-fc43715676b2a18a",
     "locked": false,
     "schema_version": 1,
     "solution": true
    },
    "ExecuteTime": {
     "end_time": "2023-12-14T19:31:13.313134200Z",
     "start_time": "2023-12-14T19:31:13.294195300Z"
    }
   },
   "outputs": [
    {
     "name": "stdout",
     "output_type": "stream",
     "text": [
      "Gentoo\n"
     ]
    }
   ],
   "source": [
    "### GRADED\n",
    "\n",
    "prediction = ''\n",
    "\n",
    "### BEGIN SOLUTION\n",
    "prediction = 'Gentoo'\n",
    "### END SOLUTION\n",
    "\n",
    "# Answer check\n",
    "print(prediction)"
   ]
  },
  {
   "cell_type": "code",
   "execution_count": 50,
   "metadata": {
    "nbgrader": {
     "grade": true,
     "grade_id": "cell-bd801c64dbd5e772",
     "locked": true,
     "points": 10,
     "schema_version": 1,
     "solution": false
    },
    "ExecuteTime": {
     "end_time": "2023-12-14T19:31:14.367671700Z",
     "start_time": "2023-12-14T19:31:14.355666200Z"
    }
   },
   "outputs": [],
   "source": [
    "### BEGIN HIDDEN TESTS\n",
    "prediction_ = 'Gentoo'\n",
    "#\n",
    "#\n",
    "#\n",
    "assert prediction == prediction_\n",
    "### END HIDDEN TESTS"
   ]
  },
  {
   "cell_type": "code",
   "execution_count": 51,
   "outputs": [
    {
     "name": "stdout",
     "output_type": "stream",
     "text": [
      "|--- flipper_length_mm <= 206.50\n",
      "|   |--- bill_length_mm <= 43.35\n",
      "|   |   |--- bill_length_mm <= 42.35\n",
      "|   |   |   |--- class: Adelie\n",
      "|   |   |--- bill_length_mm >  42.35\n",
      "|   |   |   |--- class: Adelie\n",
      "|   |--- bill_length_mm >  43.35\n",
      "|   |   |--- bill_length_mm <= 46.05\n",
      "|   |   |   |--- class: Chinstrap\n",
      "|   |   |--- bill_length_mm >  46.05\n",
      "|   |   |   |--- class: Chinstrap\n",
      "|--- flipper_length_mm >  206.50\n",
      "|   |--- bill_length_mm <= 40.85\n",
      "|   |   |--- class: Adelie\n",
      "|   |--- bill_length_mm >  40.85\n",
      "|   |   |--- flipper_length_mm <= 212.50\n",
      "|   |   |   |--- class: Gentoo\n",
      "|   |   |--- flipper_length_mm >  212.50\n",
      "|   |   |   |--- class: Gentoo\n"
     ]
    }
   ],
   "source": [
    "dtree3 = DecisionTreeClassifier(max_depth = 3).fit(X2, y)\n",
    "tree3 = export_text(dtree3, feature_names = list(X2.columns))\n",
    "print(tree3)"
   ],
   "metadata": {
    "collapsed": false,
    "ExecuteTime": {
     "end_time": "2023-12-14T19:33:47.673393Z",
     "start_time": "2023-12-14T19:33:47.639506200Z"
    }
   }
  },
  {
   "cell_type": "code",
   "execution_count": null,
   "outputs": [],
   "source": [],
   "metadata": {
    "collapsed": false
   }
  }
 ],
 "metadata": {
  "celltoolbar": "Create Assignment",
  "kernelspec": {
   "display_name": "Python 3",
   "language": "python",
   "name": "python3"
  },
  "language_info": {
   "codemirror_mode": {
    "name": "ipython",
    "version": 3
   },
   "file_extension": ".py",
   "mimetype": "text/x-python",
   "name": "python",
   "nbconvert_exporter": "python",
   "pygments_lexer": "ipython3",
   "version": "3.6.9"
  },
  "widgets": {
   "application/vnd.jupyter.widget-state+json": {
    "state": {},
    "version_major": 2,
    "version_minor": 0
   }
  }
 },
 "nbformat": 4,
 "nbformat_minor": 4
}
