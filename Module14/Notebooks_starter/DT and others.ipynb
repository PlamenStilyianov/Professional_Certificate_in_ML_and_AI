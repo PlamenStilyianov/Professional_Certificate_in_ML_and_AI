{
 "nbformat": 4,
 "nbformat_minor": 0,
 "metadata": {
  "colab": {
   "provenance": [],
   "authorship_tag": "ABX9TyPgRRs6mH80a7yoUqP9OuWr"
  },
  "kernelspec": {
   "name": "python3",
   "language": "python",
   "display_name": "Python 3 (ipykernel)"
  },
  "language_info": {
   "name": "python"
  }
 },
 "cells": [
  {
   "cell_type": "markdown",
   "source": [
    "# Import libraries"
   ],
   "metadata": {
    "id": "3RqWP521Fuog"
   }
  },
  {
   "cell_type": "code",
   "source": [
    "import numpy as np\n",
    "import pandas as pd\n",
    "import matplotlib.pyplot as plt\n",
    "import plotly.graph_objs as go\n",
    "\n",
    "from sklearn import datasets\n",
    "from sklearn.pipeline import Pipeline\n",
    "from sklearn.model_selection import train_test_split, cross_val_score, GridSearchCV\n",
    "from sklearn.preprocessing import StandardScaler\n",
    "from sklearn.metrics import accuracy_score, recall_score, precision_score, f1_score\n",
    "from sklearn.metrics import confusion_matrix, classification_report\n",
    "from sklearn.metrics import roc_auc_score, roc_curve, auc\n",
    "\n",
    "from sklearn.svm import SVC\n",
    "from sklearn.naive_bayes import GaussianNB\n",
    "from sklearn.tree import DecisionTreeClassifier\n",
    "from sklearn.linear_model import LogisticRegression\n",
    "from sklearn.neighbors import KNeighborsClassifier"
   ],
   "metadata": {
    "id": "z14lmVmZF5gl",
    "executionInfo": {
     "status": "ok",
     "timestamp": 1702325145314,
     "user_tz": -60,
     "elapsed": 1956,
     "user": {
      "displayName": "Viviana Márquez",
      "userId": "02177297747289649111"
     }
    },
    "ExecuteTime": {
     "end_time": "2023-12-14T19:04:47.401126500Z",
     "start_time": "2023-12-14T19:04:47.169745400Z"
    }
   },
   "execution_count": 1,
   "outputs": []
  },
  {
   "cell_type": "markdown",
   "source": [
    "# Load data"
   ],
   "metadata": {
    "id": "onKMXFvcF57Z"
   }
  },
  {
   "cell_type": "code",
   "source": [
    "iris = datasets.load_iris()"
   ],
   "metadata": {
    "id": "_Qk0oUkdF67v",
    "executionInfo": {
     "status": "ok",
     "timestamp": 1702325145314,
     "user_tz": -60,
     "elapsed": 24,
     "user": {
      "displayName": "Viviana Márquez",
      "userId": "02177297747289649111"
     }
    },
    "ExecuteTime": {
     "end_time": "2023-12-14T19:04:47.417137Z",
     "start_time": "2023-12-14T19:04:47.402122800Z"
    }
   },
   "execution_count": 2,
   "outputs": []
  },
  {
   "cell_type": "code",
   "source": [
    "iris.keys()"
   ],
   "metadata": {
    "colab": {
     "base_uri": "https://localhost:8080/"
    },
    "id": "-K08BpktF-HX",
    "executionInfo": {
     "status": "ok",
     "timestamp": 1702325145314,
     "user_tz": -60,
     "elapsed": 23,
     "user": {
      "displayName": "Viviana Márquez",
      "userId": "02177297747289649111"
     }
    },
    "outputId": "a76140b4-eaf2-450e-a185-b7a0c93abb11",
    "ExecuteTime": {
     "end_time": "2023-12-14T19:04:47.457884300Z",
     "start_time": "2023-12-14T19:04:47.420129200Z"
    }
   },
   "execution_count": 3,
   "outputs": [
    {
     "data": {
      "text/plain": "dict_keys(['data', 'target', 'frame', 'target_names', 'DESCR', 'feature_names', 'filename', 'data_module'])"
     },
     "execution_count": 3,
     "metadata": {},
     "output_type": "execute_result"
    }
   ]
  },
  {
   "cell_type": "code",
   "source": [
    "target_labels = iris.target_names\n",
    "target_labels"
   ],
   "metadata": {
    "colab": {
     "base_uri": "https://localhost:8080/"
    },
    "id": "URJuOQwaF-lD",
    "executionInfo": {
     "status": "ok",
     "timestamp": 1702325145314,
     "user_tz": -60,
     "elapsed": 20,
     "user": {
      "displayName": "Viviana Márquez",
      "userId": "02177297747289649111"
     }
    },
    "outputId": "b4672c3f-1e48-4727-bf5f-f6166793c24e",
    "ExecuteTime": {
     "end_time": "2023-12-14T19:04:47.458882Z",
     "start_time": "2023-12-14T19:04:47.433660900Z"
    }
   },
   "execution_count": 4,
   "outputs": [
    {
     "data": {
      "text/plain": "array(['setosa', 'versicolor', 'virginica'], dtype='<U10')"
     },
     "execution_count": 4,
     "metadata": {},
     "output_type": "execute_result"
    }
   ]
  },
  {
   "cell_type": "code",
   "source": [
    "target_labels_dic = {\n",
    "    0: 'setosa',\n",
    "    1: 'versicolor',\n",
    "    2: 'virginica'\n",
    "}"
   ],
   "metadata": {
    "id": "Hn6aZTSsd7O_",
    "executionInfo": {
     "status": "ok",
     "timestamp": 1702325145314,
     "user_tz": -60,
     "elapsed": 18,
     "user": {
      "displayName": "Viviana Márquez",
      "userId": "02177297747289649111"
     }
    },
    "ExecuteTime": {
     "end_time": "2023-12-14T19:04:47.478938500Z",
     "start_time": "2023-12-14T19:04:47.450258300Z"
    }
   },
   "execution_count": 5,
   "outputs": []
  },
  {
   "cell_type": "code",
   "source": [
    "X = pd.DataFrame(iris.data)\n",
    "X.columns = iris.feature_names\n",
    "X.head()"
   ],
   "metadata": {
    "colab": {
     "base_uri": "https://localhost:8080/",
     "height": 206
    },
    "id": "HnzMyYBuGAAd",
    "executionInfo": {
     "status": "ok",
     "timestamp": 1702325145315,
     "user_tz": -60,
     "elapsed": 19,
     "user": {
      "displayName": "Viviana Márquez",
      "userId": "02177297747289649111"
     }
    },
    "outputId": "1e3ea840-4152-4268-b150-76fb5011841e",
    "ExecuteTime": {
     "end_time": "2023-12-14T19:04:47.494410600Z",
     "start_time": "2023-12-14T19:04:47.465862500Z"
    }
   },
   "execution_count": 6,
   "outputs": [
    {
     "data": {
      "text/plain": "   sepal length (cm)  sepal width (cm)  petal length (cm)  petal width (cm)\n0                5.1               3.5                1.4               0.2\n1                4.9               3.0                1.4               0.2\n2                4.7               3.2                1.3               0.2\n3                4.6               3.1                1.5               0.2\n4                5.0               3.6                1.4               0.2",
      "text/html": "<div>\n<style scoped>\n    .dataframe tbody tr th:only-of-type {\n        vertical-align: middle;\n    }\n\n    .dataframe tbody tr th {\n        vertical-align: top;\n    }\n\n    .dataframe thead th {\n        text-align: right;\n    }\n</style>\n<table border=\"1\" class=\"dataframe\">\n  <thead>\n    <tr style=\"text-align: right;\">\n      <th></th>\n      <th>sepal length (cm)</th>\n      <th>sepal width (cm)</th>\n      <th>petal length (cm)</th>\n      <th>petal width (cm)</th>\n    </tr>\n  </thead>\n  <tbody>\n    <tr>\n      <th>0</th>\n      <td>5.1</td>\n      <td>3.5</td>\n      <td>1.4</td>\n      <td>0.2</td>\n    </tr>\n    <tr>\n      <th>1</th>\n      <td>4.9</td>\n      <td>3.0</td>\n      <td>1.4</td>\n      <td>0.2</td>\n    </tr>\n    <tr>\n      <th>2</th>\n      <td>4.7</td>\n      <td>3.2</td>\n      <td>1.3</td>\n      <td>0.2</td>\n    </tr>\n    <tr>\n      <th>3</th>\n      <td>4.6</td>\n      <td>3.1</td>\n      <td>1.5</td>\n      <td>0.2</td>\n    </tr>\n    <tr>\n      <th>4</th>\n      <td>5.0</td>\n      <td>3.6</td>\n      <td>1.4</td>\n      <td>0.2</td>\n    </tr>\n  </tbody>\n</table>\n</div>"
     },
     "execution_count": 6,
     "metadata": {},
     "output_type": "execute_result"
    }
   ]
  },
  {
   "cell_type": "code",
   "source": [
    "y = pd.DataFrame(iris.target)\n",
    "y.columns = ['target']\n",
    "y.head()"
   ],
   "metadata": {
    "colab": {
     "base_uri": "https://localhost:8080/",
     "height": 206
    },
    "id": "4HonEwY8GBE8",
    "executionInfo": {
     "status": "ok",
     "timestamp": 1702325145315,
     "user_tz": -60,
     "elapsed": 17,
     "user": {
      "displayName": "Viviana Márquez",
      "userId": "02177297747289649111"
     }
    },
    "outputId": "bfddc652-8db4-4319-db0e-aaa191ded9fd",
    "ExecuteTime": {
     "end_time": "2023-12-14T19:04:47.523384500Z",
     "start_time": "2023-12-14T19:04:47.481932300Z"
    }
   },
   "execution_count": 7,
   "outputs": [
    {
     "data": {
      "text/plain": "   target\n0       0\n1       0\n2       0\n3       0\n4       0",
      "text/html": "<div>\n<style scoped>\n    .dataframe tbody tr th:only-of-type {\n        vertical-align: middle;\n    }\n\n    .dataframe tbody tr th {\n        vertical-align: top;\n    }\n\n    .dataframe thead th {\n        text-align: right;\n    }\n</style>\n<table border=\"1\" class=\"dataframe\">\n  <thead>\n    <tr style=\"text-align: right;\">\n      <th></th>\n      <th>target</th>\n    </tr>\n  </thead>\n  <tbody>\n    <tr>\n      <th>0</th>\n      <td>0</td>\n    </tr>\n    <tr>\n      <th>1</th>\n      <td>0</td>\n    </tr>\n    <tr>\n      <th>2</th>\n      <td>0</td>\n    </tr>\n    <tr>\n      <th>3</th>\n      <td>0</td>\n    </tr>\n    <tr>\n      <th>4</th>\n      <td>0</td>\n    </tr>\n  </tbody>\n</table>\n</div>"
     },
     "execution_count": 7,
     "metadata": {},
     "output_type": "execute_result"
    }
   ]
  },
  {
   "cell_type": "code",
   "source": [
    "target_labels = iris.target_names\n",
    "target_labels"
   ],
   "metadata": {
    "colab": {
     "base_uri": "https://localhost:8080/"
    },
    "id": "T3tI8tyYcTJA",
    "executionInfo": {
     "status": "ok",
     "timestamp": 1702325145315,
     "user_tz": -60,
     "elapsed": 16,
     "user": {
      "displayName": "Viviana Márquez",
      "userId": "02177297747289649111"
     }
    },
    "outputId": "5fa1756f-35bb-488b-b963-822d36b590a4",
    "ExecuteTime": {
     "end_time": "2023-12-14T19:04:47.568501200Z",
     "start_time": "2023-12-14T19:04:47.501923600Z"
    }
   },
   "execution_count": 8,
   "outputs": [
    {
     "data": {
      "text/plain": "array(['setosa', 'versicolor', 'virginica'], dtype='<U10')"
     },
     "execution_count": 8,
     "metadata": {},
     "output_type": "execute_result"
    }
   ]
  },
  {
   "cell_type": "markdown",
   "source": [
    "# EDA"
   ],
   "metadata": {
    "id": "BS-Y8pO4GCVK"
   }
  },
  {
   "cell_type": "code",
   "source": [
    "X.info()"
   ],
   "metadata": {
    "colab": {
     "base_uri": "https://localhost:8080/"
    },
    "id": "EOI3nmBiGDqk",
    "executionInfo": {
     "status": "ok",
     "timestamp": 1702325145316,
     "user_tz": -60,
     "elapsed": 15,
     "user": {
      "displayName": "Viviana Márquez",
      "userId": "02177297747289649111"
     }
    },
    "outputId": "4cd72cf6-f97f-4c49-d8a7-3dae7b835c61",
    "ExecuteTime": {
     "end_time": "2023-12-14T19:04:47.597000600Z",
     "start_time": "2023-12-14T19:04:47.513400600Z"
    }
   },
   "execution_count": 9,
   "outputs": [
    {
     "name": "stdout",
     "output_type": "stream",
     "text": [
      "<class 'pandas.core.frame.DataFrame'>\n",
      "RangeIndex: 150 entries, 0 to 149\n",
      "Data columns (total 4 columns):\n",
      " #   Column             Non-Null Count  Dtype  \n",
      "---  ------             --------------  -----  \n",
      " 0   sepal length (cm)  150 non-null    float64\n",
      " 1   sepal width (cm)   150 non-null    float64\n",
      " 2   petal length (cm)  150 non-null    float64\n",
      " 3   petal width (cm)   150 non-null    float64\n",
      "dtypes: float64(4)\n",
      "memory usage: 4.8 KB\n"
     ]
    }
   ]
  },
  {
   "cell_type": "code",
   "source": [
    "X.describe()"
   ],
   "metadata": {
    "colab": {
     "base_uri": "https://localhost:8080/",
     "height": 300
    },
    "id": "oMYBB1hLGEl8",
    "executionInfo": {
     "status": "ok",
     "timestamp": 1702325145316,
     "user_tz": -60,
     "elapsed": 14,
     "user": {
      "displayName": "Viviana Márquez",
      "userId": "02177297747289649111"
     }
    },
    "outputId": "7612c375-8e83-4ae8-fff3-955d222fe0b0",
    "ExecuteTime": {
     "end_time": "2023-12-14T19:04:47.612507900Z",
     "start_time": "2023-12-14T19:04:47.530940Z"
    }
   },
   "execution_count": 10,
   "outputs": [
    {
     "data": {
      "text/plain": "       sepal length (cm)  sepal width (cm)  petal length (cm)  \\\ncount         150.000000        150.000000         150.000000   \nmean            5.843333          3.057333           3.758000   \nstd             0.828066          0.435866           1.765298   \nmin             4.300000          2.000000           1.000000   \n25%             5.100000          2.800000           1.600000   \n50%             5.800000          3.000000           4.350000   \n75%             6.400000          3.300000           5.100000   \nmax             7.900000          4.400000           6.900000   \n\n       petal width (cm)  \ncount        150.000000  \nmean           1.199333  \nstd            0.762238  \nmin            0.100000  \n25%            0.300000  \n50%            1.300000  \n75%            1.800000  \nmax            2.500000  ",
      "text/html": "<div>\n<style scoped>\n    .dataframe tbody tr th:only-of-type {\n        vertical-align: middle;\n    }\n\n    .dataframe tbody tr th {\n        vertical-align: top;\n    }\n\n    .dataframe thead th {\n        text-align: right;\n    }\n</style>\n<table border=\"1\" class=\"dataframe\">\n  <thead>\n    <tr style=\"text-align: right;\">\n      <th></th>\n      <th>sepal length (cm)</th>\n      <th>sepal width (cm)</th>\n      <th>petal length (cm)</th>\n      <th>petal width (cm)</th>\n    </tr>\n  </thead>\n  <tbody>\n    <tr>\n      <th>count</th>\n      <td>150.000000</td>\n      <td>150.000000</td>\n      <td>150.000000</td>\n      <td>150.000000</td>\n    </tr>\n    <tr>\n      <th>mean</th>\n      <td>5.843333</td>\n      <td>3.057333</td>\n      <td>3.758000</td>\n      <td>1.199333</td>\n    </tr>\n    <tr>\n      <th>std</th>\n      <td>0.828066</td>\n      <td>0.435866</td>\n      <td>1.765298</td>\n      <td>0.762238</td>\n    </tr>\n    <tr>\n      <th>min</th>\n      <td>4.300000</td>\n      <td>2.000000</td>\n      <td>1.000000</td>\n      <td>0.100000</td>\n    </tr>\n    <tr>\n      <th>25%</th>\n      <td>5.100000</td>\n      <td>2.800000</td>\n      <td>1.600000</td>\n      <td>0.300000</td>\n    </tr>\n    <tr>\n      <th>50%</th>\n      <td>5.800000</td>\n      <td>3.000000</td>\n      <td>4.350000</td>\n      <td>1.300000</td>\n    </tr>\n    <tr>\n      <th>75%</th>\n      <td>6.400000</td>\n      <td>3.300000</td>\n      <td>5.100000</td>\n      <td>1.800000</td>\n    </tr>\n    <tr>\n      <th>max</th>\n      <td>7.900000</td>\n      <td>4.400000</td>\n      <td>6.900000</td>\n      <td>2.500000</td>\n    </tr>\n  </tbody>\n</table>\n</div>"
     },
     "execution_count": 10,
     "metadata": {},
     "output_type": "execute_result"
    }
   ]
  },
  {
   "cell_type": "code",
   "source": [
    "X.isna().sum()"
   ],
   "metadata": {
    "colab": {
     "base_uri": "https://localhost:8080/"
    },
    "id": "gGEY8Pc3GFVn",
    "executionInfo": {
     "status": "ok",
     "timestamp": 1702325145316,
     "user_tz": -60,
     "elapsed": 13,
     "user": {
      "displayName": "Viviana Márquez",
      "userId": "02177297747289649111"
     }
    },
    "outputId": "1a549f28-b58f-4ade-fb2f-0cf0dffc1a51",
    "ExecuteTime": {
     "end_time": "2023-12-14T19:04:47.621117200Z",
     "start_time": "2023-12-14T19:04:47.544924100Z"
    }
   },
   "execution_count": 11,
   "outputs": [
    {
     "data": {
      "text/plain": "sepal length (cm)    0\nsepal width (cm)     0\npetal length (cm)    0\npetal width (cm)     0\ndtype: int64"
     },
     "execution_count": 11,
     "metadata": {},
     "output_type": "execute_result"
    }
   ]
  },
  {
   "cell_type": "code",
   "source": [
    "X.corr()"
   ],
   "metadata": {
    "colab": {
     "base_uri": "https://localhost:8080/",
     "height": 175
    },
    "id": "S67UvAlHGGNE",
    "executionInfo": {
     "status": "ok",
     "timestamp": 1702325145707,
     "user_tz": -60,
     "elapsed": 12,
     "user": {
      "displayName": "Viviana Márquez",
      "userId": "02177297747289649111"
     }
    },
    "outputId": "e8edf0d3-7684-466c-dece-c45974ce73f6",
    "ExecuteTime": {
     "end_time": "2023-12-14T19:04:47.623111Z",
     "start_time": "2023-12-14T19:04:47.560021200Z"
    }
   },
   "execution_count": 12,
   "outputs": [
    {
     "data": {
      "text/plain": "                   sepal length (cm)  sepal width (cm)  petal length (cm)  \\\nsepal length (cm)           1.000000         -0.117570           0.871754   \nsepal width (cm)           -0.117570          1.000000          -0.428440   \npetal length (cm)           0.871754         -0.428440           1.000000   \npetal width (cm)            0.817941         -0.366126           0.962865   \n\n                   petal width (cm)  \nsepal length (cm)          0.817941  \nsepal width (cm)          -0.366126  \npetal length (cm)          0.962865  \npetal width (cm)           1.000000  ",
      "text/html": "<div>\n<style scoped>\n    .dataframe tbody tr th:only-of-type {\n        vertical-align: middle;\n    }\n\n    .dataframe tbody tr th {\n        vertical-align: top;\n    }\n\n    .dataframe thead th {\n        text-align: right;\n    }\n</style>\n<table border=\"1\" class=\"dataframe\">\n  <thead>\n    <tr style=\"text-align: right;\">\n      <th></th>\n      <th>sepal length (cm)</th>\n      <th>sepal width (cm)</th>\n      <th>petal length (cm)</th>\n      <th>petal width (cm)</th>\n    </tr>\n  </thead>\n  <tbody>\n    <tr>\n      <th>sepal length (cm)</th>\n      <td>1.000000</td>\n      <td>-0.117570</td>\n      <td>0.871754</td>\n      <td>0.817941</td>\n    </tr>\n    <tr>\n      <th>sepal width (cm)</th>\n      <td>-0.117570</td>\n      <td>1.000000</td>\n      <td>-0.428440</td>\n      <td>-0.366126</td>\n    </tr>\n    <tr>\n      <th>petal length (cm)</th>\n      <td>0.871754</td>\n      <td>-0.428440</td>\n      <td>1.000000</td>\n      <td>0.962865</td>\n    </tr>\n    <tr>\n      <th>petal width (cm)</th>\n      <td>0.817941</td>\n      <td>-0.366126</td>\n      <td>0.962865</td>\n      <td>1.000000</td>\n    </tr>\n  </tbody>\n</table>\n</div>"
     },
     "execution_count": 12,
     "metadata": {},
     "output_type": "execute_result"
    }
   ]
  },
  {
   "cell_type": "code",
   "source": [
    "y.value_counts()"
   ],
   "metadata": {
    "colab": {
     "base_uri": "https://localhost:8080/"
    },
    "id": "miccVMHdGHRj",
    "executionInfo": {
     "status": "ok",
     "timestamp": 1702325145707,
     "user_tz": -60,
     "elapsed": 11,
     "user": {
      "displayName": "Viviana Márquez",
      "userId": "02177297747289649111"
     }
    },
    "outputId": "39a2c775-ee88-4e1c-dc78-2937dfb4c9e1",
    "ExecuteTime": {
     "end_time": "2023-12-14T19:04:47.641190900Z",
     "start_time": "2023-12-14T19:04:47.575482100Z"
    }
   },
   "execution_count": 13,
   "outputs": [
    {
     "data": {
      "text/plain": "target\n0         50\n1         50\n2         50\ndtype: int64"
     },
     "execution_count": 13,
     "metadata": {},
     "output_type": "execute_result"
    }
   ]
  },
  {
   "cell_type": "markdown",
   "source": [
    "# Split dataset into train/test\n",
    "\n",
    "## **ALWAYS** before feature engineering and modeling\n",
    "\n",
    "The primary reason for performing a train/test split before feature engineering and modeling is to prevent data leakage and to ensure that the evaluation of your model is accurate and indicative of its performance on unseen data.\n",
    "\n",
    "- Prevention of Data Leakage\n",
    "- Accurate Evaluation\n",
    "- Ethical Modeling Practices"
   ],
   "metadata": {
    "id": "S8SX4p4NGNol"
   }
  },
  {
   "cell_type": "code",
   "source": [
    "X_train, X_test, y_train, y_test = train_test_split(X, y, test_size=0.2, random_state=42)MultinomialNB"
   ],
   "metadata": {
    "id": "OT7kS2FhGckk",
    "executionInfo": {
     "status": "ok",
     "timestamp": 1702325145708,
     "user_tz": -60,
     "elapsed": 10,
     "user": {
      "displayName": "Viviana Márquez",
      "userId": "02177297747289649111"
     }
    },
    "ExecuteTime": {
     "end_time": "2023-12-14T19:04:47.674731100Z",
     "start_time": "2023-12-14T19:04:47.591509900Z"
    }
   },
   "execution_count": 14,
   "outputs": []
  },
  {
   "cell_type": "markdown",
   "source": [
    "# Modeling\n",
    "\n",
    "Create pipelines for each model"
   ],
   "metadata": {
    "id": "_Az6ghscI2Mh"
   }
  },
  {
   "cell_type": "code",
   "source": [
    "pipelines = {\n",
    "    'lr': Pipeline([('scaler', StandardScaler()), ('classifier', LogisticRegression())]),\n",
    "    'knn': Pipeline([('scaler', StandardScaler()), ('classifier', KNeighborsClassifier())]),\n",
    "    'dt': Pipeline([('scaler', StandardScaler()), ('classifier', DecisionTreeClassifier())]),\n",
    "    'svm': Pipeline([('scaler', StandardScaler()), ('classifier', SVC())]),\n",
    "    'nb': Pipeline([('scaler', StandardScaler()), ('classifier', GaussianNB())]),\n",
    "}"
   ],
   "metadata": {
    "id": "nlz3TtIwaRoR",
    "executionInfo": {
     "status": "ok",
     "timestamp": 1702325145708,
     "user_tz": -60,
     "elapsed": 10,
     "user": {
      "displayName": "Viviana Márquez",
      "userId": "02177297747289649111"
     }
    },
    "ExecuteTime": {
     "end_time": "2023-12-14T19:04:47.677229300Z",
     "start_time": "2023-12-14T19:04:47.607515300Z"
    }
   },
   "execution_count": 15,
   "outputs": []
  },
  {
   "cell_type": "markdown",
   "source": [
    "#### Fit and evaluate models"
   ],
   "metadata": {
    "id": "GyJ-7a6zJOoX"
   }
  },
  {
   "cell_type": "code",
   "source": [
    "scores = {}\n",
    "for model_name, pipeline in pipelines.items():\n",
    "    pipeline.fit(X_train, y_train.values.ravel())\n",
    "    score = cross_val_score(pipeline, X_train, y_train.values.ravel(), cv=5, scoring='accuracy').mean()\n",
    "    scores[model_name] = score\n",
    "    print(f\"{model_name} with accuracy score {score:.3f}\")"
   ],
   "metadata": {
    "colab": {
     "base_uri": "https://localhost:8080/"
    },
    "id": "KVxspDCBajpp",
    "executionInfo": {
     "status": "ok",
     "timestamp": 1702325145708,
     "user_tz": -60,
     "elapsed": 9,
     "user": {
      "displayName": "Viviana Márquez",
      "userId": "02177297747289649111"
     }
    },
    "outputId": "e02f7316-cd0d-4cc0-c57e-fc6ca02db7a2",
    "ExecuteTime": {
     "end_time": "2023-12-14T19:04:47.782199300Z",
     "start_time": "2023-12-14T19:04:47.624108400Z"
    }
   },
   "execution_count": 16,
   "outputs": [
    {
     "name": "stdout",
     "output_type": "stream",
     "text": [
      "lr with accuracy score 0.958\n",
      "knn with accuracy score 0.933\n",
      "dt with accuracy score 0.942\n",
      "svm with accuracy score 0.958\n",
      "nb with accuracy score 0.942\n"
     ]
    }
   ]
  },
  {
   "cell_type": "code",
   "source": [
    "# Find the best model\n",
    "best_model_name = max(scores, key=scores.get)\n",
    "print(f\"Best Model: {best_model_name} with accuracy score: {scores[best_model_name]}\")"
   ],
   "metadata": {
    "colab": {
     "base_uri": "https://localhost:8080/"
    },
    "id": "jgxSdfm6bpzm",
    "executionInfo": {
     "status": "ok",
     "timestamp": 1702325145708,
     "user_tz": -60,
     "elapsed": 8,
     "user": {
      "displayName": "Viviana Márquez",
      "userId": "02177297747289649111"
     }
    },
    "outputId": "cdfe177d-5540-4ab1-917c-eb3335f9aba6",
    "ExecuteTime": {
     "end_time": "2023-12-14T19:04:47.783195700Z",
     "start_time": "2023-12-14T19:04:47.750733800Z"
    }
   },
   "execution_count": 17,
   "outputs": [
    {
     "name": "stdout",
     "output_type": "stream",
     "text": [
      "Best Model: lr with accuracy score: 0.9583333333333334\n"
     ]
    }
   ]
  },
  {
   "cell_type": "markdown",
   "source": [
    "#### Hyperparameter tuning"
   ],
   "metadata": {
    "id": "FbWuYjugb1KQ"
   }
  },
  {
   "cell_type": "code",
   "source": [
    "hyperparameters = {'classifier__solver': ['liblinear'],\n",
    "                   'classifier__penalty': ['l1', 'l2'],\n",
    "                   'classifier__C': [0.01, 0.1, 1, 10, 100]\n",
    "                   }\n",
    "\n",
    "best_pipeline = pipelines[best_model_name]\n",
    "grid_search = GridSearchCV(best_pipeline, hyperparameters, cv=5, scoring='accuracy')\n",
    "grid_search.fit(X_train, y_train.values.ravel())"
   ],
   "metadata": {
    "colab": {
     "base_uri": "https://localhost:8080/",
     "height": 151
    },
    "id": "9rrRZHl1b3FB",
    "executionInfo": {
     "status": "ok",
     "timestamp": 1702325311688,
     "user_tz": -60,
     "elapsed": 2134,
     "user": {
      "displayName": "Viviana Márquez",
      "userId": "02177297747289649111"
     }
    },
    "outputId": "f57e31ad-decf-499b-9cdf-80e49aaa5ef3",
    "ExecuteTime": {
     "end_time": "2023-12-14T19:04:47.969160Z",
     "start_time": "2023-12-14T19:04:47.767721700Z"
    }
   },
   "execution_count": 18,
   "outputs": [
    {
     "data": {
      "text/plain": "GridSearchCV(cv=5,\n             estimator=Pipeline(steps=[('scaler', StandardScaler()),\n                                       ('classifier', LogisticRegression())]),\n             param_grid={'classifier__C': [0.01, 0.1, 1, 10, 100],\n                         'classifier__penalty': ['l1', 'l2'],\n                         'classifier__solver': ['liblinear']},\n             scoring='accuracy')",
      "text/html": "<style>#sk-container-id-1 {color: black;}#sk-container-id-1 pre{padding: 0;}#sk-container-id-1 div.sk-toggleable {background-color: white;}#sk-container-id-1 label.sk-toggleable__label {cursor: pointer;display: block;width: 100%;margin-bottom: 0;padding: 0.3em;box-sizing: border-box;text-align: center;}#sk-container-id-1 label.sk-toggleable__label-arrow:before {content: \"▸\";float: left;margin-right: 0.25em;color: #696969;}#sk-container-id-1 label.sk-toggleable__label-arrow:hover:before {color: black;}#sk-container-id-1 div.sk-estimator:hover label.sk-toggleable__label-arrow:before {color: black;}#sk-container-id-1 div.sk-toggleable__content {max-height: 0;max-width: 0;overflow: hidden;text-align: left;background-color: #f0f8ff;}#sk-container-id-1 div.sk-toggleable__content pre {margin: 0.2em;color: black;border-radius: 0.25em;background-color: #f0f8ff;}#sk-container-id-1 input.sk-toggleable__control:checked~div.sk-toggleable__content {max-height: 200px;max-width: 100%;overflow: auto;}#sk-container-id-1 input.sk-toggleable__control:checked~label.sk-toggleable__label-arrow:before {content: \"▾\";}#sk-container-id-1 div.sk-estimator input.sk-toggleable__control:checked~label.sk-toggleable__label {background-color: #d4ebff;}#sk-container-id-1 div.sk-label input.sk-toggleable__control:checked~label.sk-toggleable__label {background-color: #d4ebff;}#sk-container-id-1 input.sk-hidden--visually {border: 0;clip: rect(1px 1px 1px 1px);clip: rect(1px, 1px, 1px, 1px);height: 1px;margin: -1px;overflow: hidden;padding: 0;position: absolute;width: 1px;}#sk-container-id-1 div.sk-estimator {font-family: monospace;background-color: #f0f8ff;border: 1px dotted black;border-radius: 0.25em;box-sizing: border-box;margin-bottom: 0.5em;}#sk-container-id-1 div.sk-estimator:hover {background-color: #d4ebff;}#sk-container-id-1 div.sk-parallel-item::after {content: \"\";width: 100%;border-bottom: 1px solid gray;flex-grow: 1;}#sk-container-id-1 div.sk-label:hover label.sk-toggleable__label {background-color: #d4ebff;}#sk-container-id-1 div.sk-serial::before {content: \"\";position: absolute;border-left: 1px solid gray;box-sizing: border-box;top: 0;bottom: 0;left: 50%;z-index: 0;}#sk-container-id-1 div.sk-serial {display: flex;flex-direction: column;align-items: center;background-color: white;padding-right: 0.2em;padding-left: 0.2em;position: relative;}#sk-container-id-1 div.sk-item {position: relative;z-index: 1;}#sk-container-id-1 div.sk-parallel {display: flex;align-items: stretch;justify-content: center;background-color: white;position: relative;}#sk-container-id-1 div.sk-item::before, #sk-container-id-1 div.sk-parallel-item::before {content: \"\";position: absolute;border-left: 1px solid gray;box-sizing: border-box;top: 0;bottom: 0;left: 50%;z-index: -1;}#sk-container-id-1 div.sk-parallel-item {display: flex;flex-direction: column;z-index: 1;position: relative;background-color: white;}#sk-container-id-1 div.sk-parallel-item:first-child::after {align-self: flex-end;width: 50%;}#sk-container-id-1 div.sk-parallel-item:last-child::after {align-self: flex-start;width: 50%;}#sk-container-id-1 div.sk-parallel-item:only-child::after {width: 0;}#sk-container-id-1 div.sk-dashed-wrapped {border: 1px dashed gray;margin: 0 0.4em 0.5em 0.4em;box-sizing: border-box;padding-bottom: 0.4em;background-color: white;}#sk-container-id-1 div.sk-label label {font-family: monospace;font-weight: bold;display: inline-block;line-height: 1.2em;}#sk-container-id-1 div.sk-label-container {text-align: center;}#sk-container-id-1 div.sk-container {/* jupyter's `normalize.less` sets `[hidden] { display: none; }` but bootstrap.min.css set `[hidden] { display: none !important; }` so we also need the `!important` here to be able to override the default hidden behavior on the sphinx rendered scikit-learn.org. See: https://github.com/scikit-learn/scikit-learn/issues/21755 */display: inline-block !important;position: relative;}#sk-container-id-1 div.sk-text-repr-fallback {display: none;}</style><div id=\"sk-container-id-1\" class=\"sk-top-container\"><div class=\"sk-text-repr-fallback\"><pre>GridSearchCV(cv=5,\n             estimator=Pipeline(steps=[(&#x27;scaler&#x27;, StandardScaler()),\n                                       (&#x27;classifier&#x27;, LogisticRegression())]),\n             param_grid={&#x27;classifier__C&#x27;: [0.01, 0.1, 1, 10, 100],\n                         &#x27;classifier__penalty&#x27;: [&#x27;l1&#x27;, &#x27;l2&#x27;],\n                         &#x27;classifier__solver&#x27;: [&#x27;liblinear&#x27;]},\n             scoring=&#x27;accuracy&#x27;)</pre><b>In a Jupyter environment, please rerun this cell to show the HTML representation or trust the notebook. <br />On GitHub, the HTML representation is unable to render, please try loading this page with nbviewer.org.</b></div><div class=\"sk-container\" hidden><div class=\"sk-item sk-dashed-wrapped\"><div class=\"sk-label-container\"><div class=\"sk-label sk-toggleable\"><input class=\"sk-toggleable__control sk-hidden--visually\" id=\"sk-estimator-id-1\" type=\"checkbox\" ><label for=\"sk-estimator-id-1\" class=\"sk-toggleable__label sk-toggleable__label-arrow\">GridSearchCV</label><div class=\"sk-toggleable__content\"><pre>GridSearchCV(cv=5,\n             estimator=Pipeline(steps=[(&#x27;scaler&#x27;, StandardScaler()),\n                                       (&#x27;classifier&#x27;, LogisticRegression())]),\n             param_grid={&#x27;classifier__C&#x27;: [0.01, 0.1, 1, 10, 100],\n                         &#x27;classifier__penalty&#x27;: [&#x27;l1&#x27;, &#x27;l2&#x27;],\n                         &#x27;classifier__solver&#x27;: [&#x27;liblinear&#x27;]},\n             scoring=&#x27;accuracy&#x27;)</pre></div></div></div><div class=\"sk-parallel\"><div class=\"sk-parallel-item\"><div class=\"sk-item\"><div class=\"sk-label-container\"><div class=\"sk-label sk-toggleable\"><input class=\"sk-toggleable__control sk-hidden--visually\" id=\"sk-estimator-id-2\" type=\"checkbox\" ><label for=\"sk-estimator-id-2\" class=\"sk-toggleable__label sk-toggleable__label-arrow\">estimator: Pipeline</label><div class=\"sk-toggleable__content\"><pre>Pipeline(steps=[(&#x27;scaler&#x27;, StandardScaler()),\n                (&#x27;classifier&#x27;, LogisticRegression())])</pre></div></div></div><div class=\"sk-serial\"><div class=\"sk-item\"><div class=\"sk-serial\"><div class=\"sk-item\"><div class=\"sk-estimator sk-toggleable\"><input class=\"sk-toggleable__control sk-hidden--visually\" id=\"sk-estimator-id-3\" type=\"checkbox\" ><label for=\"sk-estimator-id-3\" class=\"sk-toggleable__label sk-toggleable__label-arrow\">StandardScaler</label><div class=\"sk-toggleable__content\"><pre>StandardScaler()</pre></div></div></div><div class=\"sk-item\"><div class=\"sk-estimator sk-toggleable\"><input class=\"sk-toggleable__control sk-hidden--visually\" id=\"sk-estimator-id-4\" type=\"checkbox\" ><label for=\"sk-estimator-id-4\" class=\"sk-toggleable__label sk-toggleable__label-arrow\">LogisticRegression</label><div class=\"sk-toggleable__content\"><pre>LogisticRegression()</pre></div></div></div></div></div></div></div></div></div></div></div></div>"
     },
     "execution_count": 18,
     "metadata": {},
     "output_type": "execute_result"
    }
   ]
  },
  {
   "cell_type": "code",
   "source": [
    "print(f\"Best Parameters: {grid_search.best_params_}\")\n",
    "print(f\"Best Accuracy Score: {grid_search.best_score_}\")"
   ],
   "metadata": {
    "colab": {
     "base_uri": "https://localhost:8080/"
    },
    "id": "Z7KxBdmMdN81",
    "executionInfo": {
     "status": "ok",
     "timestamp": 1702325315468,
     "user_tz": -60,
     "elapsed": 304,
     "user": {
      "displayName": "Viviana Márquez",
      "userId": "02177297747289649111"
     }
    },
    "outputId": "8ab68d53-acb1-4885-96d8-4e72b24a79a6",
    "ExecuteTime": {
     "end_time": "2023-12-14T19:04:47.990179900Z",
     "start_time": "2023-12-14T19:04:47.970160300Z"
    }
   },
   "execution_count": 19,
   "outputs": [
    {
     "name": "stdout",
     "output_type": "stream",
     "text": [
      "Best Parameters: {'classifier__C': 10, 'classifier__penalty': 'l1', 'classifier__solver': 'liblinear'}\n",
      "Best Accuracy Score: 0.9583333333333334\n"
     ]
    }
   ]
  },
  {
   "cell_type": "code",
   "source": [
    "# Using the best model with optimized hyperparameters\n",
    "best_model = grid_search.best_estimator_"
   ],
   "metadata": {
    "id": "xzuxh7VEdnCA",
    "executionInfo": {
     "status": "ok",
     "timestamp": 1702325318834,
     "user_tz": -60,
     "elapsed": 292,
     "user": {
      "displayName": "Viviana Márquez",
      "userId": "02177297747289649111"
     }
    },
    "ExecuteTime": {
     "end_time": "2023-12-14T19:04:48.004660Z",
     "start_time": "2023-12-14T19:04:47.987178400Z"
    }
   },
   "execution_count": 20,
   "outputs": []
  },
  {
   "cell_type": "code",
   "source": [
    "# Make predictions on the test set\n",
    "y_pred = best_model.predict(X_test)"
   ],
   "metadata": {
    "id": "pJqOOpAfJPjB",
    "executionInfo": {
     "status": "ok",
     "timestamp": 1702325380700,
     "user_tz": -60,
     "elapsed": 2,
     "user": {
      "displayName": "Viviana Márquez",
      "userId": "02177297747289649111"
     }
    },
    "ExecuteTime": {
     "end_time": "2023-12-14T19:04:48.018669Z",
     "start_time": "2023-12-14T19:04:48.002666400Z"
    }
   },
   "execution_count": 21,
   "outputs": []
  },
  {
   "cell_type": "code",
   "source": [
    "# Naming the labels\n",
    "y_test_named = [target_labels_dic[i[0]] for i in y_test.values]\n",
    "y_pred_named = [target_labels_dic[i] for i in y_pred]"
   ],
   "metadata": {
    "id": "YYqe-3XQTAkl",
    "executionInfo": {
     "status": "ok",
     "timestamp": 1702325381231,
     "user_tz": -60,
     "elapsed": 2,
     "user": {
      "displayName": "Viviana Márquez",
      "userId": "02177297747289649111"
     }
    },
    "ExecuteTime": {
     "end_time": "2023-12-14T19:04:48.036636700Z",
     "start_time": "2023-12-14T19:04:48.017672400Z"
    }
   },
   "execution_count": 22,
   "outputs": []
  },
  {
   "cell_type": "code",
   "source": [
    "print(classification_report(y_test_named, y_pred_named))"
   ],
   "metadata": {
    "colab": {
     "base_uri": "https://localhost:8080/"
    },
    "id": "DjKncO-DNP2h",
    "executionInfo": {
     "status": "ok",
     "timestamp": 1702325381468,
     "user_tz": -60,
     "elapsed": 2,
     "user": {
      "displayName": "Viviana Márquez",
      "userId": "02177297747289649111"
     }
    },
    "outputId": "f2daf431-2575-420d-8166-8185c6ecff10",
    "ExecuteTime": {
     "end_time": "2023-12-14T19:04:48.057654800Z",
     "start_time": "2023-12-14T19:04:48.033142200Z"
    }
   },
   "execution_count": 23,
   "outputs": [
    {
     "name": "stdout",
     "output_type": "stream",
     "text": [
      "              precision    recall  f1-score   support\n",
      "\n",
      "      setosa       1.00      1.00      1.00        10\n",
      "  versicolor       1.00      1.00      1.00         9\n",
      "   virginica       1.00      1.00      1.00        11\n",
      "\n",
      "    accuracy                           1.00        30\n",
      "   macro avg       1.00      1.00      1.00        30\n",
      "weighted avg       1.00      1.00      1.00        30\n"
     ]
    }
   ]
  },
  {
   "cell_type": "markdown",
   "source": [
    "# Deployment"
   ],
   "metadata": {
    "id": "tsmIkyBNtyq-"
   }
  },
  {
   "cell_type": "code",
   "source": [
    "# Save class names in the model (assuming it's a classifier)\n",
    "if hasattr(best_model.named_steps['classifier'], 'classes_'):\n",
    "    best_model.named_steps['classifier'].class_names_mapping = target_labels_dic"
   ],
   "metadata": {
    "id": "z2BI_NB4haLv",
    "executionInfo": {
     "status": "ok",
     "timestamp": 1702325775807,
     "user_tz": -60,
     "elapsed": 319,
     "user": {
      "displayName": "Viviana Márquez",
      "userId": "02177297747289649111"
     }
    },
    "ExecuteTime": {
     "end_time": "2023-12-14T19:04:48.088159400Z",
     "start_time": "2023-12-14T19:04:48.049125300Z"
    }
   },
   "execution_count": 24,
   "outputs": []
  },
  {
   "cell_type": "code",
   "source": [
    "# Save the model and scaler, if necessary\n",
    "import joblib\n",
    "joblib.dump(best_model, 'best_model.pkl')"
   ],
   "metadata": {
    "colab": {
     "base_uri": "https://localhost:8080/"
    },
    "id": "3Ge0Jk46sQy4",
    "executionInfo": {
     "status": "ok",
     "timestamp": 1702325776254,
     "user_tz": -60,
     "elapsed": 2,
     "user": {
      "displayName": "Viviana Márquez",
      "userId": "02177297747289649111"
     }
    },
    "outputId": "c10f3dfa-c373-4d46-96aa-80f8a13e2aba",
    "ExecuteTime": {
     "end_time": "2023-12-14T19:04:48.090151900Z",
     "start_time": "2023-12-14T19:04:48.064635800Z"
    }
   },
   "execution_count": 25,
   "outputs": [
    {
     "data": {
      "text/plain": "['best_model.pkl']"
     },
     "execution_count": 25,
     "metadata": {},
     "output_type": "execute_result"
    }
   ]
  },
  {
   "cell_type": "code",
   "source": [
    "def predict(input_features, model):\n",
    "    if isinstance(input_features, list):\n",
    "        input_features = pd.DataFrame([input_features], columns=model.named_steps['scaler'].feature_names_in_)\n",
    "    elif isinstance(input_features, np.ndarray):\n",
    "        input_features = pd.DataFrame(input_features, columns=model.named_steps['scaler'].feature_names_in_)\n",
    "\n",
    "    numeric_prediction = model.predict(input_features)\n",
    "\n",
    "    if hasattr(model.named_steps['classifier'], 'class_names_mapping'):\n",
    "        class_name_mapping = model.named_steps['classifier'].class_names_mapping\n",
    "        class_name_prediction = [class_name_mapping[pred] for pred in numeric_prediction]\n",
    "    else:\n",
    "        class_name_prediction = numeric_prediction\n",
    "\n",
    "    return class_name_prediction"
   ],
   "metadata": {
    "id": "spD_y5-C1W5Y",
    "executionInfo": {
     "status": "ok",
     "timestamp": 1702325799876,
     "user_tz": -60,
     "elapsed": 269,
     "user": {
      "displayName": "Viviana Márquez",
      "userId": "02177297747289649111"
     }
    },
    "ExecuteTime": {
     "end_time": "2023-12-14T19:04:48.104647500Z",
     "start_time": "2023-12-14T19:04:48.081636500Z"
    }
   },
   "execution_count": 26,
   "outputs": []
  },
  {
   "cell_type": "code",
   "source": [
    "# Example usage\n",
    "model = joblib.load('best_model.pkl')\n",
    "new_data = [4.6, 3.2, 4.6, 3.2]  # Example new data\n",
    "prediction = predict(new_data, model)\n",
    "print(prediction)"
   ],
   "metadata": {
    "colab": {
     "base_uri": "https://localhost:8080/"
    },
    "id": "sI9UD6Y52kkP",
    "executionInfo": {
     "status": "ok",
     "timestamp": 1702325778110,
     "user_tz": -60,
     "elapsed": 3,
     "user": {
      "displayName": "Viviana Márquez",
      "userId": "02177297747289649111"
     }
    },
    "outputId": "23e3691c-de19-43bf-c8ca-46a697c5cd76",
    "ExecuteTime": {
     "end_time": "2023-12-14T19:04:48.142211100Z",
     "start_time": "2023-12-14T19:04:48.096643600Z"
    }
   },
   "execution_count": 27,
   "outputs": [
    {
     "name": "stdout",
     "output_type": "stream",
     "text": [
      "['virginica']\n"
     ]
    }
   ]
  },
  {
   "cell_type": "code",
   "source": [],
   "metadata": {
    "id": "Mg9fyV9ohfNl",
    "ExecuteTime": {
     "end_time": "2023-12-14T19:04:48.143207800Z",
     "start_time": "2023-12-14T19:04:48.112136400Z"
    }
   },
   "execution_count": 27,
   "outputs": []
  }
 ]
}
