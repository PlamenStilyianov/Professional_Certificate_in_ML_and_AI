{
 "nbformat": 4,
 "nbformat_minor": 0,
 "metadata": {
  "colab": {
   "provenance": []
  },
  "kernelspec": {
   "name": "python3",
   "language": "python",
   "display_name": "Python 3 (ipykernel)"
  },
  "language_info": {
   "name": "python"
  }
 },
 "cells": [
  {
   "cell_type": "code",
   "execution_count": 1,
   "metadata": {
    "id": "_ET9coRH2L0e",
    "ExecuteTime": {
     "end_time": "2023-12-14T18:51:23.566989700Z",
     "start_time": "2023-12-14T18:51:22.025341300Z"
    }
   },
   "outputs": [],
   "source": [
    "import numpy as np\n",
    "import pandas as pd\n",
    "from sklearn import datasets\n",
    "\n",
    "import graphviz # Library by Terence Parr https://explained.ai/decision-tree-viz/ To install: ! pip install graphviz\n",
    "from sklearn.tree import export_graphviz\n",
    "\n",
    "from sklearn.tree import DecisionTreeClassifier\n",
    "from sklearn.metrics import confusion_matrix, classification_report"
   ]
  },
  {
   "cell_type": "code",
   "source": [],
   "metadata": {
    "id": "GVpNQIRPqVjf",
    "ExecuteTime": {
     "end_time": "2023-12-14T18:51:23.581842300Z",
     "start_time": "2023-12-14T18:51:23.566989700Z"
    }
   },
   "execution_count": 1,
   "outputs": []
  },
  {
   "cell_type": "code",
   "source": [],
   "metadata": {
    "id": "_nHQhkCuqV-L",
    "ExecuteTime": {
     "end_time": "2023-12-14T18:51:23.600333600Z",
     "start_time": "2023-12-14T18:51:23.583827700Z"
    }
   },
   "execution_count": 1,
   "outputs": []
  },
  {
   "cell_type": "markdown",
   "source": [
    "# Data set"
   ],
   "metadata": {
    "id": "Hz2paUXw2dO1"
   }
  },
  {
   "cell_type": "code",
   "source": [
    "iris = datasets.load_iris()"
   ],
   "metadata": {
    "id": "58Orvdrr2eAG",
    "ExecuteTime": {
     "end_time": "2023-12-14T18:51:23.613192700Z",
     "start_time": "2023-12-14T18:51:23.600333600Z"
    }
   },
   "execution_count": 2,
   "outputs": []
  },
  {
   "cell_type": "code",
   "source": [
    "iris.keys()"
   ],
   "metadata": {
    "colab": {
     "base_uri": "https://localhost:8080/"
    },
    "id": "cOxxvSBP2ibj",
    "outputId": "7680970e-085c-4f2d-8843-19b1dd488b4a",
    "ExecuteTime": {
     "end_time": "2023-12-14T18:51:23.651440900Z",
     "start_time": "2023-12-14T18:51:23.614104Z"
    }
   },
   "execution_count": 3,
   "outputs": [
    {
     "data": {
      "text/plain": "dict_keys(['data', 'target', 'frame', 'target_names', 'DESCR', 'feature_names', 'filename', 'data_module'])"
     },
     "execution_count": 3,
     "metadata": {},
     "output_type": "execute_result"
    }
   ]
  },
  {
   "cell_type": "code",
   "source": [
    "iris.target_names"
   ],
   "metadata": {
    "colab": {
     "base_uri": "https://localhost:8080/"
    },
    "id": "GYdbtm_Z2qSZ",
    "outputId": "867b4ef7-56d0-41d3-e3bb-7e6017c01c55",
    "ExecuteTime": {
     "end_time": "2023-12-14T18:51:23.652437300Z",
     "start_time": "2023-12-14T18:51:23.629266Z"
    }
   },
   "execution_count": 4,
   "outputs": [
    {
     "data": {
      "text/plain": "array(['setosa', 'versicolor', 'virginica'], dtype='<U10')"
     },
     "execution_count": 4,
     "metadata": {},
     "output_type": "execute_result"
    }
   ]
  },
  {
   "cell_type": "code",
   "source": [
    "X = pd.DataFrame(iris.data)\n",
    "X.columns = iris.feature_names\n",
    "X = X[X.columns[2:]]\n",
    "X.head()"
   ],
   "metadata": {
    "colab": {
     "base_uri": "https://localhost:8080/",
     "height": 206
    },
    "id": "t6kNGxoR208z",
    "outputId": "81b96f88-ead5-45ad-b38c-cc360c7c972b",
    "ExecuteTime": {
     "end_time": "2023-12-14T18:51:23.665923600Z",
     "start_time": "2023-12-14T18:51:23.648196900Z"
    }
   },
   "execution_count": 5,
   "outputs": [
    {
     "data": {
      "text/plain": "   petal length (cm)  petal width (cm)\n0                1.4               0.2\n1                1.4               0.2\n2                1.3               0.2\n3                1.5               0.2\n4                1.4               0.2",
      "text/html": "<div>\n<style scoped>\n    .dataframe tbody tr th:only-of-type {\n        vertical-align: middle;\n    }\n\n    .dataframe tbody tr th {\n        vertical-align: top;\n    }\n\n    .dataframe thead th {\n        text-align: right;\n    }\n</style>\n<table border=\"1\" class=\"dataframe\">\n  <thead>\n    <tr style=\"text-align: right;\">\n      <th></th>\n      <th>petal length (cm)</th>\n      <th>petal width (cm)</th>\n    </tr>\n  </thead>\n  <tbody>\n    <tr>\n      <th>0</th>\n      <td>1.4</td>\n      <td>0.2</td>\n    </tr>\n    <tr>\n      <th>1</th>\n      <td>1.4</td>\n      <td>0.2</td>\n    </tr>\n    <tr>\n      <th>2</th>\n      <td>1.3</td>\n      <td>0.2</td>\n    </tr>\n    <tr>\n      <th>3</th>\n      <td>1.5</td>\n      <td>0.2</td>\n    </tr>\n    <tr>\n      <th>4</th>\n      <td>1.4</td>\n      <td>0.2</td>\n    </tr>\n  </tbody>\n</table>\n</div>"
     },
     "execution_count": 5,
     "metadata": {},
     "output_type": "execute_result"
    }
   ]
  },
  {
   "cell_type": "code",
   "source": [
    "y = pd.DataFrame(iris.target)\n",
    "y.columns = ['target']\n",
    "y.head()"
   ],
   "metadata": {
    "colab": {
     "base_uri": "https://localhost:8080/",
     "height": 206
    },
    "id": "dQKrpt7u284R",
    "outputId": "1d1b037d-d00f-4901-ab31-2f5049e41eeb",
    "ExecuteTime": {
     "end_time": "2023-12-14T18:51:23.714397200Z",
     "start_time": "2023-12-14T18:51:23.664927100Z"
    }
   },
   "execution_count": 6,
   "outputs": [
    {
     "data": {
      "text/plain": "   target\n0       0\n1       0\n2       0\n3       0\n4       0",
      "text/html": "<div>\n<style scoped>\n    .dataframe tbody tr th:only-of-type {\n        vertical-align: middle;\n    }\n\n    .dataframe tbody tr th {\n        vertical-align: top;\n    }\n\n    .dataframe thead th {\n        text-align: right;\n    }\n</style>\n<table border=\"1\" class=\"dataframe\">\n  <thead>\n    <tr style=\"text-align: right;\">\n      <th></th>\n      <th>target</th>\n    </tr>\n  </thead>\n  <tbody>\n    <tr>\n      <th>0</th>\n      <td>0</td>\n    </tr>\n    <tr>\n      <th>1</th>\n      <td>0</td>\n    </tr>\n    <tr>\n      <th>2</th>\n      <td>0</td>\n    </tr>\n    <tr>\n      <th>3</th>\n      <td>0</td>\n    </tr>\n    <tr>\n      <th>4</th>\n      <td>0</td>\n    </tr>\n  </tbody>\n</table>\n</div>"
     },
     "execution_count": 6,
     "metadata": {},
     "output_type": "execute_result"
    }
   ]
  },
  {
   "cell_type": "code",
   "source": [
    "y.value_counts()"
   ],
   "metadata": {
    "colab": {
     "base_uri": "https://localhost:8080/"
    },
    "id": "-OnKatpR3Gtr",
    "outputId": "7e3e482d-19ed-4b53-902e-0e7e0487c7b8",
    "ExecuteTime": {
     "end_time": "2023-12-14T18:51:23.715393700Z",
     "start_time": "2023-12-14T18:51:23.676053500Z"
    }
   },
   "execution_count": 7,
   "outputs": [
    {
     "data": {
      "text/plain": "target\n0         50\n1         50\n2         50\ndtype: int64"
     },
     "execution_count": 7,
     "metadata": {},
     "output_type": "execute_result"
    }
   ]
  },
  {
   "cell_type": "code",
   "source": [
    "iris.target_names"
   ],
   "metadata": {
    "colab": {
     "base_uri": "https://localhost:8080/"
    },
    "id": "P4jOTDaY3JFT",
    "outputId": "5887eeb6-63e5-446b-e0db-db08c4255241",
    "ExecuteTime": {
     "end_time": "2023-12-14T18:51:23.759192200Z",
     "start_time": "2023-12-14T18:51:23.691969100Z"
    }
   },
   "execution_count": 8,
   "outputs": [
    {
     "data": {
      "text/plain": "array(['setosa', 'versicolor', 'virginica'], dtype='<U10')"
     },
     "execution_count": 8,
     "metadata": {},
     "output_type": "execute_result"
    }
   ]
  },
  {
   "cell_type": "markdown",
   "source": [
    "# EDA"
   ],
   "metadata": {
    "id": "akldzB2b3VSW"
   }
  },
  {
   "cell_type": "code",
   "source": [
    "from sklearn.model_selection import train_test_split\n",
    "\n",
    "X_train, X_test, y_train, y_test = train_test_split(X, y, test_size=0.2, random_state=42)\n"
   ],
   "metadata": {
    "id": "9YhWYPQf3V7G",
    "ExecuteTime": {
     "end_time": "2023-12-14T18:51:23.777187600Z",
     "start_time": "2023-12-14T18:51:23.710401700Z"
    }
   },
   "execution_count": 9,
   "outputs": []
  },
  {
   "cell_type": "markdown",
   "source": [
    "# Modeling"
   ],
   "metadata": {
    "id": "dTe4ec8a3vju"
   }
  },
  {
   "cell_type": "code",
   "source": [
    "dt = DecisionTreeClassifier(criterion='entropy')"
   ],
   "metadata": {
    "id": "Z2KtMfSG3wqZ",
    "ExecuteTime": {
     "end_time": "2023-12-14T18:51:23.799634400Z",
     "start_time": "2023-12-14T18:51:23.726003200Z"
    }
   },
   "execution_count": 10,
   "outputs": []
  },
  {
   "cell_type": "code",
   "source": [
    "dt.fit(X_train, y_train)"
   ],
   "metadata": {
    "colab": {
     "base_uri": "https://localhost:8080/",
     "height": 75
    },
    "id": "Cl91I6Fv31YG",
    "outputId": "2c5b5739-973b-490d-a06a-03b5a494e333",
    "ExecuteTime": {
     "end_time": "2023-12-14T18:51:23.819148700Z",
     "start_time": "2023-12-14T18:51:23.738283300Z"
    }
   },
   "execution_count": 11,
   "outputs": [
    {
     "data": {
      "text/plain": "DecisionTreeClassifier(criterion='entropy')",
      "text/html": "<style>#sk-container-id-1 {color: black;}#sk-container-id-1 pre{padding: 0;}#sk-container-id-1 div.sk-toggleable {background-color: white;}#sk-container-id-1 label.sk-toggleable__label {cursor: pointer;display: block;width: 100%;margin-bottom: 0;padding: 0.3em;box-sizing: border-box;text-align: center;}#sk-container-id-1 label.sk-toggleable__label-arrow:before {content: \"▸\";float: left;margin-right: 0.25em;color: #696969;}#sk-container-id-1 label.sk-toggleable__label-arrow:hover:before {color: black;}#sk-container-id-1 div.sk-estimator:hover label.sk-toggleable__label-arrow:before {color: black;}#sk-container-id-1 div.sk-toggleable__content {max-height: 0;max-width: 0;overflow: hidden;text-align: left;background-color: #f0f8ff;}#sk-container-id-1 div.sk-toggleable__content pre {margin: 0.2em;color: black;border-radius: 0.25em;background-color: #f0f8ff;}#sk-container-id-1 input.sk-toggleable__control:checked~div.sk-toggleable__content {max-height: 200px;max-width: 100%;overflow: auto;}#sk-container-id-1 input.sk-toggleable__control:checked~label.sk-toggleable__label-arrow:before {content: \"▾\";}#sk-container-id-1 div.sk-estimator input.sk-toggleable__control:checked~label.sk-toggleable__label {background-color: #d4ebff;}#sk-container-id-1 div.sk-label input.sk-toggleable__control:checked~label.sk-toggleable__label {background-color: #d4ebff;}#sk-container-id-1 input.sk-hidden--visually {border: 0;clip: rect(1px 1px 1px 1px);clip: rect(1px, 1px, 1px, 1px);height: 1px;margin: -1px;overflow: hidden;padding: 0;position: absolute;width: 1px;}#sk-container-id-1 div.sk-estimator {font-family: monospace;background-color: #f0f8ff;border: 1px dotted black;border-radius: 0.25em;box-sizing: border-box;margin-bottom: 0.5em;}#sk-container-id-1 div.sk-estimator:hover {background-color: #d4ebff;}#sk-container-id-1 div.sk-parallel-item::after {content: \"\";width: 100%;border-bottom: 1px solid gray;flex-grow: 1;}#sk-container-id-1 div.sk-label:hover label.sk-toggleable__label {background-color: #d4ebff;}#sk-container-id-1 div.sk-serial::before {content: \"\";position: absolute;border-left: 1px solid gray;box-sizing: border-box;top: 0;bottom: 0;left: 50%;z-index: 0;}#sk-container-id-1 div.sk-serial {display: flex;flex-direction: column;align-items: center;background-color: white;padding-right: 0.2em;padding-left: 0.2em;position: relative;}#sk-container-id-1 div.sk-item {position: relative;z-index: 1;}#sk-container-id-1 div.sk-parallel {display: flex;align-items: stretch;justify-content: center;background-color: white;position: relative;}#sk-container-id-1 div.sk-item::before, #sk-container-id-1 div.sk-parallel-item::before {content: \"\";position: absolute;border-left: 1px solid gray;box-sizing: border-box;top: 0;bottom: 0;left: 50%;z-index: -1;}#sk-container-id-1 div.sk-parallel-item {display: flex;flex-direction: column;z-index: 1;position: relative;background-color: white;}#sk-container-id-1 div.sk-parallel-item:first-child::after {align-self: flex-end;width: 50%;}#sk-container-id-1 div.sk-parallel-item:last-child::after {align-self: flex-start;width: 50%;}#sk-container-id-1 div.sk-parallel-item:only-child::after {width: 0;}#sk-container-id-1 div.sk-dashed-wrapped {border: 1px dashed gray;margin: 0 0.4em 0.5em 0.4em;box-sizing: border-box;padding-bottom: 0.4em;background-color: white;}#sk-container-id-1 div.sk-label label {font-family: monospace;font-weight: bold;display: inline-block;line-height: 1.2em;}#sk-container-id-1 div.sk-label-container {text-align: center;}#sk-container-id-1 div.sk-container {/* jupyter's `normalize.less` sets `[hidden] { display: none; }` but bootstrap.min.css set `[hidden] { display: none !important; }` so we also need the `!important` here to be able to override the default hidden behavior on the sphinx rendered scikit-learn.org. See: https://github.com/scikit-learn/scikit-learn/issues/21755 */display: inline-block !important;position: relative;}#sk-container-id-1 div.sk-text-repr-fallback {display: none;}</style><div id=\"sk-container-id-1\" class=\"sk-top-container\"><div class=\"sk-text-repr-fallback\"><pre>DecisionTreeClassifier(criterion=&#x27;entropy&#x27;)</pre><b>In a Jupyter environment, please rerun this cell to show the HTML representation or trust the notebook. <br />On GitHub, the HTML representation is unable to render, please try loading this page with nbviewer.org.</b></div><div class=\"sk-container\" hidden><div class=\"sk-item\"><div class=\"sk-estimator sk-toggleable\"><input class=\"sk-toggleable__control sk-hidden--visually\" id=\"sk-estimator-id-1\" type=\"checkbox\" checked><label for=\"sk-estimator-id-1\" class=\"sk-toggleable__label sk-toggleable__label-arrow\">DecisionTreeClassifier</label><div class=\"sk-toggleable__content\"><pre>DecisionTreeClassifier(criterion=&#x27;entropy&#x27;)</pre></div></div></div></div></div>"
     },
     "execution_count": 11,
     "metadata": {},
     "output_type": "execute_result"
    }
   ]
  },
  {
   "cell_type": "code",
   "source": [
    "y_pred_dt = dt.predict(X_test)"
   ],
   "metadata": {
    "id": "omNUM1QL354C",
    "ExecuteTime": {
     "end_time": "2023-12-14T18:51:23.820197700Z",
     "start_time": "2023-12-14T18:51:23.755289600Z"
    }
   },
   "execution_count": 12,
   "outputs": []
  },
  {
   "cell_type": "code",
   "source": [
    "y_pred_dt"
   ],
   "metadata": {
    "colab": {
     "base_uri": "https://localhost:8080/"
    },
    "id": "yv8VghVs3_Yy",
    "outputId": "1376ee7f-72d5-441d-e970-41d2605e04dc",
    "ExecuteTime": {
     "end_time": "2023-12-14T18:51:23.820197700Z",
     "start_time": "2023-12-14T18:51:23.772692800Z"
    }
   },
   "execution_count": 13,
   "outputs": [
    {
     "data": {
      "text/plain": "array([1, 0, 2, 1, 1, 0, 1, 2, 1, 1, 2, 0, 0, 0, 0, 1, 2, 1, 1, 2, 0, 2,\n       0, 2, 2, 2, 2, 2, 0, 0])"
     },
     "execution_count": 13,
     "metadata": {},
     "output_type": "execute_result"
    }
   ]
  },
  {
   "cell_type": "code",
   "source": [
    "y_test.target.values"
   ],
   "metadata": {
    "colab": {
     "base_uri": "https://localhost:8080/"
    },
    "id": "ghbp7GTm4A8g",
    "outputId": "73a1047e-cc36-4f85-a934-4313d0047051",
    "ExecuteTime": {
     "end_time": "2023-12-14T18:51:23.821313400Z",
     "start_time": "2023-12-14T18:51:23.789899800Z"
    }
   },
   "execution_count": 14,
   "outputs": [
    {
     "data": {
      "text/plain": "array([1, 0, 2, 1, 1, 0, 1, 2, 1, 1, 2, 0, 0, 0, 0, 1, 2, 1, 1, 2, 0, 2,\n       0, 2, 2, 2, 2, 2, 0, 0])"
     },
     "execution_count": 14,
     "metadata": {},
     "output_type": "execute_result"
    }
   ]
  },
  {
   "cell_type": "code",
   "source": [
    "print(classification_report(y_test, y_pred_dt))"
   ],
   "metadata": {
    "colab": {
     "base_uri": "https://localhost:8080/"
    },
    "id": "xPqZfSj34CKZ",
    "outputId": "cb5276d5-1144-41a1-b7db-3b91120ed1b5",
    "ExecuteTime": {
     "end_time": "2023-12-14T18:51:23.862947800Z",
     "start_time": "2023-12-14T18:51:23.802627500Z"
    }
   },
   "execution_count": 15,
   "outputs": [
    {
     "name": "stdout",
     "output_type": "stream",
     "text": [
      "              precision    recall  f1-score   support\n",
      "\n",
      "           0       1.00      1.00      1.00        10\n",
      "           1       1.00      1.00      1.00         9\n",
      "           2       1.00      1.00      1.00        11\n",
      "\n",
      "    accuracy                           1.00        30\n",
      "   macro avg       1.00      1.00      1.00        30\n",
      "weighted avg       1.00      1.00      1.00        30\n"
     ]
    }
   ]
  },
  {
   "cell_type": "code",
   "source": [
    "y_train.value_counts()"
   ],
   "metadata": {
    "colab": {
     "base_uri": "https://localhost:8080/"
    },
    "id": "RK7FZtpY5Uvc",
    "outputId": "298fbda7-55d5-419f-d6fb-62e4d8878f5f",
    "ExecuteTime": {
     "end_time": "2023-12-14T18:51:23.867436700Z",
     "start_time": "2023-12-14T18:51:23.817191500Z"
    }
   },
   "execution_count": 16,
   "outputs": [
    {
     "data": {
      "text/plain": "target\n1         41\n0         40\n2         39\ndtype: int64"
     },
     "execution_count": 16,
     "metadata": {},
     "output_type": "execute_result"
    }
   ]
  },
  {
   "cell_type": "code",
   "source": [
    "iris.target_names"
   ],
   "metadata": {
    "colab": {
     "base_uri": "https://localhost:8080/"
    },
    "id": "iK3he-i75Yad",
    "outputId": "b915a4e6-61c2-4a4f-d34d-ab81c595d187",
    "ExecuteTime": {
     "end_time": "2023-12-14T18:51:23.871427100Z",
     "start_time": "2023-12-14T18:51:23.838649300Z"
    }
   },
   "execution_count": 17,
   "outputs": [
    {
     "data": {
      "text/plain": "array(['setosa', 'versicolor', 'virginica'], dtype='<U10')"
     },
     "execution_count": 17,
     "metadata": {},
     "output_type": "execute_result"
    }
   ]
  },
  {
   "cell_type": "code",
   "source": [
    "viz = export_graphviz(dt,\n",
    "                      feature_names=X_train.columns,\n",
    "                      class_names=iris.target_names,\n",
    "                      rounded=True, filled=True\n",
    "                     )\n",
    "\n",
    "graph = graphviz.Source(viz)\n",
    "graph"
   ],
   "metadata": {
    "colab": {
     "base_uri": "https://localhost:8080/",
     "height": 1000
    },
    "id": "oDcGjbZ04KW5",
    "outputId": "fdc05d89-f20a-4e86-89be-ddaab1cd3148",
    "ExecuteTime": {
     "end_time": "2023-12-14T18:51:24.252535500Z",
     "start_time": "2023-12-14T18:51:23.852451200Z"
    }
   },
   "execution_count": 18,
   "outputs": [
    {
     "data": {
      "image/svg+xml": "<?xml version=\"1.0\" encoding=\"UTF-8\" standalone=\"no\"?>\n<!DOCTYPE svg PUBLIC \"-//W3C//DTD SVG 1.1//EN\"\n \"http://www.w3.org/Graphics/SVG/1.1/DTD/svg11.dtd\">\n<!-- Generated by graphviz version 9.0.0 (20230911.1827)\n -->\n<!-- Title: Tree Pages: 1 -->\n<svg width=\"764pt\" height=\"841pt\"\n viewBox=\"0.00 0.00 764.25 841.00\" xmlns=\"http://www.w3.org/2000/svg\" xmlns:xlink=\"http://www.w3.org/1999/xlink\">\n<g id=\"graph0\" class=\"graph\" transform=\"scale(1 1) rotate(0) translate(4 837)\">\n<title>Tree</title>\n<polygon fill=\"white\" stroke=\"none\" points=\"-4,4 -4,-837 760.25,-837 760.25,4 -4,4\"/>\n<!-- 0 -->\n<g id=\"node1\" class=\"node\">\n<title>0</title>\n<path fill=\"#fdfffd\" stroke=\"black\" d=\"M273.75,-833C273.75,-833 138.5,-833 138.5,-833 132.5,-833 126.5,-827 126.5,-821 126.5,-821 126.5,-754.5 126.5,-754.5 126.5,-748.5 132.5,-742.5 138.5,-742.5 138.5,-742.5 273.75,-742.5 273.75,-742.5 279.75,-742.5 285.75,-748.5 285.75,-754.5 285.75,-754.5 285.75,-821 285.75,-821 285.75,-827 279.75,-833 273.75,-833\"/>\n<text text-anchor=\"middle\" x=\"206.12\" y=\"-815.7\" font-family=\"Helvetica,sans-Serif\" font-size=\"14.00\">petal width (cm) &lt;= 0.8</text>\n<text text-anchor=\"middle\" x=\"206.12\" y=\"-799.2\" font-family=\"Helvetica,sans-Serif\" font-size=\"14.00\">entropy = 1.585</text>\n<text text-anchor=\"middle\" x=\"206.12\" y=\"-782.7\" font-family=\"Helvetica,sans-Serif\" font-size=\"14.00\">samples = 120</text>\n<text text-anchor=\"middle\" x=\"206.12\" y=\"-766.2\" font-family=\"Helvetica,sans-Serif\" font-size=\"14.00\">value = [40, 41, 39]</text>\n<text text-anchor=\"middle\" x=\"206.12\" y=\"-749.7\" font-family=\"Helvetica,sans-Serif\" font-size=\"14.00\">class = versicolor</text>\n</g>\n<!-- 1 -->\n<g id=\"node2\" class=\"node\">\n<title>1</title>\n<path fill=\"#e58139\" stroke=\"black\" d=\"M172.25,-698.25C172.25,-698.25 76,-698.25 76,-698.25 70,-698.25 64,-692.25 64,-686.25 64,-686.25 64,-636.25 64,-636.25 64,-630.25 70,-624.25 76,-624.25 76,-624.25 172.25,-624.25 172.25,-624.25 178.25,-624.25 184.25,-630.25 184.25,-636.25 184.25,-636.25 184.25,-686.25 184.25,-686.25 184.25,-692.25 178.25,-698.25 172.25,-698.25\"/>\n<text text-anchor=\"middle\" x=\"124.12\" y=\"-680.95\" font-family=\"Helvetica,sans-Serif\" font-size=\"14.00\">entropy = 0.0</text>\n<text text-anchor=\"middle\" x=\"124.12\" y=\"-664.45\" font-family=\"Helvetica,sans-Serif\" font-size=\"14.00\">samples = 40</text>\n<text text-anchor=\"middle\" x=\"124.12\" y=\"-647.95\" font-family=\"Helvetica,sans-Serif\" font-size=\"14.00\">value = [40, 0, 0]</text>\n<text text-anchor=\"middle\" x=\"124.12\" y=\"-631.45\" font-family=\"Helvetica,sans-Serif\" font-size=\"14.00\">class = setosa</text>\n</g>\n<!-- 0&#45;&gt;1 -->\n<g id=\"edge1\" class=\"edge\">\n<title>0&#45;&gt;1</title>\n<path fill=\"none\" stroke=\"black\" d=\"M176.75,-742.15C169.43,-731.04 161.57,-719.1 154.21,-707.93\"/>\n<polygon fill=\"black\" stroke=\"black\" points=\"157.16,-706.05 148.74,-699.62 151.32,-709.9 157.16,-706.05\"/>\n<text text-anchor=\"middle\" x=\"142.87\" y=\"-717.79\" font-family=\"Helvetica,sans-Serif\" font-size=\"14.00\">True</text>\n</g>\n<!-- 2 -->\n<g id=\"node3\" class=\"node\">\n<title>2</title>\n<path fill=\"#f5fef9\" stroke=\"black\" d=\"M363.88,-706.5C363.88,-706.5 214.38,-706.5 214.38,-706.5 208.38,-706.5 202.38,-700.5 202.38,-694.5 202.38,-694.5 202.38,-628 202.38,-628 202.38,-622 208.38,-616 214.38,-616 214.38,-616 363.88,-616 363.88,-616 369.88,-616 375.88,-622 375.88,-628 375.88,-628 375.88,-694.5 375.88,-694.5 375.88,-700.5 369.88,-706.5 363.88,-706.5\"/>\n<text text-anchor=\"middle\" x=\"289.12\" y=\"-689.2\" font-family=\"Helvetica,sans-Serif\" font-size=\"14.00\">petal length (cm) &lt;= 4.75</text>\n<text text-anchor=\"middle\" x=\"289.12\" y=\"-672.7\" font-family=\"Helvetica,sans-Serif\" font-size=\"14.00\">entropy = 1.0</text>\n<text text-anchor=\"middle\" x=\"289.12\" y=\"-656.2\" font-family=\"Helvetica,sans-Serif\" font-size=\"14.00\">samples = 80</text>\n<text text-anchor=\"middle\" x=\"289.12\" y=\"-639.7\" font-family=\"Helvetica,sans-Serif\" font-size=\"14.00\">value = [0, 41, 39]</text>\n<text text-anchor=\"middle\" x=\"289.12\" y=\"-623.2\" font-family=\"Helvetica,sans-Serif\" font-size=\"14.00\">class = versicolor</text>\n</g>\n<!-- 0&#45;&gt;2 -->\n<g id=\"edge2\" class=\"edge\">\n<title>0&#45;&gt;2</title>\n<path fill=\"none\" stroke=\"black\" d=\"M235.86,-742.15C241.4,-733.84 247.25,-725.07 252.96,-716.5\"/>\n<polygon fill=\"black\" stroke=\"black\" points=\"255.85,-718.47 258.48,-708.21 250.02,-714.59 255.85,-718.47\"/>\n<text text-anchor=\"middle\" x=\"264.23\" y=\"-726.42\" font-family=\"Helvetica,sans-Serif\" font-size=\"14.00\">False</text>\n</g>\n<!-- 3 -->\n<g id=\"node4\" class=\"node\">\n<title>3</title>\n<path fill=\"#3ee684\" stroke=\"black\" d=\"M267.88,-580C267.88,-580 124.38,-580 124.38,-580 118.38,-580 112.38,-574 112.38,-568 112.38,-568 112.38,-501.5 112.38,-501.5 112.38,-495.5 118.38,-489.5 124.38,-489.5 124.38,-489.5 267.88,-489.5 267.88,-489.5 273.88,-489.5 279.88,-495.5 279.88,-501.5 279.88,-501.5 279.88,-568 279.88,-568 279.88,-574 273.88,-580 267.88,-580\"/>\n<text text-anchor=\"middle\" x=\"196.12\" y=\"-562.7\" font-family=\"Helvetica,sans-Serif\" font-size=\"14.00\">petal width (cm) &lt;= 1.65</text>\n<text text-anchor=\"middle\" x=\"196.12\" y=\"-546.2\" font-family=\"Helvetica,sans-Serif\" font-size=\"14.00\">entropy = 0.179</text>\n<text text-anchor=\"middle\" x=\"196.12\" y=\"-529.7\" font-family=\"Helvetica,sans-Serif\" font-size=\"14.00\">samples = 37</text>\n<text text-anchor=\"middle\" x=\"196.12\" y=\"-513.2\" font-family=\"Helvetica,sans-Serif\" font-size=\"14.00\">value = [0, 36, 1]</text>\n<text text-anchor=\"middle\" x=\"196.12\" y=\"-496.7\" font-family=\"Helvetica,sans-Serif\" font-size=\"14.00\">class = versicolor</text>\n</g>\n<!-- 2&#45;&gt;3 -->\n<g id=\"edge3\" class=\"edge\">\n<title>2&#45;&gt;3</title>\n<path fill=\"none\" stroke=\"black\" d=\"M255.81,-615.65C249.47,-607.16 242.77,-598.19 236.24,-589.45\"/>\n<polygon fill=\"black\" stroke=\"black\" points=\"239.21,-587.58 230.42,-581.67 233.6,-591.77 239.21,-587.58\"/>\n</g>\n<!-- 6 -->\n<g id=\"node7\" class=\"node\">\n<title>6</title>\n<path fill=\"#9253e8\" stroke=\"black\" d=\"M453.88,-580C453.88,-580 310.38,-580 310.38,-580 304.38,-580 298.38,-574 298.38,-568 298.38,-568 298.38,-501.5 298.38,-501.5 298.38,-495.5 304.38,-489.5 310.38,-489.5 310.38,-489.5 453.88,-489.5 453.88,-489.5 459.88,-489.5 465.88,-495.5 465.88,-501.5 465.88,-501.5 465.88,-568 465.88,-568 465.88,-574 459.88,-580 453.88,-580\"/>\n<text text-anchor=\"middle\" x=\"382.12\" y=\"-562.7\" font-family=\"Helvetica,sans-Serif\" font-size=\"14.00\">petal width (cm) &lt;= 1.75</text>\n<text text-anchor=\"middle\" x=\"382.12\" y=\"-546.2\" font-family=\"Helvetica,sans-Serif\" font-size=\"14.00\">entropy = 0.519</text>\n<text text-anchor=\"middle\" x=\"382.12\" y=\"-529.7\" font-family=\"Helvetica,sans-Serif\" font-size=\"14.00\">samples = 43</text>\n<text text-anchor=\"middle\" x=\"382.12\" y=\"-513.2\" font-family=\"Helvetica,sans-Serif\" font-size=\"14.00\">value = [0, 5, 38]</text>\n<text text-anchor=\"middle\" x=\"382.12\" y=\"-496.7\" font-family=\"Helvetica,sans-Serif\" font-size=\"14.00\">class = virginica</text>\n</g>\n<!-- 2&#45;&gt;6 -->\n<g id=\"edge6\" class=\"edge\">\n<title>2&#45;&gt;6</title>\n<path fill=\"none\" stroke=\"black\" d=\"M322.44,-615.65C328.78,-607.16 335.48,-598.19 342.01,-589.45\"/>\n<polygon fill=\"black\" stroke=\"black\" points=\"344.65,-591.77 347.83,-581.67 339.04,-587.58 344.65,-591.77\"/>\n</g>\n<!-- 4 -->\n<g id=\"node5\" class=\"node\">\n<title>4</title>\n<path fill=\"#39e581\" stroke=\"black\" d=\"M114.25,-445.25C114.25,-445.25 12,-445.25 12,-445.25 6,-445.25 0,-439.25 0,-433.25 0,-433.25 0,-383.25 0,-383.25 0,-377.25 6,-371.25 12,-371.25 12,-371.25 114.25,-371.25 114.25,-371.25 120.25,-371.25 126.25,-377.25 126.25,-383.25 126.25,-383.25 126.25,-433.25 126.25,-433.25 126.25,-439.25 120.25,-445.25 114.25,-445.25\"/>\n<text text-anchor=\"middle\" x=\"63.12\" y=\"-427.95\" font-family=\"Helvetica,sans-Serif\" font-size=\"14.00\">entropy = 0.0</text>\n<text text-anchor=\"middle\" x=\"63.12\" y=\"-411.45\" font-family=\"Helvetica,sans-Serif\" font-size=\"14.00\">samples = 36</text>\n<text text-anchor=\"middle\" x=\"63.12\" y=\"-394.95\" font-family=\"Helvetica,sans-Serif\" font-size=\"14.00\">value = [0, 36, 0]</text>\n<text text-anchor=\"middle\" x=\"63.12\" y=\"-378.45\" font-family=\"Helvetica,sans-Serif\" font-size=\"14.00\">class = versicolor</text>\n</g>\n<!-- 3&#45;&gt;4 -->\n<g id=\"edge4\" class=\"edge\">\n<title>3&#45;&gt;4</title>\n<path fill=\"none\" stroke=\"black\" d=\"M148.48,-489.15C135.89,-477.36 122.31,-464.65 109.77,-452.91\"/>\n<polygon fill=\"black\" stroke=\"black\" points=\"112.49,-450.67 102.8,-446.39 107.71,-455.78 112.49,-450.67\"/>\n</g>\n<!-- 5 -->\n<g id=\"node6\" class=\"node\">\n<title>5</title>\n<path fill=\"#8139e5\" stroke=\"black\" d=\"M248,-445.25C248,-445.25 156.25,-445.25 156.25,-445.25 150.25,-445.25 144.25,-439.25 144.25,-433.25 144.25,-433.25 144.25,-383.25 144.25,-383.25 144.25,-377.25 150.25,-371.25 156.25,-371.25 156.25,-371.25 248,-371.25 248,-371.25 254,-371.25 260,-377.25 260,-383.25 260,-383.25 260,-433.25 260,-433.25 260,-439.25 254,-445.25 248,-445.25\"/>\n<text text-anchor=\"middle\" x=\"202.12\" y=\"-427.95\" font-family=\"Helvetica,sans-Serif\" font-size=\"14.00\">entropy = 0.0</text>\n<text text-anchor=\"middle\" x=\"202.12\" y=\"-411.45\" font-family=\"Helvetica,sans-Serif\" font-size=\"14.00\">samples = 1</text>\n<text text-anchor=\"middle\" x=\"202.12\" y=\"-394.95\" font-family=\"Helvetica,sans-Serif\" font-size=\"14.00\">value = [0, 0, 1]</text>\n<text text-anchor=\"middle\" x=\"202.12\" y=\"-378.45\" font-family=\"Helvetica,sans-Serif\" font-size=\"14.00\">class = virginica</text>\n</g>\n<!-- 3&#45;&gt;5 -->\n<g id=\"edge5\" class=\"edge\">\n<title>3&#45;&gt;5</title>\n<path fill=\"none\" stroke=\"black\" d=\"M198.27,-489.15C198.78,-478.6 199.33,-467.31 199.84,-456.63\"/>\n<polygon fill=\"black\" stroke=\"black\" points=\"203.33,-457.02 200.31,-446.87 196.33,-456.69 203.33,-457.02\"/>\n</g>\n<!-- 7 -->\n<g id=\"node8\" class=\"node\">\n<title>7</title>\n<path fill=\"#ffffff\" stroke=\"black\" d=\"M450.88,-453.5C450.88,-453.5 301.38,-453.5 301.38,-453.5 295.38,-453.5 289.38,-447.5 289.38,-441.5 289.38,-441.5 289.38,-375 289.38,-375 289.38,-369 295.38,-363 301.38,-363 301.38,-363 450.88,-363 450.88,-363 456.88,-363 462.88,-369 462.88,-375 462.88,-375 462.88,-441.5 462.88,-441.5 462.88,-447.5 456.88,-453.5 450.88,-453.5\"/>\n<text text-anchor=\"middle\" x=\"376.12\" y=\"-436.2\" font-family=\"Helvetica,sans-Serif\" font-size=\"14.00\">petal length (cm) &lt;= 4.95</text>\n<text text-anchor=\"middle\" x=\"376.12\" y=\"-419.7\" font-family=\"Helvetica,sans-Serif\" font-size=\"14.00\">entropy = 1.0</text>\n<text text-anchor=\"middle\" x=\"376.12\" y=\"-403.2\" font-family=\"Helvetica,sans-Serif\" font-size=\"14.00\">samples = 8</text>\n<text text-anchor=\"middle\" x=\"376.12\" y=\"-386.7\" font-family=\"Helvetica,sans-Serif\" font-size=\"14.00\">value = [0, 4, 4]</text>\n<text text-anchor=\"middle\" x=\"376.12\" y=\"-370.2\" font-family=\"Helvetica,sans-Serif\" font-size=\"14.00\">class = versicolor</text>\n</g>\n<!-- 6&#45;&gt;7 -->\n<g id=\"edge7\" class=\"edge\">\n<title>6&#45;&gt;7</title>\n<path fill=\"none\" stroke=\"black\" d=\"M379.98,-489.15C379.61,-481.47 379.22,-473.39 378.83,-465.44\"/>\n<polygon fill=\"black\" stroke=\"black\" points=\"382.33,-465.28 378.35,-455.46 375.34,-465.62 382.33,-465.28\"/>\n</g>\n<!-- 14 -->\n<g id=\"node15\" class=\"node\">\n<title>14</title>\n<path fill=\"#853fe6\" stroke=\"black\" d=\"M642.88,-453.5C642.88,-453.5 493.38,-453.5 493.38,-453.5 487.38,-453.5 481.38,-447.5 481.38,-441.5 481.38,-441.5 481.38,-375 481.38,-375 481.38,-369 487.38,-363 493.38,-363 493.38,-363 642.88,-363 642.88,-363 648.88,-363 654.88,-369 654.88,-375 654.88,-375 654.88,-441.5 654.88,-441.5 654.88,-447.5 648.88,-453.5 642.88,-453.5\"/>\n<text text-anchor=\"middle\" x=\"568.12\" y=\"-436.2\" font-family=\"Helvetica,sans-Serif\" font-size=\"14.00\">petal length (cm) &lt;= 4.85</text>\n<text text-anchor=\"middle\" x=\"568.12\" y=\"-419.7\" font-family=\"Helvetica,sans-Serif\" font-size=\"14.00\">entropy = 0.187</text>\n<text text-anchor=\"middle\" x=\"568.12\" y=\"-403.2\" font-family=\"Helvetica,sans-Serif\" font-size=\"14.00\">samples = 35</text>\n<text text-anchor=\"middle\" x=\"568.12\" y=\"-386.7\" font-family=\"Helvetica,sans-Serif\" font-size=\"14.00\">value = [0, 1, 34]</text>\n<text text-anchor=\"middle\" x=\"568.12\" y=\"-370.2\" font-family=\"Helvetica,sans-Serif\" font-size=\"14.00\">class = virginica</text>\n</g>\n<!-- 6&#45;&gt;14 -->\n<g id=\"edge14\" class=\"edge\">\n<title>6&#45;&gt;14</title>\n<path fill=\"none\" stroke=\"black\" d=\"M448.75,-489.15C462.77,-479.77 477.67,-469.8 492.01,-460.2\"/>\n<polygon fill=\"black\" stroke=\"black\" points=\"493.72,-463.27 500.08,-454.79 489.83,-457.45 493.72,-463.27\"/>\n</g>\n<!-- 8 -->\n<g id=\"node9\" class=\"node\">\n<title>8</title>\n<path fill=\"#39e581\" stroke=\"black\" d=\"M270.25,-318.75C270.25,-318.75 168,-318.75 168,-318.75 162,-318.75 156,-312.75 156,-306.75 156,-306.75 156,-256.75 156,-256.75 156,-250.75 162,-244.75 168,-244.75 168,-244.75 270.25,-244.75 270.25,-244.75 276.25,-244.75 282.25,-250.75 282.25,-256.75 282.25,-256.75 282.25,-306.75 282.25,-306.75 282.25,-312.75 276.25,-318.75 270.25,-318.75\"/>\n<text text-anchor=\"middle\" x=\"219.12\" y=\"-301.45\" font-family=\"Helvetica,sans-Serif\" font-size=\"14.00\">entropy = 0.0</text>\n<text text-anchor=\"middle\" x=\"219.12\" y=\"-284.95\" font-family=\"Helvetica,sans-Serif\" font-size=\"14.00\">samples = 2</text>\n<text text-anchor=\"middle\" x=\"219.12\" y=\"-268.45\" font-family=\"Helvetica,sans-Serif\" font-size=\"14.00\">value = [0, 2, 0]</text>\n<text text-anchor=\"middle\" x=\"219.12\" y=\"-251.95\" font-family=\"Helvetica,sans-Serif\" font-size=\"14.00\">class = versicolor</text>\n</g>\n<!-- 7&#45;&gt;8 -->\n<g id=\"edge8\" class=\"edge\">\n<title>7&#45;&gt;8</title>\n<path fill=\"none\" stroke=\"black\" d=\"M319.89,-362.65C304.81,-350.7 288.54,-337.79 273.56,-325.92\"/>\n<polygon fill=\"black\" stroke=\"black\" points=\"276.1,-323.47 266.09,-320 271.75,-328.95 276.1,-323.47\"/>\n</g>\n<!-- 9 -->\n<g id=\"node10\" class=\"node\">\n<title>9</title>\n<path fill=\"#c09cf2\" stroke=\"black\" d=\"M455.88,-327C455.88,-327 312.38,-327 312.38,-327 306.38,-327 300.38,-321 300.38,-315 300.38,-315 300.38,-248.5 300.38,-248.5 300.38,-242.5 306.38,-236.5 312.38,-236.5 312.38,-236.5 455.88,-236.5 455.88,-236.5 461.88,-236.5 467.88,-242.5 467.88,-248.5 467.88,-248.5 467.88,-315 467.88,-315 467.88,-321 461.88,-327 455.88,-327\"/>\n<text text-anchor=\"middle\" x=\"384.12\" y=\"-309.7\" font-family=\"Helvetica,sans-Serif\" font-size=\"14.00\">petal width (cm) &lt;= 1.55</text>\n<text text-anchor=\"middle\" x=\"384.12\" y=\"-293.2\" font-family=\"Helvetica,sans-Serif\" font-size=\"14.00\">entropy = 0.918</text>\n<text text-anchor=\"middle\" x=\"384.12\" y=\"-276.7\" font-family=\"Helvetica,sans-Serif\" font-size=\"14.00\">samples = 6</text>\n<text text-anchor=\"middle\" x=\"384.12\" y=\"-260.2\" font-family=\"Helvetica,sans-Serif\" font-size=\"14.00\">value = [0, 2, 4]</text>\n<text text-anchor=\"middle\" x=\"384.12\" y=\"-243.7\" font-family=\"Helvetica,sans-Serif\" font-size=\"14.00\">class = virginica</text>\n</g>\n<!-- 7&#45;&gt;9 -->\n<g id=\"edge9\" class=\"edge\">\n<title>7&#45;&gt;9</title>\n<path fill=\"none\" stroke=\"black\" d=\"M378.99,-362.65C379.48,-354.97 380,-346.89 380.51,-338.94\"/>\n<polygon fill=\"black\" stroke=\"black\" points=\"384.01,-339.17 381.16,-328.96 377.02,-338.72 384.01,-339.17\"/>\n</g>\n<!-- 10 -->\n<g id=\"node11\" class=\"node\">\n<title>10</title>\n<path fill=\"#8139e5\" stroke=\"black\" d=\"M349,-192.25C349,-192.25 257.25,-192.25 257.25,-192.25 251.25,-192.25 245.25,-186.25 245.25,-180.25 245.25,-180.25 245.25,-130.25 245.25,-130.25 245.25,-124.25 251.25,-118.25 257.25,-118.25 257.25,-118.25 349,-118.25 349,-118.25 355,-118.25 361,-124.25 361,-130.25 361,-130.25 361,-180.25 361,-180.25 361,-186.25 355,-192.25 349,-192.25\"/>\n<text text-anchor=\"middle\" x=\"303.12\" y=\"-174.95\" font-family=\"Helvetica,sans-Serif\" font-size=\"14.00\">entropy = 0.0</text>\n<text text-anchor=\"middle\" x=\"303.12\" y=\"-158.45\" font-family=\"Helvetica,sans-Serif\" font-size=\"14.00\">samples = 3</text>\n<text text-anchor=\"middle\" x=\"303.12\" y=\"-141.95\" font-family=\"Helvetica,sans-Serif\" font-size=\"14.00\">value = [0, 0, 3]</text>\n<text text-anchor=\"middle\" x=\"303.12\" y=\"-125.45\" font-family=\"Helvetica,sans-Serif\" font-size=\"14.00\">class = virginica</text>\n</g>\n<!-- 9&#45;&gt;10 -->\n<g id=\"edge10\" class=\"edge\">\n<title>9&#45;&gt;10</title>\n<path fill=\"none\" stroke=\"black\" d=\"M355.11,-236.15C347.88,-225.04 340.11,-213.1 332.85,-201.93\"/>\n<polygon fill=\"black\" stroke=\"black\" points=\"335.83,-200.1 327.44,-193.62 329.96,-203.92 335.83,-200.1\"/>\n</g>\n<!-- 11 -->\n<g id=\"node12\" class=\"node\">\n<title>11</title>\n<path fill=\"#9cf2c0\" stroke=\"black\" d=\"M540.88,-200.5C540.88,-200.5 391.38,-200.5 391.38,-200.5 385.38,-200.5 379.38,-194.5 379.38,-188.5 379.38,-188.5 379.38,-122 379.38,-122 379.38,-116 385.38,-110 391.38,-110 391.38,-110 540.88,-110 540.88,-110 546.88,-110 552.88,-116 552.88,-122 552.88,-122 552.88,-188.5 552.88,-188.5 552.88,-194.5 546.88,-200.5 540.88,-200.5\"/>\n<text text-anchor=\"middle\" x=\"466.12\" y=\"-183.2\" font-family=\"Helvetica,sans-Serif\" font-size=\"14.00\">petal length (cm) &lt;= 5.45</text>\n<text text-anchor=\"middle\" x=\"466.12\" y=\"-166.7\" font-family=\"Helvetica,sans-Serif\" font-size=\"14.00\">entropy = 0.918</text>\n<text text-anchor=\"middle\" x=\"466.12\" y=\"-150.2\" font-family=\"Helvetica,sans-Serif\" font-size=\"14.00\">samples = 3</text>\n<text text-anchor=\"middle\" x=\"466.12\" y=\"-133.7\" font-family=\"Helvetica,sans-Serif\" font-size=\"14.00\">value = [0, 2, 1]</text>\n<text text-anchor=\"middle\" x=\"466.12\" y=\"-117.2\" font-family=\"Helvetica,sans-Serif\" font-size=\"14.00\">class = versicolor</text>\n</g>\n<!-- 9&#45;&gt;11 -->\n<g id=\"edge11\" class=\"edge\">\n<title>9&#45;&gt;11</title>\n<path fill=\"none\" stroke=\"black\" d=\"M413.5,-236.15C418.97,-227.84 424.75,-219.07 430.39,-210.5\"/>\n<polygon fill=\"black\" stroke=\"black\" points=\"433.27,-212.49 435.85,-202.22 427.43,-208.64 433.27,-212.49\"/>\n</g>\n<!-- 12 -->\n<g id=\"node13\" class=\"node\">\n<title>12</title>\n<path fill=\"#39e581\" stroke=\"black\" d=\"M447.25,-74C447.25,-74 345,-74 345,-74 339,-74 333,-68 333,-62 333,-62 333,-12 333,-12 333,-6 339,0 345,0 345,0 447.25,0 447.25,0 453.25,0 459.25,-6 459.25,-12 459.25,-12 459.25,-62 459.25,-62 459.25,-68 453.25,-74 447.25,-74\"/>\n<text text-anchor=\"middle\" x=\"396.12\" y=\"-56.7\" font-family=\"Helvetica,sans-Serif\" font-size=\"14.00\">entropy = 0.0</text>\n<text text-anchor=\"middle\" x=\"396.12\" y=\"-40.2\" font-family=\"Helvetica,sans-Serif\" font-size=\"14.00\">samples = 2</text>\n<text text-anchor=\"middle\" x=\"396.12\" y=\"-23.7\" font-family=\"Helvetica,sans-Serif\" font-size=\"14.00\">value = [0, 2, 0]</text>\n<text text-anchor=\"middle\" x=\"396.12\" y=\"-7.2\" font-family=\"Helvetica,sans-Serif\" font-size=\"14.00\">class = versicolor</text>\n</g>\n<!-- 11&#45;&gt;12 -->\n<g id=\"edge12\" class=\"edge\">\n<title>11&#45;&gt;12</title>\n<path fill=\"none\" stroke=\"black\" d=\"M439.26,-109.64C434.22,-101.26 428.94,-92.49 423.87,-84.07\"/>\n<polygon fill=\"black\" stroke=\"black\" points=\"426.98,-82.45 418.82,-75.69 420.98,-86.06 426.98,-82.45\"/>\n</g>\n<!-- 13 -->\n<g id=\"node14\" class=\"node\">\n<title>13</title>\n<path fill=\"#8139e5\" stroke=\"black\" d=\"M581,-74C581,-74 489.25,-74 489.25,-74 483.25,-74 477.25,-68 477.25,-62 477.25,-62 477.25,-12 477.25,-12 477.25,-6 483.25,0 489.25,0 489.25,0 581,0 581,0 587,0 593,-6 593,-12 593,-12 593,-62 593,-62 593,-68 587,-74 581,-74\"/>\n<text text-anchor=\"middle\" x=\"535.12\" y=\"-56.7\" font-family=\"Helvetica,sans-Serif\" font-size=\"14.00\">entropy = 0.0</text>\n<text text-anchor=\"middle\" x=\"535.12\" y=\"-40.2\" font-family=\"Helvetica,sans-Serif\" font-size=\"14.00\">samples = 1</text>\n<text text-anchor=\"middle\" x=\"535.12\" y=\"-23.7\" font-family=\"Helvetica,sans-Serif\" font-size=\"14.00\">value = [0, 0, 1]</text>\n<text text-anchor=\"middle\" x=\"535.12\" y=\"-7.2\" font-family=\"Helvetica,sans-Serif\" font-size=\"14.00\">class = virginica</text>\n</g>\n<!-- 11&#45;&gt;13 -->\n<g id=\"edge13\" class=\"edge\">\n<title>11&#45;&gt;13</title>\n<path fill=\"none\" stroke=\"black\" d=\"M492.6,-109.64C497.58,-101.26 502.78,-92.49 507.78,-84.07\"/>\n<polygon fill=\"black\" stroke=\"black\" points=\"510.66,-86.08 512.75,-75.7 504.64,-82.51 510.66,-86.08\"/>\n</g>\n<!-- 15 -->\n<g id=\"node16\" class=\"node\">\n<title>15</title>\n<path fill=\"#c09cf2\" stroke=\"black\" d=\"M606,-318.75C606,-318.75 514.25,-318.75 514.25,-318.75 508.25,-318.75 502.25,-312.75 502.25,-306.75 502.25,-306.75 502.25,-256.75 502.25,-256.75 502.25,-250.75 508.25,-244.75 514.25,-244.75 514.25,-244.75 606,-244.75 606,-244.75 612,-244.75 618,-250.75 618,-256.75 618,-256.75 618,-306.75 618,-306.75 618,-312.75 612,-318.75 606,-318.75\"/>\n<text text-anchor=\"middle\" x=\"560.12\" y=\"-301.45\" font-family=\"Helvetica,sans-Serif\" font-size=\"14.00\">entropy = 0.918</text>\n<text text-anchor=\"middle\" x=\"560.12\" y=\"-284.95\" font-family=\"Helvetica,sans-Serif\" font-size=\"14.00\">samples = 3</text>\n<text text-anchor=\"middle\" x=\"560.12\" y=\"-268.45\" font-family=\"Helvetica,sans-Serif\" font-size=\"14.00\">value = [0, 1, 2]</text>\n<text text-anchor=\"middle\" x=\"560.12\" y=\"-251.95\" font-family=\"Helvetica,sans-Serif\" font-size=\"14.00\">class = virginica</text>\n</g>\n<!-- 14&#45;&gt;15 -->\n<g id=\"edge15\" class=\"edge\">\n<title>14&#45;&gt;15</title>\n<path fill=\"none\" stroke=\"black\" d=\"M565.26,-362.65C564.58,-352.1 563.86,-340.81 563.17,-330.13\"/>\n<polygon fill=\"black\" stroke=\"black\" points=\"566.68,-330.12 562.54,-320.37 559.69,-330.57 566.68,-330.12\"/>\n</g>\n<!-- 16 -->\n<g id=\"node17\" class=\"node\">\n<title>16</title>\n<path fill=\"#8139e5\" stroke=\"black\" d=\"M744.25,-318.75C744.25,-318.75 648,-318.75 648,-318.75 642,-318.75 636,-312.75 636,-306.75 636,-306.75 636,-256.75 636,-256.75 636,-250.75 642,-244.75 648,-244.75 648,-244.75 744.25,-244.75 744.25,-244.75 750.25,-244.75 756.25,-250.75 756.25,-256.75 756.25,-256.75 756.25,-306.75 756.25,-306.75 756.25,-312.75 750.25,-318.75 744.25,-318.75\"/>\n<text text-anchor=\"middle\" x=\"696.12\" y=\"-301.45\" font-family=\"Helvetica,sans-Serif\" font-size=\"14.00\">entropy = 0.0</text>\n<text text-anchor=\"middle\" x=\"696.12\" y=\"-284.95\" font-family=\"Helvetica,sans-Serif\" font-size=\"14.00\">samples = 32</text>\n<text text-anchor=\"middle\" x=\"696.12\" y=\"-268.45\" font-family=\"Helvetica,sans-Serif\" font-size=\"14.00\">value = [0, 0, 32]</text>\n<text text-anchor=\"middle\" x=\"696.12\" y=\"-251.95\" font-family=\"Helvetica,sans-Serif\" font-size=\"14.00\">class = virginica</text>\n</g>\n<!-- 14&#45;&gt;16 -->\n<g id=\"edge16\" class=\"edge\">\n<title>14&#45;&gt;16</title>\n<path fill=\"none\" stroke=\"black\" d=\"M613.97,-362.65C625.98,-350.98 638.92,-338.39 650.89,-326.75\"/>\n<polygon fill=\"black\" stroke=\"black\" points=\"653.19,-329.39 657.92,-319.91 648.31,-324.37 653.19,-329.39\"/>\n</g>\n</g>\n</svg>\n",
      "text/plain": "<graphviz.sources.Source at 0x236695295d0>"
     },
     "execution_count": 18,
     "metadata": {},
     "output_type": "execute_result"
    }
   ]
  },
  {
   "cell_type": "code",
   "source": [],
   "metadata": {
    "id": "JJLpAiF34rz0",
    "ExecuteTime": {
     "end_time": "2023-12-14T18:51:24.277105600Z",
     "start_time": "2023-12-14T18:51:24.252535500Z"
    }
   },
   "execution_count": 18,
   "outputs": []
  }
 ]
}
