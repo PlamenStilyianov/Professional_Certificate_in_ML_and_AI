{
 "cells": [
  {
   "cell_type": "markdown",
   "metadata": {
    "nbgrader": {
     "grade": false,
     "grade_id": "cell-207bb2902b4449dc",
     "locked": true,
     "schema_version": 1,
     "solution": false
    }
   },
   "source": [
    "## Codio Activity 7.2: Defining, Computing, and Optimizing Loss\n",
    "\n",
    "**Expected Time = 60 Minutes**\n",
    "\n",
    "**Total Points = 20 Points**\n",
    "\n",
    "This activity focuses on computing and minimizing the L2 loss for different values of theta and identifying the theta that minimizes L2 loss.  \n",
    "\n",
    "## Index:\n",
    "\n",
    "- [Problem 1](#Problem-1)\n",
    "- [Problem 2](#Problem-2)\n",
    "- [Problem 3](#Problem-3)\n",
    "- [Problem 4](#Problem-4)\n",
    "- [Problem 5](#Problem-5)"
   ]
  },
  {
   "cell_type": "code",
   "execution_count": 1,
   "metadata": {
    "ExecuteTime": {
     "end_time": "2023-10-20T12:02:28.383712100Z",
     "start_time": "2023-10-20T12:02:27.524001400Z"
    }
   },
   "outputs": [],
   "source": [
    "import pandas as pd\n",
    "import numpy as np\n",
    "import seaborn as sns\n",
    "import matplotlib.pyplot as plt\n",
    "from sklearn.linear_model import LinearRegression\n",
    "from sklearn.metrics import mean_squared_error"
   ]
  },
  {
   "cell_type": "markdown",
   "metadata": {
    "nbgrader": {
     "grade": false,
     "grade_id": "cell-6851cdfbd4071223",
     "locked": true,
     "schema_version": 1,
     "solution": false
    }
   },
   "source": [
    "### The Dataset\n",
    "\n",
    "The geyser data from seaborn is loaded below.  You are to again build a model using waiting time to predict geyser explosion duration, however this model will not have an intercept term.  "
   ]
  },
  {
   "cell_type": "code",
   "execution_count": 2,
   "metadata": {
    "ExecuteTime": {
     "end_time": "2023-10-20T12:02:28.436602500Z",
     "start_time": "2023-10-20T12:02:28.382715100Z"
    }
   },
   "outputs": [],
   "source": [
    "geyser = sns.load_dataset('geyser')"
   ]
  },
  {
   "cell_type": "code",
   "execution_count": 3,
   "metadata": {
    "ExecuteTime": {
     "end_time": "2023-10-20T12:02:28.453436400Z",
     "start_time": "2023-10-20T12:02:28.439592400Z"
    }
   },
   "outputs": [
    {
     "data": {
      "text/plain": "   duration  waiting   kind\n0     3.600       79   long\n1     1.800       54  short\n2     3.333       74   long\n3     2.283       62  short\n4     4.533       85   long",
      "text/html": "<div>\n<style scoped>\n    .dataframe tbody tr th:only-of-type {\n        vertical-align: middle;\n    }\n\n    .dataframe tbody tr th {\n        vertical-align: top;\n    }\n\n    .dataframe thead th {\n        text-align: right;\n    }\n</style>\n<table border=\"1\" class=\"dataframe\">\n  <thead>\n    <tr style=\"text-align: right;\">\n      <th></th>\n      <th>duration</th>\n      <th>waiting</th>\n      <th>kind</th>\n    </tr>\n  </thead>\n  <tbody>\n    <tr>\n      <th>0</th>\n      <td>3.600</td>\n      <td>79</td>\n      <td>long</td>\n    </tr>\n    <tr>\n      <th>1</th>\n      <td>1.800</td>\n      <td>54</td>\n      <td>short</td>\n    </tr>\n    <tr>\n      <th>2</th>\n      <td>3.333</td>\n      <td>74</td>\n      <td>long</td>\n    </tr>\n    <tr>\n      <th>3</th>\n      <td>2.283</td>\n      <td>62</td>\n      <td>short</td>\n    </tr>\n    <tr>\n      <th>4</th>\n      <td>4.533</td>\n      <td>85</td>\n      <td>long</td>\n    </tr>\n  </tbody>\n</table>\n</div>"
     },
     "execution_count": 3,
     "metadata": {},
     "output_type": "execute_result"
    }
   ],
   "source": [
    "geyser.head()"
   ]
  },
  {
   "cell_type": "markdown",
   "metadata": {
    "nbgrader": {
     "grade": false,
     "grade_id": "cell-f8e0d04289d1c456",
     "locked": true,
     "schema_version": 1,
     "solution": false
    }
   },
   "source": [
    "[Back to top](#Index:) \n",
    "\n",
    "## Problem 1\n",
    "\n",
    "### Creating an array of $\\theta$'s\n",
    "\n",
    "**4 Points**\n",
    "\n",
    "Below, create an array of 100 equally spaced values between -1 and 1.  Use the `np.linspace` method demonstrated in the lectures and assign your answer as a numpy array to `thetas` below."
   ]
  },
  {
   "cell_type": "code",
   "execution_count": 15,
   "metadata": {
    "nbgrader": {
     "grade": false,
     "grade_id": "cell-aec7c884b51f8b43",
     "locked": false,
     "schema_version": 1,
     "solution": true
    },
    "ExecuteTime": {
     "end_time": "2023-10-20T12:04:12.500601Z",
     "start_time": "2023-10-20T12:04:12.477073600Z"
    }
   },
   "outputs": [
    {
     "name": "stdout",
     "output_type": "stream",
     "text": [
      "<class 'numpy.ndarray'>\n",
      "(100,)\n"
     ]
    }
   ],
   "source": [
    "### GRADED\n",
    "\n",
    "thetas = ''\n",
    "\n",
    "### BEGIN SOLUTION\n",
    "thetas = np.linspace(-1, 1, 100)\n",
    "### END SOLUTION\n",
    "\n",
    "# Answer check\n",
    "print(type(thetas))\n",
    "print(thetas.shape)"
   ]
  },
  {
   "cell_type": "code",
   "execution_count": 16,
   "metadata": {
    "nbgrader": {
     "grade": true,
     "grade_id": "cell-b94e1285f10c482b",
     "locked": true,
     "points": 4,
     "schema_version": 1,
     "solution": false
    },
    "ExecuteTime": {
     "end_time": "2023-10-20T12:04:14.277151Z",
     "start_time": "2023-10-20T12:04:14.260586600Z"
    }
   },
   "outputs": [],
   "source": [
    "### BEGIN HIDDEN TESTS\n",
    "thetas_ = np.linspace(-1, 1, 100)\n",
    "#\n",
    "#\n",
    "#\n",
    "assert type(thetas_) == type(thetas)\n",
    "np.testing.assert_array_equal(thetas_,thetas)\n",
    "### END HIDDEN TESTS"
   ]
  },
  {
   "cell_type": "markdown",
   "metadata": {
    "nbgrader": {
     "grade": false,
     "grade_id": "cell-c653fe4544754dc7",
     "locked": true,
     "schema_version": 1,
     "solution": false
    }
   },
   "source": [
    "[Back to top](#Index:) \n",
    "\n",
    "## Problem 2\n",
    "\n",
    "### The Model\n",
    "\n",
    "**4 Points**\n",
    "\n",
    "In this assignment, our model takes the form:\n",
    "\n",
    "$$\\text{duration} = \\text{waiting} \\times \\theta$$\n",
    "\n",
    "Create prediction for the case of $\\theta = 0.8$ and assign them as a Series to `prediction` below."
   ]
  },
  {
   "cell_type": "code",
   "execution_count": 19,
   "metadata": {
    "nbgrader": {
     "grade": false,
     "grade_id": "cell-40948b174cdc8501",
     "locked": false,
     "schema_version": 1,
     "solution": true
    },
    "ExecuteTime": {
     "end_time": "2023-10-20T12:06:18.312206900Z",
     "start_time": "2023-10-20T12:06:18.299442600Z"
    }
   },
   "outputs": [
    {
     "name": "stdout",
     "output_type": "stream",
     "text": [
      "<class 'pandas.core.series.Series'>\n",
      "(272,)\n"
     ]
    }
   ],
   "source": [
    "### GRADED\n",
    "\n",
    "prediction = ''\n",
    "\n",
    "### BEGIN SOLUTION\n",
    "prediction = 0.8*geyser['waiting']\n",
    "### END SOLUTION\n",
    "\n",
    "# Answer check\n",
    "print(type(prediction))\n",
    "print(prediction.shape)"
   ]
  },
  {
   "cell_type": "code",
   "execution_count": 20,
   "metadata": {
    "nbgrader": {
     "grade": true,
     "grade_id": "cell-84c3388f611a8ea1",
     "locked": true,
     "points": 4,
     "schema_version": 1,
     "solution": false
    },
    "ExecuteTime": {
     "end_time": "2023-10-20T12:06:19.945126300Z",
     "start_time": "2023-10-20T12:06:19.931825Z"
    }
   },
   "outputs": [],
   "source": [
    "### BEGIN HIDDEN TESTS\n",
    "prediction_ = 0.8*geyser['waiting']\n",
    "#\n",
    "#\n",
    "#\n",
    "assert type(prediction_) == type(prediction)\n",
    "pd.testing.assert_series_equal(prediction, prediction_)\n",
    "### END HIDDEN TESTS"
   ]
  },
  {
   "cell_type": "markdown",
   "metadata": {},
   "source": [
    "[Back to top](#Index:) \n",
    "\n",
    "## Problem 3\n",
    "\n",
    "### Determining Mean Squared Error\n",
    "\n",
    "**4 Points**\n",
    "\n",
    "Using the predictions with $\\theta = 0.8$, compute the mean squared error based on the true values of duration.  Assign your result as a float to `mse` below."
   ]
  },
  {
   "cell_type": "code",
   "execution_count": 21,
   "metadata": {
    "nbgrader": {
     "grade": false,
     "grade_id": "cell-888d17b4527cbe61",
     "locked": false,
     "schema_version": 1,
     "solution": true
    },
    "ExecuteTime": {
     "end_time": "2023-10-20T12:08:29.723161900Z",
     "start_time": "2023-10-20T12:08:29.710804900Z"
    }
   },
   "outputs": [
    {
     "name": "stdout",
     "output_type": "stream",
     "text": [
      "<class 'float'>\n",
      "2930.2861285845593\n"
     ]
    }
   ],
   "source": [
    "### GRADED\n",
    "\n",
    "mse = ''\n",
    "\n",
    "### BEGIN SOLUTION\n",
    "mse = float(mean_squared_error(geyser['duration'], 0.8*geyser['waiting']))\n",
    "### END SOLUTION\n",
    "\n",
    "# Answer check\n",
    "print(type(mse))\n",
    "print(mse)"
   ]
  },
  {
   "cell_type": "code",
   "execution_count": 22,
   "metadata": {
    "nbgrader": {
     "grade": true,
     "grade_id": "cell-72b8984d55d6ee97",
     "locked": true,
     "points": 4,
     "schema_version": 1,
     "solution": false
    },
    "ExecuteTime": {
     "end_time": "2023-10-20T12:08:37.169629100Z",
     "start_time": "2023-10-20T12:08:37.144221300Z"
    }
   },
   "outputs": [],
   "source": [
    "### BEGIN HIDDEN TESTS\n",
    "mse_ = float(mean_squared_error(geyser['duration'], 0.8*geyser['waiting']))\n",
    "#\n",
    "#\n",
    "#\n",
    "assert type(mse_) == type(mse)\n",
    "assert mse == mse_\n",
    "### END HIDDEN TESTS"
   ]
  },
  {
   "cell_type": "markdown",
   "metadata": {
    "nbgrader": {
     "grade": false,
     "grade_id": "cell-7b12595a47f08985",
     "locked": true,
     "schema_version": 1,
     "solution": false
    }
   },
   "source": [
    "[Back to top](#Index:) \n",
    "\n",
    "## Problem 4\n",
    "\n",
    "### Computing the Mean Squared Error for `thetas`\n",
    "\n",
    "**4 Points**\n",
    "\n",
    "Now, use your array `thetas` to compute the mean squared error for each.  Assign these values in order to the list `mses` below."
   ]
  },
  {
   "cell_type": "code",
   "execution_count": 26,
   "metadata": {
    "nbgrader": {
     "grade": false,
     "grade_id": "cell-7f0acca5c4ae5d6c",
     "locked": false,
     "schema_version": 1,
     "solution": true
    },
    "ExecuteTime": {
     "end_time": "2023-10-20T12:11:41.821838Z",
     "start_time": "2023-10-20T12:11:41.774371300Z"
    }
   },
   "outputs": [
    {
     "name": "stdout",
     "output_type": "stream",
     "text": [
      "<class 'list'>\n",
      "100\n",
      "[5746.399297702205, 5527.445557830223, 5312.744883371734, 5102.29727432674, 4896.102730695238, 4694.161252477228, 4496.472839672713, 4303.037492281691, 4113.855210304161, 3928.925993740124]\n"
     ]
    }
   ],
   "source": [
    "### GRADED\n",
    "\n",
    "mses = []\n",
    "\n",
    "### BEGIN SOLUTION\n",
    "for theta in thetas:\n",
    "    mse = float(mean_squared_error(geyser['duration'], theta*geyser['waiting']))\n",
    "    mses.append(mse)\n",
    "### END SOLUTION\n",
    "\n",
    "# Answer check\n",
    "print(type(mses))\n",
    "print(len(mses))\n",
    "print(mses[:10])"
   ]
  },
  {
   "cell_type": "code",
   "execution_count": 27,
   "metadata": {
    "nbgrader": {
     "grade": true,
     "grade_id": "cell-38b2cbe41e23e79c",
     "locked": true,
     "points": 4,
     "schema_version": 1,
     "solution": false
    },
    "ExecuteTime": {
     "end_time": "2023-10-20T12:11:43.029003600Z",
     "start_time": "2023-10-20T12:11:42.981246300Z"
    }
   },
   "outputs": [],
   "source": [
    "### BEGIN HIDDEN TESTS\n",
    "mses_ = []\n",
    "for theta in thetas:\n",
    "    mse_ = float(mean_squared_error(geyser['duration'], theta*geyser['waiting']))\n",
    "    mses_.append(mse_)\n",
    "#\n",
    "#\n",
    "#\n",
    "assert type(mses_) == type(mses)\n",
    "assert mses == mses_\n",
    "### END HIDDEN TESTS"
   ]
  },
  {
   "cell_type": "markdown",
   "metadata": {
    "nbgrader": {
     "grade": false,
     "grade_id": "cell-42b6fecad516574e",
     "locked": true,
     "schema_version": 1,
     "solution": false
    }
   },
   "source": [
    "[Back to top](#Index:) \n",
    "\n",
    "## Problem 5\n",
    "\n",
    "### Which $\\theta$ minimizes Mean Squared Error\n",
    "\n",
    "**4 Points**\n",
    "\n",
    "Using the list of `mses`, determine the value for $\\theta$ that minimized the mean squared error.  You may want to ammend your loop above to check for the smallest value as the loop proceeds.  Assign your answer as a float to `theta_min` below."
   ]
  },
  {
   "cell_type": "code",
   "execution_count": 28,
   "metadata": {
    "nbgrader": {
     "grade": false,
     "grade_id": "cell-a03ccd41fe22aac6",
     "locked": false,
     "schema_version": 1,
     "solution": true
    },
    "ExecuteTime": {
     "end_time": "2023-10-20T12:12:20.577587300Z",
     "start_time": "2023-10-20T12:12:20.528702600Z"
    }
   },
   "outputs": [
    {
     "name": "stdout",
     "output_type": "stream",
     "text": [
      "<class 'numpy.float64'>\n",
      "0.3695626511606713\n",
      "0.05050505050505061\n"
     ]
    }
   ],
   "source": [
    "### GRADED\n",
    "\n",
    "theta_min = ''\n",
    "\n",
    "### BEGIN SOLUTION\n",
    "theta_min = None\n",
    "min_mse = None\n",
    "for theta in thetas:\n",
    "    mse = float(mean_squared_error(geyser['duration'], theta*geyser['waiting']))\n",
    "    if min_mse == None:\n",
    "        theta_min = theta\n",
    "        min_mse = mse\n",
    "    elif min_mse > mse:\n",
    "        min_mse = mse\n",
    "        theta_min = theta\n",
    "\n",
    "### END SOLUTION\n",
    "\n",
    "# Answer check\n",
    "print(type(theta_min))\n",
    "print(min_mse)\n",
    "print(theta_min)"
   ]
  },
  {
   "cell_type": "code",
   "execution_count": 13,
   "metadata": {
    "nbgrader": {
     "grade": true,
     "grade_id": "cell-e4699956cf1ea769",
     "locked": true,
     "points": 4,
     "schema_version": 1,
     "solution": false
    },
    "ExecuteTime": {
     "end_time": "2023-10-20T12:02:28.684422900Z",
     "start_time": "2023-10-20T12:02:28.618633500Z"
    }
   },
   "outputs": [],
   "source": [
    "### BEGIN HIDDEN TESTS\n",
    "theta_min_ = None\n",
    "min_mse_ = None\n",
    "for theta in thetas:\n",
    "    mse = float(mean_squared_error(geyser['duration'], theta*geyser['waiting']))\n",
    "    if min_mse_ == None:\n",
    "        theta_min_ = theta\n",
    "        min_mse_ = mse\n",
    "    elif min_mse_ > mse:\n",
    "        min_mse_ = mse\n",
    "        theta_min_ = theta\n",
    "#\n",
    "#\n",
    "#\n",
    "assert type(theta_min_) == type(theta_min)\n",
    "assert theta_min == theta_min_\n",
    "### END HIDDEN TESTS"
   ]
  },
  {
   "cell_type": "markdown",
   "metadata": {
    "nbgrader": {
     "grade": false,
     "grade_id": "cell-84ec1ca3faa45312",
     "locked": true,
     "schema_version": 1,
     "solution": false
    }
   },
   "source": [
    "Note that again the shape of the Mean Squared Error is a parabola.  The plot below shows the values of thetas againt their mean squared error.  \n",
    "\n",
    "<center>\n",
    "    <img src = 'images/mse_min.png' >\n",
    "</center>"
   ]
  },
  {
   "cell_type": "code",
   "execution_count": 34,
   "metadata": {
    "ExecuteTime": {
     "end_time": "2023-10-20T12:29:55.084738400Z",
     "start_time": "2023-10-20T12:29:54.885220800Z"
    }
   },
   "outputs": [
    {
     "data": {
      "text/plain": "<Figure size 640x480 with 1 Axes>",
      "image/png": "[encoded data removed]"
     },
     "metadata": {},
     "output_type": "display_data"
    }
   ],
   "source": [
    "#Code for Plot\n",
    "plt.plot(thetas, mses)\n",
    "plt.plot(thetas[np.argmin(mses)], min(mses), 'ro', label = 'Minimum')\n",
    "plt.legend()\n",
    "plt.title('Minimum MSE')\n",
    "plt.xlabel(r'$\\theta$')\n",
    "plt.ylabel('MSE')\n",
    "plt.grid();\n",
    "plt.savefig('images/mse_min.png')"
   ]
  },
  {
   "cell_type": "code",
   "execution_count": null,
   "outputs": [],
   "source": [],
   "metadata": {
    "collapsed": false
   }
  }
 ],
 "metadata": {
  "celltoolbar": "Create Assignment",
  "kernelspec": {
   "display_name": "Python 3",
   "language": "python",
   "name": "python3"
  },
  "language_info": {
   "codemirror_mode": {
    "name": "ipython",
    "version": 3
   },
   "file_extension": ".py",
   "mimetype": "text/x-python",
   "name": "python",
   "nbconvert_exporter": "python",
   "pygments_lexer": "ipython3",
   "version": "3.6.9"
  }
 },
 "nbformat": 4,
 "nbformat_minor": 4
}
