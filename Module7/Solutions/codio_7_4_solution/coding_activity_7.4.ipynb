{
 "cells": [
  {
   "cell_type": "markdown",
   "metadata": {
    "nbgrader": {
     "grade": false,
     "grade_id": "cell-35a56360227421f3",
     "locked": true,
     "schema_version": 1,
     "solution": false
    }
   },
   "source": [
    "## Codio Activity 7.4: Mean Absolute Loss (MAE)\n",
    "\n",
    "**Expected Time = 45 minutes**\n",
    "\n",
    "**Total Points = 15**\n",
    "\n",
    "This assignment focuses on minimizing the mean absolute value loss function defined as:\n",
    "\n",
    "$${\\displaystyle \\mathrm {MAE} ={\\frac {\\sum _{i=1}^{n}\\left|y_{i}-x_{i}\\right|}{n}}}$$\n",
    "\n",
    "## Index:\n",
    "\n",
    "- [Problem 1](#Problem-1)\n",
    "- [Problem 2](#Problem-2)\n",
    "- [Problem 3](#Problem-3)"
   ]
  },
  {
   "cell_type": "markdown",
   "metadata": {
    "nbgrader": {
     "grade": false,
     "grade_id": "cell-da1adcda934b4332",
     "locked": true,
     "schema_version": 1,
     "solution": false
    }
   },
   "source": [
    "Using the same dataset as with our `l2_loss` function, you are to compute the value for $\\theta$ that minimizes the MAE.  "
   ]
  },
  {
   "cell_type": "code",
   "execution_count": 23,
   "metadata": {
    "ExecuteTime": {
     "end_time": "2023-10-20T18:26:13.682350600Z",
     "start_time": "2023-10-20T18:26:13.609586100Z"
    }
   },
   "outputs": [],
   "source": [
    "import numpy as np\n",
    "import matplotlib.pyplot as plt\n",
    "import plotly.express as px\n",
    "from scipy.optimize import minimize"
   ]
  },
  {
   "cell_type": "markdown",
   "metadata": {
    "nbgrader": {
     "grade": false,
     "grade_id": "cell-9424c9baa7a0bfb6",
     "locked": true,
     "schema_version": 1,
     "solution": false
    }
   },
   "source": [
    "### The Dataset\n",
    "\n",
    "Again, a synthetic dataset is created as\n",
    "\n",
    "$$y = 4.2x + \\sigma$$"
   ]
  },
  {
   "cell_type": "code",
   "execution_count": 24,
   "metadata": {
    "ExecuteTime": {
     "end_time": "2023-10-20T18:26:13.802900800Z",
     "start_time": "2023-10-20T18:26:13.615574Z"
    }
   },
   "outputs": [
    {
     "data": {
      "text/plain": "<matplotlib.collections.PathCollection at 0x22ca9a03a10>"
     },
     "execution_count": 24,
     "metadata": {},
     "output_type": "execute_result"
    },
    {
     "data": {
      "text/plain": "<Figure size 640x480 with 1 Axes>",
      "image/png": "[encoded data removed]"
     },
     "metadata": {},
     "output_type": "display_data"
    }
   ],
   "source": [
    "np.random.seed(42)\n",
    "x = np.linspace(0, 1, 100)\n",
    "y = 4.2*x + np.random.normal(size = 100)\n",
    "plt.scatter(x, y)"
   ]
  },
  {
   "cell_type": "markdown",
   "metadata": {
    "nbgrader": {
     "grade": false,
     "grade_id": "cell-38e07b68b2efb7fb",
     "locked": true,
     "schema_version": 1,
     "solution": false
    }
   },
   "source": [
    "[Back to top](#Index:) \n",
    "\n",
    "## Problem 1\n",
    "\n",
    "### A MAE loss function\n",
    "\n",
    "**5 Points**\n",
    "\n",
    "Complete the `mae` function below that takes in a value for $\\theta$ and returns the mean absolute error based on the model $y = \\theta*x$.  Your function should return a `np.float` datatype."
   ]
  },
  {
   "cell_type": "code",
   "execution_count": 25,
   "metadata": {
    "nbgrader": {
     "grade": false,
     "grade_id": "cell-86bc03f719dd2bf7",
     "locked": false,
     "schema_version": 1,
     "solution": true
    },
    "ExecuteTime": {
     "end_time": "2023-10-20T18:26:13.802900800Z",
     "start_time": "2023-10-20T18:26:13.740403200Z"
    }
   },
   "outputs": [
    {
     "name": "stdout",
     "output_type": "stream",
     "text": [
      "2.12145907129924\n",
      "<class 'numpy.float64'>\n"
     ]
    }
   ],
   "source": [
    "### GRADED\n",
    "\n",
    "def mae_loss(theta):\n",
    "    \"\"\"\n",
    "    This function accepts an array of thetas\n",
    "    and returns the mean absolute error based\n",
    "    on np.mean(|(theta*xi - yi)|)\n",
    "    \n",
    "    Arguments\n",
    "    ---------\n",
    "    theta: float\n",
    "           Values to use for parameter\n",
    "           of regression model.\n",
    "            \n",
    "    Returns\n",
    "    -------\n",
    "    mse: np.float\n",
    "         Mean Absolute Error\n",
    "    \"\"\"\n",
    "\n",
    "\n",
    "### BEGIN SOLUTION\n",
    "def mae_loss(theta):\n",
    "    return np.mean(np.abs(y - theta*x))\n",
    "### END SOLUTION\n",
    "\n",
    "mae = mae_loss(8)\n",
    "print(mae)\n",
    "print(type(mae))"
   ]
  },
  {
   "cell_type": "code",
   "execution_count": 26,
   "metadata": {
    "nbgrader": {
     "grade": true,
     "grade_id": "cell-159e22cdbdfb9148",
     "locked": true,
     "points": 5,
     "schema_version": 1,
     "solution": false
    },
    "ExecuteTime": {
     "end_time": "2023-10-20T18:26:13.802900800Z",
     "start_time": "2023-10-20T18:26:13.743646100Z"
    }
   },
   "outputs": [],
   "source": [
    "### BEGIN HIDDEN TESTS\n",
    "def mae_loss_(theta):\n",
    "    return np.mean(np.abs(y - theta*x))\n",
    "solns = [mae_loss(i) for i in range(2, 6)]\n",
    "solns_ = [mae_loss_(i) for i in range(2, 6)]\n",
    "#\n",
    "#\n",
    "#\n",
    "assert solns == solns_\n",
    "### END HIDDEN TESTS"
   ]
  },
  {
   "cell_type": "markdown",
   "metadata": {
    "nbgrader": {
     "grade": false,
     "grade_id": "cell-3df8fc16bf79892a",
     "locked": true,
     "schema_version": 1,
     "solution": false
    }
   },
   "source": [
    "[Back to top](#Index:) \n",
    "\n",
    "## Problem 2\n",
    "\n",
    "### Minimizing the MAE Loss\n",
    "\n",
    "**5 Points**\n",
    "\n",
    "Use the `minimize` function imported from `scipy.optimize` to determine the value for $\\theta$ that minimizes the Mean Absolute Error loss function starting at `x0 = 4`.  Assign the solution as a float to `theta_mae` below."
   ]
  },
  {
   "cell_type": "code",
   "execution_count": 27,
   "metadata": {
    "nbgrader": {
     "grade": false,
     "grade_id": "cell-defb255e2157e0be",
     "locked": false,
     "schema_version": 1,
     "solution": true
    },
    "ExecuteTime": {
     "end_time": "2023-10-20T18:26:13.802900800Z",
     "start_time": "2023-10-20T18:26:13.748331200Z"
    }
   },
   "outputs": [
    {
     "name": "stdout",
     "output_type": "stream",
     "text": [
      "<class 'numpy.float64'>\n",
      "4.150739192004366\n"
     ]
    }
   ],
   "source": [
    "### GRADED\n",
    "\n",
    "theta_mae = ''\n",
    "\n",
    "### BEGIN SOLUTION\n",
    "minimum_theta = minimize(mae_loss, x0 = 4)\n",
    "theta_mae = minimum_theta.x[0]\n",
    "### END SOLUTION\n",
    "\n",
    "# Answer check\n",
    "print(type(theta_mae))\n",
    "print(theta_mae)"
   ]
  },
  {
   "cell_type": "code",
   "execution_count": 28,
   "metadata": {
    "nbgrader": {
     "grade": true,
     "grade_id": "cell-ef9dda655351c01f",
     "locked": true,
     "points": 5,
     "schema_version": 1,
     "solution": false
    },
    "ExecuteTime": {
     "end_time": "2023-10-20T18:26:13.802900800Z",
     "start_time": "2023-10-20T18:26:13.760381300Z"
    }
   },
   "outputs": [],
   "source": [
    "### BEGIN HIDDEN TESTS\n",
    "def mae_loss_(theta):\n",
    "    return np.mean(np.abs(y - theta*x))\n",
    "minimum_theta_ = minimize(mae_loss_, x0 = 4)\n",
    "theta_mae_ = minimum_theta_.x[0]\n",
    "#\n",
    "#\n",
    "#\n",
    "assert type(theta_mae_) == type(theta_mae)\n",
    "### END HIDDEN TESTS"
   ]
  },
  {
   "cell_type": "markdown",
   "metadata": {
    "nbgrader": {
     "grade": false,
     "grade_id": "cell-91945eaba278ee24",
     "locked": true,
     "schema_version": 1,
     "solution": false
    }
   },
   "source": [
    "[Back to top](#Index:) \n",
    "\n",
    "## Problem 3\n",
    "\n",
    "### Uncovering the true $\\theta$\n",
    "\n",
    "**5 Points**\n",
    "\n",
    "Assuming that the true relationship between $x$ and $y$ was determined by a model with $\\theta = 4.2$, which loss function better approximated the true value for $\\theta$ here?  Enter your answer as a string -- either 'mse' or 'mae' -- below to the variable `better_loss`."
   ]
  },
  {
   "cell_type": "code",
   "execution_count": 29,
   "metadata": {
    "nbgrader": {
     "grade": false,
     "grade_id": "cell-8e576cd476714f95",
     "locked": false,
     "schema_version": 1,
     "solution": true
    },
    "ExecuteTime": {
     "end_time": "2023-10-20T18:26:13.802900800Z",
     "start_time": "2023-10-20T18:26:13.771351300Z"
    }
   },
   "outputs": [
    {
     "name": "stdout",
     "output_type": "stream",
     "text": [
      "<class 'str'>\n",
      "mae\n"
     ]
    }
   ],
   "source": [
    "### GRADED\n",
    "\n",
    "better_loss = ''\n",
    "\n",
    "### BEGIN SOLUTION\n",
    "better_loss = 'mae'\n",
    "### END SOLUTION\n",
    "\n",
    "# Answer check\n",
    "print(type(better_loss))\n",
    "print(better_loss)"
   ]
  },
  {
   "cell_type": "code",
   "execution_count": 30,
   "metadata": {
    "nbgrader": {
     "grade": true,
     "grade_id": "cell-0d85642055271a16",
     "locked": true,
     "points": 5,
     "schema_version": 1,
     "solution": false
    },
    "ExecuteTime": {
     "end_time": "2023-10-20T18:26:13.803910500Z",
     "start_time": "2023-10-20T18:26:13.775669700Z"
    }
   },
   "outputs": [],
   "source": [
    "### BEGIN HIDDEN TESTS\n",
    "better_loss_ = 'mae'\n",
    "#\n",
    "#\n",
    "#\n",
    "assert type(better_loss_) == type(better_loss)\n",
    "assert better_loss == better_loss_\n",
    "### END HIDDEN TESTS"
   ]
  }
 ],
 "metadata": {
  "celltoolbar": "Create Assignment",
  "kernelspec": {
   "display_name": "Python 3",
   "language": "python",
   "name": "python3"
  },
  "language_info": {
   "codemirror_mode": {
    "name": "ipython",
    "version": 3
   },
   "file_extension": ".py",
   "mimetype": "text/x-python",
   "name": "python",
   "nbconvert_exporter": "python",
   "pygments_lexer": "ipython3",
   "version": "3.6.9"
  }
 },
 "nbformat": 4,
 "nbformat_minor": 4
}
