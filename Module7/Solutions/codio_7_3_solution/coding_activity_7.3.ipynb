{
 "cells": [
  {
   "cell_type": "markdown",
   "metadata": {
    "nbgrader": {
     "grade": false,
     "grade_id": "cell-0a074028950af7cb",
     "locked": true,
     "schema_version": 1,
     "solution": false
    }
   },
   "source": [
    "### Codio Activity 7.3: Using SciPy Optimize To Optimize L2 Loss\n",
    "\n",
    "**Expected Time = 45 minutes**\n",
    "\n",
    "**Total Points = 15**\n",
    "\n",
    "This assignment focuses on using `scipy.optimize` to minimize the mean squared error for a linear model.  For this example,  a synthetic dataset is created using `sklearn`.  \n",
    "\n",
    "## Index:\n",
    "\n",
    "- [Problem 1](#Problem-1)\n",
    "- [Problem 2](#Problem-2)\n",
    "- [Problem 3](#Problem-3)"
   ]
  },
  {
   "cell_type": "code",
   "execution_count": 28,
   "metadata": {
    "ExecuteTime": {
     "end_time": "2023-10-20T15:14:58.323538700Z",
     "start_time": "2023-10-20T15:14:58.253707Z"
    }
   },
   "outputs": [],
   "source": [
    "import numpy as np\n",
    "import pandas as pd\n",
    "import matplotlib.pyplot as plt\n",
    "from scipy.optimize import minimize"
   ]
  },
  {
   "cell_type": "markdown",
   "metadata": {
    "nbgrader": {
     "grade": false,
     "grade_id": "cell-03152fce7dee72a6",
     "locked": true,
     "schema_version": 1,
     "solution": false
    }
   },
   "source": [
    "### Creating Data\n",
    "\n",
    "To create the dataset, a linear function with known slope is created, and gaussian noise is added to each point at random.  This allows comparison to the results and helps to see if the minimum solution is reasonable. \n",
    "\n",
    "$$y = 4.2x + \\sigma$$"
   ]
  },
  {
   "cell_type": "code",
   "execution_count": 29,
   "metadata": {
    "ExecuteTime": {
     "end_time": "2023-10-20T15:14:58.469046600Z",
     "start_time": "2023-10-20T15:14:58.258730100Z"
    }
   },
   "outputs": [
    {
     "data": {
      "text/plain": "<matplotlib.collections.PathCollection at 0x1b24c3ab690>"
     },
     "execution_count": 29,
     "metadata": {},
     "output_type": "execute_result"
    },
    {
     "data": {
      "text/plain": "<Figure size 640x480 with 1 Axes>",
      "image/png": "[encoded data removed]"
     },
     "metadata": {},
     "output_type": "display_data"
    }
   ],
   "source": [
    "np.random.seed(42)\n",
    "x = np.linspace(0, 1, 100)\n",
    "y = 4.2*x + np.random.normal(size = 100)\n",
    "plt.scatter(x, y)"
   ]
  },
  {
   "cell_type": "markdown",
   "metadata": {
    "nbgrader": {
     "grade": false,
     "grade_id": "cell-cc4851cdca48645f",
     "locked": true,
     "schema_version": 1,
     "solution": false
    }
   },
   "source": [
    "[Back to top](#Index:) \n",
    "\n",
    "## Problem 1\n",
    "\n",
    "### Array of $\\theta$'s\n",
    "\n",
    "**5 Points**\n",
    "\n",
    "Below, create an array of possible $\\theta$ values using `np.linspace`.  Create 100 values starting at 3 and ending at 5.  Assign your solution as an array to `thetas` below."
   ]
  },
  {
   "cell_type": "code",
   "execution_count": 37,
   "metadata": {
    "nbgrader": {
     "grade": false,
     "grade_id": "cell-81c5f25f91d3e024",
     "locked": false,
     "schema_version": 1,
     "solution": true
    },
    "ExecuteTime": {
     "end_time": "2023-10-20T15:19:05.404332800Z",
     "start_time": "2023-10-20T15:19:05.394848900Z"
    }
   },
   "outputs": [
    {
     "name": "stdout",
     "output_type": "stream",
     "text": [
      "<class 'numpy.ndarray'>\n",
      "(100,)\n"
     ]
    }
   ],
   "source": [
    "### GRADED\n",
    "\n",
    "thetas = ''\n",
    "\n",
    "### BEGIN SOLUTION\n",
    "thetas = np.linspace(3, 5, 100)\n",
    "### END SOLUTION\n",
    "\n",
    "# Answer check\n",
    "print(type(thetas))\n",
    "print(thetas.shape)"
   ]
  },
  {
   "cell_type": "code",
   "execution_count": 38,
   "metadata": {
    "nbgrader": {
     "grade": true,
     "grade_id": "cell-7f9914e3aa15bd3e",
     "locked": true,
     "points": 5,
     "schema_version": 1,
     "solution": false
    },
    "ExecuteTime": {
     "end_time": "2023-10-20T15:19:06.290768800Z",
     "start_time": "2023-10-20T15:19:06.269864100Z"
    }
   },
   "outputs": [],
   "source": [
    "### BEGIN HIDDEN TESTS\n",
    "thetas_ = np.linspace(3, 5, 100)\n",
    "#\n",
    "#\n",
    "#\n",
    "assert type(thetas_) == type(thetas)\n",
    "np.testing.assert_array_equal(thetas_,thetas)\n",
    "### END HIDDEN TESTS"
   ]
  },
  {
   "cell_type": "markdown",
   "metadata": {
    "nbgrader": {
     "grade": false,
     "grade_id": "cell-dba9e30e6375854e",
     "locked": true,
     "schema_version": 1,
     "solution": false
    }
   },
   "source": [
    "[Back to top](#Index:) \n",
    "\n",
    "## Problem 2\n",
    "\n",
    "### Loss Function\n",
    "\n",
    "**5 Points**\n",
    "\n",
    "Now, complete the function `l2_loss` below that accepts a single $\\theta$ value as input and calculates the mean squared error based on the true y-values and the given theta. The function should return a single float value representing the mean squared error."
   ]
  },
  {
   "cell_type": "code",
   "execution_count": 40,
   "metadata": {
    "nbgrader": {
     "grade": false,
     "grade_id": "cell-5035e8b95397a95a",
     "locked": false,
     "schema_version": 1,
     "solution": true
    },
    "ExecuteTime": {
     "end_time": "2023-10-20T15:22:37.790631400Z",
     "start_time": "2023-10-20T15:22:37.780542900Z"
    }
   },
   "outputs": [
    {
     "name": "stdout",
     "output_type": "stream",
     "text": [
      "5.970444002663118\n",
      "<class 'numpy.float64'>\n"
     ]
    }
   ],
   "source": [
    "### GRADED\n",
    "def l2_loss(theta):\n",
    "  \"\"\"\n",
    "  This function accepts a single theta value\n",
    "  and calculates the mean squared error based\n",
    "  on (theta*x - y)^2\n",
    "\n",
    "  Arguments\n",
    "  ---------\n",
    "  theta: float\n",
    "    The value to use for the parameter of the\n",
    "    regression model.\n",
    "\n",
    "  Returns\n",
    "  -------\n",
    "  mse: float\n",
    "    Mean Squared Error\n",
    "  \"\"\"\n",
    "\n",
    "### BEGIN SOLUTION\n",
    "def l2_loss(theta):\n",
    "    return np.mean((y - theta*x)**2)\n",
    "### END SOLUTION\n",
    "\n",
    "mses = l2_loss(8)\n",
    "print(mses)\n",
    "print(type(mses))"
   ]
  },
  {
   "cell_type": "code",
   "execution_count": 41,
   "metadata": {
    "nbgrader": {
     "grade": true,
     "grade_id": "cell-5aa231b004d6d303",
     "locked": true,
     "points": 5,
     "schema_version": 1,
     "solution": false
    },
    "ExecuteTime": {
     "end_time": "2023-10-20T15:22:38.823630400Z",
     "start_time": "2023-10-20T15:22:38.807230700Z"
    }
   },
   "outputs": [],
   "source": [
    "### BEGIN HIDDEN TESTS\n",
    "def l2_loss_(theta):\n",
    "    return np.mean((y - theta*x)**2)\n",
    "solns = [l2_loss(i) for i in range(2, 6)]\n",
    "solns_ = [l2_loss_(i) for i in range(2, 6)]\n",
    "#\n",
    "#\n",
    "#\n",
    "assert solns == solns_\n",
    "### END HIDDEN TESTS"
   ]
  },
  {
   "cell_type": "markdown",
   "metadata": {
    "nbgrader": {
     "grade": false,
     "grade_id": "cell-6e2c64852068d37c",
     "locked": true,
     "schema_version": 1,
     "solution": false
    }
   },
   "source": [
    "[Back to top](#Index:) \n",
    "\n",
    "## Problem 3\n",
    "\n",
    "### Using `scipy` to minimize `l2_loss`\n",
    "\n",
    "**5 Points**\n",
    "\n",
    "Use the `minimize` function that has been imported from `scipy.optimize` to find the minimum value of $\\theta$ using `x0 = 4`.  Assign your results to the `minimum_theta` variable below.  Use the `minimum_theta.x` attribute to examine the solution and assign as a numpy array to `theta_solution` below."
   ]
  },
  {
   "cell_type": "code",
   "execution_count": 42,
   "metadata": {
    "nbgrader": {
     "grade": false,
     "grade_id": "cell-e29fcd94e3583b13",
     "locked": false,
     "schema_version": 1,
     "solution": true
    },
    "ExecuteTime": {
     "end_time": "2023-10-20T15:23:03.815326Z",
     "start_time": "2023-10-20T15:23:03.802549700Z"
    }
   },
   "outputs": [
    {
     "name": "stdout",
     "output_type": "stream",
     "text": [
      "<class 'numpy.ndarray'>\n",
      "[4.08001601]\n"
     ]
    }
   ],
   "source": [
    "### GRADED\n",
    "\n",
    "minimum_theta = ''\n",
    "theta_solution = ''\n",
    "\n",
    "### BEGIN SOLUTION\n",
    "minimum_theta = minimize(l2_loss, x0 = 4)\n",
    "theta_solution = minimum_theta.x\n",
    "### END SOLUTION\n",
    "\n",
    "# Answer check\n",
    "print(type(theta_solution))\n",
    "print(theta_solution)"
   ]
  },
  {
   "cell_type": "code",
   "execution_count": 43,
   "metadata": {
    "nbgrader": {
     "grade": true,
     "grade_id": "cell-385478303a299c9b",
     "locked": true,
     "points": 5,
     "schema_version": 1,
     "solution": false
    },
    "ExecuteTime": {
     "end_time": "2023-10-20T15:23:05.036711800Z",
     "start_time": "2023-10-20T15:23:05.012254800Z"
    }
   },
   "outputs": [],
   "source": [
    "### BEGIN HIDDEN TESTS\n",
    "def l2_loss_(theta):\n",
    "    return np.mean((y - theta*x)**2)\n",
    "minimum_theta_ = minimize(l2_loss_, x0 = 4)\n",
    "theta_solution_ = minimum_theta_.x\n",
    "#\n",
    "#\n",
    "#\n",
    "np.testing.assert_array_almost_equal(theta_solution, theta_solution_)\n",
    "### END HIDDEN TESTS"
   ]
  },
  {
   "cell_type": "markdown",
   "metadata": {},
   "source": [
    "Now that you have found the minimum value, you can uncomment the code below and visualize the mean squared error along with the minimum value based on `scipy`.  "
   ]
  },
  {
   "cell_type": "code",
   "execution_count": 36,
   "metadata": {
    "ExecuteTime": {
     "end_time": "2023-10-20T15:14:58.623187300Z",
     "start_time": "2023-10-20T15:14:58.419941400Z"
    }
   },
   "outputs": [
    {
     "data": {
      "text/plain": "Text(0, 0.5, 'MSE')"
     },
     "execution_count": 36,
     "metadata": {},
     "output_type": "execute_result"
    },
    {
     "data": {
      "text/plain": "<Figure size 640x480 with 1 Axes>",
      "image/png": "[encoded data removed]"
     },
     "metadata": {},
     "output_type": "display_data"
    }
   ],
   "source": [
    "plt.plot(thetas, [l2_loss(i) for i in thetas])\n",
    "plt.plot(theta_solution, l2_loss(theta_solution), 'ro', label = f'solution: {np.round(theta_solution[0], 3)}')\n",
    "plt.legend()\n",
    "plt.title(r'Minimizing Mean Squared Error given $\\theta$')\n",
    "plt.xlabel(r'$\\theta$')\n",
    "plt.ylabel('MSE')"
   ]
  },
  {
   "cell_type": "code",
   "execution_count": 36,
   "metadata": {
    "ExecuteTime": {
     "end_time": "2023-10-20T15:14:58.625185Z",
     "start_time": "2023-10-20T15:14:58.622376500Z"
    }
   },
   "outputs": [],
   "source": []
  }
 ],
 "metadata": {
  "celltoolbar": "Create Assignment",
  "kernelspec": {
   "display_name": "Python 3",
   "language": "python",
   "name": "python3"
  },
  "language_info": {
   "codemirror_mode": {
    "name": "ipython",
    "version": 3
   },
   "file_extension": ".py",
   "mimetype": "text/x-python",
   "name": "python",
   "nbconvert_exporter": "python",
   "pygments_lexer": "ipython3",
   "version": "3.6.9"
  }
 },
 "nbformat": 4,
 "nbformat_minor": 4
}
