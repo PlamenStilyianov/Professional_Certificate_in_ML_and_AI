{
 "nbformat": 4,
 "nbformat_minor": 0,
 "metadata": {
  "colab": {
   "provenance": []
  },
  "kernelspec": {
   "name": "python3",
   "language": "python",
   "display_name": "Python 3 (ipykernel)"
  },
  "language_info": {
   "name": "python"
  }
 },
 "cells": [
  {
   "cell_type": "code",
   "execution_count": 19,
   "metadata": {
    "id": "C-78XgbAc11F",
    "ExecuteTime": {
     "end_time": "2024-01-11T18:01:05.033254600Z",
     "start_time": "2024-01-11T18:01:04.974997200Z"
    }
   },
   "outputs": [],
   "source": [
    "import numpy as np\n",
    "import matplotlib.pyplot as plt\n",
    "from sklearn import datasets\n",
    "from sklearn.svm import SVC\n",
    "from sklearn.model_selection import train_test_split, GridSearchCV, cross_val_score\n",
    "from sklearn.metrics import classification_report, confusion_matrix\n",
    "from sklearn.multiclass import OneVsRestClassifier\n",
    "import joblib\n",
    "import pandas as pd\n",
    "from mlxtend.plotting import plot_decision_regions\n",
    "import warnings\n",
    "\n",
    "warnings.filterwarnings(\"ignore\")"
   ]
  },
  {
   "cell_type": "markdown",
   "source": [
    "# Load required libraries"
   ],
   "metadata": {
    "id": "pjLA7HYodwRd"
   }
  },
  {
   "cell_type": "markdown",
   "source": [
    "# Load data"
   ],
   "metadata": {
    "id": "LBVcPdgWd2CM"
   }
  },
  {
   "cell_type": "code",
   "source": [
    "# Load iris dataset\n",
    "iris = datasets.load_iris()\n",
    "X = iris.data\n",
    "y = iris.target"
   ],
   "metadata": {
    "id": "dltl-fzDdys8",
    "ExecuteTime": {
     "end_time": "2024-01-11T18:01:05.049791700Z",
     "start_time": "2024-01-11T18:01:05.035278100Z"
    }
   },
   "execution_count": 20,
   "outputs": []
  },
  {
   "cell_type": "markdown",
   "source": [
    "# You should do:\n",
    "- EDA\n",
    "- Visualize your data\n",
    "\n",
    "Skiping in this example given how simple the dataset is and how familizaried we are with it."
   ],
   "metadata": {
    "id": "I8niaHVod-IY"
   }
  },
  {
   "cell_type": "markdown",
   "source": [
    "# Split the dataset"
   ],
   "metadata": {
    "id": "IF2R5eaeeOe8"
   }
  },
  {
   "cell_type": "code",
   "source": [
    "X_train, X_test, y_train, y_test = train_test_split(X, y, test_size=0.3, random_state=42)"
   ],
   "metadata": {
    "id": "rpxzGarhd7zS",
    "ExecuteTime": {
     "end_time": "2024-01-11T18:01:05.084992Z",
     "start_time": "2024-01-11T18:01:05.051788600Z"
    }
   },
   "execution_count": 21,
   "outputs": []
  },
  {
   "cell_type": "markdown",
   "source": [
    "# You should do:\n",
    "- Data pre-processing\n",
    "- Feature engineering\n",
    "\n",
    "Skiping in this example given how simple the dataset is and how familizaried we are with it."
   ],
   "metadata": {
    "id": "Z7gxQBJIeWZ8"
   }
  },
  {
   "cell_type": "markdown",
   "source": [
    "# Model Selection (Kernel Selection) using Cross-validation"
   ],
   "metadata": {
    "id": "jYSImHKdeb2X"
   }
  },
  {
   "cell_type": "code",
   "source": [
    "# Documentation: https://scikit-learn.org/stable/modules/generated/sklearn.svm.SVC.html\n",
    "kernels = ['linear', 'poly', 'rbf', 'sigmoid']\n",
    "cv_scores = []\n",
    "for k in kernels:\n",
    "    svc = SVC(kernel=k)\n",
    "    scores = cross_val_score(svc, X_train, y_train, cv=5, scoring='accuracy')\n",
    "    cv_scores.append(scores.mean())\n",
    "\n",
    "optimal_kernel = kernels[cv_scores.index(max(cv_scores))]\n",
    "print(f\"Optimal kernel is {optimal_kernel} with cross-validation score of {max(cv_scores)}\")"
   ],
   "metadata": {
    "colab": {
     "base_uri": "https://localhost:8080/"
    },
    "id": "tYI7-7WoeVpv",
    "outputId": "57467923-5b94-451f-91cb-3c4b86a34b27",
    "ExecuteTime": {
     "end_time": "2024-01-11T18:01:05.099963800Z",
     "start_time": "2024-01-11T18:01:05.060308800Z"
    }
   },
   "execution_count": 22,
   "outputs": [
    {
     "name": "stdout",
     "output_type": "stream",
     "text": [
      "Optimal kernel is poly with cross-validation score of 0.9714285714285715\n"
     ]
    }
   ]
  },
  {
   "cell_type": "markdown",
   "source": [
    "# Hyperparameter tuning using GridSearchCV"
   ],
   "metadata": {
    "id": "fvo3MuBLeoJ2"
   }
  },
  {
   "cell_type": "code",
   "source": [
    "params = {\n",
    "    'C': [0.1, 1, 10, 100],\n",
    "    'gamma': [1, 0.1, 0.01, 0.001],\n",
    "    'kernel': [optimal_kernel],\n",
    "    'decision_function_shape': ['ovo', 'ovr']\n",
    "}\n",
    "\n",
    "grid = GridSearchCV(SVC(), params, refit=True, verbose=2, cv=5)\n",
    "grid.fit(X_train, y_train)\n",
    "print(f\"Best parameters found: {grid.best_params_}\")"
   ],
   "metadata": {
    "colab": {
     "base_uri": "https://localhost:8080/"
    },
    "id": "va4U-EyAekhH",
    "outputId": "f562b6b8-8268-4381-8f5e-687343ee6ee3",
    "ExecuteTime": {
     "end_time": "2024-01-11T18:01:06.275992300Z",
     "start_time": "2024-01-11T18:01:05.091565300Z"
    }
   },
   "execution_count": 23,
   "outputs": [
    {
     "name": "stdout",
     "output_type": "stream",
     "text": [
      "Fitting 5 folds for each of 32 candidates, totalling 160 fits\n",
      "[CV] END C=0.1, decision_function_shape=ovo, gamma=1, kernel=poly; total time=   0.0s\n",
      "[CV] END C=0.1, decision_function_shape=ovo, gamma=1, kernel=poly; total time=   0.0s\n",
      "[CV] END C=0.1, decision_function_shape=ovo, gamma=1, kernel=poly; total time=   0.0s\n",
      "[CV] END C=0.1, decision_function_shape=ovo, gamma=1, kernel=poly; total time=   0.0s\n",
      "[CV] END C=0.1, decision_function_shape=ovo, gamma=1, kernel=poly; total time=   0.0s\n",
      "[CV] END C=0.1, decision_function_shape=ovo, gamma=0.1, kernel=poly; total time=   0.0s\n",
      "[CV] END C=0.1, decision_function_shape=ovo, gamma=0.1, kernel=poly; total time=   0.0s\n",
      "[CV] END C=0.1, decision_function_shape=ovo, gamma=0.1, kernel=poly; total time=   0.0s\n",
      "[CV] END C=0.1, decision_function_shape=ovo, gamma=0.1, kernel=poly; total time=   0.0s\n",
      "[CV] END C=0.1, decision_function_shape=ovo, gamma=0.1, kernel=poly; total time=   0.0s\n",
      "[CV] END C=0.1, decision_function_shape=ovo, gamma=0.01, kernel=poly; total time=   0.0s\n",
      "[CV] END C=0.1, decision_function_shape=ovo, gamma=0.01, kernel=poly; total time=   0.0s\n",
      "[CV] END C=0.1, decision_function_shape=ovo, gamma=0.01, kernel=poly; total time=   0.0s\n",
      "[CV] END C=0.1, decision_function_shape=ovo, gamma=0.01, kernel=poly; total time=   0.0s\n",
      "[CV] END C=0.1, decision_function_shape=ovo, gamma=0.01, kernel=poly; total time=   0.0s\n",
      "[CV] END C=0.1, decision_function_shape=ovo, gamma=0.001, kernel=poly; total time=   0.0s\n",
      "[CV] END C=0.1, decision_function_shape=ovo, gamma=0.001, kernel=poly; total time=   0.0s\n",
      "[CV] END C=0.1, decision_function_shape=ovo, gamma=0.001, kernel=poly; total time=   0.0s\n",
      "[CV] END C=0.1, decision_function_shape=ovo, gamma=0.001, kernel=poly; total time=   0.0s\n",
      "[CV] END C=0.1, decision_function_shape=ovo, gamma=0.001, kernel=poly; total time=   0.0s\n",
      "[CV] END C=0.1, decision_function_shape=ovr, gamma=1, kernel=poly; total time=   0.0s\n",
      "[CV] END C=0.1, decision_function_shape=ovr, gamma=1, kernel=poly; total time=   0.0s\n",
      "[CV] END C=0.1, decision_function_shape=ovr, gamma=1, kernel=poly; total time=   0.0s\n",
      "[CV] END C=0.1, decision_function_shape=ovr, gamma=1, kernel=poly; total time=   0.0s\n",
      "[CV] END C=0.1, decision_function_shape=ovr, gamma=1, kernel=poly; total time=   0.0s\n",
      "[CV] END C=0.1, decision_function_shape=ovr, gamma=0.1, kernel=poly; total time=   0.0s\n",
      "[CV] END C=0.1, decision_function_shape=ovr, gamma=0.1, kernel=poly; total time=   0.0s\n",
      "[CV] END C=0.1, decision_function_shape=ovr, gamma=0.1, kernel=poly; total time=   0.0s\n",
      "[CV] END C=0.1, decision_function_shape=ovr, gamma=0.1, kernel=poly; total time=   0.0s\n",
      "[CV] END C=0.1, decision_function_shape=ovr, gamma=0.1, kernel=poly; total time=   0.0s\n",
      "[CV] END C=0.1, decision_function_shape=ovr, gamma=0.01, kernel=poly; total time=   0.0s\n",
      "[CV] END C=0.1, decision_function_shape=ovr, gamma=0.01, kernel=poly; total time=   0.0s\n",
      "[CV] END C=0.1, decision_function_shape=ovr, gamma=0.01, kernel=poly; total time=   0.0s\n",
      "[CV] END C=0.1, decision_function_shape=ovr, gamma=0.01, kernel=poly; total time=   0.0s\n",
      "[CV] END C=0.1, decision_function_shape=ovr, gamma=0.01, kernel=poly; total time=   0.0s\n",
      "[CV] END C=0.1, decision_function_shape=ovr, gamma=0.001, kernel=poly; total time=   0.0s\n",
      "[CV] END C=0.1, decision_function_shape=ovr, gamma=0.001, kernel=poly; total time=   0.0s\n",
      "[CV] END C=0.1, decision_function_shape=ovr, gamma=0.001, kernel=poly; total time=   0.0s\n",
      "[CV] END C=0.1, decision_function_shape=ovr, gamma=0.001, kernel=poly; total time=   0.0s\n",
      "[CV] END C=0.1, decision_function_shape=ovr, gamma=0.001, kernel=poly; total time=   0.0s\n",
      "[CV] END C=1, decision_function_shape=ovo, gamma=1, kernel=poly; total time=   0.0s\n",
      "[CV] END C=1, decision_function_shape=ovo, gamma=1, kernel=poly; total time=   0.0s\n",
      "[CV] END C=1, decision_function_shape=ovo, gamma=1, kernel=poly; total time=   0.0s\n",
      "[CV] END C=1, decision_function_shape=ovo, gamma=1, kernel=poly; total time=   0.0s\n",
      "[CV] END C=1, decision_function_shape=ovo, gamma=1, kernel=poly; total time=   0.0s\n",
      "[CV] END C=1, decision_function_shape=ovo, gamma=0.1, kernel=poly; total time=   0.0s\n",
      "[CV] END C=1, decision_function_shape=ovo, gamma=0.1, kernel=poly; total time=   0.0s\n",
      "[CV] END C=1, decision_function_shape=ovo, gamma=0.1, kernel=poly; total time=   0.0s\n",
      "[CV] END C=1, decision_function_shape=ovo, gamma=0.1, kernel=poly; total time=   0.0s\n",
      "[CV] END C=1, decision_function_shape=ovo, gamma=0.1, kernel=poly; total time=   0.0s\n",
      "[CV] END C=1, decision_function_shape=ovo, gamma=0.01, kernel=poly; total time=   0.0s\n",
      "[CV] END C=1, decision_function_shape=ovo, gamma=0.01, kernel=poly; total time=   0.0s\n",
      "[CV] END C=1, decision_function_shape=ovo, gamma=0.01, kernel=poly; total time=   0.0s\n",
      "[CV] END C=1, decision_function_shape=ovo, gamma=0.01, kernel=poly; total time=   0.0s\n",
      "[CV] END C=1, decision_function_shape=ovo, gamma=0.01, kernel=poly; total time=   0.0s\n",
      "[CV] END C=1, decision_function_shape=ovo, gamma=0.001, kernel=poly; total time=   0.0s\n",
      "[CV] END C=1, decision_function_shape=ovo, gamma=0.001, kernel=poly; total time=   0.0s\n",
      "[CV] END C=1, decision_function_shape=ovo, gamma=0.001, kernel=poly; total time=   0.0s\n",
      "[CV] END C=1, decision_function_shape=ovo, gamma=0.001, kernel=poly; total time=   0.0s\n",
      "[CV] END C=1, decision_function_shape=ovo, gamma=0.001, kernel=poly; total time=   0.0s\n",
      "[CV] END C=1, decision_function_shape=ovr, gamma=1, kernel=poly; total time=   0.0s\n",
      "[CV] END C=1, decision_function_shape=ovr, gamma=1, kernel=poly; total time=   0.0s\n",
      "[CV] END C=1, decision_function_shape=ovr, gamma=1, kernel=poly; total time=   0.0s\n",
      "[CV] END C=1, decision_function_shape=ovr, gamma=1, kernel=poly; total time=   0.0s\n",
      "[CV] END C=1, decision_function_shape=ovr, gamma=1, kernel=poly; total time=   0.0s\n",
      "[CV] END C=1, decision_function_shape=ovr, gamma=0.1, kernel=poly; total time=   0.0s\n",
      "[CV] END C=1, decision_function_shape=ovr, gamma=0.1, kernel=poly; total time=   0.0s\n",
      "[CV] END C=1, decision_function_shape=ovr, gamma=0.1, kernel=poly; total time=   0.0s\n",
      "[CV] END C=1, decision_function_shape=ovr, gamma=0.1, kernel=poly; total time=   0.0s\n",
      "[CV] END C=1, decision_function_shape=ovr, gamma=0.1, kernel=poly; total time=   0.0s\n",
      "[CV] END C=1, decision_function_shape=ovr, gamma=0.01, kernel=poly; total time=   0.0s\n",
      "[CV] END C=1, decision_function_shape=ovr, gamma=0.01, kernel=poly; total time=   0.0s\n",
      "[CV] END C=1, decision_function_shape=ovr, gamma=0.01, kernel=poly; total time=   0.0s\n",
      "[CV] END C=1, decision_function_shape=ovr, gamma=0.01, kernel=poly; total time=   0.0s\n",
      "[CV] END C=1, decision_function_shape=ovr, gamma=0.01, kernel=poly; total time=   0.0s\n",
      "[CV] END C=1, decision_function_shape=ovr, gamma=0.001, kernel=poly; total time=   0.0s\n",
      "[CV] END C=1, decision_function_shape=ovr, gamma=0.001, kernel=poly; total time=   0.0s\n",
      "[CV] END C=1, decision_function_shape=ovr, gamma=0.001, kernel=poly; total time=   0.0s\n",
      "[CV] END C=1, decision_function_shape=ovr, gamma=0.001, kernel=poly; total time=   0.0s\n",
      "[CV] END C=1, decision_function_shape=ovr, gamma=0.001, kernel=poly; total time=   0.0s\n",
      "[CV] END C=10, decision_function_shape=ovo, gamma=1, kernel=poly; total time=   0.0s\n",
      "[CV] END C=10, decision_function_shape=ovo, gamma=1, kernel=poly; total time=   0.0s\n",
      "[CV] END C=10, decision_function_shape=ovo, gamma=1, kernel=poly; total time=   0.0s\n",
      "[CV] END C=10, decision_function_shape=ovo, gamma=1, kernel=poly; total time=   0.0s\n",
      "[CV] END C=10, decision_function_shape=ovo, gamma=1, kernel=poly; total time=   0.0s\n",
      "[CV] END C=10, decision_function_shape=ovo, gamma=0.1, kernel=poly; total time=   0.0s\n",
      "[CV] END C=10, decision_function_shape=ovo, gamma=0.1, kernel=poly; total time=   0.0s\n",
      "[CV] END C=10, decision_function_shape=ovo, gamma=0.1, kernel=poly; total time=   0.0s\n",
      "[CV] END C=10, decision_function_shape=ovo, gamma=0.1, kernel=poly; total time=   0.0s\n",
      "[CV] END C=10, decision_function_shape=ovo, gamma=0.1, kernel=poly; total time=   0.0s\n",
      "[CV] END C=10, decision_function_shape=ovo, gamma=0.01, kernel=poly; total time=   0.0s\n",
      "[CV] END C=10, decision_function_shape=ovo, gamma=0.01, kernel=poly; total time=   0.0s\n",
      "[CV] END C=10, decision_function_shape=ovo, gamma=0.01, kernel=poly; total time=   0.0s\n",
      "[CV] END C=10, decision_function_shape=ovo, gamma=0.01, kernel=poly; total time=   0.0s\n",
      "[CV] END C=10, decision_function_shape=ovo, gamma=0.01, kernel=poly; total time=   0.0s\n",
      "[CV] END C=10, decision_function_shape=ovo, gamma=0.001, kernel=poly; total time=   0.0s\n",
      "[CV] END C=10, decision_function_shape=ovo, gamma=0.001, kernel=poly; total time=   0.0s\n",
      "[CV] END C=10, decision_function_shape=ovo, gamma=0.001, kernel=poly; total time=   0.0s\n",
      "[CV] END C=10, decision_function_shape=ovo, gamma=0.001, kernel=poly; total time=   0.0s\n",
      "[CV] END C=10, decision_function_shape=ovo, gamma=0.001, kernel=poly; total time=   0.0s\n",
      "[CV] END C=10, decision_function_shape=ovr, gamma=1, kernel=poly; total time=   0.0s\n",
      "[CV] END C=10, decision_function_shape=ovr, gamma=1, kernel=poly; total time=   0.0s\n",
      "[CV] END C=10, decision_function_shape=ovr, gamma=1, kernel=poly; total time=   0.0s\n",
      "[CV] END C=10, decision_function_shape=ovr, gamma=1, kernel=poly; total time=   0.0s\n",
      "[CV] END C=10, decision_function_shape=ovr, gamma=1, kernel=poly; total time=   0.0s\n",
      "[CV] END C=10, decision_function_shape=ovr, gamma=0.1, kernel=poly; total time=   0.0s\n",
      "[CV] END C=10, decision_function_shape=ovr, gamma=0.1, kernel=poly; total time=   0.0s\n",
      "[CV] END C=10, decision_function_shape=ovr, gamma=0.1, kernel=poly; total time=   0.0s\n",
      "[CV] END C=10, decision_function_shape=ovr, gamma=0.1, kernel=poly; total time=   0.0s\n",
      "[CV] END C=10, decision_function_shape=ovr, gamma=0.1, kernel=poly; total time=   0.0s\n",
      "[CV] END C=10, decision_function_shape=ovr, gamma=0.01, kernel=poly; total time=   0.0s\n",
      "[CV] END C=10, decision_function_shape=ovr, gamma=0.01, kernel=poly; total time=   0.0s\n",
      "[CV] END C=10, decision_function_shape=ovr, gamma=0.01, kernel=poly; total time=   0.0s\n",
      "[CV] END C=10, decision_function_shape=ovr, gamma=0.01, kernel=poly; total time=   0.0s\n",
      "[CV] END C=10, decision_function_shape=ovr, gamma=0.01, kernel=poly; total time=   0.0s\n",
      "[CV] END C=10, decision_function_shape=ovr, gamma=0.001, kernel=poly; total time=   0.0s\n",
      "[CV] END C=10, decision_function_shape=ovr, gamma=0.001, kernel=poly; total time=   0.0s\n",
      "[CV] END C=10, decision_function_shape=ovr, gamma=0.001, kernel=poly; total time=   0.0s\n",
      "[CV] END C=10, decision_function_shape=ovr, gamma=0.001, kernel=poly; total time=   0.0s\n",
      "[CV] END C=10, decision_function_shape=ovr, gamma=0.001, kernel=poly; total time=   0.0s\n",
      "[CV] END C=100, decision_function_shape=ovo, gamma=1, kernel=poly; total time=   0.0s\n",
      "[CV] END C=100, decision_function_shape=ovo, gamma=1, kernel=poly; total time=   0.0s\n",
      "[CV] END C=100, decision_function_shape=ovo, gamma=1, kernel=poly; total time=   0.0s\n",
      "[CV] END C=100, decision_function_shape=ovo, gamma=1, kernel=poly; total time=   0.2s\n",
      "[CV] END C=100, decision_function_shape=ovo, gamma=1, kernel=poly; total time=   0.0s\n",
      "[CV] END C=100, decision_function_shape=ovo, gamma=0.1, kernel=poly; total time=   0.0s\n",
      "[CV] END C=100, decision_function_shape=ovo, gamma=0.1, kernel=poly; total time=   0.0s\n",
      "[CV] END C=100, decision_function_shape=ovo, gamma=0.1, kernel=poly; total time=   0.0s\n",
      "[CV] END C=100, decision_function_shape=ovo, gamma=0.1, kernel=poly; total time=   0.0s\n",
      "[CV] END C=100, decision_function_shape=ovo, gamma=0.1, kernel=poly; total time=   0.0s\n",
      "[CV] END C=100, decision_function_shape=ovo, gamma=0.01, kernel=poly; total time=   0.0s\n",
      "[CV] END C=100, decision_function_shape=ovo, gamma=0.01, kernel=poly; total time=   0.0s\n",
      "[CV] END C=100, decision_function_shape=ovo, gamma=0.01, kernel=poly; total time=   0.0s\n",
      "[CV] END C=100, decision_function_shape=ovo, gamma=0.01, kernel=poly; total time=   0.0s\n",
      "[CV] END C=100, decision_function_shape=ovo, gamma=0.01, kernel=poly; total time=   0.0s\n",
      "[CV] END C=100, decision_function_shape=ovo, gamma=0.001, kernel=poly; total time=   0.0s\n",
      "[CV] END C=100, decision_function_shape=ovo, gamma=0.001, kernel=poly; total time=   0.0s\n",
      "[CV] END C=100, decision_function_shape=ovo, gamma=0.001, kernel=poly; total time=   0.0s\n",
      "[CV] END C=100, decision_function_shape=ovo, gamma=0.001, kernel=poly; total time=   0.0s\n",
      "[CV] END C=100, decision_function_shape=ovo, gamma=0.001, kernel=poly; total time=   0.0s\n",
      "[CV] END C=100, decision_function_shape=ovr, gamma=1, kernel=poly; total time=   0.0s\n",
      "[CV] END C=100, decision_function_shape=ovr, gamma=1, kernel=poly; total time=   0.0s\n",
      "[CV] END C=100, decision_function_shape=ovr, gamma=1, kernel=poly; total time=   0.0s\n",
      "[CV] END C=100, decision_function_shape=ovr, gamma=1, kernel=poly; total time=   0.2s\n",
      "[CV] END C=100, decision_function_shape=ovr, gamma=1, kernel=poly; total time=   0.0s\n",
      "[CV] END C=100, decision_function_shape=ovr, gamma=0.1, kernel=poly; total time=   0.0s\n",
      "[CV] END C=100, decision_function_shape=ovr, gamma=0.1, kernel=poly; total time=   0.0s\n",
      "[CV] END C=100, decision_function_shape=ovr, gamma=0.1, kernel=poly; total time=   0.0s\n",
      "[CV] END C=100, decision_function_shape=ovr, gamma=0.1, kernel=poly; total time=   0.0s\n",
      "[CV] END C=100, decision_function_shape=ovr, gamma=0.1, kernel=poly; total time=   0.0s\n",
      "[CV] END C=100, decision_function_shape=ovr, gamma=0.01, kernel=poly; total time=   0.0s\n",
      "[CV] END C=100, decision_function_shape=ovr, gamma=0.01, kernel=poly; total time=   0.0s\n",
      "[CV] END C=100, decision_function_shape=ovr, gamma=0.01, kernel=poly; total time=   0.0s\n",
      "[CV] END C=100, decision_function_shape=ovr, gamma=0.01, kernel=poly; total time=   0.0s\n",
      "[CV] END C=100, decision_function_shape=ovr, gamma=0.01, kernel=poly; total time=   0.0s\n",
      "[CV] END C=100, decision_function_shape=ovr, gamma=0.001, kernel=poly; total time=   0.0s\n",
      "[CV] END C=100, decision_function_shape=ovr, gamma=0.001, kernel=poly; total time=   0.0s\n",
      "[CV] END C=100, decision_function_shape=ovr, gamma=0.001, kernel=poly; total time=   0.0s\n",
      "[CV] END C=100, decision_function_shape=ovr, gamma=0.001, kernel=poly; total time=   0.0s\n",
      "[CV] END C=100, decision_function_shape=ovr, gamma=0.001, kernel=poly; total time=   0.0s\n",
      "Best parameters found: {'C': 0.1, 'decision_function_shape': 'ovo', 'gamma': 0.1, 'kernel': 'poly'}\n"
     ]
    }
   ]
  },
  {
   "cell_type": "markdown",
   "source": [
    "# Using best estimator for predictions"
   ],
   "metadata": {
    "id": "RsgkE16meu9P"
   }
  },
  {
   "cell_type": "code",
   "source": [
    "clf = grid.best_estimator_"
   ],
   "metadata": {
    "id": "YcidMlnFetHo",
    "ExecuteTime": {
     "end_time": "2024-01-11T18:01:06.304782900Z",
     "start_time": "2024-01-11T18:01:06.275992300Z"
    }
   },
   "execution_count": 24,
   "outputs": []
  },
  {
   "cell_type": "code",
   "outputs": [
    {
     "data": {
      "text/plain": "SVC(C=0.1, decision_function_shape='ovo', gamma=0.1, kernel='poly')",
      "text/html": "<style>#sk-container-id-3 {color: black;}#sk-container-id-3 pre{padding: 0;}#sk-container-id-3 div.sk-toggleable {background-color: white;}#sk-container-id-3 label.sk-toggleable__label {cursor: pointer;display: block;width: 100%;margin-bottom: 0;padding: 0.3em;box-sizing: border-box;text-align: center;}#sk-container-id-3 label.sk-toggleable__label-arrow:before {content: \"▸\";float: left;margin-right: 0.25em;color: #696969;}#sk-container-id-3 label.sk-toggleable__label-arrow:hover:before {color: black;}#sk-container-id-3 div.sk-estimator:hover label.sk-toggleable__label-arrow:before {color: black;}#sk-container-id-3 div.sk-toggleable__content {max-height: 0;max-width: 0;overflow: hidden;text-align: left;background-color: #f0f8ff;}#sk-container-id-3 div.sk-toggleable__content pre {margin: 0.2em;color: black;border-radius: 0.25em;background-color: #f0f8ff;}#sk-container-id-3 input.sk-toggleable__control:checked~div.sk-toggleable__content {max-height: 200px;max-width: 100%;overflow: auto;}#sk-container-id-3 input.sk-toggleable__control:checked~label.sk-toggleable__label-arrow:before {content: \"▾\";}#sk-container-id-3 div.sk-estimator input.sk-toggleable__control:checked~label.sk-toggleable__label {background-color: #d4ebff;}#sk-container-id-3 div.sk-label input.sk-toggleable__control:checked~label.sk-toggleable__label {background-color: #d4ebff;}#sk-container-id-3 input.sk-hidden--visually {border: 0;clip: rect(1px 1px 1px 1px);clip: rect(1px, 1px, 1px, 1px);height: 1px;margin: -1px;overflow: hidden;padding: 0;position: absolute;width: 1px;}#sk-container-id-3 div.sk-estimator {font-family: monospace;background-color: #f0f8ff;border: 1px dotted black;border-radius: 0.25em;box-sizing: border-box;margin-bottom: 0.5em;}#sk-container-id-3 div.sk-estimator:hover {background-color: #d4ebff;}#sk-container-id-3 div.sk-parallel-item::after {content: \"\";width: 100%;border-bottom: 1px solid gray;flex-grow: 1;}#sk-container-id-3 div.sk-label:hover label.sk-toggleable__label {background-color: #d4ebff;}#sk-container-id-3 div.sk-serial::before {content: \"\";position: absolute;border-left: 1px solid gray;box-sizing: border-box;top: 0;bottom: 0;left: 50%;z-index: 0;}#sk-container-id-3 div.sk-serial {display: flex;flex-direction: column;align-items: center;background-color: white;padding-right: 0.2em;padding-left: 0.2em;position: relative;}#sk-container-id-3 div.sk-item {position: relative;z-index: 1;}#sk-container-id-3 div.sk-parallel {display: flex;align-items: stretch;justify-content: center;background-color: white;position: relative;}#sk-container-id-3 div.sk-item::before, #sk-container-id-3 div.sk-parallel-item::before {content: \"\";position: absolute;border-left: 1px solid gray;box-sizing: border-box;top: 0;bottom: 0;left: 50%;z-index: -1;}#sk-container-id-3 div.sk-parallel-item {display: flex;flex-direction: column;z-index: 1;position: relative;background-color: white;}#sk-container-id-3 div.sk-parallel-item:first-child::after {align-self: flex-end;width: 50%;}#sk-container-id-3 div.sk-parallel-item:last-child::after {align-self: flex-start;width: 50%;}#sk-container-id-3 div.sk-parallel-item:only-child::after {width: 0;}#sk-container-id-3 div.sk-dashed-wrapped {border: 1px dashed gray;margin: 0 0.4em 0.5em 0.4em;box-sizing: border-box;padding-bottom: 0.4em;background-color: white;}#sk-container-id-3 div.sk-label label {font-family: monospace;font-weight: bold;display: inline-block;line-height: 1.2em;}#sk-container-id-3 div.sk-label-container {text-align: center;}#sk-container-id-3 div.sk-container {/* jupyter's `normalize.less` sets `[hidden] { display: none; }` but bootstrap.min.css set `[hidden] { display: none !important; }` so we also need the `!important` here to be able to override the default hidden behavior on the sphinx rendered scikit-learn.org. See: https://github.com/scikit-learn/scikit-learn/issues/21755 */display: inline-block !important;position: relative;}#sk-container-id-3 div.sk-text-repr-fallback {display: none;}</style><div id=\"sk-container-id-3\" class=\"sk-top-container\"><div class=\"sk-text-repr-fallback\"><pre>SVC(C=0.1, decision_function_shape=&#x27;ovo&#x27;, gamma=0.1, kernel=&#x27;poly&#x27;)</pre><b>In a Jupyter environment, please rerun this cell to show the HTML representation or trust the notebook. <br />On GitHub, the HTML representation is unable to render, please try loading this page with nbviewer.org.</b></div><div class=\"sk-container\" hidden><div class=\"sk-item\"><div class=\"sk-estimator sk-toggleable\"><input class=\"sk-toggleable__control sk-hidden--visually\" id=\"sk-estimator-id-3\" type=\"checkbox\" checked><label for=\"sk-estimator-id-3\" class=\"sk-toggleable__label sk-toggleable__label-arrow\">SVC</label><div class=\"sk-toggleable__content\"><pre>SVC(C=0.1, decision_function_shape=&#x27;ovo&#x27;, gamma=0.1, kernel=&#x27;poly&#x27;)</pre></div></div></div></div></div>"
     },
     "execution_count": 25,
     "metadata": {},
     "output_type": "execute_result"
    }
   ],
   "source": [
    "clf"
   ],
   "metadata": {
    "collapsed": false,
    "ExecuteTime": {
     "end_time": "2024-01-11T18:01:06.314741200Z",
     "start_time": "2024-01-11T18:01:06.291658700Z"
    }
   },
   "execution_count": 25
  },
  {
   "cell_type": "code",
   "source": [
    "y_pred = clf.predict(X_test)"
   ],
   "metadata": {
    "id": "Oa7RZKjXe3KG",
    "ExecuteTime": {
     "end_time": "2024-01-11T18:01:06.328305400Z",
     "start_time": "2024-01-11T18:01:06.307201300Z"
    }
   },
   "execution_count": 26,
   "outputs": []
  },
  {
   "cell_type": "markdown",
   "source": [
    "# Model Evaluation"
   ],
   "metadata": {
    "id": "rPSnBn_pe7O7"
   }
  },
  {
   "cell_type": "code",
   "source": [
    "print(\"One-vs-One Classification Report:\\n\", classification_report(y_test, y_pred))"
   ],
   "metadata": {
    "colab": {
     "base_uri": "https://localhost:8080/"
    },
    "id": "6SpNfQSze6nm",
    "outputId": "6d17d316-0763-4dbf-f97f-a331fd03b9a5",
    "ExecuteTime": {
     "end_time": "2024-01-11T18:01:06.346395300Z",
     "start_time": "2024-01-11T18:01:06.323261800Z"
    }
   },
   "execution_count": 27,
   "outputs": [
    {
     "name": "stdout",
     "output_type": "stream",
     "text": [
      "One-vs-One Classification Report:\n",
      "               precision    recall  f1-score   support\n",
      "\n",
      "           0       1.00      1.00      1.00        19\n",
      "           1       1.00      1.00      1.00        13\n",
      "           2       1.00      1.00      1.00        13\n",
      "\n",
      "    accuracy                           1.00        45\n",
      "   macro avg       1.00      1.00      1.00        45\n",
      "weighted avg       1.00      1.00      1.00        45\n"
     ]
    }
   ]
  },
  {
   "cell_type": "markdown",
   "source": [
    "# Save the best model"
   ],
   "metadata": {
    "id": "Ul19TVI6fWFu"
   }
  },
  {
   "cell_type": "code",
   "source": [
    "joblib.dump(clf, 'svm_model.pkl')"
   ],
   "metadata": {
    "colab": {
     "base_uri": "https://localhost:8080/"
    },
    "id": "uzfHqarefQkP",
    "outputId": "5b1c609b-3a04-4312-b34e-6a909189f8f8",
    "ExecuteTime": {
     "end_time": "2024-01-11T18:01:06.356607700Z",
     "start_time": "2024-01-11T18:01:06.337828100Z"
    }
   },
   "execution_count": 28,
   "outputs": [
    {
     "data": {
      "text/plain": "['svm_model.pkl']"
     },
     "execution_count": 28,
     "metadata": {},
     "output_type": "execute_result"
    }
   ]
  },
  {
   "cell_type": "markdown",
   "source": [
    "# Create a function for predictions"
   ],
   "metadata": {
    "id": "1EKAmiJgfZXE"
   }
  },
  {
   "cell_type": "code",
   "source": [
    "def predict_flower(sample):\n",
    "    model = joblib.load('svm_model.pkl')\n",
    "    prediction = model.predict([sample])\n",
    "    return iris.target_names[prediction[0]]"
   ],
   "metadata": {
    "id": "eU7NGcySfYrw",
    "ExecuteTime": {
     "end_time": "2024-01-11T18:01:06.396467Z",
     "start_time": "2024-01-11T18:01:06.354466600Z"
    }
   },
   "execution_count": 29,
   "outputs": []
  },
  {
   "cell_type": "markdown",
   "source": [
    "# Testing the function"
   ],
   "metadata": {
    "id": "Gp4E5b-TfdGJ"
   }
  },
  {
   "cell_type": "code",
   "source": [
    "sample = [5.1, 3.5, 1.4, 0.2]  # example data\n",
    "print(f\"Predicted flower class: {predict_flower(sample)}\")"
   ],
   "metadata": {
    "colab": {
     "base_uri": "https://localhost:8080/"
    },
    "id": "9CLTLjLMfcKY",
    "outputId": "29b09248-efcf-41da-9af2-65f9f537e36e",
    "ExecuteTime": {
     "end_time": "2024-01-11T18:01:06.397465100Z",
     "start_time": "2024-01-11T18:01:06.372196400Z"
    }
   },
   "execution_count": 30,
   "outputs": [
    {
     "name": "stdout",
     "output_type": "stream",
     "text": [
      "Predicted flower class: setosa\n"
     ]
    }
   ]
  },
  {
   "cell_type": "markdown",
   "source": [
    "# SVM Visualization (works best for 2D data, will only show for 2 features for simplicity)\n",
    "\n",
    "Model interpretation"
   ],
   "metadata": {
    "id": "hN5PmaNwfOnt"
   }
  },
  {
   "cell_type": "code",
   "source": [
    "X_train_plot = X_train[:, :2] # Use only the first two features for easier plotting\n",
    "X_test_plot = X_test[:, :2] # Use only the first two features for easier plotting\n",
    "clf.fit(X_train_plot, y_train)"
   ],
   "metadata": {
    "colab": {
     "base_uri": "https://localhost:8080/",
     "height": 74
    },
    "id": "idTlDUk8fBFl",
    "outputId": "ac03b3ec-a0e5-44ea-b6fe-1066c6491645",
    "ExecuteTime": {
     "end_time": "2024-01-11T18:01:06.427457900Z",
     "start_time": "2024-01-11T18:01:06.385269800Z"
    }
   },
   "execution_count": 31,
   "outputs": [
    {
     "data": {
      "text/plain": "SVC(C=0.1, decision_function_shape='ovo', gamma=0.1, kernel='poly')",
      "text/html": "<style>#sk-container-id-4 {color: black;}#sk-container-id-4 pre{padding: 0;}#sk-container-id-4 div.sk-toggleable {background-color: white;}#sk-container-id-4 label.sk-toggleable__label {cursor: pointer;display: block;width: 100%;margin-bottom: 0;padding: 0.3em;box-sizing: border-box;text-align: center;}#sk-container-id-4 label.sk-toggleable__label-arrow:before {content: \"▸\";float: left;margin-right: 0.25em;color: #696969;}#sk-container-id-4 label.sk-toggleable__label-arrow:hover:before {color: black;}#sk-container-id-4 div.sk-estimator:hover label.sk-toggleable__label-arrow:before {color: black;}#sk-container-id-4 div.sk-toggleable__content {max-height: 0;max-width: 0;overflow: hidden;text-align: left;background-color: #f0f8ff;}#sk-container-id-4 div.sk-toggleable__content pre {margin: 0.2em;color: black;border-radius: 0.25em;background-color: #f0f8ff;}#sk-container-id-4 input.sk-toggleable__control:checked~div.sk-toggleable__content {max-height: 200px;max-width: 100%;overflow: auto;}#sk-container-id-4 input.sk-toggleable__control:checked~label.sk-toggleable__label-arrow:before {content: \"▾\";}#sk-container-id-4 div.sk-estimator input.sk-toggleable__control:checked~label.sk-toggleable__label {background-color: #d4ebff;}#sk-container-id-4 div.sk-label input.sk-toggleable__control:checked~label.sk-toggleable__label {background-color: #d4ebff;}#sk-container-id-4 input.sk-hidden--visually {border: 0;clip: rect(1px 1px 1px 1px);clip: rect(1px, 1px, 1px, 1px);height: 1px;margin: -1px;overflow: hidden;padding: 0;position: absolute;width: 1px;}#sk-container-id-4 div.sk-estimator {font-family: monospace;background-color: #f0f8ff;border: 1px dotted black;border-radius: 0.25em;box-sizing: border-box;margin-bottom: 0.5em;}#sk-container-id-4 div.sk-estimator:hover {background-color: #d4ebff;}#sk-container-id-4 div.sk-parallel-item::after {content: \"\";width: 100%;border-bottom: 1px solid gray;flex-grow: 1;}#sk-container-id-4 div.sk-label:hover label.sk-toggleable__label {background-color: #d4ebff;}#sk-container-id-4 div.sk-serial::before {content: \"\";position: absolute;border-left: 1px solid gray;box-sizing: border-box;top: 0;bottom: 0;left: 50%;z-index: 0;}#sk-container-id-4 div.sk-serial {display: flex;flex-direction: column;align-items: center;background-color: white;padding-right: 0.2em;padding-left: 0.2em;position: relative;}#sk-container-id-4 div.sk-item {position: relative;z-index: 1;}#sk-container-id-4 div.sk-parallel {display: flex;align-items: stretch;justify-content: center;background-color: white;position: relative;}#sk-container-id-4 div.sk-item::before, #sk-container-id-4 div.sk-parallel-item::before {content: \"\";position: absolute;border-left: 1px solid gray;box-sizing: border-box;top: 0;bottom: 0;left: 50%;z-index: -1;}#sk-container-id-4 div.sk-parallel-item {display: flex;flex-direction: column;z-index: 1;position: relative;background-color: white;}#sk-container-id-4 div.sk-parallel-item:first-child::after {align-self: flex-end;width: 50%;}#sk-container-id-4 div.sk-parallel-item:last-child::after {align-self: flex-start;width: 50%;}#sk-container-id-4 div.sk-parallel-item:only-child::after {width: 0;}#sk-container-id-4 div.sk-dashed-wrapped {border: 1px dashed gray;margin: 0 0.4em 0.5em 0.4em;box-sizing: border-box;padding-bottom: 0.4em;background-color: white;}#sk-container-id-4 div.sk-label label {font-family: monospace;font-weight: bold;display: inline-block;line-height: 1.2em;}#sk-container-id-4 div.sk-label-container {text-align: center;}#sk-container-id-4 div.sk-container {/* jupyter's `normalize.less` sets `[hidden] { display: none; }` but bootstrap.min.css set `[hidden] { display: none !important; }` so we also need the `!important` here to be able to override the default hidden behavior on the sphinx rendered scikit-learn.org. See: https://github.com/scikit-learn/scikit-learn/issues/21755 */display: inline-block !important;position: relative;}#sk-container-id-4 div.sk-text-repr-fallback {display: none;}</style><div id=\"sk-container-id-4\" class=\"sk-top-container\"><div class=\"sk-text-repr-fallback\"><pre>SVC(C=0.1, decision_function_shape=&#x27;ovo&#x27;, gamma=0.1, kernel=&#x27;poly&#x27;)</pre><b>In a Jupyter environment, please rerun this cell to show the HTML representation or trust the notebook. <br />On GitHub, the HTML representation is unable to render, please try loading this page with nbviewer.org.</b></div><div class=\"sk-container\" hidden><div class=\"sk-item\"><div class=\"sk-estimator sk-toggleable\"><input class=\"sk-toggleable__control sk-hidden--visually\" id=\"sk-estimator-id-4\" type=\"checkbox\" checked><label for=\"sk-estimator-id-4\" class=\"sk-toggleable__label sk-toggleable__label-arrow\">SVC</label><div class=\"sk-toggleable__content\"><pre>SVC(C=0.1, decision_function_shape=&#x27;ovo&#x27;, gamma=0.1, kernel=&#x27;poly&#x27;)</pre></div></div></div></div></div>"
     },
     "execution_count": 31,
     "metadata": {},
     "output_type": "execute_result"
    }
   ]
  },
  {
   "cell_type": "code",
   "source": [
    "X_test_plot = pd.DataFrame(X_test_plot, columns=['sepal length (cm)', 'sepal width (cm)'])"
   ],
   "metadata": {
    "id": "Z6VHnicGkIda",
    "ExecuteTime": {
     "end_time": "2024-01-11T18:01:06.428457800Z",
     "start_time": "2024-01-11T18:01:06.401456400Z"
    }
   },
   "execution_count": 32,
   "outputs": []
  },
  {
   "cell_type": "code",
   "source": [
    "X_test_plot.plot.scatter(x='sepal length (cm)',\n",
    "                         y='sepal width (cm)',\n",
    "                         c=y_test,\n",
    "                         colormap='plasma', figsize=(8,5));"
   ],
   "metadata": {
    "colab": {
     "base_uri": "https://localhost:8080/",
     "height": 470
    },
    "id": "TCFbP_ARheA8",
    "outputId": "f06b4d6b-4a13-4ae8-8acd-cdd055386bb7",
    "ExecuteTime": {
     "end_time": "2024-01-11T18:01:06.588931800Z",
     "start_time": "2024-01-11T18:01:06.416901600Z"
    }
   },
   "execution_count": 33,
   "outputs": [
    {
     "data": {
      "text/plain": "<Figure size 800x500 with 2 Axes>",
      "image/png": "[encoded data removed]"
     },
     "metadata": {},
     "output_type": "display_data"
    }
   ]
  },
  {
   "cell_type": "code",
   "source": [
    "plot_decision_regions(X=X_test_plot.values,\n",
    "                      y=y_test,\n",
    "                      clf=clf,\n",
    "                      colors='#0D0887,#CC4778,#F0F921');"
   ],
   "metadata": {
    "colab": {
     "base_uri": "https://localhost:8080/",
     "height": 430
    },
    "id": "WrDIP9GGiCQZ",
    "outputId": "c2c27068-cd8d-45b7-fe65-3bf126466eba",
    "ExecuteTime": {
     "end_time": "2024-01-11T18:01:07.125263100Z",
     "start_time": "2024-01-11T18:01:06.587913100Z"
    }
   },
   "execution_count": 34,
   "outputs": [
    {
     "data": {
      "text/plain": "<Figure size 640x480 with 1 Axes>",
      "image/png": "[encoded data removed]"
     },
     "metadata": {},
     "output_type": "display_data"
    }
   ]
  }
 ]
}
