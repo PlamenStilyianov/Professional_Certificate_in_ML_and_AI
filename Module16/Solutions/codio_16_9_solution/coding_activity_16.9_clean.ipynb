{
 "cells": [
  {
   "cell_type": "markdown",
   "metadata": {
    "deletable": false,
    "editable": false,
    "nbgrader": {
     "cell_type": "markdown",
     "checksum": "8a993931988152322b1ef541c3589863",
     "grade": false,
     "grade_id": "cell-c494d2f790e35eb6",
     "locked": true,
     "schema_version": 3,
     "solution": false
    }
   },
   "source": [
    "### Codio Activity 16.9: Investigating your own data\n",
    "\n",
    "For this activity, you are asked to go out and choose a dataset to build a classification model with.  Specifically, you are to compare the `LogisticRegression`, `KNearestNeighborsClassifier`, and `SVC` estimators in terms of performance and speed in model fitting.  You should optimize this model according to what metric you believe is the appropriate one for the task between `precision`, `recall`, or `accuracy`.  "
   ]
  },
  {
   "cell_type": "code",
   "execution_count": 1,
   "metadata": {},
   "outputs": [],
   "source": [
    "import pandas as pd"
   ]
  },
  {
   "cell_type": "markdown",
   "metadata": {
    "deletable": false,
    "editable": false,
    "nbgrader": {
     "cell_type": "markdown",
     "checksum": "d8cf8899e95023a04c994264e8f9bb46",
     "grade": false,
     "grade_id": "cell-e37ce95bafcde96d",
     "locked": true,
     "schema_version": 3,
     "solution": false
    }
   },
   "source": [
    "### Gathering the data\n",
    "\n",
    "For your dataset, consider using an example dataset from either [kaggle](https://www.kaggle.com/) or the [UCI Machine Learning Repository](https://archive.ics.uci.edu/ml/index.php).  Select an appropriate dataset that is a classification problem.  Download the data file and work in a notebook locally to perform your analysis.  Be sure to grid search different model parameters and compare the different estimators.  Construct a DataFrame of the model results with the following information:\n",
    "\n",
    "| model | train score | test score | average fit time |\n",
    "| ----- | -----   | -------   | ------- |\n",
    "| KNN | ? | ? | ? |\n",
    "| Logistic Regression | ? | ? | ? |\n",
    "| SVC | ? | ? | ? |"
   ]
  },
  {
   "cell_type": "markdown",
   "metadata": {
    "deletable": false,
    "editable": false,
    "nbgrader": {
     "cell_type": "markdown",
     "checksum": "1339f6de2f9b2cf60a5765a492769852",
     "grade": false,
     "grade_id": "cell-f3c8278622a110d5",
     "locked": true,
     "schema_version": 3,
     "solution": false
    }
   },
   "source": [
    "The assignment will expect a DataFrame with this exact structure and index and column names.  You will be graded based on the exact match of the structure of the DataFrame.  One suggestion is to build a DataFrame and write this out to `.json`, copy and paste this below to create the DataFrame.  Alternatively, you can write it out to a `.csv` file and copy the text, or simply hardcode the DataFrame based on your results."
   ]
  },
  {
   "cell_type": "markdown",
   "metadata": {
    "deletable": false,
    "editable": false,
    "nbgrader": {
     "cell_type": "markdown",
     "checksum": "d9abac97cf0d038ce16c6b927e03be1e",
     "grade": false,
     "grade_id": "cell-9570e9b0d9b3b3a2",
     "locked": true,
     "schema_version": 3,
     "solution": false
    }
   },
   "source": [
    "### Problem 1\n",
    "\n",
    "#### DataFrame of modeling results\n",
    "\n",
    "Assign your constructed results DataFrame to `results_df` below.  Be sure that the `model` column above is the index of the DataFrame, and the three column names match the order and formatting of the example above."
   ]
  },
  {
   "cell_type": "code",
   "execution_count": 3,
   "metadata": {
    "deletable": false,
    "nbgrader": {
     "cell_type": "code",
     "checksum": "36864bacb9380889f0954b1091d54bdb",
     "grade": false,
     "grade_id": "cell-c2a5ca74d8cdd115",
     "locked": false,
     "schema_version": 3,
     "solution": true
    }
   },
   "outputs": [
    {
     "name": "stdout",
     "output_type": "stream",
     "text": [
      "<class 'pandas.core.frame.DataFrame'>\n",
      "(3, 3)\n"
     ]
    }
   ],
   "source": [
    "### GRADED\n",
    "results_df = ''\n",
    "\n",
    "    \n",
    "# YOUR CODE HERE\n",
    "res_dict = {'model': ['KNN', 'Logistic Regression', 'SVC'],\n",
    "           'train score': [0, 0, 0],\n",
    "           'test score': [0, 0, 0],\n",
    "           'average fit time': [0, 0, 0]}\n",
    "results_df = pd.DataFrame(res_dict).set_index('model')\n",
    "\n",
    "### ANSWER CHECK\n",
    "print(type(results_df))\n",
    "print(results_df.shape)"
   ]
  },
  {
   "cell_type": "code",
   "execution_count": null,
   "metadata": {
    "deletable": false,
    "editable": false,
    "nbgrader": {
     "cell_type": "code",
     "checksum": "4a93d04852c99fbf264fd9be78d16c89",
     "grade": true,
     "grade_id": "cell-a55e4dfa02723bd0",
     "locked": true,
     "points": 50,
     "schema_version": 3,
     "solution": false
    }
   },
   "outputs": [],
   "source": []
  }
 ],
 "metadata": {
  "kernelspec": {
   "display_name": "Python 3 (ipykernel)",
   "language": "python",
   "name": "python3"
  },
  "language_info": {
   "codemirror_mode": {
    "name": "ipython",
    "version": 3
   },
   "file_extension": ".py",
   "mimetype": "text/x-python",
   "name": "python",
   "nbconvert_exporter": "python",
   "pygments_lexer": "ipython3",
   "version": "3.9.11"
  }
 },
 "nbformat": 4,
 "nbformat_minor": 4
}
