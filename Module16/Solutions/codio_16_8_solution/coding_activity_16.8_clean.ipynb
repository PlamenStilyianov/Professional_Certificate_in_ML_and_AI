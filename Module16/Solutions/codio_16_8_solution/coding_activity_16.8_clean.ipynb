{
 "cells": [
  {
   "cell_type": "markdown",
   "metadata": {
    "deletable": false,
    "editable": false,
    "nbgrader": {
     "cell_type": "markdown",
     "checksum": "d82360b08a29f1b6d02c9b7144f09717",
     "grade": false,
     "grade_id": "cell-230ef21a911a94f8",
     "locked": true,
     "schema_version": 3,
     "solution": false
    }
   },
   "source": [
    "### Codio Activity 16.8: Tuning the `SVC` Classifier\n",
    "\n",
    "**Expected Time = 60 minutes**\n",
    "\n",
    "**Total Points = 40**\n",
    "\n",
    "This activity focuses on tuning the `SVC` classifier parameters to improve its performance using the wine data.  Typically, the `SVC` will need some parameter tuning.  In practice, you will want to be deliberate about the tuning parameters and not be too exhaustive as the grid searches can be energy intensive.  Here, you will compare different kernels and the `gamma` parameter of the classifier.\n",
    "\n",
    "#### Index\n",
    "\n",
    "- [Problem 1](#-Problem-1)\n",
    "- [Problem 2](#-Problem-2)\n",
    "- [Problem 3](#-Problem-3)\n",
    "- [Problem 4](#-Problem-4)"
   ]
  },
  {
   "cell_type": "code",
   "execution_count": 1,
   "metadata": {
    "ExecuteTime": {
     "end_time": "2024-01-12T01:52:10.288423Z",
     "start_time": "2024-01-12T01:52:10.135344Z"
    }
   },
   "outputs": [],
   "source": [
    "import pandas as pd\n",
    "import seaborn as sns\n",
    "from sklearn.datasets import load_breast_cancer\n",
    "from sklearn.svm import SVC\n",
    "from sklearn.model_selection import train_test_split, GridSearchCV, RandomizedSearchCV"
   ]
  },
  {
   "cell_type": "code",
   "execution_count": 2,
   "metadata": {
    "ExecuteTime": {
     "end_time": "2024-01-12T01:52:10.304416Z",
     "start_time": "2024-01-12T01:52:10.287237500Z"
    }
   },
   "outputs": [],
   "source": [
    "from sklearn.linear_model import LogisticRegression\n",
    "from sklearn.dummy import DummyClassifier\n",
    "from sklearn.svm import SVC\n",
    "from sklearn.model_selection import train_test_split, GridSearchCV\n",
    "from sklearn.metrics import confusion_matrix\n",
    "from sklearn.datasets import load_wine"
   ]
  },
  {
   "cell_type": "code",
   "execution_count": 3,
   "metadata": {
    "ExecuteTime": {
     "end_time": "2024-01-12T01:52:10.321938800Z",
     "start_time": "2024-01-12T01:52:10.304416Z"
    }
   },
   "outputs": [],
   "source": [
    "X, y = load_wine(return_X_y=True, as_frame=True)"
   ]
  },
  {
   "cell_type": "code",
   "execution_count": 4,
   "metadata": {
    "ExecuteTime": {
     "end_time": "2024-01-12T01:52:10.334901200Z",
     "start_time": "2024-01-12T01:52:10.319202300Z"
    }
   },
   "outputs": [
    {
     "data": {
      "text/plain": "1    0.398876\n0    0.331461\n2    0.269663\nName: target, dtype: float64"
     },
     "execution_count": 4,
     "metadata": {},
     "output_type": "execute_result"
    }
   ],
   "source": [
    "y.value_counts(normalize = True)"
   ]
  },
  {
   "cell_type": "code",
   "execution_count": 5,
   "metadata": {
    "ExecuteTime": {
     "end_time": "2024-01-12T01:52:10.355466400Z",
     "start_time": "2024-01-12T01:52:10.334901200Z"
    }
   },
   "outputs": [],
   "source": [
    "X_train, X_test, y_train, y_test = train_test_split(X, y, random_state = 42)"
   ]
  },
  {
   "cell_type": "markdown",
   "metadata": {
    "deletable": false,
    "editable": false,
    "nbgrader": {
     "cell_type": "markdown",
     "checksum": "5ebba088f3e563b9a39d567c10533c1c",
     "grade": false,
     "grade_id": "cell-067da2d0ca9b8beb",
     "locked": true,
     "schema_version": 3,
     "solution": false
    }
   },
   "source": [
    "[Back to top](#-Index)\n",
    "\n",
    "### Problem 1\n",
    "\n",
    "#### Baseline for Classifier\n",
    "\n",
    "**10 Points**\n",
    "\n",
    "Below, determine the baseline score for the classifier by using the `DummyClassifier` with the training data.  Score the estimator on the test set and assign this to `baseline_score` below.  **Note**: The `DummyClassifier` works just as all other estimators you have encountered and has a `.fit` and `.score` method."
   ]
  },
  {
   "cell_type": "code",
   "execution_count": 6,
   "metadata": {
    "deletable": false,
    "nbgrader": {
     "cell_type": "code",
     "checksum": "099ae67be9b93db90e77690fce348804",
     "grade": false,
     "grade_id": "cell-2deeb12d446f03a7",
     "locked": false,
     "schema_version": 3,
     "solution": true
    },
    "ExecuteTime": {
     "end_time": "2024-01-12T01:52:10.369375Z",
     "start_time": "2024-01-12T01:52:10.352041900Z"
    }
   },
   "outputs": [
    {
     "name": "stdout",
     "output_type": "stream",
     "text": [
      "0.4\n"
     ]
    }
   ],
   "source": [
    "### GRADED\n",
    "dummy_clf = ''\n",
    "baseline_score = ''\n",
    "\n",
    "    \n",
    "# YOUR CODE HERE\n",
    "dummy_clf = DummyClassifier().fit(X_train, y_train)\n",
    "baseline_score = dummy_clf.score(X_test, y_test)\n",
    "\n",
    "### ANSWER CHECK\n",
    "print(baseline_score)"
   ]
  },
  {
   "cell_type": "code",
   "execution_count": 6,
   "metadata": {
    "deletable": false,
    "editable": false,
    "nbgrader": {
     "cell_type": "code",
     "checksum": "175ebf14292f9e6746515d52a936a5b9",
     "grade": true,
     "grade_id": "cell-240d375f22ae6842",
     "locked": true,
     "points": 10,
     "schema_version": 3,
     "solution": false
    },
    "ExecuteTime": {
     "end_time": "2024-01-12T01:52:10.400018600Z",
     "start_time": "2024-01-12T01:52:10.368353400Z"
    }
   },
   "outputs": [],
   "source": []
  },
  {
   "cell_type": "markdown",
   "metadata": {
    "deletable": false,
    "editable": false,
    "nbgrader": {
     "cell_type": "markdown",
     "checksum": "bb6aff3dddec765b5cc10501afda5019",
     "grade": false,
     "grade_id": "cell-7c41917d1a9811ea",
     "locked": true,
     "schema_version": 3,
     "solution": false
    }
   },
   "source": [
    "[Back to top](#-Index)\n",
    "\n",
    "### Problem 2\n",
    "\n",
    "#### Default Settings with `SVC`\n",
    "\n",
    "**10 Points**\n",
    "\n",
    "Now, fit an `SVC` estimator on the training data with default settings and score this on the test data.  Assign your answer as a float to `svc_defaults` below."
   ]
  },
  {
   "cell_type": "code",
   "execution_count": 7,
   "metadata": {
    "deletable": false,
    "nbgrader": {
     "cell_type": "code",
     "checksum": "b6a03f77fed70ba6b2e6b4c46afe4e9a",
     "grade": false,
     "grade_id": "cell-6c4b443781c2c6f6",
     "locked": false,
     "schema_version": 3,
     "solution": true
    },
    "ExecuteTime": {
     "end_time": "2024-01-12T01:52:10.400018600Z",
     "start_time": "2024-01-12T01:52:10.382816800Z"
    }
   },
   "outputs": [
    {
     "name": "stdout",
     "output_type": "stream",
     "text": [
      "0.7111111111111111\n"
     ]
    }
   ],
   "source": [
    "### GRADED\n",
    "svc = ''\n",
    "svc_defaults = ''\n",
    "\n",
    "    \n",
    "# YOUR CODE HERE\n",
    "svc = SVC().fit(X_train, y_train)\n",
    "svc_defaults = svc.score(X_test, y_test)\n",
    "\n",
    "### ANSWER CHECK\n",
    "print(svc_defaults)"
   ]
  },
  {
   "cell_type": "code",
   "execution_count": 7,
   "metadata": {
    "deletable": false,
    "editable": false,
    "nbgrader": {
     "cell_type": "code",
     "checksum": "c97d0c0a09b370b2b44f06c70ea1fb41",
     "grade": true,
     "grade_id": "cell-5590d1684afcc27c",
     "locked": true,
     "points": 10,
     "schema_version": 3,
     "solution": false
    },
    "ExecuteTime": {
     "end_time": "2024-01-12T01:52:10.413021800Z",
     "start_time": "2024-01-12T01:52:10.397994500Z"
    }
   },
   "outputs": [],
   "source": []
  },
  {
   "cell_type": "markdown",
   "metadata": {
    "deletable": false,
    "editable": false,
    "nbgrader": {
     "cell_type": "markdown",
     "checksum": "e5a6eeaf151296eea77b525f6b1d9748",
     "grade": false,
     "grade_id": "cell-3f8f385146b3a338",
     "locked": true,
     "schema_version": 3,
     "solution": false
    }
   },
   "source": [
    "[Back to top](#-Index)\n",
    "\n",
    "### Problem 3\n",
    "\n",
    "#### Grid Searching with `SVC`\n",
    "\n",
    "**10 Points**\n",
    "\n",
    "While your svc should improve upon the baseline score, there is possible room for improvement.  Below, grid search the different kernels available with the `SVC` estimator as well as some different `gamma` values using the `params` dictionary below.  Create your grid and use `cv = 5` which is the default.  Assign the score on the test data to `grid_score` below.  "
   ]
  },
  {
   "cell_type": "code",
   "execution_count": 8,
   "metadata": {
    "ExecuteTime": {
     "end_time": "2024-01-12T01:52:10.442570600Z",
     "start_time": "2024-01-12T01:52:10.414022100Z"
    }
   },
   "outputs": [],
   "source": [
    "params = {'kernel': ['rbf', 'poly', 'linear', 'sigmoid'], 'gamma': [0.1, 1.0, 10.0, 100.0],}"
   ]
  },
  {
   "cell_type": "code",
   "execution_count": 13,
   "metadata": {
    "deletable": false,
    "nbgrader": {
     "cell_type": "code",
     "checksum": "1d5f7382b89afa368a8b7bacf3897e56",
     "grade": false,
     "grade_id": "cell-95da60885c56cfce",
     "locked": false,
     "schema_version": 3,
     "solution": true
    },
    "ExecuteTime": {
     "end_time": "2024-01-12T02:01:06.674911900Z",
     "start_time": "2024-01-12T02:01:03.996241400Z"
    }
   },
   "outputs": [
    {
     "name": "stdout",
     "output_type": "stream",
     "text": [
      "1.0\n"
     ]
    }
   ],
   "source": [
    "### GRADED\n",
    "grid = ''\n",
    "grid_score = ''\n",
    "\n",
    "    \n",
    "# YOUR CODE HERE\n",
    "grid = GridSearchCV(svc, param_grid=params).fit(X_train, y_train)\n",
    "grid_score = grid.score(X_test, y_test)\n",
    "\n",
    "### ANSWER CHECK\n",
    "print(grid_score)"
   ]
  },
  {
   "cell_type": "code",
   "execution_count": 9,
   "metadata": {
    "deletable": false,
    "editable": false,
    "nbgrader": {
     "cell_type": "code",
     "checksum": "cb5653f8cbf32ceded1c61f3d85590ef",
     "grade": true,
     "grade_id": "cell-97240b6adad50e47",
     "locked": true,
     "points": 10,
     "schema_version": 3,
     "solution": false
    },
    "ExecuteTime": {
     "end_time": "2024-01-12T01:52:13.081775700Z",
     "start_time": "2024-01-12T01:52:13.058776200Z"
    }
   },
   "outputs": [],
   "source": []
  },
  {
   "cell_type": "markdown",
   "metadata": {
    "deletable": false,
    "editable": false,
    "nbgrader": {
     "cell_type": "markdown",
     "checksum": "1d999b49d831b3d917e79d58923d1c45",
     "grade": false,
     "grade_id": "cell-305cfaa8e8d12a7f",
     "locked": true,
     "schema_version": 3,
     "solution": false
    }
   },
   "source": [
    "[Back to top](#-Index)\n",
    "\n",
    "### Problem 4\n",
    "\n",
    "#### Optimal Kernel Function\n",
    "\n",
    "**10 Points**\n",
    "\n",
    "Based on your grid search above what is the best performing kernel function?  Assign your answer as a string -- `linear`, `poly`, `rbf`, or `sigmoid` -- to `best_kernel` below.  "
   ]
  },
  {
   "cell_type": "code",
   "execution_count": 10,
   "metadata": {
    "deletable": false,
    "nbgrader": {
     "cell_type": "code",
     "checksum": "91eb4e80d6225c53a562a2895542bda4",
     "grade": false,
     "grade_id": "cell-525415b478919bb2",
     "locked": false,
     "schema_version": 3,
     "solution": true
    },
    "ExecuteTime": {
     "end_time": "2024-01-12T01:52:13.124389300Z",
     "start_time": "2024-01-12T01:52:13.073775400Z"
    }
   },
   "outputs": [
    {
     "name": "stdout",
     "output_type": "stream",
     "text": [
      "poly\n"
     ]
    }
   ],
   "source": [
    "### GRADED\n",
    "best_kernel = ''\n",
    "\n",
    "    \n",
    "# YOUR CODE HERE\n",
    "best_kernel = grid.best_params_['kernel']\n",
    "\n",
    "### ANSWER CHECK\n",
    "print(best_kernel)"
   ]
  },
  {
   "cell_type": "code",
   "execution_count": 11,
   "metadata": {
    "deletable": false,
    "editable": false,
    "nbgrader": {
     "cell_type": "code",
     "checksum": "5b35422d95cae44caed476434a1330d7",
     "grade": true,
     "grade_id": "cell-fcbb41d99d67d8e5",
     "locked": true,
     "points": 10,
     "schema_version": 3,
     "solution": false
    },
    "ExecuteTime": {
     "end_time": "2024-01-12T01:52:40.261372700Z",
     "start_time": "2024-01-12T01:52:40.249366400Z"
    }
   },
   "outputs": [
    {
     "data": {
      "text/plain": "{'gamma': 10.0, 'kernel': 'poly'}"
     },
     "execution_count": 11,
     "metadata": {},
     "output_type": "execute_result"
    }
   ],
   "source": [
    "grid.best_params_"
   ]
  },
  {
   "cell_type": "code",
   "outputs": [
    {
     "data": {
      "text/plain": "{'mean_fit_time': array([0.00179992, 0.08565207, 0.04360809, 0.00163546, 0.00156436,\n        0.07817631, 0.03976512, 0.00140371, 0.00158353, 0.07681193,\n        0.0418035 , 0.00119991, 0.00159993, 0.07025833, 0.03973751,\n        0.00106564]),\n 'std_fit_time': array([0.00074905, 0.06185169, 0.0263322 , 0.00048885, 0.0004665 ,\n        0.04250176, 0.02220743, 0.00048735, 0.000478  , 0.05234388,\n        0.02320495, 0.00040009, 0.00048971, 0.04216135, 0.02222853,\n        0.00013189]),\n 'mean_score_time': array([0.00120039, 0.00123472, 0.00120745, 0.00038495, 0.0012259 ,\n        0.00123591, 0.00102625, 0.00079441, 0.00119896, 0.00110893,\n        0.00121522, 0.00100012, 0.00079989, 0.00122142, 0.00100579,\n        0.00080004]),\n 'std_score_time': array([3.99615439e-04, 3.84062758e-04, 3.96423171e-04, 4.72064105e-04,\n        3.88530223e-04, 4.52808201e-04, 3.15439944e-05, 3.97225473e-04,\n        3.97467910e-04, 1.95387329e-04, 3.93520363e-04, 2.78041453e-07,\n        3.99947177e-04, 3.90080629e-04, 3.65297724e-05, 4.00018877e-04]),\n 'param_gamma': masked_array(data=[0.1, 0.1, 0.1, 0.1, 1.0, 1.0, 1.0, 1.0, 10.0, 10.0,\n                    10.0, 10.0, 100.0, 100.0, 100.0, 100.0],\n              mask=[False, False, False, False, False, False, False, False,\n                    False, False, False, False, False, False, False, False],\n        fill_value='?',\n             dtype=object),\n 'param_kernel': masked_array(data=['rbf', 'poly', 'linear', 'sigmoid', 'rbf', 'poly',\n                    'linear', 'sigmoid', 'rbf', 'poly', 'linear',\n                    'sigmoid', 'rbf', 'poly', 'linear', 'sigmoid'],\n              mask=[False, False, False, False, False, False, False, False,\n                    False, False, False, False, False, False, False, False],\n        fill_value='?',\n             dtype=object),\n 'params': [{'gamma': 0.1, 'kernel': 'rbf'},\n  {'gamma': 0.1, 'kernel': 'poly'},\n  {'gamma': 0.1, 'kernel': 'linear'},\n  {'gamma': 0.1, 'kernel': 'sigmoid'},\n  {'gamma': 1.0, 'kernel': 'rbf'},\n  {'gamma': 1.0, 'kernel': 'poly'},\n  {'gamma': 1.0, 'kernel': 'linear'},\n  {'gamma': 1.0, 'kernel': 'sigmoid'},\n  {'gamma': 10.0, 'kernel': 'rbf'},\n  {'gamma': 10.0, 'kernel': 'poly'},\n  {'gamma': 10.0, 'kernel': 'linear'},\n  {'gamma': 10.0, 'kernel': 'sigmoid'},\n  {'gamma': 100.0, 'kernel': 'rbf'},\n  {'gamma': 100.0, 'kernel': 'poly'},\n  {'gamma': 100.0, 'kernel': 'linear'},\n  {'gamma': 100.0, 'kernel': 'sigmoid'}],\n 'split0_test_score': array([0.40740741, 0.77777778, 0.88888889, 0.40740741, 0.40740741,\n        0.77777778, 0.88888889, 0.40740741, 0.40740741, 0.81481481,\n        0.88888889, 0.40740741, 0.40740741, 0.81481481, 0.88888889,\n        0.40740741]),\n 'split1_test_score': array([0.40740741, 0.96296296, 0.92592593, 0.40740741, 0.40740741,\n        0.96296296, 0.92592593, 0.40740741, 0.40740741, 0.96296296,\n        0.92592593, 0.40740741, 0.40740741, 0.96296296, 0.92592593,\n        0.40740741]),\n 'split2_test_score': array([0.37037037, 0.92592593, 0.88888889, 0.37037037, 0.37037037,\n        0.92592593, 0.88888889, 0.37037037, 0.37037037, 0.92592593,\n        0.88888889, 0.37037037, 0.37037037, 0.92592593, 0.88888889,\n        0.37037037]),\n 'split3_test_score': array([0.38461538, 0.92307692, 0.88461538, 0.38461538, 0.38461538,\n        0.92307692, 0.88461538, 0.38461538, 0.38461538, 0.92307692,\n        0.88461538, 0.38461538, 0.38461538, 0.92307692, 0.88461538,\n        0.38461538]),\n 'split4_test_score': array([0.42307692, 0.96153846, 0.96153846, 0.42307692, 0.42307692,\n        0.96153846, 0.96153846, 0.42307692, 0.42307692, 0.96153846,\n        0.96153846, 0.42307692, 0.42307692, 0.96153846, 0.96153846,\n        0.42307692]),\n 'mean_test_score': array([0.3985755 , 0.91025641, 0.90997151, 0.3985755 , 0.3985755 ,\n        0.91025641, 0.90997151, 0.3985755 , 0.3985755 , 0.91766382,\n        0.90997151, 0.3985755 , 0.3985755 , 0.91766382, 0.90997151,\n        0.3985755 ]),\n 'std_test_score': array([0.01869085, 0.0683642 , 0.02981805, 0.01869085, 0.01869085,\n        0.0683642 , 0.02981805, 0.01869085, 0.01869085, 0.05413405,\n        0.02981805, 0.01869085, 0.01869085, 0.05413405, 0.02981805,\n        0.01869085]),\n 'rank_test_score': array([9, 3, 5, 9, 9, 3, 5, 9, 9, 1, 5, 9, 9, 1, 5, 9])}"
     },
     "execution_count": 14,
     "metadata": {},
     "output_type": "execute_result"
    }
   ],
   "source": [
    "grid.cv_results_"
   ],
   "metadata": {
    "collapsed": false,
    "ExecuteTime": {
     "end_time": "2024-01-12T02:06:22.133930200Z",
     "start_time": "2024-01-12T02:06:22.089930600Z"
    }
   },
   "execution_count": 14
  },
  {
   "cell_type": "code",
   "outputs": [
    {
     "data": {
      "text/plain": "['mean_fit_time',\n 'std_fit_time',\n 'mean_score_time',\n 'std_score_time',\n 'param_gamma',\n 'param_kernel',\n 'params',\n 'split0_test_score',\n 'split1_test_score',\n 'split2_test_score',\n 'split3_test_score',\n 'split4_test_score',\n 'mean_test_score',\n 'std_test_score',\n 'rank_test_score']"
     },
     "execution_count": 19,
     "metadata": {},
     "output_type": "execute_result"
    }
   ],
   "source": [
    "list(grid.cv_results_.keys())"
   ],
   "metadata": {
    "collapsed": false,
    "ExecuteTime": {
     "end_time": "2024-01-12T02:14:25.446628600Z",
     "start_time": "2024-01-12T02:14:25.417629200Z"
    }
   },
   "execution_count": 19
  },
  {
   "cell_type": "code",
   "outputs": [
    {
     "data": {
      "text/plain": "array([0.3985755 , 0.91025641, 0.90997151, 0.3985755 , 0.3985755 ,\n       0.91025641, 0.90997151, 0.3985755 , 0.3985755 , 0.91766382,\n       0.90997151, 0.3985755 , 0.3985755 , 0.91766382, 0.90997151,\n       0.3985755 ])"
     },
     "execution_count": 20,
     "metadata": {},
     "output_type": "execute_result"
    }
   ],
   "source": [
    "grid.cv_results_['mean_test_score']"
   ],
   "metadata": {
    "collapsed": false,
    "ExecuteTime": {
     "end_time": "2024-01-12T02:16:05.805675Z",
     "start_time": "2024-01-12T02:16:05.773586600Z"
    }
   },
   "execution_count": 20
  },
  {
   "cell_type": "code",
   "outputs": [],
   "source": [],
   "metadata": {
    "collapsed": false
   }
  }
 ],
 "metadata": {
  "kernelspec": {
   "display_name": "Python 3 (ipykernel)",
   "language": "python",
   "name": "python3"
  },
  "language_info": {
   "codemirror_mode": {
    "name": "ipython",
    "version": 3
   },
   "file_extension": ".py",
   "mimetype": "text/x-python",
   "name": "python",
   "nbconvert_exporter": "python",
   "pygments_lexer": "ipython3",
   "version": "3.9.11"
  }
 },
 "nbformat": 4,
 "nbformat_minor": 4
}
